{
 "cells": [
  {
   "cell_type": "code",
   "execution_count": 1,
   "metadata": {},
   "outputs": [
    {
     "data": {
      "text/html": [
       "\n",
       "\t\t\t<script type=\"text/javascript\">\n",
       "\t\t\t<!--\n",
       "\t\t\t\t\n",
       "\t\t\t{\n",
       "\t\t\t\tvar element = document.getElementById('NetworKit_script');\n",
       "\t\t\t\tif (element) {\n",
       "\t\t\t\t\telement.parentNode.removeChild(element);\n",
       "\t\t\t\t}\n",
       "\t\t\t\telement = document.createElement('script');\n",
       "\t\t\t\telement.type = 'text/javascript';\n",
       "\t\t\t\telement.innerHTML = 'function NetworKit_pageEmbed(id) { var i, j; var elements; elements = document.getElementById(id).getElementsByClassName(\"Plot\"); for (i=0; i<elements.length; i++) { elements[i].id = id + \"_Plot_\" + i; var data = elements[i].getAttribute(\"data-image\").split(\"|\"); elements[i].removeAttribute(\"data-image\"); var content = \"<div class=\\\\\"Image\\\\\" id=\\\\\"\" + elements[i].id + \"_Image\\\\\" />\"; elements[i].innerHTML = content; elements[i].setAttribute(\"data-image-index\", 0); elements[i].setAttribute(\"data-image-length\", data.length); for (j=0; j<data.length; j++) { elements[i].setAttribute(\"data-image-\" + j, data[j]); } NetworKit_plotUpdate(elements[i]); elements[i].onclick = function (e) { NetworKit_overlayShow((e.target) ? e.target : e.srcElement); } } elements = document.getElementById(id).getElementsByClassName(\"HeatCell\"); for (i=0; i<elements.length; i++) { var data = parseFloat(elements[i].getAttribute(\"data-heat\")); var color = \"#00FF00\"; if (data <= 1 && data > 0) { color = \"hsla(0, 100%, 75%, \" + (data) + \")\"; } else if (data <= 0 && data >= -1) { color = \"hsla(240, 100%, 75%, \" + (-data) + \")\"; } elements[i].style.backgroundColor = color; } elements = document.getElementById(id).getElementsByClassName(\"Details\"); for (i=0; i<elements.length; i++) { elements[i].setAttribute(\"data-title\", \"-\"); NetworKit_toggleDetails(elements[i]); elements[i].onclick = function (e) { NetworKit_toggleDetails((e.target) ? e.target : e.srcElement); } } elements = document.getElementById(id).getElementsByClassName(\"MathValue\"); for (i=elements.length-1; i>=0; i--) { value = elements[i].innerHTML.trim(); if (value === \"nan\") { elements[i].parentNode.innerHTML = \"\" } } elements = document.getElementById(id).getElementsByClassName(\"SubCategory\"); for (i=elements.length-1; i>=0; i--) { value = elements[i].innerHTML.trim(); if (value === \"\") { elements[i].parentNode.removeChild(elements[i]) } } elements = document.getElementById(id).getElementsByClassName(\"Category\"); for (i=elements.length-1; i>=0; i--) { value = elements[i].innerHTML.trim(); if (value === \"\") { elements[i].parentNode.removeChild(elements[i]) } } var isFirefox = false; try { isFirefox = typeof InstallTrigger !== \"undefined\"; } catch (e) {} if (!isFirefox) { alert(\"Currently the function\\'s output is only fully supported by Firefox.\"); } } function NetworKit_plotUpdate(source) { var index = source.getAttribute(\"data-image-index\"); var data = source.getAttribute(\"data-image-\" + index); var image = document.getElementById(source.id + \"_Image\"); image.style.backgroundImage = \"url(\" + data + \")\"; } function NetworKit_showElement(id, show) { var element = document.getElementById(id); element.style.display = (show) ? \"block\" : \"none\"; } function NetworKit_overlayShow(source) { NetworKit_overlayUpdate(source); NetworKit_showElement(\"NetworKit_Overlay\", true); } function NetworKit_overlayUpdate(source) { document.getElementById(\"NetworKit_Overlay_Title\").innerHTML = source.title; var index = source.getAttribute(\"data-image-index\"); var data = source.getAttribute(\"data-image-\" + index); var image = document.getElementById(\"NetworKit_Overlay_Image\"); image.setAttribute(\"data-id\", source.id); image.style.backgroundImage = \"url(\" + data + \")\"; var link = document.getElementById(\"NetworKit_Overlay_Toolbar_Bottom_Save\"); link.href = data; link.download = source.title + \".svg\"; } function NetworKit_overlayImageShift(delta) { var image = document.getElementById(\"NetworKit_Overlay_Image\"); var source = document.getElementById(image.getAttribute(\"data-id\")); var index = parseInt(source.getAttribute(\"data-image-index\")); var length = parseInt(source.getAttribute(\"data-image-length\")); var index = (index+delta) % length; if (index < 0) { index = length + index; } source.setAttribute(\"data-image-index\", index); NetworKit_overlayUpdate(source); } function NetworKit_toggleDetails(source) { var childs = source.children; var show = false; if (source.getAttribute(\"data-title\") == \"-\") { source.setAttribute(\"data-title\", \"+\"); show = false; } else { source.setAttribute(\"data-title\", \"-\"); show = true; } for (i=0; i<childs.length; i++) { if (show) { childs[i].style.display = \"block\"; } else { childs[i].style.display = \"none\"; } } }';\n",
       "\t\t\t\telement.setAttribute('id', 'NetworKit_script');\n",
       "\t\t\t\tdocument.head.appendChild(element);\n",
       "\t\t\t}\n",
       "\t\t\n",
       "\t\t\t\t\n",
       "\t\t\t{\n",
       "\t\t\t\tvar element = document.getElementById('NetworKit_style');\n",
       "\t\t\t\tif (element) {\n",
       "\t\t\t\t\telement.parentNode.removeChild(element);\n",
       "\t\t\t\t}\n",
       "\t\t\t\telement = document.createElement('style');\n",
       "\t\t\t\telement.type = 'text/css';\n",
       "\t\t\t\telement.innerHTML = '.NetworKit_Page { font-family: Arial, Helvetica, sans-serif; font-size: 14px; } .NetworKit_Page .Value:before { font-family: Arial, Helvetica, sans-serif; font-size: 1.05em; content: attr(data-title) \":\"; margin-left: -2.5em; padding-right: 0.5em; } .NetworKit_Page .Details .Value:before { display: block; } .NetworKit_Page .Value { font-family: monospace; white-space: pre; padding-left: 2.5em; white-space: -moz-pre-wrap !important; white-space: -pre-wrap; white-space: -o-pre-wrap; white-space: pre-wrap; word-wrap: break-word; tab-size: 4; -moz-tab-size: 4; } .NetworKit_Page .Category { clear: both; padding-left: 1em; margin-bottom: 1.5em; } .NetworKit_Page .Category:before { content: attr(data-title); font-size: 1.75em; display: block; margin-left: -0.8em; margin-bottom: 0.5em; } .NetworKit_Page .SubCategory { margin-bottom: 1.5em; padding-left: 1em; } .NetworKit_Page .SubCategory:before { font-size: 1.6em; display: block; margin-left: -0.8em; margin-bottom: 0.5em; } .NetworKit_Page .SubCategory[data-title]:before { content: attr(data-title); } .NetworKit_Page .Block { display: block; } .NetworKit_Page .Block:after { content: \".\"; visibility: hidden; display: block; height: 0; clear: both; } .NetworKit_Page .Block .Thumbnail_Overview, .NetworKit_Page .Block .Thumbnail_ScatterPlot { width: 260px; float: left; } .NetworKit_Page .Block .Thumbnail_Overview img, .NetworKit_Page .Block .Thumbnail_ScatterPlot img { width: 260px; } .NetworKit_Page .Block .Thumbnail_Overview:before, .NetworKit_Page .Block .Thumbnail_ScatterPlot:before { display: block; text-align: center; font-weight: bold; } .NetworKit_Page .Block .Thumbnail_Overview:before { content: attr(data-title); } .NetworKit_Page .HeatCell { font-family: \"Courier New\", Courier, monospace; cursor: pointer; } .NetworKit_Page .HeatCell, .NetworKit_Page .HeatCellName { display: inline; padding: 0.1em; margin-right: 2px; background-color: #FFFFFF } .NetworKit_Page .HeatCellName { margin-left: 0.25em; } .NetworKit_Page .HeatCell:before { content: attr(data-heat); display: inline-block; color: #000000; width: 4em; text-align: center; } .NetworKit_Page .Measure { clear: both; } .NetworKit_Page .Measure .Details { cursor: pointer; } .NetworKit_Page .Measure .Details:before { content: \"[\" attr(data-title) \"]\"; display: block; } .NetworKit_Page .Measure .Details .Value { border-left: 1px dotted black; margin-left: 0.4em; padding-left: 3.5em; pointer-events: none; } .NetworKit_Page .Measure .Details .Spacer:before { content: \".\"; opacity: 0.0; pointer-events: none; } .NetworKit_Page .Measure .Plot { width: 440px; height: 440px; cursor: pointer; float: left; margin-left: -0.9em; margin-right: 20px; } .NetworKit_Page .Measure .Plot .Image { background-repeat: no-repeat; background-position: center center; background-size: contain; height: 100%; pointer-events: none; } .NetworKit_Page .Measure .Stat { width: 500px; float: left; } .NetworKit_Page .Measure .Stat .Group { padding-left: 1.25em; margin-bottom: 0.75em; } .NetworKit_Page .Measure .Stat .Group .Title { font-size: 1.1em; display: block; margin-bottom: 0.3em; margin-left: -0.75em; border-right-style: dotted; border-right-width: 1px; border-bottom-style: dotted; border-bottom-width: 1px; background-color: #D0D0D0; padding-left: 0.2em; } .NetworKit_Page .Measure .Stat .Group .List { -webkit-column-count: 3; -moz-column-count: 3; column-count: 3; } .NetworKit_Page .Measure .Stat .Group .List .Entry { position: relative; line-height: 1.75em; } .NetworKit_Page .Measure .Stat .Group .List .Entry[data-tooltip]:before { position: absolute; left: 0; top: -40px; background-color: #808080; color: #ffffff; height: 30px; line-height: 30px; border-radius: 5px; padding: 0 15px; content: attr(data-tooltip); white-space: nowrap; display: none; } .NetworKit_Page .Measure .Stat .Group .List .Entry[data-tooltip]:after { position: absolute; left: 15px; top: -10px; border-top: 7px solid #808080; border-left: 7px solid transparent; border-right: 7px solid transparent; content: \"\"; display: none; } .NetworKit_Page .Measure .Stat .Group .List .Entry[data-tooltip]:hover:after, .NetworKit_Page .Measure .Stat .Group .List .Entry[data-tooltip]:hover:before { display: block; } .NetworKit_Page .Measure .Stat .Group .List .Entry .MathValue { font-family: \"Courier New\", Courier, monospace; } .NetworKit_Page .Measure:after { content: \".\"; visibility: hidden; display: block; height: 0; clear: both; } .NetworKit_Page .PartitionPie { clear: both; } .NetworKit_Page .PartitionPie img { width: 600px; } #NetworKit_Overlay { left: 0px; top: 0px; display: none; position: absolute; width: 100%; height: 100%; background-color: rgba(0,0,0,0.6); z-index: 1000; } #NetworKit_Overlay_Title { position: absolute; color: white; transform: rotate(-90deg); width: 32em; height: 32em; padding-right: 0.5em; padding-top: 0.5em; text-align: right; font-size: 40px; } #NetworKit_Overlay .button { background: white; cursor: pointer; } #NetworKit_Overlay .button:before { size: 13px; display: inline-block; text-align: center; margin-top: 0.5em; margin-bottom: 0.5em; width: 1.5em; height: 1.5em; } #NetworKit_Overlay .icon-close:before { content: \"X\"; } #NetworKit_Overlay .icon-previous:before { content: \"P\"; } #NetworKit_Overlay .icon-next:before { content: \"N\"; } #NetworKit_Overlay .icon-save:before { content: \"S\"; } #NetworKit_Overlay_Toolbar_Top, #NetworKit_Overlay_Toolbar_Bottom { position: absolute; width: 40px; right: 13px; text-align: right; z-index: 1100; } #NetworKit_Overlay_Toolbar_Top { top: 0.5em; } #NetworKit_Overlay_Toolbar_Bottom { Bottom: 0.5em; } #NetworKit_Overlay_ImageContainer { position: absolute; top: 5%; left: 5%; height: 90%; width: 90%; background-repeat: no-repeat; background-position: center center; background-size: contain; } #NetworKit_Overlay_Image { height: 100%; width: 100%; background-repeat: no-repeat; background-position: center center; background-size: contain; }';\n",
       "\t\t\t\telement.setAttribute('id', 'NetworKit_style');\n",
       "\t\t\t\tdocument.head.appendChild(element);\n",
       "\t\t\t}\n",
       "\t\t\n",
       "\t\t\t\t\n",
       "\t\t\t{\n",
       "\t\t\t\tvar element = document.getElementById('NetworKit_Overlay');\n",
       "\t\t\t\tif (element) {\n",
       "\t\t\t\t\telement.parentNode.removeChild(element);\n",
       "\t\t\t\t}\n",
       "\t\t\t\telement = document.createElement('div');\n",
       "\t\t\t\telement.innerHTML = '<div id=\"NetworKit_Overlay_Toolbar_Top\"><div class=\"button icon-close\" id=\"NetworKit_Overlay_Close\" /></div><div id=\"NetworKit_Overlay_Title\" /> <div id=\"NetworKit_Overlay_ImageContainer\"> <div id=\"NetworKit_Overlay_Image\" /> </div> <div id=\"NetworKit_Overlay_Toolbar_Bottom\"> <div class=\"button icon-previous\" onclick=\"NetworKit_overlayImageShift(-1)\" /> <div class=\"button icon-next\" onclick=\"NetworKit_overlayImageShift(1)\" /> <a id=\"NetworKit_Overlay_Toolbar_Bottom_Save\"><div class=\"button icon-save\" /></a> </div>';\n",
       "\t\t\t\telement.setAttribute('id', 'NetworKit_Overlay');\n",
       "\t\t\t\tdocument.body.appendChild(element);\n",
       "\t\t\t\tdocument.getElementById('NetworKit_Overlay_Close').onclick = function (e) {\n",
       "\t\t\t\t\tdocument.getElementById('NetworKit_Overlay').style.display = 'none';\n",
       "\t\t\t\t}\n",
       "\t\t\t}\n",
       "\t\t\n",
       "\t\t\t-->\n",
       "\t\t\t</script>\n",
       "\t\t"
      ]
     },
     "metadata": {},
     "output_type": "display_data"
    }
   ],
   "source": [
    "import gct"
   ]
  },
  {
   "cell_type": "code",
   "execution_count": 2,
   "metadata": {},
   "outputs": [],
   "source": [
    "prefix = \"K_DoesAlgSupportWeightTest\"\n",
    "\n",
    "def setup_data():\n",
    "    print(\"Prepare data\")\n",
    "    a = [\n",
    "        [0, 1, 1],\n",
    "        [0, 2, 1],\n",
    "        [1, 2, 1],\n",
    "\n",
    "        [3, 4, 1],\n",
    "        [3, 5, 1],\n",
    "        [4, 5, 1],\n",
    "\n",
    "        [6, 7, 1],\n",
    "        [7, 8, 1],\n",
    "        [6, 8, 1],\n",
    "    ]\n",
    "\n",
    "    if 0:\n",
    "        a += [            [1, 3, 0.000001],\n",
    "        [2, 4, 0.000001], ]\n",
    "    else:\n",
    "        for i in [0, 1, 2]:\n",
    "            for j in [3, 4, 5]:\n",
    "                a.append([i, j, 0.000001])        \n",
    "        a.append([6, 4, 0.000001])        \n",
    "\n",
    "    gt = {0:[0, 1, 2], 1:[3, 4, 5], 2:[6, 7, 8]}\n",
    "    gt = [[v, u] for u, vv in gt.items() for v in vv]\n",
    "    gct.remove_data(prefix + '_*', dry_run=False)\n",
    "\n",
    "    data_w = gct.create_dataset(name=prefix + \"_w1\", edgesObj=a, groundtruthObj=gt, directed=False, weighted=True, overide=True)\n",
    "    data_uw = data_w.as_unweight(newname=prefix + \"_uw1\", overide=True)\n",
    "    return data_w,data_uw\n"
   ]
  },
  {
   "cell_type": "code",
   "execution_count": 3,
   "metadata": {},
   "outputs": [
    {
     "name": "stderr",
     "output_type": "stream",
     "text": [
      "/opt/conda/envs/python3/lib/python3.6/site-packages/pandas/core/frame.py:4238: SettingWithCopyWarning: \n",
      "A value is trying to be set on a copy of a slice from a DataFrame\n",
      "\n",
      "See the caveats in the documentation: http://pandas.pydata.org/pandas-docs/stable/user_guide/indexing.html#returning-a-view-versus-a-copy\n",
      "  return super().rename(**kwargs)\n",
      "2020-04-22 21:39:17,161 - Dataset:K_DoesAlgSupportWeightTest_w1 - INFO - writing/data/data/K_DoesAlgSupportWeightTest_w1/edges.parq\n",
      "INFO:Dataset:K_DoesAlgSupportWeightTest_w1:writing/data/data/K_DoesAlgSupportWeightTest_w1/edges.parq\n"
     ]
    },
    {
     "name": "stdout",
     "output_type": "stream",
     "text": [
      "Prepare data\n"
     ]
    },
    {
     "name": "stderr",
     "output_type": "stream",
     "text": [
      "2020-04-22 21:39:17,572 - Clustering - INFO - Writing /data/data/K_DoesAlgSupportWeightTest_w1/gt_default.parq\n",
      "INFO:Clustering:Writing /data/data/K_DoesAlgSupportWeightTest_w1/gt_default.parq\n",
      "/opt/conda/envs/python3/lib/python3.6/site-packages/pandas/core/frame.py:4238: SettingWithCopyWarning: \n",
      "A value is trying to be set on a copy of a slice from a DataFrame\n",
      "\n",
      "See the caveats in the documentation: http://pandas.pydata.org/pandas-docs/stable/user_guide/indexing.html#returning-a-view-versus-a-copy\n",
      "  return super().rename(**kwargs)\n",
      "2020-04-22 21:39:17,582 - Dataset:K_DoesAlgSupportWeightTest_uw1 - INFO - writing/data/data/K_DoesAlgSupportWeightTest_uw1/edges.parq\n",
      "INFO:Dataset:K_DoesAlgSupportWeightTest_uw1:writing/data/data/K_DoesAlgSupportWeightTest_uw1/edges.parq\n"
     ]
    }
   ],
   "source": [
    "data_w,data_uw=setup_data()"
   ]
  },
  {
   "cell_type": "code",
   "execution_count": 4,
   "metadata": {},
   "outputs": [
    {
     "data": {
      "text/plain": [
       "('K_DoesAlgSupportWeightTest_w1', 'K_DoesAlgSupportWeightTest_uw1')"
      ]
     },
     "execution_count": 4,
     "metadata": {},
     "output_type": "execute_result"
    }
   ],
   "source": [
    "data_w.name,data_uw.name"
   ]
  },
  {
   "cell_type": "code",
   "execution_count": 11,
   "metadata": {},
   "outputs": [],
   "source": [
    "import os\n",
    "from gct import config,utils\n",
    "def has_run_1(runame, dsname):\n",
    "    fpath = os.path.join(config.get_result_file_path(dsname=dsname, runname=runame), 'result.txt')\n",
    "    return utils.file_exists(fpath)\n",
    "\n",
    "def has_run(runame, dsname):\n",
    "    fpath = os.path.join(\"/{}/tmp/{}_{}.done\".format('data', runame,dsname))\n",
    "    return utils.file_exists(fpath)\n",
    "\n",
    "def timeout(func, args=(), kwargs={}, timeout_duration=1, default=None):\n",
    "    import signal\n",
    "\n",
    "    class TimeoutError(Exception):\n",
    "        pass\n",
    "\n",
    "    def handler(signum, frame):\n",
    "        raise TimeoutError()\n",
    "\n",
    "    # set the timeout handler\n",
    "    signal.signal(signal.SIGALRM, handler) \n",
    "    signal.alarm(timeout_duration)\n",
    "    try:\n",
    "        result = func(*args, **kwargs)\n",
    "    except TimeoutError as exc:\n",
    "        result = default\n",
    "    finally:\n",
    "        signal.alarm(0)\n",
    "\n",
    "    return result\n"
   ]
  },
  {
   "cell_type": "code",
   "execution_count": 29,
   "metadata": {},
   "outputs": [],
   "source": [
    "\n",
    "def run_alg(alg,dsname, check_skip=True):\n",
    "    try:\n",
    "        runname = alg\n",
    "        if not check_skip or (check_skip and not has_run(runname, dsname)):\n",
    "            print (\"runing \", alg, dsname)\n",
    "            if alg =='cdc_SVINET':\n",
    "                gct.run_alg(runname=runname, data=gct.load_local_graph(dsname), algname=alg, seed=123, max_iterations=1000)        \n",
    "            else:\n",
    "                gct.run_alg(runname=runname, data=gct.load_local_graph(dsname), algname=alg, seed=123)\n",
    "            print (\"finished\", alg,dsname)\n",
    "        else:\n",
    "            print(\"skip\", runname,dsname)\n",
    "    except:\n",
    "        print(\"except\", runname,dsname)\n",
    "    return True\n",
    "    \n",
    "\n",
    "def run_alg_timeout(alg,dsname,timeout_duration=600):\n",
    "    if not timeout(run_alg, (alg,dsname), timeout_duration=timeout_duration):\n",
    "        print(\"tiemout\", alg,dsname)\n",
    "    fpath = os.path.join(\"/{}/tmp/{}_{}.done\".format('data', alg,dsname))\n",
    "    !touch {fpath}\n",
    "\n",
    "        \n"
   ]
  },
  {
   "cell_type": "code",
   "execution_count": 30,
   "metadata": {},
   "outputs": [
    {
     "name": "stdout",
     "output_type": "stream",
     "text": [
      "skip oslom_lpm K_DoesAlgSupportWeightTest_w1\n"
     ]
    },
    {
     "data": {
      "text/plain": [
       "True"
      ]
     },
     "execution_count": 30,
     "metadata": {},
     "output_type": "execute_result"
    }
   ],
   "source": [
    "run_alg(\"oslom_lpm\", data_w.name)"
   ]
  },
  {
   "cell_type": "code",
   "execution_count": 19,
   "metadata": {},
   "outputs": [
    {
     "name": "stdout",
     "output_type": "stream",
     "text": [
      "skip oslom_lpm K_DoesAlgSupportWeightTest_w1\n"
     ]
    }
   ],
   "source": [
    "run_alg_timeout(\"oslom_lpm\", data_w.name)"
   ]
  },
  {
   "cell_type": "code",
   "execution_count": 20,
   "metadata": {},
   "outputs": [
    {
     "name": "stderr",
     "output_type": "stream",
     "text": [
      "2020-04-22 21:42:17,428 - oslom_Infohiermap - INFO - Running /opt/gct/submodules/OSLOM/infohiermap_undir 123 /tmp/tmpcgvd60ar/pajek.txt 1\n",
      "INFO:oslom_Infohiermap:Running /opt/gct/submodules/OSLOM/infohiermap_undir 123 /tmp/tmpcgvd60ar/pajek.txt 1\n",
      "2020-04-22 21:42:17,444 - oslom_Infohiermap - INFO - Made 3 clusters in 0.006088 seconds\n",
      "INFO:oslom_Infohiermap:Made 3 clusters in 0.006088 seconds\n"
     ]
    },
    {
     "name": "stdout",
     "output_type": "stream",
     "text": [
      "runing  oslom_Infohiermap K_DoesAlgSupportWeightTest_w1\n",
      "finished oslom_Infohiermap K_DoesAlgSupportWeightTest_w1\n"
     ]
    },
    {
     "name": "stderr",
     "output_type": "stream",
     "text": [
      "2020-04-22 21:42:17,555 - Dataset:K_DoesAlgSupportWeightTest_uw1 - INFO - writing edges to /data/data/K_DoesAlgSupportWeightTest_uw1/edges.txt\n",
      "INFO:Dataset:K_DoesAlgSupportWeightTest_uw1:writing edges to /data/data/K_DoesAlgSupportWeightTest_uw1/edges.txt\n",
      "2020-04-22 21:42:17,556 - Dataset:K_DoesAlgSupportWeightTest_uw1 - INFO - reading /data/data/K_DoesAlgSupportWeightTest_uw1/edges.parq\n",
      "INFO:Dataset:K_DoesAlgSupportWeightTest_uw1:reading /data/data/K_DoesAlgSupportWeightTest_uw1/edges.parq\n",
      "2020-04-22 21:42:17,562 - Dataset:K_DoesAlgSupportWeightTest_uw1 - INFO - finish writing /data/data/K_DoesAlgSupportWeightTest_uw1/edges.txt\n",
      "INFO:Dataset:K_DoesAlgSupportWeightTest_uw1:finish writing /data/data/K_DoesAlgSupportWeightTest_uw1/edges.txt\n",
      "2020-04-22 21:42:17,574 - oslom_Infohiermap - INFO - Running /opt/gct/submodules/OSLOM/infohiermap_undir 123 /tmp/tmp4mq9fm3q/pajek.txt 1\n",
      "INFO:oslom_Infohiermap:Running /opt/gct/submodules/OSLOM/infohiermap_undir 123 /tmp/tmp4mq9fm3q/pajek.txt 1\n",
      "2020-04-22 21:42:17,589 - oslom_Infohiermap - INFO - Made 2 clusters in 0.005871 seconds\n",
      "INFO:oslom_Infohiermap:Made 2 clusters in 0.005871 seconds\n"
     ]
    },
    {
     "name": "stdout",
     "output_type": "stream",
     "text": [
      "runing  oslom_Infohiermap K_DoesAlgSupportWeightTest_uw1\n",
      "finished oslom_Infohiermap K_DoesAlgSupportWeightTest_uw1\n"
     ]
    },
    {
     "name": "stderr",
     "output_type": "stream",
     "text": [
      "2020-04-22 21:42:17,699 - oslom_Infomap - INFO - Running /opt/gct/submodules/OSLOM2/infomap_dir 123 /tmp/tmp_gf5k4wo/pajek.txt 1\n",
      "INFO:oslom_Infomap:Running /opt/gct/submodules/OSLOM2/infomap_dir 123 /tmp/tmp_gf5k4wo/pajek.txt 1\n",
      "2020-04-22 21:42:17,713 - oslom_Infomap - INFO - Made 1 clusters in 0.005361 seconds\n",
      "INFO:oslom_Infomap:Made 1 clusters in 0.005361 seconds\n"
     ]
    },
    {
     "name": "stdout",
     "output_type": "stream",
     "text": [
      "runing  oslom_Infomap K_DoesAlgSupportWeightTest_w1\n",
      "finished oslom_Infomap K_DoesAlgSupportWeightTest_w1\n"
     ]
    },
    {
     "name": "stderr",
     "output_type": "stream",
     "text": [
      "2020-04-22 21:42:17,823 - oslom_Infomap - INFO - Running /opt/gct/submodules/OSLOM2/infomap_dir 123 /tmp/tmp8ey65u2o/pajek.txt 1\n",
      "INFO:oslom_Infomap:Running /opt/gct/submodules/OSLOM2/infomap_dir 123 /tmp/tmp8ey65u2o/pajek.txt 1\n",
      "2020-04-22 21:42:17,837 - oslom_Infomap - INFO - Made 1 clusters in 0.005617 seconds\n",
      "INFO:oslom_Infomap:Made 1 clusters in 0.005617 seconds\n"
     ]
    },
    {
     "name": "stdout",
     "output_type": "stream",
     "text": [
      "runing  oslom_Infomap K_DoesAlgSupportWeightTest_uw1\n",
      "finished oslom_Infomap K_DoesAlgSupportWeightTest_uw1\n"
     ]
    },
    {
     "name": "stderr",
     "output_type": "stream",
     "text": [
      "2020-04-22 21:42:17,948 - oslom_OSLOM - INFO - Running /opt/gct/submodules/OSLOM2/oslom_undir -f /tmp/tmpflaitc2j/edges.txt -w -r 10 -hr 50 -seed 123 -t 0.1 -cp 0.5\n",
      "INFO:oslom_OSLOM:Running /opt/gct/submodules/OSLOM2/oslom_undir -f /tmp/tmpflaitc2j/edges.txt -w -r 10 -hr 50 -seed 123 -t 0.1 -cp 0.5\n",
      "2020-04-22 21:42:17,978 - oslom_OSLOM - INFO - Made 1 levels of clusters with #clusters [2] in 0.028916 seconds\n",
      "INFO:oslom_OSLOM:Made 1 levels of clusters with #clusters [2] in 0.028916 seconds\n"
     ]
    },
    {
     "name": "stdout",
     "output_type": "stream",
     "text": [
      "runing  oslom_OSLOM K_DoesAlgSupportWeightTest_w1\n",
      "finished oslom_OSLOM K_DoesAlgSupportWeightTest_w1\n"
     ]
    },
    {
     "name": "stderr",
     "output_type": "stream",
     "text": [
      "2020-04-22 21:42:18,089 - oslom_OSLOM - INFO - Running /opt/gct/submodules/OSLOM2/oslom_undir -f /tmp/tmpd24mhgym/edges.txt -uw -r 10 -hr 50 -seed 123 -t 0.1 -cp 0.5\n",
      "INFO:oslom_OSLOM:Running /opt/gct/submodules/OSLOM2/oslom_undir -f /tmp/tmpd24mhgym/edges.txt -uw -r 10 -hr 50 -seed 123 -t 0.1 -cp 0.5\n",
      "2020-04-22 21:42:18,109 - oslom_OSLOM - INFO - Made 1 levels of clusters with #clusters [2] in 0.018150 seconds\n",
      "INFO:oslom_OSLOM:Made 1 levels of clusters with #clusters [2] in 0.018150 seconds\n"
     ]
    },
    {
     "name": "stdout",
     "output_type": "stream",
     "text": [
      "runing  oslom_OSLOM K_DoesAlgSupportWeightTest_uw1\n",
      "finished oslom_OSLOM K_DoesAlgSupportWeightTest_uw1\n"
     ]
    },
    {
     "name": "stderr",
     "output_type": "stream",
     "text": [
      "2020-04-22 21:42:18,219 - oslom_copra - INFO - seed ignored\n",
      "INFO:oslom_copra:seed ignored\n",
      "2020-04-22 21:42:18,221 - oslom_copra - INFO - Running java -cp /opt/gct/submodules/OSLOM2/copra.jar COPRA /tmp/tmp08zryzhc/edges.txt -w -v 5 -nosplit -extrasimplify -q\n",
      "INFO:oslom_copra:Running java -cp /opt/gct/submodules/OSLOM2/copra.jar COPRA /tmp/tmp08zryzhc/edges.txt -w -v 5 -nosplit -extrasimplify -q\n"
     ]
    },
    {
     "name": "stdout",
     "output_type": "stream",
     "text": [
      "runing  oslom_copra K_DoesAlgSupportWeightTest_w1\n"
     ]
    },
    {
     "name": "stderr",
     "output_type": "stream",
     "text": [
      "2020-04-22 21:42:18,292 - oslom_copra - INFO - Made 3 clusters in 0.070511 seconds\n",
      "INFO:oslom_copra:Made 3 clusters in 0.070511 seconds\n"
     ]
    },
    {
     "name": "stdout",
     "output_type": "stream",
     "text": [
      "finished oslom_copra K_DoesAlgSupportWeightTest_w1\n"
     ]
    },
    {
     "name": "stderr",
     "output_type": "stream",
     "text": [
      "2020-04-22 21:42:18,404 - oslom_copra - INFO - seed ignored\n",
      "INFO:oslom_copra:seed ignored\n",
      "2020-04-22 21:42:18,405 - oslom_copra - INFO - Running java -cp /opt/gct/submodules/OSLOM2/copra.jar COPRA /tmp/tmpyej2nbt4/edges.txt -w -v 5 -nosplit -extrasimplify -q\n",
      "INFO:oslom_copra:Running java -cp /opt/gct/submodules/OSLOM2/copra.jar COPRA /tmp/tmpyej2nbt4/edges.txt -w -v 5 -nosplit -extrasimplify -q\n"
     ]
    },
    {
     "name": "stdout",
     "output_type": "stream",
     "text": [
      "runing  oslom_copra K_DoesAlgSupportWeightTest_uw1\n"
     ]
    },
    {
     "name": "stderr",
     "output_type": "stream",
     "text": [
      "2020-04-22 21:42:18,477 - oslom_copra - INFO - Made 3 clusters in 0.070619 seconds\n",
      "INFO:oslom_copra:Made 3 clusters in 0.070619 seconds\n"
     ]
    },
    {
     "name": "stdout",
     "output_type": "stream",
     "text": [
      "finished oslom_copra K_DoesAlgSupportWeightTest_uw1\n"
     ]
    },
    {
     "name": "stderr",
     "output_type": "stream",
     "text": [
      "2020-04-22 21:42:18,589 - oslom_louvain_method - INFO - Running /opt/gct/submodules/OSLOM/louvain_method -f /tmp/tmp1tspsbwi/edges.txt -r 1 -seed 123\n",
      "INFO:oslom_louvain_method:Running /opt/gct/submodules/OSLOM/louvain_method -f /tmp/tmp1tspsbwi/edges.txt -r 1 -seed 123\n",
      "2020-04-22 21:42:18,598 - oslom_louvain_method - INFO - Made 3 clusters in 0.007834 seconds\n",
      "INFO:oslom_louvain_method:Made 3 clusters in 0.007834 seconds\n"
     ]
    },
    {
     "name": "stdout",
     "output_type": "stream",
     "text": [
      "runing  oslom_louvain_method K_DoesAlgSupportWeightTest_w1\n",
      "finished oslom_louvain_method K_DoesAlgSupportWeightTest_w1\n"
     ]
    },
    {
     "name": "stderr",
     "output_type": "stream",
     "text": [
      "2020-04-22 21:42:18,708 - oslom_louvain_method - INFO - Running /opt/gct/submodules/OSLOM/louvain_method -f /tmp/tmplgnkd30_/edges.txt -r 1 -seed 123\n",
      "INFO:oslom_louvain_method:Running /opt/gct/submodules/OSLOM/louvain_method -f /tmp/tmplgnkd30_/edges.txt -r 1 -seed 123\n",
      "2020-04-22 21:42:18,717 - oslom_louvain_method - INFO - Made 2 clusters in 0.007837 seconds\n",
      "INFO:oslom_louvain_method:Made 2 clusters in 0.007837 seconds\n"
     ]
    },
    {
     "name": "stdout",
     "output_type": "stream",
     "text": [
      "runing  oslom_louvain_method K_DoesAlgSupportWeightTest_uw1\n",
      "finished oslom_louvain_method K_DoesAlgSupportWeightTest_uw1\n",
      "skip oslom_lpm K_DoesAlgSupportWeightTest_w1\n"
     ]
    },
    {
     "name": "stderr",
     "output_type": "stream",
     "text": [
      "2020-04-22 21:42:18,936 - oslom_lpm - INFO - Running /opt/gct/submodules/OSLOM/lpm -f /tmp/tmpyfl3ri_v/edges.txt -r 1 -seed 123\n",
      "INFO:oslom_lpm:Running /opt/gct/submodules/OSLOM/lpm -f /tmp/tmpyfl3ri_v/edges.txt -r 1 -seed 123\n",
      "2020-04-22 21:42:18,943 - oslom_lpm - INFO - Made 2 clusters in 0.005222 seconds\n",
      "INFO:oslom_lpm:Made 2 clusters in 0.005222 seconds\n"
     ]
    },
    {
     "name": "stdout",
     "output_type": "stream",
     "text": [
      "runing  oslom_lpm K_DoesAlgSupportWeightTest_uw1\n",
      "finished oslom_lpm K_DoesAlgSupportWeightTest_uw1\n"
     ]
    },
    {
     "name": "stderr",
     "output_type": "stream",
     "text": [
      "2020-04-22 21:42:19,054 - oslom_modopt - INFO - Running /opt/gct/submodules/OSLOM/modopt /tmp/tmpwxgtqi09/edges.txt 123 1 5 0.999 1e-06\n",
      "INFO:oslom_modopt:Running /opt/gct/submodules/OSLOM/modopt /tmp/tmpwxgtqi09/edges.txt 123 1 5 0.999 1e-06\n",
      "2020-04-22 21:42:19,063 - oslom_modopt - INFO - Made 3 clusters in 0.007260 seconds\n",
      "INFO:oslom_modopt:Made 3 clusters in 0.007260 seconds\n"
     ]
    },
    {
     "name": "stdout",
     "output_type": "stream",
     "text": [
      "runing  oslom_modopt K_DoesAlgSupportWeightTest_w1\n",
      "finished oslom_modopt K_DoesAlgSupportWeightTest_w1\n"
     ]
    },
    {
     "name": "stderr",
     "output_type": "stream",
     "text": [
      "2020-04-22 21:42:19,174 - oslom_modopt - INFO - Running /opt/gct/submodules/OSLOM/modopt /tmp/tmpch6x4ax5/edges.txt 123 1 5 0.999 1e-06\n",
      "INFO:oslom_modopt:Running /opt/gct/submodules/OSLOM/modopt /tmp/tmpch6x4ax5/edges.txt 123 1 5 0.999 1e-06\n",
      "2020-04-22 21:42:19,184 - oslom_modopt - INFO - Made 2 clusters in 0.008594 seconds\n",
      "INFO:oslom_modopt:Made 2 clusters in 0.008594 seconds\n"
     ]
    },
    {
     "name": "stdout",
     "output_type": "stream",
     "text": [
      "runing  oslom_modopt K_DoesAlgSupportWeightTest_uw1\n",
      "finished oslom_modopt K_DoesAlgSupportWeightTest_uw1\n"
     ]
    },
    {
     "name": "stderr",
     "output_type": "stream",
     "text": [
      "2020-04-22 21:42:19,295 - pycabem_GANXiSw - INFO - Running java -jar /opt/gct/submodules/GANXiS/GANXiSw.jar -i edges.txt -seed 123 -Sym 1 -d output -r 0.1 \n",
      "INFO:pycabem_GANXiSw:Running java -jar /opt/gct/submodules/GANXiS/GANXiSw.jar -i edges.txt -seed 123 -Sym 1 -d output -r 0.1 \n"
     ]
    },
    {
     "name": "stdout",
     "output_type": "stream",
     "text": [
      "runing  pycabem_GANXiSw K_DoesAlgSupportWeightTest_w1\n"
     ]
    },
    {
     "name": "stderr",
     "output_type": "stream",
     "text": [
      "2020-04-22 21:42:19,378 - pycabem_GANXiSw - INFO - Made 3 clusters in 0.081445 seconds\n",
      "INFO:pycabem_GANXiSw:Made 3 clusters in 0.081445 seconds\n"
     ]
    },
    {
     "name": "stdout",
     "output_type": "stream",
     "text": [
      "finished pycabem_GANXiSw K_DoesAlgSupportWeightTest_w1\n"
     ]
    },
    {
     "name": "stderr",
     "output_type": "stream",
     "text": [
      "2020-04-22 21:42:19,490 - pycabem_GANXiSw - INFO - Running java -jar /opt/gct/submodules/GANXiS/GANXiSw.jar -i edges.txt -seed 123 -Sym 1 -d output -r 0.1 \n",
      "INFO:pycabem_GANXiSw:Running java -jar /opt/gct/submodules/GANXiS/GANXiSw.jar -i edges.txt -seed 123 -Sym 1 -d output -r 0.1 \n"
     ]
    },
    {
     "name": "stdout",
     "output_type": "stream",
     "text": [
      "runing  pycabem_GANXiSw K_DoesAlgSupportWeightTest_uw1\n"
     ]
    },
    {
     "name": "stderr",
     "output_type": "stream",
     "text": [
      "2020-04-22 21:42:19,571 - pycabem_GANXiSw - INFO - Made 2 clusters in 0.079253 seconds\n",
      "INFO:pycabem_GANXiSw:Made 2 clusters in 0.079253 seconds\n"
     ]
    },
    {
     "name": "stdout",
     "output_type": "stream",
     "text": [
      "finished pycabem_GANXiSw K_DoesAlgSupportWeightTest_uw1\n"
     ]
    },
    {
     "name": "stderr",
     "output_type": "stream",
     "text": [
      "2020-04-22 21:42:19,683 - pycabem_HiReCS - INFO - seed ignored\n",
      "INFO:pycabem_HiReCS:seed ignored\n",
      "2020-04-22 21:42:19,684 - Dataset:K_DoesAlgSupportWeightTest_w1 - INFO - running python /opt/gct/submodules/hirecs/pajek_hig.py /data/data/K_DoesAlgSupportWeightTest_w1/pajek.txt\n",
      "INFO:Dataset:K_DoesAlgSupportWeightTest_w1:running python /opt/gct/submodules/hirecs/pajek_hig.py /data/data/K_DoesAlgSupportWeightTest_w1/pajek.txt\n"
     ]
    },
    {
     "name": "stdout",
     "output_type": "stream",
     "text": [
      "runing  pycabem_HiReCS K_DoesAlgSupportWeightTest_w1\n"
     ]
    },
    {
     "name": "stderr",
     "output_type": "stream",
     "text": [
      "2020-04-22 21:42:19,712 - pycabem_HiReCS - INFO - Running ./hirecs -oje /data/data/K_DoesAlgSupportWeightTest_w1/pajek.hig > output\n",
      "INFO:pycabem_HiReCS:Running ./hirecs -oje /data/data/K_DoesAlgSupportWeightTest_w1/pajek.hig > output\n",
      "2020-04-22 21:42:19,721 - pycabem_HiReCS - INFO - Made 3 clusters in 0.007063 seconds with modularity 0.666666\n",
      "INFO:pycabem_HiReCS:Made 3 clusters in 0.007063 seconds with modularity 0.666666\n"
     ]
    },
    {
     "name": "stdout",
     "output_type": "stream",
     "text": [
      "finished pycabem_HiReCS K_DoesAlgSupportWeightTest_w1\n"
     ]
    },
    {
     "name": "stderr",
     "output_type": "stream",
     "text": [
      "2020-04-22 21:42:19,833 - pycabem_HiReCS - INFO - seed ignored\n",
      "INFO:pycabem_HiReCS:seed ignored\n",
      "2020-04-22 21:42:19,834 - Dataset:K_DoesAlgSupportWeightTest_uw1 - INFO - running python /opt/gct/submodules/hirecs/pajek_hig.py /data/data/K_DoesAlgSupportWeightTest_uw1/pajek.txt\n",
      "INFO:Dataset:K_DoesAlgSupportWeightTest_uw1:running python /opt/gct/submodules/hirecs/pajek_hig.py /data/data/K_DoesAlgSupportWeightTest_uw1/pajek.txt\n",
      "2020-04-22 21:42:19,861 - pycabem_HiReCS - INFO - Running ./hirecs -oje /data/data/K_DoesAlgSupportWeightTest_uw1/pajek.hig > output\n",
      "INFO:pycabem_HiReCS:Running ./hirecs -oje /data/data/K_DoesAlgSupportWeightTest_uw1/pajek.hig > output\n",
      "2020-04-22 21:42:19,870 - pycabem_HiReCS - INFO - Made 2 clusters in 0.006771 seconds with modularity 0.247922\n",
      "INFO:pycabem_HiReCS:Made 2 clusters in 0.006771 seconds with modularity 0.247922\n"
     ]
    },
    {
     "name": "stdout",
     "output_type": "stream",
     "text": [
      "runing  pycabem_HiReCS K_DoesAlgSupportWeightTest_uw1\n",
      "finished pycabem_HiReCS K_DoesAlgSupportWeightTest_uw1\n"
     ]
    },
    {
     "name": "stderr",
     "output_type": "stream",
     "text": [
      "2020-04-22 21:42:19,981 - pycabem_LabelRank - INFO - seed ignored\n",
      "INFO:pycabem_LabelRank:seed ignored\n",
      "2020-04-22 21:42:19,983 - pycabem_LabelRank - INFO - Running /opt/gct/submodules/GANXiS/LabelRank edges.txt 0.01 2 0.3\n",
      "INFO:pycabem_LabelRank:Running /opt/gct/submodules/GANXiS/LabelRank edges.txt 0.01 2 0.3\n",
      "2020-04-22 21:42:19,991 - pycabem_LabelRank - INFO - Made 3 clusters in 0.006101 seconds\n",
      "INFO:pycabem_LabelRank:Made 3 clusters in 0.006101 seconds\n"
     ]
    },
    {
     "name": "stdout",
     "output_type": "stream",
     "text": [
      "runing  pycabem_LabelRank K_DoesAlgSupportWeightTest_w1\n",
      "finished pycabem_LabelRank K_DoesAlgSupportWeightTest_w1\n"
     ]
    },
    {
     "name": "stderr",
     "output_type": "stream",
     "text": [
      "2020-04-22 21:42:20,102 - pycabem_LabelRank - INFO - seed ignored\n",
      "INFO:pycabem_LabelRank:seed ignored\n",
      "2020-04-22 21:42:20,103 - pycabem_LabelRank - INFO - Running /opt/gct/submodules/GANXiS/LabelRank edges.txt 0.01 2 0.3\n",
      "INFO:pycabem_LabelRank:Running /opt/gct/submodules/GANXiS/LabelRank edges.txt 0.01 2 0.3\n",
      "2020-04-22 21:42:20,113 - pycabem_LabelRank - INFO - Made 3 clusters in 0.008396 seconds\n",
      "INFO:pycabem_LabelRank:Made 3 clusters in 0.008396 seconds\n"
     ]
    },
    {
     "name": "stdout",
     "output_type": "stream",
     "text": [
      "runing  pycabem_LabelRank K_DoesAlgSupportWeightTest_uw1\n",
      "finished pycabem_LabelRank K_DoesAlgSupportWeightTest_uw1\n"
     ]
    },
    {
     "name": "stderr",
     "output_type": "stream",
     "text": [
      "2020-04-22 21:42:20,225 - cdc_CONGA - INFO - seed ignored\n",
      "INFO:cdc_CONGA:seed ignored\n",
      "2020-04-22 21:42:20,227 - cdc_CONGA - INFO - Running java -cp /opt/gct/submodules/CommunityDetectionCodes/conga-1.0-SNAPSHOT.jar conga.CONGA edges.txt -e -s -w mean\n",
      "INFO:cdc_CONGA:Running java -cp /opt/gct/submodules/CommunityDetectionCodes/conga-1.0-SNAPSHOT.jar conga.CONGA edges.txt -e -s -w mean\n"
     ]
    },
    {
     "name": "stdout",
     "output_type": "stream",
     "text": [
      "runing  cdc_CONGA K_DoesAlgSupportWeightTest_w1\n"
     ]
    },
    {
     "name": "stderr",
     "output_type": "stream",
     "text": [
      "2020-04-22 21:42:20,315 - cdc_CONGA - INFO - Finish first step in 0.086876 seconds\n",
      "INFO:cdc_CONGA:Finish first step in 0.086876 seconds\n",
      "2020-04-22 21:42:20,316 - cdc_CONGA - INFO - Running java -cp /opt/gct/submodules/CommunityDetectionCodes/conga-1.0-SNAPSHOT.jar conga.CONGA edges.txt -e -s -w mean -n 5\n",
      "INFO:cdc_CONGA:Running java -cp /opt/gct/submodules/CommunityDetectionCodes/conga-1.0-SNAPSHOT.jar conga.CONGA edges.txt -e -s -w mean -n 5\n",
      "2020-04-22 21:42:20,380 - cdc_CONGA - INFO - Made 5 clusters in 0.062951 seconds\n",
      "INFO:cdc_CONGA:Made 5 clusters in 0.062951 seconds\n"
     ]
    },
    {
     "name": "stdout",
     "output_type": "stream",
     "text": [
      "finished cdc_CONGA K_DoesAlgSupportWeightTest_w1\n"
     ]
    },
    {
     "name": "stderr",
     "output_type": "stream",
     "text": [
      "2020-04-22 21:42:20,492 - cdc_CONGA - INFO - seed ignored\n",
      "INFO:cdc_CONGA:seed ignored\n",
      "2020-04-22 21:42:20,493 - cdc_CONGA - INFO - Running java -cp /opt/gct/submodules/CommunityDetectionCodes/conga-1.0-SNAPSHOT.jar conga.CONGA edges.txt -e -s\n",
      "INFO:cdc_CONGA:Running java -cp /opt/gct/submodules/CommunityDetectionCodes/conga-1.0-SNAPSHOT.jar conga.CONGA edges.txt -e -s\n",
      "2020-04-22 21:42:20,568 - cdc_CONGA - INFO - Finish first step in 0.074183 seconds\n",
      "INFO:cdc_CONGA:Finish first step in 0.074183 seconds\n",
      "2020-04-22 21:42:20,570 - cdc_CONGA - INFO - Running java -cp /opt/gct/submodules/CommunityDetectionCodes/conga-1.0-SNAPSHOT.jar conga.CONGA edges.txt -e -s -n 5\n",
      "INFO:cdc_CONGA:Running java -cp /opt/gct/submodules/CommunityDetectionCodes/conga-1.0-SNAPSHOT.jar conga.CONGA edges.txt -e -s -n 5\n"
     ]
    },
    {
     "name": "stdout",
     "output_type": "stream",
     "text": [
      "runing  cdc_CONGA K_DoesAlgSupportWeightTest_uw1\n"
     ]
    },
    {
     "name": "stderr",
     "output_type": "stream",
     "text": [
      "2020-04-22 21:42:20,633 - cdc_CONGA - INFO - Made 5 clusters in 0.062332 seconds\n",
      "INFO:cdc_CONGA:Made 5 clusters in 0.062332 seconds\n"
     ]
    },
    {
     "name": "stdout",
     "output_type": "stream",
     "text": [
      "finished cdc_CONGA K_DoesAlgSupportWeightTest_uw1\n"
     ]
    },
    {
     "name": "stderr",
     "output_type": "stream",
     "text": [
      "2020-04-22 21:42:20,747 - cdc_CliquePercolation - INFO - seed ignored\n",
      "INFO:cdc_CliquePercolation:seed ignored\n",
      "2020-04-22 21:42:20,748 - cdc_CliquePercolation - INFO - Running /opt/gct/submodules/CommunityDetectionCodes/k_clique edges.txt -w -o=output\n",
      "INFO:cdc_CliquePercolation:Running /opt/gct/submodules/CommunityDetectionCodes/k_clique edges.txt -w -o=output\n",
      "2020-04-22 21:42:20,756 - cdc_CliquePercolation - INFO - Made 2 clusters in 0.006141 seconds\n",
      "INFO:cdc_CliquePercolation:Made 2 clusters in 0.006141 seconds\n"
     ]
    },
    {
     "name": "stdout",
     "output_type": "stream",
     "text": [
      "runing  cdc_CliquePercolation K_DoesAlgSupportWeightTest_w1\n",
      "finished cdc_CliquePercolation K_DoesAlgSupportWeightTest_w1\n"
     ]
    },
    {
     "name": "stderr",
     "output_type": "stream",
     "text": [
      "2020-04-22 21:42:20,867 - cdc_CliquePercolation - INFO - seed ignored\n",
      "INFO:cdc_CliquePercolation:seed ignored\n",
      "2020-04-22 21:42:20,868 - cdc_CliquePercolation - INFO - Running /opt/gct/submodules/CommunityDetectionCodes/k_clique edges.txt -o=output\n",
      "INFO:cdc_CliquePercolation:Running /opt/gct/submodules/CommunityDetectionCodes/k_clique edges.txt -o=output\n",
      "2020-04-22 21:42:20,875 - cdc_CliquePercolation - INFO - Made 2 clusters in 0.005592 seconds\n",
      "INFO:cdc_CliquePercolation:Made 2 clusters in 0.005592 seconds\n"
     ]
    },
    {
     "name": "stdout",
     "output_type": "stream",
     "text": [
      "runing  cdc_CliquePercolation K_DoesAlgSupportWeightTest_uw1\n",
      "finished cdc_CliquePercolation K_DoesAlgSupportWeightTest_uw1\n"
     ]
    },
    {
     "name": "stderr",
     "output_type": "stream",
     "text": [
      "2020-04-22 21:42:20,987 - cdc_Connected_Iterative_Scan - INFO - seed ignored\n",
      "INFO:cdc_Connected_Iterative_Scan:seed ignored\n",
      "2020-04-22 21:42:20,988 - cdc_Connected_Iterative_Scan - INFO - Running /opt/gct/submodules/CommunityDetectionCodes/2009-cis -i edges.txt -o output\n",
      "INFO:cdc_Connected_Iterative_Scan:Running /opt/gct/submodules/CommunityDetectionCodes/2009-cis -i edges.txt -o output\n",
      "2020-04-22 21:42:20,995 - cdc_Connected_Iterative_Scan - INFO - Made 3 clusters in 0.005628 seconds\n",
      "INFO:cdc_Connected_Iterative_Scan:Made 3 clusters in 0.005628 seconds\n"
     ]
    },
    {
     "name": "stdout",
     "output_type": "stream",
     "text": [
      "runing  cdc_Connected_Iterative_Scan K_DoesAlgSupportWeightTest_w1\n",
      "finished cdc_Connected_Iterative_Scan K_DoesAlgSupportWeightTest_w1\n"
     ]
    },
    {
     "name": "stderr",
     "output_type": "stream",
     "text": [
      "2020-04-22 21:42:21,106 - cdc_Connected_Iterative_Scan - INFO - seed ignored\n",
      "INFO:cdc_Connected_Iterative_Scan:seed ignored\n",
      "2020-04-22 21:42:21,108 - cdc_Connected_Iterative_Scan - INFO - Running /opt/gct/submodules/CommunityDetectionCodes/2009-cis -i edges.txt -o output\n",
      "INFO:cdc_Connected_Iterative_Scan:Running /opt/gct/submodules/CommunityDetectionCodes/2009-cis -i edges.txt -o output\n",
      "2020-04-22 21:42:21,116 - cdc_Connected_Iterative_Scan - INFO - Made 2 clusters in 0.006505 seconds\n",
      "INFO:cdc_Connected_Iterative_Scan:Made 2 clusters in 0.006505 seconds\n"
     ]
    },
    {
     "name": "stdout",
     "output_type": "stream",
     "text": [
      "runing  cdc_Connected_Iterative_Scan K_DoesAlgSupportWeightTest_uw1\n",
      "finished cdc_Connected_Iterative_Scan K_DoesAlgSupportWeightTest_uw1\n"
     ]
    },
    {
     "name": "stderr",
     "output_type": "stream",
     "text": [
      "2020-04-22 21:42:21,228 - cdc_DEMON - INFO - seed ignored\n",
      "INFO:cdc_DEMON:seed ignored\n",
      "2020-04-22 21:42:21,229 - cdc_DEMON - INFO - Running python /opt/gct/submodules/CommunityDetectionCodes/Algorithms/2012-DEMON/Demon.py edges.txt w ud 0.25 3\n",
      "INFO:cdc_DEMON:Running python /opt/gct/submodules/CommunityDetectionCodes/Algorithms/2012-DEMON/Demon.py edges.txt w ud 0.25 3\n"
     ]
    },
    {
     "name": "stdout",
     "output_type": "stream",
     "text": [
      "runing  cdc_DEMON K_DoesAlgSupportWeightTest_w1\n",
      "except cdc_DEMON K_DoesAlgSupportWeightTest_w1\n"
     ]
    },
    {
     "name": "stderr",
     "output_type": "stream",
     "text": [
      "2020-04-22 21:42:21,364 - cdc_DEMON - INFO - seed ignored\n",
      "INFO:cdc_DEMON:seed ignored\n",
      "2020-04-22 21:42:21,365 - cdc_DEMON - INFO - Running python /opt/gct/submodules/CommunityDetectionCodes/Algorithms/2012-DEMON/Demon.py edges.txt uw ud 0.25 3\n",
      "INFO:cdc_DEMON:Running python /opt/gct/submodules/CommunityDetectionCodes/Algorithms/2012-DEMON/Demon.py edges.txt uw ud 0.25 3\n"
     ]
    },
    {
     "name": "stdout",
     "output_type": "stream",
     "text": [
      "runing  cdc_DEMON K_DoesAlgSupportWeightTest_uw1\n",
      "except cdc_DEMON K_DoesAlgSupportWeightTest_uw1\n"
     ]
    },
    {
     "name": "stderr",
     "output_type": "stream",
     "text": [
      "2020-04-22 21:42:21,499 - cdc_EAGLE - INFO - seed ignored\n",
      "INFO:cdc_EAGLE:seed ignored\n",
      "2020-04-22 21:42:21,500 - cdc_EAGLE - INFO - Running /opt/gct/submodules/CommunityDetectionCodes/2009-eagle 7 edges.txt undir output\n",
      "INFO:cdc_EAGLE:Running /opt/gct/submodules/CommunityDetectionCodes/2009-eagle 7 edges.txt undir output\n",
      "2020-04-22 21:42:21,509 - cdc_EAGLE - INFO - Made 2 clusters in 0.007634 seconds\n",
      "INFO:cdc_EAGLE:Made 2 clusters in 0.007634 seconds\n"
     ]
    },
    {
     "name": "stdout",
     "output_type": "stream",
     "text": [
      "runing  cdc_EAGLE K_DoesAlgSupportWeightTest_w1\n",
      "finished cdc_EAGLE K_DoesAlgSupportWeightTest_w1\n"
     ]
    },
    {
     "name": "stderr",
     "output_type": "stream",
     "text": [
      "2020-04-22 21:42:21,620 - cdc_EAGLE - INFO - seed ignored\n",
      "INFO:cdc_EAGLE:seed ignored\n",
      "2020-04-22 21:42:21,622 - cdc_EAGLE - INFO - Running /opt/gct/submodules/CommunityDetectionCodes/2009-eagle 7 edges.txt undir output\n",
      "INFO:cdc_EAGLE:Running /opt/gct/submodules/CommunityDetectionCodes/2009-eagle 7 edges.txt undir output\n",
      "2020-04-22 21:42:21,637 - cdc_EAGLE - INFO - Made 2 clusters in 0.013895 seconds\n",
      "INFO:cdc_EAGLE:Made 2 clusters in 0.013895 seconds\n"
     ]
    },
    {
     "name": "stdout",
     "output_type": "stream",
     "text": [
      "runing  cdc_EAGLE K_DoesAlgSupportWeightTest_uw1\n",
      "finished cdc_EAGLE K_DoesAlgSupportWeightTest_uw1\n"
     ]
    },
    {
     "name": "stderr",
     "output_type": "stream",
     "text": [
      "2020-04-22 21:42:21,749 - cdc_FastCpm - INFO - seed ignored\n",
      "INFO:cdc_FastCpm:seed ignored\n",
      "2020-04-22 21:42:21,750 - cdc_FastCpm - INFO - Running /opt/gct/submodules/CommunityDetectionCodes/2012-fast-cpm edges.txt 4 output.cluster\n",
      "INFO:cdc_FastCpm:Running /opt/gct/submodules/CommunityDetectionCodes/2012-fast-cpm edges.txt 4 output.cluster\n",
      "2020-04-22 21:42:21,758 - cdc_FastCpm - INFO - Made 1 clusters in 0.006407 seconds\n",
      "INFO:cdc_FastCpm:Made 1 clusters in 0.006407 seconds\n"
     ]
    },
    {
     "name": "stdout",
     "output_type": "stream",
     "text": [
      "runing  cdc_FastCpm K_DoesAlgSupportWeightTest_w1\n",
      "finished cdc_FastCpm K_DoesAlgSupportWeightTest_w1\n"
     ]
    },
    {
     "name": "stderr",
     "output_type": "stream",
     "text": [
      "2020-04-22 21:42:21,869 - cdc_FastCpm - INFO - seed ignored\n",
      "INFO:cdc_FastCpm:seed ignored\n",
      "2020-04-22 21:42:21,871 - cdc_FastCpm - INFO - Running /opt/gct/submodules/CommunityDetectionCodes/2012-fast-cpm edges.txt 4 output.cluster\n",
      "INFO:cdc_FastCpm:Running /opt/gct/submodules/CommunityDetectionCodes/2012-fast-cpm edges.txt 4 output.cluster\n",
      "2020-04-22 21:42:21,878 - cdc_FastCpm - INFO - Made 1 clusters in 0.005736 seconds\n",
      "INFO:cdc_FastCpm:Made 1 clusters in 0.005736 seconds\n"
     ]
    },
    {
     "name": "stdout",
     "output_type": "stream",
     "text": [
      "runing  cdc_FastCpm K_DoesAlgSupportWeightTest_uw1\n",
      "finished cdc_FastCpm K_DoesAlgSupportWeightTest_uw1\n"
     ]
    },
    {
     "name": "stderr",
     "output_type": "stream",
     "text": [
      "2020-04-22 21:42:21,989 - cdc_GCE - INFO - seed ignored\n",
      "INFO:cdc_GCE:seed ignored\n",
      "2020-04-22 21:42:21,991 - cdc_GCE - INFO - Running /opt/gct/submodules/CommunityDetectionCodes/2011-gce edges.txt 4 0.6 1.0 0.75\n",
      "INFO:cdc_GCE:Running /opt/gct/submodules/CommunityDetectionCodes/2011-gce edges.txt 4 0.6 1.0 0.75\n",
      "2020-04-22 21:42:21,998 - cdc_GCE - INFO - Made 1 clusters in 0.006148 seconds\n",
      "INFO:cdc_GCE:Made 1 clusters in 0.006148 seconds\n"
     ]
    },
    {
     "name": "stdout",
     "output_type": "stream",
     "text": [
      "runing  cdc_GCE K_DoesAlgSupportWeightTest_w1\n",
      "finished cdc_GCE K_DoesAlgSupportWeightTest_w1\n"
     ]
    },
    {
     "name": "stderr",
     "output_type": "stream",
     "text": [
      "2020-04-22 21:42:22,110 - cdc_GCE - INFO - seed ignored\n",
      "INFO:cdc_GCE:seed ignored\n",
      "2020-04-22 21:42:22,111 - cdc_GCE - INFO - Running /opt/gct/submodules/CommunityDetectionCodes/2011-gce edges.txt 4 0.6 1.0 0.75\n",
      "INFO:cdc_GCE:Running /opt/gct/submodules/CommunityDetectionCodes/2011-gce edges.txt 4 0.6 1.0 0.75\n",
      "2020-04-22 21:42:22,118 - cdc_GCE - INFO - Made 1 clusters in 0.005683 seconds\n",
      "INFO:cdc_GCE:Made 1 clusters in 0.005683 seconds\n"
     ]
    },
    {
     "name": "stdout",
     "output_type": "stream",
     "text": [
      "runing  cdc_GCE K_DoesAlgSupportWeightTest_uw1\n",
      "finished cdc_GCE K_DoesAlgSupportWeightTest_uw1\n"
     ]
    },
    {
     "name": "stderr",
     "output_type": "stream",
     "text": [
      "2020-04-22 21:42:22,230 - cdc_HDEMON - INFO - seed ignored\n",
      "INFO:cdc_HDEMON:seed ignored\n",
      "2020-04-22 21:42:22,231 - cdc_HDEMON - INFO - Running python /opt/gct/submodules/CommunityDetectionCodes/Algorithms/2012-DEMON/HDemon.py edges.txt w ud 0.25 5\n",
      "INFO:cdc_HDEMON:Running python /opt/gct/submodules/CommunityDetectionCodes/Algorithms/2012-DEMON/HDemon.py edges.txt w ud 0.25 5\n"
     ]
    },
    {
     "name": "stdout",
     "output_type": "stream",
     "text": [
      "runing  cdc_HDEMON K_DoesAlgSupportWeightTest_w1\n",
      "except cdc_HDEMON K_DoesAlgSupportWeightTest_w1\n"
     ]
    },
    {
     "name": "stderr",
     "output_type": "stream",
     "text": [
      "2020-04-22 21:42:22,365 - cdc_HDEMON - INFO - seed ignored\n",
      "INFO:cdc_HDEMON:seed ignored\n",
      "2020-04-22 21:42:22,366 - cdc_HDEMON - INFO - Running python /opt/gct/submodules/CommunityDetectionCodes/Algorithms/2012-DEMON/HDemon.py edges.txt uw ud 0.25 5\n",
      "INFO:cdc_HDEMON:Running python /opt/gct/submodules/CommunityDetectionCodes/Algorithms/2012-DEMON/HDemon.py edges.txt uw ud 0.25 5\n"
     ]
    },
    {
     "name": "stdout",
     "output_type": "stream",
     "text": [
      "runing  cdc_HDEMON K_DoesAlgSupportWeightTest_uw1\n",
      "except cdc_HDEMON K_DoesAlgSupportWeightTest_uw1\n"
     ]
    },
    {
     "name": "stderr",
     "output_type": "stream",
     "text": [
      "2020-04-22 21:42:22,500 - cdc_LinkCommunities - INFO - seed ignored\n",
      "INFO:cdc_LinkCommunities:seed ignored\n",
      "2020-04-22 21:42:22,502 - cdc_LinkCommunities - INFO - Running /opt/gct/submodules/CommunityDetectionCodes/calcJaccards edges.pairs edges.jaccs\n",
      "INFO:cdc_LinkCommunities:Running /opt/gct/submodules/CommunityDetectionCodes/calcJaccards edges.pairs edges.jaccs\n",
      "2020-04-22 21:42:22,508 - cdc_LinkCommunities - INFO - Finish first step in 0.005128 seconds\n",
      "INFO:cdc_LinkCommunities:Finish first step in 0.005128 seconds\n",
      "2020-04-22 21:42:22,509 - cdc_LinkCommunities - INFO - Running /opt/gct/submodules/CommunityDetectionCodes/clusterJaccards edges.pairs edges.jaccs edges.clusters.0.01 edges.mc_nc.0.01 0.01\n",
      "INFO:cdc_LinkCommunities:Running /opt/gct/submodules/CommunityDetectionCodes/clusterJaccards edges.pairs edges.jaccs edges.clusters.0.01 edges.mc_nc.0.01 0.01\n",
      "2020-04-22 21:42:22,516 - cdc_LinkCommunities - INFO - Made 6 clusters in 0.005125 seconds\n",
      "INFO:cdc_LinkCommunities:Made 6 clusters in 0.005125 seconds\n"
     ]
    },
    {
     "name": "stdout",
     "output_type": "stream",
     "text": [
      "runing  cdc_LinkCommunities K_DoesAlgSupportWeightTest_w1\n",
      "finished cdc_LinkCommunities K_DoesAlgSupportWeightTest_w1\n"
     ]
    },
    {
     "name": "stderr",
     "output_type": "stream",
     "text": [
      "2020-04-22 21:42:22,628 - cdc_LinkCommunities - INFO - seed ignored\n",
      "INFO:cdc_LinkCommunities:seed ignored\n",
      "2020-04-22 21:42:22,629 - Dataset:K_DoesAlgSupportWeightTest_uw1 - INFO - reading /data/data/K_DoesAlgSupportWeightTest_uw1/edges.parq\n",
      "INFO:Dataset:K_DoesAlgSupportWeightTest_uw1:reading /data/data/K_DoesAlgSupportWeightTest_uw1/edges.parq\n",
      "2020-04-22 21:42:22,636 - cdc_LinkCommunities - INFO - Running /opt/gct/submodules/CommunityDetectionCodes/calcJaccards edges.pairs edges.jaccs\n",
      "INFO:cdc_LinkCommunities:Running /opt/gct/submodules/CommunityDetectionCodes/calcJaccards edges.pairs edges.jaccs\n",
      "2020-04-22 21:42:22,642 - cdc_LinkCommunities - INFO - Finish first step in 0.005728 seconds\n",
      "INFO:cdc_LinkCommunities:Finish first step in 0.005728 seconds\n",
      "2020-04-22 21:42:22,644 - cdc_LinkCommunities - INFO - Running /opt/gct/submodules/CommunityDetectionCodes/clusterJaccards edges.pairs edges.jaccs edges.clusters.0.01 edges.mc_nc.0.01 0.01\n",
      "INFO:cdc_LinkCommunities:Running /opt/gct/submodules/CommunityDetectionCodes/clusterJaccards edges.pairs edges.jaccs edges.clusters.0.01 edges.mc_nc.0.01 0.01\n",
      "2020-04-22 21:42:22,650 - cdc_LinkCommunities - INFO - Made 1 clusters in 0.005350 seconds\n",
      "INFO:cdc_LinkCommunities:Made 1 clusters in 0.005350 seconds\n"
     ]
    },
    {
     "name": "stdout",
     "output_type": "stream",
     "text": [
      "runing  cdc_LinkCommunities K_DoesAlgSupportWeightTest_uw1\n",
      "finished cdc_LinkCommunities K_DoesAlgSupportWeightTest_uw1\n"
     ]
    },
    {
     "name": "stderr",
     "output_type": "stream",
     "text": [
      "2020-04-22 21:42:22,762 - cdc_MOSES - INFO - Running /opt/gct/submodules/CommunityDetectionCodes/2011-moses edges.txt cluster.output --seed 123\n",
      "INFO:cdc_MOSES:Running /opt/gct/submodules/CommunityDetectionCodes/2011-moses edges.txt cluster.output --seed 123\n"
     ]
    },
    {
     "name": "stdout",
     "output_type": "stream",
     "text": [
      "runing  cdc_MOSES K_DoesAlgSupportWeightTest_w1\n"
     ]
    },
    {
     "name": "stderr",
     "output_type": "stream",
     "text": [
      "2020-04-22 21:42:33,952 - cdc_MOSES - INFO - Made 1 clusters in 11.188868 seconds\n",
      "INFO:cdc_MOSES:Made 1 clusters in 11.188868 seconds\n"
     ]
    },
    {
     "name": "stdout",
     "output_type": "stream",
     "text": [
      "finished cdc_MOSES K_DoesAlgSupportWeightTest_w1\n"
     ]
    },
    {
     "name": "stderr",
     "output_type": "stream",
     "text": [
      "2020-04-22 21:42:34,067 - cdc_MOSES - INFO - Running /opt/gct/submodules/CommunityDetectionCodes/2011-moses edges.txt cluster.output --seed 123\n",
      "INFO:cdc_MOSES:Running /opt/gct/submodules/CommunityDetectionCodes/2011-moses edges.txt cluster.output --seed 123\n"
     ]
    },
    {
     "name": "stdout",
     "output_type": "stream",
     "text": [
      "runing  cdc_MOSES K_DoesAlgSupportWeightTest_uw1\n"
     ]
    },
    {
     "name": "stderr",
     "output_type": "stream",
     "text": [
      "2020-04-22 21:42:45,239 - cdc_MOSES - INFO - Made 1 clusters in 11.170935 seconds\n",
      "INFO:cdc_MOSES:Made 1 clusters in 11.170935 seconds\n"
     ]
    },
    {
     "name": "stdout",
     "output_type": "stream",
     "text": [
      "finished cdc_MOSES K_DoesAlgSupportWeightTest_uw1\n"
     ]
    },
    {
     "name": "stderr",
     "output_type": "stream",
     "text": [
      "2020-04-22 21:42:45,353 - cdc_MSCD_AFG - INFO - seed ignored\n",
      "INFO:cdc_MSCD_AFG:seed ignored\n",
      "2020-04-22 21:42:45,355 - cdc_MSCD_AFG - INFO - Running /opt/gct/submodules/CommunityDetectionCodes/2013-mscd -g graph.edges -w -a AFG [1.0,2]\n",
      "INFO:cdc_MSCD_AFG:Running /opt/gct/submodules/CommunityDetectionCodes/2013-mscd -g graph.edges -w -a AFG [1.0,2]\n",
      "2020-04-22 21:42:45,363 - cdc_MSCD_AFG - INFO - Made 3 clusters with k=1\n",
      "INFO:cdc_MSCD_AFG:Made 3 clusters with k=1\n",
      "2020-04-22 21:42:45,365 - cdc_MSCD_AFG - INFO - Made 3 clusters with k=2\n",
      "INFO:cdc_MSCD_AFG:Made 3 clusters with k=2\n",
      "2020-04-22 21:42:45,366 - cdc_MSCD_AFG - INFO - Made 2 clusters in 0.006727 seconds\n",
      "INFO:cdc_MSCD_AFG:Made 2 clusters in 0.006727 seconds\n"
     ]
    },
    {
     "name": "stdout",
     "output_type": "stream",
     "text": [
      "runing  cdc_MSCD_AFG K_DoesAlgSupportWeightTest_w1\n",
      "finished cdc_MSCD_AFG K_DoesAlgSupportWeightTest_w1\n"
     ]
    },
    {
     "name": "stderr",
     "output_type": "stream",
     "text": [
      "2020-04-22 21:42:45,478 - cdc_MSCD_AFG - INFO - seed ignored\n",
      "INFO:cdc_MSCD_AFG:seed ignored\n",
      "2020-04-22 21:42:45,479 - cdc_MSCD_AFG - INFO - Running /opt/gct/submodules/CommunityDetectionCodes/2013-mscd -g graph.edges -w -a AFG [1.0,2]\n",
      "INFO:cdc_MSCD_AFG:Running /opt/gct/submodules/CommunityDetectionCodes/2013-mscd -g graph.edges -w -a AFG [1.0,2]\n",
      "2020-04-22 21:42:45,486 - cdc_MSCD_AFG - INFO - Made 2 clusters with k=1\n",
      "INFO:cdc_MSCD_AFG:Made 2 clusters with k=1\n",
      "2020-04-22 21:42:45,488 - cdc_MSCD_AFG - INFO - Made 2 clusters with k=2\n",
      "INFO:cdc_MSCD_AFG:Made 2 clusters with k=2\n",
      "2020-04-22 21:42:45,490 - cdc_MSCD_AFG - INFO - Made 2 clusters in 0.005772 seconds\n",
      "INFO:cdc_MSCD_AFG:Made 2 clusters in 0.005772 seconds\n"
     ]
    },
    {
     "name": "stdout",
     "output_type": "stream",
     "text": [
      "runing  cdc_MSCD_AFG K_DoesAlgSupportWeightTest_uw1\n",
      "finished cdc_MSCD_AFG K_DoesAlgSupportWeightTest_uw1\n"
     ]
    },
    {
     "name": "stderr",
     "output_type": "stream",
     "text": [
      "2020-04-22 21:42:45,600 - cdc_MSCD_HSLSW - INFO - seed ignored\n",
      "INFO:cdc_MSCD_HSLSW:seed ignored\n",
      "2020-04-22 21:42:45,602 - cdc_MSCD_HSLSW - INFO - Running /opt/gct/submodules/CommunityDetectionCodes/2013-mscd -g graph.edges -w -a HSLSW [1.0,2]\n",
      "INFO:cdc_MSCD_HSLSW:Running /opt/gct/submodules/CommunityDetectionCodes/2013-mscd -g graph.edges -w -a HSLSW [1.0,2]\n",
      "2020-04-22 21:42:45,609 - cdc_MSCD_HSLSW - INFO - Made 3 clusters with k=1\n",
      "INFO:cdc_MSCD_HSLSW:Made 3 clusters with k=1\n",
      "2020-04-22 21:42:45,611 - cdc_MSCD_HSLSW - INFO - Made 3 clusters with k=2\n",
      "INFO:cdc_MSCD_HSLSW:Made 3 clusters with k=2\n",
      "2020-04-22 21:42:45,612 - cdc_MSCD_HSLSW - INFO - Made 2 clusters in 0.005578 seconds\n",
      "INFO:cdc_MSCD_HSLSW:Made 2 clusters in 0.005578 seconds\n"
     ]
    },
    {
     "name": "stdout",
     "output_type": "stream",
     "text": [
      "runing  cdc_MSCD_HSLSW K_DoesAlgSupportWeightTest_w1\n",
      "finished cdc_MSCD_HSLSW K_DoesAlgSupportWeightTest_w1\n"
     ]
    },
    {
     "name": "stderr",
     "output_type": "stream",
     "text": [
      "2020-04-22 21:42:45,723 - cdc_MSCD_HSLSW - INFO - seed ignored\n",
      "INFO:cdc_MSCD_HSLSW:seed ignored\n",
      "2020-04-22 21:42:45,724 - cdc_MSCD_HSLSW - INFO - Running /opt/gct/submodules/CommunityDetectionCodes/2013-mscd -g graph.edges -w -a HSLSW [1.0,2]\n",
      "INFO:cdc_MSCD_HSLSW:Running /opt/gct/submodules/CommunityDetectionCodes/2013-mscd -g graph.edges -w -a HSLSW [1.0,2]\n",
      "2020-04-22 21:42:45,731 - cdc_MSCD_HSLSW - INFO - Made 2 clusters with k=1\n",
      "INFO:cdc_MSCD_HSLSW:Made 2 clusters with k=1\n",
      "2020-04-22 21:42:45,732 - cdc_MSCD_HSLSW - INFO - Made 2 clusters with k=2\n",
      "INFO:cdc_MSCD_HSLSW:Made 2 clusters with k=2\n",
      "2020-04-22 21:42:45,734 - cdc_MSCD_HSLSW - INFO - Made 2 clusters in 0.005642 seconds\n",
      "INFO:cdc_MSCD_HSLSW:Made 2 clusters in 0.005642 seconds\n"
     ]
    },
    {
     "name": "stdout",
     "output_type": "stream",
     "text": [
      "runing  cdc_MSCD_HSLSW K_DoesAlgSupportWeightTest_uw1\n",
      "finished cdc_MSCD_HSLSW K_DoesAlgSupportWeightTest_uw1\n"
     ]
    },
    {
     "name": "stderr",
     "output_type": "stream",
     "text": [
      "2020-04-22 21:42:45,845 - cdc_MSCD_LFK - INFO - seed ignored\n",
      "INFO:cdc_MSCD_LFK:seed ignored\n",
      "2020-04-22 21:42:45,847 - cdc_MSCD_LFK - INFO - Running /opt/gct/submodules/CommunityDetectionCodes/2013-mscd -g graph.edges -w -a LFK [1.0,2]\n",
      "INFO:cdc_MSCD_LFK:Running /opt/gct/submodules/CommunityDetectionCodes/2013-mscd -g graph.edges -w -a LFK [1.0,2]\n",
      "2020-04-22 21:42:45,854 - cdc_MSCD_LFK - INFO - Made 3 clusters with k=1\n",
      "INFO:cdc_MSCD_LFK:Made 3 clusters with k=1\n",
      "2020-04-22 21:42:45,855 - cdc_MSCD_LFK - INFO - Made 3 clusters with k=2\n",
      "INFO:cdc_MSCD_LFK:Made 3 clusters with k=2\n",
      "2020-04-22 21:42:45,857 - cdc_MSCD_LFK - INFO - Made 2 clusters in 0.005695 seconds\n",
      "INFO:cdc_MSCD_LFK:Made 2 clusters in 0.005695 seconds\n"
     ]
    },
    {
     "name": "stdout",
     "output_type": "stream",
     "text": [
      "runing  cdc_MSCD_LFK K_DoesAlgSupportWeightTest_w1\n",
      "finished cdc_MSCD_LFK K_DoesAlgSupportWeightTest_w1\n"
     ]
    },
    {
     "name": "stderr",
     "output_type": "stream",
     "text": [
      "2020-04-22 21:42:45,968 - cdc_MSCD_LFK - INFO - seed ignored\n",
      "INFO:cdc_MSCD_LFK:seed ignored\n",
      "2020-04-22 21:42:45,969 - cdc_MSCD_LFK - INFO - Running /opt/gct/submodules/CommunityDetectionCodes/2013-mscd -g graph.edges -w -a LFK [1.0,2]\n",
      "INFO:cdc_MSCD_LFK:Running /opt/gct/submodules/CommunityDetectionCodes/2013-mscd -g graph.edges -w -a LFK [1.0,2]\n",
      "2020-04-22 21:42:45,976 - cdc_MSCD_LFK - INFO - Made 2 clusters with k=1\n",
      "INFO:cdc_MSCD_LFK:Made 2 clusters with k=1\n",
      "2020-04-22 21:42:45,978 - cdc_MSCD_LFK - INFO - Made 2 clusters with k=2\n",
      "INFO:cdc_MSCD_LFK:Made 2 clusters with k=2\n",
      "2020-04-22 21:42:45,979 - cdc_MSCD_LFK - INFO - Made 2 clusters in 0.005491 seconds\n",
      "INFO:cdc_MSCD_LFK:Made 2 clusters in 0.005491 seconds\n"
     ]
    },
    {
     "name": "stdout",
     "output_type": "stream",
     "text": [
      "runing  cdc_MSCD_LFK K_DoesAlgSupportWeightTest_uw1\n",
      "finished cdc_MSCD_LFK K_DoesAlgSupportWeightTest_uw1\n"
     ]
    },
    {
     "name": "stderr",
     "output_type": "stream",
     "text": [
      "2020-04-22 21:42:46,090 - cdc_MSCD_LFK2 - INFO - seed ignored\n",
      "INFO:cdc_MSCD_LFK2:seed ignored\n",
      "2020-04-22 21:42:46,091 - cdc_MSCD_LFK2 - INFO - Running /opt/gct/submodules/CommunityDetectionCodes/2013-mscd -g graph.edges -w -a LFK2 [1.0,2]\n",
      "INFO:cdc_MSCD_LFK2:Running /opt/gct/submodules/CommunityDetectionCodes/2013-mscd -g graph.edges -w -a LFK2 [1.0,2]\n",
      "2020-04-22 21:42:46,099 - cdc_MSCD_LFK2 - INFO - Made 2 clusters with k=1\n",
      "INFO:cdc_MSCD_LFK2:Made 2 clusters with k=1\n",
      "2020-04-22 21:42:46,100 - cdc_MSCD_LFK2 - INFO - Made 2 clusters with k=2\n",
      "INFO:cdc_MSCD_LFK2:Made 2 clusters with k=2\n",
      "2020-04-22 21:42:46,102 - cdc_MSCD_LFK2 - INFO - Made 2 clusters in 0.005969 seconds\n",
      "INFO:cdc_MSCD_LFK2:Made 2 clusters in 0.005969 seconds\n"
     ]
    },
    {
     "name": "stdout",
     "output_type": "stream",
     "text": [
      "runing  cdc_MSCD_LFK2 K_DoesAlgSupportWeightTest_w1\n",
      "finished cdc_MSCD_LFK2 K_DoesAlgSupportWeightTest_w1\n"
     ]
    },
    {
     "name": "stderr",
     "output_type": "stream",
     "text": [
      "2020-04-22 21:42:46,213 - cdc_MSCD_LFK2 - INFO - seed ignored\n",
      "INFO:cdc_MSCD_LFK2:seed ignored\n",
      "2020-04-22 21:42:46,214 - cdc_MSCD_LFK2 - INFO - Running /opt/gct/submodules/CommunityDetectionCodes/2013-mscd -g graph.edges -w -a LFK2 [1.0,2]\n",
      "INFO:cdc_MSCD_LFK2:Running /opt/gct/submodules/CommunityDetectionCodes/2013-mscd -g graph.edges -w -a LFK2 [1.0,2]\n",
      "2020-04-22 21:42:46,221 - cdc_MSCD_LFK2 - INFO - Made 2 clusters with k=1\n",
      "INFO:cdc_MSCD_LFK2:Made 2 clusters with k=1\n",
      "2020-04-22 21:42:46,223 - cdc_MSCD_LFK2 - INFO - Made 2 clusters with k=2\n",
      "INFO:cdc_MSCD_LFK2:Made 2 clusters with k=2\n",
      "2020-04-22 21:42:46,225 - cdc_MSCD_LFK2 - INFO - Made 2 clusters in 0.005861 seconds\n",
      "INFO:cdc_MSCD_LFK2:Made 2 clusters in 0.005861 seconds\n"
     ]
    },
    {
     "name": "stdout",
     "output_type": "stream",
     "text": [
      "runing  cdc_MSCD_LFK2 K_DoesAlgSupportWeightTest_uw1\n",
      "finished cdc_MSCD_LFK2 K_DoesAlgSupportWeightTest_uw1\n"
     ]
    },
    {
     "name": "stderr",
     "output_type": "stream",
     "text": [
      "2020-04-22 21:42:46,335 - cdc_MSCD_RB - INFO - seed ignored\n",
      "INFO:cdc_MSCD_RB:seed ignored\n",
      "2020-04-22 21:42:46,337 - cdc_MSCD_RB - INFO - Running /opt/gct/submodules/CommunityDetectionCodes/2013-mscd -g graph.edges -w -a RB [1.0,2]\n",
      "INFO:cdc_MSCD_RB:Running /opt/gct/submodules/CommunityDetectionCodes/2013-mscd -g graph.edges -w -a RB [1.0,2]\n",
      "2020-04-22 21:42:46,344 - cdc_MSCD_RB - INFO - Made 3 clusters with k=1\n",
      "INFO:cdc_MSCD_RB:Made 3 clusters with k=1\n",
      "2020-04-22 21:42:46,345 - cdc_MSCD_RB - INFO - Made 3 clusters with k=2\n",
      "INFO:cdc_MSCD_RB:Made 3 clusters with k=2\n",
      "2020-04-22 21:42:46,347 - cdc_MSCD_RB - INFO - Made 2 clusters in 0.005525 seconds\n",
      "INFO:cdc_MSCD_RB:Made 2 clusters in 0.005525 seconds\n"
     ]
    },
    {
     "name": "stdout",
     "output_type": "stream",
     "text": [
      "runing  cdc_MSCD_RB K_DoesAlgSupportWeightTest_w1\n",
      "finished cdc_MSCD_RB K_DoesAlgSupportWeightTest_w1\n"
     ]
    },
    {
     "name": "stderr",
     "output_type": "stream",
     "text": [
      "2020-04-22 21:42:46,458 - cdc_MSCD_RB - INFO - seed ignored\n",
      "INFO:cdc_MSCD_RB:seed ignored\n",
      "2020-04-22 21:42:46,459 - cdc_MSCD_RB - INFO - Running /opt/gct/submodules/CommunityDetectionCodes/2013-mscd -g graph.edges -w -a RB [1.0,2]\n",
      "INFO:cdc_MSCD_RB:Running /opt/gct/submodules/CommunityDetectionCodes/2013-mscd -g graph.edges -w -a RB [1.0,2]\n",
      "2020-04-22 21:42:46,466 - cdc_MSCD_RB - INFO - Made 2 clusters with k=1\n",
      "INFO:cdc_MSCD_RB:Made 2 clusters with k=1\n",
      "2020-04-22 21:42:46,467 - cdc_MSCD_RB - INFO - Made 2 clusters with k=2\n",
      "INFO:cdc_MSCD_RB:Made 2 clusters with k=2\n",
      "2020-04-22 21:42:46,469 - cdc_MSCD_RB - INFO - Made 2 clusters in 0.005456 seconds\n",
      "INFO:cdc_MSCD_RB:Made 2 clusters in 0.005456 seconds\n"
     ]
    },
    {
     "name": "stdout",
     "output_type": "stream",
     "text": [
      "runing  cdc_MSCD_RB K_DoesAlgSupportWeightTest_uw1\n",
      "finished cdc_MSCD_RB K_DoesAlgSupportWeightTest_uw1\n"
     ]
    },
    {
     "name": "stderr",
     "output_type": "stream",
     "text": [
      "2020-04-22 21:42:46,580 - cdc_MSCD_RN - INFO - seed ignored\n",
      "INFO:cdc_MSCD_RN:seed ignored\n",
      "2020-04-22 21:42:46,581 - cdc_MSCD_RN - INFO - Running /opt/gct/submodules/CommunityDetectionCodes/2013-mscd -g graph.edges -w -a RN [1.0,2]\n",
      "INFO:cdc_MSCD_RN:Running /opt/gct/submodules/CommunityDetectionCodes/2013-mscd -g graph.edges -w -a RN [1.0,2]\n",
      "2020-04-22 21:42:46,588 - cdc_MSCD_RN - INFO - Made 2 clusters with k=1\n",
      "INFO:cdc_MSCD_RN:Made 2 clusters with k=1\n",
      "2020-04-22 21:42:46,589 - cdc_MSCD_RN - INFO - Made 2 clusters with k=2\n",
      "INFO:cdc_MSCD_RN:Made 2 clusters with k=2\n",
      "2020-04-22 21:42:46,591 - cdc_MSCD_RN - INFO - Made 2 clusters in 0.005604 seconds\n",
      "INFO:cdc_MSCD_RN:Made 2 clusters in 0.005604 seconds\n"
     ]
    },
    {
     "name": "stdout",
     "output_type": "stream",
     "text": [
      "runing  cdc_MSCD_RN K_DoesAlgSupportWeightTest_w1\n",
      "finished cdc_MSCD_RN K_DoesAlgSupportWeightTest_w1\n"
     ]
    },
    {
     "name": "stderr",
     "output_type": "stream",
     "text": [
      "2020-04-22 21:42:46,702 - cdc_MSCD_RN - INFO - seed ignored\n",
      "INFO:cdc_MSCD_RN:seed ignored\n",
      "2020-04-22 21:42:46,703 - cdc_MSCD_RN - INFO - Running /opt/gct/submodules/CommunityDetectionCodes/2013-mscd -g graph.edges -w -a RN [1.0,2]\n",
      "INFO:cdc_MSCD_RN:Running /opt/gct/submodules/CommunityDetectionCodes/2013-mscd -g graph.edges -w -a RN [1.0,2]\n",
      "2020-04-22 21:42:46,710 - cdc_MSCD_RN - INFO - Made 2 clusters with k=1\n",
      "INFO:cdc_MSCD_RN:Made 2 clusters with k=1\n",
      "2020-04-22 21:42:46,712 - cdc_MSCD_RN - INFO - Made 2 clusters with k=2\n",
      "INFO:cdc_MSCD_RN:Made 2 clusters with k=2\n",
      "2020-04-22 21:42:46,714 - cdc_MSCD_RN - INFO - Made 2 clusters in 0.005688 seconds\n",
      "INFO:cdc_MSCD_RN:Made 2 clusters in 0.005688 seconds\n"
     ]
    },
    {
     "name": "stdout",
     "output_type": "stream",
     "text": [
      "runing  cdc_MSCD_RN K_DoesAlgSupportWeightTest_uw1\n",
      "finished cdc_MSCD_RN K_DoesAlgSupportWeightTest_uw1\n"
     ]
    },
    {
     "name": "stderr",
     "output_type": "stream",
     "text": [
      "2020-04-22 21:42:46,825 - cdc_MSCD_SO - INFO - seed ignored\n",
      "INFO:cdc_MSCD_SO:seed ignored\n",
      "2020-04-22 21:42:46,826 - cdc_MSCD_SO - INFO - Running /opt/gct/submodules/CommunityDetectionCodes/2013-mscd -g graph.edges -w -a SO [1.0,2]\n",
      "INFO:cdc_MSCD_SO:Running /opt/gct/submodules/CommunityDetectionCodes/2013-mscd -g graph.edges -w -a SO [1.0,2]\n",
      "2020-04-22 21:42:46,833 - cdc_MSCD_SO - INFO - Made 3 clusters with k=1\n",
      "INFO:cdc_MSCD_SO:Made 3 clusters with k=1\n",
      "2020-04-22 21:42:46,835 - cdc_MSCD_SO - INFO - Made 3 clusters with k=2\n",
      "INFO:cdc_MSCD_SO:Made 3 clusters with k=2\n",
      "2020-04-22 21:42:46,837 - cdc_MSCD_SO - INFO - Made 2 clusters in 0.006084 seconds\n",
      "INFO:cdc_MSCD_SO:Made 2 clusters in 0.006084 seconds\n"
     ]
    },
    {
     "name": "stdout",
     "output_type": "stream",
     "text": [
      "runing  cdc_MSCD_SO K_DoesAlgSupportWeightTest_w1\n",
      "finished cdc_MSCD_SO K_DoesAlgSupportWeightTest_w1\n"
     ]
    },
    {
     "name": "stderr",
     "output_type": "stream",
     "text": [
      "2020-04-22 21:42:46,948 - cdc_MSCD_SO - INFO - seed ignored\n",
      "INFO:cdc_MSCD_SO:seed ignored\n",
      "2020-04-22 21:42:46,949 - cdc_MSCD_SO - INFO - Running /opt/gct/submodules/CommunityDetectionCodes/2013-mscd -g graph.edges -w -a SO [1.0,2]\n",
      "INFO:cdc_MSCD_SO:Running /opt/gct/submodules/CommunityDetectionCodes/2013-mscd -g graph.edges -w -a SO [1.0,2]\n",
      "2020-04-22 21:42:46,957 - cdc_MSCD_SO - INFO - Made 2 clusters with k=1\n",
      "INFO:cdc_MSCD_SO:Made 2 clusters with k=1\n",
      "2020-04-22 21:42:46,958 - cdc_MSCD_SO - INFO - Made 2 clusters with k=2\n",
      "INFO:cdc_MSCD_SO:Made 2 clusters with k=2\n",
      "2020-04-22 21:42:46,960 - cdc_MSCD_SO - INFO - Made 2 clusters in 0.006131 seconds\n",
      "INFO:cdc_MSCD_SO:Made 2 clusters in 0.006131 seconds\n"
     ]
    },
    {
     "name": "stdout",
     "output_type": "stream",
     "text": [
      "runing  cdc_MSCD_SO K_DoesAlgSupportWeightTest_uw1\n",
      "finished cdc_MSCD_SO K_DoesAlgSupportWeightTest_uw1\n"
     ]
    },
    {
     "name": "stderr",
     "output_type": "stream",
     "text": [
      "2020-04-22 21:42:47,071 - cdc_MSCD_SOM - INFO - seed ignored\n",
      "INFO:cdc_MSCD_SOM:seed ignored\n",
      "2020-04-22 21:42:47,072 - cdc_MSCD_SOM - INFO - Running /opt/gct/submodules/CommunityDetectionCodes/2013-mscd -g graph.edges -w -a SOM [1.0,2]\n",
      "INFO:cdc_MSCD_SOM:Running /opt/gct/submodules/CommunityDetectionCodes/2013-mscd -g graph.edges -w -a SOM [1.0,2]\n",
      "2020-04-22 21:42:47,079 - cdc_MSCD_SOM - INFO - Made 3 clusters with k=1\n",
      "INFO:cdc_MSCD_SOM:Made 3 clusters with k=1\n",
      "2020-04-22 21:42:47,081 - cdc_MSCD_SOM - INFO - Made 3 clusters with k=2\n",
      "INFO:cdc_MSCD_SOM:Made 3 clusters with k=2\n",
      "2020-04-22 21:42:47,082 - cdc_MSCD_SOM - INFO - Made 2 clusters in 0.005703 seconds\n",
      "INFO:cdc_MSCD_SOM:Made 2 clusters in 0.005703 seconds\n"
     ]
    },
    {
     "name": "stdout",
     "output_type": "stream",
     "text": [
      "runing  cdc_MSCD_SOM K_DoesAlgSupportWeightTest_w1\n",
      "finished cdc_MSCD_SOM K_DoesAlgSupportWeightTest_w1\n"
     ]
    },
    {
     "name": "stderr",
     "output_type": "stream",
     "text": [
      "2020-04-22 21:42:47,192 - cdc_MSCD_SOM - INFO - seed ignored\n",
      "INFO:cdc_MSCD_SOM:seed ignored\n",
      "2020-04-22 21:42:47,193 - cdc_MSCD_SOM - INFO - Running /opt/gct/submodules/CommunityDetectionCodes/2013-mscd -g graph.edges -w -a SOM [1.0,2]\n",
      "INFO:cdc_MSCD_SOM:Running /opt/gct/submodules/CommunityDetectionCodes/2013-mscd -g graph.edges -w -a SOM [1.0,2]\n",
      "2020-04-22 21:42:47,200 - cdc_MSCD_SOM - INFO - Made 2 clusters with k=1\n",
      "INFO:cdc_MSCD_SOM:Made 2 clusters with k=1\n",
      "2020-04-22 21:42:47,201 - cdc_MSCD_SOM - INFO - Made 2 clusters with k=2\n",
      "INFO:cdc_MSCD_SOM:Made 2 clusters with k=2\n",
      "2020-04-22 21:42:47,203 - cdc_MSCD_SOM - INFO - Made 2 clusters in 0.005639 seconds\n",
      "INFO:cdc_MSCD_SOM:Made 2 clusters in 0.005639 seconds\n"
     ]
    },
    {
     "name": "stdout",
     "output_type": "stream",
     "text": [
      "runing  cdc_MSCD_SOM K_DoesAlgSupportWeightTest_uw1\n",
      "finished cdc_MSCD_SOM K_DoesAlgSupportWeightTest_uw1\n"
     ]
    },
    {
     "name": "stderr",
     "output_type": "stream",
     "text": [
      "2020-04-22 21:42:47,314 - cdc_ParCPM - INFO - seed ignored\n",
      "INFO:cdc_ParCPM:seed ignored\n",
      "2020-04-22 21:42:47,315 - cdc_ParCPM - INFO - Running /opt/gct/submodules/CommunityDetectionCodes/max-clique edges.txt\n",
      "INFO:cdc_ParCPM:Running /opt/gct/submodules/CommunityDetectionCodes/max-clique edges.txt\n",
      "2020-04-22 21:42:47,321 - cdc_ParCPM - INFO - Take 0.004616975784301758 seconds for step 1\n",
      "INFO:cdc_ParCPM:Take 0.004616975784301758 seconds for step 1\n",
      "2020-04-22 21:42:47,322 - cdc_ParCPM - INFO - Running /opt/gct/submodules/CommunityDetectionCodes/2012-ParCPM -P 7 -W 30 edges.txt.mcliques\n",
      "INFO:cdc_ParCPM:Running /opt/gct/submodules/CommunityDetectionCodes/2012-ParCPM -P 7 -W 30 edges.txt.mcliques\n",
      "2020-04-22 21:42:47,333 - cdc_ParCPM - INFO - Made 2 clusters with k=3\n",
      "INFO:cdc_ParCPM:Made 2 clusters with k=3\n",
      "2020-04-22 21:42:47,334 - cdc_ParCPM - INFO - Made 1 clusters with k=4\n",
      "INFO:cdc_ParCPM:Made 1 clusters with k=4\n",
      "2020-04-22 21:42:47,335 - cdc_ParCPM - INFO - Made 1 clusters with k=6\n",
      "INFO:cdc_ParCPM:Made 1 clusters with k=6\n",
      "2020-04-22 21:42:47,338 - cdc_ParCPM - INFO - Made 1 clusters with k=5\n",
      "INFO:cdc_ParCPM:Made 1 clusters with k=5\n",
      "2020-04-22 21:42:47,339 - cdc_ParCPM - INFO - Made 4 clusters in 0.005299 seconds\n",
      "INFO:cdc_ParCPM:Made 4 clusters in 0.005299 seconds\n"
     ]
    },
    {
     "name": "stdout",
     "output_type": "stream",
     "text": [
      "runing  cdc_ParCPM K_DoesAlgSupportWeightTest_w1\n",
      "finished cdc_ParCPM K_DoesAlgSupportWeightTest_w1\n"
     ]
    },
    {
     "name": "stderr",
     "output_type": "stream",
     "text": [
      "2020-04-22 21:42:47,450 - cdc_ParCPM - INFO - seed ignored\n",
      "INFO:cdc_ParCPM:seed ignored\n",
      "2020-04-22 21:42:47,451 - cdc_ParCPM - INFO - Running /opt/gct/submodules/CommunityDetectionCodes/max-clique edges.txt\n",
      "INFO:cdc_ParCPM:Running /opt/gct/submodules/CommunityDetectionCodes/max-clique edges.txt\n",
      "2020-04-22 21:42:47,458 - cdc_ParCPM - INFO - Take 0.004669904708862305 seconds for step 1\n",
      "INFO:cdc_ParCPM:Take 0.004669904708862305 seconds for step 1\n",
      "2020-04-22 21:42:47,459 - cdc_ParCPM - INFO - Running /opt/gct/submodules/CommunityDetectionCodes/2012-ParCPM -P 7 -W 30 edges.txt.mcliques\n",
      "INFO:cdc_ParCPM:Running /opt/gct/submodules/CommunityDetectionCodes/2012-ParCPM -P 7 -W 30 edges.txt.mcliques\n",
      "2020-04-22 21:42:47,469 - cdc_ParCPM - INFO - Made 2 clusters with k=3\n",
      "INFO:cdc_ParCPM:Made 2 clusters with k=3\n",
      "2020-04-22 21:42:47,470 - cdc_ParCPM - INFO - Made 1 clusters with k=5\n",
      "INFO:cdc_ParCPM:Made 1 clusters with k=5\n",
      "2020-04-22 21:42:47,472 - cdc_ParCPM - INFO - Made 1 clusters with k=4\n",
      "INFO:cdc_ParCPM:Made 1 clusters with k=4\n",
      "2020-04-22 21:42:47,473 - cdc_ParCPM - INFO - Made 1 clusters with k=6\n",
      "INFO:cdc_ParCPM:Made 1 clusters with k=6\n",
      "2020-04-22 21:42:47,475 - cdc_ParCPM - INFO - Made 4 clusters in 0.005288 seconds\n",
      "INFO:cdc_ParCPM:Made 4 clusters in 0.005288 seconds\n"
     ]
    },
    {
     "name": "stdout",
     "output_type": "stream",
     "text": [
      "runing  cdc_ParCPM K_DoesAlgSupportWeightTest_uw1\n",
      "finished cdc_ParCPM K_DoesAlgSupportWeightTest_uw1\n"
     ]
    },
    {
     "name": "stderr",
     "output_type": "stream",
     "text": [
      "2020-04-22 21:42:47,586 - Dataset:K_DoesAlgSupportWeightTest_w1 - INFO - reading /data/data/K_DoesAlgSupportWeightTest_w1/edges.parq\n",
      "INFO:Dataset:K_DoesAlgSupportWeightTest_w1:reading /data/data/K_DoesAlgSupportWeightTest_w1/edges.parq\n",
      "2020-04-22 21:42:47,591 - cdc_SVINET - INFO - Running /opt/gct/submodules/CommunityDetectionCodes/2013-svinet -file edges.txt -n 9 -k 9 -max-iterations 1000 -weighted -findk && (cat n*findk/communities_size.txt | wc -l  > num_cluster.txt) \n",
      "INFO:cdc_SVINET:Running /opt/gct/submodules/CommunityDetectionCodes/2013-svinet -file edges.txt -n 9 -k 9 -max-iterations 1000 -weighted -findk && (cat n*findk/communities_size.txt | wc -l  > num_cluster.txt) \n",
      "2020-04-22 21:42:47,601 - cdc_SVINET - INFO - Find k=6  in 0.008963 seconds\n",
      "INFO:cdc_SVINET:Find k=6  in 0.008963 seconds\n",
      "2020-04-22 21:42:47,603 - cdc_SVINET - INFO - Running /opt/gct/submodules/CommunityDetectionCodes/2013-svinet -file edges.txt -n 9 -k 6 -weighted -link-sampling -max-iterations 1000 -seed 123\n",
      "INFO:cdc_SVINET:Running /opt/gct/submodules/CommunityDetectionCodes/2013-svinet -file edges.txt -n 9 -k 6 -weighted -link-sampling -max-iterations 1000 -seed 123\n"
     ]
    },
    {
     "name": "stdout",
     "output_type": "stream",
     "text": [
      "runing  cdc_SVINET K_DoesAlgSupportWeightTest_w1\n"
     ]
    },
    {
     "name": "stderr",
     "output_type": "stream",
     "text": [
      "2020-04-22 21:42:50,841 - cdc_SVINET - INFO - read output form /tmp/tmp9ryvp_l8/n9-k6-mmsb-seed123-linksampling/communities.txt\n",
      "INFO:cdc_SVINET:read output form /tmp/tmp9ryvp_l8/n9-k6-mmsb-seed123-linksampling/communities.txt\n",
      "2020-04-22 21:42:50,843 - cdc_SVINET - INFO - Made 3 clusters in 3.236386 seconds\n",
      "INFO:cdc_SVINET:Made 3 clusters in 3.236386 seconds\n"
     ]
    },
    {
     "name": "stdout",
     "output_type": "stream",
     "text": [
      "finished cdc_SVINET K_DoesAlgSupportWeightTest_w1\n"
     ]
    },
    {
     "name": "stderr",
     "output_type": "stream",
     "text": [
      "2020-04-22 21:42:50,957 - Dataset:K_DoesAlgSupportWeightTest_uw1 - INFO - reading /data/data/K_DoesAlgSupportWeightTest_uw1/edges.parq\n",
      "INFO:Dataset:K_DoesAlgSupportWeightTest_uw1:reading /data/data/K_DoesAlgSupportWeightTest_uw1/edges.parq\n",
      "2020-04-22 21:42:50,963 - cdc_SVINET - INFO - Running /opt/gct/submodules/CommunityDetectionCodes/2013-svinet -file edges.txt -n 9 -k 9 -max-iterations 1000 -findk && (cat n*findk/communities_size.txt | wc -l  > num_cluster.txt) \n",
      "INFO:cdc_SVINET:Running /opt/gct/submodules/CommunityDetectionCodes/2013-svinet -file edges.txt -n 9 -k 9 -max-iterations 1000 -findk && (cat n*findk/communities_size.txt | wc -l  > num_cluster.txt) \n",
      "2020-04-22 21:42:50,974 - cdc_SVINET - INFO - Find k=6  in 0.009929 seconds\n",
      "INFO:cdc_SVINET:Find k=6  in 0.009929 seconds\n",
      "2020-04-22 21:42:50,976 - cdc_SVINET - INFO - Running /opt/gct/submodules/CommunityDetectionCodes/2013-svinet -file edges.txt -n 9 -k 6 -link-sampling -max-iterations 1000 -seed 123\n",
      "INFO:cdc_SVINET:Running /opt/gct/submodules/CommunityDetectionCodes/2013-svinet -file edges.txt -n 9 -k 6 -link-sampling -max-iterations 1000 -seed 123\n"
     ]
    },
    {
     "name": "stdout",
     "output_type": "stream",
     "text": [
      "runing  cdc_SVINET K_DoesAlgSupportWeightTest_uw1\n"
     ]
    },
    {
     "name": "stderr",
     "output_type": "stream",
     "text": [
      "2020-04-22 21:42:54,168 - cdc_SVINET - INFO - read output form /tmp/tmp9ccu12rr/n9-k6-mmsb-seed123-linksampling/communities.txt\n",
      "INFO:cdc_SVINET:read output form /tmp/tmp9ccu12rr/n9-k6-mmsb-seed123-linksampling/communities.txt\n",
      "2020-04-22 21:42:54,170 - cdc_SVINET - INFO - Made 3 clusters in 3.190658 seconds\n",
      "INFO:cdc_SVINET:Made 3 clusters in 3.190658 seconds\n"
     ]
    },
    {
     "name": "stdout",
     "output_type": "stream",
     "text": [
      "finished cdc_SVINET K_DoesAlgSupportWeightTest_uw1\n"
     ]
    },
    {
     "name": "stderr",
     "output_type": "stream",
     "text": [
      "2020-04-22 21:42:54,284 - cdc_TopGC - INFO - seed ignored\n",
      "INFO:cdc_TopGC:seed ignored\n",
      "2020-04-22 21:42:54,285 - Dataset:K_DoesAlgSupportWeightTest_w1 - INFO - Running cat /data/data/K_DoesAlgSupportWeightTest_w1/edges.txt|sort -k1,1 -k2,2 -n | /opt/gct/submodules/CommunityDetectionCodes/mkidx >  /data/data/K_DoesAlgSupportWeightTest_w1/topgc.txt || rm /data/data/K_DoesAlgSupportWeightTest_w1/topgc.txt\n",
      "INFO:Dataset:K_DoesAlgSupportWeightTest_w1:Running cat /data/data/K_DoesAlgSupportWeightTest_w1/edges.txt|sort -k1,1 -k2,2 -n | /opt/gct/submodules/CommunityDetectionCodes/mkidx >  /data/data/K_DoesAlgSupportWeightTest_w1/topgc.txt || rm /data/data/K_DoesAlgSupportWeightTest_w1/topgc.txt\n",
      "2020-04-22 21:42:54,295 - cdc_TopGC - INFO - Running java -cp /opt/gct/submodules/CommunityDetectionCodes/topgc-1.0-SNAPSHOT.jar TopGC -i edges.topgc\n",
      "INFO:cdc_TopGC:Running java -cp /opt/gct/submodules/CommunityDetectionCodes/topgc-1.0-SNAPSHOT.jar TopGC -i edges.topgc\n"
     ]
    },
    {
     "name": "stdout",
     "output_type": "stream",
     "text": [
      "runing  cdc_TopGC K_DoesAlgSupportWeightTest_w1\n"
     ]
    },
    {
     "name": "stderr",
     "output_type": "stream",
     "text": [
      "2020-04-22 21:42:54,958 - cdc_TopGC - INFO - Made 0 clusters in 0.660774 seconds\n",
      "INFO:cdc_TopGC:Made 0 clusters in 0.660774 seconds\n"
     ]
    },
    {
     "name": "stdout",
     "output_type": "stream",
     "text": [
      "finished cdc_TopGC K_DoesAlgSupportWeightTest_w1\n"
     ]
    },
    {
     "name": "stderr",
     "output_type": "stream",
     "text": [
      "2020-04-22 21:42:55,071 - cdc_TopGC - INFO - seed ignored\n",
      "INFO:cdc_TopGC:seed ignored\n",
      "2020-04-22 21:42:55,073 - Dataset:K_DoesAlgSupportWeightTest_uw1 - INFO - Running cat /data/data/K_DoesAlgSupportWeightTest_uw1/edges.txt|sort -k1,1 -k2,2 -n | /opt/gct/submodules/CommunityDetectionCodes/mkidx >  /data/data/K_DoesAlgSupportWeightTest_uw1/topgc.txt || rm /data/data/K_DoesAlgSupportWeightTest_uw1/topgc.txt\n",
      "INFO:Dataset:K_DoesAlgSupportWeightTest_uw1:Running cat /data/data/K_DoesAlgSupportWeightTest_uw1/edges.txt|sort -k1,1 -k2,2 -n | /opt/gct/submodules/CommunityDetectionCodes/mkidx >  /data/data/K_DoesAlgSupportWeightTest_uw1/topgc.txt || rm /data/data/K_DoesAlgSupportWeightTest_uw1/topgc.txt\n",
      "2020-04-22 21:42:55,082 - cdc_TopGC - INFO - Running java -cp /opt/gct/submodules/CommunityDetectionCodes/topgc-1.0-SNAPSHOT.jar TopGC -i edges.topgc\n",
      "INFO:cdc_TopGC:Running java -cp /opt/gct/submodules/CommunityDetectionCodes/topgc-1.0-SNAPSHOT.jar TopGC -i edges.topgc\n"
     ]
    },
    {
     "name": "stdout",
     "output_type": "stream",
     "text": [
      "runing  cdc_TopGC K_DoesAlgSupportWeightTest_uw1\n"
     ]
    },
    {
     "name": "stderr",
     "output_type": "stream",
     "text": [
      "2020-04-22 21:42:55,744 - cdc_TopGC - INFO - Made 1 clusters in 0.660444 seconds\n",
      "INFO:cdc_TopGC:Made 1 clusters in 0.660444 seconds\n"
     ]
    },
    {
     "name": "stdout",
     "output_type": "stream",
     "text": [
      "finished cdc_TopGC K_DoesAlgSupportWeightTest_uw1\n"
     ]
    },
    {
     "name": "stderr",
     "output_type": "stream",
     "text": [
      "2020-04-22 21:42:55,857 - cdc_clique_modularity - INFO - seed ignored\n",
      "INFO:cdc_clique_modularity:seed ignored\n",
      "2020-04-22 21:42:55,858 - cdc_clique_modularity - INFO - Running java -cp /opt/gct/submodules/CommunityDetectionCodes/conga-1.0-SNAPSHOT.jar clique_modularity.CM edges.txt -m clique_modularity.algorithm.BK.BK -c 10\n",
      "INFO:cdc_clique_modularity:Running java -cp /opt/gct/submodules/CommunityDetectionCodes/conga-1.0-SNAPSHOT.jar clique_modularity.CM edges.txt -m clique_modularity.algorithm.BK.BK -c 10\n"
     ]
    },
    {
     "name": "stdout",
     "output_type": "stream",
     "text": [
      "runing  cdc_clique_modularity K_DoesAlgSupportWeightTest_w1\n"
     ]
    },
    {
     "name": "stderr",
     "output_type": "stream",
     "text": [
      "2020-04-22 21:42:55,949 - cdc_clique_modularity - INFO - Made 2 clusters in 0.089403 seconds\n",
      "INFO:cdc_clique_modularity:Made 2 clusters in 0.089403 seconds\n"
     ]
    },
    {
     "name": "stdout",
     "output_type": "stream",
     "text": [
      "finished cdc_clique_modularity K_DoesAlgSupportWeightTest_w1\n"
     ]
    },
    {
     "name": "stderr",
     "output_type": "stream",
     "text": [
      "2020-04-22 21:42:56,061 - cdc_clique_modularity - INFO - seed ignored\n",
      "INFO:cdc_clique_modularity:seed ignored\n",
      "2020-04-22 21:42:56,062 - cdc_clique_modularity - INFO - Running java -cp /opt/gct/submodules/CommunityDetectionCodes/conga-1.0-SNAPSHOT.jar clique_modularity.CM edges.txt -m clique_modularity.algorithm.BK.BK -c 10\n",
      "INFO:cdc_clique_modularity:Running java -cp /opt/gct/submodules/CommunityDetectionCodes/conga-1.0-SNAPSHOT.jar clique_modularity.CM edges.txt -m clique_modularity.algorithm.BK.BK -c 10\n"
     ]
    },
    {
     "name": "stdout",
     "output_type": "stream",
     "text": [
      "runing  cdc_clique_modularity K_DoesAlgSupportWeightTest_uw1\n"
     ]
    },
    {
     "name": "stderr",
     "output_type": "stream",
     "text": [
      "2020-04-22 21:42:56,153 - cdc_clique_modularity - INFO - Made 2 clusters in 0.089155 seconds\n",
      "INFO:cdc_clique_modularity:Made 2 clusters in 0.089155 seconds\n"
     ]
    },
    {
     "name": "stdout",
     "output_type": "stream",
     "text": [
      "finished cdc_clique_modularity K_DoesAlgSupportWeightTest_uw1\n"
     ]
    },
    {
     "name": "stderr",
     "output_type": "stream",
     "text": [
      "2020-04-22 21:42:56,265 - cgcc_CGGC - INFO - Running /opt/gct/submodules/CGGC/rgmc --seed=123 --inpfmt=e --outfile=output --outfmt=l /data/data/K_DoesAlgSupportWeightTest_w1/edges.txt\n",
      "INFO:cgcc_CGGC:Running /opt/gct/submodules/CGGC/rgmc --seed=123 --inpfmt=e --outfile=output --outfmt=l /data/data/K_DoesAlgSupportWeightTest_w1/edges.txt\n",
      "2020-04-22 21:42:56,273 - cgcc_CGGC - INFO - Made 1 clusters in 0.006489 seconds\n",
      "INFO:cgcc_CGGC:Made 1 clusters in 0.006489 seconds\n"
     ]
    },
    {
     "name": "stdout",
     "output_type": "stream",
     "text": [
      "runing  cgcc_CGGC K_DoesAlgSupportWeightTest_w1\n",
      "finished cgcc_CGGC K_DoesAlgSupportWeightTest_w1\n"
     ]
    },
    {
     "name": "stderr",
     "output_type": "stream",
     "text": [
      "2020-04-22 21:42:56,385 - cgcc_CGGC - INFO - Running /opt/gct/submodules/CGGC/rgmc --seed=123 --inpfmt=e --outfile=output --outfmt=l /data/data/K_DoesAlgSupportWeightTest_uw1/edges.txt\n",
      "INFO:cgcc_CGGC:Running /opt/gct/submodules/CGGC/rgmc --seed=123 --inpfmt=e --outfile=output --outfmt=l /data/data/K_DoesAlgSupportWeightTest_uw1/edges.txt\n",
      "2020-04-22 21:42:56,393 - cgcc_CGGC - INFO - Made 1 clusters in 0.007195 seconds\n",
      "INFO:cgcc_CGGC:Made 1 clusters in 0.007195 seconds\n"
     ]
    },
    {
     "name": "stdout",
     "output_type": "stream",
     "text": [
      "runing  cgcc_CGGC K_DoesAlgSupportWeightTest_uw1\n",
      "finished cgcc_CGGC K_DoesAlgSupportWeightTest_uw1\n"
     ]
    },
    {
     "name": "stderr",
     "output_type": "stream",
     "text": [
      "2020-04-22 21:42:56,505 - dct_dlplm - WARNING - dct assumes node starts with zero and is continuous\n",
      "WARNING:dct_dlplm:dct assumes node starts with zero and is continuous\n",
      "2020-04-22 21:42:56,507 - dct_dlplm - INFO - Running /opt/gct/submodules/distributed_clustering_thrill/dlplm /tmp/tmp62bf05xz/edges.txt\n",
      "INFO:dct_dlplm:Running /opt/gct/submodules/distributed_clustering_thrill/dlplm /tmp/tmp62bf05xz/edges.txt\n"
     ]
    },
    {
     "name": "stdout",
     "output_type": "stream",
     "text": [
      "runing  dct_dlplm K_DoesAlgSupportWeightTest_w1\n"
     ]
    },
    {
     "name": "stderr",
     "output_type": "stream",
     "text": [
      "2020-04-22 21:42:56,615 - dct_dlplm - INFO - Made 2 clusters in 0.091524 seconds\n",
      "INFO:dct_dlplm:Made 2 clusters in 0.091524 seconds\n"
     ]
    },
    {
     "name": "stdout",
     "output_type": "stream",
     "text": [
      "finished dct_dlplm K_DoesAlgSupportWeightTest_w1\n"
     ]
    },
    {
     "name": "stderr",
     "output_type": "stream",
     "text": [
      "2020-04-22 21:42:56,728 - dct_dlplm - WARNING - dct assumes node starts with zero and is continuous\n",
      "WARNING:dct_dlplm:dct assumes node starts with zero and is continuous\n",
      "2020-04-22 21:42:56,729 - dct_dlplm - INFO - Running /opt/gct/submodules/distributed_clustering_thrill/dlplm /tmp/tmpolg3_vtw/edges.txt\n",
      "INFO:dct_dlplm:Running /opt/gct/submodules/distributed_clustering_thrill/dlplm /tmp/tmpolg3_vtw/edges.txt\n"
     ]
    },
    {
     "name": "stdout",
     "output_type": "stream",
     "text": [
      "runing  dct_dlplm K_DoesAlgSupportWeightTest_uw1\n"
     ]
    },
    {
     "name": "stderr",
     "output_type": "stream",
     "text": [
      "2020-04-22 21:42:56,851 - dct_dlplm - INFO - Made 2 clusters in 0.106041 seconds\n",
      "INFO:dct_dlplm:Made 2 clusters in 0.106041 seconds\n"
     ]
    },
    {
     "name": "stdout",
     "output_type": "stream",
     "text": [
      "finished dct_dlplm K_DoesAlgSupportWeightTest_uw1\n"
     ]
    },
    {
     "name": "stderr",
     "output_type": "stream",
     "text": [
      "2020-04-22 21:42:56,965 - dct_dlslm - WARNING - dct assumes node starts with zero and is continuous\n",
      "WARNING:dct_dlslm:dct assumes node starts with zero and is continuous\n",
      "2020-04-22 21:42:56,966 - dct_dlslm - INFO - Running /opt/gct/submodules/distributed_clustering_thrill/dlplm /tmp/tmp_nvkuxs6/edges.txt\n",
      "INFO:dct_dlslm:Running /opt/gct/submodules/distributed_clustering_thrill/dlplm /tmp/tmp_nvkuxs6/edges.txt\n"
     ]
    },
    {
     "name": "stdout",
     "output_type": "stream",
     "text": [
      "runing  dct_dlslm K_DoesAlgSupportWeightTest_w1\n"
     ]
    },
    {
     "name": "stderr",
     "output_type": "stream",
     "text": [
      "2020-04-22 21:42:57,066 - dct_dlslm - INFO - Made 2 clusters in 0.079708 seconds\n",
      "INFO:dct_dlslm:Made 2 clusters in 0.079708 seconds\n"
     ]
    },
    {
     "name": "stdout",
     "output_type": "stream",
     "text": [
      "finished dct_dlslm K_DoesAlgSupportWeightTest_w1\n"
     ]
    },
    {
     "name": "stderr",
     "output_type": "stream",
     "text": [
      "2020-04-22 21:42:57,179 - dct_dlslm - WARNING - dct assumes node starts with zero and is continuous\n",
      "WARNING:dct_dlslm:dct assumes node starts with zero and is continuous\n",
      "2020-04-22 21:42:57,181 - dct_dlslm - INFO - Running /opt/gct/submodules/distributed_clustering_thrill/dlplm /tmp/tmpwfqyljnb/edges.txt\n",
      "INFO:dct_dlslm:Running /opt/gct/submodules/distributed_clustering_thrill/dlplm /tmp/tmpwfqyljnb/edges.txt\n"
     ]
    },
    {
     "name": "stdout",
     "output_type": "stream",
     "text": [
      "runing  dct_dlslm K_DoesAlgSupportWeightTest_uw1\n"
     ]
    },
    {
     "name": "stderr",
     "output_type": "stream",
     "text": [
      "2020-04-22 21:42:57,301 - dct_dlslm - INFO - Made 2 clusters in 0.104495 seconds\n",
      "INFO:dct_dlslm:Made 2 clusters in 0.104495 seconds\n"
     ]
    },
    {
     "name": "stdout",
     "output_type": "stream",
     "text": [
      "finished dct_dlslm K_DoesAlgSupportWeightTest_uw1\n"
     ]
    },
    {
     "name": "stderr",
     "output_type": "stream",
     "text": [
      "2020-04-22 21:42:57,414 - dct_dlslm_map_eq - WARNING - dct assumes node starts with zero and is continuous\n",
      "WARNING:dct_dlslm_map_eq:dct assumes node starts with zero and is continuous\n",
      "2020-04-22 21:42:57,415 - dct_dlslm_map_eq - INFO - Running /opt/gct/submodules/distributed_clustering_thrill/dlslm_map_eq /tmp/tmp3bwjxfqj/edges.txt\n",
      "INFO:dct_dlslm_map_eq:Running /opt/gct/submodules/distributed_clustering_thrill/dlslm_map_eq /tmp/tmp3bwjxfqj/edges.txt\n"
     ]
    },
    {
     "name": "stdout",
     "output_type": "stream",
     "text": [
      "runing  dct_dlslm_map_eq K_DoesAlgSupportWeightTest_w1\n"
     ]
    },
    {
     "name": "stderr",
     "output_type": "stream",
     "text": [
      "2020-04-22 21:42:57,622 - dct_dlslm_map_eq - INFO - Made 3 clusters in 0.189962 seconds\n",
      "INFO:dct_dlslm_map_eq:Made 3 clusters in 0.189962 seconds\n"
     ]
    },
    {
     "name": "stdout",
     "output_type": "stream",
     "text": [
      "finished dct_dlslm_map_eq K_DoesAlgSupportWeightTest_w1\n"
     ]
    },
    {
     "name": "stderr",
     "output_type": "stream",
     "text": [
      "2020-04-22 21:42:57,735 - dct_dlslm_map_eq - WARNING - dct assumes node starts with zero and is continuous\n",
      "WARNING:dct_dlslm_map_eq:dct assumes node starts with zero and is continuous\n",
      "2020-04-22 21:42:57,736 - dct_dlslm_map_eq - INFO - Running /opt/gct/submodules/distributed_clustering_thrill/dlslm_map_eq /tmp/tmp__ifvo3r/edges.txt\n",
      "INFO:dct_dlslm_map_eq:Running /opt/gct/submodules/distributed_clustering_thrill/dlslm_map_eq /tmp/tmp__ifvo3r/edges.txt\n"
     ]
    },
    {
     "name": "stdout",
     "output_type": "stream",
     "text": [
      "runing  dct_dlslm_map_eq K_DoesAlgSupportWeightTest_uw1\n"
     ]
    },
    {
     "name": "stderr",
     "output_type": "stream",
     "text": [
      "2020-04-22 21:42:57,932 - dct_dlslm_map_eq - INFO - Made 3 clusters in 0.179070 seconds\n",
      "INFO:dct_dlslm_map_eq:Made 3 clusters in 0.179070 seconds\n"
     ]
    },
    {
     "name": "stdout",
     "output_type": "stream",
     "text": [
      "finished dct_dlslm_map_eq K_DoesAlgSupportWeightTest_uw1\n"
     ]
    },
    {
     "name": "stderr",
     "output_type": "stream",
     "text": [
      "2020-04-22 21:42:58,045 - dct_dlslm_no_contraction - WARNING - dct assumes node starts with zero and is continuous\n",
      "WARNING:dct_dlslm_no_contraction:dct assumes node starts with zero and is continuous\n",
      "2020-04-22 21:42:58,047 - dct_dlslm_no_contraction - INFO - Running /opt/gct/submodules/distributed_clustering_thrill/dlslm_no_contraction /tmp/tmp2lwq1ej6/edges.txt\n",
      "INFO:dct_dlslm_no_contraction:Running /opt/gct/submodules/distributed_clustering_thrill/dlslm_no_contraction /tmp/tmp2lwq1ej6/edges.txt\n"
     ]
    },
    {
     "name": "stdout",
     "output_type": "stream",
     "text": [
      "runing  dct_dlslm_no_contraction K_DoesAlgSupportWeightTest_w1\n"
     ]
    },
    {
     "name": "stderr",
     "output_type": "stream",
     "text": [
      "2020-04-22 21:42:58,204 - dct_dlslm_no_contraction - INFO - Made 3 clusters in 0.141301 seconds\n",
      "INFO:dct_dlslm_no_contraction:Made 3 clusters in 0.141301 seconds\n"
     ]
    },
    {
     "name": "stdout",
     "output_type": "stream",
     "text": [
      "finished dct_dlslm_no_contraction K_DoesAlgSupportWeightTest_w1\n"
     ]
    },
    {
     "name": "stderr",
     "output_type": "stream",
     "text": [
      "2020-04-22 21:42:58,317 - dct_dlslm_no_contraction - WARNING - dct assumes node starts with zero and is continuous\n",
      "WARNING:dct_dlslm_no_contraction:dct assumes node starts with zero and is continuous\n",
      "2020-04-22 21:42:58,319 - dct_dlslm_no_contraction - INFO - Running /opt/gct/submodules/distributed_clustering_thrill/dlslm_no_contraction /tmp/tmpbjiiv3fx/edges.txt\n",
      "INFO:dct_dlslm_no_contraction:Running /opt/gct/submodules/distributed_clustering_thrill/dlslm_no_contraction /tmp/tmpbjiiv3fx/edges.txt\n"
     ]
    },
    {
     "name": "stdout",
     "output_type": "stream",
     "text": [
      "runing  dct_dlslm_no_contraction K_DoesAlgSupportWeightTest_uw1\n"
     ]
    },
    {
     "name": "stderr",
     "output_type": "stream",
     "text": [
      "2020-04-22 21:42:58,532 - dct_dlslm_no_contraction - INFO - Made 3 clusters in 0.196810 seconds\n",
      "INFO:dct_dlslm_no_contraction:Made 3 clusters in 0.196810 seconds\n"
     ]
    },
    {
     "name": "stdout",
     "output_type": "stream",
     "text": [
      "finished dct_dlslm_no_contraction K_DoesAlgSupportWeightTest_uw1\n"
     ]
    },
    {
     "name": "stderr",
     "output_type": "stream",
     "text": [
      "2020-04-22 21:42:58,646 - dct_dlslm_with_seq - WARNING - dct assumes node starts with zero and is continuous\n",
      "WARNING:dct_dlslm_with_seq:dct assumes node starts with zero and is continuous\n",
      "2020-04-22 21:42:58,647 - dct_dlslm_with_seq - INFO - Running /opt/gct/submodules/distributed_clustering_thrill/dlslm_with_seq /tmp/tmprjrhfx3i/edges.txt\n",
      "INFO:dct_dlslm_with_seq:Running /opt/gct/submodules/distributed_clustering_thrill/dlslm_with_seq /tmp/tmprjrhfx3i/edges.txt\n"
     ]
    },
    {
     "name": "stdout",
     "output_type": "stream",
     "text": [
      "runing  dct_dlslm_with_seq K_DoesAlgSupportWeightTest_w1\n"
     ]
    },
    {
     "name": "stderr",
     "output_type": "stream",
     "text": [
      "2020-04-22 21:42:58,766 - dct_dlslm_with_seq - INFO - Made 2 clusters in 0.103056 seconds\n",
      "INFO:dct_dlslm_with_seq:Made 2 clusters in 0.103056 seconds\n"
     ]
    },
    {
     "name": "stdout",
     "output_type": "stream",
     "text": [
      "finished dct_dlslm_with_seq K_DoesAlgSupportWeightTest_w1\n"
     ]
    },
    {
     "name": "stderr",
     "output_type": "stream",
     "text": [
      "2020-04-22 21:42:58,880 - dct_dlslm_with_seq - WARNING - dct assumes node starts with zero and is continuous\n",
      "WARNING:dct_dlslm_with_seq:dct assumes node starts with zero and is continuous\n",
      "2020-04-22 21:42:58,881 - dct_dlslm_with_seq - INFO - Running /opt/gct/submodules/distributed_clustering_thrill/dlslm_with_seq /tmp/tmpm170oge0/edges.txt\n",
      "INFO:dct_dlslm_with_seq:Running /opt/gct/submodules/distributed_clustering_thrill/dlslm_with_seq /tmp/tmpm170oge0/edges.txt\n"
     ]
    },
    {
     "name": "stdout",
     "output_type": "stream",
     "text": [
      "runing  dct_dlslm_with_seq K_DoesAlgSupportWeightTest_uw1\n"
     ]
    },
    {
     "name": "stderr",
     "output_type": "stream",
     "text": [
      "2020-04-22 21:42:59,000 - dct_dlslm_with_seq - INFO - Made 2 clusters in 0.102652 seconds\n",
      "INFO:dct_dlslm_with_seq:Made 2 clusters in 0.102652 seconds\n"
     ]
    },
    {
     "name": "stdout",
     "output_type": "stream",
     "text": [
      "finished dct_dlslm_with_seq K_DoesAlgSupportWeightTest_uw1\n"
     ]
    },
    {
     "name": "stderr",
     "output_type": "stream",
     "text": [
      "2020-04-22 21:42:59,113 - dct_infomap - WARNING - dct::seq_louvain assumes node starts with zero and is continuous\n",
      "WARNING:dct_infomap:dct::seq_louvain assumes node starts with zero and is continuous\n",
      "2020-04-22 21:42:59,115 - dct_infomap - INFO - Running /opt/gct/submodules/distributed_clustering_thrill/infomap -f -s 123 -o output /tmp/tmpgr50d8jm/edges.txt\n",
      "INFO:dct_infomap:Running /opt/gct/submodules/distributed_clustering_thrill/infomap -f -s 123 -o output /tmp/tmpgr50d8jm/edges.txt\n",
      "2020-04-22 21:42:59,137 - dct_infomap - INFO - Made 2 clusters in 0.014884 seconds\n",
      "INFO:dct_infomap:Made 2 clusters in 0.014884 seconds\n"
     ]
    },
    {
     "name": "stdout",
     "output_type": "stream",
     "text": [
      "runing  dct_infomap K_DoesAlgSupportWeightTest_w1\n",
      "finished dct_infomap K_DoesAlgSupportWeightTest_w1\n"
     ]
    },
    {
     "name": "stderr",
     "output_type": "stream",
     "text": [
      "2020-04-22 21:42:59,249 - dct_infomap - WARNING - dct::seq_louvain assumes node starts with zero and is continuous\n",
      "WARNING:dct_infomap:dct::seq_louvain assumes node starts with zero and is continuous\n",
      "2020-04-22 21:42:59,250 - dct_infomap - INFO - Running /opt/gct/submodules/distributed_clustering_thrill/infomap -f -s 123 -o output /tmp/tmp62wzb79u/edges.txt\n",
      "INFO:dct_infomap:Running /opt/gct/submodules/distributed_clustering_thrill/infomap -f -s 123 -o output /tmp/tmp62wzb79u/edges.txt\n",
      "2020-04-22 21:42:59,272 - dct_infomap - INFO - Made 2 clusters in 0.015482 seconds\n",
      "INFO:dct_infomap:Made 2 clusters in 0.015482 seconds\n"
     ]
    },
    {
     "name": "stdout",
     "output_type": "stream",
     "text": [
      "runing  dct_infomap K_DoesAlgSupportWeightTest_uw1\n",
      "finished dct_infomap K_DoesAlgSupportWeightTest_uw1\n"
     ]
    },
    {
     "name": "stderr",
     "output_type": "stream",
     "text": [
      "2020-04-22 21:42:59,383 - dct_seq_louvain - WARNING - dct::seq_louvain assumes node starts with zero and is continuous\n",
      "WARNING:dct_seq_louvain:dct::seq_louvain assumes node starts with zero and is continuous\n",
      "2020-04-22 21:42:59,384 - dct_seq_louvain - INFO - Running /opt/gct/submodules/distributed_clustering_thrill/seq_louvain -f -s 123 -o output /tmp/tmp3em2aw0p/edges.txt\n",
      "INFO:dct_seq_louvain:Running /opt/gct/submodules/distributed_clustering_thrill/seq_louvain -f -s 123 -o output /tmp/tmp3em2aw0p/edges.txt\n",
      "2020-04-22 21:42:59,402 - dct_seq_louvain - INFO - Made 2 clusters in 0.010715 seconds\n",
      "INFO:dct_seq_louvain:Made 2 clusters in 0.010715 seconds\n"
     ]
    },
    {
     "name": "stdout",
     "output_type": "stream",
     "text": [
      "runing  dct_seq_louvain K_DoesAlgSupportWeightTest_w1\n",
      "finished dct_seq_louvain K_DoesAlgSupportWeightTest_w1\n"
     ]
    },
    {
     "name": "stderr",
     "output_type": "stream",
     "text": [
      "2020-04-22 21:42:59,513 - dct_seq_louvain - WARNING - dct::seq_louvain assumes node starts with zero and is continuous\n",
      "WARNING:dct_seq_louvain:dct::seq_louvain assumes node starts with zero and is continuous\n",
      "2020-04-22 21:42:59,514 - dct_seq_louvain - INFO - Running /opt/gct/submodules/distributed_clustering_thrill/seq_louvain -f -s 123 -o output /tmp/tmpb8iqyij8/edges.txt\n",
      "INFO:dct_seq_louvain:Running /opt/gct/submodules/distributed_clustering_thrill/seq_louvain -f -s 123 -o output /tmp/tmpb8iqyij8/edges.txt\n",
      "2020-04-22 21:42:59,531 - dct_seq_louvain - INFO - Made 2 clusters in 0.010739 seconds\n",
      "INFO:dct_seq_louvain:Made 2 clusters in 0.010739 seconds\n"
     ]
    },
    {
     "name": "stdout",
     "output_type": "stream",
     "text": [
      "runing  dct_seq_louvain K_DoesAlgSupportWeightTest_uw1\n",
      "finished dct_seq_louvain K_DoesAlgSupportWeightTest_uw1\n"
     ]
    },
    {
     "name": "stderr",
     "output_type": "stream",
     "text": [
      "2020-04-22 21:42:59,642 - igraph_community_edge_betweenness - INFO - seed ignored\n",
      "INFO:igraph_community_edge_betweenness:seed ignored\n",
      "2020-04-22 21:42:59,643 - Dataset:K_DoesAlgSupportWeightTest_w1 - INFO - reading /data/data/K_DoesAlgSupportWeightTest_w1/edges.parq\n",
      "INFO:Dataset:K_DoesAlgSupportWeightTest_w1:reading /data/data/K_DoesAlgSupportWeightTest_w1/edges.parq\n",
      "2020-04-22 21:42:59,649 - igraph_community_edge_betweenness - INFO - Made 3 clusters in 0.000205 seconds. modularity=0.666666 \n",
      "INFO:igraph_community_edge_betweenness:Made 3 clusters in 0.000205 seconds. modularity=0.666666 \n"
     ]
    },
    {
     "name": "stdout",
     "output_type": "stream",
     "text": [
      "runing  igraph_community_edge_betweenness K_DoesAlgSupportWeightTest_w1\n",
      "finished igraph_community_edge_betweenness K_DoesAlgSupportWeightTest_w1\n"
     ]
    },
    {
     "name": "stderr",
     "output_type": "stream",
     "text": [
      "2020-04-22 21:42:59,760 - igraph_community_edge_betweenness - INFO - seed ignored\n",
      "INFO:igraph_community_edge_betweenness:seed ignored\n",
      "2020-04-22 21:42:59,761 - Dataset:K_DoesAlgSupportWeightTest_uw1 - INFO - reading /data/data/K_DoesAlgSupportWeightTest_uw1/edges.parq\n",
      "INFO:Dataset:K_DoesAlgSupportWeightTest_uw1:reading /data/data/K_DoesAlgSupportWeightTest_uw1/edges.parq\n",
      "2020-04-22 21:42:59,766 - igraph_community_edge_betweenness - INFO - Made 2 clusters in 0.000127 seconds. modularity=0.247922 \n",
      "INFO:igraph_community_edge_betweenness:Made 2 clusters in 0.000127 seconds. modularity=0.247922 \n"
     ]
    },
    {
     "name": "stdout",
     "output_type": "stream",
     "text": [
      "runing  igraph_community_edge_betweenness K_DoesAlgSupportWeightTest_uw1\n",
      "finished igraph_community_edge_betweenness K_DoesAlgSupportWeightTest_uw1\n"
     ]
    },
    {
     "name": "stderr",
     "output_type": "stream",
     "text": [
      "2020-04-22 21:42:59,876 - igraph_community_fastgreedy - INFO - seed ignored\n",
      "INFO:igraph_community_fastgreedy:seed ignored\n",
      "2020-04-22 21:42:59,877 - Dataset:K_DoesAlgSupportWeightTest_w1 - INFO - reading /data/data/K_DoesAlgSupportWeightTest_w1/edges.parq\n",
      "INFO:Dataset:K_DoesAlgSupportWeightTest_w1:reading /data/data/K_DoesAlgSupportWeightTest_w1/edges.parq\n",
      "2020-04-22 21:42:59,882 - igraph_community_fastgreedy - INFO - Made 3 clusters in 0.000072 seconds. modularity=0.666666 \n",
      "INFO:igraph_community_fastgreedy:Made 3 clusters in 0.000072 seconds. modularity=0.666666 \n"
     ]
    },
    {
     "name": "stdout",
     "output_type": "stream",
     "text": [
      "runing  igraph_community_fastgreedy K_DoesAlgSupportWeightTest_w1\n",
      "finished igraph_community_fastgreedy K_DoesAlgSupportWeightTest_w1\n"
     ]
    },
    {
     "name": "stderr",
     "output_type": "stream",
     "text": [
      "2020-04-22 21:42:59,992 - igraph_community_fastgreedy - INFO - seed ignored\n",
      "INFO:igraph_community_fastgreedy:seed ignored\n",
      "2020-04-22 21:42:59,992 - Dataset:K_DoesAlgSupportWeightTest_uw1 - INFO - reading /data/data/K_DoesAlgSupportWeightTest_uw1/edges.parq\n",
      "INFO:Dataset:K_DoesAlgSupportWeightTest_uw1:reading /data/data/K_DoesAlgSupportWeightTest_uw1/edges.parq\n",
      "2020-04-22 21:42:59,997 - igraph_community_fastgreedy - INFO - Made 2 clusters in 0.000057 seconds. modularity=0.247922 \n",
      "INFO:igraph_community_fastgreedy:Made 2 clusters in 0.000057 seconds. modularity=0.247922 \n"
     ]
    },
    {
     "name": "stdout",
     "output_type": "stream",
     "text": [
      "runing  igraph_community_fastgreedy K_DoesAlgSupportWeightTest_uw1\n",
      "finished igraph_community_fastgreedy K_DoesAlgSupportWeightTest_uw1\n"
     ]
    },
    {
     "name": "stderr",
     "output_type": "stream",
     "text": [
      "2020-04-22 21:43:00,107 - igraph_community_infomap - INFO - seed ignored\n",
      "INFO:igraph_community_infomap:seed ignored\n",
      "2020-04-22 21:43:00,108 - Dataset:K_DoesAlgSupportWeightTest_w1 - INFO - reading /data/data/K_DoesAlgSupportWeightTest_w1/edges.parq\n",
      "INFO:Dataset:K_DoesAlgSupportWeightTest_w1:reading /data/data/K_DoesAlgSupportWeightTest_w1/edges.parq\n",
      "2020-04-22 21:43:00,114 - igraph_community_infomap - INFO - Made 3 clusters in 0.000553 seconds. modularity=0.666666 \n",
      "INFO:igraph_community_infomap:Made 3 clusters in 0.000553 seconds. modularity=0.666666 \n"
     ]
    },
    {
     "name": "stdout",
     "output_type": "stream",
     "text": [
      "runing  igraph_community_infomap K_DoesAlgSupportWeightTest_w1\n",
      "finished igraph_community_infomap K_DoesAlgSupportWeightTest_w1\n"
     ]
    },
    {
     "name": "stderr",
     "output_type": "stream",
     "text": [
      "2020-04-22 21:43:00,227 - igraph_community_infomap - INFO - seed ignored\n",
      "INFO:igraph_community_infomap:seed ignored\n",
      "2020-04-22 21:43:00,227 - Dataset:K_DoesAlgSupportWeightTest_uw1 - INFO - reading /data/data/K_DoesAlgSupportWeightTest_uw1/edges.parq\n",
      "INFO:Dataset:K_DoesAlgSupportWeightTest_uw1:reading /data/data/K_DoesAlgSupportWeightTest_uw1/edges.parq\n",
      "2020-04-22 21:43:00,232 - igraph_community_infomap - INFO - Made 2 clusters in 0.000466 seconds. modularity=0.247922 \n",
      "INFO:igraph_community_infomap:Made 2 clusters in 0.000466 seconds. modularity=0.247922 \n"
     ]
    },
    {
     "name": "stdout",
     "output_type": "stream",
     "text": [
      "runing  igraph_community_infomap K_DoesAlgSupportWeightTest_uw1\n",
      "finished igraph_community_infomap K_DoesAlgSupportWeightTest_uw1\n"
     ]
    },
    {
     "name": "stderr",
     "output_type": "stream",
     "text": [
      "2020-04-22 21:43:00,344 - igraph_community_label_propagation - INFO - seed ignored\n",
      "INFO:igraph_community_label_propagation:seed ignored\n",
      "2020-04-22 21:43:00,344 - Dataset:K_DoesAlgSupportWeightTest_w1 - INFO - reading /data/data/K_DoesAlgSupportWeightTest_w1/edges.parq\n",
      "INFO:Dataset:K_DoesAlgSupportWeightTest_w1:reading /data/data/K_DoesAlgSupportWeightTest_w1/edges.parq\n",
      "2020-04-22 21:43:00,349 - igraph_community_label_propagation - INFO - Made 3 clusters in 0.000063 seconds. modularity=0.666666 \n",
      "INFO:igraph_community_label_propagation:Made 3 clusters in 0.000063 seconds. modularity=0.666666 \n"
     ]
    },
    {
     "name": "stdout",
     "output_type": "stream",
     "text": [
      "runing  igraph_community_label_propagation K_DoesAlgSupportWeightTest_w1\n",
      "finished igraph_community_label_propagation K_DoesAlgSupportWeightTest_w1\n"
     ]
    },
    {
     "name": "stderr",
     "output_type": "stream",
     "text": [
      "2020-04-22 21:43:00,460 - igraph_community_label_propagation - INFO - seed ignored\n",
      "INFO:igraph_community_label_propagation:seed ignored\n",
      "2020-04-22 21:43:00,460 - Dataset:K_DoesAlgSupportWeightTest_uw1 - INFO - reading /data/data/K_DoesAlgSupportWeightTest_uw1/edges.parq\n",
      "INFO:Dataset:K_DoesAlgSupportWeightTest_uw1:reading /data/data/K_DoesAlgSupportWeightTest_uw1/edges.parq\n",
      "2020-04-22 21:43:00,465 - igraph_community_label_propagation - INFO - Made 2 clusters in 0.000053 seconds. modularity=0.247922 \n",
      "INFO:igraph_community_label_propagation:Made 2 clusters in 0.000053 seconds. modularity=0.247922 \n"
     ]
    },
    {
     "name": "stdout",
     "output_type": "stream",
     "text": [
      "runing  igraph_community_label_propagation K_DoesAlgSupportWeightTest_uw1\n",
      "finished igraph_community_label_propagation K_DoesAlgSupportWeightTest_uw1\n"
     ]
    },
    {
     "name": "stderr",
     "output_type": "stream",
     "text": [
      "2020-04-22 21:43:00,575 - igraph_community_leading_eigenvector - INFO - seed ignored\n",
      "INFO:igraph_community_leading_eigenvector:seed ignored\n",
      "2020-04-22 21:43:00,576 - Dataset:K_DoesAlgSupportWeightTest_w1 - INFO - reading /data/data/K_DoesAlgSupportWeightTest_w1/edges.parq\n",
      "INFO:Dataset:K_DoesAlgSupportWeightTest_w1:reading /data/data/K_DoesAlgSupportWeightTest_w1/edges.parq\n",
      "2020-04-22 21:43:00,581 - igraph_community_leading_eigenvector - INFO - Made 3 clusters in 0.000639 seconds. modularity=0.666666 \n",
      "INFO:igraph_community_leading_eigenvector:Made 3 clusters in 0.000639 seconds. modularity=0.666666 \n"
     ]
    },
    {
     "name": "stdout",
     "output_type": "stream",
     "text": [
      "runing  igraph_community_leading_eigenvector K_DoesAlgSupportWeightTest_w1\n",
      "finished igraph_community_leading_eigenvector K_DoesAlgSupportWeightTest_w1\n"
     ]
    },
    {
     "name": "stderr",
     "output_type": "stream",
     "text": [
      "2020-04-22 21:43:00,691 - igraph_community_leading_eigenvector - INFO - seed ignored\n",
      "INFO:igraph_community_leading_eigenvector:seed ignored\n",
      "2020-04-22 21:43:00,692 - Dataset:K_DoesAlgSupportWeightTest_uw1 - INFO - reading /data/data/K_DoesAlgSupportWeightTest_uw1/edges.parq\n",
      "INFO:Dataset:K_DoesAlgSupportWeightTest_uw1:reading /data/data/K_DoesAlgSupportWeightTest_uw1/edges.parq\n",
      "2020-04-22 21:43:00,697 - igraph_community_leading_eigenvector - INFO - Made 2 clusters in 0.000657 seconds. modularity=0.247922 \n",
      "INFO:igraph_community_leading_eigenvector:Made 2 clusters in 0.000657 seconds. modularity=0.247922 \n"
     ]
    },
    {
     "name": "stdout",
     "output_type": "stream",
     "text": [
      "runing  igraph_community_leading_eigenvector K_DoesAlgSupportWeightTest_uw1\n",
      "finished igraph_community_leading_eigenvector K_DoesAlgSupportWeightTest_uw1\n"
     ]
    },
    {
     "name": "stderr",
     "output_type": "stream",
     "text": [
      "2020-04-22 21:43:00,807 - igraph_community_multilevel - INFO - seed ignored\n",
      "INFO:igraph_community_multilevel:seed ignored\n",
      "2020-04-22 21:43:00,807 - Dataset:K_DoesAlgSupportWeightTest_w1 - INFO - reading /data/data/K_DoesAlgSupportWeightTest_w1/edges.parq\n",
      "INFO:Dataset:K_DoesAlgSupportWeightTest_w1:reading /data/data/K_DoesAlgSupportWeightTest_w1/edges.parq\n",
      "2020-04-22 21:43:00,812 - igraph_community_multilevel - INFO - Made 3 clusters in 0.000105 seconds. modularity=0.666666 \n",
      "INFO:igraph_community_multilevel:Made 3 clusters in 0.000105 seconds. modularity=0.666666 \n"
     ]
    },
    {
     "name": "stdout",
     "output_type": "stream",
     "text": [
      "runing  igraph_community_multilevel K_DoesAlgSupportWeightTest_w1\n",
      "finished igraph_community_multilevel K_DoesAlgSupportWeightTest_w1\n"
     ]
    },
    {
     "name": "stderr",
     "output_type": "stream",
     "text": [
      "2020-04-22 21:43:00,922 - igraph_community_multilevel - INFO - seed ignored\n",
      "INFO:igraph_community_multilevel:seed ignored\n",
      "2020-04-22 21:43:00,923 - Dataset:K_DoesAlgSupportWeightTest_uw1 - INFO - reading /data/data/K_DoesAlgSupportWeightTest_uw1/edges.parq\n",
      "INFO:Dataset:K_DoesAlgSupportWeightTest_uw1:reading /data/data/K_DoesAlgSupportWeightTest_uw1/edges.parq\n",
      "2020-04-22 21:43:00,927 - igraph_community_multilevel - INFO - Made 2 clusters in 0.000078 seconds. modularity=0.247922 \n",
      "INFO:igraph_community_multilevel:Made 2 clusters in 0.000078 seconds. modularity=0.247922 \n"
     ]
    },
    {
     "name": "stdout",
     "output_type": "stream",
     "text": [
      "runing  igraph_community_multilevel K_DoesAlgSupportWeightTest_uw1\n",
      "finished igraph_community_multilevel K_DoesAlgSupportWeightTest_uw1\n"
     ]
    },
    {
     "name": "stderr",
     "output_type": "stream",
     "text": [
      "2020-04-22 21:43:01,037 - igraph_community_optimal_modularity - INFO - seed ignored\n",
      "INFO:igraph_community_optimal_modularity:seed ignored\n",
      "2020-04-22 21:43:01,038 - Dataset:K_DoesAlgSupportWeightTest_w1 - INFO - reading /data/data/K_DoesAlgSupportWeightTest_w1/edges.parq\n",
      "INFO:Dataset:K_DoesAlgSupportWeightTest_w1:reading /data/data/K_DoesAlgSupportWeightTest_w1/edges.parq\n",
      "2020-04-22 21:43:01,043 - igraph_community_optimal_modularity - INFO - Made 3 clusters in 0.000694 seconds. modularity=0.666666 \n",
      "INFO:igraph_community_optimal_modularity:Made 3 clusters in 0.000694 seconds. modularity=0.666666 \n"
     ]
    },
    {
     "name": "stdout",
     "output_type": "stream",
     "text": [
      "runing  igraph_community_optimal_modularity K_DoesAlgSupportWeightTest_w1\n",
      "finished igraph_community_optimal_modularity K_DoesAlgSupportWeightTest_w1\n"
     ]
    },
    {
     "name": "stderr",
     "output_type": "stream",
     "text": [
      "2020-04-22 21:43:01,153 - igraph_community_optimal_modularity - INFO - seed ignored\n",
      "INFO:igraph_community_optimal_modularity:seed ignored\n",
      "2020-04-22 21:43:01,153 - Dataset:K_DoesAlgSupportWeightTest_uw1 - INFO - reading /data/data/K_DoesAlgSupportWeightTest_uw1/edges.parq\n",
      "INFO:Dataset:K_DoesAlgSupportWeightTest_uw1:reading /data/data/K_DoesAlgSupportWeightTest_uw1/edges.parq\n",
      "2020-04-22 21:43:01,158 - igraph_community_optimal_modularity - INFO - Made 2 clusters in 0.000741 seconds. modularity=0.247922 \n",
      "INFO:igraph_community_optimal_modularity:Made 2 clusters in 0.000741 seconds. modularity=0.247922 \n"
     ]
    },
    {
     "name": "stdout",
     "output_type": "stream",
     "text": [
      "runing  igraph_community_optimal_modularity K_DoesAlgSupportWeightTest_uw1\n",
      "finished igraph_community_optimal_modularity K_DoesAlgSupportWeightTest_uw1\n"
     ]
    },
    {
     "name": "stderr",
     "output_type": "stream",
     "text": [
      "2020-04-22 21:43:01,268 - igraph_community_spinglass - INFO - seed ignored\n",
      "INFO:igraph_community_spinglass:seed ignored\n",
      "2020-04-22 21:43:01,269 - Dataset:K_DoesAlgSupportWeightTest_w1 - INFO - reading /data/data/K_DoesAlgSupportWeightTest_w1/edges.parq\n",
      "INFO:Dataset:K_DoesAlgSupportWeightTest_w1:reading /data/data/K_DoesAlgSupportWeightTest_w1/edges.parq\n",
      "2020-04-22 21:43:01,332 - igraph_community_spinglass - INFO - Made 3 clusters in 0.058249 seconds. modularity=0.666666 \n",
      "INFO:igraph_community_spinglass:Made 3 clusters in 0.058249 seconds. modularity=0.666666 \n"
     ]
    },
    {
     "name": "stdout",
     "output_type": "stream",
     "text": [
      "runing  igraph_community_spinglass K_DoesAlgSupportWeightTest_w1\n",
      "finished igraph_community_spinglass K_DoesAlgSupportWeightTest_w1\n"
     ]
    },
    {
     "name": "stderr",
     "output_type": "stream",
     "text": [
      "2020-04-22 21:43:01,442 - igraph_community_spinglass - INFO - seed ignored\n",
      "INFO:igraph_community_spinglass:seed ignored\n",
      "2020-04-22 21:43:01,442 - Dataset:K_DoesAlgSupportWeightTest_uw1 - INFO - reading /data/data/K_DoesAlgSupportWeightTest_uw1/edges.parq\n",
      "INFO:Dataset:K_DoesAlgSupportWeightTest_uw1:reading /data/data/K_DoesAlgSupportWeightTest_uw1/edges.parq\n"
     ]
    },
    {
     "name": "stdout",
     "output_type": "stream",
     "text": [
      "runing  igraph_community_spinglass K_DoesAlgSupportWeightTest_uw1\n"
     ]
    },
    {
     "name": "stderr",
     "output_type": "stream",
     "text": [
      "2020-04-22 21:43:01,509 - igraph_community_spinglass - INFO - Made 2 clusters in 0.061747 seconds. modularity=0.247922 \n",
      "INFO:igraph_community_spinglass:Made 2 clusters in 0.061747 seconds. modularity=0.247922 \n"
     ]
    },
    {
     "name": "stdout",
     "output_type": "stream",
     "text": [
      "finished igraph_community_spinglass K_DoesAlgSupportWeightTest_uw1\n"
     ]
    },
    {
     "name": "stderr",
     "output_type": "stream",
     "text": [
      "2020-04-22 21:43:01,620 - igraph_community_walktrap - INFO - seed ignored\n",
      "INFO:igraph_community_walktrap:seed ignored\n",
      "2020-04-22 21:43:01,621 - Dataset:K_DoesAlgSupportWeightTest_w1 - INFO - reading /data/data/K_DoesAlgSupportWeightTest_w1/edges.parq\n",
      "INFO:Dataset:K_DoesAlgSupportWeightTest_w1:reading /data/data/K_DoesAlgSupportWeightTest_w1/edges.parq\n",
      "2020-04-22 21:43:01,626 - igraph_community_walktrap - INFO - Made 3 clusters in 0.000101 seconds. modularity=0.666666 \n",
      "INFO:igraph_community_walktrap:Made 3 clusters in 0.000101 seconds. modularity=0.666666 \n"
     ]
    },
    {
     "name": "stdout",
     "output_type": "stream",
     "text": [
      "runing  igraph_community_walktrap K_DoesAlgSupportWeightTest_w1\n",
      "finished igraph_community_walktrap K_DoesAlgSupportWeightTest_w1\n"
     ]
    },
    {
     "name": "stderr",
     "output_type": "stream",
     "text": [
      "2020-04-22 21:43:01,737 - igraph_community_walktrap - INFO - seed ignored\n",
      "INFO:igraph_community_walktrap:seed ignored\n",
      "2020-04-22 21:43:01,737 - Dataset:K_DoesAlgSupportWeightTest_uw1 - INFO - reading /data/data/K_DoesAlgSupportWeightTest_uw1/edges.parq\n",
      "INFO:Dataset:K_DoesAlgSupportWeightTest_uw1:reading /data/data/K_DoesAlgSupportWeightTest_uw1/edges.parq\n",
      "2020-04-22 21:43:01,742 - igraph_community_walktrap - INFO - Made 2 clusters in 0.000083 seconds. modularity=0.247922 \n",
      "INFO:igraph_community_walktrap:Made 2 clusters in 0.000083 seconds. modularity=0.247922 \n"
     ]
    },
    {
     "name": "stdout",
     "output_type": "stream",
     "text": [
      "runing  igraph_community_walktrap K_DoesAlgSupportWeightTest_uw1\n",
      "finished igraph_community_walktrap K_DoesAlgSupportWeightTest_uw1\n"
     ]
    },
    {
     "name": "stderr",
     "output_type": "stream",
     "text": [
      "2020-04-22 21:43:01,852 - mcl_MCL - INFO - seed ignored\n",
      "INFO:mcl_MCL:seed ignored\n",
      "2020-04-22 21:43:01,853 - Dataset:K_DoesAlgSupportWeightTest_w1 - INFO - running /opt/gct/submodules/local/bin/mcxload --stream-mirror -123 /data/data/K_DoesAlgSupportWeightTest_w1/edges.txt -o /data/data/K_DoesAlgSupportWeightTest_w1/mcl.mci --write-binary\n",
      "INFO:Dataset:K_DoesAlgSupportWeightTest_w1:running /opt/gct/submodules/local/bin/mcxload --stream-mirror -123 /data/data/K_DoesAlgSupportWeightTest_w1/edges.txt -o /data/data/K_DoesAlgSupportWeightTest_w1/mcl.mci --write-binary\n",
      "2020-04-22 21:43:01,859 - mcl_MCL - INFO - Running /opt/gct/submodules/local/bin/mcl /data/data/K_DoesAlgSupportWeightTest_w1/mcl.mci -o output\n",
      "INFO:mcl_MCL:Running /opt/gct/submodules/local/bin/mcl /data/data/K_DoesAlgSupportWeightTest_w1/mcl.mci -o output\n",
      "2020-04-22 21:43:01,860 - mcl_MCL - INFO - Running /opt/gct/submodules/local/bin/mcxdump -imx output -o cluster.output\n",
      "INFO:mcl_MCL:Running /opt/gct/submodules/local/bin/mcxdump -imx output -o cluster.output\n",
      "2020-04-22 21:43:01,869 - mcl_MCL - INFO - Made 3 clusters in 0.007578 seconds\n",
      "INFO:mcl_MCL:Made 3 clusters in 0.007578 seconds\n"
     ]
    },
    {
     "name": "stdout",
     "output_type": "stream",
     "text": [
      "runing  mcl_MCL K_DoesAlgSupportWeightTest_w1\n",
      "finished mcl_MCL K_DoesAlgSupportWeightTest_w1\n"
     ]
    },
    {
     "name": "stderr",
     "output_type": "stream",
     "text": [
      "2020-04-22 21:43:01,980 - mcl_MCL - INFO - seed ignored\n",
      "INFO:mcl_MCL:seed ignored\n",
      "2020-04-22 21:43:01,981 - Dataset:K_DoesAlgSupportWeightTest_uw1 - INFO - running /opt/gct/submodules/local/bin/mcxload --stream-mirror -123 /data/data/K_DoesAlgSupportWeightTest_uw1/edges.txt -o /data/data/K_DoesAlgSupportWeightTest_uw1/mcl.mci --write-binary\n",
      "INFO:Dataset:K_DoesAlgSupportWeightTest_uw1:running /opt/gct/submodules/local/bin/mcxload --stream-mirror -123 /data/data/K_DoesAlgSupportWeightTest_uw1/edges.txt -o /data/data/K_DoesAlgSupportWeightTest_uw1/mcl.mci --write-binary\n",
      "2020-04-22 21:43:01,988 - mcl_MCL - INFO - Running /opt/gct/submodules/local/bin/mcl /data/data/K_DoesAlgSupportWeightTest_uw1/mcl.mci -o output\n",
      "INFO:mcl_MCL:Running /opt/gct/submodules/local/bin/mcl /data/data/K_DoesAlgSupportWeightTest_uw1/mcl.mci -o output\n",
      "2020-04-22 21:43:01,989 - mcl_MCL - INFO - Running /opt/gct/submodules/local/bin/mcxdump -imx output -o cluster.output\n",
      "INFO:mcl_MCL:Running /opt/gct/submodules/local/bin/mcxdump -imx output -o cluster.output\n",
      "2020-04-22 21:43:01,999 - mcl_MCL - INFO - Made 2 clusters in 0.008550 seconds\n",
      "INFO:mcl_MCL:Made 2 clusters in 0.008550 seconds\n"
     ]
    },
    {
     "name": "stdout",
     "output_type": "stream",
     "text": [
      "runing  mcl_MCL K_DoesAlgSupportWeightTest_uw1\n",
      "finished mcl_MCL K_DoesAlgSupportWeightTest_uw1\n"
     ]
    },
    {
     "name": "stderr",
     "output_type": "stream",
     "text": [
      "2020-04-22 21:43:02,110 - networkit_CutClustering - INFO - seed ignored\n",
      "INFO:networkit_CutClustering:seed ignored\n",
      "2020-04-22 21:43:02,116 - networkit_CutClustering - INFO - Made 3 clusters in 0.004297 seconds.\n",
      "INFO:networkit_CutClustering:Made 3 clusters in 0.004297 seconds.\n"
     ]
    },
    {
     "name": "stdout",
     "output_type": "stream",
     "text": [
      "runing  networkit_CutClustering K_DoesAlgSupportWeightTest_w1\n",
      "CutClustering(0.1) detected communities in 0.0012314319610595703 [s]\n",
      "solution properties:\n",
      "-------------------  --------\n",
      "# communities        3\n",
      "min community size   3\n",
      "max community size   3\n",
      "avg. community size  3\n",
      "modularity           0.666666\n",
      "-------------------  --------\n",
      "finished networkit_CutClustering K_DoesAlgSupportWeightTest_w1\n"
     ]
    },
    {
     "name": "stderr",
     "output_type": "stream",
     "text": [
      "2020-04-22 21:43:02,234 - networkit_CutClustering - INFO - seed ignored\n",
      "INFO:networkit_CutClustering:seed ignored\n",
      "2020-04-22 21:43:02,238 - networkit_CutClustering - INFO - Made 1 clusters in 0.002381 seconds.\n",
      "INFO:networkit_CutClustering:Made 1 clusters in 0.002381 seconds.\n"
     ]
    },
    {
     "name": "stdout",
     "output_type": "stream",
     "text": [
      "runing  networkit_CutClustering K_DoesAlgSupportWeightTest_uw1\n",
      "CutClustering(0.1) detected communities in 0.0016629695892333984 [s]\n",
      "solution properties:\n",
      "-------------------  -\n",
      "# communities        1\n",
      "min community size   9\n",
      "max community size   9\n",
      "avg. community size  9\n",
      "modularity           0\n",
      "-------------------  -\n",
      "finished networkit_CutClustering K_DoesAlgSupportWeightTest_uw1\n"
     ]
    },
    {
     "name": "stderr",
     "output_type": "stream",
     "text": [
      "2020-04-22 21:43:02,359 - networkit_LPDegreeOrdered - INFO - seed ignored\n",
      "INFO:networkit_LPDegreeOrdered:seed ignored\n",
      "2020-04-22 21:43:02,362 - networkit_LPDegreeOrdered - INFO - Made 1 clusters in 0.002243 seconds.\n",
      "INFO:networkit_LPDegreeOrdered:Made 1 clusters in 0.002243 seconds.\n"
     ]
    },
    {
     "name": "stdout",
     "output_type": "stream",
     "text": [
      "runing  networkit_LPDegreeOrdered K_DoesAlgSupportWeightTest_w1\n",
      "LPDegreeOrdered() detected communities in 0.0013880729675292969 [s]\n",
      "solution properties:\n",
      "-------------------  -\n",
      "# communities        1\n",
      "min community size   9\n",
      "max community size   9\n",
      "avg. community size  9\n",
      "modularity           0\n",
      "-------------------  -\n",
      "finished networkit_LPDegreeOrdered K_DoesAlgSupportWeightTest_w1\n"
     ]
    },
    {
     "name": "stderr",
     "output_type": "stream",
     "text": [
      "2020-04-22 21:43:02,484 - networkit_LPDegreeOrdered - INFO - seed ignored\n",
      "INFO:networkit_LPDegreeOrdered:seed ignored\n",
      "2020-04-22 21:43:02,488 - networkit_LPDegreeOrdered - INFO - Made 1 clusters in 0.002099 seconds.\n",
      "INFO:networkit_LPDegreeOrdered:Made 1 clusters in 0.002099 seconds.\n"
     ]
    },
    {
     "name": "stdout",
     "output_type": "stream",
     "text": [
      "runing  networkit_LPDegreeOrdered K_DoesAlgSupportWeightTest_uw1\n",
      "LPDegreeOrdered() detected communities in 0.0011157989501953125 [s]\n",
      "solution properties:\n",
      "-------------------  -\n",
      "# communities        1\n",
      "min community size   9\n",
      "max community size   9\n",
      "avg. community size  9\n",
      "modularity           0\n",
      "-------------------  -\n",
      "finished networkit_LPDegreeOrdered K_DoesAlgSupportWeightTest_uw1\n"
     ]
    },
    {
     "name": "stderr",
     "output_type": "stream",
     "text": [
      "2020-04-22 21:43:02,608 - networkit_PLM - INFO - seed ignored\n",
      "INFO:networkit_PLM:seed ignored\n",
      "2020-04-22 21:43:02,612 - networkit_PLM - INFO - Made 3 clusters in 0.001875 seconds.\n",
      "INFO:networkit_PLM:Made 3 clusters in 0.001875 seconds.\n"
     ]
    },
    {
     "name": "stdout",
     "output_type": "stream",
     "text": [
      "runing  networkit_PLM K_DoesAlgSupportWeightTest_w1\n",
      "PLM(balanced,pc,turbo) detected communities in 0.0011191368103027344 [s]\n",
      "solution properties:\n",
      "-------------------  --------\n",
      "# communities        3\n",
      "min community size   3\n",
      "max community size   3\n",
      "avg. community size  3\n",
      "modularity           0.666666\n",
      "-------------------  --------\n",
      "finished networkit_PLM K_DoesAlgSupportWeightTest_w1\n"
     ]
    },
    {
     "name": "stderr",
     "output_type": "stream",
     "text": [
      "2020-04-22 21:43:02,731 - networkit_PLM - INFO - seed ignored\n",
      "INFO:networkit_PLM:seed ignored\n",
      "2020-04-22 21:43:02,735 - networkit_PLM - INFO - Made 2 clusters in 0.002098 seconds.\n",
      "INFO:networkit_PLM:Made 2 clusters in 0.002098 seconds.\n"
     ]
    },
    {
     "name": "stdout",
     "output_type": "stream",
     "text": [
      "runing  networkit_PLM K_DoesAlgSupportWeightTest_uw1\n",
      "PLM(balanced,pc,turbo) detected communities in 0.0011973381042480469 [s]\n",
      "solution properties:\n",
      "-------------------  --------\n",
      "# communities        2\n",
      "min community size   3\n",
      "max community size   6\n",
      "avg. community size  4.5\n",
      "modularity           0.247922\n",
      "-------------------  --------\n",
      "finished networkit_PLM K_DoesAlgSupportWeightTest_uw1\n"
     ]
    },
    {
     "name": "stderr",
     "output_type": "stream",
     "text": [
      "2020-04-22 21:43:02,855 - networkit_PLP - INFO - seed ignored\n",
      "INFO:networkit_PLP:seed ignored\n",
      "2020-04-22 21:43:02,859 - networkit_PLP - INFO - Made 3 clusters in 0.002115 seconds.\n",
      "INFO:networkit_PLP:Made 3 clusters in 0.002115 seconds.\n"
     ]
    },
    {
     "name": "stdout",
     "output_type": "stream",
     "text": [
      "runing  networkit_PLP K_DoesAlgSupportWeightTest_w1\n",
      "PLP detected communities in 0.001239776611328125 [s]\n",
      "solution properties:\n",
      "-------------------  --------\n",
      "# communities        3\n",
      "min community size   3\n",
      "max community size   3\n",
      "avg. community size  3\n",
      "modularity           0.666666\n",
      "-------------------  --------\n",
      "finished networkit_PLP K_DoesAlgSupportWeightTest_w1\n"
     ]
    },
    {
     "name": "stderr",
     "output_type": "stream",
     "text": [
      "2020-04-22 21:43:02,980 - networkit_PLP - INFO - seed ignored\n",
      "INFO:networkit_PLP:seed ignored\n",
      "2020-04-22 21:43:02,983 - networkit_PLP - INFO - Made 1 clusters in 0.001991 seconds.\n",
      "INFO:networkit_PLP:Made 1 clusters in 0.001991 seconds.\n"
     ]
    },
    {
     "name": "stdout",
     "output_type": "stream",
     "text": [
      "runing  networkit_PLP K_DoesAlgSupportWeightTest_uw1\n",
      "PLP detected communities in 0.00115966796875 [s]\n",
      "solution properties:\n",
      "-------------------  -\n",
      "# communities        1\n",
      "min community size   9\n",
      "max community size   9\n",
      "avg. community size  9\n",
      "modularity           0\n",
      "-------------------  -\n",
      "finished networkit_PLP K_DoesAlgSupportWeightTest_uw1\n"
     ]
    },
    {
     "name": "stderr",
     "output_type": "stream",
     "text": [
      "2020-04-22 21:43:03,102 - alg_GossipMap - INFO - seed ignored\n",
      "INFO:alg_GossipMap:seed ignored\n",
      "2020-04-22 21:43:03,103 - alg_GossipMap - INFO - Running /opt/gct/submodules/PowerGraph/GossipMap --graph /tmp/tmpq1s71dq_/edges.txt --prefix output.cluster --ncpus 7\n",
      "INFO:alg_GossipMap:Running /opt/gct/submodules/PowerGraph/GossipMap --graph /tmp/tmpq1s71dq_/edges.txt --prefix output.cluster --ncpus 7\n"
     ]
    },
    {
     "name": "stdout",
     "output_type": "stream",
     "text": [
      "runing  alg_GossipMap K_DoesAlgSupportWeightTest_w1\n"
     ]
    },
    {
     "name": "stderr",
     "output_type": "stream",
     "text": [
      "2020-04-22 21:43:03,887 - alg_GossipMap - INFO - Made 1 clusters in 0.771545 seconds\n",
      "INFO:alg_GossipMap:Made 1 clusters in 0.771545 seconds\n"
     ]
    },
    {
     "name": "stdout",
     "output_type": "stream",
     "text": [
      "finished alg_GossipMap K_DoesAlgSupportWeightTest_w1\n"
     ]
    },
    {
     "name": "stderr",
     "output_type": "stream",
     "text": [
      "2020-04-22 21:43:04,000 - alg_GossipMap - INFO - seed ignored\n",
      "INFO:alg_GossipMap:seed ignored\n",
      "2020-04-22 21:43:04,001 - alg_GossipMap - INFO - Running /opt/gct/submodules/PowerGraph/GossipMap --graph /tmp/tmpqm8bjjos/edges.txt --prefix output.cluster --ncpus 7\n",
      "INFO:alg_GossipMap:Running /opt/gct/submodules/PowerGraph/GossipMap --graph /tmp/tmpqm8bjjos/edges.txt --prefix output.cluster --ncpus 7\n"
     ]
    },
    {
     "name": "stdout",
     "output_type": "stream",
     "text": [
      "runing  alg_GossipMap K_DoesAlgSupportWeightTest_uw1\n"
     ]
    },
    {
     "name": "stderr",
     "output_type": "stream",
     "text": [
      "2020-04-22 21:43:04,703 - alg_GossipMap - INFO - Made 1 clusters in 0.689643 seconds\n",
      "INFO:alg_GossipMap:Made 1 clusters in 0.689643 seconds\n"
     ]
    },
    {
     "name": "stdout",
     "output_type": "stream",
     "text": [
      "finished alg_GossipMap K_DoesAlgSupportWeightTest_uw1\n"
     ]
    },
    {
     "name": "stderr",
     "output_type": "stream",
     "text": [
      "2020-04-22 21:43:04,817 - alg_RelaxMap - INFO - Running /opt/gct/submodules/RelaxMap/ompRelaxmap 123 /tmp/tmpppqrj3u2/edges.txt 7 1 0.001 0.0 10 /tmp/tmpppqrj3u2 prior\n",
      "INFO:alg_RelaxMap:Running /opt/gct/submodules/RelaxMap/ompRelaxmap 123 /tmp/tmpppqrj3u2/edges.txt 7 1 0.001 0.0 10 /tmp/tmpppqrj3u2 prior\n",
      "2020-04-22 21:43:04,841 - alg_RelaxMap - INFO - Made 1 clusters in 0.016372 seconds\n",
      "INFO:alg_RelaxMap:Made 1 clusters in 0.016372 seconds\n"
     ]
    },
    {
     "name": "stdout",
     "output_type": "stream",
     "text": [
      "runing  alg_RelaxMap K_DoesAlgSupportWeightTest_w1\n",
      "finished alg_RelaxMap K_DoesAlgSupportWeightTest_w1\n"
     ]
    },
    {
     "name": "stderr",
     "output_type": "stream",
     "text": [
      "2020-04-22 21:43:04,953 - alg_RelaxMap - INFO - Running /opt/gct/submodules/RelaxMap/ompRelaxmap 123 /tmp/tmpfg8ku6x5/edges.txt 7 1 0.001 0.0 10 /tmp/tmpfg8ku6x5 prior\n",
      "INFO:alg_RelaxMap:Running /opt/gct/submodules/RelaxMap/ompRelaxmap 123 /tmp/tmpfg8ku6x5/edges.txt 7 1 0.001 0.0 10 /tmp/tmpfg8ku6x5 prior\n",
      "2020-04-22 21:43:04,969 - alg_RelaxMap - INFO - Made 1 clusters in 0.008262 seconds\n",
      "INFO:alg_RelaxMap:Made 1 clusters in 0.008262 seconds\n"
     ]
    },
    {
     "name": "stdout",
     "output_type": "stream",
     "text": [
      "runing  alg_RelaxMap K_DoesAlgSupportWeightTest_uw1\n",
      "finished alg_RelaxMap K_DoesAlgSupportWeightTest_uw1\n"
     ]
    },
    {
     "name": "stderr",
     "output_type": "stream",
     "text": [
      "2020-04-22 21:43:05,080 - alg_pg_label_propagation - INFO - seed ignored\n",
      "INFO:alg_pg_label_propagation:seed ignored\n",
      "2020-04-22 21:43:05,081 - alg_pg_label_propagation - INFO - Running /opt/gct/submodules/PowerGraph/label_propagation --graph /tmp/tmpadnle3h8/edges.txt --saveprefix=output.cluster --execution async --ncpus 7 --weighted 1 --directed 0\n",
      "INFO:alg_pg_label_propagation:Running /opt/gct/submodules/PowerGraph/label_propagation --graph /tmp/tmpadnle3h8/edges.txt --saveprefix=output.cluster --execution async --ncpus 7 --weighted 1 --directed 0\n"
     ]
    },
    {
     "name": "stdout",
     "output_type": "stream",
     "text": [
      "runing  alg_pg_label_propagation K_DoesAlgSupportWeightTest_w1\n"
     ]
    },
    {
     "name": "stderr",
     "output_type": "stream",
     "text": [
      "2020-04-22 21:43:05,517 - alg_pg_label_propagation - INFO - Made 3 clusters in 0.424023 seconds\n",
      "INFO:alg_pg_label_propagation:Made 3 clusters in 0.424023 seconds\n"
     ]
    },
    {
     "name": "stdout",
     "output_type": "stream",
     "text": [
      "finished alg_pg_label_propagation K_DoesAlgSupportWeightTest_w1\n"
     ]
    },
    {
     "name": "stderr",
     "output_type": "stream",
     "text": [
      "2020-04-22 21:43:05,630 - alg_pg_label_propagation - INFO - seed ignored\n",
      "INFO:alg_pg_label_propagation:seed ignored\n",
      "2020-04-22 21:43:05,632 - alg_pg_label_propagation - INFO - Running /opt/gct/submodules/PowerGraph/label_propagation --graph /tmp/tmp086kt246/edges.txt --saveprefix=output.cluster --execution async --ncpus 7 --weighted 0 --directed 0\n",
      "INFO:alg_pg_label_propagation:Running /opt/gct/submodules/PowerGraph/label_propagation --graph /tmp/tmp086kt246/edges.txt --saveprefix=output.cluster --execution async --ncpus 7 --weighted 0 --directed 0\n"
     ]
    },
    {
     "name": "stdout",
     "output_type": "stream",
     "text": [
      "runing  alg_pg_label_propagation K_DoesAlgSupportWeightTest_uw1\n"
     ]
    },
    {
     "name": "stderr",
     "output_type": "stream",
     "text": [
      "2020-04-22 21:43:06,056 - alg_pg_label_propagation - INFO - Made 1 clusters in 0.412951 seconds\n",
      "INFO:alg_pg_label_propagation:Made 1 clusters in 0.412951 seconds\n"
     ]
    },
    {
     "name": "stdout",
     "output_type": "stream",
     "text": [
      "finished alg_pg_label_propagation K_DoesAlgSupportWeightTest_uw1\n"
     ]
    },
    {
     "name": "stderr",
     "output_type": "stream",
     "text": [
      "2020-04-22 21:43:06,169 - scan_AnyScan_Scan - INFO - seed ignored\n",
      "INFO:scan_AnyScan_Scan:seed ignored\n",
      "2020-04-22 21:43:06,170 - Dataset:K_DoesAlgSupportWeightTest_w1 - INFO - reading /data/data/K_DoesAlgSupportWeightTest_w1/edges.parq\n",
      "INFO:Dataset:K_DoesAlgSupportWeightTest_w1:reading /data/data/K_DoesAlgSupportWeightTest_w1/edges.parq\n",
      "2020-04-22 21:43:06,175 - Dataset:K_DoesAlgSupportWeightTest_w1 - INFO - min node: 0, max node: 8\n",
      "INFO:Dataset:K_DoesAlgSupportWeightTest_w1:min node: 0, max node: 8\n",
      "2020-04-22 21:43:06,181 - scan_AnyScan_Scan - INFO - Running /opt/gct/submodules/ppSCAN/anyscan -c 1 -i /data/data/K_DoesAlgSupportWeightTest_w1/anyscan.txt -m 4 -e 0.5 -o output -a 32768 -b 32768 -t 7\n",
      "INFO:scan_AnyScan_Scan:Running /opt/gct/submodules/ppSCAN/anyscan -c 1 -i /data/data/K_DoesAlgSupportWeightTest_w1/anyscan.txt -m 4 -e 0.5 -o output -a 32768 -b 32768 -t 7\n",
      "2020-04-22 21:43:06,190 - scan_AnyScan_Scan - INFO - Made 2 clusters in 0.007224 seconds\n",
      "INFO:scan_AnyScan_Scan:Made 2 clusters in 0.007224 seconds\n"
     ]
    },
    {
     "name": "stdout",
     "output_type": "stream",
     "text": [
      "runing  scan_AnyScan_Scan K_DoesAlgSupportWeightTest_w1\n",
      "finished scan_AnyScan_Scan K_DoesAlgSupportWeightTest_w1\n"
     ]
    },
    {
     "name": "stderr",
     "output_type": "stream",
     "text": [
      "2020-04-22 21:43:06,301 - scan_AnyScan_Scan - INFO - seed ignored\n",
      "INFO:scan_AnyScan_Scan:seed ignored\n",
      "2020-04-22 21:43:06,302 - Dataset:K_DoesAlgSupportWeightTest_uw1 - INFO - reading /data/data/K_DoesAlgSupportWeightTest_uw1/edges.parq\n",
      "INFO:Dataset:K_DoesAlgSupportWeightTest_uw1:reading /data/data/K_DoesAlgSupportWeightTest_uw1/edges.parq\n",
      "2020-04-22 21:43:06,307 - Dataset:K_DoesAlgSupportWeightTest_uw1 - INFO - min node: 0, max node: 8\n",
      "INFO:Dataset:K_DoesAlgSupportWeightTest_uw1:min node: 0, max node: 8\n",
      "2020-04-22 21:43:06,313 - scan_AnyScan_Scan - INFO - Running /opt/gct/submodules/ppSCAN/anyscan -c 1 -i /data/data/K_DoesAlgSupportWeightTest_uw1/anyscan.txt -m 4 -e 0.5 -o output -a 32768 -b 32768 -t 7\n",
      "INFO:scan_AnyScan_Scan:Running /opt/gct/submodules/ppSCAN/anyscan -c 1 -i /data/data/K_DoesAlgSupportWeightTest_uw1/anyscan.txt -m 4 -e 0.5 -o output -a 32768 -b 32768 -t 7\n",
      "2020-04-22 21:43:06,321 - scan_AnyScan_Scan - INFO - Made 2 clusters in 0.006821 seconds\n",
      "INFO:scan_AnyScan_Scan:Made 2 clusters in 0.006821 seconds\n"
     ]
    },
    {
     "name": "stdout",
     "output_type": "stream",
     "text": [
      "runing  scan_AnyScan_Scan K_DoesAlgSupportWeightTest_uw1\n",
      "finished scan_AnyScan_Scan K_DoesAlgSupportWeightTest_uw1\n"
     ]
    },
    {
     "name": "stderr",
     "output_type": "stream",
     "text": [
      "2020-04-22 21:43:06,432 - scan_AnyScan_anyScan - INFO - seed ignored\n",
      "INFO:scan_AnyScan_anyScan:seed ignored\n",
      "2020-04-22 21:43:06,433 - scan_AnyScan_anyScan - INFO - Running /opt/gct/submodules/ppSCAN/anyscan -c 3 -i /data/data/K_DoesAlgSupportWeightTest_w1/anyscan.txt -m 4 -e 0.5 -o output -a 32768 -b 32768 -t 7\n",
      "INFO:scan_AnyScan_anyScan:Running /opt/gct/submodules/ppSCAN/anyscan -c 3 -i /data/data/K_DoesAlgSupportWeightTest_w1/anyscan.txt -m 4 -e 0.5 -o output -a 32768 -b 32768 -t 7\n",
      "2020-04-22 21:43:06,466 - scan_AnyScan_anyScan - INFO - Made 2 clusters in 0.030976 seconds\n",
      "INFO:scan_AnyScan_anyScan:Made 2 clusters in 0.030976 seconds\n"
     ]
    },
    {
     "name": "stdout",
     "output_type": "stream",
     "text": [
      "runing  scan_AnyScan_anyScan K_DoesAlgSupportWeightTest_w1\n",
      "finished scan_AnyScan_anyScan K_DoesAlgSupportWeightTest_w1\n"
     ]
    },
    {
     "name": "stderr",
     "output_type": "stream",
     "text": [
      "2020-04-22 21:43:06,578 - scan_AnyScan_anyScan - INFO - seed ignored\n",
      "INFO:scan_AnyScan_anyScan:seed ignored\n",
      "2020-04-22 21:43:06,579 - scan_AnyScan_anyScan - INFO - Running /opt/gct/submodules/ppSCAN/anyscan -c 3 -i /data/data/K_DoesAlgSupportWeightTest_uw1/anyscan.txt -m 4 -e 0.5 -o output -a 32768 -b 32768 -t 7\n",
      "INFO:scan_AnyScan_anyScan:Running /opt/gct/submodules/ppSCAN/anyscan -c 3 -i /data/data/K_DoesAlgSupportWeightTest_uw1/anyscan.txt -m 4 -e 0.5 -o output -a 32768 -b 32768 -t 7\n",
      "2020-04-22 21:43:06,613 - scan_AnyScan_anyScan - INFO - Made 2 clusters in 0.031869 seconds\n",
      "INFO:scan_AnyScan_anyScan:Made 2 clusters in 0.031869 seconds\n"
     ]
    },
    {
     "name": "stdout",
     "output_type": "stream",
     "text": [
      "runing  scan_AnyScan_anyScan K_DoesAlgSupportWeightTest_uw1\n",
      "finished scan_AnyScan_anyScan K_DoesAlgSupportWeightTest_uw1\n"
     ]
    },
    {
     "name": "stderr",
     "output_type": "stream",
     "text": [
      "2020-04-22 21:43:06,725 - scan_AnyScan_anyScanParl - INFO - seed ignored\n",
      "INFO:scan_AnyScan_anyScanParl:seed ignored\n",
      "2020-04-22 21:43:06,726 - scan_AnyScan_anyScanParl - INFO - Running /opt/gct/submodules/ppSCAN/anyscan -c 4 -i /data/data/K_DoesAlgSupportWeightTest_w1/anyscan.txt -m 4 -e 0.5 -o output -a 32768 -b 32768 -t 7\n",
      "INFO:scan_AnyScan_anyScanParl:Running /opt/gct/submodules/ppSCAN/anyscan -c 4 -i /data/data/K_DoesAlgSupportWeightTest_w1/anyscan.txt -m 4 -e 0.5 -o output -a 32768 -b 32768 -t 7\n",
      "2020-04-22 21:43:06,776 - scan_AnyScan_anyScanParl - INFO - Made 2 clusters in 0.048962 seconds\n",
      "INFO:scan_AnyScan_anyScanParl:Made 2 clusters in 0.048962 seconds\n"
     ]
    },
    {
     "name": "stdout",
     "output_type": "stream",
     "text": [
      "runing  scan_AnyScan_anyScanParl K_DoesAlgSupportWeightTest_w1\n",
      "finished scan_AnyScan_anyScanParl K_DoesAlgSupportWeightTest_w1\n"
     ]
    },
    {
     "name": "stderr",
     "output_type": "stream",
     "text": [
      "2020-04-22 21:43:06,888 - scan_AnyScan_anyScanParl - INFO - seed ignored\n",
      "INFO:scan_AnyScan_anyScanParl:seed ignored\n",
      "2020-04-22 21:43:06,889 - scan_AnyScan_anyScanParl - INFO - Running /opt/gct/submodules/ppSCAN/anyscan -c 4 -i /data/data/K_DoesAlgSupportWeightTest_uw1/anyscan.txt -m 4 -e 0.5 -o output -a 32768 -b 32768 -t 7\n",
      "INFO:scan_AnyScan_anyScanParl:Running /opt/gct/submodules/ppSCAN/anyscan -c 4 -i /data/data/K_DoesAlgSupportWeightTest_uw1/anyscan.txt -m 4 -e 0.5 -o output -a 32768 -b 32768 -t 7\n"
     ]
    },
    {
     "name": "stdout",
     "output_type": "stream",
     "text": [
      "runing  scan_AnyScan_anyScanParl K_DoesAlgSupportWeightTest_uw1\n"
     ]
    },
    {
     "name": "stderr",
     "output_type": "stream",
     "text": [
      "2020-04-22 21:43:06,943 - scan_AnyScan_anyScanParl - INFO - Made 2 clusters in 0.052203 seconds\n",
      "INFO:scan_AnyScan_anyScanParl:Made 2 clusters in 0.052203 seconds\n"
     ]
    },
    {
     "name": "stdout",
     "output_type": "stream",
     "text": [
      "finished scan_AnyScan_anyScanParl K_DoesAlgSupportWeightTest_uw1\n"
     ]
    },
    {
     "name": "stderr",
     "output_type": "stream",
     "text": [
      "2020-04-22 21:43:07,055 - scan_AnyScan_pScan - INFO - seed ignored\n",
      "INFO:scan_AnyScan_pScan:seed ignored\n",
      "2020-04-22 21:43:07,056 - scan_AnyScan_pScan - INFO - Running /opt/gct/submodules/ppSCAN/anyscan -c 2 -i /data/data/K_DoesAlgSupportWeightTest_w1/anyscan.txt -m 4 -e 0.5 -o output -a 32768 -b 32768 -t 7\n",
      "INFO:scan_AnyScan_pScan:Running /opt/gct/submodules/ppSCAN/anyscan -c 2 -i /data/data/K_DoesAlgSupportWeightTest_w1/anyscan.txt -m 4 -e 0.5 -o output -a 32768 -b 32768 -t 7\n",
      "2020-04-22 21:43:07,065 - scan_AnyScan_pScan - INFO - Made 2 clusters in 0.006777 seconds\n",
      "INFO:scan_AnyScan_pScan:Made 2 clusters in 0.006777 seconds\n"
     ]
    },
    {
     "name": "stdout",
     "output_type": "stream",
     "text": [
      "runing  scan_AnyScan_pScan K_DoesAlgSupportWeightTest_w1\n",
      "finished scan_AnyScan_pScan K_DoesAlgSupportWeightTest_w1\n"
     ]
    },
    {
     "name": "stderr",
     "output_type": "stream",
     "text": [
      "2020-04-22 21:43:07,176 - scan_AnyScan_pScan - INFO - seed ignored\n",
      "INFO:scan_AnyScan_pScan:seed ignored\n",
      "2020-04-22 21:43:07,177 - scan_AnyScan_pScan - INFO - Running /opt/gct/submodules/ppSCAN/anyscan -c 2 -i /data/data/K_DoesAlgSupportWeightTest_uw1/anyscan.txt -m 4 -e 0.5 -o output -a 32768 -b 32768 -t 7\n",
      "INFO:scan_AnyScan_pScan:Running /opt/gct/submodules/ppSCAN/anyscan -c 2 -i /data/data/K_DoesAlgSupportWeightTest_uw1/anyscan.txt -m 4 -e 0.5 -o output -a 32768 -b 32768 -t 7\n",
      "2020-04-22 21:43:07,185 - scan_AnyScan_pScan - INFO - Made 2 clusters in 0.006315 seconds\n",
      "INFO:scan_AnyScan_pScan:Made 2 clusters in 0.006315 seconds\n"
     ]
    },
    {
     "name": "stdout",
     "output_type": "stream",
     "text": [
      "runing  scan_AnyScan_pScan K_DoesAlgSupportWeightTest_uw1\n",
      "finished scan_AnyScan_pScan K_DoesAlgSupportWeightTest_uw1\n"
     ]
    },
    {
     "name": "stderr",
     "output_type": "stream",
     "text": [
      "2020-04-22 21:43:07,296 - scan_Scanpp - INFO - seed ignored\n",
      "INFO:scan_Scanpp:seed ignored\n"
     ]
    },
    {
     "name": "stdout",
     "output_type": "stream",
     "text": [
      "runing  scan_Scanpp K_DoesAlgSupportWeightTest_w1\n",
      "except scan_Scanpp K_DoesAlgSupportWeightTest_w1\n"
     ]
    },
    {
     "name": "stderr",
     "output_type": "stream",
     "text": [
      "2020-04-22 21:43:07,407 - scan_Scanpp - INFO - seed ignored\n",
      "INFO:scan_Scanpp:seed ignored\n",
      "2020-04-22 21:43:07,408 - scan_Scanpp - INFO - Running /opt/gct/submodules/ppSCAN/scanpp -e 0 -m 1 -r /data/data/K_DoesAlgSupportWeightTest_uw1/edges.txt\n",
      "INFO:scan_Scanpp:Running /opt/gct/submodules/ppSCAN/scanpp -e 0 -m 1 -r /data/data/K_DoesAlgSupportWeightTest_uw1/edges.txt\n",
      "2020-04-22 21:43:07,414 - scan_Scanpp - INFO - Made 1 clusters in 0.005816 seconds\n",
      "INFO:scan_Scanpp:Made 1 clusters in 0.005816 seconds\n"
     ]
    },
    {
     "name": "stdout",
     "output_type": "stream",
     "text": [
      "runing  scan_Scanpp K_DoesAlgSupportWeightTest_uw1\n",
      "finished scan_Scanpp K_DoesAlgSupportWeightTest_uw1\n"
     ]
    },
    {
     "name": "stderr",
     "output_type": "stream",
     "text": [
      "2020-04-22 21:43:07,525 - scan_pScan - INFO - seed ignored\n",
      "INFO:scan_pScan:seed ignored\n",
      "2020-04-22 21:43:07,527 - Dataset:K_DoesAlgSupportWeightTest_w1 - INFO - running /opt/gct/submodules/ppSCAN/converter /data/data/K_DoesAlgSupportWeightTest_w1/edges.txt b_degree.bin b_adj.bin\n",
      "INFO:Dataset:K_DoesAlgSupportWeightTest_w1:running /opt/gct/submodules/ppSCAN/converter /data/data/K_DoesAlgSupportWeightTest_w1/edges.txt b_degree.bin b_adj.bin\n",
      "2020-04-22 21:43:07,533 - scan_pScan - INFO - Running /opt/gct/submodules/ppSCAN/pscan /tmp/tmprwdt0rfk 0.5 3 output\n",
      "INFO:scan_pScan:Running /opt/gct/submodules/ppSCAN/pscan /tmp/tmprwdt0rfk 0.5 3 output\n",
      "2020-04-22 21:43:07,547 - scan_pScan - INFO - Made 1 clusters in 0.005039 seconds\n",
      "INFO:scan_pScan:Made 1 clusters in 0.005039 seconds\n"
     ]
    },
    {
     "name": "stdout",
     "output_type": "stream",
     "text": [
      "runing  scan_pScan K_DoesAlgSupportWeightTest_w1\n",
      "finished scan_pScan K_DoesAlgSupportWeightTest_w1\n"
     ]
    },
    {
     "name": "stderr",
     "output_type": "stream",
     "text": [
      "2020-04-22 21:43:07,657 - scan_pScan - INFO - seed ignored\n",
      "INFO:scan_pScan:seed ignored\n",
      "2020-04-22 21:43:07,659 - Dataset:K_DoesAlgSupportWeightTest_uw1 - INFO - running /opt/gct/submodules/ppSCAN/converter /data/data/K_DoesAlgSupportWeightTest_uw1/edges.txt b_degree.bin b_adj.bin\n",
      "INFO:Dataset:K_DoesAlgSupportWeightTest_uw1:running /opt/gct/submodules/ppSCAN/converter /data/data/K_DoesAlgSupportWeightTest_uw1/edges.txt b_degree.bin b_adj.bin\n",
      "2020-04-22 21:43:07,665 - scan_pScan - INFO - Running /opt/gct/submodules/ppSCAN/pscan /tmp/tmprnp1d33f 0.5 3 output\n",
      "INFO:scan_pScan:Running /opt/gct/submodules/ppSCAN/pscan /tmp/tmprnp1d33f 0.5 3 output\n",
      "2020-04-22 21:43:07,679 - scan_pScan - INFO - Made 1 clusters in 0.005212 seconds\n",
      "INFO:scan_pScan:Made 1 clusters in 0.005212 seconds\n"
     ]
    },
    {
     "name": "stdout",
     "output_type": "stream",
     "text": [
      "runing  scan_pScan K_DoesAlgSupportWeightTest_uw1\n",
      "finished scan_pScan K_DoesAlgSupportWeightTest_uw1\n"
     ]
    },
    {
     "name": "stderr",
     "output_type": "stream",
     "text": [
      "2020-04-22 21:43:07,789 - scan_ppScan - INFO - seed ignored\n",
      "INFO:scan_ppScan:seed ignored\n",
      "2020-04-22 21:43:07,790 - scan_ppScan - INFO - Running /opt/gct/submodules/ppSCAN/pSCANParallel /tmp/tmpys0jo9bh 0.5 3 output\n",
      "INFO:scan_ppScan:Running /opt/gct/submodules/ppSCAN/pSCANParallel /tmp/tmpys0jo9bh 0.5 3 output\n",
      "2020-04-22 21:43:07,805 - scan_ppScan - INFO - Made 1 clusters in 0.007162 seconds\n",
      "INFO:scan_ppScan:Made 1 clusters in 0.007162 seconds\n"
     ]
    },
    {
     "name": "stdout",
     "output_type": "stream",
     "text": [
      "runing  scan_ppScan K_DoesAlgSupportWeightTest_w1\n",
      "finished scan_ppScan K_DoesAlgSupportWeightTest_w1\n"
     ]
    },
    {
     "name": "stderr",
     "output_type": "stream",
     "text": [
      "2020-04-22 21:43:07,916 - scan_ppScan - INFO - seed ignored\n",
      "INFO:scan_ppScan:seed ignored\n",
      "2020-04-22 21:43:07,917 - scan_ppScan - INFO - Running /opt/gct/submodules/ppSCAN/pSCANParallel /tmp/tmp1gzamt1v 0.5 3 output\n",
      "INFO:scan_ppScan:Running /opt/gct/submodules/ppSCAN/pSCANParallel /tmp/tmp1gzamt1v 0.5 3 output\n",
      "2020-04-22 21:43:07,932 - scan_ppScan - INFO - Made 1 clusters in 0.007182 seconds\n",
      "INFO:scan_ppScan:Made 1 clusters in 0.007182 seconds\n"
     ]
    },
    {
     "name": "stdout",
     "output_type": "stream",
     "text": [
      "runing  scan_ppScan K_DoesAlgSupportWeightTest_uw1\n",
      "finished scan_ppScan K_DoesAlgSupportWeightTest_uw1\n"
     ]
    },
    {
     "name": "stderr",
     "output_type": "stream",
     "text": [
      "2020-04-22 21:43:08,043 - scan_ppScanSSE - INFO - seed ignored\n",
      "INFO:scan_ppScanSSE:seed ignored\n",
      "2020-04-22 21:43:08,044 - scan_ppScanSSE - INFO - Running /opt/gct/submodules/ppSCAN/pSCANParallelSSE /tmp/tmpy8mx5dgu 0.5 3 output\n",
      "INFO:scan_ppScanSSE:Running /opt/gct/submodules/ppSCAN/pSCANParallelSSE /tmp/tmpy8mx5dgu 0.5 3 output\n",
      "2020-04-22 21:43:08,063 - scan_ppScanSSE - INFO - Made 1 clusters in 0.009238 seconds\n",
      "INFO:scan_ppScanSSE:Made 1 clusters in 0.009238 seconds\n"
     ]
    },
    {
     "name": "stdout",
     "output_type": "stream",
     "text": [
      "runing  scan_ppScanSSE K_DoesAlgSupportWeightTest_w1\n",
      "finished scan_ppScanSSE K_DoesAlgSupportWeightTest_w1\n"
     ]
    },
    {
     "name": "stderr",
     "output_type": "stream",
     "text": [
      "2020-04-22 21:43:08,175 - scan_ppScanSSE - INFO - seed ignored\n",
      "INFO:scan_ppScanSSE:seed ignored\n",
      "2020-04-22 21:43:08,176 - scan_ppScanSSE - INFO - Running /opt/gct/submodules/ppSCAN/pSCANParallelSSE /tmp/tmp23nmpwy6 0.5 3 output\n",
      "INFO:scan_ppScanSSE:Running /opt/gct/submodules/ppSCAN/pSCANParallelSSE /tmp/tmp23nmpwy6 0.5 3 output\n",
      "2020-04-22 21:43:08,191 - scan_ppScanSSE - INFO - Made 1 clusters in 0.007546 seconds\n",
      "INFO:scan_ppScanSSE:Made 1 clusters in 0.007546 seconds\n"
     ]
    },
    {
     "name": "stdout",
     "output_type": "stream",
     "text": [
      "runing  scan_ppScanSSE K_DoesAlgSupportWeightTest_uw1\n",
      "finished scan_ppScanSSE K_DoesAlgSupportWeightTest_uw1\n"
     ]
    },
    {
     "name": "stderr",
     "output_type": "stream",
     "text": [
      "2020-04-22 21:43:08,303 - sklearn_AffinityPropagation - INFO - seed ignored\n",
      "INFO:sklearn_AffinityPropagation:seed ignored\n",
      "2020-04-22 21:43:08,303 - Dataset:K_DoesAlgSupportWeightTest_w1 - INFO - reading /data/data/K_DoesAlgSupportWeightTest_w1/edges.parq\n",
      "INFO:Dataset:K_DoesAlgSupportWeightTest_w1:reading /data/data/K_DoesAlgSupportWeightTest_w1/edges.parq\n",
      "/opt/conda/envs/python3/lib/python3.6/site-packages/sklearn/cluster/affinity_propagation_.py:224: ConvergenceWarning: Affinity propagation did not converge, this model will not have any cluster centers.\n",
      "  \"will not have any cluster centers.\", ConvergenceWarning)\n",
      "2020-04-22 21:43:08,329 - sklearn_AffinityPropagation - INFO - Made 1 clusters in 0.020069 seconds\n",
      "INFO:sklearn_AffinityPropagation:Made 1 clusters in 0.020069 seconds\n"
     ]
    },
    {
     "name": "stdout",
     "output_type": "stream",
     "text": [
      "runing  sklearn_AffinityPropagation K_DoesAlgSupportWeightTest_w1\n",
      "finished sklearn_AffinityPropagation K_DoesAlgSupportWeightTest_w1\n"
     ]
    },
    {
     "name": "stderr",
     "output_type": "stream",
     "text": [
      "2020-04-22 21:43:08,440 - sklearn_AffinityPropagation - INFO - seed ignored\n",
      "INFO:sklearn_AffinityPropagation:seed ignored\n",
      "2020-04-22 21:43:08,441 - Dataset:K_DoesAlgSupportWeightTest_uw1 - INFO - reading /data/data/K_DoesAlgSupportWeightTest_uw1/edges.parq\n",
      "INFO:Dataset:K_DoesAlgSupportWeightTest_uw1:reading /data/data/K_DoesAlgSupportWeightTest_uw1/edges.parq\n",
      "2020-04-22 21:43:08,447 - sklearn_AffinityPropagation - INFO - Made 2 clusters in 0.002606 seconds\n",
      "INFO:sklearn_AffinityPropagation:Made 2 clusters in 0.002606 seconds\n"
     ]
    },
    {
     "name": "stdout",
     "output_type": "stream",
     "text": [
      "runing  sklearn_AffinityPropagation K_DoesAlgSupportWeightTest_uw1\n",
      "finished sklearn_AffinityPropagation K_DoesAlgSupportWeightTest_uw1\n"
     ]
    },
    {
     "name": "stderr",
     "output_type": "stream",
     "text": [
      "2020-04-22 21:43:08,558 - sklearn_SpectralClustering - INFO - seed ignored\n",
      "INFO:sklearn_SpectralClustering:seed ignored\n",
      "2020-04-22 21:43:08,558 - Dataset:K_DoesAlgSupportWeightTest_w1 - INFO - reading /data/data/K_DoesAlgSupportWeightTest_w1/edges.parq\n",
      "INFO:Dataset:K_DoesAlgSupportWeightTest_w1:reading /data/data/K_DoesAlgSupportWeightTest_w1/edges.parq\n",
      "2020-04-22 21:43:08,616 - sklearn_SpectralClustering - INFO - Made 8 clusters in 0.053704 seconds\n",
      "INFO:sklearn_SpectralClustering:Made 8 clusters in 0.053704 seconds\n"
     ]
    },
    {
     "name": "stdout",
     "output_type": "stream",
     "text": [
      "runing  sklearn_SpectralClustering K_DoesAlgSupportWeightTest_w1\n",
      "finished sklearn_SpectralClustering K_DoesAlgSupportWeightTest_w1\n"
     ]
    },
    {
     "name": "stderr",
     "output_type": "stream",
     "text": [
      "2020-04-22 21:43:08,729 - sklearn_SpectralClustering - INFO - seed ignored\n",
      "INFO:sklearn_SpectralClustering:seed ignored\n",
      "2020-04-22 21:43:08,730 - Dataset:K_DoesAlgSupportWeightTest_uw1 - INFO - reading /data/data/K_DoesAlgSupportWeightTest_uw1/edges.parq\n",
      "INFO:Dataset:K_DoesAlgSupportWeightTest_uw1:reading /data/data/K_DoesAlgSupportWeightTest_uw1/edges.parq\n"
     ]
    },
    {
     "name": "stdout",
     "output_type": "stream",
     "text": [
      "runing  sklearn_SpectralClustering K_DoesAlgSupportWeightTest_uw1\n"
     ]
    },
    {
     "name": "stderr",
     "output_type": "stream",
     "text": [
      "2020-04-22 21:43:08,774 - sklearn_SpectralClustering - INFO - Made 8 clusters in 0.039978 seconds\n",
      "INFO:sklearn_SpectralClustering:Made 8 clusters in 0.039978 seconds\n"
     ]
    },
    {
     "name": "stdout",
     "output_type": "stream",
     "text": [
      "finished sklearn_SpectralClustering K_DoesAlgSupportWeightTest_uw1\n"
     ]
    },
    {
     "name": "stderr",
     "output_type": "stream",
     "text": [
      "2020-04-22 21:43:08,887 - snap_Clauset_Newman_Moore - INFO - seed ignored\n",
      "INFO:snap_Clauset_Newman_Moore:seed ignored\n",
      "2020-04-22 21:43:08,888 - snap_Clauset_Newman_Moore - INFO - Made 2 clusters in 0.000125 seconds. modularity of the graph is 0.247922\n",
      "INFO:snap_Clauset_Newman_Moore:Made 2 clusters in 0.000125 seconds. modularity of the graph is 0.247922\n"
     ]
    },
    {
     "name": "stdout",
     "output_type": "stream",
     "text": [
      "runing  snap_Clauset_Newman_Moore K_DoesAlgSupportWeightTest_w1\n",
      "finished snap_Clauset_Newman_Moore K_DoesAlgSupportWeightTest_w1\n"
     ]
    },
    {
     "name": "stderr",
     "output_type": "stream",
     "text": [
      "2020-04-22 21:43:08,999 - snap_Clauset_Newman_Moore - INFO - seed ignored\n",
      "INFO:snap_Clauset_Newman_Moore:seed ignored\n",
      "2020-04-22 21:43:09,001 - snap_Clauset_Newman_Moore - INFO - Made 2 clusters in 0.000070 seconds. modularity of the graph is 0.247922\n",
      "INFO:snap_Clauset_Newman_Moore:Made 2 clusters in 0.000070 seconds. modularity of the graph is 0.247922\n"
     ]
    },
    {
     "name": "stdout",
     "output_type": "stream",
     "text": [
      "runing  snap_Clauset_Newman_Moore K_DoesAlgSupportWeightTest_uw1\n",
      "finished snap_Clauset_Newman_Moore K_DoesAlgSupportWeightTest_uw1\n"
     ]
    },
    {
     "name": "stderr",
     "output_type": "stream",
     "text": [
      "2020-04-22 21:43:09,112 - snap_Girvan_Newman - INFO - seed ignored\n",
      "INFO:snap_Girvan_Newman:seed ignored\n",
      "2020-04-22 21:43:09,114 - snap_Girvan_Newman - INFO - Made 2 clusters in 0.001020 seconds. modularity of the graph is 0.247922\n",
      "INFO:snap_Girvan_Newman:Made 2 clusters in 0.001020 seconds. modularity of the graph is 0.247922\n"
     ]
    },
    {
     "name": "stdout",
     "output_type": "stream",
     "text": [
      "runing  snap_Girvan_Newman K_DoesAlgSupportWeightTest_w1\n",
      "finished snap_Girvan_Newman K_DoesAlgSupportWeightTest_w1\n"
     ]
    },
    {
     "name": "stderr",
     "output_type": "stream",
     "text": [
      "2020-04-22 21:43:09,225 - snap_Girvan_Newman - INFO - seed ignored\n",
      "INFO:snap_Girvan_Newman:seed ignored\n",
      "2020-04-22 21:43:09,227 - snap_Girvan_Newman - INFO - Made 2 clusters in 0.001097 seconds. modularity of the graph is 0.247922\n",
      "INFO:snap_Girvan_Newman:Made 2 clusters in 0.001097 seconds. modularity of the graph is 0.247922\n"
     ]
    },
    {
     "name": "stdout",
     "output_type": "stream",
     "text": [
      "runing  snap_Girvan_Newman K_DoesAlgSupportWeightTest_uw1\n",
      "finished snap_Girvan_Newman K_DoesAlgSupportWeightTest_uw1\n"
     ]
    },
    {
     "name": "stderr",
     "output_type": "stream",
     "text": [
      "2020-04-22 21:43:09,344 - alg_Paris - INFO - Made 3 clusters in 0.005904 seconds\n",
      "INFO:alg_Paris:Made 3 clusters in 0.005904 seconds\n"
     ]
    },
    {
     "name": "stdout",
     "output_type": "stream",
     "text": [
      "runing  alg_Paris K_DoesAlgSupportWeightTest_w1\n",
      "finished alg_Paris K_DoesAlgSupportWeightTest_w1\n"
     ]
    },
    {
     "name": "stderr",
     "output_type": "stream",
     "text": [
      "2020-04-22 21:43:09,455 - alg_Paris - INFO - Made 2 clusters in 0.000909 seconds\n",
      "INFO:alg_Paris:Made 2 clusters in 0.000909 seconds\n"
     ]
    },
    {
     "name": "stdout",
     "output_type": "stream",
     "text": [
      "runing  alg_Paris K_DoesAlgSupportWeightTest_uw1\n",
      "finished alg_Paris K_DoesAlgSupportWeightTest_uw1\n"
     ]
    },
    {
     "name": "stderr",
     "output_type": "stream",
     "text": [
      "2020-04-22 21:43:09,566 - alg_lso_cluster - INFO - Running /opt/gct/submodules/graph-cluster/lso-cluster /tmp/tmp4hmhk9hy/edges.txt --seed 123 --loss modularity -o lsooutput\n",
      "INFO:alg_lso_cluster:Running /opt/gct/submodules/graph-cluster/lso-cluster /tmp/tmp4hmhk9hy/edges.txt --seed 123 --loss modularity -o lsooutput\n",
      "2020-04-22 21:43:09,579 - alg_lso_cluster - INFO - Made 3 clusters in 0.007600 seconds\n",
      "INFO:alg_lso_cluster:Made 3 clusters in 0.007600 seconds\n"
     ]
    },
    {
     "name": "stdout",
     "output_type": "stream",
     "text": [
      "runing  alg_lso_cluster K_DoesAlgSupportWeightTest_w1\n",
      "finished alg_lso_cluster K_DoesAlgSupportWeightTest_w1\n"
     ]
    },
    {
     "name": "stderr",
     "output_type": "stream",
     "text": [
      "2020-04-22 21:43:09,691 - alg_lso_cluster - INFO - Running /opt/gct/submodules/graph-cluster/lso-cluster /tmp/tmpbmrtuh4v/edges.txt --seed 123 --loss modularity -o lsooutput\n",
      "INFO:alg_lso_cluster:Running /opt/gct/submodules/graph-cluster/lso-cluster /tmp/tmpbmrtuh4v/edges.txt --seed 123 --loss modularity -o lsooutput\n",
      "2020-04-22 21:43:09,704 - alg_lso_cluster - INFO - Made 2 clusters in 0.007543 seconds\n",
      "INFO:alg_lso_cluster:Made 2 clusters in 0.007543 seconds\n"
     ]
    },
    {
     "name": "stdout",
     "output_type": "stream",
     "text": [
      "runing  alg_lso_cluster K_DoesAlgSupportWeightTest_uw1\n",
      "finished alg_lso_cluster K_DoesAlgSupportWeightTest_uw1\n"
     ]
    },
    {
     "name": "stderr",
     "output_type": "stream",
     "text": [
      "2020-04-22 21:43:09,816 - alg_streamcom - INFO - Running /opt/gct/submodules/graph-streaming/streamcom --seed 123 -f /data/data/K_DoesAlgSupportWeightTest_w1/edges.txt -o output /data/data/K_DoesAlgSupportWeightTest_w1/edges.txt\n",
      "INFO:alg_streamcom:Running /opt/gct/submodules/graph-streaming/streamcom --seed 123 -f /data/data/K_DoesAlgSupportWeightTest_w1/edges.txt -o output /data/data/K_DoesAlgSupportWeightTest_w1/edges.txt\n",
      "2020-04-22 21:43:09,824 - alg_streamcom - INFO - Made 5 clusters in 0.005946 seconds\n",
      "INFO:alg_streamcom:Made 5 clusters in 0.005946 seconds\n"
     ]
    },
    {
     "name": "stdout",
     "output_type": "stream",
     "text": [
      "runing  alg_streamcom K_DoesAlgSupportWeightTest_w1\n",
      "finished alg_streamcom K_DoesAlgSupportWeightTest_w1\n"
     ]
    },
    {
     "name": "stderr",
     "output_type": "stream",
     "text": [
      "2020-04-22 21:43:09,935 - alg_streamcom - INFO - Running /opt/gct/submodules/graph-streaming/streamcom --seed 123 -f /data/data/K_DoesAlgSupportWeightTest_uw1/edges.txt -o output /data/data/K_DoesAlgSupportWeightTest_uw1/edges.txt\n",
      "INFO:alg_streamcom:Running /opt/gct/submodules/graph-streaming/streamcom --seed 123 -f /data/data/K_DoesAlgSupportWeightTest_uw1/edges.txt -o output /data/data/K_DoesAlgSupportWeightTest_uw1/edges.txt\n",
      "2020-04-22 21:43:09,942 - alg_streamcom - INFO - Made 4 clusters in 0.005731 seconds\n",
      "INFO:alg_streamcom:Made 4 clusters in 0.005731 seconds\n"
     ]
    },
    {
     "name": "stdout",
     "output_type": "stream",
     "text": [
      "runing  alg_streamcom K_DoesAlgSupportWeightTest_uw1\n",
      "finished alg_streamcom K_DoesAlgSupportWeightTest_uw1\n"
     ]
    }
   ],
   "source": [
    "datasets=[data_w.name,data_uw.name]\n",
    "for alg in gct.list_algorithms():\n",
    "    for name in datasets:\n",
    "        run_alg_timeout(alg, name)"
   ]
  },
  {
   "cell_type": "code",
   "execution_count": 21,
   "metadata": {},
   "outputs": [
    {
     "name": "stdout",
     "output_type": "stream",
     "text": [
      "K_DoesAlgSupportWeightTest_w1 oslom_lpm\n",
      "K_DoesAlgSupportWeightTest_w1 oslom_Infohiermap\n",
      "K_DoesAlgSupportWeightTest_w1 oslom_Infomap\n",
      "K_DoesAlgSupportWeightTest_w1 oslom_OSLOM\n",
      "K_DoesAlgSupportWeightTest_w1 oslom_copra\n",
      "K_DoesAlgSupportWeightTest_w1 oslom_louvain_method\n",
      "K_DoesAlgSupportWeightTest_w1 oslom_modopt\n",
      "K_DoesAlgSupportWeightTest_w1 pycabem_GANXiSw\n",
      "K_DoesAlgSupportWeightTest_w1 pycabem_HiReCS\n",
      "K_DoesAlgSupportWeightTest_w1 pycabem_LabelRank\n",
      "K_DoesAlgSupportWeightTest_w1 cdc_CONGA\n",
      "K_DoesAlgSupportWeightTest_w1 cdc_CliquePercolation\n",
      "K_DoesAlgSupportWeightTest_w1 cdc_Connected_Iterative_Scan\n",
      "K_DoesAlgSupportWeightTest_w1 cdc_EAGLE\n",
      "K_DoesAlgSupportWeightTest_w1 cdc_FastCpm\n",
      "K_DoesAlgSupportWeightTest_w1 cdc_GCE\n",
      "K_DoesAlgSupportWeightTest_w1 cdc_LinkCommunities\n",
      "K_DoesAlgSupportWeightTest_w1 cdc_MOSES\n",
      "K_DoesAlgSupportWeightTest_w1 cdc_MSCD_AFG\n",
      "K_DoesAlgSupportWeightTest_w1 cdc_MSCD_HSLSW\n",
      "K_DoesAlgSupportWeightTest_w1 cdc_MSCD_LFK\n",
      "K_DoesAlgSupportWeightTest_w1 cdc_MSCD_LFK2\n",
      "K_DoesAlgSupportWeightTest_w1 cdc_MSCD_RB\n",
      "K_DoesAlgSupportWeightTest_w1 cdc_MSCD_RN\n",
      "K_DoesAlgSupportWeightTest_w1 cdc_MSCD_SO\n",
      "K_DoesAlgSupportWeightTest_w1 cdc_MSCD_SOM\n",
      "K_DoesAlgSupportWeightTest_w1 cdc_ParCPM\n",
      "K_DoesAlgSupportWeightTest_w1 cdc_SVINET\n",
      "K_DoesAlgSupportWeightTest_w1 cdc_TopGC\n",
      "K_DoesAlgSupportWeightTest_w1 cdc_clique_modularity\n",
      "K_DoesAlgSupportWeightTest_w1 cgcc_CGGC\n",
      "K_DoesAlgSupportWeightTest_w1 dct_dlplm\n",
      "K_DoesAlgSupportWeightTest_w1 dct_dlslm\n",
      "K_DoesAlgSupportWeightTest_w1 dct_dlslm_map_eq\n",
      "K_DoesAlgSupportWeightTest_w1 dct_dlslm_no_contraction\n",
      "K_DoesAlgSupportWeightTest_w1 dct_dlslm_with_seq\n",
      "K_DoesAlgSupportWeightTest_w1 dct_infomap\n",
      "K_DoesAlgSupportWeightTest_w1 dct_seq_louvain\n",
      "K_DoesAlgSupportWeightTest_w1 igraph_community_edge_betweenness\n",
      "K_DoesAlgSupportWeightTest_w1 igraph_community_fastgreedy\n",
      "K_DoesAlgSupportWeightTest_w1 igraph_community_infomap\n",
      "K_DoesAlgSupportWeightTest_w1 igraph_community_label_propagation\n",
      "K_DoesAlgSupportWeightTest_w1 igraph_community_leading_eigenvector\n",
      "K_DoesAlgSupportWeightTest_w1 igraph_community_multilevel\n",
      "K_DoesAlgSupportWeightTest_w1 igraph_community_optimal_modularity\n",
      "K_DoesAlgSupportWeightTest_w1 igraph_community_spinglass\n",
      "K_DoesAlgSupportWeightTest_w1 igraph_community_walktrap\n",
      "K_DoesAlgSupportWeightTest_w1 mcl_MCL\n",
      "K_DoesAlgSupportWeightTest_w1 networkit_CutClustering\n",
      "K_DoesAlgSupportWeightTest_w1 networkit_LPDegreeOrdered\n",
      "K_DoesAlgSupportWeightTest_w1 networkit_PLM\n",
      "K_DoesAlgSupportWeightTest_w1 networkit_PLP\n",
      "K_DoesAlgSupportWeightTest_w1 alg_GossipMap\n",
      "K_DoesAlgSupportWeightTest_w1 alg_RelaxMap\n",
      "K_DoesAlgSupportWeightTest_w1 alg_pg_label_propagation\n",
      "K_DoesAlgSupportWeightTest_w1 scan_AnyScan_Scan\n",
      "K_DoesAlgSupportWeightTest_w1 scan_AnyScan_anyScan\n",
      "K_DoesAlgSupportWeightTest_w1 scan_AnyScan_anyScanParl\n",
      "K_DoesAlgSupportWeightTest_w1 scan_AnyScan_pScan\n",
      "K_DoesAlgSupportWeightTest_w1 scan_pScan\n",
      "K_DoesAlgSupportWeightTest_w1 scan_ppScan\n",
      "K_DoesAlgSupportWeightTest_w1 scan_ppScanSSE\n",
      "K_DoesAlgSupportWeightTest_w1 sklearn_AffinityPropagation\n",
      "K_DoesAlgSupportWeightTest_w1 sklearn_SpectralClustering\n",
      "K_DoesAlgSupportWeightTest_w1 snap_Clauset_Newman_Moore\n",
      "K_DoesAlgSupportWeightTest_w1 snap_Girvan_Newman\n",
      "K_DoesAlgSupportWeightTest_w1 alg_Paris\n",
      "K_DoesAlgSupportWeightTest_w1 alg_lso_cluster\n",
      "K_DoesAlgSupportWeightTest_w1 alg_streamcom\n",
      "K_DoesAlgSupportWeightTest_uw1 oslom_Infohiermap\n",
      "K_DoesAlgSupportWeightTest_uw1 oslom_Infomap\n",
      "K_DoesAlgSupportWeightTest_uw1 oslom_OSLOM\n",
      "K_DoesAlgSupportWeightTest_uw1 oslom_copra\n",
      "K_DoesAlgSupportWeightTest_uw1 oslom_louvain_method\n",
      "K_DoesAlgSupportWeightTest_uw1 oslom_lpm\n",
      "K_DoesAlgSupportWeightTest_uw1 oslom_modopt\n",
      "K_DoesAlgSupportWeightTest_uw1 pycabem_GANXiSw\n",
      "K_DoesAlgSupportWeightTest_uw1 pycabem_HiReCS\n",
      "K_DoesAlgSupportWeightTest_uw1 pycabem_LabelRank\n",
      "K_DoesAlgSupportWeightTest_uw1 cdc_CONGA\n",
      "K_DoesAlgSupportWeightTest_uw1 cdc_CliquePercolation\n",
      "K_DoesAlgSupportWeightTest_uw1 cdc_Connected_Iterative_Scan\n",
      "K_DoesAlgSupportWeightTest_uw1 cdc_EAGLE\n",
      "K_DoesAlgSupportWeightTest_uw1 cdc_FastCpm\n",
      "K_DoesAlgSupportWeightTest_uw1 cdc_GCE\n",
      "K_DoesAlgSupportWeightTest_uw1 cdc_LinkCommunities\n",
      "K_DoesAlgSupportWeightTest_uw1 cdc_MOSES\n",
      "K_DoesAlgSupportWeightTest_uw1 cdc_MSCD_AFG\n",
      "K_DoesAlgSupportWeightTest_uw1 cdc_MSCD_HSLSW\n",
      "K_DoesAlgSupportWeightTest_uw1 cdc_MSCD_LFK\n",
      "K_DoesAlgSupportWeightTest_uw1 cdc_MSCD_LFK2\n",
      "K_DoesAlgSupportWeightTest_uw1 cdc_MSCD_RB\n",
      "K_DoesAlgSupportWeightTest_uw1 cdc_MSCD_RN\n",
      "K_DoesAlgSupportWeightTest_uw1 cdc_MSCD_SO\n",
      "K_DoesAlgSupportWeightTest_uw1 cdc_MSCD_SOM\n",
      "K_DoesAlgSupportWeightTest_uw1 cdc_ParCPM\n",
      "K_DoesAlgSupportWeightTest_uw1 cdc_SVINET\n",
      "K_DoesAlgSupportWeightTest_uw1 cdc_TopGC\n",
      "K_DoesAlgSupportWeightTest_uw1 cdc_clique_modularity\n",
      "K_DoesAlgSupportWeightTest_uw1 cgcc_CGGC\n",
      "K_DoesAlgSupportWeightTest_uw1 dct_dlplm\n",
      "K_DoesAlgSupportWeightTest_uw1 dct_dlslm\n",
      "K_DoesAlgSupportWeightTest_uw1 dct_dlslm_map_eq\n",
      "K_DoesAlgSupportWeightTest_uw1 dct_dlslm_no_contraction\n",
      "K_DoesAlgSupportWeightTest_uw1 dct_dlslm_with_seq\n",
      "K_DoesAlgSupportWeightTest_uw1 dct_infomap\n",
      "K_DoesAlgSupportWeightTest_uw1 dct_seq_louvain\n",
      "K_DoesAlgSupportWeightTest_uw1 igraph_community_edge_betweenness\n",
      "K_DoesAlgSupportWeightTest_uw1 igraph_community_fastgreedy\n",
      "K_DoesAlgSupportWeightTest_uw1 igraph_community_infomap\n",
      "K_DoesAlgSupportWeightTest_uw1 igraph_community_label_propagation\n",
      "K_DoesAlgSupportWeightTest_uw1 igraph_community_leading_eigenvector\n",
      "K_DoesAlgSupportWeightTest_uw1 igraph_community_multilevel\n",
      "K_DoesAlgSupportWeightTest_uw1 igraph_community_optimal_modularity\n",
      "K_DoesAlgSupportWeightTest_uw1 igraph_community_spinglass\n",
      "K_DoesAlgSupportWeightTest_uw1 igraph_community_walktrap\n",
      "K_DoesAlgSupportWeightTest_uw1 mcl_MCL\n",
      "K_DoesAlgSupportWeightTest_uw1 networkit_CutClustering\n",
      "K_DoesAlgSupportWeightTest_uw1 networkit_LPDegreeOrdered\n",
      "K_DoesAlgSupportWeightTest_uw1 networkit_PLM\n",
      "K_DoesAlgSupportWeightTest_uw1 networkit_PLP\n",
      "K_DoesAlgSupportWeightTest_uw1 alg_GossipMap\n",
      "K_DoesAlgSupportWeightTest_uw1 alg_RelaxMap\n",
      "K_DoesAlgSupportWeightTest_uw1 alg_pg_label_propagation\n",
      "K_DoesAlgSupportWeightTest_uw1 scan_AnyScan_Scan\n",
      "K_DoesAlgSupportWeightTest_uw1 scan_AnyScan_anyScan\n",
      "K_DoesAlgSupportWeightTest_uw1 scan_AnyScan_anyScanParl\n",
      "K_DoesAlgSupportWeightTest_uw1 scan_AnyScan_pScan\n",
      "K_DoesAlgSupportWeightTest_uw1 scan_Scanpp\n",
      "K_DoesAlgSupportWeightTest_uw1 scan_pScan\n",
      "K_DoesAlgSupportWeightTest_uw1 scan_ppScan\n",
      "K_DoesAlgSupportWeightTest_uw1 scan_ppScanSSE\n",
      "K_DoesAlgSupportWeightTest_uw1 sklearn_AffinityPropagation\n",
      "K_DoesAlgSupportWeightTest_uw1 sklearn_SpectralClustering\n",
      "K_DoesAlgSupportWeightTest_uw1 snap_Clauset_Newman_Moore\n",
      "K_DoesAlgSupportWeightTest_uw1 snap_Girvan_Newman\n",
      "K_DoesAlgSupportWeightTest_uw1 alg_Paris\n",
      "K_DoesAlgSupportWeightTest_uw1 alg_lso_cluster\n",
      "K_DoesAlgSupportWeightTest_uw1 alg_streamcom\n"
     ]
    }
   ],
   "source": [
    "    results = {}\n",
    "    d = gct.list_all_clustering_results(print_format=False)\n",
    "    for u in d:\n",
    "        if prefix + \"_\" in u:\n",
    "            for run in d[u]:\n",
    "                a = gct.load_clustering_result(u, run)\n",
    "                print (u, run)\n",
    "                results[u + run] = a\n",
    "\n"
   ]
  },
  {
   "cell_type": "code",
   "execution_count": 22,
   "metadata": {},
   "outputs": [
    {
     "name": "stderr",
     "output_type": "stream",
     "text": [
      "2020-04-22 21:43:10,109 - ClusterComparator - INFO - resulting 9 nodes out of 9,9\n",
      "INFO:ClusterComparator:resulting 9 nodes out of 9,9\n",
      "/opt/conda/envs/python3/lib/python3.6/site-packages/sklearn/metrics/cluster/supervised.py:859: FutureWarning: The behavior of NMI will change in version 0.22. To match the behavior of 'v_measure_score', NMI will use average_method='arithmetic' by default.\n",
      "  FutureWarning)\n",
      "2020-04-22 21:43:10,119 - ClusterComparator - INFO - Running /opt/gct/submodules/OvpNMI/onmi /tmp/tmp2_dvhxv5/cluster1.cnl /tmp/tmp2_dvhxv5/cluster2.cnl > ovpnmioutput\n",
      "INFO:ClusterComparator:Running /opt/gct/submodules/OvpNMI/onmi /tmp/tmp2_dvhxv5/cluster1.cnl /tmp/tmp2_dvhxv5/cluster2.cnl > ovpnmioutput\n",
      "2020-04-22 21:43:10,130 - Clustering - INFO - reading/data/data/K_DoesAlgSupportWeightTest_w1/gt_default.parq\n",
      "INFO:Clustering:reading/data/data/K_DoesAlgSupportWeightTest_w1/gt_default.parq\n",
      "2020-04-22 21:43:10,136 - ClusterComparator - INFO - resulting 9 nodes out of 9,9\n",
      "INFO:ClusterComparator:resulting 9 nodes out of 9,9\n",
      "/opt/conda/envs/python3/lib/python3.6/site-packages/sklearn/metrics/cluster/supervised.py:859: FutureWarning: The behavior of NMI will change in version 0.22. To match the behavior of 'v_measure_score', NMI will use average_method='arithmetic' by default.\n",
      "  FutureWarning)\n",
      "2020-04-22 21:43:10,142 - Clustering - INFO - persistent cluster to cnl file: /data/data/K_DoesAlgSupportWeightTest_w1/gt_default.parq.cnl\n",
      "INFO:Clustering:persistent cluster to cnl file: /data/data/K_DoesAlgSupportWeightTest_w1/gt_default.parq.cnl\n",
      "2020-04-22 21:43:10,146 - ClusterComparator - INFO - Running /opt/gct/submodules/OvpNMI/onmi /tmp/tmpnn7cg9wd/cluster1.cnl /tmp/tmpnn7cg9wd/cluster2.cnl > ovpnmioutput\n",
      "INFO:ClusterComparator:Running /opt/gct/submodules/OvpNMI/onmi /tmp/tmpnn7cg9wd/cluster1.cnl /tmp/tmpnn7cg9wd/cluster2.cnl > ovpnmioutput\n",
      "2020-04-22 21:43:10,155 - ClusterComparator - INFO - resulting 9 nodes out of 9,9\n",
      "INFO:ClusterComparator:resulting 9 nodes out of 9,9\n",
      "/opt/conda/envs/python3/lib/python3.6/site-packages/sklearn/metrics/cluster/supervised.py:859: FutureWarning: The behavior of NMI will change in version 0.22. To match the behavior of 'v_measure_score', NMI will use average_method='arithmetic' by default.\n",
      "  FutureWarning)\n",
      "2020-04-22 21:43:10,164 - ClusterComparator - INFO - Running /opt/gct/submodules/OvpNMI/onmi /tmp/tmpwp58l67l/cluster1.cnl /tmp/tmpwp58l67l/cluster2.cnl > ovpnmioutput\n",
      "INFO:ClusterComparator:Running /opt/gct/submodules/OvpNMI/onmi /tmp/tmpwp58l67l/cluster1.cnl /tmp/tmpwp58l67l/cluster2.cnl > ovpnmioutput\n",
      "2020-04-22 21:43:10,178 - ClusterComparator - INFO - resulting 9 nodes out of 9,9\n",
      "INFO:ClusterComparator:resulting 9 nodes out of 9,9\n",
      "/opt/conda/envs/python3/lib/python3.6/site-packages/sklearn/metrics/cluster/supervised.py:859: FutureWarning: The behavior of NMI will change in version 0.22. To match the behavior of 'v_measure_score', NMI will use average_method='arithmetic' by default.\n",
      "  FutureWarning)\n",
      "2020-04-22 21:43:10,183 - Clustering - INFO - reading/data/data/K_DoesAlgSupportWeightTest_w1/gt_default.parq\n",
      "INFO:Clustering:reading/data/data/K_DoesAlgSupportWeightTest_w1/gt_default.parq\n",
      "2020-04-22 21:43:10,188 - ClusterComparator - INFO - resulting 9 nodes out of 9,9\n",
      "INFO:ClusterComparator:resulting 9 nodes out of 9,9\n",
      "2020-04-22 21:43:10,194 - ClusterComparator - INFO - resulting 9 nodes out of 9,9\n",
      "INFO:ClusterComparator:resulting 9 nodes out of 9,9\n",
      "/opt/conda/envs/python3/lib/python3.6/site-packages/sklearn/metrics/cluster/supervised.py:859: FutureWarning: The behavior of NMI will change in version 0.22. To match the behavior of 'v_measure_score', NMI will use average_method='arithmetic' by default.\n",
      "  FutureWarning)\n",
      "2020-04-22 21:43:10,203 - ClusterComparator - INFO - resulting 9 nodes out of 9,9\n",
      "INFO:ClusterComparator:resulting 9 nodes out of 9,9\n",
      "/opt/conda/envs/python3/lib/python3.6/site-packages/sklearn/metrics/cluster/supervised.py:859: FutureWarning: The behavior of NMI will change in version 0.22. To match the behavior of 'v_measure_score', NMI will use average_method='arithmetic' by default.\n",
      "  FutureWarning)\n",
      "2020-04-22 21:43:10,211 - ClusterComparator - INFO - Running /opt/gct/submodules/OvpNMI/onmi /tmp/tmpxrazervj/cluster1.cnl /tmp/tmpxrazervj/cluster2.cnl > ovpnmioutput\n",
      "INFO:ClusterComparator:Running /opt/gct/submodules/OvpNMI/onmi /tmp/tmpxrazervj/cluster1.cnl /tmp/tmpxrazervj/cluster2.cnl > ovpnmioutput\n",
      "2020-04-22 21:43:10,219 - Clustering - INFO - reading/data/data/K_DoesAlgSupportWeightTest_w1/gt_default.parq\n",
      "INFO:Clustering:reading/data/data/K_DoesAlgSupportWeightTest_w1/gt_default.parq\n",
      "2020-04-22 21:43:10,226 - ClusterComparator - INFO - resulting 9 nodes out of 9,9\n",
      "INFO:ClusterComparator:resulting 9 nodes out of 9,9\n",
      "/opt/conda/envs/python3/lib/python3.6/site-packages/sklearn/metrics/cluster/supervised.py:859: FutureWarning: The behavior of NMI will change in version 0.22. To match the behavior of 'v_measure_score', NMI will use average_method='arithmetic' by default.\n",
      "  FutureWarning)\n",
      "2020-04-22 21:43:10,233 - ClusterComparator - INFO - Running /opt/gct/submodules/OvpNMI/onmi /tmp/tmp5ado_96w/cluster1.cnl /tmp/tmp5ado_96w/cluster2.cnl > ovpnmioutput\n",
      "INFO:ClusterComparator:Running /opt/gct/submodules/OvpNMI/onmi /tmp/tmp5ado_96w/cluster1.cnl /tmp/tmp5ado_96w/cluster2.cnl > ovpnmioutput\n",
      "2020-04-22 21:43:10,241 - ClusterComparator - INFO - resulting 9 nodes out of 9,9\n",
      "INFO:ClusterComparator:resulting 9 nodes out of 9,9\n",
      "/opt/conda/envs/python3/lib/python3.6/site-packages/sklearn/metrics/cluster/supervised.py:859: FutureWarning: The behavior of NMI will change in version 0.22. To match the behavior of 'v_measure_score', NMI will use average_method='arithmetic' by default.\n",
      "  FutureWarning)\n",
      "2020-04-22 21:43:10,250 - ClusterComparator - INFO - Running /opt/gct/submodules/OvpNMI/onmi /tmp/tmpluft21a3/cluster1.cnl /tmp/tmpluft21a3/cluster2.cnl > ovpnmioutput\n",
      "INFO:ClusterComparator:Running /opt/gct/submodules/OvpNMI/onmi /tmp/tmpluft21a3/cluster1.cnl /tmp/tmpluft21a3/cluster2.cnl > ovpnmioutput\n",
      "2020-04-22 21:43:10,277 - ClusterComparator - INFO - resulting 9 nodes out of 9,9\n",
      "INFO:ClusterComparator:resulting 9 nodes out of 9,9\n",
      "/opt/conda/envs/python3/lib/python3.6/site-packages/sklearn/metrics/cluster/supervised.py:859: FutureWarning: The behavior of NMI will change in version 0.22. To match the behavior of 'v_measure_score', NMI will use average_method='arithmetic' by default.\n",
      "  FutureWarning)\n",
      "2020-04-22 21:43:10,287 - ClusterComparator - INFO - Running /opt/gct/submodules/OvpNMI/onmi /tmp/tmpg54w1upo/cluster1.cnl /tmp/tmpg54w1upo/cluster2.cnl > ovpnmioutput\n",
      "INFO:ClusterComparator:Running /opt/gct/submodules/OvpNMI/onmi /tmp/tmpg54w1upo/cluster1.cnl /tmp/tmpg54w1upo/cluster2.cnl > ovpnmioutput\n",
      "2020-04-22 21:43:10,295 - Clustering - INFO - reading/data/data/K_DoesAlgSupportWeightTest_w1/gt_default.parq\n",
      "INFO:Clustering:reading/data/data/K_DoesAlgSupportWeightTest_w1/gt_default.parq\n",
      "2020-04-22 21:43:10,312 - ClusterComparator - INFO - resulting 9 nodes out of 9,9\n",
      "INFO:ClusterComparator:resulting 9 nodes out of 9,9\n",
      "/opt/conda/envs/python3/lib/python3.6/site-packages/sklearn/metrics/cluster/supervised.py:859: FutureWarning: The behavior of NMI will change in version 0.22. To match the behavior of 'v_measure_score', NMI will use average_method='arithmetic' by default.\n",
      "  FutureWarning)\n",
      "2020-04-22 21:43:10,320 - ClusterComparator - INFO - Running /opt/gct/submodules/OvpNMI/onmi /tmp/tmpf7os6irc/cluster1.cnl /tmp/tmpf7os6irc/cluster2.cnl > ovpnmioutput\n",
      "INFO:ClusterComparator:Running /opt/gct/submodules/OvpNMI/onmi /tmp/tmpf7os6irc/cluster1.cnl /tmp/tmpf7os6irc/cluster2.cnl > ovpnmioutput\n",
      "2020-04-22 21:43:10,329 - ClusterComparator - INFO - resulting 9 nodes out of 9,9\n",
      "INFO:ClusterComparator:resulting 9 nodes out of 9,9\n",
      "/opt/conda/envs/python3/lib/python3.6/site-packages/sklearn/metrics/cluster/supervised.py:859: FutureWarning: The behavior of NMI will change in version 0.22. To match the behavior of 'v_measure_score', NMI will use average_method='arithmetic' by default.\n",
      "  FutureWarning)\n",
      "2020-04-22 21:43:10,338 - ClusterComparator - INFO - Running /opt/gct/submodules/OvpNMI/onmi /tmp/tmpwm6ig704/cluster1.cnl /tmp/tmpwm6ig704/cluster2.cnl > ovpnmioutput\n"
     ]
    },
    {
     "name": "stderr",
     "output_type": "stream",
     "text": [
      "INFO:ClusterComparator:Running /opt/gct/submodules/OvpNMI/onmi /tmp/tmpwm6ig704/cluster1.cnl /tmp/tmpwm6ig704/cluster2.cnl > ovpnmioutput\n",
      "2020-04-22 21:43:10,352 - ClusterComparator - INFO - resulting 9 nodes out of 9,9\n",
      "INFO:ClusterComparator:resulting 9 nodes out of 9,9\n",
      "/opt/conda/envs/python3/lib/python3.6/site-packages/sklearn/metrics/cluster/supervised.py:859: FutureWarning: The behavior of NMI will change in version 0.22. To match the behavior of 'v_measure_score', NMI will use average_method='arithmetic' by default.\n",
      "  FutureWarning)\n",
      "2020-04-22 21:43:10,362 - ClusterComparator - INFO - Running /opt/gct/submodules/OvpNMI/onmi /tmp/tmp5sg4fvzz/cluster1.cnl /tmp/tmp5sg4fvzz/cluster2.cnl > ovpnmioutput\n",
      "INFO:ClusterComparator:Running /opt/gct/submodules/OvpNMI/onmi /tmp/tmp5sg4fvzz/cluster1.cnl /tmp/tmp5sg4fvzz/cluster2.cnl > ovpnmioutput\n",
      "2020-04-22 21:43:10,371 - Clustering - INFO - reading/data/data/K_DoesAlgSupportWeightTest_w1/gt_default.parq\n",
      "INFO:Clustering:reading/data/data/K_DoesAlgSupportWeightTest_w1/gt_default.parq\n",
      "2020-04-22 21:43:10,377 - ClusterComparator - INFO - resulting 9 nodes out of 9,9\n",
      "INFO:ClusterComparator:resulting 9 nodes out of 9,9\n",
      "/opt/conda/envs/python3/lib/python3.6/site-packages/sklearn/metrics/cluster/supervised.py:859: FutureWarning: The behavior of NMI will change in version 0.22. To match the behavior of 'v_measure_score', NMI will use average_method='arithmetic' by default.\n",
      "  FutureWarning)\n",
      "2020-04-22 21:43:10,385 - ClusterComparator - INFO - Running /opt/gct/submodules/OvpNMI/onmi /tmp/tmpvh23twwb/cluster1.cnl /tmp/tmpvh23twwb/cluster2.cnl > ovpnmioutput\n",
      "INFO:ClusterComparator:Running /opt/gct/submodules/OvpNMI/onmi /tmp/tmpvh23twwb/cluster1.cnl /tmp/tmpvh23twwb/cluster2.cnl > ovpnmioutput\n",
      "2020-04-22 21:43:10,393 - ClusterComparator - INFO - resulting 9 nodes out of 9,9\n",
      "INFO:ClusterComparator:resulting 9 nodes out of 9,9\n",
      "/opt/conda/envs/python3/lib/python3.6/site-packages/sklearn/metrics/cluster/supervised.py:859: FutureWarning: The behavior of NMI will change in version 0.22. To match the behavior of 'v_measure_score', NMI will use average_method='arithmetic' by default.\n",
      "  FutureWarning)\n",
      "2020-04-22 21:43:10,402 - ClusterComparator - INFO - Running /opt/gct/submodules/OvpNMI/onmi /tmp/tmpkp5ru0w_/cluster1.cnl /tmp/tmpkp5ru0w_/cluster2.cnl > ovpnmioutput\n",
      "INFO:ClusterComparator:Running /opt/gct/submodules/OvpNMI/onmi /tmp/tmpkp5ru0w_/cluster1.cnl /tmp/tmpkp5ru0w_/cluster2.cnl > ovpnmioutput\n",
      "2020-04-22 21:43:10,417 - ClusterComparator - INFO - resulting 9 nodes out of 9,9\n",
      "INFO:ClusterComparator:resulting 9 nodes out of 9,9\n",
      "/opt/conda/envs/python3/lib/python3.6/site-packages/sklearn/metrics/cluster/supervised.py:859: FutureWarning: The behavior of NMI will change in version 0.22. To match the behavior of 'v_measure_score', NMI will use average_method='arithmetic' by default.\n",
      "  FutureWarning)\n",
      "2020-04-22 21:43:10,426 - ClusterComparator - INFO - Running /opt/gct/submodules/OvpNMI/onmi /tmp/tmpi678k5wp/cluster1.cnl /tmp/tmpi678k5wp/cluster2.cnl > ovpnmioutput\n",
      "INFO:ClusterComparator:Running /opt/gct/submodules/OvpNMI/onmi /tmp/tmpi678k5wp/cluster1.cnl /tmp/tmpi678k5wp/cluster2.cnl > ovpnmioutput\n",
      "2020-04-22 21:43:10,435 - Clustering - INFO - reading/data/data/K_DoesAlgSupportWeightTest_w1/gt_default.parq\n",
      "INFO:Clustering:reading/data/data/K_DoesAlgSupportWeightTest_w1/gt_default.parq\n",
      "2020-04-22 21:43:10,441 - ClusterComparator - INFO - resulting 9 nodes out of 9,9\n",
      "INFO:ClusterComparator:resulting 9 nodes out of 9,9\n",
      "/opt/conda/envs/python3/lib/python3.6/site-packages/sklearn/metrics/cluster/supervised.py:859: FutureWarning: The behavior of NMI will change in version 0.22. To match the behavior of 'v_measure_score', NMI will use average_method='arithmetic' by default.\n",
      "  FutureWarning)\n",
      "2020-04-22 21:43:10,449 - ClusterComparator - INFO - Running /opt/gct/submodules/OvpNMI/onmi /tmp/tmp9savvo13/cluster1.cnl /tmp/tmp9savvo13/cluster2.cnl > ovpnmioutput\n",
      "INFO:ClusterComparator:Running /opt/gct/submodules/OvpNMI/onmi /tmp/tmp9savvo13/cluster1.cnl /tmp/tmp9savvo13/cluster2.cnl > ovpnmioutput\n",
      "2020-04-22 21:43:10,457 - ClusterComparator - INFO - resulting 9 nodes out of 9,9\n",
      "INFO:ClusterComparator:resulting 9 nodes out of 9,9\n",
      "/opt/conda/envs/python3/lib/python3.6/site-packages/sklearn/metrics/cluster/supervised.py:859: FutureWarning: The behavior of NMI will change in version 0.22. To match the behavior of 'v_measure_score', NMI will use average_method='arithmetic' by default.\n",
      "  FutureWarning)\n",
      "2020-04-22 21:43:10,466 - ClusterComparator - INFO - Running /opt/gct/submodules/OvpNMI/onmi /tmp/tmpzy20kuov/cluster1.cnl /tmp/tmpzy20kuov/cluster2.cnl > ovpnmioutput\n",
      "INFO:ClusterComparator:Running /opt/gct/submodules/OvpNMI/onmi /tmp/tmpzy20kuov/cluster1.cnl /tmp/tmpzy20kuov/cluster2.cnl > ovpnmioutput\n",
      "2020-04-22 21:43:10,480 - ClusterComparator - INFO - resulting 9 nodes out of 9,9\n",
      "INFO:ClusterComparator:resulting 9 nodes out of 9,9\n",
      "/opt/conda/envs/python3/lib/python3.6/site-packages/sklearn/metrics/cluster/supervised.py:859: FutureWarning: The behavior of NMI will change in version 0.22. To match the behavior of 'v_measure_score', NMI will use average_method='arithmetic' by default.\n",
      "  FutureWarning)\n",
      "2020-04-22 21:43:10,489 - ClusterComparator - INFO - Running /opt/gct/submodules/OvpNMI/onmi /tmp/tmp5q2myefd/cluster1.cnl /tmp/tmp5q2myefd/cluster2.cnl > ovpnmioutput\n",
      "INFO:ClusterComparator:Running /opt/gct/submodules/OvpNMI/onmi /tmp/tmp5q2myefd/cluster1.cnl /tmp/tmp5q2myefd/cluster2.cnl > ovpnmioutput\n",
      "2020-04-22 21:43:10,498 - Clustering - INFO - reading/data/data/K_DoesAlgSupportWeightTest_w1/gt_default.parq\n",
      "INFO:Clustering:reading/data/data/K_DoesAlgSupportWeightTest_w1/gt_default.parq\n",
      "2020-04-22 21:43:10,504 - ClusterComparator - INFO - resulting 9 nodes out of 9,9\n",
      "INFO:ClusterComparator:resulting 9 nodes out of 9,9\n",
      "/opt/conda/envs/python3/lib/python3.6/site-packages/sklearn/metrics/cluster/supervised.py:859: FutureWarning: The behavior of NMI will change in version 0.22. To match the behavior of 'v_measure_score', NMI will use average_method='arithmetic' by default.\n",
      "  FutureWarning)\n",
      "2020-04-22 21:43:10,511 - ClusterComparator - INFO - Running /opt/gct/submodules/OvpNMI/onmi /tmp/tmpisbps65l/cluster1.cnl /tmp/tmpisbps65l/cluster2.cnl > ovpnmioutput\n",
      "INFO:ClusterComparator:Running /opt/gct/submodules/OvpNMI/onmi /tmp/tmpisbps65l/cluster1.cnl /tmp/tmpisbps65l/cluster2.cnl > ovpnmioutput\n",
      "2020-04-22 21:43:10,520 - ClusterComparator - INFO - resulting 9 nodes out of 9,9\n",
      "INFO:ClusterComparator:resulting 9 nodes out of 9,9\n",
      "/opt/conda/envs/python3/lib/python3.6/site-packages/sklearn/metrics/cluster/supervised.py:859: FutureWarning: The behavior of NMI will change in version 0.22. To match the behavior of 'v_measure_score', NMI will use average_method='arithmetic' by default.\n",
      "  FutureWarning)\n",
      "2020-04-22 21:43:10,528 - ClusterComparator - INFO - Running /opt/gct/submodules/OvpNMI/onmi /tmp/tmp6pwq4b_1/cluster1.cnl /tmp/tmp6pwq4b_1/cluster2.cnl > ovpnmioutput\n",
      "INFO:ClusterComparator:Running /opt/gct/submodules/OvpNMI/onmi /tmp/tmp6pwq4b_1/cluster1.cnl /tmp/tmp6pwq4b_1/cluster2.cnl > ovpnmioutput\n",
      "2020-04-22 21:43:10,543 - ClusterComparator - INFO - resulting 9 nodes out of 9,9\n",
      "INFO:ClusterComparator:resulting 9 nodes out of 9,9\n",
      "/opt/conda/envs/python3/lib/python3.6/site-packages/sklearn/metrics/cluster/supervised.py:859: FutureWarning: The behavior of NMI will change in version 0.22. To match the behavior of 'v_measure_score', NMI will use average_method='arithmetic' by default.\n",
      "  FutureWarning)\n",
      "2020-04-22 21:43:10,552 - ClusterComparator - INFO - Running /opt/gct/submodules/OvpNMI/onmi /tmp/tmpxng80e13/cluster1.cnl /tmp/tmpxng80e13/cluster2.cnl > ovpnmioutput\n",
      "INFO:ClusterComparator:Running /opt/gct/submodules/OvpNMI/onmi /tmp/tmpxng80e13/cluster1.cnl /tmp/tmpxng80e13/cluster2.cnl > ovpnmioutput\n",
      "2020-04-22 21:43:10,560 - Clustering - INFO - reading/data/data/K_DoesAlgSupportWeightTest_w1/gt_default.parq\n",
      "INFO:Clustering:reading/data/data/K_DoesAlgSupportWeightTest_w1/gt_default.parq\n",
      "2020-04-22 21:43:10,567 - ClusterComparator - INFO - resulting 9 nodes out of 9,9\n",
      "INFO:ClusterComparator:resulting 9 nodes out of 9,9\n",
      "/opt/conda/envs/python3/lib/python3.6/site-packages/sklearn/metrics/cluster/supervised.py:859: FutureWarning: The behavior of NMI will change in version 0.22. To match the behavior of 'v_measure_score', NMI will use average_method='arithmetic' by default.\n",
      "  FutureWarning)\n"
     ]
    },
    {
     "name": "stderr",
     "output_type": "stream",
     "text": [
      "2020-04-22 21:43:10,574 - ClusterComparator - INFO - Running /opt/gct/submodules/OvpNMI/onmi /tmp/tmp62wqywm0/cluster1.cnl /tmp/tmp62wqywm0/cluster2.cnl > ovpnmioutput\n",
      "INFO:ClusterComparator:Running /opt/gct/submodules/OvpNMI/onmi /tmp/tmp62wqywm0/cluster1.cnl /tmp/tmp62wqywm0/cluster2.cnl > ovpnmioutput\n",
      "2020-04-22 21:43:10,583 - ClusterComparator - INFO - resulting 9 nodes out of 9,9\n",
      "INFO:ClusterComparator:resulting 9 nodes out of 9,9\n",
      "/opt/conda/envs/python3/lib/python3.6/site-packages/sklearn/metrics/cluster/supervised.py:859: FutureWarning: The behavior of NMI will change in version 0.22. To match the behavior of 'v_measure_score', NMI will use average_method='arithmetic' by default.\n",
      "  FutureWarning)\n",
      "2020-04-22 21:43:10,592 - ClusterComparator - INFO - Running /opt/gct/submodules/OvpNMI/onmi /tmp/tmphdpj4krl/cluster1.cnl /tmp/tmphdpj4krl/cluster2.cnl > ovpnmioutput\n",
      "INFO:ClusterComparator:Running /opt/gct/submodules/OvpNMI/onmi /tmp/tmphdpj4krl/cluster1.cnl /tmp/tmphdpj4krl/cluster2.cnl > ovpnmioutput\n",
      "2020-04-22 21:43:10,606 - ClusterComparator - INFO - resulting 9 nodes out of 9,9\n",
      "INFO:ClusterComparator:resulting 9 nodes out of 9,9\n",
      "/opt/conda/envs/python3/lib/python3.6/site-packages/sklearn/metrics/cluster/supervised.py:859: FutureWarning: The behavior of NMI will change in version 0.22. To match the behavior of 'v_measure_score', NMI will use average_method='arithmetic' by default.\n",
      "  FutureWarning)\n",
      "2020-04-22 21:43:10,615 - ClusterComparator - INFO - Running /opt/gct/submodules/OvpNMI/onmi /tmp/tmpn8xdrhax/cluster1.cnl /tmp/tmpn8xdrhax/cluster2.cnl > ovpnmioutput\n",
      "INFO:ClusterComparator:Running /opt/gct/submodules/OvpNMI/onmi /tmp/tmpn8xdrhax/cluster1.cnl /tmp/tmpn8xdrhax/cluster2.cnl > ovpnmioutput\n",
      "2020-04-22 21:43:10,624 - Clustering - INFO - reading/data/data/K_DoesAlgSupportWeightTest_w1/gt_default.parq\n",
      "INFO:Clustering:reading/data/data/K_DoesAlgSupportWeightTest_w1/gt_default.parq\n",
      "2020-04-22 21:43:10,630 - ClusterComparator - INFO - resulting 8 nodes out of 9,9\n",
      "INFO:ClusterComparator:resulting 8 nodes out of 9,9\n",
      "/opt/conda/envs/python3/lib/python3.6/site-packages/sklearn/metrics/cluster/supervised.py:859: FutureWarning: The behavior of NMI will change in version 0.22. To match the behavior of 'v_measure_score', NMI will use average_method='arithmetic' by default.\n",
      "  FutureWarning)\n",
      "2020-04-22 21:43:10,638 - ClusterComparator - INFO - Running /opt/gct/submodules/OvpNMI/onmi /tmp/tmp3niz85bb/cluster1.cnl /tmp/tmp3niz85bb/cluster2.cnl > ovpnmioutput\n",
      "INFO:ClusterComparator:Running /opt/gct/submodules/OvpNMI/onmi /tmp/tmp3niz85bb/cluster1.cnl /tmp/tmp3niz85bb/cluster2.cnl > ovpnmioutput\n",
      "2020-04-22 21:43:10,646 - ClusterComparator - INFO - resulting 8 nodes out of 9,9\n",
      "INFO:ClusterComparator:resulting 8 nodes out of 9,9\n",
      "/opt/conda/envs/python3/lib/python3.6/site-packages/sklearn/metrics/cluster/supervised.py:859: FutureWarning: The behavior of NMI will change in version 0.22. To match the behavior of 'v_measure_score', NMI will use average_method='arithmetic' by default.\n",
      "  FutureWarning)\n",
      "2020-04-22 21:43:10,654 - ClusterComparator - INFO - Running /opt/gct/submodules/OvpNMI/onmi /tmp/tmpu4l7awxk/cluster1.cnl /tmp/tmpu4l7awxk/cluster2.cnl > ovpnmioutput\n",
      "INFO:ClusterComparator:Running /opt/gct/submodules/OvpNMI/onmi /tmp/tmpu4l7awxk/cluster1.cnl /tmp/tmpu4l7awxk/cluster2.cnl > ovpnmioutput\n",
      "2020-04-22 21:43:10,669 - ClusterComparator - INFO - resulting 9 nodes out of 9,9\n",
      "INFO:ClusterComparator:resulting 9 nodes out of 9,9\n",
      "/opt/conda/envs/python3/lib/python3.6/site-packages/sklearn/metrics/cluster/supervised.py:859: FutureWarning: The behavior of NMI will change in version 0.22. To match the behavior of 'v_measure_score', NMI will use average_method='arithmetic' by default.\n",
      "  FutureWarning)\n",
      "2020-04-22 21:43:10,678 - ClusterComparator - INFO - Running /opt/gct/submodules/OvpNMI/onmi /tmp/tmpq9ymqlcz/cluster1.cnl /tmp/tmpq9ymqlcz/cluster2.cnl > ovpnmioutput\n",
      "INFO:ClusterComparator:Running /opt/gct/submodules/OvpNMI/onmi /tmp/tmpq9ymqlcz/cluster1.cnl /tmp/tmpq9ymqlcz/cluster2.cnl > ovpnmioutput\n",
      "2020-04-22 21:43:10,687 - Clustering - INFO - reading/data/data/K_DoesAlgSupportWeightTest_w1/gt_default.parq\n",
      "INFO:Clustering:reading/data/data/K_DoesAlgSupportWeightTest_w1/gt_default.parq\n",
      "2020-04-22 21:43:10,693 - ClusterComparator - INFO - resulting 9 nodes out of 9,9\n",
      "INFO:ClusterComparator:resulting 9 nodes out of 9,9\n",
      "/opt/conda/envs/python3/lib/python3.6/site-packages/sklearn/metrics/cluster/supervised.py:859: FutureWarning: The behavior of NMI will change in version 0.22. To match the behavior of 'v_measure_score', NMI will use average_method='arithmetic' by default.\n",
      "  FutureWarning)\n",
      "2020-04-22 21:43:10,701 - ClusterComparator - INFO - Running /opt/gct/submodules/OvpNMI/onmi /tmp/tmp33ycxqiz/cluster1.cnl /tmp/tmp33ycxqiz/cluster2.cnl > ovpnmioutput\n",
      "INFO:ClusterComparator:Running /opt/gct/submodules/OvpNMI/onmi /tmp/tmp33ycxqiz/cluster1.cnl /tmp/tmp33ycxqiz/cluster2.cnl > ovpnmioutput\n",
      "2020-04-22 21:43:10,709 - ClusterComparator - INFO - resulting 9 nodes out of 9,9\n",
      "INFO:ClusterComparator:resulting 9 nodes out of 9,9\n",
      "/opt/conda/envs/python3/lib/python3.6/site-packages/sklearn/metrics/cluster/supervised.py:859: FutureWarning: The behavior of NMI will change in version 0.22. To match the behavior of 'v_measure_score', NMI will use average_method='arithmetic' by default.\n",
      "  FutureWarning)\n",
      "2020-04-22 21:43:10,719 - ClusterComparator - INFO - Running /opt/gct/submodules/OvpNMI/onmi /tmp/tmpe6karxpk/cluster1.cnl /tmp/tmpe6karxpk/cluster2.cnl > ovpnmioutput\n",
      "INFO:ClusterComparator:Running /opt/gct/submodules/OvpNMI/onmi /tmp/tmpe6karxpk/cluster1.cnl /tmp/tmpe6karxpk/cluster2.cnl > ovpnmioutput\n",
      "2020-04-22 21:43:10,733 - ClusterComparator - INFO - resulting 9 nodes out of 9,9\n",
      "INFO:ClusterComparator:resulting 9 nodes out of 9,9\n",
      "/opt/conda/envs/python3/lib/python3.6/site-packages/sklearn/metrics/cluster/supervised.py:859: FutureWarning: The behavior of NMI will change in version 0.22. To match the behavior of 'v_measure_score', NMI will use average_method='arithmetic' by default.\n",
      "  FutureWarning)\n",
      "2020-04-22 21:43:10,742 - ClusterComparator - INFO - Running /opt/gct/submodules/OvpNMI/onmi /tmp/tmp745x2o85/cluster1.cnl /tmp/tmp745x2o85/cluster2.cnl > ovpnmioutput\n",
      "INFO:ClusterComparator:Running /opt/gct/submodules/OvpNMI/onmi /tmp/tmp745x2o85/cluster1.cnl /tmp/tmp745x2o85/cluster2.cnl > ovpnmioutput\n",
      "2020-04-22 21:43:10,751 - Clustering - INFO - reading/data/data/K_DoesAlgSupportWeightTest_w1/gt_default.parq\n",
      "INFO:Clustering:reading/data/data/K_DoesAlgSupportWeightTest_w1/gt_default.parq\n",
      "2020-04-22 21:43:10,757 - ClusterComparator - INFO - resulting 9 nodes out of 9,9\n",
      "INFO:ClusterComparator:resulting 9 nodes out of 9,9\n",
      "/opt/conda/envs/python3/lib/python3.6/site-packages/sklearn/metrics/cluster/supervised.py:859: FutureWarning: The behavior of NMI will change in version 0.22. To match the behavior of 'v_measure_score', NMI will use average_method='arithmetic' by default.\n",
      "  FutureWarning)\n",
      "2020-04-22 21:43:10,765 - ClusterComparator - INFO - Running /opt/gct/submodules/OvpNMI/onmi /tmp/tmpbqrkjuei/cluster1.cnl /tmp/tmpbqrkjuei/cluster2.cnl > ovpnmioutput\n",
      "INFO:ClusterComparator:Running /opt/gct/submodules/OvpNMI/onmi /tmp/tmpbqrkjuei/cluster1.cnl /tmp/tmpbqrkjuei/cluster2.cnl > ovpnmioutput\n",
      "2020-04-22 21:43:10,774 - ClusterComparator - INFO - resulting 9 nodes out of 9,9\n",
      "INFO:ClusterComparator:resulting 9 nodes out of 9,9\n",
      "/opt/conda/envs/python3/lib/python3.6/site-packages/sklearn/metrics/cluster/supervised.py:859: FutureWarning: The behavior of NMI will change in version 0.22. To match the behavior of 'v_measure_score', NMI will use average_method='arithmetic' by default.\n",
      "  FutureWarning)\n",
      "2020-04-22 21:43:10,783 - ClusterComparator - INFO - Running /opt/gct/submodules/OvpNMI/onmi /tmp/tmpnwmrsnke/cluster1.cnl /tmp/tmpnwmrsnke/cluster2.cnl > ovpnmioutput\n",
      "INFO:ClusterComparator:Running /opt/gct/submodules/OvpNMI/onmi /tmp/tmpnwmrsnke/cluster1.cnl /tmp/tmpnwmrsnke/cluster2.cnl > ovpnmioutput\n",
      "2020-04-22 21:43:10,797 - ClusterComparator - INFO - resulting 9 nodes out of 9,9\n",
      "INFO:ClusterComparator:resulting 9 nodes out of 9,9\n",
      "/opt/conda/envs/python3/lib/python3.6/site-packages/sklearn/metrics/cluster/supervised.py:859: FutureWarning: The behavior of NMI will change in version 0.22. To match the behavior of 'v_measure_score', NMI will use average_method='arithmetic' by default.\n",
      "  FutureWarning)\n",
      "2020-04-22 21:43:10,806 - ClusterComparator - INFO - Running /opt/gct/submodules/OvpNMI/onmi /tmp/tmpmqakyeng/cluster1.cnl /tmp/tmpmqakyeng/cluster2.cnl > ovpnmioutput\n"
     ]
    },
    {
     "name": "stderr",
     "output_type": "stream",
     "text": [
      "INFO:ClusterComparator:Running /opt/gct/submodules/OvpNMI/onmi /tmp/tmpmqakyeng/cluster1.cnl /tmp/tmpmqakyeng/cluster2.cnl > ovpnmioutput\n",
      "2020-04-22 21:43:10,815 - Clustering - INFO - reading/data/data/K_DoesAlgSupportWeightTest_w1/gt_default.parq\n",
      "INFO:Clustering:reading/data/data/K_DoesAlgSupportWeightTest_w1/gt_default.parq\n",
      "2020-04-22 21:43:10,821 - ClusterComparator - INFO - resulting 9 nodes out of 9,9\n",
      "INFO:ClusterComparator:resulting 9 nodes out of 9,9\n",
      "/opt/conda/envs/python3/lib/python3.6/site-packages/sklearn/metrics/cluster/supervised.py:859: FutureWarning: The behavior of NMI will change in version 0.22. To match the behavior of 'v_measure_score', NMI will use average_method='arithmetic' by default.\n",
      "  FutureWarning)\n",
      "2020-04-22 21:43:10,829 - ClusterComparator - INFO - Running /opt/gct/submodules/OvpNMI/onmi /tmp/tmpqticmqn2/cluster1.cnl /tmp/tmpqticmqn2/cluster2.cnl > ovpnmioutput\n",
      "INFO:ClusterComparator:Running /opt/gct/submodules/OvpNMI/onmi /tmp/tmpqticmqn2/cluster1.cnl /tmp/tmpqticmqn2/cluster2.cnl > ovpnmioutput\n",
      "2020-04-22 21:43:10,838 - ClusterComparator - INFO - resulting 9 nodes out of 9,9\n",
      "INFO:ClusterComparator:resulting 9 nodes out of 9,9\n",
      "/opt/conda/envs/python3/lib/python3.6/site-packages/sklearn/metrics/cluster/supervised.py:859: FutureWarning: The behavior of NMI will change in version 0.22. To match the behavior of 'v_measure_score', NMI will use average_method='arithmetic' by default.\n",
      "  FutureWarning)\n",
      "2020-04-22 21:43:10,846 - ClusterComparator - INFO - Running /opt/gct/submodules/OvpNMI/onmi /tmp/tmp1s1n53g1/cluster1.cnl /tmp/tmp1s1n53g1/cluster2.cnl > ovpnmioutput\n",
      "INFO:ClusterComparator:Running /opt/gct/submodules/OvpNMI/onmi /tmp/tmp1s1n53g1/cluster1.cnl /tmp/tmp1s1n53g1/cluster2.cnl > ovpnmioutput\n",
      "2020-04-22 21:43:10,872 - ClusterComparator - INFO - resulting 9 nodes out of 9,9\n",
      "INFO:ClusterComparator:resulting 9 nodes out of 9,9\n",
      "/opt/conda/envs/python3/lib/python3.6/site-packages/sklearn/metrics/cluster/supervised.py:859: FutureWarning: The behavior of NMI will change in version 0.22. To match the behavior of 'v_measure_score', NMI will use average_method='arithmetic' by default.\n",
      "  FutureWarning)\n",
      "2020-04-22 21:43:10,882 - ClusterComparator - INFO - Running /opt/gct/submodules/OvpNMI/onmi /tmp/tmpgjukfy9e/cluster1.cnl /tmp/tmpgjukfy9e/cluster2.cnl > ovpnmioutput\n",
      "INFO:ClusterComparator:Running /opt/gct/submodules/OvpNMI/onmi /tmp/tmpgjukfy9e/cluster1.cnl /tmp/tmpgjukfy9e/cluster2.cnl > ovpnmioutput\n",
      "2020-04-22 21:43:10,890 - Clustering - INFO - reading/data/data/K_DoesAlgSupportWeightTest_w1/gt_default.parq\n",
      "INFO:Clustering:reading/data/data/K_DoesAlgSupportWeightTest_w1/gt_default.parq\n",
      "2020-04-22 21:43:10,897 - ClusterComparator - INFO - resulting 9 nodes out of 9,9\n",
      "INFO:ClusterComparator:resulting 9 nodes out of 9,9\n",
      "/opt/conda/envs/python3/lib/python3.6/site-packages/sklearn/metrics/cluster/supervised.py:859: FutureWarning: The behavior of NMI will change in version 0.22. To match the behavior of 'v_measure_score', NMI will use average_method='arithmetic' by default.\n",
      "  FutureWarning)\n",
      "2020-04-22 21:43:10,905 - ClusterComparator - INFO - Running /opt/gct/submodules/OvpNMI/onmi /tmp/tmp76cf4xpy/cluster1.cnl /tmp/tmp76cf4xpy/cluster2.cnl > ovpnmioutput\n",
      "INFO:ClusterComparator:Running /opt/gct/submodules/OvpNMI/onmi /tmp/tmp76cf4xpy/cluster1.cnl /tmp/tmp76cf4xpy/cluster2.cnl > ovpnmioutput\n",
      "2020-04-22 21:43:10,925 - ClusterComparator - INFO - resulting 9 nodes out of 9,9\n",
      "INFO:ClusterComparator:resulting 9 nodes out of 9,9\n",
      "/opt/conda/envs/python3/lib/python3.6/site-packages/sklearn/metrics/cluster/supervised.py:859: FutureWarning: The behavior of NMI will change in version 0.22. To match the behavior of 'v_measure_score', NMI will use average_method='arithmetic' by default.\n",
      "  FutureWarning)\n",
      "2020-04-22 21:43:10,932 - ClusterComparator - INFO - Running /opt/gct/submodules/OvpNMI/onmi /tmp/tmp_y9wvp0l/cluster1.cnl /tmp/tmp_y9wvp0l/cluster2.cnl > ovpnmioutput\n",
      "INFO:ClusterComparator:Running /opt/gct/submodules/OvpNMI/onmi /tmp/tmp_y9wvp0l/cluster1.cnl /tmp/tmp_y9wvp0l/cluster2.cnl > ovpnmioutput\n",
      "2020-04-22 21:43:10,947 - ClusterComparator - INFO - resulting 9 nodes out of 9,9\n",
      "INFO:ClusterComparator:resulting 9 nodes out of 9,9\n",
      "/opt/conda/envs/python3/lib/python3.6/site-packages/sklearn/metrics/cluster/supervised.py:859: FutureWarning: The behavior of NMI will change in version 0.22. To match the behavior of 'v_measure_score', NMI will use average_method='arithmetic' by default.\n",
      "  FutureWarning)\n",
      "2020-04-22 21:43:10,956 - ClusterComparator - INFO - Running /opt/gct/submodules/OvpNMI/onmi /tmp/tmp_7vw0bkl/cluster1.cnl /tmp/tmp_7vw0bkl/cluster2.cnl > ovpnmioutput\n",
      "INFO:ClusterComparator:Running /opt/gct/submodules/OvpNMI/onmi /tmp/tmp_7vw0bkl/cluster1.cnl /tmp/tmp_7vw0bkl/cluster2.cnl > ovpnmioutput\n",
      "2020-04-22 21:43:10,965 - Clustering - INFO - reading/data/data/K_DoesAlgSupportWeightTest_w1/gt_default.parq\n",
      "INFO:Clustering:reading/data/data/K_DoesAlgSupportWeightTest_w1/gt_default.parq\n",
      "2020-04-22 21:43:10,971 - ClusterComparator - INFO - resulting 9 nodes out of 9,9\n",
      "INFO:ClusterComparator:resulting 9 nodes out of 9,9\n",
      "/opt/conda/envs/python3/lib/python3.6/site-packages/sklearn/metrics/cluster/supervised.py:859: FutureWarning: The behavior of NMI will change in version 0.22. To match the behavior of 'v_measure_score', NMI will use average_method='arithmetic' by default.\n",
      "  FutureWarning)\n",
      "2020-04-22 21:43:10,979 - ClusterComparator - INFO - Running /opt/gct/submodules/OvpNMI/onmi /tmp/tmpg50jx94q/cluster1.cnl /tmp/tmpg50jx94q/cluster2.cnl > ovpnmioutput\n",
      "INFO:ClusterComparator:Running /opt/gct/submodules/OvpNMI/onmi /tmp/tmpg50jx94q/cluster1.cnl /tmp/tmpg50jx94q/cluster2.cnl > ovpnmioutput\n",
      "2020-04-22 21:43:10,987 - ClusterComparator - INFO - resulting 9 nodes out of 9,9\n",
      "INFO:ClusterComparator:resulting 9 nodes out of 9,9\n",
      "/opt/conda/envs/python3/lib/python3.6/site-packages/sklearn/metrics/cluster/supervised.py:859: FutureWarning: The behavior of NMI will change in version 0.22. To match the behavior of 'v_measure_score', NMI will use average_method='arithmetic' by default.\n",
      "  FutureWarning)\n",
      "2020-04-22 21:43:10,996 - ClusterComparator - INFO - Running /opt/gct/submodules/OvpNMI/onmi /tmp/tmpcj1t91d5/cluster1.cnl /tmp/tmpcj1t91d5/cluster2.cnl > ovpnmioutput\n",
      "INFO:ClusterComparator:Running /opt/gct/submodules/OvpNMI/onmi /tmp/tmpcj1t91d5/cluster1.cnl /tmp/tmpcj1t91d5/cluster2.cnl > ovpnmioutput\n",
      "2020-04-22 21:43:11,010 - ClusterComparator - INFO - resulting 6 nodes out of 6,6\n",
      "INFO:ClusterComparator:resulting 6 nodes out of 6,6\n",
      "/opt/conda/envs/python3/lib/python3.6/site-packages/sklearn/metrics/cluster/supervised.py:859: FutureWarning: The behavior of NMI will change in version 0.22. To match the behavior of 'v_measure_score', NMI will use average_method='arithmetic' by default.\n",
      "  FutureWarning)\n",
      "2020-04-22 21:43:11,015 - Clustering - INFO - reading/data/data/K_DoesAlgSupportWeightTest_w1/gt_default.parq\n",
      "INFO:Clustering:reading/data/data/K_DoesAlgSupportWeightTest_w1/gt_default.parq\n",
      "2020-04-22 21:43:11,020 - ClusterComparator - INFO - resulting 6 nodes out of 9,6\n",
      "INFO:ClusterComparator:resulting 6 nodes out of 9,6\n",
      "2020-04-22 21:43:11,026 - ClusterComparator - INFO - resulting 6 nodes out of 9,6\n",
      "INFO:ClusterComparator:resulting 6 nodes out of 9,6\n",
      "/opt/conda/envs/python3/lib/python3.6/site-packages/sklearn/metrics/cluster/supervised.py:859: FutureWarning: The behavior of NMI will change in version 0.22. To match the behavior of 'v_measure_score', NMI will use average_method='arithmetic' by default.\n",
      "  FutureWarning)\n",
      "2020-04-22 21:43:11,036 - ClusterComparator - INFO - resulting 6 nodes out of 6,6\n",
      "INFO:ClusterComparator:resulting 6 nodes out of 6,6\n",
      "/opt/conda/envs/python3/lib/python3.6/site-packages/sklearn/metrics/cluster/supervised.py:859: FutureWarning: The behavior of NMI will change in version 0.22. To match the behavior of 'v_measure_score', NMI will use average_method='arithmetic' by default.\n",
      "  FutureWarning)\n",
      "2020-04-22 21:43:11,041 - Clustering - INFO - reading/data/data/K_DoesAlgSupportWeightTest_w1/gt_default.parq\n",
      "INFO:Clustering:reading/data/data/K_DoesAlgSupportWeightTest_w1/gt_default.parq\n",
      "2020-04-22 21:43:11,046 - ClusterComparator - INFO - resulting 6 nodes out of 9,6\n"
     ]
    },
    {
     "name": "stderr",
     "output_type": "stream",
     "text": [
      "INFO:ClusterComparator:resulting 6 nodes out of 9,6\n",
      "2020-04-22 21:43:11,051 - ClusterComparator - INFO - resulting 6 nodes out of 9,6\n",
      "INFO:ClusterComparator:resulting 6 nodes out of 9,6\n",
      "/opt/conda/envs/python3/lib/python3.6/site-packages/sklearn/metrics/cluster/supervised.py:859: FutureWarning: The behavior of NMI will change in version 0.22. To match the behavior of 'v_measure_score', NMI will use average_method='arithmetic' by default.\n",
      "  FutureWarning)\n",
      "2020-04-22 21:43:11,070 - ClusterComparator - INFO - resulting 9 nodes out of 9,9\n",
      "INFO:ClusterComparator:resulting 9 nodes out of 9,9\n",
      "/opt/conda/envs/python3/lib/python3.6/site-packages/sklearn/metrics/cluster/supervised.py:859: FutureWarning: The behavior of NMI will change in version 0.22. To match the behavior of 'v_measure_score', NMI will use average_method='arithmetic' by default.\n",
      "  FutureWarning)\n",
      "2020-04-22 21:43:11,076 - Clustering - INFO - reading/data/data/K_DoesAlgSupportWeightTest_w1/gt_default.parq\n",
      "INFO:Clustering:reading/data/data/K_DoesAlgSupportWeightTest_w1/gt_default.parq\n",
      "2020-04-22 21:43:11,082 - ClusterComparator - INFO - resulting 9 nodes out of 9,9\n",
      "INFO:ClusterComparator:resulting 9 nodes out of 9,9\n",
      "/opt/conda/envs/python3/lib/python3.6/site-packages/sklearn/metrics/cluster/supervised.py:859: FutureWarning: The behavior of NMI will change in version 0.22. To match the behavior of 'v_measure_score', NMI will use average_method='arithmetic' by default.\n",
      "  FutureWarning)\n",
      "2020-04-22 21:43:11,096 - ClusterComparator - INFO - resulting 9 nodes out of 9,9\n",
      "INFO:ClusterComparator:resulting 9 nodes out of 9,9\n",
      "/opt/conda/envs/python3/lib/python3.6/site-packages/sklearn/metrics/cluster/supervised.py:859: FutureWarning: The behavior of NMI will change in version 0.22. To match the behavior of 'v_measure_score', NMI will use average_method='arithmetic' by default.\n",
      "  FutureWarning)\n",
      "2020-04-22 21:43:11,104 - ClusterComparator - INFO - Running /opt/gct/submodules/OvpNMI/onmi /tmp/tmp4310dbin/cluster1.cnl /tmp/tmp4310dbin/cluster2.cnl > ovpnmioutput\n",
      "INFO:ClusterComparator:Running /opt/gct/submodules/OvpNMI/onmi /tmp/tmp4310dbin/cluster1.cnl /tmp/tmp4310dbin/cluster2.cnl > ovpnmioutput\n",
      "2020-04-22 21:43:11,119 - ClusterComparator - INFO - resulting 6 nodes out of 6,6\n",
      "INFO:ClusterComparator:resulting 6 nodes out of 6,6\n",
      "/opt/conda/envs/python3/lib/python3.6/site-packages/sklearn/metrics/cluster/supervised.py:859: FutureWarning: The behavior of NMI will change in version 0.22. To match the behavior of 'v_measure_score', NMI will use average_method='arithmetic' by default.\n",
      "  FutureWarning)\n",
      "2020-04-22 21:43:11,124 - Clustering - INFO - reading/data/data/K_DoesAlgSupportWeightTest_w1/gt_default.parq\n",
      "INFO:Clustering:reading/data/data/K_DoesAlgSupportWeightTest_w1/gt_default.parq\n",
      "2020-04-22 21:43:11,129 - ClusterComparator - INFO - resulting 6 nodes out of 9,6\n",
      "INFO:ClusterComparator:resulting 6 nodes out of 9,6\n",
      "2020-04-22 21:43:11,135 - ClusterComparator - INFO - resulting 6 nodes out of 9,6\n",
      "INFO:ClusterComparator:resulting 6 nodes out of 9,6\n",
      "/opt/conda/envs/python3/lib/python3.6/site-packages/sklearn/metrics/cluster/supervised.py:859: FutureWarning: The behavior of NMI will change in version 0.22. To match the behavior of 'v_measure_score', NMI will use average_method='arithmetic' by default.\n",
      "  FutureWarning)\n",
      "2020-04-22 21:43:11,144 - ClusterComparator - INFO - resulting 9 nodes out of 9,9\n",
      "INFO:ClusterComparator:resulting 9 nodes out of 9,9\n",
      "/opt/conda/envs/python3/lib/python3.6/site-packages/sklearn/metrics/cluster/supervised.py:859: FutureWarning: The behavior of NMI will change in version 0.22. To match the behavior of 'v_measure_score', NMI will use average_method='arithmetic' by default.\n",
      "  FutureWarning)\n",
      "2020-04-22 21:43:11,153 - ClusterComparator - INFO - Running /opt/gct/submodules/OvpNMI/onmi /tmp/tmp75u8kgzn/cluster1.cnl /tmp/tmp75u8kgzn/cluster2.cnl > ovpnmioutput\n",
      "INFO:ClusterComparator:Running /opt/gct/submodules/OvpNMI/onmi /tmp/tmp75u8kgzn/cluster1.cnl /tmp/tmp75u8kgzn/cluster2.cnl > ovpnmioutput\n",
      "2020-04-22 21:43:11,161 - Clustering - INFO - reading/data/data/K_DoesAlgSupportWeightTest_w1/gt_default.parq\n",
      "INFO:Clustering:reading/data/data/K_DoesAlgSupportWeightTest_w1/gt_default.parq\n",
      "2020-04-22 21:43:11,167 - ClusterComparator - INFO - resulting 8 nodes out of 9,9\n",
      "INFO:ClusterComparator:resulting 8 nodes out of 9,9\n",
      "/opt/conda/envs/python3/lib/python3.6/site-packages/sklearn/metrics/cluster/supervised.py:859: FutureWarning: The behavior of NMI will change in version 0.22. To match the behavior of 'v_measure_score', NMI will use average_method='arithmetic' by default.\n",
      "  FutureWarning)\n",
      "2020-04-22 21:43:11,175 - ClusterComparator - INFO - Running /opt/gct/submodules/OvpNMI/onmi /tmp/tmp3i_uy6q4/cluster1.cnl /tmp/tmp3i_uy6q4/cluster2.cnl > ovpnmioutput\n",
      "INFO:ClusterComparator:Running /opt/gct/submodules/OvpNMI/onmi /tmp/tmp3i_uy6q4/cluster1.cnl /tmp/tmp3i_uy6q4/cluster2.cnl > ovpnmioutput\n",
      "2020-04-22 21:43:11,183 - ClusterComparator - INFO - resulting 8 nodes out of 9,9\n",
      "INFO:ClusterComparator:resulting 8 nodes out of 9,9\n",
      "/opt/conda/envs/python3/lib/python3.6/site-packages/sklearn/metrics/cluster/supervised.py:859: FutureWarning: The behavior of NMI will change in version 0.22. To match the behavior of 'v_measure_score', NMI will use average_method='arithmetic' by default.\n",
      "  FutureWarning)\n",
      "2020-04-22 21:43:11,192 - ClusterComparator - INFO - Running /opt/gct/submodules/OvpNMI/onmi /tmp/tmpr1u8ejhy/cluster1.cnl /tmp/tmpr1u8ejhy/cluster2.cnl > ovpnmioutput\n",
      "INFO:ClusterComparator:Running /opt/gct/submodules/OvpNMI/onmi /tmp/tmpr1u8ejhy/cluster1.cnl /tmp/tmpr1u8ejhy/cluster2.cnl > ovpnmioutput\n",
      "2020-04-22 21:43:11,206 - ClusterComparator - INFO - resulting 9 nodes out of 9,9\n",
      "INFO:ClusterComparator:resulting 9 nodes out of 9,9\n",
      "/opt/conda/envs/python3/lib/python3.6/site-packages/sklearn/metrics/cluster/supervised.py:859: FutureWarning: The behavior of NMI will change in version 0.22. To match the behavior of 'v_measure_score', NMI will use average_method='arithmetic' by default.\n",
      "  FutureWarning)\n",
      "2020-04-22 21:43:11,215 - ClusterComparator - INFO - Running /opt/gct/submodules/OvpNMI/onmi /tmp/tmpqws6xjnn/cluster1.cnl /tmp/tmpqws6xjnn/cluster2.cnl > ovpnmioutput\n",
      "INFO:ClusterComparator:Running /opt/gct/submodules/OvpNMI/onmi /tmp/tmpqws6xjnn/cluster1.cnl /tmp/tmpqws6xjnn/cluster2.cnl > ovpnmioutput\n",
      "2020-04-22 21:43:11,224 - Clustering - INFO - reading/data/data/K_DoesAlgSupportWeightTest_w1/gt_default.parq\n",
      "INFO:Clustering:reading/data/data/K_DoesAlgSupportWeightTest_w1/gt_default.parq\n",
      "2020-04-22 21:43:11,230 - ClusterComparator - INFO - resulting 8 nodes out of 9,9\n",
      "INFO:ClusterComparator:resulting 8 nodes out of 9,9\n",
      "/opt/conda/envs/python3/lib/python3.6/site-packages/sklearn/metrics/cluster/supervised.py:859: FutureWarning: The behavior of NMI will change in version 0.22. To match the behavior of 'v_measure_score', NMI will use average_method='arithmetic' by default.\n",
      "  FutureWarning)\n",
      "2020-04-22 21:43:11,237 - ClusterComparator - INFO - Running /opt/gct/submodules/OvpNMI/onmi /tmp/tmprwrrwg8u/cluster1.cnl /tmp/tmprwrrwg8u/cluster2.cnl > ovpnmioutput\n",
      "INFO:ClusterComparator:Running /opt/gct/submodules/OvpNMI/onmi /tmp/tmprwrrwg8u/cluster1.cnl /tmp/tmprwrrwg8u/cluster2.cnl > ovpnmioutput\n",
      "2020-04-22 21:43:11,246 - ClusterComparator - INFO - resulting 8 nodes out of 9,9\n",
      "INFO:ClusterComparator:resulting 8 nodes out of 9,9\n",
      "/opt/conda/envs/python3/lib/python3.6/site-packages/sklearn/metrics/cluster/supervised.py:859: FutureWarning: The behavior of NMI will change in version 0.22. To match the behavior of 'v_measure_score', NMI will use average_method='arithmetic' by default.\n",
      "  FutureWarning)\n",
      "2020-04-22 21:43:11,255 - ClusterComparator - INFO - Running /opt/gct/submodules/OvpNMI/onmi /tmp/tmpyrs3q6da/cluster1.cnl /tmp/tmpyrs3q6da/cluster2.cnl > ovpnmioutput\n",
      "INFO:ClusterComparator:Running /opt/gct/submodules/OvpNMI/onmi /tmp/tmpyrs3q6da/cluster1.cnl /tmp/tmpyrs3q6da/cluster2.cnl > ovpnmioutput\n",
      "2020-04-22 21:43:11,269 - ClusterComparator - INFO - resulting 9 nodes out of 9,9\n",
      "INFO:ClusterComparator:resulting 9 nodes out of 9,9\n",
      "/opt/conda/envs/python3/lib/python3.6/site-packages/sklearn/metrics/cluster/supervised.py:859: FutureWarning: The behavior of NMI will change in version 0.22. To match the behavior of 'v_measure_score', NMI will use average_method='arithmetic' by default.\n",
      "  FutureWarning)\n"
     ]
    },
    {
     "name": "stderr",
     "output_type": "stream",
     "text": [
      "2020-04-22 21:43:11,278 - ClusterComparator - INFO - Running /opt/gct/submodules/OvpNMI/onmi /tmp/tmpz6ru2ate/cluster1.cnl /tmp/tmpz6ru2ate/cluster2.cnl > ovpnmioutput\n",
      "INFO:ClusterComparator:Running /opt/gct/submodules/OvpNMI/onmi /tmp/tmpz6ru2ate/cluster1.cnl /tmp/tmpz6ru2ate/cluster2.cnl > ovpnmioutput\n",
      "2020-04-22 21:43:11,287 - Clustering - INFO - reading/data/data/K_DoesAlgSupportWeightTest_w1/gt_default.parq\n",
      "INFO:Clustering:reading/data/data/K_DoesAlgSupportWeightTest_w1/gt_default.parq\n",
      "2020-04-22 21:43:11,293 - ClusterComparator - INFO - resulting 8 nodes out of 9,9\n",
      "INFO:ClusterComparator:resulting 8 nodes out of 9,9\n",
      "/opt/conda/envs/python3/lib/python3.6/site-packages/sklearn/metrics/cluster/supervised.py:859: FutureWarning: The behavior of NMI will change in version 0.22. To match the behavior of 'v_measure_score', NMI will use average_method='arithmetic' by default.\n",
      "  FutureWarning)\n",
      "2020-04-22 21:43:11,301 - ClusterComparator - INFO - Running /opt/gct/submodules/OvpNMI/onmi /tmp/tmp48vlnn22/cluster1.cnl /tmp/tmp48vlnn22/cluster2.cnl > ovpnmioutput\n",
      "INFO:ClusterComparator:Running /opt/gct/submodules/OvpNMI/onmi /tmp/tmp48vlnn22/cluster1.cnl /tmp/tmp48vlnn22/cluster2.cnl > ovpnmioutput\n",
      "2020-04-22 21:43:11,309 - ClusterComparator - INFO - resulting 8 nodes out of 9,9\n",
      "INFO:ClusterComparator:resulting 8 nodes out of 9,9\n",
      "/opt/conda/envs/python3/lib/python3.6/site-packages/sklearn/metrics/cluster/supervised.py:859: FutureWarning: The behavior of NMI will change in version 0.22. To match the behavior of 'v_measure_score', NMI will use average_method='arithmetic' by default.\n",
      "  FutureWarning)\n",
      "2020-04-22 21:43:11,318 - ClusterComparator - INFO - Running /opt/gct/submodules/OvpNMI/onmi /tmp/tmp8_57xq6_/cluster1.cnl /tmp/tmp8_57xq6_/cluster2.cnl > ovpnmioutput\n",
      "INFO:ClusterComparator:Running /opt/gct/submodules/OvpNMI/onmi /tmp/tmp8_57xq6_/cluster1.cnl /tmp/tmp8_57xq6_/cluster2.cnl > ovpnmioutput\n",
      "2020-04-22 21:43:11,332 - ClusterComparator - INFO - resulting 6 nodes out of 9,6\n",
      "INFO:ClusterComparator:resulting 6 nodes out of 9,6\n",
      "/opt/conda/envs/python3/lib/python3.6/site-packages/sklearn/metrics/cluster/supervised.py:859: FutureWarning: The behavior of NMI will change in version 0.22. To match the behavior of 'v_measure_score', NMI will use average_method='arithmetic' by default.\n",
      "  FutureWarning)\n",
      "2020-04-22 21:43:11,341 - ClusterComparator - INFO - Running /opt/gct/submodules/OvpNMI/onmi /tmp/tmpy0mbfehs/cluster1.cnl /tmp/tmpy0mbfehs/cluster2.cnl > ovpnmioutput\n",
      "INFO:ClusterComparator:Running /opt/gct/submodules/OvpNMI/onmi /tmp/tmpy0mbfehs/cluster1.cnl /tmp/tmpy0mbfehs/cluster2.cnl > ovpnmioutput\n",
      "2020-04-22 21:43:11,349 - Clustering - INFO - reading/data/data/K_DoesAlgSupportWeightTest_w1/gt_default.parq\n",
      "INFO:Clustering:reading/data/data/K_DoesAlgSupportWeightTest_w1/gt_default.parq\n",
      "2020-04-22 21:43:11,356 - ClusterComparator - INFO - resulting 8 nodes out of 9,9\n",
      "INFO:ClusterComparator:resulting 8 nodes out of 9,9\n",
      "/opt/conda/envs/python3/lib/python3.6/site-packages/sklearn/metrics/cluster/supervised.py:859: FutureWarning: The behavior of NMI will change in version 0.22. To match the behavior of 'v_measure_score', NMI will use average_method='arithmetic' by default.\n",
      "  FutureWarning)\n",
      "2020-04-22 21:43:11,363 - ClusterComparator - INFO - Running /opt/gct/submodules/OvpNMI/onmi /tmp/tmpfmckyn7v/cluster1.cnl /tmp/tmpfmckyn7v/cluster2.cnl > ovpnmioutput\n",
      "INFO:ClusterComparator:Running /opt/gct/submodules/OvpNMI/onmi /tmp/tmpfmckyn7v/cluster1.cnl /tmp/tmpfmckyn7v/cluster2.cnl > ovpnmioutput\n",
      "2020-04-22 21:43:11,371 - ClusterComparator - INFO - resulting 5 nodes out of 9,6\n",
      "INFO:ClusterComparator:resulting 5 nodes out of 9,6\n",
      "/opt/conda/envs/python3/lib/python3.6/site-packages/sklearn/metrics/cluster/supervised.py:859: FutureWarning: The behavior of NMI will change in version 0.22. To match the behavior of 'v_measure_score', NMI will use average_method='arithmetic' by default.\n",
      "  FutureWarning)\n",
      "2020-04-22 21:43:11,380 - ClusterComparator - INFO - Running /opt/gct/submodules/OvpNMI/onmi /tmp/tmpqlbcb1ox/cluster1.cnl /tmp/tmpqlbcb1ox/cluster2.cnl > ovpnmioutput\n",
      "INFO:ClusterComparator:Running /opt/gct/submodules/OvpNMI/onmi /tmp/tmpqlbcb1ox/cluster1.cnl /tmp/tmpqlbcb1ox/cluster2.cnl > ovpnmioutput\n",
      "2020-04-22 21:43:11,394 - ClusterComparator - INFO - resulting 9 nodes out of 9,9\n",
      "INFO:ClusterComparator:resulting 9 nodes out of 9,9\n",
      "/opt/conda/envs/python3/lib/python3.6/site-packages/sklearn/metrics/cluster/supervised.py:859: FutureWarning: The behavior of NMI will change in version 0.22. To match the behavior of 'v_measure_score', NMI will use average_method='arithmetic' by default.\n",
      "  FutureWarning)\n",
      "2020-04-22 21:43:11,403 - ClusterComparator - INFO - Running /opt/gct/submodules/OvpNMI/onmi /tmp/tmpv9htf2p9/cluster1.cnl /tmp/tmpv9htf2p9/cluster2.cnl > ovpnmioutput\n",
      "INFO:ClusterComparator:Running /opt/gct/submodules/OvpNMI/onmi /tmp/tmpv9htf2p9/cluster1.cnl /tmp/tmpv9htf2p9/cluster2.cnl > ovpnmioutput\n",
      "2020-04-22 21:43:11,411 - Clustering - INFO - reading/data/data/K_DoesAlgSupportWeightTest_w1/gt_default.parq\n",
      "INFO:Clustering:reading/data/data/K_DoesAlgSupportWeightTest_w1/gt_default.parq\n",
      "2020-04-22 21:43:11,417 - ClusterComparator - INFO - resulting 8 nodes out of 9,9\n",
      "INFO:ClusterComparator:resulting 8 nodes out of 9,9\n",
      "/opt/conda/envs/python3/lib/python3.6/site-packages/sklearn/metrics/cluster/supervised.py:859: FutureWarning: The behavior of NMI will change in version 0.22. To match the behavior of 'v_measure_score', NMI will use average_method='arithmetic' by default.\n",
      "  FutureWarning)\n",
      "2020-04-22 21:43:11,425 - ClusterComparator - INFO - Running /opt/gct/submodules/OvpNMI/onmi /tmp/tmpk3kxy7jd/cluster1.cnl /tmp/tmpk3kxy7jd/cluster2.cnl > ovpnmioutput\n",
      "INFO:ClusterComparator:Running /opt/gct/submodules/OvpNMI/onmi /tmp/tmpk3kxy7jd/cluster1.cnl /tmp/tmpk3kxy7jd/cluster2.cnl > ovpnmioutput\n",
      "2020-04-22 21:43:11,433 - ClusterComparator - INFO - resulting 8 nodes out of 9,9\n",
      "INFO:ClusterComparator:resulting 8 nodes out of 9,9\n",
      "/opt/conda/envs/python3/lib/python3.6/site-packages/sklearn/metrics/cluster/supervised.py:859: FutureWarning: The behavior of NMI will change in version 0.22. To match the behavior of 'v_measure_score', NMI will use average_method='arithmetic' by default.\n",
      "  FutureWarning)\n",
      "2020-04-22 21:43:11,442 - ClusterComparator - INFO - Running /opt/gct/submodules/OvpNMI/onmi /tmp/tmp5jtek512/cluster1.cnl /tmp/tmp5jtek512/cluster2.cnl > ovpnmioutput\n",
      "INFO:ClusterComparator:Running /opt/gct/submodules/OvpNMI/onmi /tmp/tmp5jtek512/cluster1.cnl /tmp/tmp5jtek512/cluster2.cnl > ovpnmioutput\n",
      "2020-04-22 21:43:11,456 - ClusterComparator - INFO - resulting 9 nodes out of 9,9\n",
      "INFO:ClusterComparator:resulting 9 nodes out of 9,9\n",
      "/opt/conda/envs/python3/lib/python3.6/site-packages/sklearn/metrics/cluster/supervised.py:859: FutureWarning: The behavior of NMI will change in version 0.22. To match the behavior of 'v_measure_score', NMI will use average_method='arithmetic' by default.\n",
      "  FutureWarning)\n",
      "2020-04-22 21:43:11,465 - ClusterComparator - INFO - Running /opt/gct/submodules/OvpNMI/onmi /tmp/tmpvoao1_k1/cluster1.cnl /tmp/tmpvoao1_k1/cluster2.cnl > ovpnmioutput\n",
      "INFO:ClusterComparator:Running /opt/gct/submodules/OvpNMI/onmi /tmp/tmpvoao1_k1/cluster1.cnl /tmp/tmpvoao1_k1/cluster2.cnl > ovpnmioutput\n",
      "2020-04-22 21:43:11,473 - Clustering - INFO - reading/data/data/K_DoesAlgSupportWeightTest_w1/gt_default.parq\n",
      "INFO:Clustering:reading/data/data/K_DoesAlgSupportWeightTest_w1/gt_default.parq\n",
      "2020-04-22 21:43:11,480 - ClusterComparator - INFO - resulting 8 nodes out of 9,9\n",
      "INFO:ClusterComparator:resulting 8 nodes out of 9,9\n",
      "/opt/conda/envs/python3/lib/python3.6/site-packages/sklearn/metrics/cluster/supervised.py:859: FutureWarning: The behavior of NMI will change in version 0.22. To match the behavior of 'v_measure_score', NMI will use average_method='arithmetic' by default.\n",
      "  FutureWarning)\n",
      "2020-04-22 21:43:11,487 - ClusterComparator - INFO - Running /opt/gct/submodules/OvpNMI/onmi /tmp/tmpwkvyea00/cluster1.cnl /tmp/tmpwkvyea00/cluster2.cnl > ovpnmioutput\n",
      "INFO:ClusterComparator:Running /opt/gct/submodules/OvpNMI/onmi /tmp/tmpwkvyea00/cluster1.cnl /tmp/tmpwkvyea00/cluster2.cnl > ovpnmioutput\n"
     ]
    },
    {
     "name": "stderr",
     "output_type": "stream",
     "text": [
      "2020-04-22 21:43:11,495 - ClusterComparator - INFO - resulting 8 nodes out of 9,9\n",
      "INFO:ClusterComparator:resulting 8 nodes out of 9,9\n",
      "/opt/conda/envs/python3/lib/python3.6/site-packages/sklearn/metrics/cluster/supervised.py:859: FutureWarning: The behavior of NMI will change in version 0.22. To match the behavior of 'v_measure_score', NMI will use average_method='arithmetic' by default.\n",
      "  FutureWarning)\n",
      "2020-04-22 21:43:11,504 - ClusterComparator - INFO - Running /opt/gct/submodules/OvpNMI/onmi /tmp/tmpmywigket/cluster1.cnl /tmp/tmpmywigket/cluster2.cnl > ovpnmioutput\n",
      "INFO:ClusterComparator:Running /opt/gct/submodules/OvpNMI/onmi /tmp/tmpmywigket/cluster1.cnl /tmp/tmpmywigket/cluster2.cnl > ovpnmioutput\n",
      "2020-04-22 21:43:11,518 - ClusterComparator - INFO - resulting 9 nodes out of 9,9\n",
      "INFO:ClusterComparator:resulting 9 nodes out of 9,9\n",
      "/opt/conda/envs/python3/lib/python3.6/site-packages/sklearn/metrics/cluster/supervised.py:859: FutureWarning: The behavior of NMI will change in version 0.22. To match the behavior of 'v_measure_score', NMI will use average_method='arithmetic' by default.\n",
      "  FutureWarning)\n",
      "2020-04-22 21:43:11,527 - ClusterComparator - INFO - Running /opt/gct/submodules/OvpNMI/onmi /tmp/tmp9r0fhdw3/cluster1.cnl /tmp/tmp9r0fhdw3/cluster2.cnl > ovpnmioutput\n",
      "INFO:ClusterComparator:Running /opt/gct/submodules/OvpNMI/onmi /tmp/tmp9r0fhdw3/cluster1.cnl /tmp/tmp9r0fhdw3/cluster2.cnl > ovpnmioutput\n",
      "2020-04-22 21:43:11,535 - Clustering - INFO - reading/data/data/K_DoesAlgSupportWeightTest_w1/gt_default.parq\n",
      "INFO:Clustering:reading/data/data/K_DoesAlgSupportWeightTest_w1/gt_default.parq\n",
      "2020-04-22 21:43:11,542 - ClusterComparator - INFO - resulting 8 nodes out of 9,9\n",
      "INFO:ClusterComparator:resulting 8 nodes out of 9,9\n",
      "/opt/conda/envs/python3/lib/python3.6/site-packages/sklearn/metrics/cluster/supervised.py:859: FutureWarning: The behavior of NMI will change in version 0.22. To match the behavior of 'v_measure_score', NMI will use average_method='arithmetic' by default.\n",
      "  FutureWarning)\n",
      "2020-04-22 21:43:11,549 - ClusterComparator - INFO - Running /opt/gct/submodules/OvpNMI/onmi /tmp/tmp6woycyi0/cluster1.cnl /tmp/tmp6woycyi0/cluster2.cnl > ovpnmioutput\n",
      "INFO:ClusterComparator:Running /opt/gct/submodules/OvpNMI/onmi /tmp/tmp6woycyi0/cluster1.cnl /tmp/tmp6woycyi0/cluster2.cnl > ovpnmioutput\n",
      "2020-04-22 21:43:11,557 - ClusterComparator - INFO - resulting 8 nodes out of 9,9\n",
      "INFO:ClusterComparator:resulting 8 nodes out of 9,9\n",
      "/opt/conda/envs/python3/lib/python3.6/site-packages/sklearn/metrics/cluster/supervised.py:859: FutureWarning: The behavior of NMI will change in version 0.22. To match the behavior of 'v_measure_score', NMI will use average_method='arithmetic' by default.\n",
      "  FutureWarning)\n",
      "2020-04-22 21:43:11,566 - ClusterComparator - INFO - Running /opt/gct/submodules/OvpNMI/onmi /tmp/tmp5jthycpn/cluster1.cnl /tmp/tmp5jthycpn/cluster2.cnl > ovpnmioutput\n",
      "INFO:ClusterComparator:Running /opt/gct/submodules/OvpNMI/onmi /tmp/tmp5jthycpn/cluster1.cnl /tmp/tmp5jthycpn/cluster2.cnl > ovpnmioutput\n",
      "2020-04-22 21:43:11,580 - ClusterComparator - INFO - resulting 9 nodes out of 9,9\n",
      "INFO:ClusterComparator:resulting 9 nodes out of 9,9\n",
      "/opt/conda/envs/python3/lib/python3.6/site-packages/sklearn/metrics/cluster/supervised.py:859: FutureWarning: The behavior of NMI will change in version 0.22. To match the behavior of 'v_measure_score', NMI will use average_method='arithmetic' by default.\n",
      "  FutureWarning)\n",
      "2020-04-22 21:43:11,589 - ClusterComparator - INFO - Running /opt/gct/submodules/OvpNMI/onmi /tmp/tmpldeeca6j/cluster1.cnl /tmp/tmpldeeca6j/cluster2.cnl > ovpnmioutput\n",
      "INFO:ClusterComparator:Running /opt/gct/submodules/OvpNMI/onmi /tmp/tmpldeeca6j/cluster1.cnl /tmp/tmpldeeca6j/cluster2.cnl > ovpnmioutput\n",
      "2020-04-22 21:43:11,597 - Clustering - INFO - reading/data/data/K_DoesAlgSupportWeightTest_w1/gt_default.parq\n",
      "INFO:Clustering:reading/data/data/K_DoesAlgSupportWeightTest_w1/gt_default.parq\n",
      "2020-04-22 21:43:11,604 - ClusterComparator - INFO - resulting 8 nodes out of 9,9\n",
      "INFO:ClusterComparator:resulting 8 nodes out of 9,9\n",
      "/opt/conda/envs/python3/lib/python3.6/site-packages/sklearn/metrics/cluster/supervised.py:859: FutureWarning: The behavior of NMI will change in version 0.22. To match the behavior of 'v_measure_score', NMI will use average_method='arithmetic' by default.\n",
      "  FutureWarning)\n",
      "2020-04-22 21:43:11,611 - ClusterComparator - INFO - Running /opt/gct/submodules/OvpNMI/onmi /tmp/tmpnltcv7ja/cluster1.cnl /tmp/tmpnltcv7ja/cluster2.cnl > ovpnmioutput\n",
      "INFO:ClusterComparator:Running /opt/gct/submodules/OvpNMI/onmi /tmp/tmpnltcv7ja/cluster1.cnl /tmp/tmpnltcv7ja/cluster2.cnl > ovpnmioutput\n",
      "2020-04-22 21:43:11,619 - ClusterComparator - INFO - resulting 8 nodes out of 9,9\n",
      "INFO:ClusterComparator:resulting 8 nodes out of 9,9\n",
      "/opt/conda/envs/python3/lib/python3.6/site-packages/sklearn/metrics/cluster/supervised.py:859: FutureWarning: The behavior of NMI will change in version 0.22. To match the behavior of 'v_measure_score', NMI will use average_method='arithmetic' by default.\n",
      "  FutureWarning)\n",
      "2020-04-22 21:43:11,628 - ClusterComparator - INFO - Running /opt/gct/submodules/OvpNMI/onmi /tmp/tmpjusvppp5/cluster1.cnl /tmp/tmpjusvppp5/cluster2.cnl > ovpnmioutput\n",
      "INFO:ClusterComparator:Running /opt/gct/submodules/OvpNMI/onmi /tmp/tmpjusvppp5/cluster1.cnl /tmp/tmpjusvppp5/cluster2.cnl > ovpnmioutput\n",
      "2020-04-22 21:43:11,642 - ClusterComparator - INFO - resulting 9 nodes out of 9,9\n",
      "INFO:ClusterComparator:resulting 9 nodes out of 9,9\n",
      "/opt/conda/envs/python3/lib/python3.6/site-packages/sklearn/metrics/cluster/supervised.py:859: FutureWarning: The behavior of NMI will change in version 0.22. To match the behavior of 'v_measure_score', NMI will use average_method='arithmetic' by default.\n",
      "  FutureWarning)\n",
      "2020-04-22 21:43:11,651 - ClusterComparator - INFO - Running /opt/gct/submodules/OvpNMI/onmi /tmp/tmp_o6379j_/cluster1.cnl /tmp/tmp_o6379j_/cluster2.cnl > ovpnmioutput\n",
      "INFO:ClusterComparator:Running /opt/gct/submodules/OvpNMI/onmi /tmp/tmp_o6379j_/cluster1.cnl /tmp/tmp_o6379j_/cluster2.cnl > ovpnmioutput\n",
      "2020-04-22 21:43:11,659 - Clustering - INFO - reading/data/data/K_DoesAlgSupportWeightTest_w1/gt_default.parq\n",
      "INFO:Clustering:reading/data/data/K_DoesAlgSupportWeightTest_w1/gt_default.parq\n",
      "2020-04-22 21:43:11,665 - ClusterComparator - INFO - resulting 9 nodes out of 9,9\n",
      "INFO:ClusterComparator:resulting 9 nodes out of 9,9\n",
      "/opt/conda/envs/python3/lib/python3.6/site-packages/sklearn/metrics/cluster/supervised.py:859: FutureWarning: The behavior of NMI will change in version 0.22. To match the behavior of 'v_measure_score', NMI will use average_method='arithmetic' by default.\n",
      "  FutureWarning)\n",
      "2020-04-22 21:43:11,673 - ClusterComparator - INFO - Running /opt/gct/submodules/OvpNMI/onmi /tmp/tmpecxf7rq4/cluster1.cnl /tmp/tmpecxf7rq4/cluster2.cnl > ovpnmioutput\n",
      "INFO:ClusterComparator:Running /opt/gct/submodules/OvpNMI/onmi /tmp/tmpecxf7rq4/cluster1.cnl /tmp/tmpecxf7rq4/cluster2.cnl > ovpnmioutput\n",
      "2020-04-22 21:43:11,681 - ClusterComparator - INFO - resulting 9 nodes out of 9,9\n",
      "INFO:ClusterComparator:resulting 9 nodes out of 9,9\n",
      "/opt/conda/envs/python3/lib/python3.6/site-packages/sklearn/metrics/cluster/supervised.py:859: FutureWarning: The behavior of NMI will change in version 0.22. To match the behavior of 'v_measure_score', NMI will use average_method='arithmetic' by default.\n",
      "  FutureWarning)\n",
      "2020-04-22 21:43:11,690 - ClusterComparator - INFO - Running /opt/gct/submodules/OvpNMI/onmi /tmp/tmplk4ovo5x/cluster1.cnl /tmp/tmplk4ovo5x/cluster2.cnl > ovpnmioutput\n",
      "INFO:ClusterComparator:Running /opt/gct/submodules/OvpNMI/onmi /tmp/tmplk4ovo5x/cluster1.cnl /tmp/tmplk4ovo5x/cluster2.cnl > ovpnmioutput\n",
      "2020-04-22 21:43:11,726 - ClusterComparator - INFO - resulting 9 nodes out of 9,9\n",
      "INFO:ClusterComparator:resulting 9 nodes out of 9,9\n",
      "/opt/conda/envs/python3/lib/python3.6/site-packages/sklearn/metrics/cluster/supervised.py:859: FutureWarning: The behavior of NMI will change in version 0.22. To match the behavior of 'v_measure_score', NMI will use average_method='arithmetic' by default.\n",
      "  FutureWarning)\n",
      "2020-04-22 21:43:11,736 - ClusterComparator - INFO - Running /opt/gct/submodules/OvpNMI/onmi /tmp/tmplnrto36t/cluster1.cnl /tmp/tmplnrto36t/cluster2.cnl > ovpnmioutput\n"
     ]
    },
    {
     "name": "stderr",
     "output_type": "stream",
     "text": [
      "INFO:ClusterComparator:Running /opt/gct/submodules/OvpNMI/onmi /tmp/tmplnrto36t/cluster1.cnl /tmp/tmplnrto36t/cluster2.cnl > ovpnmioutput\n",
      "2020-04-22 21:43:11,745 - Clustering - INFO - reading/data/data/K_DoesAlgSupportWeightTest_w1/gt_default.parq\n",
      "INFO:Clustering:reading/data/data/K_DoesAlgSupportWeightTest_w1/gt_default.parq\n",
      "2020-04-22 21:43:11,762 - ClusterComparator - INFO - resulting 9 nodes out of 9,9\n",
      "INFO:ClusterComparator:resulting 9 nodes out of 9,9\n",
      "/opt/conda/envs/python3/lib/python3.6/site-packages/sklearn/metrics/cluster/supervised.py:859: FutureWarning: The behavior of NMI will change in version 0.22. To match the behavior of 'v_measure_score', NMI will use average_method='arithmetic' by default.\n",
      "  FutureWarning)\n",
      "2020-04-22 21:43:11,770 - ClusterComparator - INFO - Running /opt/gct/submodules/OvpNMI/onmi /tmp/tmpfolya_1r/cluster1.cnl /tmp/tmpfolya_1r/cluster2.cnl > ovpnmioutput\n",
      "INFO:ClusterComparator:Running /opt/gct/submodules/OvpNMI/onmi /tmp/tmpfolya_1r/cluster1.cnl /tmp/tmpfolya_1r/cluster2.cnl > ovpnmioutput\n",
      "2020-04-22 21:43:11,790 - ClusterComparator - INFO - resulting 9 nodes out of 9,9\n",
      "INFO:ClusterComparator:resulting 9 nodes out of 9,9\n",
      "/opt/conda/envs/python3/lib/python3.6/site-packages/sklearn/metrics/cluster/supervised.py:859: FutureWarning: The behavior of NMI will change in version 0.22. To match the behavior of 'v_measure_score', NMI will use average_method='arithmetic' by default.\n",
      "  FutureWarning)\n",
      "2020-04-22 21:43:11,798 - ClusterComparator - INFO - Running /opt/gct/submodules/OvpNMI/onmi /tmp/tmpofc4cwzd/cluster1.cnl /tmp/tmpofc4cwzd/cluster2.cnl > ovpnmioutput\n",
      "INFO:ClusterComparator:Running /opt/gct/submodules/OvpNMI/onmi /tmp/tmpofc4cwzd/cluster1.cnl /tmp/tmpofc4cwzd/cluster2.cnl > ovpnmioutput\n",
      "2020-04-22 21:43:11,815 - ClusterComparator - INFO - resulting 0 nodes out of 5,0\n",
      "INFO:ClusterComparator:resulting 0 nodes out of 5,0\n",
      "/opt/conda/envs/python3/lib/python3.6/site-packages/sklearn/metrics/cluster/supervised.py:859: FutureWarning: The behavior of NMI will change in version 0.22. To match the behavior of 'v_measure_score', NMI will use average_method='arithmetic' by default.\n",
      "  FutureWarning)\n",
      "2020-04-22 21:43:11,820 - Clustering - INFO - reading/data/data/K_DoesAlgSupportWeightTest_w1/gt_default.parq\n",
      "INFO:Clustering:reading/data/data/K_DoesAlgSupportWeightTest_w1/gt_default.parq\n",
      "2020-04-22 21:43:11,825 - ClusterComparator - INFO - resulting 5 nodes out of 9,5\n",
      "INFO:ClusterComparator:resulting 5 nodes out of 9,5\n",
      "2020-04-22 21:43:11,830 - ClusterComparator - INFO - resulting 0 nodes out of 9,0\n",
      "INFO:ClusterComparator:resulting 0 nodes out of 9,0\n",
      "/opt/conda/envs/python3/lib/python3.6/site-packages/sklearn/metrics/cluster/supervised.py:859: FutureWarning: The behavior of NMI will change in version 0.22. To match the behavior of 'v_measure_score', NMI will use average_method='arithmetic' by default.\n",
      "  FutureWarning)\n",
      "2020-04-22 21:43:11,839 - ClusterComparator - INFO - resulting 9 nodes out of 9,9\n",
      "INFO:ClusterComparator:resulting 9 nodes out of 9,9\n",
      "2020-04-22 21:43:11,847 - ClusterComparator - INFO - Running /opt/gct/submodules/OvpNMI/onmi /tmp/tmpt82kveg_/cluster1.cnl /tmp/tmpt82kveg_/cluster2.cnl > ovpnmioutput\n",
      "INFO:ClusterComparator:Running /opt/gct/submodules/OvpNMI/onmi /tmp/tmpt82kveg_/cluster1.cnl /tmp/tmpt82kveg_/cluster2.cnl > ovpnmioutput\n",
      "2020-04-22 21:43:11,856 - Clustering - INFO - reading/data/data/K_DoesAlgSupportWeightTest_w1/gt_default.parq\n",
      "INFO:Clustering:reading/data/data/K_DoesAlgSupportWeightTest_w1/gt_default.parq\n",
      "2020-04-22 21:43:11,862 - ClusterComparator - INFO - resulting 9 nodes out of 9,9\n",
      "INFO:ClusterComparator:resulting 9 nodes out of 9,9\n",
      "/opt/conda/envs/python3/lib/python3.6/site-packages/sklearn/metrics/cluster/supervised.py:859: FutureWarning: The behavior of NMI will change in version 0.22. To match the behavior of 'v_measure_score', NMI will use average_method='arithmetic' by default.\n",
      "  FutureWarning)\n",
      "2020-04-22 21:43:11,870 - ClusterComparator - INFO - Running /opt/gct/submodules/OvpNMI/onmi /tmp/tmpk5chnshv/cluster1.cnl /tmp/tmpk5chnshv/cluster2.cnl > ovpnmioutput\n",
      "INFO:ClusterComparator:Running /opt/gct/submodules/OvpNMI/onmi /tmp/tmpk5chnshv/cluster1.cnl /tmp/tmpk5chnshv/cluster2.cnl > ovpnmioutput\n",
      "2020-04-22 21:43:11,878 - ClusterComparator - INFO - resulting 9 nodes out of 9,9\n",
      "INFO:ClusterComparator:resulting 9 nodes out of 9,9\n",
      "/opt/conda/envs/python3/lib/python3.6/site-packages/sklearn/metrics/cluster/supervised.py:859: FutureWarning: The behavior of NMI will change in version 0.22. To match the behavior of 'v_measure_score', NMI will use average_method='arithmetic' by default.\n",
      "  FutureWarning)\n",
      "2020-04-22 21:43:11,887 - ClusterComparator - INFO - Running /opt/gct/submodules/OvpNMI/onmi /tmp/tmp4xuvjjem/cluster1.cnl /tmp/tmp4xuvjjem/cluster2.cnl > ovpnmioutput\n",
      "INFO:ClusterComparator:Running /opt/gct/submodules/OvpNMI/onmi /tmp/tmp4xuvjjem/cluster1.cnl /tmp/tmp4xuvjjem/cluster2.cnl > ovpnmioutput\n",
      "2020-04-22 21:43:11,901 - ClusterComparator - INFO - resulting 9 nodes out of 9,9\n",
      "INFO:ClusterComparator:resulting 9 nodes out of 9,9\n",
      "/opt/conda/envs/python3/lib/python3.6/site-packages/sklearn/metrics/cluster/supervised.py:859: FutureWarning: The behavior of NMI will change in version 0.22. To match the behavior of 'v_measure_score', NMI will use average_method='arithmetic' by default.\n",
      "  FutureWarning)\n",
      "2020-04-22 21:43:11,906 - Clustering - INFO - reading/data/data/K_DoesAlgSupportWeightTest_w1/gt_default.parq\n",
      "INFO:Clustering:reading/data/data/K_DoesAlgSupportWeightTest_w1/gt_default.parq\n",
      "2020-04-22 21:43:11,911 - ClusterComparator - INFO - resulting 9 nodes out of 9,9\n",
      "INFO:ClusterComparator:resulting 9 nodes out of 9,9\n",
      "2020-04-22 21:43:11,917 - ClusterComparator - INFO - resulting 9 nodes out of 9,9\n",
      "INFO:ClusterComparator:resulting 9 nodes out of 9,9\n",
      "/opt/conda/envs/python3/lib/python3.6/site-packages/sklearn/metrics/cluster/supervised.py:859: FutureWarning: The behavior of NMI will change in version 0.22. To match the behavior of 'v_measure_score', NMI will use average_method='arithmetic' by default.\n",
      "  FutureWarning)\n",
      "2020-04-22 21:43:11,927 - ClusterComparator - INFO - resulting 9 nodes out of 9,9\n",
      "INFO:ClusterComparator:resulting 9 nodes out of 9,9\n",
      "/opt/conda/envs/python3/lib/python3.6/site-packages/sklearn/metrics/cluster/supervised.py:859: FutureWarning: The behavior of NMI will change in version 0.22. To match the behavior of 'v_measure_score', NMI will use average_method='arithmetic' by default.\n",
      "  FutureWarning)\n",
      "2020-04-22 21:43:11,937 - ClusterComparator - INFO - Running /opt/gct/submodules/OvpNMI/onmi /tmp/tmprq708odx/cluster1.cnl /tmp/tmprq708odx/cluster2.cnl > ovpnmioutput\n",
      "INFO:ClusterComparator:Running /opt/gct/submodules/OvpNMI/onmi /tmp/tmprq708odx/cluster1.cnl /tmp/tmprq708odx/cluster2.cnl > ovpnmioutput\n",
      "2020-04-22 21:43:11,945 - Clustering - INFO - reading/data/data/K_DoesAlgSupportWeightTest_w1/gt_default.parq\n",
      "INFO:Clustering:reading/data/data/K_DoesAlgSupportWeightTest_w1/gt_default.parq\n",
      "2020-04-22 21:43:11,951 - ClusterComparator - INFO - resulting 9 nodes out of 9,9\n",
      "INFO:ClusterComparator:resulting 9 nodes out of 9,9\n",
      "/opt/conda/envs/python3/lib/python3.6/site-packages/sklearn/metrics/cluster/supervised.py:859: FutureWarning: The behavior of NMI will change in version 0.22. To match the behavior of 'v_measure_score', NMI will use average_method='arithmetic' by default.\n",
      "  FutureWarning)\n",
      "2020-04-22 21:43:11,959 - ClusterComparator - INFO - Running /opt/gct/submodules/OvpNMI/onmi /tmp/tmpg8xvm2er/cluster1.cnl /tmp/tmpg8xvm2er/cluster2.cnl > ovpnmioutput\n",
      "INFO:ClusterComparator:Running /opt/gct/submodules/OvpNMI/onmi /tmp/tmpg8xvm2er/cluster1.cnl /tmp/tmpg8xvm2er/cluster2.cnl > ovpnmioutput\n",
      "2020-04-22 21:43:11,967 - ClusterComparator - INFO - resulting 9 nodes out of 9,9\n",
      "INFO:ClusterComparator:resulting 9 nodes out of 9,9\n",
      "/opt/conda/envs/python3/lib/python3.6/site-packages/sklearn/metrics/cluster/supervised.py:859: FutureWarning: The behavior of NMI will change in version 0.22. To match the behavior of 'v_measure_score', NMI will use average_method='arithmetic' by default.\n",
      "  FutureWarning)\n",
      "2020-04-22 21:43:11,976 - ClusterComparator - INFO - Running /opt/gct/submodules/OvpNMI/onmi /tmp/tmpquw6vhg3/cluster1.cnl /tmp/tmpquw6vhg3/cluster2.cnl > ovpnmioutput\n"
     ]
    },
    {
     "name": "stderr",
     "output_type": "stream",
     "text": [
      "INFO:ClusterComparator:Running /opt/gct/submodules/OvpNMI/onmi /tmp/tmpquw6vhg3/cluster1.cnl /tmp/tmpquw6vhg3/cluster2.cnl > ovpnmioutput\n",
      "2020-04-22 21:43:11,990 - ClusterComparator - INFO - resulting 9 nodes out of 9,9\n",
      "INFO:ClusterComparator:resulting 9 nodes out of 9,9\n",
      "/opt/conda/envs/python3/lib/python3.6/site-packages/sklearn/metrics/cluster/supervised.py:859: FutureWarning: The behavior of NMI will change in version 0.22. To match the behavior of 'v_measure_score', NMI will use average_method='arithmetic' by default.\n",
      "  FutureWarning)\n",
      "2020-04-22 21:43:12,000 - ClusterComparator - INFO - Running /opt/gct/submodules/OvpNMI/onmi /tmp/tmp9u3p8n7u/cluster1.cnl /tmp/tmp9u3p8n7u/cluster2.cnl > ovpnmioutput\n",
      "INFO:ClusterComparator:Running /opt/gct/submodules/OvpNMI/onmi /tmp/tmp9u3p8n7u/cluster1.cnl /tmp/tmp9u3p8n7u/cluster2.cnl > ovpnmioutput\n",
      "2020-04-22 21:43:12,008 - Clustering - INFO - reading/data/data/K_DoesAlgSupportWeightTest_w1/gt_default.parq\n",
      "INFO:Clustering:reading/data/data/K_DoesAlgSupportWeightTest_w1/gt_default.parq\n",
      "2020-04-22 21:43:12,014 - ClusterComparator - INFO - resulting 9 nodes out of 9,9\n",
      "INFO:ClusterComparator:resulting 9 nodes out of 9,9\n",
      "/opt/conda/envs/python3/lib/python3.6/site-packages/sklearn/metrics/cluster/supervised.py:859: FutureWarning: The behavior of NMI will change in version 0.22. To match the behavior of 'v_measure_score', NMI will use average_method='arithmetic' by default.\n",
      "  FutureWarning)\n",
      "2020-04-22 21:43:12,022 - ClusterComparator - INFO - Running /opt/gct/submodules/OvpNMI/onmi /tmp/tmp8aocv0x3/cluster1.cnl /tmp/tmp8aocv0x3/cluster2.cnl > ovpnmioutput\n",
      "INFO:ClusterComparator:Running /opt/gct/submodules/OvpNMI/onmi /tmp/tmp8aocv0x3/cluster1.cnl /tmp/tmp8aocv0x3/cluster2.cnl > ovpnmioutput\n",
      "2020-04-22 21:43:12,030 - ClusterComparator - INFO - resulting 9 nodes out of 9,9\n",
      "INFO:ClusterComparator:resulting 9 nodes out of 9,9\n",
      "/opt/conda/envs/python3/lib/python3.6/site-packages/sklearn/metrics/cluster/supervised.py:859: FutureWarning: The behavior of NMI will change in version 0.22. To match the behavior of 'v_measure_score', NMI will use average_method='arithmetic' by default.\n",
      "  FutureWarning)\n",
      "2020-04-22 21:43:12,039 - ClusterComparator - INFO - Running /opt/gct/submodules/OvpNMI/onmi /tmp/tmpaqo324as/cluster1.cnl /tmp/tmpaqo324as/cluster2.cnl > ovpnmioutput\n",
      "INFO:ClusterComparator:Running /opt/gct/submodules/OvpNMI/onmi /tmp/tmpaqo324as/cluster1.cnl /tmp/tmpaqo324as/cluster2.cnl > ovpnmioutput\n",
      "2020-04-22 21:43:12,053 - ClusterComparator - INFO - resulting 9 nodes out of 9,9\n",
      "INFO:ClusterComparator:resulting 9 nodes out of 9,9\n",
      "/opt/conda/envs/python3/lib/python3.6/site-packages/sklearn/metrics/cluster/supervised.py:859: FutureWarning: The behavior of NMI will change in version 0.22. To match the behavior of 'v_measure_score', NMI will use average_method='arithmetic' by default.\n",
      "  FutureWarning)\n",
      "2020-04-22 21:43:12,063 - ClusterComparator - INFO - Running /opt/gct/submodules/OvpNMI/onmi /tmp/tmpsa3ygm6u/cluster1.cnl /tmp/tmpsa3ygm6u/cluster2.cnl > ovpnmioutput\n",
      "INFO:ClusterComparator:Running /opt/gct/submodules/OvpNMI/onmi /tmp/tmpsa3ygm6u/cluster1.cnl /tmp/tmpsa3ygm6u/cluster2.cnl > ovpnmioutput\n",
      "2020-04-22 21:43:12,071 - Clustering - INFO - reading/data/data/K_DoesAlgSupportWeightTest_w1/gt_default.parq\n",
      "INFO:Clustering:reading/data/data/K_DoesAlgSupportWeightTest_w1/gt_default.parq\n",
      "2020-04-22 21:43:12,077 - ClusterComparator - INFO - resulting 9 nodes out of 9,9\n",
      "INFO:ClusterComparator:resulting 9 nodes out of 9,9\n",
      "/opt/conda/envs/python3/lib/python3.6/site-packages/sklearn/metrics/cluster/supervised.py:859: FutureWarning: The behavior of NMI will change in version 0.22. To match the behavior of 'v_measure_score', NMI will use average_method='arithmetic' by default.\n",
      "  FutureWarning)\n",
      "2020-04-22 21:43:12,085 - ClusterComparator - INFO - Running /opt/gct/submodules/OvpNMI/onmi /tmp/tmpyrrjfb4g/cluster1.cnl /tmp/tmpyrrjfb4g/cluster2.cnl > ovpnmioutput\n",
      "INFO:ClusterComparator:Running /opt/gct/submodules/OvpNMI/onmi /tmp/tmpyrrjfb4g/cluster1.cnl /tmp/tmpyrrjfb4g/cluster2.cnl > ovpnmioutput\n",
      "2020-04-22 21:43:12,094 - ClusterComparator - INFO - resulting 9 nodes out of 9,9\n",
      "INFO:ClusterComparator:resulting 9 nodes out of 9,9\n",
      "/opt/conda/envs/python3/lib/python3.6/site-packages/sklearn/metrics/cluster/supervised.py:859: FutureWarning: The behavior of NMI will change in version 0.22. To match the behavior of 'v_measure_score', NMI will use average_method='arithmetic' by default.\n",
      "  FutureWarning)\n",
      "2020-04-22 21:43:12,102 - ClusterComparator - INFO - Running /opt/gct/submodules/OvpNMI/onmi /tmp/tmpi7rf2psk/cluster1.cnl /tmp/tmpi7rf2psk/cluster2.cnl > ovpnmioutput\n",
      "INFO:ClusterComparator:Running /opt/gct/submodules/OvpNMI/onmi /tmp/tmpi7rf2psk/cluster1.cnl /tmp/tmpi7rf2psk/cluster2.cnl > ovpnmioutput\n",
      "2020-04-22 21:43:12,117 - ClusterComparator - INFO - resulting 9 nodes out of 9,9\n",
      "INFO:ClusterComparator:resulting 9 nodes out of 9,9\n",
      "/opt/conda/envs/python3/lib/python3.6/site-packages/sklearn/metrics/cluster/supervised.py:859: FutureWarning: The behavior of NMI will change in version 0.22. To match the behavior of 'v_measure_score', NMI will use average_method='arithmetic' by default.\n",
      "  FutureWarning)\n",
      "2020-04-22 21:43:12,126 - ClusterComparator - INFO - Running /opt/gct/submodules/OvpNMI/onmi /tmp/tmpykxghlgm/cluster1.cnl /tmp/tmpykxghlgm/cluster2.cnl > ovpnmioutput\n",
      "INFO:ClusterComparator:Running /opt/gct/submodules/OvpNMI/onmi /tmp/tmpykxghlgm/cluster1.cnl /tmp/tmpykxghlgm/cluster2.cnl > ovpnmioutput\n",
      "2020-04-22 21:43:12,134 - Clustering - INFO - reading/data/data/K_DoesAlgSupportWeightTest_w1/gt_default.parq\n",
      "INFO:Clustering:reading/data/data/K_DoesAlgSupportWeightTest_w1/gt_default.parq\n",
      "2020-04-22 21:43:12,141 - ClusterComparator - INFO - resulting 9 nodes out of 9,9\n",
      "INFO:ClusterComparator:resulting 9 nodes out of 9,9\n",
      "/opt/conda/envs/python3/lib/python3.6/site-packages/sklearn/metrics/cluster/supervised.py:859: FutureWarning: The behavior of NMI will change in version 0.22. To match the behavior of 'v_measure_score', NMI will use average_method='arithmetic' by default.\n",
      "  FutureWarning)\n",
      "2020-04-22 21:43:12,148 - ClusterComparator - INFO - Running /opt/gct/submodules/OvpNMI/onmi /tmp/tmphm4bqxqe/cluster1.cnl /tmp/tmphm4bqxqe/cluster2.cnl > ovpnmioutput\n",
      "INFO:ClusterComparator:Running /opt/gct/submodules/OvpNMI/onmi /tmp/tmphm4bqxqe/cluster1.cnl /tmp/tmphm4bqxqe/cluster2.cnl > ovpnmioutput\n",
      "2020-04-22 21:43:12,157 - ClusterComparator - INFO - resulting 9 nodes out of 9,9\n",
      "INFO:ClusterComparator:resulting 9 nodes out of 9,9\n",
      "/opt/conda/envs/python3/lib/python3.6/site-packages/sklearn/metrics/cluster/supervised.py:859: FutureWarning: The behavior of NMI will change in version 0.22. To match the behavior of 'v_measure_score', NMI will use average_method='arithmetic' by default.\n",
      "  FutureWarning)\n",
      "2020-04-22 21:43:12,165 - ClusterComparator - INFO - Running /opt/gct/submodules/OvpNMI/onmi /tmp/tmpeea0peab/cluster1.cnl /tmp/tmpeea0peab/cluster2.cnl > ovpnmioutput\n",
      "INFO:ClusterComparator:Running /opt/gct/submodules/OvpNMI/onmi /tmp/tmpeea0peab/cluster1.cnl /tmp/tmpeea0peab/cluster2.cnl > ovpnmioutput\n",
      "2020-04-22 21:43:12,180 - ClusterComparator - INFO - resulting 9 nodes out of 9,9\n",
      "INFO:ClusterComparator:resulting 9 nodes out of 9,9\n",
      "/opt/conda/envs/python3/lib/python3.6/site-packages/sklearn/metrics/cluster/supervised.py:859: FutureWarning: The behavior of NMI will change in version 0.22. To match the behavior of 'v_measure_score', NMI will use average_method='arithmetic' by default.\n",
      "  FutureWarning)\n",
      "2020-04-22 21:43:12,188 - ClusterComparator - INFO - Running /opt/gct/submodules/OvpNMI/onmi /tmp/tmp8fro7hw5/cluster1.cnl /tmp/tmp8fro7hw5/cluster2.cnl > ovpnmioutput\n",
      "INFO:ClusterComparator:Running /opt/gct/submodules/OvpNMI/onmi /tmp/tmp8fro7hw5/cluster1.cnl /tmp/tmp8fro7hw5/cluster2.cnl > ovpnmioutput\n",
      "2020-04-22 21:43:12,196 - Clustering - INFO - reading/data/data/K_DoesAlgSupportWeightTest_w1/gt_default.parq\n",
      "INFO:Clustering:reading/data/data/K_DoesAlgSupportWeightTest_w1/gt_default.parq\n",
      "2020-04-22 21:43:12,202 - ClusterComparator - INFO - resulting 9 nodes out of 9,9\n",
      "INFO:ClusterComparator:resulting 9 nodes out of 9,9\n",
      "/opt/conda/envs/python3/lib/python3.6/site-packages/sklearn/metrics/cluster/supervised.py:859: FutureWarning: The behavior of NMI will change in version 0.22. To match the behavior of 'v_measure_score', NMI will use average_method='arithmetic' by default.\n",
      "  FutureWarning)\n"
     ]
    },
    {
     "name": "stderr",
     "output_type": "stream",
     "text": [
      "2020-04-22 21:43:12,210 - ClusterComparator - INFO - Running /opt/gct/submodules/OvpNMI/onmi /tmp/tmpmdix73_7/cluster1.cnl /tmp/tmpmdix73_7/cluster2.cnl > ovpnmioutput\n",
      "INFO:ClusterComparator:Running /opt/gct/submodules/OvpNMI/onmi /tmp/tmpmdix73_7/cluster1.cnl /tmp/tmpmdix73_7/cluster2.cnl > ovpnmioutput\n",
      "2020-04-22 21:43:12,218 - ClusterComparator - INFO - resulting 9 nodes out of 9,9\n",
      "INFO:ClusterComparator:resulting 9 nodes out of 9,9\n",
      "/opt/conda/envs/python3/lib/python3.6/site-packages/sklearn/metrics/cluster/supervised.py:859: FutureWarning: The behavior of NMI will change in version 0.22. To match the behavior of 'v_measure_score', NMI will use average_method='arithmetic' by default.\n",
      "  FutureWarning)\n",
      "2020-04-22 21:43:12,227 - ClusterComparator - INFO - Running /opt/gct/submodules/OvpNMI/onmi /tmp/tmp2klhv30a/cluster1.cnl /tmp/tmp2klhv30a/cluster2.cnl > ovpnmioutput\n",
      "INFO:ClusterComparator:Running /opt/gct/submodules/OvpNMI/onmi /tmp/tmp2klhv30a/cluster1.cnl /tmp/tmp2klhv30a/cluster2.cnl > ovpnmioutput\n",
      "2020-04-22 21:43:12,242 - ClusterComparator - INFO - resulting 9 nodes out of 9,9\n",
      "INFO:ClusterComparator:resulting 9 nodes out of 9,9\n",
      "/opt/conda/envs/python3/lib/python3.6/site-packages/sklearn/metrics/cluster/supervised.py:859: FutureWarning: The behavior of NMI will change in version 0.22. To match the behavior of 'v_measure_score', NMI will use average_method='arithmetic' by default.\n",
      "  FutureWarning)\n",
      "2020-04-22 21:43:12,250 - ClusterComparator - INFO - Running /opt/gct/submodules/OvpNMI/onmi /tmp/tmppoyz7jid/cluster1.cnl /tmp/tmppoyz7jid/cluster2.cnl > ovpnmioutput\n",
      "INFO:ClusterComparator:Running /opt/gct/submodules/OvpNMI/onmi /tmp/tmppoyz7jid/cluster1.cnl /tmp/tmppoyz7jid/cluster2.cnl > ovpnmioutput\n",
      "2020-04-22 21:43:12,259 - Clustering - INFO - reading/data/data/K_DoesAlgSupportWeightTest_w1/gt_default.parq\n",
      "INFO:Clustering:reading/data/data/K_DoesAlgSupportWeightTest_w1/gt_default.parq\n",
      "2020-04-22 21:43:12,265 - ClusterComparator - INFO - resulting 9 nodes out of 9,9\n",
      "INFO:ClusterComparator:resulting 9 nodes out of 9,9\n",
      "/opt/conda/envs/python3/lib/python3.6/site-packages/sklearn/metrics/cluster/supervised.py:859: FutureWarning: The behavior of NMI will change in version 0.22. To match the behavior of 'v_measure_score', NMI will use average_method='arithmetic' by default.\n",
      "  FutureWarning)\n",
      "2020-04-22 21:43:12,273 - ClusterComparator - INFO - Running /opt/gct/submodules/OvpNMI/onmi /tmp/tmp64yxqu_i/cluster1.cnl /tmp/tmp64yxqu_i/cluster2.cnl > ovpnmioutput\n",
      "INFO:ClusterComparator:Running /opt/gct/submodules/OvpNMI/onmi /tmp/tmp64yxqu_i/cluster1.cnl /tmp/tmp64yxqu_i/cluster2.cnl > ovpnmioutput\n",
      "2020-04-22 21:43:12,281 - ClusterComparator - INFO - resulting 9 nodes out of 9,9\n",
      "INFO:ClusterComparator:resulting 9 nodes out of 9,9\n",
      "/opt/conda/envs/python3/lib/python3.6/site-packages/sklearn/metrics/cluster/supervised.py:859: FutureWarning: The behavior of NMI will change in version 0.22. To match the behavior of 'v_measure_score', NMI will use average_method='arithmetic' by default.\n",
      "  FutureWarning)\n",
      "2020-04-22 21:43:12,290 - ClusterComparator - INFO - Running /opt/gct/submodules/OvpNMI/onmi /tmp/tmppoya9xt4/cluster1.cnl /tmp/tmppoya9xt4/cluster2.cnl > ovpnmioutput\n",
      "INFO:ClusterComparator:Running /opt/gct/submodules/OvpNMI/onmi /tmp/tmppoya9xt4/cluster1.cnl /tmp/tmppoya9xt4/cluster2.cnl > ovpnmioutput\n",
      "2020-04-22 21:43:12,305 - ClusterComparator - INFO - resulting 9 nodes out of 9,9\n",
      "INFO:ClusterComparator:resulting 9 nodes out of 9,9\n",
      "/opt/conda/envs/python3/lib/python3.6/site-packages/sklearn/metrics/cluster/supervised.py:859: FutureWarning: The behavior of NMI will change in version 0.22. To match the behavior of 'v_measure_score', NMI will use average_method='arithmetic' by default.\n",
      "  FutureWarning)\n",
      "2020-04-22 21:43:12,314 - ClusterComparator - INFO - Running /opt/gct/submodules/OvpNMI/onmi /tmp/tmprscaah9q/cluster1.cnl /tmp/tmprscaah9q/cluster2.cnl > ovpnmioutput\n",
      "INFO:ClusterComparator:Running /opt/gct/submodules/OvpNMI/onmi /tmp/tmprscaah9q/cluster1.cnl /tmp/tmprscaah9q/cluster2.cnl > ovpnmioutput\n",
      "2020-04-22 21:43:12,322 - Clustering - INFO - reading/data/data/K_DoesAlgSupportWeightTest_w1/gt_default.parq\n",
      "INFO:Clustering:reading/data/data/K_DoesAlgSupportWeightTest_w1/gt_default.parq\n",
      "2020-04-22 21:43:12,328 - ClusterComparator - INFO - resulting 9 nodes out of 9,9\n",
      "INFO:ClusterComparator:resulting 9 nodes out of 9,9\n",
      "/opt/conda/envs/python3/lib/python3.6/site-packages/sklearn/metrics/cluster/supervised.py:859: FutureWarning: The behavior of NMI will change in version 0.22. To match the behavior of 'v_measure_score', NMI will use average_method='arithmetic' by default.\n",
      "  FutureWarning)\n",
      "2020-04-22 21:43:12,336 - ClusterComparator - INFO - Running /opt/gct/submodules/OvpNMI/onmi /tmp/tmph4br34df/cluster1.cnl /tmp/tmph4br34df/cluster2.cnl > ovpnmioutput\n",
      "INFO:ClusterComparator:Running /opt/gct/submodules/OvpNMI/onmi /tmp/tmph4br34df/cluster1.cnl /tmp/tmph4br34df/cluster2.cnl > ovpnmioutput\n",
      "2020-04-22 21:43:12,344 - ClusterComparator - INFO - resulting 9 nodes out of 9,9\n",
      "INFO:ClusterComparator:resulting 9 nodes out of 9,9\n",
      "/opt/conda/envs/python3/lib/python3.6/site-packages/sklearn/metrics/cluster/supervised.py:859: FutureWarning: The behavior of NMI will change in version 0.22. To match the behavior of 'v_measure_score', NMI will use average_method='arithmetic' by default.\n",
      "  FutureWarning)\n",
      "2020-04-22 21:43:12,353 - ClusterComparator - INFO - Running /opt/gct/submodules/OvpNMI/onmi /tmp/tmpslq2wtqj/cluster1.cnl /tmp/tmpslq2wtqj/cluster2.cnl > ovpnmioutput\n",
      "INFO:ClusterComparator:Running /opt/gct/submodules/OvpNMI/onmi /tmp/tmpslq2wtqj/cluster1.cnl /tmp/tmpslq2wtqj/cluster2.cnl > ovpnmioutput\n",
      "2020-04-22 21:43:12,368 - ClusterComparator - INFO - resulting 9 nodes out of 9,9\n",
      "INFO:ClusterComparator:resulting 9 nodes out of 9,9\n",
      "/opt/conda/envs/python3/lib/python3.6/site-packages/sklearn/metrics/cluster/supervised.py:859: FutureWarning: The behavior of NMI will change in version 0.22. To match the behavior of 'v_measure_score', NMI will use average_method='arithmetic' by default.\n",
      "  FutureWarning)\n",
      "2020-04-22 21:43:12,376 - ClusterComparator - INFO - Running /opt/gct/submodules/OvpNMI/onmi /tmp/tmpm8q47kw2/cluster1.cnl /tmp/tmpm8q47kw2/cluster2.cnl > ovpnmioutput\n",
      "INFO:ClusterComparator:Running /opt/gct/submodules/OvpNMI/onmi /tmp/tmpm8q47kw2/cluster1.cnl /tmp/tmpm8q47kw2/cluster2.cnl > ovpnmioutput\n",
      "2020-04-22 21:43:12,385 - Clustering - INFO - reading/data/data/K_DoesAlgSupportWeightTest_w1/gt_default.parq\n",
      "INFO:Clustering:reading/data/data/K_DoesAlgSupportWeightTest_w1/gt_default.parq\n",
      "2020-04-22 21:43:12,391 - ClusterComparator - INFO - resulting 9 nodes out of 9,9\n",
      "INFO:ClusterComparator:resulting 9 nodes out of 9,9\n",
      "/opt/conda/envs/python3/lib/python3.6/site-packages/sklearn/metrics/cluster/supervised.py:859: FutureWarning: The behavior of NMI will change in version 0.22. To match the behavior of 'v_measure_score', NMI will use average_method='arithmetic' by default.\n",
      "  FutureWarning)\n",
      "2020-04-22 21:43:12,399 - ClusterComparator - INFO - Running /opt/gct/submodules/OvpNMI/onmi /tmp/tmp5p0hq7ui/cluster1.cnl /tmp/tmp5p0hq7ui/cluster2.cnl > ovpnmioutput\n",
      "INFO:ClusterComparator:Running /opt/gct/submodules/OvpNMI/onmi /tmp/tmp5p0hq7ui/cluster1.cnl /tmp/tmp5p0hq7ui/cluster2.cnl > ovpnmioutput\n",
      "2020-04-22 21:43:12,407 - ClusterComparator - INFO - resulting 9 nodes out of 9,9\n",
      "INFO:ClusterComparator:resulting 9 nodes out of 9,9\n",
      "/opt/conda/envs/python3/lib/python3.6/site-packages/sklearn/metrics/cluster/supervised.py:859: FutureWarning: The behavior of NMI will change in version 0.22. To match the behavior of 'v_measure_score', NMI will use average_method='arithmetic' by default.\n",
      "  FutureWarning)\n",
      "2020-04-22 21:43:12,416 - ClusterComparator - INFO - Running /opt/gct/submodules/OvpNMI/onmi /tmp/tmpgcdn9scc/cluster1.cnl /tmp/tmpgcdn9scc/cluster2.cnl > ovpnmioutput\n",
      "INFO:ClusterComparator:Running /opt/gct/submodules/OvpNMI/onmi /tmp/tmpgcdn9scc/cluster1.cnl /tmp/tmpgcdn9scc/cluster2.cnl > ovpnmioutput\n",
      "2020-04-22 21:43:12,431 - ClusterComparator - INFO - resulting 9 nodes out of 9,9\n",
      "INFO:ClusterComparator:resulting 9 nodes out of 9,9\n",
      "/opt/conda/envs/python3/lib/python3.6/site-packages/sklearn/metrics/cluster/supervised.py:859: FutureWarning: The behavior of NMI will change in version 0.22. To match the behavior of 'v_measure_score', NMI will use average_method='arithmetic' by default.\n",
      "  FutureWarning)\n",
      "2020-04-22 21:43:12,440 - ClusterComparator - INFO - Running /opt/gct/submodules/OvpNMI/onmi /tmp/tmpt6t1rtgf/cluster1.cnl /tmp/tmpt6t1rtgf/cluster2.cnl > ovpnmioutput\n"
     ]
    },
    {
     "name": "stderr",
     "output_type": "stream",
     "text": [
      "INFO:ClusterComparator:Running /opt/gct/submodules/OvpNMI/onmi /tmp/tmpt6t1rtgf/cluster1.cnl /tmp/tmpt6t1rtgf/cluster2.cnl > ovpnmioutput\n",
      "2020-04-22 21:43:12,448 - Clustering - INFO - reading/data/data/K_DoesAlgSupportWeightTest_w1/gt_default.parq\n",
      "INFO:Clustering:reading/data/data/K_DoesAlgSupportWeightTest_w1/gt_default.parq\n",
      "2020-04-22 21:43:12,455 - ClusterComparator - INFO - resulting 9 nodes out of 9,9\n",
      "INFO:ClusterComparator:resulting 9 nodes out of 9,9\n",
      "/opt/conda/envs/python3/lib/python3.6/site-packages/sklearn/metrics/cluster/supervised.py:859: FutureWarning: The behavior of NMI will change in version 0.22. To match the behavior of 'v_measure_score', NMI will use average_method='arithmetic' by default.\n",
      "  FutureWarning)\n",
      "2020-04-22 21:43:12,462 - ClusterComparator - INFO - Running /opt/gct/submodules/OvpNMI/onmi /tmp/tmps0ipc1x7/cluster1.cnl /tmp/tmps0ipc1x7/cluster2.cnl > ovpnmioutput\n",
      "INFO:ClusterComparator:Running /opt/gct/submodules/OvpNMI/onmi /tmp/tmps0ipc1x7/cluster1.cnl /tmp/tmps0ipc1x7/cluster2.cnl > ovpnmioutput\n",
      "2020-04-22 21:43:12,471 - ClusterComparator - INFO - resulting 9 nodes out of 9,9\n",
      "INFO:ClusterComparator:resulting 9 nodes out of 9,9\n",
      "/opt/conda/envs/python3/lib/python3.6/site-packages/sklearn/metrics/cluster/supervised.py:859: FutureWarning: The behavior of NMI will change in version 0.22. To match the behavior of 'v_measure_score', NMI will use average_method='arithmetic' by default.\n",
      "  FutureWarning)\n",
      "2020-04-22 21:43:12,479 - ClusterComparator - INFO - Running /opt/gct/submodules/OvpNMI/onmi /tmp/tmpgevjrswe/cluster1.cnl /tmp/tmpgevjrswe/cluster2.cnl > ovpnmioutput\n",
      "INFO:ClusterComparator:Running /opt/gct/submodules/OvpNMI/onmi /tmp/tmpgevjrswe/cluster1.cnl /tmp/tmpgevjrswe/cluster2.cnl > ovpnmioutput\n",
      "2020-04-22 21:43:12,494 - ClusterComparator - INFO - resulting 9 nodes out of 9,9\n",
      "INFO:ClusterComparator:resulting 9 nodes out of 9,9\n",
      "/opt/conda/envs/python3/lib/python3.6/site-packages/sklearn/metrics/cluster/supervised.py:859: FutureWarning: The behavior of NMI will change in version 0.22. To match the behavior of 'v_measure_score', NMI will use average_method='arithmetic' by default.\n",
      "  FutureWarning)\n",
      "2020-04-22 21:43:12,503 - ClusterComparator - INFO - Running /opt/gct/submodules/OvpNMI/onmi /tmp/tmpij2bokp6/cluster1.cnl /tmp/tmpij2bokp6/cluster2.cnl > ovpnmioutput\n",
      "INFO:ClusterComparator:Running /opt/gct/submodules/OvpNMI/onmi /tmp/tmpij2bokp6/cluster1.cnl /tmp/tmpij2bokp6/cluster2.cnl > ovpnmioutput\n",
      "2020-04-22 21:43:12,511 - Clustering - INFO - reading/data/data/K_DoesAlgSupportWeightTest_w1/gt_default.parq\n",
      "INFO:Clustering:reading/data/data/K_DoesAlgSupportWeightTest_w1/gt_default.parq\n",
      "2020-04-22 21:43:12,518 - ClusterComparator - INFO - resulting 9 nodes out of 9,9\n",
      "INFO:ClusterComparator:resulting 9 nodes out of 9,9\n",
      "/opt/conda/envs/python3/lib/python3.6/site-packages/sklearn/metrics/cluster/supervised.py:859: FutureWarning: The behavior of NMI will change in version 0.22. To match the behavior of 'v_measure_score', NMI will use average_method='arithmetic' by default.\n",
      "  FutureWarning)\n",
      "2020-04-22 21:43:12,525 - ClusterComparator - INFO - Running /opt/gct/submodules/OvpNMI/onmi /tmp/tmp04gnr3yt/cluster1.cnl /tmp/tmp04gnr3yt/cluster2.cnl > ovpnmioutput\n",
      "INFO:ClusterComparator:Running /opt/gct/submodules/OvpNMI/onmi /tmp/tmp04gnr3yt/cluster1.cnl /tmp/tmp04gnr3yt/cluster2.cnl > ovpnmioutput\n",
      "2020-04-22 21:43:12,534 - ClusterComparator - INFO - resulting 9 nodes out of 9,9\n",
      "INFO:ClusterComparator:resulting 9 nodes out of 9,9\n",
      "/opt/conda/envs/python3/lib/python3.6/site-packages/sklearn/metrics/cluster/supervised.py:859: FutureWarning: The behavior of NMI will change in version 0.22. To match the behavior of 'v_measure_score', NMI will use average_method='arithmetic' by default.\n",
      "  FutureWarning)\n",
      "2020-04-22 21:43:12,543 - ClusterComparator - INFO - Running /opt/gct/submodules/OvpNMI/onmi /tmp/tmpuhurf34c/cluster1.cnl /tmp/tmpuhurf34c/cluster2.cnl > ovpnmioutput\n",
      "INFO:ClusterComparator:Running /opt/gct/submodules/OvpNMI/onmi /tmp/tmpuhurf34c/cluster1.cnl /tmp/tmpuhurf34c/cluster2.cnl > ovpnmioutput\n",
      "2020-04-22 21:43:12,558 - ClusterComparator - INFO - resulting 9 nodes out of 9,9\n",
      "INFO:ClusterComparator:resulting 9 nodes out of 9,9\n",
      "/opt/conda/envs/python3/lib/python3.6/site-packages/sklearn/metrics/cluster/supervised.py:859: FutureWarning: The behavior of NMI will change in version 0.22. To match the behavior of 'v_measure_score', NMI will use average_method='arithmetic' by default.\n",
      "  FutureWarning)\n",
      "2020-04-22 21:43:12,566 - ClusterComparator - INFO - Running /opt/gct/submodules/OvpNMI/onmi /tmp/tmpg7s0mpz_/cluster1.cnl /tmp/tmpg7s0mpz_/cluster2.cnl > ovpnmioutput\n",
      "INFO:ClusterComparator:Running /opt/gct/submodules/OvpNMI/onmi /tmp/tmpg7s0mpz_/cluster1.cnl /tmp/tmpg7s0mpz_/cluster2.cnl > ovpnmioutput\n",
      "2020-04-22 21:43:12,574 - Clustering - INFO - reading/data/data/K_DoesAlgSupportWeightTest_w1/gt_default.parq\n",
      "INFO:Clustering:reading/data/data/K_DoesAlgSupportWeightTest_w1/gt_default.parq\n",
      "2020-04-22 21:43:12,580 - ClusterComparator - INFO - resulting 9 nodes out of 9,9\n",
      "INFO:ClusterComparator:resulting 9 nodes out of 9,9\n",
      "/opt/conda/envs/python3/lib/python3.6/site-packages/sklearn/metrics/cluster/supervised.py:859: FutureWarning: The behavior of NMI will change in version 0.22. To match the behavior of 'v_measure_score', NMI will use average_method='arithmetic' by default.\n",
      "  FutureWarning)\n",
      "2020-04-22 21:43:12,588 - ClusterComparator - INFO - Running /opt/gct/submodules/OvpNMI/onmi /tmp/tmp5k35hnt7/cluster1.cnl /tmp/tmp5k35hnt7/cluster2.cnl > ovpnmioutput\n",
      "INFO:ClusterComparator:Running /opt/gct/submodules/OvpNMI/onmi /tmp/tmp5k35hnt7/cluster1.cnl /tmp/tmp5k35hnt7/cluster2.cnl > ovpnmioutput\n",
      "2020-04-22 21:43:12,596 - ClusterComparator - INFO - resulting 9 nodes out of 9,9\n",
      "INFO:ClusterComparator:resulting 9 nodes out of 9,9\n",
      "/opt/conda/envs/python3/lib/python3.6/site-packages/sklearn/metrics/cluster/supervised.py:859: FutureWarning: The behavior of NMI will change in version 0.22. To match the behavior of 'v_measure_score', NMI will use average_method='arithmetic' by default.\n",
      "  FutureWarning)\n",
      "2020-04-22 21:43:12,604 - ClusterComparator - INFO - Running /opt/gct/submodules/OvpNMI/onmi /tmp/tmphh3y2dr5/cluster1.cnl /tmp/tmphh3y2dr5/cluster2.cnl > ovpnmioutput\n",
      "INFO:ClusterComparator:Running /opt/gct/submodules/OvpNMI/onmi /tmp/tmphh3y2dr5/cluster1.cnl /tmp/tmphh3y2dr5/cluster2.cnl > ovpnmioutput\n",
      "2020-04-22 21:43:12,619 - ClusterComparator - INFO - resulting 9 nodes out of 9,9\n",
      "INFO:ClusterComparator:resulting 9 nodes out of 9,9\n",
      "/opt/conda/envs/python3/lib/python3.6/site-packages/sklearn/metrics/cluster/supervised.py:859: FutureWarning: The behavior of NMI will change in version 0.22. To match the behavior of 'v_measure_score', NMI will use average_method='arithmetic' by default.\n",
      "  FutureWarning)\n",
      "2020-04-22 21:43:12,627 - ClusterComparator - INFO - Running /opt/gct/submodules/OvpNMI/onmi /tmp/tmpfhy6x4rt/cluster1.cnl /tmp/tmpfhy6x4rt/cluster2.cnl > ovpnmioutput\n",
      "INFO:ClusterComparator:Running /opt/gct/submodules/OvpNMI/onmi /tmp/tmpfhy6x4rt/cluster1.cnl /tmp/tmpfhy6x4rt/cluster2.cnl > ovpnmioutput\n",
      "2020-04-22 21:43:12,635 - Clustering - INFO - reading/data/data/K_DoesAlgSupportWeightTest_w1/gt_default.parq\n",
      "INFO:Clustering:reading/data/data/K_DoesAlgSupportWeightTest_w1/gt_default.parq\n",
      "2020-04-22 21:43:12,641 - ClusterComparator - INFO - resulting 9 nodes out of 9,9\n",
      "INFO:ClusterComparator:resulting 9 nodes out of 9,9\n",
      "/opt/conda/envs/python3/lib/python3.6/site-packages/sklearn/metrics/cluster/supervised.py:859: FutureWarning: The behavior of NMI will change in version 0.22. To match the behavior of 'v_measure_score', NMI will use average_method='arithmetic' by default.\n",
      "  FutureWarning)\n",
      "2020-04-22 21:43:12,648 - ClusterComparator - INFO - Running /opt/gct/submodules/OvpNMI/onmi /tmp/tmpupnq8gfh/cluster1.cnl /tmp/tmpupnq8gfh/cluster2.cnl > ovpnmioutput\n",
      "INFO:ClusterComparator:Running /opt/gct/submodules/OvpNMI/onmi /tmp/tmpupnq8gfh/cluster1.cnl /tmp/tmpupnq8gfh/cluster2.cnl > ovpnmioutput\n",
      "2020-04-22 21:43:12,656 - ClusterComparator - INFO - resulting 9 nodes out of 9,9\n",
      "INFO:ClusterComparator:resulting 9 nodes out of 9,9\n",
      "/opt/conda/envs/python3/lib/python3.6/site-packages/sklearn/metrics/cluster/supervised.py:859: FutureWarning: The behavior of NMI will change in version 0.22. To match the behavior of 'v_measure_score', NMI will use average_method='arithmetic' by default.\n",
      "  FutureWarning)\n"
     ]
    },
    {
     "name": "stderr",
     "output_type": "stream",
     "text": [
      "2020-04-22 21:43:12,665 - ClusterComparator - INFO - Running /opt/gct/submodules/OvpNMI/onmi /tmp/tmp4ukebzmx/cluster1.cnl /tmp/tmp4ukebzmx/cluster2.cnl > ovpnmioutput\n",
      "INFO:ClusterComparator:Running /opt/gct/submodules/OvpNMI/onmi /tmp/tmp4ukebzmx/cluster1.cnl /tmp/tmp4ukebzmx/cluster2.cnl > ovpnmioutput\n",
      "2020-04-22 21:43:12,679 - ClusterComparator - INFO - resulting 9 nodes out of 9,9\n",
      "INFO:ClusterComparator:resulting 9 nodes out of 9,9\n",
      "/opt/conda/envs/python3/lib/python3.6/site-packages/sklearn/metrics/cluster/supervised.py:859: FutureWarning: The behavior of NMI will change in version 0.22. To match the behavior of 'v_measure_score', NMI will use average_method='arithmetic' by default.\n",
      "  FutureWarning)\n",
      "2020-04-22 21:43:12,687 - ClusterComparator - INFO - Running /opt/gct/submodules/OvpNMI/onmi /tmp/tmpvlzme4h5/cluster1.cnl /tmp/tmpvlzme4h5/cluster2.cnl > ovpnmioutput\n",
      "INFO:ClusterComparator:Running /opt/gct/submodules/OvpNMI/onmi /tmp/tmpvlzme4h5/cluster1.cnl /tmp/tmpvlzme4h5/cluster2.cnl > ovpnmioutput\n",
      "2020-04-22 21:43:12,696 - Clustering - INFO - reading/data/data/K_DoesAlgSupportWeightTest_w1/gt_default.parq\n",
      "INFO:Clustering:reading/data/data/K_DoesAlgSupportWeightTest_w1/gt_default.parq\n",
      "2020-04-22 21:43:12,702 - ClusterComparator - INFO - resulting 9 nodes out of 9,9\n",
      "INFO:ClusterComparator:resulting 9 nodes out of 9,9\n",
      "/opt/conda/envs/python3/lib/python3.6/site-packages/sklearn/metrics/cluster/supervised.py:859: FutureWarning: The behavior of NMI will change in version 0.22. To match the behavior of 'v_measure_score', NMI will use average_method='arithmetic' by default.\n",
      "  FutureWarning)\n",
      "2020-04-22 21:43:12,709 - ClusterComparator - INFO - Running /opt/gct/submodules/OvpNMI/onmi /tmp/tmpf_k5e7ve/cluster1.cnl /tmp/tmpf_k5e7ve/cluster2.cnl > ovpnmioutput\n",
      "INFO:ClusterComparator:Running /opt/gct/submodules/OvpNMI/onmi /tmp/tmpf_k5e7ve/cluster1.cnl /tmp/tmpf_k5e7ve/cluster2.cnl > ovpnmioutput\n",
      "2020-04-22 21:43:12,717 - ClusterComparator - INFO - resulting 9 nodes out of 9,9\n",
      "INFO:ClusterComparator:resulting 9 nodes out of 9,9\n",
      "/opt/conda/envs/python3/lib/python3.6/site-packages/sklearn/metrics/cluster/supervised.py:859: FutureWarning: The behavior of NMI will change in version 0.22. To match the behavior of 'v_measure_score', NMI will use average_method='arithmetic' by default.\n",
      "  FutureWarning)\n",
      "2020-04-22 21:43:12,726 - ClusterComparator - INFO - Running /opt/gct/submodules/OvpNMI/onmi /tmp/tmpd0wuh2up/cluster1.cnl /tmp/tmpd0wuh2up/cluster2.cnl > ovpnmioutput\n",
      "INFO:ClusterComparator:Running /opt/gct/submodules/OvpNMI/onmi /tmp/tmpd0wuh2up/cluster1.cnl /tmp/tmpd0wuh2up/cluster2.cnl > ovpnmioutput\n",
      "2020-04-22 21:43:12,740 - ClusterComparator - INFO - resulting 9 nodes out of 9,9\n",
      "INFO:ClusterComparator:resulting 9 nodes out of 9,9\n",
      "/opt/conda/envs/python3/lib/python3.6/site-packages/sklearn/metrics/cluster/supervised.py:859: FutureWarning: The behavior of NMI will change in version 0.22. To match the behavior of 'v_measure_score', NMI will use average_method='arithmetic' by default.\n",
      "  FutureWarning)\n",
      "2020-04-22 21:43:12,749 - ClusterComparator - INFO - Running /opt/gct/submodules/OvpNMI/onmi /tmp/tmpl_p2q3xj/cluster1.cnl /tmp/tmpl_p2q3xj/cluster2.cnl > ovpnmioutput\n",
      "INFO:ClusterComparator:Running /opt/gct/submodules/OvpNMI/onmi /tmp/tmpl_p2q3xj/cluster1.cnl /tmp/tmpl_p2q3xj/cluster2.cnl > ovpnmioutput\n",
      "2020-04-22 21:43:12,758 - Clustering - INFO - reading/data/data/K_DoesAlgSupportWeightTest_w1/gt_default.parq\n",
      "INFO:Clustering:reading/data/data/K_DoesAlgSupportWeightTest_w1/gt_default.parq\n",
      "2020-04-22 21:43:12,764 - ClusterComparator - INFO - resulting 9 nodes out of 9,9\n",
      "INFO:ClusterComparator:resulting 9 nodes out of 9,9\n",
      "/opt/conda/envs/python3/lib/python3.6/site-packages/sklearn/metrics/cluster/supervised.py:859: FutureWarning: The behavior of NMI will change in version 0.22. To match the behavior of 'v_measure_score', NMI will use average_method='arithmetic' by default.\n",
      "  FutureWarning)\n",
      "2020-04-22 21:43:12,772 - ClusterComparator - INFO - Running /opt/gct/submodules/OvpNMI/onmi /tmp/tmpt2qnff6h/cluster1.cnl /tmp/tmpt2qnff6h/cluster2.cnl > ovpnmioutput\n",
      "INFO:ClusterComparator:Running /opt/gct/submodules/OvpNMI/onmi /tmp/tmpt2qnff6h/cluster1.cnl /tmp/tmpt2qnff6h/cluster2.cnl > ovpnmioutput\n",
      "2020-04-22 21:43:12,781 - ClusterComparator - INFO - resulting 9 nodes out of 9,9\n",
      "INFO:ClusterComparator:resulting 9 nodes out of 9,9\n",
      "/opt/conda/envs/python3/lib/python3.6/site-packages/sklearn/metrics/cluster/supervised.py:859: FutureWarning: The behavior of NMI will change in version 0.22. To match the behavior of 'v_measure_score', NMI will use average_method='arithmetic' by default.\n",
      "  FutureWarning)\n",
      "2020-04-22 21:43:12,790 - ClusterComparator - INFO - Running /opt/gct/submodules/OvpNMI/onmi /tmp/tmpzus8g6fd/cluster1.cnl /tmp/tmpzus8g6fd/cluster2.cnl > ovpnmioutput\n",
      "INFO:ClusterComparator:Running /opt/gct/submodules/OvpNMI/onmi /tmp/tmpzus8g6fd/cluster1.cnl /tmp/tmpzus8g6fd/cluster2.cnl > ovpnmioutput\n",
      "2020-04-22 21:43:12,804 - ClusterComparator - INFO - resulting 9 nodes out of 9,9\n",
      "INFO:ClusterComparator:resulting 9 nodes out of 9,9\n",
      "/opt/conda/envs/python3/lib/python3.6/site-packages/sklearn/metrics/cluster/supervised.py:859: FutureWarning: The behavior of NMI will change in version 0.22. To match the behavior of 'v_measure_score', NMI will use average_method='arithmetic' by default.\n",
      "  FutureWarning)\n",
      "2020-04-22 21:43:12,813 - ClusterComparator - INFO - Running /opt/gct/submodules/OvpNMI/onmi /tmp/tmpapfcxnhu/cluster1.cnl /tmp/tmpapfcxnhu/cluster2.cnl > ovpnmioutput\n",
      "INFO:ClusterComparator:Running /opt/gct/submodules/OvpNMI/onmi /tmp/tmpapfcxnhu/cluster1.cnl /tmp/tmpapfcxnhu/cluster2.cnl > ovpnmioutput\n",
      "2020-04-22 21:43:12,822 - Clustering - INFO - reading/data/data/K_DoesAlgSupportWeightTest_w1/gt_default.parq\n",
      "INFO:Clustering:reading/data/data/K_DoesAlgSupportWeightTest_w1/gt_default.parq\n",
      "2020-04-22 21:43:12,828 - ClusterComparator - INFO - resulting 9 nodes out of 9,9\n",
      "INFO:ClusterComparator:resulting 9 nodes out of 9,9\n",
      "/opt/conda/envs/python3/lib/python3.6/site-packages/sklearn/metrics/cluster/supervised.py:859: FutureWarning: The behavior of NMI will change in version 0.22. To match the behavior of 'v_measure_score', NMI will use average_method='arithmetic' by default.\n",
      "  FutureWarning)\n",
      "2020-04-22 21:43:12,835 - ClusterComparator - INFO - Running /opt/gct/submodules/OvpNMI/onmi /tmp/tmpajnwmwj7/cluster1.cnl /tmp/tmpajnwmwj7/cluster2.cnl > ovpnmioutput\n",
      "INFO:ClusterComparator:Running /opt/gct/submodules/OvpNMI/onmi /tmp/tmpajnwmwj7/cluster1.cnl /tmp/tmpajnwmwj7/cluster2.cnl > ovpnmioutput\n",
      "2020-04-22 21:43:12,844 - ClusterComparator - INFO - resulting 9 nodes out of 9,9\n",
      "INFO:ClusterComparator:resulting 9 nodes out of 9,9\n",
      "/opt/conda/envs/python3/lib/python3.6/site-packages/sklearn/metrics/cluster/supervised.py:859: FutureWarning: The behavior of NMI will change in version 0.22. To match the behavior of 'v_measure_score', NMI will use average_method='arithmetic' by default.\n",
      "  FutureWarning)\n",
      "2020-04-22 21:43:12,853 - ClusterComparator - INFO - Running /opt/gct/submodules/OvpNMI/onmi /tmp/tmpai9jqufk/cluster1.cnl /tmp/tmpai9jqufk/cluster2.cnl > ovpnmioutput\n",
      "INFO:ClusterComparator:Running /opt/gct/submodules/OvpNMI/onmi /tmp/tmpai9jqufk/cluster1.cnl /tmp/tmpai9jqufk/cluster2.cnl > ovpnmioutput\n",
      "2020-04-22 21:43:12,868 - ClusterComparator - INFO - resulting 9 nodes out of 9,9\n",
      "INFO:ClusterComparator:resulting 9 nodes out of 9,9\n",
      "/opt/conda/envs/python3/lib/python3.6/site-packages/sklearn/metrics/cluster/supervised.py:859: FutureWarning: The behavior of NMI will change in version 0.22. To match the behavior of 'v_measure_score', NMI will use average_method='arithmetic' by default.\n",
      "  FutureWarning)\n",
      "2020-04-22 21:43:12,876 - ClusterComparator - INFO - Running /opt/gct/submodules/OvpNMI/onmi /tmp/tmpmpcmntw5/cluster1.cnl /tmp/tmpmpcmntw5/cluster2.cnl > ovpnmioutput\n",
      "INFO:ClusterComparator:Running /opt/gct/submodules/OvpNMI/onmi /tmp/tmpmpcmntw5/cluster1.cnl /tmp/tmpmpcmntw5/cluster2.cnl > ovpnmioutput\n",
      "2020-04-22 21:43:12,885 - Clustering - INFO - reading/data/data/K_DoesAlgSupportWeightTest_w1/gt_default.parq\n",
      "INFO:Clustering:reading/data/data/K_DoesAlgSupportWeightTest_w1/gt_default.parq\n"
     ]
    },
    {
     "name": "stderr",
     "output_type": "stream",
     "text": [
      "2020-04-22 21:43:12,891 - ClusterComparator - INFO - resulting 9 nodes out of 9,9\n",
      "INFO:ClusterComparator:resulting 9 nodes out of 9,9\n",
      "/opt/conda/envs/python3/lib/python3.6/site-packages/sklearn/metrics/cluster/supervised.py:859: FutureWarning: The behavior of NMI will change in version 0.22. To match the behavior of 'v_measure_score', NMI will use average_method='arithmetic' by default.\n",
      "  FutureWarning)\n",
      "2020-04-22 21:43:12,898 - ClusterComparator - INFO - Running /opt/gct/submodules/OvpNMI/onmi /tmp/tmphg5f0uqu/cluster1.cnl /tmp/tmphg5f0uqu/cluster2.cnl > ovpnmioutput\n",
      "INFO:ClusterComparator:Running /opt/gct/submodules/OvpNMI/onmi /tmp/tmphg5f0uqu/cluster1.cnl /tmp/tmphg5f0uqu/cluster2.cnl > ovpnmioutput\n",
      "2020-04-22 21:43:12,906 - ClusterComparator - INFO - resulting 9 nodes out of 9,9\n",
      "INFO:ClusterComparator:resulting 9 nodes out of 9,9\n",
      "/opt/conda/envs/python3/lib/python3.6/site-packages/sklearn/metrics/cluster/supervised.py:859: FutureWarning: The behavior of NMI will change in version 0.22. To match the behavior of 'v_measure_score', NMI will use average_method='arithmetic' by default.\n",
      "  FutureWarning)\n",
      "2020-04-22 21:43:12,915 - ClusterComparator - INFO - Running /opt/gct/submodules/OvpNMI/onmi /tmp/tmp8hl1gviy/cluster1.cnl /tmp/tmp8hl1gviy/cluster2.cnl > ovpnmioutput\n",
      "INFO:ClusterComparator:Running /opt/gct/submodules/OvpNMI/onmi /tmp/tmp8hl1gviy/cluster1.cnl /tmp/tmp8hl1gviy/cluster2.cnl > ovpnmioutput\n",
      "2020-04-22 21:43:12,929 - ClusterComparator - INFO - resulting 9 nodes out of 9,9\n",
      "INFO:ClusterComparator:resulting 9 nodes out of 9,9\n",
      "/opt/conda/envs/python3/lib/python3.6/site-packages/sklearn/metrics/cluster/supervised.py:859: FutureWarning: The behavior of NMI will change in version 0.22. To match the behavior of 'v_measure_score', NMI will use average_method='arithmetic' by default.\n",
      "  FutureWarning)\n",
      "2020-04-22 21:43:12,938 - ClusterComparator - INFO - Running /opt/gct/submodules/OvpNMI/onmi /tmp/tmpyjb65ttt/cluster1.cnl /tmp/tmpyjb65ttt/cluster2.cnl > ovpnmioutput\n",
      "INFO:ClusterComparator:Running /opt/gct/submodules/OvpNMI/onmi /tmp/tmpyjb65ttt/cluster1.cnl /tmp/tmpyjb65ttt/cluster2.cnl > ovpnmioutput\n",
      "2020-04-22 21:43:12,946 - Clustering - INFO - reading/data/data/K_DoesAlgSupportWeightTest_w1/gt_default.parq\n",
      "INFO:Clustering:reading/data/data/K_DoesAlgSupportWeightTest_w1/gt_default.parq\n",
      "2020-04-22 21:43:12,952 - ClusterComparator - INFO - resulting 9 nodes out of 9,9\n",
      "INFO:ClusterComparator:resulting 9 nodes out of 9,9\n",
      "/opt/conda/envs/python3/lib/python3.6/site-packages/sklearn/metrics/cluster/supervised.py:859: FutureWarning: The behavior of NMI will change in version 0.22. To match the behavior of 'v_measure_score', NMI will use average_method='arithmetic' by default.\n",
      "  FutureWarning)\n",
      "2020-04-22 21:43:12,959 - ClusterComparator - INFO - Running /opt/gct/submodules/OvpNMI/onmi /tmp/tmpokrafv6z/cluster1.cnl /tmp/tmpokrafv6z/cluster2.cnl > ovpnmioutput\n",
      "INFO:ClusterComparator:Running /opt/gct/submodules/OvpNMI/onmi /tmp/tmpokrafv6z/cluster1.cnl /tmp/tmpokrafv6z/cluster2.cnl > ovpnmioutput\n",
      "2020-04-22 21:43:12,967 - ClusterComparator - INFO - resulting 9 nodes out of 9,9\n",
      "INFO:ClusterComparator:resulting 9 nodes out of 9,9\n",
      "/opt/conda/envs/python3/lib/python3.6/site-packages/sklearn/metrics/cluster/supervised.py:859: FutureWarning: The behavior of NMI will change in version 0.22. To match the behavior of 'v_measure_score', NMI will use average_method='arithmetic' by default.\n",
      "  FutureWarning)\n",
      "2020-04-22 21:43:12,976 - ClusterComparator - INFO - Running /opt/gct/submodules/OvpNMI/onmi /tmp/tmp05lqqke8/cluster1.cnl /tmp/tmp05lqqke8/cluster2.cnl > ovpnmioutput\n",
      "INFO:ClusterComparator:Running /opt/gct/submodules/OvpNMI/onmi /tmp/tmp05lqqke8/cluster1.cnl /tmp/tmp05lqqke8/cluster2.cnl > ovpnmioutput\n",
      "2020-04-22 21:43:12,990 - ClusterComparator - INFO - resulting 9 nodes out of 9,9\n",
      "INFO:ClusterComparator:resulting 9 nodes out of 9,9\n",
      "/opt/conda/envs/python3/lib/python3.6/site-packages/sklearn/metrics/cluster/supervised.py:859: FutureWarning: The behavior of NMI will change in version 0.22. To match the behavior of 'v_measure_score', NMI will use average_method='arithmetic' by default.\n",
      "  FutureWarning)\n",
      "2020-04-22 21:43:12,996 - Clustering - INFO - reading/data/data/K_DoesAlgSupportWeightTest_w1/gt_default.parq\n",
      "INFO:Clustering:reading/data/data/K_DoesAlgSupportWeightTest_w1/gt_default.parq\n",
      "2020-04-22 21:43:13,001 - ClusterComparator - INFO - resulting 9 nodes out of 9,9\n",
      "INFO:ClusterComparator:resulting 9 nodes out of 9,9\n",
      "/opt/conda/envs/python3/lib/python3.6/site-packages/sklearn/metrics/cluster/supervised.py:859: FutureWarning: The behavior of NMI will change in version 0.22. To match the behavior of 'v_measure_score', NMI will use average_method='arithmetic' by default.\n",
      "  FutureWarning)\n",
      "2020-04-22 21:43:13,005 - ClusterComparator - INFO - resulting 9 nodes out of 9,9\n",
      "INFO:ClusterComparator:resulting 9 nodes out of 9,9\n",
      "/opt/conda/envs/python3/lib/python3.6/site-packages/sklearn/metrics/cluster/supervised.py:859: FutureWarning: The behavior of NMI will change in version 0.22. To match the behavior of 'v_measure_score', NMI will use average_method='arithmetic' by default.\n",
      "  FutureWarning)\n",
      "2020-04-22 21:43:13,012 - ClusterComparator - INFO - Running /opt/gct/submodules/OvpNMI/onmi /tmp/tmp6qptvi00/cluster1.cnl /tmp/tmp6qptvi00/cluster2.cnl > ovpnmioutput\n",
      "INFO:ClusterComparator:Running /opt/gct/submodules/OvpNMI/onmi /tmp/tmp6qptvi00/cluster1.cnl /tmp/tmp6qptvi00/cluster2.cnl > ovpnmioutput\n",
      "2020-04-22 21:43:13,026 - ClusterComparator - INFO - resulting 9 nodes out of 9,9\n",
      "INFO:ClusterComparator:resulting 9 nodes out of 9,9\n",
      "/opt/conda/envs/python3/lib/python3.6/site-packages/sklearn/metrics/cluster/supervised.py:859: FutureWarning: The behavior of NMI will change in version 0.22. To match the behavior of 'v_measure_score', NMI will use average_method='arithmetic' by default.\n",
      "  FutureWarning)\n",
      "2020-04-22 21:43:13,031 - Clustering - INFO - reading/data/data/K_DoesAlgSupportWeightTest_w1/gt_default.parq\n",
      "INFO:Clustering:reading/data/data/K_DoesAlgSupportWeightTest_w1/gt_default.parq\n",
      "2020-04-22 21:43:13,036 - ClusterComparator - INFO - resulting 9 nodes out of 9,9\n",
      "INFO:ClusterComparator:resulting 9 nodes out of 9,9\n",
      "2020-04-22 21:43:13,041 - ClusterComparator - INFO - resulting 9 nodes out of 9,9\n",
      "INFO:ClusterComparator:resulting 9 nodes out of 9,9\n",
      "/opt/conda/envs/python3/lib/python3.6/site-packages/sklearn/metrics/cluster/supervised.py:859: FutureWarning: The behavior of NMI will change in version 0.22. To match the behavior of 'v_measure_score', NMI will use average_method='arithmetic' by default.\n",
      "  FutureWarning)\n",
      "2020-04-22 21:43:13,051 - ClusterComparator - INFO - resulting 9 nodes out of 9,9\n",
      "INFO:ClusterComparator:resulting 9 nodes out of 9,9\n",
      "/opt/conda/envs/python3/lib/python3.6/site-packages/sklearn/metrics/cluster/supervised.py:859: FutureWarning: The behavior of NMI will change in version 0.22. To match the behavior of 'v_measure_score', NMI will use average_method='arithmetic' by default.\n",
      "  FutureWarning)\n",
      "2020-04-22 21:43:13,059 - ClusterComparator - INFO - Running /opt/gct/submodules/OvpNMI/onmi /tmp/tmpjzok4s5z/cluster1.cnl /tmp/tmpjzok4s5z/cluster2.cnl > ovpnmioutput\n",
      "INFO:ClusterComparator:Running /opt/gct/submodules/OvpNMI/onmi /tmp/tmpjzok4s5z/cluster1.cnl /tmp/tmpjzok4s5z/cluster2.cnl > ovpnmioutput\n",
      "2020-04-22 21:43:13,067 - Clustering - INFO - reading/data/data/K_DoesAlgSupportWeightTest_w1/gt_default.parq\n",
      "INFO:Clustering:reading/data/data/K_DoesAlgSupportWeightTest_w1/gt_default.parq\n",
      "2020-04-22 21:43:13,073 - ClusterComparator - INFO - resulting 9 nodes out of 9,9\n",
      "INFO:ClusterComparator:resulting 9 nodes out of 9,9\n",
      "/opt/conda/envs/python3/lib/python3.6/site-packages/sklearn/metrics/cluster/supervised.py:859: FutureWarning: The behavior of NMI will change in version 0.22. To match the behavior of 'v_measure_score', NMI will use average_method='arithmetic' by default.\n",
      "  FutureWarning)\n",
      "2020-04-22 21:43:13,081 - ClusterComparator - INFO - Running /opt/gct/submodules/OvpNMI/onmi /tmp/tmprn94wqxy/cluster1.cnl /tmp/tmprn94wqxy/cluster2.cnl > ovpnmioutput\n",
      "INFO:ClusterComparator:Running /opt/gct/submodules/OvpNMI/onmi /tmp/tmprn94wqxy/cluster1.cnl /tmp/tmprn94wqxy/cluster2.cnl > ovpnmioutput\n"
     ]
    },
    {
     "name": "stderr",
     "output_type": "stream",
     "text": [
      "2020-04-22 21:43:13,089 - ClusterComparator - INFO - resulting 9 nodes out of 9,9\n",
      "INFO:ClusterComparator:resulting 9 nodes out of 9,9\n",
      "/opt/conda/envs/python3/lib/python3.6/site-packages/sklearn/metrics/cluster/supervised.py:859: FutureWarning: The behavior of NMI will change in version 0.22. To match the behavior of 'v_measure_score', NMI will use average_method='arithmetic' by default.\n",
      "  FutureWarning)\n",
      "2020-04-22 21:43:13,097 - ClusterComparator - INFO - Running /opt/gct/submodules/OvpNMI/onmi /tmp/tmp2q5q8u9q/cluster1.cnl /tmp/tmp2q5q8u9q/cluster2.cnl > ovpnmioutput\n",
      "INFO:ClusterComparator:Running /opt/gct/submodules/OvpNMI/onmi /tmp/tmp2q5q8u9q/cluster1.cnl /tmp/tmp2q5q8u9q/cluster2.cnl > ovpnmioutput\n",
      "2020-04-22 21:43:13,111 - ClusterComparator - INFO - resulting 9 nodes out of 9,9\n",
      "INFO:ClusterComparator:resulting 9 nodes out of 9,9\n",
      "/opt/conda/envs/python3/lib/python3.6/site-packages/sklearn/metrics/cluster/supervised.py:859: FutureWarning: The behavior of NMI will change in version 0.22. To match the behavior of 'v_measure_score', NMI will use average_method='arithmetic' by default.\n",
      "  FutureWarning)\n",
      "2020-04-22 21:43:13,118 - Clustering - INFO - reading/data/data/K_DoesAlgSupportWeightTest_w1/gt_default.parq\n",
      "INFO:Clustering:reading/data/data/K_DoesAlgSupportWeightTest_w1/gt_default.parq\n",
      "2020-04-22 21:43:13,122 - ClusterComparator - INFO - resulting 9 nodes out of 9,9\n",
      "INFO:ClusterComparator:resulting 9 nodes out of 9,9\n",
      "/opt/conda/envs/python3/lib/python3.6/site-packages/sklearn/metrics/cluster/supervised.py:859: FutureWarning: The behavior of NMI will change in version 0.22. To match the behavior of 'v_measure_score', NMI will use average_method='arithmetic' by default.\n",
      "  FutureWarning)\n",
      "2020-04-22 21:43:13,127 - ClusterComparator - INFO - resulting 9 nodes out of 9,9\n",
      "INFO:ClusterComparator:resulting 9 nodes out of 9,9\n",
      "/opt/conda/envs/python3/lib/python3.6/site-packages/sklearn/metrics/cluster/supervised.py:859: FutureWarning: The behavior of NMI will change in version 0.22. To match the behavior of 'v_measure_score', NMI will use average_method='arithmetic' by default.\n",
      "  FutureWarning)\n",
      "2020-04-22 21:43:13,134 - ClusterComparator - INFO - Running /opt/gct/submodules/OvpNMI/onmi /tmp/tmp4qsdtihk/cluster1.cnl /tmp/tmp4qsdtihk/cluster2.cnl > ovpnmioutput\n",
      "INFO:ClusterComparator:Running /opt/gct/submodules/OvpNMI/onmi /tmp/tmp4qsdtihk/cluster1.cnl /tmp/tmp4qsdtihk/cluster2.cnl > ovpnmioutput\n",
      "2020-04-22 21:43:13,148 - ClusterComparator - INFO - resulting 9 nodes out of 9,9\n",
      "INFO:ClusterComparator:resulting 9 nodes out of 9,9\n",
      "/opt/conda/envs/python3/lib/python3.6/site-packages/sklearn/metrics/cluster/supervised.py:859: FutureWarning: The behavior of NMI will change in version 0.22. To match the behavior of 'v_measure_score', NMI will use average_method='arithmetic' by default.\n",
      "  FutureWarning)\n",
      "2020-04-22 21:43:13,153 - Clustering - INFO - reading/data/data/K_DoesAlgSupportWeightTest_w1/gt_default.parq\n",
      "INFO:Clustering:reading/data/data/K_DoesAlgSupportWeightTest_w1/gt_default.parq\n",
      "2020-04-22 21:43:13,158 - ClusterComparator - INFO - resulting 9 nodes out of 9,9\n",
      "INFO:ClusterComparator:resulting 9 nodes out of 9,9\n",
      "2020-04-22 21:43:13,163 - ClusterComparator - INFO - resulting 9 nodes out of 9,9\n",
      "INFO:ClusterComparator:resulting 9 nodes out of 9,9\n",
      "/opt/conda/envs/python3/lib/python3.6/site-packages/sklearn/metrics/cluster/supervised.py:859: FutureWarning: The behavior of NMI will change in version 0.22. To match the behavior of 'v_measure_score', NMI will use average_method='arithmetic' by default.\n",
      "  FutureWarning)\n",
      "2020-04-22 21:43:13,173 - ClusterComparator - INFO - resulting 9 nodes out of 9,9\n",
      "INFO:ClusterComparator:resulting 9 nodes out of 9,9\n",
      "/opt/conda/envs/python3/lib/python3.6/site-packages/sklearn/metrics/cluster/supervised.py:859: FutureWarning: The behavior of NMI will change in version 0.22. To match the behavior of 'v_measure_score', NMI will use average_method='arithmetic' by default.\n",
      "  FutureWarning)\n",
      "2020-04-22 21:43:13,177 - Clustering - INFO - reading/data/data/K_DoesAlgSupportWeightTest_w1/gt_default.parq\n",
      "INFO:Clustering:reading/data/data/K_DoesAlgSupportWeightTest_w1/gt_default.parq\n",
      "2020-04-22 21:43:13,181 - ClusterComparator - INFO - resulting 9 nodes out of 9,9\n",
      "INFO:ClusterComparator:resulting 9 nodes out of 9,9\n",
      "2020-04-22 21:43:13,186 - ClusterComparator - INFO - resulting 9 nodes out of 9,9\n",
      "INFO:ClusterComparator:resulting 9 nodes out of 9,9\n",
      "/opt/conda/envs/python3/lib/python3.6/site-packages/sklearn/metrics/cluster/supervised.py:859: FutureWarning: The behavior of NMI will change in version 0.22. To match the behavior of 'v_measure_score', NMI will use average_method='arithmetic' by default.\n",
      "  FutureWarning)\n",
      "2020-04-22 21:43:13,196 - ClusterComparator - INFO - resulting 9 nodes out of 9,9\n",
      "INFO:ClusterComparator:resulting 9 nodes out of 9,9\n",
      "/opt/conda/envs/python3/lib/python3.6/site-packages/sklearn/metrics/cluster/supervised.py:859: FutureWarning: The behavior of NMI will change in version 0.22. To match the behavior of 'v_measure_score', NMI will use average_method='arithmetic' by default.\n",
      "  FutureWarning)\n",
      "2020-04-22 21:43:13,202 - Clustering - INFO - reading/data/data/K_DoesAlgSupportWeightTest_w1/gt_default.parq\n",
      "INFO:Clustering:reading/data/data/K_DoesAlgSupportWeightTest_w1/gt_default.parq\n",
      "2020-04-22 21:43:13,206 - ClusterComparator - INFO - resulting 9 nodes out of 9,9\n",
      "INFO:ClusterComparator:resulting 9 nodes out of 9,9\n",
      "/opt/conda/envs/python3/lib/python3.6/site-packages/sklearn/metrics/cluster/supervised.py:859: FutureWarning: The behavior of NMI will change in version 0.22. To match the behavior of 'v_measure_score', NMI will use average_method='arithmetic' by default.\n",
      "  FutureWarning)\n",
      "2020-04-22 21:43:13,211 - ClusterComparator - INFO - resulting 9 nodes out of 9,9\n",
      "INFO:ClusterComparator:resulting 9 nodes out of 9,9\n",
      "/opt/conda/envs/python3/lib/python3.6/site-packages/sklearn/metrics/cluster/supervised.py:859: FutureWarning: The behavior of NMI will change in version 0.22. To match the behavior of 'v_measure_score', NMI will use average_method='arithmetic' by default.\n",
      "  FutureWarning)\n",
      "2020-04-22 21:43:13,218 - ClusterComparator - INFO - Running /opt/gct/submodules/OvpNMI/onmi /tmp/tmpz3ri3v2n/cluster1.cnl /tmp/tmpz3ri3v2n/cluster2.cnl > ovpnmioutput\n",
      "INFO:ClusterComparator:Running /opt/gct/submodules/OvpNMI/onmi /tmp/tmpz3ri3v2n/cluster1.cnl /tmp/tmpz3ri3v2n/cluster2.cnl > ovpnmioutput\n",
      "2020-04-22 21:43:13,232 - ClusterComparator - INFO - resulting 9 nodes out of 9,9\n",
      "INFO:ClusterComparator:resulting 9 nodes out of 9,9\n",
      "/opt/conda/envs/python3/lib/python3.6/site-packages/sklearn/metrics/cluster/supervised.py:859: FutureWarning: The behavior of NMI will change in version 0.22. To match the behavior of 'v_measure_score', NMI will use average_method='arithmetic' by default.\n",
      "  FutureWarning)\n",
      "2020-04-22 21:43:13,240 - ClusterComparator - INFO - Running /opt/gct/submodules/OvpNMI/onmi /tmp/tmp6lj0a8de/cluster1.cnl /tmp/tmp6lj0a8de/cluster2.cnl > ovpnmioutput\n",
      "INFO:ClusterComparator:Running /opt/gct/submodules/OvpNMI/onmi /tmp/tmp6lj0a8de/cluster1.cnl /tmp/tmp6lj0a8de/cluster2.cnl > ovpnmioutput\n",
      "2020-04-22 21:43:13,249 - Clustering - INFO - reading/data/data/K_DoesAlgSupportWeightTest_w1/gt_default.parq\n",
      "INFO:Clustering:reading/data/data/K_DoesAlgSupportWeightTest_w1/gt_default.parq\n",
      "2020-04-22 21:43:13,255 - ClusterComparator - INFO - resulting 9 nodes out of 9,9\n",
      "INFO:ClusterComparator:resulting 9 nodes out of 9,9\n",
      "/opt/conda/envs/python3/lib/python3.6/site-packages/sklearn/metrics/cluster/supervised.py:859: FutureWarning: The behavior of NMI will change in version 0.22. To match the behavior of 'v_measure_score', NMI will use average_method='arithmetic' by default.\n",
      "  FutureWarning)\n",
      "2020-04-22 21:43:13,262 - ClusterComparator - INFO - Running /opt/gct/submodules/OvpNMI/onmi /tmp/tmpa5bpn32d/cluster1.cnl /tmp/tmpa5bpn32d/cluster2.cnl > ovpnmioutput\n",
      "INFO:ClusterComparator:Running /opt/gct/submodules/OvpNMI/onmi /tmp/tmpa5bpn32d/cluster1.cnl /tmp/tmpa5bpn32d/cluster2.cnl > ovpnmioutput\n",
      "2020-04-22 21:43:13,270 - ClusterComparator - INFO - resulting 9 nodes out of 9,9\n",
      "INFO:ClusterComparator:resulting 9 nodes out of 9,9\n",
      "/opt/conda/envs/python3/lib/python3.6/site-packages/sklearn/metrics/cluster/supervised.py:859: FutureWarning: The behavior of NMI will change in version 0.22. To match the behavior of 'v_measure_score', NMI will use average_method='arithmetic' by default.\n",
      "  FutureWarning)\n"
     ]
    },
    {
     "name": "stderr",
     "output_type": "stream",
     "text": [
      "2020-04-22 21:43:13,278 - ClusterComparator - INFO - Running /opt/gct/submodules/OvpNMI/onmi /tmp/tmp49jej0uo/cluster1.cnl /tmp/tmp49jej0uo/cluster2.cnl > ovpnmioutput\n",
      "INFO:ClusterComparator:Running /opt/gct/submodules/OvpNMI/onmi /tmp/tmp49jej0uo/cluster1.cnl /tmp/tmp49jej0uo/cluster2.cnl > ovpnmioutput\n",
      "2020-04-22 21:43:13,292 - ClusterComparator - INFO - resulting 9 nodes out of 9,9\n",
      "INFO:ClusterComparator:resulting 9 nodes out of 9,9\n",
      "/opt/conda/envs/python3/lib/python3.6/site-packages/sklearn/metrics/cluster/supervised.py:859: FutureWarning: The behavior of NMI will change in version 0.22. To match the behavior of 'v_measure_score', NMI will use average_method='arithmetic' by default.\n",
      "  FutureWarning)\n",
      "2020-04-22 21:43:13,301 - ClusterComparator - INFO - Running /opt/gct/submodules/OvpNMI/onmi /tmp/tmpqzino0al/cluster1.cnl /tmp/tmpqzino0al/cluster2.cnl > ovpnmioutput\n",
      "INFO:ClusterComparator:Running /opt/gct/submodules/OvpNMI/onmi /tmp/tmpqzino0al/cluster1.cnl /tmp/tmpqzino0al/cluster2.cnl > ovpnmioutput\n",
      "2020-04-22 21:43:13,309 - Clustering - INFO - reading/data/data/K_DoesAlgSupportWeightTest_w1/gt_default.parq\n",
      "INFO:Clustering:reading/data/data/K_DoesAlgSupportWeightTest_w1/gt_default.parq\n",
      "2020-04-22 21:43:13,315 - ClusterComparator - INFO - resulting 9 nodes out of 9,9\n",
      "INFO:ClusterComparator:resulting 9 nodes out of 9,9\n",
      "/opt/conda/envs/python3/lib/python3.6/site-packages/sklearn/metrics/cluster/supervised.py:859: FutureWarning: The behavior of NMI will change in version 0.22. To match the behavior of 'v_measure_score', NMI will use average_method='arithmetic' by default.\n",
      "  FutureWarning)\n",
      "2020-04-22 21:43:13,322 - ClusterComparator - INFO - Running /opt/gct/submodules/OvpNMI/onmi /tmp/tmpdqts2kxc/cluster1.cnl /tmp/tmpdqts2kxc/cluster2.cnl > ovpnmioutput\n",
      "INFO:ClusterComparator:Running /opt/gct/submodules/OvpNMI/onmi /tmp/tmpdqts2kxc/cluster1.cnl /tmp/tmpdqts2kxc/cluster2.cnl > ovpnmioutput\n",
      "2020-04-22 21:43:13,330 - ClusterComparator - INFO - resulting 9 nodes out of 9,9\n",
      "INFO:ClusterComparator:resulting 9 nodes out of 9,9\n",
      "/opt/conda/envs/python3/lib/python3.6/site-packages/sklearn/metrics/cluster/supervised.py:859: FutureWarning: The behavior of NMI will change in version 0.22. To match the behavior of 'v_measure_score', NMI will use average_method='arithmetic' by default.\n",
      "  FutureWarning)\n",
      "2020-04-22 21:43:13,338 - ClusterComparator - INFO - Running /opt/gct/submodules/OvpNMI/onmi /tmp/tmp_fz95xsd/cluster1.cnl /tmp/tmp_fz95xsd/cluster2.cnl > ovpnmioutput\n",
      "INFO:ClusterComparator:Running /opt/gct/submodules/OvpNMI/onmi /tmp/tmp_fz95xsd/cluster1.cnl /tmp/tmp_fz95xsd/cluster2.cnl > ovpnmioutput\n",
      "2020-04-22 21:43:13,352 - ClusterComparator - INFO - resulting 9 nodes out of 9,9\n",
      "INFO:ClusterComparator:resulting 9 nodes out of 9,9\n",
      "/opt/conda/envs/python3/lib/python3.6/site-packages/sklearn/metrics/cluster/supervised.py:859: FutureWarning: The behavior of NMI will change in version 0.22. To match the behavior of 'v_measure_score', NMI will use average_method='arithmetic' by default.\n",
      "  FutureWarning)\n",
      "2020-04-22 21:43:13,361 - ClusterComparator - INFO - Running /opt/gct/submodules/OvpNMI/onmi /tmp/tmp4_ozwv6s/cluster1.cnl /tmp/tmp4_ozwv6s/cluster2.cnl > ovpnmioutput\n",
      "INFO:ClusterComparator:Running /opt/gct/submodules/OvpNMI/onmi /tmp/tmp4_ozwv6s/cluster1.cnl /tmp/tmp4_ozwv6s/cluster2.cnl > ovpnmioutput\n",
      "2020-04-22 21:43:13,370 - Clustering - INFO - reading/data/data/K_DoesAlgSupportWeightTest_w1/gt_default.parq\n",
      "INFO:Clustering:reading/data/data/K_DoesAlgSupportWeightTest_w1/gt_default.parq\n",
      "2020-04-22 21:43:13,376 - ClusterComparator - INFO - resulting 9 nodes out of 9,9\n",
      "INFO:ClusterComparator:resulting 9 nodes out of 9,9\n",
      "/opt/conda/envs/python3/lib/python3.6/site-packages/sklearn/metrics/cluster/supervised.py:859: FutureWarning: The behavior of NMI will change in version 0.22. To match the behavior of 'v_measure_score', NMI will use average_method='arithmetic' by default.\n",
      "  FutureWarning)\n",
      "2020-04-22 21:43:13,383 - ClusterComparator - INFO - Running /opt/gct/submodules/OvpNMI/onmi /tmp/tmpe6fei2uw/cluster1.cnl /tmp/tmpe6fei2uw/cluster2.cnl > ovpnmioutput\n",
      "INFO:ClusterComparator:Running /opt/gct/submodules/OvpNMI/onmi /tmp/tmpe6fei2uw/cluster1.cnl /tmp/tmpe6fei2uw/cluster2.cnl > ovpnmioutput\n",
      "2020-04-22 21:43:13,391 - ClusterComparator - INFO - resulting 9 nodes out of 9,9\n",
      "INFO:ClusterComparator:resulting 9 nodes out of 9,9\n",
      "/opt/conda/envs/python3/lib/python3.6/site-packages/sklearn/metrics/cluster/supervised.py:859: FutureWarning: The behavior of NMI will change in version 0.22. To match the behavior of 'v_measure_score', NMI will use average_method='arithmetic' by default.\n",
      "  FutureWarning)\n",
      "2020-04-22 21:43:13,400 - ClusterComparator - INFO - Running /opt/gct/submodules/OvpNMI/onmi /tmp/tmpawgkqz83/cluster1.cnl /tmp/tmpawgkqz83/cluster2.cnl > ovpnmioutput\n",
      "INFO:ClusterComparator:Running /opt/gct/submodules/OvpNMI/onmi /tmp/tmpawgkqz83/cluster1.cnl /tmp/tmpawgkqz83/cluster2.cnl > ovpnmioutput\n",
      "2020-04-22 21:43:13,414 - ClusterComparator - INFO - resulting 9 nodes out of 9,9\n",
      "INFO:ClusterComparator:resulting 9 nodes out of 9,9\n",
      "/opt/conda/envs/python3/lib/python3.6/site-packages/sklearn/metrics/cluster/supervised.py:859: FutureWarning: The behavior of NMI will change in version 0.22. To match the behavior of 'v_measure_score', NMI will use average_method='arithmetic' by default.\n",
      "  FutureWarning)\n",
      "2020-04-22 21:43:13,423 - ClusterComparator - INFO - Running /opt/gct/submodules/OvpNMI/onmi /tmp/tmpc8y8qja1/cluster1.cnl /tmp/tmpc8y8qja1/cluster2.cnl > ovpnmioutput\n",
      "INFO:ClusterComparator:Running /opt/gct/submodules/OvpNMI/onmi /tmp/tmpc8y8qja1/cluster1.cnl /tmp/tmpc8y8qja1/cluster2.cnl > ovpnmioutput\n",
      "2020-04-22 21:43:13,431 - Clustering - INFO - reading/data/data/K_DoesAlgSupportWeightTest_w1/gt_default.parq\n",
      "INFO:Clustering:reading/data/data/K_DoesAlgSupportWeightTest_w1/gt_default.parq\n",
      "2020-04-22 21:43:13,437 - ClusterComparator - INFO - resulting 9 nodes out of 9,9\n",
      "INFO:ClusterComparator:resulting 9 nodes out of 9,9\n",
      "/opt/conda/envs/python3/lib/python3.6/site-packages/sklearn/metrics/cluster/supervised.py:859: FutureWarning: The behavior of NMI will change in version 0.22. To match the behavior of 'v_measure_score', NMI will use average_method='arithmetic' by default.\n",
      "  FutureWarning)\n",
      "2020-04-22 21:43:13,444 - ClusterComparator - INFO - Running /opt/gct/submodules/OvpNMI/onmi /tmp/tmpamtf7vkd/cluster1.cnl /tmp/tmpamtf7vkd/cluster2.cnl > ovpnmioutput\n",
      "INFO:ClusterComparator:Running /opt/gct/submodules/OvpNMI/onmi /tmp/tmpamtf7vkd/cluster1.cnl /tmp/tmpamtf7vkd/cluster2.cnl > ovpnmioutput\n",
      "2020-04-22 21:43:13,452 - ClusterComparator - INFO - resulting 9 nodes out of 9,9\n",
      "INFO:ClusterComparator:resulting 9 nodes out of 9,9\n",
      "/opt/conda/envs/python3/lib/python3.6/site-packages/sklearn/metrics/cluster/supervised.py:859: FutureWarning: The behavior of NMI will change in version 0.22. To match the behavior of 'v_measure_score', NMI will use average_method='arithmetic' by default.\n",
      "  FutureWarning)\n",
      "2020-04-22 21:43:13,461 - ClusterComparator - INFO - Running /opt/gct/submodules/OvpNMI/onmi /tmp/tmp1bkzrjvd/cluster1.cnl /tmp/tmp1bkzrjvd/cluster2.cnl > ovpnmioutput\n",
      "INFO:ClusterComparator:Running /opt/gct/submodules/OvpNMI/onmi /tmp/tmp1bkzrjvd/cluster1.cnl /tmp/tmp1bkzrjvd/cluster2.cnl > ovpnmioutput\n",
      "2020-04-22 21:43:13,475 - ClusterComparator - INFO - resulting 6 nodes out of 6,6\n",
      "INFO:ClusterComparator:resulting 6 nodes out of 6,6\n",
      "/opt/conda/envs/python3/lib/python3.6/site-packages/sklearn/metrics/cluster/supervised.py:859: FutureWarning: The behavior of NMI will change in version 0.22. To match the behavior of 'v_measure_score', NMI will use average_method='arithmetic' by default.\n",
      "  FutureWarning)\n",
      "2020-04-22 21:43:13,480 - Clustering - INFO - reading/data/data/K_DoesAlgSupportWeightTest_w1/gt_default.parq\n",
      "INFO:Clustering:reading/data/data/K_DoesAlgSupportWeightTest_w1/gt_default.parq\n",
      "2020-04-22 21:43:13,484 - ClusterComparator - INFO - resulting 6 nodes out of 9,6\n",
      "INFO:ClusterComparator:resulting 6 nodes out of 9,6\n",
      "2020-04-22 21:43:13,489 - ClusterComparator - INFO - resulting 6 nodes out of 9,6\n",
      "INFO:ClusterComparator:resulting 6 nodes out of 9,6\n",
      "/opt/conda/envs/python3/lib/python3.6/site-packages/sklearn/metrics/cluster/supervised.py:859: FutureWarning: The behavior of NMI will change in version 0.22. To match the behavior of 'v_measure_score', NMI will use average_method='arithmetic' by default.\n",
      "  FutureWarning)\n"
     ]
    },
    {
     "name": "stderr",
     "output_type": "stream",
     "text": [
      "2020-04-22 21:43:13,499 - ClusterComparator - INFO - resulting 6 nodes out of 6,6\n",
      "INFO:ClusterComparator:resulting 6 nodes out of 6,6\n",
      "/opt/conda/envs/python3/lib/python3.6/site-packages/sklearn/metrics/cluster/supervised.py:859: FutureWarning: The behavior of NMI will change in version 0.22. To match the behavior of 'v_measure_score', NMI will use average_method='arithmetic' by default.\n",
      "  FutureWarning)\n",
      "2020-04-22 21:43:13,503 - Clustering - INFO - reading/data/data/K_DoesAlgSupportWeightTest_w1/gt_default.parq\n",
      "INFO:Clustering:reading/data/data/K_DoesAlgSupportWeightTest_w1/gt_default.parq\n",
      "2020-04-22 21:43:13,508 - ClusterComparator - INFO - resulting 6 nodes out of 9,6\n",
      "INFO:ClusterComparator:resulting 6 nodes out of 9,6\n",
      "2020-04-22 21:43:13,513 - ClusterComparator - INFO - resulting 6 nodes out of 9,6\n",
      "INFO:ClusterComparator:resulting 6 nodes out of 9,6\n",
      "/opt/conda/envs/python3/lib/python3.6/site-packages/sklearn/metrics/cluster/supervised.py:859: FutureWarning: The behavior of NMI will change in version 0.22. To match the behavior of 'v_measure_score', NMI will use average_method='arithmetic' by default.\n",
      "  FutureWarning)\n",
      "2020-04-22 21:43:13,523 - ClusterComparator - INFO - resulting 6 nodes out of 6,6\n",
      "INFO:ClusterComparator:resulting 6 nodes out of 6,6\n",
      "/opt/conda/envs/python3/lib/python3.6/site-packages/sklearn/metrics/cluster/supervised.py:859: FutureWarning: The behavior of NMI will change in version 0.22. To match the behavior of 'v_measure_score', NMI will use average_method='arithmetic' by default.\n",
      "  FutureWarning)\n",
      "2020-04-22 21:43:13,527 - Clustering - INFO - reading/data/data/K_DoesAlgSupportWeightTest_w1/gt_default.parq\n",
      "INFO:Clustering:reading/data/data/K_DoesAlgSupportWeightTest_w1/gt_default.parq\n",
      "2020-04-22 21:43:13,531 - ClusterComparator - INFO - resulting 6 nodes out of 9,6\n",
      "INFO:ClusterComparator:resulting 6 nodes out of 9,6\n",
      "2020-04-22 21:43:13,536 - ClusterComparator - INFO - resulting 6 nodes out of 9,6\n",
      "INFO:ClusterComparator:resulting 6 nodes out of 9,6\n",
      "/opt/conda/envs/python3/lib/python3.6/site-packages/sklearn/metrics/cluster/supervised.py:859: FutureWarning: The behavior of NMI will change in version 0.22. To match the behavior of 'v_measure_score', NMI will use average_method='arithmetic' by default.\n",
      "  FutureWarning)\n",
      "2020-04-22 21:43:13,546 - ClusterComparator - INFO - resulting 9 nodes out of 9,9\n",
      "INFO:ClusterComparator:resulting 9 nodes out of 9,9\n",
      "/opt/conda/envs/python3/lib/python3.6/site-packages/sklearn/metrics/cluster/supervised.py:859: FutureWarning: The behavior of NMI will change in version 0.22. To match the behavior of 'v_measure_score', NMI will use average_method='arithmetic' by default.\n",
      "  FutureWarning)\n",
      "2020-04-22 21:43:13,551 - Clustering - INFO - reading/data/data/K_DoesAlgSupportWeightTest_w1/gt_default.parq\n",
      "INFO:Clustering:reading/data/data/K_DoesAlgSupportWeightTest_w1/gt_default.parq\n",
      "2020-04-22 21:43:13,555 - ClusterComparator - INFO - resulting 9 nodes out of 9,9\n",
      "INFO:ClusterComparator:resulting 9 nodes out of 9,9\n",
      "/opt/conda/envs/python3/lib/python3.6/site-packages/sklearn/metrics/cluster/supervised.py:859: FutureWarning: The behavior of NMI will change in version 0.22. To match the behavior of 'v_measure_score', NMI will use average_method='arithmetic' by default.\n",
      "  FutureWarning)\n",
      "2020-04-22 21:43:13,562 - ClusterComparator - INFO - Running /opt/gct/submodules/OvpNMI/onmi /tmp/tmp0dvgiamc/cluster1.cnl /tmp/tmp0dvgiamc/cluster2.cnl > ovpnmioutput\n",
      "INFO:ClusterComparator:Running /opt/gct/submodules/OvpNMI/onmi /tmp/tmp0dvgiamc/cluster1.cnl /tmp/tmp0dvgiamc/cluster2.cnl > ovpnmioutput\n",
      "2020-04-22 21:43:13,570 - ClusterComparator - INFO - resulting 9 nodes out of 9,9\n",
      "INFO:ClusterComparator:resulting 9 nodes out of 9,9\n",
      "/opt/conda/envs/python3/lib/python3.6/site-packages/sklearn/metrics/cluster/supervised.py:859: FutureWarning: The behavior of NMI will change in version 0.22. To match the behavior of 'v_measure_score', NMI will use average_method='arithmetic' by default.\n",
      "  FutureWarning)\n",
      "2020-04-22 21:43:13,582 - ClusterComparator - INFO - resulting 9 nodes out of 9,9\n",
      "INFO:ClusterComparator:resulting 9 nodes out of 9,9\n",
      "/opt/conda/envs/python3/lib/python3.6/site-packages/sklearn/metrics/cluster/supervised.py:859: FutureWarning: The behavior of NMI will change in version 0.22. To match the behavior of 'v_measure_score', NMI will use average_method='arithmetic' by default.\n",
      "  FutureWarning)\n",
      "2020-04-22 21:43:13,592 - ClusterComparator - INFO - Running /opt/gct/submodules/OvpNMI/onmi /tmp/tmpdo7dpde5/cluster1.cnl /tmp/tmpdo7dpde5/cluster2.cnl > ovpnmioutput\n",
      "INFO:ClusterComparator:Running /opt/gct/submodules/OvpNMI/onmi /tmp/tmpdo7dpde5/cluster1.cnl /tmp/tmpdo7dpde5/cluster2.cnl > ovpnmioutput\n",
      "2020-04-22 21:43:13,600 - Clustering - INFO - reading/data/data/K_DoesAlgSupportWeightTest_w1/gt_default.parq\n",
      "INFO:Clustering:reading/data/data/K_DoesAlgSupportWeightTest_w1/gt_default.parq\n",
      "2020-04-22 21:43:13,606 - ClusterComparator - INFO - resulting 9 nodes out of 9,9\n",
      "INFO:ClusterComparator:resulting 9 nodes out of 9,9\n",
      "/opt/conda/envs/python3/lib/python3.6/site-packages/sklearn/metrics/cluster/supervised.py:859: FutureWarning: The behavior of NMI will change in version 0.22. To match the behavior of 'v_measure_score', NMI will use average_method='arithmetic' by default.\n",
      "  FutureWarning)\n",
      "2020-04-22 21:43:13,613 - ClusterComparator - INFO - Running /opt/gct/submodules/OvpNMI/onmi /tmp/tmpbc9xnsn5/cluster1.cnl /tmp/tmpbc9xnsn5/cluster2.cnl > ovpnmioutput\n",
      "INFO:ClusterComparator:Running /opt/gct/submodules/OvpNMI/onmi /tmp/tmpbc9xnsn5/cluster1.cnl /tmp/tmpbc9xnsn5/cluster2.cnl > ovpnmioutput\n",
      "2020-04-22 21:43:13,621 - ClusterComparator - INFO - resulting 9 nodes out of 9,9\n",
      "INFO:ClusterComparator:resulting 9 nodes out of 9,9\n",
      "/opt/conda/envs/python3/lib/python3.6/site-packages/sklearn/metrics/cluster/supervised.py:859: FutureWarning: The behavior of NMI will change in version 0.22. To match the behavior of 'v_measure_score', NMI will use average_method='arithmetic' by default.\n",
      "  FutureWarning)\n",
      "2020-04-22 21:43:13,630 - ClusterComparator - INFO - Running /opt/gct/submodules/OvpNMI/onmi /tmp/tmpfhxn888j/cluster1.cnl /tmp/tmpfhxn888j/cluster2.cnl > ovpnmioutput\n",
      "INFO:ClusterComparator:Running /opt/gct/submodules/OvpNMI/onmi /tmp/tmpfhxn888j/cluster1.cnl /tmp/tmpfhxn888j/cluster2.cnl > ovpnmioutput\n",
      "2020-04-22 21:43:13,645 - ClusterComparator - INFO - resulting 9 nodes out of 9,9\n",
      "INFO:ClusterComparator:resulting 9 nodes out of 9,9\n",
      "/opt/conda/envs/python3/lib/python3.6/site-packages/sklearn/metrics/cluster/supervised.py:859: FutureWarning: The behavior of NMI will change in version 0.22. To match the behavior of 'v_measure_score', NMI will use average_method='arithmetic' by default.\n",
      "  FutureWarning)\n",
      "2020-04-22 21:43:13,653 - ClusterComparator - INFO - Running /opt/gct/submodules/OvpNMI/onmi /tmp/tmplq1qnnxy/cluster1.cnl /tmp/tmplq1qnnxy/cluster2.cnl > ovpnmioutput\n",
      "INFO:ClusterComparator:Running /opt/gct/submodules/OvpNMI/onmi /tmp/tmplq1qnnxy/cluster1.cnl /tmp/tmplq1qnnxy/cluster2.cnl > ovpnmioutput\n",
      "2020-04-22 21:43:13,662 - Clustering - INFO - reading/data/data/K_DoesAlgSupportWeightTest_w1/gt_default.parq\n",
      "INFO:Clustering:reading/data/data/K_DoesAlgSupportWeightTest_w1/gt_default.parq\n",
      "2020-04-22 21:43:13,668 - ClusterComparator - INFO - resulting 9 nodes out of 9,9\n",
      "INFO:ClusterComparator:resulting 9 nodes out of 9,9\n",
      "/opt/conda/envs/python3/lib/python3.6/site-packages/sklearn/metrics/cluster/supervised.py:859: FutureWarning: The behavior of NMI will change in version 0.22. To match the behavior of 'v_measure_score', NMI will use average_method='arithmetic' by default.\n",
      "  FutureWarning)\n",
      "2020-04-22 21:43:13,674 - ClusterComparator - INFO - Running /opt/gct/submodules/OvpNMI/onmi /tmp/tmpghaxr6hw/cluster1.cnl /tmp/tmpghaxr6hw/cluster2.cnl > ovpnmioutput\n",
      "INFO:ClusterComparator:Running /opt/gct/submodules/OvpNMI/onmi /tmp/tmpghaxr6hw/cluster1.cnl /tmp/tmpghaxr6hw/cluster2.cnl > ovpnmioutput\n",
      "2020-04-22 21:43:13,682 - ClusterComparator - INFO - resulting 9 nodes out of 9,9\n",
      "INFO:ClusterComparator:resulting 9 nodes out of 9,9\n",
      "/opt/conda/envs/python3/lib/python3.6/site-packages/sklearn/metrics/cluster/supervised.py:859: FutureWarning: The behavior of NMI will change in version 0.22. To match the behavior of 'v_measure_score', NMI will use average_method='arithmetic' by default.\n",
      "  FutureWarning)\n"
     ]
    },
    {
     "name": "stderr",
     "output_type": "stream",
     "text": [
      "2020-04-22 21:43:13,691 - ClusterComparator - INFO - Running /opt/gct/submodules/OvpNMI/onmi /tmp/tmpvqvzt_w_/cluster1.cnl /tmp/tmpvqvzt_w_/cluster2.cnl > ovpnmioutput\n",
      "INFO:ClusterComparator:Running /opt/gct/submodules/OvpNMI/onmi /tmp/tmpvqvzt_w_/cluster1.cnl /tmp/tmpvqvzt_w_/cluster2.cnl > ovpnmioutput\n",
      "2020-04-22 21:43:13,705 - ClusterComparator - INFO - resulting 9 nodes out of 9,9\n",
      "INFO:ClusterComparator:resulting 9 nodes out of 9,9\n",
      "/opt/conda/envs/python3/lib/python3.6/site-packages/sklearn/metrics/cluster/supervised.py:859: FutureWarning: The behavior of NMI will change in version 0.22. To match the behavior of 'v_measure_score', NMI will use average_method='arithmetic' by default.\n",
      "  FutureWarning)\n",
      "2020-04-22 21:43:13,714 - ClusterComparator - INFO - Running /opt/gct/submodules/OvpNMI/onmi /tmp/tmp1z4f22vs/cluster1.cnl /tmp/tmp1z4f22vs/cluster2.cnl > ovpnmioutput\n",
      "INFO:ClusterComparator:Running /opt/gct/submodules/OvpNMI/onmi /tmp/tmp1z4f22vs/cluster1.cnl /tmp/tmp1z4f22vs/cluster2.cnl > ovpnmioutput\n",
      "2020-04-22 21:43:13,722 - Clustering - INFO - reading/data/data/K_DoesAlgSupportWeightTest_w1/gt_default.parq\n",
      "INFO:Clustering:reading/data/data/K_DoesAlgSupportWeightTest_w1/gt_default.parq\n",
      "2020-04-22 21:43:13,728 - ClusterComparator - INFO - resulting 9 nodes out of 9,9\n",
      "INFO:ClusterComparator:resulting 9 nodes out of 9,9\n",
      "/opt/conda/envs/python3/lib/python3.6/site-packages/sklearn/metrics/cluster/supervised.py:859: FutureWarning: The behavior of NMI will change in version 0.22. To match the behavior of 'v_measure_score', NMI will use average_method='arithmetic' by default.\n",
      "  FutureWarning)\n",
      "2020-04-22 21:43:13,735 - ClusterComparator - INFO - Running /opt/gct/submodules/OvpNMI/onmi /tmp/tmp5r4tn9xx/cluster1.cnl /tmp/tmp5r4tn9xx/cluster2.cnl > ovpnmioutput\n",
      "INFO:ClusterComparator:Running /opt/gct/submodules/OvpNMI/onmi /tmp/tmp5r4tn9xx/cluster1.cnl /tmp/tmp5r4tn9xx/cluster2.cnl > ovpnmioutput\n",
      "2020-04-22 21:43:13,743 - ClusterComparator - INFO - resulting 9 nodes out of 9,9\n",
      "INFO:ClusterComparator:resulting 9 nodes out of 9,9\n",
      "/opt/conda/envs/python3/lib/python3.6/site-packages/sklearn/metrics/cluster/supervised.py:859: FutureWarning: The behavior of NMI will change in version 0.22. To match the behavior of 'v_measure_score', NMI will use average_method='arithmetic' by default.\n",
      "  FutureWarning)\n",
      "2020-04-22 21:43:13,751 - ClusterComparator - INFO - Running /opt/gct/submodules/OvpNMI/onmi /tmp/tmp_840tyak/cluster1.cnl /tmp/tmp_840tyak/cluster2.cnl > ovpnmioutput\n",
      "INFO:ClusterComparator:Running /opt/gct/submodules/OvpNMI/onmi /tmp/tmp_840tyak/cluster1.cnl /tmp/tmp_840tyak/cluster2.cnl > ovpnmioutput\n",
      "2020-04-22 21:43:13,766 - ClusterComparator - INFO - resulting 9 nodes out of 9,9\n",
      "INFO:ClusterComparator:resulting 9 nodes out of 9,9\n",
      "/opt/conda/envs/python3/lib/python3.6/site-packages/sklearn/metrics/cluster/supervised.py:859: FutureWarning: The behavior of NMI will change in version 0.22. To match the behavior of 'v_measure_score', NMI will use average_method='arithmetic' by default.\n",
      "  FutureWarning)\n",
      "2020-04-22 21:43:13,775 - ClusterComparator - INFO - Running /opt/gct/submodules/OvpNMI/onmi /tmp/tmph27hi7gs/cluster1.cnl /tmp/tmph27hi7gs/cluster2.cnl > ovpnmioutput\n",
      "INFO:ClusterComparator:Running /opt/gct/submodules/OvpNMI/onmi /tmp/tmph27hi7gs/cluster1.cnl /tmp/tmph27hi7gs/cluster2.cnl > ovpnmioutput\n",
      "2020-04-22 21:43:13,783 - Clustering - INFO - reading/data/data/K_DoesAlgSupportWeightTest_w1/gt_default.parq\n",
      "INFO:Clustering:reading/data/data/K_DoesAlgSupportWeightTest_w1/gt_default.parq\n",
      "2020-04-22 21:43:13,789 - ClusterComparator - INFO - resulting 9 nodes out of 9,9\n",
      "INFO:ClusterComparator:resulting 9 nodes out of 9,9\n",
      "/opt/conda/envs/python3/lib/python3.6/site-packages/sklearn/metrics/cluster/supervised.py:859: FutureWarning: The behavior of NMI will change in version 0.22. To match the behavior of 'v_measure_score', NMI will use average_method='arithmetic' by default.\n",
      "  FutureWarning)\n",
      "2020-04-22 21:43:13,796 - ClusterComparator - INFO - Running /opt/gct/submodules/OvpNMI/onmi /tmp/tmpb1hbefhy/cluster1.cnl /tmp/tmpb1hbefhy/cluster2.cnl > ovpnmioutput\n",
      "INFO:ClusterComparator:Running /opt/gct/submodules/OvpNMI/onmi /tmp/tmpb1hbefhy/cluster1.cnl /tmp/tmpb1hbefhy/cluster2.cnl > ovpnmioutput\n",
      "2020-04-22 21:43:13,804 - ClusterComparator - INFO - resulting 9 nodes out of 9,9\n",
      "INFO:ClusterComparator:resulting 9 nodes out of 9,9\n",
      "/opt/conda/envs/python3/lib/python3.6/site-packages/sklearn/metrics/cluster/supervised.py:859: FutureWarning: The behavior of NMI will change in version 0.22. To match the behavior of 'v_measure_score', NMI will use average_method='arithmetic' by default.\n",
      "  FutureWarning)\n",
      "2020-04-22 21:43:13,813 - ClusterComparator - INFO - Running /opt/gct/submodules/OvpNMI/onmi /tmp/tmpqf1tnbap/cluster1.cnl /tmp/tmpqf1tnbap/cluster2.cnl > ovpnmioutput\n",
      "INFO:ClusterComparator:Running /opt/gct/submodules/OvpNMI/onmi /tmp/tmpqf1tnbap/cluster1.cnl /tmp/tmpqf1tnbap/cluster2.cnl > ovpnmioutput\n",
      "2020-04-22 21:43:13,827 - ClusterComparator - INFO - resulting 9 nodes out of 9,9\n",
      "INFO:ClusterComparator:resulting 9 nodes out of 9,9\n",
      "/opt/conda/envs/python3/lib/python3.6/site-packages/sklearn/metrics/cluster/supervised.py:859: FutureWarning: The behavior of NMI will change in version 0.22. To match the behavior of 'v_measure_score', NMI will use average_method='arithmetic' by default.\n",
      "  FutureWarning)\n",
      "2020-04-22 21:43:13,836 - ClusterComparator - INFO - Running /opt/gct/submodules/OvpNMI/onmi /tmp/tmp7i_3ow20/cluster1.cnl /tmp/tmp7i_3ow20/cluster2.cnl > ovpnmioutput\n",
      "INFO:ClusterComparator:Running /opt/gct/submodules/OvpNMI/onmi /tmp/tmp7i_3ow20/cluster1.cnl /tmp/tmp7i_3ow20/cluster2.cnl > ovpnmioutput\n",
      "2020-04-22 21:43:13,844 - Clustering - INFO - reading/data/data/K_DoesAlgSupportWeightTest_w1/gt_default.parq\n",
      "INFO:Clustering:reading/data/data/K_DoesAlgSupportWeightTest_w1/gt_default.parq\n",
      "2020-04-22 21:43:13,850 - ClusterComparator - INFO - resulting 9 nodes out of 9,9\n",
      "INFO:ClusterComparator:resulting 9 nodes out of 9,9\n",
      "/opt/conda/envs/python3/lib/python3.6/site-packages/sklearn/metrics/cluster/supervised.py:859: FutureWarning: The behavior of NMI will change in version 0.22. To match the behavior of 'v_measure_score', NMI will use average_method='arithmetic' by default.\n",
      "  FutureWarning)\n",
      "2020-04-22 21:43:13,858 - ClusterComparator - INFO - Running /opt/gct/submodules/OvpNMI/onmi /tmp/tmpogobx2jl/cluster1.cnl /tmp/tmpogobx2jl/cluster2.cnl > ovpnmioutput\n",
      "INFO:ClusterComparator:Running /opt/gct/submodules/OvpNMI/onmi /tmp/tmpogobx2jl/cluster1.cnl /tmp/tmpogobx2jl/cluster2.cnl > ovpnmioutput\n",
      "2020-04-22 21:43:13,865 - ClusterComparator - INFO - resulting 9 nodes out of 9,9\n",
      "INFO:ClusterComparator:resulting 9 nodes out of 9,9\n",
      "/opt/conda/envs/python3/lib/python3.6/site-packages/sklearn/metrics/cluster/supervised.py:859: FutureWarning: The behavior of NMI will change in version 0.22. To match the behavior of 'v_measure_score', NMI will use average_method='arithmetic' by default.\n",
      "  FutureWarning)\n",
      "2020-04-22 21:43:13,874 - ClusterComparator - INFO - Running /opt/gct/submodules/OvpNMI/onmi /tmp/tmppq15sb3f/cluster1.cnl /tmp/tmppq15sb3f/cluster2.cnl > ovpnmioutput\n",
      "INFO:ClusterComparator:Running /opt/gct/submodules/OvpNMI/onmi /tmp/tmppq15sb3f/cluster1.cnl /tmp/tmppq15sb3f/cluster2.cnl > ovpnmioutput\n",
      "2020-04-22 21:43:13,888 - ClusterComparator - INFO - resulting 9 nodes out of 9,9\n",
      "INFO:ClusterComparator:resulting 9 nodes out of 9,9\n",
      "/opt/conda/envs/python3/lib/python3.6/site-packages/sklearn/metrics/cluster/supervised.py:859: FutureWarning: The behavior of NMI will change in version 0.22. To match the behavior of 'v_measure_score', NMI will use average_method='arithmetic' by default.\n",
      "  FutureWarning)\n",
      "2020-04-22 21:43:13,898 - ClusterComparator - INFO - Running /opt/gct/submodules/OvpNMI/onmi /tmp/tmp40aiyaw2/cluster1.cnl /tmp/tmp40aiyaw2/cluster2.cnl > ovpnmioutput\n",
      "INFO:ClusterComparator:Running /opt/gct/submodules/OvpNMI/onmi /tmp/tmp40aiyaw2/cluster1.cnl /tmp/tmp40aiyaw2/cluster2.cnl > ovpnmioutput\n",
      "2020-04-22 21:43:13,906 - Clustering - INFO - reading/data/data/K_DoesAlgSupportWeightTest_w1/gt_default.parq\n",
      "INFO:Clustering:reading/data/data/K_DoesAlgSupportWeightTest_w1/gt_default.parq\n"
     ]
    },
    {
     "name": "stderr",
     "output_type": "stream",
     "text": [
      "2020-04-22 21:43:13,912 - ClusterComparator - INFO - resulting 9 nodes out of 9,9\n",
      "INFO:ClusterComparator:resulting 9 nodes out of 9,9\n",
      "/opt/conda/envs/python3/lib/python3.6/site-packages/sklearn/metrics/cluster/supervised.py:859: FutureWarning: The behavior of NMI will change in version 0.22. To match the behavior of 'v_measure_score', NMI will use average_method='arithmetic' by default.\n",
      "  FutureWarning)\n",
      "2020-04-22 21:43:13,919 - ClusterComparator - INFO - Running /opt/gct/submodules/OvpNMI/onmi /tmp/tmpksht2wbh/cluster1.cnl /tmp/tmpksht2wbh/cluster2.cnl > ovpnmioutput\n",
      "INFO:ClusterComparator:Running /opt/gct/submodules/OvpNMI/onmi /tmp/tmpksht2wbh/cluster1.cnl /tmp/tmpksht2wbh/cluster2.cnl > ovpnmioutput\n",
      "2020-04-22 21:43:13,927 - ClusterComparator - INFO - resulting 9 nodes out of 9,9\n",
      "INFO:ClusterComparator:resulting 9 nodes out of 9,9\n",
      "/opt/conda/envs/python3/lib/python3.6/site-packages/sklearn/metrics/cluster/supervised.py:859: FutureWarning: The behavior of NMI will change in version 0.22. To match the behavior of 'v_measure_score', NMI will use average_method='arithmetic' by default.\n",
      "  FutureWarning)\n",
      "2020-04-22 21:43:13,936 - ClusterComparator - INFO - Running /opt/gct/submodules/OvpNMI/onmi /tmp/tmpfy64pig9/cluster1.cnl /tmp/tmpfy64pig9/cluster2.cnl > ovpnmioutput\n",
      "INFO:ClusterComparator:Running /opt/gct/submodules/OvpNMI/onmi /tmp/tmpfy64pig9/cluster1.cnl /tmp/tmpfy64pig9/cluster2.cnl > ovpnmioutput\n"
     ]
    }
   ],
   "source": [
    "import pandas as pd\n",
    "lst = [];\n",
    "for alg in  gct.list_algorithms():\n",
    "    for dsname in datasets:\n",
    "        if dsname.startswith(prefix + '_uw'):\n",
    "            a = [];columns = []\n",
    "            dsname2 = dsname.replace(prefix + \"_uw\", prefix + \"_w\")\n",
    "            a += [alg, dsname, dsname2]\n",
    "            columns += ['alg', 'data1', 'data2']\n",
    "            if dsname + alg in results and dsname2 + alg in results:\n",
    "                cluster1 = gct.to_cluster(results[dsname + alg])\n",
    "                cluster2 = gct.to_cluster(results[dsname2 + alg])\n",
    "                compa = gct.ClusterComparator(cluster1, cluster2)\n",
    "                a += [compa.sklean_nmi(), cluster1.is_overlap, cluster2.is_overlap,\n",
    "                      cluster1.num_cluster, cluster2.num_cluster,\n",
    "                     compa.OvpNMI()['NMImax']]\n",
    "                columns += ['nmi_12', 'ovp1', 'ovp2', \"#c1\", \"#c2\", 'ovpnmi_12']\n",
    "\n",
    "                gt = list(gct.load_local_graph(dsname).get_ground_truth().values())[0]            \n",
    "                compa = gct.ClusterComparator(gt, cluster1)            \n",
    "                a += [compa.sklean_nmi(), compa.OvpNMI()['NMImax']]\n",
    "                columns += ['nmi_t1', 'ovpnmi_t1']\n",
    "\n",
    "                compa = gct.ClusterComparator(gt, cluster2)            \n",
    "                a += [compa.sklean_nmi(), compa.OvpNMI()['NMImax']]\n",
    "                columns += ['nmi_t2', 'ovpnmi_t2']\n",
    "\n",
    "                lst.append(a)\n",
    "\n"
   ]
  },
  {
   "cell_type": "code",
   "execution_count": 23,
   "metadata": {
    "scrolled": false
   },
   "outputs": [
    {
     "data": {
      "text/html": [
       "<div>\n",
       "<style scoped>\n",
       "    .dataframe tbody tr th:only-of-type {\n",
       "        vertical-align: middle;\n",
       "    }\n",
       "\n",
       "    .dataframe tbody tr th {\n",
       "        vertical-align: top;\n",
       "    }\n",
       "\n",
       "    .dataframe thead th {\n",
       "        text-align: right;\n",
       "    }\n",
       "</style>\n",
       "<table border=\"1\" class=\"dataframe\">\n",
       "  <thead>\n",
       "    <tr style=\"text-align: right;\">\n",
       "      <th></th>\n",
       "      <th>alg</th>\n",
       "      <th>data1</th>\n",
       "      <th>data2</th>\n",
       "      <th>nmi_12</th>\n",
       "      <th>ovp1</th>\n",
       "      <th>ovp2</th>\n",
       "      <th>#c1</th>\n",
       "      <th>#c2</th>\n",
       "      <th>ovpnmi_12</th>\n",
       "      <th>nmi_t1</th>\n",
       "      <th>ovpnmi_t1</th>\n",
       "      <th>nmi_t2</th>\n",
       "      <th>ovpnmi_t2</th>\n",
       "    </tr>\n",
       "  </thead>\n",
       "  <tbody>\n",
       "    <tr>\n",
       "      <th>0</th>\n",
       "      <td>oslom_Infohiermap</td>\n",
       "      <td>K_DoesAlgSupportWeightTest_uw1</td>\n",
       "      <td>K_DoesAlgSupportWeightTest_w1</td>\n",
       "      <td>0.761170</td>\n",
       "      <td>False</td>\n",
       "      <td>False</td>\n",
       "      <td>2.0</td>\n",
       "      <td>3.0</td>\n",
       "      <td>0.516012</td>\n",
       "      <td>0.761170</td>\n",
       "      <td>0.516012</td>\n",
       "      <td>1.000000</td>\n",
       "      <td>1.000000</td>\n",
       "    </tr>\n",
       "    <tr>\n",
       "      <th>1</th>\n",
       "      <td>oslom_Infomap</td>\n",
       "      <td>K_DoesAlgSupportWeightTest_uw1</td>\n",
       "      <td>K_DoesAlgSupportWeightTest_w1</td>\n",
       "      <td>1.000000</td>\n",
       "      <td>False</td>\n",
       "      <td>False</td>\n",
       "      <td>1.0</td>\n",
       "      <td>1.0</td>\n",
       "      <td>NaN</td>\n",
       "      <td>1.500000</td>\n",
       "      <td>NaN</td>\n",
       "      <td>1.500000</td>\n",
       "      <td>NaN</td>\n",
       "    </tr>\n",
       "    <tr>\n",
       "      <th>2</th>\n",
       "      <td>oslom_OSLOM</td>\n",
       "      <td>K_DoesAlgSupportWeightTest_uw1</td>\n",
       "      <td>K_DoesAlgSupportWeightTest_w1</td>\n",
       "      <td>1.000000</td>\n",
       "      <td>False</td>\n",
       "      <td>False</td>\n",
       "      <td>2.0</td>\n",
       "      <td>2.0</td>\n",
       "      <td>1.000000</td>\n",
       "      <td>0.761170</td>\n",
       "      <td>0.516012</td>\n",
       "      <td>0.761170</td>\n",
       "      <td>0.516012</td>\n",
       "    </tr>\n",
       "    <tr>\n",
       "      <th>3</th>\n",
       "      <td>oslom_copra</td>\n",
       "      <td>K_DoesAlgSupportWeightTest_uw1</td>\n",
       "      <td>K_DoesAlgSupportWeightTest_w1</td>\n",
       "      <td>0.545828</td>\n",
       "      <td>True</td>\n",
       "      <td>False</td>\n",
       "      <td>3.0</td>\n",
       "      <td>3.0</td>\n",
       "      <td>0.450049</td>\n",
       "      <td>0.439462</td>\n",
       "      <td>0.450049</td>\n",
       "      <td>1.000000</td>\n",
       "      <td>1.000000</td>\n",
       "    </tr>\n",
       "    <tr>\n",
       "      <th>4</th>\n",
       "      <td>oslom_louvain_method</td>\n",
       "      <td>K_DoesAlgSupportWeightTest_uw1</td>\n",
       "      <td>K_DoesAlgSupportWeightTest_w1</td>\n",
       "      <td>0.761170</td>\n",
       "      <td>False</td>\n",
       "      <td>False</td>\n",
       "      <td>2.0</td>\n",
       "      <td>3.0</td>\n",
       "      <td>0.516012</td>\n",
       "      <td>0.761170</td>\n",
       "      <td>0.516012</td>\n",
       "      <td>1.000000</td>\n",
       "      <td>1.000000</td>\n",
       "    </tr>\n",
       "    <tr>\n",
       "      <th>5</th>\n",
       "      <td>oslom_lpm</td>\n",
       "      <td>K_DoesAlgSupportWeightTest_uw1</td>\n",
       "      <td>K_DoesAlgSupportWeightTest_w1</td>\n",
       "      <td>0.761170</td>\n",
       "      <td>False</td>\n",
       "      <td>False</td>\n",
       "      <td>2.0</td>\n",
       "      <td>3.0</td>\n",
       "      <td>0.516012</td>\n",
       "      <td>0.761170</td>\n",
       "      <td>0.516012</td>\n",
       "      <td>1.000000</td>\n",
       "      <td>1.000000</td>\n",
       "    </tr>\n",
       "    <tr>\n",
       "      <th>6</th>\n",
       "      <td>oslom_modopt</td>\n",
       "      <td>K_DoesAlgSupportWeightTest_uw1</td>\n",
       "      <td>K_DoesAlgSupportWeightTest_w1</td>\n",
       "      <td>0.761170</td>\n",
       "      <td>False</td>\n",
       "      <td>False</td>\n",
       "      <td>2.0</td>\n",
       "      <td>3.0</td>\n",
       "      <td>0.516012</td>\n",
       "      <td>0.761170</td>\n",
       "      <td>0.516012</td>\n",
       "      <td>1.000000</td>\n",
       "      <td>1.000000</td>\n",
       "    </tr>\n",
       "    <tr>\n",
       "      <th>7</th>\n",
       "      <td>pycabem_GANXiSw</td>\n",
       "      <td>K_DoesAlgSupportWeightTest_uw1</td>\n",
       "      <td>K_DoesAlgSupportWeightTest_w1</td>\n",
       "      <td>0.761170</td>\n",
       "      <td>False</td>\n",
       "      <td>False</td>\n",
       "      <td>2.0</td>\n",
       "      <td>3.0</td>\n",
       "      <td>0.516012</td>\n",
       "      <td>0.761170</td>\n",
       "      <td>0.516012</td>\n",
       "      <td>1.000000</td>\n",
       "      <td>1.000000</td>\n",
       "    </tr>\n",
       "    <tr>\n",
       "      <th>8</th>\n",
       "      <td>pycabem_HiReCS</td>\n",
       "      <td>K_DoesAlgSupportWeightTest_uw1</td>\n",
       "      <td>K_DoesAlgSupportWeightTest_w1</td>\n",
       "      <td>0.761170</td>\n",
       "      <td>False</td>\n",
       "      <td>False</td>\n",
       "      <td>2.0</td>\n",
       "      <td>3.0</td>\n",
       "      <td>0.516012</td>\n",
       "      <td>0.414873</td>\n",
       "      <td>0.181069</td>\n",
       "      <td>0.558873</td>\n",
       "      <td>0.217444</td>\n",
       "    </tr>\n",
       "    <tr>\n",
       "      <th>9</th>\n",
       "      <td>pycabem_LabelRank</td>\n",
       "      <td>K_DoesAlgSupportWeightTest_uw1</td>\n",
       "      <td>K_DoesAlgSupportWeightTest_w1</td>\n",
       "      <td>1.000000</td>\n",
       "      <td>False</td>\n",
       "      <td>False</td>\n",
       "      <td>3.0</td>\n",
       "      <td>3.0</td>\n",
       "      <td>1.000000</td>\n",
       "      <td>0.714336</td>\n",
       "      <td>0.542430</td>\n",
       "      <td>0.714336</td>\n",
       "      <td>0.542430</td>\n",
       "    </tr>\n",
       "    <tr>\n",
       "      <th>10</th>\n",
       "      <td>cdc_CONGA</td>\n",
       "      <td>K_DoesAlgSupportWeightTest_uw1</td>\n",
       "      <td>K_DoesAlgSupportWeightTest_w1</td>\n",
       "      <td>0.789613</td>\n",
       "      <td>False</td>\n",
       "      <td>False</td>\n",
       "      <td>5.0</td>\n",
       "      <td>5.0</td>\n",
       "      <td>0.623307</td>\n",
       "      <td>0.605701</td>\n",
       "      <td>0.388640</td>\n",
       "      <td>0.866025</td>\n",
       "      <td>0.725584</td>\n",
       "    </tr>\n",
       "    <tr>\n",
       "      <th>11</th>\n",
       "      <td>cdc_CliquePercolation</td>\n",
       "      <td>K_DoesAlgSupportWeightTest_uw1</td>\n",
       "      <td>K_DoesAlgSupportWeightTest_w1</td>\n",
       "      <td>1.000000</td>\n",
       "      <td>False</td>\n",
       "      <td>False</td>\n",
       "      <td>2.0</td>\n",
       "      <td>2.0</td>\n",
       "      <td>1.000000</td>\n",
       "      <td>0.761170</td>\n",
       "      <td>0.516012</td>\n",
       "      <td>0.761170</td>\n",
       "      <td>0.516012</td>\n",
       "    </tr>\n",
       "    <tr>\n",
       "      <th>12</th>\n",
       "      <td>cdc_Connected_Iterative_Scan</td>\n",
       "      <td>K_DoesAlgSupportWeightTest_uw1</td>\n",
       "      <td>K_DoesAlgSupportWeightTest_w1</td>\n",
       "      <td>0.774597</td>\n",
       "      <td>False</td>\n",
       "      <td>True</td>\n",
       "      <td>2.0</td>\n",
       "      <td>3.0</td>\n",
       "      <td>0.758006</td>\n",
       "      <td>0.761170</td>\n",
       "      <td>0.516012</td>\n",
       "      <td>0.761170</td>\n",
       "      <td>0.758006</td>\n",
       "    </tr>\n",
       "    <tr>\n",
       "      <th>13</th>\n",
       "      <td>cdc_EAGLE</td>\n",
       "      <td>K_DoesAlgSupportWeightTest_uw1</td>\n",
       "      <td>K_DoesAlgSupportWeightTest_w1</td>\n",
       "      <td>1.000000</td>\n",
       "      <td>False</td>\n",
       "      <td>False</td>\n",
       "      <td>2.0</td>\n",
       "      <td>2.0</td>\n",
       "      <td>1.000000</td>\n",
       "      <td>0.761170</td>\n",
       "      <td>0.516012</td>\n",
       "      <td>0.761170</td>\n",
       "      <td>0.516012</td>\n",
       "    </tr>\n",
       "    <tr>\n",
       "      <th>14</th>\n",
       "      <td>cdc_FastCpm</td>\n",
       "      <td>K_DoesAlgSupportWeightTest_uw1</td>\n",
       "      <td>K_DoesAlgSupportWeightTest_w1</td>\n",
       "      <td>1.000000</td>\n",
       "      <td>False</td>\n",
       "      <td>False</td>\n",
       "      <td>1.0</td>\n",
       "      <td>1.0</td>\n",
       "      <td>NaN</td>\n",
       "      <td>1.000000</td>\n",
       "      <td>NaN</td>\n",
       "      <td>1.000000</td>\n",
       "      <td>NaN</td>\n",
       "    </tr>\n",
       "    <tr>\n",
       "      <th>15</th>\n",
       "      <td>cdc_GCE</td>\n",
       "      <td>K_DoesAlgSupportWeightTest_uw1</td>\n",
       "      <td>K_DoesAlgSupportWeightTest_w1</td>\n",
       "      <td>1.000000</td>\n",
       "      <td>False</td>\n",
       "      <td>False</td>\n",
       "      <td>1.0</td>\n",
       "      <td>1.0</td>\n",
       "      <td>NaN</td>\n",
       "      <td>1.000000</td>\n",
       "      <td>NaN</td>\n",
       "      <td>1.000000</td>\n",
       "      <td>NaN</td>\n",
       "    </tr>\n",
       "    <tr>\n",
       "      <th>16</th>\n",
       "      <td>cdc_LinkCommunities</td>\n",
       "      <td>K_DoesAlgSupportWeightTest_uw1</td>\n",
       "      <td>K_DoesAlgSupportWeightTest_w1</td>\n",
       "      <td>0.500000</td>\n",
       "      <td>False</td>\n",
       "      <td>True</td>\n",
       "      <td>1.0</td>\n",
       "      <td>6.0</td>\n",
       "      <td>NaN</td>\n",
       "      <td>1.500000</td>\n",
       "      <td>NaN</td>\n",
       "      <td>0.404301</td>\n",
       "      <td>0.377767</td>\n",
       "    </tr>\n",
       "    <tr>\n",
       "      <th>17</th>\n",
       "      <td>cdc_MOSES</td>\n",
       "      <td>K_DoesAlgSupportWeightTest_uw1</td>\n",
       "      <td>K_DoesAlgSupportWeightTest_w1</td>\n",
       "      <td>1.000000</td>\n",
       "      <td>False</td>\n",
       "      <td>False</td>\n",
       "      <td>1.0</td>\n",
       "      <td>1.0</td>\n",
       "      <td>NaN</td>\n",
       "      <td>1.000000</td>\n",
       "      <td>NaN</td>\n",
       "      <td>1.000000</td>\n",
       "      <td>NaN</td>\n",
       "    </tr>\n",
       "    <tr>\n",
       "      <th>18</th>\n",
       "      <td>cdc_MSCD_AFG</td>\n",
       "      <td>K_DoesAlgSupportWeightTest_uw1</td>\n",
       "      <td>K_DoesAlgSupportWeightTest_w1</td>\n",
       "      <td>0.761170</td>\n",
       "      <td>False</td>\n",
       "      <td>False</td>\n",
       "      <td>2.0</td>\n",
       "      <td>3.0</td>\n",
       "      <td>0.516012</td>\n",
       "      <td>0.414873</td>\n",
       "      <td>0.181069</td>\n",
       "      <td>0.558873</td>\n",
       "      <td>0.217444</td>\n",
       "    </tr>\n",
       "    <tr>\n",
       "      <th>19</th>\n",
       "      <td>cdc_MSCD_HSLSW</td>\n",
       "      <td>K_DoesAlgSupportWeightTest_uw1</td>\n",
       "      <td>K_DoesAlgSupportWeightTest_w1</td>\n",
       "      <td>0.761170</td>\n",
       "      <td>False</td>\n",
       "      <td>False</td>\n",
       "      <td>2.0</td>\n",
       "      <td>3.0</td>\n",
       "      <td>0.516012</td>\n",
       "      <td>0.414873</td>\n",
       "      <td>0.181069</td>\n",
       "      <td>0.558873</td>\n",
       "      <td>0.217444</td>\n",
       "    </tr>\n",
       "    <tr>\n",
       "      <th>20</th>\n",
       "      <td>cdc_MSCD_LFK</td>\n",
       "      <td>K_DoesAlgSupportWeightTest_uw1</td>\n",
       "      <td>K_DoesAlgSupportWeightTest_w1</td>\n",
       "      <td>0.761170</td>\n",
       "      <td>False</td>\n",
       "      <td>False</td>\n",
       "      <td>2.0</td>\n",
       "      <td>3.0</td>\n",
       "      <td>0.516012</td>\n",
       "      <td>0.414873</td>\n",
       "      <td>0.181069</td>\n",
       "      <td>0.558873</td>\n",
       "      <td>0.217444</td>\n",
       "    </tr>\n",
       "    <tr>\n",
       "      <th>21</th>\n",
       "      <td>cdc_MSCD_LFK2</td>\n",
       "      <td>K_DoesAlgSupportWeightTest_uw1</td>\n",
       "      <td>K_DoesAlgSupportWeightTest_w1</td>\n",
       "      <td>1.000000</td>\n",
       "      <td>False</td>\n",
       "      <td>False</td>\n",
       "      <td>2.0</td>\n",
       "      <td>2.0</td>\n",
       "      <td>0.637009</td>\n",
       "      <td>0.414873</td>\n",
       "      <td>0.181069</td>\n",
       "      <td>0.798733</td>\n",
       "      <td>0.144963</td>\n",
       "    </tr>\n",
       "    <tr>\n",
       "      <th>22</th>\n",
       "      <td>cdc_MSCD_RB</td>\n",
       "      <td>K_DoesAlgSupportWeightTest_uw1</td>\n",
       "      <td>K_DoesAlgSupportWeightTest_w1</td>\n",
       "      <td>0.761170</td>\n",
       "      <td>False</td>\n",
       "      <td>False</td>\n",
       "      <td>2.0</td>\n",
       "      <td>3.0</td>\n",
       "      <td>0.516012</td>\n",
       "      <td>0.414873</td>\n",
       "      <td>0.181069</td>\n",
       "      <td>0.558873</td>\n",
       "      <td>0.217444</td>\n",
       "    </tr>\n",
       "    <tr>\n",
       "      <th>23</th>\n",
       "      <td>cdc_MSCD_RN</td>\n",
       "      <td>K_DoesAlgSupportWeightTest_uw1</td>\n",
       "      <td>K_DoesAlgSupportWeightTest_w1</td>\n",
       "      <td>1.000000</td>\n",
       "      <td>False</td>\n",
       "      <td>False</td>\n",
       "      <td>2.0</td>\n",
       "      <td>2.0</td>\n",
       "      <td>1.000000</td>\n",
       "      <td>0.414873</td>\n",
       "      <td>0.181069</td>\n",
       "      <td>0.414873</td>\n",
       "      <td>0.181069</td>\n",
       "    </tr>\n",
       "    <tr>\n",
       "      <th>24</th>\n",
       "      <td>cdc_MSCD_SO</td>\n",
       "      <td>K_DoesAlgSupportWeightTest_uw1</td>\n",
       "      <td>K_DoesAlgSupportWeightTest_w1</td>\n",
       "      <td>0.761170</td>\n",
       "      <td>False</td>\n",
       "      <td>False</td>\n",
       "      <td>2.0</td>\n",
       "      <td>3.0</td>\n",
       "      <td>0.516012</td>\n",
       "      <td>0.414873</td>\n",
       "      <td>0.181069</td>\n",
       "      <td>0.558873</td>\n",
       "      <td>0.217444</td>\n",
       "    </tr>\n",
       "    <tr>\n",
       "      <th>25</th>\n",
       "      <td>cdc_MSCD_SOM</td>\n",
       "      <td>K_DoesAlgSupportWeightTest_uw1</td>\n",
       "      <td>K_DoesAlgSupportWeightTest_w1</td>\n",
       "      <td>0.761170</td>\n",
       "      <td>False</td>\n",
       "      <td>False</td>\n",
       "      <td>2.0</td>\n",
       "      <td>3.0</td>\n",
       "      <td>0.516012</td>\n",
       "      <td>0.414873</td>\n",
       "      <td>0.181069</td>\n",
       "      <td>0.558873</td>\n",
       "      <td>0.217444</td>\n",
       "    </tr>\n",
       "    <tr>\n",
       "      <th>26</th>\n",
       "      <td>cdc_ParCPM</td>\n",
       "      <td>K_DoesAlgSupportWeightTest_uw1</td>\n",
       "      <td>K_DoesAlgSupportWeightTest_w1</td>\n",
       "      <td>1.000000</td>\n",
       "      <td>False</td>\n",
       "      <td>False</td>\n",
       "      <td>2.0</td>\n",
       "      <td>2.0</td>\n",
       "      <td>1.000000</td>\n",
       "      <td>0.761170</td>\n",
       "      <td>0.516012</td>\n",
       "      <td>0.761170</td>\n",
       "      <td>0.516012</td>\n",
       "    </tr>\n",
       "    <tr>\n",
       "      <th>27</th>\n",
       "      <td>cdc_SVINET</td>\n",
       "      <td>K_DoesAlgSupportWeightTest_uw1</td>\n",
       "      <td>K_DoesAlgSupportWeightTest_w1</td>\n",
       "      <td>0.518709</td>\n",
       "      <td>True</td>\n",
       "      <td>True</td>\n",
       "      <td>3.0</td>\n",
       "      <td>3.0</td>\n",
       "      <td>1.000000</td>\n",
       "      <td>0.393067</td>\n",
       "      <td>0.358995</td>\n",
       "      <td>0.393067</td>\n",
       "      <td>0.358995</td>\n",
       "    </tr>\n",
       "    <tr>\n",
       "      <th>28</th>\n",
       "      <td>cdc_TopGC</td>\n",
       "      <td>K_DoesAlgSupportWeightTest_uw1</td>\n",
       "      <td>K_DoesAlgSupportWeightTest_w1</td>\n",
       "      <td>1.000000</td>\n",
       "      <td>False</td>\n",
       "      <td>False</td>\n",
       "      <td>1.0</td>\n",
       "      <td>0.0</td>\n",
       "      <td>NaN</td>\n",
       "      <td>-0.500000</td>\n",
       "      <td>NaN</td>\n",
       "      <td>1.000000</td>\n",
       "      <td>NaN</td>\n",
       "    </tr>\n",
       "    <tr>\n",
       "      <th>29</th>\n",
       "      <td>cdc_clique_modularity</td>\n",
       "      <td>K_DoesAlgSupportWeightTest_uw1</td>\n",
       "      <td>K_DoesAlgSupportWeightTest_w1</td>\n",
       "      <td>1.000000</td>\n",
       "      <td>False</td>\n",
       "      <td>False</td>\n",
       "      <td>2.0</td>\n",
       "      <td>2.0</td>\n",
       "      <td>1.000000</td>\n",
       "      <td>0.761170</td>\n",
       "      <td>0.516012</td>\n",
       "      <td>0.761170</td>\n",
       "      <td>0.516012</td>\n",
       "    </tr>\n",
       "    <tr>\n",
       "      <th>30</th>\n",
       "      <td>cgcc_CGGC</td>\n",
       "      <td>K_DoesAlgSupportWeightTest_uw1</td>\n",
       "      <td>K_DoesAlgSupportWeightTest_w1</td>\n",
       "      <td>1.000000</td>\n",
       "      <td>False</td>\n",
       "      <td>False</td>\n",
       "      <td>1.0</td>\n",
       "      <td>1.0</td>\n",
       "      <td>NaN</td>\n",
       "      <td>1.500000</td>\n",
       "      <td>NaN</td>\n",
       "      <td>1.500000</td>\n",
       "      <td>NaN</td>\n",
       "    </tr>\n",
       "    <tr>\n",
       "      <th>31</th>\n",
       "      <td>dct_dlplm</td>\n",
       "      <td>K_DoesAlgSupportWeightTest_uw1</td>\n",
       "      <td>K_DoesAlgSupportWeightTest_w1</td>\n",
       "      <td>1.000000</td>\n",
       "      <td>False</td>\n",
       "      <td>False</td>\n",
       "      <td>2.0</td>\n",
       "      <td>2.0</td>\n",
       "      <td>1.000000</td>\n",
       "      <td>0.761170</td>\n",
       "      <td>0.516012</td>\n",
       "      <td>0.761170</td>\n",
       "      <td>0.516012</td>\n",
       "    </tr>\n",
       "    <tr>\n",
       "      <th>32</th>\n",
       "      <td>dct_dlslm</td>\n",
       "      <td>K_DoesAlgSupportWeightTest_uw1</td>\n",
       "      <td>K_DoesAlgSupportWeightTest_w1</td>\n",
       "      <td>1.000000</td>\n",
       "      <td>False</td>\n",
       "      <td>False</td>\n",
       "      <td>2.0</td>\n",
       "      <td>2.0</td>\n",
       "      <td>1.000000</td>\n",
       "      <td>0.761170</td>\n",
       "      <td>0.516012</td>\n",
       "      <td>0.761170</td>\n",
       "      <td>0.516012</td>\n",
       "    </tr>\n",
       "    <tr>\n",
       "      <th>33</th>\n",
       "      <td>dct_dlslm_map_eq</td>\n",
       "      <td>K_DoesAlgSupportWeightTest_uw1</td>\n",
       "      <td>K_DoesAlgSupportWeightTest_w1</td>\n",
       "      <td>1.000000</td>\n",
       "      <td>False</td>\n",
       "      <td>False</td>\n",
       "      <td>3.0</td>\n",
       "      <td>3.0</td>\n",
       "      <td>1.000000</td>\n",
       "      <td>0.659193</td>\n",
       "      <td>0.348967</td>\n",
       "      <td>0.659193</td>\n",
       "      <td>0.348967</td>\n",
       "    </tr>\n",
       "    <tr>\n",
       "      <th>34</th>\n",
       "      <td>dct_dlslm_no_contraction</td>\n",
       "      <td>K_DoesAlgSupportWeightTest_uw1</td>\n",
       "      <td>K_DoesAlgSupportWeightTest_w1</td>\n",
       "      <td>1.000000</td>\n",
       "      <td>False</td>\n",
       "      <td>False</td>\n",
       "      <td>3.0</td>\n",
       "      <td>3.0</td>\n",
       "      <td>1.000000</td>\n",
       "      <td>0.659193</td>\n",
       "      <td>0.348967</td>\n",
       "      <td>0.659193</td>\n",
       "      <td>0.348967</td>\n",
       "    </tr>\n",
       "    <tr>\n",
       "      <th>35</th>\n",
       "      <td>dct_dlslm_with_seq</td>\n",
       "      <td>K_DoesAlgSupportWeightTest_uw1</td>\n",
       "      <td>K_DoesAlgSupportWeightTest_w1</td>\n",
       "      <td>1.000000</td>\n",
       "      <td>False</td>\n",
       "      <td>False</td>\n",
       "      <td>2.0</td>\n",
       "      <td>2.0</td>\n",
       "      <td>1.000000</td>\n",
       "      <td>0.761170</td>\n",
       "      <td>0.516012</td>\n",
       "      <td>0.761170</td>\n",
       "      <td>0.516012</td>\n",
       "    </tr>\n",
       "    <tr>\n",
       "      <th>36</th>\n",
       "      <td>dct_infomap</td>\n",
       "      <td>K_DoesAlgSupportWeightTest_uw1</td>\n",
       "      <td>K_DoesAlgSupportWeightTest_w1</td>\n",
       "      <td>1.000000</td>\n",
       "      <td>False</td>\n",
       "      <td>False</td>\n",
       "      <td>2.0</td>\n",
       "      <td>2.0</td>\n",
       "      <td>1.000000</td>\n",
       "      <td>0.761170</td>\n",
       "      <td>0.516012</td>\n",
       "      <td>0.761170</td>\n",
       "      <td>0.516012</td>\n",
       "    </tr>\n",
       "    <tr>\n",
       "      <th>37</th>\n",
       "      <td>dct_seq_louvain</td>\n",
       "      <td>K_DoesAlgSupportWeightTest_uw1</td>\n",
       "      <td>K_DoesAlgSupportWeightTest_w1</td>\n",
       "      <td>1.000000</td>\n",
       "      <td>False</td>\n",
       "      <td>False</td>\n",
       "      <td>2.0</td>\n",
       "      <td>2.0</td>\n",
       "      <td>1.000000</td>\n",
       "      <td>0.761170</td>\n",
       "      <td>0.516012</td>\n",
       "      <td>0.761170</td>\n",
       "      <td>0.516012</td>\n",
       "    </tr>\n",
       "    <tr>\n",
       "      <th>38</th>\n",
       "      <td>igraph_community_edge_betweenness</td>\n",
       "      <td>K_DoesAlgSupportWeightTest_uw1</td>\n",
       "      <td>K_DoesAlgSupportWeightTest_w1</td>\n",
       "      <td>0.761170</td>\n",
       "      <td>False</td>\n",
       "      <td>False</td>\n",
       "      <td>2.0</td>\n",
       "      <td>3.0</td>\n",
       "      <td>0.516012</td>\n",
       "      <td>0.761170</td>\n",
       "      <td>0.516012</td>\n",
       "      <td>1.000000</td>\n",
       "      <td>1.000000</td>\n",
       "    </tr>\n",
       "    <tr>\n",
       "      <th>39</th>\n",
       "      <td>igraph_community_fastgreedy</td>\n",
       "      <td>K_DoesAlgSupportWeightTest_uw1</td>\n",
       "      <td>K_DoesAlgSupportWeightTest_w1</td>\n",
       "      <td>0.761170</td>\n",
       "      <td>False</td>\n",
       "      <td>False</td>\n",
       "      <td>2.0</td>\n",
       "      <td>3.0</td>\n",
       "      <td>0.516012</td>\n",
       "      <td>0.761170</td>\n",
       "      <td>0.516012</td>\n",
       "      <td>1.000000</td>\n",
       "      <td>1.000000</td>\n",
       "    </tr>\n",
       "    <tr>\n",
       "      <th>40</th>\n",
       "      <td>igraph_community_infomap</td>\n",
       "      <td>K_DoesAlgSupportWeightTest_uw1</td>\n",
       "      <td>K_DoesAlgSupportWeightTest_w1</td>\n",
       "      <td>0.761170</td>\n",
       "      <td>False</td>\n",
       "      <td>False</td>\n",
       "      <td>2.0</td>\n",
       "      <td>3.0</td>\n",
       "      <td>0.516012</td>\n",
       "      <td>0.761170</td>\n",
       "      <td>0.516012</td>\n",
       "      <td>1.000000</td>\n",
       "      <td>1.000000</td>\n",
       "    </tr>\n",
       "    <tr>\n",
       "      <th>41</th>\n",
       "      <td>igraph_community_label_propagation</td>\n",
       "      <td>K_DoesAlgSupportWeightTest_uw1</td>\n",
       "      <td>K_DoesAlgSupportWeightTest_w1</td>\n",
       "      <td>0.761170</td>\n",
       "      <td>False</td>\n",
       "      <td>False</td>\n",
       "      <td>2.0</td>\n",
       "      <td>3.0</td>\n",
       "      <td>0.516012</td>\n",
       "      <td>0.761170</td>\n",
       "      <td>0.516012</td>\n",
       "      <td>1.000000</td>\n",
       "      <td>1.000000</td>\n",
       "    </tr>\n",
       "    <tr>\n",
       "      <th>42</th>\n",
       "      <td>igraph_community_leading_eigenvector</td>\n",
       "      <td>K_DoesAlgSupportWeightTest_uw1</td>\n",
       "      <td>K_DoesAlgSupportWeightTest_w1</td>\n",
       "      <td>0.761170</td>\n",
       "      <td>False</td>\n",
       "      <td>False</td>\n",
       "      <td>2.0</td>\n",
       "      <td>3.0</td>\n",
       "      <td>0.516012</td>\n",
       "      <td>0.761170</td>\n",
       "      <td>0.516012</td>\n",
       "      <td>1.000000</td>\n",
       "      <td>1.000000</td>\n",
       "    </tr>\n",
       "    <tr>\n",
       "      <th>43</th>\n",
       "      <td>igraph_community_multilevel</td>\n",
       "      <td>K_DoesAlgSupportWeightTest_uw1</td>\n",
       "      <td>K_DoesAlgSupportWeightTest_w1</td>\n",
       "      <td>0.761170</td>\n",
       "      <td>False</td>\n",
       "      <td>False</td>\n",
       "      <td>2.0</td>\n",
       "      <td>3.0</td>\n",
       "      <td>0.516012</td>\n",
       "      <td>0.761170</td>\n",
       "      <td>0.516012</td>\n",
       "      <td>1.000000</td>\n",
       "      <td>1.000000</td>\n",
       "    </tr>\n",
       "    <tr>\n",
       "      <th>44</th>\n",
       "      <td>igraph_community_optimal_modularity</td>\n",
       "      <td>K_DoesAlgSupportWeightTest_uw1</td>\n",
       "      <td>K_DoesAlgSupportWeightTest_w1</td>\n",
       "      <td>0.761170</td>\n",
       "      <td>False</td>\n",
       "      <td>False</td>\n",
       "      <td>2.0</td>\n",
       "      <td>3.0</td>\n",
       "      <td>0.516012</td>\n",
       "      <td>0.761170</td>\n",
       "      <td>0.516012</td>\n",
       "      <td>1.000000</td>\n",
       "      <td>1.000000</td>\n",
       "    </tr>\n",
       "    <tr>\n",
       "      <th>45</th>\n",
       "      <td>igraph_community_spinglass</td>\n",
       "      <td>K_DoesAlgSupportWeightTest_uw1</td>\n",
       "      <td>K_DoesAlgSupportWeightTest_w1</td>\n",
       "      <td>0.761170</td>\n",
       "      <td>False</td>\n",
       "      <td>False</td>\n",
       "      <td>2.0</td>\n",
       "      <td>3.0</td>\n",
       "      <td>0.516012</td>\n",
       "      <td>0.761170</td>\n",
       "      <td>0.516012</td>\n",
       "      <td>1.000000</td>\n",
       "      <td>1.000000</td>\n",
       "    </tr>\n",
       "    <tr>\n",
       "      <th>46</th>\n",
       "      <td>igraph_community_walktrap</td>\n",
       "      <td>K_DoesAlgSupportWeightTest_uw1</td>\n",
       "      <td>K_DoesAlgSupportWeightTest_w1</td>\n",
       "      <td>0.761170</td>\n",
       "      <td>False</td>\n",
       "      <td>False</td>\n",
       "      <td>2.0</td>\n",
       "      <td>3.0</td>\n",
       "      <td>0.516012</td>\n",
       "      <td>0.761170</td>\n",
       "      <td>0.516012</td>\n",
       "      <td>1.000000</td>\n",
       "      <td>1.000000</td>\n",
       "    </tr>\n",
       "    <tr>\n",
       "      <th>47</th>\n",
       "      <td>mcl_MCL</td>\n",
       "      <td>K_DoesAlgSupportWeightTest_uw1</td>\n",
       "      <td>K_DoesAlgSupportWeightTest_w1</td>\n",
       "      <td>0.761170</td>\n",
       "      <td>False</td>\n",
       "      <td>False</td>\n",
       "      <td>2.0</td>\n",
       "      <td>3.0</td>\n",
       "      <td>0.516012</td>\n",
       "      <td>0.761170</td>\n",
       "      <td>0.516012</td>\n",
       "      <td>1.000000</td>\n",
       "      <td>1.000000</td>\n",
       "    </tr>\n",
       "    <tr>\n",
       "      <th>48</th>\n",
       "      <td>networkit_CutClustering</td>\n",
       "      <td>K_DoesAlgSupportWeightTest_uw1</td>\n",
       "      <td>K_DoesAlgSupportWeightTest_w1</td>\n",
       "      <td>1.500000</td>\n",
       "      <td>False</td>\n",
       "      <td>False</td>\n",
       "      <td>1.0</td>\n",
       "      <td>3.0</td>\n",
       "      <td>NaN</td>\n",
       "      <td>1.500000</td>\n",
       "      <td>NaN</td>\n",
       "      <td>1.000000</td>\n",
       "      <td>1.000000</td>\n",
       "    </tr>\n",
       "    <tr>\n",
       "      <th>49</th>\n",
       "      <td>networkit_LPDegreeOrdered</td>\n",
       "      <td>K_DoesAlgSupportWeightTest_uw1</td>\n",
       "      <td>K_DoesAlgSupportWeightTest_w1</td>\n",
       "      <td>1.000000</td>\n",
       "      <td>False</td>\n",
       "      <td>False</td>\n",
       "      <td>1.0</td>\n",
       "      <td>1.0</td>\n",
       "      <td>NaN</td>\n",
       "      <td>1.500000</td>\n",
       "      <td>NaN</td>\n",
       "      <td>1.500000</td>\n",
       "      <td>NaN</td>\n",
       "    </tr>\n",
       "    <tr>\n",
       "      <th>50</th>\n",
       "      <td>networkit_PLM</td>\n",
       "      <td>K_DoesAlgSupportWeightTest_uw1</td>\n",
       "      <td>K_DoesAlgSupportWeightTest_w1</td>\n",
       "      <td>0.761170</td>\n",
       "      <td>False</td>\n",
       "      <td>False</td>\n",
       "      <td>2.0</td>\n",
       "      <td>3.0</td>\n",
       "      <td>0.516012</td>\n",
       "      <td>0.761170</td>\n",
       "      <td>0.516012</td>\n",
       "      <td>1.000000</td>\n",
       "      <td>1.000000</td>\n",
       "    </tr>\n",
       "    <tr>\n",
       "      <th>51</th>\n",
       "      <td>networkit_PLP</td>\n",
       "      <td>K_DoesAlgSupportWeightTest_uw1</td>\n",
       "      <td>K_DoesAlgSupportWeightTest_w1</td>\n",
       "      <td>1.500000</td>\n",
       "      <td>False</td>\n",
       "      <td>False</td>\n",
       "      <td>1.0</td>\n",
       "      <td>3.0</td>\n",
       "      <td>NaN</td>\n",
       "      <td>1.500000</td>\n",
       "      <td>NaN</td>\n",
       "      <td>1.000000</td>\n",
       "      <td>1.000000</td>\n",
       "    </tr>\n",
       "    <tr>\n",
       "      <th>52</th>\n",
       "      <td>alg_GossipMap</td>\n",
       "      <td>K_DoesAlgSupportWeightTest_uw1</td>\n",
       "      <td>K_DoesAlgSupportWeightTest_w1</td>\n",
       "      <td>1.000000</td>\n",
       "      <td>False</td>\n",
       "      <td>False</td>\n",
       "      <td>1.0</td>\n",
       "      <td>1.0</td>\n",
       "      <td>NaN</td>\n",
       "      <td>1.500000</td>\n",
       "      <td>NaN</td>\n",
       "      <td>1.500000</td>\n",
       "      <td>NaN</td>\n",
       "    </tr>\n",
       "    <tr>\n",
       "      <th>53</th>\n",
       "      <td>alg_RelaxMap</td>\n",
       "      <td>K_DoesAlgSupportWeightTest_uw1</td>\n",
       "      <td>K_DoesAlgSupportWeightTest_w1</td>\n",
       "      <td>1.000000</td>\n",
       "      <td>False</td>\n",
       "      <td>False</td>\n",
       "      <td>1.0</td>\n",
       "      <td>1.0</td>\n",
       "      <td>NaN</td>\n",
       "      <td>1.500000</td>\n",
       "      <td>NaN</td>\n",
       "      <td>1.500000</td>\n",
       "      <td>NaN</td>\n",
       "    </tr>\n",
       "    <tr>\n",
       "      <th>54</th>\n",
       "      <td>alg_pg_label_propagation</td>\n",
       "      <td>K_DoesAlgSupportWeightTest_uw1</td>\n",
       "      <td>K_DoesAlgSupportWeightTest_w1</td>\n",
       "      <td>1.500000</td>\n",
       "      <td>False</td>\n",
       "      <td>False</td>\n",
       "      <td>1.0</td>\n",
       "      <td>3.0</td>\n",
       "      <td>NaN</td>\n",
       "      <td>1.500000</td>\n",
       "      <td>NaN</td>\n",
       "      <td>1.000000</td>\n",
       "      <td>1.000000</td>\n",
       "    </tr>\n",
       "    <tr>\n",
       "      <th>55</th>\n",
       "      <td>scan_AnyScan_Scan</td>\n",
       "      <td>K_DoesAlgSupportWeightTest_uw1</td>\n",
       "      <td>K_DoesAlgSupportWeightTest_w1</td>\n",
       "      <td>1.000000</td>\n",
       "      <td>False</td>\n",
       "      <td>False</td>\n",
       "      <td>2.0</td>\n",
       "      <td>2.0</td>\n",
       "      <td>1.000000</td>\n",
       "      <td>0.761170</td>\n",
       "      <td>0.516012</td>\n",
       "      <td>0.761170</td>\n",
       "      <td>0.516012</td>\n",
       "    </tr>\n",
       "    <tr>\n",
       "      <th>56</th>\n",
       "      <td>scan_AnyScan_anyScan</td>\n",
       "      <td>K_DoesAlgSupportWeightTest_uw1</td>\n",
       "      <td>K_DoesAlgSupportWeightTest_w1</td>\n",
       "      <td>1.000000</td>\n",
       "      <td>False</td>\n",
       "      <td>False</td>\n",
       "      <td>2.0</td>\n",
       "      <td>2.0</td>\n",
       "      <td>1.000000</td>\n",
       "      <td>0.761170</td>\n",
       "      <td>0.516012</td>\n",
       "      <td>0.761170</td>\n",
       "      <td>0.516012</td>\n",
       "    </tr>\n",
       "    <tr>\n",
       "      <th>57</th>\n",
       "      <td>scan_AnyScan_anyScanParl</td>\n",
       "      <td>K_DoesAlgSupportWeightTest_uw1</td>\n",
       "      <td>K_DoesAlgSupportWeightTest_w1</td>\n",
       "      <td>1.000000</td>\n",
       "      <td>False</td>\n",
       "      <td>False</td>\n",
       "      <td>2.0</td>\n",
       "      <td>2.0</td>\n",
       "      <td>1.000000</td>\n",
       "      <td>0.761170</td>\n",
       "      <td>0.516012</td>\n",
       "      <td>0.761170</td>\n",
       "      <td>0.516012</td>\n",
       "    </tr>\n",
       "    <tr>\n",
       "      <th>58</th>\n",
       "      <td>scan_AnyScan_pScan</td>\n",
       "      <td>K_DoesAlgSupportWeightTest_uw1</td>\n",
       "      <td>K_DoesAlgSupportWeightTest_w1</td>\n",
       "      <td>1.000000</td>\n",
       "      <td>False</td>\n",
       "      <td>False</td>\n",
       "      <td>2.0</td>\n",
       "      <td>2.0</td>\n",
       "      <td>1.000000</td>\n",
       "      <td>0.761170</td>\n",
       "      <td>0.516012</td>\n",
       "      <td>0.761170</td>\n",
       "      <td>0.516012</td>\n",
       "    </tr>\n",
       "    <tr>\n",
       "      <th>59</th>\n",
       "      <td>scan_pScan</td>\n",
       "      <td>K_DoesAlgSupportWeightTest_uw1</td>\n",
       "      <td>K_DoesAlgSupportWeightTest_w1</td>\n",
       "      <td>1.000000</td>\n",
       "      <td>False</td>\n",
       "      <td>False</td>\n",
       "      <td>1.0</td>\n",
       "      <td>1.0</td>\n",
       "      <td>NaN</td>\n",
       "      <td>1.000000</td>\n",
       "      <td>NaN</td>\n",
       "      <td>1.000000</td>\n",
       "      <td>NaN</td>\n",
       "    </tr>\n",
       "    <tr>\n",
       "      <th>60</th>\n",
       "      <td>scan_ppScan</td>\n",
       "      <td>K_DoesAlgSupportWeightTest_uw1</td>\n",
       "      <td>K_DoesAlgSupportWeightTest_w1</td>\n",
       "      <td>1.000000</td>\n",
       "      <td>False</td>\n",
       "      <td>False</td>\n",
       "      <td>1.0</td>\n",
       "      <td>1.0</td>\n",
       "      <td>NaN</td>\n",
       "      <td>1.000000</td>\n",
       "      <td>NaN</td>\n",
       "      <td>1.000000</td>\n",
       "      <td>NaN</td>\n",
       "    </tr>\n",
       "    <tr>\n",
       "      <th>61</th>\n",
       "      <td>scan_ppScanSSE</td>\n",
       "      <td>K_DoesAlgSupportWeightTest_uw1</td>\n",
       "      <td>K_DoesAlgSupportWeightTest_w1</td>\n",
       "      <td>1.000000</td>\n",
       "      <td>False</td>\n",
       "      <td>False</td>\n",
       "      <td>1.0</td>\n",
       "      <td>1.0</td>\n",
       "      <td>NaN</td>\n",
       "      <td>1.000000</td>\n",
       "      <td>NaN</td>\n",
       "      <td>1.000000</td>\n",
       "      <td>NaN</td>\n",
       "    </tr>\n",
       "    <tr>\n",
       "      <th>62</th>\n",
       "      <td>sklearn_AffinityPropagation</td>\n",
       "      <td>K_DoesAlgSupportWeightTest_uw1</td>\n",
       "      <td>K_DoesAlgSupportWeightTest_w1</td>\n",
       "      <td>0.500000</td>\n",
       "      <td>False</td>\n",
       "      <td>False</td>\n",
       "      <td>2.0</td>\n",
       "      <td>1.0</td>\n",
       "      <td>NaN</td>\n",
       "      <td>0.761170</td>\n",
       "      <td>0.516012</td>\n",
       "      <td>1.500000</td>\n",
       "      <td>NaN</td>\n",
       "    </tr>\n",
       "    <tr>\n",
       "      <th>63</th>\n",
       "      <td>sklearn_SpectralClustering</td>\n",
       "      <td>K_DoesAlgSupportWeightTest_uw1</td>\n",
       "      <td>K_DoesAlgSupportWeightTest_w1</td>\n",
       "      <td>1.000000</td>\n",
       "      <td>False</td>\n",
       "      <td>False</td>\n",
       "      <td>8.0</td>\n",
       "      <td>8.0</td>\n",
       "      <td>1.000000</td>\n",
       "      <td>0.733276</td>\n",
       "      <td>0.428789</td>\n",
       "      <td>0.733276</td>\n",
       "      <td>0.428789</td>\n",
       "    </tr>\n",
       "    <tr>\n",
       "      <th>64</th>\n",
       "      <td>snap_Clauset_Newman_Moore</td>\n",
       "      <td>K_DoesAlgSupportWeightTest_uw1</td>\n",
       "      <td>K_DoesAlgSupportWeightTest_w1</td>\n",
       "      <td>1.000000</td>\n",
       "      <td>False</td>\n",
       "      <td>False</td>\n",
       "      <td>2.0</td>\n",
       "      <td>2.0</td>\n",
       "      <td>1.000000</td>\n",
       "      <td>0.761170</td>\n",
       "      <td>0.516012</td>\n",
       "      <td>0.761170</td>\n",
       "      <td>0.516012</td>\n",
       "    </tr>\n",
       "    <tr>\n",
       "      <th>65</th>\n",
       "      <td>snap_Girvan_Newman</td>\n",
       "      <td>K_DoesAlgSupportWeightTest_uw1</td>\n",
       "      <td>K_DoesAlgSupportWeightTest_w1</td>\n",
       "      <td>1.000000</td>\n",
       "      <td>False</td>\n",
       "      <td>False</td>\n",
       "      <td>2.0</td>\n",
       "      <td>2.0</td>\n",
       "      <td>1.000000</td>\n",
       "      <td>0.761170</td>\n",
       "      <td>0.516012</td>\n",
       "      <td>0.761170</td>\n",
       "      <td>0.516012</td>\n",
       "    </tr>\n",
       "    <tr>\n",
       "      <th>66</th>\n",
       "      <td>alg_Paris</td>\n",
       "      <td>K_DoesAlgSupportWeightTest_uw1</td>\n",
       "      <td>K_DoesAlgSupportWeightTest_w1</td>\n",
       "      <td>0.761170</td>\n",
       "      <td>False</td>\n",
       "      <td>False</td>\n",
       "      <td>2.0</td>\n",
       "      <td>3.0</td>\n",
       "      <td>0.516012</td>\n",
       "      <td>0.761170</td>\n",
       "      <td>0.516012</td>\n",
       "      <td>1.000000</td>\n",
       "      <td>1.000000</td>\n",
       "    </tr>\n",
       "    <tr>\n",
       "      <th>67</th>\n",
       "      <td>alg_lso_cluster</td>\n",
       "      <td>K_DoesAlgSupportWeightTest_uw1</td>\n",
       "      <td>K_DoesAlgSupportWeightTest_w1</td>\n",
       "      <td>0.761170</td>\n",
       "      <td>False</td>\n",
       "      <td>False</td>\n",
       "      <td>2.0</td>\n",
       "      <td>3.0</td>\n",
       "      <td>0.516012</td>\n",
       "      <td>0.761170</td>\n",
       "      <td>0.516012</td>\n",
       "      <td>1.000000</td>\n",
       "      <td>1.000000</td>\n",
       "    </tr>\n",
       "    <tr>\n",
       "      <th>68</th>\n",
       "      <td>alg_streamcom</td>\n",
       "      <td>K_DoesAlgSupportWeightTest_uw1</td>\n",
       "      <td>K_DoesAlgSupportWeightTest_w1</td>\n",
       "      <td>0.587779</td>\n",
       "      <td>False</td>\n",
       "      <td>False</td>\n",
       "      <td>4.0</td>\n",
       "      <td>5.0</td>\n",
       "      <td>0.318510</td>\n",
       "      <td>0.597230</td>\n",
       "      <td>0.341044</td>\n",
       "      <td>0.685305</td>\n",
       "      <td>0.431302</td>\n",
       "    </tr>\n",
       "    <tr>\n",
       "      <th>69</th>\n",
       "      <td>cdc_DEMON</td>\n",
       "      <td>None</td>\n",
       "      <td>None</td>\n",
       "      <td>NaN</td>\n",
       "      <td>None</td>\n",
       "      <td>None</td>\n",
       "      <td>NaN</td>\n",
       "      <td>NaN</td>\n",
       "      <td>NaN</td>\n",
       "      <td>NaN</td>\n",
       "      <td>NaN</td>\n",
       "      <td>NaN</td>\n",
       "      <td>NaN</td>\n",
       "    </tr>\n",
       "    <tr>\n",
       "      <th>70</th>\n",
       "      <td>cdc_HDEMON</td>\n",
       "      <td>None</td>\n",
       "      <td>None</td>\n",
       "      <td>NaN</td>\n",
       "      <td>None</td>\n",
       "      <td>None</td>\n",
       "      <td>NaN</td>\n",
       "      <td>NaN</td>\n",
       "      <td>NaN</td>\n",
       "      <td>NaN</td>\n",
       "      <td>NaN</td>\n",
       "      <td>NaN</td>\n",
       "      <td>NaN</td>\n",
       "    </tr>\n",
       "    <tr>\n",
       "      <th>71</th>\n",
       "      <td>scan_Scanpp</td>\n",
       "      <td>None</td>\n",
       "      <td>None</td>\n",
       "      <td>NaN</td>\n",
       "      <td>None</td>\n",
       "      <td>None</td>\n",
       "      <td>NaN</td>\n",
       "      <td>NaN</td>\n",
       "      <td>NaN</td>\n",
       "      <td>NaN</td>\n",
       "      <td>NaN</td>\n",
       "      <td>NaN</td>\n",
       "      <td>NaN</td>\n",
       "    </tr>\n",
       "  </tbody>\n",
       "</table>\n",
       "</div>"
      ],
      "text/plain": [
       "                                     alg                           data1  \\\n",
       "0                      oslom_Infohiermap  K_DoesAlgSupportWeightTest_uw1   \n",
       "1                          oslom_Infomap  K_DoesAlgSupportWeightTest_uw1   \n",
       "2                            oslom_OSLOM  K_DoesAlgSupportWeightTest_uw1   \n",
       "3                            oslom_copra  K_DoesAlgSupportWeightTest_uw1   \n",
       "4                   oslom_louvain_method  K_DoesAlgSupportWeightTest_uw1   \n",
       "5                              oslom_lpm  K_DoesAlgSupportWeightTest_uw1   \n",
       "6                           oslom_modopt  K_DoesAlgSupportWeightTest_uw1   \n",
       "7                        pycabem_GANXiSw  K_DoesAlgSupportWeightTest_uw1   \n",
       "8                         pycabem_HiReCS  K_DoesAlgSupportWeightTest_uw1   \n",
       "9                      pycabem_LabelRank  K_DoesAlgSupportWeightTest_uw1   \n",
       "10                             cdc_CONGA  K_DoesAlgSupportWeightTest_uw1   \n",
       "11                 cdc_CliquePercolation  K_DoesAlgSupportWeightTest_uw1   \n",
       "12          cdc_Connected_Iterative_Scan  K_DoesAlgSupportWeightTest_uw1   \n",
       "13                             cdc_EAGLE  K_DoesAlgSupportWeightTest_uw1   \n",
       "14                           cdc_FastCpm  K_DoesAlgSupportWeightTest_uw1   \n",
       "15                               cdc_GCE  K_DoesAlgSupportWeightTest_uw1   \n",
       "16                   cdc_LinkCommunities  K_DoesAlgSupportWeightTest_uw1   \n",
       "17                             cdc_MOSES  K_DoesAlgSupportWeightTest_uw1   \n",
       "18                          cdc_MSCD_AFG  K_DoesAlgSupportWeightTest_uw1   \n",
       "19                        cdc_MSCD_HSLSW  K_DoesAlgSupportWeightTest_uw1   \n",
       "20                          cdc_MSCD_LFK  K_DoesAlgSupportWeightTest_uw1   \n",
       "21                         cdc_MSCD_LFK2  K_DoesAlgSupportWeightTest_uw1   \n",
       "22                           cdc_MSCD_RB  K_DoesAlgSupportWeightTest_uw1   \n",
       "23                           cdc_MSCD_RN  K_DoesAlgSupportWeightTest_uw1   \n",
       "24                           cdc_MSCD_SO  K_DoesAlgSupportWeightTest_uw1   \n",
       "25                          cdc_MSCD_SOM  K_DoesAlgSupportWeightTest_uw1   \n",
       "26                            cdc_ParCPM  K_DoesAlgSupportWeightTest_uw1   \n",
       "27                            cdc_SVINET  K_DoesAlgSupportWeightTest_uw1   \n",
       "28                             cdc_TopGC  K_DoesAlgSupportWeightTest_uw1   \n",
       "29                 cdc_clique_modularity  K_DoesAlgSupportWeightTest_uw1   \n",
       "30                             cgcc_CGGC  K_DoesAlgSupportWeightTest_uw1   \n",
       "31                             dct_dlplm  K_DoesAlgSupportWeightTest_uw1   \n",
       "32                             dct_dlslm  K_DoesAlgSupportWeightTest_uw1   \n",
       "33                      dct_dlslm_map_eq  K_DoesAlgSupportWeightTest_uw1   \n",
       "34              dct_dlslm_no_contraction  K_DoesAlgSupportWeightTest_uw1   \n",
       "35                    dct_dlslm_with_seq  K_DoesAlgSupportWeightTest_uw1   \n",
       "36                           dct_infomap  K_DoesAlgSupportWeightTest_uw1   \n",
       "37                       dct_seq_louvain  K_DoesAlgSupportWeightTest_uw1   \n",
       "38     igraph_community_edge_betweenness  K_DoesAlgSupportWeightTest_uw1   \n",
       "39           igraph_community_fastgreedy  K_DoesAlgSupportWeightTest_uw1   \n",
       "40              igraph_community_infomap  K_DoesAlgSupportWeightTest_uw1   \n",
       "41    igraph_community_label_propagation  K_DoesAlgSupportWeightTest_uw1   \n",
       "42  igraph_community_leading_eigenvector  K_DoesAlgSupportWeightTest_uw1   \n",
       "43           igraph_community_multilevel  K_DoesAlgSupportWeightTest_uw1   \n",
       "44   igraph_community_optimal_modularity  K_DoesAlgSupportWeightTest_uw1   \n",
       "45            igraph_community_spinglass  K_DoesAlgSupportWeightTest_uw1   \n",
       "46             igraph_community_walktrap  K_DoesAlgSupportWeightTest_uw1   \n",
       "47                               mcl_MCL  K_DoesAlgSupportWeightTest_uw1   \n",
       "48               networkit_CutClustering  K_DoesAlgSupportWeightTest_uw1   \n",
       "49             networkit_LPDegreeOrdered  K_DoesAlgSupportWeightTest_uw1   \n",
       "50                         networkit_PLM  K_DoesAlgSupportWeightTest_uw1   \n",
       "51                         networkit_PLP  K_DoesAlgSupportWeightTest_uw1   \n",
       "52                         alg_GossipMap  K_DoesAlgSupportWeightTest_uw1   \n",
       "53                          alg_RelaxMap  K_DoesAlgSupportWeightTest_uw1   \n",
       "54              alg_pg_label_propagation  K_DoesAlgSupportWeightTest_uw1   \n",
       "55                     scan_AnyScan_Scan  K_DoesAlgSupportWeightTest_uw1   \n",
       "56                  scan_AnyScan_anyScan  K_DoesAlgSupportWeightTest_uw1   \n",
       "57              scan_AnyScan_anyScanParl  K_DoesAlgSupportWeightTest_uw1   \n",
       "58                    scan_AnyScan_pScan  K_DoesAlgSupportWeightTest_uw1   \n",
       "59                            scan_pScan  K_DoesAlgSupportWeightTest_uw1   \n",
       "60                           scan_ppScan  K_DoesAlgSupportWeightTest_uw1   \n",
       "61                        scan_ppScanSSE  K_DoesAlgSupportWeightTest_uw1   \n",
       "62           sklearn_AffinityPropagation  K_DoesAlgSupportWeightTest_uw1   \n",
       "63            sklearn_SpectralClustering  K_DoesAlgSupportWeightTest_uw1   \n",
       "64             snap_Clauset_Newman_Moore  K_DoesAlgSupportWeightTest_uw1   \n",
       "65                    snap_Girvan_Newman  K_DoesAlgSupportWeightTest_uw1   \n",
       "66                             alg_Paris  K_DoesAlgSupportWeightTest_uw1   \n",
       "67                       alg_lso_cluster  K_DoesAlgSupportWeightTest_uw1   \n",
       "68                         alg_streamcom  K_DoesAlgSupportWeightTest_uw1   \n",
       "69                             cdc_DEMON                            None   \n",
       "70                            cdc_HDEMON                            None   \n",
       "71                           scan_Scanpp                            None   \n",
       "\n",
       "                            data2    nmi_12   ovp1   ovp2  #c1  #c2  \\\n",
       "0   K_DoesAlgSupportWeightTest_w1  0.761170  False  False  2.0  3.0   \n",
       "1   K_DoesAlgSupportWeightTest_w1  1.000000  False  False  1.0  1.0   \n",
       "2   K_DoesAlgSupportWeightTest_w1  1.000000  False  False  2.0  2.0   \n",
       "3   K_DoesAlgSupportWeightTest_w1  0.545828   True  False  3.0  3.0   \n",
       "4   K_DoesAlgSupportWeightTest_w1  0.761170  False  False  2.0  3.0   \n",
       "5   K_DoesAlgSupportWeightTest_w1  0.761170  False  False  2.0  3.0   \n",
       "6   K_DoesAlgSupportWeightTest_w1  0.761170  False  False  2.0  3.0   \n",
       "7   K_DoesAlgSupportWeightTest_w1  0.761170  False  False  2.0  3.0   \n",
       "8   K_DoesAlgSupportWeightTest_w1  0.761170  False  False  2.0  3.0   \n",
       "9   K_DoesAlgSupportWeightTest_w1  1.000000  False  False  3.0  3.0   \n",
       "10  K_DoesAlgSupportWeightTest_w1  0.789613  False  False  5.0  5.0   \n",
       "11  K_DoesAlgSupportWeightTest_w1  1.000000  False  False  2.0  2.0   \n",
       "12  K_DoesAlgSupportWeightTest_w1  0.774597  False   True  2.0  3.0   \n",
       "13  K_DoesAlgSupportWeightTest_w1  1.000000  False  False  2.0  2.0   \n",
       "14  K_DoesAlgSupportWeightTest_w1  1.000000  False  False  1.0  1.0   \n",
       "15  K_DoesAlgSupportWeightTest_w1  1.000000  False  False  1.0  1.0   \n",
       "16  K_DoesAlgSupportWeightTest_w1  0.500000  False   True  1.0  6.0   \n",
       "17  K_DoesAlgSupportWeightTest_w1  1.000000  False  False  1.0  1.0   \n",
       "18  K_DoesAlgSupportWeightTest_w1  0.761170  False  False  2.0  3.0   \n",
       "19  K_DoesAlgSupportWeightTest_w1  0.761170  False  False  2.0  3.0   \n",
       "20  K_DoesAlgSupportWeightTest_w1  0.761170  False  False  2.0  3.0   \n",
       "21  K_DoesAlgSupportWeightTest_w1  1.000000  False  False  2.0  2.0   \n",
       "22  K_DoesAlgSupportWeightTest_w1  0.761170  False  False  2.0  3.0   \n",
       "23  K_DoesAlgSupportWeightTest_w1  1.000000  False  False  2.0  2.0   \n",
       "24  K_DoesAlgSupportWeightTest_w1  0.761170  False  False  2.0  3.0   \n",
       "25  K_DoesAlgSupportWeightTest_w1  0.761170  False  False  2.0  3.0   \n",
       "26  K_DoesAlgSupportWeightTest_w1  1.000000  False  False  2.0  2.0   \n",
       "27  K_DoesAlgSupportWeightTest_w1  0.518709   True   True  3.0  3.0   \n",
       "28  K_DoesAlgSupportWeightTest_w1  1.000000  False  False  1.0  0.0   \n",
       "29  K_DoesAlgSupportWeightTest_w1  1.000000  False  False  2.0  2.0   \n",
       "30  K_DoesAlgSupportWeightTest_w1  1.000000  False  False  1.0  1.0   \n",
       "31  K_DoesAlgSupportWeightTest_w1  1.000000  False  False  2.0  2.0   \n",
       "32  K_DoesAlgSupportWeightTest_w1  1.000000  False  False  2.0  2.0   \n",
       "33  K_DoesAlgSupportWeightTest_w1  1.000000  False  False  3.0  3.0   \n",
       "34  K_DoesAlgSupportWeightTest_w1  1.000000  False  False  3.0  3.0   \n",
       "35  K_DoesAlgSupportWeightTest_w1  1.000000  False  False  2.0  2.0   \n",
       "36  K_DoesAlgSupportWeightTest_w1  1.000000  False  False  2.0  2.0   \n",
       "37  K_DoesAlgSupportWeightTest_w1  1.000000  False  False  2.0  2.0   \n",
       "38  K_DoesAlgSupportWeightTest_w1  0.761170  False  False  2.0  3.0   \n",
       "39  K_DoesAlgSupportWeightTest_w1  0.761170  False  False  2.0  3.0   \n",
       "40  K_DoesAlgSupportWeightTest_w1  0.761170  False  False  2.0  3.0   \n",
       "41  K_DoesAlgSupportWeightTest_w1  0.761170  False  False  2.0  3.0   \n",
       "42  K_DoesAlgSupportWeightTest_w1  0.761170  False  False  2.0  3.0   \n",
       "43  K_DoesAlgSupportWeightTest_w1  0.761170  False  False  2.0  3.0   \n",
       "44  K_DoesAlgSupportWeightTest_w1  0.761170  False  False  2.0  3.0   \n",
       "45  K_DoesAlgSupportWeightTest_w1  0.761170  False  False  2.0  3.0   \n",
       "46  K_DoesAlgSupportWeightTest_w1  0.761170  False  False  2.0  3.0   \n",
       "47  K_DoesAlgSupportWeightTest_w1  0.761170  False  False  2.0  3.0   \n",
       "48  K_DoesAlgSupportWeightTest_w1  1.500000  False  False  1.0  3.0   \n",
       "49  K_DoesAlgSupportWeightTest_w1  1.000000  False  False  1.0  1.0   \n",
       "50  K_DoesAlgSupportWeightTest_w1  0.761170  False  False  2.0  3.0   \n",
       "51  K_DoesAlgSupportWeightTest_w1  1.500000  False  False  1.0  3.0   \n",
       "52  K_DoesAlgSupportWeightTest_w1  1.000000  False  False  1.0  1.0   \n",
       "53  K_DoesAlgSupportWeightTest_w1  1.000000  False  False  1.0  1.0   \n",
       "54  K_DoesAlgSupportWeightTest_w1  1.500000  False  False  1.0  3.0   \n",
       "55  K_DoesAlgSupportWeightTest_w1  1.000000  False  False  2.0  2.0   \n",
       "56  K_DoesAlgSupportWeightTest_w1  1.000000  False  False  2.0  2.0   \n",
       "57  K_DoesAlgSupportWeightTest_w1  1.000000  False  False  2.0  2.0   \n",
       "58  K_DoesAlgSupportWeightTest_w1  1.000000  False  False  2.0  2.0   \n",
       "59  K_DoesAlgSupportWeightTest_w1  1.000000  False  False  1.0  1.0   \n",
       "60  K_DoesAlgSupportWeightTest_w1  1.000000  False  False  1.0  1.0   \n",
       "61  K_DoesAlgSupportWeightTest_w1  1.000000  False  False  1.0  1.0   \n",
       "62  K_DoesAlgSupportWeightTest_w1  0.500000  False  False  2.0  1.0   \n",
       "63  K_DoesAlgSupportWeightTest_w1  1.000000  False  False  8.0  8.0   \n",
       "64  K_DoesAlgSupportWeightTest_w1  1.000000  False  False  2.0  2.0   \n",
       "65  K_DoesAlgSupportWeightTest_w1  1.000000  False  False  2.0  2.0   \n",
       "66  K_DoesAlgSupportWeightTest_w1  0.761170  False  False  2.0  3.0   \n",
       "67  K_DoesAlgSupportWeightTest_w1  0.761170  False  False  2.0  3.0   \n",
       "68  K_DoesAlgSupportWeightTest_w1  0.587779  False  False  4.0  5.0   \n",
       "69                           None       NaN   None   None  NaN  NaN   \n",
       "70                           None       NaN   None   None  NaN  NaN   \n",
       "71                           None       NaN   None   None  NaN  NaN   \n",
       "\n",
       "    ovpnmi_12    nmi_t1  ovpnmi_t1    nmi_t2  ovpnmi_t2  \n",
       "0    0.516012  0.761170   0.516012  1.000000   1.000000  \n",
       "1         NaN  1.500000        NaN  1.500000        NaN  \n",
       "2    1.000000  0.761170   0.516012  0.761170   0.516012  \n",
       "3    0.450049  0.439462   0.450049  1.000000   1.000000  \n",
       "4    0.516012  0.761170   0.516012  1.000000   1.000000  \n",
       "5    0.516012  0.761170   0.516012  1.000000   1.000000  \n",
       "6    0.516012  0.761170   0.516012  1.000000   1.000000  \n",
       "7    0.516012  0.761170   0.516012  1.000000   1.000000  \n",
       "8    0.516012  0.414873   0.181069  0.558873   0.217444  \n",
       "9    1.000000  0.714336   0.542430  0.714336   0.542430  \n",
       "10   0.623307  0.605701   0.388640  0.866025   0.725584  \n",
       "11   1.000000  0.761170   0.516012  0.761170   0.516012  \n",
       "12   0.758006  0.761170   0.516012  0.761170   0.758006  \n",
       "13   1.000000  0.761170   0.516012  0.761170   0.516012  \n",
       "14        NaN  1.000000        NaN  1.000000        NaN  \n",
       "15        NaN  1.000000        NaN  1.000000        NaN  \n",
       "16        NaN  1.500000        NaN  0.404301   0.377767  \n",
       "17        NaN  1.000000        NaN  1.000000        NaN  \n",
       "18   0.516012  0.414873   0.181069  0.558873   0.217444  \n",
       "19   0.516012  0.414873   0.181069  0.558873   0.217444  \n",
       "20   0.516012  0.414873   0.181069  0.558873   0.217444  \n",
       "21   0.637009  0.414873   0.181069  0.798733   0.144963  \n",
       "22   0.516012  0.414873   0.181069  0.558873   0.217444  \n",
       "23   1.000000  0.414873   0.181069  0.414873   0.181069  \n",
       "24   0.516012  0.414873   0.181069  0.558873   0.217444  \n",
       "25   0.516012  0.414873   0.181069  0.558873   0.217444  \n",
       "26   1.000000  0.761170   0.516012  0.761170   0.516012  \n",
       "27   1.000000  0.393067   0.358995  0.393067   0.358995  \n",
       "28        NaN -0.500000        NaN  1.000000        NaN  \n",
       "29   1.000000  0.761170   0.516012  0.761170   0.516012  \n",
       "30        NaN  1.500000        NaN  1.500000        NaN  \n",
       "31   1.000000  0.761170   0.516012  0.761170   0.516012  \n",
       "32   1.000000  0.761170   0.516012  0.761170   0.516012  \n",
       "33   1.000000  0.659193   0.348967  0.659193   0.348967  \n",
       "34   1.000000  0.659193   0.348967  0.659193   0.348967  \n",
       "35   1.000000  0.761170   0.516012  0.761170   0.516012  \n",
       "36   1.000000  0.761170   0.516012  0.761170   0.516012  \n",
       "37   1.000000  0.761170   0.516012  0.761170   0.516012  \n",
       "38   0.516012  0.761170   0.516012  1.000000   1.000000  \n",
       "39   0.516012  0.761170   0.516012  1.000000   1.000000  \n",
       "40   0.516012  0.761170   0.516012  1.000000   1.000000  \n",
       "41   0.516012  0.761170   0.516012  1.000000   1.000000  \n",
       "42   0.516012  0.761170   0.516012  1.000000   1.000000  \n",
       "43   0.516012  0.761170   0.516012  1.000000   1.000000  \n",
       "44   0.516012  0.761170   0.516012  1.000000   1.000000  \n",
       "45   0.516012  0.761170   0.516012  1.000000   1.000000  \n",
       "46   0.516012  0.761170   0.516012  1.000000   1.000000  \n",
       "47   0.516012  0.761170   0.516012  1.000000   1.000000  \n",
       "48        NaN  1.500000        NaN  1.000000   1.000000  \n",
       "49        NaN  1.500000        NaN  1.500000        NaN  \n",
       "50   0.516012  0.761170   0.516012  1.000000   1.000000  \n",
       "51        NaN  1.500000        NaN  1.000000   1.000000  \n",
       "52        NaN  1.500000        NaN  1.500000        NaN  \n",
       "53        NaN  1.500000        NaN  1.500000        NaN  \n",
       "54        NaN  1.500000        NaN  1.000000   1.000000  \n",
       "55   1.000000  0.761170   0.516012  0.761170   0.516012  \n",
       "56   1.000000  0.761170   0.516012  0.761170   0.516012  \n",
       "57   1.000000  0.761170   0.516012  0.761170   0.516012  \n",
       "58   1.000000  0.761170   0.516012  0.761170   0.516012  \n",
       "59        NaN  1.000000        NaN  1.000000        NaN  \n",
       "60        NaN  1.000000        NaN  1.000000        NaN  \n",
       "61        NaN  1.000000        NaN  1.000000        NaN  \n",
       "62        NaN  0.761170   0.516012  1.500000        NaN  \n",
       "63   1.000000  0.733276   0.428789  0.733276   0.428789  \n",
       "64   1.000000  0.761170   0.516012  0.761170   0.516012  \n",
       "65   1.000000  0.761170   0.516012  0.761170   0.516012  \n",
       "66   0.516012  0.761170   0.516012  1.000000   1.000000  \n",
       "67   0.516012  0.761170   0.516012  1.000000   1.000000  \n",
       "68   0.318510  0.597230   0.341044  0.685305   0.431302  \n",
       "69        NaN       NaN        NaN       NaN        NaN  \n",
       "70        NaN       NaN        NaN       NaN        NaN  \n",
       "71        NaN       NaN        NaN       NaN        NaN  "
      ]
     },
     "metadata": {},
     "output_type": "display_data"
    }
   ],
   "source": [
    "rdf = pd.DataFrame(lst, columns=columns)\n",
    "for alg in  gct.list_algorithms():\n",
    "    if alg not in rdf['alg'].values:\n",
    "        lst.append([alg] + [None] * (len(columns) - 1))\n",
    "rdf = pd.DataFrame(lst, columns=columns)    \n",
    "with pd.option_context('display.max_rows', 2000, 'display.max_columns', 200):\n",
    "    display (rdf)\n"
   ]
  },
  {
   "cell_type": "code",
   "execution_count": 33,
   "metadata": {},
   "outputs": [
    {
     "name": "stderr",
     "output_type": "stream",
     "text": [
      "2020-04-22 21:48:14,819 - cdc_HDEMON - INFO - seed ignored\n",
      "INFO:cdc_HDEMON:seed ignored\n",
      "2020-04-22 21:48:14,820 - cdc_HDEMON - INFO - Running python /opt/gct/submodules/CommunityDetectionCodes/Algorithms/2012-DEMON/HDemon.py edges.txt w ud 0.25 5\n",
      "INFO:cdc_HDEMON:Running python /opt/gct/submodules/CommunityDetectionCodes/Algorithms/2012-DEMON/HDemon.py edges.txt w ud 0.25 5\n"
     ]
    },
    {
     "name": "stdout",
     "output_type": "stream",
     "text": [
      "runing  cdc_HDEMON K_DoesAlgSupportWeightTest_w1\n",
      "except cdc_HDEMON K_DoesAlgSupportWeightTest_w1\n"
     ]
    },
    {
     "data": {
      "text/plain": [
       "True"
      ]
     },
     "execution_count": 33,
     "metadata": {},
     "output_type": "execute_result"
    }
   ],
   "source": [
    "run_alg(\"cdc_HDEMON\", \"K_DoesAlgSupportWeightTest_w1\", check_skip=False)"
   ]
  },
  {
   "cell_type": "code",
   "execution_count": null,
   "metadata": {},
   "outputs": [],
   "source": []
  }
 ],
 "metadata": {
  "kernelspec": {
   "display_name": "Python [conda env:python3]",
   "language": "python",
   "name": "conda-env-python3-py"
  },
  "language_info": {
   "codemirror_mode": {
    "name": "ipython",
    "version": 3
   },
   "file_extension": ".py",
   "mimetype": "text/x-python",
   "name": "python",
   "nbconvert_exporter": "python",
   "pygments_lexer": "ipython3",
   "version": "3.6.7"
  }
 },
 "nbformat": 4,
 "nbformat_minor": 2
}
