{
 "cells": [
  {
   "cell_type": "code",
   "execution_count": 1,
   "metadata": {},
   "outputs": [
    {
     "data": {
      "text/html": [
       "\n",
       "\t\t\t<script type=\"text/javascript\">\n",
       "\t\t\t<!--\n",
       "\t\t\t\t\n",
       "\t\t\t{\n",
       "\t\t\t\tvar element = document.getElementById('NetworKit_script');\n",
       "\t\t\t\tif (element) {\n",
       "\t\t\t\t\telement.parentNode.removeChild(element);\n",
       "\t\t\t\t}\n",
       "\t\t\t\telement = document.createElement('script');\n",
       "\t\t\t\telement.type = 'text/javascript';\n",
       "\t\t\t\telement.innerHTML = 'function NetworKit_pageEmbed(id) { var i, j; var elements; elements = document.getElementById(id).getElementsByClassName(\"Plot\"); for (i=0; i<elements.length; i++) { elements[i].id = id + \"_Plot_\" + i; var data = elements[i].getAttribute(\"data-image\").split(\"|\"); elements[i].removeAttribute(\"data-image\"); var content = \"<div class=\\\\\"Image\\\\\" id=\\\\\"\" + elements[i].id + \"_Image\\\\\" />\"; elements[i].innerHTML = content; elements[i].setAttribute(\"data-image-index\", 0); elements[i].setAttribute(\"data-image-length\", data.length); for (j=0; j<data.length; j++) { elements[i].setAttribute(\"data-image-\" + j, data[j]); } NetworKit_plotUpdate(elements[i]); elements[i].onclick = function (e) { NetworKit_overlayShow((e.target) ? e.target : e.srcElement); } } elements = document.getElementById(id).getElementsByClassName(\"HeatCell\"); for (i=0; i<elements.length; i++) { var data = parseFloat(elements[i].getAttribute(\"data-heat\")); var color = \"#00FF00\"; if (data <= 1 && data > 0) { color = \"hsla(0, 100%, 75%, \" + (data) + \")\"; } else if (data <= 0 && data >= -1) { color = \"hsla(240, 100%, 75%, \" + (-data) + \")\"; } elements[i].style.backgroundColor = color; } elements = document.getElementById(id).getElementsByClassName(\"Details\"); for (i=0; i<elements.length; i++) { elements[i].setAttribute(\"data-title\", \"-\"); NetworKit_toggleDetails(elements[i]); elements[i].onclick = function (e) { NetworKit_toggleDetails((e.target) ? e.target : e.srcElement); } } elements = document.getElementById(id).getElementsByClassName(\"MathValue\"); for (i=elements.length-1; i>=0; i--) { value = elements[i].innerHTML.trim(); if (value === \"nan\") { elements[i].parentNode.innerHTML = \"\" } } elements = document.getElementById(id).getElementsByClassName(\"SubCategory\"); for (i=elements.length-1; i>=0; i--) { value = elements[i].innerHTML.trim(); if (value === \"\") { elements[i].parentNode.removeChild(elements[i]) } } elements = document.getElementById(id).getElementsByClassName(\"Category\"); for (i=elements.length-1; i>=0; i--) { value = elements[i].innerHTML.trim(); if (value === \"\") { elements[i].parentNode.removeChild(elements[i]) } } var isFirefox = false; try { isFirefox = typeof InstallTrigger !== \"undefined\"; } catch (e) {} if (!isFirefox) { alert(\"Currently the function\\'s output is only fully supported by Firefox.\"); } } function NetworKit_plotUpdate(source) { var index = source.getAttribute(\"data-image-index\"); var data = source.getAttribute(\"data-image-\" + index); var image = document.getElementById(source.id + \"_Image\"); image.style.backgroundImage = \"url(\" + data + \")\"; } function NetworKit_showElement(id, show) { var element = document.getElementById(id); element.style.display = (show) ? \"block\" : \"none\"; } function NetworKit_overlayShow(source) { NetworKit_overlayUpdate(source); NetworKit_showElement(\"NetworKit_Overlay\", true); } function NetworKit_overlayUpdate(source) { document.getElementById(\"NetworKit_Overlay_Title\").innerHTML = source.title; var index = source.getAttribute(\"data-image-index\"); var data = source.getAttribute(\"data-image-\" + index); var image = document.getElementById(\"NetworKit_Overlay_Image\"); image.setAttribute(\"data-id\", source.id); image.style.backgroundImage = \"url(\" + data + \")\"; var link = document.getElementById(\"NetworKit_Overlay_Toolbar_Bottom_Save\"); link.href = data; link.download = source.title + \".svg\"; } function NetworKit_overlayImageShift(delta) { var image = document.getElementById(\"NetworKit_Overlay_Image\"); var source = document.getElementById(image.getAttribute(\"data-id\")); var index = parseInt(source.getAttribute(\"data-image-index\")); var length = parseInt(source.getAttribute(\"data-image-length\")); var index = (index+delta) % length; if (index < 0) { index = length + index; } source.setAttribute(\"data-image-index\", index); NetworKit_overlayUpdate(source); } function NetworKit_toggleDetails(source) { var childs = source.children; var show = false; if (source.getAttribute(\"data-title\") == \"-\") { source.setAttribute(\"data-title\", \"+\"); show = false; } else { source.setAttribute(\"data-title\", \"-\"); show = true; } for (i=0; i<childs.length; i++) { if (show) { childs[i].style.display = \"block\"; } else { childs[i].style.display = \"none\"; } } }';\n",
       "\t\t\t\telement.setAttribute('id', 'NetworKit_script');\n",
       "\t\t\t\tdocument.head.appendChild(element);\n",
       "\t\t\t}\n",
       "\t\t\n",
       "\t\t\t\t\n",
       "\t\t\t{\n",
       "\t\t\t\tvar element = document.getElementById('NetworKit_style');\n",
       "\t\t\t\tif (element) {\n",
       "\t\t\t\t\telement.parentNode.removeChild(element);\n",
       "\t\t\t\t}\n",
       "\t\t\t\telement = document.createElement('style');\n",
       "\t\t\t\telement.type = 'text/css';\n",
       "\t\t\t\telement.innerHTML = '.NetworKit_Page { font-family: Arial, Helvetica, sans-serif; font-size: 14px; } .NetworKit_Page .Value:before { font-family: Arial, Helvetica, sans-serif; font-size: 1.05em; content: attr(data-title) \":\"; margin-left: -2.5em; padding-right: 0.5em; } .NetworKit_Page .Details .Value:before { display: block; } .NetworKit_Page .Value { font-family: monospace; white-space: pre; padding-left: 2.5em; white-space: -moz-pre-wrap !important; white-space: -pre-wrap; white-space: -o-pre-wrap; white-space: pre-wrap; word-wrap: break-word; tab-size: 4; -moz-tab-size: 4; } .NetworKit_Page .Category { clear: both; padding-left: 1em; margin-bottom: 1.5em; } .NetworKit_Page .Category:before { content: attr(data-title); font-size: 1.75em; display: block; margin-left: -0.8em; margin-bottom: 0.5em; } .NetworKit_Page .SubCategory { margin-bottom: 1.5em; padding-left: 1em; } .NetworKit_Page .SubCategory:before { font-size: 1.6em; display: block; margin-left: -0.8em; margin-bottom: 0.5em; } .NetworKit_Page .SubCategory[data-title]:before { content: attr(data-title); } .NetworKit_Page .Block { display: block; } .NetworKit_Page .Block:after { content: \".\"; visibility: hidden; display: block; height: 0; clear: both; } .NetworKit_Page .Block .Thumbnail_Overview, .NetworKit_Page .Block .Thumbnail_ScatterPlot { width: 260px; float: left; } .NetworKit_Page .Block .Thumbnail_Overview img, .NetworKit_Page .Block .Thumbnail_ScatterPlot img { width: 260px; } .NetworKit_Page .Block .Thumbnail_Overview:before, .NetworKit_Page .Block .Thumbnail_ScatterPlot:before { display: block; text-align: center; font-weight: bold; } .NetworKit_Page .Block .Thumbnail_Overview:before { content: attr(data-title); } .NetworKit_Page .HeatCell { font-family: \"Courier New\", Courier, monospace; cursor: pointer; } .NetworKit_Page .HeatCell, .NetworKit_Page .HeatCellName { display: inline; padding: 0.1em; margin-right: 2px; background-color: #FFFFFF } .NetworKit_Page .HeatCellName { margin-left: 0.25em; } .NetworKit_Page .HeatCell:before { content: attr(data-heat); display: inline-block; color: #000000; width: 4em; text-align: center; } .NetworKit_Page .Measure { clear: both; } .NetworKit_Page .Measure .Details { cursor: pointer; } .NetworKit_Page .Measure .Details:before { content: \"[\" attr(data-title) \"]\"; display: block; } .NetworKit_Page .Measure .Details .Value { border-left: 1px dotted black; margin-left: 0.4em; padding-left: 3.5em; pointer-events: none; } .NetworKit_Page .Measure .Details .Spacer:before { content: \".\"; opacity: 0.0; pointer-events: none; } .NetworKit_Page .Measure .Plot { width: 440px; height: 440px; cursor: pointer; float: left; margin-left: -0.9em; margin-right: 20px; } .NetworKit_Page .Measure .Plot .Image { background-repeat: no-repeat; background-position: center center; background-size: contain; height: 100%; pointer-events: none; } .NetworKit_Page .Measure .Stat { width: 500px; float: left; } .NetworKit_Page .Measure .Stat .Group { padding-left: 1.25em; margin-bottom: 0.75em; } .NetworKit_Page .Measure .Stat .Group .Title { font-size: 1.1em; display: block; margin-bottom: 0.3em; margin-left: -0.75em; border-right-style: dotted; border-right-width: 1px; border-bottom-style: dotted; border-bottom-width: 1px; background-color: #D0D0D0; padding-left: 0.2em; } .NetworKit_Page .Measure .Stat .Group .List { -webkit-column-count: 3; -moz-column-count: 3; column-count: 3; } .NetworKit_Page .Measure .Stat .Group .List .Entry { position: relative; line-height: 1.75em; } .NetworKit_Page .Measure .Stat .Group .List .Entry[data-tooltip]:before { position: absolute; left: 0; top: -40px; background-color: #808080; color: #ffffff; height: 30px; line-height: 30px; border-radius: 5px; padding: 0 15px; content: attr(data-tooltip); white-space: nowrap; display: none; } .NetworKit_Page .Measure .Stat .Group .List .Entry[data-tooltip]:after { position: absolute; left: 15px; top: -10px; border-top: 7px solid #808080; border-left: 7px solid transparent; border-right: 7px solid transparent; content: \"\"; display: none; } .NetworKit_Page .Measure .Stat .Group .List .Entry[data-tooltip]:hover:after, .NetworKit_Page .Measure .Stat .Group .List .Entry[data-tooltip]:hover:before { display: block; } .NetworKit_Page .Measure .Stat .Group .List .Entry .MathValue { font-family: \"Courier New\", Courier, monospace; } .NetworKit_Page .Measure:after { content: \".\"; visibility: hidden; display: block; height: 0; clear: both; } .NetworKit_Page .PartitionPie { clear: both; } .NetworKit_Page .PartitionPie img { width: 600px; } #NetworKit_Overlay { left: 0px; top: 0px; display: none; position: absolute; width: 100%; height: 100%; background-color: rgba(0,0,0,0.6); z-index: 1000; } #NetworKit_Overlay_Title { position: absolute; color: white; transform: rotate(-90deg); width: 32em; height: 32em; padding-right: 0.5em; padding-top: 0.5em; text-align: right; font-size: 40px; } #NetworKit_Overlay .button { background: white; cursor: pointer; } #NetworKit_Overlay .button:before { size: 13px; display: inline-block; text-align: center; margin-top: 0.5em; margin-bottom: 0.5em; width: 1.5em; height: 1.5em; } #NetworKit_Overlay .icon-close:before { content: \"X\"; } #NetworKit_Overlay .icon-previous:before { content: \"P\"; } #NetworKit_Overlay .icon-next:before { content: \"N\"; } #NetworKit_Overlay .icon-save:before { content: \"S\"; } #NetworKit_Overlay_Toolbar_Top, #NetworKit_Overlay_Toolbar_Bottom { position: absolute; width: 40px; right: 13px; text-align: right; z-index: 1100; } #NetworKit_Overlay_Toolbar_Top { top: 0.5em; } #NetworKit_Overlay_Toolbar_Bottom { Bottom: 0.5em; } #NetworKit_Overlay_ImageContainer { position: absolute; top: 5%; left: 5%; height: 90%; width: 90%; background-repeat: no-repeat; background-position: center center; background-size: contain; } #NetworKit_Overlay_Image { height: 100%; width: 100%; background-repeat: no-repeat; background-position: center center; background-size: contain; }';\n",
       "\t\t\t\telement.setAttribute('id', 'NetworKit_style');\n",
       "\t\t\t\tdocument.head.appendChild(element);\n",
       "\t\t\t}\n",
       "\t\t\n",
       "\t\t\t\t\n",
       "\t\t\t{\n",
       "\t\t\t\tvar element = document.getElementById('NetworKit_Overlay');\n",
       "\t\t\t\tif (element) {\n",
       "\t\t\t\t\telement.parentNode.removeChild(element);\n",
       "\t\t\t\t}\n",
       "\t\t\t\telement = document.createElement('div');\n",
       "\t\t\t\telement.innerHTML = '<div id=\"NetworKit_Overlay_Toolbar_Top\"><div class=\"button icon-close\" id=\"NetworKit_Overlay_Close\" /></div><div id=\"NetworKit_Overlay_Title\" /> <div id=\"NetworKit_Overlay_ImageContainer\"> <div id=\"NetworKit_Overlay_Image\" /> </div> <div id=\"NetworKit_Overlay_Toolbar_Bottom\"> <div class=\"button icon-previous\" onclick=\"NetworKit_overlayImageShift(-1)\" /> <div class=\"button icon-next\" onclick=\"NetworKit_overlayImageShift(1)\" /> <a id=\"NetworKit_Overlay_Toolbar_Bottom_Save\"><div class=\"button icon-save\" /></a> </div>';\n",
       "\t\t\t\telement.setAttribute('id', 'NetworKit_Overlay');\n",
       "\t\t\t\tdocument.body.appendChild(element);\n",
       "\t\t\t\tdocument.getElementById('NetworKit_Overlay_Close').onclick = function (e) {\n",
       "\t\t\t\t\tdocument.getElementById('NetworKit_Overlay').style.display = 'none';\n",
       "\t\t\t\t}\n",
       "\t\t\t}\n",
       "\t\t\n",
       "\t\t\t-->\n",
       "\t\t\t</script>\n",
       "\t\t"
      ]
     },
     "metadata": {},
     "output_type": "display_data"
    },
    {
     "name": "stderr",
     "output_type": "stream",
     "text": [
      "WARNING:smart_open.transport:unable to import 'smart_open.gcs', disabling that module\n"
     ]
    }
   ],
   "source": [
    "import gct"
   ]
  },
  {
   "cell_type": "code",
   "execution_count": 2,
   "metadata": {},
   "outputs": [],
   "source": [
    "def make_graph(N, mu=0.2):\n",
    "    name = \"EVAL2_LFR_ud_wu_N{}_mu{}\".format(N,mu)\n",
    "    graph_unweighted_undirect = gct.random_dataset.generate_undirected_unweighted_random_graph_LFR(name=name, \\\n",
    "                                       N=N, k=int(N/4), maxk=int(N/2), mu=mu)\n"
   ]
  },
  {
   "cell_type": "code",
   "execution_count": 3,
   "metadata": {},
   "outputs": [],
   "source": [
    "sizes=[128,512,1024]\n",
    "mus=[0.1,0.2, 0.3,0.4,0.5,0.6,0.7,0.8,0.9]"
   ]
  },
  {
   "cell_type": "code",
   "execution_count": 5,
   "metadata": {
    "scrolled": true
   },
   "outputs": [
    {
     "name": "stderr",
     "output_type": "stream",
     "text": [
      "2020-05-02 19:21:25,135 - RandomGenerator:LFR - INFO - Runing '/opt/gct/submodules/CommunityDetectionCodes/lfr_undir_net -N 128 -k 32 -maxk 64 -mu 0.1'  with seed 173390\n",
      "INFO:RandomGenerator:LFR:Runing '/opt/gct/submodules/CommunityDetectionCodes/lfr_undir_net -N 128 -k 32 -maxk 64 -mu 0.1'  with seed 173390\n",
      "2020-05-02 19:21:25,136 - RandomGenerator:LFR - INFO - working dir: /tmp/tmpbcipvqi9\n",
      "INFO:RandomGenerator:LFR:working dir: /tmp/tmpbcipvqi9\n",
      "2020-05-02 19:21:25,229 - RandomGenerator:LFR - INFO - min node is 1. will make it 0\n",
      "INFO:RandomGenerator:LFR:min node is 1. will make it 0\n",
      "/opt/conda/envs/python3/lib/python3.7/site-packages/pandas/core/frame.py:4133: SettingWithCopyWarning: \n",
      "A value is trying to be set on a copy of a slice from a DataFrame\n",
      "\n",
      "See the caveats in the documentation: https://pandas.pydata.org/pandas-docs/stable/user_guide/indexing.html#returning-a-view-versus-a-copy\n",
      "  errors=errors,\n",
      "2020-05-02 19:21:25,247 - Dataset:EVAL2_LFR_ud_wu_N128_mu0.1 - INFO - writing/data/data/EVAL2_LFR_ud_wu_N128_mu0.1/edges.parq\n",
      "INFO:Dataset:EVAL2_LFR_ud_wu_N128_mu0.1:writing/data/data/EVAL2_LFR_ud_wu_N128_mu0.1/edges.parq\n",
      "2020-05-02 19:21:25,635 - Clustering - INFO - Writing /data/data/EVAL2_LFR_ud_wu_N128_mu0.1/gt_default.parq\n",
      "INFO:Clustering:Writing /data/data/EVAL2_LFR_ud_wu_N128_mu0.1/gt_default.parq\n",
      "2020-05-02 19:21:25,641 - RandomGenerator:LFR - INFO - Runing '/opt/gct/submodules/CommunityDetectionCodes/lfr_undir_net -N 128 -k 32 -maxk 64 -mu 0.2'  with seed 65442\n",
      "INFO:RandomGenerator:LFR:Runing '/opt/gct/submodules/CommunityDetectionCodes/lfr_undir_net -N 128 -k 32 -maxk 64 -mu 0.2'  with seed 65442\n",
      "2020-05-02 19:21:25,642 - RandomGenerator:LFR - INFO - working dir: /tmp/tmpcvnphc7n\n",
      "INFO:RandomGenerator:LFR:working dir: /tmp/tmpcvnphc7n\n",
      "2020-05-02 19:21:25,705 - RandomGenerator:LFR - INFO - min node is 1. will make it 0\n",
      "INFO:RandomGenerator:LFR:min node is 1. will make it 0\n",
      "/opt/conda/envs/python3/lib/python3.7/site-packages/pandas/core/frame.py:4133: SettingWithCopyWarning: \n",
      "A value is trying to be set on a copy of a slice from a DataFrame\n",
      "\n",
      "See the caveats in the documentation: https://pandas.pydata.org/pandas-docs/stable/user_guide/indexing.html#returning-a-view-versus-a-copy\n",
      "  errors=errors,\n",
      "2020-05-02 19:21:25,717 - Dataset:EVAL2_LFR_ud_wu_N128_mu0.2 - INFO - writing/data/data/EVAL2_LFR_ud_wu_N128_mu0.2/edges.parq\n",
      "INFO:Dataset:EVAL2_LFR_ud_wu_N128_mu0.2:writing/data/data/EVAL2_LFR_ud_wu_N128_mu0.2/edges.parq\n",
      "2020-05-02 19:21:25,723 - Clustering - INFO - Writing /data/data/EVAL2_LFR_ud_wu_N128_mu0.2/gt_default.parq\n",
      "INFO:Clustering:Writing /data/data/EVAL2_LFR_ud_wu_N128_mu0.2/gt_default.parq\n",
      "2020-05-02 19:21:25,731 - RandomGenerator:LFR - INFO - Runing '/opt/gct/submodules/CommunityDetectionCodes/lfr_undir_net -N 128 -k 32 -maxk 64 -mu 0.3'  with seed 437389\n",
      "INFO:RandomGenerator:LFR:Runing '/opt/gct/submodules/CommunityDetectionCodes/lfr_undir_net -N 128 -k 32 -maxk 64 -mu 0.3'  with seed 437389\n",
      "2020-05-02 19:21:25,732 - RandomGenerator:LFR - INFO - working dir: /tmp/tmpb8_xsd95\n",
      "INFO:RandomGenerator:LFR:working dir: /tmp/tmpb8_xsd95\n",
      "2020-05-02 19:21:25,813 - RandomGenerator:LFR - INFO - min node is 1. will make it 0\n",
      "INFO:RandomGenerator:LFR:min node is 1. will make it 0\n",
      "2020-05-02 19:21:25,825 - Dataset:EVAL2_LFR_ud_wu_N128_mu0.3 - INFO - writing/data/data/EVAL2_LFR_ud_wu_N128_mu0.3/edges.parq\n",
      "INFO:Dataset:EVAL2_LFR_ud_wu_N128_mu0.3:writing/data/data/EVAL2_LFR_ud_wu_N128_mu0.3/edges.parq\n",
      "2020-05-02 19:21:25,830 - Clustering - INFO - Writing /data/data/EVAL2_LFR_ud_wu_N128_mu0.3/gt_default.parq\n",
      "INFO:Clustering:Writing /data/data/EVAL2_LFR_ud_wu_N128_mu0.3/gt_default.parq\n",
      "2020-05-02 19:21:25,835 - RandomGenerator:LFR - INFO - Runing '/opt/gct/submodules/CommunityDetectionCodes/lfr_undir_net -N 128 -k 32 -maxk 64 -mu 0.4'  with seed 946610\n",
      "INFO:RandomGenerator:LFR:Runing '/opt/gct/submodules/CommunityDetectionCodes/lfr_undir_net -N 128 -k 32 -maxk 64 -mu 0.4'  with seed 946610\n",
      "2020-05-02 19:21:25,836 - RandomGenerator:LFR - INFO - working dir: /tmp/tmp268n48yq\n",
      "INFO:RandomGenerator:LFR:working dir: /tmp/tmp268n48yq\n",
      "2020-05-02 19:21:25,930 - RandomGenerator:LFR - INFO - min node is 1. will make it 0\n",
      "INFO:RandomGenerator:LFR:min node is 1. will make it 0\n",
      "2020-05-02 19:21:25,942 - Dataset:EVAL2_LFR_ud_wu_N128_mu0.4 - INFO - writing/data/data/EVAL2_LFR_ud_wu_N128_mu0.4/edges.parq\n",
      "INFO:Dataset:EVAL2_LFR_ud_wu_N128_mu0.4:writing/data/data/EVAL2_LFR_ud_wu_N128_mu0.4/edges.parq\n",
      "2020-05-02 19:21:25,947 - Clustering - INFO - Writing /data/data/EVAL2_LFR_ud_wu_N128_mu0.4/gt_default.parq\n",
      "INFO:Clustering:Writing /data/data/EVAL2_LFR_ud_wu_N128_mu0.4/gt_default.parq\n",
      "2020-05-02 19:21:25,952 - RandomGenerator:LFR - INFO - Runing '/opt/gct/submodules/CommunityDetectionCodes/lfr_undir_net -N 128 -k 32 -maxk 64 -mu 0.5'  with seed 259559\n",
      "INFO:RandomGenerator:LFR:Runing '/opt/gct/submodules/CommunityDetectionCodes/lfr_undir_net -N 128 -k 32 -maxk 64 -mu 0.5'  with seed 259559\n",
      "2020-05-02 19:21:25,953 - RandomGenerator:LFR - INFO - working dir: /tmp/tmpsl91z366\n",
      "INFO:RandomGenerator:LFR:working dir: /tmp/tmpsl91z366\n",
      "2020-05-02 19:21:26,031 - RandomGenerator:LFR - INFO - min node is 1. will make it 0\n",
      "INFO:RandomGenerator:LFR:min node is 1. will make it 0\n",
      "2020-05-02 19:21:26,043 - Dataset:EVAL2_LFR_ud_wu_N128_mu0.5 - INFO - writing/data/data/EVAL2_LFR_ud_wu_N128_mu0.5/edges.parq\n",
      "INFO:Dataset:EVAL2_LFR_ud_wu_N128_mu0.5:writing/data/data/EVAL2_LFR_ud_wu_N128_mu0.5/edges.parq\n",
      "2020-05-02 19:21:26,048 - Clustering - INFO - Writing /data/data/EVAL2_LFR_ud_wu_N128_mu0.5/gt_default.parq\n",
      "INFO:Clustering:Writing /data/data/EVAL2_LFR_ud_wu_N128_mu0.5/gt_default.parq\n",
      "2020-05-02 19:21:26,055 - RandomGenerator:LFR - INFO - Runing '/opt/gct/submodules/CommunityDetectionCodes/lfr_undir_net -N 128 -k 32 -maxk 64 -mu 0.6'  with seed 221894\n",
      "INFO:RandomGenerator:LFR:Runing '/opt/gct/submodules/CommunityDetectionCodes/lfr_undir_net -N 128 -k 32 -maxk 64 -mu 0.6'  with seed 221894\n",
      "2020-05-02 19:21:26,056 - RandomGenerator:LFR - INFO - working dir: /tmp/tmp7xmqgy8x\n",
      "INFO:RandomGenerator:LFR:working dir: /tmp/tmp7xmqgy8x\n",
      "2020-05-02 19:21:26,170 - RandomGenerator:LFR - INFO - min node is 1. will make it 0\n",
      "INFO:RandomGenerator:LFR:min node is 1. will make it 0\n",
      "2020-05-02 19:21:26,180 - Dataset:EVAL2_LFR_ud_wu_N128_mu0.6 - INFO - writing/data/data/EVAL2_LFR_ud_wu_N128_mu0.6/edges.parq\n",
      "INFO:Dataset:EVAL2_LFR_ud_wu_N128_mu0.6:writing/data/data/EVAL2_LFR_ud_wu_N128_mu0.6/edges.parq\n",
      "2020-05-02 19:21:26,185 - Clustering - INFO - Writing /data/data/EVAL2_LFR_ud_wu_N128_mu0.6/gt_default.parq\n",
      "INFO:Clustering:Writing /data/data/EVAL2_LFR_ud_wu_N128_mu0.6/gt_default.parq\n",
      "2020-05-02 19:21:26,189 - RandomGenerator:LFR - INFO - Runing '/opt/gct/submodules/CommunityDetectionCodes/lfr_undir_net -N 128 -k 32 -maxk 64 -mu 0.7'  with seed 399683\n",
      "INFO:RandomGenerator:LFR:Runing '/opt/gct/submodules/CommunityDetectionCodes/lfr_undir_net -N 128 -k 32 -maxk 64 -mu 0.7'  with seed 399683\n",
      "2020-05-02 19:21:26,190 - RandomGenerator:LFR - INFO - working dir: /tmp/tmp5eyqk4s7\n",
      "INFO:RandomGenerator:LFR:working dir: /tmp/tmp5eyqk4s7\n",
      "2020-05-02 19:21:26,292 - RandomGenerator:LFR - INFO - min node is 1. will make it 0\n",
      "INFO:RandomGenerator:LFR:min node is 1. will make it 0\n",
      "2020-05-02 19:21:26,302 - Dataset:EVAL2_LFR_ud_wu_N128_mu0.7 - INFO - writing/data/data/EVAL2_LFR_ud_wu_N128_mu0.7/edges.parq\n",
      "INFO:Dataset:EVAL2_LFR_ud_wu_N128_mu0.7:writing/data/data/EVAL2_LFR_ud_wu_N128_mu0.7/edges.parq\n",
      "2020-05-02 19:21:26,307 - Clustering - INFO - Writing /data/data/EVAL2_LFR_ud_wu_N128_mu0.7/gt_default.parq\n",
      "INFO:Clustering:Writing /data/data/EVAL2_LFR_ud_wu_N128_mu0.7/gt_default.parq\n",
      "2020-05-02 19:21:26,311 - RandomGenerator:LFR - INFO - Runing '/opt/gct/submodules/CommunityDetectionCodes/lfr_undir_net -N 128 -k 32 -maxk 64 -mu 0.8'  with seed 706527\n",
      "INFO:RandomGenerator:LFR:Runing '/opt/gct/submodules/CommunityDetectionCodes/lfr_undir_net -N 128 -k 32 -maxk 64 -mu 0.8'  with seed 706527\n",
      "2020-05-02 19:21:26,312 - RandomGenerator:LFR - INFO - working dir: /tmp/tmp92z6ko5_\n",
      "INFO:RandomGenerator:LFR:working dir: /tmp/tmp92z6ko5_\n",
      "2020-05-02 19:21:26,424 - RandomGenerator:LFR - INFO - min node is 1. will make it 0\n",
      "INFO:RandomGenerator:LFR:min node is 1. will make it 0\n"
     ]
    },
    {
     "name": "stderr",
     "output_type": "stream",
     "text": [
      "2020-05-02 19:21:26,434 - Dataset:EVAL2_LFR_ud_wu_N128_mu0.8 - INFO - writing/data/data/EVAL2_LFR_ud_wu_N128_mu0.8/edges.parq\n",
      "INFO:Dataset:EVAL2_LFR_ud_wu_N128_mu0.8:writing/data/data/EVAL2_LFR_ud_wu_N128_mu0.8/edges.parq\n",
      "2020-05-02 19:21:26,439 - Clustering - INFO - Writing /data/data/EVAL2_LFR_ud_wu_N128_mu0.8/gt_default.parq\n",
      "INFO:Clustering:Writing /data/data/EVAL2_LFR_ud_wu_N128_mu0.8/gt_default.parq\n",
      "2020-05-02 19:21:26,443 - RandomGenerator:LFR - INFO - Runing '/opt/gct/submodules/CommunityDetectionCodes/lfr_undir_net -N 128 -k 32 -maxk 64 -mu 0.9'  with seed 701855\n",
      "INFO:RandomGenerator:LFR:Runing '/opt/gct/submodules/CommunityDetectionCodes/lfr_undir_net -N 128 -k 32 -maxk 64 -mu 0.9'  with seed 701855\n",
      "2020-05-02 19:21:26,444 - RandomGenerator:LFR - INFO - working dir: /tmp/tmpcnxln4zg\n",
      "INFO:RandomGenerator:LFR:working dir: /tmp/tmpcnxln4zg\n",
      "2020-05-02 19:21:26,568 - RandomGenerator:LFR - INFO - min node is 1. will make it 0\n",
      "INFO:RandomGenerator:LFR:min node is 1. will make it 0\n",
      "2020-05-02 19:21:26,579 - Dataset:EVAL2_LFR_ud_wu_N128_mu0.9 - INFO - writing/data/data/EVAL2_LFR_ud_wu_N128_mu0.9/edges.parq\n",
      "INFO:Dataset:EVAL2_LFR_ud_wu_N128_mu0.9:writing/data/data/EVAL2_LFR_ud_wu_N128_mu0.9/edges.parq\n",
      "2020-05-02 19:21:26,585 - Clustering - INFO - Writing /data/data/EVAL2_LFR_ud_wu_N128_mu0.9/gt_default.parq\n",
      "INFO:Clustering:Writing /data/data/EVAL2_LFR_ud_wu_N128_mu0.9/gt_default.parq\n",
      "2020-05-02 19:21:26,590 - RandomGenerator:LFR - INFO - Runing '/opt/gct/submodules/CommunityDetectionCodes/lfr_undir_net -N 512 -k 128 -maxk 256 -mu 0.1'  with seed 241075\n",
      "INFO:RandomGenerator:LFR:Runing '/opt/gct/submodules/CommunityDetectionCodes/lfr_undir_net -N 512 -k 128 -maxk 256 -mu 0.1'  with seed 241075\n",
      "2020-05-02 19:21:26,591 - RandomGenerator:LFR - INFO - working dir: /tmp/tmpcf8c2oi2\n",
      "INFO:RandomGenerator:LFR:working dir: /tmp/tmpcf8c2oi2\n",
      "2020-05-02 19:21:30,358 - RandomGenerator:LFR - INFO - min node is 1. will make it 0\n",
      "INFO:RandomGenerator:LFR:min node is 1. will make it 0\n",
      "2020-05-02 19:21:30,376 - Dataset:EVAL2_LFR_ud_wu_N512_mu0.1 - INFO - writing/data/data/EVAL2_LFR_ud_wu_N512_mu0.1/edges.parq\n",
      "INFO:Dataset:EVAL2_LFR_ud_wu_N512_mu0.1:writing/data/data/EVAL2_LFR_ud_wu_N512_mu0.1/edges.parq\n",
      "2020-05-02 19:21:30,383 - Clustering - INFO - Writing /data/data/EVAL2_LFR_ud_wu_N512_mu0.1/gt_default.parq\n",
      "INFO:Clustering:Writing /data/data/EVAL2_LFR_ud_wu_N512_mu0.1/gt_default.parq\n",
      "2020-05-02 19:21:30,388 - RandomGenerator:LFR - INFO - Runing '/opt/gct/submodules/CommunityDetectionCodes/lfr_undir_net -N 512 -k 128 -maxk 256 -mu 0.2'  with seed 328880\n",
      "INFO:RandomGenerator:LFR:Runing '/opt/gct/submodules/CommunityDetectionCodes/lfr_undir_net -N 512 -k 128 -maxk 256 -mu 0.2'  with seed 328880\n",
      "2020-05-02 19:21:30,389 - RandomGenerator:LFR - INFO - working dir: /tmp/tmp3mj4bhds\n",
      "INFO:RandomGenerator:LFR:working dir: /tmp/tmp3mj4bhds\n",
      "2020-05-02 19:21:32,557 - RandomGenerator:LFR - INFO - min node is 1. will make it 0\n",
      "INFO:RandomGenerator:LFR:min node is 1. will make it 0\n",
      "2020-05-02 19:21:32,575 - Dataset:EVAL2_LFR_ud_wu_N512_mu0.2 - INFO - writing/data/data/EVAL2_LFR_ud_wu_N512_mu0.2/edges.parq\n",
      "INFO:Dataset:EVAL2_LFR_ud_wu_N512_mu0.2:writing/data/data/EVAL2_LFR_ud_wu_N512_mu0.2/edges.parq\n",
      "2020-05-02 19:21:32,582 - Clustering - INFO - Writing /data/data/EVAL2_LFR_ud_wu_N512_mu0.2/gt_default.parq\n",
      "INFO:Clustering:Writing /data/data/EVAL2_LFR_ud_wu_N512_mu0.2/gt_default.parq\n",
      "2020-05-02 19:21:32,588 - RandomGenerator:LFR - INFO - Runing '/opt/gct/submodules/CommunityDetectionCodes/lfr_undir_net -N 512 -k 128 -maxk 256 -mu 0.3'  with seed 27721\n",
      "INFO:RandomGenerator:LFR:Runing '/opt/gct/submodules/CommunityDetectionCodes/lfr_undir_net -N 512 -k 128 -maxk 256 -mu 0.3'  with seed 27721\n",
      "2020-05-02 19:21:32,589 - RandomGenerator:LFR - INFO - working dir: /tmp/tmpb7nsmur2\n",
      "INFO:RandomGenerator:LFR:working dir: /tmp/tmpb7nsmur2\n",
      "2020-05-02 19:21:36,293 - RandomGenerator:LFR - INFO - min node is 1. will make it 0\n",
      "INFO:RandomGenerator:LFR:min node is 1. will make it 0\n",
      "2020-05-02 19:21:36,316 - Dataset:EVAL2_LFR_ud_wu_N512_mu0.3 - INFO - writing/data/data/EVAL2_LFR_ud_wu_N512_mu0.3/edges.parq\n",
      "INFO:Dataset:EVAL2_LFR_ud_wu_N512_mu0.3:writing/data/data/EVAL2_LFR_ud_wu_N512_mu0.3/edges.parq\n",
      "2020-05-02 19:21:36,324 - Clustering - INFO - Writing /data/data/EVAL2_LFR_ud_wu_N512_mu0.3/gt_default.parq\n",
      "INFO:Clustering:Writing /data/data/EVAL2_LFR_ud_wu_N512_mu0.3/gt_default.parq\n",
      "2020-05-02 19:21:36,330 - RandomGenerator:LFR - INFO - Runing '/opt/gct/submodules/CommunityDetectionCodes/lfr_undir_net -N 512 -k 128 -maxk 256 -mu 0.4'  with seed 620624\n",
      "INFO:RandomGenerator:LFR:Runing '/opt/gct/submodules/CommunityDetectionCodes/lfr_undir_net -N 512 -k 128 -maxk 256 -mu 0.4'  with seed 620624\n",
      "2020-05-02 19:21:36,331 - RandomGenerator:LFR - INFO - working dir: /tmp/tmpo3n4uu1_\n",
      "INFO:RandomGenerator:LFR:working dir: /tmp/tmpo3n4uu1_\n",
      "2020-05-02 19:21:39,423 - RandomGenerator:LFR - INFO - min node is 1. will make it 0\n",
      "INFO:RandomGenerator:LFR:min node is 1. will make it 0\n",
      "2020-05-02 19:21:39,441 - Dataset:EVAL2_LFR_ud_wu_N512_mu0.4 - INFO - writing/data/data/EVAL2_LFR_ud_wu_N512_mu0.4/edges.parq\n",
      "INFO:Dataset:EVAL2_LFR_ud_wu_N512_mu0.4:writing/data/data/EVAL2_LFR_ud_wu_N512_mu0.4/edges.parq\n",
      "2020-05-02 19:21:39,448 - Clustering - INFO - Writing /data/data/EVAL2_LFR_ud_wu_N512_mu0.4/gt_default.parq\n",
      "INFO:Clustering:Writing /data/data/EVAL2_LFR_ud_wu_N512_mu0.4/gt_default.parq\n",
      "2020-05-02 19:21:39,453 - RandomGenerator:LFR - INFO - Runing '/opt/gct/submodules/CommunityDetectionCodes/lfr_undir_net -N 512 -k 128 -maxk 256 -mu 0.5'  with seed 726704\n",
      "INFO:RandomGenerator:LFR:Runing '/opt/gct/submodules/CommunityDetectionCodes/lfr_undir_net -N 512 -k 128 -maxk 256 -mu 0.5'  with seed 726704\n",
      "2020-05-02 19:21:39,454 - RandomGenerator:LFR - INFO - working dir: /tmp/tmpuakbu7yj\n",
      "INFO:RandomGenerator:LFR:working dir: /tmp/tmpuakbu7yj\n",
      "2020-05-02 19:21:44,370 - RandomGenerator:LFR - INFO - min node is 1. will make it 0\n",
      "INFO:RandomGenerator:LFR:min node is 1. will make it 0\n",
      "2020-05-02 19:21:44,388 - Dataset:EVAL2_LFR_ud_wu_N512_mu0.5 - INFO - writing/data/data/EVAL2_LFR_ud_wu_N512_mu0.5/edges.parq\n",
      "INFO:Dataset:EVAL2_LFR_ud_wu_N512_mu0.5:writing/data/data/EVAL2_LFR_ud_wu_N512_mu0.5/edges.parq\n",
      "2020-05-02 19:21:44,395 - Clustering - INFO - Writing /data/data/EVAL2_LFR_ud_wu_N512_mu0.5/gt_default.parq\n",
      "INFO:Clustering:Writing /data/data/EVAL2_LFR_ud_wu_N512_mu0.5/gt_default.parq\n",
      "2020-05-02 19:21:44,399 - RandomGenerator:LFR - INFO - Runing '/opt/gct/submodules/CommunityDetectionCodes/lfr_undir_net -N 512 -k 128 -maxk 256 -mu 0.6'  with seed 299137\n",
      "INFO:RandomGenerator:LFR:Runing '/opt/gct/submodules/CommunityDetectionCodes/lfr_undir_net -N 512 -k 128 -maxk 256 -mu 0.6'  with seed 299137\n",
      "2020-05-02 19:21:44,400 - RandomGenerator:LFR - INFO - working dir: /tmp/tmp0t3p_jpq\n",
      "INFO:RandomGenerator:LFR:working dir: /tmp/tmp0t3p_jpq\n",
      "2020-05-02 19:21:48,464 - RandomGenerator:LFR - INFO - min node is 1. will make it 0\n",
      "INFO:RandomGenerator:LFR:min node is 1. will make it 0\n",
      "2020-05-02 19:21:48,483 - Dataset:EVAL2_LFR_ud_wu_N512_mu0.6 - INFO - writing/data/data/EVAL2_LFR_ud_wu_N512_mu0.6/edges.parq\n",
      "INFO:Dataset:EVAL2_LFR_ud_wu_N512_mu0.6:writing/data/data/EVAL2_LFR_ud_wu_N512_mu0.6/edges.parq\n",
      "2020-05-02 19:21:48,490 - Clustering - INFO - Writing /data/data/EVAL2_LFR_ud_wu_N512_mu0.6/gt_default.parq\n",
      "INFO:Clustering:Writing /data/data/EVAL2_LFR_ud_wu_N512_mu0.6/gt_default.parq\n",
      "2020-05-02 19:21:48,495 - RandomGenerator:LFR - INFO - Runing '/opt/gct/submodules/CommunityDetectionCodes/lfr_undir_net -N 512 -k 128 -maxk 256 -mu 0.7'  with seed 822281\n",
      "INFO:RandomGenerator:LFR:Runing '/opt/gct/submodules/CommunityDetectionCodes/lfr_undir_net -N 512 -k 128 -maxk 256 -mu 0.7'  with seed 822281\n",
      "2020-05-02 19:21:48,496 - RandomGenerator:LFR - INFO - working dir: /tmp/tmpv80l7mh1\n",
      "INFO:RandomGenerator:LFR:working dir: /tmp/tmpv80l7mh1\n",
      "2020-05-02 19:21:53,489 - RandomGenerator:LFR - INFO - min node is 1. will make it 0\n",
      "INFO:RandomGenerator:LFR:min node is 1. will make it 0\n",
      "2020-05-02 19:21:53,507 - Dataset:EVAL2_LFR_ud_wu_N512_mu0.7 - INFO - writing/data/data/EVAL2_LFR_ud_wu_N512_mu0.7/edges.parq\n",
      "INFO:Dataset:EVAL2_LFR_ud_wu_N512_mu0.7:writing/data/data/EVAL2_LFR_ud_wu_N512_mu0.7/edges.parq\n"
     ]
    },
    {
     "name": "stderr",
     "output_type": "stream",
     "text": [
      "2020-05-02 19:21:53,514 - Clustering - INFO - Writing /data/data/EVAL2_LFR_ud_wu_N512_mu0.7/gt_default.parq\n",
      "INFO:Clustering:Writing /data/data/EVAL2_LFR_ud_wu_N512_mu0.7/gt_default.parq\n",
      "2020-05-02 19:21:53,520 - RandomGenerator:LFR - INFO - Runing '/opt/gct/submodules/CommunityDetectionCodes/lfr_undir_net -N 512 -k 128 -maxk 256 -mu 0.8'  with seed 966199\n",
      "INFO:RandomGenerator:LFR:Runing '/opt/gct/submodules/CommunityDetectionCodes/lfr_undir_net -N 512 -k 128 -maxk 256 -mu 0.8'  with seed 966199\n",
      "2020-05-02 19:21:53,521 - RandomGenerator:LFR - INFO - working dir: /tmp/tmpc78kkc4c\n",
      "INFO:RandomGenerator:LFR:working dir: /tmp/tmpc78kkc4c\n",
      "2020-05-02 19:22:00,931 - RandomGenerator:LFR - INFO - min node is 1. will make it 0\n",
      "INFO:RandomGenerator:LFR:min node is 1. will make it 0\n",
      "2020-05-02 19:22:00,949 - Dataset:EVAL2_LFR_ud_wu_N512_mu0.8 - INFO - writing/data/data/EVAL2_LFR_ud_wu_N512_mu0.8/edges.parq\n",
      "INFO:Dataset:EVAL2_LFR_ud_wu_N512_mu0.8:writing/data/data/EVAL2_LFR_ud_wu_N512_mu0.8/edges.parq\n",
      "2020-05-02 19:22:00,955 - Clustering - INFO - Writing /data/data/EVAL2_LFR_ud_wu_N512_mu0.8/gt_default.parq\n",
      "INFO:Clustering:Writing /data/data/EVAL2_LFR_ud_wu_N512_mu0.8/gt_default.parq\n",
      "2020-05-02 19:22:00,961 - RandomGenerator:LFR - INFO - Runing '/opt/gct/submodules/CommunityDetectionCodes/lfr_undir_net -N 512 -k 128 -maxk 256 -mu 0.9'  with seed 221703\n",
      "INFO:RandomGenerator:LFR:Runing '/opt/gct/submodules/CommunityDetectionCodes/lfr_undir_net -N 512 -k 128 -maxk 256 -mu 0.9'  with seed 221703\n",
      "2020-05-02 19:22:00,962 - RandomGenerator:LFR - INFO - working dir: /tmp/tmp0g2x_cbh\n",
      "INFO:RandomGenerator:LFR:working dir: /tmp/tmp0g2x_cbh\n",
      "2020-05-02 19:22:07,528 - RandomGenerator:LFR - INFO - min node is 1. will make it 0\n",
      "INFO:RandomGenerator:LFR:min node is 1. will make it 0\n",
      "2020-05-02 19:22:07,552 - Dataset:EVAL2_LFR_ud_wu_N512_mu0.9 - INFO - writing/data/data/EVAL2_LFR_ud_wu_N512_mu0.9/edges.parq\n",
      "INFO:Dataset:EVAL2_LFR_ud_wu_N512_mu0.9:writing/data/data/EVAL2_LFR_ud_wu_N512_mu0.9/edges.parq\n",
      "2020-05-02 19:22:07,560 - Clustering - INFO - Writing /data/data/EVAL2_LFR_ud_wu_N512_mu0.9/gt_default.parq\n",
      "INFO:Clustering:Writing /data/data/EVAL2_LFR_ud_wu_N512_mu0.9/gt_default.parq\n",
      "2020-05-02 19:22:07,566 - RandomGenerator:LFR - INFO - Runing '/opt/gct/submodules/CommunityDetectionCodes/lfr_undir_net -N 1024 -k 256 -maxk 512 -mu 0.1'  with seed 548187\n",
      "INFO:RandomGenerator:LFR:Runing '/opt/gct/submodules/CommunityDetectionCodes/lfr_undir_net -N 1024 -k 256 -maxk 512 -mu 0.1'  with seed 548187\n",
      "2020-05-02 19:22:07,567 - RandomGenerator:LFR - INFO - working dir: /tmp/tmp4t6s4b6h\n",
      "INFO:RandomGenerator:LFR:working dir: /tmp/tmp4t6s4b6h\n",
      "2020-05-02 19:22:29,255 - RandomGenerator:LFR - INFO - min node is 1. will make it 0\n",
      "INFO:RandomGenerator:LFR:min node is 1. will make it 0\n",
      "2020-05-02 19:22:29,296 - Dataset:EVAL2_LFR_ud_wu_N1024_mu0.1 - INFO - writing/data/data/EVAL2_LFR_ud_wu_N1024_mu0.1/edges.parq\n",
      "INFO:Dataset:EVAL2_LFR_ud_wu_N1024_mu0.1:writing/data/data/EVAL2_LFR_ud_wu_N1024_mu0.1/edges.parq\n",
      "2020-05-02 19:22:29,306 - Clustering - INFO - Writing /data/data/EVAL2_LFR_ud_wu_N1024_mu0.1/gt_default.parq\n",
      "INFO:Clustering:Writing /data/data/EVAL2_LFR_ud_wu_N1024_mu0.1/gt_default.parq\n",
      "2020-05-02 19:22:29,312 - RandomGenerator:LFR - INFO - Runing '/opt/gct/submodules/CommunityDetectionCodes/lfr_undir_net -N 1024 -k 256 -maxk 512 -mu 0.2'  with seed 412406\n",
      "INFO:RandomGenerator:LFR:Runing '/opt/gct/submodules/CommunityDetectionCodes/lfr_undir_net -N 1024 -k 256 -maxk 512 -mu 0.2'  with seed 412406\n",
      "2020-05-02 19:22:29,313 - RandomGenerator:LFR - INFO - working dir: /tmp/tmphvpaw30k\n",
      "INFO:RandomGenerator:LFR:working dir: /tmp/tmphvpaw30k\n",
      "2020-05-02 19:23:01,882 - RandomGenerator:LFR - INFO - min node is 1. will make it 0\n",
      "INFO:RandomGenerator:LFR:min node is 1. will make it 0\n",
      "2020-05-02 19:23:01,923 - Dataset:EVAL2_LFR_ud_wu_N1024_mu0.2 - INFO - writing/data/data/EVAL2_LFR_ud_wu_N1024_mu0.2/edges.parq\n",
      "INFO:Dataset:EVAL2_LFR_ud_wu_N1024_mu0.2:writing/data/data/EVAL2_LFR_ud_wu_N1024_mu0.2/edges.parq\n",
      "2020-05-02 19:23:01,935 - Clustering - INFO - Writing /data/data/EVAL2_LFR_ud_wu_N1024_mu0.2/gt_default.parq\n",
      "INFO:Clustering:Writing /data/data/EVAL2_LFR_ud_wu_N1024_mu0.2/gt_default.parq\n",
      "2020-05-02 19:23:01,941 - RandomGenerator:LFR - INFO - Runing '/opt/gct/submodules/CommunityDetectionCodes/lfr_undir_net -N 1024 -k 256 -maxk 512 -mu 0.3'  with seed 61746\n",
      "INFO:RandomGenerator:LFR:Runing '/opt/gct/submodules/CommunityDetectionCodes/lfr_undir_net -N 1024 -k 256 -maxk 512 -mu 0.3'  with seed 61746\n",
      "2020-05-02 19:23:01,942 - RandomGenerator:LFR - INFO - working dir: /tmp/tmp5470cgki\n",
      "INFO:RandomGenerator:LFR:working dir: /tmp/tmp5470cgki\n",
      "2020-05-02 19:23:34,880 - RandomGenerator:LFR - INFO - min node is 1. will make it 0\n",
      "INFO:RandomGenerator:LFR:min node is 1. will make it 0\n",
      "2020-05-02 19:23:34,922 - Dataset:EVAL2_LFR_ud_wu_N1024_mu0.3 - INFO - writing/data/data/EVAL2_LFR_ud_wu_N1024_mu0.3/edges.parq\n",
      "INFO:Dataset:EVAL2_LFR_ud_wu_N1024_mu0.3:writing/data/data/EVAL2_LFR_ud_wu_N1024_mu0.3/edges.parq\n",
      "2020-05-02 19:23:34,934 - Clustering - INFO - Writing /data/data/EVAL2_LFR_ud_wu_N1024_mu0.3/gt_default.parq\n",
      "INFO:Clustering:Writing /data/data/EVAL2_LFR_ud_wu_N1024_mu0.3/gt_default.parq\n",
      "2020-05-02 19:23:34,940 - RandomGenerator:LFR - INFO - Runing '/opt/gct/submodules/CommunityDetectionCodes/lfr_undir_net -N 1024 -k 256 -maxk 512 -mu 0.4'  with seed 26060\n",
      "INFO:RandomGenerator:LFR:Runing '/opt/gct/submodules/CommunityDetectionCodes/lfr_undir_net -N 1024 -k 256 -maxk 512 -mu 0.4'  with seed 26060\n",
      "2020-05-02 19:23:34,941 - RandomGenerator:LFR - INFO - working dir: /tmp/tmpgv3io3b1\n",
      "INFO:RandomGenerator:LFR:working dir: /tmp/tmpgv3io3b1\n",
      "2020-05-02 19:24:01,487 - RandomGenerator:LFR - INFO - min node is 1. will make it 0\n",
      "INFO:RandomGenerator:LFR:min node is 1. will make it 0\n",
      "2020-05-02 19:24:01,528 - Dataset:EVAL2_LFR_ud_wu_N1024_mu0.4 - INFO - writing/data/data/EVAL2_LFR_ud_wu_N1024_mu0.4/edges.parq\n",
      "INFO:Dataset:EVAL2_LFR_ud_wu_N1024_mu0.4:writing/data/data/EVAL2_LFR_ud_wu_N1024_mu0.4/edges.parq\n",
      "2020-05-02 19:24:01,539 - Clustering - INFO - Writing /data/data/EVAL2_LFR_ud_wu_N1024_mu0.4/gt_default.parq\n",
      "INFO:Clustering:Writing /data/data/EVAL2_LFR_ud_wu_N1024_mu0.4/gt_default.parq\n",
      "2020-05-02 19:24:01,545 - RandomGenerator:LFR - INFO - Runing '/opt/gct/submodules/CommunityDetectionCodes/lfr_undir_net -N 1024 -k 256 -maxk 512 -mu 0.5'  with seed 858999\n",
      "INFO:RandomGenerator:LFR:Runing '/opt/gct/submodules/CommunityDetectionCodes/lfr_undir_net -N 1024 -k 256 -maxk 512 -mu 0.5'  with seed 858999\n",
      "2020-05-02 19:24:01,547 - RandomGenerator:LFR - INFO - working dir: /tmp/tmppm4db2tz\n",
      "INFO:RandomGenerator:LFR:working dir: /tmp/tmppm4db2tz\n",
      "2020-05-02 19:24:30,540 - RandomGenerator:LFR - INFO - min node is 1. will make it 0\n",
      "INFO:RandomGenerator:LFR:min node is 1. will make it 0\n",
      "2020-05-02 19:24:30,581 - Dataset:EVAL2_LFR_ud_wu_N1024_mu0.5 - INFO - writing/data/data/EVAL2_LFR_ud_wu_N1024_mu0.5/edges.parq\n",
      "INFO:Dataset:EVAL2_LFR_ud_wu_N1024_mu0.5:writing/data/data/EVAL2_LFR_ud_wu_N1024_mu0.5/edges.parq\n",
      "2020-05-02 19:24:30,593 - Clustering - INFO - Writing /data/data/EVAL2_LFR_ud_wu_N1024_mu0.5/gt_default.parq\n",
      "INFO:Clustering:Writing /data/data/EVAL2_LFR_ud_wu_N1024_mu0.5/gt_default.parq\n",
      "2020-05-02 19:24:30,600 - RandomGenerator:LFR - INFO - Runing '/opt/gct/submodules/CommunityDetectionCodes/lfr_undir_net -N 1024 -k 256 -maxk 512 -mu 0.6'  with seed 623210\n",
      "INFO:RandomGenerator:LFR:Runing '/opt/gct/submodules/CommunityDetectionCodes/lfr_undir_net -N 1024 -k 256 -maxk 512 -mu 0.6'  with seed 623210\n",
      "2020-05-02 19:24:30,601 - RandomGenerator:LFR - INFO - working dir: /tmp/tmpczfx0yjy\n",
      "INFO:RandomGenerator:LFR:working dir: /tmp/tmpczfx0yjy\n",
      "2020-05-02 19:25:12,265 - RandomGenerator:LFR - INFO - min node is 1. will make it 0\n",
      "INFO:RandomGenerator:LFR:min node is 1. will make it 0\n",
      "2020-05-02 19:25:12,307 - Dataset:EVAL2_LFR_ud_wu_N1024_mu0.6 - INFO - writing/data/data/EVAL2_LFR_ud_wu_N1024_mu0.6/edges.parq\n",
      "INFO:Dataset:EVAL2_LFR_ud_wu_N1024_mu0.6:writing/data/data/EVAL2_LFR_ud_wu_N1024_mu0.6/edges.parq\n",
      "2020-05-02 19:25:12,318 - Clustering - INFO - Writing /data/data/EVAL2_LFR_ud_wu_N1024_mu0.6/gt_default.parq\n",
      "INFO:Clustering:Writing /data/data/EVAL2_LFR_ud_wu_N1024_mu0.6/gt_default.parq\n"
     ]
    },
    {
     "name": "stderr",
     "output_type": "stream",
     "text": [
      "2020-05-02 19:25:12,323 - RandomGenerator:LFR - INFO - Runing '/opt/gct/submodules/CommunityDetectionCodes/lfr_undir_net -N 1024 -k 256 -maxk 512 -mu 0.7'  with seed 45629\n",
      "INFO:RandomGenerator:LFR:Runing '/opt/gct/submodules/CommunityDetectionCodes/lfr_undir_net -N 1024 -k 256 -maxk 512 -mu 0.7'  with seed 45629\n",
      "2020-05-02 19:25:12,324 - RandomGenerator:LFR - INFO - working dir: /tmp/tmpxk1nil6x\n",
      "INFO:RandomGenerator:LFR:working dir: /tmp/tmpxk1nil6x\n",
      "2020-05-02 19:25:57,869 - RandomGenerator:LFR - INFO - min node is 1. will make it 0\n",
      "INFO:RandomGenerator:LFR:min node is 1. will make it 0\n",
      "2020-05-02 19:25:57,913 - Dataset:EVAL2_LFR_ud_wu_N1024_mu0.7 - INFO - writing/data/data/EVAL2_LFR_ud_wu_N1024_mu0.7/edges.parq\n",
      "INFO:Dataset:EVAL2_LFR_ud_wu_N1024_mu0.7:writing/data/data/EVAL2_LFR_ud_wu_N1024_mu0.7/edges.parq\n",
      "2020-05-02 19:25:57,925 - Clustering - INFO - Writing /data/data/EVAL2_LFR_ud_wu_N1024_mu0.7/gt_default.parq\n",
      "INFO:Clustering:Writing /data/data/EVAL2_LFR_ud_wu_N1024_mu0.7/gt_default.parq\n",
      "2020-05-02 19:25:57,931 - RandomGenerator:LFR - INFO - Runing '/opt/gct/submodules/CommunityDetectionCodes/lfr_undir_net -N 1024 -k 256 -maxk 512 -mu 0.8'  with seed 51705\n",
      "INFO:RandomGenerator:LFR:Runing '/opt/gct/submodules/CommunityDetectionCodes/lfr_undir_net -N 1024 -k 256 -maxk 512 -mu 0.8'  with seed 51705\n",
      "2020-05-02 19:25:57,932 - RandomGenerator:LFR - INFO - working dir: /tmp/tmpumu5y205\n",
      "INFO:RandomGenerator:LFR:working dir: /tmp/tmpumu5y205\n",
      "2020-05-02 19:26:48,285 - RandomGenerator:LFR - INFO - min node is 1. will make it 0\n",
      "INFO:RandomGenerator:LFR:min node is 1. will make it 0\n",
      "2020-05-02 19:26:48,341 - Dataset:EVAL2_LFR_ud_wu_N1024_mu0.8 - INFO - writing/data/data/EVAL2_LFR_ud_wu_N1024_mu0.8/edges.parq\n",
      "INFO:Dataset:EVAL2_LFR_ud_wu_N1024_mu0.8:writing/data/data/EVAL2_LFR_ud_wu_N1024_mu0.8/edges.parq\n",
      "2020-05-02 19:26:48,352 - Clustering - INFO - Writing /data/data/EVAL2_LFR_ud_wu_N1024_mu0.8/gt_default.parq\n",
      "INFO:Clustering:Writing /data/data/EVAL2_LFR_ud_wu_N1024_mu0.8/gt_default.parq\n",
      "2020-05-02 19:26:48,358 - RandomGenerator:LFR - INFO - Runing '/opt/gct/submodules/CommunityDetectionCodes/lfr_undir_net -N 1024 -k 256 -maxk 512 -mu 0.9'  with seed 991106\n",
      "INFO:RandomGenerator:LFR:Runing '/opt/gct/submodules/CommunityDetectionCodes/lfr_undir_net -N 1024 -k 256 -maxk 512 -mu 0.9'  with seed 991106\n",
      "2020-05-02 19:26:48,359 - RandomGenerator:LFR - INFO - working dir: /tmp/tmphd2u2xql\n",
      "INFO:RandomGenerator:LFR:working dir: /tmp/tmphd2u2xql\n",
      "2020-05-02 19:27:51,413 - RandomGenerator:LFR - INFO - min node is 1. will make it 0\n",
      "INFO:RandomGenerator:LFR:min node is 1. will make it 0\n",
      "2020-05-02 19:27:51,456 - Dataset:EVAL2_LFR_ud_wu_N1024_mu0.9 - INFO - writing/data/data/EVAL2_LFR_ud_wu_N1024_mu0.9/edges.parq\n",
      "INFO:Dataset:EVAL2_LFR_ud_wu_N1024_mu0.9:writing/data/data/EVAL2_LFR_ud_wu_N1024_mu0.9/edges.parq\n",
      "2020-05-02 19:27:51,467 - Clustering - INFO - Writing /data/data/EVAL2_LFR_ud_wu_N1024_mu0.9/gt_default.parq\n",
      "INFO:Clustering:Writing /data/data/EVAL2_LFR_ud_wu_N1024_mu0.9/gt_default.parq\n"
     ]
    }
   ],
   "source": [
    "for size in sizes:\n",
    "    for mu in mus:\n",
    "        make_graph(size,mu)"
   ]
  },
  {
   "cell_type": "code",
   "execution_count": 10,
   "metadata": {},
   "outputs": [],
   "source": [
    "import os\n",
    "def run_alg(algname,dataname):\n",
    "    print(\"running\", algname,dataname)\n",
    "    retcode = os.system(\"timeout -k 1h 1h python run_alg.py {} {} 1 >  /data/log/{}_{}.log 2>&1\".format(algname,dataname, algname,dataname))\n",
    "    return retcode\n"
   ]
  },
  {
   "cell_type": "code",
   "execution_count": 5,
   "metadata": {},
   "outputs": [
    {
     "data": {
      "text/plain": [
       "['EVAL2_LFR_ud_wu_N128_mu0.1',\n",
       " 'EVAL2_LFR_ud_wu_N128_mu0.2',\n",
       " 'EVAL2_LFR_ud_wu_N128_mu0.3']"
      ]
     },
     "execution_count": 5,
     "metadata": {},
     "output_type": "execute_result"
    }
   ],
   "source": [
    "datanames=[]\n",
    "for N in sizes:\n",
    "    for mu in mus:\n",
    "        datanames.append( \"EVAL2_LFR_ud_wu_N{}_mu{}\".format(N,mu))\n",
    "datanames[:3]        "
   ]
  },
  {
   "cell_type": "code",
   "execution_count": 6,
   "metadata": {},
   "outputs": [
    {
     "data": {
      "text/plain": [
       "74"
      ]
     },
     "execution_count": 6,
     "metadata": {},
     "output_type": "execute_result"
    }
   ],
   "source": [
    "import numpy as np\n",
    "algs =gct.list_algorithms()\n",
    "np.random.shuffle(algs)\n",
    "algs=[u for u in algs if u not in {\n",
    "    'igraph_community_edge_betweenness',\n",
    "    'igraph_community_optimal_modularity',\n",
    "    'snap_Girvan_Newman',\n",
    "    'cdc_FastCpm',\n",
    "    'cdc_EAGLE'\n",
    "}]\n",
    "len(algs)"
   ]
  },
  {
   "cell_type": "code",
   "execution_count": 7,
   "metadata": {},
   "outputs": [],
   "source": [
    "from gct import utils\n",
    "def has_run(runame, dsname):\n",
    "    fpath = os.path.join(\"/{}/tmp/{}_{}.done\".format('data', runame,dsname))\n",
    "    return utils.file_exists(fpath)\n"
   ]
  },
  {
   "cell_type": "code",
   "execution_count": 11,
   "metadata": {},
   "outputs": [],
   "source": [
    "def run_alg2(algname):\n",
    "    for dataname in datanames:\n",
    "        if not has_run(algname,dataname):\n",
    "            if not (run_alg(algname,dataname)==0):\n",
    "                break    "
   ]
  },
  {
   "cell_type": "code",
   "execution_count": null,
   "metadata": {},
   "outputs": [],
   "source": [
    "from joblib import Parallel, delayed\n",
    "Parallel(n_jobs=4)(delayed(run_alg2)(u) for u in algs)"
   ]
  },
  {
   "cell_type": "code",
   "execution_count": null,
   "metadata": {},
   "outputs": [],
   "source": [
    "for algname in algs:\n",
    "    for dataname in datanames:\n",
    "        if not has_run(algname,dataname):\n",
    "            if not (run_alg(algname,dataname)==0):\n",
    "                break"
   ]
  },
  {
   "cell_type": "code",
   "execution_count": 42,
   "metadata": {},
   "outputs": [
    {
     "data": {
      "text/plain": [
       "1903"
      ]
     },
     "execution_count": 42,
     "metadata": {},
     "output_type": "execute_result"
    }
   ],
   "source": [
    "results = {}\n",
    "d = gct.list_all_clustering_results(print_format=False)\n",
    "for u in d:\n",
    "    if \"EVAL2_LFR_ud_wu_N\" in u:\n",
    "        for run in d[u]:\n",
    "            a = gct.load_clustering_result(u, run)\n",
    "            results[u + run] = a\n",
    "\n",
    "len(results)"
   ]
  },
  {
   "cell_type": "code",
   "execution_count": 43,
   "metadata": {
    "scrolled": true
   },
   "outputs": [],
   "source": [
    "for u in results.values():\n",
    "    #print( u)\n",
    "    break"
   ]
  },
  {
   "cell_type": "code",
   "execution_count": 44,
   "metadata": {},
   "outputs": [],
   "source": [
    "import pandas as pd\n",
    "df = pd.DataFrame([[u['runname'],u['dataname'],u['timecost'], len(u['clusters'])] for u in results.values()],\\\n",
    "                    columns=['alg','dataname','timecost','#cluster'])"
   ]
  },
  {
   "cell_type": "code",
   "execution_count": 45,
   "metadata": {},
   "outputs": [],
   "source": [
    "df[\"N\"]=df['dataname'].map(lambda u: int(u.split(\"_\")[-2][1:]))\n",
    "df[\"mu\"]=df['dataname'].map(lambda u: float(u.split(\"_\")[-1][2:]))"
   ]
  },
  {
   "cell_type": "code",
   "execution_count": 46,
   "metadata": {},
   "outputs": [],
   "source": [
    "gtdict={dsname:list(gct.load_local_graph(dsname).get_ground_truth().values())[0] for dsname in set(df['dataname'])}\n"
   ]
  },
  {
   "cell_type": "code",
   "execution_count": 47,
   "metadata": {},
   "outputs": [],
   "source": [
    "def calc_nmi(dataname,algname):\n",
    "    gt=gtdict[dataname]\n",
    "    clu = results[dataname+algname]\n",
    "    compa = gct.ClusterComparator(gt, clu)            \n",
    "    return compa.sklean_nmi()"
   ]
  },
  {
   "cell_type": "code",
   "execution_count": null,
   "metadata": {
    "scrolled": true
   },
   "outputs": [],
   "source": [
    "df['nmi']=df.apply(lambda u: calc_nmi(u['dataname'],u['alg']),axis=1).astype(np.float32)"
   ]
  },
  {
   "cell_type": "code",
   "execution_count": 49,
   "metadata": {},
   "outputs": [],
   "source": [
    "df['nmi']=df['nmi'].astype(np.float32)"
   ]
  },
  {
   "cell_type": "code",
   "execution_count": 50,
   "metadata": {
    "scrolled": false
   },
   "outputs": [
    {
     "data": {
      "text/html": [
       "<div>\n",
       "<style scoped>\n",
       "    .dataframe tbody tr th:only-of-type {\n",
       "        vertical-align: middle;\n",
       "    }\n",
       "\n",
       "    .dataframe tbody tr th {\n",
       "        vertical-align: top;\n",
       "    }\n",
       "\n",
       "    .dataframe thead th {\n",
       "        text-align: right;\n",
       "    }\n",
       "</style>\n",
       "<table border=\"1\" class=\"dataframe\">\n",
       "  <thead>\n",
       "    <tr style=\"text-align: right;\">\n",
       "      <th></th>\n",
       "      <th>alg</th>\n",
       "      <th>dataname</th>\n",
       "      <th>timecost</th>\n",
       "      <th>#cluster</th>\n",
       "      <th>N</th>\n",
       "      <th>mu</th>\n",
       "      <th>nmi</th>\n",
       "    </tr>\n",
       "  </thead>\n",
       "  <tbody>\n",
       "    <tr>\n",
       "      <th>0</th>\n",
       "      <td>mcl_MCL</td>\n",
       "      <td>EVAL2_LFR_ud_wu_N128_mu0.1</td>\n",
       "      <td>0.035606</td>\n",
       "      <td>2</td>\n",
       "      <td>128</td>\n",
       "      <td>0.1</td>\n",
       "      <td>1.0</td>\n",
       "    </tr>\n",
       "    <tr>\n",
       "      <th>1</th>\n",
       "      <td>scan_Scanpp</td>\n",
       "      <td>EVAL2_LFR_ud_wu_N128_mu0.1</td>\n",
       "      <td>0.009535</td>\n",
       "      <td>1</td>\n",
       "      <td>128</td>\n",
       "      <td>0.1</td>\n",
       "      <td>0.0</td>\n",
       "    </tr>\n",
       "    <tr>\n",
       "      <th>2</th>\n",
       "      <td>igraph_community_infomap</td>\n",
       "      <td>EVAL2_LFR_ud_wu_N128_mu0.1</td>\n",
       "      <td>0.024553</td>\n",
       "      <td>2</td>\n",
       "      <td>128</td>\n",
       "      <td>0.1</td>\n",
       "      <td>1.0</td>\n",
       "    </tr>\n",
       "    <tr>\n",
       "      <th>3</th>\n",
       "      <td>dct_dlplm</td>\n",
       "      <td>EVAL2_LFR_ud_wu_N128_mu0.1</td>\n",
       "      <td>0.308448</td>\n",
       "      <td>2</td>\n",
       "      <td>128</td>\n",
       "      <td>0.1</td>\n",
       "      <td>1.0</td>\n",
       "    </tr>\n",
       "    <tr>\n",
       "      <th>4</th>\n",
       "      <td>igraph_community_spinglass</td>\n",
       "      <td>EVAL2_LFR_ud_wu_N128_mu0.1</td>\n",
       "      <td>0.075872</td>\n",
       "      <td>2</td>\n",
       "      <td>128</td>\n",
       "      <td>0.1</td>\n",
       "      <td>1.0</td>\n",
       "    </tr>\n",
       "  </tbody>\n",
       "</table>\n",
       "</div>"
      ],
      "text/plain": [
       "                          alg                    dataname  timecost  #cluster  \\\n",
       "0                     mcl_MCL  EVAL2_LFR_ud_wu_N128_mu0.1  0.035606         2   \n",
       "1                 scan_Scanpp  EVAL2_LFR_ud_wu_N128_mu0.1  0.009535         1   \n",
       "2    igraph_community_infomap  EVAL2_LFR_ud_wu_N128_mu0.1  0.024553         2   \n",
       "3                   dct_dlplm  EVAL2_LFR_ud_wu_N128_mu0.1  0.308448         2   \n",
       "4  igraph_community_spinglass  EVAL2_LFR_ud_wu_N128_mu0.1  0.075872         2   \n",
       "\n",
       "     N   mu  nmi  \n",
       "0  128  0.1  1.0  \n",
       "1  128  0.1  0.0  \n",
       "2  128  0.1  1.0  \n",
       "3  128  0.1  1.0  \n",
       "4  128  0.1  1.0  "
      ]
     },
     "metadata": {},
     "output_type": "display_data"
    }
   ],
   "source": [
    "with pd.option_context('display.max_rows', 2000, 'display.max_columns', 200):\n",
    "    display (df.head())"
   ]
  },
  {
   "cell_type": "code",
   "execution_count": 51,
   "metadata": {
    "scrolled": false
   },
   "outputs": [
    {
     "data": {
      "text/html": [
       "<div>\n",
       "<style scoped>\n",
       "    .dataframe tbody tr th:only-of-type {\n",
       "        vertical-align: middle;\n",
       "    }\n",
       "\n",
       "    .dataframe tbody tr th {\n",
       "        vertical-align: top;\n",
       "    }\n",
       "\n",
       "    .dataframe thead th {\n",
       "        text-align: right;\n",
       "    }\n",
       "</style>\n",
       "<table border=\"1\" class=\"dataframe\">\n",
       "  <thead>\n",
       "    <tr style=\"text-align: right;\">\n",
       "      <th></th>\n",
       "      <th>alg</th>\n",
       "      <th>dataname</th>\n",
       "      <th>timecost</th>\n",
       "      <th>#cluster</th>\n",
       "      <th>N</th>\n",
       "      <th>mu</th>\n",
       "      <th>nmi</th>\n",
       "    </tr>\n",
       "  </thead>\n",
       "  <tbody>\n",
       "    <tr>\n",
       "      <th>1290</th>\n",
       "      <td>mcl_MCL</td>\n",
       "      <td>EVAL2_LFR_ud_wu_N1024_mu0.1</td>\n",
       "      <td>3.251026</td>\n",
       "      <td>3</td>\n",
       "      <td>1024</td>\n",
       "      <td>0.1</td>\n",
       "      <td>1.0</td>\n",
       "    </tr>\n",
       "    <tr>\n",
       "      <th>1585</th>\n",
       "      <td>networkit_PLM</td>\n",
       "      <td>EVAL2_LFR_ud_wu_N1024_mu0.5</td>\n",
       "      <td>0.046089</td>\n",
       "      <td>4</td>\n",
       "      <td>1024</td>\n",
       "      <td>0.5</td>\n",
       "      <td>1.0</td>\n",
       "    </tr>\n",
       "    <tr>\n",
       "      <th>1408</th>\n",
       "      <td>alg_lso_cluster</td>\n",
       "      <td>EVAL2_LFR_ud_wu_N1024_mu0.2</td>\n",
       "      <td>0.284624</td>\n",
       "      <td>2</td>\n",
       "      <td>1024</td>\n",
       "      <td>0.2</td>\n",
       "      <td>1.0</td>\n",
       "    </tr>\n",
       "    <tr>\n",
       "      <th>1607</th>\n",
       "      <td>igraph_community_multilevel</td>\n",
       "      <td>EVAL2_LFR_ud_wu_N1024_mu0.5</td>\n",
       "      <td>0.158661</td>\n",
       "      <td>4</td>\n",
       "      <td>1024</td>\n",
       "      <td>0.5</td>\n",
       "      <td>1.0</td>\n",
       "    </tr>\n",
       "    <tr>\n",
       "      <th>1595</th>\n",
       "      <td>dct_seq_louvain</td>\n",
       "      <td>EVAL2_LFR_ud_wu_N1024_mu0.5</td>\n",
       "      <td>0.255987</td>\n",
       "      <td>4</td>\n",
       "      <td>1024</td>\n",
       "      <td>0.5</td>\n",
       "      <td>1.0</td>\n",
       "    </tr>\n",
       "  </tbody>\n",
       "</table>\n",
       "</div>"
      ],
      "text/plain": [
       "                              alg                     dataname  timecost  \\\n",
       "1290                      mcl_MCL  EVAL2_LFR_ud_wu_N1024_mu0.1  3.251026   \n",
       "1585                networkit_PLM  EVAL2_LFR_ud_wu_N1024_mu0.5  0.046089   \n",
       "1408              alg_lso_cluster  EVAL2_LFR_ud_wu_N1024_mu0.2  0.284624   \n",
       "1607  igraph_community_multilevel  EVAL2_LFR_ud_wu_N1024_mu0.5  0.158661   \n",
       "1595              dct_seq_louvain  EVAL2_LFR_ud_wu_N1024_mu0.5  0.255987   \n",
       "\n",
       "      #cluster     N   mu  nmi  \n",
       "1290         3  1024  0.1  1.0  \n",
       "1585         4  1024  0.5  1.0  \n",
       "1408         2  1024  0.2  1.0  \n",
       "1607         4  1024  0.5  1.0  \n",
       "1595         4  1024  0.5  1.0  "
      ]
     },
     "metadata": {},
     "output_type": "display_data"
    }
   ],
   "source": [
    "with pd.option_context('display.max_rows', 2000, 'display.max_columns', 200):\n",
    "    a=df[df['N']==1024].sort_values(\"nmi\",ascending=False).head()\n",
    "    display(a)"
   ]
  },
  {
   "cell_type": "code",
   "execution_count": null,
   "metadata": {},
   "outputs": [],
   "source": []
  },
  {
   "cell_type": "code",
   "execution_count": null,
   "metadata": {},
   "outputs": [],
   "source": []
  },
  {
   "cell_type": "code",
   "execution_count": 52,
   "metadata": {},
   "outputs": [
    {
     "name": "stdout",
     "output_type": "stream",
     "text": [
      "Populating the interactive namespace from numpy and matplotlib\n"
     ]
    }
   ],
   "source": [
    "%pylab inline"
   ]
  },
  {
   "cell_type": "code",
   "execution_count": 53,
   "metadata": {},
   "outputs": [],
   "source": [
    "def plot_mu_N(alg,N):\n",
    "    adf=df[(df['alg']==alg) & (df['N']==N)].sort_values(\"mu\")\n",
    "    plt.plot(adf[\"mu\"].values,adf[\"nmi\"].values,'-o')\n",
    "    plt.title(\"{} N{}\".format(alg,N))\n",
    "    plt.show()\n",
    "def plot_mu(alg):\n",
    "    l = []\n",
    "    for N in set(df[\"N\"]):\n",
    "        adf=df[(df['alg']==alg) & (df['N']==N)].sort_values(\"mu\")\n",
    "        plt.plot(adf[\"mu\"].values,adf[\"nmi\"].values,'-o', alpha=0.5)\n",
    "        l.append(str(N))\n",
    "    plt.title(\"{}\".format(alg))\n",
    "    plt.legend(l)\n",
    "    plt.ylim(-0.1,1.1)\n",
    "    plt.ylabel('nmi')\n",
    "    plt.xlabel('mu')\n",
    "    plt.show()    "
   ]
  },
  {
   "cell_type": "code",
   "execution_count": 54,
   "metadata": {},
   "outputs": [],
   "source": [
    "algname=\"alg_pg_label_propagation\"\n",
    "for dataname in datanames:\n",
    "    if not has_run(algname,dataname):\n",
    "        if not (run_alg(algname,dataname)==0):\n",
    "            run_alg(algname, dataname)"
   ]
  },
  {
   "cell_type": "code",
   "execution_count": 55,
   "metadata": {},
   "outputs": [
    {
     "data": {
      "image/png": "[encoded data removed]",
      "text/plain": [
       "<Figure size 432x288 with 1 Axes>"
      ]
     },
     "metadata": {
      "needs_background": "light"
     },
     "output_type": "display_data"
    }
   ],
   "source": [
    "plot_mu('alg_pg_label_propagation')"
   ]
  },
  {
   "cell_type": "code",
   "execution_count": null,
   "metadata": {
    "scrolled": false
   },
   "outputs": [],
   "source": [
    "for alg in set(df['alg']):\n",
    "    plot_mu(alg)"
   ]
  },
  {
   "cell_type": "code",
   "execution_count": null,
   "metadata": {},
   "outputs": [],
   "source": []
  }
 ],
 "metadata": {
  "kernelspec": {
   "display_name": "Python [conda env:python3]",
   "language": "python",
   "name": "conda-env-python3-py"
  },
  "language_info": {
   "codemirror_mode": {
    "name": "ipython",
    "version": 3
   },
   "file_extension": ".py",
   "mimetype": "text/x-python",
   "name": "python",
   "nbconvert_exporter": "python",
   "pygments_lexer": "ipython3",
   "version": "3.7.6"
  }
 },
 "nbformat": 4,
 "nbformat_minor": 2
}
