{
 "cells": [
  {
   "cell_type": "code",
   "execution_count": 2,
   "metadata": {},
   "outputs": [
    {
     "data": {
      "text/html": [
       "\n",
       "\t\t\t<script type=\"text/javascript\">\n",
       "\t\t\t<!--\n",
       "\t\t\t\t\n",
       "\t\t\t{\n",
       "\t\t\t\tvar element = document.getElementById('NetworKit_script');\n",
       "\t\t\t\tif (element) {\n",
       "\t\t\t\t\telement.parentNode.removeChild(element);\n",
       "\t\t\t\t}\n",
       "\t\t\t\telement = document.createElement('script');\n",
       "\t\t\t\telement.type = 'text/javascript';\n",
       "\t\t\t\telement.innerHTML = 'function NetworKit_pageEmbed(id) { var i, j; var elements; elements = document.getElementById(id).getElementsByClassName(\"Plot\"); for (i=0; i<elements.length; i++) { elements[i].id = id + \"_Plot_\" + i; var data = elements[i].getAttribute(\"data-image\").split(\"|\"); elements[i].removeAttribute(\"data-image\"); var content = \"<div class=\\\\\"Image\\\\\" id=\\\\\"\" + elements[i].id + \"_Image\\\\\" />\"; elements[i].innerHTML = content; elements[i].setAttribute(\"data-image-index\", 0); elements[i].setAttribute(\"data-image-length\", data.length); for (j=0; j<data.length; j++) { elements[i].setAttribute(\"data-image-\" + j, data[j]); } NetworKit_plotUpdate(elements[i]); elements[i].onclick = function (e) { NetworKit_overlayShow((e.target) ? e.target : e.srcElement); } } elements = document.getElementById(id).getElementsByClassName(\"HeatCell\"); for (i=0; i<elements.length; i++) { var data = parseFloat(elements[i].getAttribute(\"data-heat\")); var color = \"#00FF00\"; if (data <= 1 && data > 0) { color = \"hsla(0, 100%, 75%, \" + (data) + \")\"; } else if (data <= 0 && data >= -1) { color = \"hsla(240, 100%, 75%, \" + (-data) + \")\"; } elements[i].style.backgroundColor = color; } elements = document.getElementById(id).getElementsByClassName(\"Details\"); for (i=0; i<elements.length; i++) { elements[i].setAttribute(\"data-title\", \"-\"); NetworKit_toggleDetails(elements[i]); elements[i].onclick = function (e) { NetworKit_toggleDetails((e.target) ? e.target : e.srcElement); } } elements = document.getElementById(id).getElementsByClassName(\"MathValue\"); for (i=elements.length-1; i>=0; i--) { value = elements[i].innerHTML.trim(); if (value === \"nan\") { elements[i].parentNode.innerHTML = \"\" } } elements = document.getElementById(id).getElementsByClassName(\"SubCategory\"); for (i=elements.length-1; i>=0; i--) { value = elements[i].innerHTML.trim(); if (value === \"\") { elements[i].parentNode.removeChild(elements[i]) } } elements = document.getElementById(id).getElementsByClassName(\"Category\"); for (i=elements.length-1; i>=0; i--) { value = elements[i].innerHTML.trim(); if (value === \"\") { elements[i].parentNode.removeChild(elements[i]) } } var isFirefox = false; try { isFirefox = typeof InstallTrigger !== \"undefined\"; } catch (e) {} if (!isFirefox) { alert(\"Currently the function\\'s output is only fully supported by Firefox.\"); } } function NetworKit_plotUpdate(source) { var index = source.getAttribute(\"data-image-index\"); var data = source.getAttribute(\"data-image-\" + index); var image = document.getElementById(source.id + \"_Image\"); image.style.backgroundImage = \"url(\" + data + \")\"; } function NetworKit_showElement(id, show) { var element = document.getElementById(id); element.style.display = (show) ? \"block\" : \"none\"; } function NetworKit_overlayShow(source) { NetworKit_overlayUpdate(source); NetworKit_showElement(\"NetworKit_Overlay\", true); } function NetworKit_overlayUpdate(source) { document.getElementById(\"NetworKit_Overlay_Title\").innerHTML = source.title; var index = source.getAttribute(\"data-image-index\"); var data = source.getAttribute(\"data-image-\" + index); var image = document.getElementById(\"NetworKit_Overlay_Image\"); image.setAttribute(\"data-id\", source.id); image.style.backgroundImage = \"url(\" + data + \")\"; var link = document.getElementById(\"NetworKit_Overlay_Toolbar_Bottom_Save\"); link.href = data; link.download = source.title + \".svg\"; } function NetworKit_overlayImageShift(delta) { var image = document.getElementById(\"NetworKit_Overlay_Image\"); var source = document.getElementById(image.getAttribute(\"data-id\")); var index = parseInt(source.getAttribute(\"data-image-index\")); var length = parseInt(source.getAttribute(\"data-image-length\")); var index = (index+delta) % length; if (index < 0) { index = length + index; } source.setAttribute(\"data-image-index\", index); NetworKit_overlayUpdate(source); } function NetworKit_toggleDetails(source) { var childs = source.children; var show = false; if (source.getAttribute(\"data-title\") == \"-\") { source.setAttribute(\"data-title\", \"+\"); show = false; } else { source.setAttribute(\"data-title\", \"-\"); show = true; } for (i=0; i<childs.length; i++) { if (show) { childs[i].style.display = \"block\"; } else { childs[i].style.display = \"none\"; } } }';\n",
       "\t\t\t\telement.setAttribute('id', 'NetworKit_script');\n",
       "\t\t\t\tdocument.head.appendChild(element);\n",
       "\t\t\t}\n",
       "\t\t\n",
       "\t\t\t\t\n",
       "\t\t\t{\n",
       "\t\t\t\tvar element = document.getElementById('NetworKit_style');\n",
       "\t\t\t\tif (element) {\n",
       "\t\t\t\t\telement.parentNode.removeChild(element);\n",
       "\t\t\t\t}\n",
       "\t\t\t\telement = document.createElement('style');\n",
       "\t\t\t\telement.type = 'text/css';\n",
       "\t\t\t\telement.innerHTML = '.NetworKit_Page { font-family: Arial, Helvetica, sans-serif; font-size: 14px; } .NetworKit_Page .Value:before { font-family: Arial, Helvetica, sans-serif; font-size: 1.05em; content: attr(data-title) \":\"; margin-left: -2.5em; padding-right: 0.5em; } .NetworKit_Page .Details .Value:before { display: block; } .NetworKit_Page .Value { font-family: monospace; white-space: pre; padding-left: 2.5em; white-space: -moz-pre-wrap !important; white-space: -pre-wrap; white-space: -o-pre-wrap; white-space: pre-wrap; word-wrap: break-word; tab-size: 4; -moz-tab-size: 4; } .NetworKit_Page .Category { clear: both; padding-left: 1em; margin-bottom: 1.5em; } .NetworKit_Page .Category:before { content: attr(data-title); font-size: 1.75em; display: block; margin-left: -0.8em; margin-bottom: 0.5em; } .NetworKit_Page .SubCategory { margin-bottom: 1.5em; padding-left: 1em; } .NetworKit_Page .SubCategory:before { font-size: 1.6em; display: block; margin-left: -0.8em; margin-bottom: 0.5em; } .NetworKit_Page .SubCategory[data-title]:before { content: attr(data-title); } .NetworKit_Page .Block { display: block; } .NetworKit_Page .Block:after { content: \".\"; visibility: hidden; display: block; height: 0; clear: both; } .NetworKit_Page .Block .Thumbnail_Overview, .NetworKit_Page .Block .Thumbnail_ScatterPlot { width: 260px; float: left; } .NetworKit_Page .Block .Thumbnail_Overview img, .NetworKit_Page .Block .Thumbnail_ScatterPlot img { width: 260px; } .NetworKit_Page .Block .Thumbnail_Overview:before, .NetworKit_Page .Block .Thumbnail_ScatterPlot:before { display: block; text-align: center; font-weight: bold; } .NetworKit_Page .Block .Thumbnail_Overview:before { content: attr(data-title); } .NetworKit_Page .HeatCell { font-family: \"Courier New\", Courier, monospace; cursor: pointer; } .NetworKit_Page .HeatCell, .NetworKit_Page .HeatCellName { display: inline; padding: 0.1em; margin-right: 2px; background-color: #FFFFFF } .NetworKit_Page .HeatCellName { margin-left: 0.25em; } .NetworKit_Page .HeatCell:before { content: attr(data-heat); display: inline-block; color: #000000; width: 4em; text-align: center; } .NetworKit_Page .Measure { clear: both; } .NetworKit_Page .Measure .Details { cursor: pointer; } .NetworKit_Page .Measure .Details:before { content: \"[\" attr(data-title) \"]\"; display: block; } .NetworKit_Page .Measure .Details .Value { border-left: 1px dotted black; margin-left: 0.4em; padding-left: 3.5em; pointer-events: none; } .NetworKit_Page .Measure .Details .Spacer:before { content: \".\"; opacity: 0.0; pointer-events: none; } .NetworKit_Page .Measure .Plot { width: 440px; height: 440px; cursor: pointer; float: left; margin-left: -0.9em; margin-right: 20px; } .NetworKit_Page .Measure .Plot .Image { background-repeat: no-repeat; background-position: center center; background-size: contain; height: 100%; pointer-events: none; } .NetworKit_Page .Measure .Stat { width: 500px; float: left; } .NetworKit_Page .Measure .Stat .Group { padding-left: 1.25em; margin-bottom: 0.75em; } .NetworKit_Page .Measure .Stat .Group .Title { font-size: 1.1em; display: block; margin-bottom: 0.3em; margin-left: -0.75em; border-right-style: dotted; border-right-width: 1px; border-bottom-style: dotted; border-bottom-width: 1px; background-color: #D0D0D0; padding-left: 0.2em; } .NetworKit_Page .Measure .Stat .Group .List { -webkit-column-count: 3; -moz-column-count: 3; column-count: 3; } .NetworKit_Page .Measure .Stat .Group .List .Entry { position: relative; line-height: 1.75em; } .NetworKit_Page .Measure .Stat .Group .List .Entry[data-tooltip]:before { position: absolute; left: 0; top: -40px; background-color: #808080; color: #ffffff; height: 30px; line-height: 30px; border-radius: 5px; padding: 0 15px; content: attr(data-tooltip); white-space: nowrap; display: none; } .NetworKit_Page .Measure .Stat .Group .List .Entry[data-tooltip]:after { position: absolute; left: 15px; top: -10px; border-top: 7px solid #808080; border-left: 7px solid transparent; border-right: 7px solid transparent; content: \"\"; display: none; } .NetworKit_Page .Measure .Stat .Group .List .Entry[data-tooltip]:hover:after, .NetworKit_Page .Measure .Stat .Group .List .Entry[data-tooltip]:hover:before { display: block; } .NetworKit_Page .Measure .Stat .Group .List .Entry .MathValue { font-family: \"Courier New\", Courier, monospace; } .NetworKit_Page .Measure:after { content: \".\"; visibility: hidden; display: block; height: 0; clear: both; } .NetworKit_Page .PartitionPie { clear: both; } .NetworKit_Page .PartitionPie img { width: 600px; } #NetworKit_Overlay { left: 0px; top: 0px; display: none; position: absolute; width: 100%; height: 100%; background-color: rgba(0,0,0,0.6); z-index: 1000; } #NetworKit_Overlay_Title { position: absolute; color: white; transform: rotate(-90deg); width: 32em; height: 32em; padding-right: 0.5em; padding-top: 0.5em; text-align: right; font-size: 40px; } #NetworKit_Overlay .button { background: white; cursor: pointer; } #NetworKit_Overlay .button:before { size: 13px; display: inline-block; text-align: center; margin-top: 0.5em; margin-bottom: 0.5em; width: 1.5em; height: 1.5em; } #NetworKit_Overlay .icon-close:before { content: \"X\"; } #NetworKit_Overlay .icon-previous:before { content: \"P\"; } #NetworKit_Overlay .icon-next:before { content: \"N\"; } #NetworKit_Overlay .icon-save:before { content: \"S\"; } #NetworKit_Overlay_Toolbar_Top, #NetworKit_Overlay_Toolbar_Bottom { position: absolute; width: 40px; right: 13px; text-align: right; z-index: 1100; } #NetworKit_Overlay_Toolbar_Top { top: 0.5em; } #NetworKit_Overlay_Toolbar_Bottom { Bottom: 0.5em; } #NetworKit_Overlay_ImageContainer { position: absolute; top: 5%; left: 5%; height: 90%; width: 90%; background-repeat: no-repeat; background-position: center center; background-size: contain; } #NetworKit_Overlay_Image { height: 100%; width: 100%; background-repeat: no-repeat; background-position: center center; background-size: contain; }';\n",
       "\t\t\t\telement.setAttribute('id', 'NetworKit_style');\n",
       "\t\t\t\tdocument.head.appendChild(element);\n",
       "\t\t\t}\n",
       "\t\t\n",
       "\t\t\t\t\n",
       "\t\t\t{\n",
       "\t\t\t\tvar element = document.getElementById('NetworKit_Overlay');\n",
       "\t\t\t\tif (element) {\n",
       "\t\t\t\t\telement.parentNode.removeChild(element);\n",
       "\t\t\t\t}\n",
       "\t\t\t\telement = document.createElement('div');\n",
       "\t\t\t\telement.innerHTML = '<div id=\"NetworKit_Overlay_Toolbar_Top\"><div class=\"button icon-close\" id=\"NetworKit_Overlay_Close\" /></div><div id=\"NetworKit_Overlay_Title\" /> <div id=\"NetworKit_Overlay_ImageContainer\"> <div id=\"NetworKit_Overlay_Image\" /> </div> <div id=\"NetworKit_Overlay_Toolbar_Bottom\"> <div class=\"button icon-previous\" onclick=\"NetworKit_overlayImageShift(-1)\" /> <div class=\"button icon-next\" onclick=\"NetworKit_overlayImageShift(1)\" /> <a id=\"NetworKit_Overlay_Toolbar_Bottom_Save\"><div class=\"button icon-save\" /></a> </div>';\n",
       "\t\t\t\telement.setAttribute('id', 'NetworKit_Overlay');\n",
       "\t\t\t\tdocument.body.appendChild(element);\n",
       "\t\t\t\tdocument.getElementById('NetworKit_Overlay_Close').onclick = function (e) {\n",
       "\t\t\t\t\tdocument.getElementById('NetworKit_Overlay').style.display = 'none';\n",
       "\t\t\t\t}\n",
       "\t\t\t}\n",
       "\t\t\n",
       "\t\t\t-->\n",
       "\t\t\t</script>\n",
       "\t\t"
      ]
     },
     "metadata": {},
     "output_type": "display_data"
    }
   ],
   "source": [
    "import gct"
   ]
  },
  {
   "cell_type": "code",
   "execution_count": 7,
   "metadata": {},
   "outputs": [],
   "source": [
    "prefix = \"K_DoesAlgMirrorEdgesTest\"\n",
    "\n",
    "def setup_data():\n",
    "    gct.remove_data(prefix + '_*', dry_run=False)\n",
    "    graph_unweighted_undirect = gct.random_dataset.generate_undirected_unweighted_random_graph_LFR(name=prefix + \"_1\", \\\n",
    "                                       N=128, k=16, maxk=32, mu=0.2, minc=32)\n",
    "    data1 = graph_unweighted_undirect\n",
    "    data2 = data1.as_mirror_edges(newname=prefix + \"_2\", overide=True)\n",
    "    return data1,data2\n"
   ]
  },
  {
   "cell_type": "code",
   "execution_count": 8,
   "metadata": {},
   "outputs": [
    {
     "name": "stderr",
     "output_type": "stream",
     "text": [
      "2020-04-22 22:21:38,746 - RandomGenerator:LFR - INFO - Runing '/opt/gct/submodules/CommunityDetectionCodes/lfr_undir_net -minc 32 -mu 0.2 -maxk 32 -k 16 -N 128'  with seed 54821\n",
      "INFO:RandomGenerator:LFR:Runing '/opt/gct/submodules/CommunityDetectionCodes/lfr_undir_net -minc 32 -mu 0.2 -maxk 32 -k 16 -N 128'  with seed 54821\n",
      "2020-04-22 22:21:38,747 - RandomGenerator:LFR - INFO - working dir: /tmp/tmpsf98gxe3\n",
      "INFO:RandomGenerator:LFR:working dir: /tmp/tmpsf98gxe3\n",
      "2020-04-22 22:21:38,778 - RandomGenerator:LFR - INFO - min node is 1. will make it 0\n",
      "INFO:RandomGenerator:LFR:min node is 1. will make it 0\n",
      "/opt/conda/envs/python3/lib/python3.6/site-packages/pandas/core/frame.py:4238: SettingWithCopyWarning: \n",
      "A value is trying to be set on a copy of a slice from a DataFrame\n",
      "\n",
      "See the caveats in the documentation: http://pandas.pydata.org/pandas-docs/stable/user_guide/indexing.html#returning-a-view-versus-a-copy\n",
      "  return super().rename(**kwargs)\n",
      "2020-04-22 22:21:38,791 - Dataset:K_DoesAlgMirrorEdgesTest_1 - INFO - writing/data/data/K_DoesAlgMirrorEdgesTest_1/edges.parq\n",
      "INFO:Dataset:K_DoesAlgMirrorEdgesTest_1:writing/data/data/K_DoesAlgMirrorEdgesTest_1/edges.parq\n",
      "2020-04-22 22:21:39,144 - Clustering - INFO - Writing /data/data/K_DoesAlgMirrorEdgesTest_1/gt_default.parq\n",
      "INFO:Clustering:Writing /data/data/K_DoesAlgMirrorEdgesTest_1/gt_default.parq\n",
      "2020-04-22 22:21:39,152 - Dataset:K_DoesAlgMirrorEdgesTest_2 - INFO - writing/data/data/K_DoesAlgMirrorEdgesTest_2/edges.parq\n",
      "INFO:Dataset:K_DoesAlgMirrorEdgesTest_2:writing/data/data/K_DoesAlgMirrorEdgesTest_2/edges.parq\n"
     ]
    }
   ],
   "source": [
    "data_w,data_uw=setup_data()"
   ]
  },
  {
   "cell_type": "code",
   "execution_count": 9,
   "metadata": {},
   "outputs": [
    {
     "data": {
      "text/plain": [
       "('K_DoesAlgMirrorEdgesTest_1', 'K_DoesAlgMirrorEdgesTest_2')"
      ]
     },
     "execution_count": 9,
     "metadata": {},
     "output_type": "execute_result"
    }
   ],
   "source": [
    "data_w.name,data_uw.name"
   ]
  },
  {
   "cell_type": "code",
   "execution_count": 10,
   "metadata": {},
   "outputs": [],
   "source": [
    "import os\n",
    "from gct import config,utils\n",
    "def has_run_1(runame, dsname):\n",
    "    fpath = os.path.join(config.get_result_file_path(dsname=dsname, runname=runame), 'result.txt')\n",
    "    return utils.file_exists(fpath)\n",
    "\n",
    "def has_run(runame, dsname):\n",
    "    fpath = os.path.join(\"/{}/tmp/{}_{}.done\".format('data', runame,dsname))\n",
    "    return utils.file_exists(fpath)\n",
    "\n",
    "def timeout(func, args=(), kwargs={}, timeout_duration=1, default=None):\n",
    "    import signal\n",
    "\n",
    "    class TimeoutError(Exception):\n",
    "        pass\n",
    "\n",
    "    def handler(signum, frame):\n",
    "        raise TimeoutError()\n",
    "\n",
    "    # set the timeout handler\n",
    "    signal.signal(signal.SIGALRM, handler) \n",
    "    signal.alarm(timeout_duration)\n",
    "    try:\n",
    "        result = func(*args, **kwargs)\n",
    "    except TimeoutError as exc:\n",
    "        result = default\n",
    "    finally:\n",
    "        signal.alarm(0)\n",
    "\n",
    "    return result\n"
   ]
  },
  {
   "cell_type": "code",
   "execution_count": 11,
   "metadata": {},
   "outputs": [],
   "source": [
    "\n",
    "def run_alg(alg,dsname, check_skip=True):\n",
    "    try:\n",
    "        runname = alg\n",
    "        if not check_skip or (check_skip and not has_run(runname, dsname)):\n",
    "            print (\"runing \", alg, dsname)\n",
    "            if alg =='cdc_SVINET':\n",
    "                gct.run_alg(runname=runname, data=gct.load_local_graph(dsname), algname=alg, seed=123, max_iterations=1000)        \n",
    "            else:\n",
    "                gct.run_alg(runname=runname, data=gct.load_local_graph(dsname), algname=alg, seed=123)\n",
    "            print (\"finished\", alg,dsname)\n",
    "        else:\n",
    "            print(\"skip\", runname,dsname)\n",
    "    except:\n",
    "        print(\"except\", runname,dsname)\n",
    "    return True\n",
    "    \n",
    "\n",
    "def run_alg_timeout(alg,dsname,timeout_duration=600):\n",
    "    if not timeout(run_alg, (alg,dsname), timeout_duration=timeout_duration):\n",
    "        print(\"tiemout\", alg,dsname)\n",
    "    fpath = os.path.join(\"/{}/tmp/{}_{}.done\".format('data', alg,dsname))\n",
    "    !touch {fpath}\n",
    "\n",
    "        \n"
   ]
  },
  {
   "cell_type": "code",
   "execution_count": 12,
   "metadata": {},
   "outputs": [
    {
     "name": "stderr",
     "output_type": "stream",
     "text": [
      "2020-04-22 22:21:51,849 - Dataset:K_DoesAlgMirrorEdgesTest_1 - INFO - writing edges to /data/data/K_DoesAlgMirrorEdgesTest_1/edges.txt\n",
      "INFO:Dataset:K_DoesAlgMirrorEdgesTest_1:writing edges to /data/data/K_DoesAlgMirrorEdgesTest_1/edges.txt\n",
      "2020-04-22 22:21:51,850 - Dataset:K_DoesAlgMirrorEdgesTest_1 - INFO - reading /data/data/K_DoesAlgMirrorEdgesTest_1/edges.parq\n",
      "INFO:Dataset:K_DoesAlgMirrorEdgesTest_1:reading /data/data/K_DoesAlgMirrorEdgesTest_1/edges.parq\n"
     ]
    },
    {
     "name": "stdout",
     "output_type": "stream",
     "text": [
      "runing  oslom_lpm K_DoesAlgMirrorEdgesTest_1\n"
     ]
    },
    {
     "name": "stderr",
     "output_type": "stream",
     "text": [
      "2020-04-22 22:21:52,059 - Dataset:K_DoesAlgMirrorEdgesTest_1 - INFO - finish writing /data/data/K_DoesAlgMirrorEdgesTest_1/edges.txt\n",
      "INFO:Dataset:K_DoesAlgMirrorEdgesTest_1:finish writing /data/data/K_DoesAlgMirrorEdgesTest_1/edges.txt\n",
      "2020-04-22 22:21:52,061 - oslom_lpm - INFO - Running /opt/gct/submodules/OSLOM/lpm -f /tmp/tmpmwxyj67a/edges.txt -r 1 -seed 123\n",
      "INFO:oslom_lpm:Running /opt/gct/submodules/OSLOM/lpm -f /tmp/tmpmwxyj67a/edges.txt -r 1 -seed 123\n",
      "2020-04-22 22:21:52,070 - oslom_lpm - INFO - Made 7 clusters in 0.008058 seconds\n",
      "INFO:oslom_lpm:Made 7 clusters in 0.008058 seconds\n"
     ]
    },
    {
     "name": "stdout",
     "output_type": "stream",
     "text": [
      "finished oslom_lpm K_DoesAlgMirrorEdgesTest_1\n"
     ]
    },
    {
     "data": {
      "text/plain": [
       "True"
      ]
     },
     "execution_count": 12,
     "metadata": {},
     "output_type": "execute_result"
    }
   ],
   "source": [
    "run_alg(\"oslom_lpm\", data_w.name)"
   ]
  },
  {
   "cell_type": "code",
   "execution_count": 14,
   "metadata": {},
   "outputs": [
    {
     "name": "stdout",
     "output_type": "stream",
     "text": [
      "skip oslom_lpm K_DoesAlgMirrorEdgesTest_1\n"
     ]
    }
   ],
   "source": [
    "run_alg_timeout(\"oslom_lpm\", data_w.name)"
   ]
  },
  {
   "cell_type": "code",
   "execution_count": 15,
   "metadata": {
    "scrolled": true
   },
   "outputs": [
    {
     "name": "stderr",
     "output_type": "stream",
     "text": [
      "2020-04-22 22:22:02,906 - oslom_Infohiermap - INFO - Running /opt/gct/submodules/OSLOM/infohiermap_undir 123 /tmp/tmpc691wpqj/pajek.txt 1\n",
      "INFO:oslom_Infohiermap:Running /opt/gct/submodules/OSLOM/infohiermap_undir 123 /tmp/tmpc691wpqj/pajek.txt 1\n",
      "2020-04-22 22:22:02,930 - oslom_Infohiermap - INFO - Made 7 clusters in 0.013972 seconds\n",
      "INFO:oslom_Infohiermap:Made 7 clusters in 0.013972 seconds\n"
     ]
    },
    {
     "name": "stdout",
     "output_type": "stream",
     "text": [
      "runing  oslom_Infohiermap K_DoesAlgMirrorEdgesTest_1\n",
      "finished oslom_Infohiermap K_DoesAlgMirrorEdgesTest_1\n"
     ]
    },
    {
     "name": "stderr",
     "output_type": "stream",
     "text": [
      "2020-04-22 22:22:03,041 - Dataset:K_DoesAlgMirrorEdgesTest_2 - INFO - writing edges to /data/data/K_DoesAlgMirrorEdgesTest_2/edges.txt\n",
      "INFO:Dataset:K_DoesAlgMirrorEdgesTest_2:writing edges to /data/data/K_DoesAlgMirrorEdgesTest_2/edges.txt\n",
      "2020-04-22 22:22:03,043 - Dataset:K_DoesAlgMirrorEdgesTest_2 - INFO - reading /data/data/K_DoesAlgMirrorEdgesTest_2/edges.parq\n",
      "INFO:Dataset:K_DoesAlgMirrorEdgesTest_2:reading /data/data/K_DoesAlgMirrorEdgesTest_2/edges.parq\n"
     ]
    },
    {
     "name": "stdout",
     "output_type": "stream",
     "text": [
      "runing  oslom_Infohiermap K_DoesAlgMirrorEdgesTest_2\n"
     ]
    },
    {
     "name": "stderr",
     "output_type": "stream",
     "text": [
      "2020-04-22 22:22:03,287 - Dataset:K_DoesAlgMirrorEdgesTest_2 - INFO - finish writing /data/data/K_DoesAlgMirrorEdgesTest_2/edges.txt\n",
      "INFO:Dataset:K_DoesAlgMirrorEdgesTest_2:finish writing /data/data/K_DoesAlgMirrorEdgesTest_2/edges.txt\n",
      "2020-04-22 22:22:03,304 - oslom_Infohiermap - INFO - Running /opt/gct/submodules/OSLOM/infohiermap_undir 123 /tmp/tmp3f_ep098/pajek.txt 1\n",
      "INFO:oslom_Infohiermap:Running /opt/gct/submodules/OSLOM/infohiermap_undir 123 /tmp/tmp3f_ep098/pajek.txt 1\n",
      "2020-04-22 22:22:03,327 - oslom_Infohiermap - INFO - Made 7 clusters in 0.013959 seconds\n",
      "INFO:oslom_Infohiermap:Made 7 clusters in 0.013959 seconds\n"
     ]
    },
    {
     "name": "stdout",
     "output_type": "stream",
     "text": [
      "finished oslom_Infohiermap K_DoesAlgMirrorEdgesTest_2\n"
     ]
    },
    {
     "name": "stderr",
     "output_type": "stream",
     "text": [
      "2020-04-22 22:22:03,439 - oslom_Infomap - INFO - Running /opt/gct/submodules/OSLOM2/infomap_dir 123 /tmp/tmpgwwq4ny2/pajek.txt 1\n",
      "INFO:oslom_Infomap:Running /opt/gct/submodules/OSLOM2/infomap_dir 123 /tmp/tmpgwwq4ny2/pajek.txt 1\n",
      "2020-04-22 22:22:03,457 - oslom_Infomap - INFO - Made 7 clusters in 0.009651 seconds\n",
      "INFO:oslom_Infomap:Made 7 clusters in 0.009651 seconds\n"
     ]
    },
    {
     "name": "stdout",
     "output_type": "stream",
     "text": [
      "runing  oslom_Infomap K_DoesAlgMirrorEdgesTest_1\n",
      "finished oslom_Infomap K_DoesAlgMirrorEdgesTest_1\n"
     ]
    },
    {
     "name": "stderr",
     "output_type": "stream",
     "text": [
      "2020-04-22 22:22:03,568 - oslom_Infomap - INFO - Running /opt/gct/submodules/OSLOM2/infomap_dir 123 /tmp/tmp0xzz1qmb/pajek.txt 1\n",
      "INFO:oslom_Infomap:Running /opt/gct/submodules/OSLOM2/infomap_dir 123 /tmp/tmp0xzz1qmb/pajek.txt 1\n",
      "2020-04-22 22:22:03,587 - oslom_Infomap - INFO - Made 7 clusters in 0.009887 seconds\n",
      "INFO:oslom_Infomap:Made 7 clusters in 0.009887 seconds\n"
     ]
    },
    {
     "name": "stdout",
     "output_type": "stream",
     "text": [
      "runing  oslom_Infomap K_DoesAlgMirrorEdgesTest_2\n",
      "finished oslom_Infomap K_DoesAlgMirrorEdgesTest_2\n"
     ]
    },
    {
     "name": "stderr",
     "output_type": "stream",
     "text": [
      "2020-04-22 22:22:03,698 - oslom_OSLOM - INFO - Running /opt/gct/submodules/OSLOM2/oslom_undir -f /tmp/tmp8ksfgzml/edges.txt -uw -r 10 -hr 50 -seed 123 -t 0.1 -cp 0.5\n",
      "INFO:oslom_OSLOM:Running /opt/gct/submodules/OSLOM2/oslom_undir -f /tmp/tmp8ksfgzml/edges.txt -uw -r 10 -hr 50 -seed 123 -t 0.1 -cp 0.5\n"
     ]
    },
    {
     "name": "stdout",
     "output_type": "stream",
     "text": [
      "runing  oslom_OSLOM K_DoesAlgMirrorEdgesTest_1\n"
     ]
    },
    {
     "name": "stderr",
     "output_type": "stream",
     "text": [
      "2020-04-22 22:22:04,353 - oslom_OSLOM - INFO - Made 1 levels of clusters with #clusters [7] in 0.653659 seconds\n",
      "INFO:oslom_OSLOM:Made 1 levels of clusters with #clusters [7] in 0.653659 seconds\n"
     ]
    },
    {
     "name": "stdout",
     "output_type": "stream",
     "text": [
      "finished oslom_OSLOM K_DoesAlgMirrorEdgesTest_1\n"
     ]
    },
    {
     "name": "stderr",
     "output_type": "stream",
     "text": [
      "2020-04-22 22:22:04,465 - oslom_OSLOM - INFO - Running /opt/gct/submodules/OSLOM2/oslom_undir -f /tmp/tmpg0zo7sbr/edges.txt -uw -r 10 -hr 50 -seed 123 -t 0.1 -cp 0.5\n",
      "INFO:oslom_OSLOM:Running /opt/gct/submodules/OSLOM2/oslom_undir -f /tmp/tmpg0zo7sbr/edges.txt -uw -r 10 -hr 50 -seed 123 -t 0.1 -cp 0.5\n"
     ]
    },
    {
     "name": "stdout",
     "output_type": "stream",
     "text": [
      "runing  oslom_OSLOM K_DoesAlgMirrorEdgesTest_2\n"
     ]
    },
    {
     "name": "stderr",
     "output_type": "stream",
     "text": [
      "2020-04-22 22:22:05,124 - oslom_OSLOM - INFO - Made 1 levels of clusters with #clusters [7] in 0.657115 seconds\n",
      "INFO:oslom_OSLOM:Made 1 levels of clusters with #clusters [7] in 0.657115 seconds\n"
     ]
    },
    {
     "name": "stdout",
     "output_type": "stream",
     "text": [
      "finished oslom_OSLOM K_DoesAlgMirrorEdgesTest_2\n"
     ]
    },
    {
     "name": "stderr",
     "output_type": "stream",
     "text": [
      "2020-04-22 22:22:05,236 - oslom_copra - INFO - seed ignored\n",
      "INFO:oslom_copra:seed ignored\n",
      "2020-04-22 22:22:05,238 - oslom_copra - INFO - Running java -cp /opt/gct/submodules/OSLOM2/copra.jar COPRA /tmp/tmpuou933my/edges.txt -w -v 5 -nosplit -extrasimplify -q\n",
      "INFO:oslom_copra:Running java -cp /opt/gct/submodules/OSLOM2/copra.jar COPRA /tmp/tmpuou933my/edges.txt -w -v 5 -nosplit -extrasimplify -q\n"
     ]
    },
    {
     "name": "stdout",
     "output_type": "stream",
     "text": [
      "runing  oslom_copra K_DoesAlgMirrorEdgesTest_1\n"
     ]
    },
    {
     "name": "stderr",
     "output_type": "stream",
     "text": [
      "2020-04-22 22:22:05,365 - oslom_copra - INFO - Made 7 clusters in 0.126281 seconds\n",
      "INFO:oslom_copra:Made 7 clusters in 0.126281 seconds\n"
     ]
    },
    {
     "name": "stdout",
     "output_type": "stream",
     "text": [
      "finished oslom_copra K_DoesAlgMirrorEdgesTest_1\n"
     ]
    },
    {
     "name": "stderr",
     "output_type": "stream",
     "text": [
      "2020-04-22 22:22:05,478 - oslom_copra - INFO - seed ignored\n",
      "INFO:oslom_copra:seed ignored\n",
      "2020-04-22 22:22:05,480 - oslom_copra - INFO - Running java -cp /opt/gct/submodules/OSLOM2/copra.jar COPRA /tmp/tmp6gjpfwjf/edges.txt -w -v 5 -nosplit -extrasimplify -q\n",
      "INFO:oslom_copra:Running java -cp /opt/gct/submodules/OSLOM2/copra.jar COPRA /tmp/tmp6gjpfwjf/edges.txt -w -v 5 -nosplit -extrasimplify -q\n"
     ]
    },
    {
     "name": "stdout",
     "output_type": "stream",
     "text": [
      "runing  oslom_copra K_DoesAlgMirrorEdgesTest_2\n"
     ]
    },
    {
     "name": "stderr",
     "output_type": "stream",
     "text": [
      "2020-04-22 22:22:05,615 - oslom_copra - INFO - Made 7 clusters in 0.133438 seconds\n",
      "INFO:oslom_copra:Made 7 clusters in 0.133438 seconds\n"
     ]
    },
    {
     "name": "stdout",
     "output_type": "stream",
     "text": [
      "finished oslom_copra K_DoesAlgMirrorEdgesTest_2\n"
     ]
    },
    {
     "name": "stderr",
     "output_type": "stream",
     "text": [
      "2020-04-22 22:22:05,728 - oslom_louvain_method - INFO - Running /opt/gct/submodules/OSLOM/louvain_method -f /tmp/tmpkzpsmumi/edges.txt -r 1 -seed 123\n",
      "INFO:oslom_louvain_method:Running /opt/gct/submodules/OSLOM/louvain_method -f /tmp/tmpkzpsmumi/edges.txt -r 1 -seed 123\n",
      "2020-04-22 22:22:05,740 - oslom_louvain_method - INFO - Made 7 clusters in 0.010852 seconds\n",
      "INFO:oslom_louvain_method:Made 7 clusters in 0.010852 seconds\n"
     ]
    },
    {
     "name": "stdout",
     "output_type": "stream",
     "text": [
      "runing  oslom_louvain_method K_DoesAlgMirrorEdgesTest_1\n",
      "finished oslom_louvain_method K_DoesAlgMirrorEdgesTest_1\n"
     ]
    },
    {
     "name": "stderr",
     "output_type": "stream",
     "text": [
      "2020-04-22 22:22:05,851 - oslom_louvain_method - INFO - Running /opt/gct/submodules/OSLOM/louvain_method -f /tmp/tmp3gwi7nic/edges.txt -r 1 -seed 123\n",
      "INFO:oslom_louvain_method:Running /opt/gct/submodules/OSLOM/louvain_method -f /tmp/tmp3gwi7nic/edges.txt -r 1 -seed 123\n",
      "2020-04-22 22:22:05,864 - oslom_louvain_method - INFO - Made 7 clusters in 0.011365 seconds\n",
      "INFO:oslom_louvain_method:Made 7 clusters in 0.011365 seconds\n"
     ]
    },
    {
     "name": "stdout",
     "output_type": "stream",
     "text": [
      "runing  oslom_louvain_method K_DoesAlgMirrorEdgesTest_2\n",
      "finished oslom_louvain_method K_DoesAlgMirrorEdgesTest_2\n",
      "skip oslom_lpm K_DoesAlgMirrorEdgesTest_1\n"
     ]
    },
    {
     "name": "stderr",
     "output_type": "stream",
     "text": [
      "2020-04-22 22:22:06,084 - oslom_lpm - INFO - Running /opt/gct/submodules/OSLOM/lpm -f /tmp/tmp6026_8fh/edges.txt -r 1 -seed 123\n",
      "INFO:oslom_lpm:Running /opt/gct/submodules/OSLOM/lpm -f /tmp/tmp6026_8fh/edges.txt -r 1 -seed 123\n",
      "2020-04-22 22:22:06,093 - oslom_lpm - INFO - Made 7 clusters in 0.007573 seconds\n",
      "INFO:oslom_lpm:Made 7 clusters in 0.007573 seconds\n"
     ]
    },
    {
     "name": "stdout",
     "output_type": "stream",
     "text": [
      "runing  oslom_lpm K_DoesAlgMirrorEdgesTest_2\n",
      "finished oslom_lpm K_DoesAlgMirrorEdgesTest_2\n"
     ]
    },
    {
     "name": "stderr",
     "output_type": "stream",
     "text": [
      "2020-04-22 22:22:06,204 - oslom_modopt - INFO - Running /opt/gct/submodules/OSLOM/modopt /tmp/tmpfun8_6i6/edges.txt 123 1 5 0.999 1e-06\n",
      "INFO:oslom_modopt:Running /opt/gct/submodules/OSLOM/modopt /tmp/tmpfun8_6i6/edges.txt 123 1 5 0.999 1e-06\n"
     ]
    },
    {
     "name": "stdout",
     "output_type": "stream",
     "text": [
      "runing  oslom_modopt K_DoesAlgMirrorEdgesTest_1\n"
     ]
    },
    {
     "name": "stderr",
     "output_type": "stream",
     "text": [
      "2020-04-22 22:22:06,288 - oslom_modopt - INFO - Made 7 clusters in 0.083378 seconds\n",
      "INFO:oslom_modopt:Made 7 clusters in 0.083378 seconds\n"
     ]
    },
    {
     "name": "stdout",
     "output_type": "stream",
     "text": [
      "finished oslom_modopt K_DoesAlgMirrorEdgesTest_1\n"
     ]
    },
    {
     "name": "stderr",
     "output_type": "stream",
     "text": [
      "2020-04-22 22:22:06,400 - oslom_modopt - INFO - Running /opt/gct/submodules/OSLOM/modopt /tmp/tmpjrqn4gpn/edges.txt 123 1 5 0.999 1e-06\n",
      "INFO:oslom_modopt:Running /opt/gct/submodules/OSLOM/modopt /tmp/tmpjrqn4gpn/edges.txt 123 1 5 0.999 1e-06\n"
     ]
    },
    {
     "name": "stdout",
     "output_type": "stream",
     "text": [
      "runing  oslom_modopt K_DoesAlgMirrorEdgesTest_2\n"
     ]
    },
    {
     "name": "stderr",
     "output_type": "stream",
     "text": [
      "2020-04-22 22:22:06,487 - oslom_modopt - INFO - Made 7 clusters in 0.085952 seconds\n",
      "INFO:oslom_modopt:Made 7 clusters in 0.085952 seconds\n"
     ]
    },
    {
     "name": "stdout",
     "output_type": "stream",
     "text": [
      "finished oslom_modopt K_DoesAlgMirrorEdgesTest_2\n"
     ]
    },
    {
     "name": "stderr",
     "output_type": "stream",
     "text": [
      "2020-04-22 22:22:06,598 - pycabem_GANXiSw - INFO - Running java -jar /opt/gct/submodules/GANXiS/GANXiSw.jar -i edges.txt -seed 123 -Sym 1 -d output -r 0.1 \n",
      "INFO:pycabem_GANXiSw:Running java -jar /opt/gct/submodules/GANXiS/GANXiSw.jar -i edges.txt -seed 123 -Sym 1 -d output -r 0.1 \n"
     ]
    },
    {
     "name": "stdout",
     "output_type": "stream",
     "text": [
      "runing  pycabem_GANXiSw K_DoesAlgMirrorEdgesTest_1\n"
     ]
    },
    {
     "name": "stderr",
     "output_type": "stream",
     "text": [
      "2020-04-22 22:22:06,785 - pycabem_GANXiSw - INFO - Made 6 clusters in 0.185842 seconds\n",
      "INFO:pycabem_GANXiSw:Made 6 clusters in 0.185842 seconds\n"
     ]
    },
    {
     "name": "stdout",
     "output_type": "stream",
     "text": [
      "finished pycabem_GANXiSw K_DoesAlgMirrorEdgesTest_1\n"
     ]
    },
    {
     "name": "stderr",
     "output_type": "stream",
     "text": [
      "2020-04-22 22:22:06,899 - pycabem_GANXiSw - INFO - Running java -jar /opt/gct/submodules/GANXiS/GANXiSw.jar -i edges.txt -seed 123 -Sym 1 -d output -r 0.1 \n",
      "INFO:pycabem_GANXiSw:Running java -jar /opt/gct/submodules/GANXiS/GANXiSw.jar -i edges.txt -seed 123 -Sym 1 -d output -r 0.1 \n"
     ]
    },
    {
     "name": "stdout",
     "output_type": "stream",
     "text": [
      "runing  pycabem_GANXiSw K_DoesAlgMirrorEdgesTest_2\n"
     ]
    },
    {
     "name": "stderr",
     "output_type": "stream",
     "text": [
      "2020-04-22 22:22:07,080 - pycabem_GANXiSw - INFO - Made 6 clusters in 0.179532 seconds\n",
      "INFO:pycabem_GANXiSw:Made 6 clusters in 0.179532 seconds\n"
     ]
    },
    {
     "name": "stdout",
     "output_type": "stream",
     "text": [
      "finished pycabem_GANXiSw K_DoesAlgMirrorEdgesTest_2\n"
     ]
    },
    {
     "name": "stderr",
     "output_type": "stream",
     "text": [
      "2020-04-22 22:22:07,193 - pycabem_HiReCS - INFO - seed ignored\n",
      "INFO:pycabem_HiReCS:seed ignored\n",
      "2020-04-22 22:22:07,194 - Dataset:K_DoesAlgMirrorEdgesTest_1 - INFO - running python /opt/gct/submodules/hirecs/pajek_hig.py /data/data/K_DoesAlgMirrorEdgesTest_1/pajek.txt\n",
      "INFO:Dataset:K_DoesAlgMirrorEdgesTest_1:running python /opt/gct/submodules/hirecs/pajek_hig.py /data/data/K_DoesAlgMirrorEdgesTest_1/pajek.txt\n",
      "2020-04-22 22:22:07,224 - pycabem_HiReCS - INFO - Running ./hirecs -oje /data/data/K_DoesAlgMirrorEdgesTest_1/pajek.hig > output\n",
      "INFO:pycabem_HiReCS:Running ./hirecs -oje /data/data/K_DoesAlgMirrorEdgesTest_1/pajek.hig > output\n",
      "2020-04-22 22:22:07,237 - pycabem_HiReCS - INFO - Made 7 clusters in 0.010755 seconds with modularity 0.590054\n",
      "INFO:pycabem_HiReCS:Made 7 clusters in 0.010755 seconds with modularity 0.590054\n"
     ]
    },
    {
     "name": "stdout",
     "output_type": "stream",
     "text": [
      "runing  pycabem_HiReCS K_DoesAlgMirrorEdgesTest_1\n",
      "finished pycabem_HiReCS K_DoesAlgMirrorEdgesTest_1\n"
     ]
    },
    {
     "name": "stderr",
     "output_type": "stream",
     "text": [
      "2020-04-22 22:22:07,349 - pycabem_HiReCS - INFO - seed ignored\n",
      "INFO:pycabem_HiReCS:seed ignored\n",
      "2020-04-22 22:22:07,350 - Dataset:K_DoesAlgMirrorEdgesTest_2 - INFO - running python /opt/gct/submodules/hirecs/pajek_hig.py /data/data/K_DoesAlgMirrorEdgesTest_2/pajek.txt\n",
      "INFO:Dataset:K_DoesAlgMirrorEdgesTest_2:running python /opt/gct/submodules/hirecs/pajek_hig.py /data/data/K_DoesAlgMirrorEdgesTest_2/pajek.txt\n",
      "2020-04-22 22:22:07,382 - pycabem_HiReCS - INFO - Running ./hirecs -oje /data/data/K_DoesAlgMirrorEdgesTest_2/pajek.hig > output\n",
      "INFO:pycabem_HiReCS:Running ./hirecs -oje /data/data/K_DoesAlgMirrorEdgesTest_2/pajek.hig > output\n"
     ]
    },
    {
     "name": "stdout",
     "output_type": "stream",
     "text": [
      "runing  pycabem_HiReCS K_DoesAlgMirrorEdgesTest_2\n"
     ]
    },
    {
     "name": "stderr",
     "output_type": "stream",
     "text": [
      "2020-04-22 22:22:07,399 - pycabem_HiReCS - INFO - Made 7 clusters in 0.013731 seconds with modularity 0.590054\n",
      "INFO:pycabem_HiReCS:Made 7 clusters in 0.013731 seconds with modularity 0.590054\n"
     ]
    },
    {
     "name": "stdout",
     "output_type": "stream",
     "text": [
      "finished pycabem_HiReCS K_DoesAlgMirrorEdgesTest_2\n"
     ]
    },
    {
     "name": "stderr",
     "output_type": "stream",
     "text": [
      "2020-04-22 22:22:07,510 - pycabem_LabelRank - INFO - seed ignored\n",
      "INFO:pycabem_LabelRank:seed ignored\n",
      "2020-04-22 22:22:07,512 - pycabem_LabelRank - INFO - Running /opt/gct/submodules/GANXiS/LabelRank edges.txt 0.01 2 0.3\n",
      "INFO:pycabem_LabelRank:Running /opt/gct/submodules/GANXiS/LabelRank edges.txt 0.01 2 0.3\n"
     ]
    },
    {
     "name": "stdout",
     "output_type": "stream",
     "text": [
      "runing  pycabem_LabelRank K_DoesAlgMirrorEdgesTest_1\n"
     ]
    },
    {
     "name": "stderr",
     "output_type": "stream",
     "text": [
      "2020-04-22 22:22:07,578 - pycabem_LabelRank - INFO - Made 7 clusters in 0.064093 seconds\n",
      "INFO:pycabem_LabelRank:Made 7 clusters in 0.064093 seconds\n"
     ]
    },
    {
     "name": "stdout",
     "output_type": "stream",
     "text": [
      "finished pycabem_LabelRank K_DoesAlgMirrorEdgesTest_1\n"
     ]
    },
    {
     "name": "stderr",
     "output_type": "stream",
     "text": [
      "2020-04-22 22:22:07,689 - pycabem_LabelRank - INFO - seed ignored\n",
      "INFO:pycabem_LabelRank:seed ignored\n",
      "2020-04-22 22:22:07,690 - pycabem_LabelRank - INFO - Running /opt/gct/submodules/GANXiS/LabelRank edges.txt 0.01 2 0.3\n",
      "INFO:pycabem_LabelRank:Running /opt/gct/submodules/GANXiS/LabelRank edges.txt 0.01 2 0.3\n"
     ]
    },
    {
     "name": "stdout",
     "output_type": "stream",
     "text": [
      "runing  pycabem_LabelRank K_DoesAlgMirrorEdgesTest_2\n"
     ]
    },
    {
     "name": "stderr",
     "output_type": "stream",
     "text": [
      "2020-04-22 22:22:07,762 - pycabem_LabelRank - INFO - Made 7 clusters in 0.069915 seconds\n",
      "INFO:pycabem_LabelRank:Made 7 clusters in 0.069915 seconds\n"
     ]
    },
    {
     "name": "stdout",
     "output_type": "stream",
     "text": [
      "finished pycabem_LabelRank K_DoesAlgMirrorEdgesTest_2\n"
     ]
    },
    {
     "name": "stderr",
     "output_type": "stream",
     "text": [
      "2020-04-22 22:22:07,873 - cdc_CONGA - INFO - seed ignored\n",
      "INFO:cdc_CONGA:seed ignored\n",
      "2020-04-22 22:22:07,874 - cdc_CONGA - INFO - Running java -cp /opt/gct/submodules/CommunityDetectionCodes/conga-1.0-SNAPSHOT.jar conga.CONGA edges.txt -e -s\n",
      "INFO:cdc_CONGA:Running java -cp /opt/gct/submodules/CommunityDetectionCodes/conga-1.0-SNAPSHOT.jar conga.CONGA edges.txt -e -s\n"
     ]
    },
    {
     "name": "stdout",
     "output_type": "stream",
     "text": [
      "runing  cdc_CONGA K_DoesAlgMirrorEdgesTest_1\n"
     ]
    },
    {
     "name": "stderr",
     "output_type": "stream",
     "text": [
      "2020-04-22 22:22:12,984 - cdc_CONGA - INFO - Finish first step in 5.108343 seconds\n",
      "INFO:cdc_CONGA:Finish first step in 5.108343 seconds\n",
      "2020-04-22 22:22:12,985 - cdc_CONGA - INFO - Running java -cp /opt/gct/submodules/CommunityDetectionCodes/conga-1.0-SNAPSHOT.jar conga.CONGA edges.txt -e -s -n 5\n",
      "INFO:cdc_CONGA:Running java -cp /opt/gct/submodules/CommunityDetectionCodes/conga-1.0-SNAPSHOT.jar conga.CONGA edges.txt -e -s -n 5\n",
      "2020-04-22 22:22:13,092 - cdc_CONGA - INFO - Made 5 clusters in 0.105940 seconds\n",
      "INFO:cdc_CONGA:Made 5 clusters in 0.105940 seconds\n"
     ]
    },
    {
     "name": "stdout",
     "output_type": "stream",
     "text": [
      "finished cdc_CONGA K_DoesAlgMirrorEdgesTest_1\n"
     ]
    },
    {
     "name": "stderr",
     "output_type": "stream",
     "text": [
      "2020-04-22 22:22:13,205 - cdc_CONGA - INFO - seed ignored\n",
      "INFO:cdc_CONGA:seed ignored\n",
      "2020-04-22 22:22:13,206 - cdc_CONGA - INFO - Running java -cp /opt/gct/submodules/CommunityDetectionCodes/conga-1.0-SNAPSHOT.jar conga.CONGA edges.txt -e -s\n",
      "INFO:cdc_CONGA:Running java -cp /opt/gct/submodules/CommunityDetectionCodes/conga-1.0-SNAPSHOT.jar conga.CONGA edges.txt -e -s\n"
     ]
    },
    {
     "name": "stdout",
     "output_type": "stream",
     "text": [
      "runing  cdc_CONGA K_DoesAlgMirrorEdgesTest_2\n"
     ]
    },
    {
     "name": "stderr",
     "output_type": "stream",
     "text": [
      "2020-04-22 22:22:18,209 - cdc_CONGA - INFO - Finish first step in 5.002135 seconds\n",
      "INFO:cdc_CONGA:Finish first step in 5.002135 seconds\n",
      "2020-04-22 22:22:18,210 - cdc_CONGA - INFO - Running java -cp /opt/gct/submodules/CommunityDetectionCodes/conga-1.0-SNAPSHOT.jar conga.CONGA edges.txt -e -s -n 5\n",
      "INFO:cdc_CONGA:Running java -cp /opt/gct/submodules/CommunityDetectionCodes/conga-1.0-SNAPSHOT.jar conga.CONGA edges.txt -e -s -n 5\n",
      "2020-04-22 22:22:18,333 - cdc_CONGA - INFO - Made 5 clusters in 0.121170 seconds\n",
      "INFO:cdc_CONGA:Made 5 clusters in 0.121170 seconds\n"
     ]
    },
    {
     "name": "stdout",
     "output_type": "stream",
     "text": [
      "finished cdc_CONGA K_DoesAlgMirrorEdgesTest_2\n"
     ]
    },
    {
     "name": "stderr",
     "output_type": "stream",
     "text": [
      "2020-04-22 22:22:18,445 - cdc_CliquePercolation - INFO - seed ignored\n",
      "INFO:cdc_CliquePercolation:seed ignored\n",
      "2020-04-22 22:22:18,446 - cdc_CliquePercolation - INFO - Running /opt/gct/submodules/CommunityDetectionCodes/k_clique edges.txt -o=output\n",
      "INFO:cdc_CliquePercolation:Running /opt/gct/submodules/CommunityDetectionCodes/k_clique edges.txt -o=output\n",
      "2020-04-22 22:22:18,456 - cdc_CliquePercolation - INFO - Made 3 clusters in 0.008701 seconds\n",
      "INFO:cdc_CliquePercolation:Made 3 clusters in 0.008701 seconds\n"
     ]
    },
    {
     "name": "stdout",
     "output_type": "stream",
     "text": [
      "runing  cdc_CliquePercolation K_DoesAlgMirrorEdgesTest_1\n",
      "finished cdc_CliquePercolation K_DoesAlgMirrorEdgesTest_1\n",
      "runing  cdc_CliquePercolation K_DoesAlgMirrorEdgesTest_2\n",
      "finished cdc_CliquePercolation K_DoesAlgMirrorEdgesTest_2\n"
     ]
    },
    {
     "name": "stderr",
     "output_type": "stream",
     "text": [
      "Error: only undirected and unmirrored graph is supported for CliquePercolation\n",
      "2020-04-22 22:22:18,676 - cdc_Connected_Iterative_Scan - INFO - seed ignored\n",
      "INFO:cdc_Connected_Iterative_Scan:seed ignored\n",
      "2020-04-22 22:22:18,677 - cdc_Connected_Iterative_Scan - INFO - Running /opt/gct/submodules/CommunityDetectionCodes/2009-cis -i edges.txt -o output\n",
      "INFO:cdc_Connected_Iterative_Scan:Running /opt/gct/submodules/CommunityDetectionCodes/2009-cis -i edges.txt -o output\n",
      "2020-04-22 22:22:18,722 - cdc_Connected_Iterative_Scan - INFO - Made 9 clusters in 0.043953 seconds\n",
      "INFO:cdc_Connected_Iterative_Scan:Made 9 clusters in 0.043953 seconds\n"
     ]
    },
    {
     "name": "stdout",
     "output_type": "stream",
     "text": [
      "runing  cdc_Connected_Iterative_Scan K_DoesAlgMirrorEdgesTest_1\n",
      "finished cdc_Connected_Iterative_Scan K_DoesAlgMirrorEdgesTest_1\n"
     ]
    },
    {
     "name": "stderr",
     "output_type": "stream",
     "text": [
      "2020-04-22 22:22:18,833 - cdc_Connected_Iterative_Scan - INFO - seed ignored\n",
      "INFO:cdc_Connected_Iterative_Scan:seed ignored\n",
      "2020-04-22 22:22:18,834 - cdc_Connected_Iterative_Scan - INFO - Running /opt/gct/submodules/CommunityDetectionCodes/2009-cis -i edges.txt -o output\n",
      "INFO:cdc_Connected_Iterative_Scan:Running /opt/gct/submodules/CommunityDetectionCodes/2009-cis -i edges.txt -o output\n"
     ]
    },
    {
     "name": "stdout",
     "output_type": "stream",
     "text": [
      "runing  cdc_Connected_Iterative_Scan K_DoesAlgMirrorEdgesTest_2\n"
     ]
    },
    {
     "name": "stderr",
     "output_type": "stream",
     "text": [
      "2020-04-22 22:22:18,881 - cdc_Connected_Iterative_Scan - INFO - Made 9 clusters in 0.046143 seconds\n",
      "INFO:cdc_Connected_Iterative_Scan:Made 9 clusters in 0.046143 seconds\n"
     ]
    },
    {
     "name": "stdout",
     "output_type": "stream",
     "text": [
      "finished cdc_Connected_Iterative_Scan K_DoesAlgMirrorEdgesTest_2\n"
     ]
    },
    {
     "name": "stderr",
     "output_type": "stream",
     "text": [
      "2020-04-22 22:22:18,993 - cdc_DEMON - INFO - seed ignored\n",
      "INFO:cdc_DEMON:seed ignored\n",
      "2020-04-22 22:22:18,994 - cdc_DEMON - INFO - Running python /opt/gct/submodules/CommunityDetectionCodes/Algorithms/2012-DEMON/Demon.py edges.txt uw ud 0.25 3\n",
      "INFO:cdc_DEMON:Running python /opt/gct/submodules/CommunityDetectionCodes/Algorithms/2012-DEMON/Demon.py edges.txt uw ud 0.25 3\n"
     ]
    },
    {
     "name": "stdout",
     "output_type": "stream",
     "text": [
      "runing  cdc_DEMON K_DoesAlgMirrorEdgesTest_1\n",
      "except cdc_DEMON K_DoesAlgMirrorEdgesTest_1\n"
     ]
    },
    {
     "name": "stderr",
     "output_type": "stream",
     "text": [
      "2020-04-22 22:22:19,128 - cdc_DEMON - INFO - seed ignored\n",
      "INFO:cdc_DEMON:seed ignored\n",
      "2020-04-22 22:22:19,130 - cdc_DEMON - INFO - Running python /opt/gct/submodules/CommunityDetectionCodes/Algorithms/2012-DEMON/Demon.py edges.txt uw ud 0.25 3\n",
      "INFO:cdc_DEMON:Running python /opt/gct/submodules/CommunityDetectionCodes/Algorithms/2012-DEMON/Demon.py edges.txt uw ud 0.25 3\n"
     ]
    },
    {
     "name": "stdout",
     "output_type": "stream",
     "text": [
      "runing  cdc_DEMON K_DoesAlgMirrorEdgesTest_2\n",
      "except cdc_DEMON K_DoesAlgMirrorEdgesTest_2\n"
     ]
    },
    {
     "name": "stderr",
     "output_type": "stream",
     "text": [
      "2020-04-22 22:22:19,266 - cdc_EAGLE - INFO - seed ignored\n",
      "INFO:cdc_EAGLE:seed ignored\n",
      "2020-04-22 22:22:19,267 - cdc_EAGLE - INFO - Running /opt/gct/submodules/CommunityDetectionCodes/2009-eagle 7 edges.txt undir output\n",
      "INFO:cdc_EAGLE:Running /opt/gct/submodules/CommunityDetectionCodes/2009-eagle 7 edges.txt undir output\n"
     ]
    },
    {
     "name": "stdout",
     "output_type": "stream",
     "text": [
      "runing  cdc_EAGLE K_DoesAlgMirrorEdgesTest_1\n"
     ]
    },
    {
     "name": "stderr",
     "output_type": "stream",
     "text": [
      "2020-04-22 22:22:19,424 - cdc_EAGLE - INFO - Made 7 clusters in 0.156530 seconds\n",
      "INFO:cdc_EAGLE:Made 7 clusters in 0.156530 seconds\n"
     ]
    },
    {
     "name": "stdout",
     "output_type": "stream",
     "text": [
      "finished cdc_EAGLE K_DoesAlgMirrorEdgesTest_1\n"
     ]
    },
    {
     "name": "stderr",
     "output_type": "stream",
     "text": [
      "2020-04-22 22:22:19,537 - cdc_EAGLE - INFO - seed ignored\n",
      "INFO:cdc_EAGLE:seed ignored\n",
      "2020-04-22 22:22:19,538 - cdc_EAGLE - INFO - Running /opt/gct/submodules/CommunityDetectionCodes/2009-eagle 7 edges.txt undir output\n",
      "INFO:cdc_EAGLE:Running /opt/gct/submodules/CommunityDetectionCodes/2009-eagle 7 edges.txt undir output\n"
     ]
    },
    {
     "name": "stdout",
     "output_type": "stream",
     "text": [
      "runing  cdc_EAGLE K_DoesAlgMirrorEdgesTest_2\n"
     ]
    },
    {
     "name": "stderr",
     "output_type": "stream",
     "text": [
      "2020-04-22 22:22:19,733 - cdc_EAGLE - INFO - Made 10 clusters in 0.194186 seconds\n",
      "INFO:cdc_EAGLE:Made 10 clusters in 0.194186 seconds\n"
     ]
    },
    {
     "name": "stdout",
     "output_type": "stream",
     "text": [
      "finished cdc_EAGLE K_DoesAlgMirrorEdgesTest_2\n"
     ]
    },
    {
     "name": "stderr",
     "output_type": "stream",
     "text": [
      "2020-04-22 22:22:19,844 - cdc_FastCpm - INFO - seed ignored\n",
      "INFO:cdc_FastCpm:seed ignored\n",
      "2020-04-22 22:22:19,845 - cdc_FastCpm - INFO - Running /opt/gct/submodules/CommunityDetectionCodes/2012-fast-cpm edges.txt 4 output.cluster\n",
      "INFO:cdc_FastCpm:Running /opt/gct/submodules/CommunityDetectionCodes/2012-fast-cpm edges.txt 4 output.cluster\n",
      "2020-04-22 22:22:19,860 - cdc_FastCpm - INFO - Made 6 clusters in 0.013890 seconds\n",
      "INFO:cdc_FastCpm:Made 6 clusters in 0.013890 seconds\n"
     ]
    },
    {
     "name": "stdout",
     "output_type": "stream",
     "text": [
      "runing  cdc_FastCpm K_DoesAlgMirrorEdgesTest_1\n",
      "finished cdc_FastCpm K_DoesAlgMirrorEdgesTest_1\n"
     ]
    },
    {
     "name": "stderr",
     "output_type": "stream",
     "text": [
      "2020-04-22 22:22:19,971 - cdc_FastCpm - INFO - seed ignored\n",
      "INFO:cdc_FastCpm:seed ignored\n",
      "2020-04-22 22:22:19,972 - cdc_FastCpm - INFO - Running /opt/gct/submodules/CommunityDetectionCodes/2012-fast-cpm edges.txt 4 output.cluster\n",
      "INFO:cdc_FastCpm:Running /opt/gct/submodules/CommunityDetectionCodes/2012-fast-cpm edges.txt 4 output.cluster\n",
      "2020-04-22 22:22:19,991 - cdc_FastCpm - INFO - Made 6 clusters in 0.017418 seconds\n",
      "INFO:cdc_FastCpm:Made 6 clusters in 0.017418 seconds\n"
     ]
    },
    {
     "name": "stdout",
     "output_type": "stream",
     "text": [
      "runing  cdc_FastCpm K_DoesAlgMirrorEdgesTest_2\n",
      "finished cdc_FastCpm K_DoesAlgMirrorEdgesTest_2\n"
     ]
    },
    {
     "name": "stderr",
     "output_type": "stream",
     "text": [
      "2020-04-22 22:22:20,102 - cdc_GCE - INFO - seed ignored\n",
      "INFO:cdc_GCE:seed ignored\n",
      "2020-04-22 22:22:20,103 - cdc_GCE - INFO - Running /opt/gct/submodules/CommunityDetectionCodes/2011-gce edges.txt 4 0.6 1.0 0.75\n",
      "INFO:cdc_GCE:Running /opt/gct/submodules/CommunityDetectionCodes/2011-gce edges.txt 4 0.6 1.0 0.75\n",
      "2020-04-22 22:22:20,114 - cdc_GCE - INFO - Made 7 clusters in 0.009238 seconds\n",
      "INFO:cdc_GCE:Made 7 clusters in 0.009238 seconds\n"
     ]
    },
    {
     "name": "stdout",
     "output_type": "stream",
     "text": [
      "runing  cdc_GCE K_DoesAlgMirrorEdgesTest_1\n",
      "finished cdc_GCE K_DoesAlgMirrorEdgesTest_1\n"
     ]
    },
    {
     "name": "stderr",
     "output_type": "stream",
     "text": [
      "2020-04-22 22:22:20,225 - cdc_GCE - INFO - seed ignored\n",
      "INFO:cdc_GCE:seed ignored\n",
      "2020-04-22 22:22:20,227 - cdc_GCE - INFO - Running /opt/gct/submodules/CommunityDetectionCodes/2011-gce edges.txt 4 0.6 1.0 0.75\n",
      "INFO:cdc_GCE:Running /opt/gct/submodules/CommunityDetectionCodes/2011-gce edges.txt 4 0.6 1.0 0.75\n",
      "2020-04-22 22:22:20,236 - cdc_GCE - INFO - Made 7 clusters in 0.008502 seconds\n",
      "INFO:cdc_GCE:Made 7 clusters in 0.008502 seconds\n"
     ]
    },
    {
     "name": "stdout",
     "output_type": "stream",
     "text": [
      "runing  cdc_GCE K_DoesAlgMirrorEdgesTest_2\n",
      "finished cdc_GCE K_DoesAlgMirrorEdgesTest_2\n"
     ]
    },
    {
     "name": "stderr",
     "output_type": "stream",
     "text": [
      "2020-04-22 22:22:20,347 - cdc_HDEMON - INFO - seed ignored\n",
      "INFO:cdc_HDEMON:seed ignored\n",
      "2020-04-22 22:22:20,349 - cdc_HDEMON - INFO - Running python /opt/gct/submodules/CommunityDetectionCodes/Algorithms/2012-DEMON/HDemon.py edges.txt uw ud 0.25 5\n",
      "INFO:cdc_HDEMON:Running python /opt/gct/submodules/CommunityDetectionCodes/Algorithms/2012-DEMON/HDemon.py edges.txt uw ud 0.25 5\n"
     ]
    },
    {
     "name": "stdout",
     "output_type": "stream",
     "text": [
      "runing  cdc_HDEMON K_DoesAlgMirrorEdgesTest_1\n",
      "except cdc_HDEMON K_DoesAlgMirrorEdgesTest_1\n"
     ]
    },
    {
     "name": "stderr",
     "output_type": "stream",
     "text": [
      "2020-04-22 22:22:20,481 - cdc_HDEMON - INFO - seed ignored\n",
      "INFO:cdc_HDEMON:seed ignored\n",
      "2020-04-22 22:22:20,483 - cdc_HDEMON - INFO - Running python /opt/gct/submodules/CommunityDetectionCodes/Algorithms/2012-DEMON/HDemon.py edges.txt uw ud 0.25 5\n",
      "INFO:cdc_HDEMON:Running python /opt/gct/submodules/CommunityDetectionCodes/Algorithms/2012-DEMON/HDemon.py edges.txt uw ud 0.25 5\n"
     ]
    },
    {
     "name": "stdout",
     "output_type": "stream",
     "text": [
      "runing  cdc_HDEMON K_DoesAlgMirrorEdgesTest_2\n",
      "except cdc_HDEMON K_DoesAlgMirrorEdgesTest_2\n"
     ]
    },
    {
     "name": "stderr",
     "output_type": "stream",
     "text": [
      "2020-04-22 22:22:20,615 - cdc_LinkCommunities - INFO - seed ignored\n",
      "INFO:cdc_LinkCommunities:seed ignored\n",
      "2020-04-22 22:22:20,616 - Dataset:K_DoesAlgMirrorEdgesTest_1 - INFO - reading /data/data/K_DoesAlgMirrorEdgesTest_1/edges.parq\n",
      "INFO:Dataset:K_DoesAlgMirrorEdgesTest_1:reading /data/data/K_DoesAlgMirrorEdgesTest_1/edges.parq\n",
      "2020-04-22 22:22:20,625 - cdc_LinkCommunities - INFO - Running /opt/gct/submodules/CommunityDetectionCodes/calcJaccards edges.pairs edges.jaccs\n",
      "INFO:cdc_LinkCommunities:Running /opt/gct/submodules/CommunityDetectionCodes/calcJaccards edges.pairs edges.jaccs\n",
      "2020-04-22 22:22:20,648 - cdc_LinkCommunities - INFO - Finish first step in 0.022072 seconds\n",
      "INFO:cdc_LinkCommunities:Finish first step in 0.022072 seconds\n",
      "2020-04-22 22:22:20,649 - cdc_LinkCommunities - INFO - Running /opt/gct/submodules/CommunityDetectionCodes/clusterJaccards edges.pairs edges.jaccs edges.clusters.0.01 edges.mc_nc.0.01 0.01\n",
      "INFO:cdc_LinkCommunities:Running /opt/gct/submodules/CommunityDetectionCodes/clusterJaccards edges.pairs edges.jaccs edges.clusters.0.01 edges.mc_nc.0.01 0.01\n",
      "2020-04-22 22:22:20,667 - cdc_LinkCommunities - INFO - Made 1 clusters in 0.016409 seconds\n",
      "INFO:cdc_LinkCommunities:Made 1 clusters in 0.016409 seconds\n"
     ]
    },
    {
     "name": "stdout",
     "output_type": "stream",
     "text": [
      "runing  cdc_LinkCommunities K_DoesAlgMirrorEdgesTest_1\n",
      "finished cdc_LinkCommunities K_DoesAlgMirrorEdgesTest_1\n"
     ]
    },
    {
     "name": "stderr",
     "output_type": "stream",
     "text": [
      "2020-04-22 22:22:20,779 - cdc_LinkCommunities - INFO - seed ignored\n",
      "INFO:cdc_LinkCommunities:seed ignored\n",
      "2020-04-22 22:22:20,779 - Dataset:K_DoesAlgMirrorEdgesTest_2 - INFO - reading /data/data/K_DoesAlgMirrorEdgesTest_2/edges.parq\n",
      "INFO:Dataset:K_DoesAlgMirrorEdgesTest_2:reading /data/data/K_DoesAlgMirrorEdgesTest_2/edges.parq\n",
      "2020-04-22 22:22:20,790 - cdc_LinkCommunities - INFO - Running /opt/gct/submodules/CommunityDetectionCodes/calcJaccards edges.pairs edges.jaccs\n",
      "INFO:cdc_LinkCommunities:Running /opt/gct/submodules/CommunityDetectionCodes/calcJaccards edges.pairs edges.jaccs\n",
      "2020-04-22 22:22:20,813 - cdc_LinkCommunities - INFO - Finish first step in 0.022049 seconds\n",
      "INFO:cdc_LinkCommunities:Finish first step in 0.022049 seconds\n",
      "2020-04-22 22:22:20,814 - cdc_LinkCommunities - INFO - Running /opt/gct/submodules/CommunityDetectionCodes/clusterJaccards edges.pairs edges.jaccs edges.clusters.0.01 edges.mc_nc.0.01 0.01\n",
      "INFO:cdc_LinkCommunities:Running /opt/gct/submodules/CommunityDetectionCodes/clusterJaccards edges.pairs edges.jaccs edges.clusters.0.01 edges.mc_nc.0.01 0.01\n"
     ]
    },
    {
     "name": "stdout",
     "output_type": "stream",
     "text": [
      "runing  cdc_LinkCommunities K_DoesAlgMirrorEdgesTest_2\n"
     ]
    },
    {
     "name": "stderr",
     "output_type": "stream",
     "text": [
      "2020-04-22 22:22:20,834 - cdc_LinkCommunities - INFO - Made 1061 clusters in 0.017351 seconds\n",
      "INFO:cdc_LinkCommunities:Made 1061 clusters in 0.017351 seconds\n"
     ]
    },
    {
     "name": "stdout",
     "output_type": "stream",
     "text": [
      "finished cdc_LinkCommunities K_DoesAlgMirrorEdgesTest_2\n"
     ]
    },
    {
     "name": "stderr",
     "output_type": "stream",
     "text": [
      "2020-04-22 22:22:20,950 - cdc_MOSES - INFO - Running /opt/gct/submodules/CommunityDetectionCodes/2011-moses edges.txt cluster.output --seed 123\n",
      "INFO:cdc_MOSES:Running /opt/gct/submodules/CommunityDetectionCodes/2011-moses edges.txt cluster.output --seed 123\n"
     ]
    },
    {
     "name": "stdout",
     "output_type": "stream",
     "text": [
      "runing  cdc_MOSES K_DoesAlgMirrorEdgesTest_1\n"
     ]
    },
    {
     "name": "stderr",
     "output_type": "stream",
     "text": [
      "2020-04-22 22:22:32,446 - cdc_MOSES - INFO - Made 8 clusters in 11.493994 seconds\n",
      "INFO:cdc_MOSES:Made 8 clusters in 11.493994 seconds\n"
     ]
    },
    {
     "name": "stdout",
     "output_type": "stream",
     "text": [
      "finished cdc_MOSES K_DoesAlgMirrorEdgesTest_1\n"
     ]
    },
    {
     "name": "stderr",
     "output_type": "stream",
     "text": [
      "2020-04-22 22:22:32,558 - cdc_MOSES - INFO - Running /opt/gct/submodules/CommunityDetectionCodes/2011-moses edges.txt cluster.output --seed 123\n",
      "INFO:cdc_MOSES:Running /opt/gct/submodules/CommunityDetectionCodes/2011-moses edges.txt cluster.output --seed 123\n"
     ]
    },
    {
     "name": "stdout",
     "output_type": "stream",
     "text": [
      "runing  cdc_MOSES K_DoesAlgMirrorEdgesTest_2\n"
     ]
    },
    {
     "name": "stderr",
     "output_type": "stream",
     "text": [
      "2020-04-22 22:22:44,036 - cdc_MOSES - INFO - Made 8 clusters in 11.476523 seconds\n",
      "INFO:cdc_MOSES:Made 8 clusters in 11.476523 seconds\n"
     ]
    },
    {
     "name": "stdout",
     "output_type": "stream",
     "text": [
      "finished cdc_MOSES K_DoesAlgMirrorEdgesTest_2\n"
     ]
    },
    {
     "name": "stderr",
     "output_type": "stream",
     "text": [
      "2020-04-22 22:22:44,149 - cdc_MSCD_AFG - INFO - seed ignored\n",
      "INFO:cdc_MSCD_AFG:seed ignored\n",
      "2020-04-22 22:22:44,151 - cdc_MSCD_AFG - INFO - Running /opt/gct/submodules/CommunityDetectionCodes/2013-mscd -g graph.edges -w -a AFG [1.0,2]\n",
      "INFO:cdc_MSCD_AFG:Running /opt/gct/submodules/CommunityDetectionCodes/2013-mscd -g graph.edges -w -a AFG [1.0,2]\n",
      "2020-04-22 22:22:44,160 - cdc_MSCD_AFG - INFO - Made 7 clusters with k=1\n",
      "INFO:cdc_MSCD_AFG:Made 7 clusters with k=1\n",
      "2020-04-22 22:22:44,161 - cdc_MSCD_AFG - INFO - Made 7 clusters with k=2\n",
      "INFO:cdc_MSCD_AFG:Made 7 clusters with k=2\n",
      "2020-04-22 22:22:44,163 - cdc_MSCD_AFG - INFO - Made 2 clusters in 0.007567 seconds\n",
      "INFO:cdc_MSCD_AFG:Made 2 clusters in 0.007567 seconds\n"
     ]
    },
    {
     "name": "stdout",
     "output_type": "stream",
     "text": [
      "runing  cdc_MSCD_AFG K_DoesAlgMirrorEdgesTest_1\n",
      "finished cdc_MSCD_AFG K_DoesAlgMirrorEdgesTest_1\n"
     ]
    },
    {
     "name": "stderr",
     "output_type": "stream",
     "text": [
      "2020-04-22 22:22:44,273 - cdc_MSCD_AFG - INFO - seed ignored\n",
      "INFO:cdc_MSCD_AFG:seed ignored\n",
      "2020-04-22 22:22:44,274 - cdc_MSCD_AFG - INFO - Running /opt/gct/submodules/CommunityDetectionCodes/2013-mscd -g graph.edges -w -a AFG [1.0,2]\n",
      "INFO:cdc_MSCD_AFG:Running /opt/gct/submodules/CommunityDetectionCodes/2013-mscd -g graph.edges -w -a AFG [1.0,2]\n",
      "2020-04-22 22:22:44,283 - cdc_MSCD_AFG - INFO - Made 7 clusters with k=1\n",
      "INFO:cdc_MSCD_AFG:Made 7 clusters with k=1\n",
      "2020-04-22 22:22:44,284 - cdc_MSCD_AFG - INFO - Made 7 clusters with k=2\n",
      "INFO:cdc_MSCD_AFG:Made 7 clusters with k=2\n",
      "2020-04-22 22:22:44,285 - cdc_MSCD_AFG - INFO - Made 2 clusters in 0.007115 seconds\n",
      "INFO:cdc_MSCD_AFG:Made 2 clusters in 0.007115 seconds\n"
     ]
    },
    {
     "name": "stdout",
     "output_type": "stream",
     "text": [
      "runing  cdc_MSCD_AFG K_DoesAlgMirrorEdgesTest_2\n",
      "finished cdc_MSCD_AFG K_DoesAlgMirrorEdgesTest_2\n"
     ]
    },
    {
     "name": "stderr",
     "output_type": "stream",
     "text": [
      "2020-04-22 22:22:44,396 - cdc_MSCD_HSLSW - INFO - seed ignored\n",
      "INFO:cdc_MSCD_HSLSW:seed ignored\n",
      "2020-04-22 22:22:44,397 - cdc_MSCD_HSLSW - INFO - Running /opt/gct/submodules/CommunityDetectionCodes/2013-mscd -g graph.edges -w -a HSLSW [1.0,2]\n",
      "INFO:cdc_MSCD_HSLSW:Running /opt/gct/submodules/CommunityDetectionCodes/2013-mscd -g graph.edges -w -a HSLSW [1.0,2]\n",
      "2020-04-22 22:22:44,407 - cdc_MSCD_HSLSW - INFO - Made 7 clusters with k=1\n",
      "INFO:cdc_MSCD_HSLSW:Made 7 clusters with k=1\n",
      "2020-04-22 22:22:44,408 - cdc_MSCD_HSLSW - INFO - Made 7 clusters with k=2\n",
      "INFO:cdc_MSCD_HSLSW:Made 7 clusters with k=2\n",
      "2020-04-22 22:22:44,410 - cdc_MSCD_HSLSW - INFO - Made 2 clusters in 0.009555 seconds\n",
      "INFO:cdc_MSCD_HSLSW:Made 2 clusters in 0.009555 seconds\n"
     ]
    },
    {
     "name": "stdout",
     "output_type": "stream",
     "text": [
      "runing  cdc_MSCD_HSLSW K_DoesAlgMirrorEdgesTest_1\n",
      "finished cdc_MSCD_HSLSW K_DoesAlgMirrorEdgesTest_1\n"
     ]
    },
    {
     "name": "stderr",
     "output_type": "stream",
     "text": [
      "2020-04-22 22:22:44,520 - cdc_MSCD_HSLSW - INFO - seed ignored\n",
      "INFO:cdc_MSCD_HSLSW:seed ignored\n",
      "2020-04-22 22:22:44,521 - cdc_MSCD_HSLSW - INFO - Running /opt/gct/submodules/CommunityDetectionCodes/2013-mscd -g graph.edges -w -a HSLSW [1.0,2]\n",
      "INFO:cdc_MSCD_HSLSW:Running /opt/gct/submodules/CommunityDetectionCodes/2013-mscd -g graph.edges -w -a HSLSW [1.0,2]\n",
      "2020-04-22 22:22:44,532 - cdc_MSCD_HSLSW - INFO - Made 7 clusters with k=1\n",
      "INFO:cdc_MSCD_HSLSW:Made 7 clusters with k=1\n",
      "2020-04-22 22:22:44,533 - cdc_MSCD_HSLSW - INFO - Made 7 clusters with k=2\n",
      "INFO:cdc_MSCD_HSLSW:Made 7 clusters with k=2\n",
      "2020-04-22 22:22:44,535 - cdc_MSCD_HSLSW - INFO - Made 2 clusters in 0.009905 seconds\n",
      "INFO:cdc_MSCD_HSLSW:Made 2 clusters in 0.009905 seconds\n"
     ]
    },
    {
     "name": "stdout",
     "output_type": "stream",
     "text": [
      "runing  cdc_MSCD_HSLSW K_DoesAlgMirrorEdgesTest_2\n",
      "finished cdc_MSCD_HSLSW K_DoesAlgMirrorEdgesTest_2\n"
     ]
    },
    {
     "name": "stderr",
     "output_type": "stream",
     "text": [
      "2020-04-22 22:22:44,645 - cdc_MSCD_LFK - INFO - seed ignored\n",
      "INFO:cdc_MSCD_LFK:seed ignored\n",
      "2020-04-22 22:22:44,646 - cdc_MSCD_LFK - INFO - Running /opt/gct/submodules/CommunityDetectionCodes/2013-mscd -g graph.edges -w -a LFK [1.0,2]\n",
      "INFO:cdc_MSCD_LFK:Running /opt/gct/submodules/CommunityDetectionCodes/2013-mscd -g graph.edges -w -a LFK [1.0,2]\n",
      "2020-04-22 22:22:44,656 - cdc_MSCD_LFK - INFO - Made 7 clusters with k=1\n",
      "INFO:cdc_MSCD_LFK:Made 7 clusters with k=1\n",
      "2020-04-22 22:22:44,658 - cdc_MSCD_LFK - INFO - Made 7 clusters with k=2\n",
      "INFO:cdc_MSCD_LFK:Made 7 clusters with k=2\n",
      "2020-04-22 22:22:44,660 - cdc_MSCD_LFK - INFO - Made 2 clusters in 0.009263 seconds\n",
      "INFO:cdc_MSCD_LFK:Made 2 clusters in 0.009263 seconds\n"
     ]
    },
    {
     "name": "stdout",
     "output_type": "stream",
     "text": [
      "runing  cdc_MSCD_LFK K_DoesAlgMirrorEdgesTest_1\n",
      "finished cdc_MSCD_LFK K_DoesAlgMirrorEdgesTest_1\n"
     ]
    },
    {
     "name": "stderr",
     "output_type": "stream",
     "text": [
      "2020-04-22 22:22:44,770 - cdc_MSCD_LFK - INFO - seed ignored\n",
      "INFO:cdc_MSCD_LFK:seed ignored\n",
      "2020-04-22 22:22:44,772 - cdc_MSCD_LFK - INFO - Running /opt/gct/submodules/CommunityDetectionCodes/2013-mscd -g graph.edges -w -a LFK [1.0,2]\n",
      "INFO:cdc_MSCD_LFK:Running /opt/gct/submodules/CommunityDetectionCodes/2013-mscd -g graph.edges -w -a LFK [1.0,2]\n",
      "2020-04-22 22:22:44,783 - cdc_MSCD_LFK - INFO - Made 7 clusters with k=1\n",
      "INFO:cdc_MSCD_LFK:Made 7 clusters with k=1\n",
      "2020-04-22 22:22:44,784 - cdc_MSCD_LFK - INFO - Made 7 clusters with k=2\n",
      "INFO:cdc_MSCD_LFK:Made 7 clusters with k=2\n",
      "2020-04-22 22:22:44,786 - cdc_MSCD_LFK - INFO - Made 2 clusters in 0.009519 seconds\n",
      "INFO:cdc_MSCD_LFK:Made 2 clusters in 0.009519 seconds\n"
     ]
    },
    {
     "name": "stdout",
     "output_type": "stream",
     "text": [
      "runing  cdc_MSCD_LFK K_DoesAlgMirrorEdgesTest_2\n",
      "finished cdc_MSCD_LFK K_DoesAlgMirrorEdgesTest_2\n"
     ]
    },
    {
     "name": "stderr",
     "output_type": "stream",
     "text": [
      "2020-04-22 22:22:44,897 - cdc_MSCD_LFK2 - INFO - seed ignored\n",
      "INFO:cdc_MSCD_LFK2:seed ignored\n",
      "2020-04-22 22:22:44,898 - cdc_MSCD_LFK2 - INFO - Running /opt/gct/submodules/CommunityDetectionCodes/2013-mscd -g graph.edges -w -a LFK2 [1.0,2]\n",
      "INFO:cdc_MSCD_LFK2:Running /opt/gct/submodules/CommunityDetectionCodes/2013-mscd -g graph.edges -w -a LFK2 [1.0,2]\n",
      "2020-04-22 22:22:44,909 - cdc_MSCD_LFK2 - INFO - Made 8 clusters with k=1\n",
      "INFO:cdc_MSCD_LFK2:Made 8 clusters with k=1\n",
      "2020-04-22 22:22:44,911 - cdc_MSCD_LFK2 - INFO - Made 6 clusters with k=2\n",
      "INFO:cdc_MSCD_LFK2:Made 6 clusters with k=2\n",
      "2020-04-22 22:22:44,913 - cdc_MSCD_LFK2 - INFO - Made 2 clusters in 0.009456 seconds\n",
      "INFO:cdc_MSCD_LFK2:Made 2 clusters in 0.009456 seconds\n"
     ]
    },
    {
     "name": "stdout",
     "output_type": "stream",
     "text": [
      "runing  cdc_MSCD_LFK2 K_DoesAlgMirrorEdgesTest_1\n",
      "finished cdc_MSCD_LFK2 K_DoesAlgMirrorEdgesTest_1\n"
     ]
    },
    {
     "name": "stderr",
     "output_type": "stream",
     "text": [
      "2020-04-22 22:22:45,024 - cdc_MSCD_LFK2 - INFO - seed ignored\n",
      "INFO:cdc_MSCD_LFK2:seed ignored\n",
      "2020-04-22 22:22:45,025 - cdc_MSCD_LFK2 - INFO - Running /opt/gct/submodules/CommunityDetectionCodes/2013-mscd -g graph.edges -w -a LFK2 [1.0,2]\n",
      "INFO:cdc_MSCD_LFK2:Running /opt/gct/submodules/CommunityDetectionCodes/2013-mscd -g graph.edges -w -a LFK2 [1.0,2]\n",
      "2020-04-22 22:22:45,036 - cdc_MSCD_LFK2 - INFO - Made 8 clusters with k=1\n",
      "INFO:cdc_MSCD_LFK2:Made 8 clusters with k=1\n",
      "2020-04-22 22:22:45,037 - cdc_MSCD_LFK2 - INFO - Made 6 clusters with k=2\n",
      "INFO:cdc_MSCD_LFK2:Made 6 clusters with k=2\n",
      "2020-04-22 22:22:45,039 - cdc_MSCD_LFK2 - INFO - Made 2 clusters in 0.009585 seconds\n",
      "INFO:cdc_MSCD_LFK2:Made 2 clusters in 0.009585 seconds\n"
     ]
    },
    {
     "name": "stdout",
     "output_type": "stream",
     "text": [
      "runing  cdc_MSCD_LFK2 K_DoesAlgMirrorEdgesTest_2\n",
      "finished cdc_MSCD_LFK2 K_DoesAlgMirrorEdgesTest_2\n"
     ]
    },
    {
     "name": "stderr",
     "output_type": "stream",
     "text": [
      "2020-04-22 22:22:45,150 - cdc_MSCD_RB - INFO - seed ignored\n",
      "INFO:cdc_MSCD_RB:seed ignored\n",
      "2020-04-22 22:22:45,152 - cdc_MSCD_RB - INFO - Running /opt/gct/submodules/CommunityDetectionCodes/2013-mscd -g graph.edges -w -a RB [1.0,2]\n",
      "INFO:cdc_MSCD_RB:Running /opt/gct/submodules/CommunityDetectionCodes/2013-mscd -g graph.edges -w -a RB [1.0,2]\n",
      "2020-04-22 22:22:45,160 - cdc_MSCD_RB - INFO - Made 7 clusters with k=1\n",
      "INFO:cdc_MSCD_RB:Made 7 clusters with k=1\n",
      "2020-04-22 22:22:45,161 - cdc_MSCD_RB - INFO - Made 7 clusters with k=2\n",
      "INFO:cdc_MSCD_RB:Made 7 clusters with k=2\n",
      "2020-04-22 22:22:45,163 - cdc_MSCD_RB - INFO - Made 2 clusters in 0.006335 seconds\n",
      "INFO:cdc_MSCD_RB:Made 2 clusters in 0.006335 seconds\n"
     ]
    },
    {
     "name": "stdout",
     "output_type": "stream",
     "text": [
      "runing  cdc_MSCD_RB K_DoesAlgMirrorEdgesTest_1\n",
      "finished cdc_MSCD_RB K_DoesAlgMirrorEdgesTest_1\n"
     ]
    },
    {
     "name": "stderr",
     "output_type": "stream",
     "text": [
      "2020-04-22 22:22:45,274 - cdc_MSCD_RB - INFO - seed ignored\n",
      "INFO:cdc_MSCD_RB:seed ignored\n",
      "2020-04-22 22:22:45,275 - cdc_MSCD_RB - INFO - Running /opt/gct/submodules/CommunityDetectionCodes/2013-mscd -g graph.edges -w -a RB [1.0,2]\n",
      "INFO:cdc_MSCD_RB:Running /opt/gct/submodules/CommunityDetectionCodes/2013-mscd -g graph.edges -w -a RB [1.0,2]\n",
      "2020-04-22 22:22:45,283 - cdc_MSCD_RB - INFO - Made 7 clusters with k=1\n",
      "INFO:cdc_MSCD_RB:Made 7 clusters with k=1\n",
      "2020-04-22 22:22:45,285 - cdc_MSCD_RB - INFO - Made 7 clusters with k=2\n",
      "INFO:cdc_MSCD_RB:Made 7 clusters with k=2\n",
      "2020-04-22 22:22:45,287 - cdc_MSCD_RB - INFO - Made 2 clusters in 0.006837 seconds\n",
      "INFO:cdc_MSCD_RB:Made 2 clusters in 0.006837 seconds\n"
     ]
    },
    {
     "name": "stdout",
     "output_type": "stream",
     "text": [
      "runing  cdc_MSCD_RB K_DoesAlgMirrorEdgesTest_2\n",
      "finished cdc_MSCD_RB K_DoesAlgMirrorEdgesTest_2\n"
     ]
    },
    {
     "name": "stderr",
     "output_type": "stream",
     "text": [
      "2020-04-22 22:22:45,398 - cdc_MSCD_RN - INFO - seed ignored\n",
      "INFO:cdc_MSCD_RN:seed ignored\n",
      "2020-04-22 22:22:45,399 - cdc_MSCD_RN - INFO - Running /opt/gct/submodules/CommunityDetectionCodes/2013-mscd -g graph.edges -w -a RN [1.0,2]\n",
      "INFO:cdc_MSCD_RN:Running /opt/gct/submodules/CommunityDetectionCodes/2013-mscd -g graph.edges -w -a RN [1.0,2]\n",
      "2020-04-22 22:22:45,408 - cdc_MSCD_RN - INFO - Made 15 clusters with k=1\n",
      "INFO:cdc_MSCD_RN:Made 15 clusters with k=1\n",
      "2020-04-22 22:22:45,409 - cdc_MSCD_RN - INFO - Made 15 clusters with k=2\n",
      "INFO:cdc_MSCD_RN:Made 15 clusters with k=2\n",
      "2020-04-22 22:22:45,411 - cdc_MSCD_RN - INFO - Made 2 clusters in 0.007092 seconds\n",
      "INFO:cdc_MSCD_RN:Made 2 clusters in 0.007092 seconds\n"
     ]
    },
    {
     "name": "stdout",
     "output_type": "stream",
     "text": [
      "runing  cdc_MSCD_RN K_DoesAlgMirrorEdgesTest_1\n",
      "finished cdc_MSCD_RN K_DoesAlgMirrorEdgesTest_1\n"
     ]
    },
    {
     "name": "stderr",
     "output_type": "stream",
     "text": [
      "2020-04-22 22:22:45,522 - cdc_MSCD_RN - INFO - seed ignored\n",
      "INFO:cdc_MSCD_RN:seed ignored\n",
      "2020-04-22 22:22:45,524 - cdc_MSCD_RN - INFO - Running /opt/gct/submodules/CommunityDetectionCodes/2013-mscd -g graph.edges -w -a RN [1.0,2]\n",
      "INFO:cdc_MSCD_RN:Running /opt/gct/submodules/CommunityDetectionCodes/2013-mscd -g graph.edges -w -a RN [1.0,2]\n",
      "2020-04-22 22:22:45,533 - cdc_MSCD_RN - INFO - Made 15 clusters with k=1\n",
      "INFO:cdc_MSCD_RN:Made 15 clusters with k=1\n",
      "2020-04-22 22:22:45,534 - cdc_MSCD_RN - INFO - Made 15 clusters with k=2\n",
      "INFO:cdc_MSCD_RN:Made 15 clusters with k=2\n",
      "2020-04-22 22:22:45,536 - cdc_MSCD_RN - INFO - Made 2 clusters in 0.007465 seconds\n",
      "INFO:cdc_MSCD_RN:Made 2 clusters in 0.007465 seconds\n"
     ]
    },
    {
     "name": "stdout",
     "output_type": "stream",
     "text": [
      "runing  cdc_MSCD_RN K_DoesAlgMirrorEdgesTest_2\n",
      "finished cdc_MSCD_RN K_DoesAlgMirrorEdgesTest_2\n"
     ]
    },
    {
     "name": "stderr",
     "output_type": "stream",
     "text": [
      "2020-04-22 22:22:45,647 - cdc_MSCD_SO - INFO - seed ignored\n",
      "INFO:cdc_MSCD_SO:seed ignored\n",
      "2020-04-22 22:22:45,648 - cdc_MSCD_SO - INFO - Running /opt/gct/submodules/CommunityDetectionCodes/2013-mscd -g graph.edges -w -a SO [1.0,2]\n",
      "INFO:cdc_MSCD_SO:Running /opt/gct/submodules/CommunityDetectionCodes/2013-mscd -g graph.edges -w -a SO [1.0,2]\n",
      "2020-04-22 22:22:45,659 - cdc_MSCD_SO - INFO - Made 7 clusters with k=1\n",
      "INFO:cdc_MSCD_SO:Made 7 clusters with k=1\n",
      "2020-04-22 22:22:45,660 - cdc_MSCD_SO - INFO - Made 7 clusters with k=2\n",
      "INFO:cdc_MSCD_SO:Made 7 clusters with k=2\n",
      "2020-04-22 22:22:45,662 - cdc_MSCD_SO - INFO - Made 2 clusters in 0.008876 seconds\n",
      "INFO:cdc_MSCD_SO:Made 2 clusters in 0.008876 seconds\n"
     ]
    },
    {
     "name": "stdout",
     "output_type": "stream",
     "text": [
      "runing  cdc_MSCD_SO K_DoesAlgMirrorEdgesTest_1\n",
      "finished cdc_MSCD_SO K_DoesAlgMirrorEdgesTest_1\n"
     ]
    },
    {
     "name": "stderr",
     "output_type": "stream",
     "text": [
      "2020-04-22 22:22:45,772 - cdc_MSCD_SO - INFO - seed ignored\n",
      "INFO:cdc_MSCD_SO:seed ignored\n",
      "2020-04-22 22:22:45,773 - cdc_MSCD_SO - INFO - Running /opt/gct/submodules/CommunityDetectionCodes/2013-mscd -g graph.edges -w -a SO [1.0,2]\n",
      "INFO:cdc_MSCD_SO:Running /opt/gct/submodules/CommunityDetectionCodes/2013-mscd -g graph.edges -w -a SO [1.0,2]\n",
      "2020-04-22 22:22:45,784 - cdc_MSCD_SO - INFO - Made 7 clusters with k=1\n",
      "INFO:cdc_MSCD_SO:Made 7 clusters with k=1\n",
      "2020-04-22 22:22:45,785 - cdc_MSCD_SO - INFO - Made 7 clusters with k=2\n",
      "INFO:cdc_MSCD_SO:Made 7 clusters with k=2\n",
      "2020-04-22 22:22:45,786 - cdc_MSCD_SO - INFO - Made 2 clusters in 0.009272 seconds\n",
      "INFO:cdc_MSCD_SO:Made 2 clusters in 0.009272 seconds\n"
     ]
    },
    {
     "name": "stdout",
     "output_type": "stream",
     "text": [
      "runing  cdc_MSCD_SO K_DoesAlgMirrorEdgesTest_2\n",
      "finished cdc_MSCD_SO K_DoesAlgMirrorEdgesTest_2\n"
     ]
    },
    {
     "name": "stderr",
     "output_type": "stream",
     "text": [
      "2020-04-22 22:22:45,897 - cdc_MSCD_SOM - INFO - seed ignored\n",
      "INFO:cdc_MSCD_SOM:seed ignored\n",
      "2020-04-22 22:22:45,898 - cdc_MSCD_SOM - INFO - Running /opt/gct/submodules/CommunityDetectionCodes/2013-mscd -g graph.edges -w -a SOM [1.0,2]\n",
      "INFO:cdc_MSCD_SOM:Running /opt/gct/submodules/CommunityDetectionCodes/2013-mscd -g graph.edges -w -a SOM [1.0,2]\n",
      "2020-04-22 22:22:45,908 - cdc_MSCD_SOM - INFO - Made 7 clusters with k=1\n",
      "INFO:cdc_MSCD_SOM:Made 7 clusters with k=1\n",
      "2020-04-22 22:22:45,909 - cdc_MSCD_SOM - INFO - Made 7 clusters with k=2\n",
      "INFO:cdc_MSCD_SOM:Made 7 clusters with k=2\n",
      "2020-04-22 22:22:45,911 - cdc_MSCD_SOM - INFO - Made 2 clusters in 0.008771 seconds\n",
      "INFO:cdc_MSCD_SOM:Made 2 clusters in 0.008771 seconds\n"
     ]
    },
    {
     "name": "stdout",
     "output_type": "stream",
     "text": [
      "runing  cdc_MSCD_SOM K_DoesAlgMirrorEdgesTest_1\n",
      "finished cdc_MSCD_SOM K_DoesAlgMirrorEdgesTest_1\n"
     ]
    },
    {
     "name": "stderr",
     "output_type": "stream",
     "text": [
      "2020-04-22 22:22:46,021 - cdc_MSCD_SOM - INFO - seed ignored\n",
      "INFO:cdc_MSCD_SOM:seed ignored\n",
      "2020-04-22 22:22:46,022 - cdc_MSCD_SOM - INFO - Running /opt/gct/submodules/CommunityDetectionCodes/2013-mscd -g graph.edges -w -a SOM [1.0,2]\n",
      "INFO:cdc_MSCD_SOM:Running /opt/gct/submodules/CommunityDetectionCodes/2013-mscd -g graph.edges -w -a SOM [1.0,2]\n",
      "2020-04-22 22:22:46,032 - cdc_MSCD_SOM - INFO - Made 7 clusters with k=1\n",
      "INFO:cdc_MSCD_SOM:Made 7 clusters with k=1\n",
      "2020-04-22 22:22:46,033 - cdc_MSCD_SOM - INFO - Made 7 clusters with k=2\n",
      "INFO:cdc_MSCD_SOM:Made 7 clusters with k=2\n",
      "2020-04-22 22:22:46,035 - cdc_MSCD_SOM - INFO - Made 2 clusters in 0.009024 seconds\n",
      "INFO:cdc_MSCD_SOM:Made 2 clusters in 0.009024 seconds\n"
     ]
    },
    {
     "name": "stdout",
     "output_type": "stream",
     "text": [
      "runing  cdc_MSCD_SOM K_DoesAlgMirrorEdgesTest_2\n",
      "finished cdc_MSCD_SOM K_DoesAlgMirrorEdgesTest_2\n"
     ]
    },
    {
     "name": "stderr",
     "output_type": "stream",
     "text": [
      "2020-04-22 22:22:46,145 - cdc_ParCPM - INFO - seed ignored\n",
      "INFO:cdc_ParCPM:seed ignored\n",
      "2020-04-22 22:22:46,146 - cdc_ParCPM - INFO - Running /opt/gct/submodules/CommunityDetectionCodes/max-clique edges.txt\n",
      "INFO:cdc_ParCPM:Running /opt/gct/submodules/CommunityDetectionCodes/max-clique edges.txt\n",
      "2020-04-22 22:22:46,153 - cdc_ParCPM - INFO - Take 0.006476879119873047 seconds for step 1\n",
      "INFO:cdc_ParCPM:Take 0.006476879119873047 seconds for step 1\n",
      "2020-04-22 22:22:46,154 - cdc_ParCPM - INFO - Running /opt/gct/submodules/CommunityDetectionCodes/2012-ParCPM -P 7 -W 30 edges.txt.mcliques\n",
      "INFO:cdc_ParCPM:Running /opt/gct/submodules/CommunityDetectionCodes/2012-ParCPM -P 7 -W 30 edges.txt.mcliques\n",
      "2020-04-22 22:22:46,169 - cdc_ParCPM - INFO - Made 3 clusters with k=3\n",
      "INFO:cdc_ParCPM:Made 3 clusters with k=3\n",
      "2020-04-22 22:22:46,171 - cdc_ParCPM - INFO - Made 6 clusters with k=4\n",
      "INFO:cdc_ParCPM:Made 6 clusters with k=4\n",
      "2020-04-22 22:22:46,173 - cdc_ParCPM - INFO - Made 8 clusters with k=6\n",
      "INFO:cdc_ParCPM:Made 8 clusters with k=6\n",
      "2020-04-22 22:22:46,174 - cdc_ParCPM - INFO - Made 8 clusters with k=7\n",
      "INFO:cdc_ParCPM:Made 8 clusters with k=7\n",
      "2020-04-22 22:22:46,176 - cdc_ParCPM - INFO - Made 7 clusters with k=5\n",
      "INFO:cdc_ParCPM:Made 7 clusters with k=5\n",
      "2020-04-22 22:22:46,178 - cdc_ParCPM - INFO - Made 4 clusters with k=9\n",
      "INFO:cdc_ParCPM:Made 4 clusters with k=9\n",
      "2020-04-22 22:22:46,179 - cdc_ParCPM - INFO - Made 2 clusters with k=10\n",
      "INFO:cdc_ParCPM:Made 2 clusters with k=10\n",
      "2020-04-22 22:22:46,180 - cdc_ParCPM - INFO - Made 3 clusters with k=11\n",
      "INFO:cdc_ParCPM:Made 3 clusters with k=11\n",
      "2020-04-22 22:22:46,181 - cdc_ParCPM - INFO - Made 1 clusters with k=12\n",
      "INFO:cdc_ParCPM:Made 1 clusters with k=12\n",
      "2020-04-22 22:22:46,183 - cdc_ParCPM - INFO - Made 6 clusters with k=8\n",
      "INFO:cdc_ParCPM:Made 6 clusters with k=8\n",
      "2020-04-22 22:22:46,184 - cdc_ParCPM - INFO - Made 1 clusters with k=13\n",
      "INFO:cdc_ParCPM:Made 1 clusters with k=13\n",
      "2020-04-22 22:22:46,185 - cdc_ParCPM - INFO - Made 11 clusters in 0.008239 seconds\n",
      "INFO:cdc_ParCPM:Made 11 clusters in 0.008239 seconds\n"
     ]
    },
    {
     "name": "stdout",
     "output_type": "stream",
     "text": [
      "runing  cdc_ParCPM K_DoesAlgMirrorEdgesTest_1\n",
      "finished cdc_ParCPM K_DoesAlgMirrorEdgesTest_1\n"
     ]
    },
    {
     "name": "stderr",
     "output_type": "stream",
     "text": [
      "2020-04-22 22:22:46,296 - cdc_ParCPM - INFO - seed ignored\n",
      "INFO:cdc_ParCPM:seed ignored\n",
      "2020-04-22 22:22:46,297 - cdc_ParCPM - INFO - Running /opt/gct/submodules/CommunityDetectionCodes/max-clique edges.txt\n",
      "INFO:cdc_ParCPM:Running /opt/gct/submodules/CommunityDetectionCodes/max-clique edges.txt\n",
      "2020-04-22 22:22:46,305 - cdc_ParCPM - INFO - Take 0.006964683532714844 seconds for step 1\n",
      "INFO:cdc_ParCPM:Take 0.006964683532714844 seconds for step 1\n",
      "2020-04-22 22:22:46,306 - cdc_ParCPM - INFO - Running /opt/gct/submodules/CommunityDetectionCodes/2012-ParCPM -P 7 -W 30 edges.txt.mcliques\n",
      "INFO:cdc_ParCPM:Running /opt/gct/submodules/CommunityDetectionCodes/2012-ParCPM -P 7 -W 30 edges.txt.mcliques\n",
      "2020-04-22 22:22:46,320 - cdc_ParCPM - INFO - Made 3 clusters with k=3\n",
      "INFO:cdc_ParCPM:Made 3 clusters with k=3\n",
      "2020-04-22 22:22:46,322 - cdc_ParCPM - INFO - Made 6 clusters with k=4\n",
      "INFO:cdc_ParCPM:Made 6 clusters with k=4\n",
      "2020-04-22 22:22:46,324 - cdc_ParCPM - INFO - Made 8 clusters with k=6\n",
      "INFO:cdc_ParCPM:Made 8 clusters with k=6\n",
      "2020-04-22 22:22:46,325 - cdc_ParCPM - INFO - Made 8 clusters with k=7\n",
      "INFO:cdc_ParCPM:Made 8 clusters with k=7\n",
      "2020-04-22 22:22:46,327 - cdc_ParCPM - INFO - Made 6 clusters with k=8\n",
      "INFO:cdc_ParCPM:Made 6 clusters with k=8\n",
      "2020-04-22 22:22:46,328 - cdc_ParCPM - INFO - Made 2 clusters with k=10\n",
      "INFO:cdc_ParCPM:Made 2 clusters with k=10\n",
      "2020-04-22 22:22:46,329 - cdc_ParCPM - INFO - Made 1 clusters with k=12\n",
      "INFO:cdc_ParCPM:Made 1 clusters with k=12\n",
      "2020-04-22 22:22:46,330 - cdc_ParCPM - INFO - Made 1 clusters with k=13\n",
      "INFO:cdc_ParCPM:Made 1 clusters with k=13\n",
      "2020-04-22 22:22:46,331 - cdc_ParCPM - INFO - Made 3 clusters with k=11\n",
      "INFO:cdc_ParCPM:Made 3 clusters with k=11\n",
      "2020-04-22 22:22:46,333 - cdc_ParCPM - INFO - Made 7 clusters with k=5\n",
      "INFO:cdc_ParCPM:Made 7 clusters with k=5\n",
      "2020-04-22 22:22:46,334 - cdc_ParCPM - INFO - Made 4 clusters with k=9\n",
      "INFO:cdc_ParCPM:Made 4 clusters with k=9\n",
      "2020-04-22 22:22:46,336 - cdc_ParCPM - INFO - Made 11 clusters in 0.008258 seconds\n",
      "INFO:cdc_ParCPM:Made 11 clusters in 0.008258 seconds\n"
     ]
    },
    {
     "name": "stdout",
     "output_type": "stream",
     "text": [
      "runing  cdc_ParCPM K_DoesAlgMirrorEdgesTest_2\n",
      "finished cdc_ParCPM K_DoesAlgMirrorEdgesTest_2\n"
     ]
    },
    {
     "name": "stderr",
     "output_type": "stream",
     "text": [
      "2020-04-22 22:22:46,446 - Dataset:K_DoesAlgMirrorEdgesTest_1 - INFO - reading /data/data/K_DoesAlgMirrorEdgesTest_1/edges.parq\n",
      "INFO:Dataset:K_DoesAlgMirrorEdgesTest_1:reading /data/data/K_DoesAlgMirrorEdgesTest_1/edges.parq\n",
      "2020-04-22 22:22:46,451 - cdc_SVINET - INFO - Running /opt/gct/submodules/CommunityDetectionCodes/2013-svinet -file edges.txt -n 128 -k 128 -max-iterations 1000 -findk && (cat n*findk/communities_size.txt | wc -l  > num_cluster.txt) \n",
      "INFO:cdc_SVINET:Running /opt/gct/submodules/CommunityDetectionCodes/2013-svinet -file edges.txt -n 128 -k 128 -max-iterations 1000 -findk && (cat n*findk/communities_size.txt | wc -l  > num_cluster.txt) \n",
      "2020-04-22 22:22:46,475 - cdc_SVINET - INFO - Find k=9  in 0.023102 seconds\n",
      "INFO:cdc_SVINET:Find k=9  in 0.023102 seconds\n",
      "2020-04-22 22:22:46,477 - cdc_SVINET - INFO - Running /opt/gct/submodules/CommunityDetectionCodes/2013-svinet -file edges.txt -n 128 -k 9 -link-sampling -max-iterations 1000 -seed 123\n",
      "INFO:cdc_SVINET:Running /opt/gct/submodules/CommunityDetectionCodes/2013-svinet -file edges.txt -n 128 -k 9 -link-sampling -max-iterations 1000 -seed 123\n"
     ]
    },
    {
     "name": "stdout",
     "output_type": "stream",
     "text": [
      "runing  cdc_SVINET K_DoesAlgMirrorEdgesTest_1\n"
     ]
    },
    {
     "name": "stderr",
     "output_type": "stream",
     "text": [
      "2020-04-22 22:22:49,335 - cdc_SVINET - INFO - read output form /tmp/tmpr27thsk0/n128-k9-mmsb-seed123-linksampling/communities.txt\n",
      "INFO:cdc_SVINET:read output form /tmp/tmpr27thsk0/n128-k9-mmsb-seed123-linksampling/communities.txt\n",
      "2020-04-22 22:22:49,337 - cdc_SVINET - INFO - Made 9 clusters in 2.856205 seconds\n",
      "INFO:cdc_SVINET:Made 9 clusters in 2.856205 seconds\n"
     ]
    },
    {
     "name": "stdout",
     "output_type": "stream",
     "text": [
      "finished cdc_SVINET K_DoesAlgMirrorEdgesTest_1\n"
     ]
    },
    {
     "name": "stderr",
     "output_type": "stream",
     "text": [
      "2020-04-22 22:22:49,449 - Dataset:K_DoesAlgMirrorEdgesTest_2 - INFO - reading /data/data/K_DoesAlgMirrorEdgesTest_2/edges.parq\n",
      "INFO:Dataset:K_DoesAlgMirrorEdgesTest_2:reading /data/data/K_DoesAlgMirrorEdgesTest_2/edges.parq\n",
      "2020-04-22 22:22:49,454 - cdc_SVINET - INFO - Running /opt/gct/submodules/CommunityDetectionCodes/2013-svinet -file edges.txt -n 128 -k 128 -max-iterations 1000 -findk && (cat n*findk/communities_size.txt | wc -l  > num_cluster.txt) \n",
      "INFO:cdc_SVINET:Running /opt/gct/submodules/CommunityDetectionCodes/2013-svinet -file edges.txt -n 128 -k 128 -max-iterations 1000 -findk && (cat n*findk/communities_size.txt | wc -l  > num_cluster.txt) \n",
      "2020-04-22 22:22:49,481 - cdc_SVINET - INFO - Find k=9  in 0.026003 seconds\n",
      "INFO:cdc_SVINET:Find k=9  in 0.026003 seconds\n",
      "2020-04-22 22:22:49,483 - cdc_SVINET - INFO - Running /opt/gct/submodules/CommunityDetectionCodes/2013-svinet -file edges.txt -n 128 -k 9 -link-sampling -max-iterations 1000 -seed 123\n",
      "INFO:cdc_SVINET:Running /opt/gct/submodules/CommunityDetectionCodes/2013-svinet -file edges.txt -n 128 -k 9 -link-sampling -max-iterations 1000 -seed 123\n"
     ]
    },
    {
     "name": "stdout",
     "output_type": "stream",
     "text": [
      "runing  cdc_SVINET K_DoesAlgMirrorEdgesTest_2\n"
     ]
    },
    {
     "name": "stderr",
     "output_type": "stream",
     "text": [
      "2020-04-22 22:22:52,340 - cdc_SVINET - INFO - read output form /tmp/tmp0_dswqjn/n128-k9-mmsb-seed123-linksampling/communities.txt\n",
      "INFO:cdc_SVINET:read output form /tmp/tmp0_dswqjn/n128-k9-mmsb-seed123-linksampling/communities.txt\n",
      "2020-04-22 22:22:52,342 - cdc_SVINET - INFO - Made 9 clusters in 2.856836 seconds\n",
      "INFO:cdc_SVINET:Made 9 clusters in 2.856836 seconds\n"
     ]
    },
    {
     "name": "stdout",
     "output_type": "stream",
     "text": [
      "finished cdc_SVINET K_DoesAlgMirrorEdgesTest_2\n"
     ]
    },
    {
     "name": "stderr",
     "output_type": "stream",
     "text": [
      "2020-04-22 22:22:52,455 - cdc_TopGC - INFO - seed ignored\n",
      "INFO:cdc_TopGC:seed ignored\n",
      "2020-04-22 22:22:52,456 - Dataset:K_DoesAlgMirrorEdgesTest_1 - INFO - Running cat /data/data/K_DoesAlgMirrorEdgesTest_1/edges.txt|sort -k1,1 -k2,2 -n | /opt/gct/submodules/CommunityDetectionCodes/mkidx >  /data/data/K_DoesAlgMirrorEdgesTest_1/topgc.txt || rm /data/data/K_DoesAlgMirrorEdgesTest_1/topgc.txt\n",
      "INFO:Dataset:K_DoesAlgMirrorEdgesTest_1:Running cat /data/data/K_DoesAlgMirrorEdgesTest_1/edges.txt|sort -k1,1 -k2,2 -n | /opt/gct/submodules/CommunityDetectionCodes/mkidx >  /data/data/K_DoesAlgMirrorEdgesTest_1/topgc.txt || rm /data/data/K_DoesAlgMirrorEdgesTest_1/topgc.txt\n",
      "2020-04-22 22:22:52,465 - cdc_TopGC - INFO - Running java -cp /opt/gct/submodules/CommunityDetectionCodes/topgc-1.0-SNAPSHOT.jar TopGC -i edges.topgc\n",
      "INFO:cdc_TopGC:Running java -cp /opt/gct/submodules/CommunityDetectionCodes/topgc-1.0-SNAPSHOT.jar TopGC -i edges.topgc\n"
     ]
    },
    {
     "name": "stdout",
     "output_type": "stream",
     "text": [
      "runing  cdc_TopGC K_DoesAlgMirrorEdgesTest_1\n"
     ]
    },
    {
     "name": "stderr",
     "output_type": "stream",
     "text": [
      "2020-04-22 22:22:53,141 - cdc_TopGC - INFO - Made 10 clusters in 0.673609 seconds\n",
      "INFO:cdc_TopGC:Made 10 clusters in 0.673609 seconds\n"
     ]
    },
    {
     "name": "stdout",
     "output_type": "stream",
     "text": [
      "finished cdc_TopGC K_DoesAlgMirrorEdgesTest_1\n"
     ]
    },
    {
     "name": "stderr",
     "output_type": "stream",
     "text": [
      "2020-04-22 22:22:53,253 - cdc_TopGC - INFO - seed ignored\n",
      "INFO:cdc_TopGC:seed ignored\n",
      "2020-04-22 22:22:53,254 - Dataset:K_DoesAlgMirrorEdgesTest_2 - INFO - Running cat /data/data/K_DoesAlgMirrorEdgesTest_2/edges.txt|sort -k1,1 -k2,2 -n | /opt/gct/submodules/CommunityDetectionCodes/mkidx >  /data/data/K_DoesAlgMirrorEdgesTest_2/topgc.txt || rm /data/data/K_DoesAlgMirrorEdgesTest_2/topgc.txt\n",
      "INFO:Dataset:K_DoesAlgMirrorEdgesTest_2:Running cat /data/data/K_DoesAlgMirrorEdgesTest_2/edges.txt|sort -k1,1 -k2,2 -n | /opt/gct/submodules/CommunityDetectionCodes/mkidx >  /data/data/K_DoesAlgMirrorEdgesTest_2/topgc.txt || rm /data/data/K_DoesAlgMirrorEdgesTest_2/topgc.txt\n",
      "2020-04-22 22:22:53,264 - cdc_TopGC - INFO - Running java -cp /opt/gct/submodules/CommunityDetectionCodes/topgc-1.0-SNAPSHOT.jar TopGC -i edges.topgc\n",
      "INFO:cdc_TopGC:Running java -cp /opt/gct/submodules/CommunityDetectionCodes/topgc-1.0-SNAPSHOT.jar TopGC -i edges.topgc\n"
     ]
    },
    {
     "name": "stdout",
     "output_type": "stream",
     "text": [
      "runing  cdc_TopGC K_DoesAlgMirrorEdgesTest_2\n"
     ]
    },
    {
     "name": "stderr",
     "output_type": "stream",
     "text": [
      "2020-04-22 22:22:53,964 - cdc_TopGC - INFO - Made 10 clusters in 0.698333 seconds\n",
      "INFO:cdc_TopGC:Made 10 clusters in 0.698333 seconds\n"
     ]
    },
    {
     "name": "stdout",
     "output_type": "stream",
     "text": [
      "finished cdc_TopGC K_DoesAlgMirrorEdgesTest_2\n"
     ]
    },
    {
     "name": "stderr",
     "output_type": "stream",
     "text": [
      "2020-04-22 22:22:54,077 - cdc_clique_modularity - INFO - seed ignored\n",
      "INFO:cdc_clique_modularity:seed ignored\n",
      "2020-04-22 22:22:54,078 - cdc_clique_modularity - INFO - Running java -cp /opt/gct/submodules/CommunityDetectionCodes/conga-1.0-SNAPSHOT.jar clique_modularity.CM edges.txt -m clique_modularity.algorithm.BK.BK -c 10\n",
      "INFO:cdc_clique_modularity:Running java -cp /opt/gct/submodules/CommunityDetectionCodes/conga-1.0-SNAPSHOT.jar clique_modularity.CM edges.txt -m clique_modularity.algorithm.BK.BK -c 10\n"
     ]
    },
    {
     "name": "stdout",
     "output_type": "stream",
     "text": [
      "runing  cdc_clique_modularity K_DoesAlgMirrorEdgesTest_1\n"
     ]
    },
    {
     "name": "stderr",
     "output_type": "stream",
     "text": [
      "2020-04-22 22:22:54,315 - cdc_clique_modularity - INFO - Made 10 clusters in 0.235812 seconds\n",
      "INFO:cdc_clique_modularity:Made 10 clusters in 0.235812 seconds\n"
     ]
    },
    {
     "name": "stdout",
     "output_type": "stream",
     "text": [
      "finished cdc_clique_modularity K_DoesAlgMirrorEdgesTest_1\n"
     ]
    },
    {
     "name": "stderr",
     "output_type": "stream",
     "text": [
      "2020-04-22 22:22:54,427 - cdc_clique_modularity - INFO - seed ignored\n",
      "INFO:cdc_clique_modularity:seed ignored\n",
      "2020-04-22 22:22:54,428 - cdc_clique_modularity - INFO - Running java -cp /opt/gct/submodules/CommunityDetectionCodes/conga-1.0-SNAPSHOT.jar clique_modularity.CM edges.txt -m clique_modularity.algorithm.BK.BK -c 10\n",
      "INFO:cdc_clique_modularity:Running java -cp /opt/gct/submodules/CommunityDetectionCodes/conga-1.0-SNAPSHOT.jar clique_modularity.CM edges.txt -m clique_modularity.algorithm.BK.BK -c 10\n"
     ]
    },
    {
     "name": "stdout",
     "output_type": "stream",
     "text": [
      "runing  cdc_clique_modularity K_DoesAlgMirrorEdgesTest_2\n"
     ]
    },
    {
     "name": "stderr",
     "output_type": "stream",
     "text": [
      "2020-04-22 22:22:54,697 - cdc_clique_modularity - INFO - Made 10 clusters in 0.267440 seconds\n",
      "INFO:cdc_clique_modularity:Made 10 clusters in 0.267440 seconds\n"
     ]
    },
    {
     "name": "stdout",
     "output_type": "stream",
     "text": [
      "finished cdc_clique_modularity K_DoesAlgMirrorEdgesTest_2\n"
     ]
    },
    {
     "name": "stderr",
     "output_type": "stream",
     "text": [
      "2020-04-22 22:22:54,810 - cgcc_CGGC - INFO - Running /opt/gct/submodules/CGGC/rgmc --seed=123 --inpfmt=e --outfile=output --outfmt=l /data/data/K_DoesAlgMirrorEdgesTest_1/edges.txt\n",
      "INFO:cgcc_CGGC:Running /opt/gct/submodules/CGGC/rgmc --seed=123 --inpfmt=e --outfile=output --outfmt=l /data/data/K_DoesAlgMirrorEdgesTest_1/edges.txt\n",
      "2020-04-22 22:22:54,820 - cgcc_CGGC - INFO - Made 6 clusters in 0.008507 seconds\n",
      "INFO:cgcc_CGGC:Made 6 clusters in 0.008507 seconds\n"
     ]
    },
    {
     "name": "stdout",
     "output_type": "stream",
     "text": [
      "runing  cgcc_CGGC K_DoesAlgMirrorEdgesTest_1\n",
      "finished cgcc_CGGC K_DoesAlgMirrorEdgesTest_1\n"
     ]
    },
    {
     "name": "stderr",
     "output_type": "stream",
     "text": [
      "2020-04-22 22:22:54,931 - cgcc_CGGC - INFO - Running /opt/gct/submodules/CGGC/rgmc --seed=123 --inpfmt=e --outfile=output --outfmt=l /data/data/K_DoesAlgMirrorEdgesTest_2/edges.txt\n",
      "INFO:cgcc_CGGC:Running /opt/gct/submodules/CGGC/rgmc --seed=123 --inpfmt=e --outfile=output --outfmt=l /data/data/K_DoesAlgMirrorEdgesTest_2/edges.txt\n",
      "2020-04-22 22:22:54,941 - cgcc_CGGC - INFO - Made 6 clusters in 0.008901 seconds\n",
      "INFO:cgcc_CGGC:Made 6 clusters in 0.008901 seconds\n"
     ]
    },
    {
     "name": "stdout",
     "output_type": "stream",
     "text": [
      "runing  cgcc_CGGC K_DoesAlgMirrorEdgesTest_2\n",
      "finished cgcc_CGGC K_DoesAlgMirrorEdgesTest_2\n"
     ]
    },
    {
     "name": "stderr",
     "output_type": "stream",
     "text": [
      "2020-04-22 22:22:55,052 - dct_dlplm - WARNING - dct assumes node starts with zero and is continuous\n",
      "WARNING:dct_dlplm:dct assumes node starts with zero and is continuous\n",
      "2020-04-22 22:22:55,053 - dct_dlplm - INFO - Running /opt/gct/submodules/distributed_clustering_thrill/dlplm /tmp/tmpk_v5eyak/edges.txt\n",
      "INFO:dct_dlplm:Running /opt/gct/submodules/distributed_clustering_thrill/dlplm /tmp/tmpk_v5eyak/edges.txt\n"
     ]
    },
    {
     "name": "stdout",
     "output_type": "stream",
     "text": [
      "runing  dct_dlplm K_DoesAlgMirrorEdgesTest_1\n"
     ]
    },
    {
     "name": "stderr",
     "output_type": "stream",
     "text": [
      "2020-04-22 22:22:55,191 - dct_dlplm - INFO - Made 7 clusters in 0.121719 seconds\n",
      "INFO:dct_dlplm:Made 7 clusters in 0.121719 seconds\n"
     ]
    },
    {
     "name": "stdout",
     "output_type": "stream",
     "text": [
      "finished dct_dlplm K_DoesAlgMirrorEdgesTest_1\n"
     ]
    },
    {
     "name": "stderr",
     "output_type": "stream",
     "text": [
      "2020-04-22 22:22:55,304 - dct_dlplm - WARNING - dct assumes node starts with zero and is continuous\n",
      "WARNING:dct_dlplm:dct assumes node starts with zero and is continuous\n",
      "2020-04-22 22:22:55,305 - dct_dlplm - INFO - Running /opt/gct/submodules/distributed_clustering_thrill/dlplm /tmp/tmpb_m8xca3/edges.txt\n",
      "INFO:dct_dlplm:Running /opt/gct/submodules/distributed_clustering_thrill/dlplm /tmp/tmpb_m8xca3/edges.txt\n"
     ]
    },
    {
     "name": "stdout",
     "output_type": "stream",
     "text": [
      "runing  dct_dlplm K_DoesAlgMirrorEdgesTest_2\n"
     ]
    },
    {
     "name": "stderr",
     "output_type": "stream",
     "text": [
      "2020-04-22 22:22:55,446 - dct_dlplm - INFO - Made 7 clusters in 0.124352 seconds\n",
      "INFO:dct_dlplm:Made 7 clusters in 0.124352 seconds\n"
     ]
    },
    {
     "name": "stdout",
     "output_type": "stream",
     "text": [
      "finished dct_dlplm K_DoesAlgMirrorEdgesTest_2\n"
     ]
    },
    {
     "name": "stderr",
     "output_type": "stream",
     "text": [
      "2020-04-22 22:22:55,559 - dct_dlslm - WARNING - dct assumes node starts with zero and is continuous\n",
      "WARNING:dct_dlslm:dct assumes node starts with zero and is continuous\n",
      "2020-04-22 22:22:55,561 - dct_dlslm - INFO - Running /opt/gct/submodules/distributed_clustering_thrill/dlplm /tmp/tmpey08smzt/edges.txt\n",
      "INFO:dct_dlslm:Running /opt/gct/submodules/distributed_clustering_thrill/dlplm /tmp/tmpey08smzt/edges.txt\n"
     ]
    },
    {
     "name": "stdout",
     "output_type": "stream",
     "text": [
      "runing  dct_dlslm K_DoesAlgMirrorEdgesTest_1\n"
     ]
    },
    {
     "name": "stderr",
     "output_type": "stream",
     "text": [
      "2020-04-22 22:22:55,688 - dct_dlslm - INFO - Made 7 clusters in 0.110012 seconds\n",
      "INFO:dct_dlslm:Made 7 clusters in 0.110012 seconds\n"
     ]
    },
    {
     "name": "stdout",
     "output_type": "stream",
     "text": [
      "finished dct_dlslm K_DoesAlgMirrorEdgesTest_1\n"
     ]
    },
    {
     "name": "stderr",
     "output_type": "stream",
     "text": [
      "2020-04-22 22:22:55,799 - dct_dlslm - WARNING - dct assumes node starts with zero and is continuous\n",
      "WARNING:dct_dlslm:dct assumes node starts with zero and is continuous\n",
      "2020-04-22 22:22:55,801 - dct_dlslm - INFO - Running /opt/gct/submodules/distributed_clustering_thrill/dlplm /tmp/tmpl05vdkmk/edges.txt\n",
      "INFO:dct_dlslm:Running /opt/gct/submodules/distributed_clustering_thrill/dlplm /tmp/tmpl05vdkmk/edges.txt\n"
     ]
    },
    {
     "name": "stdout",
     "output_type": "stream",
     "text": [
      "runing  dct_dlslm K_DoesAlgMirrorEdgesTest_2\n"
     ]
    },
    {
     "name": "stderr",
     "output_type": "stream",
     "text": [
      "2020-04-22 22:22:55,930 - dct_dlslm - INFO - Made 7 clusters in 0.113448 seconds\n",
      "INFO:dct_dlslm:Made 7 clusters in 0.113448 seconds\n"
     ]
    },
    {
     "name": "stdout",
     "output_type": "stream",
     "text": [
      "finished dct_dlslm K_DoesAlgMirrorEdgesTest_2\n"
     ]
    },
    {
     "name": "stderr",
     "output_type": "stream",
     "text": [
      "2020-04-22 22:22:56,042 - dct_dlslm_map_eq - WARNING - dct assumes node starts with zero and is continuous\n",
      "WARNING:dct_dlslm_map_eq:dct assumes node starts with zero and is continuous\n",
      "2020-04-22 22:22:56,043 - dct_dlslm_map_eq - INFO - Running /opt/gct/submodules/distributed_clustering_thrill/dlslm_map_eq /tmp/tmps_z0o6kk/edges.txt\n",
      "INFO:dct_dlslm_map_eq:Running /opt/gct/submodules/distributed_clustering_thrill/dlslm_map_eq /tmp/tmps_z0o6kk/edges.txt\n"
     ]
    },
    {
     "name": "stdout",
     "output_type": "stream",
     "text": [
      "runing  dct_dlslm_map_eq K_DoesAlgMirrorEdgesTest_1\n"
     ]
    },
    {
     "name": "stderr",
     "output_type": "stream",
     "text": [
      "2020-04-22 22:22:56,361 - dct_dlslm_map_eq - INFO - Made 7 clusters in 0.301436 seconds\n",
      "INFO:dct_dlslm_map_eq:Made 7 clusters in 0.301436 seconds\n"
     ]
    },
    {
     "name": "stdout",
     "output_type": "stream",
     "text": [
      "finished dct_dlslm_map_eq K_DoesAlgMirrorEdgesTest_1\n"
     ]
    },
    {
     "name": "stderr",
     "output_type": "stream",
     "text": [
      "2020-04-22 22:22:56,473 - dct_dlslm_map_eq - WARNING - dct assumes node starts with zero and is continuous\n",
      "WARNING:dct_dlslm_map_eq:dct assumes node starts with zero and is continuous\n",
      "2020-04-22 22:22:56,474 - dct_dlslm_map_eq - INFO - Running /opt/gct/submodules/distributed_clustering_thrill/dlslm_map_eq /tmp/tmp0i739qh8/edges.txt\n",
      "INFO:dct_dlslm_map_eq:Running /opt/gct/submodules/distributed_clustering_thrill/dlslm_map_eq /tmp/tmp0i739qh8/edges.txt\n"
     ]
    },
    {
     "name": "stdout",
     "output_type": "stream",
     "text": [
      "runing  dct_dlslm_map_eq K_DoesAlgMirrorEdgesTest_2\n"
     ]
    },
    {
     "name": "stderr",
     "output_type": "stream",
     "text": [
      "2020-04-22 22:22:56,789 - dct_dlslm_map_eq - INFO - Made 7 clusters in 0.297698 seconds\n",
      "INFO:dct_dlslm_map_eq:Made 7 clusters in 0.297698 seconds\n"
     ]
    },
    {
     "name": "stdout",
     "output_type": "stream",
     "text": [
      "finished dct_dlslm_map_eq K_DoesAlgMirrorEdgesTest_2\n"
     ]
    },
    {
     "name": "stderr",
     "output_type": "stream",
     "text": [
      "2020-04-22 22:22:56,901 - dct_dlslm_no_contraction - WARNING - dct assumes node starts with zero and is continuous\n",
      "WARNING:dct_dlslm_no_contraction:dct assumes node starts with zero and is continuous\n",
      "2020-04-22 22:22:56,903 - dct_dlslm_no_contraction - INFO - Running /opt/gct/submodules/distributed_clustering_thrill/dlslm_no_contraction /tmp/tmpbfmbjcf3/edges.txt\n",
      "INFO:dct_dlslm_no_contraction:Running /opt/gct/submodules/distributed_clustering_thrill/dlslm_no_contraction /tmp/tmpbfmbjcf3/edges.txt\n"
     ]
    },
    {
     "name": "stdout",
     "output_type": "stream",
     "text": [
      "runing  dct_dlslm_no_contraction K_DoesAlgMirrorEdgesTest_1\n"
     ]
    },
    {
     "name": "stderr",
     "output_type": "stream",
     "text": [
      "2020-04-22 22:22:57,124 - dct_dlslm_no_contraction - INFO - Made 7 clusters in 0.205165 seconds\n",
      "INFO:dct_dlslm_no_contraction:Made 7 clusters in 0.205165 seconds\n"
     ]
    },
    {
     "name": "stdout",
     "output_type": "stream",
     "text": [
      "finished dct_dlslm_no_contraction K_DoesAlgMirrorEdgesTest_1\n"
     ]
    },
    {
     "name": "stderr",
     "output_type": "stream",
     "text": [
      "2020-04-22 22:22:57,237 - dct_dlslm_no_contraction - WARNING - dct assumes node starts with zero and is continuous\n",
      "WARNING:dct_dlslm_no_contraction:dct assumes node starts with zero and is continuous\n",
      "2020-04-22 22:22:57,238 - dct_dlslm_no_contraction - INFO - Running /opt/gct/submodules/distributed_clustering_thrill/dlslm_no_contraction /tmp/tmpjlr30i0q/edges.txt\n",
      "INFO:dct_dlslm_no_contraction:Running /opt/gct/submodules/distributed_clustering_thrill/dlslm_no_contraction /tmp/tmpjlr30i0q/edges.txt\n"
     ]
    },
    {
     "name": "stdout",
     "output_type": "stream",
     "text": [
      "runing  dct_dlslm_no_contraction K_DoesAlgMirrorEdgesTest_2\n"
     ]
    },
    {
     "name": "stderr",
     "output_type": "stream",
     "text": [
      "2020-04-22 22:22:57,474 - dct_dlslm_no_contraction - INFO - Made 7 clusters in 0.216965 seconds\n",
      "INFO:dct_dlslm_no_contraction:Made 7 clusters in 0.216965 seconds\n"
     ]
    },
    {
     "name": "stdout",
     "output_type": "stream",
     "text": [
      "finished dct_dlslm_no_contraction K_DoesAlgMirrorEdgesTest_2\n"
     ]
    },
    {
     "name": "stderr",
     "output_type": "stream",
     "text": [
      "2020-04-22 22:22:57,586 - dct_dlslm_with_seq - WARNING - dct assumes node starts with zero and is continuous\n",
      "WARNING:dct_dlslm_with_seq:dct assumes node starts with zero and is continuous\n",
      "2020-04-22 22:22:57,587 - dct_dlslm_with_seq - INFO - Running /opt/gct/submodules/distributed_clustering_thrill/dlslm_with_seq /tmp/tmp9912son_/edges.txt\n",
      "INFO:dct_dlslm_with_seq:Running /opt/gct/submodules/distributed_clustering_thrill/dlslm_with_seq /tmp/tmp9912son_/edges.txt\n"
     ]
    },
    {
     "name": "stdout",
     "output_type": "stream",
     "text": [
      "runing  dct_dlslm_with_seq K_DoesAlgMirrorEdgesTest_1\n"
     ]
    },
    {
     "name": "stderr",
     "output_type": "stream",
     "text": [
      "2020-04-22 22:22:57,710 - dct_dlslm_with_seq - INFO - Made 7 clusters in 0.106420 seconds\n",
      "INFO:dct_dlslm_with_seq:Made 7 clusters in 0.106420 seconds\n"
     ]
    },
    {
     "name": "stdout",
     "output_type": "stream",
     "text": [
      "finished dct_dlslm_with_seq K_DoesAlgMirrorEdgesTest_1\n"
     ]
    },
    {
     "name": "stderr",
     "output_type": "stream",
     "text": [
      "2020-04-22 22:22:57,822 - dct_dlslm_with_seq - WARNING - dct assumes node starts with zero and is continuous\n",
      "WARNING:dct_dlslm_with_seq:dct assumes node starts with zero and is continuous\n",
      "2020-04-22 22:22:57,823 - dct_dlslm_with_seq - INFO - Running /opt/gct/submodules/distributed_clustering_thrill/dlslm_with_seq /tmp/tmpq5dk5nkj/edges.txt\n",
      "INFO:dct_dlslm_with_seq:Running /opt/gct/submodules/distributed_clustering_thrill/dlslm_with_seq /tmp/tmpq5dk5nkj/edges.txt\n"
     ]
    },
    {
     "name": "stdout",
     "output_type": "stream",
     "text": [
      "runing  dct_dlslm_with_seq K_DoesAlgMirrorEdgesTest_2\n"
     ]
    },
    {
     "name": "stderr",
     "output_type": "stream",
     "text": [
      "2020-04-22 22:22:57,971 - dct_dlslm_with_seq - INFO - Made 7 clusters in 0.131730 seconds\n",
      "INFO:dct_dlslm_with_seq:Made 7 clusters in 0.131730 seconds\n"
     ]
    },
    {
     "name": "stdout",
     "output_type": "stream",
     "text": [
      "finished dct_dlslm_with_seq K_DoesAlgMirrorEdgesTest_2\n"
     ]
    },
    {
     "name": "stderr",
     "output_type": "stream",
     "text": [
      "2020-04-22 22:22:58,083 - dct_infomap - WARNING - dct::seq_louvain assumes node starts with zero and is continuous\n",
      "WARNING:dct_infomap:dct::seq_louvain assumes node starts with zero and is continuous\n",
      "2020-04-22 22:22:58,084 - dct_infomap - INFO - Running /opt/gct/submodules/distributed_clustering_thrill/infomap -f -s 123 -o output /tmp/tmp1_mumw_7/edges.txt\n",
      "INFO:dct_infomap:Running /opt/gct/submodules/distributed_clustering_thrill/infomap -f -s 123 -o output /tmp/tmp1_mumw_7/edges.txt\n",
      "2020-04-22 22:22:58,112 - dct_infomap - INFO - Made 7 clusters in 0.020481 seconds\n",
      "INFO:dct_infomap:Made 7 clusters in 0.020481 seconds\n"
     ]
    },
    {
     "name": "stdout",
     "output_type": "stream",
     "text": [
      "runing  dct_infomap K_DoesAlgMirrorEdgesTest_1\n",
      "finished dct_infomap K_DoesAlgMirrorEdgesTest_1\n"
     ]
    },
    {
     "name": "stderr",
     "output_type": "stream",
     "text": [
      "2020-04-22 22:22:58,223 - dct_infomap - WARNING - dct::seq_louvain assumes node starts with zero and is continuous\n",
      "WARNING:dct_infomap:dct::seq_louvain assumes node starts with zero and is continuous\n",
      "2020-04-22 22:22:58,224 - dct_infomap - INFO - Running /opt/gct/submodules/distributed_clustering_thrill/infomap -f -s 123 -o output /tmp/tmpysnzanch/edges.txt\n",
      "INFO:dct_infomap:Running /opt/gct/submodules/distributed_clustering_thrill/infomap -f -s 123 -o output /tmp/tmpysnzanch/edges.txt\n",
      "2020-04-22 22:22:58,251 - dct_infomap - INFO - Made 7 clusters in 0.019599 seconds\n",
      "INFO:dct_infomap:Made 7 clusters in 0.019599 seconds\n"
     ]
    },
    {
     "name": "stdout",
     "output_type": "stream",
     "text": [
      "runing  dct_infomap K_DoesAlgMirrorEdgesTest_2\n",
      "finished dct_infomap K_DoesAlgMirrorEdgesTest_2\n"
     ]
    },
    {
     "name": "stderr",
     "output_type": "stream",
     "text": [
      "2020-04-22 22:22:58,362 - dct_seq_louvain - WARNING - dct::seq_louvain assumes node starts with zero and is continuous\n",
      "WARNING:dct_seq_louvain:dct::seq_louvain assumes node starts with zero and is continuous\n",
      "2020-04-22 22:22:58,363 - dct_seq_louvain - INFO - Running /opt/gct/submodules/distributed_clustering_thrill/seq_louvain -f -s 123 -o output /tmp/tmpfc5n9r_l/edges.txt\n",
      "INFO:dct_seq_louvain:Running /opt/gct/submodules/distributed_clustering_thrill/seq_louvain -f -s 123 -o output /tmp/tmpfc5n9r_l/edges.txt\n",
      "2020-04-22 22:22:58,381 - dct_seq_louvain - INFO - Made 7 clusters in 0.011393 seconds\n",
      "INFO:dct_seq_louvain:Made 7 clusters in 0.011393 seconds\n"
     ]
    },
    {
     "name": "stdout",
     "output_type": "stream",
     "text": [
      "runing  dct_seq_louvain K_DoesAlgMirrorEdgesTest_1\n",
      "finished dct_seq_louvain K_DoesAlgMirrorEdgesTest_1\n"
     ]
    },
    {
     "name": "stderr",
     "output_type": "stream",
     "text": [
      "2020-04-22 22:22:58,492 - dct_seq_louvain - WARNING - dct::seq_louvain assumes node starts with zero and is continuous\n",
      "WARNING:dct_seq_louvain:dct::seq_louvain assumes node starts with zero and is continuous\n",
      "2020-04-22 22:22:58,493 - dct_seq_louvain - INFO - Running /opt/gct/submodules/distributed_clustering_thrill/seq_louvain -f -s 123 -o output /tmp/tmpfc7vng50/edges.txt\n",
      "INFO:dct_seq_louvain:Running /opt/gct/submodules/distributed_clustering_thrill/seq_louvain -f -s 123 -o output /tmp/tmpfc7vng50/edges.txt\n",
      "2020-04-22 22:22:58,512 - dct_seq_louvain - INFO - Made 7 clusters in 0.012321 seconds\n",
      "INFO:dct_seq_louvain:Made 7 clusters in 0.012321 seconds\n"
     ]
    },
    {
     "name": "stdout",
     "output_type": "stream",
     "text": [
      "runing  dct_seq_louvain K_DoesAlgMirrorEdgesTest_2\n",
      "finished dct_seq_louvain K_DoesAlgMirrorEdgesTest_2\n"
     ]
    },
    {
     "name": "stderr",
     "output_type": "stream",
     "text": [
      "2020-04-22 22:22:58,623 - igraph_community_edge_betweenness - INFO - seed ignored\n",
      "INFO:igraph_community_edge_betweenness:seed ignored\n",
      "2020-04-22 22:22:58,623 - Dataset:K_DoesAlgMirrorEdgesTest_1 - INFO - reading /data/data/K_DoesAlgMirrorEdgesTest_1/edges.parq\n",
      "INFO:Dataset:K_DoesAlgMirrorEdgesTest_1:reading /data/data/K_DoesAlgMirrorEdgesTest_1/edges.parq\n"
     ]
    },
    {
     "name": "stdout",
     "output_type": "stream",
     "text": [
      "runing  igraph_community_edge_betweenness K_DoesAlgMirrorEdgesTest_1\n"
     ]
    },
    {
     "name": "stderr",
     "output_type": "stream",
     "text": [
      "2020-04-22 22:22:59,540 - igraph_community_edge_betweenness - INFO - Made 7 clusters in 0.911528 seconds. modularity=0.623754 \n",
      "INFO:igraph_community_edge_betweenness:Made 7 clusters in 0.911528 seconds. modularity=0.623754 \n"
     ]
    },
    {
     "name": "stdout",
     "output_type": "stream",
     "text": [
      "finished igraph_community_edge_betweenness K_DoesAlgMirrorEdgesTest_1\n"
     ]
    },
    {
     "name": "stderr",
     "output_type": "stream",
     "text": [
      "2020-04-22 22:22:59,652 - igraph_community_edge_betweenness - INFO - seed ignored\n",
      "INFO:igraph_community_edge_betweenness:seed ignored\n",
      "2020-04-22 22:22:59,653 - Dataset:K_DoesAlgMirrorEdgesTest_2 - INFO - reading /data/data/K_DoesAlgMirrorEdgesTest_2/edges.parq\n",
      "INFO:Dataset:K_DoesAlgMirrorEdgesTest_2:reading /data/data/K_DoesAlgMirrorEdgesTest_2/edges.parq\n"
     ]
    },
    {
     "name": "stdout",
     "output_type": "stream",
     "text": [
      "runing  igraph_community_edge_betweenness K_DoesAlgMirrorEdgesTest_2\n"
     ]
    },
    {
     "name": "stderr",
     "output_type": "stream",
     "text": [
      "2020-04-22 22:23:02,287 - igraph_community_edge_betweenness - INFO - Made 7 clusters in 2.627792 seconds. modularity=0.623754 \n",
      "INFO:igraph_community_edge_betweenness:Made 7 clusters in 2.627792 seconds. modularity=0.623754 \n"
     ]
    },
    {
     "name": "stdout",
     "output_type": "stream",
     "text": [
      "finished igraph_community_edge_betweenness K_DoesAlgMirrorEdgesTest_2\n"
     ]
    },
    {
     "name": "stderr",
     "output_type": "stream",
     "text": [
      "2020-04-22 22:23:02,399 - igraph_community_fastgreedy - INFO - seed ignored\n",
      "INFO:igraph_community_fastgreedy:seed ignored\n",
      "2020-04-22 22:23:02,400 - Dataset:K_DoesAlgMirrorEdgesTest_1 - INFO - reading /data/data/K_DoesAlgMirrorEdgesTest_1/edges.parq\n",
      "INFO:Dataset:K_DoesAlgMirrorEdgesTest_1:reading /data/data/K_DoesAlgMirrorEdgesTest_1/edges.parq\n",
      "2020-04-22 22:23:02,406 - igraph_community_fastgreedy - INFO - Made 7 clusters in 0.001045 seconds. modularity=0.623754 \n",
      "INFO:igraph_community_fastgreedy:Made 7 clusters in 0.001045 seconds. modularity=0.623754 \n"
     ]
    },
    {
     "name": "stdout",
     "output_type": "stream",
     "text": [
      "runing  igraph_community_fastgreedy K_DoesAlgMirrorEdgesTest_1\n",
      "finished igraph_community_fastgreedy K_DoesAlgMirrorEdgesTest_1\n",
      "runing  igraph_community_fastgreedy K_DoesAlgMirrorEdgesTest_2\n",
      "finished igraph_community_fastgreedy K_DoesAlgMirrorEdgesTest_2\n"
     ]
    },
    {
     "name": "stderr",
     "output_type": "stream",
     "text": [
      "Error: only undirected and unmirrored graph is supported for community_fastgreedy\n",
      "2020-04-22 22:23:02,625 - igraph_community_infomap - INFO - seed ignored\n",
      "INFO:igraph_community_infomap:seed ignored\n",
      "2020-04-22 22:23:02,626 - Dataset:K_DoesAlgMirrorEdgesTest_1 - INFO - reading /data/data/K_DoesAlgMirrorEdgesTest_1/edges.parq\n",
      "INFO:Dataset:K_DoesAlgMirrorEdgesTest_1:reading /data/data/K_DoesAlgMirrorEdgesTest_1/edges.parq\n",
      "2020-04-22 22:23:02,644 - igraph_community_infomap - INFO - Made 7 clusters in 0.013695 seconds. modularity=0.623754 \n",
      "INFO:igraph_community_infomap:Made 7 clusters in 0.013695 seconds. modularity=0.623754 \n"
     ]
    },
    {
     "name": "stdout",
     "output_type": "stream",
     "text": [
      "runing  igraph_community_infomap K_DoesAlgMirrorEdgesTest_1\n",
      "finished igraph_community_infomap K_DoesAlgMirrorEdgesTest_1\n"
     ]
    },
    {
     "name": "stderr",
     "output_type": "stream",
     "text": [
      "2020-04-22 22:23:02,754 - igraph_community_infomap - INFO - seed ignored\n",
      "INFO:igraph_community_infomap:seed ignored\n",
      "2020-04-22 22:23:02,755 - Dataset:K_DoesAlgMirrorEdgesTest_2 - INFO - reading /data/data/K_DoesAlgMirrorEdgesTest_2/edges.parq\n",
      "INFO:Dataset:K_DoesAlgMirrorEdgesTest_2:reading /data/data/K_DoesAlgMirrorEdgesTest_2/edges.parq\n",
      "2020-04-22 22:23:02,788 - igraph_community_infomap - INFO - Made 60 clusters in 0.028117 seconds. modularity=0.046890 \n",
      "INFO:igraph_community_infomap:Made 60 clusters in 0.028117 seconds. modularity=0.046890 \n"
     ]
    },
    {
     "name": "stdout",
     "output_type": "stream",
     "text": [
      "runing  igraph_community_infomap K_DoesAlgMirrorEdgesTest_2\n",
      "finished igraph_community_infomap K_DoesAlgMirrorEdgesTest_2\n"
     ]
    },
    {
     "name": "stderr",
     "output_type": "stream",
     "text": [
      "2020-04-22 22:23:02,898 - igraph_community_label_propagation - INFO - seed ignored\n",
      "INFO:igraph_community_label_propagation:seed ignored\n",
      "2020-04-22 22:23:02,899 - Dataset:K_DoesAlgMirrorEdgesTest_1 - INFO - reading /data/data/K_DoesAlgMirrorEdgesTest_1/edges.parq\n",
      "INFO:Dataset:K_DoesAlgMirrorEdgesTest_1:reading /data/data/K_DoesAlgMirrorEdgesTest_1/edges.parq\n",
      "2020-04-22 22:23:02,904 - igraph_community_label_propagation - INFO - Made 7 clusters in 0.000293 seconds. modularity=0.623754 \n",
      "INFO:igraph_community_label_propagation:Made 7 clusters in 0.000293 seconds. modularity=0.623754 \n"
     ]
    },
    {
     "name": "stdout",
     "output_type": "stream",
     "text": [
      "runing  igraph_community_label_propagation K_DoesAlgMirrorEdgesTest_1\n",
      "finished igraph_community_label_propagation K_DoesAlgMirrorEdgesTest_1\n"
     ]
    },
    {
     "name": "stderr",
     "output_type": "stream",
     "text": [
      "2020-04-22 22:23:03,013 - igraph_community_label_propagation - INFO - seed ignored\n",
      "INFO:igraph_community_label_propagation:seed ignored\n",
      "2020-04-22 22:23:03,014 - Dataset:K_DoesAlgMirrorEdgesTest_2 - INFO - reading /data/data/K_DoesAlgMirrorEdgesTest_2/edges.parq\n",
      "INFO:Dataset:K_DoesAlgMirrorEdgesTest_2:reading /data/data/K_DoesAlgMirrorEdgesTest_2/edges.parq\n",
      "2020-04-22 22:23:03,020 - igraph_community_label_propagation - INFO - Made 7 clusters in 0.000344 seconds. modularity=0.623754 \n",
      "INFO:igraph_community_label_propagation:Made 7 clusters in 0.000344 seconds. modularity=0.623754 \n"
     ]
    },
    {
     "name": "stdout",
     "output_type": "stream",
     "text": [
      "runing  igraph_community_label_propagation K_DoesAlgMirrorEdgesTest_2\n",
      "finished igraph_community_label_propagation K_DoesAlgMirrorEdgesTest_2\n"
     ]
    },
    {
     "name": "stderr",
     "output_type": "stream",
     "text": [
      "2020-04-22 22:23:03,129 - igraph_community_leading_eigenvector - INFO - seed ignored\n",
      "INFO:igraph_community_leading_eigenvector:seed ignored\n",
      "2020-04-22 22:23:03,130 - Dataset:K_DoesAlgMirrorEdgesTest_1 - INFO - reading /data/data/K_DoesAlgMirrorEdgesTest_1/edges.parq\n",
      "INFO:Dataset:K_DoesAlgMirrorEdgesTest_1:reading /data/data/K_DoesAlgMirrorEdgesTest_1/edges.parq\n",
      "2020-04-22 22:23:03,158 - igraph_community_leading_eigenvector - INFO - Made 9 clusters in 0.022678 seconds. modularity=0.491417 \n",
      "INFO:igraph_community_leading_eigenvector:Made 9 clusters in 0.022678 seconds. modularity=0.491417 \n"
     ]
    },
    {
     "name": "stdout",
     "output_type": "stream",
     "text": [
      "runing  igraph_community_leading_eigenvector K_DoesAlgMirrorEdgesTest_1\n",
      "finished igraph_community_leading_eigenvector K_DoesAlgMirrorEdgesTest_1\n"
     ]
    },
    {
     "name": "stderr",
     "output_type": "stream",
     "text": [
      "2020-04-22 22:23:03,268 - igraph_community_leading_eigenvector - INFO - seed ignored\n",
      "INFO:igraph_community_leading_eigenvector:seed ignored\n",
      "2020-04-22 22:23:03,269 - Dataset:K_DoesAlgMirrorEdgesTest_2 - INFO - reading /data/data/K_DoesAlgMirrorEdgesTest_2/edges.parq\n",
      "INFO:Dataset:K_DoesAlgMirrorEdgesTest_2:reading /data/data/K_DoesAlgMirrorEdgesTest_2/edges.parq\n",
      "2020-04-22 22:23:03,298 - igraph_community_leading_eigenvector - INFO - Made 9 clusters in 0.024351 seconds. modularity=0.491417 \n",
      "INFO:igraph_community_leading_eigenvector:Made 9 clusters in 0.024351 seconds. modularity=0.491417 \n"
     ]
    },
    {
     "name": "stdout",
     "output_type": "stream",
     "text": [
      "runing  igraph_community_leading_eigenvector K_DoesAlgMirrorEdgesTest_2\n",
      "finished igraph_community_leading_eigenvector K_DoesAlgMirrorEdgesTest_2\n"
     ]
    },
    {
     "name": "stderr",
     "output_type": "stream",
     "text": [
      "2020-04-22 22:23:03,408 - igraph_community_multilevel - INFO - seed ignored\n",
      "INFO:igraph_community_multilevel:seed ignored\n",
      "2020-04-22 22:23:03,409 - Dataset:K_DoesAlgMirrorEdgesTest_1 - INFO - reading /data/data/K_DoesAlgMirrorEdgesTest_1/edges.parq\n",
      "INFO:Dataset:K_DoesAlgMirrorEdgesTest_1:reading /data/data/K_DoesAlgMirrorEdgesTest_1/edges.parq\n",
      "2020-04-22 22:23:03,415 - igraph_community_multilevel - INFO - Made 7 clusters in 0.000793 seconds. modularity=0.623754 \n",
      "INFO:igraph_community_multilevel:Made 7 clusters in 0.000793 seconds. modularity=0.623754 \n"
     ]
    },
    {
     "name": "stdout",
     "output_type": "stream",
     "text": [
      "runing  igraph_community_multilevel K_DoesAlgMirrorEdgesTest_1\n",
      "finished igraph_community_multilevel K_DoesAlgMirrorEdgesTest_1\n"
     ]
    },
    {
     "name": "stderr",
     "output_type": "stream",
     "text": [
      "2020-04-22 22:23:03,525 - igraph_community_multilevel - INFO - seed ignored\n",
      "INFO:igraph_community_multilevel:seed ignored\n",
      "2020-04-22 22:23:03,526 - Dataset:K_DoesAlgMirrorEdgesTest_2 - INFO - reading /data/data/K_DoesAlgMirrorEdgesTest_2/edges.parq\n",
      "INFO:Dataset:K_DoesAlgMirrorEdgesTest_2:reading /data/data/K_DoesAlgMirrorEdgesTest_2/edges.parq\n",
      "2020-04-22 22:23:03,532 - igraph_community_multilevel - INFO - Made 7 clusters in 0.001250 seconds. modularity=0.623754 \n",
      "INFO:igraph_community_multilevel:Made 7 clusters in 0.001250 seconds. modularity=0.623754 \n"
     ]
    },
    {
     "name": "stdout",
     "output_type": "stream",
     "text": [
      "runing  igraph_community_multilevel K_DoesAlgMirrorEdgesTest_2\n",
      "finished igraph_community_multilevel K_DoesAlgMirrorEdgesTest_2\n"
     ]
    },
    {
     "name": "stderr",
     "output_type": "stream",
     "text": [
      "2020-04-22 22:23:03,643 - igraph_community_optimal_modularity - INFO - seed ignored\n",
      "INFO:igraph_community_optimal_modularity:seed ignored\n",
      "2020-04-22 22:23:03,643 - Dataset:K_DoesAlgMirrorEdgesTest_1 - INFO - reading /data/data/K_DoesAlgMirrorEdgesTest_1/edges.parq\n",
      "INFO:Dataset:K_DoesAlgMirrorEdgesTest_1:reading /data/data/K_DoesAlgMirrorEdgesTest_1/edges.parq\n"
     ]
    },
    {
     "name": "stdout",
     "output_type": "stream",
     "text": [
      "runing  igraph_community_optimal_modularity K_DoesAlgMirrorEdgesTest_1\n"
     ]
    },
    {
     "name": "stderr",
     "output_type": "stream",
     "text": [
      "2020-04-22 22:27:53,506 - igraph_community_optimal_modularity - INFO - Made 7 clusters in 289.857686 seconds. modularity=0.623754 \n",
      "INFO:igraph_community_optimal_modularity:Made 7 clusters in 289.857686 seconds. modularity=0.623754 \n"
     ]
    },
    {
     "name": "stdout",
     "output_type": "stream",
     "text": [
      "finished igraph_community_optimal_modularity K_DoesAlgMirrorEdgesTest_1\n"
     ]
    },
    {
     "name": "stderr",
     "output_type": "stream",
     "text": [
      "2020-04-22 22:27:53,618 - igraph_community_optimal_modularity - INFO - seed ignored\n",
      "INFO:igraph_community_optimal_modularity:seed ignored\n",
      "2020-04-22 22:27:53,619 - Dataset:K_DoesAlgMirrorEdgesTest_2 - INFO - reading /data/data/K_DoesAlgMirrorEdgesTest_2/edges.parq\n",
      "INFO:Dataset:K_DoesAlgMirrorEdgesTest_2:reading /data/data/K_DoesAlgMirrorEdgesTest_2/edges.parq\n"
     ]
    },
    {
     "name": "stdout",
     "output_type": "stream",
     "text": [
      "runing  igraph_community_optimal_modularity K_DoesAlgMirrorEdgesTest_2\n"
     ]
    },
    {
     "name": "stderr",
     "output_type": "stream",
     "text": [
      "2020-04-22 22:32:47,078 - igraph_community_optimal_modularity - INFO - Made 7 clusters in 293.453844 seconds. modularity=0.623754 \n",
      "INFO:igraph_community_optimal_modularity:Made 7 clusters in 293.453844 seconds. modularity=0.623754 \n"
     ]
    },
    {
     "name": "stdout",
     "output_type": "stream",
     "text": [
      "finished igraph_community_optimal_modularity K_DoesAlgMirrorEdgesTest_2\n"
     ]
    },
    {
     "name": "stderr",
     "output_type": "stream",
     "text": [
      "2020-04-22 22:32:47,190 - igraph_community_spinglass - INFO - seed ignored\n",
      "INFO:igraph_community_spinglass:seed ignored\n",
      "2020-04-22 22:32:47,191 - Dataset:K_DoesAlgMirrorEdgesTest_1 - INFO - reading /data/data/K_DoesAlgMirrorEdgesTest_1/edges.parq\n",
      "INFO:Dataset:K_DoesAlgMirrorEdgesTest_1:reading /data/data/K_DoesAlgMirrorEdgesTest_1/edges.parq\n"
     ]
    },
    {
     "name": "stdout",
     "output_type": "stream",
     "text": [
      "runing  igraph_community_spinglass K_DoesAlgMirrorEdgesTest_1\n"
     ]
    },
    {
     "name": "stderr",
     "output_type": "stream",
     "text": [
      "2020-04-22 22:32:47,707 - igraph_community_spinglass - INFO - Made 8 clusters in 0.510592 seconds. modularity=0.618141 \n",
      "INFO:igraph_community_spinglass:Made 8 clusters in 0.510592 seconds. modularity=0.618141 \n"
     ]
    },
    {
     "name": "stdout",
     "output_type": "stream",
     "text": [
      "finished igraph_community_spinglass K_DoesAlgMirrorEdgesTest_1\n"
     ]
    },
    {
     "name": "stderr",
     "output_type": "stream",
     "text": [
      "2020-04-22 22:32:47,817 - igraph_community_spinglass - INFO - seed ignored\n",
      "INFO:igraph_community_spinglass:seed ignored\n",
      "2020-04-22 22:32:47,818 - Dataset:K_DoesAlgMirrorEdgesTest_2 - INFO - reading /data/data/K_DoesAlgMirrorEdgesTest_2/edges.parq\n",
      "INFO:Dataset:K_DoesAlgMirrorEdgesTest_2:reading /data/data/K_DoesAlgMirrorEdgesTest_2/edges.parq\n"
     ]
    },
    {
     "name": "stdout",
     "output_type": "stream",
     "text": [
      "runing  igraph_community_spinglass K_DoesAlgMirrorEdgesTest_2\n"
     ]
    },
    {
     "name": "stderr",
     "output_type": "stream",
     "text": [
      "2020-04-22 22:32:48,290 - igraph_community_spinglass - INFO - Made 7 clusters in 0.466083 seconds. modularity=0.623754 \n",
      "INFO:igraph_community_spinglass:Made 7 clusters in 0.466083 seconds. modularity=0.623754 \n"
     ]
    },
    {
     "name": "stdout",
     "output_type": "stream",
     "text": [
      "finished igraph_community_spinglass K_DoesAlgMirrorEdgesTest_2\n"
     ]
    },
    {
     "name": "stderr",
     "output_type": "stream",
     "text": [
      "2020-04-22 22:32:48,400 - igraph_community_walktrap - INFO - seed ignored\n",
      "INFO:igraph_community_walktrap:seed ignored\n",
      "2020-04-22 22:32:48,401 - Dataset:K_DoesAlgMirrorEdgesTest_1 - INFO - reading /data/data/K_DoesAlgMirrorEdgesTest_1/edges.parq\n",
      "INFO:Dataset:K_DoesAlgMirrorEdgesTest_1:reading /data/data/K_DoesAlgMirrorEdgesTest_1/edges.parq\n",
      "2020-04-22 22:32:48,409 - igraph_community_walktrap - INFO - Made 7 clusters in 0.002579 seconds. modularity=0.623754 \n",
      "INFO:igraph_community_walktrap:Made 7 clusters in 0.002579 seconds. modularity=0.623754 \n"
     ]
    },
    {
     "name": "stdout",
     "output_type": "stream",
     "text": [
      "runing  igraph_community_walktrap K_DoesAlgMirrorEdgesTest_1\n",
      "finished igraph_community_walktrap K_DoesAlgMirrorEdgesTest_1\n"
     ]
    },
    {
     "name": "stderr",
     "output_type": "stream",
     "text": [
      "2020-04-22 22:32:48,519 - igraph_community_walktrap - INFO - seed ignored\n",
      "INFO:igraph_community_walktrap:seed ignored\n",
      "2020-04-22 22:32:48,519 - Dataset:K_DoesAlgMirrorEdgesTest_2 - INFO - reading /data/data/K_DoesAlgMirrorEdgesTest_2/edges.parq\n",
      "INFO:Dataset:K_DoesAlgMirrorEdgesTest_2:reading /data/data/K_DoesAlgMirrorEdgesTest_2/edges.parq\n",
      "2020-04-22 22:32:48,527 - igraph_community_walktrap - INFO - Made 7 clusters in 0.002658 seconds. modularity=0.623754 \n",
      "INFO:igraph_community_walktrap:Made 7 clusters in 0.002658 seconds. modularity=0.623754 \n"
     ]
    },
    {
     "name": "stdout",
     "output_type": "stream",
     "text": [
      "runing  igraph_community_walktrap K_DoesAlgMirrorEdgesTest_2\n",
      "finished igraph_community_walktrap K_DoesAlgMirrorEdgesTest_2\n"
     ]
    },
    {
     "name": "stderr",
     "output_type": "stream",
     "text": [
      "2020-04-22 22:32:48,637 - mcl_MCL - INFO - seed ignored\n",
      "INFO:mcl_MCL:seed ignored\n",
      "2020-04-22 22:32:48,638 - Dataset:K_DoesAlgMirrorEdgesTest_1 - INFO - running /opt/gct/submodules/local/bin/mcxload --stream-mirror -123 /data/data/K_DoesAlgMirrorEdgesTest_1/edges.txt -o /data/data/K_DoesAlgMirrorEdgesTest_1/mcl.mci --write-binary\n",
      "INFO:Dataset:K_DoesAlgMirrorEdgesTest_1:running /opt/gct/submodules/local/bin/mcxload --stream-mirror -123 /data/data/K_DoesAlgMirrorEdgesTest_1/edges.txt -o /data/data/K_DoesAlgMirrorEdgesTest_1/mcl.mci --write-binary\n",
      "2020-04-22 22:32:48,644 - mcl_MCL - INFO - Running /opt/gct/submodules/local/bin/mcl /data/data/K_DoesAlgMirrorEdgesTest_1/mcl.mci -o output\n",
      "INFO:mcl_MCL:Running /opt/gct/submodules/local/bin/mcl /data/data/K_DoesAlgMirrorEdgesTest_1/mcl.mci -o output\n",
      "2020-04-22 22:32:48,645 - mcl_MCL - INFO - Running /opt/gct/submodules/local/bin/mcxdump -imx output -o cluster.output\n",
      "INFO:mcl_MCL:Running /opt/gct/submodules/local/bin/mcxdump -imx output -o cluster.output\n",
      "2020-04-22 22:32:48,666 - mcl_MCL - INFO - Made 7 clusters in 0.019411 seconds\n",
      "INFO:mcl_MCL:Made 7 clusters in 0.019411 seconds\n"
     ]
    },
    {
     "name": "stdout",
     "output_type": "stream",
     "text": [
      "runing  mcl_MCL K_DoesAlgMirrorEdgesTest_1\n",
      "finished mcl_MCL K_DoesAlgMirrorEdgesTest_1\n"
     ]
    },
    {
     "name": "stderr",
     "output_type": "stream",
     "text": [
      "2020-04-22 22:32:48,777 - mcl_MCL - INFO - seed ignored\n",
      "INFO:mcl_MCL:seed ignored\n",
      "2020-04-22 22:32:48,778 - Dataset:K_DoesAlgMirrorEdgesTest_2 - INFO - running /opt/gct/submodules/local/bin/mcxload --stream-mirror -123 /data/data/K_DoesAlgMirrorEdgesTest_2/edges.txt -o /data/data/K_DoesAlgMirrorEdgesTest_2/mcl.mci --write-binary\n",
      "INFO:Dataset:K_DoesAlgMirrorEdgesTest_2:running /opt/gct/submodules/local/bin/mcxload --stream-mirror -123 /data/data/K_DoesAlgMirrorEdgesTest_2/edges.txt -o /data/data/K_DoesAlgMirrorEdgesTest_2/mcl.mci --write-binary\n",
      "2020-04-22 22:32:48,785 - mcl_MCL - INFO - Running /opt/gct/submodules/local/bin/mcl /data/data/K_DoesAlgMirrorEdgesTest_2/mcl.mci -o output\n",
      "INFO:mcl_MCL:Running /opt/gct/submodules/local/bin/mcl /data/data/K_DoesAlgMirrorEdgesTest_2/mcl.mci -o output\n",
      "2020-04-22 22:32:48,786 - mcl_MCL - INFO - Running /opt/gct/submodules/local/bin/mcxdump -imx output -o cluster.output\n",
      "INFO:mcl_MCL:Running /opt/gct/submodules/local/bin/mcxdump -imx output -o cluster.output\n",
      "2020-04-22 22:32:48,807 - mcl_MCL - INFO - Made 7 clusters in 0.020270 seconds\n",
      "INFO:mcl_MCL:Made 7 clusters in 0.020270 seconds\n"
     ]
    },
    {
     "name": "stdout",
     "output_type": "stream",
     "text": [
      "runing  mcl_MCL K_DoesAlgMirrorEdgesTest_2\n",
      "finished mcl_MCL K_DoesAlgMirrorEdgesTest_2\n"
     ]
    },
    {
     "name": "stderr",
     "output_type": "stream",
     "text": [
      "2020-04-22 22:32:48,918 - networkit_CutClustering - INFO - seed ignored\n",
      "INFO:networkit_CutClustering:seed ignored\n",
      "2020-04-22 22:32:48,926 - networkit_CutClustering - INFO - Made 1 clusters in 0.005744 seconds.\n",
      "INFO:networkit_CutClustering:Made 1 clusters in 0.005744 seconds.\n"
     ]
    },
    {
     "name": "stdout",
     "output_type": "stream",
     "text": [
      "runing  networkit_CutClustering K_DoesAlgMirrorEdgesTest_1\n",
      "CutClustering(0.1) detected communities in 0.003068685531616211 [s]\n",
      "solution properties:\n",
      "-------------------  ---\n",
      "# communities          1\n",
      "min community size   128\n",
      "max community size   128\n",
      "avg. community size  128\n",
      "modularity             0\n",
      "-------------------  ---\n",
      "finished networkit_CutClustering K_DoesAlgMirrorEdgesTest_1\n"
     ]
    },
    {
     "name": "stderr",
     "output_type": "stream",
     "text": [
      "2020-04-22 22:32:49,044 - networkit_CutClustering - INFO - seed ignored\n",
      "INFO:networkit_CutClustering:seed ignored\n",
      "2020-04-22 22:32:49,049 - networkit_CutClustering - INFO - Made 1 clusters in 0.002028 seconds.\n",
      "INFO:networkit_CutClustering:Made 1 clusters in 0.002028 seconds.\n"
     ]
    },
    {
     "name": "stdout",
     "output_type": "stream",
     "text": [
      "runing  networkit_CutClustering K_DoesAlgMirrorEdgesTest_2\n",
      "CutClustering(0.1) detected communities in 0.0011210441589355469 [s]\n",
      "solution properties:\n",
      "-------------------  ---\n",
      "# communities          1\n",
      "min community size   128\n",
      "max community size   128\n",
      "avg. community size  128\n",
      "modularity             0\n",
      "-------------------  ---\n",
      "finished networkit_CutClustering K_DoesAlgMirrorEdgesTest_2\n"
     ]
    },
    {
     "name": "stderr",
     "output_type": "stream",
     "text": [
      "2020-04-22 22:32:49,169 - networkit_LPDegreeOrdered - INFO - seed ignored\n",
      "INFO:networkit_LPDegreeOrdered:seed ignored\n",
      "2020-04-22 22:32:49,173 - networkit_LPDegreeOrdered - INFO - Made 6 clusters in 0.001474 seconds.\n",
      "INFO:networkit_LPDegreeOrdered:Made 6 clusters in 0.001474 seconds.\n"
     ]
    },
    {
     "name": "stdout",
     "output_type": "stream",
     "text": [
      "runing  networkit_LPDegreeOrdered K_DoesAlgMirrorEdgesTest_1\n",
      "LPDegreeOrdered() detected communities in 0.0006539821624755859 [s]\n",
      "solution properties:\n",
      "-------------------  ---------\n",
      "# communities         6\n",
      "min community size   13\n",
      "max community size   33\n",
      "avg. community size  21.3333\n",
      "modularity            0.608125\n",
      "-------------------  ---------\n",
      "finished networkit_LPDegreeOrdered K_DoesAlgMirrorEdgesTest_1\n"
     ]
    },
    {
     "name": "stderr",
     "output_type": "stream",
     "text": [
      "2020-04-22 22:32:49,291 - networkit_LPDegreeOrdered - INFO - seed ignored\n",
      "INFO:networkit_LPDegreeOrdered:seed ignored\n",
      "2020-04-22 22:32:49,294 - networkit_LPDegreeOrdered - INFO - Made 6 clusters in 0.001171 seconds.\n",
      "INFO:networkit_LPDegreeOrdered:Made 6 clusters in 0.001171 seconds.\n"
     ]
    },
    {
     "name": "stdout",
     "output_type": "stream",
     "text": [
      "runing  networkit_LPDegreeOrdered K_DoesAlgMirrorEdgesTest_2\n",
      "LPDegreeOrdered() detected communities in 0.00039768218994140625 [s]\n",
      "solution properties:\n",
      "-------------------  ---------\n",
      "# communities         6\n",
      "min community size   13\n",
      "max community size   33\n",
      "avg. community size  21.3333\n",
      "modularity            0.608125\n",
      "-------------------  ---------\n",
      "finished networkit_LPDegreeOrdered K_DoesAlgMirrorEdgesTest_2\n"
     ]
    },
    {
     "name": "stderr",
     "output_type": "stream",
     "text": [
      "2020-04-22 22:32:49,415 - networkit_PLM - INFO - seed ignored\n",
      "INFO:networkit_PLM:seed ignored\n",
      "2020-04-22 22:32:49,418 - networkit_PLM - INFO - Made 7 clusters in 0.001415 seconds.\n",
      "INFO:networkit_PLM:Made 7 clusters in 0.001415 seconds.\n"
     ]
    },
    {
     "name": "stdout",
     "output_type": "stream",
     "text": [
      "runing  networkit_PLM K_DoesAlgMirrorEdgesTest_1\n",
      "PLM(balanced,pc,turbo) detected communities in 0.0006330013275146484 [s]\n",
      "solution properties:\n",
      "-------------------  ---------\n",
      "# communities         7\n",
      "min community size   13\n",
      "max community size   27\n",
      "avg. community size  18.2857\n",
      "modularity            0.623754\n",
      "-------------------  ---------\n",
      "finished networkit_PLM K_DoesAlgMirrorEdgesTest_1\n"
     ]
    },
    {
     "name": "stderr",
     "output_type": "stream",
     "text": [
      "2020-04-22 22:32:49,539 - networkit_PLM - INFO - seed ignored\n",
      "INFO:networkit_PLM:seed ignored\n",
      "2020-04-22 22:32:49,543 - networkit_PLM - INFO - Made 7 clusters in 0.001189 seconds.\n",
      "INFO:networkit_PLM:Made 7 clusters in 0.001189 seconds.\n"
     ]
    },
    {
     "name": "stdout",
     "output_type": "stream",
     "text": [
      "runing  networkit_PLM K_DoesAlgMirrorEdgesTest_2\n",
      "PLM(balanced,pc,turbo) detected communities in 0.0002562999725341797 [s]\n",
      "solution properties:\n",
      "-------------------  ---------\n",
      "# communities         7\n",
      "min community size   13\n",
      "max community size   27\n",
      "avg. community size  18.2857\n",
      "modularity            0.623754\n",
      "-------------------  ---------\n",
      "finished networkit_PLM K_DoesAlgMirrorEdgesTest_2\n"
     ]
    },
    {
     "name": "stderr",
     "output_type": "stream",
     "text": [
      "2020-04-22 22:32:49,661 - networkit_PLP - INFO - seed ignored\n",
      "INFO:networkit_PLP:seed ignored\n",
      "2020-04-22 22:32:49,666 - networkit_PLP - INFO - Made 5 clusters in 0.002265 seconds.\n",
      "INFO:networkit_PLP:Made 5 clusters in 0.002265 seconds.\n"
     ]
    },
    {
     "name": "stdout",
     "output_type": "stream",
     "text": [
      "runing  networkit_PLP K_DoesAlgMirrorEdgesTest_1\n",
      "PLP detected communities in 0.001355886459350586 [s]\n",
      "solution properties:\n",
      "-------------------  ---------\n",
      "# communities         5\n",
      "min community size   13\n",
      "max community size   43\n",
      "avg. community size  25.6\n",
      "modularity            0.538391\n",
      "-------------------  ---------\n",
      "finished networkit_PLP K_DoesAlgMirrorEdgesTest_1\n"
     ]
    },
    {
     "name": "stderr",
     "output_type": "stream",
     "text": [
      "2020-04-22 22:32:49,783 - networkit_PLP - INFO - seed ignored\n",
      "INFO:networkit_PLP:seed ignored\n",
      "2020-04-22 22:32:49,787 - networkit_PLP - INFO - Made 5 clusters in 0.001210 seconds.\n",
      "INFO:networkit_PLP:Made 5 clusters in 0.001210 seconds.\n"
     ]
    },
    {
     "name": "stdout",
     "output_type": "stream",
     "text": [
      "runing  networkit_PLP K_DoesAlgMirrorEdgesTest_2\n",
      "PLP detected communities in 0.000156402587890625 [s]\n",
      "solution properties:\n",
      "-------------------  ---------\n",
      "# communities         5\n",
      "min community size   13\n",
      "max community size   68\n",
      "avg. community size  25.6\n",
      "modularity            0.441047\n",
      "-------------------  ---------\n",
      "finished networkit_PLP K_DoesAlgMirrorEdgesTest_2\n"
     ]
    },
    {
     "name": "stderr",
     "output_type": "stream",
     "text": [
      "2020-04-22 22:32:49,903 - alg_GossipMap - INFO - seed ignored\n",
      "INFO:alg_GossipMap:seed ignored\n",
      "2020-04-22 22:32:49,904 - alg_GossipMap - INFO - Running /opt/gct/submodules/PowerGraph/GossipMap --graph /tmp/tmp5jhgy4hy/edges.txt --prefix output.cluster --ncpus 7\n",
      "INFO:alg_GossipMap:Running /opt/gct/submodules/PowerGraph/GossipMap --graph /tmp/tmp5jhgy4hy/edges.txt --prefix output.cluster --ncpus 7\n"
     ]
    },
    {
     "name": "stdout",
     "output_type": "stream",
     "text": [
      "runing  alg_GossipMap K_DoesAlgMirrorEdgesTest_1\n"
     ]
    },
    {
     "name": "stderr",
     "output_type": "stream",
     "text": [
      "2020-04-22 22:32:50,755 - alg_GossipMap - INFO - Made 7 clusters in 0.838161 seconds\n",
      "INFO:alg_GossipMap:Made 7 clusters in 0.838161 seconds\n"
     ]
    },
    {
     "name": "stdout",
     "output_type": "stream",
     "text": [
      "finished alg_GossipMap K_DoesAlgMirrorEdgesTest_1\n"
     ]
    },
    {
     "name": "stderr",
     "output_type": "stream",
     "text": [
      "2020-04-22 22:32:50,868 - alg_GossipMap - INFO - seed ignored\n",
      "INFO:alg_GossipMap:seed ignored\n",
      "2020-04-22 22:32:50,869 - alg_GossipMap - INFO - Running /opt/gct/submodules/PowerGraph/GossipMap --graph /tmp/tmpojhwbblw/edges.txt --prefix output.cluster --ncpus 7\n",
      "INFO:alg_GossipMap:Running /opt/gct/submodules/PowerGraph/GossipMap --graph /tmp/tmpojhwbblw/edges.txt --prefix output.cluster --ncpus 7\n"
     ]
    },
    {
     "name": "stdout",
     "output_type": "stream",
     "text": [
      "runing  alg_GossipMap K_DoesAlgMirrorEdgesTest_2\n"
     ]
    },
    {
     "name": "stderr",
     "output_type": "stream",
     "text": [
      "2020-04-22 22:32:51,670 - alg_GossipMap - INFO - Made 7 clusters in 0.788836 seconds\n",
      "INFO:alg_GossipMap:Made 7 clusters in 0.788836 seconds\n"
     ]
    },
    {
     "name": "stdout",
     "output_type": "stream",
     "text": [
      "finished alg_GossipMap K_DoesAlgMirrorEdgesTest_2\n"
     ]
    },
    {
     "name": "stderr",
     "output_type": "stream",
     "text": [
      "2020-04-22 22:32:51,783 - alg_RelaxMap - INFO - Running /opt/gct/submodules/RelaxMap/ompRelaxmap 123 /tmp/tmp9ulr7ndv/edges.txt 7 1 0.001 0.0 10 /tmp/tmp9ulr7ndv prior\n",
      "INFO:alg_RelaxMap:Running /opt/gct/submodules/RelaxMap/ompRelaxmap 123 /tmp/tmp9ulr7ndv/edges.txt 7 1 0.001 0.0 10 /tmp/tmp9ulr7ndv prior\n",
      "2020-04-22 22:32:51,802 - alg_RelaxMap - INFO - Made 7 clusters in 0.011167 seconds\n",
      "INFO:alg_RelaxMap:Made 7 clusters in 0.011167 seconds\n"
     ]
    },
    {
     "name": "stdout",
     "output_type": "stream",
     "text": [
      "runing  alg_RelaxMap K_DoesAlgMirrorEdgesTest_1\n",
      "finished alg_RelaxMap K_DoesAlgMirrorEdgesTest_1\n"
     ]
    },
    {
     "name": "stderr",
     "output_type": "stream",
     "text": [
      "2020-04-22 22:32:51,914 - alg_RelaxMap - INFO - Running /opt/gct/submodules/RelaxMap/ompRelaxmap 123 /tmp/tmp3y_is5yt/edges.txt 7 1 0.001 0.0 10 /tmp/tmp3y_is5yt prior\n",
      "INFO:alg_RelaxMap:Running /opt/gct/submodules/RelaxMap/ompRelaxmap 123 /tmp/tmp3y_is5yt/edges.txt 7 1 0.001 0.0 10 /tmp/tmp3y_is5yt prior\n",
      "2020-04-22 22:32:51,938 - alg_RelaxMap - INFO - Made 7 clusters in 0.015482 seconds\n",
      "INFO:alg_RelaxMap:Made 7 clusters in 0.015482 seconds\n"
     ]
    },
    {
     "name": "stdout",
     "output_type": "stream",
     "text": [
      "runing  alg_RelaxMap K_DoesAlgMirrorEdgesTest_2\n",
      "finished alg_RelaxMap K_DoesAlgMirrorEdgesTest_2\n"
     ]
    },
    {
     "name": "stderr",
     "output_type": "stream",
     "text": [
      "2020-04-22 22:32:52,048 - alg_pg_label_propagation - INFO - seed ignored\n",
      "INFO:alg_pg_label_propagation:seed ignored\n",
      "2020-04-22 22:32:52,050 - alg_pg_label_propagation - INFO - Running /opt/gct/submodules/PowerGraph/label_propagation --graph /tmp/tmpc_v__yru/edges.txt --saveprefix=output.cluster --execution async --ncpus 7 --weighted 0 --directed 0\n",
      "INFO:alg_pg_label_propagation:Running /opt/gct/submodules/PowerGraph/label_propagation --graph /tmp/tmpc_v__yru/edges.txt --saveprefix=output.cluster --execution async --ncpus 7 --weighted 0 --directed 0\n"
     ]
    },
    {
     "name": "stdout",
     "output_type": "stream",
     "text": [
      "runing  alg_pg_label_propagation K_DoesAlgMirrorEdgesTest_1\n"
     ]
    },
    {
     "name": "stderr",
     "output_type": "stream",
     "text": [
      "2020-04-22 22:32:52,500 - alg_pg_label_propagation - INFO - Made 6 clusters in 0.438873 seconds\n",
      "INFO:alg_pg_label_propagation:Made 6 clusters in 0.438873 seconds\n"
     ]
    },
    {
     "name": "stdout",
     "output_type": "stream",
     "text": [
      "finished alg_pg_label_propagation K_DoesAlgMirrorEdgesTest_1\n"
     ]
    },
    {
     "name": "stderr",
     "output_type": "stream",
     "text": [
      "2020-04-22 22:32:52,612 - alg_pg_label_propagation - INFO - seed ignored\n",
      "INFO:alg_pg_label_propagation:seed ignored\n",
      "2020-04-22 22:32:52,613 - alg_pg_label_propagation - INFO - Running /opt/gct/submodules/PowerGraph/label_propagation --graph /tmp/tmp6w5fa2xo/edges.txt --saveprefix=output.cluster --execution async --ncpus 7 --weighted 0 --directed 0\n",
      "INFO:alg_pg_label_propagation:Running /opt/gct/submodules/PowerGraph/label_propagation --graph /tmp/tmp6w5fa2xo/edges.txt --saveprefix=output.cluster --execution async --ncpus 7 --weighted 0 --directed 0\n"
     ]
    },
    {
     "name": "stdout",
     "output_type": "stream",
     "text": [
      "runing  alg_pg_label_propagation K_DoesAlgMirrorEdgesTest_2\n"
     ]
    },
    {
     "name": "stderr",
     "output_type": "stream",
     "text": [
      "2020-04-22 22:32:53,054 - alg_pg_label_propagation - INFO - Made 6 clusters in 0.428802 seconds\n",
      "INFO:alg_pg_label_propagation:Made 6 clusters in 0.428802 seconds\n"
     ]
    },
    {
     "name": "stdout",
     "output_type": "stream",
     "text": [
      "finished alg_pg_label_propagation K_DoesAlgMirrorEdgesTest_2\n"
     ]
    },
    {
     "name": "stderr",
     "output_type": "stream",
     "text": [
      "2020-04-22 22:32:53,166 - scan_AnyScan_Scan - INFO - seed ignored\n",
      "INFO:scan_AnyScan_Scan:seed ignored\n",
      "2020-04-22 22:32:53,168 - Dataset:K_DoesAlgMirrorEdgesTest_1 - INFO - reading /data/data/K_DoesAlgMirrorEdgesTest_1/edges.parq\n",
      "INFO:Dataset:K_DoesAlgMirrorEdgesTest_1:reading /data/data/K_DoesAlgMirrorEdgesTest_1/edges.parq\n",
      "2020-04-22 22:32:53,173 - Dataset:K_DoesAlgMirrorEdgesTest_1 - INFO - min node: 0, max node: 127\n",
      "INFO:Dataset:K_DoesAlgMirrorEdgesTest_1:min node: 0, max node: 127\n",
      "2020-04-22 22:32:53,186 - scan_AnyScan_Scan - INFO - Running /opt/gct/submodules/ppSCAN/anyscan -c 1 -i /data/data/K_DoesAlgMirrorEdgesTest_1/anyscan.txt -m 4 -e 0.5 -o output -a 32768 -b 32768 -t 7\n",
      "INFO:scan_AnyScan_Scan:Running /opt/gct/submodules/ppSCAN/anyscan -c 1 -i /data/data/K_DoesAlgMirrorEdgesTest_1/anyscan.txt -m 4 -e 0.5 -o output -a 32768 -b 32768 -t 7\n",
      "2020-04-22 22:32:53,195 - scan_AnyScan_Scan - INFO - Made 7 clusters in 0.007550 seconds\n",
      "INFO:scan_AnyScan_Scan:Made 7 clusters in 0.007550 seconds\n"
     ]
    },
    {
     "name": "stdout",
     "output_type": "stream",
     "text": [
      "runing  scan_AnyScan_Scan K_DoesAlgMirrorEdgesTest_1\n",
      "finished scan_AnyScan_Scan K_DoesAlgMirrorEdgesTest_1\n"
     ]
    },
    {
     "name": "stderr",
     "output_type": "stream",
     "text": [
      "2020-04-22 22:32:53,306 - scan_AnyScan_Scan - INFO - seed ignored\n",
      "INFO:scan_AnyScan_Scan:seed ignored\n",
      "2020-04-22 22:32:53,307 - Dataset:K_DoesAlgMirrorEdgesTest_2 - INFO - reading /data/data/K_DoesAlgMirrorEdgesTest_2/edges.parq\n",
      "INFO:Dataset:K_DoesAlgMirrorEdgesTest_2:reading /data/data/K_DoesAlgMirrorEdgesTest_2/edges.parq\n",
      "2020-04-22 22:32:53,312 - Dataset:K_DoesAlgMirrorEdgesTest_2 - INFO - min node: 0, max node: 127\n",
      "INFO:Dataset:K_DoesAlgMirrorEdgesTest_2:min node: 0, max node: 127\n",
      "2020-04-22 22:32:53,325 - scan_AnyScan_Scan - INFO - Running /opt/gct/submodules/ppSCAN/anyscan -c 1 -i /data/data/K_DoesAlgMirrorEdgesTest_2/anyscan.txt -m 4 -e 0.5 -o output -a 32768 -b 32768 -t 7\n",
      "INFO:scan_AnyScan_Scan:Running /opt/gct/submodules/ppSCAN/anyscan -c 1 -i /data/data/K_DoesAlgMirrorEdgesTest_2/anyscan.txt -m 4 -e 0.5 -o output -a 32768 -b 32768 -t 7\n",
      "2020-04-22 22:32:53,334 - scan_AnyScan_Scan - INFO - Made 7 clusters in 0.007296 seconds\n",
      "INFO:scan_AnyScan_Scan:Made 7 clusters in 0.007296 seconds\n"
     ]
    },
    {
     "name": "stdout",
     "output_type": "stream",
     "text": [
      "runing  scan_AnyScan_Scan K_DoesAlgMirrorEdgesTest_2\n",
      "finished scan_AnyScan_Scan K_DoesAlgMirrorEdgesTest_2\n"
     ]
    },
    {
     "name": "stderr",
     "output_type": "stream",
     "text": [
      "2020-04-22 22:32:53,446 - scan_AnyScan_anyScan - INFO - seed ignored\n",
      "INFO:scan_AnyScan_anyScan:seed ignored\n",
      "2020-04-22 22:32:53,447 - scan_AnyScan_anyScan - INFO - Running /opt/gct/submodules/ppSCAN/anyscan -c 3 -i /data/data/K_DoesAlgMirrorEdgesTest_1/anyscan.txt -m 4 -e 0.5 -o output -a 32768 -b 32768 -t 7\n",
      "INFO:scan_AnyScan_anyScan:Running /opt/gct/submodules/ppSCAN/anyscan -c 3 -i /data/data/K_DoesAlgMirrorEdgesTest_1/anyscan.txt -m 4 -e 0.5 -o output -a 32768 -b 32768 -t 7\n",
      "2020-04-22 22:32:53,481 - scan_AnyScan_anyScan - INFO - Made 7 clusters in 0.032161 seconds\n",
      "INFO:scan_AnyScan_anyScan:Made 7 clusters in 0.032161 seconds\n"
     ]
    },
    {
     "name": "stdout",
     "output_type": "stream",
     "text": [
      "runing  scan_AnyScan_anyScan K_DoesAlgMirrorEdgesTest_1\n",
      "finished scan_AnyScan_anyScan K_DoesAlgMirrorEdgesTest_1\n"
     ]
    },
    {
     "name": "stderr",
     "output_type": "stream",
     "text": [
      "2020-04-22 22:32:53,592 - scan_AnyScan_anyScan - INFO - seed ignored\n",
      "INFO:scan_AnyScan_anyScan:seed ignored\n",
      "2020-04-22 22:32:53,593 - scan_AnyScan_anyScan - INFO - Running /opt/gct/submodules/ppSCAN/anyscan -c 3 -i /data/data/K_DoesAlgMirrorEdgesTest_2/anyscan.txt -m 4 -e 0.5 -o output -a 32768 -b 32768 -t 7\n",
      "INFO:scan_AnyScan_anyScan:Running /opt/gct/submodules/ppSCAN/anyscan -c 3 -i /data/data/K_DoesAlgMirrorEdgesTest_2/anyscan.txt -m 4 -e 0.5 -o output -a 32768 -b 32768 -t 7\n",
      "2020-04-22 22:32:53,626 - scan_AnyScan_anyScan - INFO - Made 7 clusters in 0.031439 seconds\n",
      "INFO:scan_AnyScan_anyScan:Made 7 clusters in 0.031439 seconds\n"
     ]
    },
    {
     "name": "stdout",
     "output_type": "stream",
     "text": [
      "runing  scan_AnyScan_anyScan K_DoesAlgMirrorEdgesTest_2\n",
      "finished scan_AnyScan_anyScan K_DoesAlgMirrorEdgesTest_2\n"
     ]
    },
    {
     "name": "stderr",
     "output_type": "stream",
     "text": [
      "2020-04-22 22:32:53,738 - scan_AnyScan_anyScanParl - INFO - seed ignored\n",
      "INFO:scan_AnyScan_anyScanParl:seed ignored\n",
      "2020-04-22 22:32:53,739 - scan_AnyScan_anyScanParl - INFO - Running /opt/gct/submodules/ppSCAN/anyscan -c 4 -i /data/data/K_DoesAlgMirrorEdgesTest_1/anyscan.txt -m 4 -e 0.5 -o output -a 32768 -b 32768 -t 7\n",
      "INFO:scan_AnyScan_anyScanParl:Running /opt/gct/submodules/ppSCAN/anyscan -c 4 -i /data/data/K_DoesAlgMirrorEdgesTest_1/anyscan.txt -m 4 -e 0.5 -o output -a 32768 -b 32768 -t 7\n",
      "2020-04-22 22:32:53,786 - scan_AnyScan_anyScanParl - INFO - Made 7 clusters in 0.046082 seconds\n",
      "INFO:scan_AnyScan_anyScanParl:Made 7 clusters in 0.046082 seconds\n"
     ]
    },
    {
     "name": "stdout",
     "output_type": "stream",
     "text": [
      "runing  scan_AnyScan_anyScanParl K_DoesAlgMirrorEdgesTest_1\n",
      "finished scan_AnyScan_anyScanParl K_DoesAlgMirrorEdgesTest_1\n"
     ]
    },
    {
     "name": "stderr",
     "output_type": "stream",
     "text": [
      "2020-04-22 22:32:53,898 - scan_AnyScan_anyScanParl - INFO - seed ignored\n",
      "INFO:scan_AnyScan_anyScanParl:seed ignored\n",
      "2020-04-22 22:32:53,898 - scan_AnyScan_anyScanParl - INFO - Running /opt/gct/submodules/ppSCAN/anyscan -c 4 -i /data/data/K_DoesAlgMirrorEdgesTest_2/anyscan.txt -m 4 -e 0.5 -o output -a 32768 -b 32768 -t 7\n",
      "INFO:scan_AnyScan_anyScanParl:Running /opt/gct/submodules/ppSCAN/anyscan -c 4 -i /data/data/K_DoesAlgMirrorEdgesTest_2/anyscan.txt -m 4 -e 0.5 -o output -a 32768 -b 32768 -t 7\n"
     ]
    },
    {
     "name": "stdout",
     "output_type": "stream",
     "text": [
      "runing  scan_AnyScan_anyScanParl K_DoesAlgMirrorEdgesTest_2\n"
     ]
    },
    {
     "name": "stderr",
     "output_type": "stream",
     "text": [
      "2020-04-22 22:32:53,948 - scan_AnyScan_anyScanParl - INFO - Made 7 clusters in 0.048368 seconds\n",
      "INFO:scan_AnyScan_anyScanParl:Made 7 clusters in 0.048368 seconds\n"
     ]
    },
    {
     "name": "stdout",
     "output_type": "stream",
     "text": [
      "finished scan_AnyScan_anyScanParl K_DoesAlgMirrorEdgesTest_2\n"
     ]
    },
    {
     "name": "stderr",
     "output_type": "stream",
     "text": [
      "2020-04-22 22:32:54,060 - scan_AnyScan_pScan - INFO - seed ignored\n",
      "INFO:scan_AnyScan_pScan:seed ignored\n",
      "2020-04-22 22:32:54,061 - scan_AnyScan_pScan - INFO - Running /opt/gct/submodules/ppSCAN/anyscan -c 2 -i /data/data/K_DoesAlgMirrorEdgesTest_1/anyscan.txt -m 4 -e 0.5 -o output -a 32768 -b 32768 -t 7\n",
      "INFO:scan_AnyScan_pScan:Running /opt/gct/submodules/ppSCAN/anyscan -c 2 -i /data/data/K_DoesAlgMirrorEdgesTest_1/anyscan.txt -m 4 -e 0.5 -o output -a 32768 -b 32768 -t 7\n",
      "2020-04-22 22:32:54,070 - scan_AnyScan_pScan - INFO - Made 7 clusters in 0.007604 seconds\n",
      "INFO:scan_AnyScan_pScan:Made 7 clusters in 0.007604 seconds\n"
     ]
    },
    {
     "name": "stdout",
     "output_type": "stream",
     "text": [
      "runing  scan_AnyScan_pScan K_DoesAlgMirrorEdgesTest_1\n",
      "finished scan_AnyScan_pScan K_DoesAlgMirrorEdgesTest_1\n"
     ]
    },
    {
     "name": "stderr",
     "output_type": "stream",
     "text": [
      "2020-04-22 22:32:54,181 - scan_AnyScan_pScan - INFO - seed ignored\n",
      "INFO:scan_AnyScan_pScan:seed ignored\n",
      "2020-04-22 22:32:54,182 - scan_AnyScan_pScan - INFO - Running /opt/gct/submodules/ppSCAN/anyscan -c 2 -i /data/data/K_DoesAlgMirrorEdgesTest_2/anyscan.txt -m 4 -e 0.5 -o output -a 32768 -b 32768 -t 7\n",
      "INFO:scan_AnyScan_pScan:Running /opt/gct/submodules/ppSCAN/anyscan -c 2 -i /data/data/K_DoesAlgMirrorEdgesTest_2/anyscan.txt -m 4 -e 0.5 -o output -a 32768 -b 32768 -t 7\n",
      "2020-04-22 22:32:54,190 - scan_AnyScan_pScan - INFO - Made 7 clusters in 0.006803 seconds\n",
      "INFO:scan_AnyScan_pScan:Made 7 clusters in 0.006803 seconds\n"
     ]
    },
    {
     "name": "stdout",
     "output_type": "stream",
     "text": [
      "runing  scan_AnyScan_pScan K_DoesAlgMirrorEdgesTest_2\n",
      "finished scan_AnyScan_pScan K_DoesAlgMirrorEdgesTest_2\n"
     ]
    },
    {
     "name": "stderr",
     "output_type": "stream",
     "text": [
      "2020-04-22 22:32:54,301 - scan_Scanpp - INFO - seed ignored\n",
      "INFO:scan_Scanpp:seed ignored\n",
      "2020-04-22 22:32:54,302 - scan_Scanpp - INFO - Running /opt/gct/submodules/ppSCAN/scanpp -e 0 -m 1 -r /data/data/K_DoesAlgMirrorEdgesTest_1/edges.txt\n",
      "INFO:scan_Scanpp:Running /opt/gct/submodules/ppSCAN/scanpp -e 0 -m 1 -r /data/data/K_DoesAlgMirrorEdgesTest_1/edges.txt\n",
      "2020-04-22 22:32:54,309 - scan_Scanpp - INFO - Made 1 clusters in 0.005946 seconds\n",
      "INFO:scan_Scanpp:Made 1 clusters in 0.005946 seconds\n"
     ]
    },
    {
     "name": "stdout",
     "output_type": "stream",
     "text": [
      "runing  scan_Scanpp K_DoesAlgMirrorEdgesTest_1\n",
      "finished scan_Scanpp K_DoesAlgMirrorEdgesTest_1\n"
     ]
    },
    {
     "name": "stderr",
     "output_type": "stream",
     "text": [
      "2020-04-22 22:32:54,419 - scan_Scanpp - INFO - seed ignored\n",
      "INFO:scan_Scanpp:seed ignored\n",
      "2020-04-22 22:32:54,420 - scan_Scanpp - INFO - Running /opt/gct/submodules/ppSCAN/scanpp -e 0 -m 1 -r /data/data/K_DoesAlgMirrorEdgesTest_2/edges.txt\n",
      "INFO:scan_Scanpp:Running /opt/gct/submodules/ppSCAN/scanpp -e 0 -m 1 -r /data/data/K_DoesAlgMirrorEdgesTest_2/edges.txt\n",
      "2020-04-22 22:32:54,428 - scan_Scanpp - INFO - Made 1 clusters in 0.006574 seconds\n",
      "INFO:scan_Scanpp:Made 1 clusters in 0.006574 seconds\n"
     ]
    },
    {
     "name": "stdout",
     "output_type": "stream",
     "text": [
      "runing  scan_Scanpp K_DoesAlgMirrorEdgesTest_2\n",
      "finished scan_Scanpp K_DoesAlgMirrorEdgesTest_2\n"
     ]
    },
    {
     "name": "stderr",
     "output_type": "stream",
     "text": [
      "2020-04-22 22:32:54,539 - scan_pScan - INFO - seed ignored\n",
      "INFO:scan_pScan:seed ignored\n",
      "2020-04-22 22:32:54,540 - Dataset:K_DoesAlgMirrorEdgesTest_1 - INFO - running /opt/gct/submodules/ppSCAN/converter /data/data/K_DoesAlgMirrorEdgesTest_1/edges.txt b_degree.bin b_adj.bin\n",
      "INFO:Dataset:K_DoesAlgMirrorEdgesTest_1:running /opt/gct/submodules/ppSCAN/converter /data/data/K_DoesAlgMirrorEdgesTest_1/edges.txt b_degree.bin b_adj.bin\n",
      "2020-04-22 22:32:54,546 - scan_pScan - INFO - Running /opt/gct/submodules/ppSCAN/pscan /tmp/tmpeka27c6v 0.5 3 output\n",
      "INFO:scan_pScan:Running /opt/gct/submodules/ppSCAN/pscan /tmp/tmpeka27c6v 0.5 3 output\n",
      "2020-04-22 22:32:54,561 - scan_pScan - INFO - Made 7 clusters in 0.004939 seconds\n",
      "INFO:scan_pScan:Made 7 clusters in 0.004939 seconds\n"
     ]
    },
    {
     "name": "stdout",
     "output_type": "stream",
     "text": [
      "runing  scan_pScan K_DoesAlgMirrorEdgesTest_1\n",
      "finished scan_pScan K_DoesAlgMirrorEdgesTest_1\n"
     ]
    },
    {
     "name": "stderr",
     "output_type": "stream",
     "text": [
      "2020-04-22 22:32:54,672 - scan_pScan - INFO - seed ignored\n",
      "INFO:scan_pScan:seed ignored\n",
      "2020-04-22 22:32:54,673 - Dataset:K_DoesAlgMirrorEdgesTest_2 - INFO - running /opt/gct/submodules/ppSCAN/converter /data/data/K_DoesAlgMirrorEdgesTest_2/edges.txt b_degree.bin b_adj.bin\n",
      "INFO:Dataset:K_DoesAlgMirrorEdgesTest_2:running /opt/gct/submodules/ppSCAN/converter /data/data/K_DoesAlgMirrorEdgesTest_2/edges.txt b_degree.bin b_adj.bin\n",
      "2020-04-22 22:32:54,681 - scan_pScan - INFO - Running /opt/gct/submodules/ppSCAN/pscan /tmp/tmpgn_1hfig 0.5 3 output\n",
      "INFO:scan_pScan:Running /opt/gct/submodules/ppSCAN/pscan /tmp/tmpgn_1hfig 0.5 3 output\n",
      "2020-04-22 22:32:54,694 - scan_pScan - INFO - Made 7 clusters in 0.004963 seconds\n",
      "INFO:scan_pScan:Made 7 clusters in 0.004963 seconds\n"
     ]
    },
    {
     "name": "stdout",
     "output_type": "stream",
     "text": [
      "runing  scan_pScan K_DoesAlgMirrorEdgesTest_2\n",
      "finished scan_pScan K_DoesAlgMirrorEdgesTest_2\n"
     ]
    },
    {
     "name": "stderr",
     "output_type": "stream",
     "text": [
      "2020-04-22 22:32:54,806 - scan_ppScan - INFO - seed ignored\n",
      "INFO:scan_ppScan:seed ignored\n",
      "2020-04-22 22:32:54,807 - scan_ppScan - INFO - Running /opt/gct/submodules/ppSCAN/pSCANParallel /tmp/tmpdoyehpf6 0.5 3 output\n",
      "INFO:scan_ppScan:Running /opt/gct/submodules/ppSCAN/pSCANParallel /tmp/tmpdoyehpf6 0.5 3 output\n",
      "2020-04-22 22:32:54,823 - scan_ppScan - INFO - Made 7 clusters in 0.006895 seconds\n",
      "INFO:scan_ppScan:Made 7 clusters in 0.006895 seconds\n"
     ]
    },
    {
     "name": "stdout",
     "output_type": "stream",
     "text": [
      "runing  scan_ppScan K_DoesAlgMirrorEdgesTest_1\n",
      "finished scan_ppScan K_DoesAlgMirrorEdgesTest_1\n"
     ]
    },
    {
     "name": "stderr",
     "output_type": "stream",
     "text": [
      "2020-04-22 22:32:54,934 - scan_ppScan - INFO - seed ignored\n",
      "INFO:scan_ppScan:seed ignored\n",
      "2020-04-22 22:32:54,935 - scan_ppScan - INFO - Running /opt/gct/submodules/ppSCAN/pSCANParallel /tmp/tmp35def6hz 0.5 3 output\n",
      "INFO:scan_ppScan:Running /opt/gct/submodules/ppSCAN/pSCANParallel /tmp/tmp35def6hz 0.5 3 output\n",
      "2020-04-22 22:32:54,951 - scan_ppScan - INFO - Made 7 clusters in 0.007061 seconds\n",
      "INFO:scan_ppScan:Made 7 clusters in 0.007061 seconds\n"
     ]
    },
    {
     "name": "stdout",
     "output_type": "stream",
     "text": [
      "runing  scan_ppScan K_DoesAlgMirrorEdgesTest_2\n",
      "finished scan_ppScan K_DoesAlgMirrorEdgesTest_2\n"
     ]
    },
    {
     "name": "stderr",
     "output_type": "stream",
     "text": [
      "2020-04-22 22:32:55,062 - scan_ppScanSSE - INFO - seed ignored\n",
      "INFO:scan_ppScanSSE:seed ignored\n",
      "2020-04-22 22:32:55,064 - scan_ppScanSSE - INFO - Running /opt/gct/submodules/ppSCAN/pSCANParallelSSE /tmp/tmpuf6v0yke 0.5 3 output\n",
      "INFO:scan_ppScanSSE:Running /opt/gct/submodules/ppSCAN/pSCANParallelSSE /tmp/tmpuf6v0yke 0.5 3 output\n",
      "2020-04-22 22:32:55,080 - scan_ppScanSSE - INFO - Made 7 clusters in 0.007085 seconds\n",
      "INFO:scan_ppScanSSE:Made 7 clusters in 0.007085 seconds\n"
     ]
    },
    {
     "name": "stdout",
     "output_type": "stream",
     "text": [
      "runing  scan_ppScanSSE K_DoesAlgMirrorEdgesTest_1\n",
      "finished scan_ppScanSSE K_DoesAlgMirrorEdgesTest_1\n"
     ]
    },
    {
     "name": "stderr",
     "output_type": "stream",
     "text": [
      "2020-04-22 22:32:55,192 - scan_ppScanSSE - INFO - seed ignored\n",
      "INFO:scan_ppScanSSE:seed ignored\n",
      "2020-04-22 22:32:55,193 - scan_ppScanSSE - INFO - Running /opt/gct/submodules/ppSCAN/pSCANParallelSSE /tmp/tmp_ob00st3 0.5 3 output\n",
      "INFO:scan_ppScanSSE:Running /opt/gct/submodules/ppSCAN/pSCANParallelSSE /tmp/tmp_ob00st3 0.5 3 output\n",
      "2020-04-22 22:32:55,210 - scan_ppScanSSE - INFO - Made 7 clusters in 0.007123 seconds\n",
      "INFO:scan_ppScanSSE:Made 7 clusters in 0.007123 seconds\n"
     ]
    },
    {
     "name": "stdout",
     "output_type": "stream",
     "text": [
      "runing  scan_ppScanSSE K_DoesAlgMirrorEdgesTest_2\n",
      "finished scan_ppScanSSE K_DoesAlgMirrorEdgesTest_2\n"
     ]
    },
    {
     "name": "stderr",
     "output_type": "stream",
     "text": [
      "2020-04-22 22:32:55,322 - sklearn_AffinityPropagation - INFO - seed ignored\n",
      "INFO:sklearn_AffinityPropagation:seed ignored\n",
      "2020-04-22 22:32:55,323 - Dataset:K_DoesAlgMirrorEdgesTest_1 - INFO - reading /data/data/K_DoesAlgMirrorEdgesTest_1/edges.parq\n",
      "INFO:Dataset:K_DoesAlgMirrorEdgesTest_1:reading /data/data/K_DoesAlgMirrorEdgesTest_1/edges.parq\n",
      "2020-04-22 22:32:55,338 - sklearn_AffinityPropagation - INFO - Made 7 clusters in 0.010623 seconds\n",
      "INFO:sklearn_AffinityPropagation:Made 7 clusters in 0.010623 seconds\n"
     ]
    },
    {
     "name": "stdout",
     "output_type": "stream",
     "text": [
      "runing  sklearn_AffinityPropagation K_DoesAlgMirrorEdgesTest_1\n",
      "finished sklearn_AffinityPropagation K_DoesAlgMirrorEdgesTest_1\n"
     ]
    },
    {
     "name": "stderr",
     "output_type": "stream",
     "text": [
      "2020-04-22 22:32:55,448 - sklearn_AffinityPropagation - INFO - seed ignored\n",
      "INFO:sklearn_AffinityPropagation:seed ignored\n",
      "2020-04-22 22:32:55,449 - Dataset:K_DoesAlgMirrorEdgesTest_2 - INFO - reading /data/data/K_DoesAlgMirrorEdgesTest_2/edges.parq\n",
      "INFO:Dataset:K_DoesAlgMirrorEdgesTest_2:reading /data/data/K_DoesAlgMirrorEdgesTest_2/edges.parq\n",
      "2020-04-22 22:32:55,464 - sklearn_AffinityPropagation - INFO - Made 7 clusters in 0.010318 seconds\n",
      "INFO:sklearn_AffinityPropagation:Made 7 clusters in 0.010318 seconds\n"
     ]
    },
    {
     "name": "stdout",
     "output_type": "stream",
     "text": [
      "runing  sklearn_AffinityPropagation K_DoesAlgMirrorEdgesTest_2\n",
      "finished sklearn_AffinityPropagation K_DoesAlgMirrorEdgesTest_2\n"
     ]
    },
    {
     "name": "stderr",
     "output_type": "stream",
     "text": [
      "2020-04-22 22:32:55,575 - sklearn_SpectralClustering - INFO - seed ignored\n",
      "INFO:sklearn_SpectralClustering:seed ignored\n",
      "2020-04-22 22:32:55,576 - Dataset:K_DoesAlgMirrorEdgesTest_1 - INFO - reading /data/data/K_DoesAlgMirrorEdgesTest_1/edges.parq\n",
      "INFO:Dataset:K_DoesAlgMirrorEdgesTest_1:reading /data/data/K_DoesAlgMirrorEdgesTest_1/edges.parq\n",
      "2020-04-22 22:32:55,632 - sklearn_SpectralClustering - INFO - Made 8 clusters in 0.051703 seconds\n",
      "INFO:sklearn_SpectralClustering:Made 8 clusters in 0.051703 seconds\n"
     ]
    },
    {
     "name": "stdout",
     "output_type": "stream",
     "text": [
      "runing  sklearn_SpectralClustering K_DoesAlgMirrorEdgesTest_1\n",
      "finished sklearn_SpectralClustering K_DoesAlgMirrorEdgesTest_1\n"
     ]
    },
    {
     "name": "stderr",
     "output_type": "stream",
     "text": [
      "2020-04-22 22:32:55,744 - sklearn_SpectralClustering - INFO - seed ignored\n",
      "INFO:sklearn_SpectralClustering:seed ignored\n",
      "2020-04-22 22:32:55,745 - Dataset:K_DoesAlgMirrorEdgesTest_2 - INFO - reading /data/data/K_DoesAlgMirrorEdgesTest_2/edges.parq\n",
      "INFO:Dataset:K_DoesAlgMirrorEdgesTest_2:reading /data/data/K_DoesAlgMirrorEdgesTest_2/edges.parq\n"
     ]
    },
    {
     "name": "stdout",
     "output_type": "stream",
     "text": [
      "runing  sklearn_SpectralClustering K_DoesAlgMirrorEdgesTest_2\n"
     ]
    },
    {
     "name": "stderr",
     "output_type": "stream",
     "text": [
      "2020-04-22 22:32:55,810 - sklearn_SpectralClustering - INFO - Made 8 clusters in 0.060478 seconds\n",
      "INFO:sklearn_SpectralClustering:Made 8 clusters in 0.060478 seconds\n"
     ]
    },
    {
     "name": "stdout",
     "output_type": "stream",
     "text": [
      "finished sklearn_SpectralClustering K_DoesAlgMirrorEdgesTest_2\n"
     ]
    },
    {
     "name": "stderr",
     "output_type": "stream",
     "text": [
      "2020-04-22 22:32:55,922 - snap_Clauset_Newman_Moore - INFO - seed ignored\n",
      "INFO:snap_Clauset_Newman_Moore:seed ignored\n",
      "2020-04-22 22:32:55,926 - snap_Clauset_Newman_Moore - INFO - Made 6 clusters in 0.001783 seconds. modularity of the graph is 0.582770\n",
      "INFO:snap_Clauset_Newman_Moore:Made 6 clusters in 0.001783 seconds. modularity of the graph is 0.582770\n"
     ]
    },
    {
     "name": "stdout",
     "output_type": "stream",
     "text": [
      "runing  snap_Clauset_Newman_Moore K_DoesAlgMirrorEdgesTest_1\n",
      "finished snap_Clauset_Newman_Moore K_DoesAlgMirrorEdgesTest_1\n"
     ]
    },
    {
     "name": "stderr",
     "output_type": "stream",
     "text": [
      "2020-04-22 22:32:56,036 - snap_Clauset_Newman_Moore - INFO - seed ignored\n",
      "INFO:snap_Clauset_Newman_Moore:seed ignored\n",
      "2020-04-22 22:32:56,040 - snap_Clauset_Newman_Moore - INFO - Made 6 clusters in 0.001704 seconds. modularity of the graph is 0.582770\n",
      "INFO:snap_Clauset_Newman_Moore:Made 6 clusters in 0.001704 seconds. modularity of the graph is 0.582770\n"
     ]
    },
    {
     "name": "stdout",
     "output_type": "stream",
     "text": [
      "runing  snap_Clauset_Newman_Moore K_DoesAlgMirrorEdgesTest_2\n",
      "finished snap_Clauset_Newman_Moore K_DoesAlgMirrorEdgesTest_2\n"
     ]
    },
    {
     "name": "stderr",
     "output_type": "stream",
     "text": [
      "2020-04-22 22:32:56,150 - snap_Girvan_Newman - INFO - seed ignored\n",
      "INFO:snap_Girvan_Newman:seed ignored\n"
     ]
    },
    {
     "name": "stdout",
     "output_type": "stream",
     "text": [
      "runing  snap_Girvan_Newman K_DoesAlgMirrorEdgesTest_1\n"
     ]
    },
    {
     "name": "stderr",
     "output_type": "stream",
     "text": [
      "2020-04-22 22:33:01,452 - snap_Girvan_Newman - INFO - Made 7 clusters in 5.300691 seconds. modularity of the graph is 0.623754\n",
      "INFO:snap_Girvan_Newman:Made 7 clusters in 5.300691 seconds. modularity of the graph is 0.623754\n"
     ]
    },
    {
     "name": "stdout",
     "output_type": "stream",
     "text": [
      "finished snap_Girvan_Newman K_DoesAlgMirrorEdgesTest_1\n"
     ]
    },
    {
     "name": "stderr",
     "output_type": "stream",
     "text": [
      "2020-04-22 22:33:01,565 - snap_Girvan_Newman - INFO - seed ignored\n",
      "INFO:snap_Girvan_Newman:seed ignored\n",
      "2020-04-22 22:33:06,867 - snap_Girvan_Newman - INFO - Made 7 clusters in 5.300008 seconds. modularity of the graph is 0.623754\n"
     ]
    },
    {
     "name": "stdout",
     "output_type": "stream",
     "text": [
      "runing  snap_Girvan_Newman K_DoesAlgMirrorEdgesTest_2\n"
     ]
    },
    {
     "name": "stderr",
     "output_type": "stream",
     "text": [
      "INFO:snap_Girvan_Newman:Made 7 clusters in 5.300008 seconds. modularity of the graph is 0.623754\n"
     ]
    },
    {
     "name": "stdout",
     "output_type": "stream",
     "text": [
      "finished snap_Girvan_Newman K_DoesAlgMirrorEdgesTest_2\n"
     ]
    },
    {
     "name": "stderr",
     "output_type": "stream",
     "text": [
      "2020-04-22 22:33:07,008 - alg_Paris - INFO - Made 7 clusters in 0.027457 seconds\n",
      "INFO:alg_Paris:Made 7 clusters in 0.027457 seconds\n"
     ]
    },
    {
     "name": "stdout",
     "output_type": "stream",
     "text": [
      "runing  alg_Paris K_DoesAlgMirrorEdgesTest_1\n",
      "finished alg_Paris K_DoesAlgMirrorEdgesTest_1\n"
     ]
    },
    {
     "name": "stderr",
     "output_type": "stream",
     "text": [
      "2020-04-22 22:33:07,148 - alg_Paris - INFO - Made 7 clusters in 0.029096 seconds\n",
      "INFO:alg_Paris:Made 7 clusters in 0.029096 seconds\n"
     ]
    },
    {
     "name": "stdout",
     "output_type": "stream",
     "text": [
      "runing  alg_Paris K_DoesAlgMirrorEdgesTest_2\n",
      "finished alg_Paris K_DoesAlgMirrorEdgesTest_2\n"
     ]
    },
    {
     "name": "stderr",
     "output_type": "stream",
     "text": [
      "2020-04-22 22:33:07,259 - alg_lso_cluster - INFO - Running /opt/gct/submodules/graph-cluster/lso-cluster /tmp/tmpejydivvo/edges.txt --seed 123 --loss modularity -o lsooutput\n",
      "INFO:alg_lso_cluster:Running /opt/gct/submodules/graph-cluster/lso-cluster /tmp/tmpejydivvo/edges.txt --seed 123 --loss modularity -o lsooutput\n",
      "2020-04-22 22:33:07,273 - alg_lso_cluster - INFO - Made 7 clusters in 0.008202 seconds\n",
      "INFO:alg_lso_cluster:Made 7 clusters in 0.008202 seconds\n"
     ]
    },
    {
     "name": "stdout",
     "output_type": "stream",
     "text": [
      "runing  alg_lso_cluster K_DoesAlgMirrorEdgesTest_1\n",
      "finished alg_lso_cluster K_DoesAlgMirrorEdgesTest_1\n"
     ]
    },
    {
     "name": "stderr",
     "output_type": "stream",
     "text": [
      "2020-04-22 22:33:07,384 - alg_lso_cluster - INFO - Running /opt/gct/submodules/graph-cluster/lso-cluster /tmp/tmpbhwbvnvx/edges.txt --seed 123 --loss modularity -o lsooutput\n",
      "INFO:alg_lso_cluster:Running /opt/gct/submodules/graph-cluster/lso-cluster /tmp/tmpbhwbvnvx/edges.txt --seed 123 --loss modularity -o lsooutput\n",
      "2020-04-22 22:33:07,399 - alg_lso_cluster - INFO - Made 7 clusters in 0.008752 seconds\n",
      "INFO:alg_lso_cluster:Made 7 clusters in 0.008752 seconds\n"
     ]
    },
    {
     "name": "stdout",
     "output_type": "stream",
     "text": [
      "runing  alg_lso_cluster K_DoesAlgMirrorEdgesTest_2\n",
      "finished alg_lso_cluster K_DoesAlgMirrorEdgesTest_2\n"
     ]
    },
    {
     "name": "stderr",
     "output_type": "stream",
     "text": [
      "2020-04-22 22:33:07,510 - alg_streamcom - INFO - Running /opt/gct/submodules/graph-streaming/streamcom --seed 123 -f /data/data/K_DoesAlgMirrorEdgesTest_1/edges.txt -o output /data/data/K_DoesAlgMirrorEdgesTest_1/edges.txt\n",
      "INFO:alg_streamcom:Running /opt/gct/submodules/graph-streaming/streamcom --seed 123 -f /data/data/K_DoesAlgMirrorEdgesTest_1/edges.txt -o output /data/data/K_DoesAlgMirrorEdgesTest_1/edges.txt\n",
      "2020-04-22 22:33:07,517 - alg_streamcom - INFO - Made 73 clusters in 0.005173 seconds\n",
      "INFO:alg_streamcom:Made 73 clusters in 0.005173 seconds\n"
     ]
    },
    {
     "name": "stdout",
     "output_type": "stream",
     "text": [
      "runing  alg_streamcom K_DoesAlgMirrorEdgesTest_1\n",
      "finished alg_streamcom K_DoesAlgMirrorEdgesTest_1\n"
     ]
    },
    {
     "name": "stderr",
     "output_type": "stream",
     "text": [
      "2020-04-22 22:33:07,628 - alg_streamcom - INFO - Running /opt/gct/submodules/graph-streaming/streamcom --seed 123 -f /data/data/K_DoesAlgMirrorEdgesTest_2/edges.txt -o output /data/data/K_DoesAlgMirrorEdgesTest_2/edges.txt\n",
      "INFO:alg_streamcom:Running /opt/gct/submodules/graph-streaming/streamcom --seed 123 -f /data/data/K_DoesAlgMirrorEdgesTest_2/edges.txt -o output /data/data/K_DoesAlgMirrorEdgesTest_2/edges.txt\n",
      "2020-04-22 22:33:07,636 - alg_streamcom - INFO - Made 70 clusters in 0.005772 seconds\n",
      "INFO:alg_streamcom:Made 70 clusters in 0.005772 seconds\n"
     ]
    },
    {
     "name": "stdout",
     "output_type": "stream",
     "text": [
      "runing  alg_streamcom K_DoesAlgMirrorEdgesTest_2\n",
      "finished alg_streamcom K_DoesAlgMirrorEdgesTest_2\n"
     ]
    }
   ],
   "source": [
    "datasets=[data_w.name,data_uw.name]\n",
    "for alg in gct.list_algorithms():\n",
    "    for name in datasets:\n",
    "        run_alg_timeout(alg, name)"
   ]
  },
  {
   "cell_type": "code",
   "execution_count": 27,
   "metadata": {},
   "outputs": [
    {
     "name": "stdout",
     "output_type": "stream",
     "text": [
      "K_DoesAlgMirrorEdgesTest_1 oslom_lpm\n",
      "K_DoesAlgMirrorEdgesTest_1 oslom_Infohiermap\n",
      "K_DoesAlgMirrorEdgesTest_1 oslom_Infomap\n",
      "K_DoesAlgMirrorEdgesTest_1 oslom_OSLOM\n",
      "K_DoesAlgMirrorEdgesTest_1 oslom_copra\n",
      "K_DoesAlgMirrorEdgesTest_1 oslom_louvain_method\n",
      "K_DoesAlgMirrorEdgesTest_1 oslom_modopt\n",
      "K_DoesAlgMirrorEdgesTest_1 pycabem_GANXiSw\n",
      "K_DoesAlgMirrorEdgesTest_1 pycabem_HiReCS\n",
      "K_DoesAlgMirrorEdgesTest_1 pycabem_LabelRank\n",
      "K_DoesAlgMirrorEdgesTest_1 cdc_CONGA\n",
      "K_DoesAlgMirrorEdgesTest_1 cdc_CliquePercolation\n",
      "K_DoesAlgMirrorEdgesTest_1 cdc_Connected_Iterative_Scan\n",
      "K_DoesAlgMirrorEdgesTest_1 cdc_EAGLE\n",
      "K_DoesAlgMirrorEdgesTest_1 cdc_FastCpm\n",
      "K_DoesAlgMirrorEdgesTest_1 cdc_GCE\n",
      "K_DoesAlgMirrorEdgesTest_1 cdc_LinkCommunities\n",
      "K_DoesAlgMirrorEdgesTest_1 cdc_MOSES\n",
      "K_DoesAlgMirrorEdgesTest_1 cdc_MSCD_AFG\n",
      "K_DoesAlgMirrorEdgesTest_1 cdc_MSCD_HSLSW\n",
      "K_DoesAlgMirrorEdgesTest_1 cdc_MSCD_LFK\n",
      "K_DoesAlgMirrorEdgesTest_1 cdc_MSCD_LFK2\n",
      "K_DoesAlgMirrorEdgesTest_1 cdc_MSCD_RB\n",
      "K_DoesAlgMirrorEdgesTest_1 cdc_MSCD_RN\n",
      "K_DoesAlgMirrorEdgesTest_1 cdc_MSCD_SO\n",
      "K_DoesAlgMirrorEdgesTest_1 cdc_MSCD_SOM\n",
      "K_DoesAlgMirrorEdgesTest_1 cdc_ParCPM\n",
      "K_DoesAlgMirrorEdgesTest_1 cdc_SVINET\n",
      "K_DoesAlgMirrorEdgesTest_1 cdc_TopGC\n",
      "K_DoesAlgMirrorEdgesTest_1 cdc_clique_modularity\n",
      "K_DoesAlgMirrorEdgesTest_1 cgcc_CGGC\n",
      "K_DoesAlgMirrorEdgesTest_1 dct_dlplm\n",
      "K_DoesAlgMirrorEdgesTest_1 dct_dlslm\n",
      "K_DoesAlgMirrorEdgesTest_1 dct_dlslm_map_eq\n",
      "K_DoesAlgMirrorEdgesTest_1 dct_dlslm_no_contraction\n",
      "K_DoesAlgMirrorEdgesTest_1 dct_dlslm_with_seq\n",
      "K_DoesAlgMirrorEdgesTest_1 dct_infomap\n",
      "K_DoesAlgMirrorEdgesTest_1 dct_seq_louvain\n",
      "K_DoesAlgMirrorEdgesTest_1 igraph_community_edge_betweenness\n",
      "K_DoesAlgMirrorEdgesTest_1 igraph_community_fastgreedy\n",
      "K_DoesAlgMirrorEdgesTest_1 igraph_community_infomap\n",
      "K_DoesAlgMirrorEdgesTest_1 igraph_community_label_propagation\n",
      "K_DoesAlgMirrorEdgesTest_1 igraph_community_leading_eigenvector\n",
      "K_DoesAlgMirrorEdgesTest_1 igraph_community_multilevel\n",
      "K_DoesAlgMirrorEdgesTest_1 igraph_community_optimal_modularity\n",
      "K_DoesAlgMirrorEdgesTest_1 igraph_community_spinglass\n",
      "K_DoesAlgMirrorEdgesTest_1 igraph_community_walktrap\n",
      "K_DoesAlgMirrorEdgesTest_1 mcl_MCL\n",
      "K_DoesAlgMirrorEdgesTest_1 networkit_CutClustering\n",
      "K_DoesAlgMirrorEdgesTest_1 networkit_LPDegreeOrdered\n",
      "K_DoesAlgMirrorEdgesTest_1 networkit_PLM\n",
      "K_DoesAlgMirrorEdgesTest_1 networkit_PLP\n",
      "K_DoesAlgMirrorEdgesTest_1 alg_GossipMap\n",
      "K_DoesAlgMirrorEdgesTest_1 alg_RelaxMap\n",
      "K_DoesAlgMirrorEdgesTest_1 alg_pg_label_propagation\n",
      "K_DoesAlgMirrorEdgesTest_1 scan_AnyScan_Scan\n",
      "K_DoesAlgMirrorEdgesTest_1 scan_AnyScan_anyScan\n",
      "K_DoesAlgMirrorEdgesTest_1 scan_AnyScan_anyScanParl\n",
      "K_DoesAlgMirrorEdgesTest_1 scan_AnyScan_pScan\n",
      "K_DoesAlgMirrorEdgesTest_1 scan_Scanpp\n",
      "K_DoesAlgMirrorEdgesTest_1 scan_pScan\n",
      "K_DoesAlgMirrorEdgesTest_1 scan_ppScan\n",
      "K_DoesAlgMirrorEdgesTest_1 scan_ppScanSSE\n",
      "K_DoesAlgMirrorEdgesTest_1 sklearn_AffinityPropagation\n",
      "K_DoesAlgMirrorEdgesTest_1 sklearn_SpectralClustering\n",
      "K_DoesAlgMirrorEdgesTest_1 snap_Clauset_Newman_Moore\n",
      "K_DoesAlgMirrorEdgesTest_1 snap_Girvan_Newman\n",
      "K_DoesAlgMirrorEdgesTest_1 alg_Paris\n",
      "K_DoesAlgMirrorEdgesTest_1 alg_lso_cluster\n",
      "K_DoesAlgMirrorEdgesTest_1 alg_streamcom\n",
      "K_DoesAlgMirrorEdgesTest_2 oslom_Infohiermap\n",
      "K_DoesAlgMirrorEdgesTest_2 oslom_Infomap\n",
      "K_DoesAlgMirrorEdgesTest_2 oslom_OSLOM\n",
      "K_DoesAlgMirrorEdgesTest_2 oslom_copra\n",
      "K_DoesAlgMirrorEdgesTest_2 oslom_louvain_method\n",
      "K_DoesAlgMirrorEdgesTest_2 oslom_lpm\n",
      "K_DoesAlgMirrorEdgesTest_2 oslom_modopt\n",
      "K_DoesAlgMirrorEdgesTest_2 pycabem_GANXiSw\n",
      "K_DoesAlgMirrorEdgesTest_2 pycabem_HiReCS\n",
      "K_DoesAlgMirrorEdgesTest_2 pycabem_LabelRank\n",
      "K_DoesAlgMirrorEdgesTest_2 cdc_CONGA\n",
      "K_DoesAlgMirrorEdgesTest_2 cdc_Connected_Iterative_Scan\n",
      "K_DoesAlgMirrorEdgesTest_2 cdc_EAGLE\n",
      "K_DoesAlgMirrorEdgesTest_2 cdc_FastCpm\n",
      "K_DoesAlgMirrorEdgesTest_2 cdc_GCE\n",
      "K_DoesAlgMirrorEdgesTest_2 cdc_LinkCommunities\n",
      "K_DoesAlgMirrorEdgesTest_2 cdc_MOSES\n",
      "K_DoesAlgMirrorEdgesTest_2 cdc_MSCD_AFG\n",
      "K_DoesAlgMirrorEdgesTest_2 cdc_MSCD_HSLSW\n",
      "K_DoesAlgMirrorEdgesTest_2 cdc_MSCD_LFK\n",
      "K_DoesAlgMirrorEdgesTest_2 cdc_MSCD_LFK2\n",
      "K_DoesAlgMirrorEdgesTest_2 cdc_MSCD_RB\n",
      "K_DoesAlgMirrorEdgesTest_2 cdc_MSCD_RN\n",
      "K_DoesAlgMirrorEdgesTest_2 cdc_MSCD_SO\n",
      "K_DoesAlgMirrorEdgesTest_2 cdc_MSCD_SOM\n",
      "K_DoesAlgMirrorEdgesTest_2 cdc_ParCPM\n",
      "K_DoesAlgMirrorEdgesTest_2 cdc_SVINET\n",
      "K_DoesAlgMirrorEdgesTest_2 cdc_TopGC\n",
      "K_DoesAlgMirrorEdgesTest_2 cdc_clique_modularity\n",
      "K_DoesAlgMirrorEdgesTest_2 cgcc_CGGC\n",
      "K_DoesAlgMirrorEdgesTest_2 dct_dlplm\n",
      "K_DoesAlgMirrorEdgesTest_2 dct_dlslm\n",
      "K_DoesAlgMirrorEdgesTest_2 dct_dlslm_map_eq\n",
      "K_DoesAlgMirrorEdgesTest_2 dct_dlslm_no_contraction\n",
      "K_DoesAlgMirrorEdgesTest_2 dct_dlslm_with_seq\n",
      "K_DoesAlgMirrorEdgesTest_2 dct_infomap\n",
      "K_DoesAlgMirrorEdgesTest_2 dct_seq_louvain\n",
      "K_DoesAlgMirrorEdgesTest_2 igraph_community_edge_betweenness\n",
      "K_DoesAlgMirrorEdgesTest_2 igraph_community_infomap\n",
      "K_DoesAlgMirrorEdgesTest_2 igraph_community_label_propagation\n",
      "K_DoesAlgMirrorEdgesTest_2 igraph_community_leading_eigenvector\n",
      "K_DoesAlgMirrorEdgesTest_2 igraph_community_multilevel\n",
      "K_DoesAlgMirrorEdgesTest_2 igraph_community_optimal_modularity\n",
      "K_DoesAlgMirrorEdgesTest_2 igraph_community_spinglass\n",
      "K_DoesAlgMirrorEdgesTest_2 igraph_community_walktrap\n",
      "K_DoesAlgMirrorEdgesTest_2 mcl_MCL\n",
      "K_DoesAlgMirrorEdgesTest_2 networkit_CutClustering\n",
      "K_DoesAlgMirrorEdgesTest_2 networkit_LPDegreeOrdered\n",
      "K_DoesAlgMirrorEdgesTest_2 networkit_PLM\n",
      "K_DoesAlgMirrorEdgesTest_2 networkit_PLP\n",
      "K_DoesAlgMirrorEdgesTest_2 alg_GossipMap\n",
      "K_DoesAlgMirrorEdgesTest_2 alg_RelaxMap\n",
      "K_DoesAlgMirrorEdgesTest_2 alg_pg_label_propagation\n",
      "K_DoesAlgMirrorEdgesTest_2 scan_AnyScan_Scan\n",
      "K_DoesAlgMirrorEdgesTest_2 scan_AnyScan_anyScan\n",
      "K_DoesAlgMirrorEdgesTest_2 scan_AnyScan_anyScanParl\n",
      "K_DoesAlgMirrorEdgesTest_2 scan_AnyScan_pScan\n",
      "K_DoesAlgMirrorEdgesTest_2 scan_Scanpp\n",
      "K_DoesAlgMirrorEdgesTest_2 scan_pScan\n",
      "K_DoesAlgMirrorEdgesTest_2 scan_ppScan\n",
      "K_DoesAlgMirrorEdgesTest_2 scan_ppScanSSE\n",
      "K_DoesAlgMirrorEdgesTest_2 sklearn_AffinityPropagation\n",
      "K_DoesAlgMirrorEdgesTest_2 sklearn_SpectralClustering\n",
      "K_DoesAlgMirrorEdgesTest_2 snap_Clauset_Newman_Moore\n",
      "K_DoesAlgMirrorEdgesTest_2 snap_Girvan_Newman\n",
      "K_DoesAlgMirrorEdgesTest_2 alg_Paris\n",
      "K_DoesAlgMirrorEdgesTest_2 alg_lso_cluster\n",
      "K_DoesAlgMirrorEdgesTest_2 alg_streamcom\n"
     ]
    }
   ],
   "source": [
    "    results = {}\n",
    "    d = gct.list_all_clustering_results(print_format=False)\n",
    "    for u in d:\n",
    "        if prefix + \"_\" in u:\n",
    "            for run in d[u]:\n",
    "                a = gct.load_clustering_result(u, run)\n",
    "                print (u, run)\n",
    "                results[u + run] = a\n",
    "\n"
   ]
  },
  {
   "cell_type": "code",
   "execution_count": 28,
   "metadata": {},
   "outputs": [
    {
     "name": "stderr",
     "output_type": "stream",
     "text": [
      "2020-04-23 00:49:45,572 - ClusterComparator - INFO - resulting 128 nodes out of 128,128\n",
      "INFO:ClusterComparator:resulting 128 nodes out of 128,128\n",
      "/opt/conda/envs/python3/lib/python3.6/site-packages/sklearn/metrics/cluster/supervised.py:859: FutureWarning: The behavior of NMI will change in version 0.22. To match the behavior of 'v_measure_score', NMI will use average_method='arithmetic' by default.\n",
      "  FutureWarning)\n",
      "2020-04-23 00:49:45,582 - ClusterComparator - INFO - Running /opt/gct/submodules/OvpNMI/onmi /tmp/tmpeg6ocsyw/cluster1.cnl /tmp/tmpeg6ocsyw/cluster2.cnl > ovpnmioutput\n",
      "INFO:ClusterComparator:Running /opt/gct/submodules/OvpNMI/onmi /tmp/tmpeg6ocsyw/cluster1.cnl /tmp/tmpeg6ocsyw/cluster2.cnl > ovpnmioutput\n",
      "2020-04-23 00:49:45,591 - Clustering - INFO - reading/data/data/K_DoesAlgMirrorEdgesTest_1/gt_default.parq\n",
      "INFO:Clustering:reading/data/data/K_DoesAlgMirrorEdgesTest_1/gt_default.parq\n",
      "2020-04-23 00:49:45,598 - ClusterComparator - INFO - resulting 128 nodes out of 128,128\n",
      "INFO:ClusterComparator:resulting 128 nodes out of 128,128\n",
      "/opt/conda/envs/python3/lib/python3.6/site-packages/sklearn/metrics/cluster/supervised.py:859: FutureWarning: The behavior of NMI will change in version 0.22. To match the behavior of 'v_measure_score', NMI will use average_method='arithmetic' by default.\n",
      "  FutureWarning)\n",
      "2020-04-23 00:49:45,606 - ClusterComparator - INFO - Running /opt/gct/submodules/OvpNMI/onmi /tmp/tmp4tgq8kvf/cluster1.cnl /tmp/tmp4tgq8kvf/cluster2.cnl > ovpnmioutput\n",
      "INFO:ClusterComparator:Running /opt/gct/submodules/OvpNMI/onmi /tmp/tmp4tgq8kvf/cluster1.cnl /tmp/tmp4tgq8kvf/cluster2.cnl > ovpnmioutput\n",
      "2020-04-23 00:49:45,615 - ClusterComparator - INFO - resulting 128 nodes out of 128,128\n",
      "INFO:ClusterComparator:resulting 128 nodes out of 128,128\n",
      "/opt/conda/envs/python3/lib/python3.6/site-packages/sklearn/metrics/cluster/supervised.py:859: FutureWarning: The behavior of NMI will change in version 0.22. To match the behavior of 'v_measure_score', NMI will use average_method='arithmetic' by default.\n",
      "  FutureWarning)\n",
      "2020-04-23 00:49:45,624 - ClusterComparator - INFO - Running /opt/gct/submodules/OvpNMI/onmi /tmp/tmp0fylb20a/cluster1.cnl /tmp/tmp0fylb20a/cluster2.cnl > ovpnmioutput\n",
      "INFO:ClusterComparator:Running /opt/gct/submodules/OvpNMI/onmi /tmp/tmp0fylb20a/cluster1.cnl /tmp/tmp0fylb20a/cluster2.cnl > ovpnmioutput\n",
      "2020-04-23 00:49:45,639 - ClusterComparator - INFO - resulting 128 nodes out of 128,128\n",
      "INFO:ClusterComparator:resulting 128 nodes out of 128,128\n",
      "/opt/conda/envs/python3/lib/python3.6/site-packages/sklearn/metrics/cluster/supervised.py:859: FutureWarning: The behavior of NMI will change in version 0.22. To match the behavior of 'v_measure_score', NMI will use average_method='arithmetic' by default.\n",
      "  FutureWarning)\n",
      "2020-04-23 00:49:45,649 - ClusterComparator - INFO - Running /opt/gct/submodules/OvpNMI/onmi /tmp/tmp3rhxm8ai/cluster1.cnl /tmp/tmp3rhxm8ai/cluster2.cnl > ovpnmioutput\n",
      "INFO:ClusterComparator:Running /opt/gct/submodules/OvpNMI/onmi /tmp/tmp3rhxm8ai/cluster1.cnl /tmp/tmp3rhxm8ai/cluster2.cnl > ovpnmioutput\n",
      "2020-04-23 00:49:45,658 - Clustering - INFO - reading/data/data/K_DoesAlgMirrorEdgesTest_1/gt_default.parq\n",
      "INFO:Clustering:reading/data/data/K_DoesAlgMirrorEdgesTest_1/gt_default.parq\n",
      "2020-04-23 00:49:45,664 - ClusterComparator - INFO - resulting 128 nodes out of 128,128\n",
      "INFO:ClusterComparator:resulting 128 nodes out of 128,128\n",
      "/opt/conda/envs/python3/lib/python3.6/site-packages/sklearn/metrics/cluster/supervised.py:859: FutureWarning: The behavior of NMI will change in version 0.22. To match the behavior of 'v_measure_score', NMI will use average_method='arithmetic' by default.\n",
      "  FutureWarning)\n",
      "2020-04-23 00:49:45,672 - ClusterComparator - INFO - Running /opt/gct/submodules/OvpNMI/onmi /tmp/tmp9u2tdhlt/cluster1.cnl /tmp/tmp9u2tdhlt/cluster2.cnl > ovpnmioutput\n",
      "INFO:ClusterComparator:Running /opt/gct/submodules/OvpNMI/onmi /tmp/tmp9u2tdhlt/cluster1.cnl /tmp/tmp9u2tdhlt/cluster2.cnl > ovpnmioutput\n",
      "2020-04-23 00:49:45,681 - ClusterComparator - INFO - resulting 128 nodes out of 128,128\n",
      "INFO:ClusterComparator:resulting 128 nodes out of 128,128\n",
      "/opt/conda/envs/python3/lib/python3.6/site-packages/sklearn/metrics/cluster/supervised.py:859: FutureWarning: The behavior of NMI will change in version 0.22. To match the behavior of 'v_measure_score', NMI will use average_method='arithmetic' by default.\n",
      "  FutureWarning)\n",
      "2020-04-23 00:49:45,690 - ClusterComparator - INFO - Running /opt/gct/submodules/OvpNMI/onmi /tmp/tmp1nw0kku1/cluster1.cnl /tmp/tmp1nw0kku1/cluster2.cnl > ovpnmioutput\n",
      "INFO:ClusterComparator:Running /opt/gct/submodules/OvpNMI/onmi /tmp/tmp1nw0kku1/cluster1.cnl /tmp/tmp1nw0kku1/cluster2.cnl > ovpnmioutput\n",
      "2020-04-23 00:49:45,704 - ClusterComparator - INFO - resulting 128 nodes out of 128,128\n",
      "INFO:ClusterComparator:resulting 128 nodes out of 128,128\n",
      "/opt/conda/envs/python3/lib/python3.6/site-packages/sklearn/metrics/cluster/supervised.py:859: FutureWarning: The behavior of NMI will change in version 0.22. To match the behavior of 'v_measure_score', NMI will use average_method='arithmetic' by default.\n",
      "  FutureWarning)\n",
      "2020-04-23 00:49:45,714 - ClusterComparator - INFO - Running /opt/gct/submodules/OvpNMI/onmi /tmp/tmpta1hkdvq/cluster1.cnl /tmp/tmpta1hkdvq/cluster2.cnl > ovpnmioutput\n",
      "INFO:ClusterComparator:Running /opt/gct/submodules/OvpNMI/onmi /tmp/tmpta1hkdvq/cluster1.cnl /tmp/tmpta1hkdvq/cluster2.cnl > ovpnmioutput\n",
      "2020-04-23 00:49:45,722 - Clustering - INFO - reading/data/data/K_DoesAlgMirrorEdgesTest_1/gt_default.parq\n",
      "INFO:Clustering:reading/data/data/K_DoesAlgMirrorEdgesTest_1/gt_default.parq\n",
      "2020-04-23 00:49:45,729 - ClusterComparator - INFO - resulting 128 nodes out of 128,128\n",
      "INFO:ClusterComparator:resulting 128 nodes out of 128,128\n",
      "/opt/conda/envs/python3/lib/python3.6/site-packages/sklearn/metrics/cluster/supervised.py:859: FutureWarning: The behavior of NMI will change in version 0.22. To match the behavior of 'v_measure_score', NMI will use average_method='arithmetic' by default.\n",
      "  FutureWarning)\n",
      "2020-04-23 00:49:45,736 - ClusterComparator - INFO - Running /opt/gct/submodules/OvpNMI/onmi /tmp/tmplsol3qeh/cluster1.cnl /tmp/tmplsol3qeh/cluster2.cnl > ovpnmioutput\n",
      "INFO:ClusterComparator:Running /opt/gct/submodules/OvpNMI/onmi /tmp/tmplsol3qeh/cluster1.cnl /tmp/tmplsol3qeh/cluster2.cnl > ovpnmioutput\n",
      "2020-04-23 00:49:45,745 - ClusterComparator - INFO - resulting 128 nodes out of 128,128\n",
      "INFO:ClusterComparator:resulting 128 nodes out of 128,128\n",
      "/opt/conda/envs/python3/lib/python3.6/site-packages/sklearn/metrics/cluster/supervised.py:859: FutureWarning: The behavior of NMI will change in version 0.22. To match the behavior of 'v_measure_score', NMI will use average_method='arithmetic' by default.\n",
      "  FutureWarning)\n",
      "2020-04-23 00:49:45,753 - ClusterComparator - INFO - Running /opt/gct/submodules/OvpNMI/onmi /tmp/tmpgzwv2xe6/cluster1.cnl /tmp/tmpgzwv2xe6/cluster2.cnl > ovpnmioutput\n",
      "INFO:ClusterComparator:Running /opt/gct/submodules/OvpNMI/onmi /tmp/tmpgzwv2xe6/cluster1.cnl /tmp/tmpgzwv2xe6/cluster2.cnl > ovpnmioutput\n",
      "2020-04-23 00:49:45,987 - ClusterComparator - INFO - resulting 128 nodes out of 128,128\n",
      "INFO:ClusterComparator:resulting 128 nodes out of 128,128\n",
      "/opt/conda/envs/python3/lib/python3.6/site-packages/sklearn/metrics/cluster/supervised.py:859: FutureWarning: The behavior of NMI will change in version 0.22. To match the behavior of 'v_measure_score', NMI will use average_method='arithmetic' by default.\n",
      "  FutureWarning)\n",
      "2020-04-23 00:49:45,998 - ClusterComparator - INFO - Running /opt/gct/submodules/OvpNMI/onmi /tmp/tmpp84s0ys7/cluster1.cnl /tmp/tmpp84s0ys7/cluster2.cnl > ovpnmioutput\n",
      "INFO:ClusterComparator:Running /opt/gct/submodules/OvpNMI/onmi /tmp/tmpp84s0ys7/cluster1.cnl /tmp/tmpp84s0ys7/cluster2.cnl > ovpnmioutput\n",
      "2020-04-23 00:49:46,008 - Clustering - INFO - reading/data/data/K_DoesAlgMirrorEdgesTest_1/gt_default.parq\n",
      "INFO:Clustering:reading/data/data/K_DoesAlgMirrorEdgesTest_1/gt_default.parq\n",
      "2020-04-23 00:49:46,120 - ClusterComparator - INFO - resulting 128 nodes out of 128,128\n",
      "INFO:ClusterComparator:resulting 128 nodes out of 128,128\n",
      "/opt/conda/envs/python3/lib/python3.6/site-packages/sklearn/metrics/cluster/supervised.py:859: FutureWarning: The behavior of NMI will change in version 0.22. To match the behavior of 'v_measure_score', NMI will use average_method='arithmetic' by default.\n",
      "  FutureWarning)\n",
      "2020-04-23 00:49:46,129 - ClusterComparator - INFO - Running /opt/gct/submodules/OvpNMI/onmi /tmp/tmpyzlg5vfr/cluster1.cnl /tmp/tmpyzlg5vfr/cluster2.cnl > ovpnmioutput\n"
     ]
    },
    {
     "name": "stderr",
     "output_type": "stream",
     "text": [
      "INFO:ClusterComparator:Running /opt/gct/submodules/OvpNMI/onmi /tmp/tmpyzlg5vfr/cluster1.cnl /tmp/tmpyzlg5vfr/cluster2.cnl > ovpnmioutput\n",
      "2020-04-23 00:49:46,331 - ClusterComparator - INFO - resulting 128 nodes out of 128,128\n",
      "INFO:ClusterComparator:resulting 128 nodes out of 128,128\n",
      "/opt/conda/envs/python3/lib/python3.6/site-packages/sklearn/metrics/cluster/supervised.py:859: FutureWarning: The behavior of NMI will change in version 0.22. To match the behavior of 'v_measure_score', NMI will use average_method='arithmetic' by default.\n",
      "  FutureWarning)\n",
      "2020-04-23 00:49:46,339 - ClusterComparator - INFO - Running /opt/gct/submodules/OvpNMI/onmi /tmp/tmpz1up20ho/cluster1.cnl /tmp/tmpz1up20ho/cluster2.cnl > ovpnmioutput\n",
      "INFO:ClusterComparator:Running /opt/gct/submodules/OvpNMI/onmi /tmp/tmpz1up20ho/cluster1.cnl /tmp/tmpz1up20ho/cluster2.cnl > ovpnmioutput\n",
      "2020-04-23 00:49:46,356 - ClusterComparator - INFO - resulting 128 nodes out of 128,128\n",
      "INFO:ClusterComparator:resulting 128 nodes out of 128,128\n",
      "/opt/conda/envs/python3/lib/python3.6/site-packages/sklearn/metrics/cluster/supervised.py:859: FutureWarning: The behavior of NMI will change in version 0.22. To match the behavior of 'v_measure_score', NMI will use average_method='arithmetic' by default.\n",
      "  FutureWarning)\n",
      "2020-04-23 00:49:46,366 - ClusterComparator - INFO - Running /opt/gct/submodules/OvpNMI/onmi /tmp/tmpwlnn9mfh/cluster1.cnl /tmp/tmpwlnn9mfh/cluster2.cnl > ovpnmioutput\n",
      "INFO:ClusterComparator:Running /opt/gct/submodules/OvpNMI/onmi /tmp/tmpwlnn9mfh/cluster1.cnl /tmp/tmpwlnn9mfh/cluster2.cnl > ovpnmioutput\n",
      "2020-04-23 00:49:46,375 - Clustering - INFO - reading/data/data/K_DoesAlgMirrorEdgesTest_1/gt_default.parq\n",
      "INFO:Clustering:reading/data/data/K_DoesAlgMirrorEdgesTest_1/gt_default.parq\n",
      "2020-04-23 00:49:46,382 - ClusterComparator - INFO - resulting 128 nodes out of 128,128\n",
      "INFO:ClusterComparator:resulting 128 nodes out of 128,128\n",
      "/opt/conda/envs/python3/lib/python3.6/site-packages/sklearn/metrics/cluster/supervised.py:859: FutureWarning: The behavior of NMI will change in version 0.22. To match the behavior of 'v_measure_score', NMI will use average_method='arithmetic' by default.\n",
      "  FutureWarning)\n",
      "2020-04-23 00:49:46,389 - ClusterComparator - INFO - Running /opt/gct/submodules/OvpNMI/onmi /tmp/tmpd4g9eqpy/cluster1.cnl /tmp/tmpd4g9eqpy/cluster2.cnl > ovpnmioutput\n",
      "INFO:ClusterComparator:Running /opt/gct/submodules/OvpNMI/onmi /tmp/tmpd4g9eqpy/cluster1.cnl /tmp/tmpd4g9eqpy/cluster2.cnl > ovpnmioutput\n",
      "2020-04-23 00:49:46,398 - ClusterComparator - INFO - resulting 128 nodes out of 128,128\n",
      "INFO:ClusterComparator:resulting 128 nodes out of 128,128\n",
      "/opt/conda/envs/python3/lib/python3.6/site-packages/sklearn/metrics/cluster/supervised.py:859: FutureWarning: The behavior of NMI will change in version 0.22. To match the behavior of 'v_measure_score', NMI will use average_method='arithmetic' by default.\n",
      "  FutureWarning)\n",
      "2020-04-23 00:49:46,407 - ClusterComparator - INFO - Running /opt/gct/submodules/OvpNMI/onmi /tmp/tmp_13brvvu/cluster1.cnl /tmp/tmp_13brvvu/cluster2.cnl > ovpnmioutput\n",
      "INFO:ClusterComparator:Running /opt/gct/submodules/OvpNMI/onmi /tmp/tmp_13brvvu/cluster1.cnl /tmp/tmp_13brvvu/cluster2.cnl > ovpnmioutput\n",
      "2020-04-23 00:49:46,422 - ClusterComparator - INFO - resulting 128 nodes out of 128,128\n",
      "INFO:ClusterComparator:resulting 128 nodes out of 128,128\n",
      "/opt/conda/envs/python3/lib/python3.6/site-packages/sklearn/metrics/cluster/supervised.py:859: FutureWarning: The behavior of NMI will change in version 0.22. To match the behavior of 'v_measure_score', NMI will use average_method='arithmetic' by default.\n",
      "  FutureWarning)\n",
      "2020-04-23 00:49:46,432 - ClusterComparator - INFO - Running /opt/gct/submodules/OvpNMI/onmi /tmp/tmpz8p3ty41/cluster1.cnl /tmp/tmpz8p3ty41/cluster2.cnl > ovpnmioutput\n",
      "INFO:ClusterComparator:Running /opt/gct/submodules/OvpNMI/onmi /tmp/tmpz8p3ty41/cluster1.cnl /tmp/tmpz8p3ty41/cluster2.cnl > ovpnmioutput\n",
      "2020-04-23 00:49:46,441 - Clustering - INFO - reading/data/data/K_DoesAlgMirrorEdgesTest_1/gt_default.parq\n",
      "INFO:Clustering:reading/data/data/K_DoesAlgMirrorEdgesTest_1/gt_default.parq\n",
      "2020-04-23 00:49:46,448 - ClusterComparator - INFO - resulting 128 nodes out of 128,128\n",
      "INFO:ClusterComparator:resulting 128 nodes out of 128,128\n",
      "/opt/conda/envs/python3/lib/python3.6/site-packages/sklearn/metrics/cluster/supervised.py:859: FutureWarning: The behavior of NMI will change in version 0.22. To match the behavior of 'v_measure_score', NMI will use average_method='arithmetic' by default.\n",
      "  FutureWarning)\n",
      "2020-04-23 00:49:46,456 - ClusterComparator - INFO - Running /opt/gct/submodules/OvpNMI/onmi /tmp/tmpoyquuy6q/cluster1.cnl /tmp/tmpoyquuy6q/cluster2.cnl > ovpnmioutput\n",
      "INFO:ClusterComparator:Running /opt/gct/submodules/OvpNMI/onmi /tmp/tmpoyquuy6q/cluster1.cnl /tmp/tmpoyquuy6q/cluster2.cnl > ovpnmioutput\n",
      "2020-04-23 00:49:46,464 - ClusterComparator - INFO - resulting 128 nodes out of 128,128\n",
      "INFO:ClusterComparator:resulting 128 nodes out of 128,128\n",
      "/opt/conda/envs/python3/lib/python3.6/site-packages/sklearn/metrics/cluster/supervised.py:859: FutureWarning: The behavior of NMI will change in version 0.22. To match the behavior of 'v_measure_score', NMI will use average_method='arithmetic' by default.\n",
      "  FutureWarning)\n",
      "2020-04-23 00:49:46,473 - ClusterComparator - INFO - Running /opt/gct/submodules/OvpNMI/onmi /tmp/tmpzhcitpj8/cluster1.cnl /tmp/tmpzhcitpj8/cluster2.cnl > ovpnmioutput\n",
      "INFO:ClusterComparator:Running /opt/gct/submodules/OvpNMI/onmi /tmp/tmpzhcitpj8/cluster1.cnl /tmp/tmpzhcitpj8/cluster2.cnl > ovpnmioutput\n",
      "2020-04-23 00:49:46,488 - ClusterComparator - INFO - resulting 128 nodes out of 128,128\n",
      "INFO:ClusterComparator:resulting 128 nodes out of 128,128\n",
      "/opt/conda/envs/python3/lib/python3.6/site-packages/sklearn/metrics/cluster/supervised.py:859: FutureWarning: The behavior of NMI will change in version 0.22. To match the behavior of 'v_measure_score', NMI will use average_method='arithmetic' by default.\n",
      "  FutureWarning)\n",
      "2020-04-23 00:49:46,498 - ClusterComparator - INFO - Running /opt/gct/submodules/OvpNMI/onmi /tmp/tmp1am3q0ij/cluster1.cnl /tmp/tmp1am3q0ij/cluster2.cnl > ovpnmioutput\n",
      "INFO:ClusterComparator:Running /opt/gct/submodules/OvpNMI/onmi /tmp/tmp1am3q0ij/cluster1.cnl /tmp/tmp1am3q0ij/cluster2.cnl > ovpnmioutput\n",
      "2020-04-23 00:49:46,506 - Clustering - INFO - reading/data/data/K_DoesAlgMirrorEdgesTest_1/gt_default.parq\n",
      "INFO:Clustering:reading/data/data/K_DoesAlgMirrorEdgesTest_1/gt_default.parq\n",
      "2020-04-23 00:49:46,513 - ClusterComparator - INFO - resulting 128 nodes out of 128,128\n",
      "INFO:ClusterComparator:resulting 128 nodes out of 128,128\n",
      "/opt/conda/envs/python3/lib/python3.6/site-packages/sklearn/metrics/cluster/supervised.py:859: FutureWarning: The behavior of NMI will change in version 0.22. To match the behavior of 'v_measure_score', NMI will use average_method='arithmetic' by default.\n",
      "  FutureWarning)\n",
      "2020-04-23 00:49:46,520 - ClusterComparator - INFO - Running /opt/gct/submodules/OvpNMI/onmi /tmp/tmpb3ulgel5/cluster1.cnl /tmp/tmpb3ulgel5/cluster2.cnl > ovpnmioutput\n",
      "INFO:ClusterComparator:Running /opt/gct/submodules/OvpNMI/onmi /tmp/tmpb3ulgel5/cluster1.cnl /tmp/tmpb3ulgel5/cluster2.cnl > ovpnmioutput\n",
      "2020-04-23 00:49:46,529 - ClusterComparator - INFO - resulting 128 nodes out of 128,128\n",
      "INFO:ClusterComparator:resulting 128 nodes out of 128,128\n",
      "/opt/conda/envs/python3/lib/python3.6/site-packages/sklearn/metrics/cluster/supervised.py:859: FutureWarning: The behavior of NMI will change in version 0.22. To match the behavior of 'v_measure_score', NMI will use average_method='arithmetic' by default.\n",
      "  FutureWarning)\n",
      "2020-04-23 00:49:46,539 - ClusterComparator - INFO - Running /opt/gct/submodules/OvpNMI/onmi /tmp/tmpnqm0497q/cluster1.cnl /tmp/tmpnqm0497q/cluster2.cnl > ovpnmioutput\n",
      "INFO:ClusterComparator:Running /opt/gct/submodules/OvpNMI/onmi /tmp/tmpnqm0497q/cluster1.cnl /tmp/tmpnqm0497q/cluster2.cnl > ovpnmioutput\n",
      "2020-04-23 00:49:46,554 - ClusterComparator - INFO - resulting 128 nodes out of 128,128\n",
      "INFO:ClusterComparator:resulting 128 nodes out of 128,128\n",
      "/opt/conda/envs/python3/lib/python3.6/site-packages/sklearn/metrics/cluster/supervised.py:859: FutureWarning: The behavior of NMI will change in version 0.22. To match the behavior of 'v_measure_score', NMI will use average_method='arithmetic' by default.\n",
      "  FutureWarning)\n"
     ]
    },
    {
     "name": "stderr",
     "output_type": "stream",
     "text": [
      "2020-04-23 00:49:46,564 - ClusterComparator - INFO - Running /opt/gct/submodules/OvpNMI/onmi /tmp/tmpqqxsk6e2/cluster1.cnl /tmp/tmpqqxsk6e2/cluster2.cnl > ovpnmioutput\n",
      "INFO:ClusterComparator:Running /opt/gct/submodules/OvpNMI/onmi /tmp/tmpqqxsk6e2/cluster1.cnl /tmp/tmpqqxsk6e2/cluster2.cnl > ovpnmioutput\n",
      "2020-04-23 00:49:46,573 - Clustering - INFO - reading/data/data/K_DoesAlgMirrorEdgesTest_1/gt_default.parq\n",
      "INFO:Clustering:reading/data/data/K_DoesAlgMirrorEdgesTest_1/gt_default.parq\n",
      "2020-04-23 00:49:46,579 - ClusterComparator - INFO - resulting 128 nodes out of 128,128\n",
      "INFO:ClusterComparator:resulting 128 nodes out of 128,128\n",
      "/opt/conda/envs/python3/lib/python3.6/site-packages/sklearn/metrics/cluster/supervised.py:859: FutureWarning: The behavior of NMI will change in version 0.22. To match the behavior of 'v_measure_score', NMI will use average_method='arithmetic' by default.\n",
      "  FutureWarning)\n",
      "2020-04-23 00:49:46,588 - ClusterComparator - INFO - Running /opt/gct/submodules/OvpNMI/onmi /tmp/tmp0zdlt2o5/cluster1.cnl /tmp/tmp0zdlt2o5/cluster2.cnl > ovpnmioutput\n",
      "INFO:ClusterComparator:Running /opt/gct/submodules/OvpNMI/onmi /tmp/tmp0zdlt2o5/cluster1.cnl /tmp/tmp0zdlt2o5/cluster2.cnl > ovpnmioutput\n",
      "2020-04-23 00:49:46,596 - ClusterComparator - INFO - resulting 128 nodes out of 128,128\n",
      "INFO:ClusterComparator:resulting 128 nodes out of 128,128\n",
      "/opt/conda/envs/python3/lib/python3.6/site-packages/sklearn/metrics/cluster/supervised.py:859: FutureWarning: The behavior of NMI will change in version 0.22. To match the behavior of 'v_measure_score', NMI will use average_method='arithmetic' by default.\n",
      "  FutureWarning)\n",
      "2020-04-23 00:49:46,605 - ClusterComparator - INFO - Running /opt/gct/submodules/OvpNMI/onmi /tmp/tmp5c8whway/cluster1.cnl /tmp/tmp5c8whway/cluster2.cnl > ovpnmioutput\n",
      "INFO:ClusterComparator:Running /opt/gct/submodules/OvpNMI/onmi /tmp/tmp5c8whway/cluster1.cnl /tmp/tmp5c8whway/cluster2.cnl > ovpnmioutput\n",
      "2020-04-23 00:49:46,620 - ClusterComparator - INFO - resulting 128 nodes out of 128,128\n",
      "INFO:ClusterComparator:resulting 128 nodes out of 128,128\n",
      "/opt/conda/envs/python3/lib/python3.6/site-packages/sklearn/metrics/cluster/supervised.py:859: FutureWarning: The behavior of NMI will change in version 0.22. To match the behavior of 'v_measure_score', NMI will use average_method='arithmetic' by default.\n",
      "  FutureWarning)\n",
      "2020-04-23 00:49:46,631 - ClusterComparator - INFO - Running /opt/gct/submodules/OvpNMI/onmi /tmp/tmpca_3vv4h/cluster1.cnl /tmp/tmpca_3vv4h/cluster2.cnl > ovpnmioutput\n",
      "INFO:ClusterComparator:Running /opt/gct/submodules/OvpNMI/onmi /tmp/tmpca_3vv4h/cluster1.cnl /tmp/tmpca_3vv4h/cluster2.cnl > ovpnmioutput\n",
      "2020-04-23 00:49:46,639 - Clustering - INFO - reading/data/data/K_DoesAlgMirrorEdgesTest_1/gt_default.parq\n",
      "INFO:Clustering:reading/data/data/K_DoesAlgMirrorEdgesTest_1/gt_default.parq\n",
      "2020-04-23 00:49:46,646 - ClusterComparator - INFO - resulting 127 nodes out of 128,128\n",
      "INFO:ClusterComparator:resulting 127 nodes out of 128,128\n",
      "/opt/conda/envs/python3/lib/python3.6/site-packages/sklearn/metrics/cluster/supervised.py:859: FutureWarning: The behavior of NMI will change in version 0.22. To match the behavior of 'v_measure_score', NMI will use average_method='arithmetic' by default.\n",
      "  FutureWarning)\n",
      "2020-04-23 00:49:46,654 - ClusterComparator - INFO - Running /opt/gct/submodules/OvpNMI/onmi /tmp/tmpaw9vlan9/cluster1.cnl /tmp/tmpaw9vlan9/cluster2.cnl > ovpnmioutput\n",
      "INFO:ClusterComparator:Running /opt/gct/submodules/OvpNMI/onmi /tmp/tmpaw9vlan9/cluster1.cnl /tmp/tmpaw9vlan9/cluster2.cnl > ovpnmioutput\n",
      "2020-04-23 00:49:46,663 - ClusterComparator - ERROR - Run command with error status code 134\n",
      "ERROR:ClusterComparator:Run command with error status code 134\n",
      "2020-04-23 00:49:46,665 - ClusterComparator - INFO - resulting 127 nodes out of 128,128\n",
      "INFO:ClusterComparator:resulting 127 nodes out of 128,128\n",
      "/opt/conda/envs/python3/lib/python3.6/site-packages/sklearn/metrics/cluster/supervised.py:859: FutureWarning: The behavior of NMI will change in version 0.22. To match the behavior of 'v_measure_score', NMI will use average_method='arithmetic' by default.\n",
      "  FutureWarning)\n",
      "2020-04-23 00:49:46,675 - ClusterComparator - INFO - Running /opt/gct/submodules/OvpNMI/onmi /tmp/tmp6_he0__f/cluster1.cnl /tmp/tmp6_he0__f/cluster2.cnl > ovpnmioutput\n",
      "INFO:ClusterComparator:Running /opt/gct/submodules/OvpNMI/onmi /tmp/tmp6_he0__f/cluster1.cnl /tmp/tmp6_he0__f/cluster2.cnl > ovpnmioutput\n",
      "2020-04-23 00:49:46,683 - ClusterComparator - ERROR - Run command with error status code 134\n",
      "ERROR:ClusterComparator:Run command with error status code 134\n",
      "2020-04-23 00:49:46,693 - ClusterComparator - INFO - resulting 128 nodes out of 128,128\n",
      "INFO:ClusterComparator:resulting 128 nodes out of 128,128\n",
      "/opt/conda/envs/python3/lib/python3.6/site-packages/sklearn/metrics/cluster/supervised.py:859: FutureWarning: The behavior of NMI will change in version 0.22. To match the behavior of 'v_measure_score', NMI will use average_method='arithmetic' by default.\n",
      "  FutureWarning)\n",
      "2020-04-23 00:49:46,703 - ClusterComparator - INFO - Running /opt/gct/submodules/OvpNMI/onmi /tmp/tmpryqtmqqy/cluster1.cnl /tmp/tmpryqtmqqy/cluster2.cnl > ovpnmioutput\n",
      "INFO:ClusterComparator:Running /opt/gct/submodules/OvpNMI/onmi /tmp/tmpryqtmqqy/cluster1.cnl /tmp/tmpryqtmqqy/cluster2.cnl > ovpnmioutput\n",
      "2020-04-23 00:49:46,712 - Clustering - INFO - reading/data/data/K_DoesAlgMirrorEdgesTest_1/gt_default.parq\n",
      "INFO:Clustering:reading/data/data/K_DoesAlgMirrorEdgesTest_1/gt_default.parq\n",
      "2020-04-23 00:49:46,718 - ClusterComparator - INFO - resulting 128 nodes out of 128,128\n",
      "INFO:ClusterComparator:resulting 128 nodes out of 128,128\n",
      "/opt/conda/envs/python3/lib/python3.6/site-packages/sklearn/metrics/cluster/supervised.py:859: FutureWarning: The behavior of NMI will change in version 0.22. To match the behavior of 'v_measure_score', NMI will use average_method='arithmetic' by default.\n",
      "  FutureWarning)\n",
      "2020-04-23 00:49:46,727 - ClusterComparator - INFO - Running /opt/gct/submodules/OvpNMI/onmi /tmp/tmpogfith3i/cluster1.cnl /tmp/tmpogfith3i/cluster2.cnl > ovpnmioutput\n",
      "INFO:ClusterComparator:Running /opt/gct/submodules/OvpNMI/onmi /tmp/tmpogfith3i/cluster1.cnl /tmp/tmpogfith3i/cluster2.cnl > ovpnmioutput\n",
      "2020-04-23 00:49:46,736 - ClusterComparator - INFO - resulting 128 nodes out of 128,128\n",
      "INFO:ClusterComparator:resulting 128 nodes out of 128,128\n",
      "/opt/conda/envs/python3/lib/python3.6/site-packages/sklearn/metrics/cluster/supervised.py:859: FutureWarning: The behavior of NMI will change in version 0.22. To match the behavior of 'v_measure_score', NMI will use average_method='arithmetic' by default.\n",
      "  FutureWarning)\n",
      "2020-04-23 00:49:46,746 - ClusterComparator - INFO - Running /opt/gct/submodules/OvpNMI/onmi /tmp/tmplbbv5g0w/cluster1.cnl /tmp/tmplbbv5g0w/cluster2.cnl > ovpnmioutput\n",
      "INFO:ClusterComparator:Running /opt/gct/submodules/OvpNMI/onmi /tmp/tmplbbv5g0w/cluster1.cnl /tmp/tmplbbv5g0w/cluster2.cnl > ovpnmioutput\n",
      "2020-04-23 00:49:46,953 - ClusterComparator - INFO - resulting 128 nodes out of 128,128\n",
      "INFO:ClusterComparator:resulting 128 nodes out of 128,128\n",
      "/opt/conda/envs/python3/lib/python3.6/site-packages/sklearn/metrics/cluster/supervised.py:859: FutureWarning: The behavior of NMI will change in version 0.22. To match the behavior of 'v_measure_score', NMI will use average_method='arithmetic' by default.\n",
      "  FutureWarning)\n",
      "2020-04-23 00:49:46,964 - ClusterComparator - INFO - Running /opt/gct/submodules/OvpNMI/onmi /tmp/tmptwhk8rep/cluster1.cnl /tmp/tmptwhk8rep/cluster2.cnl > ovpnmioutput\n",
      "INFO:ClusterComparator:Running /opt/gct/submodules/OvpNMI/onmi /tmp/tmptwhk8rep/cluster1.cnl /tmp/tmptwhk8rep/cluster2.cnl > ovpnmioutput\n",
      "2020-04-23 00:49:46,974 - Clustering - INFO - reading/data/data/K_DoesAlgMirrorEdgesTest_1/gt_default.parq\n",
      "INFO:Clustering:reading/data/data/K_DoesAlgMirrorEdgesTest_1/gt_default.parq\n",
      "2020-04-23 00:49:47,067 - ClusterComparator - INFO - resulting 128 nodes out of 128,128\n",
      "INFO:ClusterComparator:resulting 128 nodes out of 128,128\n",
      "/opt/conda/envs/python3/lib/python3.6/site-packages/sklearn/metrics/cluster/supervised.py:859: FutureWarning: The behavior of NMI will change in version 0.22. To match the behavior of 'v_measure_score', NMI will use average_method='arithmetic' by default.\n",
      "  FutureWarning)\n",
      "2020-04-23 00:49:47,075 - ClusterComparator - INFO - Running /opt/gct/submodules/OvpNMI/onmi /tmp/tmpgjzvpeqc/cluster1.cnl /tmp/tmpgjzvpeqc/cluster2.cnl > ovpnmioutput\n"
     ]
    },
    {
     "name": "stderr",
     "output_type": "stream",
     "text": [
      "INFO:ClusterComparator:Running /opt/gct/submodules/OvpNMI/onmi /tmp/tmpgjzvpeqc/cluster1.cnl /tmp/tmpgjzvpeqc/cluster2.cnl > ovpnmioutput\n",
      "2020-04-23 00:49:47,177 - ClusterComparator - INFO - resulting 128 nodes out of 128,128\n",
      "INFO:ClusterComparator:resulting 128 nodes out of 128,128\n",
      "/opt/conda/envs/python3/lib/python3.6/site-packages/sklearn/metrics/cluster/supervised.py:859: FutureWarning: The behavior of NMI will change in version 0.22. To match the behavior of 'v_measure_score', NMI will use average_method='arithmetic' by default.\n",
      "  FutureWarning)\n",
      "2020-04-23 00:49:47,185 - ClusterComparator - INFO - Running /opt/gct/submodules/OvpNMI/onmi /tmp/tmp5_ouclej/cluster1.cnl /tmp/tmp5_ouclej/cluster2.cnl > ovpnmioutput\n",
      "INFO:ClusterComparator:Running /opt/gct/submodules/OvpNMI/onmi /tmp/tmp5_ouclej/cluster1.cnl /tmp/tmp5_ouclej/cluster2.cnl > ovpnmioutput\n",
      "2020-04-23 00:49:47,408 - ClusterComparator - INFO - resulting 128 nodes out of 128,128\n",
      "INFO:ClusterComparator:resulting 128 nodes out of 128,128\n",
      "/opt/conda/envs/python3/lib/python3.6/site-packages/sklearn/metrics/cluster/supervised.py:859: FutureWarning: The behavior of NMI will change in version 0.22. To match the behavior of 'v_measure_score', NMI will use average_method='arithmetic' by default.\n",
      "  FutureWarning)\n",
      "2020-04-23 00:49:47,420 - ClusterComparator - INFO - Running /opt/gct/submodules/OvpNMI/onmi /tmp/tmp7cvc3oqs/cluster1.cnl /tmp/tmp7cvc3oqs/cluster2.cnl > ovpnmioutput\n",
      "INFO:ClusterComparator:Running /opt/gct/submodules/OvpNMI/onmi /tmp/tmp7cvc3oqs/cluster1.cnl /tmp/tmp7cvc3oqs/cluster2.cnl > ovpnmioutput\n",
      "2020-04-23 00:49:47,430 - Clustering - INFO - reading/data/data/K_DoesAlgMirrorEdgesTest_1/gt_default.parq\n",
      "INFO:Clustering:reading/data/data/K_DoesAlgMirrorEdgesTest_1/gt_default.parq\n",
      "2020-04-23 00:49:47,537 - ClusterComparator - INFO - resulting 128 nodes out of 128,128\n",
      "INFO:ClusterComparator:resulting 128 nodes out of 128,128\n",
      "/opt/conda/envs/python3/lib/python3.6/site-packages/sklearn/metrics/cluster/supervised.py:859: FutureWarning: The behavior of NMI will change in version 0.22. To match the behavior of 'v_measure_score', NMI will use average_method='arithmetic' by default.\n",
      "  FutureWarning)\n",
      "2020-04-23 00:49:47,547 - ClusterComparator - INFO - Running /opt/gct/submodules/OvpNMI/onmi /tmp/tmpogg5szsj/cluster1.cnl /tmp/tmpogg5szsj/cluster2.cnl > ovpnmioutput\n",
      "INFO:ClusterComparator:Running /opt/gct/submodules/OvpNMI/onmi /tmp/tmpogg5szsj/cluster1.cnl /tmp/tmpogg5szsj/cluster2.cnl > ovpnmioutput\n",
      "2020-04-23 00:49:47,664 - ClusterComparator - INFO - resulting 128 nodes out of 128,128\n",
      "INFO:ClusterComparator:resulting 128 nodes out of 128,128\n",
      "/opt/conda/envs/python3/lib/python3.6/site-packages/sklearn/metrics/cluster/supervised.py:859: FutureWarning: The behavior of NMI will change in version 0.22. To match the behavior of 'v_measure_score', NMI will use average_method='arithmetic' by default.\n",
      "  FutureWarning)\n",
      "2020-04-23 00:49:47,673 - ClusterComparator - INFO - Running /opt/gct/submodules/OvpNMI/onmi /tmp/tmpmp94lm1k/cluster1.cnl /tmp/tmpmp94lm1k/cluster2.cnl > ovpnmioutput\n",
      "INFO:ClusterComparator:Running /opt/gct/submodules/OvpNMI/onmi /tmp/tmpmp94lm1k/cluster1.cnl /tmp/tmpmp94lm1k/cluster2.cnl > ovpnmioutput\n",
      "2020-04-23 00:49:47,903 - ClusterComparator - INFO - resulting 128 nodes out of 128,128\n",
      "INFO:ClusterComparator:resulting 128 nodes out of 128,128\n",
      "/opt/conda/envs/python3/lib/python3.6/site-packages/sklearn/metrics/cluster/supervised.py:859: FutureWarning: The behavior of NMI will change in version 0.22. To match the behavior of 'v_measure_score', NMI will use average_method='arithmetic' by default.\n",
      "  FutureWarning)\n",
      "2020-04-23 00:49:47,915 - ClusterComparator - INFO - Running /opt/gct/submodules/OvpNMI/onmi /tmp/tmpxi4m9nf3/cluster1.cnl /tmp/tmpxi4m9nf3/cluster2.cnl > ovpnmioutput\n",
      "INFO:ClusterComparator:Running /opt/gct/submodules/OvpNMI/onmi /tmp/tmpxi4m9nf3/cluster1.cnl /tmp/tmpxi4m9nf3/cluster2.cnl > ovpnmioutput\n",
      "2020-04-23 00:49:47,925 - Clustering - INFO - reading/data/data/K_DoesAlgMirrorEdgesTest_1/gt_default.parq\n",
      "INFO:Clustering:reading/data/data/K_DoesAlgMirrorEdgesTest_1/gt_default.parq\n",
      "2020-04-23 00:49:48,036 - ClusterComparator - INFO - resulting 128 nodes out of 128,128\n",
      "INFO:ClusterComparator:resulting 128 nodes out of 128,128\n",
      "/opt/conda/envs/python3/lib/python3.6/site-packages/sklearn/metrics/cluster/supervised.py:859: FutureWarning: The behavior of NMI will change in version 0.22. To match the behavior of 'v_measure_score', NMI will use average_method='arithmetic' by default.\n",
      "  FutureWarning)\n",
      "2020-04-23 00:49:48,045 - ClusterComparator - INFO - Running /opt/gct/submodules/OvpNMI/onmi /tmp/tmpo2ny50w9/cluster1.cnl /tmp/tmpo2ny50w9/cluster2.cnl > ovpnmioutput\n",
      "INFO:ClusterComparator:Running /opt/gct/submodules/OvpNMI/onmi /tmp/tmpo2ny50w9/cluster1.cnl /tmp/tmpo2ny50w9/cluster2.cnl > ovpnmioutput\n",
      "2020-04-23 00:49:48,054 - ClusterComparator - ERROR - Run command with error status code 134\n",
      "ERROR:ClusterComparator:Run command with error status code 134\n",
      "2020-04-23 00:49:48,164 - ClusterComparator - INFO - resulting 128 nodes out of 128,128\n",
      "INFO:ClusterComparator:resulting 128 nodes out of 128,128\n",
      "/opt/conda/envs/python3/lib/python3.6/site-packages/sklearn/metrics/cluster/supervised.py:859: FutureWarning: The behavior of NMI will change in version 0.22. To match the behavior of 'v_measure_score', NMI will use average_method='arithmetic' by default.\n",
      "  FutureWarning)\n",
      "2020-04-23 00:49:48,173 - ClusterComparator - INFO - Running /opt/gct/submodules/OvpNMI/onmi /tmp/tmpfjp6jqo7/cluster1.cnl /tmp/tmpfjp6jqo7/cluster2.cnl > ovpnmioutput\n",
      "INFO:ClusterComparator:Running /opt/gct/submodules/OvpNMI/onmi /tmp/tmpfjp6jqo7/cluster1.cnl /tmp/tmpfjp6jqo7/cluster2.cnl > ovpnmioutput\n",
      "2020-04-23 00:49:48,183 - ClusterComparator - ERROR - Run command with error status code 134\n",
      "ERROR:ClusterComparator:Run command with error status code 134\n",
      "2020-04-23 00:49:48,404 - ClusterComparator - INFO - resulting 128 nodes out of 128,128\n",
      "INFO:ClusterComparator:resulting 128 nodes out of 128,128\n",
      "/opt/conda/envs/python3/lib/python3.6/site-packages/sklearn/metrics/cluster/supervised.py:859: FutureWarning: The behavior of NMI will change in version 0.22. To match the behavior of 'v_measure_score', NMI will use average_method='arithmetic' by default.\n",
      "  FutureWarning)\n",
      "2020-04-23 00:49:48,415 - ClusterComparator - INFO - Running /opt/gct/submodules/OvpNMI/onmi /tmp/tmp090ane1i/cluster1.cnl /tmp/tmp090ane1i/cluster2.cnl > ovpnmioutput\n",
      "INFO:ClusterComparator:Running /opt/gct/submodules/OvpNMI/onmi /tmp/tmp090ane1i/cluster1.cnl /tmp/tmp090ane1i/cluster2.cnl > ovpnmioutput\n",
      "2020-04-23 00:49:48,425 - Clustering - INFO - reading/data/data/K_DoesAlgMirrorEdgesTest_1/gt_default.parq\n",
      "INFO:Clustering:reading/data/data/K_DoesAlgMirrorEdgesTest_1/gt_default.parq\n",
      "2020-04-23 00:49:48,537 - ClusterComparator - INFO - resulting 128 nodes out of 128,128\n",
      "INFO:ClusterComparator:resulting 128 nodes out of 128,128\n",
      "/opt/conda/envs/python3/lib/python3.6/site-packages/sklearn/metrics/cluster/supervised.py:859: FutureWarning: The behavior of NMI will change in version 0.22. To match the behavior of 'v_measure_score', NMI will use average_method='arithmetic' by default.\n",
      "  FutureWarning)\n",
      "2020-04-23 00:49:48,545 - ClusterComparator - INFO - Running /opt/gct/submodules/OvpNMI/onmi /tmp/tmp54g8di5l/cluster1.cnl /tmp/tmp54g8di5l/cluster2.cnl > ovpnmioutput\n",
      "INFO:ClusterComparator:Running /opt/gct/submodules/OvpNMI/onmi /tmp/tmp54g8di5l/cluster1.cnl /tmp/tmp54g8di5l/cluster2.cnl > ovpnmioutput\n",
      "2020-04-23 00:49:48,664 - ClusterComparator - INFO - resulting 128 nodes out of 128,128\n",
      "INFO:ClusterComparator:resulting 128 nodes out of 128,128\n",
      "/opt/conda/envs/python3/lib/python3.6/site-packages/sklearn/metrics/cluster/supervised.py:859: FutureWarning: The behavior of NMI will change in version 0.22. To match the behavior of 'v_measure_score', NMI will use average_method='arithmetic' by default.\n",
      "  FutureWarning)\n",
      "2020-04-23 00:49:48,672 - ClusterComparator - INFO - Running /opt/gct/submodules/OvpNMI/onmi /tmp/tmp_kahtouc/cluster1.cnl /tmp/tmp_kahtouc/cluster2.cnl > ovpnmioutput\n",
      "INFO:ClusterComparator:Running /opt/gct/submodules/OvpNMI/onmi /tmp/tmp_kahtouc/cluster1.cnl /tmp/tmp_kahtouc/cluster2.cnl > ovpnmioutput\n"
     ]
    },
    {
     "name": "stderr",
     "output_type": "stream",
     "text": [
      "2020-04-23 00:49:48,689 - ClusterComparator - INFO - resulting 128 nodes out of 128,128\n",
      "INFO:ClusterComparator:resulting 128 nodes out of 128,128\n",
      "/opt/conda/envs/python3/lib/python3.6/site-packages/sklearn/metrics/cluster/supervised.py:859: FutureWarning: The behavior of NMI will change in version 0.22. To match the behavior of 'v_measure_score', NMI will use average_method='arithmetic' by default.\n",
      "  FutureWarning)\n",
      "2020-04-23 00:49:48,699 - ClusterComparator - INFO - Running /opt/gct/submodules/OvpNMI/onmi /tmp/tmpx_nd4zr3/cluster1.cnl /tmp/tmpx_nd4zr3/cluster2.cnl > ovpnmioutput\n",
      "INFO:ClusterComparator:Running /opt/gct/submodules/OvpNMI/onmi /tmp/tmpx_nd4zr3/cluster1.cnl /tmp/tmpx_nd4zr3/cluster2.cnl > ovpnmioutput\n",
      "2020-04-23 00:49:48,708 - Clustering - INFO - reading/data/data/K_DoesAlgMirrorEdgesTest_1/gt_default.parq\n",
      "INFO:Clustering:reading/data/data/K_DoesAlgMirrorEdgesTest_1/gt_default.parq\n",
      "2020-04-23 00:49:48,715 - ClusterComparator - INFO - resulting 128 nodes out of 128,128\n",
      "INFO:ClusterComparator:resulting 128 nodes out of 128,128\n",
      "/opt/conda/envs/python3/lib/python3.6/site-packages/sklearn/metrics/cluster/supervised.py:859: FutureWarning: The behavior of NMI will change in version 0.22. To match the behavior of 'v_measure_score', NMI will use average_method='arithmetic' by default.\n",
      "  FutureWarning)\n",
      "2020-04-23 00:49:48,723 - ClusterComparator - INFO - Running /opt/gct/submodules/OvpNMI/onmi /tmp/tmpnzl8vv3m/cluster1.cnl /tmp/tmpnzl8vv3m/cluster2.cnl > ovpnmioutput\n",
      "INFO:ClusterComparator:Running /opt/gct/submodules/OvpNMI/onmi /tmp/tmpnzl8vv3m/cluster1.cnl /tmp/tmpnzl8vv3m/cluster2.cnl > ovpnmioutput\n",
      "2020-04-23 00:49:48,731 - ClusterComparator - INFO - resulting 128 nodes out of 128,128\n",
      "INFO:ClusterComparator:resulting 128 nodes out of 128,128\n",
      "/opt/conda/envs/python3/lib/python3.6/site-packages/sklearn/metrics/cluster/supervised.py:859: FutureWarning: The behavior of NMI will change in version 0.22. To match the behavior of 'v_measure_score', NMI will use average_method='arithmetic' by default.\n",
      "  FutureWarning)\n",
      "2020-04-23 00:49:48,741 - ClusterComparator - INFO - Running /opt/gct/submodules/OvpNMI/onmi /tmp/tmpubqh7pzt/cluster1.cnl /tmp/tmpubqh7pzt/cluster2.cnl > ovpnmioutput\n",
      "INFO:ClusterComparator:Running /opt/gct/submodules/OvpNMI/onmi /tmp/tmpubqh7pzt/cluster1.cnl /tmp/tmpubqh7pzt/cluster2.cnl > ovpnmioutput\n",
      "2020-04-23 00:49:48,840 - ClusterComparator - INFO - resulting 128 nodes out of 128,128\n",
      "INFO:ClusterComparator:resulting 128 nodes out of 128,128\n",
      "/opt/conda/envs/python3/lib/python3.6/site-packages/sklearn/metrics/cluster/supervised.py:859: FutureWarning: The behavior of NMI will change in version 0.22. To match the behavior of 'v_measure_score', NMI will use average_method='arithmetic' by default.\n",
      "  FutureWarning)\n",
      "2020-04-23 00:49:48,847 - Clustering - INFO - reading/data/data/K_DoesAlgMirrorEdgesTest_1/gt_default.parq\n",
      "INFO:Clustering:reading/data/data/K_DoesAlgMirrorEdgesTest_1/gt_default.parq\n",
      "2020-04-23 00:49:48,852 - ClusterComparator - INFO - resulting 128 nodes out of 128,128\n",
      "INFO:ClusterComparator:resulting 128 nodes out of 128,128\n",
      "/opt/conda/envs/python3/lib/python3.6/site-packages/sklearn/metrics/cluster/supervised.py:859: FutureWarning: The behavior of NMI will change in version 0.22. To match the behavior of 'v_measure_score', NMI will use average_method='arithmetic' by default.\n",
      "  FutureWarning)\n",
      "2020-04-23 00:49:48,945 - ClusterComparator - INFO - resulting 128 nodes out of 128,128\n",
      "INFO:ClusterComparator:resulting 128 nodes out of 128,128\n",
      "/opt/conda/envs/python3/lib/python3.6/site-packages/sklearn/metrics/cluster/supervised.py:859: FutureWarning: The behavior of NMI will change in version 0.22. To match the behavior of 'v_measure_score', NMI will use average_method='arithmetic' by default.\n",
      "  FutureWarning)\n",
      "2020-04-23 00:49:49,044 - ClusterComparator - INFO - Running /opt/gct/submodules/OvpNMI/onmi /tmp/tmpjsh5zsje/cluster1.cnl /tmp/tmpjsh5zsje/cluster2.cnl > ovpnmioutput\n",
      "INFO:ClusterComparator:Running /opt/gct/submodules/OvpNMI/onmi /tmp/tmpjsh5zsje/cluster1.cnl /tmp/tmpjsh5zsje/cluster2.cnl > ovpnmioutput\n",
      "2020-04-23 00:49:49,277 - ClusterComparator - INFO - resulting 128 nodes out of 128,128\n",
      "INFO:ClusterComparator:resulting 128 nodes out of 128,128\n",
      "/opt/conda/envs/python3/lib/python3.6/site-packages/sklearn/metrics/cluster/supervised.py:859: FutureWarning: The behavior of NMI will change in version 0.22. To match the behavior of 'v_measure_score', NMI will use average_method='arithmetic' by default.\n",
      "  FutureWarning)\n",
      "2020-04-23 00:49:49,289 - ClusterComparator - INFO - Running /opt/gct/submodules/OvpNMI/onmi /tmp/tmp_2strldf/cluster1.cnl /tmp/tmp_2strldf/cluster2.cnl > ovpnmioutput\n",
      "INFO:ClusterComparator:Running /opt/gct/submodules/OvpNMI/onmi /tmp/tmp_2strldf/cluster1.cnl /tmp/tmp_2strldf/cluster2.cnl > ovpnmioutput\n",
      "2020-04-23 00:49:49,299 - Clustering - INFO - reading/data/data/K_DoesAlgMirrorEdgesTest_1/gt_default.parq\n",
      "INFO:Clustering:reading/data/data/K_DoesAlgMirrorEdgesTest_1/gt_default.parq\n",
      "2020-04-23 00:49:49,410 - ClusterComparator - INFO - resulting 128 nodes out of 128,128\n",
      "INFO:ClusterComparator:resulting 128 nodes out of 128,128\n",
      "/opt/conda/envs/python3/lib/python3.6/site-packages/sklearn/metrics/cluster/supervised.py:859: FutureWarning: The behavior of NMI will change in version 0.22. To match the behavior of 'v_measure_score', NMI will use average_method='arithmetic' by default.\n",
      "  FutureWarning)\n",
      "2020-04-23 00:49:49,419 - ClusterComparator - INFO - Running /opt/gct/submodules/OvpNMI/onmi /tmp/tmpitabgilt/cluster1.cnl /tmp/tmpitabgilt/cluster2.cnl > ovpnmioutput\n",
      "INFO:ClusterComparator:Running /opt/gct/submodules/OvpNMI/onmi /tmp/tmpitabgilt/cluster1.cnl /tmp/tmpitabgilt/cluster2.cnl > ovpnmioutput\n",
      "2020-04-23 00:49:49,537 - ClusterComparator - INFO - resulting 128 nodes out of 128,128\n",
      "INFO:ClusterComparator:resulting 128 nodes out of 128,128\n",
      "/opt/conda/envs/python3/lib/python3.6/site-packages/sklearn/metrics/cluster/supervised.py:859: FutureWarning: The behavior of NMI will change in version 0.22. To match the behavior of 'v_measure_score', NMI will use average_method='arithmetic' by default.\n",
      "  FutureWarning)\n",
      "2020-04-23 00:49:49,546 - ClusterComparator - INFO - Running /opt/gct/submodules/OvpNMI/onmi /tmp/tmp2afood3c/cluster1.cnl /tmp/tmp2afood3c/cluster2.cnl > ovpnmioutput\n",
      "INFO:ClusterComparator:Running /opt/gct/submodules/OvpNMI/onmi /tmp/tmp2afood3c/cluster1.cnl /tmp/tmp2afood3c/cluster2.cnl > ovpnmioutput\n",
      "2020-04-23 00:49:49,562 - ClusterComparator - INFO - resulting 128 nodes out of 128,128\n",
      "INFO:ClusterComparator:resulting 128 nodes out of 128,128\n",
      "/opt/conda/envs/python3/lib/python3.6/site-packages/sklearn/metrics/cluster/supervised.py:859: FutureWarning: The behavior of NMI will change in version 0.22. To match the behavior of 'v_measure_score', NMI will use average_method='arithmetic' by default.\n",
      "  FutureWarning)\n",
      "2020-04-23 00:49:49,572 - ClusterComparator - INFO - Running /opt/gct/submodules/OvpNMI/onmi /tmp/tmpvfp8xksx/cluster1.cnl /tmp/tmpvfp8xksx/cluster2.cnl > ovpnmioutput\n",
      "INFO:ClusterComparator:Running /opt/gct/submodules/OvpNMI/onmi /tmp/tmpvfp8xksx/cluster1.cnl /tmp/tmpvfp8xksx/cluster2.cnl > ovpnmioutput\n",
      "2020-04-23 00:49:49,581 - Clustering - INFO - reading/data/data/K_DoesAlgMirrorEdgesTest_1/gt_default.parq\n",
      "INFO:Clustering:reading/data/data/K_DoesAlgMirrorEdgesTest_1/gt_default.parq\n",
      "2020-04-23 00:49:49,587 - ClusterComparator - INFO - resulting 127 nodes out of 128,128\n",
      "INFO:ClusterComparator:resulting 127 nodes out of 128,128\n",
      "/opt/conda/envs/python3/lib/python3.6/site-packages/sklearn/metrics/cluster/supervised.py:859: FutureWarning: The behavior of NMI will change in version 0.22. To match the behavior of 'v_measure_score', NMI will use average_method='arithmetic' by default.\n",
      "  FutureWarning)\n",
      "2020-04-23 00:49:49,595 - ClusterComparator - INFO - Running /opt/gct/submodules/OvpNMI/onmi /tmp/tmpbe303ea3/cluster1.cnl /tmp/tmpbe303ea3/cluster2.cnl > ovpnmioutput\n",
      "INFO:ClusterComparator:Running /opt/gct/submodules/OvpNMI/onmi /tmp/tmpbe303ea3/cluster1.cnl /tmp/tmpbe303ea3/cluster2.cnl > ovpnmioutput\n",
      "2020-04-23 00:49:49,603 - ClusterComparator - ERROR - Run command with error status code 134\n",
      "ERROR:ClusterComparator:Run command with error status code 134\n"
     ]
    },
    {
     "name": "stderr",
     "output_type": "stream",
     "text": [
      "2020-04-23 00:49:49,605 - ClusterComparator - INFO - resulting 127 nodes out of 128,128\n",
      "INFO:ClusterComparator:resulting 127 nodes out of 128,128\n",
      "/opt/conda/envs/python3/lib/python3.6/site-packages/sklearn/metrics/cluster/supervised.py:859: FutureWarning: The behavior of NMI will change in version 0.22. To match the behavior of 'v_measure_score', NMI will use average_method='arithmetic' by default.\n",
      "  FutureWarning)\n",
      "2020-04-23 00:49:49,614 - ClusterComparator - INFO - Running /opt/gct/submodules/OvpNMI/onmi /tmp/tmpalya_10c/cluster1.cnl /tmp/tmpalya_10c/cluster2.cnl > ovpnmioutput\n",
      "INFO:ClusterComparator:Running /opt/gct/submodules/OvpNMI/onmi /tmp/tmpalya_10c/cluster1.cnl /tmp/tmpalya_10c/cluster2.cnl > ovpnmioutput\n",
      "2020-04-23 00:49:49,623 - ClusterComparator - ERROR - Run command with error status code 134\n",
      "ERROR:ClusterComparator:Run command with error status code 134\n",
      "2020-04-23 00:49:49,631 - ClusterComparator - INFO - resulting 128 nodes out of 128,128\n",
      "INFO:ClusterComparator:resulting 128 nodes out of 128,128\n",
      "/opt/conda/envs/python3/lib/python3.6/site-packages/sklearn/metrics/cluster/supervised.py:859: FutureWarning: The behavior of NMI will change in version 0.22. To match the behavior of 'v_measure_score', NMI will use average_method='arithmetic' by default.\n",
      "  FutureWarning)\n",
      "2020-04-23 00:49:49,640 - ClusterComparator - INFO - Running /opt/gct/submodules/OvpNMI/onmi /tmp/tmp3628o5vt/cluster1.cnl /tmp/tmp3628o5vt/cluster2.cnl > ovpnmioutput\n",
      "INFO:ClusterComparator:Running /opt/gct/submodules/OvpNMI/onmi /tmp/tmp3628o5vt/cluster1.cnl /tmp/tmp3628o5vt/cluster2.cnl > ovpnmioutput\n",
      "2020-04-23 00:49:49,649 - Clustering - INFO - reading/data/data/K_DoesAlgMirrorEdgesTest_1/gt_default.parq\n",
      "INFO:Clustering:reading/data/data/K_DoesAlgMirrorEdgesTest_1/gt_default.parq\n",
      "2020-04-23 00:49:49,656 - ClusterComparator - INFO - resulting 127 nodes out of 128,128\n",
      "INFO:ClusterComparator:resulting 127 nodes out of 128,128\n",
      "/opt/conda/envs/python3/lib/python3.6/site-packages/sklearn/metrics/cluster/supervised.py:859: FutureWarning: The behavior of NMI will change in version 0.22. To match the behavior of 'v_measure_score', NMI will use average_method='arithmetic' by default.\n",
      "  FutureWarning)\n",
      "2020-04-23 00:49:49,663 - ClusterComparator - INFO - Running /opt/gct/submodules/OvpNMI/onmi /tmp/tmpxj6qg2fn/cluster1.cnl /tmp/tmpxj6qg2fn/cluster2.cnl > ovpnmioutput\n",
      "INFO:ClusterComparator:Running /opt/gct/submodules/OvpNMI/onmi /tmp/tmpxj6qg2fn/cluster1.cnl /tmp/tmpxj6qg2fn/cluster2.cnl > ovpnmioutput\n",
      "2020-04-23 00:49:49,671 - ClusterComparator - ERROR - Run command with error status code 134\n",
      "ERROR:ClusterComparator:Run command with error status code 134\n",
      "2020-04-23 00:49:49,674 - ClusterComparator - INFO - resulting 127 nodes out of 128,128\n",
      "INFO:ClusterComparator:resulting 127 nodes out of 128,128\n",
      "/opt/conda/envs/python3/lib/python3.6/site-packages/sklearn/metrics/cluster/supervised.py:859: FutureWarning: The behavior of NMI will change in version 0.22. To match the behavior of 'v_measure_score', NMI will use average_method='arithmetic' by default.\n",
      "  FutureWarning)\n",
      "2020-04-23 00:49:49,682 - ClusterComparator - INFO - Running /opt/gct/submodules/OvpNMI/onmi /tmp/tmpbawxzdkb/cluster1.cnl /tmp/tmpbawxzdkb/cluster2.cnl > ovpnmioutput\n",
      "INFO:ClusterComparator:Running /opt/gct/submodules/OvpNMI/onmi /tmp/tmpbawxzdkb/cluster1.cnl /tmp/tmpbawxzdkb/cluster2.cnl > ovpnmioutput\n",
      "2020-04-23 00:49:49,690 - ClusterComparator - ERROR - Run command with error status code 134\n",
      "ERROR:ClusterComparator:Run command with error status code 134\n",
      "2020-04-23 00:49:49,699 - ClusterComparator - INFO - resulting 128 nodes out of 128,128\n",
      "INFO:ClusterComparator:resulting 128 nodes out of 128,128\n",
      "/opt/conda/envs/python3/lib/python3.6/site-packages/sklearn/metrics/cluster/supervised.py:859: FutureWarning: The behavior of NMI will change in version 0.22. To match the behavior of 'v_measure_score', NMI will use average_method='arithmetic' by default.\n",
      "  FutureWarning)\n",
      "2020-04-23 00:49:49,708 - ClusterComparator - INFO - Running /opt/gct/submodules/OvpNMI/onmi /tmp/tmptylrz241/cluster1.cnl /tmp/tmptylrz241/cluster2.cnl > ovpnmioutput\n",
      "INFO:ClusterComparator:Running /opt/gct/submodules/OvpNMI/onmi /tmp/tmptylrz241/cluster1.cnl /tmp/tmptylrz241/cluster2.cnl > ovpnmioutput\n",
      "2020-04-23 00:49:49,717 - Clustering - INFO - reading/data/data/K_DoesAlgMirrorEdgesTest_1/gt_default.parq\n",
      "INFO:Clustering:reading/data/data/K_DoesAlgMirrorEdgesTest_1/gt_default.parq\n",
      "2020-04-23 00:49:49,723 - ClusterComparator - INFO - resulting 127 nodes out of 128,128\n",
      "INFO:ClusterComparator:resulting 127 nodes out of 128,128\n",
      "/opt/conda/envs/python3/lib/python3.6/site-packages/sklearn/metrics/cluster/supervised.py:859: FutureWarning: The behavior of NMI will change in version 0.22. To match the behavior of 'v_measure_score', NMI will use average_method='arithmetic' by default.\n",
      "  FutureWarning)\n",
      "2020-04-23 00:49:49,731 - ClusterComparator - INFO - Running /opt/gct/submodules/OvpNMI/onmi /tmp/tmp5dko1l8e/cluster1.cnl /tmp/tmp5dko1l8e/cluster2.cnl > ovpnmioutput\n",
      "INFO:ClusterComparator:Running /opt/gct/submodules/OvpNMI/onmi /tmp/tmp5dko1l8e/cluster1.cnl /tmp/tmp5dko1l8e/cluster2.cnl > ovpnmioutput\n",
      "2020-04-23 00:49:49,739 - ClusterComparator - ERROR - Run command with error status code 134\n",
      "ERROR:ClusterComparator:Run command with error status code 134\n",
      "2020-04-23 00:49:49,741 - ClusterComparator - INFO - resulting 127 nodes out of 128,128\n",
      "INFO:ClusterComparator:resulting 127 nodes out of 128,128\n",
      "/opt/conda/envs/python3/lib/python3.6/site-packages/sklearn/metrics/cluster/supervised.py:859: FutureWarning: The behavior of NMI will change in version 0.22. To match the behavior of 'v_measure_score', NMI will use average_method='arithmetic' by default.\n",
      "  FutureWarning)\n",
      "2020-04-23 00:49:49,750 - ClusterComparator - INFO - Running /opt/gct/submodules/OvpNMI/onmi /tmp/tmp5ytsydyr/cluster1.cnl /tmp/tmp5ytsydyr/cluster2.cnl > ovpnmioutput\n",
      "INFO:ClusterComparator:Running /opt/gct/submodules/OvpNMI/onmi /tmp/tmp5ytsydyr/cluster1.cnl /tmp/tmp5ytsydyr/cluster2.cnl > ovpnmioutput\n",
      "2020-04-23 00:49:49,758 - ClusterComparator - ERROR - Run command with error status code 134\n",
      "ERROR:ClusterComparator:Run command with error status code 134\n",
      "2020-04-23 00:49:49,918 - ClusterComparator - INFO - resulting 101 nodes out of 101,101\n",
      "INFO:ClusterComparator:resulting 101 nodes out of 101,101\n",
      "/opt/conda/envs/python3/lib/python3.6/site-packages/sklearn/metrics/cluster/supervised.py:859: FutureWarning: The behavior of NMI will change in version 0.22. To match the behavior of 'v_measure_score', NMI will use average_method='arithmetic' by default.\n",
      "  FutureWarning)\n",
      "2020-04-23 00:49:49,929 - ClusterComparator - INFO - Running /opt/gct/submodules/OvpNMI/onmi /tmp/tmpzodmvhn0/cluster1.cnl /tmp/tmpzodmvhn0/cluster2.cnl > ovpnmioutput\n",
      "INFO:ClusterComparator:Running /opt/gct/submodules/OvpNMI/onmi /tmp/tmpzodmvhn0/cluster1.cnl /tmp/tmpzodmvhn0/cluster2.cnl > ovpnmioutput\n",
      "2020-04-23 00:49:49,938 - Clustering - INFO - reading/data/data/K_DoesAlgMirrorEdgesTest_1/gt_default.parq\n",
      "INFO:Clustering:reading/data/data/K_DoesAlgMirrorEdgesTest_1/gt_default.parq\n",
      "2020-04-23 00:49:50,021 - ClusterComparator - INFO - resulting 101 nodes out of 128,101\n",
      "INFO:ClusterComparator:resulting 101 nodes out of 128,101\n",
      "/opt/conda/envs/python3/lib/python3.6/site-packages/sklearn/metrics/cluster/supervised.py:859: FutureWarning: The behavior of NMI will change in version 0.22. To match the behavior of 'v_measure_score', NMI will use average_method='arithmetic' by default.\n",
      "  FutureWarning)\n",
      "2020-04-23 00:49:50,029 - ClusterComparator - INFO - Running /opt/gct/submodules/OvpNMI/onmi /tmp/tmp4n20qugz/cluster1.cnl /tmp/tmp4n20qugz/cluster2.cnl > ovpnmioutput\n",
      "INFO:ClusterComparator:Running /opt/gct/submodules/OvpNMI/onmi /tmp/tmp4n20qugz/cluster1.cnl /tmp/tmp4n20qugz/cluster2.cnl > ovpnmioutput\n",
      "2020-04-23 00:49:50,039 - ClusterComparator - ERROR - Run command with error status code 134\n",
      "ERROR:ClusterComparator:Run command with error status code 134\n",
      "2020-04-23 00:49:50,114 - ClusterComparator - INFO - resulting 101 nodes out of 128,101\n",
      "INFO:ClusterComparator:resulting 101 nodes out of 128,101\n",
      "/opt/conda/envs/python3/lib/python3.6/site-packages/sklearn/metrics/cluster/supervised.py:859: FutureWarning: The behavior of NMI will change in version 0.22. To match the behavior of 'v_measure_score', NMI will use average_method='arithmetic' by default.\n",
      "  FutureWarning)\n"
     ]
    },
    {
     "name": "stderr",
     "output_type": "stream",
     "text": [
      "2020-04-23 00:49:50,122 - ClusterComparator - INFO - Running /opt/gct/submodules/OvpNMI/onmi /tmp/tmplxscqg97/cluster1.cnl /tmp/tmplxscqg97/cluster2.cnl > ovpnmioutput\n",
      "INFO:ClusterComparator:Running /opt/gct/submodules/OvpNMI/onmi /tmp/tmplxscqg97/cluster1.cnl /tmp/tmplxscqg97/cluster2.cnl > ovpnmioutput\n",
      "2020-04-23 00:49:50,132 - ClusterComparator - ERROR - Run command with error status code 134\n",
      "ERROR:ClusterComparator:Run command with error status code 134\n",
      "2020-04-23 00:49:50,140 - ClusterComparator - INFO - resulting 128 nodes out of 128,128\n",
      "INFO:ClusterComparator:resulting 128 nodes out of 128,128\n",
      "/opt/conda/envs/python3/lib/python3.6/site-packages/sklearn/metrics/cluster/supervised.py:859: FutureWarning: The behavior of NMI will change in version 0.22. To match the behavior of 'v_measure_score', NMI will use average_method='arithmetic' by default.\n",
      "  FutureWarning)\n",
      "2020-04-23 00:49:50,150 - ClusterComparator - INFO - Running /opt/gct/submodules/OvpNMI/onmi /tmp/tmplfev40b5/cluster1.cnl /tmp/tmplfev40b5/cluster2.cnl > ovpnmioutput\n",
      "INFO:ClusterComparator:Running /opt/gct/submodules/OvpNMI/onmi /tmp/tmplfev40b5/cluster1.cnl /tmp/tmplfev40b5/cluster2.cnl > ovpnmioutput\n",
      "2020-04-23 00:49:50,159 - Clustering - INFO - reading/data/data/K_DoesAlgMirrorEdgesTest_1/gt_default.parq\n",
      "INFO:Clustering:reading/data/data/K_DoesAlgMirrorEdgesTest_1/gt_default.parq\n",
      "2020-04-23 00:49:50,165 - ClusterComparator - INFO - resulting 127 nodes out of 128,128\n",
      "INFO:ClusterComparator:resulting 127 nodes out of 128,128\n",
      "/opt/conda/envs/python3/lib/python3.6/site-packages/sklearn/metrics/cluster/supervised.py:859: FutureWarning: The behavior of NMI will change in version 0.22. To match the behavior of 'v_measure_score', NMI will use average_method='arithmetic' by default.\n",
      "  FutureWarning)\n",
      "2020-04-23 00:49:50,173 - ClusterComparator - INFO - Running /opt/gct/submodules/OvpNMI/onmi /tmp/tmp2ij6f7jg/cluster1.cnl /tmp/tmp2ij6f7jg/cluster2.cnl > ovpnmioutput\n",
      "INFO:ClusterComparator:Running /opt/gct/submodules/OvpNMI/onmi /tmp/tmp2ij6f7jg/cluster1.cnl /tmp/tmp2ij6f7jg/cluster2.cnl > ovpnmioutput\n",
      "2020-04-23 00:49:50,181 - ClusterComparator - ERROR - Run command with error status code 134\n",
      "ERROR:ClusterComparator:Run command with error status code 134\n",
      "2020-04-23 00:49:50,184 - ClusterComparator - INFO - resulting 127 nodes out of 128,128\n",
      "INFO:ClusterComparator:resulting 127 nodes out of 128,128\n",
      "/opt/conda/envs/python3/lib/python3.6/site-packages/sklearn/metrics/cluster/supervised.py:859: FutureWarning: The behavior of NMI will change in version 0.22. To match the behavior of 'v_measure_score', NMI will use average_method='arithmetic' by default.\n",
      "  FutureWarning)\n",
      "2020-04-23 00:49:50,192 - ClusterComparator - INFO - Running /opt/gct/submodules/OvpNMI/onmi /tmp/tmpcpstuqmp/cluster1.cnl /tmp/tmpcpstuqmp/cluster2.cnl > ovpnmioutput\n",
      "INFO:ClusterComparator:Running /opt/gct/submodules/OvpNMI/onmi /tmp/tmpcpstuqmp/cluster1.cnl /tmp/tmpcpstuqmp/cluster2.cnl > ovpnmioutput\n",
      "2020-04-23 00:49:50,200 - ClusterComparator - ERROR - Run command with error status code 134\n",
      "ERROR:ClusterComparator:Run command with error status code 134\n",
      "2020-04-23 00:49:50,209 - ClusterComparator - INFO - resulting 128 nodes out of 128,128\n",
      "INFO:ClusterComparator:resulting 128 nodes out of 128,128\n",
      "/opt/conda/envs/python3/lib/python3.6/site-packages/sklearn/metrics/cluster/supervised.py:859: FutureWarning: The behavior of NMI will change in version 0.22. To match the behavior of 'v_measure_score', NMI will use average_method='arithmetic' by default.\n",
      "  FutureWarning)\n",
      "2020-04-23 00:49:50,219 - ClusterComparator - INFO - Running /opt/gct/submodules/OvpNMI/onmi /tmp/tmpwra7_67t/cluster1.cnl /tmp/tmpwra7_67t/cluster2.cnl > ovpnmioutput\n",
      "INFO:ClusterComparator:Running /opt/gct/submodules/OvpNMI/onmi /tmp/tmpwra7_67t/cluster1.cnl /tmp/tmpwra7_67t/cluster2.cnl > ovpnmioutput\n",
      "2020-04-23 00:49:50,228 - Clustering - INFO - reading/data/data/K_DoesAlgMirrorEdgesTest_1/gt_default.parq\n",
      "INFO:Clustering:reading/data/data/K_DoesAlgMirrorEdgesTest_1/gt_default.parq\n",
      "2020-04-23 00:49:50,235 - ClusterComparator - INFO - resulting 127 nodes out of 128,128\n",
      "INFO:ClusterComparator:resulting 127 nodes out of 128,128\n",
      "/opt/conda/envs/python3/lib/python3.6/site-packages/sklearn/metrics/cluster/supervised.py:859: FutureWarning: The behavior of NMI will change in version 0.22. To match the behavior of 'v_measure_score', NMI will use average_method='arithmetic' by default.\n",
      "  FutureWarning)\n",
      "2020-04-23 00:49:50,243 - ClusterComparator - INFO - Running /opt/gct/submodules/OvpNMI/onmi /tmp/tmpml8lgbka/cluster1.cnl /tmp/tmpml8lgbka/cluster2.cnl > ovpnmioutput\n",
      "INFO:ClusterComparator:Running /opt/gct/submodules/OvpNMI/onmi /tmp/tmpml8lgbka/cluster1.cnl /tmp/tmpml8lgbka/cluster2.cnl > ovpnmioutput\n",
      "2020-04-23 00:49:50,251 - ClusterComparator - ERROR - Run command with error status code 134\n",
      "ERROR:ClusterComparator:Run command with error status code 134\n",
      "2020-04-23 00:49:50,254 - ClusterComparator - INFO - resulting 127 nodes out of 128,128\n",
      "INFO:ClusterComparator:resulting 127 nodes out of 128,128\n",
      "/opt/conda/envs/python3/lib/python3.6/site-packages/sklearn/metrics/cluster/supervised.py:859: FutureWarning: The behavior of NMI will change in version 0.22. To match the behavior of 'v_measure_score', NMI will use average_method='arithmetic' by default.\n",
      "  FutureWarning)\n",
      "2020-04-23 00:49:50,263 - ClusterComparator - INFO - Running /opt/gct/submodules/OvpNMI/onmi /tmp/tmpp_plu2uz/cluster1.cnl /tmp/tmpp_plu2uz/cluster2.cnl > ovpnmioutput\n",
      "INFO:ClusterComparator:Running /opt/gct/submodules/OvpNMI/onmi /tmp/tmpp_plu2uz/cluster1.cnl /tmp/tmpp_plu2uz/cluster2.cnl > ovpnmioutput\n",
      "2020-04-23 00:49:50,271 - ClusterComparator - ERROR - Run command with error status code 134\n",
      "ERROR:ClusterComparator:Run command with error status code 134\n",
      "2020-04-23 00:49:50,279 - ClusterComparator - INFO - resulting 128 nodes out of 128,128\n",
      "INFO:ClusterComparator:resulting 128 nodes out of 128,128\n",
      "/opt/conda/envs/python3/lib/python3.6/site-packages/sklearn/metrics/cluster/supervised.py:859: FutureWarning: The behavior of NMI will change in version 0.22. To match the behavior of 'v_measure_score', NMI will use average_method='arithmetic' by default.\n",
      "  FutureWarning)\n",
      "2020-04-23 00:49:50,289 - ClusterComparator - INFO - Running /opt/gct/submodules/OvpNMI/onmi /tmp/tmp6o79hb_i/cluster1.cnl /tmp/tmp6o79hb_i/cluster2.cnl > ovpnmioutput\n",
      "INFO:ClusterComparator:Running /opt/gct/submodules/OvpNMI/onmi /tmp/tmp6o79hb_i/cluster1.cnl /tmp/tmp6o79hb_i/cluster2.cnl > ovpnmioutput\n",
      "2020-04-23 00:49:50,297 - Clustering - INFO - reading/data/data/K_DoesAlgMirrorEdgesTest_1/gt_default.parq\n",
      "INFO:Clustering:reading/data/data/K_DoesAlgMirrorEdgesTest_1/gt_default.parq\n",
      "2020-04-23 00:49:50,304 - ClusterComparator - INFO - resulting 127 nodes out of 128,128\n",
      "INFO:ClusterComparator:resulting 127 nodes out of 128,128\n",
      "/opt/conda/envs/python3/lib/python3.6/site-packages/sklearn/metrics/cluster/supervised.py:859: FutureWarning: The behavior of NMI will change in version 0.22. To match the behavior of 'v_measure_score', NMI will use average_method='arithmetic' by default.\n",
      "  FutureWarning)\n",
      "2020-04-23 00:49:50,311 - ClusterComparator - INFO - Running /opt/gct/submodules/OvpNMI/onmi /tmp/tmplaqgg1za/cluster1.cnl /tmp/tmplaqgg1za/cluster2.cnl > ovpnmioutput\n",
      "INFO:ClusterComparator:Running /opt/gct/submodules/OvpNMI/onmi /tmp/tmplaqgg1za/cluster1.cnl /tmp/tmplaqgg1za/cluster2.cnl > ovpnmioutput\n",
      "2020-04-23 00:49:50,319 - ClusterComparator - ERROR - Run command with error status code 134\n",
      "ERROR:ClusterComparator:Run command with error status code 134\n",
      "2020-04-23 00:49:50,321 - ClusterComparator - INFO - resulting 127 nodes out of 128,128\n",
      "INFO:ClusterComparator:resulting 127 nodes out of 128,128\n",
      "/opt/conda/envs/python3/lib/python3.6/site-packages/sklearn/metrics/cluster/supervised.py:859: FutureWarning: The behavior of NMI will change in version 0.22. To match the behavior of 'v_measure_score', NMI will use average_method='arithmetic' by default.\n",
      "  FutureWarning)\n",
      "2020-04-23 00:49:50,330 - ClusterComparator - INFO - Running /opt/gct/submodules/OvpNMI/onmi /tmp/tmpuhur99z8/cluster1.cnl /tmp/tmpuhur99z8/cluster2.cnl > ovpnmioutput\n",
      "INFO:ClusterComparator:Running /opt/gct/submodules/OvpNMI/onmi /tmp/tmpuhur99z8/cluster1.cnl /tmp/tmpuhur99z8/cluster2.cnl > ovpnmioutput\n"
     ]
    },
    {
     "name": "stderr",
     "output_type": "stream",
     "text": [
      "2020-04-23 00:49:50,338 - ClusterComparator - ERROR - Run command with error status code 134\n",
      "ERROR:ClusterComparator:Run command with error status code 134\n",
      "2020-04-23 00:49:50,346 - ClusterComparator - INFO - resulting 128 nodes out of 128,128\n",
      "INFO:ClusterComparator:resulting 128 nodes out of 128,128\n",
      "/opt/conda/envs/python3/lib/python3.6/site-packages/sklearn/metrics/cluster/supervised.py:859: FutureWarning: The behavior of NMI will change in version 0.22. To match the behavior of 'v_measure_score', NMI will use average_method='arithmetic' by default.\n",
      "  FutureWarning)\n",
      "2020-04-23 00:49:50,356 - ClusterComparator - INFO - Running /opt/gct/submodules/OvpNMI/onmi /tmp/tmp68s6pri2/cluster1.cnl /tmp/tmp68s6pri2/cluster2.cnl > ovpnmioutput\n",
      "INFO:ClusterComparator:Running /opt/gct/submodules/OvpNMI/onmi /tmp/tmp68s6pri2/cluster1.cnl /tmp/tmp68s6pri2/cluster2.cnl > ovpnmioutput\n",
      "2020-04-23 00:49:50,365 - Clustering - INFO - reading/data/data/K_DoesAlgMirrorEdgesTest_1/gt_default.parq\n",
      "INFO:Clustering:reading/data/data/K_DoesAlgMirrorEdgesTest_1/gt_default.parq\n",
      "2020-04-23 00:49:50,371 - ClusterComparator - INFO - resulting 127 nodes out of 128,128\n",
      "INFO:ClusterComparator:resulting 127 nodes out of 128,128\n",
      "/opt/conda/envs/python3/lib/python3.6/site-packages/sklearn/metrics/cluster/supervised.py:859: FutureWarning: The behavior of NMI will change in version 0.22. To match the behavior of 'v_measure_score', NMI will use average_method='arithmetic' by default.\n",
      "  FutureWarning)\n",
      "2020-04-23 00:49:50,379 - ClusterComparator - INFO - Running /opt/gct/submodules/OvpNMI/onmi /tmp/tmpz_wunur6/cluster1.cnl /tmp/tmpz_wunur6/cluster2.cnl > ovpnmioutput\n",
      "INFO:ClusterComparator:Running /opt/gct/submodules/OvpNMI/onmi /tmp/tmpz_wunur6/cluster1.cnl /tmp/tmpz_wunur6/cluster2.cnl > ovpnmioutput\n",
      "2020-04-23 00:49:50,387 - ClusterComparator - ERROR - Run command with error status code 134\n",
      "ERROR:ClusterComparator:Run command with error status code 134\n",
      "2020-04-23 00:49:50,389 - ClusterComparator - INFO - resulting 127 nodes out of 128,128\n",
      "INFO:ClusterComparator:resulting 127 nodes out of 128,128\n",
      "/opt/conda/envs/python3/lib/python3.6/site-packages/sklearn/metrics/cluster/supervised.py:859: FutureWarning: The behavior of NMI will change in version 0.22. To match the behavior of 'v_measure_score', NMI will use average_method='arithmetic' by default.\n",
      "  FutureWarning)\n",
      "2020-04-23 00:49:50,397 - ClusterComparator - INFO - Running /opt/gct/submodules/OvpNMI/onmi /tmp/tmpg_sf4u5a/cluster1.cnl /tmp/tmpg_sf4u5a/cluster2.cnl > ovpnmioutput\n",
      "INFO:ClusterComparator:Running /opt/gct/submodules/OvpNMI/onmi /tmp/tmpg_sf4u5a/cluster1.cnl /tmp/tmpg_sf4u5a/cluster2.cnl > ovpnmioutput\n",
      "2020-04-23 00:49:50,406 - ClusterComparator - ERROR - Run command with error status code 134\n",
      "ERROR:ClusterComparator:Run command with error status code 134\n",
      "2020-04-23 00:49:50,601 - ClusterComparator - INFO - resulting 128 nodes out of 128,128\n",
      "INFO:ClusterComparator:resulting 128 nodes out of 128,128\n",
      "/opt/conda/envs/python3/lib/python3.6/site-packages/sklearn/metrics/cluster/supervised.py:859: FutureWarning: The behavior of NMI will change in version 0.22. To match the behavior of 'v_measure_score', NMI will use average_method='arithmetic' by default.\n",
      "  FutureWarning)\n",
      "2020-04-23 00:49:50,611 - ClusterComparator - INFO - Running /opt/gct/submodules/OvpNMI/onmi /tmp/tmp6mjyokfd/cluster1.cnl /tmp/tmp6mjyokfd/cluster2.cnl > ovpnmioutput\n",
      "INFO:ClusterComparator:Running /opt/gct/submodules/OvpNMI/onmi /tmp/tmp6mjyokfd/cluster1.cnl /tmp/tmp6mjyokfd/cluster2.cnl > ovpnmioutput\n",
      "2020-04-23 00:49:50,621 - Clustering - INFO - reading/data/data/K_DoesAlgMirrorEdgesTest_1/gt_default.parq\n",
      "INFO:Clustering:reading/data/data/K_DoesAlgMirrorEdgesTest_1/gt_default.parq\n",
      "2020-04-23 00:49:50,716 - ClusterComparator - INFO - resulting 128 nodes out of 128,128\n",
      "INFO:ClusterComparator:resulting 128 nodes out of 128,128\n",
      "/opt/conda/envs/python3/lib/python3.6/site-packages/sklearn/metrics/cluster/supervised.py:859: FutureWarning: The behavior of NMI will change in version 0.22. To match the behavior of 'v_measure_score', NMI will use average_method='arithmetic' by default.\n",
      "  FutureWarning)\n",
      "2020-04-23 00:49:50,724 - ClusterComparator - INFO - Running /opt/gct/submodules/OvpNMI/onmi /tmp/tmp6lgaywoc/cluster1.cnl /tmp/tmp6lgaywoc/cluster2.cnl > ovpnmioutput\n",
      "INFO:ClusterComparator:Running /opt/gct/submodules/OvpNMI/onmi /tmp/tmp6lgaywoc/cluster1.cnl /tmp/tmp6lgaywoc/cluster2.cnl > ovpnmioutput\n",
      "2020-04-23 00:49:50,825 - ClusterComparator - INFO - resulting 128 nodes out of 128,128\n",
      "INFO:ClusterComparator:resulting 128 nodes out of 128,128\n",
      "/opt/conda/envs/python3/lib/python3.6/site-packages/sklearn/metrics/cluster/supervised.py:859: FutureWarning: The behavior of NMI will change in version 0.22. To match the behavior of 'v_measure_score', NMI will use average_method='arithmetic' by default.\n",
      "  FutureWarning)\n",
      "2020-04-23 00:49:50,833 - ClusterComparator - INFO - Running /opt/gct/submodules/OvpNMI/onmi /tmp/tmpb2wfephc/cluster1.cnl /tmp/tmpb2wfephc/cluster2.cnl > ovpnmioutput\n",
      "INFO:ClusterComparator:Running /opt/gct/submodules/OvpNMI/onmi /tmp/tmpb2wfephc/cluster1.cnl /tmp/tmpb2wfephc/cluster2.cnl > ovpnmioutput\n",
      "2020-04-23 00:49:51,044 - ClusterComparator - INFO - resulting 124 nodes out of 124,124\n",
      "INFO:ClusterComparator:resulting 124 nodes out of 124,124\n",
      "/opt/conda/envs/python3/lib/python3.6/site-packages/sklearn/metrics/cluster/supervised.py:859: FutureWarning: The behavior of NMI will change in version 0.22. To match the behavior of 'v_measure_score', NMI will use average_method='arithmetic' by default.\n",
      "  FutureWarning)\n",
      "2020-04-23 00:49:51,056 - ClusterComparator - INFO - Running /opt/gct/submodules/OvpNMI/onmi /tmp/tmpid2_f2ej/cluster1.cnl /tmp/tmpid2_f2ej/cluster2.cnl > ovpnmioutput\n",
      "INFO:ClusterComparator:Running /opt/gct/submodules/OvpNMI/onmi /tmp/tmpid2_f2ej/cluster1.cnl /tmp/tmpid2_f2ej/cluster2.cnl > ovpnmioutput\n",
      "2020-04-23 00:49:51,066 - Clustering - INFO - reading/data/data/K_DoesAlgMirrorEdgesTest_1/gt_default.parq\n",
      "INFO:Clustering:reading/data/data/K_DoesAlgMirrorEdgesTest_1/gt_default.parq\n",
      "2020-04-23 00:49:51,170 - ClusterComparator - INFO - resulting 124 nodes out of 128,124\n",
      "INFO:ClusterComparator:resulting 124 nodes out of 128,124\n",
      "/opt/conda/envs/python3/lib/python3.6/site-packages/sklearn/metrics/cluster/supervised.py:859: FutureWarning: The behavior of NMI will change in version 0.22. To match the behavior of 'v_measure_score', NMI will use average_method='arithmetic' by default.\n",
      "  FutureWarning)\n",
      "2020-04-23 00:49:51,178 - ClusterComparator - INFO - Running /opt/gct/submodules/OvpNMI/onmi /tmp/tmp_uh0ht4k/cluster1.cnl /tmp/tmp_uh0ht4k/cluster2.cnl > ovpnmioutput\n",
      "INFO:ClusterComparator:Running /opt/gct/submodules/OvpNMI/onmi /tmp/tmp_uh0ht4k/cluster1.cnl /tmp/tmp_uh0ht4k/cluster2.cnl > ovpnmioutput\n",
      "2020-04-23 00:49:51,289 - ClusterComparator - INFO - resulting 124 nodes out of 128,124\n",
      "INFO:ClusterComparator:resulting 124 nodes out of 128,124\n",
      "/opt/conda/envs/python3/lib/python3.6/site-packages/sklearn/metrics/cluster/supervised.py:859: FutureWarning: The behavior of NMI will change in version 0.22. To match the behavior of 'v_measure_score', NMI will use average_method='arithmetic' by default.\n",
      "  FutureWarning)\n",
      "2020-04-23 00:49:51,298 - ClusterComparator - INFO - Running /opt/gct/submodules/OvpNMI/onmi /tmp/tmphe0_xe78/cluster1.cnl /tmp/tmphe0_xe78/cluster2.cnl > ovpnmioutput\n",
      "INFO:ClusterComparator:Running /opt/gct/submodules/OvpNMI/onmi /tmp/tmphe0_xe78/cluster1.cnl /tmp/tmphe0_xe78/cluster2.cnl > ovpnmioutput\n",
      "2020-04-23 00:49:51,448 - ClusterComparator - INFO - resulting 58 nodes out of 81,81\n",
      "INFO:ClusterComparator:resulting 58 nodes out of 81,81\n",
      "/opt/conda/envs/python3/lib/python3.6/site-packages/sklearn/metrics/cluster/supervised.py:859: FutureWarning: The behavior of NMI will change in version 0.22. To match the behavior of 'v_measure_score', NMI will use average_method='arithmetic' by default.\n",
      "  FutureWarning)\n",
      "2020-04-23 00:49:51,460 - ClusterComparator - INFO - Running /opt/gct/submodules/OvpNMI/onmi /tmp/tmpf23p2vwt/cluster1.cnl /tmp/tmpf23p2vwt/cluster2.cnl > ovpnmioutput\n",
      "INFO:ClusterComparator:Running /opt/gct/submodules/OvpNMI/onmi /tmp/tmpf23p2vwt/cluster1.cnl /tmp/tmpf23p2vwt/cluster2.cnl > ovpnmioutput\n"
     ]
    },
    {
     "name": "stderr",
     "output_type": "stream",
     "text": [
      "2020-04-23 00:49:51,470 - Clustering - INFO - reading/data/data/K_DoesAlgMirrorEdgesTest_1/gt_default.parq\n",
      "INFO:Clustering:reading/data/data/K_DoesAlgMirrorEdgesTest_1/gt_default.parq\n",
      "2020-04-23 00:49:51,548 - ClusterComparator - INFO - resulting 81 nodes out of 128,81\n",
      "INFO:ClusterComparator:resulting 81 nodes out of 128,81\n",
      "/opt/conda/envs/python3/lib/python3.6/site-packages/sklearn/metrics/cluster/supervised.py:859: FutureWarning: The behavior of NMI will change in version 0.22. To match the behavior of 'v_measure_score', NMI will use average_method='arithmetic' by default.\n",
      "  FutureWarning)\n",
      "2020-04-23 00:49:51,558 - ClusterComparator - INFO - Running /opt/gct/submodules/OvpNMI/onmi /tmp/tmp7d3yzc2x/cluster1.cnl /tmp/tmp7d3yzc2x/cluster2.cnl > ovpnmioutput\n",
      "INFO:ClusterComparator:Running /opt/gct/submodules/OvpNMI/onmi /tmp/tmp7d3yzc2x/cluster1.cnl /tmp/tmp7d3yzc2x/cluster2.cnl > ovpnmioutput\n",
      "2020-04-23 00:49:51,638 - ClusterComparator - INFO - resulting 81 nodes out of 128,81\n",
      "INFO:ClusterComparator:resulting 81 nodes out of 128,81\n",
      "/opt/conda/envs/python3/lib/python3.6/site-packages/sklearn/metrics/cluster/supervised.py:859: FutureWarning: The behavior of NMI will change in version 0.22. To match the behavior of 'v_measure_score', NMI will use average_method='arithmetic' by default.\n",
      "  FutureWarning)\n",
      "2020-04-23 00:49:51,648 - ClusterComparator - INFO - Running /opt/gct/submodules/OvpNMI/onmi /tmp/tmpj3p90m1o/cluster1.cnl /tmp/tmpj3p90m1o/cluster2.cnl > ovpnmioutput\n",
      "INFO:ClusterComparator:Running /opt/gct/submodules/OvpNMI/onmi /tmp/tmpj3p90m1o/cluster1.cnl /tmp/tmpj3p90m1o/cluster2.cnl > ovpnmioutput\n",
      "2020-04-23 00:49:51,665 - ClusterComparator - INFO - resulting 128 nodes out of 128,128\n",
      "INFO:ClusterComparator:resulting 128 nodes out of 128,128\n",
      "/opt/conda/envs/python3/lib/python3.6/site-packages/sklearn/metrics/cluster/supervised.py:859: FutureWarning: The behavior of NMI will change in version 0.22. To match the behavior of 'v_measure_score', NMI will use average_method='arithmetic' by default.\n",
      "  FutureWarning)\n",
      "2020-04-23 00:49:51,677 - ClusterComparator - INFO - Running /opt/gct/submodules/OvpNMI/onmi /tmp/tmpxaezp9q8/cluster1.cnl /tmp/tmpxaezp9q8/cluster2.cnl > ovpnmioutput\n",
      "INFO:ClusterComparator:Running /opt/gct/submodules/OvpNMI/onmi /tmp/tmpxaezp9q8/cluster1.cnl /tmp/tmpxaezp9q8/cluster2.cnl > ovpnmioutput\n",
      "2020-04-23 00:49:51,687 - Clustering - INFO - reading/data/data/K_DoesAlgMirrorEdgesTest_1/gt_default.parq\n",
      "INFO:Clustering:reading/data/data/K_DoesAlgMirrorEdgesTest_1/gt_default.parq\n",
      "2020-04-23 00:49:51,694 - ClusterComparator - INFO - resulting 128 nodes out of 128,128\n",
      "INFO:ClusterComparator:resulting 128 nodes out of 128,128\n",
      "/opt/conda/envs/python3/lib/python3.6/site-packages/sklearn/metrics/cluster/supervised.py:859: FutureWarning: The behavior of NMI will change in version 0.22. To match the behavior of 'v_measure_score', NMI will use average_method='arithmetic' by default.\n",
      "  FutureWarning)\n",
      "2020-04-23 00:49:51,703 - ClusterComparator - INFO - Running /opt/gct/submodules/OvpNMI/onmi /tmp/tmp4zj6wxq7/cluster1.cnl /tmp/tmp4zj6wxq7/cluster2.cnl > ovpnmioutput\n",
      "INFO:ClusterComparator:Running /opt/gct/submodules/OvpNMI/onmi /tmp/tmp4zj6wxq7/cluster1.cnl /tmp/tmp4zj6wxq7/cluster2.cnl > ovpnmioutput\n",
      "2020-04-23 00:49:51,713 - ClusterComparator - INFO - resulting 128 nodes out of 128,128\n",
      "INFO:ClusterComparator:resulting 128 nodes out of 128,128\n",
      "/opt/conda/envs/python3/lib/python3.6/site-packages/sklearn/metrics/cluster/supervised.py:859: FutureWarning: The behavior of NMI will change in version 0.22. To match the behavior of 'v_measure_score', NMI will use average_method='arithmetic' by default.\n",
      "  FutureWarning)\n",
      "2020-04-23 00:49:51,723 - ClusterComparator - INFO - Running /opt/gct/submodules/OvpNMI/onmi /tmp/tmprzgs42lb/cluster1.cnl /tmp/tmprzgs42lb/cluster2.cnl > ovpnmioutput\n",
      "INFO:ClusterComparator:Running /opt/gct/submodules/OvpNMI/onmi /tmp/tmprzgs42lb/cluster1.cnl /tmp/tmprzgs42lb/cluster2.cnl > ovpnmioutput\n",
      "2020-04-23 00:49:51,738 - ClusterComparator - INFO - resulting 128 nodes out of 128,128\n",
      "INFO:ClusterComparator:resulting 128 nodes out of 128,128\n",
      "/opt/conda/envs/python3/lib/python3.6/site-packages/sklearn/metrics/cluster/supervised.py:859: FutureWarning: The behavior of NMI will change in version 0.22. To match the behavior of 'v_measure_score', NMI will use average_method='arithmetic' by default.\n",
      "  FutureWarning)\n",
      "2020-04-23 00:49:51,749 - ClusterComparator - INFO - Running /opt/gct/submodules/OvpNMI/onmi /tmp/tmpg3huq6sc/cluster1.cnl /tmp/tmpg3huq6sc/cluster2.cnl > ovpnmioutput\n",
      "INFO:ClusterComparator:Running /opt/gct/submodules/OvpNMI/onmi /tmp/tmpg3huq6sc/cluster1.cnl /tmp/tmpg3huq6sc/cluster2.cnl > ovpnmioutput\n",
      "2020-04-23 00:49:51,759 - Clustering - INFO - reading/data/data/K_DoesAlgMirrorEdgesTest_1/gt_default.parq\n",
      "INFO:Clustering:reading/data/data/K_DoesAlgMirrorEdgesTest_1/gt_default.parq\n",
      "2020-04-23 00:49:51,766 - ClusterComparator - INFO - resulting 128 nodes out of 128,128\n",
      "INFO:ClusterComparator:resulting 128 nodes out of 128,128\n",
      "/opt/conda/envs/python3/lib/python3.6/site-packages/sklearn/metrics/cluster/supervised.py:859: FutureWarning: The behavior of NMI will change in version 0.22. To match the behavior of 'v_measure_score', NMI will use average_method='arithmetic' by default.\n",
      "  FutureWarning)\n",
      "2020-04-23 00:49:51,774 - ClusterComparator - INFO - Running /opt/gct/submodules/OvpNMI/onmi /tmp/tmptr8t88g9/cluster1.cnl /tmp/tmptr8t88g9/cluster2.cnl > ovpnmioutput\n",
      "INFO:ClusterComparator:Running /opt/gct/submodules/OvpNMI/onmi /tmp/tmptr8t88g9/cluster1.cnl /tmp/tmptr8t88g9/cluster2.cnl > ovpnmioutput\n",
      "2020-04-23 00:49:51,783 - ClusterComparator - INFO - resulting 128 nodes out of 128,128\n",
      "INFO:ClusterComparator:resulting 128 nodes out of 128,128\n",
      "/opt/conda/envs/python3/lib/python3.6/site-packages/sklearn/metrics/cluster/supervised.py:859: FutureWarning: The behavior of NMI will change in version 0.22. To match the behavior of 'v_measure_score', NMI will use average_method='arithmetic' by default.\n",
      "  FutureWarning)\n",
      "2020-04-23 00:49:51,792 - ClusterComparator - INFO - Running /opt/gct/submodules/OvpNMI/onmi /tmp/tmp28th1ror/cluster1.cnl /tmp/tmp28th1ror/cluster2.cnl > ovpnmioutput\n",
      "INFO:ClusterComparator:Running /opt/gct/submodules/OvpNMI/onmi /tmp/tmp28th1ror/cluster1.cnl /tmp/tmp28th1ror/cluster2.cnl > ovpnmioutput\n",
      "2020-04-23 00:49:51,807 - ClusterComparator - INFO - resulting 128 nodes out of 128,128\n",
      "INFO:ClusterComparator:resulting 128 nodes out of 128,128\n",
      "/opt/conda/envs/python3/lib/python3.6/site-packages/sklearn/metrics/cluster/supervised.py:859: FutureWarning: The behavior of NMI will change in version 0.22. To match the behavior of 'v_measure_score', NMI will use average_method='arithmetic' by default.\n",
      "  FutureWarning)\n",
      "2020-04-23 00:49:51,817 - ClusterComparator - INFO - Running /opt/gct/submodules/OvpNMI/onmi /tmp/tmp84t2sy03/cluster1.cnl /tmp/tmp84t2sy03/cluster2.cnl > ovpnmioutput\n",
      "INFO:ClusterComparator:Running /opt/gct/submodules/OvpNMI/onmi /tmp/tmp84t2sy03/cluster1.cnl /tmp/tmp84t2sy03/cluster2.cnl > ovpnmioutput\n",
      "2020-04-23 00:49:51,826 - Clustering - INFO - reading/data/data/K_DoesAlgMirrorEdgesTest_1/gt_default.parq\n",
      "INFO:Clustering:reading/data/data/K_DoesAlgMirrorEdgesTest_1/gt_default.parq\n",
      "2020-04-23 00:49:51,832 - ClusterComparator - INFO - resulting 128 nodes out of 128,128\n",
      "INFO:ClusterComparator:resulting 128 nodes out of 128,128\n",
      "/opt/conda/envs/python3/lib/python3.6/site-packages/sklearn/metrics/cluster/supervised.py:859: FutureWarning: The behavior of NMI will change in version 0.22. To match the behavior of 'v_measure_score', NMI will use average_method='arithmetic' by default.\n",
      "  FutureWarning)\n",
      "2020-04-23 00:49:51,840 - ClusterComparator - INFO - Running /opt/gct/submodules/OvpNMI/onmi /tmp/tmp7csoecyg/cluster1.cnl /tmp/tmp7csoecyg/cluster2.cnl > ovpnmioutput\n",
      "INFO:ClusterComparator:Running /opt/gct/submodules/OvpNMI/onmi /tmp/tmp7csoecyg/cluster1.cnl /tmp/tmp7csoecyg/cluster2.cnl > ovpnmioutput\n",
      "2020-04-23 00:49:51,849 - ClusterComparator - INFO - resulting 128 nodes out of 128,128\n",
      "INFO:ClusterComparator:resulting 128 nodes out of 128,128\n",
      "/opt/conda/envs/python3/lib/python3.6/site-packages/sklearn/metrics/cluster/supervised.py:859: FutureWarning: The behavior of NMI will change in version 0.22. To match the behavior of 'v_measure_score', NMI will use average_method='arithmetic' by default.\n",
      "  FutureWarning)\n",
      "2020-04-23 00:49:51,858 - ClusterComparator - INFO - Running /opt/gct/submodules/OvpNMI/onmi /tmp/tmp799tmt3v/cluster1.cnl /tmp/tmp799tmt3v/cluster2.cnl > ovpnmioutput\n"
     ]
    },
    {
     "name": "stderr",
     "output_type": "stream",
     "text": [
      "INFO:ClusterComparator:Running /opt/gct/submodules/OvpNMI/onmi /tmp/tmp799tmt3v/cluster1.cnl /tmp/tmp799tmt3v/cluster2.cnl > ovpnmioutput\n",
      "2020-04-23 00:49:51,873 - ClusterComparator - INFO - resulting 128 nodes out of 128,128\n",
      "INFO:ClusterComparator:resulting 128 nodes out of 128,128\n",
      "/opt/conda/envs/python3/lib/python3.6/site-packages/sklearn/metrics/cluster/supervised.py:859: FutureWarning: The behavior of NMI will change in version 0.22. To match the behavior of 'v_measure_score', NMI will use average_method='arithmetic' by default.\n",
      "  FutureWarning)\n",
      "2020-04-23 00:49:51,884 - ClusterComparator - INFO - Running /opt/gct/submodules/OvpNMI/onmi /tmp/tmpjvv08e26/cluster1.cnl /tmp/tmpjvv08e26/cluster2.cnl > ovpnmioutput\n",
      "INFO:ClusterComparator:Running /opt/gct/submodules/OvpNMI/onmi /tmp/tmpjvv08e26/cluster1.cnl /tmp/tmpjvv08e26/cluster2.cnl > ovpnmioutput\n",
      "2020-04-23 00:49:51,892 - Clustering - INFO - reading/data/data/K_DoesAlgMirrorEdgesTest_1/gt_default.parq\n",
      "INFO:Clustering:reading/data/data/K_DoesAlgMirrorEdgesTest_1/gt_default.parq\n",
      "2020-04-23 00:49:51,899 - ClusterComparator - INFO - resulting 128 nodes out of 128,128\n",
      "INFO:ClusterComparator:resulting 128 nodes out of 128,128\n",
      "/opt/conda/envs/python3/lib/python3.6/site-packages/sklearn/metrics/cluster/supervised.py:859: FutureWarning: The behavior of NMI will change in version 0.22. To match the behavior of 'v_measure_score', NMI will use average_method='arithmetic' by default.\n",
      "  FutureWarning)\n",
      "2020-04-23 00:49:51,907 - ClusterComparator - INFO - Running /opt/gct/submodules/OvpNMI/onmi /tmp/tmpipkqhyy5/cluster1.cnl /tmp/tmpipkqhyy5/cluster2.cnl > ovpnmioutput\n",
      "INFO:ClusterComparator:Running /opt/gct/submodules/OvpNMI/onmi /tmp/tmpipkqhyy5/cluster1.cnl /tmp/tmpipkqhyy5/cluster2.cnl > ovpnmioutput\n",
      "2020-04-23 00:49:51,915 - ClusterComparator - INFO - resulting 128 nodes out of 128,128\n",
      "INFO:ClusterComparator:resulting 128 nodes out of 128,128\n",
      "/opt/conda/envs/python3/lib/python3.6/site-packages/sklearn/metrics/cluster/supervised.py:859: FutureWarning: The behavior of NMI will change in version 0.22. To match the behavior of 'v_measure_score', NMI will use average_method='arithmetic' by default.\n",
      "  FutureWarning)\n",
      "2020-04-23 00:49:51,925 - ClusterComparator - INFO - Running /opt/gct/submodules/OvpNMI/onmi /tmp/tmpd_k9xlnu/cluster1.cnl /tmp/tmpd_k9xlnu/cluster2.cnl > ovpnmioutput\n",
      "INFO:ClusterComparator:Running /opt/gct/submodules/OvpNMI/onmi /tmp/tmpd_k9xlnu/cluster1.cnl /tmp/tmpd_k9xlnu/cluster2.cnl > ovpnmioutput\n",
      "2020-04-23 00:49:51,940 - ClusterComparator - INFO - resulting 128 nodes out of 128,128\n",
      "INFO:ClusterComparator:resulting 128 nodes out of 128,128\n",
      "/opt/conda/envs/python3/lib/python3.6/site-packages/sklearn/metrics/cluster/supervised.py:859: FutureWarning: The behavior of NMI will change in version 0.22. To match the behavior of 'v_measure_score', NMI will use average_method='arithmetic' by default.\n",
      "  FutureWarning)\n",
      "2020-04-23 00:49:51,951 - ClusterComparator - INFO - Running /opt/gct/submodules/OvpNMI/onmi /tmp/tmpt1d92rg0/cluster1.cnl /tmp/tmpt1d92rg0/cluster2.cnl > ovpnmioutput\n",
      "INFO:ClusterComparator:Running /opt/gct/submodules/OvpNMI/onmi /tmp/tmpt1d92rg0/cluster1.cnl /tmp/tmpt1d92rg0/cluster2.cnl > ovpnmioutput\n",
      "2020-04-23 00:49:51,960 - Clustering - INFO - reading/data/data/K_DoesAlgMirrorEdgesTest_1/gt_default.parq\n",
      "INFO:Clustering:reading/data/data/K_DoesAlgMirrorEdgesTest_1/gt_default.parq\n",
      "2020-04-23 00:49:51,966 - ClusterComparator - INFO - resulting 128 nodes out of 128,128\n",
      "INFO:ClusterComparator:resulting 128 nodes out of 128,128\n",
      "/opt/conda/envs/python3/lib/python3.6/site-packages/sklearn/metrics/cluster/supervised.py:859: FutureWarning: The behavior of NMI will change in version 0.22. To match the behavior of 'v_measure_score', NMI will use average_method='arithmetic' by default.\n",
      "  FutureWarning)\n",
      "2020-04-23 00:49:51,975 - ClusterComparator - INFO - Running /opt/gct/submodules/OvpNMI/onmi /tmp/tmpm7kbqyi2/cluster1.cnl /tmp/tmpm7kbqyi2/cluster2.cnl > ovpnmioutput\n",
      "INFO:ClusterComparator:Running /opt/gct/submodules/OvpNMI/onmi /tmp/tmpm7kbqyi2/cluster1.cnl /tmp/tmpm7kbqyi2/cluster2.cnl > ovpnmioutput\n",
      "2020-04-23 00:49:51,983 - ClusterComparator - INFO - resulting 128 nodes out of 128,128\n",
      "INFO:ClusterComparator:resulting 128 nodes out of 128,128\n",
      "/opt/conda/envs/python3/lib/python3.6/site-packages/sklearn/metrics/cluster/supervised.py:859: FutureWarning: The behavior of NMI will change in version 0.22. To match the behavior of 'v_measure_score', NMI will use average_method='arithmetic' by default.\n",
      "  FutureWarning)\n",
      "2020-04-23 00:49:51,993 - ClusterComparator - INFO - Running /opt/gct/submodules/OvpNMI/onmi /tmp/tmpmwguepq5/cluster1.cnl /tmp/tmpmwguepq5/cluster2.cnl > ovpnmioutput\n",
      "INFO:ClusterComparator:Running /opt/gct/submodules/OvpNMI/onmi /tmp/tmpmwguepq5/cluster1.cnl /tmp/tmpmwguepq5/cluster2.cnl > ovpnmioutput\n",
      "2020-04-23 00:49:52,008 - ClusterComparator - INFO - resulting 128 nodes out of 128,128\n",
      "INFO:ClusterComparator:resulting 128 nodes out of 128,128\n",
      "/opt/conda/envs/python3/lib/python3.6/site-packages/sklearn/metrics/cluster/supervised.py:859: FutureWarning: The behavior of NMI will change in version 0.22. To match the behavior of 'v_measure_score', NMI will use average_method='arithmetic' by default.\n",
      "  FutureWarning)\n",
      "2020-04-23 00:49:52,019 - ClusterComparator - INFO - Running /opt/gct/submodules/OvpNMI/onmi /tmp/tmpu964fhmr/cluster1.cnl /tmp/tmpu964fhmr/cluster2.cnl > ovpnmioutput\n",
      "INFO:ClusterComparator:Running /opt/gct/submodules/OvpNMI/onmi /tmp/tmpu964fhmr/cluster1.cnl /tmp/tmpu964fhmr/cluster2.cnl > ovpnmioutput\n",
      "2020-04-23 00:49:52,027 - Clustering - INFO - reading/data/data/K_DoesAlgMirrorEdgesTest_1/gt_default.parq\n",
      "INFO:Clustering:reading/data/data/K_DoesAlgMirrorEdgesTest_1/gt_default.parq\n",
      "2020-04-23 00:49:52,034 - ClusterComparator - INFO - resulting 128 nodes out of 128,128\n",
      "INFO:ClusterComparator:resulting 128 nodes out of 128,128\n",
      "/opt/conda/envs/python3/lib/python3.6/site-packages/sklearn/metrics/cluster/supervised.py:859: FutureWarning: The behavior of NMI will change in version 0.22. To match the behavior of 'v_measure_score', NMI will use average_method='arithmetic' by default.\n",
      "  FutureWarning)\n",
      "2020-04-23 00:49:52,042 - ClusterComparator - INFO - Running /opt/gct/submodules/OvpNMI/onmi /tmp/tmp5p6k9lid/cluster1.cnl /tmp/tmp5p6k9lid/cluster2.cnl > ovpnmioutput\n",
      "INFO:ClusterComparator:Running /opt/gct/submodules/OvpNMI/onmi /tmp/tmp5p6k9lid/cluster1.cnl /tmp/tmp5p6k9lid/cluster2.cnl > ovpnmioutput\n",
      "2020-04-23 00:49:52,051 - ClusterComparator - INFO - resulting 128 nodes out of 128,128\n",
      "INFO:ClusterComparator:resulting 128 nodes out of 128,128\n",
      "/opt/conda/envs/python3/lib/python3.6/site-packages/sklearn/metrics/cluster/supervised.py:859: FutureWarning: The behavior of NMI will change in version 0.22. To match the behavior of 'v_measure_score', NMI will use average_method='arithmetic' by default.\n",
      "  FutureWarning)\n",
      "2020-04-23 00:49:52,060 - ClusterComparator - INFO - Running /opt/gct/submodules/OvpNMI/onmi /tmp/tmpien9vny1/cluster1.cnl /tmp/tmpien9vny1/cluster2.cnl > ovpnmioutput\n",
      "INFO:ClusterComparator:Running /opt/gct/submodules/OvpNMI/onmi /tmp/tmpien9vny1/cluster1.cnl /tmp/tmpien9vny1/cluster2.cnl > ovpnmioutput\n",
      "2020-04-23 00:49:52,075 - ClusterComparator - INFO - resulting 128 nodes out of 128,128\n",
      "INFO:ClusterComparator:resulting 128 nodes out of 128,128\n",
      "/opt/conda/envs/python3/lib/python3.6/site-packages/sklearn/metrics/cluster/supervised.py:859: FutureWarning: The behavior of NMI will change in version 0.22. To match the behavior of 'v_measure_score', NMI will use average_method='arithmetic' by default.\n",
      "  FutureWarning)\n",
      "2020-04-23 00:49:52,086 - ClusterComparator - INFO - Running /opt/gct/submodules/OvpNMI/onmi /tmp/tmp_wnvtg_5/cluster1.cnl /tmp/tmp_wnvtg_5/cluster2.cnl > ovpnmioutput\n",
      "INFO:ClusterComparator:Running /opt/gct/submodules/OvpNMI/onmi /tmp/tmp_wnvtg_5/cluster1.cnl /tmp/tmp_wnvtg_5/cluster2.cnl > ovpnmioutput\n",
      "2020-04-23 00:49:52,095 - Clustering - INFO - reading/data/data/K_DoesAlgMirrorEdgesTest_1/gt_default.parq\n",
      "INFO:Clustering:reading/data/data/K_DoesAlgMirrorEdgesTest_1/gt_default.parq\n",
      "2020-04-23 00:49:52,102 - ClusterComparator - INFO - resulting 128 nodes out of 128,128\n"
     ]
    },
    {
     "name": "stderr",
     "output_type": "stream",
     "text": [
      "INFO:ClusterComparator:resulting 128 nodes out of 128,128\n",
      "/opt/conda/envs/python3/lib/python3.6/site-packages/sklearn/metrics/cluster/supervised.py:859: FutureWarning: The behavior of NMI will change in version 0.22. To match the behavior of 'v_measure_score', NMI will use average_method='arithmetic' by default.\n",
      "  FutureWarning)\n",
      "2020-04-23 00:49:52,110 - ClusterComparator - INFO - Running /opt/gct/submodules/OvpNMI/onmi /tmp/tmpqctlqihu/cluster1.cnl /tmp/tmpqctlqihu/cluster2.cnl > ovpnmioutput\n",
      "INFO:ClusterComparator:Running /opt/gct/submodules/OvpNMI/onmi /tmp/tmpqctlqihu/cluster1.cnl /tmp/tmpqctlqihu/cluster2.cnl > ovpnmioutput\n",
      "2020-04-23 00:49:52,118 - ClusterComparator - INFO - resulting 128 nodes out of 128,128\n",
      "INFO:ClusterComparator:resulting 128 nodes out of 128,128\n",
      "/opt/conda/envs/python3/lib/python3.6/site-packages/sklearn/metrics/cluster/supervised.py:859: FutureWarning: The behavior of NMI will change in version 0.22. To match the behavior of 'v_measure_score', NMI will use average_method='arithmetic' by default.\n",
      "  FutureWarning)\n",
      "2020-04-23 00:49:52,128 - ClusterComparator - INFO - Running /opt/gct/submodules/OvpNMI/onmi /tmp/tmp28olbaqb/cluster1.cnl /tmp/tmp28olbaqb/cluster2.cnl > ovpnmioutput\n",
      "INFO:ClusterComparator:Running /opt/gct/submodules/OvpNMI/onmi /tmp/tmp28olbaqb/cluster1.cnl /tmp/tmp28olbaqb/cluster2.cnl > ovpnmioutput\n",
      "2020-04-23 00:49:52,143 - ClusterComparator - INFO - resulting 128 nodes out of 128,128\n",
      "INFO:ClusterComparator:resulting 128 nodes out of 128,128\n",
      "/opt/conda/envs/python3/lib/python3.6/site-packages/sklearn/metrics/cluster/supervised.py:859: FutureWarning: The behavior of NMI will change in version 0.22. To match the behavior of 'v_measure_score', NMI will use average_method='arithmetic' by default.\n",
      "  FutureWarning)\n",
      "2020-04-23 00:49:52,154 - ClusterComparator - INFO - Running /opt/gct/submodules/OvpNMI/onmi /tmp/tmpj4xu0g2i/cluster1.cnl /tmp/tmpj4xu0g2i/cluster2.cnl > ovpnmioutput\n",
      "INFO:ClusterComparator:Running /opt/gct/submodules/OvpNMI/onmi /tmp/tmpj4xu0g2i/cluster1.cnl /tmp/tmpj4xu0g2i/cluster2.cnl > ovpnmioutput\n",
      "2020-04-23 00:49:52,162 - Clustering - INFO - reading/data/data/K_DoesAlgMirrorEdgesTest_1/gt_default.parq\n",
      "INFO:Clustering:reading/data/data/K_DoesAlgMirrorEdgesTest_1/gt_default.parq\n",
      "2020-04-23 00:49:52,169 - ClusterComparator - INFO - resulting 128 nodes out of 128,128\n",
      "INFO:ClusterComparator:resulting 128 nodes out of 128,128\n",
      "/opt/conda/envs/python3/lib/python3.6/site-packages/sklearn/metrics/cluster/supervised.py:859: FutureWarning: The behavior of NMI will change in version 0.22. To match the behavior of 'v_measure_score', NMI will use average_method='arithmetic' by default.\n",
      "  FutureWarning)\n",
      "2020-04-23 00:49:52,177 - ClusterComparator - INFO - Running /opt/gct/submodules/OvpNMI/onmi /tmp/tmp3vph5n_u/cluster1.cnl /tmp/tmp3vph5n_u/cluster2.cnl > ovpnmioutput\n",
      "INFO:ClusterComparator:Running /opt/gct/submodules/OvpNMI/onmi /tmp/tmp3vph5n_u/cluster1.cnl /tmp/tmp3vph5n_u/cluster2.cnl > ovpnmioutput\n",
      "2020-04-23 00:49:52,186 - ClusterComparator - INFO - resulting 128 nodes out of 128,128\n",
      "INFO:ClusterComparator:resulting 128 nodes out of 128,128\n",
      "/opt/conda/envs/python3/lib/python3.6/site-packages/sklearn/metrics/cluster/supervised.py:859: FutureWarning: The behavior of NMI will change in version 0.22. To match the behavior of 'v_measure_score', NMI will use average_method='arithmetic' by default.\n",
      "  FutureWarning)\n",
      "2020-04-23 00:49:52,195 - ClusterComparator - INFO - Running /opt/gct/submodules/OvpNMI/onmi /tmp/tmpqs7v383d/cluster1.cnl /tmp/tmpqs7v383d/cluster2.cnl > ovpnmioutput\n",
      "INFO:ClusterComparator:Running /opt/gct/submodules/OvpNMI/onmi /tmp/tmpqs7v383d/cluster1.cnl /tmp/tmpqs7v383d/cluster2.cnl > ovpnmioutput\n",
      "2020-04-23 00:49:52,210 - ClusterComparator - INFO - resulting 128 nodes out of 128,128\n",
      "INFO:ClusterComparator:resulting 128 nodes out of 128,128\n",
      "/opt/conda/envs/python3/lib/python3.6/site-packages/sklearn/metrics/cluster/supervised.py:859: FutureWarning: The behavior of NMI will change in version 0.22. To match the behavior of 'v_measure_score', NMI will use average_method='arithmetic' by default.\n",
      "  FutureWarning)\n",
      "2020-04-23 00:49:52,220 - ClusterComparator - INFO - Running /opt/gct/submodules/OvpNMI/onmi /tmp/tmpx3cogn60/cluster1.cnl /tmp/tmpx3cogn60/cluster2.cnl > ovpnmioutput\n",
      "INFO:ClusterComparator:Running /opt/gct/submodules/OvpNMI/onmi /tmp/tmpx3cogn60/cluster1.cnl /tmp/tmpx3cogn60/cluster2.cnl > ovpnmioutput\n",
      "2020-04-23 00:49:52,229 - Clustering - INFO - reading/data/data/K_DoesAlgMirrorEdgesTest_1/gt_default.parq\n",
      "INFO:Clustering:reading/data/data/K_DoesAlgMirrorEdgesTest_1/gt_default.parq\n",
      "2020-04-23 00:49:52,236 - ClusterComparator - INFO - resulting 128 nodes out of 128,128\n",
      "INFO:ClusterComparator:resulting 128 nodes out of 128,128\n",
      "/opt/conda/envs/python3/lib/python3.6/site-packages/sklearn/metrics/cluster/supervised.py:859: FutureWarning: The behavior of NMI will change in version 0.22. To match the behavior of 'v_measure_score', NMI will use average_method='arithmetic' by default.\n",
      "  FutureWarning)\n",
      "2020-04-23 00:49:52,244 - ClusterComparator - INFO - Running /opt/gct/submodules/OvpNMI/onmi /tmp/tmpvfjz5ycf/cluster1.cnl /tmp/tmpvfjz5ycf/cluster2.cnl > ovpnmioutput\n",
      "INFO:ClusterComparator:Running /opt/gct/submodules/OvpNMI/onmi /tmp/tmpvfjz5ycf/cluster1.cnl /tmp/tmpvfjz5ycf/cluster2.cnl > ovpnmioutput\n",
      "2020-04-23 00:49:52,252 - ClusterComparator - INFO - resulting 128 nodes out of 128,128\n",
      "INFO:ClusterComparator:resulting 128 nodes out of 128,128\n",
      "/opt/conda/envs/python3/lib/python3.6/site-packages/sklearn/metrics/cluster/supervised.py:859: FutureWarning: The behavior of NMI will change in version 0.22. To match the behavior of 'v_measure_score', NMI will use average_method='arithmetic' by default.\n",
      "  FutureWarning)\n",
      "2020-04-23 00:49:52,262 - ClusterComparator - INFO - Running /opt/gct/submodules/OvpNMI/onmi /tmp/tmp95qkz_3w/cluster1.cnl /tmp/tmp95qkz_3w/cluster2.cnl > ovpnmioutput\n",
      "INFO:ClusterComparator:Running /opt/gct/submodules/OvpNMI/onmi /tmp/tmp95qkz_3w/cluster1.cnl /tmp/tmp95qkz_3w/cluster2.cnl > ovpnmioutput\n",
      "2020-04-23 00:49:52,277 - ClusterComparator - INFO - resulting 128 nodes out of 128,128\n",
      "INFO:ClusterComparator:resulting 128 nodes out of 128,128\n",
      "/opt/conda/envs/python3/lib/python3.6/site-packages/sklearn/metrics/cluster/supervised.py:859: FutureWarning: The behavior of NMI will change in version 0.22. To match the behavior of 'v_measure_score', NMI will use average_method='arithmetic' by default.\n",
      "  FutureWarning)\n",
      "2020-04-23 00:49:52,288 - ClusterComparator - INFO - Running /opt/gct/submodules/OvpNMI/onmi /tmp/tmp5luj1iht/cluster1.cnl /tmp/tmp5luj1iht/cluster2.cnl > ovpnmioutput\n",
      "INFO:ClusterComparator:Running /opt/gct/submodules/OvpNMI/onmi /tmp/tmp5luj1iht/cluster1.cnl /tmp/tmp5luj1iht/cluster2.cnl > ovpnmioutput\n",
      "2020-04-23 00:49:52,296 - Clustering - INFO - reading/data/data/K_DoesAlgMirrorEdgesTest_1/gt_default.parq\n",
      "INFO:Clustering:reading/data/data/K_DoesAlgMirrorEdgesTest_1/gt_default.parq\n",
      "2020-04-23 00:49:52,303 - ClusterComparator - INFO - resulting 128 nodes out of 128,128\n",
      "INFO:ClusterComparator:resulting 128 nodes out of 128,128\n",
      "/opt/conda/envs/python3/lib/python3.6/site-packages/sklearn/metrics/cluster/supervised.py:859: FutureWarning: The behavior of NMI will change in version 0.22. To match the behavior of 'v_measure_score', NMI will use average_method='arithmetic' by default.\n",
      "  FutureWarning)\n",
      "2020-04-23 00:49:52,311 - ClusterComparator - INFO - Running /opt/gct/submodules/OvpNMI/onmi /tmp/tmpss83r8he/cluster1.cnl /tmp/tmpss83r8he/cluster2.cnl > ovpnmioutput\n",
      "INFO:ClusterComparator:Running /opt/gct/submodules/OvpNMI/onmi /tmp/tmpss83r8he/cluster1.cnl /tmp/tmpss83r8he/cluster2.cnl > ovpnmioutput\n",
      "2020-04-23 00:49:52,320 - ClusterComparator - INFO - resulting 128 nodes out of 128,128\n",
      "INFO:ClusterComparator:resulting 128 nodes out of 128,128\n",
      "/opt/conda/envs/python3/lib/python3.6/site-packages/sklearn/metrics/cluster/supervised.py:859: FutureWarning: The behavior of NMI will change in version 0.22. To match the behavior of 'v_measure_score', NMI will use average_method='arithmetic' by default.\n",
      "  FutureWarning)\n",
      "2020-04-23 00:49:52,329 - ClusterComparator - INFO - Running /opt/gct/submodules/OvpNMI/onmi /tmp/tmpxleryre3/cluster1.cnl /tmp/tmpxleryre3/cluster2.cnl > ovpnmioutput\n"
     ]
    },
    {
     "name": "stderr",
     "output_type": "stream",
     "text": [
      "INFO:ClusterComparator:Running /opt/gct/submodules/OvpNMI/onmi /tmp/tmpxleryre3/cluster1.cnl /tmp/tmpxleryre3/cluster2.cnl > ovpnmioutput\n",
      "2020-04-23 00:49:52,344 - ClusterComparator - INFO - resulting 128 nodes out of 128,128\n",
      "INFO:ClusterComparator:resulting 128 nodes out of 128,128\n",
      "/opt/conda/envs/python3/lib/python3.6/site-packages/sklearn/metrics/cluster/supervised.py:859: FutureWarning: The behavior of NMI will change in version 0.22. To match the behavior of 'v_measure_score', NMI will use average_method='arithmetic' by default.\n",
      "  FutureWarning)\n",
      "2020-04-23 00:49:52,359 - ClusterComparator - INFO - Running /opt/gct/submodules/OvpNMI/onmi /tmp/tmp1x6fscu5/cluster1.cnl /tmp/tmp1x6fscu5/cluster2.cnl > ovpnmioutput\n",
      "INFO:ClusterComparator:Running /opt/gct/submodules/OvpNMI/onmi /tmp/tmp1x6fscu5/cluster1.cnl /tmp/tmp1x6fscu5/cluster2.cnl > ovpnmioutput\n",
      "2020-04-23 00:49:52,368 - ClusterComparator - ERROR - Run command with error status code 134\n",
      "ERROR:ClusterComparator:Run command with error status code 134\n",
      "2020-04-23 00:49:52,370 - Clustering - INFO - reading/data/data/K_DoesAlgMirrorEdgesTest_1/gt_default.parq\n",
      "INFO:Clustering:reading/data/data/K_DoesAlgMirrorEdgesTest_1/gt_default.parq\n",
      "2020-04-23 00:49:52,376 - ClusterComparator - INFO - resulting 128 nodes out of 128,128\n",
      "INFO:ClusterComparator:resulting 128 nodes out of 128,128\n",
      "/opt/conda/envs/python3/lib/python3.6/site-packages/sklearn/metrics/cluster/supervised.py:859: FutureWarning: The behavior of NMI will change in version 0.22. To match the behavior of 'v_measure_score', NMI will use average_method='arithmetic' by default.\n",
      "  FutureWarning)\n",
      "2020-04-23 00:49:52,384 - ClusterComparator - INFO - Running /opt/gct/submodules/OvpNMI/onmi /tmp/tmp5i1zduow/cluster1.cnl /tmp/tmp5i1zduow/cluster2.cnl > ovpnmioutput\n",
      "INFO:ClusterComparator:Running /opt/gct/submodules/OvpNMI/onmi /tmp/tmp5i1zduow/cluster1.cnl /tmp/tmp5i1zduow/cluster2.cnl > ovpnmioutput\n",
      "2020-04-23 00:49:52,393 - ClusterComparator - INFO - resulting 128 nodes out of 128,128\n",
      "INFO:ClusterComparator:resulting 128 nodes out of 128,128\n",
      "/opt/conda/envs/python3/lib/python3.6/site-packages/sklearn/metrics/cluster/supervised.py:859: FutureWarning: The behavior of NMI will change in version 0.22. To match the behavior of 'v_measure_score', NMI will use average_method='arithmetic' by default.\n",
      "  FutureWarning)\n",
      "2020-04-23 00:49:52,407 - ClusterComparator - INFO - Running /opt/gct/submodules/OvpNMI/onmi /tmp/tmp3bdxicnc/cluster1.cnl /tmp/tmp3bdxicnc/cluster2.cnl > ovpnmioutput\n",
      "INFO:ClusterComparator:Running /opt/gct/submodules/OvpNMI/onmi /tmp/tmp3bdxicnc/cluster1.cnl /tmp/tmp3bdxicnc/cluster2.cnl > ovpnmioutput\n",
      "2020-04-23 00:49:52,416 - ClusterComparator - ERROR - Run command with error status code 134\n",
      "ERROR:ClusterComparator:Run command with error status code 134\n",
      "2020-04-23 00:49:52,425 - ClusterComparator - INFO - resulting 128 nodes out of 128,128\n",
      "INFO:ClusterComparator:resulting 128 nodes out of 128,128\n",
      "/opt/conda/envs/python3/lib/python3.6/site-packages/sklearn/metrics/cluster/supervised.py:859: FutureWarning: The behavior of NMI will change in version 0.22. To match the behavior of 'v_measure_score', NMI will use average_method='arithmetic' by default.\n",
      "  FutureWarning)\n",
      "2020-04-23 00:49:52,435 - ClusterComparator - INFO - Running /opt/gct/submodules/OvpNMI/onmi /tmp/tmppa7h7_3q/cluster1.cnl /tmp/tmppa7h7_3q/cluster2.cnl > ovpnmioutput\n",
      "INFO:ClusterComparator:Running /opt/gct/submodules/OvpNMI/onmi /tmp/tmppa7h7_3q/cluster1.cnl /tmp/tmppa7h7_3q/cluster2.cnl > ovpnmioutput\n",
      "2020-04-23 00:49:52,445 - Clustering - INFO - reading/data/data/K_DoesAlgMirrorEdgesTest_1/gt_default.parq\n",
      "INFO:Clustering:reading/data/data/K_DoesAlgMirrorEdgesTest_1/gt_default.parq\n",
      "2020-04-23 00:49:52,451 - ClusterComparator - INFO - resulting 128 nodes out of 128,128\n",
      "INFO:ClusterComparator:resulting 128 nodes out of 128,128\n",
      "/opt/conda/envs/python3/lib/python3.6/site-packages/sklearn/metrics/cluster/supervised.py:859: FutureWarning: The behavior of NMI will change in version 0.22. To match the behavior of 'v_measure_score', NMI will use average_method='arithmetic' by default.\n",
      "  FutureWarning)\n",
      "2020-04-23 00:49:52,460 - ClusterComparator - INFO - Running /opt/gct/submodules/OvpNMI/onmi /tmp/tmpcx1yowqu/cluster1.cnl /tmp/tmpcx1yowqu/cluster2.cnl > ovpnmioutput\n",
      "INFO:ClusterComparator:Running /opt/gct/submodules/OvpNMI/onmi /tmp/tmpcx1yowqu/cluster1.cnl /tmp/tmpcx1yowqu/cluster2.cnl > ovpnmioutput\n",
      "2020-04-23 00:49:52,468 - ClusterComparator - INFO - resulting 128 nodes out of 128,128\n",
      "INFO:ClusterComparator:resulting 128 nodes out of 128,128\n",
      "/opt/conda/envs/python3/lib/python3.6/site-packages/sklearn/metrics/cluster/supervised.py:859: FutureWarning: The behavior of NMI will change in version 0.22. To match the behavior of 'v_measure_score', NMI will use average_method='arithmetic' by default.\n",
      "  FutureWarning)\n",
      "2020-04-23 00:49:52,478 - ClusterComparator - INFO - Running /opt/gct/submodules/OvpNMI/onmi /tmp/tmphnd66t5_/cluster1.cnl /tmp/tmphnd66t5_/cluster2.cnl > ovpnmioutput\n",
      "INFO:ClusterComparator:Running /opt/gct/submodules/OvpNMI/onmi /tmp/tmphnd66t5_/cluster1.cnl /tmp/tmphnd66t5_/cluster2.cnl > ovpnmioutput\n",
      "2020-04-23 00:49:52,493 - ClusterComparator - INFO - resulting 128 nodes out of 128,128\n",
      "INFO:ClusterComparator:resulting 128 nodes out of 128,128\n",
      "/opt/conda/envs/python3/lib/python3.6/site-packages/sklearn/metrics/cluster/supervised.py:859: FutureWarning: The behavior of NMI will change in version 0.22. To match the behavior of 'v_measure_score', NMI will use average_method='arithmetic' by default.\n",
      "  FutureWarning)\n",
      "2020-04-23 00:49:52,504 - ClusterComparator - INFO - Running /opt/gct/submodules/OvpNMI/onmi /tmp/tmpiy7ext1z/cluster1.cnl /tmp/tmpiy7ext1z/cluster2.cnl > ovpnmioutput\n",
      "INFO:ClusterComparator:Running /opt/gct/submodules/OvpNMI/onmi /tmp/tmpiy7ext1z/cluster1.cnl /tmp/tmpiy7ext1z/cluster2.cnl > ovpnmioutput\n",
      "2020-04-23 00:49:52,513 - Clustering - INFO - reading/data/data/K_DoesAlgMirrorEdgesTest_1/gt_default.parq\n",
      "INFO:Clustering:reading/data/data/K_DoesAlgMirrorEdgesTest_1/gt_default.parq\n",
      "2020-04-23 00:49:52,519 - ClusterComparator - INFO - resulting 128 nodes out of 128,128\n",
      "INFO:ClusterComparator:resulting 128 nodes out of 128,128\n",
      "/opt/conda/envs/python3/lib/python3.6/site-packages/sklearn/metrics/cluster/supervised.py:859: FutureWarning: The behavior of NMI will change in version 0.22. To match the behavior of 'v_measure_score', NMI will use average_method='arithmetic' by default.\n",
      "  FutureWarning)\n",
      "2020-04-23 00:49:52,528 - ClusterComparator - INFO - Running /opt/gct/submodules/OvpNMI/onmi /tmp/tmp46bvbvnm/cluster1.cnl /tmp/tmp46bvbvnm/cluster2.cnl > ovpnmioutput\n",
      "INFO:ClusterComparator:Running /opt/gct/submodules/OvpNMI/onmi /tmp/tmp46bvbvnm/cluster1.cnl /tmp/tmp46bvbvnm/cluster2.cnl > ovpnmioutput\n",
      "2020-04-23 00:49:52,536 - ClusterComparator - INFO - resulting 128 nodes out of 128,128\n",
      "INFO:ClusterComparator:resulting 128 nodes out of 128,128\n",
      "/opt/conda/envs/python3/lib/python3.6/site-packages/sklearn/metrics/cluster/supervised.py:859: FutureWarning: The behavior of NMI will change in version 0.22. To match the behavior of 'v_measure_score', NMI will use average_method='arithmetic' by default.\n",
      "  FutureWarning)\n",
      "2020-04-23 00:49:52,546 - ClusterComparator - INFO - Running /opt/gct/submodules/OvpNMI/onmi /tmp/tmpxp6kyq37/cluster1.cnl /tmp/tmpxp6kyq37/cluster2.cnl > ovpnmioutput\n",
      "INFO:ClusterComparator:Running /opt/gct/submodules/OvpNMI/onmi /tmp/tmpxp6kyq37/cluster1.cnl /tmp/tmpxp6kyq37/cluster2.cnl > ovpnmioutput\n",
      "2020-04-23 00:49:52,561 - ClusterComparator - INFO - resulting 128 nodes out of 128,128\n",
      "INFO:ClusterComparator:resulting 128 nodes out of 128,128\n",
      "/opt/conda/envs/python3/lib/python3.6/site-packages/sklearn/metrics/cluster/supervised.py:859: FutureWarning: The behavior of NMI will change in version 0.22. To match the behavior of 'v_measure_score', NMI will use average_method='arithmetic' by default.\n",
      "  FutureWarning)\n",
      "2020-04-23 00:49:52,571 - ClusterComparator - INFO - Running /opt/gct/submodules/OvpNMI/onmi /tmp/tmpanumt6ia/cluster1.cnl /tmp/tmpanumt6ia/cluster2.cnl > ovpnmioutput\n",
      "INFO:ClusterComparator:Running /opt/gct/submodules/OvpNMI/onmi /tmp/tmpanumt6ia/cluster1.cnl /tmp/tmpanumt6ia/cluster2.cnl > ovpnmioutput\n"
     ]
    },
    {
     "name": "stderr",
     "output_type": "stream",
     "text": [
      "2020-04-23 00:49:52,580 - Clustering - INFO - reading/data/data/K_DoesAlgMirrorEdgesTest_1/gt_default.parq\n",
      "INFO:Clustering:reading/data/data/K_DoesAlgMirrorEdgesTest_1/gt_default.parq\n",
      "2020-04-23 00:49:52,586 - ClusterComparator - INFO - resulting 128 nodes out of 128,128\n",
      "INFO:ClusterComparator:resulting 128 nodes out of 128,128\n",
      "/opt/conda/envs/python3/lib/python3.6/site-packages/sklearn/metrics/cluster/supervised.py:859: FutureWarning: The behavior of NMI will change in version 0.22. To match the behavior of 'v_measure_score', NMI will use average_method='arithmetic' by default.\n",
      "  FutureWarning)\n",
      "2020-04-23 00:49:52,594 - ClusterComparator - INFO - Running /opt/gct/submodules/OvpNMI/onmi /tmp/tmp85flce7i/cluster1.cnl /tmp/tmp85flce7i/cluster2.cnl > ovpnmioutput\n",
      "INFO:ClusterComparator:Running /opt/gct/submodules/OvpNMI/onmi /tmp/tmp85flce7i/cluster1.cnl /tmp/tmp85flce7i/cluster2.cnl > ovpnmioutput\n",
      "2020-04-23 00:49:52,603 - ClusterComparator - INFO - resulting 128 nodes out of 128,128\n",
      "INFO:ClusterComparator:resulting 128 nodes out of 128,128\n",
      "/opt/conda/envs/python3/lib/python3.6/site-packages/sklearn/metrics/cluster/supervised.py:859: FutureWarning: The behavior of NMI will change in version 0.22. To match the behavior of 'v_measure_score', NMI will use average_method='arithmetic' by default.\n",
      "  FutureWarning)\n",
      "2020-04-23 00:49:52,612 - ClusterComparator - INFO - Running /opt/gct/submodules/OvpNMI/onmi /tmp/tmpaiiq0vz1/cluster1.cnl /tmp/tmpaiiq0vz1/cluster2.cnl > ovpnmioutput\n",
      "INFO:ClusterComparator:Running /opt/gct/submodules/OvpNMI/onmi /tmp/tmpaiiq0vz1/cluster1.cnl /tmp/tmpaiiq0vz1/cluster2.cnl > ovpnmioutput\n",
      "2020-04-23 00:49:52,627 - ClusterComparator - INFO - resulting 128 nodes out of 128,128\n",
      "INFO:ClusterComparator:resulting 128 nodes out of 128,128\n",
      "/opt/conda/envs/python3/lib/python3.6/site-packages/sklearn/metrics/cluster/supervised.py:859: FutureWarning: The behavior of NMI will change in version 0.22. To match the behavior of 'v_measure_score', NMI will use average_method='arithmetic' by default.\n",
      "  FutureWarning)\n",
      "2020-04-23 00:49:52,638 - ClusterComparator - INFO - Running /opt/gct/submodules/OvpNMI/onmi /tmp/tmp7p0xboqc/cluster1.cnl /tmp/tmp7p0xboqc/cluster2.cnl > ovpnmioutput\n",
      "INFO:ClusterComparator:Running /opt/gct/submodules/OvpNMI/onmi /tmp/tmp7p0xboqc/cluster1.cnl /tmp/tmp7p0xboqc/cluster2.cnl > ovpnmioutput\n",
      "2020-04-23 00:49:52,646 - Clustering - INFO - reading/data/data/K_DoesAlgMirrorEdgesTest_1/gt_default.parq\n",
      "INFO:Clustering:reading/data/data/K_DoesAlgMirrorEdgesTest_1/gt_default.parq\n",
      "2020-04-23 00:49:52,653 - ClusterComparator - INFO - resulting 128 nodes out of 128,128\n",
      "INFO:ClusterComparator:resulting 128 nodes out of 128,128\n",
      "/opt/conda/envs/python3/lib/python3.6/site-packages/sklearn/metrics/cluster/supervised.py:859: FutureWarning: The behavior of NMI will change in version 0.22. To match the behavior of 'v_measure_score', NMI will use average_method='arithmetic' by default.\n",
      "  FutureWarning)\n",
      "2020-04-23 00:49:52,661 - ClusterComparator - INFO - Running /opt/gct/submodules/OvpNMI/onmi /tmp/tmp2jt0lf64/cluster1.cnl /tmp/tmp2jt0lf64/cluster2.cnl > ovpnmioutput\n",
      "INFO:ClusterComparator:Running /opt/gct/submodules/OvpNMI/onmi /tmp/tmp2jt0lf64/cluster1.cnl /tmp/tmp2jt0lf64/cluster2.cnl > ovpnmioutput\n",
      "2020-04-23 00:49:52,670 - ClusterComparator - INFO - resulting 128 nodes out of 128,128\n",
      "INFO:ClusterComparator:resulting 128 nodes out of 128,128\n",
      "/opt/conda/envs/python3/lib/python3.6/site-packages/sklearn/metrics/cluster/supervised.py:859: FutureWarning: The behavior of NMI will change in version 0.22. To match the behavior of 'v_measure_score', NMI will use average_method='arithmetic' by default.\n",
      "  FutureWarning)\n",
      "2020-04-23 00:49:52,679 - ClusterComparator - INFO - Running /opt/gct/submodules/OvpNMI/onmi /tmp/tmp7a2nqb5c/cluster1.cnl /tmp/tmp7a2nqb5c/cluster2.cnl > ovpnmioutput\n",
      "INFO:ClusterComparator:Running /opt/gct/submodules/OvpNMI/onmi /tmp/tmp7a2nqb5c/cluster1.cnl /tmp/tmp7a2nqb5c/cluster2.cnl > ovpnmioutput\n",
      "2020-04-23 00:49:52,694 - ClusterComparator - INFO - resulting 128 nodes out of 128,128\n",
      "INFO:ClusterComparator:resulting 128 nodes out of 128,128\n",
      "/opt/conda/envs/python3/lib/python3.6/site-packages/sklearn/metrics/cluster/supervised.py:859: FutureWarning: The behavior of NMI will change in version 0.22. To match the behavior of 'v_measure_score', NMI will use average_method='arithmetic' by default.\n",
      "  FutureWarning)\n",
      "2020-04-23 00:49:52,705 - ClusterComparator - INFO - Running /opt/gct/submodules/OvpNMI/onmi /tmp/tmp1z_1vcjq/cluster1.cnl /tmp/tmp1z_1vcjq/cluster2.cnl > ovpnmioutput\n",
      "INFO:ClusterComparator:Running /opt/gct/submodules/OvpNMI/onmi /tmp/tmp1z_1vcjq/cluster1.cnl /tmp/tmp1z_1vcjq/cluster2.cnl > ovpnmioutput\n",
      "2020-04-23 00:49:52,713 - Clustering - INFO - reading/data/data/K_DoesAlgMirrorEdgesTest_1/gt_default.parq\n",
      "INFO:Clustering:reading/data/data/K_DoesAlgMirrorEdgesTest_1/gt_default.parq\n",
      "2020-04-23 00:49:52,720 - ClusterComparator - INFO - resulting 128 nodes out of 128,128\n",
      "INFO:ClusterComparator:resulting 128 nodes out of 128,128\n",
      "/opt/conda/envs/python3/lib/python3.6/site-packages/sklearn/metrics/cluster/supervised.py:859: FutureWarning: The behavior of NMI will change in version 0.22. To match the behavior of 'v_measure_score', NMI will use average_method='arithmetic' by default.\n",
      "  FutureWarning)\n",
      "2020-04-23 00:49:52,728 - ClusterComparator - INFO - Running /opt/gct/submodules/OvpNMI/onmi /tmp/tmpopwpl8kq/cluster1.cnl /tmp/tmpopwpl8kq/cluster2.cnl > ovpnmioutput\n",
      "INFO:ClusterComparator:Running /opt/gct/submodules/OvpNMI/onmi /tmp/tmpopwpl8kq/cluster1.cnl /tmp/tmpopwpl8kq/cluster2.cnl > ovpnmioutput\n",
      "2020-04-23 00:49:52,737 - ClusterComparator - INFO - resulting 128 nodes out of 128,128\n",
      "INFO:ClusterComparator:resulting 128 nodes out of 128,128\n",
      "/opt/conda/envs/python3/lib/python3.6/site-packages/sklearn/metrics/cluster/supervised.py:859: FutureWarning: The behavior of NMI will change in version 0.22. To match the behavior of 'v_measure_score', NMI will use average_method='arithmetic' by default.\n",
      "  FutureWarning)\n",
      "2020-04-23 00:49:52,746 - ClusterComparator - INFO - Running /opt/gct/submodules/OvpNMI/onmi /tmp/tmpjmoe1nfw/cluster1.cnl /tmp/tmpjmoe1nfw/cluster2.cnl > ovpnmioutput\n",
      "INFO:ClusterComparator:Running /opt/gct/submodules/OvpNMI/onmi /tmp/tmpjmoe1nfw/cluster1.cnl /tmp/tmpjmoe1nfw/cluster2.cnl > ovpnmioutput\n",
      "2020-04-23 00:49:52,761 - ClusterComparator - INFO - resulting 128 nodes out of 128,128\n",
      "INFO:ClusterComparator:resulting 128 nodes out of 128,128\n",
      "/opt/conda/envs/python3/lib/python3.6/site-packages/sklearn/metrics/cluster/supervised.py:859: FutureWarning: The behavior of NMI will change in version 0.22. To match the behavior of 'v_measure_score', NMI will use average_method='arithmetic' by default.\n",
      "  FutureWarning)\n",
      "2020-04-23 00:49:52,772 - ClusterComparator - INFO - Running /opt/gct/submodules/OvpNMI/onmi /tmp/tmp21604tyb/cluster1.cnl /tmp/tmp21604tyb/cluster2.cnl > ovpnmioutput\n",
      "INFO:ClusterComparator:Running /opt/gct/submodules/OvpNMI/onmi /tmp/tmp21604tyb/cluster1.cnl /tmp/tmp21604tyb/cluster2.cnl > ovpnmioutput\n",
      "2020-04-23 00:49:52,780 - Clustering - INFO - reading/data/data/K_DoesAlgMirrorEdgesTest_1/gt_default.parq\n",
      "INFO:Clustering:reading/data/data/K_DoesAlgMirrorEdgesTest_1/gt_default.parq\n",
      "2020-04-23 00:49:52,787 - ClusterComparator - INFO - resulting 128 nodes out of 128,128\n",
      "INFO:ClusterComparator:resulting 128 nodes out of 128,128\n",
      "/opt/conda/envs/python3/lib/python3.6/site-packages/sklearn/metrics/cluster/supervised.py:859: FutureWarning: The behavior of NMI will change in version 0.22. To match the behavior of 'v_measure_score', NMI will use average_method='arithmetic' by default.\n",
      "  FutureWarning)\n",
      "2020-04-23 00:49:52,795 - ClusterComparator - INFO - Running /opt/gct/submodules/OvpNMI/onmi /tmp/tmpkydros7i/cluster1.cnl /tmp/tmpkydros7i/cluster2.cnl > ovpnmioutput\n",
      "INFO:ClusterComparator:Running /opt/gct/submodules/OvpNMI/onmi /tmp/tmpkydros7i/cluster1.cnl /tmp/tmpkydros7i/cluster2.cnl > ovpnmioutput\n",
      "2020-04-23 00:49:52,804 - ClusterComparator - INFO - resulting 128 nodes out of 128,128\n",
      "INFO:ClusterComparator:resulting 128 nodes out of 128,128\n",
      "/opt/conda/envs/python3/lib/python3.6/site-packages/sklearn/metrics/cluster/supervised.py:859: FutureWarning: The behavior of NMI will change in version 0.22. To match the behavior of 'v_measure_score', NMI will use average_method='arithmetic' by default.\n",
      "  FutureWarning)\n"
     ]
    },
    {
     "name": "stderr",
     "output_type": "stream",
     "text": [
      "2020-04-23 00:49:52,813 - ClusterComparator - INFO - Running /opt/gct/submodules/OvpNMI/onmi /tmp/tmp8lg7a1zj/cluster1.cnl /tmp/tmp8lg7a1zj/cluster2.cnl > ovpnmioutput\n",
      "INFO:ClusterComparator:Running /opt/gct/submodules/OvpNMI/onmi /tmp/tmp8lg7a1zj/cluster1.cnl /tmp/tmp8lg7a1zj/cluster2.cnl > ovpnmioutput\n",
      "2020-04-23 00:49:52,828 - ClusterComparator - INFO - resulting 128 nodes out of 128,128\n",
      "INFO:ClusterComparator:resulting 128 nodes out of 128,128\n",
      "/opt/conda/envs/python3/lib/python3.6/site-packages/sklearn/metrics/cluster/supervised.py:859: FutureWarning: The behavior of NMI will change in version 0.22. To match the behavior of 'v_measure_score', NMI will use average_method='arithmetic' by default.\n",
      "  FutureWarning)\n",
      "2020-04-23 00:49:52,839 - ClusterComparator - INFO - Running /opt/gct/submodules/OvpNMI/onmi /tmp/tmp7qov0xxg/cluster1.cnl /tmp/tmp7qov0xxg/cluster2.cnl > ovpnmioutput\n",
      "INFO:ClusterComparator:Running /opt/gct/submodules/OvpNMI/onmi /tmp/tmp7qov0xxg/cluster1.cnl /tmp/tmp7qov0xxg/cluster2.cnl > ovpnmioutput\n",
      "2020-04-23 00:49:52,847 - Clustering - INFO - reading/data/data/K_DoesAlgMirrorEdgesTest_1/gt_default.parq\n",
      "INFO:Clustering:reading/data/data/K_DoesAlgMirrorEdgesTest_1/gt_default.parq\n",
      "2020-04-23 00:49:52,854 - ClusterComparator - INFO - resulting 128 nodes out of 128,128\n",
      "INFO:ClusterComparator:resulting 128 nodes out of 128,128\n",
      "/opt/conda/envs/python3/lib/python3.6/site-packages/sklearn/metrics/cluster/supervised.py:859: FutureWarning: The behavior of NMI will change in version 0.22. To match the behavior of 'v_measure_score', NMI will use average_method='arithmetic' by default.\n",
      "  FutureWarning)\n",
      "2020-04-23 00:49:52,862 - ClusterComparator - INFO - Running /opt/gct/submodules/OvpNMI/onmi /tmp/tmpb91ormkm/cluster1.cnl /tmp/tmpb91ormkm/cluster2.cnl > ovpnmioutput\n",
      "INFO:ClusterComparator:Running /opt/gct/submodules/OvpNMI/onmi /tmp/tmpb91ormkm/cluster1.cnl /tmp/tmpb91ormkm/cluster2.cnl > ovpnmioutput\n",
      "2020-04-23 00:49:52,870 - ClusterComparator - INFO - resulting 128 nodes out of 128,128\n",
      "INFO:ClusterComparator:resulting 128 nodes out of 128,128\n",
      "/opt/conda/envs/python3/lib/python3.6/site-packages/sklearn/metrics/cluster/supervised.py:859: FutureWarning: The behavior of NMI will change in version 0.22. To match the behavior of 'v_measure_score', NMI will use average_method='arithmetic' by default.\n",
      "  FutureWarning)\n",
      "2020-04-23 00:49:52,880 - ClusterComparator - INFO - Running /opt/gct/submodules/OvpNMI/onmi /tmp/tmpxwz8ufi6/cluster1.cnl /tmp/tmpxwz8ufi6/cluster2.cnl > ovpnmioutput\n",
      "INFO:ClusterComparator:Running /opt/gct/submodules/OvpNMI/onmi /tmp/tmpxwz8ufi6/cluster1.cnl /tmp/tmpxwz8ufi6/cluster2.cnl > ovpnmioutput\n",
      "2020-04-23 00:49:52,895 - ClusterComparator - INFO - resulting 128 nodes out of 128,128\n",
      "INFO:ClusterComparator:resulting 128 nodes out of 128,128\n",
      "/opt/conda/envs/python3/lib/python3.6/site-packages/sklearn/metrics/cluster/supervised.py:859: FutureWarning: The behavior of NMI will change in version 0.22. To match the behavior of 'v_measure_score', NMI will use average_method='arithmetic' by default.\n",
      "  FutureWarning)\n",
      "2020-04-23 00:49:52,900 - Clustering - INFO - reading/data/data/K_DoesAlgMirrorEdgesTest_1/gt_default.parq\n",
      "INFO:Clustering:reading/data/data/K_DoesAlgMirrorEdgesTest_1/gt_default.parq\n",
      "2020-04-23 00:49:52,905 - ClusterComparator - INFO - resulting 128 nodes out of 128,128\n",
      "INFO:ClusterComparator:resulting 128 nodes out of 128,128\n",
      "2020-04-23 00:49:52,911 - ClusterComparator - INFO - resulting 128 nodes out of 128,128\n",
      "INFO:ClusterComparator:resulting 128 nodes out of 128,128\n",
      "/opt/conda/envs/python3/lib/python3.6/site-packages/sklearn/metrics/cluster/supervised.py:859: FutureWarning: The behavior of NMI will change in version 0.22. To match the behavior of 'v_measure_score', NMI will use average_method='arithmetic' by default.\n",
      "  FutureWarning)\n",
      "2020-04-23 00:49:52,922 - ClusterComparator - INFO - resulting 128 nodes out of 128,128\n",
      "INFO:ClusterComparator:resulting 128 nodes out of 128,128\n",
      "/opt/conda/envs/python3/lib/python3.6/site-packages/sklearn/metrics/cluster/supervised.py:859: FutureWarning: The behavior of NMI will change in version 0.22. To match the behavior of 'v_measure_score', NMI will use average_method='arithmetic' by default.\n",
      "  FutureWarning)\n",
      "2020-04-23 00:49:52,931 - ClusterComparator - INFO - Running /opt/gct/submodules/OvpNMI/onmi /tmp/tmpqj1iaj3j/cluster1.cnl /tmp/tmpqj1iaj3j/cluster2.cnl > ovpnmioutput\n",
      "INFO:ClusterComparator:Running /opt/gct/submodules/OvpNMI/onmi /tmp/tmpqj1iaj3j/cluster1.cnl /tmp/tmpqj1iaj3j/cluster2.cnl > ovpnmioutput\n",
      "2020-04-23 00:49:52,940 - Clustering - INFO - reading/data/data/K_DoesAlgMirrorEdgesTest_1/gt_default.parq\n",
      "INFO:Clustering:reading/data/data/K_DoesAlgMirrorEdgesTest_1/gt_default.parq\n",
      "2020-04-23 00:49:52,946 - ClusterComparator - INFO - resulting 128 nodes out of 128,128\n",
      "INFO:ClusterComparator:resulting 128 nodes out of 128,128\n",
      "/opt/conda/envs/python3/lib/python3.6/site-packages/sklearn/metrics/cluster/supervised.py:859: FutureWarning: The behavior of NMI will change in version 0.22. To match the behavior of 'v_measure_score', NMI will use average_method='arithmetic' by default.\n",
      "  FutureWarning)\n",
      "2020-04-23 00:49:52,954 - ClusterComparator - INFO - Running /opt/gct/submodules/OvpNMI/onmi /tmp/tmpoqo93uc_/cluster1.cnl /tmp/tmpoqo93uc_/cluster2.cnl > ovpnmioutput\n",
      "INFO:ClusterComparator:Running /opt/gct/submodules/OvpNMI/onmi /tmp/tmpoqo93uc_/cluster1.cnl /tmp/tmpoqo93uc_/cluster2.cnl > ovpnmioutput\n",
      "2020-04-23 00:49:52,963 - ClusterComparator - INFO - resulting 128 nodes out of 128,128\n",
      "INFO:ClusterComparator:resulting 128 nodes out of 128,128\n",
      "/opt/conda/envs/python3/lib/python3.6/site-packages/sklearn/metrics/cluster/supervised.py:859: FutureWarning: The behavior of NMI will change in version 0.22. To match the behavior of 'v_measure_score', NMI will use average_method='arithmetic' by default.\n",
      "  FutureWarning)\n",
      "2020-04-23 00:49:52,972 - ClusterComparator - INFO - Running /opt/gct/submodules/OvpNMI/onmi /tmp/tmpjhsav3rt/cluster1.cnl /tmp/tmpjhsav3rt/cluster2.cnl > ovpnmioutput\n",
      "INFO:ClusterComparator:Running /opt/gct/submodules/OvpNMI/onmi /tmp/tmpjhsav3rt/cluster1.cnl /tmp/tmpjhsav3rt/cluster2.cnl > ovpnmioutput\n",
      "2020-04-23 00:49:52,987 - ClusterComparator - INFO - resulting 128 nodes out of 128,128\n",
      "INFO:ClusterComparator:resulting 128 nodes out of 128,128\n",
      "/opt/conda/envs/python3/lib/python3.6/site-packages/sklearn/metrics/cluster/supervised.py:859: FutureWarning: The behavior of NMI will change in version 0.22. To match the behavior of 'v_measure_score', NMI will use average_method='arithmetic' by default.\n",
      "  FutureWarning)\n",
      "2020-04-23 00:49:52,998 - ClusterComparator - INFO - Running /opt/gct/submodules/OvpNMI/onmi /tmp/tmpa9vhc5wx/cluster1.cnl /tmp/tmpa9vhc5wx/cluster2.cnl > ovpnmioutput\n",
      "INFO:ClusterComparator:Running /opt/gct/submodules/OvpNMI/onmi /tmp/tmpa9vhc5wx/cluster1.cnl /tmp/tmpa9vhc5wx/cluster2.cnl > ovpnmioutput\n",
      "2020-04-23 00:49:53,007 - Clustering - INFO - reading/data/data/K_DoesAlgMirrorEdgesTest_1/gt_default.parq\n",
      "INFO:Clustering:reading/data/data/K_DoesAlgMirrorEdgesTest_1/gt_default.parq\n",
      "2020-04-23 00:49:53,013 - ClusterComparator - INFO - resulting 128 nodes out of 128,128\n",
      "INFO:ClusterComparator:resulting 128 nodes out of 128,128\n",
      "/opt/conda/envs/python3/lib/python3.6/site-packages/sklearn/metrics/cluster/supervised.py:859: FutureWarning: The behavior of NMI will change in version 0.22. To match the behavior of 'v_measure_score', NMI will use average_method='arithmetic' by default.\n",
      "  FutureWarning)\n",
      "2020-04-23 00:49:53,021 - ClusterComparator - INFO - Running /opt/gct/submodules/OvpNMI/onmi /tmp/tmpe4hs8rma/cluster1.cnl /tmp/tmpe4hs8rma/cluster2.cnl > ovpnmioutput\n",
      "INFO:ClusterComparator:Running /opt/gct/submodules/OvpNMI/onmi /tmp/tmpe4hs8rma/cluster1.cnl /tmp/tmpe4hs8rma/cluster2.cnl > ovpnmioutput\n",
      "2020-04-23 00:49:53,030 - ClusterComparator - INFO - resulting 128 nodes out of 128,128\n",
      "INFO:ClusterComparator:resulting 128 nodes out of 128,128\n",
      "/opt/conda/envs/python3/lib/python3.6/site-packages/sklearn/metrics/cluster/supervised.py:859: FutureWarning: The behavior of NMI will change in version 0.22. To match the behavior of 'v_measure_score', NMI will use average_method='arithmetic' by default.\n",
      "  FutureWarning)\n",
      "2020-04-23 00:49:53,039 - ClusterComparator - INFO - Running /opt/gct/submodules/OvpNMI/onmi /tmp/tmpgvv_d6qn/cluster1.cnl /tmp/tmpgvv_d6qn/cluster2.cnl > ovpnmioutput\n"
     ]
    },
    {
     "name": "stderr",
     "output_type": "stream",
     "text": [
      "INFO:ClusterComparator:Running /opt/gct/submodules/OvpNMI/onmi /tmp/tmpgvv_d6qn/cluster1.cnl /tmp/tmpgvv_d6qn/cluster2.cnl > ovpnmioutput\n",
      "2020-04-23 00:49:53,054 - ClusterComparator - INFO - resulting 128 nodes out of 128,128\n",
      "INFO:ClusterComparator:resulting 128 nodes out of 128,128\n",
      "/opt/conda/envs/python3/lib/python3.6/site-packages/sklearn/metrics/cluster/supervised.py:859: FutureWarning: The behavior of NMI will change in version 0.22. To match the behavior of 'v_measure_score', NMI will use average_method='arithmetic' by default.\n",
      "  FutureWarning)\n",
      "2020-04-23 00:49:53,064 - ClusterComparator - INFO - Running /opt/gct/submodules/OvpNMI/onmi /tmp/tmphmu_44oh/cluster1.cnl /tmp/tmphmu_44oh/cluster2.cnl > ovpnmioutput\n",
      "INFO:ClusterComparator:Running /opt/gct/submodules/OvpNMI/onmi /tmp/tmphmu_44oh/cluster1.cnl /tmp/tmphmu_44oh/cluster2.cnl > ovpnmioutput\n",
      "2020-04-23 00:49:53,073 - Clustering - INFO - reading/data/data/K_DoesAlgMirrorEdgesTest_1/gt_default.parq\n",
      "INFO:Clustering:reading/data/data/K_DoesAlgMirrorEdgesTest_1/gt_default.parq\n",
      "2020-04-23 00:49:53,079 - ClusterComparator - INFO - resulting 128 nodes out of 128,128\n",
      "INFO:ClusterComparator:resulting 128 nodes out of 128,128\n",
      "/opt/conda/envs/python3/lib/python3.6/site-packages/sklearn/metrics/cluster/supervised.py:859: FutureWarning: The behavior of NMI will change in version 0.22. To match the behavior of 'v_measure_score', NMI will use average_method='arithmetic' by default.\n",
      "  FutureWarning)\n",
      "2020-04-23 00:49:53,088 - ClusterComparator - INFO - Running /opt/gct/submodules/OvpNMI/onmi /tmp/tmp78sww2yz/cluster1.cnl /tmp/tmp78sww2yz/cluster2.cnl > ovpnmioutput\n",
      "INFO:ClusterComparator:Running /opt/gct/submodules/OvpNMI/onmi /tmp/tmp78sww2yz/cluster1.cnl /tmp/tmp78sww2yz/cluster2.cnl > ovpnmioutput\n",
      "2020-04-23 00:49:53,096 - ClusterComparator - INFO - resulting 128 nodes out of 128,128\n",
      "INFO:ClusterComparator:resulting 128 nodes out of 128,128\n",
      "/opt/conda/envs/python3/lib/python3.6/site-packages/sklearn/metrics/cluster/supervised.py:859: FutureWarning: The behavior of NMI will change in version 0.22. To match the behavior of 'v_measure_score', NMI will use average_method='arithmetic' by default.\n",
      "  FutureWarning)\n",
      "2020-04-23 00:49:53,105 - ClusterComparator - INFO - Running /opt/gct/submodules/OvpNMI/onmi /tmp/tmp11g691jm/cluster1.cnl /tmp/tmp11g691jm/cluster2.cnl > ovpnmioutput\n",
      "INFO:ClusterComparator:Running /opt/gct/submodules/OvpNMI/onmi /tmp/tmp11g691jm/cluster1.cnl /tmp/tmp11g691jm/cluster2.cnl > ovpnmioutput\n",
      "2020-04-23 00:49:53,121 - ClusterComparator - INFO - resulting 128 nodes out of 128,128\n",
      "INFO:ClusterComparator:resulting 128 nodes out of 128,128\n",
      "/opt/conda/envs/python3/lib/python3.6/site-packages/sklearn/metrics/cluster/supervised.py:859: FutureWarning: The behavior of NMI will change in version 0.22. To match the behavior of 'v_measure_score', NMI will use average_method='arithmetic' by default.\n",
      "  FutureWarning)\n",
      "2020-04-23 00:49:53,131 - ClusterComparator - INFO - Running /opt/gct/submodules/OvpNMI/onmi /tmp/tmpklbp0i8g/cluster1.cnl /tmp/tmpklbp0i8g/cluster2.cnl > ovpnmioutput\n",
      "INFO:ClusterComparator:Running /opt/gct/submodules/OvpNMI/onmi /tmp/tmpklbp0i8g/cluster1.cnl /tmp/tmpklbp0i8g/cluster2.cnl > ovpnmioutput\n",
      "2020-04-23 00:49:53,140 - Clustering - INFO - reading/data/data/K_DoesAlgMirrorEdgesTest_1/gt_default.parq\n",
      "INFO:Clustering:reading/data/data/K_DoesAlgMirrorEdgesTest_1/gt_default.parq\n",
      "2020-04-23 00:49:53,146 - ClusterComparator - INFO - resulting 128 nodes out of 128,128\n",
      "INFO:ClusterComparator:resulting 128 nodes out of 128,128\n",
      "/opt/conda/envs/python3/lib/python3.6/site-packages/sklearn/metrics/cluster/supervised.py:859: FutureWarning: The behavior of NMI will change in version 0.22. To match the behavior of 'v_measure_score', NMI will use average_method='arithmetic' by default.\n",
      "  FutureWarning)\n",
      "2020-04-23 00:49:53,154 - ClusterComparator - INFO - Running /opt/gct/submodules/OvpNMI/onmi /tmp/tmpd2ixaqm2/cluster1.cnl /tmp/tmpd2ixaqm2/cluster2.cnl > ovpnmioutput\n",
      "INFO:ClusterComparator:Running /opt/gct/submodules/OvpNMI/onmi /tmp/tmpd2ixaqm2/cluster1.cnl /tmp/tmpd2ixaqm2/cluster2.cnl > ovpnmioutput\n",
      "2020-04-23 00:49:53,163 - ClusterComparator - INFO - resulting 128 nodes out of 128,128\n",
      "INFO:ClusterComparator:resulting 128 nodes out of 128,128\n",
      "/opt/conda/envs/python3/lib/python3.6/site-packages/sklearn/metrics/cluster/supervised.py:859: FutureWarning: The behavior of NMI will change in version 0.22. To match the behavior of 'v_measure_score', NMI will use average_method='arithmetic' by default.\n",
      "  FutureWarning)\n",
      "2020-04-23 00:49:53,173 - ClusterComparator - INFO - Running /opt/gct/submodules/OvpNMI/onmi /tmp/tmpy_k74t3x/cluster1.cnl /tmp/tmpy_k74t3x/cluster2.cnl > ovpnmioutput\n",
      "INFO:ClusterComparator:Running /opt/gct/submodules/OvpNMI/onmi /tmp/tmpy_k74t3x/cluster1.cnl /tmp/tmpy_k74t3x/cluster2.cnl > ovpnmioutput\n",
      "2020-04-23 00:49:53,188 - ClusterComparator - INFO - resulting 128 nodes out of 128,128\n",
      "INFO:ClusterComparator:resulting 128 nodes out of 128,128\n",
      "/opt/conda/envs/python3/lib/python3.6/site-packages/sklearn/metrics/cluster/supervised.py:859: FutureWarning: The behavior of NMI will change in version 0.22. To match the behavior of 'v_measure_score', NMI will use average_method='arithmetic' by default.\n",
      "  FutureWarning)\n",
      "2020-04-23 00:49:53,198 - ClusterComparator - INFO - Running /opt/gct/submodules/OvpNMI/onmi /tmp/tmpyocaj25c/cluster1.cnl /tmp/tmpyocaj25c/cluster2.cnl > ovpnmioutput\n",
      "INFO:ClusterComparator:Running /opt/gct/submodules/OvpNMI/onmi /tmp/tmpyocaj25c/cluster1.cnl /tmp/tmpyocaj25c/cluster2.cnl > ovpnmioutput\n",
      "2020-04-23 00:49:53,207 - Clustering - INFO - reading/data/data/K_DoesAlgMirrorEdgesTest_1/gt_default.parq\n",
      "INFO:Clustering:reading/data/data/K_DoesAlgMirrorEdgesTest_1/gt_default.parq\n",
      "2020-04-23 00:49:53,213 - ClusterComparator - INFO - resulting 128 nodes out of 128,128\n",
      "INFO:ClusterComparator:resulting 128 nodes out of 128,128\n",
      "/opt/conda/envs/python3/lib/python3.6/site-packages/sklearn/metrics/cluster/supervised.py:859: FutureWarning: The behavior of NMI will change in version 0.22. To match the behavior of 'v_measure_score', NMI will use average_method='arithmetic' by default.\n",
      "  FutureWarning)\n",
      "2020-04-23 00:49:53,222 - ClusterComparator - INFO - Running /opt/gct/submodules/OvpNMI/onmi /tmp/tmpuaqeoioo/cluster1.cnl /tmp/tmpuaqeoioo/cluster2.cnl > ovpnmioutput\n",
      "INFO:ClusterComparator:Running /opt/gct/submodules/OvpNMI/onmi /tmp/tmpuaqeoioo/cluster1.cnl /tmp/tmpuaqeoioo/cluster2.cnl > ovpnmioutput\n",
      "2020-04-23 00:49:53,230 - ClusterComparator - INFO - resulting 128 nodes out of 128,128\n",
      "INFO:ClusterComparator:resulting 128 nodes out of 128,128\n",
      "/opt/conda/envs/python3/lib/python3.6/site-packages/sklearn/metrics/cluster/supervised.py:859: FutureWarning: The behavior of NMI will change in version 0.22. To match the behavior of 'v_measure_score', NMI will use average_method='arithmetic' by default.\n",
      "  FutureWarning)\n",
      "2020-04-23 00:49:53,240 - ClusterComparator - INFO - Running /opt/gct/submodules/OvpNMI/onmi /tmp/tmpv9zruxpe/cluster1.cnl /tmp/tmpv9zruxpe/cluster2.cnl > ovpnmioutput\n",
      "INFO:ClusterComparator:Running /opt/gct/submodules/OvpNMI/onmi /tmp/tmpv9zruxpe/cluster1.cnl /tmp/tmpv9zruxpe/cluster2.cnl > ovpnmioutput\n",
      "2020-04-23 00:49:53,255 - ClusterComparator - INFO - resulting 128 nodes out of 128,128\n",
      "INFO:ClusterComparator:resulting 128 nodes out of 128,128\n",
      "/opt/conda/envs/python3/lib/python3.6/site-packages/sklearn/metrics/cluster/supervised.py:859: FutureWarning: The behavior of NMI will change in version 0.22. To match the behavior of 'v_measure_score', NMI will use average_method='arithmetic' by default.\n",
      "  FutureWarning)\n",
      "2020-04-23 00:49:53,265 - ClusterComparator - INFO - Running /opt/gct/submodules/OvpNMI/onmi /tmp/tmpuckf5d7q/cluster1.cnl /tmp/tmpuckf5d7q/cluster2.cnl > ovpnmioutput\n",
      "INFO:ClusterComparator:Running /opt/gct/submodules/OvpNMI/onmi /tmp/tmpuckf5d7q/cluster1.cnl /tmp/tmpuckf5d7q/cluster2.cnl > ovpnmioutput\n",
      "2020-04-23 00:49:53,274 - Clustering - INFO - reading/data/data/K_DoesAlgMirrorEdgesTest_1/gt_default.parq\n",
      "INFO:Clustering:reading/data/data/K_DoesAlgMirrorEdgesTest_1/gt_default.parq\n",
      "2020-04-23 00:49:53,281 - ClusterComparator - INFO - resulting 128 nodes out of 128,128\n"
     ]
    },
    {
     "name": "stderr",
     "output_type": "stream",
     "text": [
      "INFO:ClusterComparator:resulting 128 nodes out of 128,128\n",
      "/opt/conda/envs/python3/lib/python3.6/site-packages/sklearn/metrics/cluster/supervised.py:859: FutureWarning: The behavior of NMI will change in version 0.22. To match the behavior of 'v_measure_score', NMI will use average_method='arithmetic' by default.\n",
      "  FutureWarning)\n",
      "2020-04-23 00:49:53,289 - ClusterComparator - INFO - Running /opt/gct/submodules/OvpNMI/onmi /tmp/tmpd77yyv3d/cluster1.cnl /tmp/tmpd77yyv3d/cluster2.cnl > ovpnmioutput\n",
      "INFO:ClusterComparator:Running /opt/gct/submodules/OvpNMI/onmi /tmp/tmpd77yyv3d/cluster1.cnl /tmp/tmpd77yyv3d/cluster2.cnl > ovpnmioutput\n",
      "2020-04-23 00:49:53,298 - ClusterComparator - INFO - resulting 128 nodes out of 128,128\n",
      "INFO:ClusterComparator:resulting 128 nodes out of 128,128\n",
      "/opt/conda/envs/python3/lib/python3.6/site-packages/sklearn/metrics/cluster/supervised.py:859: FutureWarning: The behavior of NMI will change in version 0.22. To match the behavior of 'v_measure_score', NMI will use average_method='arithmetic' by default.\n",
      "  FutureWarning)\n",
      "2020-04-23 00:49:53,307 - ClusterComparator - INFO - Running /opt/gct/submodules/OvpNMI/onmi /tmp/tmp_yvw6uqx/cluster1.cnl /tmp/tmp_yvw6uqx/cluster2.cnl > ovpnmioutput\n",
      "INFO:ClusterComparator:Running /opt/gct/submodules/OvpNMI/onmi /tmp/tmp_yvw6uqx/cluster1.cnl /tmp/tmp_yvw6uqx/cluster2.cnl > ovpnmioutput\n",
      "2020-04-23 00:49:53,322 - ClusterComparator - INFO - resulting 128 nodes out of 128,128\n",
      "INFO:ClusterComparator:resulting 128 nodes out of 128,128\n",
      "/opt/conda/envs/python3/lib/python3.6/site-packages/sklearn/metrics/cluster/supervised.py:859: FutureWarning: The behavior of NMI will change in version 0.22. To match the behavior of 'v_measure_score', NMI will use average_method='arithmetic' by default.\n",
      "  FutureWarning)\n",
      "2020-04-23 00:49:53,333 - ClusterComparator - INFO - Running /opt/gct/submodules/OvpNMI/onmi /tmp/tmpva45n4gz/cluster1.cnl /tmp/tmpva45n4gz/cluster2.cnl > ovpnmioutput\n",
      "INFO:ClusterComparator:Running /opt/gct/submodules/OvpNMI/onmi /tmp/tmpva45n4gz/cluster1.cnl /tmp/tmpva45n4gz/cluster2.cnl > ovpnmioutput\n",
      "2020-04-23 00:49:53,341 - Clustering - INFO - reading/data/data/K_DoesAlgMirrorEdgesTest_1/gt_default.parq\n",
      "INFO:Clustering:reading/data/data/K_DoesAlgMirrorEdgesTest_1/gt_default.parq\n",
      "2020-04-23 00:49:53,348 - ClusterComparator - INFO - resulting 128 nodes out of 128,128\n",
      "INFO:ClusterComparator:resulting 128 nodes out of 128,128\n",
      "/opt/conda/envs/python3/lib/python3.6/site-packages/sklearn/metrics/cluster/supervised.py:859: FutureWarning: The behavior of NMI will change in version 0.22. To match the behavior of 'v_measure_score', NMI will use average_method='arithmetic' by default.\n",
      "  FutureWarning)\n",
      "2020-04-23 00:49:53,356 - ClusterComparator - INFO - Running /opt/gct/submodules/OvpNMI/onmi /tmp/tmpk7gky0yq/cluster1.cnl /tmp/tmpk7gky0yq/cluster2.cnl > ovpnmioutput\n",
      "INFO:ClusterComparator:Running /opt/gct/submodules/OvpNMI/onmi /tmp/tmpk7gky0yq/cluster1.cnl /tmp/tmpk7gky0yq/cluster2.cnl > ovpnmioutput\n",
      "2020-04-23 00:49:53,364 - ClusterComparator - INFO - resulting 128 nodes out of 128,128\n",
      "INFO:ClusterComparator:resulting 128 nodes out of 128,128\n",
      "/opt/conda/envs/python3/lib/python3.6/site-packages/sklearn/metrics/cluster/supervised.py:859: FutureWarning: The behavior of NMI will change in version 0.22. To match the behavior of 'v_measure_score', NMI will use average_method='arithmetic' by default.\n",
      "  FutureWarning)\n",
      "2020-04-23 00:49:53,374 - ClusterComparator - INFO - Running /opt/gct/submodules/OvpNMI/onmi /tmp/tmpt86w5seh/cluster1.cnl /tmp/tmpt86w5seh/cluster2.cnl > ovpnmioutput\n",
      "INFO:ClusterComparator:Running /opt/gct/submodules/OvpNMI/onmi /tmp/tmpt86w5seh/cluster1.cnl /tmp/tmpt86w5seh/cluster2.cnl > ovpnmioutput\n",
      "2020-04-23 00:49:53,389 - ClusterComparator - INFO - resulting 128 nodes out of 128,128\n",
      "INFO:ClusterComparator:resulting 128 nodes out of 128,128\n",
      "/opt/conda/envs/python3/lib/python3.6/site-packages/sklearn/metrics/cluster/supervised.py:859: FutureWarning: The behavior of NMI will change in version 0.22. To match the behavior of 'v_measure_score', NMI will use average_method='arithmetic' by default.\n",
      "  FutureWarning)\n",
      "2020-04-23 00:49:53,399 - ClusterComparator - INFO - Running /opt/gct/submodules/OvpNMI/onmi /tmp/tmpkltl6ycq/cluster1.cnl /tmp/tmpkltl6ycq/cluster2.cnl > ovpnmioutput\n",
      "INFO:ClusterComparator:Running /opt/gct/submodules/OvpNMI/onmi /tmp/tmpkltl6ycq/cluster1.cnl /tmp/tmpkltl6ycq/cluster2.cnl > ovpnmioutput\n",
      "2020-04-23 00:49:53,408 - Clustering - INFO - reading/data/data/K_DoesAlgMirrorEdgesTest_1/gt_default.parq\n",
      "INFO:Clustering:reading/data/data/K_DoesAlgMirrorEdgesTest_1/gt_default.parq\n",
      "2020-04-23 00:49:53,414 - ClusterComparator - INFO - resulting 128 nodes out of 128,128\n",
      "INFO:ClusterComparator:resulting 128 nodes out of 128,128\n",
      "/opt/conda/envs/python3/lib/python3.6/site-packages/sklearn/metrics/cluster/supervised.py:859: FutureWarning: The behavior of NMI will change in version 0.22. To match the behavior of 'v_measure_score', NMI will use average_method='arithmetic' by default.\n",
      "  FutureWarning)\n",
      "2020-04-23 00:49:53,423 - ClusterComparator - INFO - Running /opt/gct/submodules/OvpNMI/onmi /tmp/tmpas9v7m0g/cluster1.cnl /tmp/tmpas9v7m0g/cluster2.cnl > ovpnmioutput\n",
      "INFO:ClusterComparator:Running /opt/gct/submodules/OvpNMI/onmi /tmp/tmpas9v7m0g/cluster1.cnl /tmp/tmpas9v7m0g/cluster2.cnl > ovpnmioutput\n",
      "2020-04-23 00:49:53,431 - ClusterComparator - INFO - resulting 128 nodes out of 128,128\n",
      "INFO:ClusterComparator:resulting 128 nodes out of 128,128\n",
      "/opt/conda/envs/python3/lib/python3.6/site-packages/sklearn/metrics/cluster/supervised.py:859: FutureWarning: The behavior of NMI will change in version 0.22. To match the behavior of 'v_measure_score', NMI will use average_method='arithmetic' by default.\n",
      "  FutureWarning)\n",
      "2020-04-23 00:49:53,441 - ClusterComparator - INFO - Running /opt/gct/submodules/OvpNMI/onmi /tmp/tmpg9oir5w5/cluster1.cnl /tmp/tmpg9oir5w5/cluster2.cnl > ovpnmioutput\n",
      "INFO:ClusterComparator:Running /opt/gct/submodules/OvpNMI/onmi /tmp/tmpg9oir5w5/cluster1.cnl /tmp/tmpg9oir5w5/cluster2.cnl > ovpnmioutput\n",
      "2020-04-23 00:49:53,456 - ClusterComparator - INFO - resulting 128 nodes out of 128,128\n",
      "INFO:ClusterComparator:resulting 128 nodes out of 128,128\n",
      "/opt/conda/envs/python3/lib/python3.6/site-packages/sklearn/metrics/cluster/supervised.py:859: FutureWarning: The behavior of NMI will change in version 0.22. To match the behavior of 'v_measure_score', NMI will use average_method='arithmetic' by default.\n",
      "  FutureWarning)\n",
      "2020-04-23 00:49:53,467 - ClusterComparator - INFO - Running /opt/gct/submodules/OvpNMI/onmi /tmp/tmpgvj1jtdf/cluster1.cnl /tmp/tmpgvj1jtdf/cluster2.cnl > ovpnmioutput\n",
      "INFO:ClusterComparator:Running /opt/gct/submodules/OvpNMI/onmi /tmp/tmpgvj1jtdf/cluster1.cnl /tmp/tmpgvj1jtdf/cluster2.cnl > ovpnmioutput\n",
      "2020-04-23 00:49:53,475 - Clustering - INFO - reading/data/data/K_DoesAlgMirrorEdgesTest_1/gt_default.parq\n",
      "INFO:Clustering:reading/data/data/K_DoesAlgMirrorEdgesTest_1/gt_default.parq\n",
      "2020-04-23 00:49:53,482 - ClusterComparator - INFO - resulting 128 nodes out of 128,128\n",
      "INFO:ClusterComparator:resulting 128 nodes out of 128,128\n",
      "/opt/conda/envs/python3/lib/python3.6/site-packages/sklearn/metrics/cluster/supervised.py:859: FutureWarning: The behavior of NMI will change in version 0.22. To match the behavior of 'v_measure_score', NMI will use average_method='arithmetic' by default.\n",
      "  FutureWarning)\n",
      "2020-04-23 00:49:53,490 - ClusterComparator - INFO - Running /opt/gct/submodules/OvpNMI/onmi /tmp/tmp2j7gr6kr/cluster1.cnl /tmp/tmp2j7gr6kr/cluster2.cnl > ovpnmioutput\n",
      "INFO:ClusterComparator:Running /opt/gct/submodules/OvpNMI/onmi /tmp/tmp2j7gr6kr/cluster1.cnl /tmp/tmp2j7gr6kr/cluster2.cnl > ovpnmioutput\n",
      "2020-04-23 00:49:53,499 - ClusterComparator - INFO - resulting 128 nodes out of 128,128\n",
      "INFO:ClusterComparator:resulting 128 nodes out of 128,128\n",
      "/opt/conda/envs/python3/lib/python3.6/site-packages/sklearn/metrics/cluster/supervised.py:859: FutureWarning: The behavior of NMI will change in version 0.22. To match the behavior of 'v_measure_score', NMI will use average_method='arithmetic' by default.\n",
      "  FutureWarning)\n",
      "2020-04-23 00:49:53,508 - ClusterComparator - INFO - Running /opt/gct/submodules/OvpNMI/onmi /tmp/tmpefvtc7b4/cluster1.cnl /tmp/tmpefvtc7b4/cluster2.cnl > ovpnmioutput\n"
     ]
    },
    {
     "name": "stderr",
     "output_type": "stream",
     "text": [
      "INFO:ClusterComparator:Running /opt/gct/submodules/OvpNMI/onmi /tmp/tmpefvtc7b4/cluster1.cnl /tmp/tmpefvtc7b4/cluster2.cnl > ovpnmioutput\n",
      "2020-04-23 00:49:53,524 - ClusterComparator - INFO - resulting 128 nodes out of 128,128\n",
      "INFO:ClusterComparator:resulting 128 nodes out of 128,128\n",
      "/opt/conda/envs/python3/lib/python3.6/site-packages/sklearn/metrics/cluster/supervised.py:859: FutureWarning: The behavior of NMI will change in version 0.22. To match the behavior of 'v_measure_score', NMI will use average_method='arithmetic' by default.\n",
      "  FutureWarning)\n",
      "2020-04-23 00:49:53,534 - ClusterComparator - INFO - Running /opt/gct/submodules/OvpNMI/onmi /tmp/tmpwgqbyl6q/cluster1.cnl /tmp/tmpwgqbyl6q/cluster2.cnl > ovpnmioutput\n",
      "INFO:ClusterComparator:Running /opt/gct/submodules/OvpNMI/onmi /tmp/tmpwgqbyl6q/cluster1.cnl /tmp/tmpwgqbyl6q/cluster2.cnl > ovpnmioutput\n",
      "2020-04-23 00:49:53,543 - Clustering - INFO - reading/data/data/K_DoesAlgMirrorEdgesTest_1/gt_default.parq\n",
      "INFO:Clustering:reading/data/data/K_DoesAlgMirrorEdgesTest_1/gt_default.parq\n",
      "2020-04-23 00:49:53,550 - ClusterComparator - INFO - resulting 128 nodes out of 128,128\n",
      "INFO:ClusterComparator:resulting 128 nodes out of 128,128\n",
      "/opt/conda/envs/python3/lib/python3.6/site-packages/sklearn/metrics/cluster/supervised.py:859: FutureWarning: The behavior of NMI will change in version 0.22. To match the behavior of 'v_measure_score', NMI will use average_method='arithmetic' by default.\n",
      "  FutureWarning)\n",
      "2020-04-23 00:49:53,558 - ClusterComparator - INFO - Running /opt/gct/submodules/OvpNMI/onmi /tmp/tmpr1s74nh7/cluster1.cnl /tmp/tmpr1s74nh7/cluster2.cnl > ovpnmioutput\n",
      "INFO:ClusterComparator:Running /opt/gct/submodules/OvpNMI/onmi /tmp/tmpr1s74nh7/cluster1.cnl /tmp/tmpr1s74nh7/cluster2.cnl > ovpnmioutput\n",
      "2020-04-23 00:49:53,567 - ClusterComparator - INFO - resulting 128 nodes out of 128,128\n",
      "INFO:ClusterComparator:resulting 128 nodes out of 128,128\n",
      "/opt/conda/envs/python3/lib/python3.6/site-packages/sklearn/metrics/cluster/supervised.py:859: FutureWarning: The behavior of NMI will change in version 0.22. To match the behavior of 'v_measure_score', NMI will use average_method='arithmetic' by default.\n",
      "  FutureWarning)\n",
      "2020-04-23 00:49:53,576 - ClusterComparator - INFO - Running /opt/gct/submodules/OvpNMI/onmi /tmp/tmpfog_1ye7/cluster1.cnl /tmp/tmpfog_1ye7/cluster2.cnl > ovpnmioutput\n",
      "INFO:ClusterComparator:Running /opt/gct/submodules/OvpNMI/onmi /tmp/tmpfog_1ye7/cluster1.cnl /tmp/tmpfog_1ye7/cluster2.cnl > ovpnmioutput\n",
      "2020-04-23 00:49:53,592 - ClusterComparator - INFO - resulting 128 nodes out of 128,128\n",
      "INFO:ClusterComparator:resulting 128 nodes out of 128,128\n",
      "/opt/conda/envs/python3/lib/python3.6/site-packages/sklearn/metrics/cluster/supervised.py:859: FutureWarning: The behavior of NMI will change in version 0.22. To match the behavior of 'v_measure_score', NMI will use average_method='arithmetic' by default.\n",
      "  FutureWarning)\n",
      "2020-04-23 00:49:53,597 - Clustering - INFO - reading/data/data/K_DoesAlgMirrorEdgesTest_1/gt_default.parq\n",
      "INFO:Clustering:reading/data/data/K_DoesAlgMirrorEdgesTest_1/gt_default.parq\n",
      "2020-04-23 00:49:53,602 - ClusterComparator - INFO - resulting 128 nodes out of 128,128\n",
      "INFO:ClusterComparator:resulting 128 nodes out of 128,128\n",
      "2020-04-23 00:49:53,608 - ClusterComparator - INFO - resulting 128 nodes out of 128,128\n",
      "INFO:ClusterComparator:resulting 128 nodes out of 128,128\n",
      "/opt/conda/envs/python3/lib/python3.6/site-packages/sklearn/metrics/cluster/supervised.py:859: FutureWarning: The behavior of NMI will change in version 0.22. To match the behavior of 'v_measure_score', NMI will use average_method='arithmetic' by default.\n",
      "  FutureWarning)\n",
      "2020-04-23 00:49:53,619 - ClusterComparator - INFO - resulting 128 nodes out of 128,128\n",
      "INFO:ClusterComparator:resulting 128 nodes out of 128,128\n",
      "/opt/conda/envs/python3/lib/python3.6/site-packages/sklearn/metrics/cluster/supervised.py:859: FutureWarning: The behavior of NMI will change in version 0.22. To match the behavior of 'v_measure_score', NMI will use average_method='arithmetic' by default.\n",
      "  FutureWarning)\n",
      "2020-04-23 00:49:53,628 - ClusterComparator - INFO - Running /opt/gct/submodules/OvpNMI/onmi /tmp/tmp5h2q3xi2/cluster1.cnl /tmp/tmp5h2q3xi2/cluster2.cnl > ovpnmioutput\n",
      "INFO:ClusterComparator:Running /opt/gct/submodules/OvpNMI/onmi /tmp/tmp5h2q3xi2/cluster1.cnl /tmp/tmp5h2q3xi2/cluster2.cnl > ovpnmioutput\n",
      "2020-04-23 00:49:53,637 - Clustering - INFO - reading/data/data/K_DoesAlgMirrorEdgesTest_1/gt_default.parq\n",
      "INFO:Clustering:reading/data/data/K_DoesAlgMirrorEdgesTest_1/gt_default.parq\n",
      "2020-04-23 00:49:53,644 - ClusterComparator - INFO - resulting 128 nodes out of 128,128\n",
      "INFO:ClusterComparator:resulting 128 nodes out of 128,128\n",
      "/opt/conda/envs/python3/lib/python3.6/site-packages/sklearn/metrics/cluster/supervised.py:859: FutureWarning: The behavior of NMI will change in version 0.22. To match the behavior of 'v_measure_score', NMI will use average_method='arithmetic' by default.\n",
      "  FutureWarning)\n",
      "2020-04-23 00:49:53,651 - ClusterComparator - INFO - Running /opt/gct/submodules/OvpNMI/onmi /tmp/tmpvpau1bz7/cluster1.cnl /tmp/tmpvpau1bz7/cluster2.cnl > ovpnmioutput\n",
      "INFO:ClusterComparator:Running /opt/gct/submodules/OvpNMI/onmi /tmp/tmpvpau1bz7/cluster1.cnl /tmp/tmpvpau1bz7/cluster2.cnl > ovpnmioutput\n",
      "2020-04-23 00:49:53,660 - ClusterComparator - INFO - resulting 128 nodes out of 128,128\n",
      "INFO:ClusterComparator:resulting 128 nodes out of 128,128\n",
      "/opt/conda/envs/python3/lib/python3.6/site-packages/sklearn/metrics/cluster/supervised.py:859: FutureWarning: The behavior of NMI will change in version 0.22. To match the behavior of 'v_measure_score', NMI will use average_method='arithmetic' by default.\n",
      "  FutureWarning)\n",
      "2020-04-23 00:49:53,670 - ClusterComparator - INFO - Running /opt/gct/submodules/OvpNMI/onmi /tmp/tmph3mq51ee/cluster1.cnl /tmp/tmph3mq51ee/cluster2.cnl > ovpnmioutput\n",
      "INFO:ClusterComparator:Running /opt/gct/submodules/OvpNMI/onmi /tmp/tmph3mq51ee/cluster1.cnl /tmp/tmph3mq51ee/cluster2.cnl > ovpnmioutput\n",
      "2020-04-23 00:49:53,685 - ClusterComparator - INFO - resulting 128 nodes out of 128,128\n",
      "INFO:ClusterComparator:resulting 128 nodes out of 128,128\n",
      "/opt/conda/envs/python3/lib/python3.6/site-packages/sklearn/metrics/cluster/supervised.py:859: FutureWarning: The behavior of NMI will change in version 0.22. To match the behavior of 'v_measure_score', NMI will use average_method='arithmetic' by default.\n",
      "  FutureWarning)\n",
      "2020-04-23 00:49:53,695 - ClusterComparator - INFO - Running /opt/gct/submodules/OvpNMI/onmi /tmp/tmpt27jmf0w/cluster1.cnl /tmp/tmpt27jmf0w/cluster2.cnl > ovpnmioutput\n",
      "INFO:ClusterComparator:Running /opt/gct/submodules/OvpNMI/onmi /tmp/tmpt27jmf0w/cluster1.cnl /tmp/tmpt27jmf0w/cluster2.cnl > ovpnmioutput\n",
      "2020-04-23 00:49:53,704 - Clustering - INFO - reading/data/data/K_DoesAlgMirrorEdgesTest_1/gt_default.parq\n",
      "INFO:Clustering:reading/data/data/K_DoesAlgMirrorEdgesTest_1/gt_default.parq\n",
      "2020-04-23 00:49:53,710 - ClusterComparator - INFO - resulting 128 nodes out of 128,128\n",
      "INFO:ClusterComparator:resulting 128 nodes out of 128,128\n",
      "/opt/conda/envs/python3/lib/python3.6/site-packages/sklearn/metrics/cluster/supervised.py:859: FutureWarning: The behavior of NMI will change in version 0.22. To match the behavior of 'v_measure_score', NMI will use average_method='arithmetic' by default.\n",
      "  FutureWarning)\n",
      "2020-04-23 00:49:53,718 - ClusterComparator - INFO - Running /opt/gct/submodules/OvpNMI/onmi /tmp/tmp2nlqmki_/cluster1.cnl /tmp/tmp2nlqmki_/cluster2.cnl > ovpnmioutput\n",
      "INFO:ClusterComparator:Running /opt/gct/submodules/OvpNMI/onmi /tmp/tmp2nlqmki_/cluster1.cnl /tmp/tmp2nlqmki_/cluster2.cnl > ovpnmioutput\n",
      "2020-04-23 00:49:53,726 - ClusterComparator - INFO - resulting 128 nodes out of 128,128\n",
      "INFO:ClusterComparator:resulting 128 nodes out of 128,128\n",
      "/opt/conda/envs/python3/lib/python3.6/site-packages/sklearn/metrics/cluster/supervised.py:859: FutureWarning: The behavior of NMI will change in version 0.22. To match the behavior of 'v_measure_score', NMI will use average_method='arithmetic' by default.\n",
      "  FutureWarning)\n",
      "2020-04-23 00:49:53,736 - ClusterComparator - INFO - Running /opt/gct/submodules/OvpNMI/onmi /tmp/tmpym_4kam9/cluster1.cnl /tmp/tmpym_4kam9/cluster2.cnl > ovpnmioutput\n"
     ]
    },
    {
     "name": "stderr",
     "output_type": "stream",
     "text": [
      "INFO:ClusterComparator:Running /opt/gct/submodules/OvpNMI/onmi /tmp/tmpym_4kam9/cluster1.cnl /tmp/tmpym_4kam9/cluster2.cnl > ovpnmioutput\n",
      "2020-04-23 00:49:53,752 - ClusterComparator - INFO - resulting 128 nodes out of 128,128\n",
      "INFO:ClusterComparator:resulting 128 nodes out of 128,128\n",
      "/opt/conda/envs/python3/lib/python3.6/site-packages/sklearn/metrics/cluster/supervised.py:859: FutureWarning: The behavior of NMI will change in version 0.22. To match the behavior of 'v_measure_score', NMI will use average_method='arithmetic' by default.\n",
      "  FutureWarning)\n",
      "2020-04-23 00:49:53,762 - ClusterComparator - INFO - Running /opt/gct/submodules/OvpNMI/onmi /tmp/tmp3anchre0/cluster1.cnl /tmp/tmp3anchre0/cluster2.cnl > ovpnmioutput\n",
      "INFO:ClusterComparator:Running /opt/gct/submodules/OvpNMI/onmi /tmp/tmp3anchre0/cluster1.cnl /tmp/tmp3anchre0/cluster2.cnl > ovpnmioutput\n",
      "2020-04-23 00:49:53,771 - Clustering - INFO - reading/data/data/K_DoesAlgMirrorEdgesTest_1/gt_default.parq\n",
      "INFO:Clustering:reading/data/data/K_DoesAlgMirrorEdgesTest_1/gt_default.parq\n",
      "2020-04-23 00:49:53,777 - ClusterComparator - INFO - resulting 128 nodes out of 128,128\n",
      "INFO:ClusterComparator:resulting 128 nodes out of 128,128\n",
      "/opt/conda/envs/python3/lib/python3.6/site-packages/sklearn/metrics/cluster/supervised.py:859: FutureWarning: The behavior of NMI will change in version 0.22. To match the behavior of 'v_measure_score', NMI will use average_method='arithmetic' by default.\n",
      "  FutureWarning)\n",
      "2020-04-23 00:49:53,785 - ClusterComparator - INFO - Running /opt/gct/submodules/OvpNMI/onmi /tmp/tmpovin_z9n/cluster1.cnl /tmp/tmpovin_z9n/cluster2.cnl > ovpnmioutput\n",
      "INFO:ClusterComparator:Running /opt/gct/submodules/OvpNMI/onmi /tmp/tmpovin_z9n/cluster1.cnl /tmp/tmpovin_z9n/cluster2.cnl > ovpnmioutput\n",
      "2020-04-23 00:49:53,794 - ClusterComparator - INFO - resulting 128 nodes out of 128,128\n",
      "INFO:ClusterComparator:resulting 128 nodes out of 128,128\n",
      "/opt/conda/envs/python3/lib/python3.6/site-packages/sklearn/metrics/cluster/supervised.py:859: FutureWarning: The behavior of NMI will change in version 0.22. To match the behavior of 'v_measure_score', NMI will use average_method='arithmetic' by default.\n",
      "  FutureWarning)\n",
      "2020-04-23 00:49:53,803 - ClusterComparator - INFO - Running /opt/gct/submodules/OvpNMI/onmi /tmp/tmpzc56mpv8/cluster1.cnl /tmp/tmpzc56mpv8/cluster2.cnl > ovpnmioutput\n",
      "INFO:ClusterComparator:Running /opt/gct/submodules/OvpNMI/onmi /tmp/tmpzc56mpv8/cluster1.cnl /tmp/tmpzc56mpv8/cluster2.cnl > ovpnmioutput\n",
      "2020-04-23 00:49:53,818 - ClusterComparator - INFO - resulting 128 nodes out of 128,128\n",
      "INFO:ClusterComparator:resulting 128 nodes out of 128,128\n",
      "/opt/conda/envs/python3/lib/python3.6/site-packages/sklearn/metrics/cluster/supervised.py:859: FutureWarning: The behavior of NMI will change in version 0.22. To match the behavior of 'v_measure_score', NMI will use average_method='arithmetic' by default.\n",
      "  FutureWarning)\n",
      "2020-04-23 00:49:53,828 - ClusterComparator - INFO - Running /opt/gct/submodules/OvpNMI/onmi /tmp/tmp32vgl1fe/cluster1.cnl /tmp/tmp32vgl1fe/cluster2.cnl > ovpnmioutput\n",
      "INFO:ClusterComparator:Running /opt/gct/submodules/OvpNMI/onmi /tmp/tmp32vgl1fe/cluster1.cnl /tmp/tmp32vgl1fe/cluster2.cnl > ovpnmioutput\n",
      "2020-04-23 00:49:53,837 - Clustering - INFO - reading/data/data/K_DoesAlgMirrorEdgesTest_1/gt_default.parq\n",
      "INFO:Clustering:reading/data/data/K_DoesAlgMirrorEdgesTest_1/gt_default.parq\n",
      "2020-04-23 00:49:53,843 - ClusterComparator - INFO - resulting 128 nodes out of 128,128\n",
      "INFO:ClusterComparator:resulting 128 nodes out of 128,128\n",
      "/opt/conda/envs/python3/lib/python3.6/site-packages/sklearn/metrics/cluster/supervised.py:859: FutureWarning: The behavior of NMI will change in version 0.22. To match the behavior of 'v_measure_score', NMI will use average_method='arithmetic' by default.\n",
      "  FutureWarning)\n",
      "2020-04-23 00:49:53,851 - ClusterComparator - INFO - Running /opt/gct/submodules/OvpNMI/onmi /tmp/tmpkng5blt0/cluster1.cnl /tmp/tmpkng5blt0/cluster2.cnl > ovpnmioutput\n",
      "INFO:ClusterComparator:Running /opt/gct/submodules/OvpNMI/onmi /tmp/tmpkng5blt0/cluster1.cnl /tmp/tmpkng5blt0/cluster2.cnl > ovpnmioutput\n",
      "2020-04-23 00:49:53,860 - ClusterComparator - INFO - resulting 128 nodes out of 128,128\n",
      "INFO:ClusterComparator:resulting 128 nodes out of 128,128\n",
      "/opt/conda/envs/python3/lib/python3.6/site-packages/sklearn/metrics/cluster/supervised.py:859: FutureWarning: The behavior of NMI will change in version 0.22. To match the behavior of 'v_measure_score', NMI will use average_method='arithmetic' by default.\n",
      "  FutureWarning)\n",
      "2020-04-23 00:49:53,870 - ClusterComparator - INFO - Running /opt/gct/submodules/OvpNMI/onmi /tmp/tmp53da_9me/cluster1.cnl /tmp/tmp53da_9me/cluster2.cnl > ovpnmioutput\n",
      "INFO:ClusterComparator:Running /opt/gct/submodules/OvpNMI/onmi /tmp/tmp53da_9me/cluster1.cnl /tmp/tmp53da_9me/cluster2.cnl > ovpnmioutput\n",
      "2020-04-23 00:49:53,885 - ClusterComparator - INFO - resulting 128 nodes out of 128,128\n",
      "INFO:ClusterComparator:resulting 128 nodes out of 128,128\n",
      "/opt/conda/envs/python3/lib/python3.6/site-packages/sklearn/metrics/cluster/supervised.py:859: FutureWarning: The behavior of NMI will change in version 0.22. To match the behavior of 'v_measure_score', NMI will use average_method='arithmetic' by default.\n",
      "  FutureWarning)\n",
      "2020-04-23 00:49:53,895 - ClusterComparator - INFO - Running /opt/gct/submodules/OvpNMI/onmi /tmp/tmpee4ixopb/cluster1.cnl /tmp/tmpee4ixopb/cluster2.cnl > ovpnmioutput\n",
      "INFO:ClusterComparator:Running /opt/gct/submodules/OvpNMI/onmi /tmp/tmpee4ixopb/cluster1.cnl /tmp/tmpee4ixopb/cluster2.cnl > ovpnmioutput\n",
      "2020-04-23 00:49:53,904 - Clustering - INFO - reading/data/data/K_DoesAlgMirrorEdgesTest_1/gt_default.parq\n",
      "INFO:Clustering:reading/data/data/K_DoesAlgMirrorEdgesTest_1/gt_default.parq\n",
      "2020-04-23 00:49:53,911 - ClusterComparator - INFO - resulting 128 nodes out of 128,128\n",
      "INFO:ClusterComparator:resulting 128 nodes out of 128,128\n",
      "/opt/conda/envs/python3/lib/python3.6/site-packages/sklearn/metrics/cluster/supervised.py:859: FutureWarning: The behavior of NMI will change in version 0.22. To match the behavior of 'v_measure_score', NMI will use average_method='arithmetic' by default.\n",
      "  FutureWarning)\n",
      "2020-04-23 00:49:53,919 - ClusterComparator - INFO - Running /opt/gct/submodules/OvpNMI/onmi /tmp/tmp95ayl2kd/cluster1.cnl /tmp/tmp95ayl2kd/cluster2.cnl > ovpnmioutput\n",
      "INFO:ClusterComparator:Running /opt/gct/submodules/OvpNMI/onmi /tmp/tmp95ayl2kd/cluster1.cnl /tmp/tmp95ayl2kd/cluster2.cnl > ovpnmioutput\n",
      "2020-04-23 00:49:53,928 - ClusterComparator - INFO - resulting 128 nodes out of 128,128\n",
      "INFO:ClusterComparator:resulting 128 nodes out of 128,128\n",
      "/opt/conda/envs/python3/lib/python3.6/site-packages/sklearn/metrics/cluster/supervised.py:859: FutureWarning: The behavior of NMI will change in version 0.22. To match the behavior of 'v_measure_score', NMI will use average_method='arithmetic' by default.\n",
      "  FutureWarning)\n",
      "2020-04-23 00:49:53,937 - ClusterComparator - INFO - Running /opt/gct/submodules/OvpNMI/onmi /tmp/tmp6twz80oe/cluster1.cnl /tmp/tmp6twz80oe/cluster2.cnl > ovpnmioutput\n",
      "INFO:ClusterComparator:Running /opt/gct/submodules/OvpNMI/onmi /tmp/tmp6twz80oe/cluster1.cnl /tmp/tmp6twz80oe/cluster2.cnl > ovpnmioutput\n",
      "2020-04-23 00:49:53,952 - ClusterComparator - INFO - resulting 128 nodes out of 128,128\n",
      "INFO:ClusterComparator:resulting 128 nodes out of 128,128\n",
      "/opt/conda/envs/python3/lib/python3.6/site-packages/sklearn/metrics/cluster/supervised.py:859: FutureWarning: The behavior of NMI will change in version 0.22. To match the behavior of 'v_measure_score', NMI will use average_method='arithmetic' by default.\n",
      "  FutureWarning)\n",
      "2020-04-23 00:49:53,962 - ClusterComparator - INFO - Running /opt/gct/submodules/OvpNMI/onmi /tmp/tmpiugsa2tg/cluster1.cnl /tmp/tmpiugsa2tg/cluster2.cnl > ovpnmioutput\n",
      "INFO:ClusterComparator:Running /opt/gct/submodules/OvpNMI/onmi /tmp/tmpiugsa2tg/cluster1.cnl /tmp/tmpiugsa2tg/cluster2.cnl > ovpnmioutput\n",
      "2020-04-23 00:49:53,970 - Clustering - INFO - reading/data/data/K_DoesAlgMirrorEdgesTest_1/gt_default.parq\n",
      "INFO:Clustering:reading/data/data/K_DoesAlgMirrorEdgesTest_1/gt_default.parq\n",
      "2020-04-23 00:49:53,977 - ClusterComparator - INFO - resulting 128 nodes out of 128,128\n"
     ]
    },
    {
     "name": "stderr",
     "output_type": "stream",
     "text": [
      "INFO:ClusterComparator:resulting 128 nodes out of 128,128\n",
      "/opt/conda/envs/python3/lib/python3.6/site-packages/sklearn/metrics/cluster/supervised.py:859: FutureWarning: The behavior of NMI will change in version 0.22. To match the behavior of 'v_measure_score', NMI will use average_method='arithmetic' by default.\n",
      "  FutureWarning)\n",
      "2020-04-23 00:49:53,985 - ClusterComparator - INFO - Running /opt/gct/submodules/OvpNMI/onmi /tmp/tmpozoi6fhn/cluster1.cnl /tmp/tmpozoi6fhn/cluster2.cnl > ovpnmioutput\n",
      "INFO:ClusterComparator:Running /opt/gct/submodules/OvpNMI/onmi /tmp/tmpozoi6fhn/cluster1.cnl /tmp/tmpozoi6fhn/cluster2.cnl > ovpnmioutput\n",
      "2020-04-23 00:49:53,993 - ClusterComparator - INFO - resulting 128 nodes out of 128,128\n",
      "INFO:ClusterComparator:resulting 128 nodes out of 128,128\n",
      "/opt/conda/envs/python3/lib/python3.6/site-packages/sklearn/metrics/cluster/supervised.py:859: FutureWarning: The behavior of NMI will change in version 0.22. To match the behavior of 'v_measure_score', NMI will use average_method='arithmetic' by default.\n",
      "  FutureWarning)\n",
      "2020-04-23 00:49:54,003 - ClusterComparator - INFO - Running /opt/gct/submodules/OvpNMI/onmi /tmp/tmprzt_2nnt/cluster1.cnl /tmp/tmprzt_2nnt/cluster2.cnl > ovpnmioutput\n",
      "INFO:ClusterComparator:Running /opt/gct/submodules/OvpNMI/onmi /tmp/tmprzt_2nnt/cluster1.cnl /tmp/tmprzt_2nnt/cluster2.cnl > ovpnmioutput\n",
      "2020-04-23 00:49:54,018 - ClusterComparator - INFO - resulting 128 nodes out of 128,128\n",
      "INFO:ClusterComparator:resulting 128 nodes out of 128,128\n",
      "/opt/conda/envs/python3/lib/python3.6/site-packages/sklearn/metrics/cluster/supervised.py:859: FutureWarning: The behavior of NMI will change in version 0.22. To match the behavior of 'v_measure_score', NMI will use average_method='arithmetic' by default.\n",
      "  FutureWarning)\n",
      "2020-04-23 00:49:54,028 - ClusterComparator - INFO - Running /opt/gct/submodules/OvpNMI/onmi /tmp/tmp7veivn3r/cluster1.cnl /tmp/tmp7veivn3r/cluster2.cnl > ovpnmioutput\n",
      "INFO:ClusterComparator:Running /opt/gct/submodules/OvpNMI/onmi /tmp/tmp7veivn3r/cluster1.cnl /tmp/tmp7veivn3r/cluster2.cnl > ovpnmioutput\n",
      "2020-04-23 00:49:54,037 - Clustering - INFO - reading/data/data/K_DoesAlgMirrorEdgesTest_1/gt_default.parq\n",
      "INFO:Clustering:reading/data/data/K_DoesAlgMirrorEdgesTest_1/gt_default.parq\n",
      "2020-04-23 00:49:54,044 - ClusterComparator - INFO - resulting 128 nodes out of 128,128\n",
      "INFO:ClusterComparator:resulting 128 nodes out of 128,128\n",
      "/opt/conda/envs/python3/lib/python3.6/site-packages/sklearn/metrics/cluster/supervised.py:859: FutureWarning: The behavior of NMI will change in version 0.22. To match the behavior of 'v_measure_score', NMI will use average_method='arithmetic' by default.\n",
      "  FutureWarning)\n",
      "2020-04-23 00:49:54,052 - ClusterComparator - INFO - Running /opt/gct/submodules/OvpNMI/onmi /tmp/tmp84pf5ngv/cluster1.cnl /tmp/tmp84pf5ngv/cluster2.cnl > ovpnmioutput\n",
      "INFO:ClusterComparator:Running /opt/gct/submodules/OvpNMI/onmi /tmp/tmp84pf5ngv/cluster1.cnl /tmp/tmp84pf5ngv/cluster2.cnl > ovpnmioutput\n",
      "2020-04-23 00:49:54,060 - ClusterComparator - INFO - resulting 128 nodes out of 128,128\n",
      "INFO:ClusterComparator:resulting 128 nodes out of 128,128\n",
      "/opt/conda/envs/python3/lib/python3.6/site-packages/sklearn/metrics/cluster/supervised.py:859: FutureWarning: The behavior of NMI will change in version 0.22. To match the behavior of 'v_measure_score', NMI will use average_method='arithmetic' by default.\n",
      "  FutureWarning)\n",
      "2020-04-23 00:49:54,070 - ClusterComparator - INFO - Running /opt/gct/submodules/OvpNMI/onmi /tmp/tmp325bh7gf/cluster1.cnl /tmp/tmp325bh7gf/cluster2.cnl > ovpnmioutput\n",
      "INFO:ClusterComparator:Running /opt/gct/submodules/OvpNMI/onmi /tmp/tmp325bh7gf/cluster1.cnl /tmp/tmp325bh7gf/cluster2.cnl > ovpnmioutput\n",
      "2020-04-23 00:49:54,085 - ClusterComparator - INFO - resulting 128 nodes out of 128,128\n",
      "INFO:ClusterComparator:resulting 128 nodes out of 128,128\n",
      "/opt/conda/envs/python3/lib/python3.6/site-packages/sklearn/metrics/cluster/supervised.py:859: FutureWarning: The behavior of NMI will change in version 0.22. To match the behavior of 'v_measure_score', NMI will use average_method='arithmetic' by default.\n",
      "  FutureWarning)\n",
      "2020-04-23 00:49:54,095 - ClusterComparator - INFO - Running /opt/gct/submodules/OvpNMI/onmi /tmp/tmp4_kb3daa/cluster1.cnl /tmp/tmp4_kb3daa/cluster2.cnl > ovpnmioutput\n",
      "INFO:ClusterComparator:Running /opt/gct/submodules/OvpNMI/onmi /tmp/tmp4_kb3daa/cluster1.cnl /tmp/tmp4_kb3daa/cluster2.cnl > ovpnmioutput\n",
      "2020-04-23 00:49:54,104 - Clustering - INFO - reading/data/data/K_DoesAlgMirrorEdgesTest_1/gt_default.parq\n",
      "INFO:Clustering:reading/data/data/K_DoesAlgMirrorEdgesTest_1/gt_default.parq\n",
      "2020-04-23 00:49:54,111 - ClusterComparator - INFO - resulting 128 nodes out of 128,128\n",
      "INFO:ClusterComparator:resulting 128 nodes out of 128,128\n",
      "/opt/conda/envs/python3/lib/python3.6/site-packages/sklearn/metrics/cluster/supervised.py:859: FutureWarning: The behavior of NMI will change in version 0.22. To match the behavior of 'v_measure_score', NMI will use average_method='arithmetic' by default.\n",
      "  FutureWarning)\n",
      "2020-04-23 00:49:54,119 - ClusterComparator - INFO - Running /opt/gct/submodules/OvpNMI/onmi /tmp/tmpf6n92bwy/cluster1.cnl /tmp/tmpf6n92bwy/cluster2.cnl > ovpnmioutput\n",
      "INFO:ClusterComparator:Running /opt/gct/submodules/OvpNMI/onmi /tmp/tmpf6n92bwy/cluster1.cnl /tmp/tmpf6n92bwy/cluster2.cnl > ovpnmioutput\n",
      "2020-04-23 00:49:54,128 - ClusterComparator - INFO - resulting 128 nodes out of 128,128\n",
      "INFO:ClusterComparator:resulting 128 nodes out of 128,128\n",
      "/opt/conda/envs/python3/lib/python3.6/site-packages/sklearn/metrics/cluster/supervised.py:859: FutureWarning: The behavior of NMI will change in version 0.22. To match the behavior of 'v_measure_score', NMI will use average_method='arithmetic' by default.\n",
      "  FutureWarning)\n",
      "2020-04-23 00:49:54,137 - ClusterComparator - INFO - Running /opt/gct/submodules/OvpNMI/onmi /tmp/tmpjmx7rt71/cluster1.cnl /tmp/tmpjmx7rt71/cluster2.cnl > ovpnmioutput\n",
      "INFO:ClusterComparator:Running /opt/gct/submodules/OvpNMI/onmi /tmp/tmpjmx7rt71/cluster1.cnl /tmp/tmpjmx7rt71/cluster2.cnl > ovpnmioutput\n",
      "2020-04-23 00:49:54,152 - ClusterComparator - INFO - resulting 128 nodes out of 128,128\n",
      "INFO:ClusterComparator:resulting 128 nodes out of 128,128\n",
      "/opt/conda/envs/python3/lib/python3.6/site-packages/sklearn/metrics/cluster/supervised.py:859: FutureWarning: The behavior of NMI will change in version 0.22. To match the behavior of 'v_measure_score', NMI will use average_method='arithmetic' by default.\n",
      "  FutureWarning)\n",
      "2020-04-23 00:49:54,163 - ClusterComparator - INFO - Running /opt/gct/submodules/OvpNMI/onmi /tmp/tmphw8314k3/cluster1.cnl /tmp/tmphw8314k3/cluster2.cnl > ovpnmioutput\n",
      "INFO:ClusterComparator:Running /opt/gct/submodules/OvpNMI/onmi /tmp/tmphw8314k3/cluster1.cnl /tmp/tmphw8314k3/cluster2.cnl > ovpnmioutput\n",
      "2020-04-23 00:49:54,172 - Clustering - INFO - reading/data/data/K_DoesAlgMirrorEdgesTest_1/gt_default.parq\n",
      "INFO:Clustering:reading/data/data/K_DoesAlgMirrorEdgesTest_1/gt_default.parq\n",
      "2020-04-23 00:49:54,178 - ClusterComparator - INFO - resulting 128 nodes out of 128,128\n",
      "INFO:ClusterComparator:resulting 128 nodes out of 128,128\n",
      "/opt/conda/envs/python3/lib/python3.6/site-packages/sklearn/metrics/cluster/supervised.py:859: FutureWarning: The behavior of NMI will change in version 0.22. To match the behavior of 'v_measure_score', NMI will use average_method='arithmetic' by default.\n",
      "  FutureWarning)\n",
      "2020-04-23 00:49:54,186 - ClusterComparator - INFO - Running /opt/gct/submodules/OvpNMI/onmi /tmp/tmpa5_mikoa/cluster1.cnl /tmp/tmpa5_mikoa/cluster2.cnl > ovpnmioutput\n",
      "INFO:ClusterComparator:Running /opt/gct/submodules/OvpNMI/onmi /tmp/tmpa5_mikoa/cluster1.cnl /tmp/tmpa5_mikoa/cluster2.cnl > ovpnmioutput\n",
      "2020-04-23 00:49:54,195 - ClusterComparator - INFO - resulting 128 nodes out of 128,128\n",
      "INFO:ClusterComparator:resulting 128 nodes out of 128,128\n",
      "/opt/conda/envs/python3/lib/python3.6/site-packages/sklearn/metrics/cluster/supervised.py:859: FutureWarning: The behavior of NMI will change in version 0.22. To match the behavior of 'v_measure_score', NMI will use average_method='arithmetic' by default.\n",
      "  FutureWarning)\n",
      "2020-04-23 00:49:54,204 - ClusterComparator - INFO - Running /opt/gct/submodules/OvpNMI/onmi /tmp/tmpm92vd3nv/cluster1.cnl /tmp/tmpm92vd3nv/cluster2.cnl > ovpnmioutput\n"
     ]
    },
    {
     "name": "stderr",
     "output_type": "stream",
     "text": [
      "INFO:ClusterComparator:Running /opt/gct/submodules/OvpNMI/onmi /tmp/tmpm92vd3nv/cluster1.cnl /tmp/tmpm92vd3nv/cluster2.cnl > ovpnmioutput\n",
      "2020-04-23 00:49:54,219 - ClusterComparator - INFO - resulting 128 nodes out of 128,128\n",
      "INFO:ClusterComparator:resulting 128 nodes out of 128,128\n",
      "/opt/conda/envs/python3/lib/python3.6/site-packages/sklearn/metrics/cluster/supervised.py:859: FutureWarning: The behavior of NMI will change in version 0.22. To match the behavior of 'v_measure_score', NMI will use average_method='arithmetic' by default.\n",
      "  FutureWarning)\n",
      "2020-04-23 00:49:54,241 - ClusterComparator - INFO - Running /opt/gct/submodules/OvpNMI/onmi /tmp/tmp1wiipu5f/cluster1.cnl /tmp/tmp1wiipu5f/cluster2.cnl > ovpnmioutput\n",
      "INFO:ClusterComparator:Running /opt/gct/submodules/OvpNMI/onmi /tmp/tmp1wiipu5f/cluster1.cnl /tmp/tmp1wiipu5f/cluster2.cnl > ovpnmioutput\n",
      "2020-04-23 00:49:54,250 - Clustering - INFO - reading/data/data/K_DoesAlgMirrorEdgesTest_1/gt_default.parq\n",
      "INFO:Clustering:reading/data/data/K_DoesAlgMirrorEdgesTest_1/gt_default.parq\n",
      "2020-04-23 00:49:54,257 - ClusterComparator - INFO - resulting 128 nodes out of 128,128\n",
      "INFO:ClusterComparator:resulting 128 nodes out of 128,128\n",
      "/opt/conda/envs/python3/lib/python3.6/site-packages/sklearn/metrics/cluster/supervised.py:859: FutureWarning: The behavior of NMI will change in version 0.22. To match the behavior of 'v_measure_score', NMI will use average_method='arithmetic' by default.\n",
      "  FutureWarning)\n",
      "2020-04-23 00:49:54,271 - ClusterComparator - INFO - Running /opt/gct/submodules/OvpNMI/onmi /tmp/tmpcwfql0vr/cluster1.cnl /tmp/tmpcwfql0vr/cluster2.cnl > ovpnmioutput\n",
      "INFO:ClusterComparator:Running /opt/gct/submodules/OvpNMI/onmi /tmp/tmpcwfql0vr/cluster1.cnl /tmp/tmpcwfql0vr/cluster2.cnl > ovpnmioutput\n",
      "2020-04-23 00:49:54,280 - ClusterComparator - ERROR - Run command with error status code 134\n",
      "ERROR:ClusterComparator:Run command with error status code 134\n",
      "2020-04-23 00:49:54,282 - ClusterComparator - INFO - resulting 128 nodes out of 128,128\n",
      "INFO:ClusterComparator:resulting 128 nodes out of 128,128\n",
      "/opt/conda/envs/python3/lib/python3.6/site-packages/sklearn/metrics/cluster/supervised.py:859: FutureWarning: The behavior of NMI will change in version 0.22. To match the behavior of 'v_measure_score', NMI will use average_method='arithmetic' by default.\n",
      "  FutureWarning)\n",
      "2020-04-23 00:49:54,296 - ClusterComparator - INFO - Running /opt/gct/submodules/OvpNMI/onmi /tmp/tmp9hglyaw7/cluster1.cnl /tmp/tmp9hglyaw7/cluster2.cnl > ovpnmioutput\n",
      "INFO:ClusterComparator:Running /opt/gct/submodules/OvpNMI/onmi /tmp/tmp9hglyaw7/cluster1.cnl /tmp/tmp9hglyaw7/cluster2.cnl > ovpnmioutput\n",
      "2020-04-23 00:49:54,305 - ClusterComparator - ERROR - Run command with error status code 134\n",
      "ERROR:ClusterComparator:Run command with error status code 134\n"
     ]
    }
   ],
   "source": [
    "import pandas as pd\n",
    "lst = [];\n",
    "for alg in  gct.list_algorithms():\n",
    "    for dsname in datasets:\n",
    "        if dsname.startswith(prefix + '_1'):\n",
    "            a = [];columns = []\n",
    "            dsname2 = dsname.replace(prefix + \"_1\", prefix + \"_2\")\n",
    "            a += [alg, dsname, dsname2]\n",
    "            columns += ['alg', 'data1', 'data2']\n",
    "            if dsname + alg in results and dsname2 + alg in results:\n",
    "                cluster1 = gct.to_cluster(results[dsname + alg])\n",
    "                cluster2 = gct.to_cluster(results[dsname2 + alg])\n",
    "                compa = gct.ClusterComparator(cluster1, cluster2)\n",
    "                a += [compa.sklean_nmi(), cluster1.is_overlap, cluster2.is_overlap,\n",
    "                      cluster1.num_cluster, cluster2.num_cluster,\n",
    "                     compa.OvpNMI()['NMImax']]\n",
    "                columns += ['nmi_12', 'ovp1', 'ovp2', \"#c1\", \"#c2\", 'ovpnmi_12']\n",
    "\n",
    "                gt = list(gct.load_local_graph(dsname).get_ground_truth().values())[0]            \n",
    "                compa = gct.ClusterComparator(gt, cluster1)            \n",
    "                a += [compa.sklean_nmi(), compa.OvpNMI()['NMImax']]\n",
    "                columns += ['nmi_t1', 'ovpnmi_t1']\n",
    "\n",
    "                compa = gct.ClusterComparator(gt, cluster2)            \n",
    "                a += [compa.sklean_nmi(), compa.OvpNMI()['NMImax']]\n",
    "                columns += ['nmi_t2', 'ovpnmi_t2']\n",
    "\n",
    "                lst.append(a)\n",
    "\n"
   ]
  },
  {
   "cell_type": "code",
   "execution_count": 29,
   "metadata": {
    "scrolled": false
   },
   "outputs": [
    {
     "data": {
      "text/html": [
       "<div>\n",
       "<style scoped>\n",
       "    .dataframe tbody tr th:only-of-type {\n",
       "        vertical-align: middle;\n",
       "    }\n",
       "\n",
       "    .dataframe tbody tr th {\n",
       "        vertical-align: top;\n",
       "    }\n",
       "\n",
       "    .dataframe thead th {\n",
       "        text-align: right;\n",
       "    }\n",
       "</style>\n",
       "<table border=\"1\" class=\"dataframe\">\n",
       "  <thead>\n",
       "    <tr style=\"text-align: right;\">\n",
       "      <th></th>\n",
       "      <th>alg</th>\n",
       "      <th>data1</th>\n",
       "      <th>data2</th>\n",
       "      <th>nmi_12</th>\n",
       "      <th>ovp1</th>\n",
       "      <th>ovp2</th>\n",
       "      <th>#c1</th>\n",
       "      <th>#c2</th>\n",
       "      <th>ovpnmi_12</th>\n",
       "      <th>nmi_t1</th>\n",
       "      <th>ovpnmi_t1</th>\n",
       "      <th>nmi_t2</th>\n",
       "      <th>ovpnmi_t2</th>\n",
       "    </tr>\n",
       "  </thead>\n",
       "  <tbody>\n",
       "    <tr>\n",
       "      <th>0</th>\n",
       "      <td>oslom_Infohiermap</td>\n",
       "      <td>K_DoesAlgMirrorEdgesTest_1</td>\n",
       "      <td>K_DoesAlgMirrorEdgesTest_2</td>\n",
       "      <td>1.000000</td>\n",
       "      <td>False</td>\n",
       "      <td>False</td>\n",
       "      <td>7.0</td>\n",
       "      <td>7.0</td>\n",
       "      <td>1.000000</td>\n",
       "      <td>1.000000</td>\n",
       "      <td>1.000000</td>\n",
       "      <td>1.000000</td>\n",
       "      <td>1.000000</td>\n",
       "    </tr>\n",
       "    <tr>\n",
       "      <th>1</th>\n",
       "      <td>oslom_Infomap</td>\n",
       "      <td>K_DoesAlgMirrorEdgesTest_1</td>\n",
       "      <td>K_DoesAlgMirrorEdgesTest_2</td>\n",
       "      <td>0.939308</td>\n",
       "      <td>False</td>\n",
       "      <td>False</td>\n",
       "      <td>7.0</td>\n",
       "      <td>7.0</td>\n",
       "      <td>0.910230</td>\n",
       "      <td>0.939308</td>\n",
       "      <td>0.910230</td>\n",
       "      <td>1.000000</td>\n",
       "      <td>1.000000</td>\n",
       "    </tr>\n",
       "    <tr>\n",
       "      <th>2</th>\n",
       "      <td>oslom_OSLOM</td>\n",
       "      <td>K_DoesAlgMirrorEdgesTest_1</td>\n",
       "      <td>K_DoesAlgMirrorEdgesTest_2</td>\n",
       "      <td>1.000000</td>\n",
       "      <td>False</td>\n",
       "      <td>False</td>\n",
       "      <td>7.0</td>\n",
       "      <td>7.0</td>\n",
       "      <td>1.000000</td>\n",
       "      <td>1.000000</td>\n",
       "      <td>1.000000</td>\n",
       "      <td>1.000000</td>\n",
       "      <td>1.000000</td>\n",
       "    </tr>\n",
       "    <tr>\n",
       "      <th>3</th>\n",
       "      <td>oslom_copra</td>\n",
       "      <td>K_DoesAlgMirrorEdgesTest_1</td>\n",
       "      <td>K_DoesAlgMirrorEdgesTest_2</td>\n",
       "      <td>0.928029</td>\n",
       "      <td>True</td>\n",
       "      <td>True</td>\n",
       "      <td>7.0</td>\n",
       "      <td>7.0</td>\n",
       "      <td>0.927268</td>\n",
       "      <td>0.983885</td>\n",
       "      <td>0.984499</td>\n",
       "      <td>0.983559</td>\n",
       "      <td>0.938501</td>\n",
       "    </tr>\n",
       "    <tr>\n",
       "      <th>4</th>\n",
       "      <td>oslom_louvain_method</td>\n",
       "      <td>K_DoesAlgMirrorEdgesTest_1</td>\n",
       "      <td>K_DoesAlgMirrorEdgesTest_2</td>\n",
       "      <td>1.000000</td>\n",
       "      <td>False</td>\n",
       "      <td>False</td>\n",
       "      <td>7.0</td>\n",
       "      <td>7.0</td>\n",
       "      <td>1.000000</td>\n",
       "      <td>1.000000</td>\n",
       "      <td>1.000000</td>\n",
       "      <td>1.000000</td>\n",
       "      <td>1.000000</td>\n",
       "    </tr>\n",
       "    <tr>\n",
       "      <th>5</th>\n",
       "      <td>oslom_lpm</td>\n",
       "      <td>K_DoesAlgMirrorEdgesTest_1</td>\n",
       "      <td>K_DoesAlgMirrorEdgesTest_2</td>\n",
       "      <td>1.000000</td>\n",
       "      <td>False</td>\n",
       "      <td>False</td>\n",
       "      <td>7.0</td>\n",
       "      <td>7.0</td>\n",
       "      <td>1.000000</td>\n",
       "      <td>1.000000</td>\n",
       "      <td>1.000000</td>\n",
       "      <td>1.000000</td>\n",
       "      <td>1.000000</td>\n",
       "    </tr>\n",
       "    <tr>\n",
       "      <th>6</th>\n",
       "      <td>oslom_modopt</td>\n",
       "      <td>K_DoesAlgMirrorEdgesTest_1</td>\n",
       "      <td>K_DoesAlgMirrorEdgesTest_2</td>\n",
       "      <td>1.000000</td>\n",
       "      <td>False</td>\n",
       "      <td>False</td>\n",
       "      <td>7.0</td>\n",
       "      <td>7.0</td>\n",
       "      <td>1.000000</td>\n",
       "      <td>1.000000</td>\n",
       "      <td>1.000000</td>\n",
       "      <td>1.000000</td>\n",
       "      <td>1.000000</td>\n",
       "    </tr>\n",
       "    <tr>\n",
       "      <th>7</th>\n",
       "      <td>pycabem_GANXiSw</td>\n",
       "      <td>K_DoesAlgMirrorEdgesTest_1</td>\n",
       "      <td>K_DoesAlgMirrorEdgesTest_2</td>\n",
       "      <td>1.000000</td>\n",
       "      <td>False</td>\n",
       "      <td>False</td>\n",
       "      <td>6.0</td>\n",
       "      <td>6.0</td>\n",
       "      <td>1.000000</td>\n",
       "      <td>0.940355</td>\n",
       "      <td>0.843600</td>\n",
       "      <td>0.940355</td>\n",
       "      <td>0.843600</td>\n",
       "    </tr>\n",
       "    <tr>\n",
       "      <th>8</th>\n",
       "      <td>pycabem_HiReCS</td>\n",
       "      <td>K_DoesAlgMirrorEdgesTest_1</td>\n",
       "      <td>K_DoesAlgMirrorEdgesTest_2</td>\n",
       "      <td>1.000000</td>\n",
       "      <td>False</td>\n",
       "      <td>False</td>\n",
       "      <td>7.0</td>\n",
       "      <td>7.0</td>\n",
       "      <td>1.000000</td>\n",
       "      <td>0.152460</td>\n",
       "      <td>NaN</td>\n",
       "      <td>0.152460</td>\n",
       "      <td>NaN</td>\n",
       "    </tr>\n",
       "    <tr>\n",
       "      <th>9</th>\n",
       "      <td>pycabem_LabelRank</td>\n",
       "      <td>K_DoesAlgMirrorEdgesTest_1</td>\n",
       "      <td>K_DoesAlgMirrorEdgesTest_2</td>\n",
       "      <td>1.000000</td>\n",
       "      <td>False</td>\n",
       "      <td>False</td>\n",
       "      <td>7.0</td>\n",
       "      <td>7.0</td>\n",
       "      <td>1.000000</td>\n",
       "      <td>1.000000</td>\n",
       "      <td>1.000000</td>\n",
       "      <td>1.000000</td>\n",
       "      <td>1.000000</td>\n",
       "    </tr>\n",
       "    <tr>\n",
       "      <th>10</th>\n",
       "      <td>cdc_CONGA</td>\n",
       "      <td>K_DoesAlgMirrorEdgesTest_1</td>\n",
       "      <td>K_DoesAlgMirrorEdgesTest_2</td>\n",
       "      <td>0.288727</td>\n",
       "      <td>True</td>\n",
       "      <td>True</td>\n",
       "      <td>5.0</td>\n",
       "      <td>5.0</td>\n",
       "      <td>1.000000</td>\n",
       "      <td>0.326015</td>\n",
       "      <td>0.452955</td>\n",
       "      <td>0.330608</td>\n",
       "      <td>0.452955</td>\n",
       "    </tr>\n",
       "    <tr>\n",
       "      <th>11</th>\n",
       "      <td>cdc_Connected_Iterative_Scan</td>\n",
       "      <td>K_DoesAlgMirrorEdgesTest_1</td>\n",
       "      <td>K_DoesAlgMirrorEdgesTest_2</td>\n",
       "      <td>0.776421</td>\n",
       "      <td>True</td>\n",
       "      <td>True</td>\n",
       "      <td>9.0</td>\n",
       "      <td>9.0</td>\n",
       "      <td>1.000000</td>\n",
       "      <td>0.832246</td>\n",
       "      <td>0.796252</td>\n",
       "      <td>0.838932</td>\n",
       "      <td>0.796252</td>\n",
       "    </tr>\n",
       "    <tr>\n",
       "      <th>12</th>\n",
       "      <td>cdc_EAGLE</td>\n",
       "      <td>K_DoesAlgMirrorEdgesTest_1</td>\n",
       "      <td>K_DoesAlgMirrorEdgesTest_2</td>\n",
       "      <td>0.887875</td>\n",
       "      <td>True</td>\n",
       "      <td>True</td>\n",
       "      <td>7.0</td>\n",
       "      <td>10.0</td>\n",
       "      <td>0.857250</td>\n",
       "      <td>0.102219</td>\n",
       "      <td>NaN</td>\n",
       "      <td>0.119488</td>\n",
       "      <td>NaN</td>\n",
       "    </tr>\n",
       "    <tr>\n",
       "      <th>13</th>\n",
       "      <td>cdc_FastCpm</td>\n",
       "      <td>K_DoesAlgMirrorEdgesTest_1</td>\n",
       "      <td>K_DoesAlgMirrorEdgesTest_2</td>\n",
       "      <td>1.000000</td>\n",
       "      <td>True</td>\n",
       "      <td>True</td>\n",
       "      <td>6.0</td>\n",
       "      <td>6.0</td>\n",
       "      <td>1.000000</td>\n",
       "      <td>0.927003</td>\n",
       "      <td>0.802446</td>\n",
       "      <td>0.927003</td>\n",
       "      <td>0.802446</td>\n",
       "    </tr>\n",
       "    <tr>\n",
       "      <th>14</th>\n",
       "      <td>cdc_GCE</td>\n",
       "      <td>K_DoesAlgMirrorEdgesTest_1</td>\n",
       "      <td>K_DoesAlgMirrorEdgesTest_2</td>\n",
       "      <td>1.000000</td>\n",
       "      <td>False</td>\n",
       "      <td>False</td>\n",
       "      <td>7.0</td>\n",
       "      <td>7.0</td>\n",
       "      <td>1.000000</td>\n",
       "      <td>1.000000</td>\n",
       "      <td>1.000000</td>\n",
       "      <td>1.000000</td>\n",
       "      <td>1.000000</td>\n",
       "    </tr>\n",
       "    <tr>\n",
       "      <th>15</th>\n",
       "      <td>cdc_LinkCommunities</td>\n",
       "      <td>K_DoesAlgMirrorEdgesTest_1</td>\n",
       "      <td>K_DoesAlgMirrorEdgesTest_2</td>\n",
       "      <td>-0.125000</td>\n",
       "      <td>False</td>\n",
       "      <td>True</td>\n",
       "      <td>1.0</td>\n",
       "      <td>1061.0</td>\n",
       "      <td>NaN</td>\n",
       "      <td>-2.500000</td>\n",
       "      <td>NaN</td>\n",
       "      <td>0.593868</td>\n",
       "      <td>0.000444</td>\n",
       "    </tr>\n",
       "    <tr>\n",
       "      <th>16</th>\n",
       "      <td>cdc_MOSES</td>\n",
       "      <td>K_DoesAlgMirrorEdgesTest_1</td>\n",
       "      <td>K_DoesAlgMirrorEdgesTest_2</td>\n",
       "      <td>0.955844</td>\n",
       "      <td>True</td>\n",
       "      <td>True</td>\n",
       "      <td>8.0</td>\n",
       "      <td>8.0</td>\n",
       "      <td>1.000000</td>\n",
       "      <td>0.978998</td>\n",
       "      <td>0.953851</td>\n",
       "      <td>0.977429</td>\n",
       "      <td>0.953851</td>\n",
       "    </tr>\n",
       "    <tr>\n",
       "      <th>17</th>\n",
       "      <td>cdc_MSCD_AFG</td>\n",
       "      <td>K_DoesAlgMirrorEdgesTest_1</td>\n",
       "      <td>K_DoesAlgMirrorEdgesTest_2</td>\n",
       "      <td>1.000000</td>\n",
       "      <td>False</td>\n",
       "      <td>False</td>\n",
       "      <td>7.0</td>\n",
       "      <td>7.0</td>\n",
       "      <td>1.000000</td>\n",
       "      <td>0.150806</td>\n",
       "      <td>NaN</td>\n",
       "      <td>0.150806</td>\n",
       "      <td>NaN</td>\n",
       "    </tr>\n",
       "    <tr>\n",
       "      <th>18</th>\n",
       "      <td>cdc_MSCD_HSLSW</td>\n",
       "      <td>K_DoesAlgMirrorEdgesTest_1</td>\n",
       "      <td>K_DoesAlgMirrorEdgesTest_2</td>\n",
       "      <td>1.000000</td>\n",
       "      <td>False</td>\n",
       "      <td>False</td>\n",
       "      <td>7.0</td>\n",
       "      <td>7.0</td>\n",
       "      <td>1.000000</td>\n",
       "      <td>0.150806</td>\n",
       "      <td>NaN</td>\n",
       "      <td>0.150806</td>\n",
       "      <td>NaN</td>\n",
       "    </tr>\n",
       "    <tr>\n",
       "      <th>19</th>\n",
       "      <td>cdc_MSCD_LFK</td>\n",
       "      <td>K_DoesAlgMirrorEdgesTest_1</td>\n",
       "      <td>K_DoesAlgMirrorEdgesTest_2</td>\n",
       "      <td>1.000000</td>\n",
       "      <td>False</td>\n",
       "      <td>False</td>\n",
       "      <td>7.0</td>\n",
       "      <td>7.0</td>\n",
       "      <td>1.000000</td>\n",
       "      <td>0.150806</td>\n",
       "      <td>NaN</td>\n",
       "      <td>0.150806</td>\n",
       "      <td>NaN</td>\n",
       "    </tr>\n",
       "    <tr>\n",
       "      <th>20</th>\n",
       "      <td>cdc_MSCD_LFK2</td>\n",
       "      <td>K_DoesAlgMirrorEdgesTest_1</td>\n",
       "      <td>K_DoesAlgMirrorEdgesTest_2</td>\n",
       "      <td>0.989729</td>\n",
       "      <td>True</td>\n",
       "      <td>True</td>\n",
       "      <td>8.0</td>\n",
       "      <td>8.0</td>\n",
       "      <td>1.000000</td>\n",
       "      <td>0.152306</td>\n",
       "      <td>NaN</td>\n",
       "      <td>0.152306</td>\n",
       "      <td>NaN</td>\n",
       "    </tr>\n",
       "    <tr>\n",
       "      <th>21</th>\n",
       "      <td>cdc_MSCD_RB</td>\n",
       "      <td>K_DoesAlgMirrorEdgesTest_1</td>\n",
       "      <td>K_DoesAlgMirrorEdgesTest_2</td>\n",
       "      <td>1.000000</td>\n",
       "      <td>False</td>\n",
       "      <td>False</td>\n",
       "      <td>7.0</td>\n",
       "      <td>7.0</td>\n",
       "      <td>1.000000</td>\n",
       "      <td>0.150806</td>\n",
       "      <td>NaN</td>\n",
       "      <td>0.150806</td>\n",
       "      <td>NaN</td>\n",
       "    </tr>\n",
       "    <tr>\n",
       "      <th>22</th>\n",
       "      <td>cdc_MSCD_RN</td>\n",
       "      <td>K_DoesAlgMirrorEdgesTest_1</td>\n",
       "      <td>K_DoesAlgMirrorEdgesTest_2</td>\n",
       "      <td>1.000000</td>\n",
       "      <td>False</td>\n",
       "      <td>False</td>\n",
       "      <td>15.0</td>\n",
       "      <td>15.0</td>\n",
       "      <td>1.000000</td>\n",
       "      <td>0.228279</td>\n",
       "      <td>NaN</td>\n",
       "      <td>0.228279</td>\n",
       "      <td>NaN</td>\n",
       "    </tr>\n",
       "    <tr>\n",
       "      <th>23</th>\n",
       "      <td>cdc_MSCD_SO</td>\n",
       "      <td>K_DoesAlgMirrorEdgesTest_1</td>\n",
       "      <td>K_DoesAlgMirrorEdgesTest_2</td>\n",
       "      <td>1.000000</td>\n",
       "      <td>False</td>\n",
       "      <td>False</td>\n",
       "      <td>7.0</td>\n",
       "      <td>7.0</td>\n",
       "      <td>1.000000</td>\n",
       "      <td>0.150806</td>\n",
       "      <td>NaN</td>\n",
       "      <td>0.150806</td>\n",
       "      <td>NaN</td>\n",
       "    </tr>\n",
       "    <tr>\n",
       "      <th>24</th>\n",
       "      <td>cdc_MSCD_SOM</td>\n",
       "      <td>K_DoesAlgMirrorEdgesTest_1</td>\n",
       "      <td>K_DoesAlgMirrorEdgesTest_2</td>\n",
       "      <td>1.000000</td>\n",
       "      <td>False</td>\n",
       "      <td>False</td>\n",
       "      <td>7.0</td>\n",
       "      <td>7.0</td>\n",
       "      <td>1.000000</td>\n",
       "      <td>0.150806</td>\n",
       "      <td>NaN</td>\n",
       "      <td>0.150806</td>\n",
       "      <td>NaN</td>\n",
       "    </tr>\n",
       "    <tr>\n",
       "      <th>25</th>\n",
       "      <td>cdc_ParCPM</td>\n",
       "      <td>K_DoesAlgMirrorEdgesTest_1</td>\n",
       "      <td>K_DoesAlgMirrorEdgesTest_2</td>\n",
       "      <td>0.818707</td>\n",
       "      <td>True</td>\n",
       "      <td>True</td>\n",
       "      <td>3.0</td>\n",
       "      <td>3.0</td>\n",
       "      <td>1.000000</td>\n",
       "      <td>0.488029</td>\n",
       "      <td>0.273706</td>\n",
       "      <td>0.519123</td>\n",
       "      <td>0.273706</td>\n",
       "    </tr>\n",
       "    <tr>\n",
       "      <th>26</th>\n",
       "      <td>cdc_SVINET</td>\n",
       "      <td>K_DoesAlgMirrorEdgesTest_1</td>\n",
       "      <td>K_DoesAlgMirrorEdgesTest_2</td>\n",
       "      <td>0.544561</td>\n",
       "      <td>True</td>\n",
       "      <td>True</td>\n",
       "      <td>9.0</td>\n",
       "      <td>9.0</td>\n",
       "      <td>1.000000</td>\n",
       "      <td>0.524962</td>\n",
       "      <td>0.361602</td>\n",
       "      <td>0.501653</td>\n",
       "      <td>0.361602</td>\n",
       "    </tr>\n",
       "    <tr>\n",
       "      <th>27</th>\n",
       "      <td>cdc_TopGC</td>\n",
       "      <td>K_DoesAlgMirrorEdgesTest_1</td>\n",
       "      <td>K_DoesAlgMirrorEdgesTest_2</td>\n",
       "      <td>0.848843</td>\n",
       "      <td>True</td>\n",
       "      <td>True</td>\n",
       "      <td>10.0</td>\n",
       "      <td>10.0</td>\n",
       "      <td>0.299818</td>\n",
       "      <td>0.875542</td>\n",
       "      <td>0.442889</td>\n",
       "      <td>0.928446</td>\n",
       "      <td>0.511495</td>\n",
       "    </tr>\n",
       "    <tr>\n",
       "      <th>28</th>\n",
       "      <td>cdc_clique_modularity</td>\n",
       "      <td>K_DoesAlgMirrorEdgesTest_1</td>\n",
       "      <td>K_DoesAlgMirrorEdgesTest_2</td>\n",
       "      <td>1.000000</td>\n",
       "      <td>False</td>\n",
       "      <td>False</td>\n",
       "      <td>10.0</td>\n",
       "      <td>10.0</td>\n",
       "      <td>1.000000</td>\n",
       "      <td>0.975044</td>\n",
       "      <td>0.928351</td>\n",
       "      <td>0.975044</td>\n",
       "      <td>0.928351</td>\n",
       "    </tr>\n",
       "    <tr>\n",
       "      <th>29</th>\n",
       "      <td>cgcc_CGGC</td>\n",
       "      <td>K_DoesAlgMirrorEdgesTest_1</td>\n",
       "      <td>K_DoesAlgMirrorEdgesTest_2</td>\n",
       "      <td>1.000000</td>\n",
       "      <td>False</td>\n",
       "      <td>False</td>\n",
       "      <td>6.0</td>\n",
       "      <td>6.0</td>\n",
       "      <td>1.000000</td>\n",
       "      <td>0.959767</td>\n",
       "      <td>0.893447</td>\n",
       "      <td>0.959767</td>\n",
       "      <td>0.893447</td>\n",
       "    </tr>\n",
       "    <tr>\n",
       "      <th>30</th>\n",
       "      <td>dct_dlplm</td>\n",
       "      <td>K_DoesAlgMirrorEdgesTest_1</td>\n",
       "      <td>K_DoesAlgMirrorEdgesTest_2</td>\n",
       "      <td>1.000000</td>\n",
       "      <td>False</td>\n",
       "      <td>False</td>\n",
       "      <td>7.0</td>\n",
       "      <td>7.0</td>\n",
       "      <td>1.000000</td>\n",
       "      <td>1.000000</td>\n",
       "      <td>1.000000</td>\n",
       "      <td>1.000000</td>\n",
       "      <td>1.000000</td>\n",
       "    </tr>\n",
       "    <tr>\n",
       "      <th>31</th>\n",
       "      <td>dct_dlslm</td>\n",
       "      <td>K_DoesAlgMirrorEdgesTest_1</td>\n",
       "      <td>K_DoesAlgMirrorEdgesTest_2</td>\n",
       "      <td>1.000000</td>\n",
       "      <td>False</td>\n",
       "      <td>False</td>\n",
       "      <td>7.0</td>\n",
       "      <td>7.0</td>\n",
       "      <td>1.000000</td>\n",
       "      <td>1.000000</td>\n",
       "      <td>1.000000</td>\n",
       "      <td>1.000000</td>\n",
       "      <td>1.000000</td>\n",
       "    </tr>\n",
       "    <tr>\n",
       "      <th>32</th>\n",
       "      <td>dct_dlslm_map_eq</td>\n",
       "      <td>K_DoesAlgMirrorEdgesTest_1</td>\n",
       "      <td>K_DoesAlgMirrorEdgesTest_2</td>\n",
       "      <td>1.000000</td>\n",
       "      <td>False</td>\n",
       "      <td>False</td>\n",
       "      <td>7.0</td>\n",
       "      <td>7.0</td>\n",
       "      <td>1.000000</td>\n",
       "      <td>1.000000</td>\n",
       "      <td>1.000000</td>\n",
       "      <td>1.000000</td>\n",
       "      <td>1.000000</td>\n",
       "    </tr>\n",
       "    <tr>\n",
       "      <th>33</th>\n",
       "      <td>dct_dlslm_no_contraction</td>\n",
       "      <td>K_DoesAlgMirrorEdgesTest_1</td>\n",
       "      <td>K_DoesAlgMirrorEdgesTest_2</td>\n",
       "      <td>1.000000</td>\n",
       "      <td>False</td>\n",
       "      <td>False</td>\n",
       "      <td>7.0</td>\n",
       "      <td>7.0</td>\n",
       "      <td>1.000000</td>\n",
       "      <td>1.000000</td>\n",
       "      <td>1.000000</td>\n",
       "      <td>1.000000</td>\n",
       "      <td>1.000000</td>\n",
       "    </tr>\n",
       "    <tr>\n",
       "      <th>34</th>\n",
       "      <td>dct_dlslm_with_seq</td>\n",
       "      <td>K_DoesAlgMirrorEdgesTest_1</td>\n",
       "      <td>K_DoesAlgMirrorEdgesTest_2</td>\n",
       "      <td>1.000000</td>\n",
       "      <td>False</td>\n",
       "      <td>False</td>\n",
       "      <td>7.0</td>\n",
       "      <td>7.0</td>\n",
       "      <td>1.000000</td>\n",
       "      <td>1.000000</td>\n",
       "      <td>1.000000</td>\n",
       "      <td>1.000000</td>\n",
       "      <td>1.000000</td>\n",
       "    </tr>\n",
       "    <tr>\n",
       "      <th>35</th>\n",
       "      <td>dct_infomap</td>\n",
       "      <td>K_DoesAlgMirrorEdgesTest_1</td>\n",
       "      <td>K_DoesAlgMirrorEdgesTest_2</td>\n",
       "      <td>1.000000</td>\n",
       "      <td>False</td>\n",
       "      <td>False</td>\n",
       "      <td>7.0</td>\n",
       "      <td>7.0</td>\n",
       "      <td>1.000000</td>\n",
       "      <td>1.000000</td>\n",
       "      <td>1.000000</td>\n",
       "      <td>1.000000</td>\n",
       "      <td>1.000000</td>\n",
       "    </tr>\n",
       "    <tr>\n",
       "      <th>36</th>\n",
       "      <td>dct_seq_louvain</td>\n",
       "      <td>K_DoesAlgMirrorEdgesTest_1</td>\n",
       "      <td>K_DoesAlgMirrorEdgesTest_2</td>\n",
       "      <td>1.000000</td>\n",
       "      <td>False</td>\n",
       "      <td>False</td>\n",
       "      <td>7.0</td>\n",
       "      <td>7.0</td>\n",
       "      <td>1.000000</td>\n",
       "      <td>1.000000</td>\n",
       "      <td>1.000000</td>\n",
       "      <td>1.000000</td>\n",
       "      <td>1.000000</td>\n",
       "    </tr>\n",
       "    <tr>\n",
       "      <th>37</th>\n",
       "      <td>igraph_community_edge_betweenness</td>\n",
       "      <td>K_DoesAlgMirrorEdgesTest_1</td>\n",
       "      <td>K_DoesAlgMirrorEdgesTest_2</td>\n",
       "      <td>1.000000</td>\n",
       "      <td>False</td>\n",
       "      <td>False</td>\n",
       "      <td>7.0</td>\n",
       "      <td>7.0</td>\n",
       "      <td>1.000000</td>\n",
       "      <td>1.000000</td>\n",
       "      <td>1.000000</td>\n",
       "      <td>1.000000</td>\n",
       "      <td>1.000000</td>\n",
       "    </tr>\n",
       "    <tr>\n",
       "      <th>38</th>\n",
       "      <td>igraph_community_infomap</td>\n",
       "      <td>K_DoesAlgMirrorEdgesTest_1</td>\n",
       "      <td>K_DoesAlgMirrorEdgesTest_2</td>\n",
       "      <td>0.621099</td>\n",
       "      <td>False</td>\n",
       "      <td>False</td>\n",
       "      <td>7.0</td>\n",
       "      <td>60.0</td>\n",
       "      <td>NaN</td>\n",
       "      <td>1.000000</td>\n",
       "      <td>1.000000</td>\n",
       "      <td>0.621099</td>\n",
       "      <td>NaN</td>\n",
       "    </tr>\n",
       "    <tr>\n",
       "      <th>39</th>\n",
       "      <td>igraph_community_label_propagation</td>\n",
       "      <td>K_DoesAlgMirrorEdgesTest_1</td>\n",
       "      <td>K_DoesAlgMirrorEdgesTest_2</td>\n",
       "      <td>1.000000</td>\n",
       "      <td>False</td>\n",
       "      <td>False</td>\n",
       "      <td>7.0</td>\n",
       "      <td>7.0</td>\n",
       "      <td>1.000000</td>\n",
       "      <td>1.000000</td>\n",
       "      <td>1.000000</td>\n",
       "      <td>1.000000</td>\n",
       "      <td>1.000000</td>\n",
       "    </tr>\n",
       "    <tr>\n",
       "      <th>40</th>\n",
       "      <td>igraph_community_leading_eigenvector</td>\n",
       "      <td>K_DoesAlgMirrorEdgesTest_1</td>\n",
       "      <td>K_DoesAlgMirrorEdgesTest_2</td>\n",
       "      <td>1.000000</td>\n",
       "      <td>False</td>\n",
       "      <td>False</td>\n",
       "      <td>9.0</td>\n",
       "      <td>9.0</td>\n",
       "      <td>1.000000</td>\n",
       "      <td>0.838666</td>\n",
       "      <td>0.757537</td>\n",
       "      <td>0.838666</td>\n",
       "      <td>0.757537</td>\n",
       "    </tr>\n",
       "    <tr>\n",
       "      <th>41</th>\n",
       "      <td>igraph_community_multilevel</td>\n",
       "      <td>K_DoesAlgMirrorEdgesTest_1</td>\n",
       "      <td>K_DoesAlgMirrorEdgesTest_2</td>\n",
       "      <td>1.000000</td>\n",
       "      <td>False</td>\n",
       "      <td>False</td>\n",
       "      <td>7.0</td>\n",
       "      <td>7.0</td>\n",
       "      <td>1.000000</td>\n",
       "      <td>1.000000</td>\n",
       "      <td>1.000000</td>\n",
       "      <td>1.000000</td>\n",
       "      <td>1.000000</td>\n",
       "    </tr>\n",
       "    <tr>\n",
       "      <th>42</th>\n",
       "      <td>igraph_community_optimal_modularity</td>\n",
       "      <td>K_DoesAlgMirrorEdgesTest_1</td>\n",
       "      <td>K_DoesAlgMirrorEdgesTest_2</td>\n",
       "      <td>1.000000</td>\n",
       "      <td>False</td>\n",
       "      <td>False</td>\n",
       "      <td>7.0</td>\n",
       "      <td>7.0</td>\n",
       "      <td>1.000000</td>\n",
       "      <td>1.000000</td>\n",
       "      <td>1.000000</td>\n",
       "      <td>1.000000</td>\n",
       "      <td>1.000000</td>\n",
       "    </tr>\n",
       "    <tr>\n",
       "      <th>43</th>\n",
       "      <td>igraph_community_spinglass</td>\n",
       "      <td>K_DoesAlgMirrorEdgesTest_1</td>\n",
       "      <td>K_DoesAlgMirrorEdgesTest_2</td>\n",
       "      <td>0.991392</td>\n",
       "      <td>False</td>\n",
       "      <td>False</td>\n",
       "      <td>8.0</td>\n",
       "      <td>7.0</td>\n",
       "      <td>0.972445</td>\n",
       "      <td>0.991392</td>\n",
       "      <td>0.972445</td>\n",
       "      <td>1.000000</td>\n",
       "      <td>1.000000</td>\n",
       "    </tr>\n",
       "    <tr>\n",
       "      <th>44</th>\n",
       "      <td>igraph_community_walktrap</td>\n",
       "      <td>K_DoesAlgMirrorEdgesTest_1</td>\n",
       "      <td>K_DoesAlgMirrorEdgesTest_2</td>\n",
       "      <td>1.000000</td>\n",
       "      <td>False</td>\n",
       "      <td>False</td>\n",
       "      <td>7.0</td>\n",
       "      <td>7.0</td>\n",
       "      <td>1.000000</td>\n",
       "      <td>1.000000</td>\n",
       "      <td>1.000000</td>\n",
       "      <td>1.000000</td>\n",
       "      <td>1.000000</td>\n",
       "    </tr>\n",
       "    <tr>\n",
       "      <th>45</th>\n",
       "      <td>mcl_MCL</td>\n",
       "      <td>K_DoesAlgMirrorEdgesTest_1</td>\n",
       "      <td>K_DoesAlgMirrorEdgesTest_2</td>\n",
       "      <td>1.000000</td>\n",
       "      <td>False</td>\n",
       "      <td>False</td>\n",
       "      <td>7.0</td>\n",
       "      <td>7.0</td>\n",
       "      <td>1.000000</td>\n",
       "      <td>1.000000</td>\n",
       "      <td>1.000000</td>\n",
       "      <td>1.000000</td>\n",
       "      <td>1.000000</td>\n",
       "    </tr>\n",
       "    <tr>\n",
       "      <th>46</th>\n",
       "      <td>networkit_CutClustering</td>\n",
       "      <td>K_DoesAlgMirrorEdgesTest_1</td>\n",
       "      <td>K_DoesAlgMirrorEdgesTest_2</td>\n",
       "      <td>1.000000</td>\n",
       "      <td>False</td>\n",
       "      <td>False</td>\n",
       "      <td>1.0</td>\n",
       "      <td>1.0</td>\n",
       "      <td>NaN</td>\n",
       "      <td>-2.500000</td>\n",
       "      <td>NaN</td>\n",
       "      <td>-2.500000</td>\n",
       "      <td>NaN</td>\n",
       "    </tr>\n",
       "    <tr>\n",
       "      <th>47</th>\n",
       "      <td>networkit_LPDegreeOrdered</td>\n",
       "      <td>K_DoesAlgMirrorEdgesTest_1</td>\n",
       "      <td>K_DoesAlgMirrorEdgesTest_2</td>\n",
       "      <td>1.000000</td>\n",
       "      <td>False</td>\n",
       "      <td>False</td>\n",
       "      <td>6.0</td>\n",
       "      <td>6.0</td>\n",
       "      <td>1.000000</td>\n",
       "      <td>0.952516</td>\n",
       "      <td>0.874708</td>\n",
       "      <td>0.952516</td>\n",
       "      <td>0.874708</td>\n",
       "    </tr>\n",
       "    <tr>\n",
       "      <th>48</th>\n",
       "      <td>networkit_PLM</td>\n",
       "      <td>K_DoesAlgMirrorEdgesTest_1</td>\n",
       "      <td>K_DoesAlgMirrorEdgesTest_2</td>\n",
       "      <td>1.000000</td>\n",
       "      <td>False</td>\n",
       "      <td>False</td>\n",
       "      <td>7.0</td>\n",
       "      <td>7.0</td>\n",
       "      <td>1.000000</td>\n",
       "      <td>1.000000</td>\n",
       "      <td>1.000000</td>\n",
       "      <td>1.000000</td>\n",
       "      <td>1.000000</td>\n",
       "    </tr>\n",
       "    <tr>\n",
       "      <th>49</th>\n",
       "      <td>networkit_PLP</td>\n",
       "      <td>K_DoesAlgMirrorEdgesTest_1</td>\n",
       "      <td>K_DoesAlgMirrorEdgesTest_2</td>\n",
       "      <td>0.795290</td>\n",
       "      <td>False</td>\n",
       "      <td>False</td>\n",
       "      <td>5.0</td>\n",
       "      <td>5.0</td>\n",
       "      <td>0.639717</td>\n",
       "      <td>0.877286</td>\n",
       "      <td>0.688684</td>\n",
       "      <td>0.836115</td>\n",
       "      <td>0.645979</td>\n",
       "    </tr>\n",
       "    <tr>\n",
       "      <th>50</th>\n",
       "      <td>alg_GossipMap</td>\n",
       "      <td>K_DoesAlgMirrorEdgesTest_1</td>\n",
       "      <td>K_DoesAlgMirrorEdgesTest_2</td>\n",
       "      <td>0.956219</td>\n",
       "      <td>False</td>\n",
       "      <td>False</td>\n",
       "      <td>7.0</td>\n",
       "      <td>7.0</td>\n",
       "      <td>0.930972</td>\n",
       "      <td>0.956219</td>\n",
       "      <td>0.930972</td>\n",
       "      <td>1.000000</td>\n",
       "      <td>1.000000</td>\n",
       "    </tr>\n",
       "    <tr>\n",
       "      <th>51</th>\n",
       "      <td>alg_RelaxMap</td>\n",
       "      <td>K_DoesAlgMirrorEdgesTest_1</td>\n",
       "      <td>K_DoesAlgMirrorEdgesTest_2</td>\n",
       "      <td>0.956219</td>\n",
       "      <td>False</td>\n",
       "      <td>False</td>\n",
       "      <td>7.0</td>\n",
       "      <td>7.0</td>\n",
       "      <td>0.930972</td>\n",
       "      <td>0.956219</td>\n",
       "      <td>0.930972</td>\n",
       "      <td>1.000000</td>\n",
       "      <td>1.000000</td>\n",
       "    </tr>\n",
       "    <tr>\n",
       "      <th>52</th>\n",
       "      <td>alg_pg_label_propagation</td>\n",
       "      <td>K_DoesAlgMirrorEdgesTest_1</td>\n",
       "      <td>K_DoesAlgMirrorEdgesTest_2</td>\n",
       "      <td>1.000000</td>\n",
       "      <td>False</td>\n",
       "      <td>False</td>\n",
       "      <td>6.0</td>\n",
       "      <td>6.0</td>\n",
       "      <td>1.000000</td>\n",
       "      <td>0.927003</td>\n",
       "      <td>0.809906</td>\n",
       "      <td>0.927003</td>\n",
       "      <td>0.809906</td>\n",
       "    </tr>\n",
       "    <tr>\n",
       "      <th>53</th>\n",
       "      <td>scan_AnyScan_Scan</td>\n",
       "      <td>K_DoesAlgMirrorEdgesTest_1</td>\n",
       "      <td>K_DoesAlgMirrorEdgesTest_2</td>\n",
       "      <td>1.000000</td>\n",
       "      <td>False</td>\n",
       "      <td>False</td>\n",
       "      <td>7.0</td>\n",
       "      <td>7.0</td>\n",
       "      <td>1.000000</td>\n",
       "      <td>1.000000</td>\n",
       "      <td>1.000000</td>\n",
       "      <td>1.000000</td>\n",
       "      <td>1.000000</td>\n",
       "    </tr>\n",
       "    <tr>\n",
       "      <th>54</th>\n",
       "      <td>scan_AnyScan_anyScan</td>\n",
       "      <td>K_DoesAlgMirrorEdgesTest_1</td>\n",
       "      <td>K_DoesAlgMirrorEdgesTest_2</td>\n",
       "      <td>1.000000</td>\n",
       "      <td>False</td>\n",
       "      <td>False</td>\n",
       "      <td>7.0</td>\n",
       "      <td>7.0</td>\n",
       "      <td>1.000000</td>\n",
       "      <td>1.000000</td>\n",
       "      <td>1.000000</td>\n",
       "      <td>1.000000</td>\n",
       "      <td>1.000000</td>\n",
       "    </tr>\n",
       "    <tr>\n",
       "      <th>55</th>\n",
       "      <td>scan_AnyScan_anyScanParl</td>\n",
       "      <td>K_DoesAlgMirrorEdgesTest_1</td>\n",
       "      <td>K_DoesAlgMirrorEdgesTest_2</td>\n",
       "      <td>1.000000</td>\n",
       "      <td>False</td>\n",
       "      <td>False</td>\n",
       "      <td>7.0</td>\n",
       "      <td>7.0</td>\n",
       "      <td>1.000000</td>\n",
       "      <td>1.000000</td>\n",
       "      <td>1.000000</td>\n",
       "      <td>1.000000</td>\n",
       "      <td>1.000000</td>\n",
       "    </tr>\n",
       "    <tr>\n",
       "      <th>56</th>\n",
       "      <td>scan_AnyScan_pScan</td>\n",
       "      <td>K_DoesAlgMirrorEdgesTest_1</td>\n",
       "      <td>K_DoesAlgMirrorEdgesTest_2</td>\n",
       "      <td>1.000000</td>\n",
       "      <td>False</td>\n",
       "      <td>False</td>\n",
       "      <td>7.0</td>\n",
       "      <td>7.0</td>\n",
       "      <td>1.000000</td>\n",
       "      <td>1.000000</td>\n",
       "      <td>1.000000</td>\n",
       "      <td>1.000000</td>\n",
       "      <td>1.000000</td>\n",
       "    </tr>\n",
       "    <tr>\n",
       "      <th>57</th>\n",
       "      <td>scan_Scanpp</td>\n",
       "      <td>K_DoesAlgMirrorEdgesTest_1</td>\n",
       "      <td>K_DoesAlgMirrorEdgesTest_2</td>\n",
       "      <td>1.000000</td>\n",
       "      <td>False</td>\n",
       "      <td>False</td>\n",
       "      <td>1.0</td>\n",
       "      <td>1.0</td>\n",
       "      <td>NaN</td>\n",
       "      <td>-2.500000</td>\n",
       "      <td>NaN</td>\n",
       "      <td>-2.500000</td>\n",
       "      <td>NaN</td>\n",
       "    </tr>\n",
       "    <tr>\n",
       "      <th>58</th>\n",
       "      <td>scan_pScan</td>\n",
       "      <td>K_DoesAlgMirrorEdgesTest_1</td>\n",
       "      <td>K_DoesAlgMirrorEdgesTest_2</td>\n",
       "      <td>1.000000</td>\n",
       "      <td>False</td>\n",
       "      <td>False</td>\n",
       "      <td>7.0</td>\n",
       "      <td>7.0</td>\n",
       "      <td>1.000000</td>\n",
       "      <td>1.000000</td>\n",
       "      <td>1.000000</td>\n",
       "      <td>1.000000</td>\n",
       "      <td>1.000000</td>\n",
       "    </tr>\n",
       "    <tr>\n",
       "      <th>59</th>\n",
       "      <td>scan_ppScan</td>\n",
       "      <td>K_DoesAlgMirrorEdgesTest_1</td>\n",
       "      <td>K_DoesAlgMirrorEdgesTest_2</td>\n",
       "      <td>1.000000</td>\n",
       "      <td>False</td>\n",
       "      <td>False</td>\n",
       "      <td>7.0</td>\n",
       "      <td>7.0</td>\n",
       "      <td>1.000000</td>\n",
       "      <td>1.000000</td>\n",
       "      <td>1.000000</td>\n",
       "      <td>1.000000</td>\n",
       "      <td>1.000000</td>\n",
       "    </tr>\n",
       "    <tr>\n",
       "      <th>60</th>\n",
       "      <td>scan_ppScanSSE</td>\n",
       "      <td>K_DoesAlgMirrorEdgesTest_1</td>\n",
       "      <td>K_DoesAlgMirrorEdgesTest_2</td>\n",
       "      <td>1.000000</td>\n",
       "      <td>False</td>\n",
       "      <td>False</td>\n",
       "      <td>7.0</td>\n",
       "      <td>7.0</td>\n",
       "      <td>1.000000</td>\n",
       "      <td>1.000000</td>\n",
       "      <td>1.000000</td>\n",
       "      <td>1.000000</td>\n",
       "      <td>1.000000</td>\n",
       "    </tr>\n",
       "    <tr>\n",
       "      <th>61</th>\n",
       "      <td>sklearn_AffinityPropagation</td>\n",
       "      <td>K_DoesAlgMirrorEdgesTest_1</td>\n",
       "      <td>K_DoesAlgMirrorEdgesTest_2</td>\n",
       "      <td>1.000000</td>\n",
       "      <td>False</td>\n",
       "      <td>False</td>\n",
       "      <td>7.0</td>\n",
       "      <td>7.0</td>\n",
       "      <td>1.000000</td>\n",
       "      <td>0.741077</td>\n",
       "      <td>0.630179</td>\n",
       "      <td>0.741077</td>\n",
       "      <td>0.630179</td>\n",
       "    </tr>\n",
       "    <tr>\n",
       "      <th>62</th>\n",
       "      <td>sklearn_SpectralClustering</td>\n",
       "      <td>K_DoesAlgMirrorEdgesTest_1</td>\n",
       "      <td>K_DoesAlgMirrorEdgesTest_2</td>\n",
       "      <td>0.988333</td>\n",
       "      <td>False</td>\n",
       "      <td>False</td>\n",
       "      <td>8.0</td>\n",
       "      <td>8.0</td>\n",
       "      <td>0.975202</td>\n",
       "      <td>0.980335</td>\n",
       "      <td>0.946766</td>\n",
       "      <td>0.982146</td>\n",
       "      <td>0.951672</td>\n",
       "    </tr>\n",
       "    <tr>\n",
       "      <th>63</th>\n",
       "      <td>snap_Clauset_Newman_Moore</td>\n",
       "      <td>K_DoesAlgMirrorEdgesTest_1</td>\n",
       "      <td>K_DoesAlgMirrorEdgesTest_2</td>\n",
       "      <td>1.000000</td>\n",
       "      <td>False</td>\n",
       "      <td>False</td>\n",
       "      <td>6.0</td>\n",
       "      <td>6.0</td>\n",
       "      <td>1.000000</td>\n",
       "      <td>0.940355</td>\n",
       "      <td>0.843600</td>\n",
       "      <td>0.940355</td>\n",
       "      <td>0.843600</td>\n",
       "    </tr>\n",
       "    <tr>\n",
       "      <th>64</th>\n",
       "      <td>snap_Girvan_Newman</td>\n",
       "      <td>K_DoesAlgMirrorEdgesTest_1</td>\n",
       "      <td>K_DoesAlgMirrorEdgesTest_2</td>\n",
       "      <td>1.000000</td>\n",
       "      <td>False</td>\n",
       "      <td>False</td>\n",
       "      <td>7.0</td>\n",
       "      <td>7.0</td>\n",
       "      <td>1.000000</td>\n",
       "      <td>1.000000</td>\n",
       "      <td>1.000000</td>\n",
       "      <td>1.000000</td>\n",
       "      <td>1.000000</td>\n",
       "    </tr>\n",
       "    <tr>\n",
       "      <th>65</th>\n",
       "      <td>alg_Paris</td>\n",
       "      <td>K_DoesAlgMirrorEdgesTest_1</td>\n",
       "      <td>K_DoesAlgMirrorEdgesTest_2</td>\n",
       "      <td>1.000000</td>\n",
       "      <td>False</td>\n",
       "      <td>False</td>\n",
       "      <td>7.0</td>\n",
       "      <td>7.0</td>\n",
       "      <td>1.000000</td>\n",
       "      <td>0.850621</td>\n",
       "      <td>0.790750</td>\n",
       "      <td>0.850621</td>\n",
       "      <td>0.790750</td>\n",
       "    </tr>\n",
       "    <tr>\n",
       "      <th>66</th>\n",
       "      <td>alg_lso_cluster</td>\n",
       "      <td>K_DoesAlgMirrorEdgesTest_1</td>\n",
       "      <td>K_DoesAlgMirrorEdgesTest_2</td>\n",
       "      <td>1.000000</td>\n",
       "      <td>False</td>\n",
       "      <td>False</td>\n",
       "      <td>7.0</td>\n",
       "      <td>7.0</td>\n",
       "      <td>1.000000</td>\n",
       "      <td>1.000000</td>\n",
       "      <td>1.000000</td>\n",
       "      <td>1.000000</td>\n",
       "      <td>1.000000</td>\n",
       "    </tr>\n",
       "    <tr>\n",
       "      <th>67</th>\n",
       "      <td>alg_streamcom</td>\n",
       "      <td>K_DoesAlgMirrorEdgesTest_1</td>\n",
       "      <td>K_DoesAlgMirrorEdgesTest_2</td>\n",
       "      <td>0.868720</td>\n",
       "      <td>False</td>\n",
       "      <td>False</td>\n",
       "      <td>73.0</td>\n",
       "      <td>70.0</td>\n",
       "      <td>0.397893</td>\n",
       "      <td>0.619337</td>\n",
       "      <td>NaN</td>\n",
       "      <td>0.631199</td>\n",
       "      <td>NaN</td>\n",
       "    </tr>\n",
       "    <tr>\n",
       "      <th>68</th>\n",
       "      <td>cdc_CliquePercolation</td>\n",
       "      <td>None</td>\n",
       "      <td>None</td>\n",
       "      <td>NaN</td>\n",
       "      <td>None</td>\n",
       "      <td>None</td>\n",
       "      <td>NaN</td>\n",
       "      <td>NaN</td>\n",
       "      <td>NaN</td>\n",
       "      <td>NaN</td>\n",
       "      <td>NaN</td>\n",
       "      <td>NaN</td>\n",
       "      <td>NaN</td>\n",
       "    </tr>\n",
       "    <tr>\n",
       "      <th>69</th>\n",
       "      <td>cdc_DEMON</td>\n",
       "      <td>None</td>\n",
       "      <td>None</td>\n",
       "      <td>NaN</td>\n",
       "      <td>None</td>\n",
       "      <td>None</td>\n",
       "      <td>NaN</td>\n",
       "      <td>NaN</td>\n",
       "      <td>NaN</td>\n",
       "      <td>NaN</td>\n",
       "      <td>NaN</td>\n",
       "      <td>NaN</td>\n",
       "      <td>NaN</td>\n",
       "    </tr>\n",
       "    <tr>\n",
       "      <th>70</th>\n",
       "      <td>cdc_HDEMON</td>\n",
       "      <td>None</td>\n",
       "      <td>None</td>\n",
       "      <td>NaN</td>\n",
       "      <td>None</td>\n",
       "      <td>None</td>\n",
       "      <td>NaN</td>\n",
       "      <td>NaN</td>\n",
       "      <td>NaN</td>\n",
       "      <td>NaN</td>\n",
       "      <td>NaN</td>\n",
       "      <td>NaN</td>\n",
       "      <td>NaN</td>\n",
       "    </tr>\n",
       "    <tr>\n",
       "      <th>71</th>\n",
       "      <td>igraph_community_fastgreedy</td>\n",
       "      <td>None</td>\n",
       "      <td>None</td>\n",
       "      <td>NaN</td>\n",
       "      <td>None</td>\n",
       "      <td>None</td>\n",
       "      <td>NaN</td>\n",
       "      <td>NaN</td>\n",
       "      <td>NaN</td>\n",
       "      <td>NaN</td>\n",
       "      <td>NaN</td>\n",
       "      <td>NaN</td>\n",
       "      <td>NaN</td>\n",
       "    </tr>\n",
       "  </tbody>\n",
       "</table>\n",
       "</div>"
      ],
      "text/plain": [
       "                                     alg                       data1  \\\n",
       "0                      oslom_Infohiermap  K_DoesAlgMirrorEdgesTest_1   \n",
       "1                          oslom_Infomap  K_DoesAlgMirrorEdgesTest_1   \n",
       "2                            oslom_OSLOM  K_DoesAlgMirrorEdgesTest_1   \n",
       "3                            oslom_copra  K_DoesAlgMirrorEdgesTest_1   \n",
       "4                   oslom_louvain_method  K_DoesAlgMirrorEdgesTest_1   \n",
       "5                              oslom_lpm  K_DoesAlgMirrorEdgesTest_1   \n",
       "6                           oslom_modopt  K_DoesAlgMirrorEdgesTest_1   \n",
       "7                        pycabem_GANXiSw  K_DoesAlgMirrorEdgesTest_1   \n",
       "8                         pycabem_HiReCS  K_DoesAlgMirrorEdgesTest_1   \n",
       "9                      pycabem_LabelRank  K_DoesAlgMirrorEdgesTest_1   \n",
       "10                             cdc_CONGA  K_DoesAlgMirrorEdgesTest_1   \n",
       "11          cdc_Connected_Iterative_Scan  K_DoesAlgMirrorEdgesTest_1   \n",
       "12                             cdc_EAGLE  K_DoesAlgMirrorEdgesTest_1   \n",
       "13                           cdc_FastCpm  K_DoesAlgMirrorEdgesTest_1   \n",
       "14                               cdc_GCE  K_DoesAlgMirrorEdgesTest_1   \n",
       "15                   cdc_LinkCommunities  K_DoesAlgMirrorEdgesTest_1   \n",
       "16                             cdc_MOSES  K_DoesAlgMirrorEdgesTest_1   \n",
       "17                          cdc_MSCD_AFG  K_DoesAlgMirrorEdgesTest_1   \n",
       "18                        cdc_MSCD_HSLSW  K_DoesAlgMirrorEdgesTest_1   \n",
       "19                          cdc_MSCD_LFK  K_DoesAlgMirrorEdgesTest_1   \n",
       "20                         cdc_MSCD_LFK2  K_DoesAlgMirrorEdgesTest_1   \n",
       "21                           cdc_MSCD_RB  K_DoesAlgMirrorEdgesTest_1   \n",
       "22                           cdc_MSCD_RN  K_DoesAlgMirrorEdgesTest_1   \n",
       "23                           cdc_MSCD_SO  K_DoesAlgMirrorEdgesTest_1   \n",
       "24                          cdc_MSCD_SOM  K_DoesAlgMirrorEdgesTest_1   \n",
       "25                            cdc_ParCPM  K_DoesAlgMirrorEdgesTest_1   \n",
       "26                            cdc_SVINET  K_DoesAlgMirrorEdgesTest_1   \n",
       "27                             cdc_TopGC  K_DoesAlgMirrorEdgesTest_1   \n",
       "28                 cdc_clique_modularity  K_DoesAlgMirrorEdgesTest_1   \n",
       "29                             cgcc_CGGC  K_DoesAlgMirrorEdgesTest_1   \n",
       "30                             dct_dlplm  K_DoesAlgMirrorEdgesTest_1   \n",
       "31                             dct_dlslm  K_DoesAlgMirrorEdgesTest_1   \n",
       "32                      dct_dlslm_map_eq  K_DoesAlgMirrorEdgesTest_1   \n",
       "33              dct_dlslm_no_contraction  K_DoesAlgMirrorEdgesTest_1   \n",
       "34                    dct_dlslm_with_seq  K_DoesAlgMirrorEdgesTest_1   \n",
       "35                           dct_infomap  K_DoesAlgMirrorEdgesTest_1   \n",
       "36                       dct_seq_louvain  K_DoesAlgMirrorEdgesTest_1   \n",
       "37     igraph_community_edge_betweenness  K_DoesAlgMirrorEdgesTest_1   \n",
       "38              igraph_community_infomap  K_DoesAlgMirrorEdgesTest_1   \n",
       "39    igraph_community_label_propagation  K_DoesAlgMirrorEdgesTest_1   \n",
       "40  igraph_community_leading_eigenvector  K_DoesAlgMirrorEdgesTest_1   \n",
       "41           igraph_community_multilevel  K_DoesAlgMirrorEdgesTest_1   \n",
       "42   igraph_community_optimal_modularity  K_DoesAlgMirrorEdgesTest_1   \n",
       "43            igraph_community_spinglass  K_DoesAlgMirrorEdgesTest_1   \n",
       "44             igraph_community_walktrap  K_DoesAlgMirrorEdgesTest_1   \n",
       "45                               mcl_MCL  K_DoesAlgMirrorEdgesTest_1   \n",
       "46               networkit_CutClustering  K_DoesAlgMirrorEdgesTest_1   \n",
       "47             networkit_LPDegreeOrdered  K_DoesAlgMirrorEdgesTest_1   \n",
       "48                         networkit_PLM  K_DoesAlgMirrorEdgesTest_1   \n",
       "49                         networkit_PLP  K_DoesAlgMirrorEdgesTest_1   \n",
       "50                         alg_GossipMap  K_DoesAlgMirrorEdgesTest_1   \n",
       "51                          alg_RelaxMap  K_DoesAlgMirrorEdgesTest_1   \n",
       "52              alg_pg_label_propagation  K_DoesAlgMirrorEdgesTest_1   \n",
       "53                     scan_AnyScan_Scan  K_DoesAlgMirrorEdgesTest_1   \n",
       "54                  scan_AnyScan_anyScan  K_DoesAlgMirrorEdgesTest_1   \n",
       "55              scan_AnyScan_anyScanParl  K_DoesAlgMirrorEdgesTest_1   \n",
       "56                    scan_AnyScan_pScan  K_DoesAlgMirrorEdgesTest_1   \n",
       "57                           scan_Scanpp  K_DoesAlgMirrorEdgesTest_1   \n",
       "58                            scan_pScan  K_DoesAlgMirrorEdgesTest_1   \n",
       "59                           scan_ppScan  K_DoesAlgMirrorEdgesTest_1   \n",
       "60                        scan_ppScanSSE  K_DoesAlgMirrorEdgesTest_1   \n",
       "61           sklearn_AffinityPropagation  K_DoesAlgMirrorEdgesTest_1   \n",
       "62            sklearn_SpectralClustering  K_DoesAlgMirrorEdgesTest_1   \n",
       "63             snap_Clauset_Newman_Moore  K_DoesAlgMirrorEdgesTest_1   \n",
       "64                    snap_Girvan_Newman  K_DoesAlgMirrorEdgesTest_1   \n",
       "65                             alg_Paris  K_DoesAlgMirrorEdgesTest_1   \n",
       "66                       alg_lso_cluster  K_DoesAlgMirrorEdgesTest_1   \n",
       "67                         alg_streamcom  K_DoesAlgMirrorEdgesTest_1   \n",
       "68                 cdc_CliquePercolation                        None   \n",
       "69                             cdc_DEMON                        None   \n",
       "70                            cdc_HDEMON                        None   \n",
       "71           igraph_community_fastgreedy                        None   \n",
       "\n",
       "                         data2    nmi_12   ovp1   ovp2   #c1     #c2  \\\n",
       "0   K_DoesAlgMirrorEdgesTest_2  1.000000  False  False   7.0     7.0   \n",
       "1   K_DoesAlgMirrorEdgesTest_2  0.939308  False  False   7.0     7.0   \n",
       "2   K_DoesAlgMirrorEdgesTest_2  1.000000  False  False   7.0     7.0   \n",
       "3   K_DoesAlgMirrorEdgesTest_2  0.928029   True   True   7.0     7.0   \n",
       "4   K_DoesAlgMirrorEdgesTest_2  1.000000  False  False   7.0     7.0   \n",
       "5   K_DoesAlgMirrorEdgesTest_2  1.000000  False  False   7.0     7.0   \n",
       "6   K_DoesAlgMirrorEdgesTest_2  1.000000  False  False   7.0     7.0   \n",
       "7   K_DoesAlgMirrorEdgesTest_2  1.000000  False  False   6.0     6.0   \n",
       "8   K_DoesAlgMirrorEdgesTest_2  1.000000  False  False   7.0     7.0   \n",
       "9   K_DoesAlgMirrorEdgesTest_2  1.000000  False  False   7.0     7.0   \n",
       "10  K_DoesAlgMirrorEdgesTest_2  0.288727   True   True   5.0     5.0   \n",
       "11  K_DoesAlgMirrorEdgesTest_2  0.776421   True   True   9.0     9.0   \n",
       "12  K_DoesAlgMirrorEdgesTest_2  0.887875   True   True   7.0    10.0   \n",
       "13  K_DoesAlgMirrorEdgesTest_2  1.000000   True   True   6.0     6.0   \n",
       "14  K_DoesAlgMirrorEdgesTest_2  1.000000  False  False   7.0     7.0   \n",
       "15  K_DoesAlgMirrorEdgesTest_2 -0.125000  False   True   1.0  1061.0   \n",
       "16  K_DoesAlgMirrorEdgesTest_2  0.955844   True   True   8.0     8.0   \n",
       "17  K_DoesAlgMirrorEdgesTest_2  1.000000  False  False   7.0     7.0   \n",
       "18  K_DoesAlgMirrorEdgesTest_2  1.000000  False  False   7.0     7.0   \n",
       "19  K_DoesAlgMirrorEdgesTest_2  1.000000  False  False   7.0     7.0   \n",
       "20  K_DoesAlgMirrorEdgesTest_2  0.989729   True   True   8.0     8.0   \n",
       "21  K_DoesAlgMirrorEdgesTest_2  1.000000  False  False   7.0     7.0   \n",
       "22  K_DoesAlgMirrorEdgesTest_2  1.000000  False  False  15.0    15.0   \n",
       "23  K_DoesAlgMirrorEdgesTest_2  1.000000  False  False   7.0     7.0   \n",
       "24  K_DoesAlgMirrorEdgesTest_2  1.000000  False  False   7.0     7.0   \n",
       "25  K_DoesAlgMirrorEdgesTest_2  0.818707   True   True   3.0     3.0   \n",
       "26  K_DoesAlgMirrorEdgesTest_2  0.544561   True   True   9.0     9.0   \n",
       "27  K_DoesAlgMirrorEdgesTest_2  0.848843   True   True  10.0    10.0   \n",
       "28  K_DoesAlgMirrorEdgesTest_2  1.000000  False  False  10.0    10.0   \n",
       "29  K_DoesAlgMirrorEdgesTest_2  1.000000  False  False   6.0     6.0   \n",
       "30  K_DoesAlgMirrorEdgesTest_2  1.000000  False  False   7.0     7.0   \n",
       "31  K_DoesAlgMirrorEdgesTest_2  1.000000  False  False   7.0     7.0   \n",
       "32  K_DoesAlgMirrorEdgesTest_2  1.000000  False  False   7.0     7.0   \n",
       "33  K_DoesAlgMirrorEdgesTest_2  1.000000  False  False   7.0     7.0   \n",
       "34  K_DoesAlgMirrorEdgesTest_2  1.000000  False  False   7.0     7.0   \n",
       "35  K_DoesAlgMirrorEdgesTest_2  1.000000  False  False   7.0     7.0   \n",
       "36  K_DoesAlgMirrorEdgesTest_2  1.000000  False  False   7.0     7.0   \n",
       "37  K_DoesAlgMirrorEdgesTest_2  1.000000  False  False   7.0     7.0   \n",
       "38  K_DoesAlgMirrorEdgesTest_2  0.621099  False  False   7.0    60.0   \n",
       "39  K_DoesAlgMirrorEdgesTest_2  1.000000  False  False   7.0     7.0   \n",
       "40  K_DoesAlgMirrorEdgesTest_2  1.000000  False  False   9.0     9.0   \n",
       "41  K_DoesAlgMirrorEdgesTest_2  1.000000  False  False   7.0     7.0   \n",
       "42  K_DoesAlgMirrorEdgesTest_2  1.000000  False  False   7.0     7.0   \n",
       "43  K_DoesAlgMirrorEdgesTest_2  0.991392  False  False   8.0     7.0   \n",
       "44  K_DoesAlgMirrorEdgesTest_2  1.000000  False  False   7.0     7.0   \n",
       "45  K_DoesAlgMirrorEdgesTest_2  1.000000  False  False   7.0     7.0   \n",
       "46  K_DoesAlgMirrorEdgesTest_2  1.000000  False  False   1.0     1.0   \n",
       "47  K_DoesAlgMirrorEdgesTest_2  1.000000  False  False   6.0     6.0   \n",
       "48  K_DoesAlgMirrorEdgesTest_2  1.000000  False  False   7.0     7.0   \n",
       "49  K_DoesAlgMirrorEdgesTest_2  0.795290  False  False   5.0     5.0   \n",
       "50  K_DoesAlgMirrorEdgesTest_2  0.956219  False  False   7.0     7.0   \n",
       "51  K_DoesAlgMirrorEdgesTest_2  0.956219  False  False   7.0     7.0   \n",
       "52  K_DoesAlgMirrorEdgesTest_2  1.000000  False  False   6.0     6.0   \n",
       "53  K_DoesAlgMirrorEdgesTest_2  1.000000  False  False   7.0     7.0   \n",
       "54  K_DoesAlgMirrorEdgesTest_2  1.000000  False  False   7.0     7.0   \n",
       "55  K_DoesAlgMirrorEdgesTest_2  1.000000  False  False   7.0     7.0   \n",
       "56  K_DoesAlgMirrorEdgesTest_2  1.000000  False  False   7.0     7.0   \n",
       "57  K_DoesAlgMirrorEdgesTest_2  1.000000  False  False   1.0     1.0   \n",
       "58  K_DoesAlgMirrorEdgesTest_2  1.000000  False  False   7.0     7.0   \n",
       "59  K_DoesAlgMirrorEdgesTest_2  1.000000  False  False   7.0     7.0   \n",
       "60  K_DoesAlgMirrorEdgesTest_2  1.000000  False  False   7.0     7.0   \n",
       "61  K_DoesAlgMirrorEdgesTest_2  1.000000  False  False   7.0     7.0   \n",
       "62  K_DoesAlgMirrorEdgesTest_2  0.988333  False  False   8.0     8.0   \n",
       "63  K_DoesAlgMirrorEdgesTest_2  1.000000  False  False   6.0     6.0   \n",
       "64  K_DoesAlgMirrorEdgesTest_2  1.000000  False  False   7.0     7.0   \n",
       "65  K_DoesAlgMirrorEdgesTest_2  1.000000  False  False   7.0     7.0   \n",
       "66  K_DoesAlgMirrorEdgesTest_2  1.000000  False  False   7.0     7.0   \n",
       "67  K_DoesAlgMirrorEdgesTest_2  0.868720  False  False  73.0    70.0   \n",
       "68                        None       NaN   None   None   NaN     NaN   \n",
       "69                        None       NaN   None   None   NaN     NaN   \n",
       "70                        None       NaN   None   None   NaN     NaN   \n",
       "71                        None       NaN   None   None   NaN     NaN   \n",
       "\n",
       "    ovpnmi_12    nmi_t1  ovpnmi_t1    nmi_t2  ovpnmi_t2  \n",
       "0    1.000000  1.000000   1.000000  1.000000   1.000000  \n",
       "1    0.910230  0.939308   0.910230  1.000000   1.000000  \n",
       "2    1.000000  1.000000   1.000000  1.000000   1.000000  \n",
       "3    0.927268  0.983885   0.984499  0.983559   0.938501  \n",
       "4    1.000000  1.000000   1.000000  1.000000   1.000000  \n",
       "5    1.000000  1.000000   1.000000  1.000000   1.000000  \n",
       "6    1.000000  1.000000   1.000000  1.000000   1.000000  \n",
       "7    1.000000  0.940355   0.843600  0.940355   0.843600  \n",
       "8    1.000000  0.152460        NaN  0.152460        NaN  \n",
       "9    1.000000  1.000000   1.000000  1.000000   1.000000  \n",
       "10   1.000000  0.326015   0.452955  0.330608   0.452955  \n",
       "11   1.000000  0.832246   0.796252  0.838932   0.796252  \n",
       "12   0.857250  0.102219        NaN  0.119488        NaN  \n",
       "13   1.000000  0.927003   0.802446  0.927003   0.802446  \n",
       "14   1.000000  1.000000   1.000000  1.000000   1.000000  \n",
       "15        NaN -2.500000        NaN  0.593868   0.000444  \n",
       "16   1.000000  0.978998   0.953851  0.977429   0.953851  \n",
       "17   1.000000  0.150806        NaN  0.150806        NaN  \n",
       "18   1.000000  0.150806        NaN  0.150806        NaN  \n",
       "19   1.000000  0.150806        NaN  0.150806        NaN  \n",
       "20   1.000000  0.152306        NaN  0.152306        NaN  \n",
       "21   1.000000  0.150806        NaN  0.150806        NaN  \n",
       "22   1.000000  0.228279        NaN  0.228279        NaN  \n",
       "23   1.000000  0.150806        NaN  0.150806        NaN  \n",
       "24   1.000000  0.150806        NaN  0.150806        NaN  \n",
       "25   1.000000  0.488029   0.273706  0.519123   0.273706  \n",
       "26   1.000000  0.524962   0.361602  0.501653   0.361602  \n",
       "27   0.299818  0.875542   0.442889  0.928446   0.511495  \n",
       "28   1.000000  0.975044   0.928351  0.975044   0.928351  \n",
       "29   1.000000  0.959767   0.893447  0.959767   0.893447  \n",
       "30   1.000000  1.000000   1.000000  1.000000   1.000000  \n",
       "31   1.000000  1.000000   1.000000  1.000000   1.000000  \n",
       "32   1.000000  1.000000   1.000000  1.000000   1.000000  \n",
       "33   1.000000  1.000000   1.000000  1.000000   1.000000  \n",
       "34   1.000000  1.000000   1.000000  1.000000   1.000000  \n",
       "35   1.000000  1.000000   1.000000  1.000000   1.000000  \n",
       "36   1.000000  1.000000   1.000000  1.000000   1.000000  \n",
       "37   1.000000  1.000000   1.000000  1.000000   1.000000  \n",
       "38        NaN  1.000000   1.000000  0.621099        NaN  \n",
       "39   1.000000  1.000000   1.000000  1.000000   1.000000  \n",
       "40   1.000000  0.838666   0.757537  0.838666   0.757537  \n",
       "41   1.000000  1.000000   1.000000  1.000000   1.000000  \n",
       "42   1.000000  1.000000   1.000000  1.000000   1.000000  \n",
       "43   0.972445  0.991392   0.972445  1.000000   1.000000  \n",
       "44   1.000000  1.000000   1.000000  1.000000   1.000000  \n",
       "45   1.000000  1.000000   1.000000  1.000000   1.000000  \n",
       "46        NaN -2.500000        NaN -2.500000        NaN  \n",
       "47   1.000000  0.952516   0.874708  0.952516   0.874708  \n",
       "48   1.000000  1.000000   1.000000  1.000000   1.000000  \n",
       "49   0.639717  0.877286   0.688684  0.836115   0.645979  \n",
       "50   0.930972  0.956219   0.930972  1.000000   1.000000  \n",
       "51   0.930972  0.956219   0.930972  1.000000   1.000000  \n",
       "52   1.000000  0.927003   0.809906  0.927003   0.809906  \n",
       "53   1.000000  1.000000   1.000000  1.000000   1.000000  \n",
       "54   1.000000  1.000000   1.000000  1.000000   1.000000  \n",
       "55   1.000000  1.000000   1.000000  1.000000   1.000000  \n",
       "56   1.000000  1.000000   1.000000  1.000000   1.000000  \n",
       "57        NaN -2.500000        NaN -2.500000        NaN  \n",
       "58   1.000000  1.000000   1.000000  1.000000   1.000000  \n",
       "59   1.000000  1.000000   1.000000  1.000000   1.000000  \n",
       "60   1.000000  1.000000   1.000000  1.000000   1.000000  \n",
       "61   1.000000  0.741077   0.630179  0.741077   0.630179  \n",
       "62   0.975202  0.980335   0.946766  0.982146   0.951672  \n",
       "63   1.000000  0.940355   0.843600  0.940355   0.843600  \n",
       "64   1.000000  1.000000   1.000000  1.000000   1.000000  \n",
       "65   1.000000  0.850621   0.790750  0.850621   0.790750  \n",
       "66   1.000000  1.000000   1.000000  1.000000   1.000000  \n",
       "67   0.397893  0.619337        NaN  0.631199        NaN  \n",
       "68        NaN       NaN        NaN       NaN        NaN  \n",
       "69        NaN       NaN        NaN       NaN        NaN  \n",
       "70        NaN       NaN        NaN       NaN        NaN  \n",
       "71        NaN       NaN        NaN       NaN        NaN  "
      ]
     },
     "metadata": {},
     "output_type": "display_data"
    }
   ],
   "source": [
    "rdf = pd.DataFrame(lst, columns=columns)\n",
    "for alg in  gct.list_algorithms():\n",
    "    if alg not in rdf['alg'].values:\n",
    "        lst.append([alg] + [None] * (len(columns) - 1))\n",
    "rdf = pd.DataFrame(lst, columns=columns)    \n",
    "with pd.option_context('display.max_rows', 2000, 'display.max_columns', 200):\n",
    "    display (rdf)\n"
   ]
  },
  {
   "cell_type": "code",
   "execution_count": 26,
   "metadata": {},
   "outputs": [
    {
     "name": "stdout",
     "output_type": "stream",
     "text": [
      "runing  cdc_CliquePercolation K_DoesAlgMirrorEdgesTest_2\n",
      "finished cdc_CliquePercolation K_DoesAlgMirrorEdgesTest_2\n"
     ]
    },
    {
     "name": "stderr",
     "output_type": "stream",
     "text": [
      "Error: only undirected and unmirrored graph is supported for CliquePercolation\n"
     ]
    },
    {
     "data": {
      "text/plain": [
       "True"
      ]
     },
     "execution_count": 26,
     "metadata": {},
     "output_type": "execute_result"
    }
   ],
   "source": [
    "run_alg(\"cdc_CliquePercolation\", \"K_DoesAlgMirrorEdgesTest_2\", check_skip=False)"
   ]
  },
  {
   "cell_type": "code",
   "execution_count": null,
   "metadata": {},
   "outputs": [],
   "source": []
  }
 ],
 "metadata": {
  "kernelspec": {
   "display_name": "Python [conda env:python3]",
   "language": "python",
   "name": "conda-env-python3-py"
  },
  "language_info": {
   "codemirror_mode": {
    "name": "ipython",
    "version": 3
   },
   "file_extension": ".py",
   "mimetype": "text/x-python",
   "name": "python",
   "nbconvert_exporter": "python",
   "pygments_lexer": "ipython3",
   "version": "3.6.7"
  }
 },
 "nbformat": 4,
 "nbformat_minor": 2
}
