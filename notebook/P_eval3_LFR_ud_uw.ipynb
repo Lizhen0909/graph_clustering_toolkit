{
 "cells": [
  {
   "cell_type": "code",
   "execution_count": 1,
   "metadata": {},
   "outputs": [
    {
     "data": {
      "text/html": [
       "\n",
       "\t\t\t<script type=\"text/javascript\">\n",
       "\t\t\t<!--\n",
       "\t\t\t\t\n",
       "\t\t\t{\n",
       "\t\t\t\tvar element = document.getElementById('NetworKit_script');\n",
       "\t\t\t\tif (element) {\n",
       "\t\t\t\t\telement.parentNode.removeChild(element);\n",
       "\t\t\t\t}\n",
       "\t\t\t\telement = document.createElement('script');\n",
       "\t\t\t\telement.type = 'text/javascript';\n",
       "\t\t\t\telement.innerHTML = 'function NetworKit_pageEmbed(id) { var i, j; var elements; elements = document.getElementById(id).getElementsByClassName(\"Plot\"); for (i=0; i<elements.length; i++) { elements[i].id = id + \"_Plot_\" + i; var data = elements[i].getAttribute(\"data-image\").split(\"|\"); elements[i].removeAttribute(\"data-image\"); var content = \"<div class=\\\\\"Image\\\\\" id=\\\\\"\" + elements[i].id + \"_Image\\\\\" />\"; elements[i].innerHTML = content; elements[i].setAttribute(\"data-image-index\", 0); elements[i].setAttribute(\"data-image-length\", data.length); for (j=0; j<data.length; j++) { elements[i].setAttribute(\"data-image-\" + j, data[j]); } NetworKit_plotUpdate(elements[i]); elements[i].onclick = function (e) { NetworKit_overlayShow((e.target) ? e.target : e.srcElement); } } elements = document.getElementById(id).getElementsByClassName(\"HeatCell\"); for (i=0; i<elements.length; i++) { var data = parseFloat(elements[i].getAttribute(\"data-heat\")); var color = \"#00FF00\"; if (data <= 1 && data > 0) { color = \"hsla(0, 100%, 75%, \" + (data) + \")\"; } else if (data <= 0 && data >= -1) { color = \"hsla(240, 100%, 75%, \" + (-data) + \")\"; } elements[i].style.backgroundColor = color; } elements = document.getElementById(id).getElementsByClassName(\"Details\"); for (i=0; i<elements.length; i++) { elements[i].setAttribute(\"data-title\", \"-\"); NetworKit_toggleDetails(elements[i]); elements[i].onclick = function (e) { NetworKit_toggleDetails((e.target) ? e.target : e.srcElement); } } elements = document.getElementById(id).getElementsByClassName(\"MathValue\"); for (i=elements.length-1; i>=0; i--) { value = elements[i].innerHTML.trim(); if (value === \"nan\") { elements[i].parentNode.innerHTML = \"\" } } elements = document.getElementById(id).getElementsByClassName(\"SubCategory\"); for (i=elements.length-1; i>=0; i--) { value = elements[i].innerHTML.trim(); if (value === \"\") { elements[i].parentNode.removeChild(elements[i]) } } elements = document.getElementById(id).getElementsByClassName(\"Category\"); for (i=elements.length-1; i>=0; i--) { value = elements[i].innerHTML.trim(); if (value === \"\") { elements[i].parentNode.removeChild(elements[i]) } } var isFirefox = false; try { isFirefox = typeof InstallTrigger !== \"undefined\"; } catch (e) {} if (!isFirefox) { alert(\"Currently the function\\'s output is only fully supported by Firefox.\"); } } function NetworKit_plotUpdate(source) { var index = source.getAttribute(\"data-image-index\"); var data = source.getAttribute(\"data-image-\" + index); var image = document.getElementById(source.id + \"_Image\"); image.style.backgroundImage = \"url(\" + data + \")\"; } function NetworKit_showElement(id, show) { var element = document.getElementById(id); element.style.display = (show) ? \"block\" : \"none\"; } function NetworKit_overlayShow(source) { NetworKit_overlayUpdate(source); NetworKit_showElement(\"NetworKit_Overlay\", true); } function NetworKit_overlayUpdate(source) { document.getElementById(\"NetworKit_Overlay_Title\").innerHTML = source.title; var index = source.getAttribute(\"data-image-index\"); var data = source.getAttribute(\"data-image-\" + index); var image = document.getElementById(\"NetworKit_Overlay_Image\"); image.setAttribute(\"data-id\", source.id); image.style.backgroundImage = \"url(\" + data + \")\"; var link = document.getElementById(\"NetworKit_Overlay_Toolbar_Bottom_Save\"); link.href = data; link.download = source.title + \".svg\"; } function NetworKit_overlayImageShift(delta) { var image = document.getElementById(\"NetworKit_Overlay_Image\"); var source = document.getElementById(image.getAttribute(\"data-id\")); var index = parseInt(source.getAttribute(\"data-image-index\")); var length = parseInt(source.getAttribute(\"data-image-length\")); var index = (index+delta) % length; if (index < 0) { index = length + index; } source.setAttribute(\"data-image-index\", index); NetworKit_overlayUpdate(source); } function NetworKit_toggleDetails(source) { var childs = source.children; var show = false; if (source.getAttribute(\"data-title\") == \"-\") { source.setAttribute(\"data-title\", \"+\"); show = false; } else { source.setAttribute(\"data-title\", \"-\"); show = true; } for (i=0; i<childs.length; i++) { if (show) { childs[i].style.display = \"block\"; } else { childs[i].style.display = \"none\"; } } }';\n",
       "\t\t\t\telement.setAttribute('id', 'NetworKit_script');\n",
       "\t\t\t\tdocument.head.appendChild(element);\n",
       "\t\t\t}\n",
       "\t\t\n",
       "\t\t\t\t\n",
       "\t\t\t{\n",
       "\t\t\t\tvar element = document.getElementById('NetworKit_style');\n",
       "\t\t\t\tif (element) {\n",
       "\t\t\t\t\telement.parentNode.removeChild(element);\n",
       "\t\t\t\t}\n",
       "\t\t\t\telement = document.createElement('style');\n",
       "\t\t\t\telement.type = 'text/css';\n",
       "\t\t\t\telement.innerHTML = '.NetworKit_Page { font-family: Arial, Helvetica, sans-serif; font-size: 14px; } .NetworKit_Page .Value:before { font-family: Arial, Helvetica, sans-serif; font-size: 1.05em; content: attr(data-title) \":\"; margin-left: -2.5em; padding-right: 0.5em; } .NetworKit_Page .Details .Value:before { display: block; } .NetworKit_Page .Value { font-family: monospace; white-space: pre; padding-left: 2.5em; white-space: -moz-pre-wrap !important; white-space: -pre-wrap; white-space: -o-pre-wrap; white-space: pre-wrap; word-wrap: break-word; tab-size: 4; -moz-tab-size: 4; } .NetworKit_Page .Category { clear: both; padding-left: 1em; margin-bottom: 1.5em; } .NetworKit_Page .Category:before { content: attr(data-title); font-size: 1.75em; display: block; margin-left: -0.8em; margin-bottom: 0.5em; } .NetworKit_Page .SubCategory { margin-bottom: 1.5em; padding-left: 1em; } .NetworKit_Page .SubCategory:before { font-size: 1.6em; display: block; margin-left: -0.8em; margin-bottom: 0.5em; } .NetworKit_Page .SubCategory[data-title]:before { content: attr(data-title); } .NetworKit_Page .Block { display: block; } .NetworKit_Page .Block:after { content: \".\"; visibility: hidden; display: block; height: 0; clear: both; } .NetworKit_Page .Block .Thumbnail_Overview, .NetworKit_Page .Block .Thumbnail_ScatterPlot { width: 260px; float: left; } .NetworKit_Page .Block .Thumbnail_Overview img, .NetworKit_Page .Block .Thumbnail_ScatterPlot img { width: 260px; } .NetworKit_Page .Block .Thumbnail_Overview:before, .NetworKit_Page .Block .Thumbnail_ScatterPlot:before { display: block; text-align: center; font-weight: bold; } .NetworKit_Page .Block .Thumbnail_Overview:before { content: attr(data-title); } .NetworKit_Page .HeatCell { font-family: \"Courier New\", Courier, monospace; cursor: pointer; } .NetworKit_Page .HeatCell, .NetworKit_Page .HeatCellName { display: inline; padding: 0.1em; margin-right: 2px; background-color: #FFFFFF } .NetworKit_Page .HeatCellName { margin-left: 0.25em; } .NetworKit_Page .HeatCell:before { content: attr(data-heat); display: inline-block; color: #000000; width: 4em; text-align: center; } .NetworKit_Page .Measure { clear: both; } .NetworKit_Page .Measure .Details { cursor: pointer; } .NetworKit_Page .Measure .Details:before { content: \"[\" attr(data-title) \"]\"; display: block; } .NetworKit_Page .Measure .Details .Value { border-left: 1px dotted black; margin-left: 0.4em; padding-left: 3.5em; pointer-events: none; } .NetworKit_Page .Measure .Details .Spacer:before { content: \".\"; opacity: 0.0; pointer-events: none; } .NetworKit_Page .Measure .Plot { width: 440px; height: 440px; cursor: pointer; float: left; margin-left: -0.9em; margin-right: 20px; } .NetworKit_Page .Measure .Plot .Image { background-repeat: no-repeat; background-position: center center; background-size: contain; height: 100%; pointer-events: none; } .NetworKit_Page .Measure .Stat { width: 500px; float: left; } .NetworKit_Page .Measure .Stat .Group { padding-left: 1.25em; margin-bottom: 0.75em; } .NetworKit_Page .Measure .Stat .Group .Title { font-size: 1.1em; display: block; margin-bottom: 0.3em; margin-left: -0.75em; border-right-style: dotted; border-right-width: 1px; border-bottom-style: dotted; border-bottom-width: 1px; background-color: #D0D0D0; padding-left: 0.2em; } .NetworKit_Page .Measure .Stat .Group .List { -webkit-column-count: 3; -moz-column-count: 3; column-count: 3; } .NetworKit_Page .Measure .Stat .Group .List .Entry { position: relative; line-height: 1.75em; } .NetworKit_Page .Measure .Stat .Group .List .Entry[data-tooltip]:before { position: absolute; left: 0; top: -40px; background-color: #808080; color: #ffffff; height: 30px; line-height: 30px; border-radius: 5px; padding: 0 15px; content: attr(data-tooltip); white-space: nowrap; display: none; } .NetworKit_Page .Measure .Stat .Group .List .Entry[data-tooltip]:after { position: absolute; left: 15px; top: -10px; border-top: 7px solid #808080; border-left: 7px solid transparent; border-right: 7px solid transparent; content: \"\"; display: none; } .NetworKit_Page .Measure .Stat .Group .List .Entry[data-tooltip]:hover:after, .NetworKit_Page .Measure .Stat .Group .List .Entry[data-tooltip]:hover:before { display: block; } .NetworKit_Page .Measure .Stat .Group .List .Entry .MathValue { font-family: \"Courier New\", Courier, monospace; } .NetworKit_Page .Measure:after { content: \".\"; visibility: hidden; display: block; height: 0; clear: both; } .NetworKit_Page .PartitionPie { clear: both; } .NetworKit_Page .PartitionPie img { width: 600px; } #NetworKit_Overlay { left: 0px; top: 0px; display: none; position: absolute; width: 100%; height: 100%; background-color: rgba(0,0,0,0.6); z-index: 1000; } #NetworKit_Overlay_Title { position: absolute; color: white; transform: rotate(-90deg); width: 32em; height: 32em; padding-right: 0.5em; padding-top: 0.5em; text-align: right; font-size: 40px; } #NetworKit_Overlay .button { background: white; cursor: pointer; } #NetworKit_Overlay .button:before { size: 13px; display: inline-block; text-align: center; margin-top: 0.5em; margin-bottom: 0.5em; width: 1.5em; height: 1.5em; } #NetworKit_Overlay .icon-close:before { content: \"X\"; } #NetworKit_Overlay .icon-previous:before { content: \"P\"; } #NetworKit_Overlay .icon-next:before { content: \"N\"; } #NetworKit_Overlay .icon-save:before { content: \"S\"; } #NetworKit_Overlay_Toolbar_Top, #NetworKit_Overlay_Toolbar_Bottom { position: absolute; width: 40px; right: 13px; text-align: right; z-index: 1100; } #NetworKit_Overlay_Toolbar_Top { top: 0.5em; } #NetworKit_Overlay_Toolbar_Bottom { Bottom: 0.5em; } #NetworKit_Overlay_ImageContainer { position: absolute; top: 5%; left: 5%; height: 90%; width: 90%; background-repeat: no-repeat; background-position: center center; background-size: contain; } #NetworKit_Overlay_Image { height: 100%; width: 100%; background-repeat: no-repeat; background-position: center center; background-size: contain; }';\n",
       "\t\t\t\telement.setAttribute('id', 'NetworKit_style');\n",
       "\t\t\t\tdocument.head.appendChild(element);\n",
       "\t\t\t}\n",
       "\t\t\n",
       "\t\t\t\t\n",
       "\t\t\t{\n",
       "\t\t\t\tvar element = document.getElementById('NetworKit_Overlay');\n",
       "\t\t\t\tif (element) {\n",
       "\t\t\t\t\telement.parentNode.removeChild(element);\n",
       "\t\t\t\t}\n",
       "\t\t\t\telement = document.createElement('div');\n",
       "\t\t\t\telement.innerHTML = '<div id=\"NetworKit_Overlay_Toolbar_Top\"><div class=\"button icon-close\" id=\"NetworKit_Overlay_Close\" /></div><div id=\"NetworKit_Overlay_Title\" /> <div id=\"NetworKit_Overlay_ImageContainer\"> <div id=\"NetworKit_Overlay_Image\" /> </div> <div id=\"NetworKit_Overlay_Toolbar_Bottom\"> <div class=\"button icon-previous\" onclick=\"NetworKit_overlayImageShift(-1)\" /> <div class=\"button icon-next\" onclick=\"NetworKit_overlayImageShift(1)\" /> <a id=\"NetworKit_Overlay_Toolbar_Bottom_Save\"><div class=\"button icon-save\" /></a> </div>';\n",
       "\t\t\t\telement.setAttribute('id', 'NetworKit_Overlay');\n",
       "\t\t\t\tdocument.body.appendChild(element);\n",
       "\t\t\t\tdocument.getElementById('NetworKit_Overlay_Close').onclick = function (e) {\n",
       "\t\t\t\t\tdocument.getElementById('NetworKit_Overlay').style.display = 'none';\n",
       "\t\t\t\t}\n",
       "\t\t\t}\n",
       "\t\t\n",
       "\t\t\t-->\n",
       "\t\t\t</script>\n",
       "\t\t"
      ]
     },
     "metadata": {},
     "output_type": "display_data"
    },
    {
     "name": "stderr",
     "output_type": "stream",
     "text": [
      "WARNING:smart_open.transport:unable to import 'smart_open.gcs', disabling that module\n"
     ]
    }
   ],
   "source": [
    "import gct"
   ]
  },
  {
   "cell_type": "code",
   "execution_count": 2,
   "metadata": {},
   "outputs": [],
   "source": [
    "def make_graph(N, mu=0.2):\n",
    "    name = \"EVAL3_LFR_ud_wu_N{}_mu{}\".format(N,mu)\n",
    "    graph_unweighted_undirect = gct.random_dataset.generate_undirected_unweighted_random_graph_LFR(name=name, \\\n",
    "                                       N=N, k=int(N/4), maxk=int(N/2), mu=mu)\n"
   ]
  },
  {
   "cell_type": "code",
   "execution_count": 3,
   "metadata": {},
   "outputs": [],
   "source": [
    "sizes=[128,512,1024]\n",
    "mus=[0.1,0.2, 0.3,0.4,0.5,0.6,0.7,0.8,0.9]"
   ]
  },
  {
   "cell_type": "code",
   "execution_count": 4,
   "metadata": {
    "scrolled": true
   },
   "outputs": [
    {
     "name": "stderr",
     "output_type": "stream",
     "text": [
      "2020-05-02 19:44:00,578 - RandomGenerator:LFR - INFO - Runing '/opt/gct/submodules/CommunityDetectionCodes/lfr_undir_net -N 128 -k 32 -maxk 64 -mu 0.1'  with seed 272981\n",
      "INFO:RandomGenerator:LFR:Runing '/opt/gct/submodules/CommunityDetectionCodes/lfr_undir_net -N 128 -k 32 -maxk 64 -mu 0.1'  with seed 272981\n",
      "2020-05-02 19:44:00,580 - RandomGenerator:LFR - INFO - working dir: /tmp/tmps92nj3r8\n",
      "INFO:RandomGenerator:LFR:working dir: /tmp/tmps92nj3r8\n",
      "2020-05-02 19:44:00,696 - RandomGenerator:LFR - INFO - min node is 1. will make it 0\n",
      "INFO:RandomGenerator:LFR:min node is 1. will make it 0\n",
      "/opt/conda/envs/python3/lib/python3.7/site-packages/pandas/core/frame.py:4133: SettingWithCopyWarning: \n",
      "A value is trying to be set on a copy of a slice from a DataFrame\n",
      "\n",
      "See the caveats in the documentation: https://pandas.pydata.org/pandas-docs/stable/user_guide/indexing.html#returning-a-view-versus-a-copy\n",
      "  errors=errors,\n",
      "2020-05-02 19:44:00,715 - Dataset:EVAL3_LFR_ud_wu_N128_mu0.1 - INFO - writing/data/data/EVAL3_LFR_ud_wu_N128_mu0.1/edges.parq\n",
      "INFO:Dataset:EVAL3_LFR_ud_wu_N128_mu0.1:writing/data/data/EVAL3_LFR_ud_wu_N128_mu0.1/edges.parq\n",
      "2020-05-02 19:44:01,298 - Clustering - INFO - Writing /data/data/EVAL3_LFR_ud_wu_N128_mu0.1/gt_default.parq\n",
      "INFO:Clustering:Writing /data/data/EVAL3_LFR_ud_wu_N128_mu0.1/gt_default.parq\n",
      "2020-05-02 19:44:01,305 - RandomGenerator:LFR - INFO - Runing '/opt/gct/submodules/CommunityDetectionCodes/lfr_undir_net -N 128 -k 32 -maxk 64 -mu 0.2'  with seed 149159\n",
      "INFO:RandomGenerator:LFR:Runing '/opt/gct/submodules/CommunityDetectionCodes/lfr_undir_net -N 128 -k 32 -maxk 64 -mu 0.2'  with seed 149159\n",
      "2020-05-02 19:44:01,306 - RandomGenerator:LFR - INFO - working dir: /tmp/tmpnw828o8g\n",
      "INFO:RandomGenerator:LFR:working dir: /tmp/tmpnw828o8g\n",
      "2020-05-02 19:44:01,400 - RandomGenerator:LFR - INFO - min node is 1. will make it 0\n",
      "INFO:RandomGenerator:LFR:min node is 1. will make it 0\n",
      "/opt/conda/envs/python3/lib/python3.7/site-packages/pandas/core/frame.py:4133: SettingWithCopyWarning: \n",
      "A value is trying to be set on a copy of a slice from a DataFrame\n",
      "\n",
      "See the caveats in the documentation: https://pandas.pydata.org/pandas-docs/stable/user_guide/indexing.html#returning-a-view-versus-a-copy\n",
      "  errors=errors,\n",
      "2020-05-02 19:44:01,419 - Dataset:EVAL3_LFR_ud_wu_N128_mu0.2 - INFO - writing/data/data/EVAL3_LFR_ud_wu_N128_mu0.2/edges.parq\n",
      "INFO:Dataset:EVAL3_LFR_ud_wu_N128_mu0.2:writing/data/data/EVAL3_LFR_ud_wu_N128_mu0.2/edges.parq\n",
      "2020-05-02 19:44:01,428 - Clustering - INFO - Writing /data/data/EVAL3_LFR_ud_wu_N128_mu0.2/gt_default.parq\n",
      "INFO:Clustering:Writing /data/data/EVAL3_LFR_ud_wu_N128_mu0.2/gt_default.parq\n",
      "2020-05-02 19:44:01,436 - RandomGenerator:LFR - INFO - Runing '/opt/gct/submodules/CommunityDetectionCodes/lfr_undir_net -N 128 -k 32 -maxk 64 -mu 0.3'  with seed 450835\n",
      "INFO:RandomGenerator:LFR:Runing '/opt/gct/submodules/CommunityDetectionCodes/lfr_undir_net -N 128 -k 32 -maxk 64 -mu 0.3'  with seed 450835\n",
      "2020-05-02 19:44:01,440 - RandomGenerator:LFR - INFO - working dir: /tmp/tmp4gra298f\n",
      "INFO:RandomGenerator:LFR:working dir: /tmp/tmp4gra298f\n",
      "2020-05-02 19:44:01,555 - RandomGenerator:LFR - INFO - min node is 1. will make it 0\n",
      "INFO:RandomGenerator:LFR:min node is 1. will make it 0\n",
      "2020-05-02 19:44:01,570 - Dataset:EVAL3_LFR_ud_wu_N128_mu0.3 - INFO - writing/data/data/EVAL3_LFR_ud_wu_N128_mu0.3/edges.parq\n",
      "INFO:Dataset:EVAL3_LFR_ud_wu_N128_mu0.3:writing/data/data/EVAL3_LFR_ud_wu_N128_mu0.3/edges.parq\n",
      "2020-05-02 19:44:01,576 - Clustering - INFO - Writing /data/data/EVAL3_LFR_ud_wu_N128_mu0.3/gt_default.parq\n",
      "INFO:Clustering:Writing /data/data/EVAL3_LFR_ud_wu_N128_mu0.3/gt_default.parq\n",
      "2020-05-02 19:44:01,583 - RandomGenerator:LFR - INFO - Runing '/opt/gct/submodules/CommunityDetectionCodes/lfr_undir_net -N 128 -k 32 -maxk 64 -mu 0.4'  with seed 259352\n",
      "INFO:RandomGenerator:LFR:Runing '/opt/gct/submodules/CommunityDetectionCodes/lfr_undir_net -N 128 -k 32 -maxk 64 -mu 0.4'  with seed 259352\n",
      "2020-05-02 19:44:01,584 - RandomGenerator:LFR - INFO - working dir: /tmp/tmpbrsjoc8f\n",
      "INFO:RandomGenerator:LFR:working dir: /tmp/tmpbrsjoc8f\n",
      "2020-05-02 19:44:01,699 - RandomGenerator:LFR - INFO - min node is 1. will make it 0\n",
      "INFO:RandomGenerator:LFR:min node is 1. will make it 0\n",
      "2020-05-02 19:44:01,717 - Dataset:EVAL3_LFR_ud_wu_N128_mu0.4 - INFO - writing/data/data/EVAL3_LFR_ud_wu_N128_mu0.4/edges.parq\n",
      "INFO:Dataset:EVAL3_LFR_ud_wu_N128_mu0.4:writing/data/data/EVAL3_LFR_ud_wu_N128_mu0.4/edges.parq\n",
      "2020-05-02 19:44:01,724 - Clustering - INFO - Writing /data/data/EVAL3_LFR_ud_wu_N128_mu0.4/gt_default.parq\n",
      "INFO:Clustering:Writing /data/data/EVAL3_LFR_ud_wu_N128_mu0.4/gt_default.parq\n",
      "2020-05-02 19:44:01,730 - RandomGenerator:LFR - INFO - Runing '/opt/gct/submodules/CommunityDetectionCodes/lfr_undir_net -N 128 -k 32 -maxk 64 -mu 0.5'  with seed 684820\n",
      "INFO:RandomGenerator:LFR:Runing '/opt/gct/submodules/CommunityDetectionCodes/lfr_undir_net -N 128 -k 32 -maxk 64 -mu 0.5'  with seed 684820\n",
      "2020-05-02 19:44:01,731 - RandomGenerator:LFR - INFO - working dir: /tmp/tmpf07pkbf_\n",
      "INFO:RandomGenerator:LFR:working dir: /tmp/tmpf07pkbf_\n",
      "2020-05-02 19:44:01,878 - RandomGenerator:LFR - INFO - min node is 1. will make it 0\n",
      "INFO:RandomGenerator:LFR:min node is 1. will make it 0\n",
      "2020-05-02 19:44:01,894 - Dataset:EVAL3_LFR_ud_wu_N128_mu0.5 - INFO - writing/data/data/EVAL3_LFR_ud_wu_N128_mu0.5/edges.parq\n",
      "INFO:Dataset:EVAL3_LFR_ud_wu_N128_mu0.5:writing/data/data/EVAL3_LFR_ud_wu_N128_mu0.5/edges.parq\n",
      "2020-05-02 19:44:01,900 - Clustering - INFO - Writing /data/data/EVAL3_LFR_ud_wu_N128_mu0.5/gt_default.parq\n",
      "INFO:Clustering:Writing /data/data/EVAL3_LFR_ud_wu_N128_mu0.5/gt_default.parq\n",
      "2020-05-02 19:44:01,907 - RandomGenerator:LFR - INFO - Runing '/opt/gct/submodules/CommunityDetectionCodes/lfr_undir_net -N 128 -k 32 -maxk 64 -mu 0.6'  with seed 860784\n",
      "INFO:RandomGenerator:LFR:Runing '/opt/gct/submodules/CommunityDetectionCodes/lfr_undir_net -N 128 -k 32 -maxk 64 -mu 0.6'  with seed 860784\n",
      "2020-05-02 19:44:01,910 - RandomGenerator:LFR - INFO - working dir: /tmp/tmp540jk4bz\n",
      "INFO:RandomGenerator:LFR:working dir: /tmp/tmp540jk4bz\n",
      "2020-05-02 19:44:02,084 - RandomGenerator:LFR - INFO - min node is 1. will make it 0\n",
      "INFO:RandomGenerator:LFR:min node is 1. will make it 0\n",
      "2020-05-02 19:44:02,101 - Dataset:EVAL3_LFR_ud_wu_N128_mu0.6 - INFO - writing/data/data/EVAL3_LFR_ud_wu_N128_mu0.6/edges.parq\n",
      "INFO:Dataset:EVAL3_LFR_ud_wu_N128_mu0.6:writing/data/data/EVAL3_LFR_ud_wu_N128_mu0.6/edges.parq\n",
      "2020-05-02 19:44:02,109 - Clustering - INFO - Writing /data/data/EVAL3_LFR_ud_wu_N128_mu0.6/gt_default.parq\n",
      "INFO:Clustering:Writing /data/data/EVAL3_LFR_ud_wu_N128_mu0.6/gt_default.parq\n",
      "2020-05-02 19:44:02,116 - RandomGenerator:LFR - INFO - Runing '/opt/gct/submodules/CommunityDetectionCodes/lfr_undir_net -N 128 -k 32 -maxk 64 -mu 0.7'  with seed 286615\n",
      "INFO:RandomGenerator:LFR:Runing '/opt/gct/submodules/CommunityDetectionCodes/lfr_undir_net -N 128 -k 32 -maxk 64 -mu 0.7'  with seed 286615\n",
      "2020-05-02 19:44:02,117 - RandomGenerator:LFR - INFO - working dir: /tmp/tmpg77t4br3\n",
      "INFO:RandomGenerator:LFR:working dir: /tmp/tmpg77t4br3\n",
      "2020-05-02 19:44:02,276 - RandomGenerator:LFR - INFO - min node is 1. will make it 0\n",
      "INFO:RandomGenerator:LFR:min node is 1. will make it 0\n",
      "2020-05-02 19:44:02,294 - Dataset:EVAL3_LFR_ud_wu_N128_mu0.7 - INFO - writing/data/data/EVAL3_LFR_ud_wu_N128_mu0.7/edges.parq\n",
      "INFO:Dataset:EVAL3_LFR_ud_wu_N128_mu0.7:writing/data/data/EVAL3_LFR_ud_wu_N128_mu0.7/edges.parq\n",
      "2020-05-02 19:44:02,301 - Clustering - INFO - Writing /data/data/EVAL3_LFR_ud_wu_N128_mu0.7/gt_default.parq\n",
      "INFO:Clustering:Writing /data/data/EVAL3_LFR_ud_wu_N128_mu0.7/gt_default.parq\n",
      "2020-05-02 19:44:02,307 - RandomGenerator:LFR - INFO - Runing '/opt/gct/submodules/CommunityDetectionCodes/lfr_undir_net -N 128 -k 32 -maxk 64 -mu 0.8'  with seed 675460\n",
      "INFO:RandomGenerator:LFR:Runing '/opt/gct/submodules/CommunityDetectionCodes/lfr_undir_net -N 128 -k 32 -maxk 64 -mu 0.8'  with seed 675460\n",
      "2020-05-02 19:44:02,309 - RandomGenerator:LFR - INFO - working dir: /tmp/tmpfurh2nbi\n",
      "INFO:RandomGenerator:LFR:working dir: /tmp/tmpfurh2nbi\n",
      "2020-05-02 19:44:02,484 - RandomGenerator:LFR - INFO - min node is 1. will make it 0\n",
      "INFO:RandomGenerator:LFR:min node is 1. will make it 0\n"
     ]
    },
    {
     "name": "stderr",
     "output_type": "stream",
     "text": [
      "2020-05-02 19:44:02,503 - Dataset:EVAL3_LFR_ud_wu_N128_mu0.8 - INFO - writing/data/data/EVAL3_LFR_ud_wu_N128_mu0.8/edges.parq\n",
      "INFO:Dataset:EVAL3_LFR_ud_wu_N128_mu0.8:writing/data/data/EVAL3_LFR_ud_wu_N128_mu0.8/edges.parq\n",
      "2020-05-02 19:44:02,511 - Clustering - INFO - Writing /data/data/EVAL3_LFR_ud_wu_N128_mu0.8/gt_default.parq\n",
      "INFO:Clustering:Writing /data/data/EVAL3_LFR_ud_wu_N128_mu0.8/gt_default.parq\n",
      "2020-05-02 19:44:02,519 - RandomGenerator:LFR - INFO - Runing '/opt/gct/submodules/CommunityDetectionCodes/lfr_undir_net -N 128 -k 32 -maxk 64 -mu 0.9'  with seed 521986\n",
      "INFO:RandomGenerator:LFR:Runing '/opt/gct/submodules/CommunityDetectionCodes/lfr_undir_net -N 128 -k 32 -maxk 64 -mu 0.9'  with seed 521986\n",
      "2020-05-02 19:44:02,523 - RandomGenerator:LFR - INFO - working dir: /tmp/tmp9ykl5b4g\n",
      "INFO:RandomGenerator:LFR:working dir: /tmp/tmp9ykl5b4g\n",
      "2020-05-02 19:44:02,675 - RandomGenerator:LFR - INFO - min node is 1. will make it 0\n",
      "INFO:RandomGenerator:LFR:min node is 1. will make it 0\n",
      "2020-05-02 19:44:02,687 - Dataset:EVAL3_LFR_ud_wu_N128_mu0.9 - INFO - writing/data/data/EVAL3_LFR_ud_wu_N128_mu0.9/edges.parq\n",
      "INFO:Dataset:EVAL3_LFR_ud_wu_N128_mu0.9:writing/data/data/EVAL3_LFR_ud_wu_N128_mu0.9/edges.parq\n",
      "2020-05-02 19:44:02,693 - Clustering - INFO - Writing /data/data/EVAL3_LFR_ud_wu_N128_mu0.9/gt_default.parq\n",
      "INFO:Clustering:Writing /data/data/EVAL3_LFR_ud_wu_N128_mu0.9/gt_default.parq\n",
      "2020-05-02 19:44:02,698 - RandomGenerator:LFR - INFO - Runing '/opt/gct/submodules/CommunityDetectionCodes/lfr_undir_net -N 512 -k 128 -maxk 256 -mu 0.1'  with seed 758284\n",
      "INFO:RandomGenerator:LFR:Runing '/opt/gct/submodules/CommunityDetectionCodes/lfr_undir_net -N 512 -k 128 -maxk 256 -mu 0.1'  with seed 758284\n",
      "2020-05-02 19:44:02,699 - RandomGenerator:LFR - INFO - working dir: /tmp/tmp7pwmrva8\n",
      "INFO:RandomGenerator:LFR:working dir: /tmp/tmp7pwmrva8\n",
      "2020-05-02 19:44:06,299 - RandomGenerator:LFR - INFO - min node is 1. will make it 0\n",
      "INFO:RandomGenerator:LFR:min node is 1. will make it 0\n",
      "2020-05-02 19:44:06,320 - Dataset:EVAL3_LFR_ud_wu_N512_mu0.1 - INFO - writing/data/data/EVAL3_LFR_ud_wu_N512_mu0.1/edges.parq\n",
      "INFO:Dataset:EVAL3_LFR_ud_wu_N512_mu0.1:writing/data/data/EVAL3_LFR_ud_wu_N512_mu0.1/edges.parq\n",
      "2020-05-02 19:44:06,327 - Clustering - INFO - Writing /data/data/EVAL3_LFR_ud_wu_N512_mu0.1/gt_default.parq\n",
      "INFO:Clustering:Writing /data/data/EVAL3_LFR_ud_wu_N512_mu0.1/gt_default.parq\n",
      "2020-05-02 19:44:06,332 - RandomGenerator:LFR - INFO - Runing '/opt/gct/submodules/CommunityDetectionCodes/lfr_undir_net -N 512 -k 128 -maxk 256 -mu 0.2'  with seed 118368\n",
      "INFO:RandomGenerator:LFR:Runing '/opt/gct/submodules/CommunityDetectionCodes/lfr_undir_net -N 512 -k 128 -maxk 256 -mu 0.2'  with seed 118368\n",
      "2020-05-02 19:44:06,333 - RandomGenerator:LFR - INFO - working dir: /tmp/tmp3r0qv0p7\n",
      "INFO:RandomGenerator:LFR:working dir: /tmp/tmp3r0qv0p7\n",
      "2020-05-02 19:44:10,223 - RandomGenerator:LFR - INFO - min node is 1. will make it 0\n",
      "INFO:RandomGenerator:LFR:min node is 1. will make it 0\n",
      "2020-05-02 19:44:10,241 - Dataset:EVAL3_LFR_ud_wu_N512_mu0.2 - INFO - writing/data/data/EVAL3_LFR_ud_wu_N512_mu0.2/edges.parq\n",
      "INFO:Dataset:EVAL3_LFR_ud_wu_N512_mu0.2:writing/data/data/EVAL3_LFR_ud_wu_N512_mu0.2/edges.parq\n",
      "2020-05-02 19:44:10,248 - Clustering - INFO - Writing /data/data/EVAL3_LFR_ud_wu_N512_mu0.2/gt_default.parq\n",
      "INFO:Clustering:Writing /data/data/EVAL3_LFR_ud_wu_N512_mu0.2/gt_default.parq\n",
      "2020-05-02 19:44:10,254 - RandomGenerator:LFR - INFO - Runing '/opt/gct/submodules/CommunityDetectionCodes/lfr_undir_net -N 512 -k 128 -maxk 256 -mu 0.3'  with seed 494990\n",
      "INFO:RandomGenerator:LFR:Runing '/opt/gct/submodules/CommunityDetectionCodes/lfr_undir_net -N 512 -k 128 -maxk 256 -mu 0.3'  with seed 494990\n",
      "2020-05-02 19:44:10,254 - RandomGenerator:LFR - INFO - working dir: /tmp/tmpy4w2l27q\n",
      "INFO:RandomGenerator:LFR:working dir: /tmp/tmpy4w2l27q\n",
      "2020-05-02 19:44:13,338 - RandomGenerator:LFR - INFO - min node is 1. will make it 0\n",
      "INFO:RandomGenerator:LFR:min node is 1. will make it 0\n",
      "2020-05-02 19:44:13,366 - Dataset:EVAL3_LFR_ud_wu_N512_mu0.3 - INFO - writing/data/data/EVAL3_LFR_ud_wu_N512_mu0.3/edges.parq\n",
      "INFO:Dataset:EVAL3_LFR_ud_wu_N512_mu0.3:writing/data/data/EVAL3_LFR_ud_wu_N512_mu0.3/edges.parq\n",
      "2020-05-02 19:44:13,377 - Clustering - INFO - Writing /data/data/EVAL3_LFR_ud_wu_N512_mu0.3/gt_default.parq\n",
      "INFO:Clustering:Writing /data/data/EVAL3_LFR_ud_wu_N512_mu0.3/gt_default.parq\n",
      "2020-05-02 19:44:13,385 - RandomGenerator:LFR - INFO - Runing '/opt/gct/submodules/CommunityDetectionCodes/lfr_undir_net -N 512 -k 128 -maxk 256 -mu 0.4'  with seed 753770\n",
      "INFO:RandomGenerator:LFR:Runing '/opt/gct/submodules/CommunityDetectionCodes/lfr_undir_net -N 512 -k 128 -maxk 256 -mu 0.4'  with seed 753770\n",
      "2020-05-02 19:44:13,387 - RandomGenerator:LFR - INFO - working dir: /tmp/tmpjjvvqb07\n",
      "INFO:RandomGenerator:LFR:working dir: /tmp/tmpjjvvqb07\n",
      "2020-05-02 19:44:17,967 - RandomGenerator:LFR - INFO - min node is 1. will make it 0\n",
      "INFO:RandomGenerator:LFR:min node is 1. will make it 0\n",
      "2020-05-02 19:44:17,993 - Dataset:EVAL3_LFR_ud_wu_N512_mu0.4 - INFO - writing/data/data/EVAL3_LFR_ud_wu_N512_mu0.4/edges.parq\n",
      "INFO:Dataset:EVAL3_LFR_ud_wu_N512_mu0.4:writing/data/data/EVAL3_LFR_ud_wu_N512_mu0.4/edges.parq\n",
      "2020-05-02 19:44:18,002 - Clustering - INFO - Writing /data/data/EVAL3_LFR_ud_wu_N512_mu0.4/gt_default.parq\n",
      "INFO:Clustering:Writing /data/data/EVAL3_LFR_ud_wu_N512_mu0.4/gt_default.parq\n",
      "2020-05-02 19:44:18,008 - RandomGenerator:LFR - INFO - Runing '/opt/gct/submodules/CommunityDetectionCodes/lfr_undir_net -N 512 -k 128 -maxk 256 -mu 0.5'  with seed 616932\n",
      "INFO:RandomGenerator:LFR:Runing '/opt/gct/submodules/CommunityDetectionCodes/lfr_undir_net -N 512 -k 128 -maxk 256 -mu 0.5'  with seed 616932\n",
      "2020-05-02 19:44:18,010 - RandomGenerator:LFR - INFO - working dir: /tmp/tmpm4oja74a\n",
      "INFO:RandomGenerator:LFR:working dir: /tmp/tmpm4oja74a\n",
      "2020-05-02 19:44:22,160 - RandomGenerator:LFR - INFO - min node is 1. will make it 0\n",
      "INFO:RandomGenerator:LFR:min node is 1. will make it 0\n",
      "2020-05-02 19:44:22,189 - Dataset:EVAL3_LFR_ud_wu_N512_mu0.5 - INFO - writing/data/data/EVAL3_LFR_ud_wu_N512_mu0.5/edges.parq\n",
      "INFO:Dataset:EVAL3_LFR_ud_wu_N512_mu0.5:writing/data/data/EVAL3_LFR_ud_wu_N512_mu0.5/edges.parq\n",
      "2020-05-02 19:44:22,197 - Clustering - INFO - Writing /data/data/EVAL3_LFR_ud_wu_N512_mu0.5/gt_default.parq\n",
      "INFO:Clustering:Writing /data/data/EVAL3_LFR_ud_wu_N512_mu0.5/gt_default.parq\n",
      "2020-05-02 19:44:22,204 - RandomGenerator:LFR - INFO - Runing '/opt/gct/submodules/CommunityDetectionCodes/lfr_undir_net -N 512 -k 128 -maxk 256 -mu 0.6'  with seed 544053\n",
      "INFO:RandomGenerator:LFR:Runing '/opt/gct/submodules/CommunityDetectionCodes/lfr_undir_net -N 512 -k 128 -maxk 256 -mu 0.6'  with seed 544053\n",
      "2020-05-02 19:44:22,206 - RandomGenerator:LFR - INFO - working dir: /tmp/tmp3zfoll0o\n",
      "INFO:RandomGenerator:LFR:working dir: /tmp/tmp3zfoll0o\n",
      "2020-05-02 19:44:27,879 - RandomGenerator:LFR - INFO - min node is 1. will make it 0\n",
      "INFO:RandomGenerator:LFR:min node is 1. will make it 0\n",
      "2020-05-02 19:44:27,897 - Dataset:EVAL3_LFR_ud_wu_N512_mu0.6 - INFO - writing/data/data/EVAL3_LFR_ud_wu_N512_mu0.6/edges.parq\n",
      "INFO:Dataset:EVAL3_LFR_ud_wu_N512_mu0.6:writing/data/data/EVAL3_LFR_ud_wu_N512_mu0.6/edges.parq\n",
      "2020-05-02 19:44:27,904 - Clustering - INFO - Writing /data/data/EVAL3_LFR_ud_wu_N512_mu0.6/gt_default.parq\n",
      "INFO:Clustering:Writing /data/data/EVAL3_LFR_ud_wu_N512_mu0.6/gt_default.parq\n",
      "2020-05-02 19:44:27,910 - RandomGenerator:LFR - INFO - Runing '/opt/gct/submodules/CommunityDetectionCodes/lfr_undir_net -N 512 -k 128 -maxk 256 -mu 0.7'  with seed 61925\n",
      "INFO:RandomGenerator:LFR:Runing '/opt/gct/submodules/CommunityDetectionCodes/lfr_undir_net -N 512 -k 128 -maxk 256 -mu 0.7'  with seed 61925\n",
      "2020-05-02 19:44:27,911 - RandomGenerator:LFR - INFO - working dir: /tmp/tmppr16s6vc\n",
      "INFO:RandomGenerator:LFR:working dir: /tmp/tmppr16s6vc\n",
      "2020-05-02 19:44:34,166 - RandomGenerator:LFR - INFO - min node is 1. will make it 0\n",
      "INFO:RandomGenerator:LFR:min node is 1. will make it 0\n",
      "2020-05-02 19:44:34,194 - Dataset:EVAL3_LFR_ud_wu_N512_mu0.7 - INFO - writing/data/data/EVAL3_LFR_ud_wu_N512_mu0.7/edges.parq\n",
      "INFO:Dataset:EVAL3_LFR_ud_wu_N512_mu0.7:writing/data/data/EVAL3_LFR_ud_wu_N512_mu0.7/edges.parq\n"
     ]
    },
    {
     "name": "stderr",
     "output_type": "stream",
     "text": [
      "2020-05-02 19:44:34,203 - Clustering - INFO - Writing /data/data/EVAL3_LFR_ud_wu_N512_mu0.7/gt_default.parq\n",
      "INFO:Clustering:Writing /data/data/EVAL3_LFR_ud_wu_N512_mu0.7/gt_default.parq\n",
      "2020-05-02 19:44:34,211 - RandomGenerator:LFR - INFO - Runing '/opt/gct/submodules/CommunityDetectionCodes/lfr_undir_net -N 512 -k 128 -maxk 256 -mu 0.8'  with seed 414743\n",
      "INFO:RandomGenerator:LFR:Runing '/opt/gct/submodules/CommunityDetectionCodes/lfr_undir_net -N 512 -k 128 -maxk 256 -mu 0.8'  with seed 414743\n",
      "2020-05-02 19:44:34,214 - RandomGenerator:LFR - INFO - working dir: /tmp/tmp_n4c_vgr\n",
      "INFO:RandomGenerator:LFR:working dir: /tmp/tmp_n4c_vgr\n",
      "2020-05-02 19:44:42,688 - RandomGenerator:LFR - INFO - min node is 1. will make it 0\n",
      "INFO:RandomGenerator:LFR:min node is 1. will make it 0\n",
      "2020-05-02 19:44:42,715 - Dataset:EVAL3_LFR_ud_wu_N512_mu0.8 - INFO - writing/data/data/EVAL3_LFR_ud_wu_N512_mu0.8/edges.parq\n",
      "INFO:Dataset:EVAL3_LFR_ud_wu_N512_mu0.8:writing/data/data/EVAL3_LFR_ud_wu_N512_mu0.8/edges.parq\n",
      "2020-05-02 19:44:42,723 - Clustering - INFO - Writing /data/data/EVAL3_LFR_ud_wu_N512_mu0.8/gt_default.parq\n",
      "INFO:Clustering:Writing /data/data/EVAL3_LFR_ud_wu_N512_mu0.8/gt_default.parq\n",
      "2020-05-02 19:44:42,729 - RandomGenerator:LFR - INFO - Runing '/opt/gct/submodules/CommunityDetectionCodes/lfr_undir_net -N 512 -k 128 -maxk 256 -mu 0.9'  with seed 95028\n",
      "INFO:RandomGenerator:LFR:Runing '/opt/gct/submodules/CommunityDetectionCodes/lfr_undir_net -N 512 -k 128 -maxk 256 -mu 0.9'  with seed 95028\n",
      "2020-05-02 19:44:42,730 - RandomGenerator:LFR - INFO - working dir: /tmp/tmp_12g9m8x\n",
      "INFO:RandomGenerator:LFR:working dir: /tmp/tmp_12g9m8x\n",
      "2020-05-02 19:44:51,083 - RandomGenerator:LFR - INFO - min node is 1. will make it 0\n",
      "INFO:RandomGenerator:LFR:min node is 1. will make it 0\n",
      "2020-05-02 19:44:51,107 - Dataset:EVAL3_LFR_ud_wu_N512_mu0.9 - INFO - writing/data/data/EVAL3_LFR_ud_wu_N512_mu0.9/edges.parq\n",
      "INFO:Dataset:EVAL3_LFR_ud_wu_N512_mu0.9:writing/data/data/EVAL3_LFR_ud_wu_N512_mu0.9/edges.parq\n",
      "2020-05-02 19:44:51,117 - Clustering - INFO - Writing /data/data/EVAL3_LFR_ud_wu_N512_mu0.9/gt_default.parq\n",
      "INFO:Clustering:Writing /data/data/EVAL3_LFR_ud_wu_N512_mu0.9/gt_default.parq\n",
      "2020-05-02 19:44:51,126 - RandomGenerator:LFR - INFO - Runing '/opt/gct/submodules/CommunityDetectionCodes/lfr_undir_net -N 1024 -k 256 -maxk 512 -mu 0.1'  with seed 563438\n",
      "INFO:RandomGenerator:LFR:Runing '/opt/gct/submodules/CommunityDetectionCodes/lfr_undir_net -N 1024 -k 256 -maxk 512 -mu 0.1'  with seed 563438\n",
      "2020-05-02 19:44:51,127 - RandomGenerator:LFR - INFO - working dir: /tmp/tmpa7vb0kpo\n",
      "INFO:RandomGenerator:LFR:working dir: /tmp/tmpa7vb0kpo\n",
      "2020-05-02 19:45:25,178 - RandomGenerator:LFR - INFO - min node is 1. will make it 0\n",
      "INFO:RandomGenerator:LFR:min node is 1. will make it 0\n",
      "2020-05-02 19:45:25,232 - Dataset:EVAL3_LFR_ud_wu_N1024_mu0.1 - INFO - writing/data/data/EVAL3_LFR_ud_wu_N1024_mu0.1/edges.parq\n",
      "INFO:Dataset:EVAL3_LFR_ud_wu_N1024_mu0.1:writing/data/data/EVAL3_LFR_ud_wu_N1024_mu0.1/edges.parq\n",
      "2020-05-02 19:45:25,246 - Clustering - INFO - Writing /data/data/EVAL3_LFR_ud_wu_N1024_mu0.1/gt_default.parq\n",
      "INFO:Clustering:Writing /data/data/EVAL3_LFR_ud_wu_N1024_mu0.1/gt_default.parq\n",
      "2020-05-02 19:45:25,254 - RandomGenerator:LFR - INFO - Runing '/opt/gct/submodules/CommunityDetectionCodes/lfr_undir_net -N 1024 -k 256 -maxk 512 -mu 0.2'  with seed 987979\n",
      "INFO:RandomGenerator:LFR:Runing '/opt/gct/submodules/CommunityDetectionCodes/lfr_undir_net -N 1024 -k 256 -maxk 512 -mu 0.2'  with seed 987979\n",
      "2020-05-02 19:45:25,255 - RandomGenerator:LFR - INFO - working dir: /tmp/tmpo6lnmf_z\n",
      "INFO:RandomGenerator:LFR:working dir: /tmp/tmpo6lnmf_z\n",
      "2020-05-02 19:45:54,348 - RandomGenerator:LFR - INFO - min node is 1. will make it 0\n",
      "INFO:RandomGenerator:LFR:min node is 1. will make it 0\n",
      "2020-05-02 19:45:54,407 - Dataset:EVAL3_LFR_ud_wu_N1024_mu0.2 - INFO - writing/data/data/EVAL3_LFR_ud_wu_N1024_mu0.2/edges.parq\n",
      "INFO:Dataset:EVAL3_LFR_ud_wu_N1024_mu0.2:writing/data/data/EVAL3_LFR_ud_wu_N1024_mu0.2/edges.parq\n",
      "2020-05-02 19:45:54,421 - Clustering - INFO - Writing /data/data/EVAL3_LFR_ud_wu_N1024_mu0.2/gt_default.parq\n",
      "INFO:Clustering:Writing /data/data/EVAL3_LFR_ud_wu_N1024_mu0.2/gt_default.parq\n",
      "2020-05-02 19:45:54,429 - RandomGenerator:LFR - INFO - Runing '/opt/gct/submodules/CommunityDetectionCodes/lfr_undir_net -N 1024 -k 256 -maxk 512 -mu 0.3'  with seed 841793\n",
      "INFO:RandomGenerator:LFR:Runing '/opt/gct/submodules/CommunityDetectionCodes/lfr_undir_net -N 1024 -k 256 -maxk 512 -mu 0.3'  with seed 841793\n",
      "2020-05-02 19:45:54,430 - RandomGenerator:LFR - INFO - working dir: /tmp/tmpy0oca5lf\n",
      "INFO:RandomGenerator:LFR:working dir: /tmp/tmpy0oca5lf\n",
      "2020-05-02 19:46:26,001 - RandomGenerator:LFR - INFO - min node is 1. will make it 0\n",
      "INFO:RandomGenerator:LFR:min node is 1. will make it 0\n",
      "2020-05-02 19:46:26,063 - Dataset:EVAL3_LFR_ud_wu_N1024_mu0.3 - INFO - writing/data/data/EVAL3_LFR_ud_wu_N1024_mu0.3/edges.parq\n",
      "INFO:Dataset:EVAL3_LFR_ud_wu_N1024_mu0.3:writing/data/data/EVAL3_LFR_ud_wu_N1024_mu0.3/edges.parq\n",
      "2020-05-02 19:46:26,077 - Clustering - INFO - Writing /data/data/EVAL3_LFR_ud_wu_N1024_mu0.3/gt_default.parq\n",
      "INFO:Clustering:Writing /data/data/EVAL3_LFR_ud_wu_N1024_mu0.3/gt_default.parq\n",
      "2020-05-02 19:46:26,084 - RandomGenerator:LFR - INFO - Runing '/opt/gct/submodules/CommunityDetectionCodes/lfr_undir_net -N 1024 -k 256 -maxk 512 -mu 0.4'  with seed 827373\n",
      "INFO:RandomGenerator:LFR:Runing '/opt/gct/submodules/CommunityDetectionCodes/lfr_undir_net -N 1024 -k 256 -maxk 512 -mu 0.4'  with seed 827373\n",
      "2020-05-02 19:46:26,086 - RandomGenerator:LFR - INFO - working dir: /tmp/tmpdc9vpsar\n",
      "INFO:RandomGenerator:LFR:working dir: /tmp/tmpdc9vpsar\n",
      "2020-05-02 19:46:55,202 - RandomGenerator:LFR - INFO - min node is 1. will make it 0\n",
      "INFO:RandomGenerator:LFR:min node is 1. will make it 0\n",
      "2020-05-02 19:46:55,258 - Dataset:EVAL3_LFR_ud_wu_N1024_mu0.4 - INFO - writing/data/data/EVAL3_LFR_ud_wu_N1024_mu0.4/edges.parq\n",
      "INFO:Dataset:EVAL3_LFR_ud_wu_N1024_mu0.4:writing/data/data/EVAL3_LFR_ud_wu_N1024_mu0.4/edges.parq\n",
      "2020-05-02 19:46:55,272 - Clustering - INFO - Writing /data/data/EVAL3_LFR_ud_wu_N1024_mu0.4/gt_default.parq\n",
      "INFO:Clustering:Writing /data/data/EVAL3_LFR_ud_wu_N1024_mu0.4/gt_default.parq\n",
      "2020-05-02 19:46:55,280 - RandomGenerator:LFR - INFO - Runing '/opt/gct/submodules/CommunityDetectionCodes/lfr_undir_net -N 1024 -k 256 -maxk 512 -mu 0.5'  with seed 432603\n",
      "INFO:RandomGenerator:LFR:Runing '/opt/gct/submodules/CommunityDetectionCodes/lfr_undir_net -N 1024 -k 256 -maxk 512 -mu 0.5'  with seed 432603\n",
      "2020-05-02 19:46:55,281 - RandomGenerator:LFR - INFO - working dir: /tmp/tmpz8um_ytn\n",
      "INFO:RandomGenerator:LFR:working dir: /tmp/tmpz8um_ytn\n",
      "2020-05-02 19:47:28,751 - RandomGenerator:LFR - INFO - min node is 1. will make it 0\n",
      "INFO:RandomGenerator:LFR:min node is 1. will make it 0\n",
      "2020-05-02 19:47:28,810 - Dataset:EVAL3_LFR_ud_wu_N1024_mu0.5 - INFO - writing/data/data/EVAL3_LFR_ud_wu_N1024_mu0.5/edges.parq\n",
      "INFO:Dataset:EVAL3_LFR_ud_wu_N1024_mu0.5:writing/data/data/EVAL3_LFR_ud_wu_N1024_mu0.5/edges.parq\n",
      "2020-05-02 19:47:28,824 - Clustering - INFO - Writing /data/data/EVAL3_LFR_ud_wu_N1024_mu0.5/gt_default.parq\n",
      "INFO:Clustering:Writing /data/data/EVAL3_LFR_ud_wu_N1024_mu0.5/gt_default.parq\n",
      "2020-05-02 19:47:28,833 - RandomGenerator:LFR - INFO - Runing '/opt/gct/submodules/CommunityDetectionCodes/lfr_undir_net -N 1024 -k 256 -maxk 512 -mu 0.6'  with seed 875907\n",
      "INFO:RandomGenerator:LFR:Runing '/opt/gct/submodules/CommunityDetectionCodes/lfr_undir_net -N 1024 -k 256 -maxk 512 -mu 0.6'  with seed 875907\n",
      "2020-05-02 19:47:28,834 - RandomGenerator:LFR - INFO - working dir: /tmp/tmprer7zvvg\n",
      "INFO:RandomGenerator:LFR:working dir: /tmp/tmprer7zvvg\n",
      "2020-05-02 19:48:11,942 - RandomGenerator:LFR - INFO - min node is 1. will make it 0\n",
      "INFO:RandomGenerator:LFR:min node is 1. will make it 0\n",
      "2020-05-02 19:48:11,984 - Dataset:EVAL3_LFR_ud_wu_N1024_mu0.6 - INFO - writing/data/data/EVAL3_LFR_ud_wu_N1024_mu0.6/edges.parq\n",
      "INFO:Dataset:EVAL3_LFR_ud_wu_N1024_mu0.6:writing/data/data/EVAL3_LFR_ud_wu_N1024_mu0.6/edges.parq\n",
      "2020-05-02 19:48:11,996 - Clustering - INFO - Writing /data/data/EVAL3_LFR_ud_wu_N1024_mu0.6/gt_default.parq\n",
      "INFO:Clustering:Writing /data/data/EVAL3_LFR_ud_wu_N1024_mu0.6/gt_default.parq\n"
     ]
    },
    {
     "name": "stderr",
     "output_type": "stream",
     "text": [
      "2020-05-02 19:48:12,003 - RandomGenerator:LFR - INFO - Runing '/opt/gct/submodules/CommunityDetectionCodes/lfr_undir_net -N 1024 -k 256 -maxk 512 -mu 0.7'  with seed 128477\n",
      "INFO:RandomGenerator:LFR:Runing '/opt/gct/submodules/CommunityDetectionCodes/lfr_undir_net -N 1024 -k 256 -maxk 512 -mu 0.7'  with seed 128477\n",
      "2020-05-02 19:48:12,004 - RandomGenerator:LFR - INFO - working dir: /tmp/tmp2scdpfkk\n",
      "INFO:RandomGenerator:LFR:working dir: /tmp/tmp2scdpfkk\n",
      "2020-05-02 19:49:14,039 - RandomGenerator:LFR - INFO - min node is 1. will make it 0\n",
      "INFO:RandomGenerator:LFR:min node is 1. will make it 0\n",
      "2020-05-02 19:49:14,098 - Dataset:EVAL3_LFR_ud_wu_N1024_mu0.7 - INFO - writing/data/data/EVAL3_LFR_ud_wu_N1024_mu0.7/edges.parq\n",
      "INFO:Dataset:EVAL3_LFR_ud_wu_N1024_mu0.7:writing/data/data/EVAL3_LFR_ud_wu_N1024_mu0.7/edges.parq\n",
      "2020-05-02 19:49:14,113 - Clustering - INFO - Writing /data/data/EVAL3_LFR_ud_wu_N1024_mu0.7/gt_default.parq\n",
      "INFO:Clustering:Writing /data/data/EVAL3_LFR_ud_wu_N1024_mu0.7/gt_default.parq\n",
      "2020-05-02 19:49:14,123 - RandomGenerator:LFR - INFO - Runing '/opt/gct/submodules/CommunityDetectionCodes/lfr_undir_net -N 1024 -k 256 -maxk 512 -mu 0.8'  with seed 531787\n",
      "INFO:RandomGenerator:LFR:Runing '/opt/gct/submodules/CommunityDetectionCodes/lfr_undir_net -N 1024 -k 256 -maxk 512 -mu 0.8'  with seed 531787\n",
      "2020-05-02 19:49:14,124 - RandomGenerator:LFR - INFO - working dir: /tmp/tmpjrzyijfg\n",
      "INFO:RandomGenerator:LFR:working dir: /tmp/tmpjrzyijfg\n",
      "2020-05-02 19:50:39,624 - RandomGenerator:LFR - INFO - min node is 1. will make it 0\n",
      "INFO:RandomGenerator:LFR:min node is 1. will make it 0\n",
      "2020-05-02 19:50:39,682 - Dataset:EVAL3_LFR_ud_wu_N1024_mu0.8 - INFO - writing/data/data/EVAL3_LFR_ud_wu_N1024_mu0.8/edges.parq\n",
      "INFO:Dataset:EVAL3_LFR_ud_wu_N1024_mu0.8:writing/data/data/EVAL3_LFR_ud_wu_N1024_mu0.8/edges.parq\n",
      "2020-05-02 19:50:39,697 - Clustering - INFO - Writing /data/data/EVAL3_LFR_ud_wu_N1024_mu0.8/gt_default.parq\n",
      "INFO:Clustering:Writing /data/data/EVAL3_LFR_ud_wu_N1024_mu0.8/gt_default.parq\n",
      "2020-05-02 19:50:39,705 - RandomGenerator:LFR - INFO - Runing '/opt/gct/submodules/CommunityDetectionCodes/lfr_undir_net -N 1024 -k 256 -maxk 512 -mu 0.9'  with seed 329939\n",
      "INFO:RandomGenerator:LFR:Runing '/opt/gct/submodules/CommunityDetectionCodes/lfr_undir_net -N 1024 -k 256 -maxk 512 -mu 0.9'  with seed 329939\n",
      "2020-05-02 19:50:39,706 - RandomGenerator:LFR - INFO - working dir: /tmp/tmpq8pkk6es\n",
      "INFO:RandomGenerator:LFR:working dir: /tmp/tmpq8pkk6es\n",
      "2020-05-02 19:52:32,809 - RandomGenerator:LFR - INFO - min node is 1. will make it 0\n",
      "INFO:RandomGenerator:LFR:min node is 1. will make it 0\n",
      "2020-05-02 19:52:32,870 - Dataset:EVAL3_LFR_ud_wu_N1024_mu0.9 - INFO - writing/data/data/EVAL3_LFR_ud_wu_N1024_mu0.9/edges.parq\n",
      "INFO:Dataset:EVAL3_LFR_ud_wu_N1024_mu0.9:writing/data/data/EVAL3_LFR_ud_wu_N1024_mu0.9/edges.parq\n",
      "2020-05-02 19:52:32,883 - Clustering - INFO - Writing /data/data/EVAL3_LFR_ud_wu_N1024_mu0.9/gt_default.parq\n",
      "INFO:Clustering:Writing /data/data/EVAL3_LFR_ud_wu_N1024_mu0.9/gt_default.parq\n"
     ]
    }
   ],
   "source": [
    "for size in sizes:\n",
    "    for mu in mus:\n",
    "        make_graph(size,mu)"
   ]
  },
  {
   "cell_type": "code",
   "execution_count": 4,
   "metadata": {},
   "outputs": [],
   "source": [
    "import os\n",
    "def run_alg(algname,dataname):\n",
    "    print(\"running\", algname,dataname)\n",
    "    retcode = os.system(\"timeout -k 1h 1h python run_alg.py {} {} 1 >  /data/log/{}_{}.log 2>&1\".format(algname,dataname, algname,dataname))\n",
    "    return retcode\n"
   ]
  },
  {
   "cell_type": "code",
   "execution_count": 5,
   "metadata": {},
   "outputs": [
    {
     "data": {
      "text/plain": [
       "['EVAL3_LFR_ud_wu_N128_mu0.1',\n",
       " 'EVAL3_LFR_ud_wu_N128_mu0.2',\n",
       " 'EVAL3_LFR_ud_wu_N128_mu0.3']"
      ]
     },
     "execution_count": 5,
     "metadata": {},
     "output_type": "execute_result"
    }
   ],
   "source": [
    "datanames=[]\n",
    "for N in sizes:\n",
    "    for mu in mus:\n",
    "        datanames.append( \"EVAL3_LFR_ud_wu_N{}_mu{}\".format(N,mu))\n",
    "datanames[:3]        "
   ]
  },
  {
   "cell_type": "code",
   "execution_count": 6,
   "metadata": {},
   "outputs": [
    {
     "data": {
      "text/plain": [
       "74"
      ]
     },
     "execution_count": 6,
     "metadata": {},
     "output_type": "execute_result"
    }
   ],
   "source": [
    "import numpy as np\n",
    "algs =gct.list_algorithms()\n",
    "np.random.shuffle(algs)\n",
    "algs=[u for u in algs if u not in {\n",
    "    'igraph_community_edge_betweenness',\n",
    "    'igraph_community_optimal_modularity',\n",
    "    'snap_Girvan_Newman',\n",
    "    'cdc_FastCpm',\n",
    "    'cdc_EAGLE',\n",
    "}]\n",
    "len(algs)"
   ]
  },
  {
   "cell_type": "code",
   "execution_count": 7,
   "metadata": {},
   "outputs": [],
   "source": [
    "from gct import utils\n",
    "def has_run(runame, dsname):\n",
    "    fpath = os.path.join(\"/{}/tmp/{}_{}.done\".format('data', runame,dsname))\n",
    "    return utils.file_exists(fpath)\n",
    "def run_alg2(algname):\n",
    "    for dataname in datanames:\n",
    "        if not has_run(algname,dataname):\n",
    "            if not (run_alg(algname,dataname)==0):\n",
    "                break    "
   ]
  },
  {
   "cell_type": "code",
   "execution_count": null,
   "metadata": {},
   "outputs": [],
   "source": [
    "from joblib import Parallel, delayed\n",
    "Parallel(n_jobs=4)(delayed(run_alg2)(u) for u in algs)"
   ]
  },
  {
   "cell_type": "code",
   "execution_count": null,
   "metadata": {},
   "outputs": [
    {
     "name": "stdout",
     "output_type": "stream",
     "text": [
      "running cdc_CONGA EVAL3_LFR_ud_wu_N1024_mu0.3\n"
     ]
    }
   ],
   "source": [
    "for algname in algs:\n",
    "    for dataname in datanames:\n",
    "        if not has_run(algname,dataname):\n",
    "            if not (run_alg(algname,dataname)==0):\n",
    "                break"
   ]
  },
  {
   "cell_type": "code",
   "execution_count": 8,
   "metadata": {},
   "outputs": [
    {
     "name": "stdout",
     "output_type": "stream",
     "text": [
      "running alg_pg_label_propagation EVAL3_LFR_ud_wu_N128_mu0.1\n",
      "running alg_pg_label_propagation EVAL3_LFR_ud_wu_N128_mu0.2\n",
      "running alg_pg_label_propagation EVAL3_LFR_ud_wu_N128_mu0.3\n",
      "running alg_pg_label_propagation EVAL3_LFR_ud_wu_N128_mu0.4\n",
      "running alg_pg_label_propagation EVAL3_LFR_ud_wu_N128_mu0.5\n",
      "running alg_pg_label_propagation EVAL3_LFR_ud_wu_N128_mu0.6\n",
      "running alg_pg_label_propagation EVAL3_LFR_ud_wu_N128_mu0.7\n",
      "running alg_pg_label_propagation EVAL3_LFR_ud_wu_N128_mu0.8\n",
      "running alg_pg_label_propagation EVAL3_LFR_ud_wu_N128_mu0.9\n",
      "running alg_pg_label_propagation EVAL3_LFR_ud_wu_N512_mu0.1\n",
      "running alg_pg_label_propagation EVAL3_LFR_ud_wu_N512_mu0.2\n",
      "running alg_pg_label_propagation EVAL3_LFR_ud_wu_N512_mu0.3\n",
      "running alg_pg_label_propagation EVAL3_LFR_ud_wu_N512_mu0.4\n",
      "running alg_pg_label_propagation EVAL3_LFR_ud_wu_N512_mu0.5\n",
      "running alg_pg_label_propagation EVAL3_LFR_ud_wu_N512_mu0.6\n",
      "running alg_pg_label_propagation EVAL3_LFR_ud_wu_N512_mu0.7\n",
      "running alg_pg_label_propagation EVAL3_LFR_ud_wu_N512_mu0.8\n",
      "running alg_pg_label_propagation EVAL3_LFR_ud_wu_N512_mu0.9\n",
      "running alg_pg_label_propagation EVAL3_LFR_ud_wu_N1024_mu0.1\n",
      "running alg_pg_label_propagation EVAL3_LFR_ud_wu_N1024_mu0.2\n",
      "running alg_pg_label_propagation EVAL3_LFR_ud_wu_N1024_mu0.3\n",
      "running alg_pg_label_propagation EVAL3_LFR_ud_wu_N1024_mu0.4\n",
      "running alg_pg_label_propagation EVAL3_LFR_ud_wu_N1024_mu0.5\n",
      "running alg_pg_label_propagation EVAL3_LFR_ud_wu_N1024_mu0.6\n",
      "running alg_pg_label_propagation EVAL3_LFR_ud_wu_N1024_mu0.7\n",
      "running alg_pg_label_propagation EVAL3_LFR_ud_wu_N1024_mu0.8\n",
      "running alg_pg_label_propagation EVAL3_LFR_ud_wu_N1024_mu0.9\n"
     ]
    }
   ],
   "source": [
    "algname=\"alg_pg_label_propagation\"\n",
    "for dataname in datanames:\n",
    "    if not has_run(algname,dataname):\n",
    "        if not (run_alg(algname,dataname)==0):\n",
    "            run_alg(algname, dataname)"
   ]
  },
  {
   "cell_type": "code",
   "execution_count": 10,
   "metadata": {},
   "outputs": [
    {
     "data": {
      "text/plain": [
       "1943"
      ]
     },
     "execution_count": 10,
     "metadata": {},
     "output_type": "execute_result"
    }
   ],
   "source": [
    "results = {}\n",
    "d = gct.list_all_clustering_results(print_format=False)\n",
    "for u in d:\n",
    "    if \"EVAL3_LFR_ud_wu_N\" in u:\n",
    "        for run in d[u]:\n",
    "            a = gct.load_clustering_result(u, run)\n",
    "            results[u + run] = a\n",
    "\n",
    "len(results)"
   ]
  },
  {
   "cell_type": "code",
   "execution_count": 11,
   "metadata": {
    "scrolled": true
   },
   "outputs": [],
   "source": [
    "for u in results.values():\n",
    "    #print( u)\n",
    "    break"
   ]
  },
  {
   "cell_type": "code",
   "execution_count": 12,
   "metadata": {},
   "outputs": [],
   "source": [
    "import pandas as pd\n",
    "df = pd.DataFrame([[u['runname'],u['dataname'],u['timecost'], len(u['clusters'])] for u in results.values()],\\\n",
    "                    columns=['alg','dataname','timecost','#cluster'])"
   ]
  },
  {
   "cell_type": "code",
   "execution_count": 13,
   "metadata": {},
   "outputs": [],
   "source": [
    "df[\"N\"]=df['dataname'].map(lambda u: int(u.split(\"_\")[-2][1:]))\n",
    "df[\"mu\"]=df['dataname'].map(lambda u: float(u.split(\"_\")[-1][2:]))"
   ]
  },
  {
   "cell_type": "code",
   "execution_count": 20,
   "metadata": {},
   "outputs": [],
   "source": [
    "gtdict={dsname:list(gct.load_local_graph(dsname).get_ground_truth().values())[0] for dsname in set(df['dataname'])}\n"
   ]
  },
  {
   "cell_type": "code",
   "execution_count": 21,
   "metadata": {},
   "outputs": [],
   "source": [
    "def calc_nmi(dataname,algname):\n",
    "    gt=gtdict[dataname]\n",
    "    clu = results[dataname+algname]\n",
    "    compa = gct.ClusterComparator(gt, clu)            \n",
    "    return compa.sklean_nmi()"
   ]
  },
  {
   "cell_type": "code",
   "execution_count": null,
   "metadata": {
    "scrolled": true
   },
   "outputs": [],
   "source": [
    "df['nmi']=df.apply(lambda u: calc_nmi(u['dataname'],u['alg']),axis=1).astype(np.float32)"
   ]
  },
  {
   "cell_type": "code",
   "execution_count": 23,
   "metadata": {},
   "outputs": [],
   "source": [
    "df['nmi']=df['nmi'].astype(np.float32)"
   ]
  },
  {
   "cell_type": "code",
   "execution_count": 24,
   "metadata": {
    "scrolled": false
   },
   "outputs": [
    {
     "data": {
      "text/html": [
       "<div>\n",
       "<style scoped>\n",
       "    .dataframe tbody tr th:only-of-type {\n",
       "        vertical-align: middle;\n",
       "    }\n",
       "\n",
       "    .dataframe tbody tr th {\n",
       "        vertical-align: top;\n",
       "    }\n",
       "\n",
       "    .dataframe thead th {\n",
       "        text-align: right;\n",
       "    }\n",
       "</style>\n",
       "<table border=\"1\" class=\"dataframe\">\n",
       "  <thead>\n",
       "    <tr style=\"text-align: right;\">\n",
       "      <th></th>\n",
       "      <th>alg</th>\n",
       "      <th>dataname</th>\n",
       "      <th>timecost</th>\n",
       "      <th>#cluster</th>\n",
       "      <th>N</th>\n",
       "      <th>mu</th>\n",
       "      <th>nmi</th>\n",
       "    </tr>\n",
       "  </thead>\n",
       "  <tbody>\n",
       "    <tr>\n",
       "      <th>0</th>\n",
       "      <td>alg_GossipMap</td>\n",
       "      <td>EVAL3_LFR_ud_wu_N128_mu0.1</td>\n",
       "      <td>0.879438</td>\n",
       "      <td>1</td>\n",
       "      <td>128</td>\n",
       "      <td>0.1</td>\n",
       "      <td>0.0</td>\n",
       "    </tr>\n",
       "    <tr>\n",
       "      <th>1</th>\n",
       "      <td>dct_dlplm</td>\n",
       "      <td>EVAL3_LFR_ud_wu_N128_mu0.1</td>\n",
       "      <td>0.123575</td>\n",
       "      <td>2</td>\n",
       "      <td>128</td>\n",
       "      <td>0.1</td>\n",
       "      <td>1.0</td>\n",
       "    </tr>\n",
       "    <tr>\n",
       "      <th>2</th>\n",
       "      <td>pycabem_GANXiSw</td>\n",
       "      <td>EVAL3_LFR_ud_wu_N128_mu0.1</td>\n",
       "      <td>0.437594</td>\n",
       "      <td>2</td>\n",
       "      <td>128</td>\n",
       "      <td>0.1</td>\n",
       "      <td>1.0</td>\n",
       "    </tr>\n",
       "    <tr>\n",
       "      <th>3</th>\n",
       "      <td>scan_ppScan</td>\n",
       "      <td>EVAL3_LFR_ud_wu_N128_mu0.1</td>\n",
       "      <td>0.011510</td>\n",
       "      <td>2</td>\n",
       "      <td>128</td>\n",
       "      <td>0.1</td>\n",
       "      <td>1.0</td>\n",
       "    </tr>\n",
       "    <tr>\n",
       "      <th>4</th>\n",
       "      <td>karateclub_EdMot</td>\n",
       "      <td>EVAL3_LFR_ud_wu_N128_mu0.1</td>\n",
       "      <td>0.035282</td>\n",
       "      <td>2</td>\n",
       "      <td>128</td>\n",
       "      <td>0.1</td>\n",
       "      <td>1.0</td>\n",
       "    </tr>\n",
       "  </tbody>\n",
       "</table>\n",
       "</div>"
      ],
      "text/plain": [
       "                alg                    dataname  timecost  #cluster    N   mu  \\\n",
       "0     alg_GossipMap  EVAL3_LFR_ud_wu_N128_mu0.1  0.879438         1  128  0.1   \n",
       "1         dct_dlplm  EVAL3_LFR_ud_wu_N128_mu0.1  0.123575         2  128  0.1   \n",
       "2   pycabem_GANXiSw  EVAL3_LFR_ud_wu_N128_mu0.1  0.437594         2  128  0.1   \n",
       "3       scan_ppScan  EVAL3_LFR_ud_wu_N128_mu0.1  0.011510         2  128  0.1   \n",
       "4  karateclub_EdMot  EVAL3_LFR_ud_wu_N128_mu0.1  0.035282         2  128  0.1   \n",
       "\n",
       "   nmi  \n",
       "0  0.0  \n",
       "1  1.0  \n",
       "2  1.0  \n",
       "3  1.0  \n",
       "4  1.0  "
      ]
     },
     "metadata": {},
     "output_type": "display_data"
    }
   ],
   "source": [
    "with pd.option_context('display.max_rows', 2000, 'display.max_columns', 200):\n",
    "    display (df.head())"
   ]
  },
  {
   "cell_type": "code",
   "execution_count": 25,
   "metadata": {
    "scrolled": false
   },
   "outputs": [
    {
     "data": {
      "text/html": [
       "<div>\n",
       "<style scoped>\n",
       "    .dataframe tbody tr th:only-of-type {\n",
       "        vertical-align: middle;\n",
       "    }\n",
       "\n",
       "    .dataframe tbody tr th {\n",
       "        vertical-align: top;\n",
       "    }\n",
       "\n",
       "    .dataframe thead th {\n",
       "        text-align: right;\n",
       "    }\n",
       "</style>\n",
       "<table border=\"1\" class=\"dataframe\">\n",
       "  <thead>\n",
       "    <tr style=\"text-align: right;\">\n",
       "      <th></th>\n",
       "      <th>alg</th>\n",
       "      <th>dataname</th>\n",
       "      <th>timecost</th>\n",
       "      <th>#cluster</th>\n",
       "      <th>N</th>\n",
       "      <th>mu</th>\n",
       "      <th>nmi</th>\n",
       "    </tr>\n",
       "  </thead>\n",
       "  <tbody>\n",
       "    <tr>\n",
       "      <th>1597</th>\n",
       "      <td>cdc_TopGC</td>\n",
       "      <td>EVAL3_LFR_ud_wu_N1024_mu0.5</td>\n",
       "      <td>2.027914</td>\n",
       "      <td>0</td>\n",
       "      <td>1024</td>\n",
       "      <td>0.5</td>\n",
       "      <td>1.0</td>\n",
       "    </tr>\n",
       "    <tr>\n",
       "      <th>1451</th>\n",
       "      <td>alg_pg_label_propagation</td>\n",
       "      <td>EVAL3_LFR_ud_wu_N1024_mu0.2</td>\n",
       "      <td>0.586440</td>\n",
       "      <td>3</td>\n",
       "      <td>1024</td>\n",
       "      <td>0.2</td>\n",
       "      <td>1.0</td>\n",
       "    </tr>\n",
       "    <tr>\n",
       "      <th>1435</th>\n",
       "      <td>scan_ppScanSSE</td>\n",
       "      <td>EVAL3_LFR_ud_wu_N1024_mu0.2</td>\n",
       "      <td>0.095799</td>\n",
       "      <td>3</td>\n",
       "      <td>1024</td>\n",
       "      <td>0.2</td>\n",
       "      <td>1.0</td>\n",
       "    </tr>\n",
       "    <tr>\n",
       "      <th>1441</th>\n",
       "      <td>oslom_lpm</td>\n",
       "      <td>EVAL3_LFR_ud_wu_N1024_mu0.2</td>\n",
       "      <td>0.345774</td>\n",
       "      <td>3</td>\n",
       "      <td>1024</td>\n",
       "      <td>0.2</td>\n",
       "      <td>1.0</td>\n",
       "    </tr>\n",
       "    <tr>\n",
       "      <th>1442</th>\n",
       "      <td>oslom_copra</td>\n",
       "      <td>EVAL3_LFR_ud_wu_N1024_mu0.2</td>\n",
       "      <td>2.138204</td>\n",
       "      <td>3</td>\n",
       "      <td>1024</td>\n",
       "      <td>0.2</td>\n",
       "      <td>1.0</td>\n",
       "    </tr>\n",
       "  </tbody>\n",
       "</table>\n",
       "</div>"
      ],
      "text/plain": [
       "                           alg                     dataname  timecost  \\\n",
       "1597                 cdc_TopGC  EVAL3_LFR_ud_wu_N1024_mu0.5  2.027914   \n",
       "1451  alg_pg_label_propagation  EVAL3_LFR_ud_wu_N1024_mu0.2  0.586440   \n",
       "1435            scan_ppScanSSE  EVAL3_LFR_ud_wu_N1024_mu0.2  0.095799   \n",
       "1441                 oslom_lpm  EVAL3_LFR_ud_wu_N1024_mu0.2  0.345774   \n",
       "1442               oslom_copra  EVAL3_LFR_ud_wu_N1024_mu0.2  2.138204   \n",
       "\n",
       "      #cluster     N   mu  nmi  \n",
       "1597         0  1024  0.5  1.0  \n",
       "1451         3  1024  0.2  1.0  \n",
       "1435         3  1024  0.2  1.0  \n",
       "1441         3  1024  0.2  1.0  \n",
       "1442         3  1024  0.2  1.0  "
      ]
     },
     "metadata": {},
     "output_type": "display_data"
    }
   ],
   "source": [
    "with pd.option_context('display.max_rows', 2000, 'display.max_columns', 200):\n",
    "    a=df[df['N']==1024].sort_values(\"nmi\",ascending=False).head()\n",
    "    display(a)"
   ]
  },
  {
   "cell_type": "code",
   "execution_count": null,
   "metadata": {},
   "outputs": [],
   "source": []
  },
  {
   "cell_type": "code",
   "execution_count": 27,
   "metadata": {},
   "outputs": [
    {
     "name": "stdout",
     "output_type": "stream",
     "text": [
      "Populating the interactive namespace from numpy and matplotlib\n"
     ]
    }
   ],
   "source": [
    "%pylab inline"
   ]
  },
  {
   "cell_type": "code",
   "execution_count": 28,
   "metadata": {},
   "outputs": [],
   "source": [
    "def plot_mu_N(alg,N):\n",
    "    adf=df[(df['alg']==alg) & (df['N']==N)].sort_values(\"mu\")\n",
    "    plt.plot(adf[\"mu\"].values,adf[\"nmi\"].values,'-o')\n",
    "    plt.title(\"{} N{}\".format(alg,N))\n",
    "    plt.show()\n",
    "def plot_mu(alg):\n",
    "    l = []\n",
    "    for N in set(df[\"N\"]):\n",
    "        adf=df[(df['alg']==alg) & (df['N']==N)].sort_values(\"mu\")\n",
    "        plt.plot(adf[\"mu\"].values,adf[\"nmi\"].values,'-o', alpha=0.5)\n",
    "        l.append(str(N))\n",
    "    plt.title(\"{}\".format(alg))\n",
    "    plt.legend(l)\n",
    "    plt.ylim(-0.1,1.1)\n",
    "    plt.ylabel('nmi')\n",
    "    plt.xlabel('mu')\n",
    "    plt.show()    "
   ]
  },
  {
   "cell_type": "code",
   "execution_count": 29,
   "metadata": {},
   "outputs": [
    {
     "data": {
      "image/png": "[encoded data removed]",
      "text/plain": [
       "<Figure size 432x288 with 1 Axes>"
      ]
     },
     "metadata": {
      "needs_background": "light"
     },
     "output_type": "display_data"
    }
   ],
   "source": [
    "plot_mu('alg_pg_label_propagation')"
   ]
  },
  {
   "cell_type": "code",
   "execution_count": null,
   "metadata": {
    "scrolled": true
   },
   "outputs": [],
   "source": [
    "for alg in set(df['alg']):\n",
    "    plot_mu(alg)"
   ]
  },
  {
   "cell_type": "code",
   "execution_count": null,
   "metadata": {},
   "outputs": [],
   "source": []
  }
 ],
 "metadata": {
  "kernelspec": {
   "display_name": "Python [conda env:python3]",
   "language": "python",
   "name": "conda-env-python3-py"
  },
  "language_info": {
   "codemirror_mode": {
    "name": "ipython",
    "version": 3
   },
   "file_extension": ".py",
   "mimetype": "text/x-python",
   "name": "python",
   "nbconvert_exporter": "python",
   "pygments_lexer": "ipython3",
   "version": "3.7.6"
  }
 },
 "nbformat": 4,
 "nbformat_minor": 2
}
