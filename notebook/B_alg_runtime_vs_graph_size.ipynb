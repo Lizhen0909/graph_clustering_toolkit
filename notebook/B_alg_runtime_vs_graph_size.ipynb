{
 "cells": [
  {
   "cell_type": "code",
   "execution_count": 2,
   "metadata": {},
   "outputs": [
    {
     "data": {
      "text/html": [
       "\n",
       "\t\t\t<script type=\"text/javascript\">\n",
       "\t\t\t<!--\n",
       "\t\t\t\t\n",
       "\t\t\t{\n",
       "\t\t\t\tvar element = document.getElementById('NetworKit_script');\n",
       "\t\t\t\tif (element) {\n",
       "\t\t\t\t\telement.parentNode.removeChild(element);\n",
       "\t\t\t\t}\n",
       "\t\t\t\telement = document.createElement('script');\n",
       "\t\t\t\telement.type = 'text/javascript';\n",
       "\t\t\t\telement.innerHTML = 'function NetworKit_pageEmbed(id) { var i, j; var elements; elements = document.getElementById(id).getElementsByClassName(\"Plot\"); for (i=0; i<elements.length; i++) { elements[i].id = id + \"_Plot_\" + i; var data = elements[i].getAttribute(\"data-image\").split(\"|\"); elements[i].removeAttribute(\"data-image\"); var content = \"<div class=\\\\\"Image\\\\\" id=\\\\\"\" + elements[i].id + \"_Image\\\\\" />\"; elements[i].innerHTML = content; elements[i].setAttribute(\"data-image-index\", 0); elements[i].setAttribute(\"data-image-length\", data.length); for (j=0; j<data.length; j++) { elements[i].setAttribute(\"data-image-\" + j, data[j]); } NetworKit_plotUpdate(elements[i]); elements[i].onclick = function (e) { NetworKit_overlayShow((e.target) ? e.target : e.srcElement); } } elements = document.getElementById(id).getElementsByClassName(\"HeatCell\"); for (i=0; i<elements.length; i++) { var data = parseFloat(elements[i].getAttribute(\"data-heat\")); var color = \"#00FF00\"; if (data <= 1 && data > 0) { color = \"hsla(0, 100%, 75%, \" + (data) + \")\"; } else if (data <= 0 && data >= -1) { color = \"hsla(240, 100%, 75%, \" + (-data) + \")\"; } elements[i].style.backgroundColor = color; } elements = document.getElementById(id).getElementsByClassName(\"Details\"); for (i=0; i<elements.length; i++) { elements[i].setAttribute(\"data-title\", \"-\"); NetworKit_toggleDetails(elements[i]); elements[i].onclick = function (e) { NetworKit_toggleDetails((e.target) ? e.target : e.srcElement); } } elements = document.getElementById(id).getElementsByClassName(\"MathValue\"); for (i=elements.length-1; i>=0; i--) { value = elements[i].innerHTML.trim(); if (value === \"nan\") { elements[i].parentNode.innerHTML = \"\" } } elements = document.getElementById(id).getElementsByClassName(\"SubCategory\"); for (i=elements.length-1; i>=0; i--) { value = elements[i].innerHTML.trim(); if (value === \"\") { elements[i].parentNode.removeChild(elements[i]) } } elements = document.getElementById(id).getElementsByClassName(\"Category\"); for (i=elements.length-1; i>=0; i--) { value = elements[i].innerHTML.trim(); if (value === \"\") { elements[i].parentNode.removeChild(elements[i]) } } var isFirefox = false; try { isFirefox = typeof InstallTrigger !== \"undefined\"; } catch (e) {} if (!isFirefox) { alert(\"Currently the function\\'s output is only fully supported by Firefox.\"); } } function NetworKit_plotUpdate(source) { var index = source.getAttribute(\"data-image-index\"); var data = source.getAttribute(\"data-image-\" + index); var image = document.getElementById(source.id + \"_Image\"); image.style.backgroundImage = \"url(\" + data + \")\"; } function NetworKit_showElement(id, show) { var element = document.getElementById(id); element.style.display = (show) ? \"block\" : \"none\"; } function NetworKit_overlayShow(source) { NetworKit_overlayUpdate(source); NetworKit_showElement(\"NetworKit_Overlay\", true); } function NetworKit_overlayUpdate(source) { document.getElementById(\"NetworKit_Overlay_Title\").innerHTML = source.title; var index = source.getAttribute(\"data-image-index\"); var data = source.getAttribute(\"data-image-\" + index); var image = document.getElementById(\"NetworKit_Overlay_Image\"); image.setAttribute(\"data-id\", source.id); image.style.backgroundImage = \"url(\" + data + \")\"; var link = document.getElementById(\"NetworKit_Overlay_Toolbar_Bottom_Save\"); link.href = data; link.download = source.title + \".svg\"; } function NetworKit_overlayImageShift(delta) { var image = document.getElementById(\"NetworKit_Overlay_Image\"); var source = document.getElementById(image.getAttribute(\"data-id\")); var index = parseInt(source.getAttribute(\"data-image-index\")); var length = parseInt(source.getAttribute(\"data-image-length\")); var index = (index+delta) % length; if (index < 0) { index = length + index; } source.setAttribute(\"data-image-index\", index); NetworKit_overlayUpdate(source); } function NetworKit_toggleDetails(source) { var childs = source.children; var show = false; if (source.getAttribute(\"data-title\") == \"-\") { source.setAttribute(\"data-title\", \"+\"); show = false; } else { source.setAttribute(\"data-title\", \"-\"); show = true; } for (i=0; i<childs.length; i++) { if (show) { childs[i].style.display = \"block\"; } else { childs[i].style.display = \"none\"; } } }';\n",
       "\t\t\t\telement.setAttribute('id', 'NetworKit_script');\n",
       "\t\t\t\tdocument.head.appendChild(element);\n",
       "\t\t\t}\n",
       "\t\t\n",
       "\t\t\t\t\n",
       "\t\t\t{\n",
       "\t\t\t\tvar element = document.getElementById('NetworKit_style');\n",
       "\t\t\t\tif (element) {\n",
       "\t\t\t\t\telement.parentNode.removeChild(element);\n",
       "\t\t\t\t}\n",
       "\t\t\t\telement = document.createElement('style');\n",
       "\t\t\t\telement.type = 'text/css';\n",
       "\t\t\t\telement.innerHTML = '.NetworKit_Page { font-family: Arial, Helvetica, sans-serif; font-size: 14px; } .NetworKit_Page .Value:before { font-family: Arial, Helvetica, sans-serif; font-size: 1.05em; content: attr(data-title) \":\"; margin-left: -2.5em; padding-right: 0.5em; } .NetworKit_Page .Details .Value:before { display: block; } .NetworKit_Page .Value { font-family: monospace; white-space: pre; padding-left: 2.5em; white-space: -moz-pre-wrap !important; white-space: -pre-wrap; white-space: -o-pre-wrap; white-space: pre-wrap; word-wrap: break-word; tab-size: 4; -moz-tab-size: 4; } .NetworKit_Page .Category { clear: both; padding-left: 1em; margin-bottom: 1.5em; } .NetworKit_Page .Category:before { content: attr(data-title); font-size: 1.75em; display: block; margin-left: -0.8em; margin-bottom: 0.5em; } .NetworKit_Page .SubCategory { margin-bottom: 1.5em; padding-left: 1em; } .NetworKit_Page .SubCategory:before { font-size: 1.6em; display: block; margin-left: -0.8em; margin-bottom: 0.5em; } .NetworKit_Page .SubCategory[data-title]:before { content: attr(data-title); } .NetworKit_Page .Block { display: block; } .NetworKit_Page .Block:after { content: \".\"; visibility: hidden; display: block; height: 0; clear: both; } .NetworKit_Page .Block .Thumbnail_Overview, .NetworKit_Page .Block .Thumbnail_ScatterPlot { width: 260px; float: left; } .NetworKit_Page .Block .Thumbnail_Overview img, .NetworKit_Page .Block .Thumbnail_ScatterPlot img { width: 260px; } .NetworKit_Page .Block .Thumbnail_Overview:before, .NetworKit_Page .Block .Thumbnail_ScatterPlot:before { display: block; text-align: center; font-weight: bold; } .NetworKit_Page .Block .Thumbnail_Overview:before { content: attr(data-title); } .NetworKit_Page .HeatCell { font-family: \"Courier New\", Courier, monospace; cursor: pointer; } .NetworKit_Page .HeatCell, .NetworKit_Page .HeatCellName { display: inline; padding: 0.1em; margin-right: 2px; background-color: #FFFFFF } .NetworKit_Page .HeatCellName { margin-left: 0.25em; } .NetworKit_Page .HeatCell:before { content: attr(data-heat); display: inline-block; color: #000000; width: 4em; text-align: center; } .NetworKit_Page .Measure { clear: both; } .NetworKit_Page .Measure .Details { cursor: pointer; } .NetworKit_Page .Measure .Details:before { content: \"[\" attr(data-title) \"]\"; display: block; } .NetworKit_Page .Measure .Details .Value { border-left: 1px dotted black; margin-left: 0.4em; padding-left: 3.5em; pointer-events: none; } .NetworKit_Page .Measure .Details .Spacer:before { content: \".\"; opacity: 0.0; pointer-events: none; } .NetworKit_Page .Measure .Plot { width: 440px; height: 440px; cursor: pointer; float: left; margin-left: -0.9em; margin-right: 20px; } .NetworKit_Page .Measure .Plot .Image { background-repeat: no-repeat; background-position: center center; background-size: contain; height: 100%; pointer-events: none; } .NetworKit_Page .Measure .Stat { width: 500px; float: left; } .NetworKit_Page .Measure .Stat .Group { padding-left: 1.25em; margin-bottom: 0.75em; } .NetworKit_Page .Measure .Stat .Group .Title { font-size: 1.1em; display: block; margin-bottom: 0.3em; margin-left: -0.75em; border-right-style: dotted; border-right-width: 1px; border-bottom-style: dotted; border-bottom-width: 1px; background-color: #D0D0D0; padding-left: 0.2em; } .NetworKit_Page .Measure .Stat .Group .List { -webkit-column-count: 3; -moz-column-count: 3; column-count: 3; } .NetworKit_Page .Measure .Stat .Group .List .Entry { position: relative; line-height: 1.75em; } .NetworKit_Page .Measure .Stat .Group .List .Entry[data-tooltip]:before { position: absolute; left: 0; top: -40px; background-color: #808080; color: #ffffff; height: 30px; line-height: 30px; border-radius: 5px; padding: 0 15px; content: attr(data-tooltip); white-space: nowrap; display: none; } .NetworKit_Page .Measure .Stat .Group .List .Entry[data-tooltip]:after { position: absolute; left: 15px; top: -10px; border-top: 7px solid #808080; border-left: 7px solid transparent; border-right: 7px solid transparent; content: \"\"; display: none; } .NetworKit_Page .Measure .Stat .Group .List .Entry[data-tooltip]:hover:after, .NetworKit_Page .Measure .Stat .Group .List .Entry[data-tooltip]:hover:before { display: block; } .NetworKit_Page .Measure .Stat .Group .List .Entry .MathValue { font-family: \"Courier New\", Courier, monospace; } .NetworKit_Page .Measure:after { content: \".\"; visibility: hidden; display: block; height: 0; clear: both; } .NetworKit_Page .PartitionPie { clear: both; } .NetworKit_Page .PartitionPie img { width: 600px; } #NetworKit_Overlay { left: 0px; top: 0px; display: none; position: absolute; width: 100%; height: 100%; background-color: rgba(0,0,0,0.6); z-index: 1000; } #NetworKit_Overlay_Title { position: absolute; color: white; transform: rotate(-90deg); width: 32em; height: 32em; padding-right: 0.5em; padding-top: 0.5em; text-align: right; font-size: 40px; } #NetworKit_Overlay .button { background: white; cursor: pointer; } #NetworKit_Overlay .button:before { size: 13px; display: inline-block; text-align: center; margin-top: 0.5em; margin-bottom: 0.5em; width: 1.5em; height: 1.5em; } #NetworKit_Overlay .icon-close:before { content: \"X\"; } #NetworKit_Overlay .icon-previous:before { content: \"P\"; } #NetworKit_Overlay .icon-next:before { content: \"N\"; } #NetworKit_Overlay .icon-save:before { content: \"S\"; } #NetworKit_Overlay_Toolbar_Top, #NetworKit_Overlay_Toolbar_Bottom { position: absolute; width: 40px; right: 13px; text-align: right; z-index: 1100; } #NetworKit_Overlay_Toolbar_Top { top: 0.5em; } #NetworKit_Overlay_Toolbar_Bottom { Bottom: 0.5em; } #NetworKit_Overlay_ImageContainer { position: absolute; top: 5%; left: 5%; height: 90%; width: 90%; background-repeat: no-repeat; background-position: center center; background-size: contain; } #NetworKit_Overlay_Image { height: 100%; width: 100%; background-repeat: no-repeat; background-position: center center; background-size: contain; }';\n",
       "\t\t\t\telement.setAttribute('id', 'NetworKit_style');\n",
       "\t\t\t\tdocument.head.appendChild(element);\n",
       "\t\t\t}\n",
       "\t\t\n",
       "\t\t\t\t\n",
       "\t\t\t{\n",
       "\t\t\t\tvar element = document.getElementById('NetworKit_Overlay');\n",
       "\t\t\t\tif (element) {\n",
       "\t\t\t\t\telement.parentNode.removeChild(element);\n",
       "\t\t\t\t}\n",
       "\t\t\t\telement = document.createElement('div');\n",
       "\t\t\t\telement.innerHTML = '<div id=\"NetworKit_Overlay_Toolbar_Top\"><div class=\"button icon-close\" id=\"NetworKit_Overlay_Close\" /></div><div id=\"NetworKit_Overlay_Title\" /> <div id=\"NetworKit_Overlay_ImageContainer\"> <div id=\"NetworKit_Overlay_Image\" /> </div> <div id=\"NetworKit_Overlay_Toolbar_Bottom\"> <div class=\"button icon-previous\" onclick=\"NetworKit_overlayImageShift(-1)\" /> <div class=\"button icon-next\" onclick=\"NetworKit_overlayImageShift(1)\" /> <a id=\"NetworKit_Overlay_Toolbar_Bottom_Save\"><div class=\"button icon-save\" /></a> </div>';\n",
       "\t\t\t\telement.setAttribute('id', 'NetworKit_Overlay');\n",
       "\t\t\t\tdocument.body.appendChild(element);\n",
       "\t\t\t\tdocument.getElementById('NetworKit_Overlay_Close').onclick = function (e) {\n",
       "\t\t\t\t\tdocument.getElementById('NetworKit_Overlay').style.display = 'none';\n",
       "\t\t\t\t}\n",
       "\t\t\t}\n",
       "\t\t\n",
       "\t\t\t-->\n",
       "\t\t\t</script>\n",
       "\t\t"
      ]
     },
     "metadata": {},
     "output_type": "display_data"
    }
   ],
   "source": [
    "import gct"
   ]
  },
  {
   "cell_type": "code",
   "execution_count": 3,
   "metadata": {},
   "outputs": [],
   "source": [
    "prefix = \"B_alg_runtime_vs_graph_size\"\n",
    "\n",
    "def setup_data(N):\n",
    "    #gct.remove_data(prefix + '_*', dry_run=False)\n",
    "    graph_unweighted_undirect = gct.random_dataset.generate_undirected_unweighted_random_graph_LFR(name=prefix + \"_N\"+str(N), \\\n",
    "                                       N=N, k=int(N/4), maxk=int(N/2), mu=0.2, minc=int(N/10))\n",
    "    data1 = graph_unweighted_undirect\n",
    "    return data1\n"
   ]
  },
  {
   "cell_type": "code",
   "execution_count": 4,
   "metadata": {},
   "outputs": [
    {
     "name": "stderr",
     "output_type": "stream",
     "text": [
      "2020-04-24 00:24:34,155 - RandomGenerator:LFR - INFO - Runing '/opt/gct/submodules/CommunityDetectionCodes/lfr_undir_net -minc 409 -mu 0.2 -maxk 2048 -k 1024 -N 4096'  with seed 469630\n",
      "INFO:RandomGenerator:LFR:Runing '/opt/gct/submodules/CommunityDetectionCodes/lfr_undir_net -minc 409 -mu 0.2 -maxk 2048 -k 1024 -N 4096'  with seed 469630\n",
      "2020-04-24 00:24:34,156 - RandomGenerator:LFR - INFO - working dir: /tmp/tmp4fhm7sfz\n",
      "INFO:RandomGenerator:LFR:working dir: /tmp/tmp4fhm7sfz\n",
      "2020-04-24 01:03:05,623 - RandomGenerator:LFR - INFO - min node is 1. will make it 0\n",
      "INFO:RandomGenerator:LFR:min node is 1. will make it 0\n",
      "/opt/conda/envs/python3/lib/python3.6/site-packages/pandas/core/frame.py:4238: SettingWithCopyWarning: \n",
      "A value is trying to be set on a copy of a slice from a DataFrame\n",
      "\n",
      "See the caveats in the documentation: http://pandas.pydata.org/pandas-docs/stable/user_guide/indexing.html#returning-a-view-versus-a-copy\n",
      "  return super().rename(**kwargs)\n",
      "2020-04-24 01:03:06,493 - Dataset:B_alg_runtime_vs_graph_size_N4096 - INFO - writing/data/data/B_alg_runtime_vs_graph_size_N4096/edges.parq\n",
      "INFO:Dataset:B_alg_runtime_vs_graph_size_N4096:writing/data/data/B_alg_runtime_vs_graph_size_N4096/edges.parq\n",
      "2020-04-24 01:03:07,027 - Clustering - INFO - Writing /data/data/B_alg_runtime_vs_graph_size_N4096/gt_default.parq\n",
      "INFO:Clustering:Writing /data/data/B_alg_runtime_vs_graph_size_N4096/gt_default.parq\n"
     ]
    },
    {
     "name": "stdout",
     "output_type": "stream",
     "text": [
      "CPU times: user 1.53 s, sys: 351 ms, total: 1.88 s\n",
      "Wall time: 38min 32s\n"
     ]
    },
    {
     "data": {
      "text/plain": [
       "'B_alg_runtime_vs_graph_size_N4096'"
      ]
     },
     "execution_count": 4,
     "metadata": {},
     "output_type": "execute_result"
    }
   ],
   "source": [
    "%time data=setup_data(4096)\n",
    "data.name"
   ]
  },
  {
   "cell_type": "code",
   "execution_count": 5,
   "metadata": {},
   "outputs": [
    {
     "name": "stdout",
     "output_type": "stream",
     "text": [
      "Requirement already satisfied: func_timeout in /opt/conda/envs/python3/lib/python3.6/site-packages\r\n",
      "\u001b[33mYou are using pip version 9.0.3, however version 20.0.2 is available.\r\n",
      "You should consider upgrading via the 'pip install --upgrade pip' command.\u001b[0m\r\n"
     ]
    }
   ],
   "source": [
    "!pip install func_timeout"
   ]
  },
  {
   "cell_type": "code",
   "execution_count": 6,
   "metadata": {},
   "outputs": [],
   "source": [
    "import os\n",
    "from gct import config,utils\n",
    "from func_timeout import func_timeout, FunctionTimedOut\n",
    "os.environ['OMP_NUM_THREADS']=\"1\"\n",
    "def has_run(runame, dsname):\n",
    "    fpath = os.path.join(\"/{}/tmp/{}_{}.done\".format('data', runame,dsname))\n",
    "    return utils.file_exists(fpath)\n",
    "\n",
    "def run_alg(alg,dsname, check_skip=True):\n",
    "    try:\n",
    "        runname = alg\n",
    "        if not check_skip or (check_skip and not has_run(runname, dsname)):\n",
    "            print (\"runing \", alg, dsname)\n",
    "            if alg =='cdc_SVINET':\n",
    "                gct.run_alg(runname=runname, data=gct.load_local_graph(dsname), algname=alg, seed=123,  max_iterations=1000)        \n",
    "            else:\n",
    "                gct.run_alg(runname=runname, data=gct.load_local_graph(dsname), algname=alg, seed=123)\n",
    "            \n",
    "            print (\"finished\", alg,dsname)\n",
    "        else:\n",
    "            print(\"skip\", runname,dsname)\n",
    "    except:\n",
    "        print(\"except\", runname,dsname)\n",
    "    return True\n",
    "\n",
    "def timeout(func, args=(), kwargs={}, timeout_duration=10, default=None):\n",
    "    result=default\n",
    "    try:\n",
    "        result = func_timeout(timeout_duration, func, args=args, kwargs=kwargs)\n",
    "    except FunctionTimedOut:\n",
    "        print(\"timeout\", func,args,kwargs)\n",
    "    except:\n",
    "        print (\"Unexpected error:\", sys.exc_info()[0])\n",
    "    return result\n",
    "\n",
    "\n",
    "def run_alg_timeout(alg,dsname,timeout_duration=600):\n",
    "    if not timeout(run_alg, (alg,dsname), timeout_duration=timeout_duration):\n",
    "        print(\"tiemout\", alg,dsname)\n",
    "        return False\n",
    "    fpath = os.path.join(\"/{}/tmp/{}_{}.done\".format('data', alg,dsname))\n",
    "    #!touch {fpath}\n",
    "    open(fpath, 'a').close()\n",
    "    return True\n",
    "\n",
    "        \n",
    "def run_alg_timeout_mp(ab):\n",
    "    return run_alg_timeout(ab[0],ab[1],3600)"
   ]
  },
  {
   "cell_type": "code",
   "execution_count": 7,
   "metadata": {},
   "outputs": [
    {
     "name": "stderr",
     "output_type": "stream",
     "text": [
      "2020-04-24 01:03:07,625 - alg_pg_label_propagation - INFO - seed ignored\n",
      "INFO:alg_pg_label_propagation:seed ignored\n",
      "2020-04-24 01:03:07,625 - Dataset:B_alg_runtime_vs_graph_size_N4096 - INFO - writing edges to /data/data/B_alg_runtime_vs_graph_size_N4096/edges.txt\n",
      "INFO:Dataset:B_alg_runtime_vs_graph_size_N4096:writing edges to /data/data/B_alg_runtime_vs_graph_size_N4096/edges.txt\n",
      "2020-04-24 01:03:07,627 - Dataset:B_alg_runtime_vs_graph_size_N4096 - INFO - reading /data/data/B_alg_runtime_vs_graph_size_N4096/edges.parq\n",
      "INFO:Dataset:B_alg_runtime_vs_graph_size_N4096:reading /data/data/B_alg_runtime_vs_graph_size_N4096/edges.parq\n"
     ]
    },
    {
     "name": "stdout",
     "output_type": "stream",
     "text": [
      "runing  alg_pg_label_propagation B_alg_runtime_vs_graph_size_N4096\n"
     ]
    },
    {
     "name": "stderr",
     "output_type": "stream",
     "text": [
      "2020-04-24 01:07:02,509 - Dataset:B_alg_runtime_vs_graph_size_N4096 - INFO - finish writing /data/data/B_alg_runtime_vs_graph_size_N4096/edges.txt\n",
      "INFO:Dataset:B_alg_runtime_vs_graph_size_N4096:finish writing /data/data/B_alg_runtime_vs_graph_size_N4096/edges.txt\n",
      "2020-04-24 01:07:02,510 - alg_pg_label_propagation - INFO - Running /opt/gct/submodules/PowerGraph/label_propagation --graph /tmp/tmp90q06n3g/edges.txt --saveprefix=output.cluster --execution async --ncpus 1 --weighted 0 --directed 0\n",
      "INFO:alg_pg_label_propagation:Running /opt/gct/submodules/PowerGraph/label_propagation --graph /tmp/tmp90q06n3g/edges.txt --saveprefix=output.cluster --execution async --ncpus 1 --weighted 0 --directed 0\n",
      "2020-04-24 01:07:07,092 - alg_pg_label_propagation - INFO - Made 2 clusters in 4.568308 seconds\n",
      "INFO:alg_pg_label_propagation:Made 2 clusters in 4.568308 seconds\n"
     ]
    },
    {
     "name": "stdout",
     "output_type": "stream",
     "text": [
      "finished alg_pg_label_propagation B_alg_runtime_vs_graph_size_N4096\n"
     ]
    },
    {
     "data": {
      "text/plain": [
       "True"
      ]
     },
     "execution_count": 7,
     "metadata": {},
     "output_type": "execute_result"
    }
   ],
   "source": [
    "run_alg_timeout(\"alg_pg_label_propagation\", data.name)"
   ]
  },
  {
   "cell_type": "code",
   "execution_count": 8,
   "metadata": {},
   "outputs": [
    {
     "name": "stderr",
     "output_type": "stream",
     "text": [
      "2020-04-24 01:07:07,103 - alg_GossipMap - INFO - seed ignored\n",
      "INFO:alg_GossipMap:seed ignored\n",
      "2020-04-24 01:07:07,106 - alg_GossipMap - INFO - Running /opt/gct/submodules/PowerGraph/GossipMap --graph /tmp/tmpes78bgty/edges.txt --prefix output.cluster --ncpus 1\n",
      "INFO:alg_GossipMap:Running /opt/gct/submodules/PowerGraph/GossipMap --graph /tmp/tmpes78bgty/edges.txt --prefix output.cluster --ncpus 1\n"
     ]
    },
    {
     "name": "stdout",
     "output_type": "stream",
     "text": [
      "runing  alg_GossipMap B_alg_runtime_vs_graph_size_N4096\n"
     ]
    },
    {
     "name": "stderr",
     "output_type": "stream",
     "text": [
      "2020-04-24 01:07:34,679 - alg_GossipMap - INFO - Made 1 clusters in 27.559247 seconds\n",
      "INFO:alg_GossipMap:Made 1 clusters in 27.559247 seconds\n"
     ]
    },
    {
     "name": "stdout",
     "output_type": "stream",
     "text": [
      "finished alg_GossipMap B_alg_runtime_vs_graph_size_N4096\n"
     ]
    },
    {
     "data": {
      "text/plain": [
       "True"
      ]
     },
     "execution_count": 8,
     "metadata": {},
     "output_type": "execute_result"
    }
   ],
   "source": [
    "run_alg_timeout(\"alg_GossipMap\", data.name)"
   ]
  },
  {
   "cell_type": "code",
   "execution_count": 9,
   "metadata": {
    "scrolled": true
   },
   "outputs": [
    {
     "data": {
      "text/plain": [
       "60"
      ]
     },
     "execution_count": 9,
     "metadata": {},
     "output_type": "execute_result"
    }
   ],
   "source": [
    "arglist = []\n",
    "badalgs={'cdc_CONGA',\n",
    " 'cdc_DEMON',\n",
    " 'cdc_EAGLE',\n",
    " 'cdc_FastCpm',\n",
    " 'cdc_GCE',\n",
    " 'cdc_HDEMON',\n",
    " 'cdc_LinkCommunities',\n",
    " 'cdc_ParCPM',\n",
    " 'igraph_community_edge_betweenness',\n",
    " 'igraph_community_optimal_modularity',\n",
    " 'oslom_Infomap',\n",
    " 'snap_Girvan_Newman'}\n",
    "\n",
    "datasets=[data.name]\n",
    "for alg in gct.list_algorithms():\n",
    "    if alg not in badalgs:\n",
    "        for name in datasets:\n",
    "            arglist.append((alg,name))\n",
    "len(arglist)"
   ]
  },
  {
   "cell_type": "code",
   "execution_count": 10,
   "metadata": {
    "scrolled": true
   },
   "outputs": [
    {
     "name": "stderr",
     "output_type": "stream",
     "text": [
      "/opt/conda/envs/python3/lib/python3.6/site-packages/joblib/externals/loky/process_executor.py:706: UserWarning: A worker stopped while some jobs were given to the executor. This can be caused by a too short worker timeout or by a memory leak.\n",
      "  \"timeout or by a memory leak.\", UserWarning\n"
     ]
    },
    {
     "ename": "KeyboardInterrupt",
     "evalue": "",
     "output_type": "error",
     "traceback": [
      "\u001b[0;31m---------------------------------------------------------------------------\u001b[0m",
      "\u001b[0;31mKeyboardInterrupt\u001b[0m                         Traceback (most recent call last)",
      "\u001b[0;32m<ipython-input-10-aa7b62ece414>\u001b[0m in \u001b[0;36m<module>\u001b[0;34m\u001b[0m\n\u001b[1;32m      5\u001b[0m \u001b[0;32melse\u001b[0m\u001b[0;34m:\u001b[0m\u001b[0;34m\u001b[0m\u001b[0;34m\u001b[0m\u001b[0m\n\u001b[1;32m      6\u001b[0m     \u001b[0;32mfrom\u001b[0m \u001b[0mjoblib\u001b[0m \u001b[0;32mimport\u001b[0m \u001b[0mParallel\u001b[0m\u001b[0;34m,\u001b[0m \u001b[0mdelayed\u001b[0m\u001b[0;34m\u001b[0m\u001b[0;34m\u001b[0m\u001b[0m\n\u001b[0;32m----> 7\u001b[0;31m     \u001b[0mret\u001b[0m\u001b[0;34m=\u001b[0m\u001b[0mParallel\u001b[0m\u001b[0;34m(\u001b[0m\u001b[0mn_jobs\u001b[0m\u001b[0;34m=\u001b[0m\u001b[0;36m6\u001b[0m\u001b[0;34m)\u001b[0m\u001b[0;34m(\u001b[0m\u001b[0mdelayed\u001b[0m\u001b[0;34m(\u001b[0m\u001b[0mrun_alg_timeout_mp\u001b[0m\u001b[0;34m)\u001b[0m\u001b[0;34m(\u001b[0m\u001b[0mx\u001b[0m\u001b[0;34m)\u001b[0m \u001b[0;32mfor\u001b[0m \u001b[0mx\u001b[0m \u001b[0;32min\u001b[0m \u001b[0marglist\u001b[0m\u001b[0;34m)\u001b[0m\u001b[0;34m\u001b[0m\u001b[0;34m\u001b[0m\u001b[0m\n\u001b[0m",
      "\u001b[0;32m/opt/conda/envs/python3/lib/python3.6/site-packages/joblib/parallel.py\u001b[0m in \u001b[0;36m__call__\u001b[0;34m(self, iterable)\u001b[0m\n\u001b[1;32m   1014\u001b[0m \u001b[0;34m\u001b[0m\u001b[0m\n\u001b[1;32m   1015\u001b[0m             \u001b[0;32mwith\u001b[0m \u001b[0mself\u001b[0m\u001b[0;34m.\u001b[0m\u001b[0m_backend\u001b[0m\u001b[0;34m.\u001b[0m\u001b[0mretrieval_context\u001b[0m\u001b[0;34m(\u001b[0m\u001b[0;34m)\u001b[0m\u001b[0;34m:\u001b[0m\u001b[0;34m\u001b[0m\u001b[0;34m\u001b[0m\u001b[0m\n\u001b[0;32m-> 1016\u001b[0;31m                 \u001b[0mself\u001b[0m\u001b[0;34m.\u001b[0m\u001b[0mretrieve\u001b[0m\u001b[0;34m(\u001b[0m\u001b[0;34m)\u001b[0m\u001b[0;34m\u001b[0m\u001b[0;34m\u001b[0m\u001b[0m\n\u001b[0m\u001b[1;32m   1017\u001b[0m             \u001b[0;31m# Make sure that we get a last message telling us we are done\u001b[0m\u001b[0;34m\u001b[0m\u001b[0;34m\u001b[0m\u001b[0;34m\u001b[0m\u001b[0m\n\u001b[1;32m   1018\u001b[0m             \u001b[0melapsed_time\u001b[0m \u001b[0;34m=\u001b[0m \u001b[0mtime\u001b[0m\u001b[0;34m.\u001b[0m\u001b[0mtime\u001b[0m\u001b[0;34m(\u001b[0m\u001b[0;34m)\u001b[0m \u001b[0;34m-\u001b[0m \u001b[0mself\u001b[0m\u001b[0;34m.\u001b[0m\u001b[0m_start_time\u001b[0m\u001b[0;34m\u001b[0m\u001b[0;34m\u001b[0m\u001b[0m\n",
      "\u001b[0;32m/opt/conda/envs/python3/lib/python3.6/site-packages/joblib/parallel.py\u001b[0m in \u001b[0;36mretrieve\u001b[0;34m(self)\u001b[0m\n\u001b[1;32m    906\u001b[0m             \u001b[0;32mtry\u001b[0m\u001b[0;34m:\u001b[0m\u001b[0;34m\u001b[0m\u001b[0;34m\u001b[0m\u001b[0m\n\u001b[1;32m    907\u001b[0m                 \u001b[0;32mif\u001b[0m \u001b[0mgetattr\u001b[0m\u001b[0;34m(\u001b[0m\u001b[0mself\u001b[0m\u001b[0;34m.\u001b[0m\u001b[0m_backend\u001b[0m\u001b[0;34m,\u001b[0m \u001b[0;34m'supports_timeout'\u001b[0m\u001b[0;34m,\u001b[0m \u001b[0;32mFalse\u001b[0m\u001b[0;34m)\u001b[0m\u001b[0;34m:\u001b[0m\u001b[0;34m\u001b[0m\u001b[0;34m\u001b[0m\u001b[0m\n\u001b[0;32m--> 908\u001b[0;31m                     \u001b[0mself\u001b[0m\u001b[0;34m.\u001b[0m\u001b[0m_output\u001b[0m\u001b[0;34m.\u001b[0m\u001b[0mextend\u001b[0m\u001b[0;34m(\u001b[0m\u001b[0mjob\u001b[0m\u001b[0;34m.\u001b[0m\u001b[0mget\u001b[0m\u001b[0;34m(\u001b[0m\u001b[0mtimeout\u001b[0m\u001b[0;34m=\u001b[0m\u001b[0mself\u001b[0m\u001b[0;34m.\u001b[0m\u001b[0mtimeout\u001b[0m\u001b[0;34m)\u001b[0m\u001b[0;34m)\u001b[0m\u001b[0;34m\u001b[0m\u001b[0;34m\u001b[0m\u001b[0m\n\u001b[0m\u001b[1;32m    909\u001b[0m                 \u001b[0;32melse\u001b[0m\u001b[0;34m:\u001b[0m\u001b[0;34m\u001b[0m\u001b[0;34m\u001b[0m\u001b[0m\n\u001b[1;32m    910\u001b[0m                     \u001b[0mself\u001b[0m\u001b[0;34m.\u001b[0m\u001b[0m_output\u001b[0m\u001b[0;34m.\u001b[0m\u001b[0mextend\u001b[0m\u001b[0;34m(\u001b[0m\u001b[0mjob\u001b[0m\u001b[0;34m.\u001b[0m\u001b[0mget\u001b[0m\u001b[0;34m(\u001b[0m\u001b[0;34m)\u001b[0m\u001b[0;34m)\u001b[0m\u001b[0;34m\u001b[0m\u001b[0;34m\u001b[0m\u001b[0m\n",
      "\u001b[0;32m/opt/conda/envs/python3/lib/python3.6/site-packages/joblib/_parallel_backends.py\u001b[0m in \u001b[0;36mwrap_future_result\u001b[0;34m(future, timeout)\u001b[0m\n\u001b[1;32m    552\u001b[0m         AsyncResults.get from multiprocessing.\"\"\"\n\u001b[1;32m    553\u001b[0m         \u001b[0;32mtry\u001b[0m\u001b[0;34m:\u001b[0m\u001b[0;34m\u001b[0m\u001b[0;34m\u001b[0m\u001b[0m\n\u001b[0;32m--> 554\u001b[0;31m             \u001b[0;32mreturn\u001b[0m \u001b[0mfuture\u001b[0m\u001b[0;34m.\u001b[0m\u001b[0mresult\u001b[0m\u001b[0;34m(\u001b[0m\u001b[0mtimeout\u001b[0m\u001b[0;34m=\u001b[0m\u001b[0mtimeout\u001b[0m\u001b[0;34m)\u001b[0m\u001b[0;34m\u001b[0m\u001b[0;34m\u001b[0m\u001b[0m\n\u001b[0m\u001b[1;32m    555\u001b[0m         \u001b[0;32mexcept\u001b[0m \u001b[0mLokyTimeoutError\u001b[0m\u001b[0;34m:\u001b[0m\u001b[0;34m\u001b[0m\u001b[0;34m\u001b[0m\u001b[0m\n\u001b[1;32m    556\u001b[0m             \u001b[0;32mraise\u001b[0m \u001b[0mTimeoutError\u001b[0m\u001b[0;34m(\u001b[0m\u001b[0;34m)\u001b[0m\u001b[0;34m\u001b[0m\u001b[0;34m\u001b[0m\u001b[0m\n",
      "\u001b[0;32m/opt/conda/envs/python3/lib/python3.6/concurrent/futures/_base.py\u001b[0m in \u001b[0;36mresult\u001b[0;34m(self, timeout)\u001b[0m\n\u001b[1;32m    425\u001b[0m                 \u001b[0;32mreturn\u001b[0m \u001b[0mself\u001b[0m\u001b[0;34m.\u001b[0m\u001b[0m__get_result\u001b[0m\u001b[0;34m(\u001b[0m\u001b[0;34m)\u001b[0m\u001b[0;34m\u001b[0m\u001b[0;34m\u001b[0m\u001b[0m\n\u001b[1;32m    426\u001b[0m \u001b[0;34m\u001b[0m\u001b[0m\n\u001b[0;32m--> 427\u001b[0;31m             \u001b[0mself\u001b[0m\u001b[0;34m.\u001b[0m\u001b[0m_condition\u001b[0m\u001b[0;34m.\u001b[0m\u001b[0mwait\u001b[0m\u001b[0;34m(\u001b[0m\u001b[0mtimeout\u001b[0m\u001b[0;34m)\u001b[0m\u001b[0;34m\u001b[0m\u001b[0;34m\u001b[0m\u001b[0m\n\u001b[0m\u001b[1;32m    428\u001b[0m \u001b[0;34m\u001b[0m\u001b[0m\n\u001b[1;32m    429\u001b[0m             \u001b[0;32mif\u001b[0m \u001b[0mself\u001b[0m\u001b[0;34m.\u001b[0m\u001b[0m_state\u001b[0m \u001b[0;32min\u001b[0m \u001b[0;34m[\u001b[0m\u001b[0mCANCELLED\u001b[0m\u001b[0;34m,\u001b[0m \u001b[0mCANCELLED_AND_NOTIFIED\u001b[0m\u001b[0;34m]\u001b[0m\u001b[0;34m:\u001b[0m\u001b[0;34m\u001b[0m\u001b[0;34m\u001b[0m\u001b[0m\n",
      "\u001b[0;32m/opt/conda/envs/python3/lib/python3.6/threading.py\u001b[0m in \u001b[0;36mwait\u001b[0;34m(self, timeout)\u001b[0m\n\u001b[1;32m    293\u001b[0m         \u001b[0;32mtry\u001b[0m\u001b[0;34m:\u001b[0m    \u001b[0;31m# restore state no matter what (e.g., KeyboardInterrupt)\u001b[0m\u001b[0;34m\u001b[0m\u001b[0;34m\u001b[0m\u001b[0m\n\u001b[1;32m    294\u001b[0m             \u001b[0;32mif\u001b[0m \u001b[0mtimeout\u001b[0m \u001b[0;32mis\u001b[0m \u001b[0;32mNone\u001b[0m\u001b[0;34m:\u001b[0m\u001b[0;34m\u001b[0m\u001b[0;34m\u001b[0m\u001b[0m\n\u001b[0;32m--> 295\u001b[0;31m                 \u001b[0mwaiter\u001b[0m\u001b[0;34m.\u001b[0m\u001b[0macquire\u001b[0m\u001b[0;34m(\u001b[0m\u001b[0;34m)\u001b[0m\u001b[0;34m\u001b[0m\u001b[0;34m\u001b[0m\u001b[0m\n\u001b[0m\u001b[1;32m    296\u001b[0m                 \u001b[0mgotit\u001b[0m \u001b[0;34m=\u001b[0m \u001b[0;32mTrue\u001b[0m\u001b[0;34m\u001b[0m\u001b[0;34m\u001b[0m\u001b[0m\n\u001b[1;32m    297\u001b[0m             \u001b[0;32melse\u001b[0m\u001b[0;34m:\u001b[0m\u001b[0;34m\u001b[0m\u001b[0;34m\u001b[0m\u001b[0m\n",
      "\u001b[0;31mKeyboardInterrupt\u001b[0m: "
     ]
    }
   ],
   "source": [
    "if False:\n",
    "    ret=[]\n",
    "    for x in arglist:\n",
    "        ret.append(run_alg_timeout_mp(x))\n",
    "else:\n",
    "    from joblib import Parallel, delayed\n",
    "    ret=Parallel(n_jobs=6)(delayed(run_alg_timeout_mp)(x) for x in arglist)    "
   ]
  },
  {
   "cell_type": "code",
   "execution_count": 11,
   "metadata": {},
   "outputs": [
    {
     "ename": "NameError",
     "evalue": "name 'ret' is not defined",
     "output_type": "error",
     "traceback": [
      "\u001b[0;31m---------------------------------------------------------------------------\u001b[0m",
      "\u001b[0;31mNameError\u001b[0m                                 Traceback (most recent call last)",
      "\u001b[0;32m<ipython-input-11-1f6b98a493f6>\u001b[0m in \u001b[0;36m<module>\u001b[0;34m\u001b[0m\n\u001b[1;32m      1\u001b[0m \u001b[0;32mimport\u001b[0m \u001b[0mnumpy\u001b[0m \u001b[0;32mas\u001b[0m \u001b[0mnp\u001b[0m\u001b[0;34m\u001b[0m\u001b[0;34m\u001b[0m\u001b[0m\n\u001b[0;32m----> 2\u001b[0;31m \u001b[0mnp\u001b[0m\u001b[0;34m.\u001b[0m\u001b[0mwhere\u001b[0m\u001b[0;34m(\u001b[0m\u001b[0;32mnot\u001b[0m \u001b[0mret\u001b[0m\u001b[0;34m)\u001b[0m\u001b[0;34m,\u001b[0m \u001b[0mlen\u001b[0m\u001b[0;34m(\u001b[0m\u001b[0mret\u001b[0m\u001b[0;34m)\u001b[0m\u001b[0;34m\u001b[0m\u001b[0;34m\u001b[0m\u001b[0m\n\u001b[0m",
      "\u001b[0;31mNameError\u001b[0m: name 'ret' is not defined"
     ]
    }
   ],
   "source": [
    "import numpy as np\n",
    "np.where(not ret), len(ret)"
   ]
  },
  {
   "cell_type": "code",
   "execution_count": 12,
   "metadata": {
    "scrolled": true
   },
   "outputs": [
    {
     "data": {
      "text/plain": [
       "55"
      ]
     },
     "execution_count": 12,
     "metadata": {},
     "output_type": "execute_result"
    }
   ],
   "source": [
    "results = {}\n",
    "d = gct.list_all_clustering_results(print_format=False)\n",
    "for u in d:\n",
    "    if prefix + \"_N4096\" in u:\n",
    "        for run in d[u]:\n",
    "            a = gct.load_clustering_result(u, run)\n",
    "            results[u + run] = a\n",
    "\n",
    "len(results)"
   ]
  },
  {
   "cell_type": "code",
   "execution_count": 13,
   "metadata": {},
   "outputs": [],
   "source": [
    "import pandas as pd\n",
    "df = pd.DataFrame([(u['runname'],u['dataname'],u['timecost']) for u in results.values()], columns=['alg','datanem','timecost'])"
   ]
  },
  {
   "cell_type": "code",
   "execution_count": 14,
   "metadata": {
    "scrolled": true
   },
   "outputs": [
    {
     "data": {
      "text/plain": [
       "{'cdc_CONGA',\n",
       " 'cdc_Connected_Iterative_Scan',\n",
       " 'cdc_DEMON',\n",
       " 'cdc_EAGLE',\n",
       " 'cdc_FastCpm',\n",
       " 'cdc_GCE',\n",
       " 'cdc_HDEMON',\n",
       " 'cdc_LinkCommunities',\n",
       " 'cdc_MOSES',\n",
       " 'cdc_ParCPM',\n",
       " 'igraph_community_edge_betweenness',\n",
       " 'igraph_community_optimal_modularity',\n",
       " 'igraph_community_spinglass',\n",
       " 'oslom_Infomap',\n",
       " 'oslom_OSLOM',\n",
       " 'pycabem_LabelRank',\n",
       " 'snap_Girvan_Newman'}"
      ]
     },
     "execution_count": 14,
     "metadata": {},
     "output_type": "execute_result"
    }
   ],
   "source": [
    "set(gct.list_algorithms()).difference(df['alg'].values)\n"
   ]
  },
  {
   "cell_type": "code",
   "execution_count": 15,
   "metadata": {
    "scrolled": false
   },
   "outputs": [
    {
     "data": {
      "text/html": [
       "<div>\n",
       "<style scoped>\n",
       "    .dataframe tbody tr th:only-of-type {\n",
       "        vertical-align: middle;\n",
       "    }\n",
       "\n",
       "    .dataframe tbody tr th {\n",
       "        vertical-align: top;\n",
       "    }\n",
       "\n",
       "    .dataframe thead th {\n",
       "        text-align: right;\n",
       "    }\n",
       "</style>\n",
       "<table border=\"1\" class=\"dataframe\">\n",
       "  <thead>\n",
       "    <tr style=\"text-align: right;\">\n",
       "      <th></th>\n",
       "      <th>alg</th>\n",
       "      <th>datanem</th>\n",
       "      <th>timecost</th>\n",
       "    </tr>\n",
       "  </thead>\n",
       "  <tbody>\n",
       "    <tr>\n",
       "      <th>38</th>\n",
       "      <td>networkit_PLM</td>\n",
       "      <td>B_alg_runtime_vs_graph_size_N4096</td>\n",
       "      <td>0.187056</td>\n",
       "    </tr>\n",
       "    <tr>\n",
       "      <th>30</th>\n",
       "      <td>igraph_community_label_propagation</td>\n",
       "      <td>B_alg_runtime_vs_graph_size_N4096</td>\n",
       "      <td>0.257631</td>\n",
       "    </tr>\n",
       "    <tr>\n",
       "      <th>39</th>\n",
       "      <td>networkit_PLP</td>\n",
       "      <td>B_alg_runtime_vs_graph_size_N4096</td>\n",
       "      <td>0.367136</td>\n",
       "    </tr>\n",
       "    <tr>\n",
       "      <th>37</th>\n",
       "      <td>networkit_LPDegreeOrdered</td>\n",
       "      <td>B_alg_runtime_vs_graph_size_N4096</td>\n",
       "      <td>0.510347</td>\n",
       "    </tr>\n",
       "    <tr>\n",
       "      <th>54</th>\n",
       "      <td>alg_streamcom</td>\n",
       "      <td>B_alg_runtime_vs_graph_size_N4096</td>\n",
       "      <td>0.578862</td>\n",
       "    </tr>\n",
       "    <tr>\n",
       "      <th>48</th>\n",
       "      <td>scan_ppScanSSE</td>\n",
       "      <td>B_alg_runtime_vs_graph_size_N4096</td>\n",
       "      <td>0.664852</td>\n",
       "    </tr>\n",
       "    <tr>\n",
       "      <th>47</th>\n",
       "      <td>scan_ppScan</td>\n",
       "      <td>B_alg_runtime_vs_graph_size_N4096</td>\n",
       "      <td>0.724438</td>\n",
       "    </tr>\n",
       "    <tr>\n",
       "      <th>32</th>\n",
       "      <td>igraph_community_multilevel</td>\n",
       "      <td>B_alg_runtime_vs_graph_size_N4096</td>\n",
       "      <td>2.146816</td>\n",
       "    </tr>\n",
       "    <tr>\n",
       "      <th>45</th>\n",
       "      <td>scan_Scanpp</td>\n",
       "      <td>B_alg_runtime_vs_graph_size_N4096</td>\n",
       "      <td>2.262372</td>\n",
       "    </tr>\n",
       "    <tr>\n",
       "      <th>27</th>\n",
       "      <td>dct_seq_louvain</td>\n",
       "      <td>B_alg_runtime_vs_graph_size_N4096</td>\n",
       "      <td>3.673661</td>\n",
       "    </tr>\n",
       "    <tr>\n",
       "      <th>46</th>\n",
       "      <td>scan_pScan</td>\n",
       "      <td>B_alg_runtime_vs_graph_size_N4096</td>\n",
       "      <td>4.194274</td>\n",
       "    </tr>\n",
       "    <tr>\n",
       "      <th>31</th>\n",
       "      <td>igraph_community_leading_eigenvector</td>\n",
       "      <td>B_alg_runtime_vs_graph_size_N4096</td>\n",
       "      <td>4.250338</td>\n",
       "    </tr>\n",
       "    <tr>\n",
       "      <th>0</th>\n",
       "      <td>alg_pg_label_propagation</td>\n",
       "      <td>B_alg_runtime_vs_graph_size_N4096</td>\n",
       "      <td>4.568308</td>\n",
       "    </tr>\n",
       "    <tr>\n",
       "      <th>9</th>\n",
       "      <td>cdc_MSCD_AFG</td>\n",
       "      <td>B_alg_runtime_vs_graph_size_N4096</td>\n",
       "      <td>4.634730</td>\n",
       "    </tr>\n",
       "    <tr>\n",
       "      <th>13</th>\n",
       "      <td>cdc_MSCD_RB</td>\n",
       "      <td>B_alg_runtime_vs_graph_size_N4096</td>\n",
       "      <td>4.880488</td>\n",
       "    </tr>\n",
       "    <tr>\n",
       "      <th>53</th>\n",
       "      <td>alg_lso_cluster</td>\n",
       "      <td>B_alg_runtime_vs_graph_size_N4096</td>\n",
       "      <td>5.453552</td>\n",
       "    </tr>\n",
       "    <tr>\n",
       "      <th>2</th>\n",
       "      <td>oslom_louvain_method</td>\n",
       "      <td>B_alg_runtime_vs_graph_size_N4096</td>\n",
       "      <td>6.010741</td>\n",
       "    </tr>\n",
       "    <tr>\n",
       "      <th>3</th>\n",
       "      <td>oslom_lpm</td>\n",
       "      <td>B_alg_runtime_vs_graph_size_N4096</td>\n",
       "      <td>6.491654</td>\n",
       "    </tr>\n",
       "    <tr>\n",
       "      <th>40</th>\n",
       "      <td>alg_RelaxMap</td>\n",
       "      <td>B_alg_runtime_vs_graph_size_N4096</td>\n",
       "      <td>7.235720</td>\n",
       "    </tr>\n",
       "    <tr>\n",
       "      <th>44</th>\n",
       "      <td>scan_AnyScan_pScan</td>\n",
       "      <td>B_alg_runtime_vs_graph_size_N4096</td>\n",
       "      <td>8.191706</td>\n",
       "    </tr>\n",
       "    <tr>\n",
       "      <th>51</th>\n",
       "      <td>snap_Clauset_Newman_Moore</td>\n",
       "      <td>B_alg_runtime_vs_graph_size_N4096</td>\n",
       "      <td>8.346547</td>\n",
       "    </tr>\n",
       "    <tr>\n",
       "      <th>26</th>\n",
       "      <td>dct_infomap</td>\n",
       "      <td>B_alg_runtime_vs_graph_size_N4096</td>\n",
       "      <td>9.479779</td>\n",
       "    </tr>\n",
       "    <tr>\n",
       "      <th>25</th>\n",
       "      <td>dct_dlslm_with_seq</td>\n",
       "      <td>B_alg_runtime_vs_graph_size_N4096</td>\n",
       "      <td>9.803952</td>\n",
       "    </tr>\n",
       "    <tr>\n",
       "      <th>24</th>\n",
       "      <td>dct_dlslm_no_contraction</td>\n",
       "      <td>B_alg_runtime_vs_graph_size_N4096</td>\n",
       "      <td>10.305028</td>\n",
       "    </tr>\n",
       "    <tr>\n",
       "      <th>23</th>\n",
       "      <td>dct_dlslm_map_eq</td>\n",
       "      <td>B_alg_runtime_vs_graph_size_N4096</td>\n",
       "      <td>11.978289</td>\n",
       "    </tr>\n",
       "    <tr>\n",
       "      <th>14</th>\n",
       "      <td>cdc_MSCD_RN</td>\n",
       "      <td>B_alg_runtime_vs_graph_size_N4096</td>\n",
       "      <td>12.266989</td>\n",
       "    </tr>\n",
       "    <tr>\n",
       "      <th>22</th>\n",
       "      <td>dct_dlslm</td>\n",
       "      <td>B_alg_runtime_vs_graph_size_N4096</td>\n",
       "      <td>13.756356</td>\n",
       "    </tr>\n",
       "    <tr>\n",
       "      <th>21</th>\n",
       "      <td>dct_dlplm</td>\n",
       "      <td>B_alg_runtime_vs_graph_size_N4096</td>\n",
       "      <td>13.993359</td>\n",
       "    </tr>\n",
       "    <tr>\n",
       "      <th>18</th>\n",
       "      <td>cdc_TopGC</td>\n",
       "      <td>B_alg_runtime_vs_graph_size_N4096</td>\n",
       "      <td>15.272594</td>\n",
       "    </tr>\n",
       "    <tr>\n",
       "      <th>5</th>\n",
       "      <td>oslom_Infohiermap</td>\n",
       "      <td>B_alg_runtime_vs_graph_size_N4096</td>\n",
       "      <td>15.916547</td>\n",
       "    </tr>\n",
       "    <tr>\n",
       "      <th>4</th>\n",
       "      <td>oslom_copra</td>\n",
       "      <td>B_alg_runtime_vs_graph_size_N4096</td>\n",
       "      <td>18.941117</td>\n",
       "    </tr>\n",
       "    <tr>\n",
       "      <th>29</th>\n",
       "      <td>igraph_community_infomap</td>\n",
       "      <td>B_alg_runtime_vs_graph_size_N4096</td>\n",
       "      <td>19.997043</td>\n",
       "    </tr>\n",
       "    <tr>\n",
       "      <th>20</th>\n",
       "      <td>cgcc_CGGC</td>\n",
       "      <td>B_alg_runtime_vs_graph_size_N4096</td>\n",
       "      <td>20.655577</td>\n",
       "    </tr>\n",
       "    <tr>\n",
       "      <th>50</th>\n",
       "      <td>sklearn_SpectralClustering</td>\n",
       "      <td>B_alg_runtime_vs_graph_size_N4096</td>\n",
       "      <td>22.271316</td>\n",
       "    </tr>\n",
       "    <tr>\n",
       "      <th>43</th>\n",
       "      <td>scan_AnyScan_anyScanParl</td>\n",
       "      <td>B_alg_runtime_vs_graph_size_N4096</td>\n",
       "      <td>25.376171</td>\n",
       "    </tr>\n",
       "    <tr>\n",
       "      <th>1</th>\n",
       "      <td>alg_GossipMap</td>\n",
       "      <td>B_alg_runtime_vs_graph_size_N4096</td>\n",
       "      <td>27.559247</td>\n",
       "    </tr>\n",
       "    <tr>\n",
       "      <th>42</th>\n",
       "      <td>scan_AnyScan_anyScan</td>\n",
       "      <td>B_alg_runtime_vs_graph_size_N4096</td>\n",
       "      <td>27.905166</td>\n",
       "    </tr>\n",
       "    <tr>\n",
       "      <th>41</th>\n",
       "      <td>scan_AnyScan_Scan</td>\n",
       "      <td>B_alg_runtime_vs_graph_size_N4096</td>\n",
       "      <td>46.638077</td>\n",
       "    </tr>\n",
       "    <tr>\n",
       "      <th>35</th>\n",
       "      <td>mcl_MCL</td>\n",
       "      <td>B_alg_runtime_vs_graph_size_N4096</td>\n",
       "      <td>48.499778</td>\n",
       "    </tr>\n",
       "    <tr>\n",
       "      <th>49</th>\n",
       "      <td>sklearn_AffinityPropagation</td>\n",
       "      <td>B_alg_runtime_vs_graph_size_N4096</td>\n",
       "      <td>54.340396</td>\n",
       "    </tr>\n",
       "    <tr>\n",
       "      <th>34</th>\n",
       "      <td>igraph_community_walktrap</td>\n",
       "      <td>B_alg_runtime_vs_graph_size_N4096</td>\n",
       "      <td>69.434797</td>\n",
       "    </tr>\n",
       "    <tr>\n",
       "      <th>16</th>\n",
       "      <td>cdc_MSCD_SOM</td>\n",
       "      <td>B_alg_runtime_vs_graph_size_N4096</td>\n",
       "      <td>88.903204</td>\n",
       "    </tr>\n",
       "    <tr>\n",
       "      <th>19</th>\n",
       "      <td>cdc_clique_modularity</td>\n",
       "      <td>B_alg_runtime_vs_graph_size_N4096</td>\n",
       "      <td>90.855176</td>\n",
       "    </tr>\n",
       "    <tr>\n",
       "      <th>52</th>\n",
       "      <td>alg_Paris</td>\n",
       "      <td>B_alg_runtime_vs_graph_size_N4096</td>\n",
       "      <td>100.456430</td>\n",
       "    </tr>\n",
       "    <tr>\n",
       "      <th>36</th>\n",
       "      <td>networkit_CutClustering</td>\n",
       "      <td>B_alg_runtime_vs_graph_size_N4096</td>\n",
       "      <td>101.361363</td>\n",
       "    </tr>\n",
       "    <tr>\n",
       "      <th>6</th>\n",
       "      <td>pycabem_GANXiSw</td>\n",
       "      <td>B_alg_runtime_vs_graph_size_N4096</td>\n",
       "      <td>214.415088</td>\n",
       "    </tr>\n",
       "    <tr>\n",
       "      <th>12</th>\n",
       "      <td>cdc_MSCD_LFK2</td>\n",
       "      <td>B_alg_runtime_vs_graph_size_N4096</td>\n",
       "      <td>227.938987</td>\n",
       "    </tr>\n",
       "    <tr>\n",
       "      <th>15</th>\n",
       "      <td>cdc_MSCD_SO</td>\n",
       "      <td>B_alg_runtime_vs_graph_size_N4096</td>\n",
       "      <td>229.171420</td>\n",
       "    </tr>\n",
       "    <tr>\n",
       "      <th>7</th>\n",
       "      <td>pycabem_HiReCS</td>\n",
       "      <td>B_alg_runtime_vs_graph_size_N4096</td>\n",
       "      <td>244.615192</td>\n",
       "    </tr>\n",
       "    <tr>\n",
       "      <th>17</th>\n",
       "      <td>cdc_SVINET</td>\n",
       "      <td>B_alg_runtime_vs_graph_size_N4096</td>\n",
       "      <td>266.039583</td>\n",
       "    </tr>\n",
       "    <tr>\n",
       "      <th>28</th>\n",
       "      <td>igraph_community_fastgreedy</td>\n",
       "      <td>B_alg_runtime_vs_graph_size_N4096</td>\n",
       "      <td>272.145234</td>\n",
       "    </tr>\n",
       "    <tr>\n",
       "      <th>8</th>\n",
       "      <td>oslom_modopt</td>\n",
       "      <td>B_alg_runtime_vs_graph_size_N4096</td>\n",
       "      <td>273.187171</td>\n",
       "    </tr>\n",
       "    <tr>\n",
       "      <th>11</th>\n",
       "      <td>cdc_MSCD_HSLSW</td>\n",
       "      <td>B_alg_runtime_vs_graph_size_N4096</td>\n",
       "      <td>355.957357</td>\n",
       "    </tr>\n",
       "    <tr>\n",
       "      <th>10</th>\n",
       "      <td>cdc_CliquePercolation</td>\n",
       "      <td>B_alg_runtime_vs_graph_size_N4096</td>\n",
       "      <td>493.881248</td>\n",
       "    </tr>\n",
       "    <tr>\n",
       "      <th>33</th>\n",
       "      <td>cdc_MSCD_LFK</td>\n",
       "      <td>B_alg_runtime_vs_graph_size_N4096</td>\n",
       "      <td>2127.835567</td>\n",
       "    </tr>\n",
       "  </tbody>\n",
       "</table>\n",
       "</div>"
      ],
      "text/plain": [
       "                                     alg                            datanem  \\\n",
       "38                         networkit_PLM  B_alg_runtime_vs_graph_size_N4096   \n",
       "30    igraph_community_label_propagation  B_alg_runtime_vs_graph_size_N4096   \n",
       "39                         networkit_PLP  B_alg_runtime_vs_graph_size_N4096   \n",
       "37             networkit_LPDegreeOrdered  B_alg_runtime_vs_graph_size_N4096   \n",
       "54                         alg_streamcom  B_alg_runtime_vs_graph_size_N4096   \n",
       "48                        scan_ppScanSSE  B_alg_runtime_vs_graph_size_N4096   \n",
       "47                           scan_ppScan  B_alg_runtime_vs_graph_size_N4096   \n",
       "32           igraph_community_multilevel  B_alg_runtime_vs_graph_size_N4096   \n",
       "45                           scan_Scanpp  B_alg_runtime_vs_graph_size_N4096   \n",
       "27                       dct_seq_louvain  B_alg_runtime_vs_graph_size_N4096   \n",
       "46                            scan_pScan  B_alg_runtime_vs_graph_size_N4096   \n",
       "31  igraph_community_leading_eigenvector  B_alg_runtime_vs_graph_size_N4096   \n",
       "0               alg_pg_label_propagation  B_alg_runtime_vs_graph_size_N4096   \n",
       "9                           cdc_MSCD_AFG  B_alg_runtime_vs_graph_size_N4096   \n",
       "13                           cdc_MSCD_RB  B_alg_runtime_vs_graph_size_N4096   \n",
       "53                       alg_lso_cluster  B_alg_runtime_vs_graph_size_N4096   \n",
       "2                   oslom_louvain_method  B_alg_runtime_vs_graph_size_N4096   \n",
       "3                              oslom_lpm  B_alg_runtime_vs_graph_size_N4096   \n",
       "40                          alg_RelaxMap  B_alg_runtime_vs_graph_size_N4096   \n",
       "44                    scan_AnyScan_pScan  B_alg_runtime_vs_graph_size_N4096   \n",
       "51             snap_Clauset_Newman_Moore  B_alg_runtime_vs_graph_size_N4096   \n",
       "26                           dct_infomap  B_alg_runtime_vs_graph_size_N4096   \n",
       "25                    dct_dlslm_with_seq  B_alg_runtime_vs_graph_size_N4096   \n",
       "24              dct_dlslm_no_contraction  B_alg_runtime_vs_graph_size_N4096   \n",
       "23                      dct_dlslm_map_eq  B_alg_runtime_vs_graph_size_N4096   \n",
       "14                           cdc_MSCD_RN  B_alg_runtime_vs_graph_size_N4096   \n",
       "22                             dct_dlslm  B_alg_runtime_vs_graph_size_N4096   \n",
       "21                             dct_dlplm  B_alg_runtime_vs_graph_size_N4096   \n",
       "18                             cdc_TopGC  B_alg_runtime_vs_graph_size_N4096   \n",
       "5                      oslom_Infohiermap  B_alg_runtime_vs_graph_size_N4096   \n",
       "4                            oslom_copra  B_alg_runtime_vs_graph_size_N4096   \n",
       "29              igraph_community_infomap  B_alg_runtime_vs_graph_size_N4096   \n",
       "20                             cgcc_CGGC  B_alg_runtime_vs_graph_size_N4096   \n",
       "50            sklearn_SpectralClustering  B_alg_runtime_vs_graph_size_N4096   \n",
       "43              scan_AnyScan_anyScanParl  B_alg_runtime_vs_graph_size_N4096   \n",
       "1                          alg_GossipMap  B_alg_runtime_vs_graph_size_N4096   \n",
       "42                  scan_AnyScan_anyScan  B_alg_runtime_vs_graph_size_N4096   \n",
       "41                     scan_AnyScan_Scan  B_alg_runtime_vs_graph_size_N4096   \n",
       "35                               mcl_MCL  B_alg_runtime_vs_graph_size_N4096   \n",
       "49           sklearn_AffinityPropagation  B_alg_runtime_vs_graph_size_N4096   \n",
       "34             igraph_community_walktrap  B_alg_runtime_vs_graph_size_N4096   \n",
       "16                          cdc_MSCD_SOM  B_alg_runtime_vs_graph_size_N4096   \n",
       "19                 cdc_clique_modularity  B_alg_runtime_vs_graph_size_N4096   \n",
       "52                             alg_Paris  B_alg_runtime_vs_graph_size_N4096   \n",
       "36               networkit_CutClustering  B_alg_runtime_vs_graph_size_N4096   \n",
       "6                        pycabem_GANXiSw  B_alg_runtime_vs_graph_size_N4096   \n",
       "12                         cdc_MSCD_LFK2  B_alg_runtime_vs_graph_size_N4096   \n",
       "15                           cdc_MSCD_SO  B_alg_runtime_vs_graph_size_N4096   \n",
       "7                         pycabem_HiReCS  B_alg_runtime_vs_graph_size_N4096   \n",
       "17                            cdc_SVINET  B_alg_runtime_vs_graph_size_N4096   \n",
       "28           igraph_community_fastgreedy  B_alg_runtime_vs_graph_size_N4096   \n",
       "8                           oslom_modopt  B_alg_runtime_vs_graph_size_N4096   \n",
       "11                        cdc_MSCD_HSLSW  B_alg_runtime_vs_graph_size_N4096   \n",
       "10                 cdc_CliquePercolation  B_alg_runtime_vs_graph_size_N4096   \n",
       "33                          cdc_MSCD_LFK  B_alg_runtime_vs_graph_size_N4096   \n",
       "\n",
       "       timecost  \n",
       "38     0.187056  \n",
       "30     0.257631  \n",
       "39     0.367136  \n",
       "37     0.510347  \n",
       "54     0.578862  \n",
       "48     0.664852  \n",
       "47     0.724438  \n",
       "32     2.146816  \n",
       "45     2.262372  \n",
       "27     3.673661  \n",
       "46     4.194274  \n",
       "31     4.250338  \n",
       "0      4.568308  \n",
       "9      4.634730  \n",
       "13     4.880488  \n",
       "53     5.453552  \n",
       "2      6.010741  \n",
       "3      6.491654  \n",
       "40     7.235720  \n",
       "44     8.191706  \n",
       "51     8.346547  \n",
       "26     9.479779  \n",
       "25     9.803952  \n",
       "24    10.305028  \n",
       "23    11.978289  \n",
       "14    12.266989  \n",
       "22    13.756356  \n",
       "21    13.993359  \n",
       "18    15.272594  \n",
       "5     15.916547  \n",
       "4     18.941117  \n",
       "29    19.997043  \n",
       "20    20.655577  \n",
       "50    22.271316  \n",
       "43    25.376171  \n",
       "1     27.559247  \n",
       "42    27.905166  \n",
       "41    46.638077  \n",
       "35    48.499778  \n",
       "49    54.340396  \n",
       "34    69.434797  \n",
       "16    88.903204  \n",
       "19    90.855176  \n",
       "52   100.456430  \n",
       "36   101.361363  \n",
       "6    214.415088  \n",
       "12   227.938987  \n",
       "15   229.171420  \n",
       "7    244.615192  \n",
       "17   266.039583  \n",
       "28   272.145234  \n",
       "8    273.187171  \n",
       "11   355.957357  \n",
       "10   493.881248  \n",
       "33  2127.835567  "
      ]
     },
     "metadata": {},
     "output_type": "display_data"
    }
   ],
   "source": [
    "with pd.option_context('display.max_rows', 2000, 'display.max_columns', 200):\n",
    "    display (df.sort_values(\"timecost\"))"
   ]
  },
  {
   "cell_type": "code",
   "execution_count": null,
   "metadata": {},
   "outputs": [],
   "source": []
  }
 ],
 "metadata": {
  "kernelspec": {
   "display_name": "Python [conda env:python3]",
   "language": "python",
   "name": "conda-env-python3-py"
  },
  "language_info": {
   "codemirror_mode": {
    "name": "ipython",
    "version": 3
   },
   "file_extension": ".py",
   "mimetype": "text/x-python",
   "name": "python",
   "nbconvert_exporter": "python",
   "pygments_lexer": "ipython3",
   "version": "3.6.7"
  }
 },
 "nbformat": 4,
 "nbformat_minor": 2
}
