{
 "cells": [
  {
   "cell_type": "code",
   "execution_count": 1,
   "metadata": {},
   "outputs": [
    {
     "data": {
      "text/html": [
       "\n",
       "\t\t\t<script type=\"text/javascript\">\n",
       "\t\t\t<!--\n",
       "\t\t\t\t\n",
       "\t\t\t{\n",
       "\t\t\t\tvar element = document.getElementById('NetworKit_script');\n",
       "\t\t\t\tif (element) {\n",
       "\t\t\t\t\telement.parentNode.removeChild(element);\n",
       "\t\t\t\t}\n",
       "\t\t\t\telement = document.createElement('script');\n",
       "\t\t\t\telement.type = 'text/javascript';\n",
       "\t\t\t\telement.innerHTML = 'function NetworKit_pageEmbed(id) { var i, j; var elements; elements = document.getElementById(id).getElementsByClassName(\"Plot\"); for (i=0; i<elements.length; i++) { elements[i].id = id + \"_Plot_\" + i; var data = elements[i].getAttribute(\"data-image\").split(\"|\"); elements[i].removeAttribute(\"data-image\"); var content = \"<div class=\\\\\"Image\\\\\" id=\\\\\"\" + elements[i].id + \"_Image\\\\\" />\"; elements[i].innerHTML = content; elements[i].setAttribute(\"data-image-index\", 0); elements[i].setAttribute(\"data-image-length\", data.length); for (j=0; j<data.length; j++) { elements[i].setAttribute(\"data-image-\" + j, data[j]); } NetworKit_plotUpdate(elements[i]); elements[i].onclick = function (e) { NetworKit_overlayShow((e.target) ? e.target : e.srcElement); } } elements = document.getElementById(id).getElementsByClassName(\"HeatCell\"); for (i=0; i<elements.length; i++) { var data = parseFloat(elements[i].getAttribute(\"data-heat\")); var color = \"#00FF00\"; if (data <= 1 && data > 0) { color = \"hsla(0, 100%, 75%, \" + (data) + \")\"; } else if (data <= 0 && data >= -1) { color = \"hsla(240, 100%, 75%, \" + (-data) + \")\"; } elements[i].style.backgroundColor = color; } elements = document.getElementById(id).getElementsByClassName(\"Details\"); for (i=0; i<elements.length; i++) { elements[i].setAttribute(\"data-title\", \"-\"); NetworKit_toggleDetails(elements[i]); elements[i].onclick = function (e) { NetworKit_toggleDetails((e.target) ? e.target : e.srcElement); } } elements = document.getElementById(id).getElementsByClassName(\"MathValue\"); for (i=elements.length-1; i>=0; i--) { value = elements[i].innerHTML.trim(); if (value === \"nan\") { elements[i].parentNode.innerHTML = \"\" } } elements = document.getElementById(id).getElementsByClassName(\"SubCategory\"); for (i=elements.length-1; i>=0; i--) { value = elements[i].innerHTML.trim(); if (value === \"\") { elements[i].parentNode.removeChild(elements[i]) } } elements = document.getElementById(id).getElementsByClassName(\"Category\"); for (i=elements.length-1; i>=0; i--) { value = elements[i].innerHTML.trim(); if (value === \"\") { elements[i].parentNode.removeChild(elements[i]) } } var isFirefox = false; try { isFirefox = typeof InstallTrigger !== \"undefined\"; } catch (e) {} if (!isFirefox) { alert(\"Currently the function\\'s output is only fully supported by Firefox.\"); } } function NetworKit_plotUpdate(source) { var index = source.getAttribute(\"data-image-index\"); var data = source.getAttribute(\"data-image-\" + index); var image = document.getElementById(source.id + \"_Image\"); image.style.backgroundImage = \"url(\" + data + \")\"; } function NetworKit_showElement(id, show) { var element = document.getElementById(id); element.style.display = (show) ? \"block\" : \"none\"; } function NetworKit_overlayShow(source) { NetworKit_overlayUpdate(source); NetworKit_showElement(\"NetworKit_Overlay\", true); } function NetworKit_overlayUpdate(source) { document.getElementById(\"NetworKit_Overlay_Title\").innerHTML = source.title; var index = source.getAttribute(\"data-image-index\"); var data = source.getAttribute(\"data-image-\" + index); var image = document.getElementById(\"NetworKit_Overlay_Image\"); image.setAttribute(\"data-id\", source.id); image.style.backgroundImage = \"url(\" + data + \")\"; var link = document.getElementById(\"NetworKit_Overlay_Toolbar_Bottom_Save\"); link.href = data; link.download = source.title + \".svg\"; } function NetworKit_overlayImageShift(delta) { var image = document.getElementById(\"NetworKit_Overlay_Image\"); var source = document.getElementById(image.getAttribute(\"data-id\")); var index = parseInt(source.getAttribute(\"data-image-index\")); var length = parseInt(source.getAttribute(\"data-image-length\")); var index = (index+delta) % length; if (index < 0) { index = length + index; } source.setAttribute(\"data-image-index\", index); NetworKit_overlayUpdate(source); } function NetworKit_toggleDetails(source) { var childs = source.children; var show = false; if (source.getAttribute(\"data-title\") == \"-\") { source.setAttribute(\"data-title\", \"+\"); show = false; } else { source.setAttribute(\"data-title\", \"-\"); show = true; } for (i=0; i<childs.length; i++) { if (show) { childs[i].style.display = \"block\"; } else { childs[i].style.display = \"none\"; } } }';\n",
       "\t\t\t\telement.setAttribute('id', 'NetworKit_script');\n",
       "\t\t\t\tdocument.head.appendChild(element);\n",
       "\t\t\t}\n",
       "\t\t\n",
       "\t\t\t\t\n",
       "\t\t\t{\n",
       "\t\t\t\tvar element = document.getElementById('NetworKit_style');\n",
       "\t\t\t\tif (element) {\n",
       "\t\t\t\t\telement.parentNode.removeChild(element);\n",
       "\t\t\t\t}\n",
       "\t\t\t\telement = document.createElement('style');\n",
       "\t\t\t\telement.type = 'text/css';\n",
       "\t\t\t\telement.innerHTML = '.NetworKit_Page { font-family: Arial, Helvetica, sans-serif; font-size: 14px; } .NetworKit_Page .Value:before { font-family: Arial, Helvetica, sans-serif; font-size: 1.05em; content: attr(data-title) \":\"; margin-left: -2.5em; padding-right: 0.5em; } .NetworKit_Page .Details .Value:before { display: block; } .NetworKit_Page .Value { font-family: monospace; white-space: pre; padding-left: 2.5em; white-space: -moz-pre-wrap !important; white-space: -pre-wrap; white-space: -o-pre-wrap; white-space: pre-wrap; word-wrap: break-word; tab-size: 4; -moz-tab-size: 4; } .NetworKit_Page .Category { clear: both; padding-left: 1em; margin-bottom: 1.5em; } .NetworKit_Page .Category:before { content: attr(data-title); font-size: 1.75em; display: block; margin-left: -0.8em; margin-bottom: 0.5em; } .NetworKit_Page .SubCategory { margin-bottom: 1.5em; padding-left: 1em; } .NetworKit_Page .SubCategory:before { font-size: 1.6em; display: block; margin-left: -0.8em; margin-bottom: 0.5em; } .NetworKit_Page .SubCategory[data-title]:before { content: attr(data-title); } .NetworKit_Page .Block { display: block; } .NetworKit_Page .Block:after { content: \".\"; visibility: hidden; display: block; height: 0; clear: both; } .NetworKit_Page .Block .Thumbnail_Overview, .NetworKit_Page .Block .Thumbnail_ScatterPlot { width: 260px; float: left; } .NetworKit_Page .Block .Thumbnail_Overview img, .NetworKit_Page .Block .Thumbnail_ScatterPlot img { width: 260px; } .NetworKit_Page .Block .Thumbnail_Overview:before, .NetworKit_Page .Block .Thumbnail_ScatterPlot:before { display: block; text-align: center; font-weight: bold; } .NetworKit_Page .Block .Thumbnail_Overview:before { content: attr(data-title); } .NetworKit_Page .HeatCell { font-family: \"Courier New\", Courier, monospace; cursor: pointer; } .NetworKit_Page .HeatCell, .NetworKit_Page .HeatCellName { display: inline; padding: 0.1em; margin-right: 2px; background-color: #FFFFFF } .NetworKit_Page .HeatCellName { margin-left: 0.25em; } .NetworKit_Page .HeatCell:before { content: attr(data-heat); display: inline-block; color: #000000; width: 4em; text-align: center; } .NetworKit_Page .Measure { clear: both; } .NetworKit_Page .Measure .Details { cursor: pointer; } .NetworKit_Page .Measure .Details:before { content: \"[\" attr(data-title) \"]\"; display: block; } .NetworKit_Page .Measure .Details .Value { border-left: 1px dotted black; margin-left: 0.4em; padding-left: 3.5em; pointer-events: none; } .NetworKit_Page .Measure .Details .Spacer:before { content: \".\"; opacity: 0.0; pointer-events: none; } .NetworKit_Page .Measure .Plot { width: 440px; height: 440px; cursor: pointer; float: left; margin-left: -0.9em; margin-right: 20px; } .NetworKit_Page .Measure .Plot .Image { background-repeat: no-repeat; background-position: center center; background-size: contain; height: 100%; pointer-events: none; } .NetworKit_Page .Measure .Stat { width: 500px; float: left; } .NetworKit_Page .Measure .Stat .Group { padding-left: 1.25em; margin-bottom: 0.75em; } .NetworKit_Page .Measure .Stat .Group .Title { font-size: 1.1em; display: block; margin-bottom: 0.3em; margin-left: -0.75em; border-right-style: dotted; border-right-width: 1px; border-bottom-style: dotted; border-bottom-width: 1px; background-color: #D0D0D0; padding-left: 0.2em; } .NetworKit_Page .Measure .Stat .Group .List { -webkit-column-count: 3; -moz-column-count: 3; column-count: 3; } .NetworKit_Page .Measure .Stat .Group .List .Entry { position: relative; line-height: 1.75em; } .NetworKit_Page .Measure .Stat .Group .List .Entry[data-tooltip]:before { position: absolute; left: 0; top: -40px; background-color: #808080; color: #ffffff; height: 30px; line-height: 30px; border-radius: 5px; padding: 0 15px; content: attr(data-tooltip); white-space: nowrap; display: none; } .NetworKit_Page .Measure .Stat .Group .List .Entry[data-tooltip]:after { position: absolute; left: 15px; top: -10px; border-top: 7px solid #808080; border-left: 7px solid transparent; border-right: 7px solid transparent; content: \"\"; display: none; } .NetworKit_Page .Measure .Stat .Group .List .Entry[data-tooltip]:hover:after, .NetworKit_Page .Measure .Stat .Group .List .Entry[data-tooltip]:hover:before { display: block; } .NetworKit_Page .Measure .Stat .Group .List .Entry .MathValue { font-family: \"Courier New\", Courier, monospace; } .NetworKit_Page .Measure:after { content: \".\"; visibility: hidden; display: block; height: 0; clear: both; } .NetworKit_Page .PartitionPie { clear: both; } .NetworKit_Page .PartitionPie img { width: 600px; } #NetworKit_Overlay { left: 0px; top: 0px; display: none; position: absolute; width: 100%; height: 100%; background-color: rgba(0,0,0,0.6); z-index: 1000; } #NetworKit_Overlay_Title { position: absolute; color: white; transform: rotate(-90deg); width: 32em; height: 32em; padding-right: 0.5em; padding-top: 0.5em; text-align: right; font-size: 40px; } #NetworKit_Overlay .button { background: white; cursor: pointer; } #NetworKit_Overlay .button:before { size: 13px; display: inline-block; text-align: center; margin-top: 0.5em; margin-bottom: 0.5em; width: 1.5em; height: 1.5em; } #NetworKit_Overlay .icon-close:before { content: \"X\"; } #NetworKit_Overlay .icon-previous:before { content: \"P\"; } #NetworKit_Overlay .icon-next:before { content: \"N\"; } #NetworKit_Overlay .icon-save:before { content: \"S\"; } #NetworKit_Overlay_Toolbar_Top, #NetworKit_Overlay_Toolbar_Bottom { position: absolute; width: 40px; right: 13px; text-align: right; z-index: 1100; } #NetworKit_Overlay_Toolbar_Top { top: 0.5em; } #NetworKit_Overlay_Toolbar_Bottom { Bottom: 0.5em; } #NetworKit_Overlay_ImageContainer { position: absolute; top: 5%; left: 5%; height: 90%; width: 90%; background-repeat: no-repeat; background-position: center center; background-size: contain; } #NetworKit_Overlay_Image { height: 100%; width: 100%; background-repeat: no-repeat; background-position: center center; background-size: contain; }';\n",
       "\t\t\t\telement.setAttribute('id', 'NetworKit_style');\n",
       "\t\t\t\tdocument.head.appendChild(element);\n",
       "\t\t\t}\n",
       "\t\t\n",
       "\t\t\t\t\n",
       "\t\t\t{\n",
       "\t\t\t\tvar element = document.getElementById('NetworKit_Overlay');\n",
       "\t\t\t\tif (element) {\n",
       "\t\t\t\t\telement.parentNode.removeChild(element);\n",
       "\t\t\t\t}\n",
       "\t\t\t\telement = document.createElement('div');\n",
       "\t\t\t\telement.innerHTML = '<div id=\"NetworKit_Overlay_Toolbar_Top\"><div class=\"button icon-close\" id=\"NetworKit_Overlay_Close\" /></div><div id=\"NetworKit_Overlay_Title\" /> <div id=\"NetworKit_Overlay_ImageContainer\"> <div id=\"NetworKit_Overlay_Image\" /> </div> <div id=\"NetworKit_Overlay_Toolbar_Bottom\"> <div class=\"button icon-previous\" onclick=\"NetworKit_overlayImageShift(-1)\" /> <div class=\"button icon-next\" onclick=\"NetworKit_overlayImageShift(1)\" /> <a id=\"NetworKit_Overlay_Toolbar_Bottom_Save\"><div class=\"button icon-save\" /></a> </div>';\n",
       "\t\t\t\telement.setAttribute('id', 'NetworKit_Overlay');\n",
       "\t\t\t\tdocument.body.appendChild(element);\n",
       "\t\t\t\tdocument.getElementById('NetworKit_Overlay_Close').onclick = function (e) {\n",
       "\t\t\t\t\tdocument.getElementById('NetworKit_Overlay').style.display = 'none';\n",
       "\t\t\t\t}\n",
       "\t\t\t}\n",
       "\t\t\n",
       "\t\t\t-->\n",
       "\t\t\t</script>\n",
       "\t\t"
      ]
     },
     "metadata": {},
     "output_type": "display_data"
    }
   ],
   "source": [
    "import gct"
   ]
  },
  {
   "cell_type": "code",
   "execution_count": 3,
   "metadata": {},
   "outputs": [],
   "source": [
    "prefix = \"K_DoesAlgSupportWeightTestLFR\"\n",
    "\n",
    "def setup_data():\n",
    "    gct.remove_data(prefix + '_*', dry_run=False)\n",
    "    graph_weighted_undirect = gct.random_dataset.generate_undirected_weighted_random_graph_LFR(name=prefix + \"_w1\", \\\n",
    "                                   N=128, k=16, maxk=32, mut=0.2, muw=0.2, minc=32,overide=True)\n",
    "    data1 = graph_weighted_undirect\n",
    "    data2 = data1.as_unweight(newname=prefix + \"_uw1\", overide=True)\n",
    "    return data1,data2\n"
   ]
  },
  {
   "cell_type": "code",
   "execution_count": 4,
   "metadata": {},
   "outputs": [
    {
     "name": "stderr",
     "output_type": "stream",
     "text": [
      "2020-04-22 21:57:09,334 - RandomGenerator:LFR - INFO - Runing '/opt/gct/submodules/CommunityDetectionCodes/lfr_weighted_net -minc 32 -muw 0.2 -mut 0.2 -maxk 32 -k 16 -N 128'  with seed 873434\n",
      "INFO:RandomGenerator:LFR:Runing '/opt/gct/submodules/CommunityDetectionCodes/lfr_weighted_net -minc 32 -muw 0.2 -mut 0.2 -maxk 32 -k 16 -N 128'  with seed 873434\n",
      "2020-04-22 21:57:09,335 - RandomGenerator:LFR - INFO - working dir: /tmp/tmp69dm1gsz\n",
      "INFO:RandomGenerator:LFR:working dir: /tmp/tmp69dm1gsz\n",
      "2020-04-22 21:57:09,396 - RandomGenerator:LFR - INFO - min node is 1. will make it 0\n",
      "INFO:RandomGenerator:LFR:min node is 1. will make it 0\n",
      "/opt/conda/envs/python3/lib/python3.6/site-packages/pandas/core/frame.py:4238: SettingWithCopyWarning: \n",
      "A value is trying to be set on a copy of a slice from a DataFrame\n",
      "\n",
      "See the caveats in the documentation: http://pandas.pydata.org/pandas-docs/stable/user_guide/indexing.html#returning-a-view-versus-a-copy\n",
      "  return super().rename(**kwargs)\n",
      "2020-04-22 21:57:09,410 - Dataset:K_DoesAlgSupportWeightTestLFR_w1 - INFO - writing/data/data/K_DoesAlgSupportWeightTestLFR_w1/edges.parq\n",
      "INFO:Dataset:K_DoesAlgSupportWeightTestLFR_w1:writing/data/data/K_DoesAlgSupportWeightTestLFR_w1/edges.parq\n",
      "2020-04-22 21:57:09,768 - Clustering - INFO - Writing /data/data/K_DoesAlgSupportWeightTestLFR_w1/gt_default.parq\n",
      "INFO:Clustering:Writing /data/data/K_DoesAlgSupportWeightTestLFR_w1/gt_default.parq\n",
      "/opt/conda/envs/python3/lib/python3.6/site-packages/pandas/core/frame.py:4238: SettingWithCopyWarning: \n",
      "A value is trying to be set on a copy of a slice from a DataFrame\n",
      "\n",
      "See the caveats in the documentation: http://pandas.pydata.org/pandas-docs/stable/user_guide/indexing.html#returning-a-view-versus-a-copy\n",
      "  return super().rename(**kwargs)\n",
      "2020-04-22 21:57:09,780 - Dataset:K_DoesAlgSupportWeightTestLFR_uw1 - INFO - writing/data/data/K_DoesAlgSupportWeightTestLFR_uw1/edges.parq\n",
      "INFO:Dataset:K_DoesAlgSupportWeightTestLFR_uw1:writing/data/data/K_DoesAlgSupportWeightTestLFR_uw1/edges.parq\n"
     ]
    }
   ],
   "source": [
    "data_w,data_uw=setup_data()"
   ]
  },
  {
   "cell_type": "code",
   "execution_count": 5,
   "metadata": {},
   "outputs": [
    {
     "data": {
      "text/plain": [
       "('K_DoesAlgSupportWeightTestLFR_w1', 'K_DoesAlgSupportWeightTestLFR_uw1')"
      ]
     },
     "execution_count": 5,
     "metadata": {},
     "output_type": "execute_result"
    }
   ],
   "source": [
    "data_w.name,data_uw.name"
   ]
  },
  {
   "cell_type": "code",
   "execution_count": 6,
   "metadata": {},
   "outputs": [],
   "source": [
    "import os\n",
    "from gct import config,utils\n",
    "def has_run_1(runame, dsname):\n",
    "    fpath = os.path.join(config.get_result_file_path(dsname=dsname, runname=runame), 'result.txt')\n",
    "    return utils.file_exists(fpath)\n",
    "\n",
    "def has_run(runame, dsname):\n",
    "    fpath = os.path.join(\"/{}/tmp/{}_{}.done\".format('data', runame,dsname))\n",
    "    return utils.file_exists(fpath)\n",
    "\n",
    "def timeout(func, args=(), kwargs={}, timeout_duration=1, default=None):\n",
    "    import signal\n",
    "\n",
    "    class TimeoutError(Exception):\n",
    "        pass\n",
    "\n",
    "    def handler(signum, frame):\n",
    "        raise TimeoutError()\n",
    "\n",
    "    # set the timeout handler\n",
    "    signal.signal(signal.SIGALRM, handler) \n",
    "    signal.alarm(timeout_duration)\n",
    "    try:\n",
    "        result = func(*args, **kwargs)\n",
    "    except TimeoutError as exc:\n",
    "        result = default\n",
    "    finally:\n",
    "        signal.alarm(0)\n",
    "\n",
    "    return result\n"
   ]
  },
  {
   "cell_type": "code",
   "execution_count": 7,
   "metadata": {},
   "outputs": [],
   "source": [
    "\n",
    "def run_alg(alg,dsname, check_skip=True):\n",
    "    try:\n",
    "        runname = alg\n",
    "        if not check_skip or (check_skip and not has_run(runname, dsname)):\n",
    "            print (\"runing \", alg, dsname)\n",
    "            if alg =='cdc_SVINET':\n",
    "                gct.run_alg(runname=runname, data=gct.load_local_graph(dsname), algname=alg, seed=123, max_iterations=1000)        \n",
    "            else:\n",
    "                gct.run_alg(runname=runname, data=gct.load_local_graph(dsname), algname=alg, seed=123)\n",
    "            print (\"finished\", alg,dsname)\n",
    "        else:\n",
    "            print(\"skip\", runname,dsname)\n",
    "    except:\n",
    "        print(\"except\", runname,dsname)\n",
    "    return True\n",
    "    \n",
    "\n",
    "def run_alg_timeout(alg,dsname,timeout_duration=600):\n",
    "    if not timeout(run_alg, (alg,dsname), timeout_duration=timeout_duration):\n",
    "        print(\"tiemout\", alg,dsname)\n",
    "    fpath = os.path.join(\"/{}/tmp/{}_{}.done\".format('data', alg,dsname))\n",
    "    !touch {fpath}\n",
    "\n",
    "        \n"
   ]
  },
  {
   "cell_type": "code",
   "execution_count": 10,
   "metadata": {},
   "outputs": [
    {
     "name": "stdout",
     "output_type": "stream",
     "text": [
      "skip oslom_lpm K_DoesAlgSupportWeightTestLFR_w1\n"
     ]
    },
    {
     "data": {
      "text/plain": [
       "True"
      ]
     },
     "execution_count": 10,
     "metadata": {},
     "output_type": "execute_result"
    }
   ],
   "source": [
    "run_alg(\"oslom_lpm\", data_w.name)"
   ]
  },
  {
   "cell_type": "code",
   "execution_count": 11,
   "metadata": {},
   "outputs": [
    {
     "name": "stdout",
     "output_type": "stream",
     "text": [
      "skip oslom_lpm K_DoesAlgSupportWeightTestLFR_w1\n"
     ]
    }
   ],
   "source": [
    "run_alg_timeout(\"oslom_lpm\", data_w.name)"
   ]
  },
  {
   "cell_type": "code",
   "execution_count": 12,
   "metadata": {},
   "outputs": [
    {
     "name": "stderr",
     "output_type": "stream",
     "text": [
      "2020-04-22 21:57:49,136 - oslom_Infohiermap - INFO - Running /opt/gct/submodules/OSLOM/infohiermap_undir 123 /tmp/tmplua0i101/pajek.txt 1\n",
      "INFO:oslom_Infohiermap:Running /opt/gct/submodules/OSLOM/infohiermap_undir 123 /tmp/tmplua0i101/pajek.txt 1\n",
      "2020-04-22 21:57:49,161 - oslom_Infohiermap - INFO - Made 6 clusters in 0.015692 seconds\n",
      "INFO:oslom_Infohiermap:Made 6 clusters in 0.015692 seconds\n"
     ]
    },
    {
     "name": "stdout",
     "output_type": "stream",
     "text": [
      "runing  oslom_Infohiermap K_DoesAlgSupportWeightTestLFR_w1\n",
      "finished oslom_Infohiermap K_DoesAlgSupportWeightTestLFR_w1\n"
     ]
    },
    {
     "name": "stderr",
     "output_type": "stream",
     "text": [
      "2020-04-22 21:57:49,273 - Dataset:K_DoesAlgSupportWeightTestLFR_uw1 - INFO - writing edges to /data/data/K_DoesAlgSupportWeightTestLFR_uw1/edges.txt\n",
      "INFO:Dataset:K_DoesAlgSupportWeightTestLFR_uw1:writing edges to /data/data/K_DoesAlgSupportWeightTestLFR_uw1/edges.txt\n",
      "2020-04-22 21:57:49,274 - Dataset:K_DoesAlgSupportWeightTestLFR_uw1 - INFO - reading /data/data/K_DoesAlgSupportWeightTestLFR_uw1/edges.parq\n",
      "INFO:Dataset:K_DoesAlgSupportWeightTestLFR_uw1:reading /data/data/K_DoesAlgSupportWeightTestLFR_uw1/edges.parq\n"
     ]
    },
    {
     "name": "stdout",
     "output_type": "stream",
     "text": [
      "runing  oslom_Infohiermap K_DoesAlgSupportWeightTestLFR_uw1\n"
     ]
    },
    {
     "name": "stderr",
     "output_type": "stream",
     "text": [
      "2020-04-22 21:57:49,404 - Dataset:K_DoesAlgSupportWeightTestLFR_uw1 - INFO - finish writing /data/data/K_DoesAlgSupportWeightTestLFR_uw1/edges.txt\n",
      "INFO:Dataset:K_DoesAlgSupportWeightTestLFR_uw1:finish writing /data/data/K_DoesAlgSupportWeightTestLFR_uw1/edges.txt\n",
      "2020-04-22 21:57:49,418 - oslom_Infohiermap - INFO - Running /opt/gct/submodules/OSLOM/infohiermap_undir 123 /tmp/tmpn859uhyc/pajek.txt 1\n",
      "INFO:oslom_Infohiermap:Running /opt/gct/submodules/OSLOM/infohiermap_undir 123 /tmp/tmpn859uhyc/pajek.txt 1\n",
      "2020-04-22 21:57:49,441 - oslom_Infohiermap - INFO - Made 6 clusters in 0.013796 seconds\n",
      "INFO:oslom_Infohiermap:Made 6 clusters in 0.013796 seconds\n"
     ]
    },
    {
     "name": "stdout",
     "output_type": "stream",
     "text": [
      "finished oslom_Infohiermap K_DoesAlgSupportWeightTestLFR_uw1\n"
     ]
    },
    {
     "name": "stderr",
     "output_type": "stream",
     "text": [
      "2020-04-22 21:57:49,553 - oslom_Infomap - INFO - Running /opt/gct/submodules/OSLOM2/infomap_dir 123 /tmp/tmpjfme9akk/pajek.txt 1\n",
      "INFO:oslom_Infomap:Running /opt/gct/submodules/OSLOM2/infomap_dir 123 /tmp/tmpjfme9akk/pajek.txt 1\n",
      "2020-04-22 21:57:49,569 - oslom_Infomap - INFO - Made 1 clusters in 0.008256 seconds\n",
      "INFO:oslom_Infomap:Made 1 clusters in 0.008256 seconds\n"
     ]
    },
    {
     "name": "stdout",
     "output_type": "stream",
     "text": [
      "runing  oslom_Infomap K_DoesAlgSupportWeightTestLFR_w1\n",
      "finished oslom_Infomap K_DoesAlgSupportWeightTestLFR_w1\n"
     ]
    },
    {
     "name": "stderr",
     "output_type": "stream",
     "text": [
      "2020-04-22 21:57:49,680 - oslom_Infomap - INFO - Running /opt/gct/submodules/OSLOM2/infomap_dir 123 /tmp/tmpv0qum0mi/pajek.txt 1\n",
      "INFO:oslom_Infomap:Running /opt/gct/submodules/OSLOM2/infomap_dir 123 /tmp/tmpv0qum0mi/pajek.txt 1\n",
      "2020-04-22 21:57:49,696 - oslom_Infomap - INFO - Made 1 clusters in 0.007396 seconds\n",
      "INFO:oslom_Infomap:Made 1 clusters in 0.007396 seconds\n"
     ]
    },
    {
     "name": "stdout",
     "output_type": "stream",
     "text": [
      "runing  oslom_Infomap K_DoesAlgSupportWeightTestLFR_uw1\n",
      "finished oslom_Infomap K_DoesAlgSupportWeightTestLFR_uw1\n"
     ]
    },
    {
     "name": "stderr",
     "output_type": "stream",
     "text": [
      "2020-04-22 21:57:49,807 - oslom_OSLOM - INFO - Running /opt/gct/submodules/OSLOM2/oslom_undir -f /tmp/tmpd2szv9ts/edges.txt -w -r 10 -hr 50 -seed 123 -t 0.1 -cp 0.5\n",
      "INFO:oslom_OSLOM:Running /opt/gct/submodules/OSLOM2/oslom_undir -f /tmp/tmpd2szv9ts/edges.txt -w -r 10 -hr 50 -seed 123 -t 0.1 -cp 0.5\n"
     ]
    },
    {
     "name": "stdout",
     "output_type": "stream",
     "text": [
      "runing  oslom_OSLOM K_DoesAlgSupportWeightTestLFR_w1\n"
     ]
    },
    {
     "name": "stderr",
     "output_type": "stream",
     "text": [
      "2020-04-22 21:57:50,744 - oslom_OSLOM - INFO - Made 1 levels of clusters with #clusters [6] in 0.934556 seconds\n",
      "INFO:oslom_OSLOM:Made 1 levels of clusters with #clusters [6] in 0.934556 seconds\n"
     ]
    },
    {
     "name": "stdout",
     "output_type": "stream",
     "text": [
      "finished oslom_OSLOM K_DoesAlgSupportWeightTestLFR_w1\n"
     ]
    },
    {
     "name": "stderr",
     "output_type": "stream",
     "text": [
      "2020-04-22 21:57:50,857 - oslom_OSLOM - INFO - Running /opt/gct/submodules/OSLOM2/oslom_undir -f /tmp/tmpn0sqz7ey/edges.txt -uw -r 10 -hr 50 -seed 123 -t 0.1 -cp 0.5\n",
      "INFO:oslom_OSLOM:Running /opt/gct/submodules/OSLOM2/oslom_undir -f /tmp/tmpn0sqz7ey/edges.txt -uw -r 10 -hr 50 -seed 123 -t 0.1 -cp 0.5\n"
     ]
    },
    {
     "name": "stdout",
     "output_type": "stream",
     "text": [
      "runing  oslom_OSLOM K_DoesAlgSupportWeightTestLFR_uw1\n"
     ]
    },
    {
     "name": "stderr",
     "output_type": "stream",
     "text": [
      "2020-04-22 21:57:51,559 - oslom_OSLOM - INFO - Made 1 levels of clusters with #clusters [6] in 0.700934 seconds\n",
      "INFO:oslom_OSLOM:Made 1 levels of clusters with #clusters [6] in 0.700934 seconds\n"
     ]
    },
    {
     "name": "stdout",
     "output_type": "stream",
     "text": [
      "finished oslom_OSLOM K_DoesAlgSupportWeightTestLFR_uw1\n"
     ]
    },
    {
     "name": "stderr",
     "output_type": "stream",
     "text": [
      "2020-04-22 21:57:51,672 - oslom_copra - INFO - seed ignored\n",
      "INFO:oslom_copra:seed ignored\n",
      "2020-04-22 21:57:51,673 - oslom_copra - INFO - Running java -cp /opt/gct/submodules/OSLOM2/copra.jar COPRA /tmp/tmphk69u8pj/edges.txt -w -v 5 -nosplit -extrasimplify -q\n",
      "INFO:oslom_copra:Running java -cp /opt/gct/submodules/OSLOM2/copra.jar COPRA /tmp/tmphk69u8pj/edges.txt -w -v 5 -nosplit -extrasimplify -q\n"
     ]
    },
    {
     "name": "stdout",
     "output_type": "stream",
     "text": [
      "runing  oslom_copra K_DoesAlgSupportWeightTestLFR_w1\n"
     ]
    },
    {
     "name": "stderr",
     "output_type": "stream",
     "text": [
      "2020-04-22 21:57:51,802 - oslom_copra - INFO - Made 5 clusters in 0.127070 seconds\n",
      "INFO:oslom_copra:Made 5 clusters in 0.127070 seconds\n"
     ]
    },
    {
     "name": "stdout",
     "output_type": "stream",
     "text": [
      "finished oslom_copra K_DoesAlgSupportWeightTestLFR_w1\n"
     ]
    },
    {
     "name": "stderr",
     "output_type": "stream",
     "text": [
      "2020-04-22 21:57:51,915 - oslom_copra - INFO - seed ignored\n",
      "INFO:oslom_copra:seed ignored\n",
      "2020-04-22 21:57:51,916 - oslom_copra - INFO - Running java -cp /opt/gct/submodules/OSLOM2/copra.jar COPRA /tmp/tmpf7x3y9z8/edges.txt -w -v 5 -nosplit -extrasimplify -q\n",
      "INFO:oslom_copra:Running java -cp /opt/gct/submodules/OSLOM2/copra.jar COPRA /tmp/tmpf7x3y9z8/edges.txt -w -v 5 -nosplit -extrasimplify -q\n"
     ]
    },
    {
     "name": "stdout",
     "output_type": "stream",
     "text": [
      "runing  oslom_copra K_DoesAlgSupportWeightTestLFR_uw1\n"
     ]
    },
    {
     "name": "stderr",
     "output_type": "stream",
     "text": [
      "2020-04-22 21:57:52,042 - oslom_copra - INFO - Made 6 clusters in 0.124560 seconds\n",
      "INFO:oslom_copra:Made 6 clusters in 0.124560 seconds\n"
     ]
    },
    {
     "name": "stdout",
     "output_type": "stream",
     "text": [
      "finished oslom_copra K_DoesAlgSupportWeightTestLFR_uw1\n"
     ]
    },
    {
     "name": "stderr",
     "output_type": "stream",
     "text": [
      "2020-04-22 21:57:52,156 - oslom_louvain_method - INFO - Running /opt/gct/submodules/OSLOM/louvain_method -f /tmp/tmppinuqmcu/edges.txt -r 1 -seed 123\n",
      "INFO:oslom_louvain_method:Running /opt/gct/submodules/OSLOM/louvain_method -f /tmp/tmppinuqmcu/edges.txt -r 1 -seed 123\n",
      "2020-04-22 21:57:52,169 - oslom_louvain_method - INFO - Made 6 clusters in 0.011600 seconds\n",
      "INFO:oslom_louvain_method:Made 6 clusters in 0.011600 seconds\n"
     ]
    },
    {
     "name": "stdout",
     "output_type": "stream",
     "text": [
      "runing  oslom_louvain_method K_DoesAlgSupportWeightTestLFR_w1\n",
      "finished oslom_louvain_method K_DoesAlgSupportWeightTestLFR_w1\n"
     ]
    },
    {
     "name": "stderr",
     "output_type": "stream",
     "text": [
      "2020-04-22 21:57:52,281 - oslom_louvain_method - INFO - Running /opt/gct/submodules/OSLOM/louvain_method -f /tmp/tmpwuvmnuk7/edges.txt -r 1 -seed 123\n",
      "INFO:oslom_louvain_method:Running /opt/gct/submodules/OSLOM/louvain_method -f /tmp/tmpwuvmnuk7/edges.txt -r 1 -seed 123\n",
      "2020-04-22 21:57:52,293 - oslom_louvain_method - INFO - Made 6 clusters in 0.010793 seconds\n",
      "INFO:oslom_louvain_method:Made 6 clusters in 0.010793 seconds\n"
     ]
    },
    {
     "name": "stdout",
     "output_type": "stream",
     "text": [
      "runing  oslom_louvain_method K_DoesAlgSupportWeightTestLFR_uw1\n",
      "finished oslom_louvain_method K_DoesAlgSupportWeightTestLFR_uw1\n",
      "skip oslom_lpm K_DoesAlgSupportWeightTestLFR_w1\n"
     ]
    },
    {
     "name": "stderr",
     "output_type": "stream",
     "text": [
      "2020-04-22 21:57:52,513 - oslom_lpm - INFO - Running /opt/gct/submodules/OSLOM/lpm -f /tmp/tmpr7fpvj00/edges.txt -r 1 -seed 123\n",
      "INFO:oslom_lpm:Running /opt/gct/submodules/OSLOM/lpm -f /tmp/tmpr7fpvj00/edges.txt -r 1 -seed 123\n",
      "2020-04-22 21:57:52,522 - oslom_lpm - INFO - Made 6 clusters in 0.007490 seconds\n",
      "INFO:oslom_lpm:Made 6 clusters in 0.007490 seconds\n"
     ]
    },
    {
     "name": "stdout",
     "output_type": "stream",
     "text": [
      "runing  oslom_lpm K_DoesAlgSupportWeightTestLFR_uw1\n",
      "finished oslom_lpm K_DoesAlgSupportWeightTestLFR_uw1\n"
     ]
    },
    {
     "name": "stderr",
     "output_type": "stream",
     "text": [
      "2020-04-22 21:57:52,633 - oslom_modopt - INFO - Running /opt/gct/submodules/OSLOM/modopt /tmp/tmpk2gisns2/edges.txt 123 1 5 0.999 1e-06\n",
      "INFO:oslom_modopt:Running /opt/gct/submodules/OSLOM/modopt /tmp/tmpk2gisns2/edges.txt 123 1 5 0.999 1e-06\n"
     ]
    },
    {
     "name": "stdout",
     "output_type": "stream",
     "text": [
      "runing  oslom_modopt K_DoesAlgSupportWeightTestLFR_w1\n"
     ]
    },
    {
     "name": "stderr",
     "output_type": "stream",
     "text": [
      "2020-04-22 21:57:52,716 - oslom_modopt - INFO - Made 6 clusters in 0.081265 seconds\n",
      "INFO:oslom_modopt:Made 6 clusters in 0.081265 seconds\n"
     ]
    },
    {
     "name": "stdout",
     "output_type": "stream",
     "text": [
      "finished oslom_modopt K_DoesAlgSupportWeightTestLFR_w1\n"
     ]
    },
    {
     "name": "stderr",
     "output_type": "stream",
     "text": [
      "2020-04-22 21:57:52,827 - oslom_modopt - INFO - Running /opt/gct/submodules/OSLOM/modopt /tmp/tmpzcn54_10/edges.txt 123 1 5 0.999 1e-06\n",
      "INFO:oslom_modopt:Running /opt/gct/submodules/OSLOM/modopt /tmp/tmpzcn54_10/edges.txt 123 1 5 0.999 1e-06\n"
     ]
    },
    {
     "name": "stdout",
     "output_type": "stream",
     "text": [
      "runing  oslom_modopt K_DoesAlgSupportWeightTestLFR_uw1\n"
     ]
    },
    {
     "name": "stderr",
     "output_type": "stream",
     "text": [
      "2020-04-22 21:57:52,904 - oslom_modopt - INFO - Made 6 clusters in 0.075755 seconds\n",
      "INFO:oslom_modopt:Made 6 clusters in 0.075755 seconds\n"
     ]
    },
    {
     "name": "stdout",
     "output_type": "stream",
     "text": [
      "finished oslom_modopt K_DoesAlgSupportWeightTestLFR_uw1\n"
     ]
    },
    {
     "name": "stderr",
     "output_type": "stream",
     "text": [
      "2020-04-22 21:57:53,015 - pycabem_GANXiSw - INFO - Running java -jar /opt/gct/submodules/GANXiS/GANXiSw.jar -i edges.txt -seed 123 -Sym 1 -d output -r 0.1 \n",
      "INFO:pycabem_GANXiSw:Running java -jar /opt/gct/submodules/GANXiS/GANXiSw.jar -i edges.txt -seed 123 -Sym 1 -d output -r 0.1 \n"
     ]
    },
    {
     "name": "stdout",
     "output_type": "stream",
     "text": [
      "runing  pycabem_GANXiSw K_DoesAlgSupportWeightTestLFR_w1\n"
     ]
    },
    {
     "name": "stderr",
     "output_type": "stream",
     "text": [
      "2020-04-22 21:57:53,195 - pycabem_GANXiSw - INFO - Made 6 clusters in 0.178227 seconds\n",
      "INFO:pycabem_GANXiSw:Made 6 clusters in 0.178227 seconds\n"
     ]
    },
    {
     "name": "stdout",
     "output_type": "stream",
     "text": [
      "finished pycabem_GANXiSw K_DoesAlgSupportWeightTestLFR_w1\n"
     ]
    },
    {
     "name": "stderr",
     "output_type": "stream",
     "text": [
      "2020-04-22 21:57:53,309 - pycabem_GANXiSw - INFO - Running java -jar /opt/gct/submodules/GANXiS/GANXiSw.jar -i edges.txt -seed 123 -Sym 1 -d output -r 0.1 \n",
      "INFO:pycabem_GANXiSw:Running java -jar /opt/gct/submodules/GANXiS/GANXiSw.jar -i edges.txt -seed 123 -Sym 1 -d output -r 0.1 \n"
     ]
    },
    {
     "name": "stdout",
     "output_type": "stream",
     "text": [
      "runing  pycabem_GANXiSw K_DoesAlgSupportWeightTestLFR_uw1\n"
     ]
    },
    {
     "name": "stderr",
     "output_type": "stream",
     "text": [
      "2020-04-22 21:57:53,490 - pycabem_GANXiSw - INFO - Made 4 clusters in 0.179368 seconds\n",
      "INFO:pycabem_GANXiSw:Made 4 clusters in 0.179368 seconds\n"
     ]
    },
    {
     "name": "stdout",
     "output_type": "stream",
     "text": [
      "finished pycabem_GANXiSw K_DoesAlgSupportWeightTestLFR_uw1\n"
     ]
    },
    {
     "name": "stderr",
     "output_type": "stream",
     "text": [
      "2020-04-22 21:57:53,603 - pycabem_HiReCS - INFO - seed ignored\n",
      "INFO:pycabem_HiReCS:seed ignored\n",
      "2020-04-22 21:57:53,604 - Dataset:K_DoesAlgSupportWeightTestLFR_w1 - INFO - running python /opt/gct/submodules/hirecs/pajek_hig.py /data/data/K_DoesAlgSupportWeightTestLFR_w1/pajek.txt\n",
      "INFO:Dataset:K_DoesAlgSupportWeightTestLFR_w1:running python /opt/gct/submodules/hirecs/pajek_hig.py /data/data/K_DoesAlgSupportWeightTestLFR_w1/pajek.txt\n",
      "2020-04-22 21:57:53,636 - pycabem_HiReCS - INFO - Running ./hirecs -oje /data/data/K_DoesAlgSupportWeightTestLFR_w1/pajek.hig > output\n",
      "INFO:pycabem_HiReCS:Running ./hirecs -oje /data/data/K_DoesAlgSupportWeightTestLFR_w1/pajek.hig > output\n",
      "2020-04-22 21:57:53,652 - pycabem_HiReCS - INFO - Made 5 clusters in 0.012786 seconds with modularity 0.341486\n",
      "INFO:pycabem_HiReCS:Made 5 clusters in 0.012786 seconds with modularity 0.341486\n"
     ]
    },
    {
     "name": "stdout",
     "output_type": "stream",
     "text": [
      "runing  pycabem_HiReCS K_DoesAlgSupportWeightTestLFR_w1\n",
      "finished pycabem_HiReCS K_DoesAlgSupportWeightTestLFR_w1\n"
     ]
    },
    {
     "name": "stderr",
     "output_type": "stream",
     "text": [
      "2020-04-22 21:57:53,763 - pycabem_HiReCS - INFO - seed ignored\n",
      "INFO:pycabem_HiReCS:seed ignored\n",
      "2020-04-22 21:57:53,764 - Dataset:K_DoesAlgSupportWeightTestLFR_uw1 - INFO - running python /opt/gct/submodules/hirecs/pajek_hig.py /data/data/K_DoesAlgSupportWeightTestLFR_uw1/pajek.txt\n",
      "INFO:Dataset:K_DoesAlgSupportWeightTestLFR_uw1:running python /opt/gct/submodules/hirecs/pajek_hig.py /data/data/K_DoesAlgSupportWeightTestLFR_uw1/pajek.txt\n",
      "2020-04-22 21:57:53,794 - pycabem_HiReCS - INFO - Running ./hirecs -oje /data/data/K_DoesAlgSupportWeightTestLFR_uw1/pajek.hig > output\n",
      "INFO:pycabem_HiReCS:Running ./hirecs -oje /data/data/K_DoesAlgSupportWeightTestLFR_uw1/pajek.hig > output\n"
     ]
    },
    {
     "name": "stdout",
     "output_type": "stream",
     "text": [
      "runing  pycabem_HiReCS K_DoesAlgSupportWeightTestLFR_uw1\n"
     ]
    },
    {
     "name": "stderr",
     "output_type": "stream",
     "text": [
      "2020-04-22 21:57:53,807 - pycabem_HiReCS - INFO - Made 6 clusters in 0.009987 seconds with modularity 0.538454\n",
      "INFO:pycabem_HiReCS:Made 6 clusters in 0.009987 seconds with modularity 0.538454\n"
     ]
    },
    {
     "name": "stdout",
     "output_type": "stream",
     "text": [
      "finished pycabem_HiReCS K_DoesAlgSupportWeightTestLFR_uw1\n"
     ]
    },
    {
     "name": "stderr",
     "output_type": "stream",
     "text": [
      "2020-04-22 21:57:53,918 - pycabem_LabelRank - INFO - seed ignored\n",
      "INFO:pycabem_LabelRank:seed ignored\n",
      "2020-04-22 21:57:53,919 - pycabem_LabelRank - INFO - Running /opt/gct/submodules/GANXiS/LabelRank edges.txt 0.01 2 0.3\n",
      "INFO:pycabem_LabelRank:Running /opt/gct/submodules/GANXiS/LabelRank edges.txt 0.01 2 0.3\n"
     ]
    },
    {
     "name": "stdout",
     "output_type": "stream",
     "text": [
      "runing  pycabem_LabelRank K_DoesAlgSupportWeightTestLFR_w1\n"
     ]
    },
    {
     "name": "stderr",
     "output_type": "stream",
     "text": [
      "2020-04-22 21:57:53,993 - pycabem_LabelRank - INFO - Made 7 clusters in 0.071622 seconds\n",
      "INFO:pycabem_LabelRank:Made 7 clusters in 0.071622 seconds\n"
     ]
    },
    {
     "name": "stdout",
     "output_type": "stream",
     "text": [
      "finished pycabem_LabelRank K_DoesAlgSupportWeightTestLFR_w1\n"
     ]
    },
    {
     "name": "stderr",
     "output_type": "stream",
     "text": [
      "2020-04-22 21:57:54,104 - pycabem_LabelRank - INFO - seed ignored\n",
      "INFO:pycabem_LabelRank:seed ignored\n",
      "2020-04-22 21:57:54,105 - pycabem_LabelRank - INFO - Running /opt/gct/submodules/GANXiS/LabelRank edges.txt 0.01 2 0.3\n",
      "INFO:pycabem_LabelRank:Running /opt/gct/submodules/GANXiS/LabelRank edges.txt 0.01 2 0.3\n"
     ]
    },
    {
     "name": "stdout",
     "output_type": "stream",
     "text": [
      "runing  pycabem_LabelRank K_DoesAlgSupportWeightTestLFR_uw1\n"
     ]
    },
    {
     "name": "stderr",
     "output_type": "stream",
     "text": [
      "2020-04-22 21:57:54,179 - pycabem_LabelRank - INFO - Made 7 clusters in 0.071995 seconds\n",
      "INFO:pycabem_LabelRank:Made 7 clusters in 0.071995 seconds\n"
     ]
    },
    {
     "name": "stdout",
     "output_type": "stream",
     "text": [
      "finished pycabem_LabelRank K_DoesAlgSupportWeightTestLFR_uw1\n"
     ]
    },
    {
     "name": "stderr",
     "output_type": "stream",
     "text": [
      "2020-04-22 21:57:54,290 - cdc_CONGA - INFO - seed ignored\n",
      "INFO:cdc_CONGA:seed ignored\n",
      "2020-04-22 21:57:54,291 - cdc_CONGA - INFO - Running java -cp /opt/gct/submodules/CommunityDetectionCodes/conga-1.0-SNAPSHOT.jar conga.CONGA edges.txt -e -s -w mean\n",
      "INFO:cdc_CONGA:Running java -cp /opt/gct/submodules/CommunityDetectionCodes/conga-1.0-SNAPSHOT.jar conga.CONGA edges.txt -e -s -w mean\n"
     ]
    },
    {
     "name": "stdout",
     "output_type": "stream",
     "text": [
      "runing  cdc_CONGA K_DoesAlgSupportWeightTestLFR_w1\n"
     ]
    },
    {
     "name": "stderr",
     "output_type": "stream",
     "text": [
      "2020-04-22 21:58:02,145 - cdc_CONGA - INFO - Finish first step in 7.852629 seconds\n",
      "INFO:cdc_CONGA:Finish first step in 7.852629 seconds\n",
      "2020-04-22 21:58:02,146 - cdc_CONGA - INFO - Running java -cp /opt/gct/submodules/CommunityDetectionCodes/conga-1.0-SNAPSHOT.jar conga.CONGA edges.txt -e -s -w mean -n 5\n",
      "INFO:cdc_CONGA:Running java -cp /opt/gct/submodules/CommunityDetectionCodes/conga-1.0-SNAPSHOT.jar conga.CONGA edges.txt -e -s -w mean -n 5\n",
      "2020-04-22 21:58:02,268 - cdc_CONGA - INFO - Made 5 clusters in 0.120497 seconds\n",
      "INFO:cdc_CONGA:Made 5 clusters in 0.120497 seconds\n"
     ]
    },
    {
     "name": "stdout",
     "output_type": "stream",
     "text": [
      "finished cdc_CONGA K_DoesAlgSupportWeightTestLFR_w1\n"
     ]
    },
    {
     "name": "stderr",
     "output_type": "stream",
     "text": [
      "2020-04-22 21:58:02,382 - cdc_CONGA - INFO - seed ignored\n",
      "INFO:cdc_CONGA:seed ignored\n",
      "2020-04-22 21:58:02,383 - cdc_CONGA - INFO - Running java -cp /opt/gct/submodules/CommunityDetectionCodes/conga-1.0-SNAPSHOT.jar conga.CONGA edges.txt -e -s\n",
      "INFO:cdc_CONGA:Running java -cp /opt/gct/submodules/CommunityDetectionCodes/conga-1.0-SNAPSHOT.jar conga.CONGA edges.txt -e -s\n"
     ]
    },
    {
     "name": "stdout",
     "output_type": "stream",
     "text": [
      "runing  cdc_CONGA K_DoesAlgSupportWeightTestLFR_uw1\n"
     ]
    },
    {
     "name": "stderr",
     "output_type": "stream",
     "text": [
      "2020-04-22 21:58:09,736 - cdc_CONGA - INFO - Finish first step in 7.352199 seconds\n",
      "INFO:cdc_CONGA:Finish first step in 7.352199 seconds\n",
      "2020-04-22 21:58:09,738 - cdc_CONGA - INFO - Running java -cp /opt/gct/submodules/CommunityDetectionCodes/conga-1.0-SNAPSHOT.jar conga.CONGA edges.txt -e -s -n 5\n",
      "INFO:cdc_CONGA:Running java -cp /opt/gct/submodules/CommunityDetectionCodes/conga-1.0-SNAPSHOT.jar conga.CONGA edges.txt -e -s -n 5\n",
      "2020-04-22 21:58:09,846 - cdc_CONGA - INFO - Made 5 clusters in 0.107297 seconds\n",
      "INFO:cdc_CONGA:Made 5 clusters in 0.107297 seconds\n"
     ]
    },
    {
     "name": "stdout",
     "output_type": "stream",
     "text": [
      "finished cdc_CONGA K_DoesAlgSupportWeightTestLFR_uw1\n"
     ]
    },
    {
     "name": "stderr",
     "output_type": "stream",
     "text": [
      "2020-04-22 21:58:09,960 - cdc_CliquePercolation - INFO - seed ignored\n",
      "INFO:cdc_CliquePercolation:seed ignored\n",
      "2020-04-22 21:58:09,961 - cdc_CliquePercolation - INFO - Running /opt/gct/submodules/CommunityDetectionCodes/k_clique edges.txt -w -o=output\n",
      "INFO:cdc_CliquePercolation:Running /opt/gct/submodules/CommunityDetectionCodes/k_clique edges.txt -w -o=output\n",
      "2020-04-22 21:58:09,975 - cdc_CliquePercolation - INFO - Made 1 clusters in 0.012767 seconds\n",
      "INFO:cdc_CliquePercolation:Made 1 clusters in 0.012767 seconds\n"
     ]
    },
    {
     "name": "stdout",
     "output_type": "stream",
     "text": [
      "runing  cdc_CliquePercolation K_DoesAlgSupportWeightTestLFR_w1\n",
      "finished cdc_CliquePercolation K_DoesAlgSupportWeightTestLFR_w1\n"
     ]
    },
    {
     "name": "stderr",
     "output_type": "stream",
     "text": [
      "2020-04-22 21:58:10,086 - cdc_CliquePercolation - INFO - seed ignored\n",
      "INFO:cdc_CliquePercolation:seed ignored\n",
      "2020-04-22 21:58:10,087 - cdc_CliquePercolation - INFO - Running /opt/gct/submodules/CommunityDetectionCodes/k_clique edges.txt -o=output\n",
      "INFO:cdc_CliquePercolation:Running /opt/gct/submodules/CommunityDetectionCodes/k_clique edges.txt -o=output\n",
      "2020-04-22 21:58:10,098 - cdc_CliquePercolation - INFO - Made 1 clusters in 0.009793 seconds\n",
      "INFO:cdc_CliquePercolation:Made 1 clusters in 0.009793 seconds\n"
     ]
    },
    {
     "name": "stdout",
     "output_type": "stream",
     "text": [
      "runing  cdc_CliquePercolation K_DoesAlgSupportWeightTestLFR_uw1\n",
      "finished cdc_CliquePercolation K_DoesAlgSupportWeightTestLFR_uw1\n"
     ]
    },
    {
     "name": "stderr",
     "output_type": "stream",
     "text": [
      "2020-04-22 21:58:10,209 - cdc_Connected_Iterative_Scan - INFO - seed ignored\n",
      "INFO:cdc_Connected_Iterative_Scan:seed ignored\n",
      "2020-04-22 21:58:10,211 - cdc_Connected_Iterative_Scan - INFO - Running /opt/gct/submodules/CommunityDetectionCodes/2009-cis -i edges.txt -o output\n",
      "INFO:cdc_Connected_Iterative_Scan:Running /opt/gct/submodules/CommunityDetectionCodes/2009-cis -i edges.txt -o output\n",
      "2020-04-22 21:58:10,264 - cdc_Connected_Iterative_Scan - INFO - Made 9 clusters in 0.052062 seconds\n",
      "INFO:cdc_Connected_Iterative_Scan:Made 9 clusters in 0.052062 seconds\n"
     ]
    },
    {
     "name": "stdout",
     "output_type": "stream",
     "text": [
      "runing  cdc_Connected_Iterative_Scan K_DoesAlgSupportWeightTestLFR_w1\n",
      "finished cdc_Connected_Iterative_Scan K_DoesAlgSupportWeightTestLFR_w1\n"
     ]
    },
    {
     "name": "stderr",
     "output_type": "stream",
     "text": [
      "2020-04-22 21:58:10,375 - cdc_Connected_Iterative_Scan - INFO - seed ignored\n",
      "INFO:cdc_Connected_Iterative_Scan:seed ignored\n",
      "2020-04-22 21:58:10,376 - cdc_Connected_Iterative_Scan - INFO - Running /opt/gct/submodules/CommunityDetectionCodes/2009-cis -i edges.txt -o output\n",
      "INFO:cdc_Connected_Iterative_Scan:Running /opt/gct/submodules/CommunityDetectionCodes/2009-cis -i edges.txt -o output\n"
     ]
    },
    {
     "name": "stdout",
     "output_type": "stream",
     "text": [
      "runing  cdc_Connected_Iterative_Scan K_DoesAlgSupportWeightTestLFR_uw1\n"
     ]
    },
    {
     "name": "stderr",
     "output_type": "stream",
     "text": [
      "2020-04-22 21:58:10,428 - cdc_Connected_Iterative_Scan - INFO - Made 8 clusters in 0.051253 seconds\n",
      "INFO:cdc_Connected_Iterative_Scan:Made 8 clusters in 0.051253 seconds\n"
     ]
    },
    {
     "name": "stdout",
     "output_type": "stream",
     "text": [
      "finished cdc_Connected_Iterative_Scan K_DoesAlgSupportWeightTestLFR_uw1\n"
     ]
    },
    {
     "name": "stderr",
     "output_type": "stream",
     "text": [
      "2020-04-22 21:58:10,538 - cdc_DEMON - INFO - seed ignored\n",
      "INFO:cdc_DEMON:seed ignored\n",
      "2020-04-22 21:58:10,540 - cdc_DEMON - INFO - Running python /opt/gct/submodules/CommunityDetectionCodes/Algorithms/2012-DEMON/Demon.py edges.txt w ud 0.25 3\n",
      "INFO:cdc_DEMON:Running python /opt/gct/submodules/CommunityDetectionCodes/Algorithms/2012-DEMON/Demon.py edges.txt w ud 0.25 3\n"
     ]
    },
    {
     "name": "stdout",
     "output_type": "stream",
     "text": [
      "runing  cdc_DEMON K_DoesAlgSupportWeightTestLFR_w1\n",
      "except cdc_DEMON K_DoesAlgSupportWeightTestLFR_w1\n"
     ]
    },
    {
     "name": "stderr",
     "output_type": "stream",
     "text": [
      "2020-04-22 21:58:10,673 - cdc_DEMON - INFO - seed ignored\n",
      "INFO:cdc_DEMON:seed ignored\n",
      "2020-04-22 21:58:10,674 - cdc_DEMON - INFO - Running python /opt/gct/submodules/CommunityDetectionCodes/Algorithms/2012-DEMON/Demon.py edges.txt uw ud 0.25 3\n",
      "INFO:cdc_DEMON:Running python /opt/gct/submodules/CommunityDetectionCodes/Algorithms/2012-DEMON/Demon.py edges.txt uw ud 0.25 3\n"
     ]
    },
    {
     "name": "stdout",
     "output_type": "stream",
     "text": [
      "runing  cdc_DEMON K_DoesAlgSupportWeightTestLFR_uw1\n",
      "except cdc_DEMON K_DoesAlgSupportWeightTestLFR_uw1\n"
     ]
    },
    {
     "name": "stderr",
     "output_type": "stream",
     "text": [
      "2020-04-22 21:58:10,807 - cdc_EAGLE - INFO - seed ignored\n",
      "INFO:cdc_EAGLE:seed ignored\n",
      "2020-04-22 21:58:10,808 - cdc_EAGLE - INFO - Running /opt/gct/submodules/CommunityDetectionCodes/2009-eagle 7 edges.txt undir output\n",
      "INFO:cdc_EAGLE:Running /opt/gct/submodules/CommunityDetectionCodes/2009-eagle 7 edges.txt undir output\n"
     ]
    },
    {
     "name": "stdout",
     "output_type": "stream",
     "text": [
      "runing  cdc_EAGLE K_DoesAlgSupportWeightTestLFR_w1\n"
     ]
    },
    {
     "name": "stderr",
     "output_type": "stream",
     "text": [
      "2020-04-22 21:58:10,953 - cdc_EAGLE - INFO - Made 6 clusters in 0.143953 seconds\n",
      "INFO:cdc_EAGLE:Made 6 clusters in 0.143953 seconds\n"
     ]
    },
    {
     "name": "stdout",
     "output_type": "stream",
     "text": [
      "finished cdc_EAGLE K_DoesAlgSupportWeightTestLFR_w1\n"
     ]
    },
    {
     "name": "stderr",
     "output_type": "stream",
     "text": [
      "2020-04-22 21:58:11,064 - cdc_EAGLE - INFO - seed ignored\n",
      "INFO:cdc_EAGLE:seed ignored\n",
      "2020-04-22 21:58:11,065 - cdc_EAGLE - INFO - Running /opt/gct/submodules/CommunityDetectionCodes/2009-eagle 7 edges.txt undir output\n",
      "INFO:cdc_EAGLE:Running /opt/gct/submodules/CommunityDetectionCodes/2009-eagle 7 edges.txt undir output\n"
     ]
    },
    {
     "name": "stdout",
     "output_type": "stream",
     "text": [
      "runing  cdc_EAGLE K_DoesAlgSupportWeightTestLFR_uw1\n"
     ]
    },
    {
     "name": "stderr",
     "output_type": "stream",
     "text": [
      "2020-04-22 21:58:11,205 - cdc_EAGLE - INFO - Made 6 clusters in 0.138771 seconds\n",
      "INFO:cdc_EAGLE:Made 6 clusters in 0.138771 seconds\n"
     ]
    },
    {
     "name": "stdout",
     "output_type": "stream",
     "text": [
      "finished cdc_EAGLE K_DoesAlgSupportWeightTestLFR_uw1\n"
     ]
    },
    {
     "name": "stderr",
     "output_type": "stream",
     "text": [
      "2020-04-22 21:58:11,317 - cdc_FastCpm - INFO - seed ignored\n",
      "INFO:cdc_FastCpm:seed ignored\n",
      "2020-04-22 21:58:11,318 - cdc_FastCpm - INFO - Running /opt/gct/submodules/CommunityDetectionCodes/2012-fast-cpm edges.txt 4 output.cluster\n",
      "INFO:cdc_FastCpm:Running /opt/gct/submodules/CommunityDetectionCodes/2012-fast-cpm edges.txt 4 output.cluster\n",
      "2020-04-22 21:58:11,333 - cdc_FastCpm - INFO - Made 6 clusters in 0.013899 seconds\n",
      "INFO:cdc_FastCpm:Made 6 clusters in 0.013899 seconds\n"
     ]
    },
    {
     "name": "stdout",
     "output_type": "stream",
     "text": [
      "runing  cdc_FastCpm K_DoesAlgSupportWeightTestLFR_w1\n",
      "finished cdc_FastCpm K_DoesAlgSupportWeightTestLFR_w1\n"
     ]
    },
    {
     "name": "stderr",
     "output_type": "stream",
     "text": [
      "2020-04-22 21:58:11,443 - cdc_FastCpm - INFO - seed ignored\n",
      "INFO:cdc_FastCpm:seed ignored\n",
      "2020-04-22 21:58:11,444 - cdc_FastCpm - INFO - Running /opt/gct/submodules/CommunityDetectionCodes/2012-fast-cpm edges.txt 4 output.cluster\n",
      "INFO:cdc_FastCpm:Running /opt/gct/submodules/CommunityDetectionCodes/2012-fast-cpm edges.txt 4 output.cluster\n",
      "2020-04-22 21:58:11,459 - cdc_FastCpm - INFO - Made 6 clusters in 0.013570 seconds\n",
      "INFO:cdc_FastCpm:Made 6 clusters in 0.013570 seconds\n"
     ]
    },
    {
     "name": "stdout",
     "output_type": "stream",
     "text": [
      "runing  cdc_FastCpm K_DoesAlgSupportWeightTestLFR_uw1\n",
      "finished cdc_FastCpm K_DoesAlgSupportWeightTestLFR_uw1\n"
     ]
    },
    {
     "name": "stderr",
     "output_type": "stream",
     "text": [
      "2020-04-22 21:58:11,570 - cdc_GCE - INFO - seed ignored\n",
      "INFO:cdc_GCE:seed ignored\n",
      "2020-04-22 21:58:11,571 - cdc_GCE - INFO - Running /opt/gct/submodules/CommunityDetectionCodes/2011-gce edges.txt 4 0.6 1.0 0.75\n",
      "INFO:cdc_GCE:Running /opt/gct/submodules/CommunityDetectionCodes/2011-gce edges.txt 4 0.6 1.0 0.75\n",
      "2020-04-22 21:58:11,580 - cdc_GCE - INFO - Made 6 clusters in 0.008189 seconds\n",
      "INFO:cdc_GCE:Made 6 clusters in 0.008189 seconds\n"
     ]
    },
    {
     "name": "stdout",
     "output_type": "stream",
     "text": [
      "runing  cdc_GCE K_DoesAlgSupportWeightTestLFR_w1\n",
      "finished cdc_GCE K_DoesAlgSupportWeightTestLFR_w1\n"
     ]
    },
    {
     "name": "stderr",
     "output_type": "stream",
     "text": [
      "2020-04-22 21:58:11,691 - cdc_GCE - INFO - seed ignored\n",
      "INFO:cdc_GCE:seed ignored\n",
      "2020-04-22 21:58:11,692 - cdc_GCE - INFO - Running /opt/gct/submodules/CommunityDetectionCodes/2011-gce edges.txt 4 0.6 1.0 0.75\n",
      "INFO:cdc_GCE:Running /opt/gct/submodules/CommunityDetectionCodes/2011-gce edges.txt 4 0.6 1.0 0.75\n",
      "2020-04-22 21:58:11,701 - cdc_GCE - INFO - Made 6 clusters in 0.008162 seconds\n",
      "INFO:cdc_GCE:Made 6 clusters in 0.008162 seconds\n"
     ]
    },
    {
     "name": "stdout",
     "output_type": "stream",
     "text": [
      "runing  cdc_GCE K_DoesAlgSupportWeightTestLFR_uw1\n",
      "finished cdc_GCE K_DoesAlgSupportWeightTestLFR_uw1\n"
     ]
    },
    {
     "name": "stderr",
     "output_type": "stream",
     "text": [
      "2020-04-22 21:58:11,811 - cdc_HDEMON - INFO - seed ignored\n",
      "INFO:cdc_HDEMON:seed ignored\n",
      "2020-04-22 21:58:11,813 - cdc_HDEMON - INFO - Running python /opt/gct/submodules/CommunityDetectionCodes/Algorithms/2012-DEMON/HDemon.py edges.txt w ud 0.25 5\n",
      "INFO:cdc_HDEMON:Running python /opt/gct/submodules/CommunityDetectionCodes/Algorithms/2012-DEMON/HDemon.py edges.txt w ud 0.25 5\n"
     ]
    },
    {
     "name": "stdout",
     "output_type": "stream",
     "text": [
      "runing  cdc_HDEMON K_DoesAlgSupportWeightTestLFR_w1\n",
      "except cdc_HDEMON K_DoesAlgSupportWeightTestLFR_w1\n"
     ]
    },
    {
     "name": "stderr",
     "output_type": "stream",
     "text": [
      "2020-04-22 21:58:11,945 - cdc_HDEMON - INFO - seed ignored\n",
      "INFO:cdc_HDEMON:seed ignored\n",
      "2020-04-22 21:58:11,947 - cdc_HDEMON - INFO - Running python /opt/gct/submodules/CommunityDetectionCodes/Algorithms/2012-DEMON/HDemon.py edges.txt uw ud 0.25 5\n",
      "INFO:cdc_HDEMON:Running python /opt/gct/submodules/CommunityDetectionCodes/Algorithms/2012-DEMON/HDemon.py edges.txt uw ud 0.25 5\n"
     ]
    },
    {
     "name": "stdout",
     "output_type": "stream",
     "text": [
      "runing  cdc_HDEMON K_DoesAlgSupportWeightTestLFR_uw1\n",
      "except cdc_HDEMON K_DoesAlgSupportWeightTestLFR_uw1\n"
     ]
    },
    {
     "name": "stderr",
     "output_type": "stream",
     "text": [
      "2020-04-22 21:58:12,079 - cdc_LinkCommunities - INFO - seed ignored\n",
      "INFO:cdc_LinkCommunities:seed ignored\n",
      "2020-04-22 21:58:12,081 - cdc_LinkCommunities - INFO - Running /opt/gct/submodules/CommunityDetectionCodes/calcJaccards edges.pairs edges.jaccs\n",
      "INFO:cdc_LinkCommunities:Running /opt/gct/submodules/CommunityDetectionCodes/calcJaccards edges.pairs edges.jaccs\n",
      "2020-04-22 21:58:12,086 - cdc_LinkCommunities - INFO - Finish first step in 0.004834 seconds\n",
      "INFO:cdc_LinkCommunities:Finish first step in 0.004834 seconds\n",
      "2020-04-22 21:58:12,088 - cdc_LinkCommunities - INFO - Running /opt/gct/submodules/CommunityDetectionCodes/clusterJaccards edges.pairs edges.jaccs edges.clusters.0.01 edges.mc_nc.0.01 0.01\n",
      "INFO:cdc_LinkCommunities:Running /opt/gct/submodules/CommunityDetectionCodes/clusterJaccards edges.pairs edges.jaccs edges.clusters.0.01 edges.mc_nc.0.01 0.01\n",
      "2020-04-22 21:58:12,094 - cdc_LinkCommunities - INFO - Made 1 clusters in 0.005353 seconds\n",
      "INFO:cdc_LinkCommunities:Made 1 clusters in 0.005353 seconds\n"
     ]
    },
    {
     "name": "stdout",
     "output_type": "stream",
     "text": [
      "runing  cdc_LinkCommunities K_DoesAlgSupportWeightTestLFR_w1\n",
      "finished cdc_LinkCommunities K_DoesAlgSupportWeightTestLFR_w1\n"
     ]
    },
    {
     "name": "stderr",
     "output_type": "stream",
     "text": [
      "2020-04-22 21:58:12,205 - cdc_LinkCommunities - INFO - seed ignored\n",
      "INFO:cdc_LinkCommunities:seed ignored\n",
      "2020-04-22 21:58:12,206 - Dataset:K_DoesAlgSupportWeightTestLFR_uw1 - INFO - reading /data/data/K_DoesAlgSupportWeightTestLFR_uw1/edges.parq\n",
      "INFO:Dataset:K_DoesAlgSupportWeightTestLFR_uw1:reading /data/data/K_DoesAlgSupportWeightTestLFR_uw1/edges.parq\n",
      "2020-04-22 21:58:12,214 - cdc_LinkCommunities - INFO - Running /opt/gct/submodules/CommunityDetectionCodes/calcJaccards edges.pairs edges.jaccs\n",
      "INFO:cdc_LinkCommunities:Running /opt/gct/submodules/CommunityDetectionCodes/calcJaccards edges.pairs edges.jaccs\n",
      "2020-04-22 21:58:12,239 - cdc_LinkCommunities - INFO - Finish first step in 0.023493 seconds\n",
      "INFO:cdc_LinkCommunities:Finish first step in 0.023493 seconds\n",
      "2020-04-22 21:58:12,240 - cdc_LinkCommunities - INFO - Running /opt/gct/submodules/CommunityDetectionCodes/clusterJaccards edges.pairs edges.jaccs edges.clusters.0.01 edges.mc_nc.0.01 0.01\n",
      "INFO:cdc_LinkCommunities:Running /opt/gct/submodules/CommunityDetectionCodes/clusterJaccards edges.pairs edges.jaccs edges.clusters.0.01 edges.mc_nc.0.01 0.01\n",
      "2020-04-22 21:58:12,259 - cdc_LinkCommunities - INFO - Made 1 clusters in 0.017097 seconds\n",
      "INFO:cdc_LinkCommunities:Made 1 clusters in 0.017097 seconds\n"
     ]
    },
    {
     "name": "stdout",
     "output_type": "stream",
     "text": [
      "runing  cdc_LinkCommunities K_DoesAlgSupportWeightTestLFR_uw1\n",
      "finished cdc_LinkCommunities K_DoesAlgSupportWeightTestLFR_uw1\n"
     ]
    },
    {
     "name": "stderr",
     "output_type": "stream",
     "text": [
      "2020-04-22 21:58:12,370 - cdc_MOSES - INFO - Running /opt/gct/submodules/CommunityDetectionCodes/2011-moses edges.txt cluster.output --seed 123\n",
      "INFO:cdc_MOSES:Running /opt/gct/submodules/CommunityDetectionCodes/2011-moses edges.txt cluster.output --seed 123\n"
     ]
    },
    {
     "name": "stdout",
     "output_type": "stream",
     "text": [
      "runing  cdc_MOSES K_DoesAlgSupportWeightTestLFR_w1\n"
     ]
    },
    {
     "name": "stderr",
     "output_type": "stream",
     "text": [
      "2020-04-22 21:58:23,934 - cdc_MOSES - INFO - Made 7 clusters in 11.562212 seconds\n",
      "INFO:cdc_MOSES:Made 7 clusters in 11.562212 seconds\n"
     ]
    },
    {
     "name": "stdout",
     "output_type": "stream",
     "text": [
      "finished cdc_MOSES K_DoesAlgSupportWeightTestLFR_w1\n"
     ]
    },
    {
     "name": "stderr",
     "output_type": "stream",
     "text": [
      "2020-04-22 21:58:24,047 - cdc_MOSES - INFO - Running /opt/gct/submodules/CommunityDetectionCodes/2011-moses edges.txt cluster.output --seed 123\n",
      "INFO:cdc_MOSES:Running /opt/gct/submodules/CommunityDetectionCodes/2011-moses edges.txt cluster.output --seed 123\n"
     ]
    },
    {
     "name": "stdout",
     "output_type": "stream",
     "text": [
      "runing  cdc_MOSES K_DoesAlgSupportWeightTestLFR_uw1\n"
     ]
    },
    {
     "name": "stderr",
     "output_type": "stream",
     "text": [
      "2020-04-22 21:58:35,507 - cdc_MOSES - INFO - Made 7 clusters in 11.458257 seconds\n",
      "INFO:cdc_MOSES:Made 7 clusters in 11.458257 seconds\n"
     ]
    },
    {
     "name": "stdout",
     "output_type": "stream",
     "text": [
      "finished cdc_MOSES K_DoesAlgSupportWeightTestLFR_uw1\n"
     ]
    },
    {
     "name": "stderr",
     "output_type": "stream",
     "text": [
      "2020-04-22 21:58:35,620 - cdc_MSCD_AFG - INFO - seed ignored\n",
      "INFO:cdc_MSCD_AFG:seed ignored\n",
      "2020-04-22 21:58:35,622 - cdc_MSCD_AFG - INFO - Running /opt/gct/submodules/CommunityDetectionCodes/2013-mscd -g graph.edges -w -a AFG [1.0,2]\n",
      "INFO:cdc_MSCD_AFG:Running /opt/gct/submodules/CommunityDetectionCodes/2013-mscd -g graph.edges -w -a AFG [1.0,2]\n",
      "2020-04-22 21:58:35,632 - cdc_MSCD_AFG - INFO - Made 6 clusters with k=1\n",
      "INFO:cdc_MSCD_AFG:Made 6 clusters with k=1\n",
      "2020-04-22 21:58:35,633 - cdc_MSCD_AFG - INFO - Made 6 clusters with k=2\n",
      "INFO:cdc_MSCD_AFG:Made 6 clusters with k=2\n",
      "2020-04-22 21:58:35,635 - cdc_MSCD_AFG - INFO - Made 2 clusters in 0.007926 seconds\n",
      "INFO:cdc_MSCD_AFG:Made 2 clusters in 0.007926 seconds\n"
     ]
    },
    {
     "name": "stdout",
     "output_type": "stream",
     "text": [
      "runing  cdc_MSCD_AFG K_DoesAlgSupportWeightTestLFR_w1\n",
      "finished cdc_MSCD_AFG K_DoesAlgSupportWeightTestLFR_w1\n"
     ]
    },
    {
     "name": "stderr",
     "output_type": "stream",
     "text": [
      "2020-04-22 21:58:35,747 - cdc_MSCD_AFG - INFO - seed ignored\n",
      "INFO:cdc_MSCD_AFG:seed ignored\n",
      "2020-04-22 21:58:35,748 - cdc_MSCD_AFG - INFO - Running /opt/gct/submodules/CommunityDetectionCodes/2013-mscd -g graph.edges -w -a AFG [1.0,2]\n",
      "INFO:cdc_MSCD_AFG:Running /opt/gct/submodules/CommunityDetectionCodes/2013-mscd -g graph.edges -w -a AFG [1.0,2]\n",
      "2020-04-22 21:58:35,757 - cdc_MSCD_AFG - INFO - Made 6 clusters with k=1\n",
      "INFO:cdc_MSCD_AFG:Made 6 clusters with k=1\n",
      "2020-04-22 21:58:35,758 - cdc_MSCD_AFG - INFO - Made 6 clusters with k=2\n",
      "INFO:cdc_MSCD_AFG:Made 6 clusters with k=2\n",
      "2020-04-22 21:58:35,760 - cdc_MSCD_AFG - INFO - Made 2 clusters in 0.007233 seconds\n",
      "INFO:cdc_MSCD_AFG:Made 2 clusters in 0.007233 seconds\n"
     ]
    },
    {
     "name": "stdout",
     "output_type": "stream",
     "text": [
      "runing  cdc_MSCD_AFG K_DoesAlgSupportWeightTestLFR_uw1\n",
      "finished cdc_MSCD_AFG K_DoesAlgSupportWeightTestLFR_uw1\n"
     ]
    },
    {
     "name": "stderr",
     "output_type": "stream",
     "text": [
      "2020-04-22 21:58:35,871 - cdc_MSCD_HSLSW - INFO - seed ignored\n",
      "INFO:cdc_MSCD_HSLSW:seed ignored\n",
      "2020-04-22 21:58:35,873 - cdc_MSCD_HSLSW - INFO - Running /opt/gct/submodules/CommunityDetectionCodes/2013-mscd -g graph.edges -w -a HSLSW [1.0,2]\n",
      "INFO:cdc_MSCD_HSLSW:Running /opt/gct/submodules/CommunityDetectionCodes/2013-mscd -g graph.edges -w -a HSLSW [1.0,2]\n",
      "2020-04-22 21:58:35,884 - cdc_MSCD_HSLSW - INFO - Made 6 clusters with k=1\n",
      "INFO:cdc_MSCD_HSLSW:Made 6 clusters with k=1\n",
      "2020-04-22 21:58:35,886 - cdc_MSCD_HSLSW - INFO - Made 6 clusters with k=2\n",
      "INFO:cdc_MSCD_HSLSW:Made 6 clusters with k=2\n",
      "2020-04-22 21:58:35,888 - cdc_MSCD_HSLSW - INFO - Made 2 clusters in 0.010164 seconds\n",
      "INFO:cdc_MSCD_HSLSW:Made 2 clusters in 0.010164 seconds\n"
     ]
    },
    {
     "name": "stdout",
     "output_type": "stream",
     "text": [
      "runing  cdc_MSCD_HSLSW K_DoesAlgSupportWeightTestLFR_w1\n",
      "finished cdc_MSCD_HSLSW K_DoesAlgSupportWeightTestLFR_w1\n"
     ]
    },
    {
     "name": "stderr",
     "output_type": "stream",
     "text": [
      "2020-04-22 21:58:35,999 - cdc_MSCD_HSLSW - INFO - seed ignored\n",
      "INFO:cdc_MSCD_HSLSW:seed ignored\n",
      "2020-04-22 21:58:36,000 - cdc_MSCD_HSLSW - INFO - Running /opt/gct/submodules/CommunityDetectionCodes/2013-mscd -g graph.edges -w -a HSLSW [1.0,2]\n",
      "INFO:cdc_MSCD_HSLSW:Running /opt/gct/submodules/CommunityDetectionCodes/2013-mscd -g graph.edges -w -a HSLSW [1.0,2]\n",
      "2020-04-22 21:58:36,011 - cdc_MSCD_HSLSW - INFO - Made 6 clusters with k=1\n",
      "INFO:cdc_MSCD_HSLSW:Made 6 clusters with k=1\n",
      "2020-04-22 21:58:36,013 - cdc_MSCD_HSLSW - INFO - Made 6 clusters with k=2\n",
      "INFO:cdc_MSCD_HSLSW:Made 6 clusters with k=2\n",
      "2020-04-22 21:58:36,014 - cdc_MSCD_HSLSW - INFO - Made 2 clusters in 0.009735 seconds\n",
      "INFO:cdc_MSCD_HSLSW:Made 2 clusters in 0.009735 seconds\n"
     ]
    },
    {
     "name": "stdout",
     "output_type": "stream",
     "text": [
      "runing  cdc_MSCD_HSLSW K_DoesAlgSupportWeightTestLFR_uw1\n",
      "finished cdc_MSCD_HSLSW K_DoesAlgSupportWeightTestLFR_uw1\n"
     ]
    },
    {
     "name": "stderr",
     "output_type": "stream",
     "text": [
      "2020-04-22 21:58:36,125 - cdc_MSCD_LFK - INFO - seed ignored\n",
      "INFO:cdc_MSCD_LFK:seed ignored\n",
      "2020-04-22 21:58:36,127 - cdc_MSCD_LFK - INFO - Running /opt/gct/submodules/CommunityDetectionCodes/2013-mscd -g graph.edges -w -a LFK [1.0,2]\n",
      "INFO:cdc_MSCD_LFK:Running /opt/gct/submodules/CommunityDetectionCodes/2013-mscd -g graph.edges -w -a LFK [1.0,2]\n",
      "2020-04-22 21:58:36,138 - cdc_MSCD_LFK - INFO - Made 6 clusters with k=1\n",
      "INFO:cdc_MSCD_LFK:Made 6 clusters with k=1\n",
      "2020-04-22 21:58:36,139 - cdc_MSCD_LFK - INFO - Made 6 clusters with k=2\n",
      "INFO:cdc_MSCD_LFK:Made 6 clusters with k=2\n",
      "2020-04-22 21:58:36,142 - cdc_MSCD_LFK - INFO - Made 2 clusters in 0.009826 seconds\n",
      "INFO:cdc_MSCD_LFK:Made 2 clusters in 0.009826 seconds\n"
     ]
    },
    {
     "name": "stdout",
     "output_type": "stream",
     "text": [
      "runing  cdc_MSCD_LFK K_DoesAlgSupportWeightTestLFR_w1\n",
      "finished cdc_MSCD_LFK K_DoesAlgSupportWeightTestLFR_w1\n"
     ]
    },
    {
     "name": "stderr",
     "output_type": "stream",
     "text": [
      "2020-04-22 21:58:36,253 - cdc_MSCD_LFK - INFO - seed ignored\n",
      "INFO:cdc_MSCD_LFK:seed ignored\n",
      "2020-04-22 21:58:36,254 - cdc_MSCD_LFK - INFO - Running /opt/gct/submodules/CommunityDetectionCodes/2013-mscd -g graph.edges -w -a LFK [1.0,2]\n",
      "INFO:cdc_MSCD_LFK:Running /opt/gct/submodules/CommunityDetectionCodes/2013-mscd -g graph.edges -w -a LFK [1.0,2]\n",
      "2020-04-22 21:58:36,264 - cdc_MSCD_LFK - INFO - Made 6 clusters with k=1\n",
      "INFO:cdc_MSCD_LFK:Made 6 clusters with k=1\n",
      "2020-04-22 21:58:36,265 - cdc_MSCD_LFK - INFO - Made 6 clusters with k=2\n",
      "INFO:cdc_MSCD_LFK:Made 6 clusters with k=2\n",
      "2020-04-22 21:58:36,267 - cdc_MSCD_LFK - INFO - Made 2 clusters in 0.008125 seconds\n",
      "INFO:cdc_MSCD_LFK:Made 2 clusters in 0.008125 seconds\n"
     ]
    },
    {
     "name": "stdout",
     "output_type": "stream",
     "text": [
      "runing  cdc_MSCD_LFK K_DoesAlgSupportWeightTestLFR_uw1\n",
      "finished cdc_MSCD_LFK K_DoesAlgSupportWeightTestLFR_uw1\n"
     ]
    },
    {
     "name": "stderr",
     "output_type": "stream",
     "text": [
      "2020-04-22 21:58:36,379 - cdc_MSCD_LFK2 - INFO - seed ignored\n",
      "INFO:cdc_MSCD_LFK2:seed ignored\n",
      "2020-04-22 21:58:36,380 - cdc_MSCD_LFK2 - INFO - Running /opt/gct/submodules/CommunityDetectionCodes/2013-mscd -g graph.edges -w -a LFK2 [1.0,2]\n",
      "INFO:cdc_MSCD_LFK2:Running /opt/gct/submodules/CommunityDetectionCodes/2013-mscd -g graph.edges -w -a LFK2 [1.0,2]\n",
      "2020-04-22 21:58:36,392 - cdc_MSCD_LFK2 - INFO - Made 5 clusters with k=1\n",
      "INFO:cdc_MSCD_LFK2:Made 5 clusters with k=1\n",
      "2020-04-22 21:58:36,394 - cdc_MSCD_LFK2 - INFO - Made 5 clusters with k=2\n",
      "INFO:cdc_MSCD_LFK2:Made 5 clusters with k=2\n",
      "2020-04-22 21:58:36,396 - cdc_MSCD_LFK2 - INFO - Made 2 clusters in 0.010982 seconds\n",
      "INFO:cdc_MSCD_LFK2:Made 2 clusters in 0.010982 seconds\n"
     ]
    },
    {
     "name": "stdout",
     "output_type": "stream",
     "text": [
      "runing  cdc_MSCD_LFK2 K_DoesAlgSupportWeightTestLFR_w1\n",
      "finished cdc_MSCD_LFK2 K_DoesAlgSupportWeightTestLFR_w1\n"
     ]
    },
    {
     "name": "stderr",
     "output_type": "stream",
     "text": [
      "2020-04-22 21:58:36,508 - cdc_MSCD_LFK2 - INFO - seed ignored\n",
      "INFO:cdc_MSCD_LFK2:seed ignored\n",
      "2020-04-22 21:58:36,509 - cdc_MSCD_LFK2 - INFO - Running /opt/gct/submodules/CommunityDetectionCodes/2013-mscd -g graph.edges -w -a LFK2 [1.0,2]\n",
      "INFO:cdc_MSCD_LFK2:Running /opt/gct/submodules/CommunityDetectionCodes/2013-mscd -g graph.edges -w -a LFK2 [1.0,2]\n",
      "2020-04-22 21:58:36,520 - cdc_MSCD_LFK2 - INFO - Made 6 clusters with k=1\n",
      "INFO:cdc_MSCD_LFK2:Made 6 clusters with k=1\n",
      "2020-04-22 21:58:36,522 - cdc_MSCD_LFK2 - INFO - Made 6 clusters with k=2\n",
      "INFO:cdc_MSCD_LFK2:Made 6 clusters with k=2\n",
      "2020-04-22 21:58:36,524 - cdc_MSCD_LFK2 - INFO - Made 2 clusters in 0.009582 seconds\n",
      "INFO:cdc_MSCD_LFK2:Made 2 clusters in 0.009582 seconds\n"
     ]
    },
    {
     "name": "stdout",
     "output_type": "stream",
     "text": [
      "runing  cdc_MSCD_LFK2 K_DoesAlgSupportWeightTestLFR_uw1\n",
      "finished cdc_MSCD_LFK2 K_DoesAlgSupportWeightTestLFR_uw1\n"
     ]
    },
    {
     "name": "stderr",
     "output_type": "stream",
     "text": [
      "2020-04-22 21:58:36,635 - cdc_MSCD_RB - INFO - seed ignored\n",
      "INFO:cdc_MSCD_RB:seed ignored\n",
      "2020-04-22 21:58:36,637 - cdc_MSCD_RB - INFO - Running /opt/gct/submodules/CommunityDetectionCodes/2013-mscd -g graph.edges -w -a RB [1.0,2]\n",
      "INFO:cdc_MSCD_RB:Running /opt/gct/submodules/CommunityDetectionCodes/2013-mscd -g graph.edges -w -a RB [1.0,2]\n",
      "2020-04-22 21:58:36,645 - cdc_MSCD_RB - INFO - Made 6 clusters with k=1\n",
      "INFO:cdc_MSCD_RB:Made 6 clusters with k=1\n",
      "2020-04-22 21:58:36,646 - cdc_MSCD_RB - INFO - Made 6 clusters with k=2\n",
      "INFO:cdc_MSCD_RB:Made 6 clusters with k=2\n",
      "2020-04-22 21:58:36,649 - cdc_MSCD_RB - INFO - Made 2 clusters in 0.006914 seconds\n",
      "INFO:cdc_MSCD_RB:Made 2 clusters in 0.006914 seconds\n"
     ]
    },
    {
     "name": "stdout",
     "output_type": "stream",
     "text": [
      "runing  cdc_MSCD_RB K_DoesAlgSupportWeightTestLFR_w1\n",
      "finished cdc_MSCD_RB K_DoesAlgSupportWeightTestLFR_w1\n"
     ]
    },
    {
     "name": "stderr",
     "output_type": "stream",
     "text": [
      "2020-04-22 21:58:36,759 - cdc_MSCD_RB - INFO - seed ignored\n",
      "INFO:cdc_MSCD_RB:seed ignored\n",
      "2020-04-22 21:58:36,761 - cdc_MSCD_RB - INFO - Running /opt/gct/submodules/CommunityDetectionCodes/2013-mscd -g graph.edges -w -a RB [1.0,2]\n",
      "INFO:cdc_MSCD_RB:Running /opt/gct/submodules/CommunityDetectionCodes/2013-mscd -g graph.edges -w -a RB [1.0,2]\n",
      "2020-04-22 21:58:36,769 - cdc_MSCD_RB - INFO - Made 6 clusters with k=1\n",
      "INFO:cdc_MSCD_RB:Made 6 clusters with k=1\n",
      "2020-04-22 21:58:36,770 - cdc_MSCD_RB - INFO - Made 6 clusters with k=2\n",
      "INFO:cdc_MSCD_RB:Made 6 clusters with k=2\n",
      "2020-04-22 21:58:36,772 - cdc_MSCD_RB - INFO - Made 2 clusters in 0.006676 seconds\n",
      "INFO:cdc_MSCD_RB:Made 2 clusters in 0.006676 seconds\n"
     ]
    },
    {
     "name": "stdout",
     "output_type": "stream",
     "text": [
      "runing  cdc_MSCD_RB K_DoesAlgSupportWeightTestLFR_uw1\n",
      "finished cdc_MSCD_RB K_DoesAlgSupportWeightTestLFR_uw1\n"
     ]
    },
    {
     "name": "stderr",
     "output_type": "stream",
     "text": [
      "2020-04-22 21:58:36,883 - cdc_MSCD_RN - INFO - seed ignored\n",
      "INFO:cdc_MSCD_RN:seed ignored\n",
      "2020-04-22 21:58:36,885 - cdc_MSCD_RN - INFO - Running /opt/gct/submodules/CommunityDetectionCodes/2013-mscd -g graph.edges -w -a RN [1.0,2]\n",
      "INFO:cdc_MSCD_RN:Running /opt/gct/submodules/CommunityDetectionCodes/2013-mscd -g graph.edges -w -a RN [1.0,2]\n",
      "2020-04-22 21:58:36,894 - cdc_MSCD_RN - INFO - Made 20 clusters with k=1\n",
      "INFO:cdc_MSCD_RN:Made 20 clusters with k=1\n",
      "2020-04-22 21:58:36,896 - cdc_MSCD_RN - INFO - Made 20 clusters with k=2\n",
      "INFO:cdc_MSCD_RN:Made 20 clusters with k=2\n",
      "2020-04-22 21:58:36,898 - cdc_MSCD_RN - INFO - Made 2 clusters in 0.007940 seconds\n",
      "INFO:cdc_MSCD_RN:Made 2 clusters in 0.007940 seconds\n"
     ]
    },
    {
     "name": "stdout",
     "output_type": "stream",
     "text": [
      "runing  cdc_MSCD_RN K_DoesAlgSupportWeightTestLFR_w1\n",
      "finished cdc_MSCD_RN K_DoesAlgSupportWeightTestLFR_w1\n"
     ]
    },
    {
     "name": "stderr",
     "output_type": "stream",
     "text": [
      "2020-04-22 21:58:37,009 - cdc_MSCD_RN - INFO - seed ignored\n",
      "INFO:cdc_MSCD_RN:seed ignored\n",
      "2020-04-22 21:58:37,011 - cdc_MSCD_RN - INFO - Running /opt/gct/submodules/CommunityDetectionCodes/2013-mscd -g graph.edges -w -a RN [1.0,2]\n",
      "INFO:cdc_MSCD_RN:Running /opt/gct/submodules/CommunityDetectionCodes/2013-mscd -g graph.edges -w -a RN [1.0,2]\n",
      "2020-04-22 21:58:37,019 - cdc_MSCD_RN - INFO - Made 21 clusters with k=1\n",
      "INFO:cdc_MSCD_RN:Made 21 clusters with k=1\n",
      "2020-04-22 21:58:37,021 - cdc_MSCD_RN - INFO - Made 21 clusters with k=2\n",
      "INFO:cdc_MSCD_RN:Made 21 clusters with k=2\n",
      "2020-04-22 21:58:37,023 - cdc_MSCD_RN - INFO - Made 2 clusters in 0.007469 seconds\n",
      "INFO:cdc_MSCD_RN:Made 2 clusters in 0.007469 seconds\n"
     ]
    },
    {
     "name": "stdout",
     "output_type": "stream",
     "text": [
      "runing  cdc_MSCD_RN K_DoesAlgSupportWeightTestLFR_uw1\n",
      "finished cdc_MSCD_RN K_DoesAlgSupportWeightTestLFR_uw1\n"
     ]
    },
    {
     "name": "stderr",
     "output_type": "stream",
     "text": [
      "2020-04-22 21:58:37,134 - cdc_MSCD_SO - INFO - seed ignored\n",
      "INFO:cdc_MSCD_SO:seed ignored\n",
      "2020-04-22 21:58:37,136 - cdc_MSCD_SO - INFO - Running /opt/gct/submodules/CommunityDetectionCodes/2013-mscd -g graph.edges -w -a SO [1.0,2]\n",
      "INFO:cdc_MSCD_SO:Running /opt/gct/submodules/CommunityDetectionCodes/2013-mscd -g graph.edges -w -a SO [1.0,2]\n",
      "2020-04-22 21:58:37,148 - cdc_MSCD_SO - INFO - Made 6 clusters with k=1\n",
      "INFO:cdc_MSCD_SO:Made 6 clusters with k=1\n",
      "2020-04-22 21:58:37,150 - cdc_MSCD_SO - INFO - Made 6 clusters with k=2\n",
      "INFO:cdc_MSCD_SO:Made 6 clusters with k=2\n",
      "2020-04-22 21:58:37,151 - cdc_MSCD_SO - INFO - Made 2 clusters in 0.010575 seconds\n",
      "INFO:cdc_MSCD_SO:Made 2 clusters in 0.010575 seconds\n"
     ]
    },
    {
     "name": "stdout",
     "output_type": "stream",
     "text": [
      "runing  cdc_MSCD_SO K_DoesAlgSupportWeightTestLFR_w1\n",
      "finished cdc_MSCD_SO K_DoesAlgSupportWeightTestLFR_w1\n"
     ]
    },
    {
     "name": "stderr",
     "output_type": "stream",
     "text": [
      "2020-04-22 21:58:37,263 - cdc_MSCD_SO - INFO - seed ignored\n",
      "INFO:cdc_MSCD_SO:seed ignored\n",
      "2020-04-22 21:58:37,264 - cdc_MSCD_SO - INFO - Running /opt/gct/submodules/CommunityDetectionCodes/2013-mscd -g graph.edges -w -a SO [1.0,2]\n",
      "INFO:cdc_MSCD_SO:Running /opt/gct/submodules/CommunityDetectionCodes/2013-mscd -g graph.edges -w -a SO [1.0,2]\n",
      "2020-04-22 21:58:37,275 - cdc_MSCD_SO - INFO - Made 6 clusters with k=1\n",
      "INFO:cdc_MSCD_SO:Made 6 clusters with k=1\n",
      "2020-04-22 21:58:37,277 - cdc_MSCD_SO - INFO - Made 6 clusters with k=2\n",
      "INFO:cdc_MSCD_SO:Made 6 clusters with k=2\n",
      "2020-04-22 21:58:37,279 - cdc_MSCD_SO - INFO - Made 2 clusters in 0.009628 seconds\n",
      "INFO:cdc_MSCD_SO:Made 2 clusters in 0.009628 seconds\n"
     ]
    },
    {
     "name": "stdout",
     "output_type": "stream",
     "text": [
      "runing  cdc_MSCD_SO K_DoesAlgSupportWeightTestLFR_uw1\n",
      "finished cdc_MSCD_SO K_DoesAlgSupportWeightTestLFR_uw1\n"
     ]
    },
    {
     "name": "stderr",
     "output_type": "stream",
     "text": [
      "2020-04-22 21:58:37,390 - cdc_MSCD_SOM - INFO - seed ignored\n",
      "INFO:cdc_MSCD_SOM:seed ignored\n",
      "2020-04-22 21:58:37,392 - cdc_MSCD_SOM - INFO - Running /opt/gct/submodules/CommunityDetectionCodes/2013-mscd -g graph.edges -w -a SOM [1.0,2]\n",
      "INFO:cdc_MSCD_SOM:Running /opt/gct/submodules/CommunityDetectionCodes/2013-mscd -g graph.edges -w -a SOM [1.0,2]\n",
      "2020-04-22 21:58:37,403 - cdc_MSCD_SOM - INFO - Made 6 clusters with k=1\n",
      "INFO:cdc_MSCD_SOM:Made 6 clusters with k=1\n",
      "2020-04-22 21:58:37,405 - cdc_MSCD_SOM - INFO - Made 6 clusters with k=2\n",
      "INFO:cdc_MSCD_SOM:Made 6 clusters with k=2\n",
      "2020-04-22 21:58:37,407 - cdc_MSCD_SOM - INFO - Made 2 clusters in 0.010182 seconds\n",
      "INFO:cdc_MSCD_SOM:Made 2 clusters in 0.010182 seconds\n"
     ]
    },
    {
     "name": "stdout",
     "output_type": "stream",
     "text": [
      "runing  cdc_MSCD_SOM K_DoesAlgSupportWeightTestLFR_w1\n",
      "finished cdc_MSCD_SOM K_DoesAlgSupportWeightTestLFR_w1\n"
     ]
    },
    {
     "name": "stderr",
     "output_type": "stream",
     "text": [
      "2020-04-22 21:58:37,518 - cdc_MSCD_SOM - INFO - seed ignored\n",
      "INFO:cdc_MSCD_SOM:seed ignored\n",
      "2020-04-22 21:58:37,520 - cdc_MSCD_SOM - INFO - Running /opt/gct/submodules/CommunityDetectionCodes/2013-mscd -g graph.edges -w -a SOM [1.0,2]\n",
      "INFO:cdc_MSCD_SOM:Running /opt/gct/submodules/CommunityDetectionCodes/2013-mscd -g graph.edges -w -a SOM [1.0,2]\n",
      "2020-04-22 21:58:37,532 - cdc_MSCD_SOM - INFO - Made 6 clusters with k=1\n",
      "INFO:cdc_MSCD_SOM:Made 6 clusters with k=1\n",
      "2020-04-22 21:58:37,533 - cdc_MSCD_SOM - INFO - Made 6 clusters with k=2\n",
      "INFO:cdc_MSCD_SOM:Made 6 clusters with k=2\n",
      "2020-04-22 21:58:37,535 - cdc_MSCD_SOM - INFO - Made 2 clusters in 0.010196 seconds\n",
      "INFO:cdc_MSCD_SOM:Made 2 clusters in 0.010196 seconds\n"
     ]
    },
    {
     "name": "stdout",
     "output_type": "stream",
     "text": [
      "runing  cdc_MSCD_SOM K_DoesAlgSupportWeightTestLFR_uw1\n",
      "finished cdc_MSCD_SOM K_DoesAlgSupportWeightTestLFR_uw1\n"
     ]
    },
    {
     "name": "stderr",
     "output_type": "stream",
     "text": [
      "2020-04-22 21:58:37,647 - cdc_ParCPM - INFO - seed ignored\n",
      "INFO:cdc_ParCPM:seed ignored\n",
      "2020-04-22 21:58:37,649 - cdc_ParCPM - INFO - Running /opt/gct/submodules/CommunityDetectionCodes/max-clique edges.txt\n",
      "INFO:cdc_ParCPM:Running /opt/gct/submodules/CommunityDetectionCodes/max-clique edges.txt\n",
      "2020-04-22 21:58:37,658 - cdc_ParCPM - INFO - Take 0.008287906646728516 seconds for step 1\n",
      "INFO:cdc_ParCPM:Take 0.008287906646728516 seconds for step 1\n",
      "2020-04-22 21:58:37,659 - cdc_ParCPM - INFO - Running /opt/gct/submodules/CommunityDetectionCodes/2012-ParCPM -P 7 -W 30 edges.txt.mcliques\n",
      "INFO:cdc_ParCPM:Running /opt/gct/submodules/CommunityDetectionCodes/2012-ParCPM -P 7 -W 30 edges.txt.mcliques\n",
      "2020-04-22 21:58:37,674 - cdc_ParCPM - INFO - Made 1 clusters with k=3\n",
      "INFO:cdc_ParCPM:Made 1 clusters with k=3\n",
      "2020-04-22 21:58:37,676 - cdc_ParCPM - INFO - Made 6 clusters with k=4\n",
      "INFO:cdc_ParCPM:Made 6 clusters with k=4\n",
      "2020-04-22 21:58:37,678 - cdc_ParCPM - INFO - Made 6 clusters with k=6\n",
      "INFO:cdc_ParCPM:Made 6 clusters with k=6\n",
      "2020-04-22 21:58:37,681 - cdc_ParCPM - INFO - Made 6 clusters with k=7\n",
      "INFO:cdc_ParCPM:Made 6 clusters with k=7\n",
      "2020-04-22 21:58:37,683 - cdc_ParCPM - INFO - Made 5 clusters with k=8\n",
      "INFO:cdc_ParCPM:Made 5 clusters with k=8\n",
      "2020-04-22 21:58:37,685 - cdc_ParCPM - INFO - Made 6 clusters with k=5\n",
      "INFO:cdc_ParCPM:Made 6 clusters with k=5\n",
      "2020-04-22 21:58:37,686 - cdc_ParCPM - INFO - Made 2 clusters with k=10\n",
      "INFO:cdc_ParCPM:Made 2 clusters with k=10\n",
      "2020-04-22 21:58:37,687 - cdc_ParCPM - INFO - Made 1 clusters with k=11\n",
      "INFO:cdc_ParCPM:Made 1 clusters with k=11\n",
      "2020-04-22 21:58:37,689 - cdc_ParCPM - INFO - Made 5 clusters with k=9\n",
      "INFO:cdc_ParCPM:Made 5 clusters with k=9\n",
      "2020-04-22 21:58:37,691 - cdc_ParCPM - INFO - Made 9 clusters in 0.008390 seconds\n",
      "INFO:cdc_ParCPM:Made 9 clusters in 0.008390 seconds\n"
     ]
    },
    {
     "name": "stdout",
     "output_type": "stream",
     "text": [
      "runing  cdc_ParCPM K_DoesAlgSupportWeightTestLFR_w1\n",
      "finished cdc_ParCPM K_DoesAlgSupportWeightTestLFR_w1\n"
     ]
    },
    {
     "name": "stderr",
     "output_type": "stream",
     "text": [
      "2020-04-22 21:58:37,804 - cdc_ParCPM - INFO - seed ignored\n",
      "INFO:cdc_ParCPM:seed ignored\n",
      "2020-04-22 21:58:37,806 - cdc_ParCPM - INFO - Running /opt/gct/submodules/CommunityDetectionCodes/max-clique edges.txt\n",
      "INFO:cdc_ParCPM:Running /opt/gct/submodules/CommunityDetectionCodes/max-clique edges.txt\n",
      "2020-04-22 21:58:37,815 - cdc_ParCPM - INFO - Take 0.007922172546386719 seconds for step 1\n",
      "INFO:cdc_ParCPM:Take 0.007922172546386719 seconds for step 1\n",
      "2020-04-22 21:58:37,816 - cdc_ParCPM - INFO - Running /opt/gct/submodules/CommunityDetectionCodes/2012-ParCPM -P 7 -W 30 edges.txt.mcliques\n",
      "INFO:cdc_ParCPM:Running /opt/gct/submodules/CommunityDetectionCodes/2012-ParCPM -P 7 -W 30 edges.txt.mcliques\n",
      "2020-04-22 21:58:37,830 - cdc_ParCPM - INFO - Made 1 clusters with k=3\n",
      "INFO:cdc_ParCPM:Made 1 clusters with k=3\n",
      "2020-04-22 21:58:37,833 - cdc_ParCPM - INFO - Made 6 clusters with k=4\n",
      "INFO:cdc_ParCPM:Made 6 clusters with k=4\n",
      "2020-04-22 21:58:37,835 - cdc_ParCPM - INFO - Made 6 clusters with k=5\n",
      "INFO:cdc_ParCPM:Made 6 clusters with k=5\n",
      "2020-04-22 21:58:37,837 - cdc_ParCPM - INFO - Made 6 clusters with k=7\n",
      "INFO:cdc_ParCPM:Made 6 clusters with k=7\n",
      "2020-04-22 21:58:37,839 - cdc_ParCPM - INFO - Made 5 clusters with k=8\n",
      "INFO:cdc_ParCPM:Made 5 clusters with k=8\n",
      "2020-04-22 21:58:37,841 - cdc_ParCPM - INFO - Made 2 clusters with k=10\n",
      "INFO:cdc_ParCPM:Made 2 clusters with k=10\n",
      "2020-04-22 21:58:37,843 - cdc_ParCPM - INFO - Made 6 clusters with k=6\n",
      "INFO:cdc_ParCPM:Made 6 clusters with k=6\n",
      "2020-04-22 21:58:37,844 - cdc_ParCPM - INFO - Made 1 clusters with k=11\n",
      "INFO:cdc_ParCPM:Made 1 clusters with k=11\n",
      "2020-04-22 21:58:37,846 - cdc_ParCPM - INFO - Made 5 clusters with k=9\n"
     ]
    },
    {
     "name": "stdout",
     "output_type": "stream",
     "text": [
      "runing  cdc_ParCPM K_DoesAlgSupportWeightTestLFR_uw1\n"
     ]
    },
    {
     "name": "stderr",
     "output_type": "stream",
     "text": [
      "INFO:cdc_ParCPM:Made 5 clusters with k=9\n",
      "2020-04-22 21:58:37,848 - cdc_ParCPM - INFO - Made 9 clusters in 0.008285 seconds\n",
      "INFO:cdc_ParCPM:Made 9 clusters in 0.008285 seconds\n"
     ]
    },
    {
     "name": "stdout",
     "output_type": "stream",
     "text": [
      "finished cdc_ParCPM K_DoesAlgSupportWeightTestLFR_uw1\n"
     ]
    },
    {
     "name": "stderr",
     "output_type": "stream",
     "text": [
      "2020-04-22 21:58:37,961 - Dataset:K_DoesAlgSupportWeightTestLFR_w1 - INFO - reading /data/data/K_DoesAlgSupportWeightTestLFR_w1/edges.parq\n",
      "INFO:Dataset:K_DoesAlgSupportWeightTestLFR_w1:reading /data/data/K_DoesAlgSupportWeightTestLFR_w1/edges.parq\n",
      "2020-04-22 21:58:37,967 - cdc_SVINET - INFO - Running /opt/gct/submodules/CommunityDetectionCodes/2013-svinet -file edges.txt -n 128 -k 128 -max-iterations 1000 -weighted -findk && (cat n*findk/communities_size.txt | wc -l  > num_cluster.txt) \n",
      "INFO:cdc_SVINET:Running /opt/gct/submodules/CommunityDetectionCodes/2013-svinet -file edges.txt -n 128 -k 128 -max-iterations 1000 -weighted -findk && (cat n*findk/communities_size.txt | wc -l  > num_cluster.txt) \n",
      "2020-04-22 21:58:37,993 - cdc_SVINET - INFO - Find k=6  in 0.025325 seconds\n",
      "INFO:cdc_SVINET:Find k=6  in 0.025325 seconds\n",
      "2020-04-22 21:58:37,996 - cdc_SVINET - INFO - Running /opt/gct/submodules/CommunityDetectionCodes/2013-svinet -file edges.txt -n 128 -k 6 -weighted -link-sampling -max-iterations 1000 -seed 123\n",
      "INFO:cdc_SVINET:Running /opt/gct/submodules/CommunityDetectionCodes/2013-svinet -file edges.txt -n 128 -k 6 -weighted -link-sampling -max-iterations 1000 -seed 123\n"
     ]
    },
    {
     "name": "stdout",
     "output_type": "stream",
     "text": [
      "runing  cdc_SVINET K_DoesAlgSupportWeightTestLFR_w1\n"
     ]
    },
    {
     "name": "stderr",
     "output_type": "stream",
     "text": [
      "2020-04-22 21:58:40,786 - cdc_SVINET - INFO - read output form /tmp/tmp_vsoim1s/n128-k6-mmsb-seed123-linksampling/communities.txt\n",
      "INFO:cdc_SVINET:read output form /tmp/tmp_vsoim1s/n128-k6-mmsb-seed123-linksampling/communities.txt\n",
      "2020-04-22 21:58:40,789 - cdc_SVINET - INFO - Made 6 clusters in 2.788803 seconds\n",
      "INFO:cdc_SVINET:Made 6 clusters in 2.788803 seconds\n"
     ]
    },
    {
     "name": "stdout",
     "output_type": "stream",
     "text": [
      "finished cdc_SVINET K_DoesAlgSupportWeightTestLFR_w1\n"
     ]
    },
    {
     "name": "stderr",
     "output_type": "stream",
     "text": [
      "2020-04-22 21:58:40,902 - Dataset:K_DoesAlgSupportWeightTestLFR_uw1 - INFO - reading /data/data/K_DoesAlgSupportWeightTestLFR_uw1/edges.parq\n",
      "INFO:Dataset:K_DoesAlgSupportWeightTestLFR_uw1:reading /data/data/K_DoesAlgSupportWeightTestLFR_uw1/edges.parq\n",
      "2020-04-22 21:58:40,907 - cdc_SVINET - INFO - Running /opt/gct/submodules/CommunityDetectionCodes/2013-svinet -file edges.txt -n 128 -k 128 -max-iterations 1000 -findk && (cat n*findk/communities_size.txt | wc -l  > num_cluster.txt) \n",
      "INFO:cdc_SVINET:Running /opt/gct/submodules/CommunityDetectionCodes/2013-svinet -file edges.txt -n 128 -k 128 -max-iterations 1000 -findk && (cat n*findk/communities_size.txt | wc -l  > num_cluster.txt) \n",
      "2020-04-22 21:58:40,932 - cdc_SVINET - INFO - Find k=6  in 0.024067 seconds\n",
      "INFO:cdc_SVINET:Find k=6  in 0.024067 seconds\n",
      "2020-04-22 21:58:40,934 - cdc_SVINET - INFO - Running /opt/gct/submodules/CommunityDetectionCodes/2013-svinet -file edges.txt -n 128 -k 6 -link-sampling -max-iterations 1000 -seed 123\n",
      "INFO:cdc_SVINET:Running /opt/gct/submodules/CommunityDetectionCodes/2013-svinet -file edges.txt -n 128 -k 6 -link-sampling -max-iterations 1000 -seed 123\n"
     ]
    },
    {
     "name": "stdout",
     "output_type": "stream",
     "text": [
      "runing  cdc_SVINET K_DoesAlgSupportWeightTestLFR_uw1\n"
     ]
    },
    {
     "name": "stderr",
     "output_type": "stream",
     "text": [
      "2020-04-22 21:58:43,715 - cdc_SVINET - INFO - read output form /tmp/tmpw9zb5tw2/n128-k6-mmsb-seed123-linksampling/communities.txt\n",
      "INFO:cdc_SVINET:read output form /tmp/tmpw9zb5tw2/n128-k6-mmsb-seed123-linksampling/communities.txt\n",
      "2020-04-22 21:58:43,717 - cdc_SVINET - INFO - Made 6 clusters in 2.779025 seconds\n",
      "INFO:cdc_SVINET:Made 6 clusters in 2.779025 seconds\n"
     ]
    },
    {
     "name": "stdout",
     "output_type": "stream",
     "text": [
      "finished cdc_SVINET K_DoesAlgSupportWeightTestLFR_uw1\n"
     ]
    },
    {
     "name": "stderr",
     "output_type": "stream",
     "text": [
      "2020-04-22 21:58:43,830 - cdc_TopGC - INFO - seed ignored\n",
      "INFO:cdc_TopGC:seed ignored\n",
      "2020-04-22 21:58:43,832 - Dataset:K_DoesAlgSupportWeightTestLFR_w1 - INFO - Running cat /data/data/K_DoesAlgSupportWeightTestLFR_w1/edges.txt|sort -k1,1 -k2,2 -n | /opt/gct/submodules/CommunityDetectionCodes/mkidx >  /data/data/K_DoesAlgSupportWeightTestLFR_w1/topgc.txt || rm /data/data/K_DoesAlgSupportWeightTestLFR_w1/topgc.txt\n",
      "INFO:Dataset:K_DoesAlgSupportWeightTestLFR_w1:Running cat /data/data/K_DoesAlgSupportWeightTestLFR_w1/edges.txt|sort -k1,1 -k2,2 -n | /opt/gct/submodules/CommunityDetectionCodes/mkidx >  /data/data/K_DoesAlgSupportWeightTestLFR_w1/topgc.txt || rm /data/data/K_DoesAlgSupportWeightTestLFR_w1/topgc.txt\n",
      "2020-04-22 21:58:43,842 - cdc_TopGC - INFO - Running java -cp /opt/gct/submodules/CommunityDetectionCodes/topgc-1.0-SNAPSHOT.jar TopGC -i edges.topgc\n",
      "INFO:cdc_TopGC:Running java -cp /opt/gct/submodules/CommunityDetectionCodes/topgc-1.0-SNAPSHOT.jar TopGC -i edges.topgc\n"
     ]
    },
    {
     "name": "stdout",
     "output_type": "stream",
     "text": [
      "runing  cdc_TopGC K_DoesAlgSupportWeightTestLFR_w1\n"
     ]
    },
    {
     "name": "stderr",
     "output_type": "stream",
     "text": [
      "2020-04-22 21:58:44,549 - cdc_TopGC - INFO - Made 8 clusters in 0.705689 seconds\n",
      "INFO:cdc_TopGC:Made 8 clusters in 0.705689 seconds\n"
     ]
    },
    {
     "name": "stdout",
     "output_type": "stream",
     "text": [
      "finished cdc_TopGC K_DoesAlgSupportWeightTestLFR_w1\n"
     ]
    },
    {
     "name": "stderr",
     "output_type": "stream",
     "text": [
      "2020-04-22 21:58:44,662 - cdc_TopGC - INFO - seed ignored\n",
      "INFO:cdc_TopGC:seed ignored\n",
      "2020-04-22 21:58:44,663 - Dataset:K_DoesAlgSupportWeightTestLFR_uw1 - INFO - Running cat /data/data/K_DoesAlgSupportWeightTestLFR_uw1/edges.txt|sort -k1,1 -k2,2 -n | /opt/gct/submodules/CommunityDetectionCodes/mkidx >  /data/data/K_DoesAlgSupportWeightTestLFR_uw1/topgc.txt || rm /data/data/K_DoesAlgSupportWeightTestLFR_uw1/topgc.txt\n",
      "INFO:Dataset:K_DoesAlgSupportWeightTestLFR_uw1:Running cat /data/data/K_DoesAlgSupportWeightTestLFR_uw1/edges.txt|sort -k1,1 -k2,2 -n | /opt/gct/submodules/CommunityDetectionCodes/mkidx >  /data/data/K_DoesAlgSupportWeightTestLFR_uw1/topgc.txt || rm /data/data/K_DoesAlgSupportWeightTestLFR_uw1/topgc.txt\n",
      "2020-04-22 21:58:44,672 - cdc_TopGC - INFO - Running java -cp /opt/gct/submodules/CommunityDetectionCodes/topgc-1.0-SNAPSHOT.jar TopGC -i edges.topgc\n",
      "INFO:cdc_TopGC:Running java -cp /opt/gct/submodules/CommunityDetectionCodes/topgc-1.0-SNAPSHOT.jar TopGC -i edges.topgc\n"
     ]
    },
    {
     "name": "stdout",
     "output_type": "stream",
     "text": [
      "runing  cdc_TopGC K_DoesAlgSupportWeightTestLFR_uw1\n"
     ]
    },
    {
     "name": "stderr",
     "output_type": "stream",
     "text": [
      "2020-04-22 21:58:45,349 - cdc_TopGC - INFO - Made 15 clusters in 0.675652 seconds\n",
      "INFO:cdc_TopGC:Made 15 clusters in 0.675652 seconds\n"
     ]
    },
    {
     "name": "stdout",
     "output_type": "stream",
     "text": [
      "finished cdc_TopGC K_DoesAlgSupportWeightTestLFR_uw1\n"
     ]
    },
    {
     "name": "stderr",
     "output_type": "stream",
     "text": [
      "2020-04-22 21:58:45,463 - cdc_clique_modularity - INFO - seed ignored\n",
      "INFO:cdc_clique_modularity:seed ignored\n",
      "2020-04-22 21:58:45,464 - cdc_clique_modularity - INFO - Running java -cp /opt/gct/submodules/CommunityDetectionCodes/conga-1.0-SNAPSHOT.jar clique_modularity.CM edges.txt -m clique_modularity.algorithm.BK.BK -c 10\n",
      "INFO:cdc_clique_modularity:Running java -cp /opt/gct/submodules/CommunityDetectionCodes/conga-1.0-SNAPSHOT.jar clique_modularity.CM edges.txt -m clique_modularity.algorithm.BK.BK -c 10\n"
     ]
    },
    {
     "name": "stdout",
     "output_type": "stream",
     "text": [
      "runing  cdc_clique_modularity K_DoesAlgSupportWeightTestLFR_w1\n"
     ]
    },
    {
     "name": "stderr",
     "output_type": "stream",
     "text": [
      "2020-04-22 21:58:45,734 - cdc_clique_modularity - INFO - Made 10 clusters in 0.268002 seconds\n",
      "INFO:cdc_clique_modularity:Made 10 clusters in 0.268002 seconds\n"
     ]
    },
    {
     "name": "stdout",
     "output_type": "stream",
     "text": [
      "finished cdc_clique_modularity K_DoesAlgSupportWeightTestLFR_w1\n"
     ]
    },
    {
     "name": "stderr",
     "output_type": "stream",
     "text": [
      "2020-04-22 21:58:45,847 - cdc_clique_modularity - INFO - seed ignored\n",
      "INFO:cdc_clique_modularity:seed ignored\n",
      "2020-04-22 21:58:45,848 - cdc_clique_modularity - INFO - Running java -cp /opt/gct/submodules/CommunityDetectionCodes/conga-1.0-SNAPSHOT.jar clique_modularity.CM edges.txt -m clique_modularity.algorithm.BK.BK -c 10\n",
      "INFO:cdc_clique_modularity:Running java -cp /opt/gct/submodules/CommunityDetectionCodes/conga-1.0-SNAPSHOT.jar clique_modularity.CM edges.txt -m clique_modularity.algorithm.BK.BK -c 10\n"
     ]
    },
    {
     "name": "stdout",
     "output_type": "stream",
     "text": [
      "runing  cdc_clique_modularity K_DoesAlgSupportWeightTestLFR_uw1\n"
     ]
    },
    {
     "name": "stderr",
     "output_type": "stream",
     "text": [
      "2020-04-22 21:58:46,119 - cdc_clique_modularity - INFO - Made 10 clusters in 0.269720 seconds\n",
      "INFO:cdc_clique_modularity:Made 10 clusters in 0.269720 seconds\n"
     ]
    },
    {
     "name": "stdout",
     "output_type": "stream",
     "text": [
      "finished cdc_clique_modularity K_DoesAlgSupportWeightTestLFR_uw1\n"
     ]
    },
    {
     "name": "stderr",
     "output_type": "stream",
     "text": [
      "2020-04-22 21:58:46,232 - cgcc_CGGC - INFO - Running /opt/gct/submodules/CGGC/rgmc --seed=123 --inpfmt=e --outfile=output --outfmt=l /data/data/K_DoesAlgSupportWeightTestLFR_w1/edges.txt\n",
      "INFO:cgcc_CGGC:Running /opt/gct/submodules/CGGC/rgmc --seed=123 --inpfmt=e --outfile=output --outfmt=l /data/data/K_DoesAlgSupportWeightTestLFR_w1/edges.txt\n",
      "2020-04-22 21:58:46,243 - cgcc_CGGC - INFO - Made 5 clusters in 0.008707 seconds\n",
      "INFO:cgcc_CGGC:Made 5 clusters in 0.008707 seconds\n"
     ]
    },
    {
     "name": "stdout",
     "output_type": "stream",
     "text": [
      "runing  cgcc_CGGC K_DoesAlgSupportWeightTestLFR_w1\n",
      "finished cgcc_CGGC K_DoesAlgSupportWeightTestLFR_w1\n"
     ]
    },
    {
     "name": "stderr",
     "output_type": "stream",
     "text": [
      "2020-04-22 21:58:46,353 - cgcc_CGGC - INFO - Running /opt/gct/submodules/CGGC/rgmc --seed=123 --inpfmt=e --outfile=output --outfmt=l /data/data/K_DoesAlgSupportWeightTestLFR_uw1/edges.txt\n",
      "INFO:cgcc_CGGC:Running /opt/gct/submodules/CGGC/rgmc --seed=123 --inpfmt=e --outfile=output --outfmt=l /data/data/K_DoesAlgSupportWeightTestLFR_uw1/edges.txt\n",
      "2020-04-22 21:58:46,363 - cgcc_CGGC - INFO - Made 5 clusters in 0.008160 seconds\n",
      "INFO:cgcc_CGGC:Made 5 clusters in 0.008160 seconds\n"
     ]
    },
    {
     "name": "stdout",
     "output_type": "stream",
     "text": [
      "runing  cgcc_CGGC K_DoesAlgSupportWeightTestLFR_uw1\n",
      "finished cgcc_CGGC K_DoesAlgSupportWeightTestLFR_uw1\n"
     ]
    },
    {
     "name": "stderr",
     "output_type": "stream",
     "text": [
      "2020-04-22 21:58:46,474 - dct_dlplm - WARNING - dct assumes node starts with zero and is continuous\n",
      "WARNING:dct_dlplm:dct assumes node starts with zero and is continuous\n",
      "2020-04-22 21:58:46,475 - dct_dlplm - INFO - Running /opt/gct/submodules/distributed_clustering_thrill/dlplm /tmp/tmp487gnpfd/edges.txt\n",
      "INFO:dct_dlplm:Running /opt/gct/submodules/distributed_clustering_thrill/dlplm /tmp/tmp487gnpfd/edges.txt\n"
     ]
    },
    {
     "name": "stdout",
     "output_type": "stream",
     "text": [
      "runing  dct_dlplm K_DoesAlgSupportWeightTestLFR_w1\n"
     ]
    },
    {
     "name": "stderr",
     "output_type": "stream",
     "text": [
      "2020-04-22 21:58:46,599 - dct_dlplm - INFO - Made 6 clusters in 0.107454 seconds\n",
      "INFO:dct_dlplm:Made 6 clusters in 0.107454 seconds\n"
     ]
    },
    {
     "name": "stdout",
     "output_type": "stream",
     "text": [
      "finished dct_dlplm K_DoesAlgSupportWeightTestLFR_w1\n"
     ]
    },
    {
     "name": "stderr",
     "output_type": "stream",
     "text": [
      "2020-04-22 21:58:46,712 - dct_dlplm - WARNING - dct assumes node starts with zero and is continuous\n",
      "WARNING:dct_dlplm:dct assumes node starts with zero and is continuous\n",
      "2020-04-22 21:58:46,713 - dct_dlplm - INFO - Running /opt/gct/submodules/distributed_clustering_thrill/dlplm /tmp/tmpftmkes1s/edges.txt\n",
      "INFO:dct_dlplm:Running /opt/gct/submodules/distributed_clustering_thrill/dlplm /tmp/tmpftmkes1s/edges.txt\n"
     ]
    },
    {
     "name": "stdout",
     "output_type": "stream",
     "text": [
      "runing  dct_dlplm K_DoesAlgSupportWeightTestLFR_uw1\n"
     ]
    },
    {
     "name": "stderr",
     "output_type": "stream",
     "text": [
      "2020-04-22 21:58:46,875 - dct_dlplm - INFO - Made 6 clusters in 0.145338 seconds\n",
      "INFO:dct_dlplm:Made 6 clusters in 0.145338 seconds\n"
     ]
    },
    {
     "name": "stdout",
     "output_type": "stream",
     "text": [
      "finished dct_dlplm K_DoesAlgSupportWeightTestLFR_uw1\n"
     ]
    },
    {
     "name": "stderr",
     "output_type": "stream",
     "text": [
      "2020-04-22 21:58:46,988 - dct_dlslm - WARNING - dct assumes node starts with zero and is continuous\n",
      "WARNING:dct_dlslm:dct assumes node starts with zero and is continuous\n",
      "2020-04-22 21:58:46,989 - dct_dlslm - INFO - Running /opt/gct/submodules/distributed_clustering_thrill/dlplm /tmp/tmpwi18rw_w/edges.txt\n",
      "INFO:dct_dlslm:Running /opt/gct/submodules/distributed_clustering_thrill/dlplm /tmp/tmpwi18rw_w/edges.txt\n"
     ]
    },
    {
     "name": "stdout",
     "output_type": "stream",
     "text": [
      "runing  dct_dlslm K_DoesAlgSupportWeightTestLFR_w1\n"
     ]
    },
    {
     "name": "stderr",
     "output_type": "stream",
     "text": [
      "2020-04-22 21:58:47,146 - dct_dlslm - INFO - Made 6 clusters in 0.140572 seconds\n",
      "INFO:dct_dlslm:Made 6 clusters in 0.140572 seconds\n"
     ]
    },
    {
     "name": "stdout",
     "output_type": "stream",
     "text": [
      "finished dct_dlslm K_DoesAlgSupportWeightTestLFR_w1\n"
     ]
    },
    {
     "name": "stderr",
     "output_type": "stream",
     "text": [
      "2020-04-22 21:58:47,259 - dct_dlslm - WARNING - dct assumes node starts with zero and is continuous\n",
      "WARNING:dct_dlslm:dct assumes node starts with zero and is continuous\n",
      "2020-04-22 21:58:47,260 - dct_dlslm - INFO - Running /opt/gct/submodules/distributed_clustering_thrill/dlplm /tmp/tmpdd0d1jrl/edges.txt\n",
      "INFO:dct_dlslm:Running /opt/gct/submodules/distributed_clustering_thrill/dlplm /tmp/tmpdd0d1jrl/edges.txt\n"
     ]
    },
    {
     "name": "stdout",
     "output_type": "stream",
     "text": [
      "runing  dct_dlslm K_DoesAlgSupportWeightTestLFR_uw1\n"
     ]
    },
    {
     "name": "stderr",
     "output_type": "stream",
     "text": [
      "2020-04-22 21:58:47,428 - dct_dlslm - INFO - Made 6 clusters in 0.150677 seconds\n",
      "INFO:dct_dlslm:Made 6 clusters in 0.150677 seconds\n"
     ]
    },
    {
     "name": "stdout",
     "output_type": "stream",
     "text": [
      "finished dct_dlslm K_DoesAlgSupportWeightTestLFR_uw1\n"
     ]
    },
    {
     "name": "stderr",
     "output_type": "stream",
     "text": [
      "2020-04-22 21:58:47,541 - dct_dlslm_map_eq - WARNING - dct assumes node starts with zero and is continuous\n",
      "WARNING:dct_dlslm_map_eq:dct assumes node starts with zero and is continuous\n",
      "2020-04-22 21:58:47,542 - dct_dlslm_map_eq - INFO - Running /opt/gct/submodules/distributed_clustering_thrill/dlslm_map_eq /tmp/tmpip6yt23f/edges.txt\n",
      "INFO:dct_dlslm_map_eq:Running /opt/gct/submodules/distributed_clustering_thrill/dlslm_map_eq /tmp/tmpip6yt23f/edges.txt\n"
     ]
    },
    {
     "name": "stdout",
     "output_type": "stream",
     "text": [
      "runing  dct_dlslm_map_eq K_DoesAlgSupportWeightTestLFR_w1\n"
     ]
    },
    {
     "name": "stderr",
     "output_type": "stream",
     "text": [
      "2020-04-22 21:58:47,873 - dct_dlslm_map_eq - INFO - Made 6 clusters in 0.314248 seconds\n",
      "INFO:dct_dlslm_map_eq:Made 6 clusters in 0.314248 seconds\n"
     ]
    },
    {
     "name": "stdout",
     "output_type": "stream",
     "text": [
      "finished dct_dlslm_map_eq K_DoesAlgSupportWeightTestLFR_w1\n"
     ]
    },
    {
     "name": "stderr",
     "output_type": "stream",
     "text": [
      "2020-04-22 21:58:47,986 - dct_dlslm_map_eq - WARNING - dct assumes node starts with zero and is continuous\n",
      "WARNING:dct_dlslm_map_eq:dct assumes node starts with zero and is continuous\n",
      "2020-04-22 21:58:47,987 - dct_dlslm_map_eq - INFO - Running /opt/gct/submodules/distributed_clustering_thrill/dlslm_map_eq /tmp/tmpcegacaxu/edges.txt\n",
      "INFO:dct_dlslm_map_eq:Running /opt/gct/submodules/distributed_clustering_thrill/dlslm_map_eq /tmp/tmpcegacaxu/edges.txt\n"
     ]
    },
    {
     "name": "stdout",
     "output_type": "stream",
     "text": [
      "runing  dct_dlslm_map_eq K_DoesAlgSupportWeightTestLFR_uw1\n"
     ]
    },
    {
     "name": "stderr",
     "output_type": "stream",
     "text": [
      "2020-04-22 21:58:48,329 - dct_dlslm_map_eq - INFO - Made 6 clusters in 0.325239 seconds\n",
      "INFO:dct_dlslm_map_eq:Made 6 clusters in 0.325239 seconds\n"
     ]
    },
    {
     "name": "stdout",
     "output_type": "stream",
     "text": [
      "finished dct_dlslm_map_eq K_DoesAlgSupportWeightTestLFR_uw1\n"
     ]
    },
    {
     "name": "stderr",
     "output_type": "stream",
     "text": [
      "2020-04-22 21:58:48,441 - dct_dlslm_no_contraction - WARNING - dct assumes node starts with zero and is continuous\n",
      "WARNING:dct_dlslm_no_contraction:dct assumes node starts with zero and is continuous\n",
      "2020-04-22 21:58:48,443 - dct_dlslm_no_contraction - INFO - Running /opt/gct/submodules/distributed_clustering_thrill/dlslm_no_contraction /tmp/tmpr1nxp1at/edges.txt\n",
      "INFO:dct_dlslm_no_contraction:Running /opt/gct/submodules/distributed_clustering_thrill/dlslm_no_contraction /tmp/tmpr1nxp1at/edges.txt\n"
     ]
    },
    {
     "name": "stdout",
     "output_type": "stream",
     "text": [
      "runing  dct_dlslm_no_contraction K_DoesAlgSupportWeightTestLFR_w1\n"
     ]
    },
    {
     "name": "stderr",
     "output_type": "stream",
     "text": [
      "2020-04-22 21:58:48,702 - dct_dlslm_no_contraction - INFO - Made 6 clusters in 0.242950 seconds\n",
      "INFO:dct_dlslm_no_contraction:Made 6 clusters in 0.242950 seconds\n"
     ]
    },
    {
     "name": "stdout",
     "output_type": "stream",
     "text": [
      "finished dct_dlslm_no_contraction K_DoesAlgSupportWeightTestLFR_w1\n"
     ]
    },
    {
     "name": "stderr",
     "output_type": "stream",
     "text": [
      "2020-04-22 21:58:48,815 - dct_dlslm_no_contraction - WARNING - dct assumes node starts with zero and is continuous\n",
      "WARNING:dct_dlslm_no_contraction:dct assumes node starts with zero and is continuous\n",
      "2020-04-22 21:58:48,816 - dct_dlslm_no_contraction - INFO - Running /opt/gct/submodules/distributed_clustering_thrill/dlslm_no_contraction /tmp/tmpe8sitdja/edges.txt\n",
      "INFO:dct_dlslm_no_contraction:Running /opt/gct/submodules/distributed_clustering_thrill/dlslm_no_contraction /tmp/tmpe8sitdja/edges.txt\n"
     ]
    },
    {
     "name": "stdout",
     "output_type": "stream",
     "text": [
      "runing  dct_dlslm_no_contraction K_DoesAlgSupportWeightTestLFR_uw1\n"
     ]
    },
    {
     "name": "stderr",
     "output_type": "stream",
     "text": [
      "2020-04-22 21:58:49,143 - dct_dlslm_no_contraction - INFO - Made 6 clusters in 0.310891 seconds\n",
      "INFO:dct_dlslm_no_contraction:Made 6 clusters in 0.310891 seconds\n"
     ]
    },
    {
     "name": "stdout",
     "output_type": "stream",
     "text": [
      "finished dct_dlslm_no_contraction K_DoesAlgSupportWeightTestLFR_uw1\n"
     ]
    },
    {
     "name": "stderr",
     "output_type": "stream",
     "text": [
      "2020-04-22 21:58:49,256 - dct_dlslm_with_seq - WARNING - dct assumes node starts with zero and is continuous\n",
      "WARNING:dct_dlslm_with_seq:dct assumes node starts with zero and is continuous\n",
      "2020-04-22 21:58:49,257 - dct_dlslm_with_seq - INFO - Running /opt/gct/submodules/distributed_clustering_thrill/dlslm_with_seq /tmp/tmpakd_mbed/edges.txt\n",
      "INFO:dct_dlslm_with_seq:Running /opt/gct/submodules/distributed_clustering_thrill/dlslm_with_seq /tmp/tmpakd_mbed/edges.txt\n"
     ]
    },
    {
     "name": "stdout",
     "output_type": "stream",
     "text": [
      "runing  dct_dlslm_with_seq K_DoesAlgSupportWeightTestLFR_w1\n"
     ]
    },
    {
     "name": "stderr",
     "output_type": "stream",
     "text": [
      "2020-04-22 21:58:49,403 - dct_dlslm_with_seq - INFO - Made 6 clusters in 0.129532 seconds\n",
      "INFO:dct_dlslm_with_seq:Made 6 clusters in 0.129532 seconds\n"
     ]
    },
    {
     "name": "stdout",
     "output_type": "stream",
     "text": [
      "finished dct_dlslm_with_seq K_DoesAlgSupportWeightTestLFR_w1\n"
     ]
    },
    {
     "name": "stderr",
     "output_type": "stream",
     "text": [
      "2020-04-22 21:58:49,515 - dct_dlslm_with_seq - WARNING - dct assumes node starts with zero and is continuous\n",
      "WARNING:dct_dlslm_with_seq:dct assumes node starts with zero and is continuous\n",
      "2020-04-22 21:58:49,517 - dct_dlslm_with_seq - INFO - Running /opt/gct/submodules/distributed_clustering_thrill/dlslm_with_seq /tmp/tmpi_c9o4hd/edges.txt\n",
      "INFO:dct_dlslm_with_seq:Running /opt/gct/submodules/distributed_clustering_thrill/dlslm_with_seq /tmp/tmpi_c9o4hd/edges.txt\n"
     ]
    },
    {
     "name": "stdout",
     "output_type": "stream",
     "text": [
      "runing  dct_dlslm_with_seq K_DoesAlgSupportWeightTestLFR_uw1\n"
     ]
    },
    {
     "name": "stderr",
     "output_type": "stream",
     "text": [
      "2020-04-22 21:58:49,671 - dct_dlslm_with_seq - INFO - Made 6 clusters in 0.138065 seconds\n",
      "INFO:dct_dlslm_with_seq:Made 6 clusters in 0.138065 seconds\n"
     ]
    },
    {
     "name": "stdout",
     "output_type": "stream",
     "text": [
      "finished dct_dlslm_with_seq K_DoesAlgSupportWeightTestLFR_uw1\n"
     ]
    },
    {
     "name": "stderr",
     "output_type": "stream",
     "text": [
      "2020-04-22 21:58:49,783 - dct_infomap - WARNING - dct::seq_louvain assumes node starts with zero and is continuous\n",
      "WARNING:dct_infomap:dct::seq_louvain assumes node starts with zero and is continuous\n",
      "2020-04-22 21:58:49,785 - dct_infomap - INFO - Running /opt/gct/submodules/distributed_clustering_thrill/infomap -f -s 123 -o output /tmp/tmpyhct88k4/edges.txt\n",
      "INFO:dct_infomap:Running /opt/gct/submodules/distributed_clustering_thrill/infomap -f -s 123 -o output /tmp/tmpyhct88k4/edges.txt\n",
      "2020-04-22 21:58:49,820 - dct_infomap - INFO - Made 6 clusters in 0.027044 seconds\n",
      "INFO:dct_infomap:Made 6 clusters in 0.027044 seconds\n"
     ]
    },
    {
     "name": "stdout",
     "output_type": "stream",
     "text": [
      "runing  dct_infomap K_DoesAlgSupportWeightTestLFR_w1\n",
      "finished dct_infomap K_DoesAlgSupportWeightTestLFR_w1\n"
     ]
    },
    {
     "name": "stderr",
     "output_type": "stream",
     "text": [
      "2020-04-22 21:58:49,931 - dct_infomap - WARNING - dct::seq_louvain assumes node starts with zero and is continuous\n",
      "WARNING:dct_infomap:dct::seq_louvain assumes node starts with zero and is continuous\n",
      "2020-04-22 21:58:49,933 - dct_infomap - INFO - Running /opt/gct/submodules/distributed_clustering_thrill/infomap -f -s 123 -o output /tmp/tmph8ol25cu/edges.txt\n",
      "INFO:dct_infomap:Running /opt/gct/submodules/distributed_clustering_thrill/infomap -f -s 123 -o output /tmp/tmph8ol25cu/edges.txt\n",
      "2020-04-22 21:58:49,967 - dct_infomap - INFO - Made 6 clusters in 0.027523 seconds\n",
      "INFO:dct_infomap:Made 6 clusters in 0.027523 seconds\n"
     ]
    },
    {
     "name": "stdout",
     "output_type": "stream",
     "text": [
      "runing  dct_infomap K_DoesAlgSupportWeightTestLFR_uw1\n",
      "finished dct_infomap K_DoesAlgSupportWeightTestLFR_uw1\n"
     ]
    },
    {
     "name": "stderr",
     "output_type": "stream",
     "text": [
      "2020-04-22 21:58:50,079 - dct_seq_louvain - WARNING - dct::seq_louvain assumes node starts with zero and is continuous\n",
      "WARNING:dct_seq_louvain:dct::seq_louvain assumes node starts with zero and is continuous\n",
      "2020-04-22 21:58:50,081 - dct_seq_louvain - INFO - Running /opt/gct/submodules/distributed_clustering_thrill/seq_louvain -f -s 123 -o output /tmp/tmpl_b0og3n/edges.txt\n",
      "INFO:dct_seq_louvain:Running /opt/gct/submodules/distributed_clustering_thrill/seq_louvain -f -s 123 -o output /tmp/tmpl_b0og3n/edges.txt\n",
      "2020-04-22 21:58:50,102 - dct_seq_louvain - INFO - Made 6 clusters in 0.013230 seconds\n",
      "INFO:dct_seq_louvain:Made 6 clusters in 0.013230 seconds\n"
     ]
    },
    {
     "name": "stdout",
     "output_type": "stream",
     "text": [
      "runing  dct_seq_louvain K_DoesAlgSupportWeightTestLFR_w1\n",
      "finished dct_seq_louvain K_DoesAlgSupportWeightTestLFR_w1\n"
     ]
    },
    {
     "name": "stderr",
     "output_type": "stream",
     "text": [
      "2020-04-22 21:58:50,213 - dct_seq_louvain - WARNING - dct::seq_louvain assumes node starts with zero and is continuous\n",
      "WARNING:dct_seq_louvain:dct::seq_louvain assumes node starts with zero and is continuous\n",
      "2020-04-22 21:58:50,214 - dct_seq_louvain - INFO - Running /opt/gct/submodules/distributed_clustering_thrill/seq_louvain -f -s 123 -o output /tmp/tmpkwq7dbh6/edges.txt\n",
      "INFO:dct_seq_louvain:Running /opt/gct/submodules/distributed_clustering_thrill/seq_louvain -f -s 123 -o output /tmp/tmpkwq7dbh6/edges.txt\n",
      "2020-04-22 21:58:50,233 - dct_seq_louvain - INFO - Made 6 clusters in 0.012059 seconds\n",
      "INFO:dct_seq_louvain:Made 6 clusters in 0.012059 seconds\n"
     ]
    },
    {
     "name": "stdout",
     "output_type": "stream",
     "text": [
      "runing  dct_seq_louvain K_DoesAlgSupportWeightTestLFR_uw1\n",
      "finished dct_seq_louvain K_DoesAlgSupportWeightTestLFR_uw1\n"
     ]
    },
    {
     "name": "stderr",
     "output_type": "stream",
     "text": [
      "2020-04-22 21:58:50,344 - igraph_community_edge_betweenness - INFO - seed ignored\n",
      "INFO:igraph_community_edge_betweenness:seed ignored\n",
      "2020-04-22 21:58:50,345 - Dataset:K_DoesAlgSupportWeightTestLFR_w1 - INFO - reading /data/data/K_DoesAlgSupportWeightTestLFR_w1/edges.parq\n",
      "INFO:Dataset:K_DoesAlgSupportWeightTestLFR_w1:reading /data/data/K_DoesAlgSupportWeightTestLFR_w1/edges.parq\n"
     ]
    },
    {
     "name": "stdout",
     "output_type": "stream",
     "text": [
      "runing  igraph_community_edge_betweenness K_DoesAlgSupportWeightTestLFR_w1\n"
     ]
    },
    {
     "name": "stderr",
     "output_type": "stream",
     "text": [
      "2020-04-22 21:58:51,301 - igraph_community_edge_betweenness - INFO - Made 6 clusters in 0.950687 seconds. modularity=0.594522 \n",
      "INFO:igraph_community_edge_betweenness:Made 6 clusters in 0.950687 seconds. modularity=0.594522 \n"
     ]
    },
    {
     "name": "stdout",
     "output_type": "stream",
     "text": [
      "finished igraph_community_edge_betweenness K_DoesAlgSupportWeightTestLFR_w1\n"
     ]
    },
    {
     "name": "stderr",
     "output_type": "stream",
     "text": [
      "2020-04-22 21:58:51,414 - igraph_community_edge_betweenness - INFO - seed ignored\n",
      "INFO:igraph_community_edge_betweenness:seed ignored\n",
      "2020-04-22 21:58:51,415 - Dataset:K_DoesAlgSupportWeightTestLFR_uw1 - INFO - reading /data/data/K_DoesAlgSupportWeightTestLFR_uw1/edges.parq\n",
      "INFO:Dataset:K_DoesAlgSupportWeightTestLFR_uw1:reading /data/data/K_DoesAlgSupportWeightTestLFR_uw1/edges.parq\n"
     ]
    },
    {
     "name": "stdout",
     "output_type": "stream",
     "text": [
      "runing  igraph_community_edge_betweenness K_DoesAlgSupportWeightTestLFR_uw1\n"
     ]
    },
    {
     "name": "stderr",
     "output_type": "stream",
     "text": [
      "2020-04-22 21:58:52,488 - igraph_community_edge_betweenness - INFO - Made 6 clusters in 1.067455 seconds. modularity=0.607348 \n",
      "INFO:igraph_community_edge_betweenness:Made 6 clusters in 1.067455 seconds. modularity=0.607348 \n"
     ]
    },
    {
     "name": "stdout",
     "output_type": "stream",
     "text": [
      "finished igraph_community_edge_betweenness K_DoesAlgSupportWeightTestLFR_uw1\n"
     ]
    },
    {
     "name": "stderr",
     "output_type": "stream",
     "text": [
      "2020-04-22 21:58:52,601 - igraph_community_fastgreedy - INFO - seed ignored\n",
      "INFO:igraph_community_fastgreedy:seed ignored\n",
      "2020-04-22 21:58:52,602 - Dataset:K_DoesAlgSupportWeightTestLFR_w1 - INFO - reading /data/data/K_DoesAlgSupportWeightTestLFR_w1/edges.parq\n",
      "INFO:Dataset:K_DoesAlgSupportWeightTestLFR_w1:reading /data/data/K_DoesAlgSupportWeightTestLFR_w1/edges.parq\n",
      "2020-04-22 21:58:52,610 - igraph_community_fastgreedy - INFO - Made 5 clusters in 0.001520 seconds. modularity=0.504346 \n",
      "INFO:igraph_community_fastgreedy:Made 5 clusters in 0.001520 seconds. modularity=0.504346 \n"
     ]
    },
    {
     "name": "stdout",
     "output_type": "stream",
     "text": [
      "runing  igraph_community_fastgreedy K_DoesAlgSupportWeightTestLFR_w1\n",
      "finished igraph_community_fastgreedy K_DoesAlgSupportWeightTestLFR_w1\n"
     ]
    },
    {
     "name": "stderr",
     "output_type": "stream",
     "text": [
      "2020-04-22 21:58:52,721 - igraph_community_fastgreedy - INFO - seed ignored\n",
      "INFO:igraph_community_fastgreedy:seed ignored\n",
      "2020-04-22 21:58:52,722 - Dataset:K_DoesAlgSupportWeightTestLFR_uw1 - INFO - reading /data/data/K_DoesAlgSupportWeightTestLFR_uw1/edges.parq\n",
      "INFO:Dataset:K_DoesAlgSupportWeightTestLFR_uw1:reading /data/data/K_DoesAlgSupportWeightTestLFR_uw1/edges.parq\n",
      "2020-04-22 21:58:52,728 - igraph_community_fastgreedy - INFO - Made 6 clusters in 0.001165 seconds. modularity=0.602400 \n",
      "INFO:igraph_community_fastgreedy:Made 6 clusters in 0.001165 seconds. modularity=0.602400 \n"
     ]
    },
    {
     "name": "stdout",
     "output_type": "stream",
     "text": [
      "runing  igraph_community_fastgreedy K_DoesAlgSupportWeightTestLFR_uw1\n",
      "finished igraph_community_fastgreedy K_DoesAlgSupportWeightTestLFR_uw1\n"
     ]
    },
    {
     "name": "stderr",
     "output_type": "stream",
     "text": [
      "2020-04-22 21:58:52,839 - igraph_community_infomap - INFO - seed ignored\n",
      "INFO:igraph_community_infomap:seed ignored\n",
      "2020-04-22 21:58:52,840 - Dataset:K_DoesAlgSupportWeightTestLFR_w1 - INFO - reading /data/data/K_DoesAlgSupportWeightTestLFR_w1/edges.parq\n",
      "INFO:Dataset:K_DoesAlgSupportWeightTestLFR_w1:reading /data/data/K_DoesAlgSupportWeightTestLFR_w1/edges.parq\n",
      "2020-04-22 21:58:52,859 - igraph_community_infomap - INFO - Made 6 clusters in 0.013492 seconds. modularity=0.594522 \n",
      "INFO:igraph_community_infomap:Made 6 clusters in 0.013492 seconds. modularity=0.594522 \n"
     ]
    },
    {
     "name": "stdout",
     "output_type": "stream",
     "text": [
      "runing  igraph_community_infomap K_DoesAlgSupportWeightTestLFR_w1\n",
      "finished igraph_community_infomap K_DoesAlgSupportWeightTestLFR_w1\n"
     ]
    },
    {
     "name": "stderr",
     "output_type": "stream",
     "text": [
      "2020-04-22 21:58:52,969 - igraph_community_infomap - INFO - seed ignored\n",
      "INFO:igraph_community_infomap:seed ignored\n",
      "2020-04-22 21:58:52,970 - Dataset:K_DoesAlgSupportWeightTestLFR_uw1 - INFO - reading /data/data/K_DoesAlgSupportWeightTestLFR_uw1/edges.parq\n",
      "INFO:Dataset:K_DoesAlgSupportWeightTestLFR_uw1:reading /data/data/K_DoesAlgSupportWeightTestLFR_uw1/edges.parq\n",
      "2020-04-22 21:58:52,989 - igraph_community_infomap - INFO - Made 6 clusters in 0.013883 seconds. modularity=0.607348 \n",
      "INFO:igraph_community_infomap:Made 6 clusters in 0.013883 seconds. modularity=0.607348 \n"
     ]
    },
    {
     "name": "stdout",
     "output_type": "stream",
     "text": [
      "runing  igraph_community_infomap K_DoesAlgSupportWeightTestLFR_uw1\n",
      "finished igraph_community_infomap K_DoesAlgSupportWeightTestLFR_uw1\n"
     ]
    },
    {
     "name": "stderr",
     "output_type": "stream",
     "text": [
      "2020-04-22 21:58:53,099 - igraph_community_label_propagation - INFO - seed ignored\n",
      "INFO:igraph_community_label_propagation:seed ignored\n",
      "2020-04-22 21:58:53,100 - Dataset:K_DoesAlgSupportWeightTestLFR_w1 - INFO - reading /data/data/K_DoesAlgSupportWeightTestLFR_w1/edges.parq\n",
      "INFO:Dataset:K_DoesAlgSupportWeightTestLFR_w1:reading /data/data/K_DoesAlgSupportWeightTestLFR_w1/edges.parq\n",
      "2020-04-22 21:58:53,105 - igraph_community_label_propagation - INFO - Made 4 clusters in 0.000349 seconds. modularity=0.448035 \n",
      "INFO:igraph_community_label_propagation:Made 4 clusters in 0.000349 seconds. modularity=0.448035 \n"
     ]
    },
    {
     "name": "stdout",
     "output_type": "stream",
     "text": [
      "runing  igraph_community_label_propagation K_DoesAlgSupportWeightTestLFR_w1\n",
      "finished igraph_community_label_propagation K_DoesAlgSupportWeightTestLFR_w1\n"
     ]
    },
    {
     "name": "stderr",
     "output_type": "stream",
     "text": [
      "2020-04-22 21:58:53,215 - igraph_community_label_propagation - INFO - seed ignored\n",
      "INFO:igraph_community_label_propagation:seed ignored\n",
      "2020-04-22 21:58:53,216 - Dataset:K_DoesAlgSupportWeightTestLFR_uw1 - INFO - reading /data/data/K_DoesAlgSupportWeightTestLFR_uw1/edges.parq\n",
      "INFO:Dataset:K_DoesAlgSupportWeightTestLFR_uw1:reading /data/data/K_DoesAlgSupportWeightTestLFR_uw1/edges.parq\n",
      "2020-04-22 21:58:53,221 - igraph_community_label_propagation - INFO - Made 6 clusters in 0.000310 seconds. modularity=0.607348 \n",
      "INFO:igraph_community_label_propagation:Made 6 clusters in 0.000310 seconds. modularity=0.607348 \n"
     ]
    },
    {
     "name": "stdout",
     "output_type": "stream",
     "text": [
      "runing  igraph_community_label_propagation K_DoesAlgSupportWeightTestLFR_uw1\n",
      "finished igraph_community_label_propagation K_DoesAlgSupportWeightTestLFR_uw1\n"
     ]
    },
    {
     "name": "stderr",
     "output_type": "stream",
     "text": [
      "2020-04-22 21:58:53,332 - igraph_community_leading_eigenvector - INFO - seed ignored\n",
      "INFO:igraph_community_leading_eigenvector:seed ignored\n",
      "2020-04-22 21:58:53,332 - Dataset:K_DoesAlgSupportWeightTestLFR_w1 - INFO - reading /data/data/K_DoesAlgSupportWeightTestLFR_w1/edges.parq\n",
      "INFO:Dataset:K_DoesAlgSupportWeightTestLFR_w1:reading /data/data/K_DoesAlgSupportWeightTestLFR_w1/edges.parq\n",
      "2020-04-22 21:58:53,375 - igraph_community_leading_eigenvector - INFO - Made 12 clusters in 0.037684 seconds. modularity=0.409366 \n",
      "INFO:igraph_community_leading_eigenvector:Made 12 clusters in 0.037684 seconds. modularity=0.409366 \n"
     ]
    },
    {
     "name": "stdout",
     "output_type": "stream",
     "text": [
      "runing  igraph_community_leading_eigenvector K_DoesAlgSupportWeightTestLFR_w1\n",
      "finished igraph_community_leading_eigenvector K_DoesAlgSupportWeightTestLFR_w1\n"
     ]
    },
    {
     "name": "stderr",
     "output_type": "stream",
     "text": [
      "2020-04-22 21:58:53,486 - igraph_community_leading_eigenvector - INFO - seed ignored\n",
      "INFO:igraph_community_leading_eigenvector:seed ignored\n",
      "2020-04-22 21:58:53,487 - Dataset:K_DoesAlgSupportWeightTestLFR_uw1 - INFO - reading /data/data/K_DoesAlgSupportWeightTestLFR_uw1/edges.parq\n",
      "INFO:Dataset:K_DoesAlgSupportWeightTestLFR_uw1:reading /data/data/K_DoesAlgSupportWeightTestLFR_uw1/edges.parq\n",
      "2020-04-22 21:58:53,519 - igraph_community_leading_eigenvector - INFO - Made 10 clusters in 0.027276 seconds. modularity=0.417602 \n",
      "INFO:igraph_community_leading_eigenvector:Made 10 clusters in 0.027276 seconds. modularity=0.417602 \n"
     ]
    },
    {
     "name": "stdout",
     "output_type": "stream",
     "text": [
      "runing  igraph_community_leading_eigenvector K_DoesAlgSupportWeightTestLFR_uw1\n",
      "finished igraph_community_leading_eigenvector K_DoesAlgSupportWeightTestLFR_uw1\n"
     ]
    },
    {
     "name": "stderr",
     "output_type": "stream",
     "text": [
      "2020-04-22 21:58:53,630 - igraph_community_multilevel - INFO - seed ignored\n",
      "INFO:igraph_community_multilevel:seed ignored\n",
      "2020-04-22 21:58:53,630 - Dataset:K_DoesAlgSupportWeightTestLFR_w1 - INFO - reading /data/data/K_DoesAlgSupportWeightTestLFR_w1/edges.parq\n",
      "INFO:Dataset:K_DoesAlgSupportWeightTestLFR_w1:reading /data/data/K_DoesAlgSupportWeightTestLFR_w1/edges.parq\n",
      "2020-04-22 21:58:53,636 - igraph_community_multilevel - INFO - Made 6 clusters in 0.000772 seconds. modularity=0.594522 \n",
      "INFO:igraph_community_multilevel:Made 6 clusters in 0.000772 seconds. modularity=0.594522 \n"
     ]
    },
    {
     "name": "stdout",
     "output_type": "stream",
     "text": [
      "runing  igraph_community_multilevel K_DoesAlgSupportWeightTestLFR_w1\n",
      "finished igraph_community_multilevel K_DoesAlgSupportWeightTestLFR_w1\n"
     ]
    },
    {
     "name": "stderr",
     "output_type": "stream",
     "text": [
      "2020-04-22 21:58:53,746 - igraph_community_multilevel - INFO - seed ignored\n",
      "INFO:igraph_community_multilevel:seed ignored\n",
      "2020-04-22 21:58:53,747 - Dataset:K_DoesAlgSupportWeightTestLFR_uw1 - INFO - reading /data/data/K_DoesAlgSupportWeightTestLFR_uw1/edges.parq\n",
      "INFO:Dataset:K_DoesAlgSupportWeightTestLFR_uw1:reading /data/data/K_DoesAlgSupportWeightTestLFR_uw1/edges.parq\n",
      "2020-04-22 21:58:53,752 - igraph_community_multilevel - INFO - Made 6 clusters in 0.000829 seconds. modularity=0.607348 \n",
      "INFO:igraph_community_multilevel:Made 6 clusters in 0.000829 seconds. modularity=0.607348 \n"
     ]
    },
    {
     "name": "stdout",
     "output_type": "stream",
     "text": [
      "runing  igraph_community_multilevel K_DoesAlgSupportWeightTestLFR_uw1\n",
      "finished igraph_community_multilevel K_DoesAlgSupportWeightTestLFR_uw1\n"
     ]
    },
    {
     "name": "stderr",
     "output_type": "stream",
     "text": [
      "2020-04-22 21:58:53,862 - igraph_community_optimal_modularity - INFO - seed ignored\n",
      "INFO:igraph_community_optimal_modularity:seed ignored\n",
      "2020-04-22 21:58:53,863 - Dataset:K_DoesAlgSupportWeightTestLFR_w1 - INFO - reading /data/data/K_DoesAlgSupportWeightTestLFR_w1/edges.parq\n",
      "INFO:Dataset:K_DoesAlgSupportWeightTestLFR_w1:reading /data/data/K_DoesAlgSupportWeightTestLFR_w1/edges.parq\n"
     ]
    },
    {
     "name": "stdout",
     "output_type": "stream",
     "text": [
      "runing  igraph_community_optimal_modularity K_DoesAlgSupportWeightTestLFR_w1\n"
     ]
    },
    {
     "name": "stderr",
     "output_type": "stream",
     "text": [
      "2020-04-22 22:06:23,959 - igraph_community_optimal_modularity - INFO - Made 6 clusters in 450.090434 seconds. modularity=0.594522 \n",
      "INFO:igraph_community_optimal_modularity:Made 6 clusters in 450.090434 seconds. modularity=0.594522 \n"
     ]
    },
    {
     "name": "stdout",
     "output_type": "stream",
     "text": [
      "finished igraph_community_optimal_modularity K_DoesAlgSupportWeightTestLFR_w1\n"
     ]
    },
    {
     "name": "stderr",
     "output_type": "stream",
     "text": [
      "2020-04-22 22:06:24,071 - igraph_community_optimal_modularity - INFO - seed ignored\n",
      "INFO:igraph_community_optimal_modularity:seed ignored\n",
      "2020-04-22 22:06:24,072 - Dataset:K_DoesAlgSupportWeightTestLFR_uw1 - INFO - reading /data/data/K_DoesAlgSupportWeightTestLFR_uw1/edges.parq\n",
      "INFO:Dataset:K_DoesAlgSupportWeightTestLFR_uw1:reading /data/data/K_DoesAlgSupportWeightTestLFR_uw1/edges.parq\n"
     ]
    },
    {
     "name": "stdout",
     "output_type": "stream",
     "text": [
      "runing  igraph_community_optimal_modularity K_DoesAlgSupportWeightTestLFR_uw1\n"
     ]
    },
    {
     "name": "stderr",
     "output_type": "stream",
     "text": [
      "2020-04-22 22:15:57,944 - igraph_community_optimal_modularity - INFO - Made 6 clusters in 573.866663 seconds. modularity=0.607348 \n",
      "INFO:igraph_community_optimal_modularity:Made 6 clusters in 573.866663 seconds. modularity=0.607348 \n"
     ]
    },
    {
     "name": "stdout",
     "output_type": "stream",
     "text": [
      "finished igraph_community_optimal_modularity K_DoesAlgSupportWeightTestLFR_uw1\n"
     ]
    },
    {
     "name": "stderr",
     "output_type": "stream",
     "text": [
      "2020-04-22 22:15:58,057 - igraph_community_spinglass - INFO - seed ignored\n",
      "INFO:igraph_community_spinglass:seed ignored\n",
      "2020-04-22 22:15:58,058 - Dataset:K_DoesAlgSupportWeightTestLFR_w1 - INFO - reading /data/data/K_DoesAlgSupportWeightTestLFR_w1/edges.parq\n",
      "INFO:Dataset:K_DoesAlgSupportWeightTestLFR_w1:reading /data/data/K_DoesAlgSupportWeightTestLFR_w1/edges.parq\n"
     ]
    },
    {
     "name": "stdout",
     "output_type": "stream",
     "text": [
      "runing  igraph_community_spinglass K_DoesAlgSupportWeightTestLFR_w1\n"
     ]
    },
    {
     "name": "stderr",
     "output_type": "stream",
     "text": [
      "2020-04-22 22:15:58,762 - igraph_community_spinglass - INFO - Made 7 clusters in 0.697573 seconds. modularity=0.590806 \n",
      "INFO:igraph_community_spinglass:Made 7 clusters in 0.697573 seconds. modularity=0.590806 \n"
     ]
    },
    {
     "name": "stdout",
     "output_type": "stream",
     "text": [
      "finished igraph_community_spinglass K_DoesAlgSupportWeightTestLFR_w1\n"
     ]
    },
    {
     "name": "stderr",
     "output_type": "stream",
     "text": [
      "2020-04-22 22:15:58,874 - igraph_community_spinglass - INFO - seed ignored\n",
      "INFO:igraph_community_spinglass:seed ignored\n",
      "2020-04-22 22:15:58,874 - Dataset:K_DoesAlgSupportWeightTestLFR_uw1 - INFO - reading /data/data/K_DoesAlgSupportWeightTestLFR_uw1/edges.parq\n",
      "INFO:Dataset:K_DoesAlgSupportWeightTestLFR_uw1:reading /data/data/K_DoesAlgSupportWeightTestLFR_uw1/edges.parq\n"
     ]
    },
    {
     "name": "stdout",
     "output_type": "stream",
     "text": [
      "runing  igraph_community_spinglass K_DoesAlgSupportWeightTestLFR_uw1\n"
     ]
    },
    {
     "name": "stderr",
     "output_type": "stream",
     "text": [
      "2020-04-22 22:15:59,319 - igraph_community_spinglass - INFO - Made 7 clusters in 0.439538 seconds. modularity=0.602384 \n",
      "INFO:igraph_community_spinglass:Made 7 clusters in 0.439538 seconds. modularity=0.602384 \n"
     ]
    },
    {
     "name": "stdout",
     "output_type": "stream",
     "text": [
      "finished igraph_community_spinglass K_DoesAlgSupportWeightTestLFR_uw1\n"
     ]
    },
    {
     "name": "stderr",
     "output_type": "stream",
     "text": [
      "2020-04-22 22:15:59,430 - igraph_community_walktrap - INFO - seed ignored\n",
      "INFO:igraph_community_walktrap:seed ignored\n",
      "2020-04-22 22:15:59,431 - Dataset:K_DoesAlgSupportWeightTestLFR_w1 - INFO - reading /data/data/K_DoesAlgSupportWeightTestLFR_w1/edges.parq\n",
      "INFO:Dataset:K_DoesAlgSupportWeightTestLFR_w1:reading /data/data/K_DoesAlgSupportWeightTestLFR_w1/edges.parq\n",
      "2020-04-22 22:15:59,439 - igraph_community_walktrap - INFO - Made 6 clusters in 0.002552 seconds. modularity=0.594522 \n",
      "INFO:igraph_community_walktrap:Made 6 clusters in 0.002552 seconds. modularity=0.594522 \n"
     ]
    },
    {
     "name": "stdout",
     "output_type": "stream",
     "text": [
      "runing  igraph_community_walktrap K_DoesAlgSupportWeightTestLFR_w1\n",
      "finished igraph_community_walktrap K_DoesAlgSupportWeightTestLFR_w1\n"
     ]
    },
    {
     "name": "stderr",
     "output_type": "stream",
     "text": [
      "2020-04-22 22:15:59,549 - igraph_community_walktrap - INFO - seed ignored\n",
      "INFO:igraph_community_walktrap:seed ignored\n",
      "2020-04-22 22:15:59,550 - Dataset:K_DoesAlgSupportWeightTestLFR_uw1 - INFO - reading /data/data/K_DoesAlgSupportWeightTestLFR_uw1/edges.parq\n",
      "INFO:Dataset:K_DoesAlgSupportWeightTestLFR_uw1:reading /data/data/K_DoesAlgSupportWeightTestLFR_uw1/edges.parq\n",
      "2020-04-22 22:15:59,557 - igraph_community_walktrap - INFO - Made 6 clusters in 0.002510 seconds. modularity=0.607348 \n",
      "INFO:igraph_community_walktrap:Made 6 clusters in 0.002510 seconds. modularity=0.607348 \n"
     ]
    },
    {
     "name": "stdout",
     "output_type": "stream",
     "text": [
      "runing  igraph_community_walktrap K_DoesAlgSupportWeightTestLFR_uw1\n",
      "finished igraph_community_walktrap K_DoesAlgSupportWeightTestLFR_uw1\n"
     ]
    },
    {
     "name": "stderr",
     "output_type": "stream",
     "text": [
      "2020-04-22 22:15:59,668 - mcl_MCL - INFO - seed ignored\n",
      "INFO:mcl_MCL:seed ignored\n",
      "2020-04-22 22:15:59,669 - Dataset:K_DoesAlgSupportWeightTestLFR_w1 - INFO - running /opt/gct/submodules/local/bin/mcxload --stream-mirror -123 /data/data/K_DoesAlgSupportWeightTestLFR_w1/edges.txt -o /data/data/K_DoesAlgSupportWeightTestLFR_w1/mcl.mci --write-binary\n",
      "INFO:Dataset:K_DoesAlgSupportWeightTestLFR_w1:running /opt/gct/submodules/local/bin/mcxload --stream-mirror -123 /data/data/K_DoesAlgSupportWeightTestLFR_w1/edges.txt -o /data/data/K_DoesAlgSupportWeightTestLFR_w1/mcl.mci --write-binary\n",
      "2020-04-22 22:15:59,675 - mcl_MCL - INFO - Running /opt/gct/submodules/local/bin/mcl /data/data/K_DoesAlgSupportWeightTestLFR_w1/mcl.mci -o output\n",
      "INFO:mcl_MCL:Running /opt/gct/submodules/local/bin/mcl /data/data/K_DoesAlgSupportWeightTestLFR_w1/mcl.mci -o output\n",
      "2020-04-22 22:15:59,677 - mcl_MCL - INFO - Running /opt/gct/submodules/local/bin/mcxdump -imx output -o cluster.output\n",
      "INFO:mcl_MCL:Running /opt/gct/submodules/local/bin/mcxdump -imx output -o cluster.output\n",
      "2020-04-22 22:15:59,698 - mcl_MCL - INFO - Made 6 clusters in 0.019779 seconds\n",
      "INFO:mcl_MCL:Made 6 clusters in 0.019779 seconds\n"
     ]
    },
    {
     "name": "stdout",
     "output_type": "stream",
     "text": [
      "runing  mcl_MCL K_DoesAlgSupportWeightTestLFR_w1\n",
      "finished mcl_MCL K_DoesAlgSupportWeightTestLFR_w1\n"
     ]
    },
    {
     "name": "stderr",
     "output_type": "stream",
     "text": [
      "2020-04-22 22:15:59,808 - mcl_MCL - INFO - seed ignored\n",
      "INFO:mcl_MCL:seed ignored\n",
      "2020-04-22 22:15:59,809 - Dataset:K_DoesAlgSupportWeightTestLFR_uw1 - INFO - running /opt/gct/submodules/local/bin/mcxload --stream-mirror -123 /data/data/K_DoesAlgSupportWeightTestLFR_uw1/edges.txt -o /data/data/K_DoesAlgSupportWeightTestLFR_uw1/mcl.mci --write-binary\n",
      "INFO:Dataset:K_DoesAlgSupportWeightTestLFR_uw1:running /opt/gct/submodules/local/bin/mcxload --stream-mirror -123 /data/data/K_DoesAlgSupportWeightTestLFR_uw1/edges.txt -o /data/data/K_DoesAlgSupportWeightTestLFR_uw1/mcl.mci --write-binary\n",
      "2020-04-22 22:15:59,815 - mcl_MCL - INFO - Running /opt/gct/submodules/local/bin/mcl /data/data/K_DoesAlgSupportWeightTestLFR_uw1/mcl.mci -o output\n",
      "INFO:mcl_MCL:Running /opt/gct/submodules/local/bin/mcl /data/data/K_DoesAlgSupportWeightTestLFR_uw1/mcl.mci -o output\n",
      "2020-04-22 22:15:59,816 - mcl_MCL - INFO - Running /opt/gct/submodules/local/bin/mcxdump -imx output -o cluster.output\n",
      "INFO:mcl_MCL:Running /opt/gct/submodules/local/bin/mcxdump -imx output -o cluster.output\n",
      "2020-04-22 22:15:59,839 - mcl_MCL - INFO - Made 6 clusters in 0.020883 seconds\n",
      "INFO:mcl_MCL:Made 6 clusters in 0.020883 seconds\n"
     ]
    },
    {
     "name": "stdout",
     "output_type": "stream",
     "text": [
      "runing  mcl_MCL K_DoesAlgSupportWeightTestLFR_uw1\n",
      "finished mcl_MCL K_DoesAlgSupportWeightTestLFR_uw1\n"
     ]
    },
    {
     "name": "stderr",
     "output_type": "stream",
     "text": [
      "2020-04-22 22:15:59,950 - networkit_CutClustering - INFO - seed ignored\n",
      "INFO:networkit_CutClustering:seed ignored\n",
      "2020-04-22 22:15:59,968 - networkit_CutClustering - INFO - Made 1 clusters in 0.014565 seconds.\n",
      "INFO:networkit_CutClustering:Made 1 clusters in 0.014565 seconds.\n"
     ]
    },
    {
     "name": "stdout",
     "output_type": "stream",
     "text": [
      "runing  networkit_CutClustering K_DoesAlgSupportWeightTestLFR_w1\n",
      "CutClustering(0.1) detected communities in 0.011762619018554688 [s]\n",
      "solution properties:\n",
      "-------------------  -------------\n",
      "# communities          1\n",
      "min community size   128\n",
      "max community size   128\n",
      "avg. community size  128\n",
      "modularity             2.22045e-15\n",
      "-------------------  -------------\n",
      "finished networkit_CutClustering K_DoesAlgSupportWeightTestLFR_w1\n"
     ]
    },
    {
     "name": "stderr",
     "output_type": "stream",
     "text": [
      "2020-04-22 22:16:00,085 - networkit_CutClustering - INFO - seed ignored\n",
      "INFO:networkit_CutClustering:seed ignored\n",
      "2020-04-22 22:16:00,090 - networkit_CutClustering - INFO - Made 1 clusters in 0.002437 seconds.\n",
      "INFO:networkit_CutClustering:Made 1 clusters in 0.002437 seconds.\n"
     ]
    },
    {
     "name": "stdout",
     "output_type": "stream",
     "text": [
      "runing  networkit_CutClustering K_DoesAlgSupportWeightTestLFR_uw1\n",
      "CutClustering(0.1) detected communities in 0.0015192031860351562 [s]\n",
      "solution properties:\n",
      "-------------------  ---\n",
      "# communities          1\n",
      "min community size   128\n",
      "max community size   128\n",
      "avg. community size  128\n",
      "modularity             0\n",
      "-------------------  ---\n",
      "finished networkit_CutClustering K_DoesAlgSupportWeightTestLFR_uw1\n"
     ]
    },
    {
     "name": "stderr",
     "output_type": "stream",
     "text": [
      "2020-04-22 22:16:00,208 - networkit_LPDegreeOrdered - INFO - seed ignored\n",
      "INFO:networkit_LPDegreeOrdered:seed ignored\n",
      "2020-04-22 22:16:00,212 - networkit_LPDegreeOrdered - INFO - Made 6 clusters in 0.001482 seconds.\n",
      "INFO:networkit_LPDegreeOrdered:Made 6 clusters in 0.001482 seconds.\n"
     ]
    },
    {
     "name": "stdout",
     "output_type": "stream",
     "text": [
      "runing  networkit_LPDegreeOrdered K_DoesAlgSupportWeightTestLFR_w1\n",
      "LPDegreeOrdered() detected communities in 0.0004184246063232422 [s]\n",
      "solution properties:\n",
      "-------------------  ---------\n",
      "# communities         6\n",
      "min community size   13\n",
      "max community size   30\n",
      "avg. community size  21.3333\n",
      "modularity            0.594522\n",
      "-------------------  ---------\n",
      "finished networkit_LPDegreeOrdered K_DoesAlgSupportWeightTestLFR_w1\n"
     ]
    },
    {
     "name": "stderr",
     "output_type": "stream",
     "text": [
      "2020-04-22 22:16:00,333 - networkit_LPDegreeOrdered - INFO - seed ignored\n",
      "INFO:networkit_LPDegreeOrdered:seed ignored\n",
      "2020-04-22 22:16:00,337 - networkit_LPDegreeOrdered - INFO - Made 6 clusters in 0.001562 seconds.\n",
      "INFO:networkit_LPDegreeOrdered:Made 6 clusters in 0.001562 seconds.\n"
     ]
    },
    {
     "name": "stdout",
     "output_type": "stream",
     "text": [
      "runing  networkit_LPDegreeOrdered K_DoesAlgSupportWeightTestLFR_uw1\n",
      "LPDegreeOrdered() detected communities in 0.0005040168762207031 [s]\n",
      "solution properties:\n",
      "-------------------  ---------\n",
      "# communities         6\n",
      "min community size   13\n",
      "max community size   30\n",
      "avg. community size  21.3333\n",
      "modularity            0.607348\n",
      "-------------------  ---------\n",
      "finished networkit_LPDegreeOrdered K_DoesAlgSupportWeightTestLFR_uw1\n"
     ]
    },
    {
     "name": "stderr",
     "output_type": "stream",
     "text": [
      "2020-04-22 22:16:00,458 - networkit_PLM - INFO - seed ignored\n",
      "INFO:networkit_PLM:seed ignored\n",
      "2020-04-22 22:16:00,469 - networkit_PLM - INFO - Made 6 clusters in 0.008865 seconds.\n",
      "INFO:networkit_PLM:Made 6 clusters in 0.008865 seconds.\n"
     ]
    },
    {
     "name": "stdout",
     "output_type": "stream",
     "text": [
      "runing  networkit_PLM K_DoesAlgSupportWeightTestLFR_w1\n",
      "PLM(balanced,pc,turbo) detected communities in 0.007856130599975586 [s]\n",
      "solution properties:\n",
      "-------------------  ---------\n",
      "# communities         6\n",
      "min community size   13\n",
      "max community size   30\n",
      "avg. community size  21.3333\n",
      "modularity            0.594522\n",
      "-------------------  ---------\n",
      "finished networkit_PLM K_DoesAlgSupportWeightTestLFR_w1\n"
     ]
    },
    {
     "name": "stderr",
     "output_type": "stream",
     "text": [
      "2020-04-22 22:16:00,590 - networkit_PLM - INFO - seed ignored\n",
      "INFO:networkit_PLM:seed ignored\n",
      "2020-04-22 22:16:00,593 - networkit_PLM - INFO - Made 6 clusters in 0.001625 seconds.\n",
      "INFO:networkit_PLM:Made 6 clusters in 0.001625 seconds.\n"
     ]
    },
    {
     "name": "stdout",
     "output_type": "stream",
     "text": [
      "runing  networkit_PLM K_DoesAlgSupportWeightTestLFR_uw1\n",
      "PLM(balanced,pc,turbo) detected communities in 0.0006601810455322266 [s]\n",
      "solution properties:\n",
      "-------------------  ---------\n",
      "# communities         6\n",
      "min community size   13\n",
      "max community size   30\n",
      "avg. community size  21.3333\n",
      "modularity            0.607348\n",
      "-------------------  ---------\n",
      "finished networkit_PLM K_DoesAlgSupportWeightTestLFR_uw1\n"
     ]
    },
    {
     "name": "stderr",
     "output_type": "stream",
     "text": [
      "2020-04-22 22:16:00,711 - networkit_PLP - INFO - seed ignored\n",
      "INFO:networkit_PLP:seed ignored\n",
      "2020-04-22 22:16:00,715 - networkit_PLP - INFO - Made 6 clusters in 0.001235 seconds.\n",
      "INFO:networkit_PLP:Made 6 clusters in 0.001235 seconds.\n"
     ]
    },
    {
     "name": "stdout",
     "output_type": "stream",
     "text": [
      "runing  networkit_PLP K_DoesAlgSupportWeightTestLFR_w1\n",
      "PLP detected communities in 0.00017189979553222656 [s]\n",
      "solution properties:\n",
      "-------------------  ---------\n",
      "# communities         6\n",
      "min community size   13\n",
      "max community size   30\n",
      "avg. community size  21.3333\n",
      "modularity            0.594522\n",
      "-------------------  ---------\n",
      "finished networkit_PLP K_DoesAlgSupportWeightTestLFR_w1\n"
     ]
    },
    {
     "name": "stderr",
     "output_type": "stream",
     "text": [
      "2020-04-22 22:16:00,836 - networkit_PLP - INFO - seed ignored\n",
      "INFO:networkit_PLP:seed ignored\n",
      "2020-04-22 22:16:00,846 - networkit_PLP - INFO - Made 4 clusters in 0.007863 seconds.\n",
      "INFO:networkit_PLP:Made 4 clusters in 0.007863 seconds.\n"
     ]
    },
    {
     "name": "stdout",
     "output_type": "stream",
     "text": [
      "runing  networkit_PLP K_DoesAlgSupportWeightTestLFR_uw1\n",
      "PLP detected communities in 0.0069408416748046875 [s]\n",
      "solution properties:\n",
      "-------------------  ---------\n",
      "# communities         4\n",
      "min community size   13\n",
      "max community size   70\n",
      "avg. community size  32\n",
      "modularity            0.444175\n",
      "-------------------  ---------\n",
      "finished networkit_PLP K_DoesAlgSupportWeightTestLFR_uw1\n"
     ]
    },
    {
     "name": "stderr",
     "output_type": "stream",
     "text": [
      "2020-04-22 22:16:00,964 - alg_GossipMap - INFO - seed ignored\n",
      "INFO:alg_GossipMap:seed ignored\n",
      "2020-04-22 22:16:00,965 - alg_GossipMap - INFO - Running /opt/gct/submodules/PowerGraph/GossipMap --graph /tmp/tmpqh657mj9/edges.txt --prefix output.cluster --ncpus 7\n",
      "INFO:alg_GossipMap:Running /opt/gct/submodules/PowerGraph/GossipMap --graph /tmp/tmpqh657mj9/edges.txt --prefix output.cluster --ncpus 7\n"
     ]
    },
    {
     "name": "stdout",
     "output_type": "stream",
     "text": [
      "runing  alg_GossipMap K_DoesAlgSupportWeightTestLFR_w1\n"
     ]
    },
    {
     "name": "stderr",
     "output_type": "stream",
     "text": [
      "2020-04-22 22:16:01,763 - alg_GossipMap - INFO - Made 5 clusters in 0.785195 seconds\n",
      "INFO:alg_GossipMap:Made 5 clusters in 0.785195 seconds\n"
     ]
    },
    {
     "name": "stdout",
     "output_type": "stream",
     "text": [
      "finished alg_GossipMap K_DoesAlgSupportWeightTestLFR_w1\n"
     ]
    },
    {
     "name": "stderr",
     "output_type": "stream",
     "text": [
      "2020-04-22 22:16:01,876 - alg_GossipMap - INFO - seed ignored\n",
      "INFO:alg_GossipMap:seed ignored\n",
      "2020-04-22 22:16:01,877 - alg_GossipMap - INFO - Running /opt/gct/submodules/PowerGraph/GossipMap --graph /tmp/tmpuwxgaqx1/edges.txt --prefix output.cluster --ncpus 7\n",
      "INFO:alg_GossipMap:Running /opt/gct/submodules/PowerGraph/GossipMap --graph /tmp/tmpuwxgaqx1/edges.txt --prefix output.cluster --ncpus 7\n"
     ]
    },
    {
     "name": "stdout",
     "output_type": "stream",
     "text": [
      "runing  alg_GossipMap K_DoesAlgSupportWeightTestLFR_uw1\n"
     ]
    },
    {
     "name": "stderr",
     "output_type": "stream",
     "text": [
      "2020-04-22 22:16:02,678 - alg_GossipMap - INFO - Made 1 clusters in 0.788857 seconds\n",
      "INFO:alg_GossipMap:Made 1 clusters in 0.788857 seconds\n"
     ]
    },
    {
     "name": "stdout",
     "output_type": "stream",
     "text": [
      "finished alg_GossipMap K_DoesAlgSupportWeightTestLFR_uw1\n"
     ]
    },
    {
     "name": "stderr",
     "output_type": "stream",
     "text": [
      "2020-04-22 22:16:02,793 - alg_RelaxMap - INFO - Running /opt/gct/submodules/RelaxMap/ompRelaxmap 123 /tmp/tmpp8o9ueon/edges.txt 7 1 0.001 0.0 10 /tmp/tmpp8o9ueon prior\n",
      "INFO:alg_RelaxMap:Running /opt/gct/submodules/RelaxMap/ompRelaxmap 123 /tmp/tmpp8o9ueon/edges.txt 7 1 0.001 0.0 10 /tmp/tmpp8o9ueon prior\n",
      "2020-04-22 22:16:02,818 - alg_RelaxMap - INFO - Made 1 clusters in 0.016222 seconds\n",
      "INFO:alg_RelaxMap:Made 1 clusters in 0.016222 seconds\n"
     ]
    },
    {
     "name": "stdout",
     "output_type": "stream",
     "text": [
      "runing  alg_RelaxMap K_DoesAlgSupportWeightTestLFR_w1\n",
      "finished alg_RelaxMap K_DoesAlgSupportWeightTestLFR_w1\n"
     ]
    },
    {
     "name": "stderr",
     "output_type": "stream",
     "text": [
      "2020-04-22 22:16:02,931 - alg_RelaxMap - INFO - Running /opt/gct/submodules/RelaxMap/ompRelaxmap 123 /tmp/tmpcm_y5yuu/edges.txt 7 1 0.001 0.0 10 /tmp/tmpcm_y5yuu prior\n",
      "INFO:alg_RelaxMap:Running /opt/gct/submodules/RelaxMap/ompRelaxmap 123 /tmp/tmpcm_y5yuu/edges.txt 7 1 0.001 0.0 10 /tmp/tmpcm_y5yuu prior\n",
      "2020-04-22 22:16:02,962 - alg_RelaxMap - INFO - Made 1 clusters in 0.022111 seconds\n",
      "INFO:alg_RelaxMap:Made 1 clusters in 0.022111 seconds\n"
     ]
    },
    {
     "name": "stdout",
     "output_type": "stream",
     "text": [
      "runing  alg_RelaxMap K_DoesAlgSupportWeightTestLFR_uw1\n",
      "finished alg_RelaxMap K_DoesAlgSupportWeightTestLFR_uw1\n"
     ]
    },
    {
     "name": "stderr",
     "output_type": "stream",
     "text": [
      "2020-04-22 22:16:03,075 - alg_pg_label_propagation - INFO - seed ignored\n",
      "INFO:alg_pg_label_propagation:seed ignored\n",
      "2020-04-22 22:16:03,077 - alg_pg_label_propagation - INFO - Running /opt/gct/submodules/PowerGraph/label_propagation --graph /tmp/tmpyad05u3r/edges.txt --saveprefix=output.cluster --execution async --ncpus 7 --weighted 1 --directed 0\n",
      "INFO:alg_pg_label_propagation:Running /opt/gct/submodules/PowerGraph/label_propagation --graph /tmp/tmpyad05u3r/edges.txt --saveprefix=output.cluster --execution async --ncpus 7 --weighted 1 --directed 0\n"
     ]
    },
    {
     "name": "stdout",
     "output_type": "stream",
     "text": [
      "runing  alg_pg_label_propagation K_DoesAlgSupportWeightTestLFR_w1\n"
     ]
    },
    {
     "name": "stderr",
     "output_type": "stream",
     "text": [
      "2020-04-22 22:16:03,544 - alg_pg_label_propagation - INFO - Made 5 clusters in 0.455054 seconds\n",
      "INFO:alg_pg_label_propagation:Made 5 clusters in 0.455054 seconds\n"
     ]
    },
    {
     "name": "stdout",
     "output_type": "stream",
     "text": [
      "finished alg_pg_label_propagation K_DoesAlgSupportWeightTestLFR_w1\n"
     ]
    },
    {
     "name": "stderr",
     "output_type": "stream",
     "text": [
      "2020-04-22 22:16:03,657 - alg_pg_label_propagation - INFO - seed ignored\n",
      "INFO:alg_pg_label_propagation:seed ignored\n",
      "2020-04-22 22:16:03,658 - alg_pg_label_propagation - INFO - Running /opt/gct/submodules/PowerGraph/label_propagation --graph /tmp/tmp9zja_q9w/edges.txt --saveprefix=output.cluster --execution async --ncpus 7 --weighted 0 --directed 0\n",
      "INFO:alg_pg_label_propagation:Running /opt/gct/submodules/PowerGraph/label_propagation --graph /tmp/tmp9zja_q9w/edges.txt --saveprefix=output.cluster --execution async --ncpus 7 --weighted 0 --directed 0\n"
     ]
    },
    {
     "name": "stdout",
     "output_type": "stream",
     "text": [
      "runing  alg_pg_label_propagation K_DoesAlgSupportWeightTestLFR_uw1\n"
     ]
    },
    {
     "name": "stderr",
     "output_type": "stream",
     "text": [
      "2020-04-22 22:16:04,088 - alg_pg_label_propagation - INFO - Made 6 clusters in 0.417583 seconds\n",
      "INFO:alg_pg_label_propagation:Made 6 clusters in 0.417583 seconds\n"
     ]
    },
    {
     "name": "stdout",
     "output_type": "stream",
     "text": [
      "finished alg_pg_label_propagation K_DoesAlgSupportWeightTestLFR_uw1\n"
     ]
    },
    {
     "name": "stderr",
     "output_type": "stream",
     "text": [
      "2020-04-22 22:16:04,200 - scan_AnyScan_Scan - INFO - seed ignored\n",
      "INFO:scan_AnyScan_Scan:seed ignored\n",
      "2020-04-22 22:16:04,201 - Dataset:K_DoesAlgSupportWeightTestLFR_w1 - INFO - reading /data/data/K_DoesAlgSupportWeightTestLFR_w1/edges.parq\n",
      "INFO:Dataset:K_DoesAlgSupportWeightTestLFR_w1:reading /data/data/K_DoesAlgSupportWeightTestLFR_w1/edges.parq\n",
      "2020-04-22 22:16:04,206 - Dataset:K_DoesAlgSupportWeightTestLFR_w1 - INFO - min node: 0, max node: 127\n",
      "INFO:Dataset:K_DoesAlgSupportWeightTestLFR_w1:min node: 0, max node: 127\n",
      "2020-04-22 22:16:04,219 - scan_AnyScan_Scan - INFO - Running /opt/gct/submodules/ppSCAN/anyscan -c 1 -i /data/data/K_DoesAlgSupportWeightTestLFR_w1/anyscan.txt -m 4 -e 0.5 -o output -a 32768 -b 32768 -t 7\n",
      "INFO:scan_AnyScan_Scan:Running /opt/gct/submodules/ppSCAN/anyscan -c 1 -i /data/data/K_DoesAlgSupportWeightTestLFR_w1/anyscan.txt -m 4 -e 0.5 -o output -a 32768 -b 32768 -t 7\n",
      "2020-04-22 22:16:04,228 - scan_AnyScan_Scan - INFO - Made 7 clusters in 0.007483 seconds\n",
      "INFO:scan_AnyScan_Scan:Made 7 clusters in 0.007483 seconds\n"
     ]
    },
    {
     "name": "stdout",
     "output_type": "stream",
     "text": [
      "runing  scan_AnyScan_Scan K_DoesAlgSupportWeightTestLFR_w1\n",
      "finished scan_AnyScan_Scan K_DoesAlgSupportWeightTestLFR_w1\n"
     ]
    },
    {
     "name": "stderr",
     "output_type": "stream",
     "text": [
      "2020-04-22 22:16:04,339 - scan_AnyScan_Scan - INFO - seed ignored\n",
      "INFO:scan_AnyScan_Scan:seed ignored\n",
      "2020-04-22 22:16:04,340 - Dataset:K_DoesAlgSupportWeightTestLFR_uw1 - INFO - reading /data/data/K_DoesAlgSupportWeightTestLFR_uw1/edges.parq\n",
      "INFO:Dataset:K_DoesAlgSupportWeightTestLFR_uw1:reading /data/data/K_DoesAlgSupportWeightTestLFR_uw1/edges.parq\n",
      "2020-04-22 22:16:04,345 - Dataset:K_DoesAlgSupportWeightTestLFR_uw1 - INFO - min node: 0, max node: 127\n",
      "INFO:Dataset:K_DoesAlgSupportWeightTestLFR_uw1:min node: 0, max node: 127\n",
      "2020-04-22 22:16:04,358 - scan_AnyScan_Scan - INFO - Running /opt/gct/submodules/ppSCAN/anyscan -c 1 -i /data/data/K_DoesAlgSupportWeightTestLFR_uw1/anyscan.txt -m 4 -e 0.5 -o output -a 32768 -b 32768 -t 7\n",
      "INFO:scan_AnyScan_Scan:Running /opt/gct/submodules/ppSCAN/anyscan -c 1 -i /data/data/K_DoesAlgSupportWeightTestLFR_uw1/anyscan.txt -m 4 -e 0.5 -o output -a 32768 -b 32768 -t 7\n",
      "2020-04-22 22:16:04,367 - scan_AnyScan_Scan - INFO - Made 7 clusters in 0.006835 seconds\n",
      "INFO:scan_AnyScan_Scan:Made 7 clusters in 0.006835 seconds\n"
     ]
    },
    {
     "name": "stdout",
     "output_type": "stream",
     "text": [
      "runing  scan_AnyScan_Scan K_DoesAlgSupportWeightTestLFR_uw1\n",
      "finished scan_AnyScan_Scan K_DoesAlgSupportWeightTestLFR_uw1\n"
     ]
    },
    {
     "name": "stderr",
     "output_type": "stream",
     "text": [
      "2020-04-22 22:16:04,478 - scan_AnyScan_anyScan - INFO - seed ignored\n",
      "INFO:scan_AnyScan_anyScan:seed ignored\n",
      "2020-04-22 22:16:04,479 - scan_AnyScan_anyScan - INFO - Running /opt/gct/submodules/ppSCAN/anyscan -c 3 -i /data/data/K_DoesAlgSupportWeightTestLFR_w1/anyscan.txt -m 4 -e 0.5 -o output -a 32768 -b 32768 -t 7\n",
      "INFO:scan_AnyScan_anyScan:Running /opt/gct/submodules/ppSCAN/anyscan -c 3 -i /data/data/K_DoesAlgSupportWeightTestLFR_w1/anyscan.txt -m 4 -e 0.5 -o output -a 32768 -b 32768 -t 7\n",
      "2020-04-22 22:16:04,512 - scan_AnyScan_anyScan - INFO - Made 7 clusters in 0.031525 seconds\n",
      "INFO:scan_AnyScan_anyScan:Made 7 clusters in 0.031525 seconds\n"
     ]
    },
    {
     "name": "stdout",
     "output_type": "stream",
     "text": [
      "runing  scan_AnyScan_anyScan K_DoesAlgSupportWeightTestLFR_w1\n",
      "finished scan_AnyScan_anyScan K_DoesAlgSupportWeightTestLFR_w1\n"
     ]
    },
    {
     "name": "stderr",
     "output_type": "stream",
     "text": [
      "2020-04-22 22:16:04,624 - scan_AnyScan_anyScan - INFO - seed ignored\n",
      "INFO:scan_AnyScan_anyScan:seed ignored\n",
      "2020-04-22 22:16:04,625 - scan_AnyScan_anyScan - INFO - Running /opt/gct/submodules/ppSCAN/anyscan -c 3 -i /data/data/K_DoesAlgSupportWeightTestLFR_uw1/anyscan.txt -m 4 -e 0.5 -o output -a 32768 -b 32768 -t 7\n",
      "INFO:scan_AnyScan_anyScan:Running /opt/gct/submodules/ppSCAN/anyscan -c 3 -i /data/data/K_DoesAlgSupportWeightTestLFR_uw1/anyscan.txt -m 4 -e 0.5 -o output -a 32768 -b 32768 -t 7\n",
      "2020-04-22 22:16:04,658 - scan_AnyScan_anyScan - INFO - Made 7 clusters in 0.031676 seconds\n",
      "INFO:scan_AnyScan_anyScan:Made 7 clusters in 0.031676 seconds\n"
     ]
    },
    {
     "name": "stdout",
     "output_type": "stream",
     "text": [
      "runing  scan_AnyScan_anyScan K_DoesAlgSupportWeightTestLFR_uw1\n",
      "finished scan_AnyScan_anyScan K_DoesAlgSupportWeightTestLFR_uw1\n"
     ]
    },
    {
     "name": "stderr",
     "output_type": "stream",
     "text": [
      "2020-04-22 22:16:04,770 - scan_AnyScan_anyScanParl - INFO - seed ignored\n",
      "INFO:scan_AnyScan_anyScanParl:seed ignored\n",
      "2020-04-22 22:16:04,771 - scan_AnyScan_anyScanParl - INFO - Running /opt/gct/submodules/ppSCAN/anyscan -c 4 -i /data/data/K_DoesAlgSupportWeightTestLFR_w1/anyscan.txt -m 4 -e 0.5 -o output -a 32768 -b 32768 -t 7\n",
      "INFO:scan_AnyScan_anyScanParl:Running /opt/gct/submodules/ppSCAN/anyscan -c 4 -i /data/data/K_DoesAlgSupportWeightTestLFR_w1/anyscan.txt -m 4 -e 0.5 -o output -a 32768 -b 32768 -t 7\n",
      "2020-04-22 22:16:04,821 - scan_AnyScan_anyScanParl - INFO - Made 7 clusters in 0.047557 seconds\n",
      "INFO:scan_AnyScan_anyScanParl:Made 7 clusters in 0.047557 seconds\n"
     ]
    },
    {
     "name": "stdout",
     "output_type": "stream",
     "text": [
      "runing  scan_AnyScan_anyScanParl K_DoesAlgSupportWeightTestLFR_w1\n",
      "finished scan_AnyScan_anyScanParl K_DoesAlgSupportWeightTestLFR_w1\n"
     ]
    },
    {
     "name": "stderr",
     "output_type": "stream",
     "text": [
      "2020-04-22 22:16:04,932 - scan_AnyScan_anyScanParl - INFO - seed ignored\n",
      "INFO:scan_AnyScan_anyScanParl:seed ignored\n",
      "2020-04-22 22:16:04,933 - scan_AnyScan_anyScanParl - INFO - Running /opt/gct/submodules/ppSCAN/anyscan -c 4 -i /data/data/K_DoesAlgSupportWeightTestLFR_uw1/anyscan.txt -m 4 -e 0.5 -o output -a 32768 -b 32768 -t 7\n",
      "INFO:scan_AnyScan_anyScanParl:Running /opt/gct/submodules/ppSCAN/anyscan -c 4 -i /data/data/K_DoesAlgSupportWeightTestLFR_uw1/anyscan.txt -m 4 -e 0.5 -o output -a 32768 -b 32768 -t 7\n"
     ]
    },
    {
     "name": "stdout",
     "output_type": "stream",
     "text": [
      "runing  scan_AnyScan_anyScanParl K_DoesAlgSupportWeightTestLFR_uw1\n"
     ]
    },
    {
     "name": "stderr",
     "output_type": "stream",
     "text": [
      "2020-04-22 22:16:04,979 - scan_AnyScan_anyScanParl - INFO - Made 7 clusters in 0.044671 seconds\n",
      "INFO:scan_AnyScan_anyScanParl:Made 7 clusters in 0.044671 seconds\n"
     ]
    },
    {
     "name": "stdout",
     "output_type": "stream",
     "text": [
      "finished scan_AnyScan_anyScanParl K_DoesAlgSupportWeightTestLFR_uw1\n"
     ]
    },
    {
     "name": "stderr",
     "output_type": "stream",
     "text": [
      "2020-04-22 22:16:05,091 - scan_AnyScan_pScan - INFO - seed ignored\n",
      "INFO:scan_AnyScan_pScan:seed ignored\n",
      "2020-04-22 22:16:05,091 - scan_AnyScan_pScan - INFO - Running /opt/gct/submodules/ppSCAN/anyscan -c 2 -i /data/data/K_DoesAlgSupportWeightTestLFR_w1/anyscan.txt -m 4 -e 0.5 -o output -a 32768 -b 32768 -t 7\n",
      "INFO:scan_AnyScan_pScan:Running /opt/gct/submodules/ppSCAN/anyscan -c 2 -i /data/data/K_DoesAlgSupportWeightTestLFR_w1/anyscan.txt -m 4 -e 0.5 -o output -a 32768 -b 32768 -t 7\n",
      "2020-04-22 22:16:05,100 - scan_AnyScan_pScan - INFO - Made 7 clusters in 0.007213 seconds\n",
      "INFO:scan_AnyScan_pScan:Made 7 clusters in 0.007213 seconds\n"
     ]
    },
    {
     "name": "stdout",
     "output_type": "stream",
     "text": [
      "runing  scan_AnyScan_pScan K_DoesAlgSupportWeightTestLFR_w1\n",
      "finished scan_AnyScan_pScan K_DoesAlgSupportWeightTestLFR_w1\n"
     ]
    },
    {
     "name": "stderr",
     "output_type": "stream",
     "text": [
      "2020-04-22 22:16:05,211 - scan_AnyScan_pScan - INFO - seed ignored\n",
      "INFO:scan_AnyScan_pScan:seed ignored\n",
      "2020-04-22 22:16:05,212 - scan_AnyScan_pScan - INFO - Running /opt/gct/submodules/ppSCAN/anyscan -c 2 -i /data/data/K_DoesAlgSupportWeightTestLFR_uw1/anyscan.txt -m 4 -e 0.5 -o output -a 32768 -b 32768 -t 7\n",
      "INFO:scan_AnyScan_pScan:Running /opt/gct/submodules/ppSCAN/anyscan -c 2 -i /data/data/K_DoesAlgSupportWeightTestLFR_uw1/anyscan.txt -m 4 -e 0.5 -o output -a 32768 -b 32768 -t 7\n",
      "2020-04-22 22:16:05,221 - scan_AnyScan_pScan - INFO - Made 7 clusters in 0.007167 seconds\n",
      "INFO:scan_AnyScan_pScan:Made 7 clusters in 0.007167 seconds\n"
     ]
    },
    {
     "name": "stdout",
     "output_type": "stream",
     "text": [
      "runing  scan_AnyScan_pScan K_DoesAlgSupportWeightTestLFR_uw1\n",
      "finished scan_AnyScan_pScan K_DoesAlgSupportWeightTestLFR_uw1\n"
     ]
    },
    {
     "name": "stderr",
     "output_type": "stream",
     "text": [
      "2020-04-22 22:16:05,332 - scan_Scanpp - INFO - seed ignored\n",
      "INFO:scan_Scanpp:seed ignored\n"
     ]
    },
    {
     "name": "stdout",
     "output_type": "stream",
     "text": [
      "runing  scan_Scanpp K_DoesAlgSupportWeightTestLFR_w1\n",
      "except scan_Scanpp K_DoesAlgSupportWeightTestLFR_w1\n"
     ]
    },
    {
     "name": "stderr",
     "output_type": "stream",
     "text": [
      "2020-04-22 22:16:05,442 - scan_Scanpp - INFO - seed ignored\n",
      "INFO:scan_Scanpp:seed ignored\n",
      "2020-04-22 22:16:05,443 - scan_Scanpp - INFO - Running /opt/gct/submodules/ppSCAN/scanpp -e 0 -m 1 -r /data/data/K_DoesAlgSupportWeightTestLFR_uw1/edges.txt\n",
      "INFO:scan_Scanpp:Running /opt/gct/submodules/ppSCAN/scanpp -e 0 -m 1 -r /data/data/K_DoesAlgSupportWeightTestLFR_uw1/edges.txt\n",
      "2020-04-22 22:16:05,450 - scan_Scanpp - INFO - Made 1 clusters in 0.006526 seconds\n",
      "INFO:scan_Scanpp:Made 1 clusters in 0.006526 seconds\n"
     ]
    },
    {
     "name": "stdout",
     "output_type": "stream",
     "text": [
      "runing  scan_Scanpp K_DoesAlgSupportWeightTestLFR_uw1\n",
      "finished scan_Scanpp K_DoesAlgSupportWeightTestLFR_uw1\n"
     ]
    },
    {
     "name": "stderr",
     "output_type": "stream",
     "text": [
      "2020-04-22 22:16:05,561 - scan_pScan - INFO - seed ignored\n",
      "INFO:scan_pScan:seed ignored\n",
      "2020-04-22 22:16:05,562 - Dataset:K_DoesAlgSupportWeightTestLFR_w1 - INFO - running /opt/gct/submodules/ppSCAN/converter /data/data/K_DoesAlgSupportWeightTestLFR_w1/edges.txt b_degree.bin b_adj.bin\n",
      "INFO:Dataset:K_DoesAlgSupportWeightTestLFR_w1:running /opt/gct/submodules/ppSCAN/converter /data/data/K_DoesAlgSupportWeightTestLFR_w1/edges.txt b_degree.bin b_adj.bin\n",
      "2020-04-22 22:16:05,569 - scan_pScan - INFO - Running /opt/gct/submodules/ppSCAN/pscan /tmp/tmp_j611r1i 0.5 3 output\n",
      "INFO:scan_pScan:Running /opt/gct/submodules/ppSCAN/pscan /tmp/tmp_j611r1i 0.5 3 output\n",
      "2020-04-22 22:16:05,584 - scan_pScan - INFO - Made 6 clusters in 0.005352 seconds\n",
      "INFO:scan_pScan:Made 6 clusters in 0.005352 seconds\n"
     ]
    },
    {
     "name": "stdout",
     "output_type": "stream",
     "text": [
      "runing  scan_pScan K_DoesAlgSupportWeightTestLFR_w1\n",
      "finished scan_pScan K_DoesAlgSupportWeightTestLFR_w1\n"
     ]
    },
    {
     "name": "stderr",
     "output_type": "stream",
     "text": [
      "2020-04-22 22:16:05,695 - scan_pScan - INFO - seed ignored\n",
      "INFO:scan_pScan:seed ignored\n",
      "2020-04-22 22:16:05,696 - Dataset:K_DoesAlgSupportWeightTestLFR_uw1 - INFO - running /opt/gct/submodules/ppSCAN/converter /data/data/K_DoesAlgSupportWeightTestLFR_uw1/edges.txt b_degree.bin b_adj.bin\n",
      "INFO:Dataset:K_DoesAlgSupportWeightTestLFR_uw1:running /opt/gct/submodules/ppSCAN/converter /data/data/K_DoesAlgSupportWeightTestLFR_uw1/edges.txt b_degree.bin b_adj.bin\n",
      "2020-04-22 22:16:05,704 - scan_pScan - INFO - Running /opt/gct/submodules/ppSCAN/pscan /tmp/tmpp5d0mkm1 0.5 3 output\n",
      "INFO:scan_pScan:Running /opt/gct/submodules/ppSCAN/pscan /tmp/tmpp5d0mkm1 0.5 3 output\n",
      "2020-04-22 22:16:05,718 - scan_pScan - INFO - Made 6 clusters in 0.005227 seconds\n",
      "INFO:scan_pScan:Made 6 clusters in 0.005227 seconds\n"
     ]
    },
    {
     "name": "stdout",
     "output_type": "stream",
     "text": [
      "runing  scan_pScan K_DoesAlgSupportWeightTestLFR_uw1\n",
      "finished scan_pScan K_DoesAlgSupportWeightTestLFR_uw1\n"
     ]
    },
    {
     "name": "stderr",
     "output_type": "stream",
     "text": [
      "2020-04-22 22:16:05,829 - scan_ppScan - INFO - seed ignored\n",
      "INFO:scan_ppScan:seed ignored\n",
      "2020-04-22 22:16:05,830 - scan_ppScan - INFO - Running /opt/gct/submodules/ppSCAN/pSCANParallel /tmp/tmpaa0qzdw_ 0.5 3 output\n",
      "INFO:scan_ppScan:Running /opt/gct/submodules/ppSCAN/pSCANParallel /tmp/tmpaa0qzdw_ 0.5 3 output\n",
      "2020-04-22 22:16:05,846 - scan_ppScan - INFO - Made 6 clusters in 0.007366 seconds\n",
      "INFO:scan_ppScan:Made 6 clusters in 0.007366 seconds\n"
     ]
    },
    {
     "name": "stdout",
     "output_type": "stream",
     "text": [
      "runing  scan_ppScan K_DoesAlgSupportWeightTestLFR_w1\n",
      "finished scan_ppScan K_DoesAlgSupportWeightTestLFR_w1\n"
     ]
    },
    {
     "name": "stderr",
     "output_type": "stream",
     "text": [
      "2020-04-22 22:16:05,957 - scan_ppScan - INFO - seed ignored\n",
      "INFO:scan_ppScan:seed ignored\n",
      "2020-04-22 22:16:05,958 - scan_ppScan - INFO - Running /opt/gct/submodules/ppSCAN/pSCANParallel /tmp/tmpscv1gg8e 0.5 3 output\n",
      "INFO:scan_ppScan:Running /opt/gct/submodules/ppSCAN/pSCANParallel /tmp/tmpscv1gg8e 0.5 3 output\n",
      "2020-04-22 22:16:05,974 - scan_ppScan - INFO - Made 6 clusters in 0.007284 seconds\n",
      "INFO:scan_ppScan:Made 6 clusters in 0.007284 seconds\n"
     ]
    },
    {
     "name": "stdout",
     "output_type": "stream",
     "text": [
      "runing  scan_ppScan K_DoesAlgSupportWeightTestLFR_uw1\n",
      "finished scan_ppScan K_DoesAlgSupportWeightTestLFR_uw1\n"
     ]
    },
    {
     "name": "stderr",
     "output_type": "stream",
     "text": [
      "2020-04-22 22:16:06,085 - scan_ppScanSSE - INFO - seed ignored\n",
      "INFO:scan_ppScanSSE:seed ignored\n",
      "2020-04-22 22:16:06,086 - scan_ppScanSSE - INFO - Running /opt/gct/submodules/ppSCAN/pSCANParallelSSE /tmp/tmpoy8h9t2z 0.5 3 output\n",
      "INFO:scan_ppScanSSE:Running /opt/gct/submodules/ppSCAN/pSCANParallelSSE /tmp/tmpoy8h9t2z 0.5 3 output\n",
      "2020-04-22 22:16:06,103 - scan_ppScanSSE - INFO - Made 6 clusters in 0.008399 seconds\n",
      "INFO:scan_ppScanSSE:Made 6 clusters in 0.008399 seconds\n"
     ]
    },
    {
     "name": "stdout",
     "output_type": "stream",
     "text": [
      "runing  scan_ppScanSSE K_DoesAlgSupportWeightTestLFR_w1\n",
      "finished scan_ppScanSSE K_DoesAlgSupportWeightTestLFR_w1\n"
     ]
    },
    {
     "name": "stderr",
     "output_type": "stream",
     "text": [
      "2020-04-22 22:16:06,215 - scan_ppScanSSE - INFO - seed ignored\n",
      "INFO:scan_ppScanSSE:seed ignored\n",
      "2020-04-22 22:16:06,216 - scan_ppScanSSE - INFO - Running /opt/gct/submodules/ppSCAN/pSCANParallelSSE /tmp/tmpwilhas2i 0.5 3 output\n",
      "INFO:scan_ppScanSSE:Running /opt/gct/submodules/ppSCAN/pSCANParallelSSE /tmp/tmpwilhas2i 0.5 3 output\n",
      "2020-04-22 22:16:06,233 - scan_ppScanSSE - INFO - Made 6 clusters in 0.007550 seconds\n",
      "INFO:scan_ppScanSSE:Made 6 clusters in 0.007550 seconds\n"
     ]
    },
    {
     "name": "stdout",
     "output_type": "stream",
     "text": [
      "runing  scan_ppScanSSE K_DoesAlgSupportWeightTestLFR_uw1\n",
      "finished scan_ppScanSSE K_DoesAlgSupportWeightTestLFR_uw1\n"
     ]
    },
    {
     "name": "stderr",
     "output_type": "stream",
     "text": [
      "2020-04-22 22:16:06,344 - sklearn_AffinityPropagation - INFO - seed ignored\n",
      "INFO:sklearn_AffinityPropagation:seed ignored\n",
      "2020-04-22 22:16:06,345 - Dataset:K_DoesAlgSupportWeightTestLFR_w1 - INFO - reading /data/data/K_DoesAlgSupportWeightTestLFR_w1/edges.parq\n",
      "INFO:Dataset:K_DoesAlgSupportWeightTestLFR_w1:reading /data/data/K_DoesAlgSupportWeightTestLFR_w1/edges.parq\n",
      "2020-04-22 22:16:06,359 - sklearn_AffinityPropagation - INFO - Made 9 clusters in 0.009966 seconds\n",
      "INFO:sklearn_AffinityPropagation:Made 9 clusters in 0.009966 seconds\n"
     ]
    },
    {
     "name": "stdout",
     "output_type": "stream",
     "text": [
      "runing  sklearn_AffinityPropagation K_DoesAlgSupportWeightTestLFR_w1\n",
      "finished sklearn_AffinityPropagation K_DoesAlgSupportWeightTestLFR_w1\n"
     ]
    },
    {
     "name": "stderr",
     "output_type": "stream",
     "text": [
      "2020-04-22 22:16:06,470 - sklearn_AffinityPropagation - INFO - seed ignored\n",
      "INFO:sklearn_AffinityPropagation:seed ignored\n",
      "2020-04-22 22:16:06,471 - Dataset:K_DoesAlgSupportWeightTestLFR_uw1 - INFO - reading /data/data/K_DoesAlgSupportWeightTestLFR_uw1/edges.parq\n",
      "INFO:Dataset:K_DoesAlgSupportWeightTestLFR_uw1:reading /data/data/K_DoesAlgSupportWeightTestLFR_uw1/edges.parq\n",
      "2020-04-22 22:16:06,497 - sklearn_AffinityPropagation - INFO - Made 8 clusters in 0.021720 seconds\n",
      "INFO:sklearn_AffinityPropagation:Made 8 clusters in 0.021720 seconds\n"
     ]
    },
    {
     "name": "stdout",
     "output_type": "stream",
     "text": [
      "runing  sklearn_AffinityPropagation K_DoesAlgSupportWeightTestLFR_uw1\n",
      "finished sklearn_AffinityPropagation K_DoesAlgSupportWeightTestLFR_uw1\n"
     ]
    },
    {
     "name": "stderr",
     "output_type": "stream",
     "text": [
      "2020-04-22 22:16:06,608 - sklearn_SpectralClustering - INFO - seed ignored\n",
      "INFO:sklearn_SpectralClustering:seed ignored\n",
      "2020-04-22 22:16:06,609 - Dataset:K_DoesAlgSupportWeightTestLFR_w1 - INFO - reading /data/data/K_DoesAlgSupportWeightTestLFR_w1/edges.parq\n",
      "INFO:Dataset:K_DoesAlgSupportWeightTestLFR_w1:reading /data/data/K_DoesAlgSupportWeightTestLFR_w1/edges.parq\n"
     ]
    },
    {
     "name": "stdout",
     "output_type": "stream",
     "text": [
      "runing  sklearn_SpectralClustering K_DoesAlgSupportWeightTestLFR_w1\n"
     ]
    },
    {
     "name": "stderr",
     "output_type": "stream",
     "text": [
      "2020-04-22 22:16:06,693 - sklearn_SpectralClustering - INFO - Made 8 clusters in 0.079375 seconds\n",
      "INFO:sklearn_SpectralClustering:Made 8 clusters in 0.079375 seconds\n"
     ]
    },
    {
     "name": "stdout",
     "output_type": "stream",
     "text": [
      "finished sklearn_SpectralClustering K_DoesAlgSupportWeightTestLFR_w1\n",
      "runing  sklearn_SpectralClustering K_DoesAlgSupportWeightTestLFR_uw1\n"
     ]
    },
    {
     "name": "stderr",
     "output_type": "stream",
     "text": [
      "2020-04-22 22:16:06,808 - sklearn_SpectralClustering - INFO - seed ignored\n",
      "INFO:sklearn_SpectralClustering:seed ignored\n",
      "2020-04-22 22:16:06,809 - Dataset:K_DoesAlgSupportWeightTestLFR_uw1 - INFO - reading /data/data/K_DoesAlgSupportWeightTestLFR_uw1/edges.parq\n",
      "INFO:Dataset:K_DoesAlgSupportWeightTestLFR_uw1:reading /data/data/K_DoesAlgSupportWeightTestLFR_uw1/edges.parq\n",
      "2020-04-22 22:16:06,875 - sklearn_SpectralClustering - INFO - Made 8 clusters in 0.059678 seconds\n",
      "INFO:sklearn_SpectralClustering:Made 8 clusters in 0.059678 seconds\n"
     ]
    },
    {
     "name": "stdout",
     "output_type": "stream",
     "text": [
      "finished sklearn_SpectralClustering K_DoesAlgSupportWeightTestLFR_uw1\n"
     ]
    },
    {
     "name": "stderr",
     "output_type": "stream",
     "text": [
      "2020-04-22 22:16:06,989 - snap_Clauset_Newman_Moore - INFO - seed ignored\n",
      "INFO:snap_Clauset_Newman_Moore:seed ignored\n",
      "2020-04-22 22:16:06,993 - snap_Clauset_Newman_Moore - INFO - Made 6 clusters in 0.002235 seconds. modularity of the graph is 0.584835\n",
      "INFO:snap_Clauset_Newman_Moore:Made 6 clusters in 0.002235 seconds. modularity of the graph is 0.584835\n"
     ]
    },
    {
     "name": "stdout",
     "output_type": "stream",
     "text": [
      "runing  snap_Clauset_Newman_Moore K_DoesAlgSupportWeightTestLFR_w1\n",
      "finished snap_Clauset_Newman_Moore K_DoesAlgSupportWeightTestLFR_w1\n"
     ]
    },
    {
     "name": "stderr",
     "output_type": "stream",
     "text": [
      "2020-04-22 22:16:07,107 - snap_Clauset_Newman_Moore - INFO - seed ignored\n",
      "INFO:snap_Clauset_Newman_Moore:seed ignored\n",
      "2020-04-22 22:16:07,112 - snap_Clauset_Newman_Moore - INFO - Made 6 clusters in 0.002604 seconds. modularity of the graph is 0.584835\n",
      "INFO:snap_Clauset_Newman_Moore:Made 6 clusters in 0.002604 seconds. modularity of the graph is 0.584835\n"
     ]
    },
    {
     "name": "stdout",
     "output_type": "stream",
     "text": [
      "runing  snap_Clauset_Newman_Moore K_DoesAlgSupportWeightTestLFR_uw1\n",
      "finished snap_Clauset_Newman_Moore K_DoesAlgSupportWeightTestLFR_uw1\n"
     ]
    },
    {
     "name": "stderr",
     "output_type": "stream",
     "text": [
      "2020-04-22 22:16:07,225 - snap_Girvan_Newman - INFO - seed ignored\n",
      "INFO:snap_Girvan_Newman:seed ignored\n"
     ]
    },
    {
     "name": "stdout",
     "output_type": "stream",
     "text": [
      "runing  snap_Girvan_Newman K_DoesAlgSupportWeightTestLFR_w1\n"
     ]
    },
    {
     "name": "stderr",
     "output_type": "stream",
     "text": [
      "2020-04-22 22:16:13,290 - snap_Girvan_Newman - INFO - Made 6 clusters in 6.063082 seconds. modularity of the graph is 0.607348\n",
      "INFO:snap_Girvan_Newman:Made 6 clusters in 6.063082 seconds. modularity of the graph is 0.607348\n"
     ]
    },
    {
     "name": "stdout",
     "output_type": "stream",
     "text": [
      "finished snap_Girvan_Newman K_DoesAlgSupportWeightTestLFR_w1\n"
     ]
    },
    {
     "name": "stderr",
     "output_type": "stream",
     "text": [
      "2020-04-22 22:16:13,404 - snap_Girvan_Newman - INFO - seed ignored\n",
      "INFO:snap_Girvan_Newman:seed ignored\n"
     ]
    },
    {
     "name": "stdout",
     "output_type": "stream",
     "text": [
      "runing  snap_Girvan_Newman K_DoesAlgSupportWeightTestLFR_uw1\n"
     ]
    },
    {
     "name": "stderr",
     "output_type": "stream",
     "text": [
      "2020-04-22 22:16:19,461 - snap_Girvan_Newman - INFO - Made 6 clusters in 6.054770 seconds. modularity of the graph is 0.607348\n",
      "INFO:snap_Girvan_Newman:Made 6 clusters in 6.054770 seconds. modularity of the graph is 0.607348\n"
     ]
    },
    {
     "name": "stdout",
     "output_type": "stream",
     "text": [
      "finished snap_Girvan_Newman K_DoesAlgSupportWeightTestLFR_uw1\n"
     ]
    },
    {
     "name": "stderr",
     "output_type": "stream",
     "text": [
      "2020-04-22 22:16:19,604 - alg_Paris - INFO - Made 6 clusters in 0.029185 seconds\n",
      "INFO:alg_Paris:Made 6 clusters in 0.029185 seconds\n"
     ]
    },
    {
     "name": "stdout",
     "output_type": "stream",
     "text": [
      "runing  alg_Paris K_DoesAlgSupportWeightTestLFR_w1\n",
      "finished alg_Paris K_DoesAlgSupportWeightTestLFR_w1\n"
     ]
    },
    {
     "name": "stderr",
     "output_type": "stream",
     "text": [
      "2020-04-22 22:16:19,742 - alg_Paris - INFO - Made 6 clusters in 0.027120 seconds\n",
      "INFO:alg_Paris:Made 6 clusters in 0.027120 seconds\n"
     ]
    },
    {
     "name": "stdout",
     "output_type": "stream",
     "text": [
      "runing  alg_Paris K_DoesAlgSupportWeightTestLFR_uw1\n",
      "finished alg_Paris K_DoesAlgSupportWeightTestLFR_uw1\n"
     ]
    },
    {
     "name": "stderr",
     "output_type": "stream",
     "text": [
      "2020-04-22 22:16:19,854 - alg_lso_cluster - INFO - Running /opt/gct/submodules/graph-cluster/lso-cluster /tmp/tmpk2f64bvu/edges.txt --seed 123 --loss modularity -o lsooutput\n",
      "INFO:alg_lso_cluster:Running /opt/gct/submodules/graph-cluster/lso-cluster /tmp/tmpk2f64bvu/edges.txt --seed 123 --loss modularity -o lsooutput\n",
      "2020-04-22 22:16:19,870 - alg_lso_cluster - INFO - Made 6 clusters in 0.009514 seconds\n",
      "INFO:alg_lso_cluster:Made 6 clusters in 0.009514 seconds\n"
     ]
    },
    {
     "name": "stdout",
     "output_type": "stream",
     "text": [
      "runing  alg_lso_cluster K_DoesAlgSupportWeightTestLFR_w1\n",
      "finished alg_lso_cluster K_DoesAlgSupportWeightTestLFR_w1\n"
     ]
    },
    {
     "name": "stderr",
     "output_type": "stream",
     "text": [
      "2020-04-22 22:16:19,981 - alg_lso_cluster - INFO - Running /opt/gct/submodules/graph-cluster/lso-cluster /tmp/tmpz9xg8ewm/edges.txt --seed 123 --loss modularity -o lsooutput\n",
      "INFO:alg_lso_cluster:Running /opt/gct/submodules/graph-cluster/lso-cluster /tmp/tmpz9xg8ewm/edges.txt --seed 123 --loss modularity -o lsooutput\n",
      "2020-04-22 22:16:19,995 - alg_lso_cluster - INFO - Made 6 clusters in 0.008678 seconds\n",
      "INFO:alg_lso_cluster:Made 6 clusters in 0.008678 seconds\n"
     ]
    },
    {
     "name": "stdout",
     "output_type": "stream",
     "text": [
      "runing  alg_lso_cluster K_DoesAlgSupportWeightTestLFR_uw1\n",
      "finished alg_lso_cluster K_DoesAlgSupportWeightTestLFR_uw1\n"
     ]
    },
    {
     "name": "stderr",
     "output_type": "stream",
     "text": [
      "2020-04-22 22:16:20,107 - alg_streamcom - INFO - Running /opt/gct/submodules/graph-streaming/streamcom --seed 123 -f /data/data/K_DoesAlgSupportWeightTestLFR_w1/edges.txt -o output /data/data/K_DoesAlgSupportWeightTestLFR_w1/edges.txt\n",
      "INFO:alg_streamcom:Running /opt/gct/submodules/graph-streaming/streamcom --seed 123 -f /data/data/K_DoesAlgSupportWeightTestLFR_w1/edges.txt -o output /data/data/K_DoesAlgSupportWeightTestLFR_w1/edges.txt\n",
      "2020-04-22 22:16:20,116 - alg_streamcom - INFO - Made 1 clusters in 0.007153 seconds\n",
      "INFO:alg_streamcom:Made 1 clusters in 0.007153 seconds\n"
     ]
    },
    {
     "name": "stdout",
     "output_type": "stream",
     "text": [
      "runing  alg_streamcom K_DoesAlgSupportWeightTestLFR_w1\n",
      "finished alg_streamcom K_DoesAlgSupportWeightTestLFR_w1\n"
     ]
    },
    {
     "name": "stderr",
     "output_type": "stream",
     "text": [
      "2020-04-22 22:16:20,228 - alg_streamcom - INFO - Running /opt/gct/submodules/graph-streaming/streamcom --seed 123 -f /data/data/K_DoesAlgSupportWeightTestLFR_uw1/edges.txt -o output /data/data/K_DoesAlgSupportWeightTestLFR_uw1/edges.txt\n",
      "INFO:alg_streamcom:Running /opt/gct/submodules/graph-streaming/streamcom --seed 123 -f /data/data/K_DoesAlgSupportWeightTestLFR_uw1/edges.txt -o output /data/data/K_DoesAlgSupportWeightTestLFR_uw1/edges.txt\n",
      "2020-04-22 22:16:20,236 - alg_streamcom - INFO - Made 72 clusters in 0.005746 seconds\n",
      "INFO:alg_streamcom:Made 72 clusters in 0.005746 seconds\n"
     ]
    },
    {
     "name": "stdout",
     "output_type": "stream",
     "text": [
      "runing  alg_streamcom K_DoesAlgSupportWeightTestLFR_uw1\n",
      "finished alg_streamcom K_DoesAlgSupportWeightTestLFR_uw1\n"
     ]
    }
   ],
   "source": [
    "datasets=[data_w.name,data_uw.name]\n",
    "for alg in gct.list_algorithms():\n",
    "    for name in datasets:\n",
    "        run_alg_timeout(alg, name)"
   ]
  },
  {
   "cell_type": "code",
   "execution_count": 13,
   "metadata": {},
   "outputs": [
    {
     "name": "stdout",
     "output_type": "stream",
     "text": [
      "K_DoesAlgSupportWeightTestLFR_w1 oslom_lpm\n",
      "K_DoesAlgSupportWeightTestLFR_w1 oslom_Infohiermap\n",
      "K_DoesAlgSupportWeightTestLFR_w1 oslom_Infomap\n",
      "K_DoesAlgSupportWeightTestLFR_w1 oslom_OSLOM\n",
      "K_DoesAlgSupportWeightTestLFR_w1 oslom_copra\n",
      "K_DoesAlgSupportWeightTestLFR_w1 oslom_louvain_method\n",
      "K_DoesAlgSupportWeightTestLFR_w1 oslom_modopt\n",
      "K_DoesAlgSupportWeightTestLFR_w1 pycabem_GANXiSw\n",
      "K_DoesAlgSupportWeightTestLFR_w1 pycabem_HiReCS\n",
      "K_DoesAlgSupportWeightTestLFR_w1 pycabem_LabelRank\n",
      "K_DoesAlgSupportWeightTestLFR_w1 cdc_CONGA\n",
      "K_DoesAlgSupportWeightTestLFR_w1 cdc_CliquePercolation\n",
      "K_DoesAlgSupportWeightTestLFR_w1 cdc_Connected_Iterative_Scan\n",
      "K_DoesAlgSupportWeightTestLFR_w1 cdc_EAGLE\n",
      "K_DoesAlgSupportWeightTestLFR_w1 cdc_FastCpm\n",
      "K_DoesAlgSupportWeightTestLFR_w1 cdc_GCE\n",
      "K_DoesAlgSupportWeightTestLFR_w1 cdc_LinkCommunities\n",
      "K_DoesAlgSupportWeightTestLFR_w1 cdc_MOSES\n",
      "K_DoesAlgSupportWeightTestLFR_w1 cdc_MSCD_AFG\n",
      "K_DoesAlgSupportWeightTestLFR_w1 cdc_MSCD_HSLSW\n",
      "K_DoesAlgSupportWeightTestLFR_w1 cdc_MSCD_LFK\n",
      "K_DoesAlgSupportWeightTestLFR_w1 cdc_MSCD_LFK2\n",
      "K_DoesAlgSupportWeightTestLFR_w1 cdc_MSCD_RB\n",
      "K_DoesAlgSupportWeightTestLFR_w1 cdc_MSCD_RN\n",
      "K_DoesAlgSupportWeightTestLFR_w1 cdc_MSCD_SO\n",
      "K_DoesAlgSupportWeightTestLFR_w1 cdc_MSCD_SOM\n",
      "K_DoesAlgSupportWeightTestLFR_w1 cdc_ParCPM\n",
      "K_DoesAlgSupportWeightTestLFR_w1 cdc_SVINET\n",
      "K_DoesAlgSupportWeightTestLFR_w1 cdc_TopGC\n",
      "K_DoesAlgSupportWeightTestLFR_w1 cdc_clique_modularity\n",
      "K_DoesAlgSupportWeightTestLFR_w1 cgcc_CGGC\n",
      "K_DoesAlgSupportWeightTestLFR_w1 dct_dlplm\n",
      "K_DoesAlgSupportWeightTestLFR_w1 dct_dlslm\n",
      "K_DoesAlgSupportWeightTestLFR_w1 dct_dlslm_map_eq\n",
      "K_DoesAlgSupportWeightTestLFR_w1 dct_dlslm_no_contraction\n",
      "K_DoesAlgSupportWeightTestLFR_w1 dct_dlslm_with_seq\n",
      "K_DoesAlgSupportWeightTestLFR_w1 dct_infomap\n",
      "K_DoesAlgSupportWeightTestLFR_w1 dct_seq_louvain\n",
      "K_DoesAlgSupportWeightTestLFR_w1 igraph_community_edge_betweenness\n",
      "K_DoesAlgSupportWeightTestLFR_w1 igraph_community_fastgreedy\n",
      "K_DoesAlgSupportWeightTestLFR_w1 igraph_community_infomap\n",
      "K_DoesAlgSupportWeightTestLFR_w1 igraph_community_label_propagation\n",
      "K_DoesAlgSupportWeightTestLFR_w1 igraph_community_leading_eigenvector\n",
      "K_DoesAlgSupportWeightTestLFR_w1 igraph_community_multilevel\n",
      "K_DoesAlgSupportWeightTestLFR_w1 igraph_community_optimal_modularity\n",
      "K_DoesAlgSupportWeightTestLFR_w1 igraph_community_spinglass\n",
      "K_DoesAlgSupportWeightTestLFR_w1 igraph_community_walktrap\n",
      "K_DoesAlgSupportWeightTestLFR_w1 mcl_MCL\n",
      "K_DoesAlgSupportWeightTestLFR_w1 networkit_CutClustering\n",
      "K_DoesAlgSupportWeightTestLFR_w1 networkit_LPDegreeOrdered\n",
      "K_DoesAlgSupportWeightTestLFR_w1 networkit_PLM\n",
      "K_DoesAlgSupportWeightTestLFR_w1 networkit_PLP\n",
      "K_DoesAlgSupportWeightTestLFR_w1 alg_GossipMap\n",
      "K_DoesAlgSupportWeightTestLFR_w1 alg_RelaxMap\n",
      "K_DoesAlgSupportWeightTestLFR_w1 alg_pg_label_propagation\n",
      "K_DoesAlgSupportWeightTestLFR_w1 scan_AnyScan_Scan\n",
      "K_DoesAlgSupportWeightTestLFR_w1 scan_AnyScan_anyScan\n",
      "K_DoesAlgSupportWeightTestLFR_w1 scan_AnyScan_anyScanParl\n",
      "K_DoesAlgSupportWeightTestLFR_w1 scan_AnyScan_pScan\n",
      "K_DoesAlgSupportWeightTestLFR_w1 scan_pScan\n",
      "K_DoesAlgSupportWeightTestLFR_w1 scan_ppScan\n",
      "K_DoesAlgSupportWeightTestLFR_w1 scan_ppScanSSE\n",
      "K_DoesAlgSupportWeightTestLFR_w1 sklearn_AffinityPropagation\n",
      "K_DoesAlgSupportWeightTestLFR_w1 sklearn_SpectralClustering\n",
      "K_DoesAlgSupportWeightTestLFR_w1 snap_Clauset_Newman_Moore\n",
      "K_DoesAlgSupportWeightTestLFR_w1 snap_Girvan_Newman\n",
      "K_DoesAlgSupportWeightTestLFR_w1 alg_Paris\n",
      "K_DoesAlgSupportWeightTestLFR_w1 alg_lso_cluster\n",
      "K_DoesAlgSupportWeightTestLFR_w1 alg_streamcom\n",
      "K_DoesAlgSupportWeightTestLFR_uw1 oslom_Infohiermap\n",
      "K_DoesAlgSupportWeightTestLFR_uw1 oslom_Infomap\n",
      "K_DoesAlgSupportWeightTestLFR_uw1 oslom_OSLOM\n",
      "K_DoesAlgSupportWeightTestLFR_uw1 oslom_copra\n",
      "K_DoesAlgSupportWeightTestLFR_uw1 oslom_louvain_method\n",
      "K_DoesAlgSupportWeightTestLFR_uw1 oslom_lpm\n",
      "K_DoesAlgSupportWeightTestLFR_uw1 oslom_modopt\n",
      "K_DoesAlgSupportWeightTestLFR_uw1 pycabem_GANXiSw\n",
      "K_DoesAlgSupportWeightTestLFR_uw1 pycabem_HiReCS\n",
      "K_DoesAlgSupportWeightTestLFR_uw1 pycabem_LabelRank\n",
      "K_DoesAlgSupportWeightTestLFR_uw1 cdc_CONGA\n",
      "K_DoesAlgSupportWeightTestLFR_uw1 cdc_CliquePercolation\n",
      "K_DoesAlgSupportWeightTestLFR_uw1 cdc_Connected_Iterative_Scan\n",
      "K_DoesAlgSupportWeightTestLFR_uw1 cdc_EAGLE\n",
      "K_DoesAlgSupportWeightTestLFR_uw1 cdc_FastCpm\n",
      "K_DoesAlgSupportWeightTestLFR_uw1 cdc_GCE\n",
      "K_DoesAlgSupportWeightTestLFR_uw1 cdc_LinkCommunities\n",
      "K_DoesAlgSupportWeightTestLFR_uw1 cdc_MOSES\n",
      "K_DoesAlgSupportWeightTestLFR_uw1 cdc_MSCD_AFG\n",
      "K_DoesAlgSupportWeightTestLFR_uw1 cdc_MSCD_HSLSW\n",
      "K_DoesAlgSupportWeightTestLFR_uw1 cdc_MSCD_LFK\n",
      "K_DoesAlgSupportWeightTestLFR_uw1 cdc_MSCD_LFK2\n",
      "K_DoesAlgSupportWeightTestLFR_uw1 cdc_MSCD_RB\n",
      "K_DoesAlgSupportWeightTestLFR_uw1 cdc_MSCD_RN\n",
      "K_DoesAlgSupportWeightTestLFR_uw1 cdc_MSCD_SO\n",
      "K_DoesAlgSupportWeightTestLFR_uw1 cdc_MSCD_SOM\n",
      "K_DoesAlgSupportWeightTestLFR_uw1 cdc_ParCPM\n",
      "K_DoesAlgSupportWeightTestLFR_uw1 cdc_SVINET\n",
      "K_DoesAlgSupportWeightTestLFR_uw1 cdc_TopGC\n",
      "K_DoesAlgSupportWeightTestLFR_uw1 cdc_clique_modularity\n",
      "K_DoesAlgSupportWeightTestLFR_uw1 cgcc_CGGC\n",
      "K_DoesAlgSupportWeightTestLFR_uw1 dct_dlplm\n",
      "K_DoesAlgSupportWeightTestLFR_uw1 dct_dlslm\n",
      "K_DoesAlgSupportWeightTestLFR_uw1 dct_dlslm_map_eq\n",
      "K_DoesAlgSupportWeightTestLFR_uw1 dct_dlslm_no_contraction\n",
      "K_DoesAlgSupportWeightTestLFR_uw1 dct_dlslm_with_seq\n",
      "K_DoesAlgSupportWeightTestLFR_uw1 dct_infomap\n",
      "K_DoesAlgSupportWeightTestLFR_uw1 dct_seq_louvain\n",
      "K_DoesAlgSupportWeightTestLFR_uw1 igraph_community_edge_betweenness\n",
      "K_DoesAlgSupportWeightTestLFR_uw1 igraph_community_fastgreedy\n",
      "K_DoesAlgSupportWeightTestLFR_uw1 igraph_community_infomap\n",
      "K_DoesAlgSupportWeightTestLFR_uw1 igraph_community_label_propagation\n",
      "K_DoesAlgSupportWeightTestLFR_uw1 igraph_community_leading_eigenvector\n",
      "K_DoesAlgSupportWeightTestLFR_uw1 igraph_community_multilevel\n",
      "K_DoesAlgSupportWeightTestLFR_uw1 igraph_community_optimal_modularity\n",
      "K_DoesAlgSupportWeightTestLFR_uw1 igraph_community_spinglass\n",
      "K_DoesAlgSupportWeightTestLFR_uw1 igraph_community_walktrap\n",
      "K_DoesAlgSupportWeightTestLFR_uw1 mcl_MCL\n",
      "K_DoesAlgSupportWeightTestLFR_uw1 networkit_CutClustering\n",
      "K_DoesAlgSupportWeightTestLFR_uw1 networkit_LPDegreeOrdered\n",
      "K_DoesAlgSupportWeightTestLFR_uw1 networkit_PLM\n",
      "K_DoesAlgSupportWeightTestLFR_uw1 networkit_PLP\n",
      "K_DoesAlgSupportWeightTestLFR_uw1 alg_GossipMap\n",
      "K_DoesAlgSupportWeightTestLFR_uw1 alg_RelaxMap\n",
      "K_DoesAlgSupportWeightTestLFR_uw1 alg_pg_label_propagation\n",
      "K_DoesAlgSupportWeightTestLFR_uw1 scan_AnyScan_Scan\n",
      "K_DoesAlgSupportWeightTestLFR_uw1 scan_AnyScan_anyScan\n",
      "K_DoesAlgSupportWeightTestLFR_uw1 scan_AnyScan_anyScanParl\n",
      "K_DoesAlgSupportWeightTestLFR_uw1 scan_AnyScan_pScan\n",
      "K_DoesAlgSupportWeightTestLFR_uw1 scan_Scanpp\n",
      "K_DoesAlgSupportWeightTestLFR_uw1 scan_pScan\n",
      "K_DoesAlgSupportWeightTestLFR_uw1 scan_ppScan\n",
      "K_DoesAlgSupportWeightTestLFR_uw1 scan_ppScanSSE\n",
      "K_DoesAlgSupportWeightTestLFR_uw1 sklearn_AffinityPropagation\n",
      "K_DoesAlgSupportWeightTestLFR_uw1 sklearn_SpectralClustering\n",
      "K_DoesAlgSupportWeightTestLFR_uw1 snap_Clauset_Newman_Moore\n",
      "K_DoesAlgSupportWeightTestLFR_uw1 snap_Girvan_Newman\n",
      "K_DoesAlgSupportWeightTestLFR_uw1 alg_Paris\n",
      "K_DoesAlgSupportWeightTestLFR_uw1 alg_lso_cluster\n",
      "K_DoesAlgSupportWeightTestLFR_uw1 alg_streamcom\n"
     ]
    }
   ],
   "source": [
    "    results = {}\n",
    "    d = gct.list_all_clustering_results(print_format=False)\n",
    "    for u in d:\n",
    "        if prefix + \"_\" in u:\n",
    "            for run in d[u]:\n",
    "                a = gct.load_clustering_result(u, run)\n",
    "                print (u, run)\n",
    "                results[u + run] = a\n",
    "\n"
   ]
  },
  {
   "cell_type": "code",
   "execution_count": 14,
   "metadata": {},
   "outputs": [
    {
     "name": "stderr",
     "output_type": "stream",
     "text": [
      "2020-04-22 22:16:20,407 - ClusterComparator - INFO - resulting 128 nodes out of 128,128\n",
      "INFO:ClusterComparator:resulting 128 nodes out of 128,128\n",
      "/opt/conda/envs/python3/lib/python3.6/site-packages/sklearn/metrics/cluster/supervised.py:859: FutureWarning: The behavior of NMI will change in version 0.22. To match the behavior of 'v_measure_score', NMI will use average_method='arithmetic' by default.\n",
      "  FutureWarning)\n",
      "2020-04-22 22:16:20,418 - ClusterComparator - INFO - Running /opt/gct/submodules/OvpNMI/onmi /tmp/tmpb5x4kqzf/cluster1.cnl /tmp/tmpb5x4kqzf/cluster2.cnl > ovpnmioutput\n",
      "INFO:ClusterComparator:Running /opt/gct/submodules/OvpNMI/onmi /tmp/tmpb5x4kqzf/cluster1.cnl /tmp/tmpb5x4kqzf/cluster2.cnl > ovpnmioutput\n",
      "2020-04-22 22:16:20,427 - Clustering - INFO - reading/data/data/K_DoesAlgSupportWeightTestLFR_w1/gt_default.parq\n",
      "INFO:Clustering:reading/data/data/K_DoesAlgSupportWeightTestLFR_w1/gt_default.parq\n",
      "2020-04-22 22:16:20,434 - ClusterComparator - INFO - resulting 128 nodes out of 128,128\n",
      "INFO:ClusterComparator:resulting 128 nodes out of 128,128\n",
      "/opt/conda/envs/python3/lib/python3.6/site-packages/sklearn/metrics/cluster/supervised.py:859: FutureWarning: The behavior of NMI will change in version 0.22. To match the behavior of 'v_measure_score', NMI will use average_method='arithmetic' by default.\n",
      "  FutureWarning)\n",
      "2020-04-22 22:16:20,441 - Clustering - INFO - persistent cluster to cnl file: /data/data/K_DoesAlgSupportWeightTestLFR_w1/gt_default.parq.cnl\n",
      "INFO:Clustering:persistent cluster to cnl file: /data/data/K_DoesAlgSupportWeightTestLFR_w1/gt_default.parq.cnl\n",
      "2020-04-22 22:16:20,446 - ClusterComparator - INFO - Running /opt/gct/submodules/OvpNMI/onmi /tmp/tmptvsho2rm/cluster1.cnl /tmp/tmptvsho2rm/cluster2.cnl > ovpnmioutput\n",
      "INFO:ClusterComparator:Running /opt/gct/submodules/OvpNMI/onmi /tmp/tmptvsho2rm/cluster1.cnl /tmp/tmptvsho2rm/cluster2.cnl > ovpnmioutput\n",
      "2020-04-22 22:16:20,455 - ClusterComparator - INFO - resulting 128 nodes out of 128,128\n",
      "INFO:ClusterComparator:resulting 128 nodes out of 128,128\n",
      "/opt/conda/envs/python3/lib/python3.6/site-packages/sklearn/metrics/cluster/supervised.py:859: FutureWarning: The behavior of NMI will change in version 0.22. To match the behavior of 'v_measure_score', NMI will use average_method='arithmetic' by default.\n",
      "  FutureWarning)\n",
      "2020-04-22 22:16:20,465 - ClusterComparator - INFO - Running /opt/gct/submodules/OvpNMI/onmi /tmp/tmplg2532sv/cluster1.cnl /tmp/tmplg2532sv/cluster2.cnl > ovpnmioutput\n",
      "INFO:ClusterComparator:Running /opt/gct/submodules/OvpNMI/onmi /tmp/tmplg2532sv/cluster1.cnl /tmp/tmplg2532sv/cluster2.cnl > ovpnmioutput\n",
      "2020-04-22 22:16:20,480 - ClusterComparator - INFO - resulting 128 nodes out of 128,128\n",
      "INFO:ClusterComparator:resulting 128 nodes out of 128,128\n",
      "/opt/conda/envs/python3/lib/python3.6/site-packages/sklearn/metrics/cluster/supervised.py:859: FutureWarning: The behavior of NMI will change in version 0.22. To match the behavior of 'v_measure_score', NMI will use average_method='arithmetic' by default.\n",
      "  FutureWarning)\n",
      "2020-04-22 22:16:20,486 - Clustering - INFO - reading/data/data/K_DoesAlgSupportWeightTestLFR_w1/gt_default.parq\n",
      "INFO:Clustering:reading/data/data/K_DoesAlgSupportWeightTestLFR_w1/gt_default.parq\n",
      "2020-04-22 22:16:20,491 - ClusterComparator - INFO - resulting 128 nodes out of 128,128\n",
      "INFO:ClusterComparator:resulting 128 nodes out of 128,128\n",
      "2020-04-22 22:16:20,497 - ClusterComparator - INFO - resulting 128 nodes out of 128,128\n",
      "INFO:ClusterComparator:resulting 128 nodes out of 128,128\n",
      "/opt/conda/envs/python3/lib/python3.6/site-packages/sklearn/metrics/cluster/supervised.py:859: FutureWarning: The behavior of NMI will change in version 0.22. To match the behavior of 'v_measure_score', NMI will use average_method='arithmetic' by default.\n",
      "  FutureWarning)\n",
      "2020-04-22 22:16:20,508 - ClusterComparator - INFO - resulting 128 nodes out of 128,128\n",
      "INFO:ClusterComparator:resulting 128 nodes out of 128,128\n",
      "/opt/conda/envs/python3/lib/python3.6/site-packages/sklearn/metrics/cluster/supervised.py:859: FutureWarning: The behavior of NMI will change in version 0.22. To match the behavior of 'v_measure_score', NMI will use average_method='arithmetic' by default.\n",
      "  FutureWarning)\n",
      "2020-04-22 22:16:20,517 - ClusterComparator - INFO - Running /opt/gct/submodules/OvpNMI/onmi /tmp/tmpxs_wwt3v/cluster1.cnl /tmp/tmpxs_wwt3v/cluster2.cnl > ovpnmioutput\n",
      "INFO:ClusterComparator:Running /opt/gct/submodules/OvpNMI/onmi /tmp/tmpxs_wwt3v/cluster1.cnl /tmp/tmpxs_wwt3v/cluster2.cnl > ovpnmioutput\n",
      "2020-04-22 22:16:20,526 - Clustering - INFO - reading/data/data/K_DoesAlgSupportWeightTestLFR_w1/gt_default.parq\n",
      "INFO:Clustering:reading/data/data/K_DoesAlgSupportWeightTestLFR_w1/gt_default.parq\n",
      "2020-04-22 22:16:20,533 - ClusterComparator - INFO - resulting 128 nodes out of 128,128\n",
      "INFO:ClusterComparator:resulting 128 nodes out of 128,128\n",
      "/opt/conda/envs/python3/lib/python3.6/site-packages/sklearn/metrics/cluster/supervised.py:859: FutureWarning: The behavior of NMI will change in version 0.22. To match the behavior of 'v_measure_score', NMI will use average_method='arithmetic' by default.\n",
      "  FutureWarning)\n",
      "2020-04-22 22:16:20,541 - ClusterComparator - INFO - Running /opt/gct/submodules/OvpNMI/onmi /tmp/tmpqtv2ttpd/cluster1.cnl /tmp/tmpqtv2ttpd/cluster2.cnl > ovpnmioutput\n",
      "INFO:ClusterComparator:Running /opt/gct/submodules/OvpNMI/onmi /tmp/tmpqtv2ttpd/cluster1.cnl /tmp/tmpqtv2ttpd/cluster2.cnl > ovpnmioutput\n",
      "2020-04-22 22:16:20,549 - ClusterComparator - INFO - resulting 128 nodes out of 128,128\n",
      "INFO:ClusterComparator:resulting 128 nodes out of 128,128\n",
      "/opt/conda/envs/python3/lib/python3.6/site-packages/sklearn/metrics/cluster/supervised.py:859: FutureWarning: The behavior of NMI will change in version 0.22. To match the behavior of 'v_measure_score', NMI will use average_method='arithmetic' by default.\n",
      "  FutureWarning)\n",
      "2020-04-22 22:16:20,559 - ClusterComparator - INFO - Running /opt/gct/submodules/OvpNMI/onmi /tmp/tmp6cuddrqq/cluster1.cnl /tmp/tmp6cuddrqq/cluster2.cnl > ovpnmioutput\n",
      "INFO:ClusterComparator:Running /opt/gct/submodules/OvpNMI/onmi /tmp/tmp6cuddrqq/cluster1.cnl /tmp/tmp6cuddrqq/cluster2.cnl > ovpnmioutput\n",
      "2020-04-22 22:16:20,795 - ClusterComparator - INFO - resulting 128 nodes out of 128,128\n",
      "INFO:ClusterComparator:resulting 128 nodes out of 128,128\n",
      "/opt/conda/envs/python3/lib/python3.6/site-packages/sklearn/metrics/cluster/supervised.py:859: FutureWarning: The behavior of NMI will change in version 0.22. To match the behavior of 'v_measure_score', NMI will use average_method='arithmetic' by default.\n",
      "  FutureWarning)\n",
      "2020-04-22 22:16:20,806 - ClusterComparator - INFO - Running /opt/gct/submodules/OvpNMI/onmi /tmp/tmp26k9q4sv/cluster1.cnl /tmp/tmp26k9q4sv/cluster2.cnl > ovpnmioutput\n",
      "INFO:ClusterComparator:Running /opt/gct/submodules/OvpNMI/onmi /tmp/tmp26k9q4sv/cluster1.cnl /tmp/tmp26k9q4sv/cluster2.cnl > ovpnmioutput\n",
      "2020-04-22 22:16:20,817 - Clustering - INFO - reading/data/data/K_DoesAlgSupportWeightTestLFR_w1/gt_default.parq\n",
      "INFO:Clustering:reading/data/data/K_DoesAlgSupportWeightTestLFR_w1/gt_default.parq\n",
      "2020-04-22 22:16:20,929 - ClusterComparator - INFO - resulting 128 nodes out of 128,128\n",
      "INFO:ClusterComparator:resulting 128 nodes out of 128,128\n",
      "/opt/conda/envs/python3/lib/python3.6/site-packages/sklearn/metrics/cluster/supervised.py:859: FutureWarning: The behavior of NMI will change in version 0.22. To match the behavior of 'v_measure_score', NMI will use average_method='arithmetic' by default.\n",
      "  FutureWarning)\n",
      "2020-04-22 22:16:20,938 - ClusterComparator - INFO - Running /opt/gct/submodules/OvpNMI/onmi /tmp/tmprw72bs23/cluster1.cnl /tmp/tmprw72bs23/cluster2.cnl > ovpnmioutput\n",
      "INFO:ClusterComparator:Running /opt/gct/submodules/OvpNMI/onmi /tmp/tmprw72bs23/cluster1.cnl /tmp/tmprw72bs23/cluster2.cnl > ovpnmioutput\n",
      "2020-04-22 22:16:21,055 - ClusterComparator - INFO - resulting 128 nodes out of 128,128\n",
      "INFO:ClusterComparator:resulting 128 nodes out of 128,128\n",
      "/opt/conda/envs/python3/lib/python3.6/site-packages/sklearn/metrics/cluster/supervised.py:859: FutureWarning: The behavior of NMI will change in version 0.22. To match the behavior of 'v_measure_score', NMI will use average_method='arithmetic' by default.\n",
      "  FutureWarning)\n",
      "2020-04-22 22:16:21,064 - ClusterComparator - INFO - Running /opt/gct/submodules/OvpNMI/onmi /tmp/tmpo9yym_x6/cluster1.cnl /tmp/tmpo9yym_x6/cluster2.cnl > ovpnmioutput\n"
     ]
    },
    {
     "name": "stderr",
     "output_type": "stream",
     "text": [
      "INFO:ClusterComparator:Running /opt/gct/submodules/OvpNMI/onmi /tmp/tmpo9yym_x6/cluster1.cnl /tmp/tmpo9yym_x6/cluster2.cnl > ovpnmioutput\n",
      "2020-04-22 22:16:21,080 - ClusterComparator - INFO - resulting 128 nodes out of 128,128\n",
      "INFO:ClusterComparator:resulting 128 nodes out of 128,128\n",
      "/opt/conda/envs/python3/lib/python3.6/site-packages/sklearn/metrics/cluster/supervised.py:859: FutureWarning: The behavior of NMI will change in version 0.22. To match the behavior of 'v_measure_score', NMI will use average_method='arithmetic' by default.\n",
      "  FutureWarning)\n",
      "2020-04-22 22:16:21,090 - ClusterComparator - INFO - Running /opt/gct/submodules/OvpNMI/onmi /tmp/tmpjkf0yah0/cluster1.cnl /tmp/tmpjkf0yah0/cluster2.cnl > ovpnmioutput\n",
      "INFO:ClusterComparator:Running /opt/gct/submodules/OvpNMI/onmi /tmp/tmpjkf0yah0/cluster1.cnl /tmp/tmpjkf0yah0/cluster2.cnl > ovpnmioutput\n",
      "2020-04-22 22:16:21,099 - Clustering - INFO - reading/data/data/K_DoesAlgSupportWeightTestLFR_w1/gt_default.parq\n",
      "INFO:Clustering:reading/data/data/K_DoesAlgSupportWeightTestLFR_w1/gt_default.parq\n",
      "2020-04-22 22:16:21,106 - ClusterComparator - INFO - resulting 128 nodes out of 128,128\n",
      "INFO:ClusterComparator:resulting 128 nodes out of 128,128\n",
      "/opt/conda/envs/python3/lib/python3.6/site-packages/sklearn/metrics/cluster/supervised.py:859: FutureWarning: The behavior of NMI will change in version 0.22. To match the behavior of 'v_measure_score', NMI will use average_method='arithmetic' by default.\n",
      "  FutureWarning)\n",
      "2020-04-22 22:16:21,114 - ClusterComparator - INFO - Running /opt/gct/submodules/OvpNMI/onmi /tmp/tmpf7r7qiar/cluster1.cnl /tmp/tmpf7r7qiar/cluster2.cnl > ovpnmioutput\n",
      "INFO:ClusterComparator:Running /opt/gct/submodules/OvpNMI/onmi /tmp/tmpf7r7qiar/cluster1.cnl /tmp/tmpf7r7qiar/cluster2.cnl > ovpnmioutput\n",
      "2020-04-22 22:16:21,123 - ClusterComparator - INFO - resulting 128 nodes out of 128,128\n",
      "INFO:ClusterComparator:resulting 128 nodes out of 128,128\n",
      "/opt/conda/envs/python3/lib/python3.6/site-packages/sklearn/metrics/cluster/supervised.py:859: FutureWarning: The behavior of NMI will change in version 0.22. To match the behavior of 'v_measure_score', NMI will use average_method='arithmetic' by default.\n",
      "  FutureWarning)\n",
      "2020-04-22 22:16:21,133 - ClusterComparator - INFO - Running /opt/gct/submodules/OvpNMI/onmi /tmp/tmp99en_hai/cluster1.cnl /tmp/tmp99en_hai/cluster2.cnl > ovpnmioutput\n",
      "INFO:ClusterComparator:Running /opt/gct/submodules/OvpNMI/onmi /tmp/tmp99en_hai/cluster1.cnl /tmp/tmp99en_hai/cluster2.cnl > ovpnmioutput\n",
      "2020-04-22 22:16:21,148 - ClusterComparator - INFO - resulting 128 nodes out of 128,128\n",
      "INFO:ClusterComparator:resulting 128 nodes out of 128,128\n",
      "/opt/conda/envs/python3/lib/python3.6/site-packages/sklearn/metrics/cluster/supervised.py:859: FutureWarning: The behavior of NMI will change in version 0.22. To match the behavior of 'v_measure_score', NMI will use average_method='arithmetic' by default.\n",
      "  FutureWarning)\n",
      "2020-04-22 22:16:21,157 - ClusterComparator - INFO - Running /opt/gct/submodules/OvpNMI/onmi /tmp/tmpxlx_c0r7/cluster1.cnl /tmp/tmpxlx_c0r7/cluster2.cnl > ovpnmioutput\n",
      "INFO:ClusterComparator:Running /opt/gct/submodules/OvpNMI/onmi /tmp/tmpxlx_c0r7/cluster1.cnl /tmp/tmpxlx_c0r7/cluster2.cnl > ovpnmioutput\n",
      "2020-04-22 22:16:21,166 - Clustering - INFO - reading/data/data/K_DoesAlgSupportWeightTestLFR_w1/gt_default.parq\n",
      "INFO:Clustering:reading/data/data/K_DoesAlgSupportWeightTestLFR_w1/gt_default.parq\n",
      "2020-04-22 22:16:21,172 - ClusterComparator - INFO - resulting 128 nodes out of 128,128\n",
      "INFO:ClusterComparator:resulting 128 nodes out of 128,128\n",
      "/opt/conda/envs/python3/lib/python3.6/site-packages/sklearn/metrics/cluster/supervised.py:859: FutureWarning: The behavior of NMI will change in version 0.22. To match the behavior of 'v_measure_score', NMI will use average_method='arithmetic' by default.\n",
      "  FutureWarning)\n",
      "2020-04-22 22:16:21,180 - ClusterComparator - INFO - Running /opt/gct/submodules/OvpNMI/onmi /tmp/tmpw2cgni15/cluster1.cnl /tmp/tmpw2cgni15/cluster2.cnl > ovpnmioutput\n",
      "INFO:ClusterComparator:Running /opt/gct/submodules/OvpNMI/onmi /tmp/tmpw2cgni15/cluster1.cnl /tmp/tmpw2cgni15/cluster2.cnl > ovpnmioutput\n",
      "2020-04-22 22:16:21,188 - ClusterComparator - INFO - resulting 128 nodes out of 128,128\n",
      "INFO:ClusterComparator:resulting 128 nodes out of 128,128\n",
      "/opt/conda/envs/python3/lib/python3.6/site-packages/sklearn/metrics/cluster/supervised.py:859: FutureWarning: The behavior of NMI will change in version 0.22. To match the behavior of 'v_measure_score', NMI will use average_method='arithmetic' by default.\n",
      "  FutureWarning)\n",
      "2020-04-22 22:16:21,197 - ClusterComparator - INFO - Running /opt/gct/submodules/OvpNMI/onmi /tmp/tmpyoxpbby2/cluster1.cnl /tmp/tmpyoxpbby2/cluster2.cnl > ovpnmioutput\n",
      "INFO:ClusterComparator:Running /opt/gct/submodules/OvpNMI/onmi /tmp/tmpyoxpbby2/cluster1.cnl /tmp/tmpyoxpbby2/cluster2.cnl > ovpnmioutput\n",
      "2020-04-22 22:16:21,211 - ClusterComparator - INFO - resulting 128 nodes out of 128,128\n",
      "INFO:ClusterComparator:resulting 128 nodes out of 128,128\n",
      "/opt/conda/envs/python3/lib/python3.6/site-packages/sklearn/metrics/cluster/supervised.py:859: FutureWarning: The behavior of NMI will change in version 0.22. To match the behavior of 'v_measure_score', NMI will use average_method='arithmetic' by default.\n",
      "  FutureWarning)\n",
      "2020-04-22 22:16:21,221 - ClusterComparator - INFO - Running /opt/gct/submodules/OvpNMI/onmi /tmp/tmpvlr9vxn_/cluster1.cnl /tmp/tmpvlr9vxn_/cluster2.cnl > ovpnmioutput\n",
      "INFO:ClusterComparator:Running /opt/gct/submodules/OvpNMI/onmi /tmp/tmpvlr9vxn_/cluster1.cnl /tmp/tmpvlr9vxn_/cluster2.cnl > ovpnmioutput\n",
      "2020-04-22 22:16:21,230 - Clustering - INFO - reading/data/data/K_DoesAlgSupportWeightTestLFR_w1/gt_default.parq\n",
      "INFO:Clustering:reading/data/data/K_DoesAlgSupportWeightTestLFR_w1/gt_default.parq\n",
      "2020-04-22 22:16:21,236 - ClusterComparator - INFO - resulting 128 nodes out of 128,128\n",
      "INFO:ClusterComparator:resulting 128 nodes out of 128,128\n",
      "/opt/conda/envs/python3/lib/python3.6/site-packages/sklearn/metrics/cluster/supervised.py:859: FutureWarning: The behavior of NMI will change in version 0.22. To match the behavior of 'v_measure_score', NMI will use average_method='arithmetic' by default.\n",
      "  FutureWarning)\n",
      "2020-04-22 22:16:21,244 - ClusterComparator - INFO - Running /opt/gct/submodules/OvpNMI/onmi /tmp/tmph4x0xfkj/cluster1.cnl /tmp/tmph4x0xfkj/cluster2.cnl > ovpnmioutput\n",
      "INFO:ClusterComparator:Running /opt/gct/submodules/OvpNMI/onmi /tmp/tmph4x0xfkj/cluster1.cnl /tmp/tmph4x0xfkj/cluster2.cnl > ovpnmioutput\n",
      "2020-04-22 22:16:21,252 - ClusterComparator - INFO - resulting 128 nodes out of 128,128\n",
      "INFO:ClusterComparator:resulting 128 nodes out of 128,128\n",
      "/opt/conda/envs/python3/lib/python3.6/site-packages/sklearn/metrics/cluster/supervised.py:859: FutureWarning: The behavior of NMI will change in version 0.22. To match the behavior of 'v_measure_score', NMI will use average_method='arithmetic' by default.\n",
      "  FutureWarning)\n",
      "2020-04-22 22:16:21,261 - ClusterComparator - INFO - Running /opt/gct/submodules/OvpNMI/onmi /tmp/tmpp0xpv9q4/cluster1.cnl /tmp/tmpp0xpv9q4/cluster2.cnl > ovpnmioutput\n",
      "INFO:ClusterComparator:Running /opt/gct/submodules/OvpNMI/onmi /tmp/tmpp0xpv9q4/cluster1.cnl /tmp/tmpp0xpv9q4/cluster2.cnl > ovpnmioutput\n",
      "2020-04-22 22:16:21,276 - ClusterComparator - INFO - resulting 128 nodes out of 128,128\n",
      "INFO:ClusterComparator:resulting 128 nodes out of 128,128\n",
      "/opt/conda/envs/python3/lib/python3.6/site-packages/sklearn/metrics/cluster/supervised.py:859: FutureWarning: The behavior of NMI will change in version 0.22. To match the behavior of 'v_measure_score', NMI will use average_method='arithmetic' by default.\n",
      "  FutureWarning)\n",
      "2020-04-22 22:16:21,286 - ClusterComparator - INFO - Running /opt/gct/submodules/OvpNMI/onmi /tmp/tmp8mzz3kp0/cluster1.cnl /tmp/tmp8mzz3kp0/cluster2.cnl > ovpnmioutput\n",
      "INFO:ClusterComparator:Running /opt/gct/submodules/OvpNMI/onmi /tmp/tmp8mzz3kp0/cluster1.cnl /tmp/tmp8mzz3kp0/cluster2.cnl > ovpnmioutput\n",
      "2020-04-22 22:16:21,294 - Clustering - INFO - reading/data/data/K_DoesAlgSupportWeightTestLFR_w1/gt_default.parq\n",
      "INFO:Clustering:reading/data/data/K_DoesAlgSupportWeightTestLFR_w1/gt_default.parq\n",
      "2020-04-22 22:16:21,301 - ClusterComparator - INFO - resulting 128 nodes out of 128,128\n"
     ]
    },
    {
     "name": "stderr",
     "output_type": "stream",
     "text": [
      "INFO:ClusterComparator:resulting 128 nodes out of 128,128\n",
      "/opt/conda/envs/python3/lib/python3.6/site-packages/sklearn/metrics/cluster/supervised.py:859: FutureWarning: The behavior of NMI will change in version 0.22. To match the behavior of 'v_measure_score', NMI will use average_method='arithmetic' by default.\n",
      "  FutureWarning)\n",
      "2020-04-22 22:16:21,309 - ClusterComparator - INFO - Running /opt/gct/submodules/OvpNMI/onmi /tmp/tmpvkwm3dth/cluster1.cnl /tmp/tmpvkwm3dth/cluster2.cnl > ovpnmioutput\n",
      "INFO:ClusterComparator:Running /opt/gct/submodules/OvpNMI/onmi /tmp/tmpvkwm3dth/cluster1.cnl /tmp/tmpvkwm3dth/cluster2.cnl > ovpnmioutput\n",
      "2020-04-22 22:16:21,317 - ClusterComparator - INFO - resulting 128 nodes out of 128,128\n",
      "INFO:ClusterComparator:resulting 128 nodes out of 128,128\n",
      "/opt/conda/envs/python3/lib/python3.6/site-packages/sklearn/metrics/cluster/supervised.py:859: FutureWarning: The behavior of NMI will change in version 0.22. To match the behavior of 'v_measure_score', NMI will use average_method='arithmetic' by default.\n",
      "  FutureWarning)\n",
      "2020-04-22 22:16:21,326 - ClusterComparator - INFO - Running /opt/gct/submodules/OvpNMI/onmi /tmp/tmpkbmscjai/cluster1.cnl /tmp/tmpkbmscjai/cluster2.cnl > ovpnmioutput\n",
      "INFO:ClusterComparator:Running /opt/gct/submodules/OvpNMI/onmi /tmp/tmpkbmscjai/cluster1.cnl /tmp/tmpkbmscjai/cluster2.cnl > ovpnmioutput\n",
      "2020-04-22 22:16:21,451 - ClusterComparator - INFO - resulting 128 nodes out of 128,128\n",
      "INFO:ClusterComparator:resulting 128 nodes out of 128,128\n",
      "/opt/conda/envs/python3/lib/python3.6/site-packages/sklearn/metrics/cluster/supervised.py:859: FutureWarning: The behavior of NMI will change in version 0.22. To match the behavior of 'v_measure_score', NMI will use average_method='arithmetic' by default.\n",
      "  FutureWarning)\n",
      "2020-04-22 22:16:21,461 - ClusterComparator - INFO - Running /opt/gct/submodules/OvpNMI/onmi /tmp/tmpl3s7_3np/cluster1.cnl /tmp/tmpl3s7_3np/cluster2.cnl > ovpnmioutput\n",
      "INFO:ClusterComparator:Running /opt/gct/submodules/OvpNMI/onmi /tmp/tmpl3s7_3np/cluster1.cnl /tmp/tmpl3s7_3np/cluster2.cnl > ovpnmioutput\n",
      "2020-04-22 22:16:21,470 - Clustering - INFO - reading/data/data/K_DoesAlgSupportWeightTestLFR_w1/gt_default.parq\n",
      "INFO:Clustering:reading/data/data/K_DoesAlgSupportWeightTestLFR_w1/gt_default.parq\n",
      "2020-04-22 22:16:21,583 - ClusterComparator - INFO - resulting 127 nodes out of 128,128\n",
      "INFO:ClusterComparator:resulting 127 nodes out of 128,128\n",
      "/opt/conda/envs/python3/lib/python3.6/site-packages/sklearn/metrics/cluster/supervised.py:859: FutureWarning: The behavior of NMI will change in version 0.22. To match the behavior of 'v_measure_score', NMI will use average_method='arithmetic' by default.\n",
      "  FutureWarning)\n",
      "2020-04-22 22:16:21,591 - ClusterComparator - INFO - Running /opt/gct/submodules/OvpNMI/onmi /tmp/tmpius99bql/cluster1.cnl /tmp/tmpius99bql/cluster2.cnl > ovpnmioutput\n",
      "INFO:ClusterComparator:Running /opt/gct/submodules/OvpNMI/onmi /tmp/tmpius99bql/cluster1.cnl /tmp/tmpius99bql/cluster2.cnl > ovpnmioutput\n",
      "2020-04-22 22:16:21,599 - ClusterComparator - ERROR - Run command with error status code 134\n",
      "ERROR:ClusterComparator:Run command with error status code 134\n",
      "2020-04-22 22:16:21,601 - ClusterComparator - INFO - resulting 127 nodes out of 128,128\n",
      "INFO:ClusterComparator:resulting 127 nodes out of 128,128\n",
      "/opt/conda/envs/python3/lib/python3.6/site-packages/sklearn/metrics/cluster/supervised.py:859: FutureWarning: The behavior of NMI will change in version 0.22. To match the behavior of 'v_measure_score', NMI will use average_method='arithmetic' by default.\n",
      "  FutureWarning)\n",
      "2020-04-22 22:16:21,609 - ClusterComparator - INFO - Running /opt/gct/submodules/OvpNMI/onmi /tmp/tmpddqa5s73/cluster1.cnl /tmp/tmpddqa5s73/cluster2.cnl > ovpnmioutput\n",
      "INFO:ClusterComparator:Running /opt/gct/submodules/OvpNMI/onmi /tmp/tmpddqa5s73/cluster1.cnl /tmp/tmpddqa5s73/cluster2.cnl > ovpnmioutput\n",
      "2020-04-22 22:16:21,618 - ClusterComparator - ERROR - Run command with error status code 134\n",
      "ERROR:ClusterComparator:Run command with error status code 134\n",
      "2020-04-22 22:16:21,626 - ClusterComparator - INFO - resulting 128 nodes out of 128,128\n",
      "INFO:ClusterComparator:resulting 128 nodes out of 128,128\n",
      "/opt/conda/envs/python3/lib/python3.6/site-packages/sklearn/metrics/cluster/supervised.py:859: FutureWarning: The behavior of NMI will change in version 0.22. To match the behavior of 'v_measure_score', NMI will use average_method='arithmetic' by default.\n",
      "  FutureWarning)\n",
      "2020-04-22 22:16:21,636 - ClusterComparator - INFO - Running /opt/gct/submodules/OvpNMI/onmi /tmp/tmp0vjesj9y/cluster1.cnl /tmp/tmp0vjesj9y/cluster2.cnl > ovpnmioutput\n",
      "INFO:ClusterComparator:Running /opt/gct/submodules/OvpNMI/onmi /tmp/tmp0vjesj9y/cluster1.cnl /tmp/tmp0vjesj9y/cluster2.cnl > ovpnmioutput\n",
      "2020-04-22 22:16:21,644 - Clustering - INFO - reading/data/data/K_DoesAlgSupportWeightTestLFR_w1/gt_default.parq\n",
      "INFO:Clustering:reading/data/data/K_DoesAlgSupportWeightTestLFR_w1/gt_default.parq\n",
      "2020-04-22 22:16:21,651 - ClusterComparator - INFO - resulting 128 nodes out of 128,128\n",
      "INFO:ClusterComparator:resulting 128 nodes out of 128,128\n",
      "/opt/conda/envs/python3/lib/python3.6/site-packages/sklearn/metrics/cluster/supervised.py:859: FutureWarning: The behavior of NMI will change in version 0.22. To match the behavior of 'v_measure_score', NMI will use average_method='arithmetic' by default.\n",
      "  FutureWarning)\n",
      "2020-04-22 22:16:21,659 - ClusterComparator - INFO - Running /opt/gct/submodules/OvpNMI/onmi /tmp/tmpaurqhmuk/cluster1.cnl /tmp/tmpaurqhmuk/cluster2.cnl > ovpnmioutput\n",
      "INFO:ClusterComparator:Running /opt/gct/submodules/OvpNMI/onmi /tmp/tmpaurqhmuk/cluster1.cnl /tmp/tmpaurqhmuk/cluster2.cnl > ovpnmioutput\n",
      "2020-04-22 22:16:21,667 - ClusterComparator - INFO - resulting 128 nodes out of 128,128\n",
      "INFO:ClusterComparator:resulting 128 nodes out of 128,128\n",
      "/opt/conda/envs/python3/lib/python3.6/site-packages/sklearn/metrics/cluster/supervised.py:859: FutureWarning: The behavior of NMI will change in version 0.22. To match the behavior of 'v_measure_score', NMI will use average_method='arithmetic' by default.\n",
      "  FutureWarning)\n",
      "2020-04-22 22:16:21,676 - ClusterComparator - INFO - Running /opt/gct/submodules/OvpNMI/onmi /tmp/tmpywdtrvnv/cluster1.cnl /tmp/tmpywdtrvnv/cluster2.cnl > ovpnmioutput\n",
      "INFO:ClusterComparator:Running /opt/gct/submodules/OvpNMI/onmi /tmp/tmpywdtrvnv/cluster1.cnl /tmp/tmpywdtrvnv/cluster2.cnl > ovpnmioutput\n",
      "2020-04-22 22:16:21,866 - ClusterComparator - INFO - resulting 128 nodes out of 128,128\n",
      "INFO:ClusterComparator:resulting 128 nodes out of 128,128\n",
      "/opt/conda/envs/python3/lib/python3.6/site-packages/sklearn/metrics/cluster/supervised.py:859: FutureWarning: The behavior of NMI will change in version 0.22. To match the behavior of 'v_measure_score', NMI will use average_method='arithmetic' by default.\n",
      "  FutureWarning)\n",
      "2020-04-22 22:16:21,876 - ClusterComparator - INFO - Running /opt/gct/submodules/OvpNMI/onmi /tmp/tmpay2a_g3a/cluster1.cnl /tmp/tmpay2a_g3a/cluster2.cnl > ovpnmioutput\n",
      "INFO:ClusterComparator:Running /opt/gct/submodules/OvpNMI/onmi /tmp/tmpay2a_g3a/cluster1.cnl /tmp/tmpay2a_g3a/cluster2.cnl > ovpnmioutput\n",
      "2020-04-22 22:16:21,885 - Clustering - INFO - reading/data/data/K_DoesAlgSupportWeightTestLFR_w1/gt_default.parq\n",
      "INFO:Clustering:reading/data/data/K_DoesAlgSupportWeightTestLFR_w1/gt_default.parq\n",
      "2020-04-22 22:16:21,977 - ClusterComparator - INFO - resulting 128 nodes out of 128,128\n",
      "INFO:ClusterComparator:resulting 128 nodes out of 128,128\n",
      "/opt/conda/envs/python3/lib/python3.6/site-packages/sklearn/metrics/cluster/supervised.py:859: FutureWarning: The behavior of NMI will change in version 0.22. To match the behavior of 'v_measure_score', NMI will use average_method='arithmetic' by default.\n",
      "  FutureWarning)\n",
      "2020-04-22 22:16:21,985 - ClusterComparator - INFO - Running /opt/gct/submodules/OvpNMI/onmi /tmp/tmpehghms53/cluster1.cnl /tmp/tmpehghms53/cluster2.cnl > ovpnmioutput\n",
      "INFO:ClusterComparator:Running /opt/gct/submodules/OvpNMI/onmi /tmp/tmpehghms53/cluster1.cnl /tmp/tmpehghms53/cluster2.cnl > ovpnmioutput\n",
      "2020-04-22 22:16:22,081 - ClusterComparator - INFO - resulting 128 nodes out of 128,128\n",
      "INFO:ClusterComparator:resulting 128 nodes out of 128,128\n"
     ]
    },
    {
     "name": "stderr",
     "output_type": "stream",
     "text": [
      "/opt/conda/envs/python3/lib/python3.6/site-packages/sklearn/metrics/cluster/supervised.py:859: FutureWarning: The behavior of NMI will change in version 0.22. To match the behavior of 'v_measure_score', NMI will use average_method='arithmetic' by default.\n",
      "  FutureWarning)\n",
      "2020-04-22 22:16:22,089 - ClusterComparator - INFO - Running /opt/gct/submodules/OvpNMI/onmi /tmp/tmpjwi_t_x5/cluster1.cnl /tmp/tmpjwi_t_x5/cluster2.cnl > ovpnmioutput\n",
      "INFO:ClusterComparator:Running /opt/gct/submodules/OvpNMI/onmi /tmp/tmpjwi_t_x5/cluster1.cnl /tmp/tmpjwi_t_x5/cluster2.cnl > ovpnmioutput\n",
      "2020-04-22 22:16:22,104 - ClusterComparator - INFO - resulting 128 nodes out of 128,128\n",
      "INFO:ClusterComparator:resulting 128 nodes out of 128,128\n",
      "/opt/conda/envs/python3/lib/python3.6/site-packages/sklearn/metrics/cluster/supervised.py:859: FutureWarning: The behavior of NMI will change in version 0.22. To match the behavior of 'v_measure_score', NMI will use average_method='arithmetic' by default.\n",
      "  FutureWarning)\n",
      "2020-04-22 22:16:22,109 - Clustering - INFO - reading/data/data/K_DoesAlgSupportWeightTestLFR_w1/gt_default.parq\n",
      "INFO:Clustering:reading/data/data/K_DoesAlgSupportWeightTestLFR_w1/gt_default.parq\n",
      "2020-04-22 22:16:22,114 - ClusterComparator - INFO - resulting 128 nodes out of 128,128\n",
      "INFO:ClusterComparator:resulting 128 nodes out of 128,128\n",
      "2020-04-22 22:16:22,119 - ClusterComparator - INFO - resulting 128 nodes out of 128,128\n",
      "INFO:ClusterComparator:resulting 128 nodes out of 128,128\n",
      "/opt/conda/envs/python3/lib/python3.6/site-packages/sklearn/metrics/cluster/supervised.py:859: FutureWarning: The behavior of NMI will change in version 0.22. To match the behavior of 'v_measure_score', NMI will use average_method='arithmetic' by default.\n",
      "  FutureWarning)\n",
      "2020-04-22 22:16:22,335 - ClusterComparator - INFO - resulting 128 nodes out of 128,128\n",
      "INFO:ClusterComparator:resulting 128 nodes out of 128,128\n",
      "/opt/conda/envs/python3/lib/python3.6/site-packages/sklearn/metrics/cluster/supervised.py:859: FutureWarning: The behavior of NMI will change in version 0.22. To match the behavior of 'v_measure_score', NMI will use average_method='arithmetic' by default.\n",
      "  FutureWarning)\n",
      "2020-04-22 22:16:22,346 - ClusterComparator - INFO - Running /opt/gct/submodules/OvpNMI/onmi /tmp/tmp_ml9y1gy/cluster1.cnl /tmp/tmp_ml9y1gy/cluster2.cnl > ovpnmioutput\n",
      "INFO:ClusterComparator:Running /opt/gct/submodules/OvpNMI/onmi /tmp/tmp_ml9y1gy/cluster1.cnl /tmp/tmp_ml9y1gy/cluster2.cnl > ovpnmioutput\n",
      "2020-04-22 22:16:22,356 - Clustering - INFO - reading/data/data/K_DoesAlgSupportWeightTestLFR_w1/gt_default.parq\n",
      "INFO:Clustering:reading/data/data/K_DoesAlgSupportWeightTestLFR_w1/gt_default.parq\n",
      "2020-04-22 22:16:22,463 - ClusterComparator - INFO - resulting 128 nodes out of 128,128\n",
      "INFO:ClusterComparator:resulting 128 nodes out of 128,128\n",
      "/opt/conda/envs/python3/lib/python3.6/site-packages/sklearn/metrics/cluster/supervised.py:859: FutureWarning: The behavior of NMI will change in version 0.22. To match the behavior of 'v_measure_score', NMI will use average_method='arithmetic' by default.\n",
      "  FutureWarning)\n",
      "2020-04-22 22:16:22,472 - ClusterComparator - INFO - Running /opt/gct/submodules/OvpNMI/onmi /tmp/tmpg4aqybpm/cluster1.cnl /tmp/tmpg4aqybpm/cluster2.cnl > ovpnmioutput\n",
      "INFO:ClusterComparator:Running /opt/gct/submodules/OvpNMI/onmi /tmp/tmpg4aqybpm/cluster1.cnl /tmp/tmpg4aqybpm/cluster2.cnl > ovpnmioutput\n",
      "2020-04-22 22:16:22,586 - ClusterComparator - INFO - resulting 128 nodes out of 128,128\n",
      "INFO:ClusterComparator:resulting 128 nodes out of 128,128\n",
      "/opt/conda/envs/python3/lib/python3.6/site-packages/sklearn/metrics/cluster/supervised.py:859: FutureWarning: The behavior of NMI will change in version 0.22. To match the behavior of 'v_measure_score', NMI will use average_method='arithmetic' by default.\n",
      "  FutureWarning)\n",
      "2020-04-22 22:16:22,596 - ClusterComparator - INFO - Running /opt/gct/submodules/OvpNMI/onmi /tmp/tmp1l36jjn7/cluster1.cnl /tmp/tmp1l36jjn7/cluster2.cnl > ovpnmioutput\n",
      "INFO:ClusterComparator:Running /opt/gct/submodules/OvpNMI/onmi /tmp/tmp1l36jjn7/cluster1.cnl /tmp/tmp1l36jjn7/cluster2.cnl > ovpnmioutput\n",
      "2020-04-22 22:16:22,825 - ClusterComparator - INFO - resulting 128 nodes out of 128,128\n",
      "INFO:ClusterComparator:resulting 128 nodes out of 128,128\n",
      "/opt/conda/envs/python3/lib/python3.6/site-packages/sklearn/metrics/cluster/supervised.py:859: FutureWarning: The behavior of NMI will change in version 0.22. To match the behavior of 'v_measure_score', NMI will use average_method='arithmetic' by default.\n",
      "  FutureWarning)\n",
      "2020-04-22 22:16:22,836 - ClusterComparator - INFO - Running /opt/gct/submodules/OvpNMI/onmi /tmp/tmpgfb0cfmm/cluster1.cnl /tmp/tmpgfb0cfmm/cluster2.cnl > ovpnmioutput\n",
      "INFO:ClusterComparator:Running /opt/gct/submodules/OvpNMI/onmi /tmp/tmpgfb0cfmm/cluster1.cnl /tmp/tmpgfb0cfmm/cluster2.cnl > ovpnmioutput\n",
      "2020-04-22 22:16:22,846 - Clustering - INFO - reading/data/data/K_DoesAlgSupportWeightTestLFR_w1/gt_default.parq\n",
      "INFO:Clustering:reading/data/data/K_DoesAlgSupportWeightTestLFR_w1/gt_default.parq\n",
      "2020-04-22 22:16:22,958 - ClusterComparator - INFO - resulting 128 nodes out of 128,128\n",
      "INFO:ClusterComparator:resulting 128 nodes out of 128,128\n",
      "/opt/conda/envs/python3/lib/python3.6/site-packages/sklearn/metrics/cluster/supervised.py:859: FutureWarning: The behavior of NMI will change in version 0.22. To match the behavior of 'v_measure_score', NMI will use average_method='arithmetic' by default.\n",
      "  FutureWarning)\n",
      "2020-04-22 22:16:22,966 - ClusterComparator - INFO - Running /opt/gct/submodules/OvpNMI/onmi /tmp/tmpb_3k391c/cluster1.cnl /tmp/tmpb_3k391c/cluster2.cnl > ovpnmioutput\n",
      "INFO:ClusterComparator:Running /opt/gct/submodules/OvpNMI/onmi /tmp/tmpb_3k391c/cluster1.cnl /tmp/tmpb_3k391c/cluster2.cnl > ovpnmioutput\n",
      "2020-04-22 22:16:22,974 - ClusterComparator - ERROR - Run command with error status code 134\n",
      "ERROR:ClusterComparator:Run command with error status code 134\n",
      "2020-04-22 22:16:23,084 - ClusterComparator - INFO - resulting 128 nodes out of 128,128\n",
      "INFO:ClusterComparator:resulting 128 nodes out of 128,128\n",
      "/opt/conda/envs/python3/lib/python3.6/site-packages/sklearn/metrics/cluster/supervised.py:859: FutureWarning: The behavior of NMI will change in version 0.22. To match the behavior of 'v_measure_score', NMI will use average_method='arithmetic' by default.\n",
      "  FutureWarning)\n",
      "2020-04-22 22:16:23,092 - ClusterComparator - INFO - Running /opt/gct/submodules/OvpNMI/onmi /tmp/tmp28lttm6e/cluster1.cnl /tmp/tmp28lttm6e/cluster2.cnl > ovpnmioutput\n",
      "INFO:ClusterComparator:Running /opt/gct/submodules/OvpNMI/onmi /tmp/tmp28lttm6e/cluster1.cnl /tmp/tmp28lttm6e/cluster2.cnl > ovpnmioutput\n",
      "2020-04-22 22:16:23,101 - ClusterComparator - ERROR - Run command with error status code 134\n",
      "ERROR:ClusterComparator:Run command with error status code 134\n",
      "2020-04-22 22:16:23,321 - ClusterComparator - INFO - resulting 128 nodes out of 128,128\n",
      "INFO:ClusterComparator:resulting 128 nodes out of 128,128\n",
      "/opt/conda/envs/python3/lib/python3.6/site-packages/sklearn/metrics/cluster/supervised.py:859: FutureWarning: The behavior of NMI will change in version 0.22. To match the behavior of 'v_measure_score', NMI will use average_method='arithmetic' by default.\n",
      "  FutureWarning)\n",
      "2020-04-22 22:16:23,332 - ClusterComparator - INFO - Running /opt/gct/submodules/OvpNMI/onmi /tmp/tmpoyuzk62s/cluster1.cnl /tmp/tmpoyuzk62s/cluster2.cnl > ovpnmioutput\n",
      "INFO:ClusterComparator:Running /opt/gct/submodules/OvpNMI/onmi /tmp/tmpoyuzk62s/cluster1.cnl /tmp/tmpoyuzk62s/cluster2.cnl > ovpnmioutput\n",
      "2020-04-22 22:16:23,342 - Clustering - INFO - reading/data/data/K_DoesAlgSupportWeightTestLFR_w1/gt_default.parq\n",
      "INFO:Clustering:reading/data/data/K_DoesAlgSupportWeightTestLFR_w1/gt_default.parq\n",
      "2020-04-22 22:16:23,454 - ClusterComparator - INFO - resulting 128 nodes out of 128,128\n",
      "INFO:ClusterComparator:resulting 128 nodes out of 128,128\n",
      "/opt/conda/envs/python3/lib/python3.6/site-packages/sklearn/metrics/cluster/supervised.py:859: FutureWarning: The behavior of NMI will change in version 0.22. To match the behavior of 'v_measure_score', NMI will use average_method='arithmetic' by default.\n",
      "  FutureWarning)\n",
      "2020-04-22 22:16:23,462 - ClusterComparator - INFO - Running /opt/gct/submodules/OvpNMI/onmi /tmp/tmpoojqf13m/cluster1.cnl /tmp/tmpoojqf13m/cluster2.cnl > ovpnmioutput\n"
     ]
    },
    {
     "name": "stderr",
     "output_type": "stream",
     "text": [
      "INFO:ClusterComparator:Running /opt/gct/submodules/OvpNMI/onmi /tmp/tmpoojqf13m/cluster1.cnl /tmp/tmpoojqf13m/cluster2.cnl > ovpnmioutput\n",
      "2020-04-22 22:16:23,578 - ClusterComparator - INFO - resulting 128 nodes out of 128,128\n",
      "INFO:ClusterComparator:resulting 128 nodes out of 128,128\n",
      "/opt/conda/envs/python3/lib/python3.6/site-packages/sklearn/metrics/cluster/supervised.py:859: FutureWarning: The behavior of NMI will change in version 0.22. To match the behavior of 'v_measure_score', NMI will use average_method='arithmetic' by default.\n",
      "  FutureWarning)\n",
      "2020-04-22 22:16:23,587 - ClusterComparator - INFO - Running /opt/gct/submodules/OvpNMI/onmi /tmp/tmpcpzofd_3/cluster1.cnl /tmp/tmpcpzofd_3/cluster2.cnl > ovpnmioutput\n",
      "INFO:ClusterComparator:Running /opt/gct/submodules/OvpNMI/onmi /tmp/tmpcpzofd_3/cluster1.cnl /tmp/tmpcpzofd_3/cluster2.cnl > ovpnmioutput\n",
      "2020-04-22 22:16:23,602 - ClusterComparator - INFO - resulting 128 nodes out of 128,128\n",
      "INFO:ClusterComparator:resulting 128 nodes out of 128,128\n",
      "/opt/conda/envs/python3/lib/python3.6/site-packages/sklearn/metrics/cluster/supervised.py:859: FutureWarning: The behavior of NMI will change in version 0.22. To match the behavior of 'v_measure_score', NMI will use average_method='arithmetic' by default.\n",
      "  FutureWarning)\n",
      "2020-04-22 22:16:23,612 - ClusterComparator - INFO - Running /opt/gct/submodules/OvpNMI/onmi /tmp/tmpf2gas6qr/cluster1.cnl /tmp/tmpf2gas6qr/cluster2.cnl > ovpnmioutput\n",
      "INFO:ClusterComparator:Running /opt/gct/submodules/OvpNMI/onmi /tmp/tmpf2gas6qr/cluster1.cnl /tmp/tmpf2gas6qr/cluster2.cnl > ovpnmioutput\n",
      "2020-04-22 22:16:23,621 - Clustering - INFO - reading/data/data/K_DoesAlgSupportWeightTestLFR_w1/gt_default.parq\n",
      "INFO:Clustering:reading/data/data/K_DoesAlgSupportWeightTestLFR_w1/gt_default.parq\n",
      "2020-04-22 22:16:23,627 - ClusterComparator - INFO - resulting 128 nodes out of 128,128\n",
      "INFO:ClusterComparator:resulting 128 nodes out of 128,128\n",
      "/opt/conda/envs/python3/lib/python3.6/site-packages/sklearn/metrics/cluster/supervised.py:859: FutureWarning: The behavior of NMI will change in version 0.22. To match the behavior of 'v_measure_score', NMI will use average_method='arithmetic' by default.\n",
      "  FutureWarning)\n",
      "2020-04-22 22:16:23,635 - ClusterComparator - INFO - Running /opt/gct/submodules/OvpNMI/onmi /tmp/tmp6rcumk_f/cluster1.cnl /tmp/tmp6rcumk_f/cluster2.cnl > ovpnmioutput\n",
      "INFO:ClusterComparator:Running /opt/gct/submodules/OvpNMI/onmi /tmp/tmp6rcumk_f/cluster1.cnl /tmp/tmp6rcumk_f/cluster2.cnl > ovpnmioutput\n",
      "2020-04-22 22:16:23,643 - ClusterComparator - INFO - resulting 128 nodes out of 128,128\n",
      "INFO:ClusterComparator:resulting 128 nodes out of 128,128\n",
      "/opt/conda/envs/python3/lib/python3.6/site-packages/sklearn/metrics/cluster/supervised.py:859: FutureWarning: The behavior of NMI will change in version 0.22. To match the behavior of 'v_measure_score', NMI will use average_method='arithmetic' by default.\n",
      "  FutureWarning)\n",
      "2020-04-22 22:16:23,652 - ClusterComparator - INFO - Running /opt/gct/submodules/OvpNMI/onmi /tmp/tmpo4w2u9ko/cluster1.cnl /tmp/tmpo4w2u9ko/cluster2.cnl > ovpnmioutput\n",
      "INFO:ClusterComparator:Running /opt/gct/submodules/OvpNMI/onmi /tmp/tmpo4w2u9ko/cluster1.cnl /tmp/tmpo4w2u9ko/cluster2.cnl > ovpnmioutput\n",
      "2020-04-22 22:16:23,666 - ClusterComparator - INFO - resulting 2 nodes out of 128,2\n",
      "INFO:ClusterComparator:resulting 2 nodes out of 128,2\n",
      "/opt/conda/envs/python3/lib/python3.6/site-packages/sklearn/metrics/cluster/supervised.py:859: FutureWarning: The behavior of NMI will change in version 0.22. To match the behavior of 'v_measure_score', NMI will use average_method='arithmetic' by default.\n",
      "  FutureWarning)\n",
      "2020-04-22 22:16:23,671 - Clustering - INFO - reading/data/data/K_DoesAlgSupportWeightTestLFR_w1/gt_default.parq\n",
      "INFO:Clustering:reading/data/data/K_DoesAlgSupportWeightTestLFR_w1/gt_default.parq\n",
      "2020-04-22 22:16:23,676 - ClusterComparator - INFO - resulting 128 nodes out of 128,128\n",
      "INFO:ClusterComparator:resulting 128 nodes out of 128,128\n",
      "2020-04-22 22:16:23,681 - ClusterComparator - INFO - resulting 2 nodes out of 128,2\n",
      "INFO:ClusterComparator:resulting 2 nodes out of 128,2\n",
      "/opt/conda/envs/python3/lib/python3.6/site-packages/sklearn/metrics/cluster/supervised.py:859: FutureWarning: The behavior of NMI will change in version 0.22. To match the behavior of 'v_measure_score', NMI will use average_method='arithmetic' by default.\n",
      "  FutureWarning)\n",
      "2020-04-22 22:16:23,905 - ClusterComparator - INFO - resulting 128 nodes out of 128,128\n",
      "INFO:ClusterComparator:resulting 128 nodes out of 128,128\n",
      "/opt/conda/envs/python3/lib/python3.6/site-packages/sklearn/metrics/cluster/supervised.py:859: FutureWarning: The behavior of NMI will change in version 0.22. To match the behavior of 'v_measure_score', NMI will use average_method='arithmetic' by default.\n",
      "  FutureWarning)\n",
      "2020-04-22 22:16:23,915 - ClusterComparator - INFO - Running /opt/gct/submodules/OvpNMI/onmi /tmp/tmpmczc5yvq/cluster1.cnl /tmp/tmpmczc5yvq/cluster2.cnl > ovpnmioutput\n",
      "INFO:ClusterComparator:Running /opt/gct/submodules/OvpNMI/onmi /tmp/tmpmczc5yvq/cluster1.cnl /tmp/tmpmczc5yvq/cluster2.cnl > ovpnmioutput\n",
      "2020-04-22 22:16:23,924 - Clustering - INFO - reading/data/data/K_DoesAlgSupportWeightTestLFR_w1/gt_default.parq\n",
      "INFO:Clustering:reading/data/data/K_DoesAlgSupportWeightTestLFR_w1/gt_default.parq\n",
      "2020-04-22 22:16:24,035 - ClusterComparator - INFO - resulting 128 nodes out of 128,128\n",
      "INFO:ClusterComparator:resulting 128 nodes out of 128,128\n",
      "/opt/conda/envs/python3/lib/python3.6/site-packages/sklearn/metrics/cluster/supervised.py:859: FutureWarning: The behavior of NMI will change in version 0.22. To match the behavior of 'v_measure_score', NMI will use average_method='arithmetic' by default.\n",
      "  FutureWarning)\n",
      "2020-04-22 22:16:24,043 - ClusterComparator - INFO - Running /opt/gct/submodules/OvpNMI/onmi /tmp/tmpr0i6w71q/cluster1.cnl /tmp/tmpr0i6w71q/cluster2.cnl > ovpnmioutput\n",
      "INFO:ClusterComparator:Running /opt/gct/submodules/OvpNMI/onmi /tmp/tmpr0i6w71q/cluster1.cnl /tmp/tmpr0i6w71q/cluster2.cnl > ovpnmioutput\n",
      "2020-04-22 22:16:24,159 - ClusterComparator - INFO - resulting 128 nodes out of 128,128\n",
      "INFO:ClusterComparator:resulting 128 nodes out of 128,128\n",
      "/opt/conda/envs/python3/lib/python3.6/site-packages/sklearn/metrics/cluster/supervised.py:859: FutureWarning: The behavior of NMI will change in version 0.22. To match the behavior of 'v_measure_score', NMI will use average_method='arithmetic' by default.\n",
      "  FutureWarning)\n",
      "2020-04-22 22:16:24,168 - ClusterComparator - INFO - Running /opt/gct/submodules/OvpNMI/onmi /tmp/tmp2wavl5pd/cluster1.cnl /tmp/tmp2wavl5pd/cluster2.cnl > ovpnmioutput\n",
      "INFO:ClusterComparator:Running /opt/gct/submodules/OvpNMI/onmi /tmp/tmp2wavl5pd/cluster1.cnl /tmp/tmp2wavl5pd/cluster2.cnl > ovpnmioutput\n",
      "2020-04-22 22:16:24,183 - ClusterComparator - INFO - resulting 128 nodes out of 128,128\n",
      "INFO:ClusterComparator:resulting 128 nodes out of 128,128\n",
      "/opt/conda/envs/python3/lib/python3.6/site-packages/sklearn/metrics/cluster/supervised.py:859: FutureWarning: The behavior of NMI will change in version 0.22. To match the behavior of 'v_measure_score', NMI will use average_method='arithmetic' by default.\n",
      "  FutureWarning)\n",
      "2020-04-22 22:16:24,192 - ClusterComparator - INFO - Running /opt/gct/submodules/OvpNMI/onmi /tmp/tmp61kekmj3/cluster1.cnl /tmp/tmp61kekmj3/cluster2.cnl > ovpnmioutput\n",
      "INFO:ClusterComparator:Running /opt/gct/submodules/OvpNMI/onmi /tmp/tmp61kekmj3/cluster1.cnl /tmp/tmp61kekmj3/cluster2.cnl > ovpnmioutput\n",
      "2020-04-22 22:16:24,201 - Clustering - INFO - reading/data/data/K_DoesAlgSupportWeightTestLFR_w1/gt_default.parq\n",
      "INFO:Clustering:reading/data/data/K_DoesAlgSupportWeightTestLFR_w1/gt_default.parq\n",
      "2020-04-22 22:16:24,207 - ClusterComparator - INFO - resulting 127 nodes out of 128,128\n",
      "INFO:ClusterComparator:resulting 127 nodes out of 128,128\n",
      "/opt/conda/envs/python3/lib/python3.6/site-packages/sklearn/metrics/cluster/supervised.py:859: FutureWarning: The behavior of NMI will change in version 0.22. To match the behavior of 'v_measure_score', NMI will use average_method='arithmetic' by default.\n",
      "  FutureWarning)\n",
      "2020-04-22 22:16:24,214 - ClusterComparator - INFO - Running /opt/gct/submodules/OvpNMI/onmi /tmp/tmp28tm858s/cluster1.cnl /tmp/tmp28tm858s/cluster2.cnl > ovpnmioutput\n"
     ]
    },
    {
     "name": "stderr",
     "output_type": "stream",
     "text": [
      "INFO:ClusterComparator:Running /opt/gct/submodules/OvpNMI/onmi /tmp/tmp28tm858s/cluster1.cnl /tmp/tmp28tm858s/cluster2.cnl > ovpnmioutput\n",
      "2020-04-22 22:16:24,222 - ClusterComparator - ERROR - Run command with error status code 134\n",
      "ERROR:ClusterComparator:Run command with error status code 134\n",
      "2020-04-22 22:16:24,224 - ClusterComparator - INFO - resulting 127 nodes out of 128,128\n",
      "INFO:ClusterComparator:resulting 127 nodes out of 128,128\n",
      "/opt/conda/envs/python3/lib/python3.6/site-packages/sklearn/metrics/cluster/supervised.py:859: FutureWarning: The behavior of NMI will change in version 0.22. To match the behavior of 'v_measure_score', NMI will use average_method='arithmetic' by default.\n",
      "  FutureWarning)\n",
      "2020-04-22 22:16:24,232 - ClusterComparator - INFO - Running /opt/gct/submodules/OvpNMI/onmi /tmp/tmpdvy60t57/cluster1.cnl /tmp/tmpdvy60t57/cluster2.cnl > ovpnmioutput\n",
      "INFO:ClusterComparator:Running /opt/gct/submodules/OvpNMI/onmi /tmp/tmpdvy60t57/cluster1.cnl /tmp/tmpdvy60t57/cluster2.cnl > ovpnmioutput\n",
      "2020-04-22 22:16:24,240 - ClusterComparator - ERROR - Run command with error status code 134\n",
      "ERROR:ClusterComparator:Run command with error status code 134\n",
      "2020-04-22 22:16:24,249 - ClusterComparator - INFO - resulting 128 nodes out of 128,128\n",
      "INFO:ClusterComparator:resulting 128 nodes out of 128,128\n",
      "/opt/conda/envs/python3/lib/python3.6/site-packages/sklearn/metrics/cluster/supervised.py:859: FutureWarning: The behavior of NMI will change in version 0.22. To match the behavior of 'v_measure_score', NMI will use average_method='arithmetic' by default.\n",
      "  FutureWarning)\n",
      "2020-04-22 22:16:24,257 - ClusterComparator - INFO - Running /opt/gct/submodules/OvpNMI/onmi /tmp/tmpq2ovfxu_/cluster1.cnl /tmp/tmpq2ovfxu_/cluster2.cnl > ovpnmioutput\n",
      "INFO:ClusterComparator:Running /opt/gct/submodules/OvpNMI/onmi /tmp/tmpq2ovfxu_/cluster1.cnl /tmp/tmpq2ovfxu_/cluster2.cnl > ovpnmioutput\n",
      "2020-04-22 22:16:24,266 - Clustering - INFO - reading/data/data/K_DoesAlgSupportWeightTestLFR_w1/gt_default.parq\n",
      "INFO:Clustering:reading/data/data/K_DoesAlgSupportWeightTestLFR_w1/gt_default.parq\n",
      "2020-04-22 22:16:24,272 - ClusterComparator - INFO - resulting 127 nodes out of 128,128\n",
      "INFO:ClusterComparator:resulting 127 nodes out of 128,128\n",
      "/opt/conda/envs/python3/lib/python3.6/site-packages/sklearn/metrics/cluster/supervised.py:859: FutureWarning: The behavior of NMI will change in version 0.22. To match the behavior of 'v_measure_score', NMI will use average_method='arithmetic' by default.\n",
      "  FutureWarning)\n",
      "2020-04-22 22:16:24,279 - ClusterComparator - INFO - Running /opt/gct/submodules/OvpNMI/onmi /tmp/tmp7c5nvufz/cluster1.cnl /tmp/tmp7c5nvufz/cluster2.cnl > ovpnmioutput\n",
      "INFO:ClusterComparator:Running /opt/gct/submodules/OvpNMI/onmi /tmp/tmp7c5nvufz/cluster1.cnl /tmp/tmp7c5nvufz/cluster2.cnl > ovpnmioutput\n",
      "2020-04-22 22:16:24,287 - ClusterComparator - ERROR - Run command with error status code 134\n",
      "ERROR:ClusterComparator:Run command with error status code 134\n",
      "2020-04-22 22:16:24,289 - ClusterComparator - INFO - resulting 127 nodes out of 128,128\n",
      "INFO:ClusterComparator:resulting 127 nodes out of 128,128\n",
      "/opt/conda/envs/python3/lib/python3.6/site-packages/sklearn/metrics/cluster/supervised.py:859: FutureWarning: The behavior of NMI will change in version 0.22. To match the behavior of 'v_measure_score', NMI will use average_method='arithmetic' by default.\n",
      "  FutureWarning)\n",
      "2020-04-22 22:16:24,297 - ClusterComparator - INFO - Running /opt/gct/submodules/OvpNMI/onmi /tmp/tmpvbqk9ni6/cluster1.cnl /tmp/tmpvbqk9ni6/cluster2.cnl > ovpnmioutput\n",
      "INFO:ClusterComparator:Running /opt/gct/submodules/OvpNMI/onmi /tmp/tmpvbqk9ni6/cluster1.cnl /tmp/tmpvbqk9ni6/cluster2.cnl > ovpnmioutput\n",
      "2020-04-22 22:16:24,305 - ClusterComparator - ERROR - Run command with error status code 134\n",
      "ERROR:ClusterComparator:Run command with error status code 134\n",
      "2020-04-22 22:16:24,406 - ClusterComparator - INFO - resulting 128 nodes out of 128,128\n",
      "INFO:ClusterComparator:resulting 128 nodes out of 128,128\n",
      "/opt/conda/envs/python3/lib/python3.6/site-packages/sklearn/metrics/cluster/supervised.py:859: FutureWarning: The behavior of NMI will change in version 0.22. To match the behavior of 'v_measure_score', NMI will use average_method='arithmetic' by default.\n",
      "  FutureWarning)\n",
      "2020-04-22 22:16:24,415 - ClusterComparator - INFO - Running /opt/gct/submodules/OvpNMI/onmi /tmp/tmplhscegsh/cluster1.cnl /tmp/tmplhscegsh/cluster2.cnl > ovpnmioutput\n",
      "INFO:ClusterComparator:Running /opt/gct/submodules/OvpNMI/onmi /tmp/tmplhscegsh/cluster1.cnl /tmp/tmplhscegsh/cluster2.cnl > ovpnmioutput\n",
      "2020-04-22 22:16:24,424 - Clustering - INFO - reading/data/data/K_DoesAlgSupportWeightTestLFR_w1/gt_default.parq\n",
      "INFO:Clustering:reading/data/data/K_DoesAlgSupportWeightTestLFR_w1/gt_default.parq\n",
      "2020-04-22 22:16:24,430 - ClusterComparator - INFO - resulting 127 nodes out of 128,128\n",
      "INFO:ClusterComparator:resulting 127 nodes out of 128,128\n",
      "/opt/conda/envs/python3/lib/python3.6/site-packages/sklearn/metrics/cluster/supervised.py:859: FutureWarning: The behavior of NMI will change in version 0.22. To match the behavior of 'v_measure_score', NMI will use average_method='arithmetic' by default.\n",
      "  FutureWarning)\n",
      "2020-04-22 22:16:24,438 - ClusterComparator - INFO - Running /opt/gct/submodules/OvpNMI/onmi /tmp/tmpfhquzvv6/cluster1.cnl /tmp/tmpfhquzvv6/cluster2.cnl > ovpnmioutput\n",
      "INFO:ClusterComparator:Running /opt/gct/submodules/OvpNMI/onmi /tmp/tmpfhquzvv6/cluster1.cnl /tmp/tmpfhquzvv6/cluster2.cnl > ovpnmioutput\n",
      "2020-04-22 22:16:24,446 - ClusterComparator - ERROR - Run command with error status code 134\n",
      "ERROR:ClusterComparator:Run command with error status code 134\n",
      "2020-04-22 22:16:24,544 - ClusterComparator - INFO - resulting 127 nodes out of 128,128\n",
      "INFO:ClusterComparator:resulting 127 nodes out of 128,128\n",
      "/opt/conda/envs/python3/lib/python3.6/site-packages/sklearn/metrics/cluster/supervised.py:859: FutureWarning: The behavior of NMI will change in version 0.22. To match the behavior of 'v_measure_score', NMI will use average_method='arithmetic' by default.\n",
      "  FutureWarning)\n",
      "2020-04-22 22:16:24,551 - ClusterComparator - INFO - Running /opt/gct/submodules/OvpNMI/onmi /tmp/tmp38qdkc9t/cluster1.cnl /tmp/tmp38qdkc9t/cluster2.cnl > ovpnmioutput\n",
      "INFO:ClusterComparator:Running /opt/gct/submodules/OvpNMI/onmi /tmp/tmp38qdkc9t/cluster1.cnl /tmp/tmp38qdkc9t/cluster2.cnl > ovpnmioutput\n",
      "2020-04-22 22:16:24,560 - ClusterComparator - ERROR - Run command with error status code 134\n",
      "ERROR:ClusterComparator:Run command with error status code 134\n",
      "2020-04-22 22:16:24,568 - ClusterComparator - INFO - resulting 102 nodes out of 128,102\n",
      "INFO:ClusterComparator:resulting 102 nodes out of 128,102\n",
      "/opt/conda/envs/python3/lib/python3.6/site-packages/sklearn/metrics/cluster/supervised.py:859: FutureWarning: The behavior of NMI will change in version 0.22. To match the behavior of 'v_measure_score', NMI will use average_method='arithmetic' by default.\n",
      "  FutureWarning)\n",
      "2020-04-22 22:16:24,577 - ClusterComparator - INFO - Running /opt/gct/submodules/OvpNMI/onmi /tmp/tmp__8wqkgn/cluster1.cnl /tmp/tmp__8wqkgn/cluster2.cnl > ovpnmioutput\n",
      "INFO:ClusterComparator:Running /opt/gct/submodules/OvpNMI/onmi /tmp/tmp__8wqkgn/cluster1.cnl /tmp/tmp__8wqkgn/cluster2.cnl > ovpnmioutput\n",
      "2020-04-22 22:16:24,585 - Clustering - INFO - reading/data/data/K_DoesAlgSupportWeightTestLFR_w1/gt_default.parq\n",
      "INFO:Clustering:reading/data/data/K_DoesAlgSupportWeightTestLFR_w1/gt_default.parq\n",
      "2020-04-22 22:16:24,591 - ClusterComparator - INFO - resulting 127 nodes out of 128,128\n",
      "INFO:ClusterComparator:resulting 127 nodes out of 128,128\n",
      "/opt/conda/envs/python3/lib/python3.6/site-packages/sklearn/metrics/cluster/supervised.py:859: FutureWarning: The behavior of NMI will change in version 0.22. To match the behavior of 'v_measure_score', NMI will use average_method='arithmetic' by default.\n",
      "  FutureWarning)\n",
      "2020-04-22 22:16:24,599 - ClusterComparator - INFO - Running /opt/gct/submodules/OvpNMI/onmi /tmp/tmpwzml47t5/cluster1.cnl /tmp/tmpwzml47t5/cluster2.cnl > ovpnmioutput\n",
      "INFO:ClusterComparator:Running /opt/gct/submodules/OvpNMI/onmi /tmp/tmpwzml47t5/cluster1.cnl /tmp/tmpwzml47t5/cluster2.cnl > ovpnmioutput\n",
      "2020-04-22 22:16:24,606 - ClusterComparator - ERROR - Run command with error status code 134\n"
     ]
    },
    {
     "name": "stderr",
     "output_type": "stream",
     "text": [
      "ERROR:ClusterComparator:Run command with error status code 134\n",
      "2020-04-22 22:16:24,609 - ClusterComparator - INFO - resulting 101 nodes out of 128,102\n",
      "INFO:ClusterComparator:resulting 101 nodes out of 128,102\n",
      "/opt/conda/envs/python3/lib/python3.6/site-packages/sklearn/metrics/cluster/supervised.py:859: FutureWarning: The behavior of NMI will change in version 0.22. To match the behavior of 'v_measure_score', NMI will use average_method='arithmetic' by default.\n",
      "  FutureWarning)\n",
      "2020-04-22 22:16:24,617 - ClusterComparator - INFO - Running /opt/gct/submodules/OvpNMI/onmi /tmp/tmpsflofohb/cluster1.cnl /tmp/tmpsflofohb/cluster2.cnl > ovpnmioutput\n",
      "INFO:ClusterComparator:Running /opt/gct/submodules/OvpNMI/onmi /tmp/tmpsflofohb/cluster1.cnl /tmp/tmpsflofohb/cluster2.cnl > ovpnmioutput\n",
      "2020-04-22 22:16:24,625 - ClusterComparator - ERROR - Run command with error status code 134\n",
      "ERROR:ClusterComparator:Run command with error status code 134\n",
      "2020-04-22 22:16:24,634 - ClusterComparator - INFO - resulting 128 nodes out of 128,128\n",
      "INFO:ClusterComparator:resulting 128 nodes out of 128,128\n",
      "/opt/conda/envs/python3/lib/python3.6/site-packages/sklearn/metrics/cluster/supervised.py:859: FutureWarning: The behavior of NMI will change in version 0.22. To match the behavior of 'v_measure_score', NMI will use average_method='arithmetic' by default.\n",
      "  FutureWarning)\n",
      "2020-04-22 22:16:24,643 - ClusterComparator - INFO - Running /opt/gct/submodules/OvpNMI/onmi /tmp/tmpsafbuzgm/cluster1.cnl /tmp/tmpsafbuzgm/cluster2.cnl > ovpnmioutput\n",
      "INFO:ClusterComparator:Running /opt/gct/submodules/OvpNMI/onmi /tmp/tmpsafbuzgm/cluster1.cnl /tmp/tmpsafbuzgm/cluster2.cnl > ovpnmioutput\n",
      "2020-04-22 22:16:24,651 - Clustering - INFO - reading/data/data/K_DoesAlgSupportWeightTestLFR_w1/gt_default.parq\n",
      "INFO:Clustering:reading/data/data/K_DoesAlgSupportWeightTestLFR_w1/gt_default.parq\n",
      "2020-04-22 22:16:24,657 - ClusterComparator - INFO - resulting 127 nodes out of 128,128\n",
      "INFO:ClusterComparator:resulting 127 nodes out of 128,128\n",
      "/opt/conda/envs/python3/lib/python3.6/site-packages/sklearn/metrics/cluster/supervised.py:859: FutureWarning: The behavior of NMI will change in version 0.22. To match the behavior of 'v_measure_score', NMI will use average_method='arithmetic' by default.\n",
      "  FutureWarning)\n",
      "2020-04-22 22:16:24,664 - ClusterComparator - INFO - Running /opt/gct/submodules/OvpNMI/onmi /tmp/tmp2rh4586g/cluster1.cnl /tmp/tmp2rh4586g/cluster2.cnl > ovpnmioutput\n",
      "INFO:ClusterComparator:Running /opt/gct/submodules/OvpNMI/onmi /tmp/tmp2rh4586g/cluster1.cnl /tmp/tmp2rh4586g/cluster2.cnl > ovpnmioutput\n",
      "2020-04-22 22:16:24,672 - ClusterComparator - ERROR - Run command with error status code 134\n",
      "ERROR:ClusterComparator:Run command with error status code 134\n",
      "2020-04-22 22:16:24,674 - ClusterComparator - INFO - resulting 127 nodes out of 128,128\n",
      "INFO:ClusterComparator:resulting 127 nodes out of 128,128\n",
      "/opt/conda/envs/python3/lib/python3.6/site-packages/sklearn/metrics/cluster/supervised.py:859: FutureWarning: The behavior of NMI will change in version 0.22. To match the behavior of 'v_measure_score', NMI will use average_method='arithmetic' by default.\n",
      "  FutureWarning)\n",
      "2020-04-22 22:16:24,683 - ClusterComparator - INFO - Running /opt/gct/submodules/OvpNMI/onmi /tmp/tmpopcvxkfd/cluster1.cnl /tmp/tmpopcvxkfd/cluster2.cnl > ovpnmioutput\n",
      "INFO:ClusterComparator:Running /opt/gct/submodules/OvpNMI/onmi /tmp/tmpopcvxkfd/cluster1.cnl /tmp/tmpopcvxkfd/cluster2.cnl > ovpnmioutput\n",
      "2020-04-22 22:16:24,692 - ClusterComparator - ERROR - Run command with error status code 134\n",
      "ERROR:ClusterComparator:Run command with error status code 134\n",
      "2020-04-22 22:16:24,700 - ClusterComparator - INFO - resulting 128 nodes out of 128,128\n",
      "INFO:ClusterComparator:resulting 128 nodes out of 128,128\n",
      "/opt/conda/envs/python3/lib/python3.6/site-packages/sklearn/metrics/cluster/supervised.py:859: FutureWarning: The behavior of NMI will change in version 0.22. To match the behavior of 'v_measure_score', NMI will use average_method='arithmetic' by default.\n",
      "  FutureWarning)\n",
      "2020-04-22 22:16:24,712 - ClusterComparator - INFO - Running /opt/gct/submodules/OvpNMI/onmi /tmp/tmppl7xvlyp/cluster1.cnl /tmp/tmppl7xvlyp/cluster2.cnl > ovpnmioutput\n",
      "INFO:ClusterComparator:Running /opt/gct/submodules/OvpNMI/onmi /tmp/tmppl7xvlyp/cluster1.cnl /tmp/tmppl7xvlyp/cluster2.cnl > ovpnmioutput\n",
      "2020-04-22 22:16:24,720 - Clustering - INFO - reading/data/data/K_DoesAlgSupportWeightTestLFR_w1/gt_default.parq\n",
      "INFO:Clustering:reading/data/data/K_DoesAlgSupportWeightTestLFR_w1/gt_default.parq\n",
      "2020-04-22 22:16:24,727 - ClusterComparator - INFO - resulting 127 nodes out of 128,128\n",
      "INFO:ClusterComparator:resulting 127 nodes out of 128,128\n",
      "/opt/conda/envs/python3/lib/python3.6/site-packages/sklearn/metrics/cluster/supervised.py:859: FutureWarning: The behavior of NMI will change in version 0.22. To match the behavior of 'v_measure_score', NMI will use average_method='arithmetic' by default.\n",
      "  FutureWarning)\n",
      "2020-04-22 22:16:24,736 - ClusterComparator - INFO - Running /opt/gct/submodules/OvpNMI/onmi /tmp/tmpu6sjx020/cluster1.cnl /tmp/tmpu6sjx020/cluster2.cnl > ovpnmioutput\n",
      "INFO:ClusterComparator:Running /opt/gct/submodules/OvpNMI/onmi /tmp/tmpu6sjx020/cluster1.cnl /tmp/tmpu6sjx020/cluster2.cnl > ovpnmioutput\n",
      "2020-04-22 22:16:24,744 - ClusterComparator - ERROR - Run command with error status code 134\n",
      "ERROR:ClusterComparator:Run command with error status code 134\n",
      "2020-04-22 22:16:24,747 - ClusterComparator - INFO - resulting 127 nodes out of 128,128\n",
      "INFO:ClusterComparator:resulting 127 nodes out of 128,128\n",
      "/opt/conda/envs/python3/lib/python3.6/site-packages/sklearn/metrics/cluster/supervised.py:859: FutureWarning: The behavior of NMI will change in version 0.22. To match the behavior of 'v_measure_score', NMI will use average_method='arithmetic' by default.\n",
      "  FutureWarning)\n",
      "2020-04-22 22:16:24,757 - ClusterComparator - INFO - Running /opt/gct/submodules/OvpNMI/onmi /tmp/tmplwj7wbqm/cluster1.cnl /tmp/tmplwj7wbqm/cluster2.cnl > ovpnmioutput\n",
      "INFO:ClusterComparator:Running /opt/gct/submodules/OvpNMI/onmi /tmp/tmplwj7wbqm/cluster1.cnl /tmp/tmplwj7wbqm/cluster2.cnl > ovpnmioutput\n",
      "2020-04-22 22:16:24,765 - ClusterComparator - ERROR - Run command with error status code 134\n",
      "ERROR:ClusterComparator:Run command with error status code 134\n",
      "2020-04-22 22:16:24,774 - ClusterComparator - INFO - resulting 128 nodes out of 128,128\n",
      "INFO:ClusterComparator:resulting 128 nodes out of 128,128\n",
      "/opt/conda/envs/python3/lib/python3.6/site-packages/sklearn/metrics/cluster/supervised.py:859: FutureWarning: The behavior of NMI will change in version 0.22. To match the behavior of 'v_measure_score', NMI will use average_method='arithmetic' by default.\n",
      "  FutureWarning)\n",
      "2020-04-22 22:16:24,783 - ClusterComparator - INFO - Running /opt/gct/submodules/OvpNMI/onmi /tmp/tmpyjweoh3f/cluster1.cnl /tmp/tmpyjweoh3f/cluster2.cnl > ovpnmioutput\n",
      "INFO:ClusterComparator:Running /opt/gct/submodules/OvpNMI/onmi /tmp/tmpyjweoh3f/cluster1.cnl /tmp/tmpyjweoh3f/cluster2.cnl > ovpnmioutput\n",
      "2020-04-22 22:16:24,792 - Clustering - INFO - reading/data/data/K_DoesAlgSupportWeightTestLFR_w1/gt_default.parq\n",
      "INFO:Clustering:reading/data/data/K_DoesAlgSupportWeightTestLFR_w1/gt_default.parq\n",
      "2020-04-22 22:16:24,798 - ClusterComparator - INFO - resulting 127 nodes out of 128,128\n",
      "INFO:ClusterComparator:resulting 127 nodes out of 128,128\n",
      "/opt/conda/envs/python3/lib/python3.6/site-packages/sklearn/metrics/cluster/supervised.py:859: FutureWarning: The behavior of NMI will change in version 0.22. To match the behavior of 'v_measure_score', NMI will use average_method='arithmetic' by default.\n",
      "  FutureWarning)\n",
      "2020-04-22 22:16:24,806 - ClusterComparator - INFO - Running /opt/gct/submodules/OvpNMI/onmi /tmp/tmp5k9jmwh6/cluster1.cnl /tmp/tmp5k9jmwh6/cluster2.cnl > ovpnmioutput\n",
      "INFO:ClusterComparator:Running /opt/gct/submodules/OvpNMI/onmi /tmp/tmp5k9jmwh6/cluster1.cnl /tmp/tmp5k9jmwh6/cluster2.cnl > ovpnmioutput\n",
      "2020-04-22 22:16:24,814 - ClusterComparator - ERROR - Run command with error status code 134\n",
      "ERROR:ClusterComparator:Run command with error status code 134\n",
      "2020-04-22 22:16:24,816 - ClusterComparator - INFO - resulting 127 nodes out of 128,128\n"
     ]
    },
    {
     "name": "stderr",
     "output_type": "stream",
     "text": [
      "INFO:ClusterComparator:resulting 127 nodes out of 128,128\n",
      "/opt/conda/envs/python3/lib/python3.6/site-packages/sklearn/metrics/cluster/supervised.py:859: FutureWarning: The behavior of NMI will change in version 0.22. To match the behavior of 'v_measure_score', NMI will use average_method='arithmetic' by default.\n",
      "  FutureWarning)\n",
      "2020-04-22 22:16:24,825 - ClusterComparator - INFO - Running /opt/gct/submodules/OvpNMI/onmi /tmp/tmpx1smxmyl/cluster1.cnl /tmp/tmpx1smxmyl/cluster2.cnl > ovpnmioutput\n",
      "INFO:ClusterComparator:Running /opt/gct/submodules/OvpNMI/onmi /tmp/tmpx1smxmyl/cluster1.cnl /tmp/tmpx1smxmyl/cluster2.cnl > ovpnmioutput\n",
      "2020-04-22 22:16:24,833 - ClusterComparator - ERROR - Run command with error status code 134\n",
      "ERROR:ClusterComparator:Run command with error status code 134\n",
      "2020-04-22 22:16:24,842 - ClusterComparator - INFO - resulting 128 nodes out of 128,128\n",
      "INFO:ClusterComparator:resulting 128 nodes out of 128,128\n",
      "/opt/conda/envs/python3/lib/python3.6/site-packages/sklearn/metrics/cluster/supervised.py:859: FutureWarning: The behavior of NMI will change in version 0.22. To match the behavior of 'v_measure_score', NMI will use average_method='arithmetic' by default.\n",
      "  FutureWarning)\n",
      "2020-04-22 22:16:24,851 - ClusterComparator - INFO - Running /opt/gct/submodules/OvpNMI/onmi /tmp/tmpogq023bh/cluster1.cnl /tmp/tmpogq023bh/cluster2.cnl > ovpnmioutput\n",
      "INFO:ClusterComparator:Running /opt/gct/submodules/OvpNMI/onmi /tmp/tmpogq023bh/cluster1.cnl /tmp/tmpogq023bh/cluster2.cnl > ovpnmioutput\n",
      "2020-04-22 22:16:24,859 - Clustering - INFO - reading/data/data/K_DoesAlgSupportWeightTestLFR_w1/gt_default.parq\n",
      "INFO:Clustering:reading/data/data/K_DoesAlgSupportWeightTestLFR_w1/gt_default.parq\n",
      "2020-04-22 22:16:24,866 - ClusterComparator - INFO - resulting 127 nodes out of 128,128\n",
      "INFO:ClusterComparator:resulting 127 nodes out of 128,128\n",
      "/opt/conda/envs/python3/lib/python3.6/site-packages/sklearn/metrics/cluster/supervised.py:859: FutureWarning: The behavior of NMI will change in version 0.22. To match the behavior of 'v_measure_score', NMI will use average_method='arithmetic' by default.\n",
      "  FutureWarning)\n",
      "2020-04-22 22:16:24,874 - ClusterComparator - INFO - Running /opt/gct/submodules/OvpNMI/onmi /tmp/tmpbdcm1etm/cluster1.cnl /tmp/tmpbdcm1etm/cluster2.cnl > ovpnmioutput\n",
      "INFO:ClusterComparator:Running /opt/gct/submodules/OvpNMI/onmi /tmp/tmpbdcm1etm/cluster1.cnl /tmp/tmpbdcm1etm/cluster2.cnl > ovpnmioutput\n",
      "2020-04-22 22:16:24,882 - ClusterComparator - ERROR - Run command with error status code 134\n",
      "ERROR:ClusterComparator:Run command with error status code 134\n",
      "2020-04-22 22:16:24,884 - ClusterComparator - INFO - resulting 127 nodes out of 128,128\n",
      "INFO:ClusterComparator:resulting 127 nodes out of 128,128\n",
      "/opt/conda/envs/python3/lib/python3.6/site-packages/sklearn/metrics/cluster/supervised.py:859: FutureWarning: The behavior of NMI will change in version 0.22. To match the behavior of 'v_measure_score', NMI will use average_method='arithmetic' by default.\n",
      "  FutureWarning)\n",
      "2020-04-22 22:16:24,893 - ClusterComparator - INFO - Running /opt/gct/submodules/OvpNMI/onmi /tmp/tmprri31rz9/cluster1.cnl /tmp/tmprri31rz9/cluster2.cnl > ovpnmioutput\n",
      "INFO:ClusterComparator:Running /opt/gct/submodules/OvpNMI/onmi /tmp/tmprri31rz9/cluster1.cnl /tmp/tmprri31rz9/cluster2.cnl > ovpnmioutput\n",
      "2020-04-22 22:16:24,902 - ClusterComparator - ERROR - Run command with error status code 134\n",
      "ERROR:ClusterComparator:Run command with error status code 134\n",
      "2020-04-22 22:16:24,910 - ClusterComparator - INFO - resulting 128 nodes out of 128,128\n",
      "INFO:ClusterComparator:resulting 128 nodes out of 128,128\n",
      "/opt/conda/envs/python3/lib/python3.6/site-packages/sklearn/metrics/cluster/supervised.py:859: FutureWarning: The behavior of NMI will change in version 0.22. To match the behavior of 'v_measure_score', NMI will use average_method='arithmetic' by default.\n",
      "  FutureWarning)\n",
      "2020-04-22 22:16:24,915 - Clustering - INFO - reading/data/data/K_DoesAlgSupportWeightTestLFR_w1/gt_default.parq\n",
      "INFO:Clustering:reading/data/data/K_DoesAlgSupportWeightTestLFR_w1/gt_default.parq\n",
      "2020-04-22 22:16:24,920 - ClusterComparator - INFO - resulting 128 nodes out of 128,128\n",
      "INFO:ClusterComparator:resulting 128 nodes out of 128,128\n",
      "2020-04-22 22:16:24,925 - ClusterComparator - INFO - resulting 128 nodes out of 128,128\n",
      "INFO:ClusterComparator:resulting 128 nodes out of 128,128\n",
      "/opt/conda/envs/python3/lib/python3.6/site-packages/sklearn/metrics/cluster/supervised.py:859: FutureWarning: The behavior of NMI will change in version 0.22. To match the behavior of 'v_measure_score', NMI will use average_method='arithmetic' by default.\n",
      "  FutureWarning)\n",
      "2020-04-22 22:16:25,147 - ClusterComparator - INFO - resulting 126 nodes out of 126,126\n",
      "INFO:ClusterComparator:resulting 126 nodes out of 126,126\n",
      "/opt/conda/envs/python3/lib/python3.6/site-packages/sklearn/metrics/cluster/supervised.py:859: FutureWarning: The behavior of NMI will change in version 0.22. To match the behavior of 'v_measure_score', NMI will use average_method='arithmetic' by default.\n",
      "  FutureWarning)\n",
      "2020-04-22 22:16:25,157 - ClusterComparator - INFO - Running /opt/gct/submodules/OvpNMI/onmi /tmp/tmpz4adgp62/cluster1.cnl /tmp/tmpz4adgp62/cluster2.cnl > ovpnmioutput\n",
      "INFO:ClusterComparator:Running /opt/gct/submodules/OvpNMI/onmi /tmp/tmpz4adgp62/cluster1.cnl /tmp/tmpz4adgp62/cluster2.cnl > ovpnmioutput\n",
      "2020-04-22 22:16:25,166 - Clustering - INFO - reading/data/data/K_DoesAlgSupportWeightTestLFR_w1/gt_default.parq\n",
      "INFO:Clustering:reading/data/data/K_DoesAlgSupportWeightTestLFR_w1/gt_default.parq\n",
      "2020-04-22 22:16:25,273 - ClusterComparator - INFO - resulting 126 nodes out of 128,126\n",
      "INFO:ClusterComparator:resulting 126 nodes out of 128,126\n",
      "/opt/conda/envs/python3/lib/python3.6/site-packages/sklearn/metrics/cluster/supervised.py:859: FutureWarning: The behavior of NMI will change in version 0.22. To match the behavior of 'v_measure_score', NMI will use average_method='arithmetic' by default.\n",
      "  FutureWarning)\n",
      "2020-04-22 22:16:25,281 - ClusterComparator - INFO - Running /opt/gct/submodules/OvpNMI/onmi /tmp/tmppebcv2jf/cluster1.cnl /tmp/tmppebcv2jf/cluster2.cnl > ovpnmioutput\n",
      "INFO:ClusterComparator:Running /opt/gct/submodules/OvpNMI/onmi /tmp/tmppebcv2jf/cluster1.cnl /tmp/tmppebcv2jf/cluster2.cnl > ovpnmioutput\n",
      "2020-04-22 22:16:25,393 - ClusterComparator - INFO - resulting 126 nodes out of 128,126\n",
      "INFO:ClusterComparator:resulting 126 nodes out of 128,126\n",
      "/opt/conda/envs/python3/lib/python3.6/site-packages/sklearn/metrics/cluster/supervised.py:859: FutureWarning: The behavior of NMI will change in version 0.22. To match the behavior of 'v_measure_score', NMI will use average_method='arithmetic' by default.\n",
      "  FutureWarning)\n",
      "2020-04-22 22:16:25,401 - ClusterComparator - INFO - Running /opt/gct/submodules/OvpNMI/onmi /tmp/tmp49j45i4b/cluster1.cnl /tmp/tmp49j45i4b/cluster2.cnl > ovpnmioutput\n",
      "INFO:ClusterComparator:Running /opt/gct/submodules/OvpNMI/onmi /tmp/tmp49j45i4b/cluster1.cnl /tmp/tmp49j45i4b/cluster2.cnl > ovpnmioutput\n",
      "2020-04-22 22:16:25,552 - ClusterComparator - INFO - resulting 52 nodes out of 84,78\n",
      "INFO:ClusterComparator:resulting 52 nodes out of 84,78\n",
      "/opt/conda/envs/python3/lib/python3.6/site-packages/sklearn/metrics/cluster/supervised.py:859: FutureWarning: The behavior of NMI will change in version 0.22. To match the behavior of 'v_measure_score', NMI will use average_method='arithmetic' by default.\n",
      "  FutureWarning)\n",
      "2020-04-22 22:16:25,562 - ClusterComparator - INFO - Running /opt/gct/submodules/OvpNMI/onmi /tmp/tmp9ixoi7k2/cluster1.cnl /tmp/tmp9ixoi7k2/cluster2.cnl > ovpnmioutput\n",
      "INFO:ClusterComparator:Running /opt/gct/submodules/OvpNMI/onmi /tmp/tmp9ixoi7k2/cluster1.cnl /tmp/tmp9ixoi7k2/cluster2.cnl > ovpnmioutput\n",
      "2020-04-22 22:16:25,571 - Clustering - INFO - reading/data/data/K_DoesAlgSupportWeightTestLFR_w1/gt_default.parq\n",
      "INFO:Clustering:reading/data/data/K_DoesAlgSupportWeightTestLFR_w1/gt_default.parq\n",
      "2020-04-22 22:16:25,649 - ClusterComparator - INFO - resulting 84 nodes out of 128,84\n",
      "INFO:ClusterComparator:resulting 84 nodes out of 128,84\n",
      "/opt/conda/envs/python3/lib/python3.6/site-packages/sklearn/metrics/cluster/supervised.py:859: FutureWarning: The behavior of NMI will change in version 0.22. To match the behavior of 'v_measure_score', NMI will use average_method='arithmetic' by default.\n",
      "  FutureWarning)\n",
      "2020-04-22 22:16:25,658 - ClusterComparator - INFO - Running /opt/gct/submodules/OvpNMI/onmi /tmp/tmpgttde0qm/cluster1.cnl /tmp/tmpgttde0qm/cluster2.cnl > ovpnmioutput\n"
     ]
    },
    {
     "name": "stderr",
     "output_type": "stream",
     "text": [
      "INFO:ClusterComparator:Running /opt/gct/submodules/OvpNMI/onmi /tmp/tmpgttde0qm/cluster1.cnl /tmp/tmpgttde0qm/cluster2.cnl > ovpnmioutput\n",
      "2020-04-22 22:16:25,733 - ClusterComparator - INFO - resulting 78 nodes out of 128,78\n",
      "INFO:ClusterComparator:resulting 78 nodes out of 128,78\n",
      "/opt/conda/envs/python3/lib/python3.6/site-packages/sklearn/metrics/cluster/supervised.py:859: FutureWarning: The behavior of NMI will change in version 0.22. To match the behavior of 'v_measure_score', NMI will use average_method='arithmetic' by default.\n",
      "  FutureWarning)\n",
      "2020-04-22 22:16:25,742 - ClusterComparator - INFO - Running /opt/gct/submodules/OvpNMI/onmi /tmp/tmp27snlrcd/cluster1.cnl /tmp/tmp27snlrcd/cluster2.cnl > ovpnmioutput\n",
      "INFO:ClusterComparator:Running /opt/gct/submodules/OvpNMI/onmi /tmp/tmp27snlrcd/cluster1.cnl /tmp/tmp27snlrcd/cluster2.cnl > ovpnmioutput\n",
      "2020-04-22 22:16:25,757 - ClusterComparator - INFO - resulting 128 nodes out of 128,128\n",
      "INFO:ClusterComparator:resulting 128 nodes out of 128,128\n",
      "/opt/conda/envs/python3/lib/python3.6/site-packages/sklearn/metrics/cluster/supervised.py:859: FutureWarning: The behavior of NMI will change in version 0.22. To match the behavior of 'v_measure_score', NMI will use average_method='arithmetic' by default.\n",
      "  FutureWarning)\n",
      "2020-04-22 22:16:25,768 - ClusterComparator - INFO - Running /opt/gct/submodules/OvpNMI/onmi /tmp/tmp5517kx92/cluster1.cnl /tmp/tmp5517kx92/cluster2.cnl > ovpnmioutput\n",
      "INFO:ClusterComparator:Running /opt/gct/submodules/OvpNMI/onmi /tmp/tmp5517kx92/cluster1.cnl /tmp/tmp5517kx92/cluster2.cnl > ovpnmioutput\n",
      "2020-04-22 22:16:25,777 - Clustering - INFO - reading/data/data/K_DoesAlgSupportWeightTestLFR_w1/gt_default.parq\n",
      "INFO:Clustering:reading/data/data/K_DoesAlgSupportWeightTestLFR_w1/gt_default.parq\n",
      "2020-04-22 22:16:25,784 - ClusterComparator - INFO - resulting 128 nodes out of 128,128\n",
      "INFO:ClusterComparator:resulting 128 nodes out of 128,128\n",
      "/opt/conda/envs/python3/lib/python3.6/site-packages/sklearn/metrics/cluster/supervised.py:859: FutureWarning: The behavior of NMI will change in version 0.22. To match the behavior of 'v_measure_score', NMI will use average_method='arithmetic' by default.\n",
      "  FutureWarning)\n",
      "2020-04-22 22:16:25,792 - ClusterComparator - INFO - Running /opt/gct/submodules/OvpNMI/onmi /tmp/tmpz4ms7ay9/cluster1.cnl /tmp/tmpz4ms7ay9/cluster2.cnl > ovpnmioutput\n",
      "INFO:ClusterComparator:Running /opt/gct/submodules/OvpNMI/onmi /tmp/tmpz4ms7ay9/cluster1.cnl /tmp/tmpz4ms7ay9/cluster2.cnl > ovpnmioutput\n",
      "2020-04-22 22:16:25,801 - ClusterComparator - INFO - resulting 128 nodes out of 128,128\n",
      "INFO:ClusterComparator:resulting 128 nodes out of 128,128\n",
      "/opt/conda/envs/python3/lib/python3.6/site-packages/sklearn/metrics/cluster/supervised.py:859: FutureWarning: The behavior of NMI will change in version 0.22. To match the behavior of 'v_measure_score', NMI will use average_method='arithmetic' by default.\n",
      "  FutureWarning)\n",
      "2020-04-22 22:16:25,810 - ClusterComparator - INFO - Running /opt/gct/submodules/OvpNMI/onmi /tmp/tmptjzun8j9/cluster1.cnl /tmp/tmptjzun8j9/cluster2.cnl > ovpnmioutput\n",
      "INFO:ClusterComparator:Running /opt/gct/submodules/OvpNMI/onmi /tmp/tmptjzun8j9/cluster1.cnl /tmp/tmptjzun8j9/cluster2.cnl > ovpnmioutput\n",
      "2020-04-22 22:16:25,825 - ClusterComparator - INFO - resulting 128 nodes out of 128,128\n",
      "INFO:ClusterComparator:resulting 128 nodes out of 128,128\n",
      "/opt/conda/envs/python3/lib/python3.6/site-packages/sklearn/metrics/cluster/supervised.py:859: FutureWarning: The behavior of NMI will change in version 0.22. To match the behavior of 'v_measure_score', NMI will use average_method='arithmetic' by default.\n",
      "  FutureWarning)\n",
      "2020-04-22 22:16:25,835 - ClusterComparator - INFO - Running /opt/gct/submodules/OvpNMI/onmi /tmp/tmp92n1oj58/cluster1.cnl /tmp/tmp92n1oj58/cluster2.cnl > ovpnmioutput\n",
      "INFO:ClusterComparator:Running /opt/gct/submodules/OvpNMI/onmi /tmp/tmp92n1oj58/cluster1.cnl /tmp/tmp92n1oj58/cluster2.cnl > ovpnmioutput\n",
      "2020-04-22 22:16:25,843 - Clustering - INFO - reading/data/data/K_DoesAlgSupportWeightTestLFR_w1/gt_default.parq\n",
      "INFO:Clustering:reading/data/data/K_DoesAlgSupportWeightTestLFR_w1/gt_default.parq\n",
      "2020-04-22 22:16:25,850 - ClusterComparator - INFO - resulting 128 nodes out of 128,128\n",
      "INFO:ClusterComparator:resulting 128 nodes out of 128,128\n",
      "/opt/conda/envs/python3/lib/python3.6/site-packages/sklearn/metrics/cluster/supervised.py:859: FutureWarning: The behavior of NMI will change in version 0.22. To match the behavior of 'v_measure_score', NMI will use average_method='arithmetic' by default.\n",
      "  FutureWarning)\n",
      "2020-04-22 22:16:25,858 - ClusterComparator - INFO - Running /opt/gct/submodules/OvpNMI/onmi /tmp/tmph8kh5uan/cluster1.cnl /tmp/tmph8kh5uan/cluster2.cnl > ovpnmioutput\n",
      "INFO:ClusterComparator:Running /opt/gct/submodules/OvpNMI/onmi /tmp/tmph8kh5uan/cluster1.cnl /tmp/tmph8kh5uan/cluster2.cnl > ovpnmioutput\n",
      "2020-04-22 22:16:25,866 - ClusterComparator - INFO - resulting 128 nodes out of 128,128\n",
      "INFO:ClusterComparator:resulting 128 nodes out of 128,128\n",
      "/opt/conda/envs/python3/lib/python3.6/site-packages/sklearn/metrics/cluster/supervised.py:859: FutureWarning: The behavior of NMI will change in version 0.22. To match the behavior of 'v_measure_score', NMI will use average_method='arithmetic' by default.\n",
      "  FutureWarning)\n",
      "2020-04-22 22:16:25,876 - ClusterComparator - INFO - Running /opt/gct/submodules/OvpNMI/onmi /tmp/tmpqehdi723/cluster1.cnl /tmp/tmpqehdi723/cluster2.cnl > ovpnmioutput\n",
      "INFO:ClusterComparator:Running /opt/gct/submodules/OvpNMI/onmi /tmp/tmpqehdi723/cluster1.cnl /tmp/tmpqehdi723/cluster2.cnl > ovpnmioutput\n",
      "2020-04-22 22:16:25,890 - ClusterComparator - INFO - resulting 128 nodes out of 128,128\n",
      "INFO:ClusterComparator:resulting 128 nodes out of 128,128\n",
      "/opt/conda/envs/python3/lib/python3.6/site-packages/sklearn/metrics/cluster/supervised.py:859: FutureWarning: The behavior of NMI will change in version 0.22. To match the behavior of 'v_measure_score', NMI will use average_method='arithmetic' by default.\n",
      "  FutureWarning)\n",
      "2020-04-22 22:16:25,900 - ClusterComparator - INFO - Running /opt/gct/submodules/OvpNMI/onmi /tmp/tmppazfzvjn/cluster1.cnl /tmp/tmppazfzvjn/cluster2.cnl > ovpnmioutput\n",
      "INFO:ClusterComparator:Running /opt/gct/submodules/OvpNMI/onmi /tmp/tmppazfzvjn/cluster1.cnl /tmp/tmppazfzvjn/cluster2.cnl > ovpnmioutput\n",
      "2020-04-22 22:16:25,909 - Clustering - INFO - reading/data/data/K_DoesAlgSupportWeightTestLFR_w1/gt_default.parq\n",
      "INFO:Clustering:reading/data/data/K_DoesAlgSupportWeightTestLFR_w1/gt_default.parq\n",
      "2020-04-22 22:16:25,916 - ClusterComparator - INFO - resulting 128 nodes out of 128,128\n",
      "INFO:ClusterComparator:resulting 128 nodes out of 128,128\n",
      "/opt/conda/envs/python3/lib/python3.6/site-packages/sklearn/metrics/cluster/supervised.py:859: FutureWarning: The behavior of NMI will change in version 0.22. To match the behavior of 'v_measure_score', NMI will use average_method='arithmetic' by default.\n",
      "  FutureWarning)\n",
      "2020-04-22 22:16:25,923 - ClusterComparator - INFO - Running /opt/gct/submodules/OvpNMI/onmi /tmp/tmpfaad6f3m/cluster1.cnl /tmp/tmpfaad6f3m/cluster2.cnl > ovpnmioutput\n",
      "INFO:ClusterComparator:Running /opt/gct/submodules/OvpNMI/onmi /tmp/tmpfaad6f3m/cluster1.cnl /tmp/tmpfaad6f3m/cluster2.cnl > ovpnmioutput\n",
      "2020-04-22 22:16:25,932 - ClusterComparator - INFO - resulting 128 nodes out of 128,128\n",
      "INFO:ClusterComparator:resulting 128 nodes out of 128,128\n",
      "/opt/conda/envs/python3/lib/python3.6/site-packages/sklearn/metrics/cluster/supervised.py:859: FutureWarning: The behavior of NMI will change in version 0.22. To match the behavior of 'v_measure_score', NMI will use average_method='arithmetic' by default.\n",
      "  FutureWarning)\n",
      "2020-04-22 22:16:25,942 - ClusterComparator - INFO - Running /opt/gct/submodules/OvpNMI/onmi /tmp/tmpl5855v57/cluster1.cnl /tmp/tmpl5855v57/cluster2.cnl > ovpnmioutput\n",
      "INFO:ClusterComparator:Running /opt/gct/submodules/OvpNMI/onmi /tmp/tmpl5855v57/cluster1.cnl /tmp/tmpl5855v57/cluster2.cnl > ovpnmioutput\n",
      "2020-04-22 22:16:25,957 - ClusterComparator - INFO - resulting 128 nodes out of 128,128\n",
      "INFO:ClusterComparator:resulting 128 nodes out of 128,128\n",
      "/opt/conda/envs/python3/lib/python3.6/site-packages/sklearn/metrics/cluster/supervised.py:859: FutureWarning: The behavior of NMI will change in version 0.22. To match the behavior of 'v_measure_score', NMI will use average_method='arithmetic' by default.\n",
      "  FutureWarning)\n"
     ]
    },
    {
     "name": "stderr",
     "output_type": "stream",
     "text": [
      "2020-04-22 22:16:25,967 - ClusterComparator - INFO - Running /opt/gct/submodules/OvpNMI/onmi /tmp/tmp3_y02qdk/cluster1.cnl /tmp/tmp3_y02qdk/cluster2.cnl > ovpnmioutput\n",
      "INFO:ClusterComparator:Running /opt/gct/submodules/OvpNMI/onmi /tmp/tmp3_y02qdk/cluster1.cnl /tmp/tmp3_y02qdk/cluster2.cnl > ovpnmioutput\n",
      "2020-04-22 22:16:25,976 - Clustering - INFO - reading/data/data/K_DoesAlgSupportWeightTestLFR_w1/gt_default.parq\n",
      "INFO:Clustering:reading/data/data/K_DoesAlgSupportWeightTestLFR_w1/gt_default.parq\n",
      "2020-04-22 22:16:25,983 - ClusterComparator - INFO - resulting 128 nodes out of 128,128\n",
      "INFO:ClusterComparator:resulting 128 nodes out of 128,128\n",
      "/opt/conda/envs/python3/lib/python3.6/site-packages/sklearn/metrics/cluster/supervised.py:859: FutureWarning: The behavior of NMI will change in version 0.22. To match the behavior of 'v_measure_score', NMI will use average_method='arithmetic' by default.\n",
      "  FutureWarning)\n",
      "2020-04-22 22:16:25,991 - ClusterComparator - INFO - Running /opt/gct/submodules/OvpNMI/onmi /tmp/tmptrqruwfd/cluster1.cnl /tmp/tmptrqruwfd/cluster2.cnl > ovpnmioutput\n",
      "INFO:ClusterComparator:Running /opt/gct/submodules/OvpNMI/onmi /tmp/tmptrqruwfd/cluster1.cnl /tmp/tmptrqruwfd/cluster2.cnl > ovpnmioutput\n",
      "2020-04-22 22:16:26,000 - ClusterComparator - INFO - resulting 128 nodes out of 128,128\n",
      "INFO:ClusterComparator:resulting 128 nodes out of 128,128\n",
      "/opt/conda/envs/python3/lib/python3.6/site-packages/sklearn/metrics/cluster/supervised.py:859: FutureWarning: The behavior of NMI will change in version 0.22. To match the behavior of 'v_measure_score', NMI will use average_method='arithmetic' by default.\n",
      "  FutureWarning)\n",
      "2020-04-22 22:16:26,009 - ClusterComparator - INFO - Running /opt/gct/submodules/OvpNMI/onmi /tmp/tmp8tgtlz5h/cluster1.cnl /tmp/tmp8tgtlz5h/cluster2.cnl > ovpnmioutput\n",
      "INFO:ClusterComparator:Running /opt/gct/submodules/OvpNMI/onmi /tmp/tmp8tgtlz5h/cluster1.cnl /tmp/tmp8tgtlz5h/cluster2.cnl > ovpnmioutput\n",
      "2020-04-22 22:16:26,024 - ClusterComparator - INFO - resulting 128 nodes out of 128,128\n",
      "INFO:ClusterComparator:resulting 128 nodes out of 128,128\n",
      "/opt/conda/envs/python3/lib/python3.6/site-packages/sklearn/metrics/cluster/supervised.py:859: FutureWarning: The behavior of NMI will change in version 0.22. To match the behavior of 'v_measure_score', NMI will use average_method='arithmetic' by default.\n",
      "  FutureWarning)\n",
      "2020-04-22 22:16:26,034 - ClusterComparator - INFO - Running /opt/gct/submodules/OvpNMI/onmi /tmp/tmpur7xn_os/cluster1.cnl /tmp/tmpur7xn_os/cluster2.cnl > ovpnmioutput\n",
      "INFO:ClusterComparator:Running /opt/gct/submodules/OvpNMI/onmi /tmp/tmpur7xn_os/cluster1.cnl /tmp/tmpur7xn_os/cluster2.cnl > ovpnmioutput\n",
      "2020-04-22 22:16:26,043 - Clustering - INFO - reading/data/data/K_DoesAlgSupportWeightTestLFR_w1/gt_default.parq\n",
      "INFO:Clustering:reading/data/data/K_DoesAlgSupportWeightTestLFR_w1/gt_default.parq\n",
      "2020-04-22 22:16:26,050 - ClusterComparator - INFO - resulting 128 nodes out of 128,128\n",
      "INFO:ClusterComparator:resulting 128 nodes out of 128,128\n",
      "/opt/conda/envs/python3/lib/python3.6/site-packages/sklearn/metrics/cluster/supervised.py:859: FutureWarning: The behavior of NMI will change in version 0.22. To match the behavior of 'v_measure_score', NMI will use average_method='arithmetic' by default.\n",
      "  FutureWarning)\n",
      "2020-04-22 22:16:26,058 - ClusterComparator - INFO - Running /opt/gct/submodules/OvpNMI/onmi /tmp/tmpyeus4td2/cluster1.cnl /tmp/tmpyeus4td2/cluster2.cnl > ovpnmioutput\n",
      "INFO:ClusterComparator:Running /opt/gct/submodules/OvpNMI/onmi /tmp/tmpyeus4td2/cluster1.cnl /tmp/tmpyeus4td2/cluster2.cnl > ovpnmioutput\n",
      "2020-04-22 22:16:26,066 - ClusterComparator - INFO - resulting 128 nodes out of 128,128\n",
      "INFO:ClusterComparator:resulting 128 nodes out of 128,128\n",
      "/opt/conda/envs/python3/lib/python3.6/site-packages/sklearn/metrics/cluster/supervised.py:859: FutureWarning: The behavior of NMI will change in version 0.22. To match the behavior of 'v_measure_score', NMI will use average_method='arithmetic' by default.\n",
      "  FutureWarning)\n",
      "2020-04-22 22:16:26,076 - ClusterComparator - INFO - Running /opt/gct/submodules/OvpNMI/onmi /tmp/tmp06o2_ubi/cluster1.cnl /tmp/tmp06o2_ubi/cluster2.cnl > ovpnmioutput\n",
      "INFO:ClusterComparator:Running /opt/gct/submodules/OvpNMI/onmi /tmp/tmp06o2_ubi/cluster1.cnl /tmp/tmp06o2_ubi/cluster2.cnl > ovpnmioutput\n",
      "2020-04-22 22:16:26,090 - ClusterComparator - INFO - resulting 128 nodes out of 128,128\n",
      "INFO:ClusterComparator:resulting 128 nodes out of 128,128\n",
      "/opt/conda/envs/python3/lib/python3.6/site-packages/sklearn/metrics/cluster/supervised.py:859: FutureWarning: The behavior of NMI will change in version 0.22. To match the behavior of 'v_measure_score', NMI will use average_method='arithmetic' by default.\n",
      "  FutureWarning)\n",
      "2020-04-22 22:16:26,101 - ClusterComparator - INFO - Running /opt/gct/submodules/OvpNMI/onmi /tmp/tmpcjq140fq/cluster1.cnl /tmp/tmpcjq140fq/cluster2.cnl > ovpnmioutput\n",
      "INFO:ClusterComparator:Running /opt/gct/submodules/OvpNMI/onmi /tmp/tmpcjq140fq/cluster1.cnl /tmp/tmpcjq140fq/cluster2.cnl > ovpnmioutput\n",
      "2020-04-22 22:16:26,109 - Clustering - INFO - reading/data/data/K_DoesAlgSupportWeightTestLFR_w1/gt_default.parq\n",
      "INFO:Clustering:reading/data/data/K_DoesAlgSupportWeightTestLFR_w1/gt_default.parq\n",
      "2020-04-22 22:16:26,116 - ClusterComparator - INFO - resulting 128 nodes out of 128,128\n",
      "INFO:ClusterComparator:resulting 128 nodes out of 128,128\n",
      "/opt/conda/envs/python3/lib/python3.6/site-packages/sklearn/metrics/cluster/supervised.py:859: FutureWarning: The behavior of NMI will change in version 0.22. To match the behavior of 'v_measure_score', NMI will use average_method='arithmetic' by default.\n",
      "  FutureWarning)\n",
      "2020-04-22 22:16:26,124 - ClusterComparator - INFO - Running /opt/gct/submodules/OvpNMI/onmi /tmp/tmpedpo_rxv/cluster1.cnl /tmp/tmpedpo_rxv/cluster2.cnl > ovpnmioutput\n",
      "INFO:ClusterComparator:Running /opt/gct/submodules/OvpNMI/onmi /tmp/tmpedpo_rxv/cluster1.cnl /tmp/tmpedpo_rxv/cluster2.cnl > ovpnmioutput\n",
      "2020-04-22 22:16:26,133 - ClusterComparator - INFO - resulting 128 nodes out of 128,128\n",
      "INFO:ClusterComparator:resulting 128 nodes out of 128,128\n",
      "/opt/conda/envs/python3/lib/python3.6/site-packages/sklearn/metrics/cluster/supervised.py:859: FutureWarning: The behavior of NMI will change in version 0.22. To match the behavior of 'v_measure_score', NMI will use average_method='arithmetic' by default.\n",
      "  FutureWarning)\n",
      "2020-04-22 22:16:26,143 - ClusterComparator - INFO - Running /opt/gct/submodules/OvpNMI/onmi /tmp/tmpjp0a3llj/cluster1.cnl /tmp/tmpjp0a3llj/cluster2.cnl > ovpnmioutput\n",
      "INFO:ClusterComparator:Running /opt/gct/submodules/OvpNMI/onmi /tmp/tmpjp0a3llj/cluster1.cnl /tmp/tmpjp0a3llj/cluster2.cnl > ovpnmioutput\n",
      "2020-04-22 22:16:26,158 - ClusterComparator - INFO - resulting 128 nodes out of 128,128\n",
      "INFO:ClusterComparator:resulting 128 nodes out of 128,128\n",
      "/opt/conda/envs/python3/lib/python3.6/site-packages/sklearn/metrics/cluster/supervised.py:859: FutureWarning: The behavior of NMI will change in version 0.22. To match the behavior of 'v_measure_score', NMI will use average_method='arithmetic' by default.\n",
      "  FutureWarning)\n",
      "2020-04-22 22:16:26,169 - ClusterComparator - INFO - Running /opt/gct/submodules/OvpNMI/onmi /tmp/tmp5xggcsf1/cluster1.cnl /tmp/tmp5xggcsf1/cluster2.cnl > ovpnmioutput\n",
      "INFO:ClusterComparator:Running /opt/gct/submodules/OvpNMI/onmi /tmp/tmp5xggcsf1/cluster1.cnl /tmp/tmp5xggcsf1/cluster2.cnl > ovpnmioutput\n",
      "2020-04-22 22:16:26,178 - Clustering - INFO - reading/data/data/K_DoesAlgSupportWeightTestLFR_w1/gt_default.parq\n",
      "INFO:Clustering:reading/data/data/K_DoesAlgSupportWeightTestLFR_w1/gt_default.parq\n",
      "2020-04-22 22:16:26,185 - ClusterComparator - INFO - resulting 128 nodes out of 128,128\n",
      "INFO:ClusterComparator:resulting 128 nodes out of 128,128\n",
      "/opt/conda/envs/python3/lib/python3.6/site-packages/sklearn/metrics/cluster/supervised.py:859: FutureWarning: The behavior of NMI will change in version 0.22. To match the behavior of 'v_measure_score', NMI will use average_method='arithmetic' by default.\n",
      "  FutureWarning)\n",
      "2020-04-22 22:16:26,193 - ClusterComparator - INFO - Running /opt/gct/submodules/OvpNMI/onmi /tmp/tmpgmr0z7mi/cluster1.cnl /tmp/tmpgmr0z7mi/cluster2.cnl > ovpnmioutput\n"
     ]
    },
    {
     "name": "stderr",
     "output_type": "stream",
     "text": [
      "INFO:ClusterComparator:Running /opt/gct/submodules/OvpNMI/onmi /tmp/tmpgmr0z7mi/cluster1.cnl /tmp/tmpgmr0z7mi/cluster2.cnl > ovpnmioutput\n",
      "2020-04-22 22:16:26,201 - ClusterComparator - INFO - resulting 128 nodes out of 128,128\n",
      "INFO:ClusterComparator:resulting 128 nodes out of 128,128\n",
      "/opt/conda/envs/python3/lib/python3.6/site-packages/sklearn/metrics/cluster/supervised.py:859: FutureWarning: The behavior of NMI will change in version 0.22. To match the behavior of 'v_measure_score', NMI will use average_method='arithmetic' by default.\n",
      "  FutureWarning)\n",
      "2020-04-22 22:16:26,210 - ClusterComparator - INFO - Running /opt/gct/submodules/OvpNMI/onmi /tmp/tmpg_2n_xd0/cluster1.cnl /tmp/tmpg_2n_xd0/cluster2.cnl > ovpnmioutput\n",
      "INFO:ClusterComparator:Running /opt/gct/submodules/OvpNMI/onmi /tmp/tmpg_2n_xd0/cluster1.cnl /tmp/tmpg_2n_xd0/cluster2.cnl > ovpnmioutput\n",
      "2020-04-22 22:16:26,224 - ClusterComparator - INFO - resulting 128 nodes out of 128,128\n",
      "INFO:ClusterComparator:resulting 128 nodes out of 128,128\n",
      "/opt/conda/envs/python3/lib/python3.6/site-packages/sklearn/metrics/cluster/supervised.py:859: FutureWarning: The behavior of NMI will change in version 0.22. To match the behavior of 'v_measure_score', NMI will use average_method='arithmetic' by default.\n",
      "  FutureWarning)\n",
      "2020-04-22 22:16:26,235 - ClusterComparator - INFO - Running /opt/gct/submodules/OvpNMI/onmi /tmp/tmprn1z2a_r/cluster1.cnl /tmp/tmprn1z2a_r/cluster2.cnl > ovpnmioutput\n",
      "INFO:ClusterComparator:Running /opt/gct/submodules/OvpNMI/onmi /tmp/tmprn1z2a_r/cluster1.cnl /tmp/tmprn1z2a_r/cluster2.cnl > ovpnmioutput\n",
      "2020-04-22 22:16:26,243 - Clustering - INFO - reading/data/data/K_DoesAlgSupportWeightTestLFR_w1/gt_default.parq\n",
      "INFO:Clustering:reading/data/data/K_DoesAlgSupportWeightTestLFR_w1/gt_default.parq\n",
      "2020-04-22 22:16:26,249 - ClusterComparator - INFO - resulting 128 nodes out of 128,128\n",
      "INFO:ClusterComparator:resulting 128 nodes out of 128,128\n",
      "/opt/conda/envs/python3/lib/python3.6/site-packages/sklearn/metrics/cluster/supervised.py:859: FutureWarning: The behavior of NMI will change in version 0.22. To match the behavior of 'v_measure_score', NMI will use average_method='arithmetic' by default.\n",
      "  FutureWarning)\n",
      "2020-04-22 22:16:26,257 - ClusterComparator - INFO - Running /opt/gct/submodules/OvpNMI/onmi /tmp/tmpsfhzx2br/cluster1.cnl /tmp/tmpsfhzx2br/cluster2.cnl > ovpnmioutput\n",
      "INFO:ClusterComparator:Running /opt/gct/submodules/OvpNMI/onmi /tmp/tmpsfhzx2br/cluster1.cnl /tmp/tmpsfhzx2br/cluster2.cnl > ovpnmioutput\n",
      "2020-04-22 22:16:26,265 - ClusterComparator - INFO - resulting 128 nodes out of 128,128\n",
      "INFO:ClusterComparator:resulting 128 nodes out of 128,128\n",
      "/opt/conda/envs/python3/lib/python3.6/site-packages/sklearn/metrics/cluster/supervised.py:859: FutureWarning: The behavior of NMI will change in version 0.22. To match the behavior of 'v_measure_score', NMI will use average_method='arithmetic' by default.\n",
      "  FutureWarning)\n",
      "2020-04-22 22:16:26,275 - ClusterComparator - INFO - Running /opt/gct/submodules/OvpNMI/onmi /tmp/tmpj0h72b3i/cluster1.cnl /tmp/tmpj0h72b3i/cluster2.cnl > ovpnmioutput\n",
      "INFO:ClusterComparator:Running /opt/gct/submodules/OvpNMI/onmi /tmp/tmpj0h72b3i/cluster1.cnl /tmp/tmpj0h72b3i/cluster2.cnl > ovpnmioutput\n",
      "2020-04-22 22:16:26,289 - ClusterComparator - INFO - resulting 128 nodes out of 128,128\n",
      "INFO:ClusterComparator:resulting 128 nodes out of 128,128\n",
      "/opt/conda/envs/python3/lib/python3.6/site-packages/sklearn/metrics/cluster/supervised.py:859: FutureWarning: The behavior of NMI will change in version 0.22. To match the behavior of 'v_measure_score', NMI will use average_method='arithmetic' by default.\n",
      "  FutureWarning)\n",
      "2020-04-22 22:16:26,300 - ClusterComparator - INFO - Running /opt/gct/submodules/OvpNMI/onmi /tmp/tmpmlkhtur_/cluster1.cnl /tmp/tmpmlkhtur_/cluster2.cnl > ovpnmioutput\n",
      "INFO:ClusterComparator:Running /opt/gct/submodules/OvpNMI/onmi /tmp/tmpmlkhtur_/cluster1.cnl /tmp/tmpmlkhtur_/cluster2.cnl > ovpnmioutput\n",
      "2020-04-22 22:16:26,308 - Clustering - INFO - reading/data/data/K_DoesAlgSupportWeightTestLFR_w1/gt_default.parq\n",
      "INFO:Clustering:reading/data/data/K_DoesAlgSupportWeightTestLFR_w1/gt_default.parq\n",
      "2020-04-22 22:16:26,314 - ClusterComparator - INFO - resulting 128 nodes out of 128,128\n",
      "INFO:ClusterComparator:resulting 128 nodes out of 128,128\n",
      "/opt/conda/envs/python3/lib/python3.6/site-packages/sklearn/metrics/cluster/supervised.py:859: FutureWarning: The behavior of NMI will change in version 0.22. To match the behavior of 'v_measure_score', NMI will use average_method='arithmetic' by default.\n",
      "  FutureWarning)\n",
      "2020-04-22 22:16:26,322 - ClusterComparator - INFO - Running /opt/gct/submodules/OvpNMI/onmi /tmp/tmph49_m50x/cluster1.cnl /tmp/tmph49_m50x/cluster2.cnl > ovpnmioutput\n",
      "INFO:ClusterComparator:Running /opt/gct/submodules/OvpNMI/onmi /tmp/tmph49_m50x/cluster1.cnl /tmp/tmph49_m50x/cluster2.cnl > ovpnmioutput\n",
      "2020-04-22 22:16:26,332 - ClusterComparator - INFO - resulting 128 nodes out of 128,128\n",
      "INFO:ClusterComparator:resulting 128 nodes out of 128,128\n",
      "/opt/conda/envs/python3/lib/python3.6/site-packages/sklearn/metrics/cluster/supervised.py:859: FutureWarning: The behavior of NMI will change in version 0.22. To match the behavior of 'v_measure_score', NMI will use average_method='arithmetic' by default.\n",
      "  FutureWarning)\n",
      "2020-04-22 22:16:26,341 - ClusterComparator - INFO - Running /opt/gct/submodules/OvpNMI/onmi /tmp/tmpwskmqzfv/cluster1.cnl /tmp/tmpwskmqzfv/cluster2.cnl > ovpnmioutput\n",
      "INFO:ClusterComparator:Running /opt/gct/submodules/OvpNMI/onmi /tmp/tmpwskmqzfv/cluster1.cnl /tmp/tmpwskmqzfv/cluster2.cnl > ovpnmioutput\n",
      "2020-04-22 22:16:26,356 - ClusterComparator - INFO - resulting 128 nodes out of 128,128\n",
      "INFO:ClusterComparator:resulting 128 nodes out of 128,128\n",
      "/opt/conda/envs/python3/lib/python3.6/site-packages/sklearn/metrics/cluster/supervised.py:859: FutureWarning: The behavior of NMI will change in version 0.22. To match the behavior of 'v_measure_score', NMI will use average_method='arithmetic' by default.\n",
      "  FutureWarning)\n",
      "2020-04-22 22:16:26,366 - ClusterComparator - INFO - Running /opt/gct/submodules/OvpNMI/onmi /tmp/tmpirsky6y6/cluster1.cnl /tmp/tmpirsky6y6/cluster2.cnl > ovpnmioutput\n",
      "INFO:ClusterComparator:Running /opt/gct/submodules/OvpNMI/onmi /tmp/tmpirsky6y6/cluster1.cnl /tmp/tmpirsky6y6/cluster2.cnl > ovpnmioutput\n",
      "2020-04-22 22:16:26,375 - Clustering - INFO - reading/data/data/K_DoesAlgSupportWeightTestLFR_w1/gt_default.parq\n",
      "INFO:Clustering:reading/data/data/K_DoesAlgSupportWeightTestLFR_w1/gt_default.parq\n",
      "2020-04-22 22:16:26,381 - ClusterComparator - INFO - resulting 128 nodes out of 128,128\n",
      "INFO:ClusterComparator:resulting 128 nodes out of 128,128\n",
      "/opt/conda/envs/python3/lib/python3.6/site-packages/sklearn/metrics/cluster/supervised.py:859: FutureWarning: The behavior of NMI will change in version 0.22. To match the behavior of 'v_measure_score', NMI will use average_method='arithmetic' by default.\n",
      "  FutureWarning)\n",
      "2020-04-22 22:16:26,389 - ClusterComparator - INFO - Running /opt/gct/submodules/OvpNMI/onmi /tmp/tmph_o871kb/cluster1.cnl /tmp/tmph_o871kb/cluster2.cnl > ovpnmioutput\n",
      "INFO:ClusterComparator:Running /opt/gct/submodules/OvpNMI/onmi /tmp/tmph_o871kb/cluster1.cnl /tmp/tmph_o871kb/cluster2.cnl > ovpnmioutput\n",
      "2020-04-22 22:16:26,397 - ClusterComparator - INFO - resulting 128 nodes out of 128,128\n",
      "INFO:ClusterComparator:resulting 128 nodes out of 128,128\n",
      "/opt/conda/envs/python3/lib/python3.6/site-packages/sklearn/metrics/cluster/supervised.py:859: FutureWarning: The behavior of NMI will change in version 0.22. To match the behavior of 'v_measure_score', NMI will use average_method='arithmetic' by default.\n",
      "  FutureWarning)\n",
      "2020-04-22 22:16:26,407 - ClusterComparator - INFO - Running /opt/gct/submodules/OvpNMI/onmi /tmp/tmp016f4ufm/cluster1.cnl /tmp/tmp016f4ufm/cluster2.cnl > ovpnmioutput\n",
      "INFO:ClusterComparator:Running /opt/gct/submodules/OvpNMI/onmi /tmp/tmp016f4ufm/cluster1.cnl /tmp/tmp016f4ufm/cluster2.cnl > ovpnmioutput\n",
      "2020-04-22 22:16:26,421 - ClusterComparator - INFO - resulting 128 nodes out of 128,128\n",
      "INFO:ClusterComparator:resulting 128 nodes out of 128,128\n",
      "/opt/conda/envs/python3/lib/python3.6/site-packages/sklearn/metrics/cluster/supervised.py:859: FutureWarning: The behavior of NMI will change in version 0.22. To match the behavior of 'v_measure_score', NMI will use average_method='arithmetic' by default.\n",
      "  FutureWarning)\n"
     ]
    },
    {
     "name": "stderr",
     "output_type": "stream",
     "text": [
      "2020-04-22 22:16:26,431 - ClusterComparator - INFO - Running /opt/gct/submodules/OvpNMI/onmi /tmp/tmppe53257f/cluster1.cnl /tmp/tmppe53257f/cluster2.cnl > ovpnmioutput\n",
      "INFO:ClusterComparator:Running /opt/gct/submodules/OvpNMI/onmi /tmp/tmppe53257f/cluster1.cnl /tmp/tmppe53257f/cluster2.cnl > ovpnmioutput\n",
      "2020-04-22 22:16:26,440 - Clustering - INFO - reading/data/data/K_DoesAlgSupportWeightTestLFR_w1/gt_default.parq\n",
      "INFO:Clustering:reading/data/data/K_DoesAlgSupportWeightTestLFR_w1/gt_default.parq\n",
      "2020-04-22 22:16:26,446 - ClusterComparator - INFO - resulting 128 nodes out of 128,128\n",
      "INFO:ClusterComparator:resulting 128 nodes out of 128,128\n",
      "/opt/conda/envs/python3/lib/python3.6/site-packages/sklearn/metrics/cluster/supervised.py:859: FutureWarning: The behavior of NMI will change in version 0.22. To match the behavior of 'v_measure_score', NMI will use average_method='arithmetic' by default.\n",
      "  FutureWarning)\n",
      "2020-04-22 22:16:26,454 - ClusterComparator - INFO - Running /opt/gct/submodules/OvpNMI/onmi /tmp/tmpb5laxbme/cluster1.cnl /tmp/tmpb5laxbme/cluster2.cnl > ovpnmioutput\n",
      "INFO:ClusterComparator:Running /opt/gct/submodules/OvpNMI/onmi /tmp/tmpb5laxbme/cluster1.cnl /tmp/tmpb5laxbme/cluster2.cnl > ovpnmioutput\n",
      "2020-04-22 22:16:26,462 - ClusterComparator - INFO - resulting 128 nodes out of 128,128\n",
      "INFO:ClusterComparator:resulting 128 nodes out of 128,128\n",
      "/opt/conda/envs/python3/lib/python3.6/site-packages/sklearn/metrics/cluster/supervised.py:859: FutureWarning: The behavior of NMI will change in version 0.22. To match the behavior of 'v_measure_score', NMI will use average_method='arithmetic' by default.\n",
      "  FutureWarning)\n",
      "2020-04-22 22:16:26,471 - ClusterComparator - INFO - Running /opt/gct/submodules/OvpNMI/onmi /tmp/tmplgzddiro/cluster1.cnl /tmp/tmplgzddiro/cluster2.cnl > ovpnmioutput\n",
      "INFO:ClusterComparator:Running /opt/gct/submodules/OvpNMI/onmi /tmp/tmplgzddiro/cluster1.cnl /tmp/tmplgzddiro/cluster2.cnl > ovpnmioutput\n",
      "2020-04-22 22:16:26,486 - ClusterComparator - INFO - resulting 128 nodes out of 128,128\n",
      "INFO:ClusterComparator:resulting 128 nodes out of 128,128\n",
      "/opt/conda/envs/python3/lib/python3.6/site-packages/sklearn/metrics/cluster/supervised.py:859: FutureWarning: The behavior of NMI will change in version 0.22. To match the behavior of 'v_measure_score', NMI will use average_method='arithmetic' by default.\n",
      "  FutureWarning)\n",
      "2020-04-22 22:16:26,496 - ClusterComparator - INFO - Running /opt/gct/submodules/OvpNMI/onmi /tmp/tmp8zz_ggrm/cluster1.cnl /tmp/tmp8zz_ggrm/cluster2.cnl > ovpnmioutput\n",
      "INFO:ClusterComparator:Running /opt/gct/submodules/OvpNMI/onmi /tmp/tmp8zz_ggrm/cluster1.cnl /tmp/tmp8zz_ggrm/cluster2.cnl > ovpnmioutput\n",
      "2020-04-22 22:16:26,504 - Clustering - INFO - reading/data/data/K_DoesAlgSupportWeightTestLFR_w1/gt_default.parq\n",
      "INFO:Clustering:reading/data/data/K_DoesAlgSupportWeightTestLFR_w1/gt_default.parq\n",
      "2020-04-22 22:16:26,511 - ClusterComparator - INFO - resulting 128 nodes out of 128,128\n",
      "INFO:ClusterComparator:resulting 128 nodes out of 128,128\n",
      "/opt/conda/envs/python3/lib/python3.6/site-packages/sklearn/metrics/cluster/supervised.py:859: FutureWarning: The behavior of NMI will change in version 0.22. To match the behavior of 'v_measure_score', NMI will use average_method='arithmetic' by default.\n",
      "  FutureWarning)\n",
      "2020-04-22 22:16:26,519 - ClusterComparator - INFO - Running /opt/gct/submodules/OvpNMI/onmi /tmp/tmpy1u1fbmw/cluster1.cnl /tmp/tmpy1u1fbmw/cluster2.cnl > ovpnmioutput\n",
      "INFO:ClusterComparator:Running /opt/gct/submodules/OvpNMI/onmi /tmp/tmpy1u1fbmw/cluster1.cnl /tmp/tmpy1u1fbmw/cluster2.cnl > ovpnmioutput\n",
      "2020-04-22 22:16:26,527 - ClusterComparator - INFO - resulting 128 nodes out of 128,128\n",
      "INFO:ClusterComparator:resulting 128 nodes out of 128,128\n",
      "/opt/conda/envs/python3/lib/python3.6/site-packages/sklearn/metrics/cluster/supervised.py:859: FutureWarning: The behavior of NMI will change in version 0.22. To match the behavior of 'v_measure_score', NMI will use average_method='arithmetic' by default.\n",
      "  FutureWarning)\n",
      "2020-04-22 22:16:26,536 - ClusterComparator - INFO - Running /opt/gct/submodules/OvpNMI/onmi /tmp/tmpwhijzma8/cluster1.cnl /tmp/tmpwhijzma8/cluster2.cnl > ovpnmioutput\n",
      "INFO:ClusterComparator:Running /opt/gct/submodules/OvpNMI/onmi /tmp/tmpwhijzma8/cluster1.cnl /tmp/tmpwhijzma8/cluster2.cnl > ovpnmioutput\n",
      "2020-04-22 22:16:26,551 - ClusterComparator - INFO - resulting 128 nodes out of 128,128\n",
      "INFO:ClusterComparator:resulting 128 nodes out of 128,128\n",
      "/opt/conda/envs/python3/lib/python3.6/site-packages/sklearn/metrics/cluster/supervised.py:859: FutureWarning: The behavior of NMI will change in version 0.22. To match the behavior of 'v_measure_score', NMI will use average_method='arithmetic' by default.\n",
      "  FutureWarning)\n",
      "2020-04-22 22:16:26,561 - ClusterComparator - INFO - Running /opt/gct/submodules/OvpNMI/onmi /tmp/tmp5v64z8ot/cluster1.cnl /tmp/tmp5v64z8ot/cluster2.cnl > ovpnmioutput\n",
      "INFO:ClusterComparator:Running /opt/gct/submodules/OvpNMI/onmi /tmp/tmp5v64z8ot/cluster1.cnl /tmp/tmp5v64z8ot/cluster2.cnl > ovpnmioutput\n",
      "2020-04-22 22:16:26,569 - Clustering - INFO - reading/data/data/K_DoesAlgSupportWeightTestLFR_w1/gt_default.parq\n",
      "INFO:Clustering:reading/data/data/K_DoesAlgSupportWeightTestLFR_w1/gt_default.parq\n",
      "2020-04-22 22:16:26,576 - ClusterComparator - INFO - resulting 128 nodes out of 128,128\n",
      "INFO:ClusterComparator:resulting 128 nodes out of 128,128\n",
      "/opt/conda/envs/python3/lib/python3.6/site-packages/sklearn/metrics/cluster/supervised.py:859: FutureWarning: The behavior of NMI will change in version 0.22. To match the behavior of 'v_measure_score', NMI will use average_method='arithmetic' by default.\n",
      "  FutureWarning)\n",
      "2020-04-22 22:16:26,584 - ClusterComparator - INFO - Running /opt/gct/submodules/OvpNMI/onmi /tmp/tmpqlduzji4/cluster1.cnl /tmp/tmpqlduzji4/cluster2.cnl > ovpnmioutput\n",
      "INFO:ClusterComparator:Running /opt/gct/submodules/OvpNMI/onmi /tmp/tmpqlduzji4/cluster1.cnl /tmp/tmpqlduzji4/cluster2.cnl > ovpnmioutput\n",
      "2020-04-22 22:16:26,592 - ClusterComparator - INFO - resulting 128 nodes out of 128,128\n",
      "INFO:ClusterComparator:resulting 128 nodes out of 128,128\n",
      "/opt/conda/envs/python3/lib/python3.6/site-packages/sklearn/metrics/cluster/supervised.py:859: FutureWarning: The behavior of NMI will change in version 0.22. To match the behavior of 'v_measure_score', NMI will use average_method='arithmetic' by default.\n",
      "  FutureWarning)\n",
      "2020-04-22 22:16:26,601 - ClusterComparator - INFO - Running /opt/gct/submodules/OvpNMI/onmi /tmp/tmpu30rzo4z/cluster1.cnl /tmp/tmpu30rzo4z/cluster2.cnl > ovpnmioutput\n",
      "INFO:ClusterComparator:Running /opt/gct/submodules/OvpNMI/onmi /tmp/tmpu30rzo4z/cluster1.cnl /tmp/tmpu30rzo4z/cluster2.cnl > ovpnmioutput\n",
      "2020-04-22 22:16:26,616 - ClusterComparator - INFO - resulting 128 nodes out of 128,128\n",
      "INFO:ClusterComparator:resulting 128 nodes out of 128,128\n",
      "/opt/conda/envs/python3/lib/python3.6/site-packages/sklearn/metrics/cluster/supervised.py:859: FutureWarning: The behavior of NMI will change in version 0.22. To match the behavior of 'v_measure_score', NMI will use average_method='arithmetic' by default.\n",
      "  FutureWarning)\n",
      "2020-04-22 22:16:26,627 - ClusterComparator - INFO - Running /opt/gct/submodules/OvpNMI/onmi /tmp/tmpmkb3znwy/cluster1.cnl /tmp/tmpmkb3znwy/cluster2.cnl > ovpnmioutput\n",
      "INFO:ClusterComparator:Running /opt/gct/submodules/OvpNMI/onmi /tmp/tmpmkb3znwy/cluster1.cnl /tmp/tmpmkb3znwy/cluster2.cnl > ovpnmioutput\n",
      "2020-04-22 22:16:26,635 - Clustering - INFO - reading/data/data/K_DoesAlgSupportWeightTestLFR_w1/gt_default.parq\n",
      "INFO:Clustering:reading/data/data/K_DoesAlgSupportWeightTestLFR_w1/gt_default.parq\n",
      "2020-04-22 22:16:26,641 - ClusterComparator - INFO - resulting 128 nodes out of 128,128\n",
      "INFO:ClusterComparator:resulting 128 nodes out of 128,128\n",
      "/opt/conda/envs/python3/lib/python3.6/site-packages/sklearn/metrics/cluster/supervised.py:859: FutureWarning: The behavior of NMI will change in version 0.22. To match the behavior of 'v_measure_score', NMI will use average_method='arithmetic' by default.\n",
      "  FutureWarning)\n",
      "2020-04-22 22:16:26,650 - ClusterComparator - INFO - Running /opt/gct/submodules/OvpNMI/onmi /tmp/tmpizsy00wn/cluster1.cnl /tmp/tmpizsy00wn/cluster2.cnl > ovpnmioutput\n"
     ]
    },
    {
     "name": "stderr",
     "output_type": "stream",
     "text": [
      "INFO:ClusterComparator:Running /opt/gct/submodules/OvpNMI/onmi /tmp/tmpizsy00wn/cluster1.cnl /tmp/tmpizsy00wn/cluster2.cnl > ovpnmioutput\n",
      "2020-04-22 22:16:26,658 - ClusterComparator - INFO - resulting 128 nodes out of 128,128\n",
      "INFO:ClusterComparator:resulting 128 nodes out of 128,128\n",
      "/opt/conda/envs/python3/lib/python3.6/site-packages/sklearn/metrics/cluster/supervised.py:859: FutureWarning: The behavior of NMI will change in version 0.22. To match the behavior of 'v_measure_score', NMI will use average_method='arithmetic' by default.\n",
      "  FutureWarning)\n",
      "2020-04-22 22:16:26,668 - ClusterComparator - INFO - Running /opt/gct/submodules/OvpNMI/onmi /tmp/tmpxn2y82xw/cluster1.cnl /tmp/tmpxn2y82xw/cluster2.cnl > ovpnmioutput\n",
      "INFO:ClusterComparator:Running /opt/gct/submodules/OvpNMI/onmi /tmp/tmpxn2y82xw/cluster1.cnl /tmp/tmpxn2y82xw/cluster2.cnl > ovpnmioutput\n",
      "2020-04-22 22:16:26,682 - ClusterComparator - INFO - resulting 128 nodes out of 128,128\n",
      "INFO:ClusterComparator:resulting 128 nodes out of 128,128\n",
      "/opt/conda/envs/python3/lib/python3.6/site-packages/sklearn/metrics/cluster/supervised.py:859: FutureWarning: The behavior of NMI will change in version 0.22. To match the behavior of 'v_measure_score', NMI will use average_method='arithmetic' by default.\n",
      "  FutureWarning)\n",
      "2020-04-22 22:16:26,693 - ClusterComparator - INFO - Running /opt/gct/submodules/OvpNMI/onmi /tmp/tmppi2a850j/cluster1.cnl /tmp/tmppi2a850j/cluster2.cnl > ovpnmioutput\n",
      "INFO:ClusterComparator:Running /opt/gct/submodules/OvpNMI/onmi /tmp/tmppi2a850j/cluster1.cnl /tmp/tmppi2a850j/cluster2.cnl > ovpnmioutput\n",
      "2020-04-22 22:16:26,701 - Clustering - INFO - reading/data/data/K_DoesAlgSupportWeightTestLFR_w1/gt_default.parq\n",
      "INFO:Clustering:reading/data/data/K_DoesAlgSupportWeightTestLFR_w1/gt_default.parq\n",
      "2020-04-22 22:16:26,707 - ClusterComparator - INFO - resulting 128 nodes out of 128,128\n",
      "INFO:ClusterComparator:resulting 128 nodes out of 128,128\n",
      "/opt/conda/envs/python3/lib/python3.6/site-packages/sklearn/metrics/cluster/supervised.py:859: FutureWarning: The behavior of NMI will change in version 0.22. To match the behavior of 'v_measure_score', NMI will use average_method='arithmetic' by default.\n",
      "  FutureWarning)\n",
      "2020-04-22 22:16:26,715 - ClusterComparator - INFO - Running /opt/gct/submodules/OvpNMI/onmi /tmp/tmpvk7njpjg/cluster1.cnl /tmp/tmpvk7njpjg/cluster2.cnl > ovpnmioutput\n",
      "INFO:ClusterComparator:Running /opt/gct/submodules/OvpNMI/onmi /tmp/tmpvk7njpjg/cluster1.cnl /tmp/tmpvk7njpjg/cluster2.cnl > ovpnmioutput\n",
      "2020-04-22 22:16:26,723 - ClusterComparator - INFO - resulting 128 nodes out of 128,128\n",
      "INFO:ClusterComparator:resulting 128 nodes out of 128,128\n",
      "/opt/conda/envs/python3/lib/python3.6/site-packages/sklearn/metrics/cluster/supervised.py:859: FutureWarning: The behavior of NMI will change in version 0.22. To match the behavior of 'v_measure_score', NMI will use average_method='arithmetic' by default.\n",
      "  FutureWarning)\n",
      "2020-04-22 22:16:26,733 - ClusterComparator - INFO - Running /opt/gct/submodules/OvpNMI/onmi /tmp/tmppi_1cyr2/cluster1.cnl /tmp/tmppi_1cyr2/cluster2.cnl > ovpnmioutput\n",
      "INFO:ClusterComparator:Running /opt/gct/submodules/OvpNMI/onmi /tmp/tmppi_1cyr2/cluster1.cnl /tmp/tmppi_1cyr2/cluster2.cnl > ovpnmioutput\n",
      "2020-04-22 22:16:26,748 - ClusterComparator - INFO - resulting 128 nodes out of 128,128\n",
      "INFO:ClusterComparator:resulting 128 nodes out of 128,128\n",
      "/opt/conda/envs/python3/lib/python3.6/site-packages/sklearn/metrics/cluster/supervised.py:859: FutureWarning: The behavior of NMI will change in version 0.22. To match the behavior of 'v_measure_score', NMI will use average_method='arithmetic' by default.\n",
      "  FutureWarning)\n",
      "2020-04-22 22:16:26,758 - ClusterComparator - INFO - Running /opt/gct/submodules/OvpNMI/onmi /tmp/tmp98qqgk0a/cluster1.cnl /tmp/tmp98qqgk0a/cluster2.cnl > ovpnmioutput\n",
      "INFO:ClusterComparator:Running /opt/gct/submodules/OvpNMI/onmi /tmp/tmp98qqgk0a/cluster1.cnl /tmp/tmp98qqgk0a/cluster2.cnl > ovpnmioutput\n",
      "2020-04-22 22:16:26,766 - Clustering - INFO - reading/data/data/K_DoesAlgSupportWeightTestLFR_w1/gt_default.parq\n",
      "INFO:Clustering:reading/data/data/K_DoesAlgSupportWeightTestLFR_w1/gt_default.parq\n",
      "2020-04-22 22:16:26,772 - ClusterComparator - INFO - resulting 128 nodes out of 128,128\n",
      "INFO:ClusterComparator:resulting 128 nodes out of 128,128\n",
      "/opt/conda/envs/python3/lib/python3.6/site-packages/sklearn/metrics/cluster/supervised.py:859: FutureWarning: The behavior of NMI will change in version 0.22. To match the behavior of 'v_measure_score', NMI will use average_method='arithmetic' by default.\n",
      "  FutureWarning)\n",
      "2020-04-22 22:16:26,780 - ClusterComparator - INFO - Running /opt/gct/submodules/OvpNMI/onmi /tmp/tmp1g67mbee/cluster1.cnl /tmp/tmp1g67mbee/cluster2.cnl > ovpnmioutput\n",
      "INFO:ClusterComparator:Running /opt/gct/submodules/OvpNMI/onmi /tmp/tmp1g67mbee/cluster1.cnl /tmp/tmp1g67mbee/cluster2.cnl > ovpnmioutput\n",
      "2020-04-22 22:16:26,788 - ClusterComparator - INFO - resulting 128 nodes out of 128,128\n",
      "INFO:ClusterComparator:resulting 128 nodes out of 128,128\n",
      "/opt/conda/envs/python3/lib/python3.6/site-packages/sklearn/metrics/cluster/supervised.py:859: FutureWarning: The behavior of NMI will change in version 0.22. To match the behavior of 'v_measure_score', NMI will use average_method='arithmetic' by default.\n",
      "  FutureWarning)\n",
      "2020-04-22 22:16:26,797 - ClusterComparator - INFO - Running /opt/gct/submodules/OvpNMI/onmi /tmp/tmp9o9561ur/cluster1.cnl /tmp/tmp9o9561ur/cluster2.cnl > ovpnmioutput\n",
      "INFO:ClusterComparator:Running /opt/gct/submodules/OvpNMI/onmi /tmp/tmp9o9561ur/cluster1.cnl /tmp/tmp9o9561ur/cluster2.cnl > ovpnmioutput\n",
      "2020-04-22 22:16:26,812 - ClusterComparator - INFO - resulting 128 nodes out of 128,128\n",
      "INFO:ClusterComparator:resulting 128 nodes out of 128,128\n",
      "/opt/conda/envs/python3/lib/python3.6/site-packages/sklearn/metrics/cluster/supervised.py:859: FutureWarning: The behavior of NMI will change in version 0.22. To match the behavior of 'v_measure_score', NMI will use average_method='arithmetic' by default.\n",
      "  FutureWarning)\n",
      "2020-04-22 22:16:26,822 - ClusterComparator - INFO - Running /opt/gct/submodules/OvpNMI/onmi /tmp/tmpjobx7_5z/cluster1.cnl /tmp/tmpjobx7_5z/cluster2.cnl > ovpnmioutput\n",
      "INFO:ClusterComparator:Running /opt/gct/submodules/OvpNMI/onmi /tmp/tmpjobx7_5z/cluster1.cnl /tmp/tmpjobx7_5z/cluster2.cnl > ovpnmioutput\n",
      "2020-04-22 22:16:26,830 - Clustering - INFO - reading/data/data/K_DoesAlgSupportWeightTestLFR_w1/gt_default.parq\n",
      "INFO:Clustering:reading/data/data/K_DoesAlgSupportWeightTestLFR_w1/gt_default.parq\n",
      "2020-04-22 22:16:26,837 - ClusterComparator - INFO - resulting 128 nodes out of 128,128\n",
      "INFO:ClusterComparator:resulting 128 nodes out of 128,128\n",
      "/opt/conda/envs/python3/lib/python3.6/site-packages/sklearn/metrics/cluster/supervised.py:859: FutureWarning: The behavior of NMI will change in version 0.22. To match the behavior of 'v_measure_score', NMI will use average_method='arithmetic' by default.\n",
      "  FutureWarning)\n",
      "2020-04-22 22:16:26,844 - ClusterComparator - INFO - Running /opt/gct/submodules/OvpNMI/onmi /tmp/tmpwz434cy1/cluster1.cnl /tmp/tmpwz434cy1/cluster2.cnl > ovpnmioutput\n",
      "INFO:ClusterComparator:Running /opt/gct/submodules/OvpNMI/onmi /tmp/tmpwz434cy1/cluster1.cnl /tmp/tmpwz434cy1/cluster2.cnl > ovpnmioutput\n",
      "2020-04-22 22:16:26,853 - ClusterComparator - INFO - resulting 128 nodes out of 128,128\n",
      "INFO:ClusterComparator:resulting 128 nodes out of 128,128\n",
      "/opt/conda/envs/python3/lib/python3.6/site-packages/sklearn/metrics/cluster/supervised.py:859: FutureWarning: The behavior of NMI will change in version 0.22. To match the behavior of 'v_measure_score', NMI will use average_method='arithmetic' by default.\n",
      "  FutureWarning)\n",
      "2020-04-22 22:16:26,862 - ClusterComparator - INFO - Running /opt/gct/submodules/OvpNMI/onmi /tmp/tmpb5_8ans0/cluster1.cnl /tmp/tmpb5_8ans0/cluster2.cnl > ovpnmioutput\n",
      "INFO:ClusterComparator:Running /opt/gct/submodules/OvpNMI/onmi /tmp/tmpb5_8ans0/cluster1.cnl /tmp/tmpb5_8ans0/cluster2.cnl > ovpnmioutput\n",
      "2020-04-22 22:16:26,876 - ClusterComparator - INFO - resulting 128 nodes out of 128,128\n",
      "INFO:ClusterComparator:resulting 128 nodes out of 128,128\n",
      "/opt/conda/envs/python3/lib/python3.6/site-packages/sklearn/metrics/cluster/supervised.py:859: FutureWarning: The behavior of NMI will change in version 0.22. To match the behavior of 'v_measure_score', NMI will use average_method='arithmetic' by default.\n",
      "  FutureWarning)\n"
     ]
    },
    {
     "name": "stderr",
     "output_type": "stream",
     "text": [
      "2020-04-22 22:16:26,886 - ClusterComparator - INFO - Running /opt/gct/submodules/OvpNMI/onmi /tmp/tmp4nlinfqd/cluster1.cnl /tmp/tmp4nlinfqd/cluster2.cnl > ovpnmioutput\n",
      "INFO:ClusterComparator:Running /opt/gct/submodules/OvpNMI/onmi /tmp/tmp4nlinfqd/cluster1.cnl /tmp/tmp4nlinfqd/cluster2.cnl > ovpnmioutput\n",
      "2020-04-22 22:16:26,895 - Clustering - INFO - reading/data/data/K_DoesAlgSupportWeightTestLFR_w1/gt_default.parq\n",
      "INFO:Clustering:reading/data/data/K_DoesAlgSupportWeightTestLFR_w1/gt_default.parq\n",
      "2020-04-22 22:16:26,901 - ClusterComparator - INFO - resulting 128 nodes out of 128,128\n",
      "INFO:ClusterComparator:resulting 128 nodes out of 128,128\n",
      "/opt/conda/envs/python3/lib/python3.6/site-packages/sklearn/metrics/cluster/supervised.py:859: FutureWarning: The behavior of NMI will change in version 0.22. To match the behavior of 'v_measure_score', NMI will use average_method='arithmetic' by default.\n",
      "  FutureWarning)\n",
      "2020-04-22 22:16:26,909 - ClusterComparator - INFO - Running /opt/gct/submodules/OvpNMI/onmi /tmp/tmp45z8ut46/cluster1.cnl /tmp/tmp45z8ut46/cluster2.cnl > ovpnmioutput\n",
      "INFO:ClusterComparator:Running /opt/gct/submodules/OvpNMI/onmi /tmp/tmp45z8ut46/cluster1.cnl /tmp/tmp45z8ut46/cluster2.cnl > ovpnmioutput\n",
      "2020-04-22 22:16:26,917 - ClusterComparator - INFO - resulting 128 nodes out of 128,128\n",
      "INFO:ClusterComparator:resulting 128 nodes out of 128,128\n",
      "/opt/conda/envs/python3/lib/python3.6/site-packages/sklearn/metrics/cluster/supervised.py:859: FutureWarning: The behavior of NMI will change in version 0.22. To match the behavior of 'v_measure_score', NMI will use average_method='arithmetic' by default.\n",
      "  FutureWarning)\n",
      "2020-04-22 22:16:26,926 - ClusterComparator - INFO - Running /opt/gct/submodules/OvpNMI/onmi /tmp/tmpwzket2xa/cluster1.cnl /tmp/tmpwzket2xa/cluster2.cnl > ovpnmioutput\n",
      "INFO:ClusterComparator:Running /opt/gct/submodules/OvpNMI/onmi /tmp/tmpwzket2xa/cluster1.cnl /tmp/tmpwzket2xa/cluster2.cnl > ovpnmioutput\n",
      "2020-04-22 22:16:26,941 - ClusterComparator - INFO - resulting 128 nodes out of 128,128\n",
      "INFO:ClusterComparator:resulting 128 nodes out of 128,128\n",
      "/opt/conda/envs/python3/lib/python3.6/site-packages/sklearn/metrics/cluster/supervised.py:859: FutureWarning: The behavior of NMI will change in version 0.22. To match the behavior of 'v_measure_score', NMI will use average_method='arithmetic' by default.\n",
      "  FutureWarning)\n",
      "2020-04-22 22:16:26,951 - ClusterComparator - INFO - Running /opt/gct/submodules/OvpNMI/onmi /tmp/tmp5nwa38dg/cluster1.cnl /tmp/tmp5nwa38dg/cluster2.cnl > ovpnmioutput\n",
      "INFO:ClusterComparator:Running /opt/gct/submodules/OvpNMI/onmi /tmp/tmp5nwa38dg/cluster1.cnl /tmp/tmp5nwa38dg/cluster2.cnl > ovpnmioutput\n",
      "2020-04-22 22:16:26,959 - Clustering - INFO - reading/data/data/K_DoesAlgSupportWeightTestLFR_w1/gt_default.parq\n",
      "INFO:Clustering:reading/data/data/K_DoesAlgSupportWeightTestLFR_w1/gt_default.parq\n",
      "2020-04-22 22:16:26,965 - ClusterComparator - INFO - resulting 128 nodes out of 128,128\n",
      "INFO:ClusterComparator:resulting 128 nodes out of 128,128\n",
      "/opt/conda/envs/python3/lib/python3.6/site-packages/sklearn/metrics/cluster/supervised.py:859: FutureWarning: The behavior of NMI will change in version 0.22. To match the behavior of 'v_measure_score', NMI will use average_method='arithmetic' by default.\n",
      "  FutureWarning)\n",
      "2020-04-22 22:16:26,973 - ClusterComparator - INFO - Running /opt/gct/submodules/OvpNMI/onmi /tmp/tmpo0dky23h/cluster1.cnl /tmp/tmpo0dky23h/cluster2.cnl > ovpnmioutput\n",
      "INFO:ClusterComparator:Running /opt/gct/submodules/OvpNMI/onmi /tmp/tmpo0dky23h/cluster1.cnl /tmp/tmpo0dky23h/cluster2.cnl > ovpnmioutput\n",
      "2020-04-22 22:16:26,981 - ClusterComparator - INFO - resulting 128 nodes out of 128,128\n",
      "INFO:ClusterComparator:resulting 128 nodes out of 128,128\n",
      "/opt/conda/envs/python3/lib/python3.6/site-packages/sklearn/metrics/cluster/supervised.py:859: FutureWarning: The behavior of NMI will change in version 0.22. To match the behavior of 'v_measure_score', NMI will use average_method='arithmetic' by default.\n",
      "  FutureWarning)\n",
      "2020-04-22 22:16:26,990 - ClusterComparator - INFO - Running /opt/gct/submodules/OvpNMI/onmi /tmp/tmph86muczg/cluster1.cnl /tmp/tmph86muczg/cluster2.cnl > ovpnmioutput\n",
      "INFO:ClusterComparator:Running /opt/gct/submodules/OvpNMI/onmi /tmp/tmph86muczg/cluster1.cnl /tmp/tmph86muczg/cluster2.cnl > ovpnmioutput\n",
      "2020-04-22 22:16:27,005 - ClusterComparator - INFO - resulting 128 nodes out of 128,128\n",
      "INFO:ClusterComparator:resulting 128 nodes out of 128,128\n",
      "/opt/conda/envs/python3/lib/python3.6/site-packages/sklearn/metrics/cluster/supervised.py:859: FutureWarning: The behavior of NMI will change in version 0.22. To match the behavior of 'v_measure_score', NMI will use average_method='arithmetic' by default.\n",
      "  FutureWarning)\n",
      "2020-04-22 22:16:27,010 - Clustering - INFO - reading/data/data/K_DoesAlgSupportWeightTestLFR_w1/gt_default.parq\n",
      "INFO:Clustering:reading/data/data/K_DoesAlgSupportWeightTestLFR_w1/gt_default.parq\n",
      "2020-04-22 22:16:27,014 - ClusterComparator - INFO - resulting 128 nodes out of 128,128\n",
      "INFO:ClusterComparator:resulting 128 nodes out of 128,128\n",
      "2020-04-22 22:16:27,020 - ClusterComparator - INFO - resulting 128 nodes out of 128,128\n",
      "INFO:ClusterComparator:resulting 128 nodes out of 128,128\n",
      "/opt/conda/envs/python3/lib/python3.6/site-packages/sklearn/metrics/cluster/supervised.py:859: FutureWarning: The behavior of NMI will change in version 0.22. To match the behavior of 'v_measure_score', NMI will use average_method='arithmetic' by default.\n",
      "  FutureWarning)\n",
      "2020-04-22 22:16:27,031 - ClusterComparator - INFO - resulting 128 nodes out of 128,128\n",
      "INFO:ClusterComparator:resulting 128 nodes out of 128,128\n",
      "/opt/conda/envs/python3/lib/python3.6/site-packages/sklearn/metrics/cluster/supervised.py:859: FutureWarning: The behavior of NMI will change in version 0.22. To match the behavior of 'v_measure_score', NMI will use average_method='arithmetic' by default.\n",
      "  FutureWarning)\n",
      "2020-04-22 22:16:27,040 - ClusterComparator - INFO - Running /opt/gct/submodules/OvpNMI/onmi /tmp/tmpmo7cxb8s/cluster1.cnl /tmp/tmpmo7cxb8s/cluster2.cnl > ovpnmioutput\n",
      "INFO:ClusterComparator:Running /opt/gct/submodules/OvpNMI/onmi /tmp/tmpmo7cxb8s/cluster1.cnl /tmp/tmpmo7cxb8s/cluster2.cnl > ovpnmioutput\n",
      "2020-04-22 22:16:27,048 - Clustering - INFO - reading/data/data/K_DoesAlgSupportWeightTestLFR_w1/gt_default.parq\n",
      "INFO:Clustering:reading/data/data/K_DoesAlgSupportWeightTestLFR_w1/gt_default.parq\n",
      "2020-04-22 22:16:27,054 - ClusterComparator - INFO - resulting 128 nodes out of 128,128\n",
      "INFO:ClusterComparator:resulting 128 nodes out of 128,128\n",
      "/opt/conda/envs/python3/lib/python3.6/site-packages/sklearn/metrics/cluster/supervised.py:859: FutureWarning: The behavior of NMI will change in version 0.22. To match the behavior of 'v_measure_score', NMI will use average_method='arithmetic' by default.\n",
      "  FutureWarning)\n",
      "2020-04-22 22:16:27,062 - ClusterComparator - INFO - Running /opt/gct/submodules/OvpNMI/onmi /tmp/tmp7roo1xe0/cluster1.cnl /tmp/tmp7roo1xe0/cluster2.cnl > ovpnmioutput\n",
      "INFO:ClusterComparator:Running /opt/gct/submodules/OvpNMI/onmi /tmp/tmp7roo1xe0/cluster1.cnl /tmp/tmp7roo1xe0/cluster2.cnl > ovpnmioutput\n",
      "2020-04-22 22:16:27,070 - ClusterComparator - INFO - resulting 128 nodes out of 128,128\n",
      "INFO:ClusterComparator:resulting 128 nodes out of 128,128\n",
      "/opt/conda/envs/python3/lib/python3.6/site-packages/sklearn/metrics/cluster/supervised.py:859: FutureWarning: The behavior of NMI will change in version 0.22. To match the behavior of 'v_measure_score', NMI will use average_method='arithmetic' by default.\n",
      "  FutureWarning)\n",
      "2020-04-22 22:16:27,080 - ClusterComparator - INFO - Running /opt/gct/submodules/OvpNMI/onmi /tmp/tmpsmmrpek4/cluster1.cnl /tmp/tmpsmmrpek4/cluster2.cnl > ovpnmioutput\n",
      "INFO:ClusterComparator:Running /opt/gct/submodules/OvpNMI/onmi /tmp/tmpsmmrpek4/cluster1.cnl /tmp/tmpsmmrpek4/cluster2.cnl > ovpnmioutput\n",
      "2020-04-22 22:16:27,094 - ClusterComparator - INFO - resulting 128 nodes out of 128,128\n",
      "INFO:ClusterComparator:resulting 128 nodes out of 128,128\n",
      "/opt/conda/envs/python3/lib/python3.6/site-packages/sklearn/metrics/cluster/supervised.py:859: FutureWarning: The behavior of NMI will change in version 0.22. To match the behavior of 'v_measure_score', NMI will use average_method='arithmetic' by default.\n",
      "  FutureWarning)\n"
     ]
    },
    {
     "name": "stderr",
     "output_type": "stream",
     "text": [
      "2020-04-22 22:16:27,105 - ClusterComparator - INFO - Running /opt/gct/submodules/OvpNMI/onmi /tmp/tmp5kb5pk0m/cluster1.cnl /tmp/tmp5kb5pk0m/cluster2.cnl > ovpnmioutput\n",
      "INFO:ClusterComparator:Running /opt/gct/submodules/OvpNMI/onmi /tmp/tmp5kb5pk0m/cluster1.cnl /tmp/tmp5kb5pk0m/cluster2.cnl > ovpnmioutput\n",
      "2020-04-22 22:16:27,113 - Clustering - INFO - reading/data/data/K_DoesAlgSupportWeightTestLFR_w1/gt_default.parq\n",
      "INFO:Clustering:reading/data/data/K_DoesAlgSupportWeightTestLFR_w1/gt_default.parq\n",
      "2020-04-22 22:16:27,119 - ClusterComparator - INFO - resulting 128 nodes out of 128,128\n",
      "INFO:ClusterComparator:resulting 128 nodes out of 128,128\n",
      "/opt/conda/envs/python3/lib/python3.6/site-packages/sklearn/metrics/cluster/supervised.py:859: FutureWarning: The behavior of NMI will change in version 0.22. To match the behavior of 'v_measure_score', NMI will use average_method='arithmetic' by default.\n",
      "  FutureWarning)\n",
      "2020-04-22 22:16:27,127 - ClusterComparator - INFO - Running /opt/gct/submodules/OvpNMI/onmi /tmp/tmp6dg36_wa/cluster1.cnl /tmp/tmp6dg36_wa/cluster2.cnl > ovpnmioutput\n",
      "INFO:ClusterComparator:Running /opt/gct/submodules/OvpNMI/onmi /tmp/tmp6dg36_wa/cluster1.cnl /tmp/tmp6dg36_wa/cluster2.cnl > ovpnmioutput\n",
      "2020-04-22 22:16:27,135 - ClusterComparator - INFO - resulting 128 nodes out of 128,128\n",
      "INFO:ClusterComparator:resulting 128 nodes out of 128,128\n",
      "/opt/conda/envs/python3/lib/python3.6/site-packages/sklearn/metrics/cluster/supervised.py:859: FutureWarning: The behavior of NMI will change in version 0.22. To match the behavior of 'v_measure_score', NMI will use average_method='arithmetic' by default.\n",
      "  FutureWarning)\n",
      "2020-04-22 22:16:27,145 - ClusterComparator - INFO - Running /opt/gct/submodules/OvpNMI/onmi /tmp/tmpz_dgg21u/cluster1.cnl /tmp/tmpz_dgg21u/cluster2.cnl > ovpnmioutput\n",
      "INFO:ClusterComparator:Running /opt/gct/submodules/OvpNMI/onmi /tmp/tmpz_dgg21u/cluster1.cnl /tmp/tmpz_dgg21u/cluster2.cnl > ovpnmioutput\n",
      "2020-04-22 22:16:27,159 - ClusterComparator - INFO - resulting 128 nodes out of 128,128\n",
      "INFO:ClusterComparator:resulting 128 nodes out of 128,128\n",
      "/opt/conda/envs/python3/lib/python3.6/site-packages/sklearn/metrics/cluster/supervised.py:859: FutureWarning: The behavior of NMI will change in version 0.22. To match the behavior of 'v_measure_score', NMI will use average_method='arithmetic' by default.\n",
      "  FutureWarning)\n",
      "2020-04-22 22:16:27,169 - ClusterComparator - INFO - Running /opt/gct/submodules/OvpNMI/onmi /tmp/tmpo_d0o48x/cluster1.cnl /tmp/tmpo_d0o48x/cluster2.cnl > ovpnmioutput\n",
      "INFO:ClusterComparator:Running /opt/gct/submodules/OvpNMI/onmi /tmp/tmpo_d0o48x/cluster1.cnl /tmp/tmpo_d0o48x/cluster2.cnl > ovpnmioutput\n",
      "2020-04-22 22:16:27,178 - Clustering - INFO - reading/data/data/K_DoesAlgSupportWeightTestLFR_w1/gt_default.parq\n",
      "INFO:Clustering:reading/data/data/K_DoesAlgSupportWeightTestLFR_w1/gt_default.parq\n",
      "2020-04-22 22:16:27,184 - ClusterComparator - INFO - resulting 128 nodes out of 128,128\n",
      "INFO:ClusterComparator:resulting 128 nodes out of 128,128\n",
      "/opt/conda/envs/python3/lib/python3.6/site-packages/sklearn/metrics/cluster/supervised.py:859: FutureWarning: The behavior of NMI will change in version 0.22. To match the behavior of 'v_measure_score', NMI will use average_method='arithmetic' by default.\n",
      "  FutureWarning)\n",
      "2020-04-22 22:16:27,192 - ClusterComparator - INFO - Running /opt/gct/submodules/OvpNMI/onmi /tmp/tmp15rtiswq/cluster1.cnl /tmp/tmp15rtiswq/cluster2.cnl > ovpnmioutput\n",
      "INFO:ClusterComparator:Running /opt/gct/submodules/OvpNMI/onmi /tmp/tmp15rtiswq/cluster1.cnl /tmp/tmp15rtiswq/cluster2.cnl > ovpnmioutput\n",
      "2020-04-22 22:16:27,200 - ClusterComparator - INFO - resulting 128 nodes out of 128,128\n",
      "INFO:ClusterComparator:resulting 128 nodes out of 128,128\n",
      "/opt/conda/envs/python3/lib/python3.6/site-packages/sklearn/metrics/cluster/supervised.py:859: FutureWarning: The behavior of NMI will change in version 0.22. To match the behavior of 'v_measure_score', NMI will use average_method='arithmetic' by default.\n",
      "  FutureWarning)\n",
      "2020-04-22 22:16:27,209 - ClusterComparator - INFO - Running /opt/gct/submodules/OvpNMI/onmi /tmp/tmp4edwp_n7/cluster1.cnl /tmp/tmp4edwp_n7/cluster2.cnl > ovpnmioutput\n",
      "INFO:ClusterComparator:Running /opt/gct/submodules/OvpNMI/onmi /tmp/tmp4edwp_n7/cluster1.cnl /tmp/tmp4edwp_n7/cluster2.cnl > ovpnmioutput\n",
      "2020-04-22 22:16:27,224 - ClusterComparator - INFO - resulting 128 nodes out of 128,128\n",
      "INFO:ClusterComparator:resulting 128 nodes out of 128,128\n",
      "/opt/conda/envs/python3/lib/python3.6/site-packages/sklearn/metrics/cluster/supervised.py:859: FutureWarning: The behavior of NMI will change in version 0.22. To match the behavior of 'v_measure_score', NMI will use average_method='arithmetic' by default.\n",
      "  FutureWarning)\n",
      "2020-04-22 22:16:27,231 - Clustering - INFO - reading/data/data/K_DoesAlgSupportWeightTestLFR_w1/gt_default.parq\n",
      "INFO:Clustering:reading/data/data/K_DoesAlgSupportWeightTestLFR_w1/gt_default.parq\n",
      "2020-04-22 22:16:27,235 - ClusterComparator - INFO - resulting 128 nodes out of 128,128\n",
      "INFO:ClusterComparator:resulting 128 nodes out of 128,128\n",
      "/opt/conda/envs/python3/lib/python3.6/site-packages/sklearn/metrics/cluster/supervised.py:859: FutureWarning: The behavior of NMI will change in version 0.22. To match the behavior of 'v_measure_score', NMI will use average_method='arithmetic' by default.\n",
      "  FutureWarning)\n",
      "2020-04-22 22:16:27,241 - ClusterComparator - INFO - resulting 128 nodes out of 128,128\n",
      "INFO:ClusterComparator:resulting 128 nodes out of 128,128\n",
      "/opt/conda/envs/python3/lib/python3.6/site-packages/sklearn/metrics/cluster/supervised.py:859: FutureWarning: The behavior of NMI will change in version 0.22. To match the behavior of 'v_measure_score', NMI will use average_method='arithmetic' by default.\n",
      "  FutureWarning)\n",
      "2020-04-22 22:16:27,248 - ClusterComparator - INFO - Running /opt/gct/submodules/OvpNMI/onmi /tmp/tmpk0vy30d3/cluster1.cnl /tmp/tmpk0vy30d3/cluster2.cnl > ovpnmioutput\n",
      "INFO:ClusterComparator:Running /opt/gct/submodules/OvpNMI/onmi /tmp/tmpk0vy30d3/cluster1.cnl /tmp/tmpk0vy30d3/cluster2.cnl > ovpnmioutput\n",
      "2020-04-22 22:16:27,263 - ClusterComparator - INFO - resulting 128 nodes out of 128,128\n",
      "INFO:ClusterComparator:resulting 128 nodes out of 128,128\n",
      "/opt/conda/envs/python3/lib/python3.6/site-packages/sklearn/metrics/cluster/supervised.py:859: FutureWarning: The behavior of NMI will change in version 0.22. To match the behavior of 'v_measure_score', NMI will use average_method='arithmetic' by default.\n",
      "  FutureWarning)\n",
      "2020-04-22 22:16:27,268 - Clustering - INFO - reading/data/data/K_DoesAlgSupportWeightTestLFR_w1/gt_default.parq\n",
      "INFO:Clustering:reading/data/data/K_DoesAlgSupportWeightTestLFR_w1/gt_default.parq\n",
      "2020-04-22 22:16:27,273 - ClusterComparator - INFO - resulting 128 nodes out of 128,128\n",
      "INFO:ClusterComparator:resulting 128 nodes out of 128,128\n",
      "2020-04-22 22:16:27,278 - ClusterComparator - INFO - resulting 128 nodes out of 128,128\n",
      "INFO:ClusterComparator:resulting 128 nodes out of 128,128\n",
      "/opt/conda/envs/python3/lib/python3.6/site-packages/sklearn/metrics/cluster/supervised.py:859: FutureWarning: The behavior of NMI will change in version 0.22. To match the behavior of 'v_measure_score', NMI will use average_method='arithmetic' by default.\n",
      "  FutureWarning)\n",
      "2020-04-22 22:16:27,289 - ClusterComparator - INFO - resulting 128 nodes out of 128,128\n",
      "INFO:ClusterComparator:resulting 128 nodes out of 128,128\n",
      "/opt/conda/envs/python3/lib/python3.6/site-packages/sklearn/metrics/cluster/supervised.py:859: FutureWarning: The behavior of NMI will change in version 0.22. To match the behavior of 'v_measure_score', NMI will use average_method='arithmetic' by default.\n",
      "  FutureWarning)\n",
      "2020-04-22 22:16:27,298 - ClusterComparator - INFO - Running /opt/gct/submodules/OvpNMI/onmi /tmp/tmp56r2f49r/cluster1.cnl /tmp/tmp56r2f49r/cluster2.cnl > ovpnmioutput\n",
      "INFO:ClusterComparator:Running /opt/gct/submodules/OvpNMI/onmi /tmp/tmp56r2f49r/cluster1.cnl /tmp/tmp56r2f49r/cluster2.cnl > ovpnmioutput\n",
      "2020-04-22 22:16:27,306 - Clustering - INFO - reading/data/data/K_DoesAlgSupportWeightTestLFR_w1/gt_default.parq\n",
      "INFO:Clustering:reading/data/data/K_DoesAlgSupportWeightTestLFR_w1/gt_default.parq\n",
      "2020-04-22 22:16:27,312 - ClusterComparator - INFO - resulting 128 nodes out of 128,128\n"
     ]
    },
    {
     "name": "stderr",
     "output_type": "stream",
     "text": [
      "INFO:ClusterComparator:resulting 128 nodes out of 128,128\n",
      "/opt/conda/envs/python3/lib/python3.6/site-packages/sklearn/metrics/cluster/supervised.py:859: FutureWarning: The behavior of NMI will change in version 0.22. To match the behavior of 'v_measure_score', NMI will use average_method='arithmetic' by default.\n",
      "  FutureWarning)\n",
      "2020-04-22 22:16:27,320 - ClusterComparator - INFO - Running /opt/gct/submodules/OvpNMI/onmi /tmp/tmp1u14k2wm/cluster1.cnl /tmp/tmp1u14k2wm/cluster2.cnl > ovpnmioutput\n",
      "INFO:ClusterComparator:Running /opt/gct/submodules/OvpNMI/onmi /tmp/tmp1u14k2wm/cluster1.cnl /tmp/tmp1u14k2wm/cluster2.cnl > ovpnmioutput\n",
      "2020-04-22 22:16:27,328 - ClusterComparator - INFO - resulting 128 nodes out of 128,128\n",
      "INFO:ClusterComparator:resulting 128 nodes out of 128,128\n",
      "/opt/conda/envs/python3/lib/python3.6/site-packages/sklearn/metrics/cluster/supervised.py:859: FutureWarning: The behavior of NMI will change in version 0.22. To match the behavior of 'v_measure_score', NMI will use average_method='arithmetic' by default.\n",
      "  FutureWarning)\n",
      "2020-04-22 22:16:27,337 - ClusterComparator - INFO - Running /opt/gct/submodules/OvpNMI/onmi /tmp/tmpow0k7at1/cluster1.cnl /tmp/tmpow0k7at1/cluster2.cnl > ovpnmioutput\n",
      "INFO:ClusterComparator:Running /opt/gct/submodules/OvpNMI/onmi /tmp/tmpow0k7at1/cluster1.cnl /tmp/tmpow0k7at1/cluster2.cnl > ovpnmioutput\n",
      "2020-04-22 22:16:27,352 - ClusterComparator - INFO - resulting 128 nodes out of 128,128\n",
      "INFO:ClusterComparator:resulting 128 nodes out of 128,128\n",
      "/opt/conda/envs/python3/lib/python3.6/site-packages/sklearn/metrics/cluster/supervised.py:859: FutureWarning: The behavior of NMI will change in version 0.22. To match the behavior of 'v_measure_score', NMI will use average_method='arithmetic' by default.\n",
      "  FutureWarning)\n",
      "2020-04-22 22:16:27,362 - ClusterComparator - INFO - Running /opt/gct/submodules/OvpNMI/onmi /tmp/tmpoi5j1z3o/cluster1.cnl /tmp/tmpoi5j1z3o/cluster2.cnl > ovpnmioutput\n",
      "INFO:ClusterComparator:Running /opt/gct/submodules/OvpNMI/onmi /tmp/tmpoi5j1z3o/cluster1.cnl /tmp/tmpoi5j1z3o/cluster2.cnl > ovpnmioutput\n",
      "2020-04-22 22:16:27,370 - Clustering - INFO - reading/data/data/K_DoesAlgSupportWeightTestLFR_w1/gt_default.parq\n",
      "INFO:Clustering:reading/data/data/K_DoesAlgSupportWeightTestLFR_w1/gt_default.parq\n",
      "2020-04-22 22:16:27,377 - ClusterComparator - INFO - resulting 128 nodes out of 128,128\n",
      "INFO:ClusterComparator:resulting 128 nodes out of 128,128\n",
      "/opt/conda/envs/python3/lib/python3.6/site-packages/sklearn/metrics/cluster/supervised.py:859: FutureWarning: The behavior of NMI will change in version 0.22. To match the behavior of 'v_measure_score', NMI will use average_method='arithmetic' by default.\n",
      "  FutureWarning)\n",
      "2020-04-22 22:16:27,385 - ClusterComparator - INFO - Running /opt/gct/submodules/OvpNMI/onmi /tmp/tmpz4ptfa2l/cluster1.cnl /tmp/tmpz4ptfa2l/cluster2.cnl > ovpnmioutput\n",
      "INFO:ClusterComparator:Running /opt/gct/submodules/OvpNMI/onmi /tmp/tmpz4ptfa2l/cluster1.cnl /tmp/tmpz4ptfa2l/cluster2.cnl > ovpnmioutput\n",
      "2020-04-22 22:16:27,393 - ClusterComparator - INFO - resulting 128 nodes out of 128,128\n",
      "INFO:ClusterComparator:resulting 128 nodes out of 128,128\n",
      "/opt/conda/envs/python3/lib/python3.6/site-packages/sklearn/metrics/cluster/supervised.py:859: FutureWarning: The behavior of NMI will change in version 0.22. To match the behavior of 'v_measure_score', NMI will use average_method='arithmetic' by default.\n",
      "  FutureWarning)\n",
      "2020-04-22 22:16:27,402 - ClusterComparator - INFO - Running /opt/gct/submodules/OvpNMI/onmi /tmp/tmpckhxin_e/cluster1.cnl /tmp/tmpckhxin_e/cluster2.cnl > ovpnmioutput\n",
      "INFO:ClusterComparator:Running /opt/gct/submodules/OvpNMI/onmi /tmp/tmpckhxin_e/cluster1.cnl /tmp/tmpckhxin_e/cluster2.cnl > ovpnmioutput\n",
      "2020-04-22 22:16:27,417 - ClusterComparator - INFO - resulting 128 nodes out of 128,128\n",
      "INFO:ClusterComparator:resulting 128 nodes out of 128,128\n",
      "/opt/conda/envs/python3/lib/python3.6/site-packages/sklearn/metrics/cluster/supervised.py:859: FutureWarning: The behavior of NMI will change in version 0.22. To match the behavior of 'v_measure_score', NMI will use average_method='arithmetic' by default.\n",
      "  FutureWarning)\n",
      "2020-04-22 22:16:27,427 - ClusterComparator - INFO - Running /opt/gct/submodules/OvpNMI/onmi /tmp/tmpwvlj_6r0/cluster1.cnl /tmp/tmpwvlj_6r0/cluster2.cnl > ovpnmioutput\n",
      "INFO:ClusterComparator:Running /opt/gct/submodules/OvpNMI/onmi /tmp/tmpwvlj_6r0/cluster1.cnl /tmp/tmpwvlj_6r0/cluster2.cnl > ovpnmioutput\n",
      "2020-04-22 22:16:27,436 - Clustering - INFO - reading/data/data/K_DoesAlgSupportWeightTestLFR_w1/gt_default.parq\n",
      "INFO:Clustering:reading/data/data/K_DoesAlgSupportWeightTestLFR_w1/gt_default.parq\n",
      "2020-04-22 22:16:27,442 - ClusterComparator - INFO - resulting 128 nodes out of 128,128\n",
      "INFO:ClusterComparator:resulting 128 nodes out of 128,128\n",
      "/opt/conda/envs/python3/lib/python3.6/site-packages/sklearn/metrics/cluster/supervised.py:859: FutureWarning: The behavior of NMI will change in version 0.22. To match the behavior of 'v_measure_score', NMI will use average_method='arithmetic' by default.\n",
      "  FutureWarning)\n",
      "2020-04-22 22:16:27,451 - ClusterComparator - INFO - Running /opt/gct/submodules/OvpNMI/onmi /tmp/tmp2hz0_gbg/cluster1.cnl /tmp/tmp2hz0_gbg/cluster2.cnl > ovpnmioutput\n",
      "INFO:ClusterComparator:Running /opt/gct/submodules/OvpNMI/onmi /tmp/tmp2hz0_gbg/cluster1.cnl /tmp/tmp2hz0_gbg/cluster2.cnl > ovpnmioutput\n",
      "2020-04-22 22:16:27,459 - ClusterComparator - INFO - resulting 128 nodes out of 128,128\n",
      "INFO:ClusterComparator:resulting 128 nodes out of 128,128\n",
      "/opt/conda/envs/python3/lib/python3.6/site-packages/sklearn/metrics/cluster/supervised.py:859: FutureWarning: The behavior of NMI will change in version 0.22. To match the behavior of 'v_measure_score', NMI will use average_method='arithmetic' by default.\n",
      "  FutureWarning)\n",
      "2020-04-22 22:16:27,468 - ClusterComparator - INFO - Running /opt/gct/submodules/OvpNMI/onmi /tmp/tmpwg4wt_51/cluster1.cnl /tmp/tmpwg4wt_51/cluster2.cnl > ovpnmioutput\n",
      "INFO:ClusterComparator:Running /opt/gct/submodules/OvpNMI/onmi /tmp/tmpwg4wt_51/cluster1.cnl /tmp/tmpwg4wt_51/cluster2.cnl > ovpnmioutput\n",
      "2020-04-22 22:16:27,483 - ClusterComparator - INFO - resulting 128 nodes out of 128,128\n",
      "INFO:ClusterComparator:resulting 128 nodes out of 128,128\n",
      "/opt/conda/envs/python3/lib/python3.6/site-packages/sklearn/metrics/cluster/supervised.py:859: FutureWarning: The behavior of NMI will change in version 0.22. To match the behavior of 'v_measure_score', NMI will use average_method='arithmetic' by default.\n",
      "  FutureWarning)\n",
      "2020-04-22 22:16:27,493 - ClusterComparator - INFO - Running /opt/gct/submodules/OvpNMI/onmi /tmp/tmpetw61wwq/cluster1.cnl /tmp/tmpetw61wwq/cluster2.cnl > ovpnmioutput\n",
      "INFO:ClusterComparator:Running /opt/gct/submodules/OvpNMI/onmi /tmp/tmpetw61wwq/cluster1.cnl /tmp/tmpetw61wwq/cluster2.cnl > ovpnmioutput\n",
      "2020-04-22 22:16:27,501 - Clustering - INFO - reading/data/data/K_DoesAlgSupportWeightTestLFR_w1/gt_default.parq\n",
      "INFO:Clustering:reading/data/data/K_DoesAlgSupportWeightTestLFR_w1/gt_default.parq\n",
      "2020-04-22 22:16:27,508 - ClusterComparator - INFO - resulting 128 nodes out of 128,128\n",
      "INFO:ClusterComparator:resulting 128 nodes out of 128,128\n",
      "/opt/conda/envs/python3/lib/python3.6/site-packages/sklearn/metrics/cluster/supervised.py:859: FutureWarning: The behavior of NMI will change in version 0.22. To match the behavior of 'v_measure_score', NMI will use average_method='arithmetic' by default.\n",
      "  FutureWarning)\n",
      "2020-04-22 22:16:27,516 - ClusterComparator - INFO - Running /opt/gct/submodules/OvpNMI/onmi /tmp/tmp13wtvwkp/cluster1.cnl /tmp/tmp13wtvwkp/cluster2.cnl > ovpnmioutput\n",
      "INFO:ClusterComparator:Running /opt/gct/submodules/OvpNMI/onmi /tmp/tmp13wtvwkp/cluster1.cnl /tmp/tmp13wtvwkp/cluster2.cnl > ovpnmioutput\n",
      "2020-04-22 22:16:27,524 - ClusterComparator - INFO - resulting 128 nodes out of 128,128\n",
      "INFO:ClusterComparator:resulting 128 nodes out of 128,128\n",
      "/opt/conda/envs/python3/lib/python3.6/site-packages/sklearn/metrics/cluster/supervised.py:859: FutureWarning: The behavior of NMI will change in version 0.22. To match the behavior of 'v_measure_score', NMI will use average_method='arithmetic' by default.\n",
      "  FutureWarning)\n",
      "2020-04-22 22:16:27,533 - ClusterComparator - INFO - Running /opt/gct/submodules/OvpNMI/onmi /tmp/tmpegigtp48/cluster1.cnl /tmp/tmpegigtp48/cluster2.cnl > ovpnmioutput\n"
     ]
    },
    {
     "name": "stderr",
     "output_type": "stream",
     "text": [
      "INFO:ClusterComparator:Running /opt/gct/submodules/OvpNMI/onmi /tmp/tmpegigtp48/cluster1.cnl /tmp/tmpegigtp48/cluster2.cnl > ovpnmioutput\n",
      "2020-04-22 22:16:27,548 - ClusterComparator - INFO - resulting 128 nodes out of 128,128\n",
      "INFO:ClusterComparator:resulting 128 nodes out of 128,128\n",
      "/opt/conda/envs/python3/lib/python3.6/site-packages/sklearn/metrics/cluster/supervised.py:859: FutureWarning: The behavior of NMI will change in version 0.22. To match the behavior of 'v_measure_score', NMI will use average_method='arithmetic' by default.\n",
      "  FutureWarning)\n",
      "2020-04-22 22:16:27,558 - ClusterComparator - INFO - Running /opt/gct/submodules/OvpNMI/onmi /tmp/tmpm6cq6k6f/cluster1.cnl /tmp/tmpm6cq6k6f/cluster2.cnl > ovpnmioutput\n",
      "INFO:ClusterComparator:Running /opt/gct/submodules/OvpNMI/onmi /tmp/tmpm6cq6k6f/cluster1.cnl /tmp/tmpm6cq6k6f/cluster2.cnl > ovpnmioutput\n",
      "2020-04-22 22:16:27,567 - Clustering - INFO - reading/data/data/K_DoesAlgSupportWeightTestLFR_w1/gt_default.parq\n",
      "INFO:Clustering:reading/data/data/K_DoesAlgSupportWeightTestLFR_w1/gt_default.parq\n",
      "2020-04-22 22:16:27,573 - ClusterComparator - INFO - resulting 128 nodes out of 128,128\n",
      "INFO:ClusterComparator:resulting 128 nodes out of 128,128\n",
      "/opt/conda/envs/python3/lib/python3.6/site-packages/sklearn/metrics/cluster/supervised.py:859: FutureWarning: The behavior of NMI will change in version 0.22. To match the behavior of 'v_measure_score', NMI will use average_method='arithmetic' by default.\n",
      "  FutureWarning)\n",
      "2020-04-22 22:16:27,581 - ClusterComparator - INFO - Running /opt/gct/submodules/OvpNMI/onmi /tmp/tmpe6ycie5u/cluster1.cnl /tmp/tmpe6ycie5u/cluster2.cnl > ovpnmioutput\n",
      "INFO:ClusterComparator:Running /opt/gct/submodules/OvpNMI/onmi /tmp/tmpe6ycie5u/cluster1.cnl /tmp/tmpe6ycie5u/cluster2.cnl > ovpnmioutput\n",
      "2020-04-22 22:16:27,589 - ClusterComparator - INFO - resulting 128 nodes out of 128,128\n",
      "INFO:ClusterComparator:resulting 128 nodes out of 128,128\n",
      "/opt/conda/envs/python3/lib/python3.6/site-packages/sklearn/metrics/cluster/supervised.py:859: FutureWarning: The behavior of NMI will change in version 0.22. To match the behavior of 'v_measure_score', NMI will use average_method='arithmetic' by default.\n",
      "  FutureWarning)\n",
      "2020-04-22 22:16:27,599 - ClusterComparator - INFO - Running /opt/gct/submodules/OvpNMI/onmi /tmp/tmpv6zqwkip/cluster1.cnl /tmp/tmpv6zqwkip/cluster2.cnl > ovpnmioutput\n",
      "INFO:ClusterComparator:Running /opt/gct/submodules/OvpNMI/onmi /tmp/tmpv6zqwkip/cluster1.cnl /tmp/tmpv6zqwkip/cluster2.cnl > ovpnmioutput\n",
      "2020-04-22 22:16:27,613 - ClusterComparator - INFO - resulting 121 nodes out of 121,121\n",
      "INFO:ClusterComparator:resulting 121 nodes out of 121,121\n",
      "/opt/conda/envs/python3/lib/python3.6/site-packages/sklearn/metrics/cluster/supervised.py:859: FutureWarning: The behavior of NMI will change in version 0.22. To match the behavior of 'v_measure_score', NMI will use average_method='arithmetic' by default.\n",
      "  FutureWarning)\n",
      "2020-04-22 22:16:27,623 - ClusterComparator - INFO - Running /opt/gct/submodules/OvpNMI/onmi /tmp/tmpqcoogdpc/cluster1.cnl /tmp/tmpqcoogdpc/cluster2.cnl > ovpnmioutput\n",
      "INFO:ClusterComparator:Running /opt/gct/submodules/OvpNMI/onmi /tmp/tmpqcoogdpc/cluster1.cnl /tmp/tmpqcoogdpc/cluster2.cnl > ovpnmioutput\n",
      "2020-04-22 22:16:27,631 - Clustering - INFO - reading/data/data/K_DoesAlgSupportWeightTestLFR_w1/gt_default.parq\n",
      "INFO:Clustering:reading/data/data/K_DoesAlgSupportWeightTestLFR_w1/gt_default.parq\n",
      "2020-04-22 22:16:27,638 - ClusterComparator - INFO - resulting 121 nodes out of 128,121\n",
      "INFO:ClusterComparator:resulting 121 nodes out of 128,121\n",
      "/opt/conda/envs/python3/lib/python3.6/site-packages/sklearn/metrics/cluster/supervised.py:859: FutureWarning: The behavior of NMI will change in version 0.22. To match the behavior of 'v_measure_score', NMI will use average_method='arithmetic' by default.\n",
      "  FutureWarning)\n",
      "2020-04-22 22:16:27,646 - ClusterComparator - INFO - Running /opt/gct/submodules/OvpNMI/onmi /tmp/tmpp6ae9wvh/cluster1.cnl /tmp/tmpp6ae9wvh/cluster2.cnl > ovpnmioutput\n",
      "INFO:ClusterComparator:Running /opt/gct/submodules/OvpNMI/onmi /tmp/tmpp6ae9wvh/cluster1.cnl /tmp/tmpp6ae9wvh/cluster2.cnl > ovpnmioutput\n",
      "2020-04-22 22:16:27,654 - ClusterComparator - INFO - resulting 121 nodes out of 128,121\n",
      "INFO:ClusterComparator:resulting 121 nodes out of 128,121\n",
      "/opt/conda/envs/python3/lib/python3.6/site-packages/sklearn/metrics/cluster/supervised.py:859: FutureWarning: The behavior of NMI will change in version 0.22. To match the behavior of 'v_measure_score', NMI will use average_method='arithmetic' by default.\n",
      "  FutureWarning)\n",
      "2020-04-22 22:16:27,663 - ClusterComparator - INFO - Running /opt/gct/submodules/OvpNMI/onmi /tmp/tmps33zvbdc/cluster1.cnl /tmp/tmps33zvbdc/cluster2.cnl > ovpnmioutput\n",
      "INFO:ClusterComparator:Running /opt/gct/submodules/OvpNMI/onmi /tmp/tmps33zvbdc/cluster1.cnl /tmp/tmps33zvbdc/cluster2.cnl > ovpnmioutput\n",
      "2020-04-22 22:16:27,678 - ClusterComparator - INFO - resulting 121 nodes out of 121,121\n",
      "INFO:ClusterComparator:resulting 121 nodes out of 121,121\n",
      "/opt/conda/envs/python3/lib/python3.6/site-packages/sklearn/metrics/cluster/supervised.py:859: FutureWarning: The behavior of NMI will change in version 0.22. To match the behavior of 'v_measure_score', NMI will use average_method='arithmetic' by default.\n",
      "  FutureWarning)\n",
      "2020-04-22 22:16:27,688 - ClusterComparator - INFO - Running /opt/gct/submodules/OvpNMI/onmi /tmp/tmpdua4iww4/cluster1.cnl /tmp/tmpdua4iww4/cluster2.cnl > ovpnmioutput\n",
      "INFO:ClusterComparator:Running /opt/gct/submodules/OvpNMI/onmi /tmp/tmpdua4iww4/cluster1.cnl /tmp/tmpdua4iww4/cluster2.cnl > ovpnmioutput\n",
      "2020-04-22 22:16:27,696 - Clustering - INFO - reading/data/data/K_DoesAlgSupportWeightTestLFR_w1/gt_default.parq\n",
      "INFO:Clustering:reading/data/data/K_DoesAlgSupportWeightTestLFR_w1/gt_default.parq\n",
      "2020-04-22 22:16:27,702 - ClusterComparator - INFO - resulting 121 nodes out of 128,121\n",
      "INFO:ClusterComparator:resulting 121 nodes out of 128,121\n",
      "/opt/conda/envs/python3/lib/python3.6/site-packages/sklearn/metrics/cluster/supervised.py:859: FutureWarning: The behavior of NMI will change in version 0.22. To match the behavior of 'v_measure_score', NMI will use average_method='arithmetic' by default.\n",
      "  FutureWarning)\n",
      "2020-04-22 22:16:27,710 - ClusterComparator - INFO - Running /opt/gct/submodules/OvpNMI/onmi /tmp/tmp089oc4jy/cluster1.cnl /tmp/tmp089oc4jy/cluster2.cnl > ovpnmioutput\n",
      "INFO:ClusterComparator:Running /opt/gct/submodules/OvpNMI/onmi /tmp/tmp089oc4jy/cluster1.cnl /tmp/tmp089oc4jy/cluster2.cnl > ovpnmioutput\n",
      "2020-04-22 22:16:27,718 - ClusterComparator - INFO - resulting 121 nodes out of 128,121\n",
      "INFO:ClusterComparator:resulting 121 nodes out of 128,121\n",
      "/opt/conda/envs/python3/lib/python3.6/site-packages/sklearn/metrics/cluster/supervised.py:859: FutureWarning: The behavior of NMI will change in version 0.22. To match the behavior of 'v_measure_score', NMI will use average_method='arithmetic' by default.\n",
      "  FutureWarning)\n",
      "2020-04-22 22:16:27,727 - ClusterComparator - INFO - Running /opt/gct/submodules/OvpNMI/onmi /tmp/tmpq6izwoy_/cluster1.cnl /tmp/tmpq6izwoy_/cluster2.cnl > ovpnmioutput\n",
      "INFO:ClusterComparator:Running /opt/gct/submodules/OvpNMI/onmi /tmp/tmpq6izwoy_/cluster1.cnl /tmp/tmpq6izwoy_/cluster2.cnl > ovpnmioutput\n",
      "2020-04-22 22:16:27,742 - ClusterComparator - INFO - resulting 121 nodes out of 121,121\n",
      "INFO:ClusterComparator:resulting 121 nodes out of 121,121\n",
      "/opt/conda/envs/python3/lib/python3.6/site-packages/sklearn/metrics/cluster/supervised.py:859: FutureWarning: The behavior of NMI will change in version 0.22. To match the behavior of 'v_measure_score', NMI will use average_method='arithmetic' by default.\n",
      "  FutureWarning)\n",
      "2020-04-22 22:16:27,752 - ClusterComparator - INFO - Running /opt/gct/submodules/OvpNMI/onmi /tmp/tmpdbbcuh_1/cluster1.cnl /tmp/tmpdbbcuh_1/cluster2.cnl > ovpnmioutput\n",
      "INFO:ClusterComparator:Running /opt/gct/submodules/OvpNMI/onmi /tmp/tmpdbbcuh_1/cluster1.cnl /tmp/tmpdbbcuh_1/cluster2.cnl > ovpnmioutput\n",
      "2020-04-22 22:16:27,760 - Clustering - INFO - reading/data/data/K_DoesAlgSupportWeightTestLFR_w1/gt_default.parq\n",
      "INFO:Clustering:reading/data/data/K_DoesAlgSupportWeightTestLFR_w1/gt_default.parq\n",
      "2020-04-22 22:16:27,767 - ClusterComparator - INFO - resulting 121 nodes out of 128,121\n"
     ]
    },
    {
     "name": "stderr",
     "output_type": "stream",
     "text": [
      "INFO:ClusterComparator:resulting 121 nodes out of 128,121\n",
      "/opt/conda/envs/python3/lib/python3.6/site-packages/sklearn/metrics/cluster/supervised.py:859: FutureWarning: The behavior of NMI will change in version 0.22. To match the behavior of 'v_measure_score', NMI will use average_method='arithmetic' by default.\n",
      "  FutureWarning)\n",
      "2020-04-22 22:16:27,775 - ClusterComparator - INFO - Running /opt/gct/submodules/OvpNMI/onmi /tmp/tmpur07f79o/cluster1.cnl /tmp/tmpur07f79o/cluster2.cnl > ovpnmioutput\n",
      "INFO:ClusterComparator:Running /opt/gct/submodules/OvpNMI/onmi /tmp/tmpur07f79o/cluster1.cnl /tmp/tmpur07f79o/cluster2.cnl > ovpnmioutput\n",
      "2020-04-22 22:16:27,783 - ClusterComparator - INFO - resulting 121 nodes out of 128,121\n",
      "INFO:ClusterComparator:resulting 121 nodes out of 128,121\n",
      "/opt/conda/envs/python3/lib/python3.6/site-packages/sklearn/metrics/cluster/supervised.py:859: FutureWarning: The behavior of NMI will change in version 0.22. To match the behavior of 'v_measure_score', NMI will use average_method='arithmetic' by default.\n",
      "  FutureWarning)\n",
      "2020-04-22 22:16:27,792 - ClusterComparator - INFO - Running /opt/gct/submodules/OvpNMI/onmi /tmp/tmp6tlbyjjb/cluster1.cnl /tmp/tmp6tlbyjjb/cluster2.cnl > ovpnmioutput\n",
      "INFO:ClusterComparator:Running /opt/gct/submodules/OvpNMI/onmi /tmp/tmp6tlbyjjb/cluster1.cnl /tmp/tmp6tlbyjjb/cluster2.cnl > ovpnmioutput\n",
      "2020-04-22 22:16:27,807 - ClusterComparator - INFO - resulting 128 nodes out of 128,128\n",
      "INFO:ClusterComparator:resulting 128 nodes out of 128,128\n",
      "/opt/conda/envs/python3/lib/python3.6/site-packages/sklearn/metrics/cluster/supervised.py:859: FutureWarning: The behavior of NMI will change in version 0.22. To match the behavior of 'v_measure_score', NMI will use average_method='arithmetic' by default.\n",
      "  FutureWarning)\n",
      "2020-04-22 22:16:27,818 - ClusterComparator - INFO - Running /opt/gct/submodules/OvpNMI/onmi /tmp/tmpm7b5dn3s/cluster1.cnl /tmp/tmpm7b5dn3s/cluster2.cnl > ovpnmioutput\n",
      "INFO:ClusterComparator:Running /opt/gct/submodules/OvpNMI/onmi /tmp/tmpm7b5dn3s/cluster1.cnl /tmp/tmpm7b5dn3s/cluster2.cnl > ovpnmioutput\n",
      "2020-04-22 22:16:27,827 - Clustering - INFO - reading/data/data/K_DoesAlgSupportWeightTestLFR_w1/gt_default.parq\n",
      "INFO:Clustering:reading/data/data/K_DoesAlgSupportWeightTestLFR_w1/gt_default.parq\n",
      "2020-04-22 22:16:27,833 - ClusterComparator - INFO - resulting 128 nodes out of 128,128\n",
      "INFO:ClusterComparator:resulting 128 nodes out of 128,128\n",
      "/opt/conda/envs/python3/lib/python3.6/site-packages/sklearn/metrics/cluster/supervised.py:859: FutureWarning: The behavior of NMI will change in version 0.22. To match the behavior of 'v_measure_score', NMI will use average_method='arithmetic' by default.\n",
      "  FutureWarning)\n",
      "2020-04-22 22:16:27,842 - ClusterComparator - INFO - Running /opt/gct/submodules/OvpNMI/onmi /tmp/tmp0k0jsz9o/cluster1.cnl /tmp/tmp0k0jsz9o/cluster2.cnl > ovpnmioutput\n",
      "INFO:ClusterComparator:Running /opt/gct/submodules/OvpNMI/onmi /tmp/tmp0k0jsz9o/cluster1.cnl /tmp/tmp0k0jsz9o/cluster2.cnl > ovpnmioutput\n",
      "2020-04-22 22:16:27,850 - ClusterComparator - INFO - resulting 128 nodes out of 128,128\n",
      "INFO:ClusterComparator:resulting 128 nodes out of 128,128\n",
      "/opt/conda/envs/python3/lib/python3.6/site-packages/sklearn/metrics/cluster/supervised.py:859: FutureWarning: The behavior of NMI will change in version 0.22. To match the behavior of 'v_measure_score', NMI will use average_method='arithmetic' by default.\n",
      "  FutureWarning)\n",
      "2020-04-22 22:16:27,860 - ClusterComparator - INFO - Running /opt/gct/submodules/OvpNMI/onmi /tmp/tmp_e6e06n8/cluster1.cnl /tmp/tmp_e6e06n8/cluster2.cnl > ovpnmioutput\n",
      "INFO:ClusterComparator:Running /opt/gct/submodules/OvpNMI/onmi /tmp/tmp_e6e06n8/cluster1.cnl /tmp/tmp_e6e06n8/cluster2.cnl > ovpnmioutput\n",
      "2020-04-22 22:16:27,875 - ClusterComparator - INFO - resulting 128 nodes out of 128,128\n",
      "INFO:ClusterComparator:resulting 128 nodes out of 128,128\n",
      "/opt/conda/envs/python3/lib/python3.6/site-packages/sklearn/metrics/cluster/supervised.py:859: FutureWarning: The behavior of NMI will change in version 0.22. To match the behavior of 'v_measure_score', NMI will use average_method='arithmetic' by default.\n",
      "  FutureWarning)\n",
      "2020-04-22 22:16:27,886 - ClusterComparator - INFO - Running /opt/gct/submodules/OvpNMI/onmi /tmp/tmpacrfzd04/cluster1.cnl /tmp/tmpacrfzd04/cluster2.cnl > ovpnmioutput\n",
      "INFO:ClusterComparator:Running /opt/gct/submodules/OvpNMI/onmi /tmp/tmpacrfzd04/cluster1.cnl /tmp/tmpacrfzd04/cluster2.cnl > ovpnmioutput\n",
      "2020-04-22 22:16:27,895 - Clustering - INFO - reading/data/data/K_DoesAlgSupportWeightTestLFR_w1/gt_default.parq\n",
      "INFO:Clustering:reading/data/data/K_DoesAlgSupportWeightTestLFR_w1/gt_default.parq\n",
      "2020-04-22 22:16:27,901 - ClusterComparator - INFO - resulting 128 nodes out of 128,128\n",
      "INFO:ClusterComparator:resulting 128 nodes out of 128,128\n",
      "/opt/conda/envs/python3/lib/python3.6/site-packages/sklearn/metrics/cluster/supervised.py:859: FutureWarning: The behavior of NMI will change in version 0.22. To match the behavior of 'v_measure_score', NMI will use average_method='arithmetic' by default.\n",
      "  FutureWarning)\n",
      "2020-04-22 22:16:27,910 - ClusterComparator - INFO - Running /opt/gct/submodules/OvpNMI/onmi /tmp/tmp_xu0ah7b/cluster1.cnl /tmp/tmp_xu0ah7b/cluster2.cnl > ovpnmioutput\n",
      "INFO:ClusterComparator:Running /opt/gct/submodules/OvpNMI/onmi /tmp/tmp_xu0ah7b/cluster1.cnl /tmp/tmp_xu0ah7b/cluster2.cnl > ovpnmioutput\n",
      "2020-04-22 22:16:27,918 - ClusterComparator - INFO - resulting 128 nodes out of 128,128\n",
      "INFO:ClusterComparator:resulting 128 nodes out of 128,128\n",
      "/opt/conda/envs/python3/lib/python3.6/site-packages/sklearn/metrics/cluster/supervised.py:859: FutureWarning: The behavior of NMI will change in version 0.22. To match the behavior of 'v_measure_score', NMI will use average_method='arithmetic' by default.\n",
      "  FutureWarning)\n",
      "2020-04-22 22:16:27,928 - ClusterComparator - INFO - Running /opt/gct/submodules/OvpNMI/onmi /tmp/tmpfm9uk47g/cluster1.cnl /tmp/tmpfm9uk47g/cluster2.cnl > ovpnmioutput\n",
      "INFO:ClusterComparator:Running /opt/gct/submodules/OvpNMI/onmi /tmp/tmpfm9uk47g/cluster1.cnl /tmp/tmpfm9uk47g/cluster2.cnl > ovpnmioutput\n",
      "2020-04-22 22:16:27,943 - ClusterComparator - INFO - resulting 128 nodes out of 128,128\n",
      "INFO:ClusterComparator:resulting 128 nodes out of 128,128\n",
      "/opt/conda/envs/python3/lib/python3.6/site-packages/sklearn/metrics/cluster/supervised.py:859: FutureWarning: The behavior of NMI will change in version 0.22. To match the behavior of 'v_measure_score', NMI will use average_method='arithmetic' by default.\n",
      "  FutureWarning)\n",
      "2020-04-22 22:16:27,954 - ClusterComparator - INFO - Running /opt/gct/submodules/OvpNMI/onmi /tmp/tmppeoxm9ez/cluster1.cnl /tmp/tmppeoxm9ez/cluster2.cnl > ovpnmioutput\n",
      "INFO:ClusterComparator:Running /opt/gct/submodules/OvpNMI/onmi /tmp/tmppeoxm9ez/cluster1.cnl /tmp/tmppeoxm9ez/cluster2.cnl > ovpnmioutput\n",
      "2020-04-22 22:16:27,962 - Clustering - INFO - reading/data/data/K_DoesAlgSupportWeightTestLFR_w1/gt_default.parq\n",
      "INFO:Clustering:reading/data/data/K_DoesAlgSupportWeightTestLFR_w1/gt_default.parq\n",
      "2020-04-22 22:16:27,969 - ClusterComparator - INFO - resulting 128 nodes out of 128,128\n",
      "INFO:ClusterComparator:resulting 128 nodes out of 128,128\n",
      "/opt/conda/envs/python3/lib/python3.6/site-packages/sklearn/metrics/cluster/supervised.py:859: FutureWarning: The behavior of NMI will change in version 0.22. To match the behavior of 'v_measure_score', NMI will use average_method='arithmetic' by default.\n",
      "  FutureWarning)\n",
      "2020-04-22 22:16:27,977 - ClusterComparator - INFO - Running /opt/gct/submodules/OvpNMI/onmi /tmp/tmpj7jfchzf/cluster1.cnl /tmp/tmpj7jfchzf/cluster2.cnl > ovpnmioutput\n",
      "INFO:ClusterComparator:Running /opt/gct/submodules/OvpNMI/onmi /tmp/tmpj7jfchzf/cluster1.cnl /tmp/tmpj7jfchzf/cluster2.cnl > ovpnmioutput\n",
      "2020-04-22 22:16:27,986 - ClusterComparator - INFO - resulting 128 nodes out of 128,128\n",
      "INFO:ClusterComparator:resulting 128 nodes out of 128,128\n",
      "/opt/conda/envs/python3/lib/python3.6/site-packages/sklearn/metrics/cluster/supervised.py:859: FutureWarning: The behavior of NMI will change in version 0.22. To match the behavior of 'v_measure_score', NMI will use average_method='arithmetic' by default.\n",
      "  FutureWarning)\n",
      "2020-04-22 22:16:27,995 - ClusterComparator - INFO - Running /opt/gct/submodules/OvpNMI/onmi /tmp/tmp3dw57nsd/cluster1.cnl /tmp/tmp3dw57nsd/cluster2.cnl > ovpnmioutput\n"
     ]
    },
    {
     "name": "stderr",
     "output_type": "stream",
     "text": [
      "INFO:ClusterComparator:Running /opt/gct/submodules/OvpNMI/onmi /tmp/tmp3dw57nsd/cluster1.cnl /tmp/tmp3dw57nsd/cluster2.cnl > ovpnmioutput\n",
      "2020-04-22 22:16:28,010 - ClusterComparator - INFO - resulting 128 nodes out of 128,128\n",
      "INFO:ClusterComparator:resulting 128 nodes out of 128,128\n",
      "/opt/conda/envs/python3/lib/python3.6/site-packages/sklearn/metrics/cluster/supervised.py:859: FutureWarning: The behavior of NMI will change in version 0.22. To match the behavior of 'v_measure_score', NMI will use average_method='arithmetic' by default.\n",
      "  FutureWarning)\n",
      "2020-04-22 22:16:28,021 - ClusterComparator - INFO - Running /opt/gct/submodules/OvpNMI/onmi /tmp/tmpsy_j7kgk/cluster1.cnl /tmp/tmpsy_j7kgk/cluster2.cnl > ovpnmioutput\n",
      "INFO:ClusterComparator:Running /opt/gct/submodules/OvpNMI/onmi /tmp/tmpsy_j7kgk/cluster1.cnl /tmp/tmpsy_j7kgk/cluster2.cnl > ovpnmioutput\n",
      "2020-04-22 22:16:28,029 - Clustering - INFO - reading/data/data/K_DoesAlgSupportWeightTestLFR_w1/gt_default.parq\n",
      "INFO:Clustering:reading/data/data/K_DoesAlgSupportWeightTestLFR_w1/gt_default.parq\n",
      "2020-04-22 22:16:28,036 - ClusterComparator - INFO - resulting 128 nodes out of 128,128\n",
      "INFO:ClusterComparator:resulting 128 nodes out of 128,128\n",
      "/opt/conda/envs/python3/lib/python3.6/site-packages/sklearn/metrics/cluster/supervised.py:859: FutureWarning: The behavior of NMI will change in version 0.22. To match the behavior of 'v_measure_score', NMI will use average_method='arithmetic' by default.\n",
      "  FutureWarning)\n",
      "2020-04-22 22:16:28,044 - ClusterComparator - INFO - Running /opt/gct/submodules/OvpNMI/onmi /tmp/tmphcanmm4u/cluster1.cnl /tmp/tmphcanmm4u/cluster2.cnl > ovpnmioutput\n",
      "INFO:ClusterComparator:Running /opt/gct/submodules/OvpNMI/onmi /tmp/tmphcanmm4u/cluster1.cnl /tmp/tmphcanmm4u/cluster2.cnl > ovpnmioutput\n",
      "2020-04-22 22:16:28,053 - ClusterComparator - INFO - resulting 128 nodes out of 128,128\n",
      "INFO:ClusterComparator:resulting 128 nodes out of 128,128\n",
      "/opt/conda/envs/python3/lib/python3.6/site-packages/sklearn/metrics/cluster/supervised.py:859: FutureWarning: The behavior of NMI will change in version 0.22. To match the behavior of 'v_measure_score', NMI will use average_method='arithmetic' by default.\n",
      "  FutureWarning)\n",
      "2020-04-22 22:16:28,063 - ClusterComparator - INFO - Running /opt/gct/submodules/OvpNMI/onmi /tmp/tmp_fj8epwh/cluster1.cnl /tmp/tmp_fj8epwh/cluster2.cnl > ovpnmioutput\n",
      "INFO:ClusterComparator:Running /opt/gct/submodules/OvpNMI/onmi /tmp/tmp_fj8epwh/cluster1.cnl /tmp/tmp_fj8epwh/cluster2.cnl > ovpnmioutput\n",
      "2020-04-22 22:16:28,078 - ClusterComparator - INFO - resulting 128 nodes out of 128,128\n",
      "INFO:ClusterComparator:resulting 128 nodes out of 128,128\n",
      "/opt/conda/envs/python3/lib/python3.6/site-packages/sklearn/metrics/cluster/supervised.py:859: FutureWarning: The behavior of NMI will change in version 0.22. To match the behavior of 'v_measure_score', NMI will use average_method='arithmetic' by default.\n",
      "  FutureWarning)\n",
      "2020-04-22 22:16:28,088 - ClusterComparator - INFO - Running /opt/gct/submodules/OvpNMI/onmi /tmp/tmpgut9285v/cluster1.cnl /tmp/tmpgut9285v/cluster2.cnl > ovpnmioutput\n",
      "INFO:ClusterComparator:Running /opt/gct/submodules/OvpNMI/onmi /tmp/tmpgut9285v/cluster1.cnl /tmp/tmpgut9285v/cluster2.cnl > ovpnmioutput\n",
      "2020-04-22 22:16:28,097 - Clustering - INFO - reading/data/data/K_DoesAlgSupportWeightTestLFR_w1/gt_default.parq\n",
      "INFO:Clustering:reading/data/data/K_DoesAlgSupportWeightTestLFR_w1/gt_default.parq\n",
      "2020-04-22 22:16:28,103 - ClusterComparator - INFO - resulting 128 nodes out of 128,128\n",
      "INFO:ClusterComparator:resulting 128 nodes out of 128,128\n",
      "/opt/conda/envs/python3/lib/python3.6/site-packages/sklearn/metrics/cluster/supervised.py:859: FutureWarning: The behavior of NMI will change in version 0.22. To match the behavior of 'v_measure_score', NMI will use average_method='arithmetic' by default.\n",
      "  FutureWarning)\n",
      "2020-04-22 22:16:28,112 - ClusterComparator - INFO - Running /opt/gct/submodules/OvpNMI/onmi /tmp/tmp3qzy458c/cluster1.cnl /tmp/tmp3qzy458c/cluster2.cnl > ovpnmioutput\n",
      "INFO:ClusterComparator:Running /opt/gct/submodules/OvpNMI/onmi /tmp/tmp3qzy458c/cluster1.cnl /tmp/tmp3qzy458c/cluster2.cnl > ovpnmioutput\n",
      "2020-04-22 22:16:28,120 - ClusterComparator - INFO - resulting 128 nodes out of 128,128\n",
      "INFO:ClusterComparator:resulting 128 nodes out of 128,128\n",
      "/opt/conda/envs/python3/lib/python3.6/site-packages/sklearn/metrics/cluster/supervised.py:859: FutureWarning: The behavior of NMI will change in version 0.22. To match the behavior of 'v_measure_score', NMI will use average_method='arithmetic' by default.\n",
      "  FutureWarning)\n",
      "2020-04-22 22:16:28,130 - ClusterComparator - INFO - Running /opt/gct/submodules/OvpNMI/onmi /tmp/tmpbkyi4yyx/cluster1.cnl /tmp/tmpbkyi4yyx/cluster2.cnl > ovpnmioutput\n",
      "INFO:ClusterComparator:Running /opt/gct/submodules/OvpNMI/onmi /tmp/tmpbkyi4yyx/cluster1.cnl /tmp/tmpbkyi4yyx/cluster2.cnl > ovpnmioutput\n",
      "2020-04-22 22:16:28,145 - ClusterComparator - INFO - resulting 128 nodes out of 128,128\n",
      "INFO:ClusterComparator:resulting 128 nodes out of 128,128\n",
      "/opt/conda/envs/python3/lib/python3.6/site-packages/sklearn/metrics/cluster/supervised.py:859: FutureWarning: The behavior of NMI will change in version 0.22. To match the behavior of 'v_measure_score', NMI will use average_method='arithmetic' by default.\n",
      "  FutureWarning)\n",
      "2020-04-22 22:16:28,155 - ClusterComparator - INFO - Running /opt/gct/submodules/OvpNMI/onmi /tmp/tmp0ghv02it/cluster1.cnl /tmp/tmp0ghv02it/cluster2.cnl > ovpnmioutput\n",
      "INFO:ClusterComparator:Running /opt/gct/submodules/OvpNMI/onmi /tmp/tmp0ghv02it/cluster1.cnl /tmp/tmp0ghv02it/cluster2.cnl > ovpnmioutput\n",
      "2020-04-22 22:16:28,164 - Clustering - INFO - reading/data/data/K_DoesAlgSupportWeightTestLFR_w1/gt_default.parq\n",
      "INFO:Clustering:reading/data/data/K_DoesAlgSupportWeightTestLFR_w1/gt_default.parq\n",
      "2020-04-22 22:16:28,170 - ClusterComparator - INFO - resulting 128 nodes out of 128,128\n",
      "INFO:ClusterComparator:resulting 128 nodes out of 128,128\n",
      "/opt/conda/envs/python3/lib/python3.6/site-packages/sklearn/metrics/cluster/supervised.py:859: FutureWarning: The behavior of NMI will change in version 0.22. To match the behavior of 'v_measure_score', NMI will use average_method='arithmetic' by default.\n",
      "  FutureWarning)\n",
      "2020-04-22 22:16:28,179 - ClusterComparator - INFO - Running /opt/gct/submodules/OvpNMI/onmi /tmp/tmpev67fqz6/cluster1.cnl /tmp/tmpev67fqz6/cluster2.cnl > ovpnmioutput\n",
      "INFO:ClusterComparator:Running /opt/gct/submodules/OvpNMI/onmi /tmp/tmpev67fqz6/cluster1.cnl /tmp/tmpev67fqz6/cluster2.cnl > ovpnmioutput\n",
      "2020-04-22 22:16:28,188 - ClusterComparator - INFO - resulting 128 nodes out of 128,128\n",
      "INFO:ClusterComparator:resulting 128 nodes out of 128,128\n",
      "/opt/conda/envs/python3/lib/python3.6/site-packages/sklearn/metrics/cluster/supervised.py:859: FutureWarning: The behavior of NMI will change in version 0.22. To match the behavior of 'v_measure_score', NMI will use average_method='arithmetic' by default.\n",
      "  FutureWarning)\n",
      "2020-04-22 22:16:28,197 - ClusterComparator - INFO - Running /opt/gct/submodules/OvpNMI/onmi /tmp/tmpgq_42o26/cluster1.cnl /tmp/tmpgq_42o26/cluster2.cnl > ovpnmioutput\n",
      "INFO:ClusterComparator:Running /opt/gct/submodules/OvpNMI/onmi /tmp/tmpgq_42o26/cluster1.cnl /tmp/tmpgq_42o26/cluster2.cnl > ovpnmioutput\n",
      "2020-04-22 22:16:28,212 - ClusterComparator - INFO - resulting 3 nodes out of 128,3\n",
      "INFO:ClusterComparator:resulting 3 nodes out of 128,3\n",
      "/opt/conda/envs/python3/lib/python3.6/site-packages/sklearn/metrics/cluster/supervised.py:859: FutureWarning: The behavior of NMI will change in version 0.22. To match the behavior of 'v_measure_score', NMI will use average_method='arithmetic' by default.\n",
      "  FutureWarning)\n",
      "2020-04-22 22:16:28,219 - Clustering - INFO - reading/data/data/K_DoesAlgSupportWeightTestLFR_w1/gt_default.parq\n",
      "INFO:Clustering:reading/data/data/K_DoesAlgSupportWeightTestLFR_w1/gt_default.parq\n",
      "2020-04-22 22:16:28,224 - ClusterComparator - INFO - resulting 128 nodes out of 128,128\n",
      "INFO:ClusterComparator:resulting 128 nodes out of 128,128\n",
      "/opt/conda/envs/python3/lib/python3.6/site-packages/sklearn/metrics/cluster/supervised.py:859: FutureWarning: The behavior of NMI will change in version 0.22. To match the behavior of 'v_measure_score', NMI will use average_method='arithmetic' by default.\n",
      "  FutureWarning)\n"
     ]
    },
    {
     "name": "stderr",
     "output_type": "stream",
     "text": [
      "2020-04-22 22:16:28,238 - ClusterComparator - INFO - Running /opt/gct/submodules/OvpNMI/onmi /tmp/tmpyxeycvcz/cluster1.cnl /tmp/tmpyxeycvcz/cluster2.cnl > ovpnmioutput\n",
      "INFO:ClusterComparator:Running /opt/gct/submodules/OvpNMI/onmi /tmp/tmpyxeycvcz/cluster1.cnl /tmp/tmpyxeycvcz/cluster2.cnl > ovpnmioutput\n",
      "2020-04-22 22:16:28,246 - ClusterComparator - ERROR - Run command with error status code 134\n",
      "ERROR:ClusterComparator:Run command with error status code 134\n",
      "2020-04-22 22:16:28,249 - ClusterComparator - INFO - resulting 3 nodes out of 128,3\n",
      "INFO:ClusterComparator:resulting 3 nodes out of 128,3\n",
      "/opt/conda/envs/python3/lib/python3.6/site-packages/sklearn/metrics/cluster/supervised.py:859: FutureWarning: The behavior of NMI will change in version 0.22. To match the behavior of 'v_measure_score', NMI will use average_method='arithmetic' by default.\n",
      "  FutureWarning)\n"
     ]
    }
   ],
   "source": [
    "import pandas as pd\n",
    "lst = [];\n",
    "for alg in  gct.list_algorithms():\n",
    "    for dsname in datasets:\n",
    "        if dsname.startswith(prefix + '_uw'):\n",
    "            a = [];columns = []\n",
    "            dsname2 = dsname.replace(prefix + \"_uw\", prefix + \"_w\")\n",
    "            a += [alg, dsname, dsname2]\n",
    "            columns += ['alg', 'data1', 'data2']\n",
    "            if dsname + alg in results and dsname2 + alg in results:\n",
    "                cluster1 = gct.to_cluster(results[dsname + alg])\n",
    "                cluster2 = gct.to_cluster(results[dsname2 + alg])\n",
    "                compa = gct.ClusterComparator(cluster1, cluster2)\n",
    "                a += [compa.sklean_nmi(), cluster1.is_overlap, cluster2.is_overlap,\n",
    "                      cluster1.num_cluster, cluster2.num_cluster,\n",
    "                     compa.OvpNMI()['NMImax']]\n",
    "                columns += ['nmi_12', 'ovp1', 'ovp2', \"#c1\", \"#c2\", 'ovpnmi_12']\n",
    "\n",
    "                gt = list(gct.load_local_graph(dsname).get_ground_truth().values())[0]            \n",
    "                compa = gct.ClusterComparator(gt, cluster1)            \n",
    "                a += [compa.sklean_nmi(), compa.OvpNMI()['NMImax']]\n",
    "                columns += ['nmi_t1', 'ovpnmi_t1']\n",
    "\n",
    "                compa = gct.ClusterComparator(gt, cluster2)            \n",
    "                a += [compa.sklean_nmi(), compa.OvpNMI()['NMImax']]\n",
    "                columns += ['nmi_t2', 'ovpnmi_t2']\n",
    "\n",
    "                lst.append(a)\n",
    "\n"
   ]
  },
  {
   "cell_type": "code",
   "execution_count": 15,
   "metadata": {
    "scrolled": false
   },
   "outputs": [
    {
     "data": {
      "text/html": [
       "<div>\n",
       "<style scoped>\n",
       "    .dataframe tbody tr th:only-of-type {\n",
       "        vertical-align: middle;\n",
       "    }\n",
       "\n",
       "    .dataframe tbody tr th {\n",
       "        vertical-align: top;\n",
       "    }\n",
       "\n",
       "    .dataframe thead th {\n",
       "        text-align: right;\n",
       "    }\n",
       "</style>\n",
       "<table border=\"1\" class=\"dataframe\">\n",
       "  <thead>\n",
       "    <tr style=\"text-align: right;\">\n",
       "      <th></th>\n",
       "      <th>alg</th>\n",
       "      <th>data1</th>\n",
       "      <th>data2</th>\n",
       "      <th>nmi_12</th>\n",
       "      <th>ovp1</th>\n",
       "      <th>ovp2</th>\n",
       "      <th>#c1</th>\n",
       "      <th>#c2</th>\n",
       "      <th>ovpnmi_12</th>\n",
       "      <th>nmi_t1</th>\n",
       "      <th>ovpnmi_t1</th>\n",
       "      <th>nmi_t2</th>\n",
       "      <th>ovpnmi_t2</th>\n",
       "    </tr>\n",
       "  </thead>\n",
       "  <tbody>\n",
       "    <tr>\n",
       "      <th>0</th>\n",
       "      <td>oslom_Infohiermap</td>\n",
       "      <td>K_DoesAlgSupportWeightTestLFR_uw1</td>\n",
       "      <td>K_DoesAlgSupportWeightTestLFR_w1</td>\n",
       "      <td>1.000000</td>\n",
       "      <td>False</td>\n",
       "      <td>False</td>\n",
       "      <td>6.0</td>\n",
       "      <td>6.0</td>\n",
       "      <td>1.000000</td>\n",
       "      <td>1.000000</td>\n",
       "      <td>1.000000</td>\n",
       "      <td>1.000000</td>\n",
       "      <td>1.000000</td>\n",
       "    </tr>\n",
       "    <tr>\n",
       "      <th>1</th>\n",
       "      <td>oslom_Infomap</td>\n",
       "      <td>K_DoesAlgSupportWeightTestLFR_uw1</td>\n",
       "      <td>K_DoesAlgSupportWeightTestLFR_w1</td>\n",
       "      <td>1.000000</td>\n",
       "      <td>False</td>\n",
       "      <td>False</td>\n",
       "      <td>1.0</td>\n",
       "      <td>1.0</td>\n",
       "      <td>NaN</td>\n",
       "      <td>-1.000000</td>\n",
       "      <td>NaN</td>\n",
       "      <td>-1.000000</td>\n",
       "      <td>NaN</td>\n",
       "    </tr>\n",
       "    <tr>\n",
       "      <th>2</th>\n",
       "      <td>oslom_OSLOM</td>\n",
       "      <td>K_DoesAlgSupportWeightTestLFR_uw1</td>\n",
       "      <td>K_DoesAlgSupportWeightTestLFR_w1</td>\n",
       "      <td>1.000000</td>\n",
       "      <td>False</td>\n",
       "      <td>False</td>\n",
       "      <td>6.0</td>\n",
       "      <td>6.0</td>\n",
       "      <td>1.000000</td>\n",
       "      <td>1.000000</td>\n",
       "      <td>1.000000</td>\n",
       "      <td>1.000000</td>\n",
       "      <td>1.000000</td>\n",
       "    </tr>\n",
       "    <tr>\n",
       "      <th>3</th>\n",
       "      <td>oslom_copra</td>\n",
       "      <td>K_DoesAlgSupportWeightTestLFR_uw1</td>\n",
       "      <td>K_DoesAlgSupportWeightTestLFR_w1</td>\n",
       "      <td>0.815902</td>\n",
       "      <td>True</td>\n",
       "      <td>True</td>\n",
       "      <td>6.0</td>\n",
       "      <td>5.0</td>\n",
       "      <td>0.739941</td>\n",
       "      <td>1.000000</td>\n",
       "      <td>0.954739</td>\n",
       "      <td>0.843072</td>\n",
       "      <td>0.763155</td>\n",
       "    </tr>\n",
       "    <tr>\n",
       "      <th>4</th>\n",
       "      <td>oslom_louvain_method</td>\n",
       "      <td>K_DoesAlgSupportWeightTestLFR_uw1</td>\n",
       "      <td>K_DoesAlgSupportWeightTestLFR_w1</td>\n",
       "      <td>1.000000</td>\n",
       "      <td>False</td>\n",
       "      <td>False</td>\n",
       "      <td>6.0</td>\n",
       "      <td>6.0</td>\n",
       "      <td>1.000000</td>\n",
       "      <td>1.000000</td>\n",
       "      <td>1.000000</td>\n",
       "      <td>1.000000</td>\n",
       "      <td>1.000000</td>\n",
       "    </tr>\n",
       "    <tr>\n",
       "      <th>5</th>\n",
       "      <td>oslom_lpm</td>\n",
       "      <td>K_DoesAlgSupportWeightTestLFR_uw1</td>\n",
       "      <td>K_DoesAlgSupportWeightTestLFR_w1</td>\n",
       "      <td>0.942053</td>\n",
       "      <td>False</td>\n",
       "      <td>False</td>\n",
       "      <td>6.0</td>\n",
       "      <td>5.0</td>\n",
       "      <td>0.851540</td>\n",
       "      <td>1.000000</td>\n",
       "      <td>1.000000</td>\n",
       "      <td>0.942053</td>\n",
       "      <td>0.851540</td>\n",
       "    </tr>\n",
       "    <tr>\n",
       "      <th>6</th>\n",
       "      <td>oslom_modopt</td>\n",
       "      <td>K_DoesAlgSupportWeightTestLFR_uw1</td>\n",
       "      <td>K_DoesAlgSupportWeightTestLFR_w1</td>\n",
       "      <td>1.000000</td>\n",
       "      <td>False</td>\n",
       "      <td>False</td>\n",
       "      <td>6.0</td>\n",
       "      <td>6.0</td>\n",
       "      <td>1.000000</td>\n",
       "      <td>1.000000</td>\n",
       "      <td>1.000000</td>\n",
       "      <td>1.000000</td>\n",
       "      <td>1.000000</td>\n",
       "    </tr>\n",
       "    <tr>\n",
       "      <th>7</th>\n",
       "      <td>pycabem_GANXiSw</td>\n",
       "      <td>K_DoesAlgSupportWeightTestLFR_uw1</td>\n",
       "      <td>K_DoesAlgSupportWeightTestLFR_w1</td>\n",
       "      <td>0.834760</td>\n",
       "      <td>False</td>\n",
       "      <td>False</td>\n",
       "      <td>4.0</td>\n",
       "      <td>6.0</td>\n",
       "      <td>0.649826</td>\n",
       "      <td>0.834760</td>\n",
       "      <td>0.649826</td>\n",
       "      <td>1.000000</td>\n",
       "      <td>1.000000</td>\n",
       "    </tr>\n",
       "    <tr>\n",
       "      <th>8</th>\n",
       "      <td>pycabem_HiReCS</td>\n",
       "      <td>K_DoesAlgSupportWeightTestLFR_uw1</td>\n",
       "      <td>K_DoesAlgSupportWeightTestLFR_w1</td>\n",
       "      <td>0.488260</td>\n",
       "      <td>True</td>\n",
       "      <td>False</td>\n",
       "      <td>6.0</td>\n",
       "      <td>5.0</td>\n",
       "      <td>0.353799</td>\n",
       "      <td>0.075347</td>\n",
       "      <td>NaN</td>\n",
       "      <td>0.069518</td>\n",
       "      <td>NaN</td>\n",
       "    </tr>\n",
       "    <tr>\n",
       "      <th>9</th>\n",
       "      <td>pycabem_LabelRank</td>\n",
       "      <td>K_DoesAlgSupportWeightTestLFR_uw1</td>\n",
       "      <td>K_DoesAlgSupportWeightTestLFR_w1</td>\n",
       "      <td>1.000000</td>\n",
       "      <td>False</td>\n",
       "      <td>False</td>\n",
       "      <td>7.0</td>\n",
       "      <td>7.0</td>\n",
       "      <td>1.000000</td>\n",
       "      <td>0.957790</td>\n",
       "      <td>0.888423</td>\n",
       "      <td>0.957790</td>\n",
       "      <td>0.888423</td>\n",
       "    </tr>\n",
       "    <tr>\n",
       "      <th>10</th>\n",
       "      <td>cdc_CONGA</td>\n",
       "      <td>K_DoesAlgSupportWeightTestLFR_uw1</td>\n",
       "      <td>K_DoesAlgSupportWeightTestLFR_w1</td>\n",
       "      <td>0.161499</td>\n",
       "      <td>True</td>\n",
       "      <td>True</td>\n",
       "      <td>5.0</td>\n",
       "      <td>5.0</td>\n",
       "      <td>0.260846</td>\n",
       "      <td>0.348705</td>\n",
       "      <td>0.449658</td>\n",
       "      <td>0.444944</td>\n",
       "      <td>0.428299</td>\n",
       "    </tr>\n",
       "    <tr>\n",
       "      <th>11</th>\n",
       "      <td>cdc_CliquePercolation</td>\n",
       "      <td>K_DoesAlgSupportWeightTestLFR_uw1</td>\n",
       "      <td>K_DoesAlgSupportWeightTestLFR_w1</td>\n",
       "      <td>1.000000</td>\n",
       "      <td>False</td>\n",
       "      <td>False</td>\n",
       "      <td>1.0</td>\n",
       "      <td>1.0</td>\n",
       "      <td>NaN</td>\n",
       "      <td>-1.000000</td>\n",
       "      <td>NaN</td>\n",
       "      <td>-1.000000</td>\n",
       "      <td>NaN</td>\n",
       "    </tr>\n",
       "    <tr>\n",
       "      <th>12</th>\n",
       "      <td>cdc_Connected_Iterative_Scan</td>\n",
       "      <td>K_DoesAlgSupportWeightTestLFR_uw1</td>\n",
       "      <td>K_DoesAlgSupportWeightTestLFR_w1</td>\n",
       "      <td>0.740117</td>\n",
       "      <td>True</td>\n",
       "      <td>True</td>\n",
       "      <td>8.0</td>\n",
       "      <td>9.0</td>\n",
       "      <td>0.972460</td>\n",
       "      <td>0.816708</td>\n",
       "      <td>0.839299</td>\n",
       "      <td>0.812934</td>\n",
       "      <td>0.816185</td>\n",
       "    </tr>\n",
       "    <tr>\n",
       "      <th>13</th>\n",
       "      <td>cdc_EAGLE</td>\n",
       "      <td>K_DoesAlgSupportWeightTestLFR_uw1</td>\n",
       "      <td>K_DoesAlgSupportWeightTestLFR_w1</td>\n",
       "      <td>0.924448</td>\n",
       "      <td>True</td>\n",
       "      <td>True</td>\n",
       "      <td>6.0</td>\n",
       "      <td>6.0</td>\n",
       "      <td>1.000000</td>\n",
       "      <td>0.077173</td>\n",
       "      <td>NaN</td>\n",
       "      <td>0.077317</td>\n",
       "      <td>NaN</td>\n",
       "    </tr>\n",
       "    <tr>\n",
       "      <th>14</th>\n",
       "      <td>cdc_FastCpm</td>\n",
       "      <td>K_DoesAlgSupportWeightTestLFR_uw1</td>\n",
       "      <td>K_DoesAlgSupportWeightTestLFR_w1</td>\n",
       "      <td>0.981172</td>\n",
       "      <td>True</td>\n",
       "      <td>True</td>\n",
       "      <td>6.0</td>\n",
       "      <td>6.0</td>\n",
       "      <td>1.000000</td>\n",
       "      <td>0.925437</td>\n",
       "      <td>0.904896</td>\n",
       "      <td>0.924688</td>\n",
       "      <td>0.904896</td>\n",
       "    </tr>\n",
       "    <tr>\n",
       "      <th>15</th>\n",
       "      <td>cdc_GCE</td>\n",
       "      <td>K_DoesAlgSupportWeightTestLFR_uw1</td>\n",
       "      <td>K_DoesAlgSupportWeightTestLFR_w1</td>\n",
       "      <td>1.000000</td>\n",
       "      <td>False</td>\n",
       "      <td>False</td>\n",
       "      <td>6.0</td>\n",
       "      <td>6.0</td>\n",
       "      <td>1.000000</td>\n",
       "      <td>1.000000</td>\n",
       "      <td>1.000000</td>\n",
       "      <td>1.000000</td>\n",
       "      <td>1.000000</td>\n",
       "    </tr>\n",
       "    <tr>\n",
       "      <th>16</th>\n",
       "      <td>cdc_LinkCommunities</td>\n",
       "      <td>K_DoesAlgSupportWeightTestLFR_uw1</td>\n",
       "      <td>K_DoesAlgSupportWeightTestLFR_w1</td>\n",
       "      <td>1.000000</td>\n",
       "      <td>False</td>\n",
       "      <td>False</td>\n",
       "      <td>1.0</td>\n",
       "      <td>1.0</td>\n",
       "      <td>NaN</td>\n",
       "      <td>-1.000000</td>\n",
       "      <td>NaN</td>\n",
       "      <td>0.000000</td>\n",
       "      <td>NaN</td>\n",
       "    </tr>\n",
       "    <tr>\n",
       "      <th>17</th>\n",
       "      <td>cdc_MOSES</td>\n",
       "      <td>K_DoesAlgSupportWeightTestLFR_uw1</td>\n",
       "      <td>K_DoesAlgSupportWeightTestLFR_w1</td>\n",
       "      <td>0.948586</td>\n",
       "      <td>True</td>\n",
       "      <td>True</td>\n",
       "      <td>7.0</td>\n",
       "      <td>7.0</td>\n",
       "      <td>1.000000</td>\n",
       "      <td>0.956739</td>\n",
       "      <td>0.904570</td>\n",
       "      <td>0.957790</td>\n",
       "      <td>0.904570</td>\n",
       "    </tr>\n",
       "    <tr>\n",
       "      <th>18</th>\n",
       "      <td>cdc_MSCD_AFG</td>\n",
       "      <td>K_DoesAlgSupportWeightTestLFR_uw1</td>\n",
       "      <td>K_DoesAlgSupportWeightTestLFR_w1</td>\n",
       "      <td>1.000000</td>\n",
       "      <td>False</td>\n",
       "      <td>False</td>\n",
       "      <td>6.0</td>\n",
       "      <td>6.0</td>\n",
       "      <td>1.000000</td>\n",
       "      <td>0.069461</td>\n",
       "      <td>NaN</td>\n",
       "      <td>0.069461</td>\n",
       "      <td>NaN</td>\n",
       "    </tr>\n",
       "    <tr>\n",
       "      <th>19</th>\n",
       "      <td>cdc_MSCD_HSLSW</td>\n",
       "      <td>K_DoesAlgSupportWeightTestLFR_uw1</td>\n",
       "      <td>K_DoesAlgSupportWeightTestLFR_w1</td>\n",
       "      <td>1.000000</td>\n",
       "      <td>False</td>\n",
       "      <td>False</td>\n",
       "      <td>6.0</td>\n",
       "      <td>6.0</td>\n",
       "      <td>1.000000</td>\n",
       "      <td>0.069461</td>\n",
       "      <td>NaN</td>\n",
       "      <td>0.069461</td>\n",
       "      <td>NaN</td>\n",
       "    </tr>\n",
       "    <tr>\n",
       "      <th>20</th>\n",
       "      <td>cdc_MSCD_LFK</td>\n",
       "      <td>K_DoesAlgSupportWeightTestLFR_uw1</td>\n",
       "      <td>K_DoesAlgSupportWeightTestLFR_w1</td>\n",
       "      <td>1.000000</td>\n",
       "      <td>False</td>\n",
       "      <td>True</td>\n",
       "      <td>6.0</td>\n",
       "      <td>6.0</td>\n",
       "      <td>0.983422</td>\n",
       "      <td>0.069461</td>\n",
       "      <td>NaN</td>\n",
       "      <td>0.066293</td>\n",
       "      <td>NaN</td>\n",
       "    </tr>\n",
       "    <tr>\n",
       "      <th>21</th>\n",
       "      <td>cdc_MSCD_LFK2</td>\n",
       "      <td>K_DoesAlgSupportWeightTestLFR_uw1</td>\n",
       "      <td>K_DoesAlgSupportWeightTestLFR_w1</td>\n",
       "      <td>0.987365</td>\n",
       "      <td>False</td>\n",
       "      <td>False</td>\n",
       "      <td>6.0</td>\n",
       "      <td>5.0</td>\n",
       "      <td>0.793824</td>\n",
       "      <td>0.069461</td>\n",
       "      <td>NaN</td>\n",
       "      <td>0.080395</td>\n",
       "      <td>NaN</td>\n",
       "    </tr>\n",
       "    <tr>\n",
       "      <th>22</th>\n",
       "      <td>cdc_MSCD_RB</td>\n",
       "      <td>K_DoesAlgSupportWeightTestLFR_uw1</td>\n",
       "      <td>K_DoesAlgSupportWeightTestLFR_w1</td>\n",
       "      <td>1.000000</td>\n",
       "      <td>False</td>\n",
       "      <td>False</td>\n",
       "      <td>6.0</td>\n",
       "      <td>6.0</td>\n",
       "      <td>1.000000</td>\n",
       "      <td>0.069461</td>\n",
       "      <td>NaN</td>\n",
       "      <td>0.069461</td>\n",
       "      <td>NaN</td>\n",
       "    </tr>\n",
       "    <tr>\n",
       "      <th>23</th>\n",
       "      <td>cdc_MSCD_RN</td>\n",
       "      <td>K_DoesAlgSupportWeightTestLFR_uw1</td>\n",
       "      <td>K_DoesAlgSupportWeightTestLFR_w1</td>\n",
       "      <td>0.906523</td>\n",
       "      <td>False</td>\n",
       "      <td>False</td>\n",
       "      <td>21.0</td>\n",
       "      <td>20.0</td>\n",
       "      <td>0.707707</td>\n",
       "      <td>0.194114</td>\n",
       "      <td>NaN</td>\n",
       "      <td>0.184334</td>\n",
       "      <td>NaN</td>\n",
       "    </tr>\n",
       "    <tr>\n",
       "      <th>24</th>\n",
       "      <td>cdc_MSCD_SO</td>\n",
       "      <td>K_DoesAlgSupportWeightTestLFR_uw1</td>\n",
       "      <td>K_DoesAlgSupportWeightTestLFR_w1</td>\n",
       "      <td>1.000000</td>\n",
       "      <td>False</td>\n",
       "      <td>False</td>\n",
       "      <td>6.0</td>\n",
       "      <td>6.0</td>\n",
       "      <td>1.000000</td>\n",
       "      <td>0.069461</td>\n",
       "      <td>NaN</td>\n",
       "      <td>0.069461</td>\n",
       "      <td>NaN</td>\n",
       "    </tr>\n",
       "    <tr>\n",
       "      <th>25</th>\n",
       "      <td>cdc_MSCD_SOM</td>\n",
       "      <td>K_DoesAlgSupportWeightTestLFR_uw1</td>\n",
       "      <td>K_DoesAlgSupportWeightTestLFR_w1</td>\n",
       "      <td>1.000000</td>\n",
       "      <td>False</td>\n",
       "      <td>False</td>\n",
       "      <td>6.0</td>\n",
       "      <td>6.0</td>\n",
       "      <td>1.000000</td>\n",
       "      <td>0.069461</td>\n",
       "      <td>NaN</td>\n",
       "      <td>0.069461</td>\n",
       "      <td>NaN</td>\n",
       "    </tr>\n",
       "    <tr>\n",
       "      <th>26</th>\n",
       "      <td>cdc_ParCPM</td>\n",
       "      <td>K_DoesAlgSupportWeightTestLFR_uw1</td>\n",
       "      <td>K_DoesAlgSupportWeightTestLFR_w1</td>\n",
       "      <td>1.000000</td>\n",
       "      <td>False</td>\n",
       "      <td>False</td>\n",
       "      <td>1.0</td>\n",
       "      <td>1.0</td>\n",
       "      <td>NaN</td>\n",
       "      <td>-1.000000</td>\n",
       "      <td>NaN</td>\n",
       "      <td>-1.000000</td>\n",
       "      <td>NaN</td>\n",
       "    </tr>\n",
       "    <tr>\n",
       "      <th>27</th>\n",
       "      <td>cdc_SVINET</td>\n",
       "      <td>K_DoesAlgSupportWeightTestLFR_uw1</td>\n",
       "      <td>K_DoesAlgSupportWeightTestLFR_w1</td>\n",
       "      <td>0.494006</td>\n",
       "      <td>True</td>\n",
       "      <td>True</td>\n",
       "      <td>6.0</td>\n",
       "      <td>6.0</td>\n",
       "      <td>1.000000</td>\n",
       "      <td>0.538509</td>\n",
       "      <td>0.450928</td>\n",
       "      <td>0.603295</td>\n",
       "      <td>0.450928</td>\n",
       "    </tr>\n",
       "    <tr>\n",
       "      <th>28</th>\n",
       "      <td>cdc_TopGC</td>\n",
       "      <td>K_DoesAlgSupportWeightTestLFR_uw1</td>\n",
       "      <td>K_DoesAlgSupportWeightTestLFR_w1</td>\n",
       "      <td>0.777967</td>\n",
       "      <td>True</td>\n",
       "      <td>True</td>\n",
       "      <td>15.0</td>\n",
       "      <td>8.0</td>\n",
       "      <td>0.129014</td>\n",
       "      <td>0.782013</td>\n",
       "      <td>0.437802</td>\n",
       "      <td>0.915498</td>\n",
       "      <td>0.446399</td>\n",
       "    </tr>\n",
       "    <tr>\n",
       "      <th>29</th>\n",
       "      <td>cdc_clique_modularity</td>\n",
       "      <td>K_DoesAlgSupportWeightTestLFR_uw1</td>\n",
       "      <td>K_DoesAlgSupportWeightTestLFR_w1</td>\n",
       "      <td>1.000000</td>\n",
       "      <td>False</td>\n",
       "      <td>False</td>\n",
       "      <td>10.0</td>\n",
       "      <td>10.0</td>\n",
       "      <td>1.000000</td>\n",
       "      <td>0.963456</td>\n",
       "      <td>0.895497</td>\n",
       "      <td>0.963456</td>\n",
       "      <td>0.895497</td>\n",
       "    </tr>\n",
       "    <tr>\n",
       "      <th>30</th>\n",
       "      <td>cgcc_CGGC</td>\n",
       "      <td>K_DoesAlgSupportWeightTestLFR_uw1</td>\n",
       "      <td>K_DoesAlgSupportWeightTestLFR_w1</td>\n",
       "      <td>1.000000</td>\n",
       "      <td>False</td>\n",
       "      <td>False</td>\n",
       "      <td>5.0</td>\n",
       "      <td>5.0</td>\n",
       "      <td>1.000000</td>\n",
       "      <td>0.948204</td>\n",
       "      <td>0.866881</td>\n",
       "      <td>0.948204</td>\n",
       "      <td>0.866881</td>\n",
       "    </tr>\n",
       "    <tr>\n",
       "      <th>31</th>\n",
       "      <td>dct_dlplm</td>\n",
       "      <td>K_DoesAlgSupportWeightTestLFR_uw1</td>\n",
       "      <td>K_DoesAlgSupportWeightTestLFR_w1</td>\n",
       "      <td>1.000000</td>\n",
       "      <td>False</td>\n",
       "      <td>False</td>\n",
       "      <td>6.0</td>\n",
       "      <td>6.0</td>\n",
       "      <td>1.000000</td>\n",
       "      <td>1.000000</td>\n",
       "      <td>1.000000</td>\n",
       "      <td>1.000000</td>\n",
       "      <td>1.000000</td>\n",
       "    </tr>\n",
       "    <tr>\n",
       "      <th>32</th>\n",
       "      <td>dct_dlslm</td>\n",
       "      <td>K_DoesAlgSupportWeightTestLFR_uw1</td>\n",
       "      <td>K_DoesAlgSupportWeightTestLFR_w1</td>\n",
       "      <td>1.000000</td>\n",
       "      <td>False</td>\n",
       "      <td>False</td>\n",
       "      <td>6.0</td>\n",
       "      <td>6.0</td>\n",
       "      <td>1.000000</td>\n",
       "      <td>1.000000</td>\n",
       "      <td>1.000000</td>\n",
       "      <td>1.000000</td>\n",
       "      <td>1.000000</td>\n",
       "    </tr>\n",
       "    <tr>\n",
       "      <th>33</th>\n",
       "      <td>dct_dlslm_map_eq</td>\n",
       "      <td>K_DoesAlgSupportWeightTestLFR_uw1</td>\n",
       "      <td>K_DoesAlgSupportWeightTestLFR_w1</td>\n",
       "      <td>1.000000</td>\n",
       "      <td>False</td>\n",
       "      <td>False</td>\n",
       "      <td>6.0</td>\n",
       "      <td>6.0</td>\n",
       "      <td>1.000000</td>\n",
       "      <td>1.000000</td>\n",
       "      <td>1.000000</td>\n",
       "      <td>1.000000</td>\n",
       "      <td>1.000000</td>\n",
       "    </tr>\n",
       "    <tr>\n",
       "      <th>34</th>\n",
       "      <td>dct_dlslm_no_contraction</td>\n",
       "      <td>K_DoesAlgSupportWeightTestLFR_uw1</td>\n",
       "      <td>K_DoesAlgSupportWeightTestLFR_w1</td>\n",
       "      <td>1.000000</td>\n",
       "      <td>False</td>\n",
       "      <td>False</td>\n",
       "      <td>6.0</td>\n",
       "      <td>6.0</td>\n",
       "      <td>1.000000</td>\n",
       "      <td>1.000000</td>\n",
       "      <td>1.000000</td>\n",
       "      <td>1.000000</td>\n",
       "      <td>1.000000</td>\n",
       "    </tr>\n",
       "    <tr>\n",
       "      <th>35</th>\n",
       "      <td>dct_dlslm_with_seq</td>\n",
       "      <td>K_DoesAlgSupportWeightTestLFR_uw1</td>\n",
       "      <td>K_DoesAlgSupportWeightTestLFR_w1</td>\n",
       "      <td>1.000000</td>\n",
       "      <td>False</td>\n",
       "      <td>False</td>\n",
       "      <td>6.0</td>\n",
       "      <td>6.0</td>\n",
       "      <td>1.000000</td>\n",
       "      <td>1.000000</td>\n",
       "      <td>1.000000</td>\n",
       "      <td>1.000000</td>\n",
       "      <td>1.000000</td>\n",
       "    </tr>\n",
       "    <tr>\n",
       "      <th>36</th>\n",
       "      <td>dct_infomap</td>\n",
       "      <td>K_DoesAlgSupportWeightTestLFR_uw1</td>\n",
       "      <td>K_DoesAlgSupportWeightTestLFR_w1</td>\n",
       "      <td>1.000000</td>\n",
       "      <td>False</td>\n",
       "      <td>False</td>\n",
       "      <td>6.0</td>\n",
       "      <td>6.0</td>\n",
       "      <td>1.000000</td>\n",
       "      <td>1.000000</td>\n",
       "      <td>1.000000</td>\n",
       "      <td>1.000000</td>\n",
       "      <td>1.000000</td>\n",
       "    </tr>\n",
       "    <tr>\n",
       "      <th>37</th>\n",
       "      <td>dct_seq_louvain</td>\n",
       "      <td>K_DoesAlgSupportWeightTestLFR_uw1</td>\n",
       "      <td>K_DoesAlgSupportWeightTestLFR_w1</td>\n",
       "      <td>1.000000</td>\n",
       "      <td>False</td>\n",
       "      <td>False</td>\n",
       "      <td>6.0</td>\n",
       "      <td>6.0</td>\n",
       "      <td>1.000000</td>\n",
       "      <td>1.000000</td>\n",
       "      <td>1.000000</td>\n",
       "      <td>1.000000</td>\n",
       "      <td>1.000000</td>\n",
       "    </tr>\n",
       "    <tr>\n",
       "      <th>38</th>\n",
       "      <td>igraph_community_edge_betweenness</td>\n",
       "      <td>K_DoesAlgSupportWeightTestLFR_uw1</td>\n",
       "      <td>K_DoesAlgSupportWeightTestLFR_w1</td>\n",
       "      <td>1.000000</td>\n",
       "      <td>False</td>\n",
       "      <td>False</td>\n",
       "      <td>6.0</td>\n",
       "      <td>6.0</td>\n",
       "      <td>1.000000</td>\n",
       "      <td>1.000000</td>\n",
       "      <td>1.000000</td>\n",
       "      <td>1.000000</td>\n",
       "      <td>1.000000</td>\n",
       "    </tr>\n",
       "    <tr>\n",
       "      <th>39</th>\n",
       "      <td>igraph_community_fastgreedy</td>\n",
       "      <td>K_DoesAlgSupportWeightTestLFR_uw1</td>\n",
       "      <td>K_DoesAlgSupportWeightTestLFR_w1</td>\n",
       "      <td>0.851398</td>\n",
       "      <td>False</td>\n",
       "      <td>False</td>\n",
       "      <td>6.0</td>\n",
       "      <td>5.0</td>\n",
       "      <td>0.745612</td>\n",
       "      <td>0.981289</td>\n",
       "      <td>0.970777</td>\n",
       "      <td>0.871035</td>\n",
       "      <td>0.769053</td>\n",
       "    </tr>\n",
       "    <tr>\n",
       "      <th>40</th>\n",
       "      <td>igraph_community_infomap</td>\n",
       "      <td>K_DoesAlgSupportWeightTestLFR_uw1</td>\n",
       "      <td>K_DoesAlgSupportWeightTestLFR_w1</td>\n",
       "      <td>1.000000</td>\n",
       "      <td>False</td>\n",
       "      <td>False</td>\n",
       "      <td>6.0</td>\n",
       "      <td>6.0</td>\n",
       "      <td>1.000000</td>\n",
       "      <td>1.000000</td>\n",
       "      <td>1.000000</td>\n",
       "      <td>1.000000</td>\n",
       "      <td>1.000000</td>\n",
       "    </tr>\n",
       "    <tr>\n",
       "      <th>41</th>\n",
       "      <td>igraph_community_label_propagation</td>\n",
       "      <td>K_DoesAlgSupportWeightTestLFR_uw1</td>\n",
       "      <td>K_DoesAlgSupportWeightTestLFR_w1</td>\n",
       "      <td>0.821086</td>\n",
       "      <td>False</td>\n",
       "      <td>False</td>\n",
       "      <td>6.0</td>\n",
       "      <td>4.0</td>\n",
       "      <td>0.623085</td>\n",
       "      <td>1.000000</td>\n",
       "      <td>1.000000</td>\n",
       "      <td>0.821086</td>\n",
       "      <td>0.623085</td>\n",
       "    </tr>\n",
       "    <tr>\n",
       "      <th>42</th>\n",
       "      <td>igraph_community_leading_eigenvector</td>\n",
       "      <td>K_DoesAlgSupportWeightTestLFR_uw1</td>\n",
       "      <td>K_DoesAlgSupportWeightTestLFR_w1</td>\n",
       "      <td>0.795258</td>\n",
       "      <td>False</td>\n",
       "      <td>False</td>\n",
       "      <td>10.0</td>\n",
       "      <td>12.0</td>\n",
       "      <td>0.596809</td>\n",
       "      <td>0.811043</td>\n",
       "      <td>0.624441</td>\n",
       "      <td>0.859535</td>\n",
       "      <td>0.655554</td>\n",
       "    </tr>\n",
       "    <tr>\n",
       "      <th>43</th>\n",
       "      <td>igraph_community_multilevel</td>\n",
       "      <td>K_DoesAlgSupportWeightTestLFR_uw1</td>\n",
       "      <td>K_DoesAlgSupportWeightTestLFR_w1</td>\n",
       "      <td>1.000000</td>\n",
       "      <td>False</td>\n",
       "      <td>False</td>\n",
       "      <td>6.0</td>\n",
       "      <td>6.0</td>\n",
       "      <td>1.000000</td>\n",
       "      <td>1.000000</td>\n",
       "      <td>1.000000</td>\n",
       "      <td>1.000000</td>\n",
       "      <td>1.000000</td>\n",
       "    </tr>\n",
       "    <tr>\n",
       "      <th>44</th>\n",
       "      <td>igraph_community_optimal_modularity</td>\n",
       "      <td>K_DoesAlgSupportWeightTestLFR_uw1</td>\n",
       "      <td>K_DoesAlgSupportWeightTestLFR_w1</td>\n",
       "      <td>1.000000</td>\n",
       "      <td>False</td>\n",
       "      <td>False</td>\n",
       "      <td>6.0</td>\n",
       "      <td>6.0</td>\n",
       "      <td>1.000000</td>\n",
       "      <td>1.000000</td>\n",
       "      <td>1.000000</td>\n",
       "      <td>1.000000</td>\n",
       "      <td>1.000000</td>\n",
       "    </tr>\n",
       "    <tr>\n",
       "      <th>45</th>\n",
       "      <td>igraph_community_spinglass</td>\n",
       "      <td>K_DoesAlgSupportWeightTestLFR_uw1</td>\n",
       "      <td>K_DoesAlgSupportWeightTestLFR_w1</td>\n",
       "      <td>0.981044</td>\n",
       "      <td>False</td>\n",
       "      <td>False</td>\n",
       "      <td>7.0</td>\n",
       "      <td>7.0</td>\n",
       "      <td>0.953976</td>\n",
       "      <td>0.990361</td>\n",
       "      <td>0.970293</td>\n",
       "      <td>0.990593</td>\n",
       "      <td>0.970592</td>\n",
       "    </tr>\n",
       "    <tr>\n",
       "      <th>46</th>\n",
       "      <td>igraph_community_walktrap</td>\n",
       "      <td>K_DoesAlgSupportWeightTestLFR_uw1</td>\n",
       "      <td>K_DoesAlgSupportWeightTestLFR_w1</td>\n",
       "      <td>1.000000</td>\n",
       "      <td>False</td>\n",
       "      <td>False</td>\n",
       "      <td>6.0</td>\n",
       "      <td>6.0</td>\n",
       "      <td>1.000000</td>\n",
       "      <td>1.000000</td>\n",
       "      <td>1.000000</td>\n",
       "      <td>1.000000</td>\n",
       "      <td>1.000000</td>\n",
       "    </tr>\n",
       "    <tr>\n",
       "      <th>47</th>\n",
       "      <td>mcl_MCL</td>\n",
       "      <td>K_DoesAlgSupportWeightTestLFR_uw1</td>\n",
       "      <td>K_DoesAlgSupportWeightTestLFR_w1</td>\n",
       "      <td>1.000000</td>\n",
       "      <td>False</td>\n",
       "      <td>False</td>\n",
       "      <td>6.0</td>\n",
       "      <td>6.0</td>\n",
       "      <td>1.000000</td>\n",
       "      <td>1.000000</td>\n",
       "      <td>1.000000</td>\n",
       "      <td>1.000000</td>\n",
       "      <td>1.000000</td>\n",
       "    </tr>\n",
       "    <tr>\n",
       "      <th>48</th>\n",
       "      <td>networkit_CutClustering</td>\n",
       "      <td>K_DoesAlgSupportWeightTestLFR_uw1</td>\n",
       "      <td>K_DoesAlgSupportWeightTestLFR_w1</td>\n",
       "      <td>1.000000</td>\n",
       "      <td>False</td>\n",
       "      <td>False</td>\n",
       "      <td>1.0</td>\n",
       "      <td>1.0</td>\n",
       "      <td>NaN</td>\n",
       "      <td>-1.000000</td>\n",
       "      <td>NaN</td>\n",
       "      <td>-1.000000</td>\n",
       "      <td>NaN</td>\n",
       "    </tr>\n",
       "    <tr>\n",
       "      <th>49</th>\n",
       "      <td>networkit_LPDegreeOrdered</td>\n",
       "      <td>K_DoesAlgSupportWeightTestLFR_uw1</td>\n",
       "      <td>K_DoesAlgSupportWeightTestLFR_w1</td>\n",
       "      <td>1.000000</td>\n",
       "      <td>False</td>\n",
       "      <td>False</td>\n",
       "      <td>6.0</td>\n",
       "      <td>6.0</td>\n",
       "      <td>1.000000</td>\n",
       "      <td>1.000000</td>\n",
       "      <td>1.000000</td>\n",
       "      <td>1.000000</td>\n",
       "      <td>1.000000</td>\n",
       "    </tr>\n",
       "    <tr>\n",
       "      <th>50</th>\n",
       "      <td>networkit_PLM</td>\n",
       "      <td>K_DoesAlgSupportWeightTestLFR_uw1</td>\n",
       "      <td>K_DoesAlgSupportWeightTestLFR_w1</td>\n",
       "      <td>1.000000</td>\n",
       "      <td>False</td>\n",
       "      <td>False</td>\n",
       "      <td>6.0</td>\n",
       "      <td>6.0</td>\n",
       "      <td>1.000000</td>\n",
       "      <td>1.000000</td>\n",
       "      <td>1.000000</td>\n",
       "      <td>1.000000</td>\n",
       "      <td>1.000000</td>\n",
       "    </tr>\n",
       "    <tr>\n",
       "      <th>51</th>\n",
       "      <td>networkit_PLP</td>\n",
       "      <td>K_DoesAlgSupportWeightTestLFR_uw1</td>\n",
       "      <td>K_DoesAlgSupportWeightTestLFR_w1</td>\n",
       "      <td>0.811679</td>\n",
       "      <td>False</td>\n",
       "      <td>False</td>\n",
       "      <td>4.0</td>\n",
       "      <td>6.0</td>\n",
       "      <td>0.608563</td>\n",
       "      <td>0.811679</td>\n",
       "      <td>0.608563</td>\n",
       "      <td>1.000000</td>\n",
       "      <td>1.000000</td>\n",
       "    </tr>\n",
       "    <tr>\n",
       "      <th>52</th>\n",
       "      <td>alg_GossipMap</td>\n",
       "      <td>K_DoesAlgSupportWeightTestLFR_uw1</td>\n",
       "      <td>K_DoesAlgSupportWeightTestLFR_w1</td>\n",
       "      <td>-0.750000</td>\n",
       "      <td>False</td>\n",
       "      <td>False</td>\n",
       "      <td>1.0</td>\n",
       "      <td>5.0</td>\n",
       "      <td>NaN</td>\n",
       "      <td>-1.000000</td>\n",
       "      <td>NaN</td>\n",
       "      <td>0.907786</td>\n",
       "      <td>0.767920</td>\n",
       "    </tr>\n",
       "    <tr>\n",
       "      <th>53</th>\n",
       "      <td>alg_RelaxMap</td>\n",
       "      <td>K_DoesAlgSupportWeightTestLFR_uw1</td>\n",
       "      <td>K_DoesAlgSupportWeightTestLFR_w1</td>\n",
       "      <td>1.000000</td>\n",
       "      <td>False</td>\n",
       "      <td>False</td>\n",
       "      <td>1.0</td>\n",
       "      <td>1.0</td>\n",
       "      <td>NaN</td>\n",
       "      <td>-1.000000</td>\n",
       "      <td>NaN</td>\n",
       "      <td>-1.000000</td>\n",
       "      <td>NaN</td>\n",
       "    </tr>\n",
       "    <tr>\n",
       "      <th>54</th>\n",
       "      <td>alg_pg_label_propagation</td>\n",
       "      <td>K_DoesAlgSupportWeightTestLFR_uw1</td>\n",
       "      <td>K_DoesAlgSupportWeightTestLFR_w1</td>\n",
       "      <td>0.942053</td>\n",
       "      <td>False</td>\n",
       "      <td>False</td>\n",
       "      <td>6.0</td>\n",
       "      <td>5.0</td>\n",
       "      <td>0.851540</td>\n",
       "      <td>1.000000</td>\n",
       "      <td>1.000000</td>\n",
       "      <td>0.942053</td>\n",
       "      <td>0.851540</td>\n",
       "    </tr>\n",
       "    <tr>\n",
       "      <th>55</th>\n",
       "      <td>scan_AnyScan_Scan</td>\n",
       "      <td>K_DoesAlgSupportWeightTestLFR_uw1</td>\n",
       "      <td>K_DoesAlgSupportWeightTestLFR_w1</td>\n",
       "      <td>1.000000</td>\n",
       "      <td>False</td>\n",
       "      <td>False</td>\n",
       "      <td>7.0</td>\n",
       "      <td>7.0</td>\n",
       "      <td>1.000000</td>\n",
       "      <td>0.990361</td>\n",
       "      <td>0.970293</td>\n",
       "      <td>0.990361</td>\n",
       "      <td>0.970293</td>\n",
       "    </tr>\n",
       "    <tr>\n",
       "      <th>56</th>\n",
       "      <td>scan_AnyScan_anyScan</td>\n",
       "      <td>K_DoesAlgSupportWeightTestLFR_uw1</td>\n",
       "      <td>K_DoesAlgSupportWeightTestLFR_w1</td>\n",
       "      <td>1.000000</td>\n",
       "      <td>False</td>\n",
       "      <td>False</td>\n",
       "      <td>7.0</td>\n",
       "      <td>7.0</td>\n",
       "      <td>1.000000</td>\n",
       "      <td>0.990361</td>\n",
       "      <td>0.970293</td>\n",
       "      <td>0.990361</td>\n",
       "      <td>0.970293</td>\n",
       "    </tr>\n",
       "    <tr>\n",
       "      <th>57</th>\n",
       "      <td>scan_AnyScan_anyScanParl</td>\n",
       "      <td>K_DoesAlgSupportWeightTestLFR_uw1</td>\n",
       "      <td>K_DoesAlgSupportWeightTestLFR_w1</td>\n",
       "      <td>1.000000</td>\n",
       "      <td>False</td>\n",
       "      <td>False</td>\n",
       "      <td>7.0</td>\n",
       "      <td>7.0</td>\n",
       "      <td>1.000000</td>\n",
       "      <td>0.990361</td>\n",
       "      <td>0.970293</td>\n",
       "      <td>0.990361</td>\n",
       "      <td>0.970293</td>\n",
       "    </tr>\n",
       "    <tr>\n",
       "      <th>58</th>\n",
       "      <td>scan_AnyScan_pScan</td>\n",
       "      <td>K_DoesAlgSupportWeightTestLFR_uw1</td>\n",
       "      <td>K_DoesAlgSupportWeightTestLFR_w1</td>\n",
       "      <td>1.000000</td>\n",
       "      <td>False</td>\n",
       "      <td>False</td>\n",
       "      <td>7.0</td>\n",
       "      <td>7.0</td>\n",
       "      <td>1.000000</td>\n",
       "      <td>0.990361</td>\n",
       "      <td>0.970293</td>\n",
       "      <td>0.990361</td>\n",
       "      <td>0.970293</td>\n",
       "    </tr>\n",
       "    <tr>\n",
       "      <th>59</th>\n",
       "      <td>scan_pScan</td>\n",
       "      <td>K_DoesAlgSupportWeightTestLFR_uw1</td>\n",
       "      <td>K_DoesAlgSupportWeightTestLFR_w1</td>\n",
       "      <td>1.000000</td>\n",
       "      <td>False</td>\n",
       "      <td>False</td>\n",
       "      <td>6.0</td>\n",
       "      <td>6.0</td>\n",
       "      <td>1.000000</td>\n",
       "      <td>1.000000</td>\n",
       "      <td>0.915952</td>\n",
       "      <td>1.000000</td>\n",
       "      <td>0.915952</td>\n",
       "    </tr>\n",
       "    <tr>\n",
       "      <th>60</th>\n",
       "      <td>scan_ppScan</td>\n",
       "      <td>K_DoesAlgSupportWeightTestLFR_uw1</td>\n",
       "      <td>K_DoesAlgSupportWeightTestLFR_w1</td>\n",
       "      <td>1.000000</td>\n",
       "      <td>False</td>\n",
       "      <td>False</td>\n",
       "      <td>6.0</td>\n",
       "      <td>6.0</td>\n",
       "      <td>1.000000</td>\n",
       "      <td>1.000000</td>\n",
       "      <td>0.915952</td>\n",
       "      <td>1.000000</td>\n",
       "      <td>0.915952</td>\n",
       "    </tr>\n",
       "    <tr>\n",
       "      <th>61</th>\n",
       "      <td>scan_ppScanSSE</td>\n",
       "      <td>K_DoesAlgSupportWeightTestLFR_uw1</td>\n",
       "      <td>K_DoesAlgSupportWeightTestLFR_w1</td>\n",
       "      <td>1.000000</td>\n",
       "      <td>False</td>\n",
       "      <td>False</td>\n",
       "      <td>6.0</td>\n",
       "      <td>6.0</td>\n",
       "      <td>1.000000</td>\n",
       "      <td>1.000000</td>\n",
       "      <td>0.915952</td>\n",
       "      <td>1.000000</td>\n",
       "      <td>0.915952</td>\n",
       "    </tr>\n",
       "    <tr>\n",
       "      <th>62</th>\n",
       "      <td>sklearn_AffinityPropagation</td>\n",
       "      <td>K_DoesAlgSupportWeightTestLFR_uw1</td>\n",
       "      <td>K_DoesAlgSupportWeightTestLFR_w1</td>\n",
       "      <td>0.506286</td>\n",
       "      <td>False</td>\n",
       "      <td>False</td>\n",
       "      <td>8.0</td>\n",
       "      <td>9.0</td>\n",
       "      <td>0.305741</td>\n",
       "      <td>0.702862</td>\n",
       "      <td>0.535835</td>\n",
       "      <td>0.664945</td>\n",
       "      <td>0.518383</td>\n",
       "    </tr>\n",
       "    <tr>\n",
       "      <th>63</th>\n",
       "      <td>sklearn_SpectralClustering</td>\n",
       "      <td>K_DoesAlgSupportWeightTestLFR_uw1</td>\n",
       "      <td>K_DoesAlgSupportWeightTestLFR_w1</td>\n",
       "      <td>0.941422</td>\n",
       "      <td>False</td>\n",
       "      <td>False</td>\n",
       "      <td>8.0</td>\n",
       "      <td>8.0</td>\n",
       "      <td>0.847867</td>\n",
       "      <td>0.926410</td>\n",
       "      <td>0.805193</td>\n",
       "      <td>0.939396</td>\n",
       "      <td>0.839509</td>\n",
       "    </tr>\n",
       "    <tr>\n",
       "      <th>64</th>\n",
       "      <td>snap_Clauset_Newman_Moore</td>\n",
       "      <td>K_DoesAlgSupportWeightTestLFR_uw1</td>\n",
       "      <td>K_DoesAlgSupportWeightTestLFR_w1</td>\n",
       "      <td>1.000000</td>\n",
       "      <td>False</td>\n",
       "      <td>False</td>\n",
       "      <td>6.0</td>\n",
       "      <td>6.0</td>\n",
       "      <td>1.000000</td>\n",
       "      <td>0.932656</td>\n",
       "      <td>0.897022</td>\n",
       "      <td>0.932656</td>\n",
       "      <td>0.897022</td>\n",
       "    </tr>\n",
       "    <tr>\n",
       "      <th>65</th>\n",
       "      <td>snap_Girvan_Newman</td>\n",
       "      <td>K_DoesAlgSupportWeightTestLFR_uw1</td>\n",
       "      <td>K_DoesAlgSupportWeightTestLFR_w1</td>\n",
       "      <td>1.000000</td>\n",
       "      <td>False</td>\n",
       "      <td>False</td>\n",
       "      <td>6.0</td>\n",
       "      <td>6.0</td>\n",
       "      <td>1.000000</td>\n",
       "      <td>1.000000</td>\n",
       "      <td>1.000000</td>\n",
       "      <td>1.000000</td>\n",
       "      <td>1.000000</td>\n",
       "    </tr>\n",
       "    <tr>\n",
       "      <th>66</th>\n",
       "      <td>alg_Paris</td>\n",
       "      <td>K_DoesAlgSupportWeightTestLFR_uw1</td>\n",
       "      <td>K_DoesAlgSupportWeightTestLFR_w1</td>\n",
       "      <td>0.608374</td>\n",
       "      <td>False</td>\n",
       "      <td>False</td>\n",
       "      <td>6.0</td>\n",
       "      <td>6.0</td>\n",
       "      <td>0.506563</td>\n",
       "      <td>0.846775</td>\n",
       "      <td>0.780932</td>\n",
       "      <td>0.625120</td>\n",
       "      <td>0.530381</td>\n",
       "    </tr>\n",
       "    <tr>\n",
       "      <th>67</th>\n",
       "      <td>alg_lso_cluster</td>\n",
       "      <td>K_DoesAlgSupportWeightTestLFR_uw1</td>\n",
       "      <td>K_DoesAlgSupportWeightTestLFR_w1</td>\n",
       "      <td>1.000000</td>\n",
       "      <td>False</td>\n",
       "      <td>False</td>\n",
       "      <td>6.0</td>\n",
       "      <td>6.0</td>\n",
       "      <td>1.000000</td>\n",
       "      <td>1.000000</td>\n",
       "      <td>1.000000</td>\n",
       "      <td>1.000000</td>\n",
       "      <td>1.000000</td>\n",
       "    </tr>\n",
       "    <tr>\n",
       "      <th>68</th>\n",
       "      <td>alg_streamcom</td>\n",
       "      <td>K_DoesAlgSupportWeightTestLFR_uw1</td>\n",
       "      <td>K_DoesAlgSupportWeightTestLFR_w1</td>\n",
       "      <td>0.000000</td>\n",
       "      <td>False</td>\n",
       "      <td>False</td>\n",
       "      <td>72.0</td>\n",
       "      <td>1.0</td>\n",
       "      <td>NaN</td>\n",
       "      <td>0.589763</td>\n",
       "      <td>NaN</td>\n",
       "      <td>0.250000</td>\n",
       "      <td>NaN</td>\n",
       "    </tr>\n",
       "    <tr>\n",
       "      <th>69</th>\n",
       "      <td>cdc_DEMON</td>\n",
       "      <td>None</td>\n",
       "      <td>None</td>\n",
       "      <td>NaN</td>\n",
       "      <td>None</td>\n",
       "      <td>None</td>\n",
       "      <td>NaN</td>\n",
       "      <td>NaN</td>\n",
       "      <td>NaN</td>\n",
       "      <td>NaN</td>\n",
       "      <td>NaN</td>\n",
       "      <td>NaN</td>\n",
       "      <td>NaN</td>\n",
       "    </tr>\n",
       "    <tr>\n",
       "      <th>70</th>\n",
       "      <td>cdc_HDEMON</td>\n",
       "      <td>None</td>\n",
       "      <td>None</td>\n",
       "      <td>NaN</td>\n",
       "      <td>None</td>\n",
       "      <td>None</td>\n",
       "      <td>NaN</td>\n",
       "      <td>NaN</td>\n",
       "      <td>NaN</td>\n",
       "      <td>NaN</td>\n",
       "      <td>NaN</td>\n",
       "      <td>NaN</td>\n",
       "      <td>NaN</td>\n",
       "    </tr>\n",
       "    <tr>\n",
       "      <th>71</th>\n",
       "      <td>scan_Scanpp</td>\n",
       "      <td>None</td>\n",
       "      <td>None</td>\n",
       "      <td>NaN</td>\n",
       "      <td>None</td>\n",
       "      <td>None</td>\n",
       "      <td>NaN</td>\n",
       "      <td>NaN</td>\n",
       "      <td>NaN</td>\n",
       "      <td>NaN</td>\n",
       "      <td>NaN</td>\n",
       "      <td>NaN</td>\n",
       "      <td>NaN</td>\n",
       "    </tr>\n",
       "  </tbody>\n",
       "</table>\n",
       "</div>"
      ],
      "text/plain": [
       "                                     alg                              data1  \\\n",
       "0                      oslom_Infohiermap  K_DoesAlgSupportWeightTestLFR_uw1   \n",
       "1                          oslom_Infomap  K_DoesAlgSupportWeightTestLFR_uw1   \n",
       "2                            oslom_OSLOM  K_DoesAlgSupportWeightTestLFR_uw1   \n",
       "3                            oslom_copra  K_DoesAlgSupportWeightTestLFR_uw1   \n",
       "4                   oslom_louvain_method  K_DoesAlgSupportWeightTestLFR_uw1   \n",
       "5                              oslom_lpm  K_DoesAlgSupportWeightTestLFR_uw1   \n",
       "6                           oslom_modopt  K_DoesAlgSupportWeightTestLFR_uw1   \n",
       "7                        pycabem_GANXiSw  K_DoesAlgSupportWeightTestLFR_uw1   \n",
       "8                         pycabem_HiReCS  K_DoesAlgSupportWeightTestLFR_uw1   \n",
       "9                      pycabem_LabelRank  K_DoesAlgSupportWeightTestLFR_uw1   \n",
       "10                             cdc_CONGA  K_DoesAlgSupportWeightTestLFR_uw1   \n",
       "11                 cdc_CliquePercolation  K_DoesAlgSupportWeightTestLFR_uw1   \n",
       "12          cdc_Connected_Iterative_Scan  K_DoesAlgSupportWeightTestLFR_uw1   \n",
       "13                             cdc_EAGLE  K_DoesAlgSupportWeightTestLFR_uw1   \n",
       "14                           cdc_FastCpm  K_DoesAlgSupportWeightTestLFR_uw1   \n",
       "15                               cdc_GCE  K_DoesAlgSupportWeightTestLFR_uw1   \n",
       "16                   cdc_LinkCommunities  K_DoesAlgSupportWeightTestLFR_uw1   \n",
       "17                             cdc_MOSES  K_DoesAlgSupportWeightTestLFR_uw1   \n",
       "18                          cdc_MSCD_AFG  K_DoesAlgSupportWeightTestLFR_uw1   \n",
       "19                        cdc_MSCD_HSLSW  K_DoesAlgSupportWeightTestLFR_uw1   \n",
       "20                          cdc_MSCD_LFK  K_DoesAlgSupportWeightTestLFR_uw1   \n",
       "21                         cdc_MSCD_LFK2  K_DoesAlgSupportWeightTestLFR_uw1   \n",
       "22                           cdc_MSCD_RB  K_DoesAlgSupportWeightTestLFR_uw1   \n",
       "23                           cdc_MSCD_RN  K_DoesAlgSupportWeightTestLFR_uw1   \n",
       "24                           cdc_MSCD_SO  K_DoesAlgSupportWeightTestLFR_uw1   \n",
       "25                          cdc_MSCD_SOM  K_DoesAlgSupportWeightTestLFR_uw1   \n",
       "26                            cdc_ParCPM  K_DoesAlgSupportWeightTestLFR_uw1   \n",
       "27                            cdc_SVINET  K_DoesAlgSupportWeightTestLFR_uw1   \n",
       "28                             cdc_TopGC  K_DoesAlgSupportWeightTestLFR_uw1   \n",
       "29                 cdc_clique_modularity  K_DoesAlgSupportWeightTestLFR_uw1   \n",
       "30                             cgcc_CGGC  K_DoesAlgSupportWeightTestLFR_uw1   \n",
       "31                             dct_dlplm  K_DoesAlgSupportWeightTestLFR_uw1   \n",
       "32                             dct_dlslm  K_DoesAlgSupportWeightTestLFR_uw1   \n",
       "33                      dct_dlslm_map_eq  K_DoesAlgSupportWeightTestLFR_uw1   \n",
       "34              dct_dlslm_no_contraction  K_DoesAlgSupportWeightTestLFR_uw1   \n",
       "35                    dct_dlslm_with_seq  K_DoesAlgSupportWeightTestLFR_uw1   \n",
       "36                           dct_infomap  K_DoesAlgSupportWeightTestLFR_uw1   \n",
       "37                       dct_seq_louvain  K_DoesAlgSupportWeightTestLFR_uw1   \n",
       "38     igraph_community_edge_betweenness  K_DoesAlgSupportWeightTestLFR_uw1   \n",
       "39           igraph_community_fastgreedy  K_DoesAlgSupportWeightTestLFR_uw1   \n",
       "40              igraph_community_infomap  K_DoesAlgSupportWeightTestLFR_uw1   \n",
       "41    igraph_community_label_propagation  K_DoesAlgSupportWeightTestLFR_uw1   \n",
       "42  igraph_community_leading_eigenvector  K_DoesAlgSupportWeightTestLFR_uw1   \n",
       "43           igraph_community_multilevel  K_DoesAlgSupportWeightTestLFR_uw1   \n",
       "44   igraph_community_optimal_modularity  K_DoesAlgSupportWeightTestLFR_uw1   \n",
       "45            igraph_community_spinglass  K_DoesAlgSupportWeightTestLFR_uw1   \n",
       "46             igraph_community_walktrap  K_DoesAlgSupportWeightTestLFR_uw1   \n",
       "47                               mcl_MCL  K_DoesAlgSupportWeightTestLFR_uw1   \n",
       "48               networkit_CutClustering  K_DoesAlgSupportWeightTestLFR_uw1   \n",
       "49             networkit_LPDegreeOrdered  K_DoesAlgSupportWeightTestLFR_uw1   \n",
       "50                         networkit_PLM  K_DoesAlgSupportWeightTestLFR_uw1   \n",
       "51                         networkit_PLP  K_DoesAlgSupportWeightTestLFR_uw1   \n",
       "52                         alg_GossipMap  K_DoesAlgSupportWeightTestLFR_uw1   \n",
       "53                          alg_RelaxMap  K_DoesAlgSupportWeightTestLFR_uw1   \n",
       "54              alg_pg_label_propagation  K_DoesAlgSupportWeightTestLFR_uw1   \n",
       "55                     scan_AnyScan_Scan  K_DoesAlgSupportWeightTestLFR_uw1   \n",
       "56                  scan_AnyScan_anyScan  K_DoesAlgSupportWeightTestLFR_uw1   \n",
       "57              scan_AnyScan_anyScanParl  K_DoesAlgSupportWeightTestLFR_uw1   \n",
       "58                    scan_AnyScan_pScan  K_DoesAlgSupportWeightTestLFR_uw1   \n",
       "59                            scan_pScan  K_DoesAlgSupportWeightTestLFR_uw1   \n",
       "60                           scan_ppScan  K_DoesAlgSupportWeightTestLFR_uw1   \n",
       "61                        scan_ppScanSSE  K_DoesAlgSupportWeightTestLFR_uw1   \n",
       "62           sklearn_AffinityPropagation  K_DoesAlgSupportWeightTestLFR_uw1   \n",
       "63            sklearn_SpectralClustering  K_DoesAlgSupportWeightTestLFR_uw1   \n",
       "64             snap_Clauset_Newman_Moore  K_DoesAlgSupportWeightTestLFR_uw1   \n",
       "65                    snap_Girvan_Newman  K_DoesAlgSupportWeightTestLFR_uw1   \n",
       "66                             alg_Paris  K_DoesAlgSupportWeightTestLFR_uw1   \n",
       "67                       alg_lso_cluster  K_DoesAlgSupportWeightTestLFR_uw1   \n",
       "68                         alg_streamcom  K_DoesAlgSupportWeightTestLFR_uw1   \n",
       "69                             cdc_DEMON                               None   \n",
       "70                            cdc_HDEMON                               None   \n",
       "71                           scan_Scanpp                               None   \n",
       "\n",
       "                               data2    nmi_12   ovp1   ovp2   #c1   #c2  \\\n",
       "0   K_DoesAlgSupportWeightTestLFR_w1  1.000000  False  False   6.0   6.0   \n",
       "1   K_DoesAlgSupportWeightTestLFR_w1  1.000000  False  False   1.0   1.0   \n",
       "2   K_DoesAlgSupportWeightTestLFR_w1  1.000000  False  False   6.0   6.0   \n",
       "3   K_DoesAlgSupportWeightTestLFR_w1  0.815902   True   True   6.0   5.0   \n",
       "4   K_DoesAlgSupportWeightTestLFR_w1  1.000000  False  False   6.0   6.0   \n",
       "5   K_DoesAlgSupportWeightTestLFR_w1  0.942053  False  False   6.0   5.0   \n",
       "6   K_DoesAlgSupportWeightTestLFR_w1  1.000000  False  False   6.0   6.0   \n",
       "7   K_DoesAlgSupportWeightTestLFR_w1  0.834760  False  False   4.0   6.0   \n",
       "8   K_DoesAlgSupportWeightTestLFR_w1  0.488260   True  False   6.0   5.0   \n",
       "9   K_DoesAlgSupportWeightTestLFR_w1  1.000000  False  False   7.0   7.0   \n",
       "10  K_DoesAlgSupportWeightTestLFR_w1  0.161499   True   True   5.0   5.0   \n",
       "11  K_DoesAlgSupportWeightTestLFR_w1  1.000000  False  False   1.0   1.0   \n",
       "12  K_DoesAlgSupportWeightTestLFR_w1  0.740117   True   True   8.0   9.0   \n",
       "13  K_DoesAlgSupportWeightTestLFR_w1  0.924448   True   True   6.0   6.0   \n",
       "14  K_DoesAlgSupportWeightTestLFR_w1  0.981172   True   True   6.0   6.0   \n",
       "15  K_DoesAlgSupportWeightTestLFR_w1  1.000000  False  False   6.0   6.0   \n",
       "16  K_DoesAlgSupportWeightTestLFR_w1  1.000000  False  False   1.0   1.0   \n",
       "17  K_DoesAlgSupportWeightTestLFR_w1  0.948586   True   True   7.0   7.0   \n",
       "18  K_DoesAlgSupportWeightTestLFR_w1  1.000000  False  False   6.0   6.0   \n",
       "19  K_DoesAlgSupportWeightTestLFR_w1  1.000000  False  False   6.0   6.0   \n",
       "20  K_DoesAlgSupportWeightTestLFR_w1  1.000000  False   True   6.0   6.0   \n",
       "21  K_DoesAlgSupportWeightTestLFR_w1  0.987365  False  False   6.0   5.0   \n",
       "22  K_DoesAlgSupportWeightTestLFR_w1  1.000000  False  False   6.0   6.0   \n",
       "23  K_DoesAlgSupportWeightTestLFR_w1  0.906523  False  False  21.0  20.0   \n",
       "24  K_DoesAlgSupportWeightTestLFR_w1  1.000000  False  False   6.0   6.0   \n",
       "25  K_DoesAlgSupportWeightTestLFR_w1  1.000000  False  False   6.0   6.0   \n",
       "26  K_DoesAlgSupportWeightTestLFR_w1  1.000000  False  False   1.0   1.0   \n",
       "27  K_DoesAlgSupportWeightTestLFR_w1  0.494006   True   True   6.0   6.0   \n",
       "28  K_DoesAlgSupportWeightTestLFR_w1  0.777967   True   True  15.0   8.0   \n",
       "29  K_DoesAlgSupportWeightTestLFR_w1  1.000000  False  False  10.0  10.0   \n",
       "30  K_DoesAlgSupportWeightTestLFR_w1  1.000000  False  False   5.0   5.0   \n",
       "31  K_DoesAlgSupportWeightTestLFR_w1  1.000000  False  False   6.0   6.0   \n",
       "32  K_DoesAlgSupportWeightTestLFR_w1  1.000000  False  False   6.0   6.0   \n",
       "33  K_DoesAlgSupportWeightTestLFR_w1  1.000000  False  False   6.0   6.0   \n",
       "34  K_DoesAlgSupportWeightTestLFR_w1  1.000000  False  False   6.0   6.0   \n",
       "35  K_DoesAlgSupportWeightTestLFR_w1  1.000000  False  False   6.0   6.0   \n",
       "36  K_DoesAlgSupportWeightTestLFR_w1  1.000000  False  False   6.0   6.0   \n",
       "37  K_DoesAlgSupportWeightTestLFR_w1  1.000000  False  False   6.0   6.0   \n",
       "38  K_DoesAlgSupportWeightTestLFR_w1  1.000000  False  False   6.0   6.0   \n",
       "39  K_DoesAlgSupportWeightTestLFR_w1  0.851398  False  False   6.0   5.0   \n",
       "40  K_DoesAlgSupportWeightTestLFR_w1  1.000000  False  False   6.0   6.0   \n",
       "41  K_DoesAlgSupportWeightTestLFR_w1  0.821086  False  False   6.0   4.0   \n",
       "42  K_DoesAlgSupportWeightTestLFR_w1  0.795258  False  False  10.0  12.0   \n",
       "43  K_DoesAlgSupportWeightTestLFR_w1  1.000000  False  False   6.0   6.0   \n",
       "44  K_DoesAlgSupportWeightTestLFR_w1  1.000000  False  False   6.0   6.0   \n",
       "45  K_DoesAlgSupportWeightTestLFR_w1  0.981044  False  False   7.0   7.0   \n",
       "46  K_DoesAlgSupportWeightTestLFR_w1  1.000000  False  False   6.0   6.0   \n",
       "47  K_DoesAlgSupportWeightTestLFR_w1  1.000000  False  False   6.0   6.0   \n",
       "48  K_DoesAlgSupportWeightTestLFR_w1  1.000000  False  False   1.0   1.0   \n",
       "49  K_DoesAlgSupportWeightTestLFR_w1  1.000000  False  False   6.0   6.0   \n",
       "50  K_DoesAlgSupportWeightTestLFR_w1  1.000000  False  False   6.0   6.0   \n",
       "51  K_DoesAlgSupportWeightTestLFR_w1  0.811679  False  False   4.0   6.0   \n",
       "52  K_DoesAlgSupportWeightTestLFR_w1 -0.750000  False  False   1.0   5.0   \n",
       "53  K_DoesAlgSupportWeightTestLFR_w1  1.000000  False  False   1.0   1.0   \n",
       "54  K_DoesAlgSupportWeightTestLFR_w1  0.942053  False  False   6.0   5.0   \n",
       "55  K_DoesAlgSupportWeightTestLFR_w1  1.000000  False  False   7.0   7.0   \n",
       "56  K_DoesAlgSupportWeightTestLFR_w1  1.000000  False  False   7.0   7.0   \n",
       "57  K_DoesAlgSupportWeightTestLFR_w1  1.000000  False  False   7.0   7.0   \n",
       "58  K_DoesAlgSupportWeightTestLFR_w1  1.000000  False  False   7.0   7.0   \n",
       "59  K_DoesAlgSupportWeightTestLFR_w1  1.000000  False  False   6.0   6.0   \n",
       "60  K_DoesAlgSupportWeightTestLFR_w1  1.000000  False  False   6.0   6.0   \n",
       "61  K_DoesAlgSupportWeightTestLFR_w1  1.000000  False  False   6.0   6.0   \n",
       "62  K_DoesAlgSupportWeightTestLFR_w1  0.506286  False  False   8.0   9.0   \n",
       "63  K_DoesAlgSupportWeightTestLFR_w1  0.941422  False  False   8.0   8.0   \n",
       "64  K_DoesAlgSupportWeightTestLFR_w1  1.000000  False  False   6.0   6.0   \n",
       "65  K_DoesAlgSupportWeightTestLFR_w1  1.000000  False  False   6.0   6.0   \n",
       "66  K_DoesAlgSupportWeightTestLFR_w1  0.608374  False  False   6.0   6.0   \n",
       "67  K_DoesAlgSupportWeightTestLFR_w1  1.000000  False  False   6.0   6.0   \n",
       "68  K_DoesAlgSupportWeightTestLFR_w1  0.000000  False  False  72.0   1.0   \n",
       "69                              None       NaN   None   None   NaN   NaN   \n",
       "70                              None       NaN   None   None   NaN   NaN   \n",
       "71                              None       NaN   None   None   NaN   NaN   \n",
       "\n",
       "    ovpnmi_12    nmi_t1  ovpnmi_t1    nmi_t2  ovpnmi_t2  \n",
       "0    1.000000  1.000000   1.000000  1.000000   1.000000  \n",
       "1         NaN -1.000000        NaN -1.000000        NaN  \n",
       "2    1.000000  1.000000   1.000000  1.000000   1.000000  \n",
       "3    0.739941  1.000000   0.954739  0.843072   0.763155  \n",
       "4    1.000000  1.000000   1.000000  1.000000   1.000000  \n",
       "5    0.851540  1.000000   1.000000  0.942053   0.851540  \n",
       "6    1.000000  1.000000   1.000000  1.000000   1.000000  \n",
       "7    0.649826  0.834760   0.649826  1.000000   1.000000  \n",
       "8    0.353799  0.075347        NaN  0.069518        NaN  \n",
       "9    1.000000  0.957790   0.888423  0.957790   0.888423  \n",
       "10   0.260846  0.348705   0.449658  0.444944   0.428299  \n",
       "11        NaN -1.000000        NaN -1.000000        NaN  \n",
       "12   0.972460  0.816708   0.839299  0.812934   0.816185  \n",
       "13   1.000000  0.077173        NaN  0.077317        NaN  \n",
       "14   1.000000  0.925437   0.904896  0.924688   0.904896  \n",
       "15   1.000000  1.000000   1.000000  1.000000   1.000000  \n",
       "16        NaN -1.000000        NaN  0.000000        NaN  \n",
       "17   1.000000  0.956739   0.904570  0.957790   0.904570  \n",
       "18   1.000000  0.069461        NaN  0.069461        NaN  \n",
       "19   1.000000  0.069461        NaN  0.069461        NaN  \n",
       "20   0.983422  0.069461        NaN  0.066293        NaN  \n",
       "21   0.793824  0.069461        NaN  0.080395        NaN  \n",
       "22   1.000000  0.069461        NaN  0.069461        NaN  \n",
       "23   0.707707  0.194114        NaN  0.184334        NaN  \n",
       "24   1.000000  0.069461        NaN  0.069461        NaN  \n",
       "25   1.000000  0.069461        NaN  0.069461        NaN  \n",
       "26        NaN -1.000000        NaN -1.000000        NaN  \n",
       "27   1.000000  0.538509   0.450928  0.603295   0.450928  \n",
       "28   0.129014  0.782013   0.437802  0.915498   0.446399  \n",
       "29   1.000000  0.963456   0.895497  0.963456   0.895497  \n",
       "30   1.000000  0.948204   0.866881  0.948204   0.866881  \n",
       "31   1.000000  1.000000   1.000000  1.000000   1.000000  \n",
       "32   1.000000  1.000000   1.000000  1.000000   1.000000  \n",
       "33   1.000000  1.000000   1.000000  1.000000   1.000000  \n",
       "34   1.000000  1.000000   1.000000  1.000000   1.000000  \n",
       "35   1.000000  1.000000   1.000000  1.000000   1.000000  \n",
       "36   1.000000  1.000000   1.000000  1.000000   1.000000  \n",
       "37   1.000000  1.000000   1.000000  1.000000   1.000000  \n",
       "38   1.000000  1.000000   1.000000  1.000000   1.000000  \n",
       "39   0.745612  0.981289   0.970777  0.871035   0.769053  \n",
       "40   1.000000  1.000000   1.000000  1.000000   1.000000  \n",
       "41   0.623085  1.000000   1.000000  0.821086   0.623085  \n",
       "42   0.596809  0.811043   0.624441  0.859535   0.655554  \n",
       "43   1.000000  1.000000   1.000000  1.000000   1.000000  \n",
       "44   1.000000  1.000000   1.000000  1.000000   1.000000  \n",
       "45   0.953976  0.990361   0.970293  0.990593   0.970592  \n",
       "46   1.000000  1.000000   1.000000  1.000000   1.000000  \n",
       "47   1.000000  1.000000   1.000000  1.000000   1.000000  \n",
       "48        NaN -1.000000        NaN -1.000000        NaN  \n",
       "49   1.000000  1.000000   1.000000  1.000000   1.000000  \n",
       "50   1.000000  1.000000   1.000000  1.000000   1.000000  \n",
       "51   0.608563  0.811679   0.608563  1.000000   1.000000  \n",
       "52        NaN -1.000000        NaN  0.907786   0.767920  \n",
       "53        NaN -1.000000        NaN -1.000000        NaN  \n",
       "54   0.851540  1.000000   1.000000  0.942053   0.851540  \n",
       "55   1.000000  0.990361   0.970293  0.990361   0.970293  \n",
       "56   1.000000  0.990361   0.970293  0.990361   0.970293  \n",
       "57   1.000000  0.990361   0.970293  0.990361   0.970293  \n",
       "58   1.000000  0.990361   0.970293  0.990361   0.970293  \n",
       "59   1.000000  1.000000   0.915952  1.000000   0.915952  \n",
       "60   1.000000  1.000000   0.915952  1.000000   0.915952  \n",
       "61   1.000000  1.000000   0.915952  1.000000   0.915952  \n",
       "62   0.305741  0.702862   0.535835  0.664945   0.518383  \n",
       "63   0.847867  0.926410   0.805193  0.939396   0.839509  \n",
       "64   1.000000  0.932656   0.897022  0.932656   0.897022  \n",
       "65   1.000000  1.000000   1.000000  1.000000   1.000000  \n",
       "66   0.506563  0.846775   0.780932  0.625120   0.530381  \n",
       "67   1.000000  1.000000   1.000000  1.000000   1.000000  \n",
       "68        NaN  0.589763        NaN  0.250000        NaN  \n",
       "69        NaN       NaN        NaN       NaN        NaN  \n",
       "70        NaN       NaN        NaN       NaN        NaN  \n",
       "71        NaN       NaN        NaN       NaN        NaN  "
      ]
     },
     "metadata": {},
     "output_type": "display_data"
    }
   ],
   "source": [
    "rdf = pd.DataFrame(lst, columns=columns)\n",
    "for alg in  gct.list_algorithms():\n",
    "    if alg not in rdf['alg'].values:\n",
    "        lst.append([alg] + [None] * (len(columns) - 1))\n",
    "rdf = pd.DataFrame(lst, columns=columns)    \n",
    "with pd.option_context('display.max_rows', 2000, 'display.max_columns', 200):\n",
    "    display (rdf)\n"
   ]
  },
  {
   "cell_type": "code",
   "execution_count": 21,
   "metadata": {},
   "outputs": [
    {
     "name": "stderr",
     "output_type": "stream",
     "text": [
      "2020-04-22 22:17:24,971 - scan_Scanpp - INFO - seed ignored\n",
      "INFO:scan_Scanpp:seed ignored\n"
     ]
    },
    {
     "name": "stdout",
     "output_type": "stream",
     "text": [
      "runing  scan_Scanpp K_DoesAlgSupportWeightTestLFR_w1\n",
      "except scan_Scanpp K_DoesAlgSupportWeightTestLFR_w1\n"
     ]
    },
    {
     "data": {
      "text/plain": [
       "True"
      ]
     },
     "execution_count": 21,
     "metadata": {},
     "output_type": "execute_result"
    }
   ],
   "source": [
    "run_alg(\"scan_Scanpp\", \"K_DoesAlgSupportWeightTestLFR_w1\", check_skip=False)"
   ]
  },
  {
   "cell_type": "code",
   "execution_count": null,
   "metadata": {},
   "outputs": [],
   "source": []
  }
 ],
 "metadata": {
  "kernelspec": {
   "display_name": "Python [conda env:python3]",
   "language": "python",
   "name": "conda-env-python3-py"
  },
  "language_info": {
   "codemirror_mode": {
    "name": "ipython",
    "version": 3
   },
   "file_extension": ".py",
   "mimetype": "text/x-python",
   "name": "python",
   "nbconvert_exporter": "python",
   "pygments_lexer": "ipython3",
   "version": "3.6.7"
  }
 },
 "nbformat": 4,
 "nbformat_minor": 2
}
