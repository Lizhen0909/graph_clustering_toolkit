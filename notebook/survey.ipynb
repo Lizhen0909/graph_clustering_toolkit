{
 "cells": [
  {
   "cell_type": "code",
   "execution_count": null,
   "metadata": {},
   "outputs": [],
   "source": []
  },
  {
   "cell_type": "code",
   "execution_count": null,
   "metadata": {},
   "outputs": [],
   "source": []
  },
  {
   "cell_type": "markdown",
   "metadata": {},
   "source": [
    "## SCAN: A Structural Clustering Algorithm for Networks"
   ]
  },
  {
   "cell_type": "markdown",
   "metadata": {},
   "source": [
    "### what is the algorithm?\n",
    "The algorithm applies concepts of **core**  and **directly reach** to make clusters.\n",
    "\n",
    "### Complexity \n",
    "$O(#edge)$\n",
    "\n",
    "### How to evaulate?\n",
    "\n",
    "#### Efficiency( e.g. run time)\n",
    "\n",
    "generate ten graphs with the number of vertices ranging from 1,000 to 1,000,000 and the number of edges ranging from 2,182 to 2,000,190. We adapted the construction as used in [11] as follows: first we generate clusters such that each vertex connects to vertices within the same cluster with a probability Pi, and connects to vertices outside its cluster with a probability $P_o<P_i$. Next we add a number of hubs and outliers.\n",
    "\n",
    "#### Effectiveness\n",
    "\n",
    "dataset \n",
    "* American College Football \n",
    "* Books about US politics\n",
    "* Customer Data Integration (CDI)\n",
    "\n",
    "Metrics:\n",
    "adjusted Rand index (ARI) [15]\n"
   ]
  },
  {
   "cell_type": "markdown",
   "metadata": {},
   "source": [
    "## SCAN++: Efficient Algorithm for Finding Clusters, Hubs and Outliers on Large-scale Graphs"
   ]
  },
  {
   "cell_type": "markdown",
   "metadata": {},
   "source": [
    "### what is the algorithm?\n",
    "simliar to SCAN but claimed to be more efficient\n",
    "\n",
    "### Complexity \n",
    "It claimed SCAN has $ O(#edges^2 / #vetices)$\n",
    "\n",
    "$$O((2-c)/(2 \\delta +c) #edge)$$\n",
    "\n",
    "### How to evaulate?\n",
    "\n",
    "#### Efficiency( e.g. run time)\n",
    "\n",
    "use 10 real datasets from Standard Network Analysis Project2 and Laboratory of Web Algorithmics3\n",
    "\n",
    "2http://snap.stanford.edu 3http://law.di.unimi.it/datasets.php\n",
    "\n",
    "#### Effectiveness\n",
    "\n",
    "since no clustering result for the real dataset, be compared with SCAN's results.\n",
    "\n",
    "Metrics:\n",
    "adjusted Rand index (ARI) [15]\n",
    "F-measure\n",
    "\n"
   ]
  },
  {
   "cell_type": "markdown",
   "metadata": {},
   "source": [
    "## PSCAN : Fast and Exact Structural Graph Clustering\n",
    "\n",
    "### what is the algorithm?\n",
    "simliar to SCAN and SCAN++ but claimed to be more efficient\n",
    "\n",
    "### Complexity \n",
    "??\n",
    "\n",
    "### How to evaulate?\n",
    "\n",
    "#### Efficiency( e.g. run time)\n",
    "\n",
    "use 13 real datasets from Standard Network Analysis Project2 and Laboratory of Web Algorithmics3\n",
    "\n",
    "2http://snap.stanford.edu 3http://law.di.unimi.it/datasets.php\n",
    "\n",
    "#### Effectiveness\n",
    "\n",
    "modularity-based quality"
   ]
  },
  {
   "cell_type": "markdown",
   "metadata": {},
   "source": [
    "## Community structure in social and biological networks\n",
    "\n",
    "### what is the algorithm?\n",
    "We propose a method for detecting such communities, built around the idea of using centrality indices to find community boundaries\n",
    "\n",
    "### Complexity \n",
    "$O(#v^3)$\n",
    "\n",
    "### How to evaulate?\n",
    "\n",
    "some small examples without metrics\n"
   ]
  },
  {
   "cell_type": "markdown",
   "metadata": {},
   "source": [
    "## PSCAN : Fast and Exact Structural Graph Clustering\n",
    "\n",
    "### what is the algorithm?\n",
    "based on Modularity\n",
    "\n",
    "### Complexity \n",
    "$O(mdlogn)$ where $m=#edge$, $n=#v$ and $d=depth\\_of\\_dendrogram$\n",
    "\n",
    "### How to evaulate?\n",
    "\n",
    "Amazon dataset, however don't know the source."
   ]
  },
  {
   "cell_type": "markdown",
   "metadata": {},
   "source": [
    "## Variational Perspective on Local Graph Clustering\n",
    "\n",
    "### what is the algorithm?\n",
    "?\n",
    "\n",
    "### Complexity \n",
    "?\n",
    "\n",
    "### How to evaulate?\n",
    "\n",
    "based on 4 dataset from SNAP\n",
    "\n",
    "Conductance vs. cluster volume. (what is it?)\n",
    "\n",
    "### code \n",
    "It is said to be https://github.com/kfoynt/LocalGraphClustering"
   ]
  },
  {
   "cell_type": "markdown",
   "metadata": {},
   "source": [
    "## Community Structure in Large Networks: Natural Cluster Sizes and the Absence of Large Well-Defined Clusters\n",
    "\n",
    "### what is the algorithm?\n",
    "?\n",
    "\n",
    "### Complexity \n",
    "?\n",
    "\n",
    "### How to evaulate?\n",
    "\n",
    "?\n",
    "\n",
    "### code \n",
    "?"
   ]
  },
  {
   "cell_type": "markdown",
   "metadata": {},
   "source": [
    "## Hierarchical Graph Clustering using Node Pair Sampling\n",
    "\n",
    "### what is the algorithm?\n",
    "?\n",
    "\n",
    "### Complexity \n",
    "?\n",
    "\n",
    "### How to evaulate?\n",
    "\n",
    "?\n",
    "\n",
    "### code \n",
    "https://github.com/tbonald/paris"
   ]
  },
  {
   "cell_type": "markdown",
   "metadata": {},
   "source": [
    "## A Streaming Algorithm for Graph Clustering\n",
    "\n",
    "### what is the algorithm?\n",
    "?\n",
    "\n",
    "### Complexity \n",
    "?\n",
    "\n",
    "### How to evaulate?\n",
    "\n",
    "F1 score and nmi\n",
    "\n",
    "### code \n",
    "https://github.com/ahollocou/graph-streaming"
   ]
  },
  {
   "cell_type": "markdown",
   "metadata": {},
   "source": [
    "## An ensemble learning strategy for graph clustering\n",
    "\n",
    "### what is the algorithm?\n",
    "?\n",
    "\n",
    "### Complexity \n",
    "?\n",
    "\n",
    "### How to evaulate?\n",
    "\n",
    "modularity\n",
    "\n",
    "\n",
    "### code \n",
    "https://github.com/eXascaleInfolab/CGGC"
   ]
  },
  {
   "cell_type": "markdown",
   "metadata": {},
   "source": [
    "## Distributed Graph Clustering using Modularity and Map Equation\n",
    "\n",
    "### what is the algorithm?\n",
    "?\n",
    "\n",
    "### Complexity \n",
    "?\n",
    "\n",
    "### How to evaulate?\n",
    "\n",
    "?\n",
    "\n",
    "\n",
    "### code \n",
    "https://github.com/kit-algo/distributed_clustering_thrill"
   ]
  },
  {
   "cell_type": "markdown",
   "metadata": {},
   "source": [
    "## Clustering Uncertain Graphs\n",
    "\n",
    "### what is the algorithm?\n",
    "?\n",
    "\n",
    "### Complexity \n",
    "?\n",
    "\n",
    "### How to evaulate?\n",
    "\n",
    "?\n",
    "\n",
    "\n",
    "### code \n",
    "https://github.com/Cecca/ugraph"
   ]
  },
  {
   "cell_type": "markdown",
   "metadata": {},
   "source": [
    "## Bayesian Robust Attributed Graph Clustering: Joint Learning of Partial Anomalies and Group Structure\n",
    "\n",
    "### what is the algorithm?\n",
    "?\n",
    "\n",
    "### Complexity \n",
    "?\n",
    "\n",
    "### How to evaulate?\n",
    "\n",
    "?\n",
    "\n",
    "\n",
    "### code \n",
    "https://github.com/abojchevski/paican"
   ]
  },
  {
   "cell_type": "code",
   "execution_count": null,
   "metadata": {},
   "outputs": [],
   "source": [
    "## A Comparative Analysis of Community Detection Algorithms on Artificial Networks\n",
    "\n",
    "### what is the algorithm?\n",
    "?\n",
    "\n",
    "### Complexity \n",
    "?\n",
    "\n",
    "### How to evaulate?\n",
    "\n",
    "?\n",
    "\n",
    "\n",
    "### code \n"
   ]
  },
  {
   "cell_type": "markdown",
   "metadata": {},
   "source": [
    "https://github.com/SergiuTripon/msc-thesis-na-epsrc/wiki/Community-detection-algorithms:-a-comparative-analysis"
   ]
  },
  {
   "cell_type": "code",
   "execution_count": null,
   "metadata": {},
   "outputs": [],
   "source": []
  },
  {
   "cell_type": "code",
   "execution_count": null,
   "metadata": {},
   "outputs": [],
   "source": []
  },
  {
   "cell_type": "code",
   "execution_count": null,
   "metadata": {},
   "outputs": [],
   "source": []
  },
  {
   "cell_type": "code",
   "execution_count": null,
   "metadata": {},
   "outputs": [],
   "source": []
  }
 ],
 "metadata": {
  "kernelspec": {
   "display_name": "Python 2",
   "language": "python",
   "name": "python2"
  },
  "language_info": {
   "codemirror_mode": {
    "name": "ipython",
    "version": 2
   },
   "file_extension": ".py",
   "mimetype": "text/x-python",
   "name": "python",
   "nbconvert_exporter": "python",
   "pygments_lexer": "ipython2",
   "version": "2.7.14"
  }
 },
 "nbformat": 4,
 "nbformat_minor": 2
}
