{
 "cells": [
  {
   "cell_type": "code",
   "execution_count": 1,
   "metadata": {},
   "outputs": [
    {
     "data": {
      "text/html": [
       "\n",
       "\t\t\t<script type=\"text/javascript\">\n",
       "\t\t\t<!--\n",
       "\t\t\t\t\n",
       "\t\t\t{\n",
       "\t\t\t\tvar element = document.getElementById('NetworKit_script');\n",
       "\t\t\t\tif (element) {\n",
       "\t\t\t\t\telement.parentNode.removeChild(element);\n",
       "\t\t\t\t}\n",
       "\t\t\t\telement = document.createElement('script');\n",
       "\t\t\t\telement.type = 'text/javascript';\n",
       "\t\t\t\telement.innerHTML = 'function NetworKit_pageEmbed(id) { var i, j; var elements; elements = document.getElementById(id).getElementsByClassName(\"Plot\"); for (i=0; i<elements.length; i++) { elements[i].id = id + \"_Plot_\" + i; var data = elements[i].getAttribute(\"data-image\").split(\"|\"); elements[i].removeAttribute(\"data-image\"); var content = \"<div class=\\\\\"Image\\\\\" id=\\\\\"\" + elements[i].id + \"_Image\\\\\" />\"; elements[i].innerHTML = content; elements[i].setAttribute(\"data-image-index\", 0); elements[i].setAttribute(\"data-image-length\", data.length); for (j=0; j<data.length; j++) { elements[i].setAttribute(\"data-image-\" + j, data[j]); } NetworKit_plotUpdate(elements[i]); elements[i].onclick = function (e) { NetworKit_overlayShow((e.target) ? e.target : e.srcElement); } } elements = document.getElementById(id).getElementsByClassName(\"HeatCell\"); for (i=0; i<elements.length; i++) { var data = parseFloat(elements[i].getAttribute(\"data-heat\")); var color = \"#00FF00\"; if (data <= 1 && data > 0) { color = \"hsla(0, 100%, 75%, \" + (data) + \")\"; } else if (data <= 0 && data >= -1) { color = \"hsla(240, 100%, 75%, \" + (-data) + \")\"; } elements[i].style.backgroundColor = color; } elements = document.getElementById(id).getElementsByClassName(\"Details\"); for (i=0; i<elements.length; i++) { elements[i].setAttribute(\"data-title\", \"-\"); NetworKit_toggleDetails(elements[i]); elements[i].onclick = function (e) { NetworKit_toggleDetails((e.target) ? e.target : e.srcElement); } } elements = document.getElementById(id).getElementsByClassName(\"MathValue\"); for (i=elements.length-1; i>=0; i--) { value = elements[i].innerHTML.trim(); if (value === \"nan\") { elements[i].parentNode.innerHTML = \"\" } } elements = document.getElementById(id).getElementsByClassName(\"SubCategory\"); for (i=elements.length-1; i>=0; i--) { value = elements[i].innerHTML.trim(); if (value === \"\") { elements[i].parentNode.removeChild(elements[i]) } } elements = document.getElementById(id).getElementsByClassName(\"Category\"); for (i=elements.length-1; i>=0; i--) { value = elements[i].innerHTML.trim(); if (value === \"\") { elements[i].parentNode.removeChild(elements[i]) } } var isFirefox = false; try { isFirefox = typeof InstallTrigger !== \"undefined\"; } catch (e) {} if (!isFirefox) { alert(\"Currently the function\\'s output is only fully supported by Firefox.\"); } } function NetworKit_plotUpdate(source) { var index = source.getAttribute(\"data-image-index\"); var data = source.getAttribute(\"data-image-\" + index); var image = document.getElementById(source.id + \"_Image\"); image.style.backgroundImage = \"url(\" + data + \")\"; } function NetworKit_showElement(id, show) { var element = document.getElementById(id); element.style.display = (show) ? \"block\" : \"none\"; } function NetworKit_overlayShow(source) { NetworKit_overlayUpdate(source); NetworKit_showElement(\"NetworKit_Overlay\", true); } function NetworKit_overlayUpdate(source) { document.getElementById(\"NetworKit_Overlay_Title\").innerHTML = source.title; var index = source.getAttribute(\"data-image-index\"); var data = source.getAttribute(\"data-image-\" + index); var image = document.getElementById(\"NetworKit_Overlay_Image\"); image.setAttribute(\"data-id\", source.id); image.style.backgroundImage = \"url(\" + data + \")\"; var link = document.getElementById(\"NetworKit_Overlay_Toolbar_Bottom_Save\"); link.href = data; link.download = source.title + \".svg\"; } function NetworKit_overlayImageShift(delta) { var image = document.getElementById(\"NetworKit_Overlay_Image\"); var source = document.getElementById(image.getAttribute(\"data-id\")); var index = parseInt(source.getAttribute(\"data-image-index\")); var length = parseInt(source.getAttribute(\"data-image-length\")); var index = (index+delta) % length; if (index < 0) { index = length + index; } source.setAttribute(\"data-image-index\", index); NetworKit_overlayUpdate(source); } function NetworKit_toggleDetails(source) { var childs = source.children; var show = false; if (source.getAttribute(\"data-title\") == \"-\") { source.setAttribute(\"data-title\", \"+\"); show = false; } else { source.setAttribute(\"data-title\", \"-\"); show = true; } for (i=0; i<childs.length; i++) { if (show) { childs[i].style.display = \"block\"; } else { childs[i].style.display = \"none\"; } } }';\n",
       "\t\t\t\telement.setAttribute('id', 'NetworKit_script');\n",
       "\t\t\t\tdocument.head.appendChild(element);\n",
       "\t\t\t}\n",
       "\t\t\n",
       "\t\t\t\t\n",
       "\t\t\t{\n",
       "\t\t\t\tvar element = document.getElementById('NetworKit_style');\n",
       "\t\t\t\tif (element) {\n",
       "\t\t\t\t\telement.parentNode.removeChild(element);\n",
       "\t\t\t\t}\n",
       "\t\t\t\telement = document.createElement('style');\n",
       "\t\t\t\telement.type = 'text/css';\n",
       "\t\t\t\telement.innerHTML = '.NetworKit_Page { font-family: Arial, Helvetica, sans-serif; font-size: 14px; } .NetworKit_Page .Value:before { font-family: Arial, Helvetica, sans-serif; font-size: 1.05em; content: attr(data-title) \":\"; margin-left: -2.5em; padding-right: 0.5em; } .NetworKit_Page .Details .Value:before { display: block; } .NetworKit_Page .Value { font-family: monospace; white-space: pre; padding-left: 2.5em; white-space: -moz-pre-wrap !important; white-space: -pre-wrap; white-space: -o-pre-wrap; white-space: pre-wrap; word-wrap: break-word; tab-size: 4; -moz-tab-size: 4; } .NetworKit_Page .Category { clear: both; padding-left: 1em; margin-bottom: 1.5em; } .NetworKit_Page .Category:before { content: attr(data-title); font-size: 1.75em; display: block; margin-left: -0.8em; margin-bottom: 0.5em; } .NetworKit_Page .SubCategory { margin-bottom: 1.5em; padding-left: 1em; } .NetworKit_Page .SubCategory:before { font-size: 1.6em; display: block; margin-left: -0.8em; margin-bottom: 0.5em; } .NetworKit_Page .SubCategory[data-title]:before { content: attr(data-title); } .NetworKit_Page .Block { display: block; } .NetworKit_Page .Block:after { content: \".\"; visibility: hidden; display: block; height: 0; clear: both; } .NetworKit_Page .Block .Thumbnail_Overview, .NetworKit_Page .Block .Thumbnail_ScatterPlot { width: 260px; float: left; } .NetworKit_Page .Block .Thumbnail_Overview img, .NetworKit_Page .Block .Thumbnail_ScatterPlot img { width: 260px; } .NetworKit_Page .Block .Thumbnail_Overview:before, .NetworKit_Page .Block .Thumbnail_ScatterPlot:before { display: block; text-align: center; font-weight: bold; } .NetworKit_Page .Block .Thumbnail_Overview:before { content: attr(data-title); } .NetworKit_Page .HeatCell { font-family: \"Courier New\", Courier, monospace; cursor: pointer; } .NetworKit_Page .HeatCell, .NetworKit_Page .HeatCellName { display: inline; padding: 0.1em; margin-right: 2px; background-color: #FFFFFF } .NetworKit_Page .HeatCellName { margin-left: 0.25em; } .NetworKit_Page .HeatCell:before { content: attr(data-heat); display: inline-block; color: #000000; width: 4em; text-align: center; } .NetworKit_Page .Measure { clear: both; } .NetworKit_Page .Measure .Details { cursor: pointer; } .NetworKit_Page .Measure .Details:before { content: \"[\" attr(data-title) \"]\"; display: block; } .NetworKit_Page .Measure .Details .Value { border-left: 1px dotted black; margin-left: 0.4em; padding-left: 3.5em; pointer-events: none; } .NetworKit_Page .Measure .Details .Spacer:before { content: \".\"; opacity: 0.0; pointer-events: none; } .NetworKit_Page .Measure .Plot { width: 440px; height: 440px; cursor: pointer; float: left; margin-left: -0.9em; margin-right: 20px; } .NetworKit_Page .Measure .Plot .Image { background-repeat: no-repeat; background-position: center center; background-size: contain; height: 100%; pointer-events: none; } .NetworKit_Page .Measure .Stat { width: 500px; float: left; } .NetworKit_Page .Measure .Stat .Group { padding-left: 1.25em; margin-bottom: 0.75em; } .NetworKit_Page .Measure .Stat .Group .Title { font-size: 1.1em; display: block; margin-bottom: 0.3em; margin-left: -0.75em; border-right-style: dotted; border-right-width: 1px; border-bottom-style: dotted; border-bottom-width: 1px; background-color: #D0D0D0; padding-left: 0.2em; } .NetworKit_Page .Measure .Stat .Group .List { -webkit-column-count: 3; -moz-column-count: 3; column-count: 3; } .NetworKit_Page .Measure .Stat .Group .List .Entry { position: relative; line-height: 1.75em; } .NetworKit_Page .Measure .Stat .Group .List .Entry[data-tooltip]:before { position: absolute; left: 0; top: -40px; background-color: #808080; color: #ffffff; height: 30px; line-height: 30px; border-radius: 5px; padding: 0 15px; content: attr(data-tooltip); white-space: nowrap; display: none; } .NetworKit_Page .Measure .Stat .Group .List .Entry[data-tooltip]:after { position: absolute; left: 15px; top: -10px; border-top: 7px solid #808080; border-left: 7px solid transparent; border-right: 7px solid transparent; content: \"\"; display: none; } .NetworKit_Page .Measure .Stat .Group .List .Entry[data-tooltip]:hover:after, .NetworKit_Page .Measure .Stat .Group .List .Entry[data-tooltip]:hover:before { display: block; } .NetworKit_Page .Measure .Stat .Group .List .Entry .MathValue { font-family: \"Courier New\", Courier, monospace; } .NetworKit_Page .Measure:after { content: \".\"; visibility: hidden; display: block; height: 0; clear: both; } .NetworKit_Page .PartitionPie { clear: both; } .NetworKit_Page .PartitionPie img { width: 600px; } #NetworKit_Overlay { left: 0px; top: 0px; display: none; position: absolute; width: 100%; height: 100%; background-color: rgba(0,0,0,0.6); z-index: 1000; } #NetworKit_Overlay_Title { position: absolute; color: white; transform: rotate(-90deg); width: 32em; height: 32em; padding-right: 0.5em; padding-top: 0.5em; text-align: right; font-size: 40px; } #NetworKit_Overlay .button { background: white; cursor: pointer; } #NetworKit_Overlay .button:before { size: 13px; display: inline-block; text-align: center; margin-top: 0.5em; margin-bottom: 0.5em; width: 1.5em; height: 1.5em; } #NetworKit_Overlay .icon-close:before { content: \"X\"; } #NetworKit_Overlay .icon-previous:before { content: \"P\"; } #NetworKit_Overlay .icon-next:before { content: \"N\"; } #NetworKit_Overlay .icon-save:before { content: \"S\"; } #NetworKit_Overlay_Toolbar_Top, #NetworKit_Overlay_Toolbar_Bottom { position: absolute; width: 40px; right: 13px; text-align: right; z-index: 1100; } #NetworKit_Overlay_Toolbar_Top { top: 0.5em; } #NetworKit_Overlay_Toolbar_Bottom { Bottom: 0.5em; } #NetworKit_Overlay_ImageContainer { position: absolute; top: 5%; left: 5%; height: 90%; width: 90%; background-repeat: no-repeat; background-position: center center; background-size: contain; } #NetworKit_Overlay_Image { height: 100%; width: 100%; background-repeat: no-repeat; background-position: center center; background-size: contain; }';\n",
       "\t\t\t\telement.setAttribute('id', 'NetworKit_style');\n",
       "\t\t\t\tdocument.head.appendChild(element);\n",
       "\t\t\t}\n",
       "\t\t\n",
       "\t\t\t\t\n",
       "\t\t\t{\n",
       "\t\t\t\tvar element = document.getElementById('NetworKit_Overlay');\n",
       "\t\t\t\tif (element) {\n",
       "\t\t\t\t\telement.parentNode.removeChild(element);\n",
       "\t\t\t\t}\n",
       "\t\t\t\telement = document.createElement('div');\n",
       "\t\t\t\telement.innerHTML = '<div id=\"NetworKit_Overlay_Toolbar_Top\"><div class=\"button icon-close\" id=\"NetworKit_Overlay_Close\" /></div><div id=\"NetworKit_Overlay_Title\" /> <div id=\"NetworKit_Overlay_ImageContainer\"> <div id=\"NetworKit_Overlay_Image\" /> </div> <div id=\"NetworKit_Overlay_Toolbar_Bottom\"> <div class=\"button icon-previous\" onclick=\"NetworKit_overlayImageShift(-1)\" /> <div class=\"button icon-next\" onclick=\"NetworKit_overlayImageShift(1)\" /> <a id=\"NetworKit_Overlay_Toolbar_Bottom_Save\"><div class=\"button icon-save\" /></a> </div>';\n",
       "\t\t\t\telement.setAttribute('id', 'NetworKit_Overlay');\n",
       "\t\t\t\tdocument.body.appendChild(element);\n",
       "\t\t\t\tdocument.getElementById('NetworKit_Overlay_Close').onclick = function (e) {\n",
       "\t\t\t\t\tdocument.getElementById('NetworKit_Overlay').style.display = 'none';\n",
       "\t\t\t\t}\n",
       "\t\t\t}\n",
       "\t\t\n",
       "\t\t\t-->\n",
       "\t\t\t</script>\n",
       "\t\t"
      ]
     },
     "metadata": {},
     "output_type": "display_data"
    }
   ],
   "source": [
    "import gct"
   ]
  },
  {
   "cell_type": "code",
   "execution_count": 5,
   "metadata": {},
   "outputs": [],
   "source": [
    "prefix = \"K_DoesAlgSupportDirTest\"\n",
    "\n",
    "def setup_data():\n",
    "    gct.remove_data(prefix + '_*', dry_run=False)\n",
    "    data1 = gct.random_dataset.generate_directed_unweighted_random_graph_LFR(name=prefix + \"_1\", \\\n",
    "                                   N=128, k=16, maxk=32, mu=0.2, minc=32)\n",
    "    data2 = data1.as_undirected(newname=prefix + \"_2\")\n",
    "    return data1,data2\n"
   ]
  },
  {
   "cell_type": "code",
   "execution_count": 6,
   "metadata": {},
   "outputs": [
    {
     "name": "stderr",
     "output_type": "stream",
     "text": [
      "2020-04-23 00:52:52,964 - RandomGenerator:LFR - INFO - Runing '/opt/gct/submodules/CommunityDetectionCodes/lfr_dir_net -minc 32 -mu 0.2 -maxk 32 -k 16 -N 128'  with seed 768120\n",
      "INFO:RandomGenerator:LFR:Runing '/opt/gct/submodules/CommunityDetectionCodes/lfr_dir_net -minc 32 -mu 0.2 -maxk 32 -k 16 -N 128'  with seed 768120\n",
      "2020-04-23 00:52:52,965 - RandomGenerator:LFR - INFO - working dir: /tmp/tmpj4b7l8f9\n",
      "INFO:RandomGenerator:LFR:working dir: /tmp/tmpj4b7l8f9\n",
      "2020-04-23 00:52:53,002 - RandomGenerator:LFR - INFO - min node is 1. will make it 0\n",
      "INFO:RandomGenerator:LFR:min node is 1. will make it 0\n",
      "2020-04-23 00:52:53,011 - Dataset:K_DoesAlgSupportDirTest_1 - INFO - writing/data/data/K_DoesAlgSupportDirTest_1/edges.parq\n",
      "INFO:Dataset:K_DoesAlgSupportDirTest_1:writing/data/data/K_DoesAlgSupportDirTest_1/edges.parq\n",
      "2020-04-23 00:52:53,372 - Clustering - INFO - Writing /data/data/K_DoesAlgSupportDirTest_1/gt_default.parq\n",
      "INFO:Clustering:Writing /data/data/K_DoesAlgSupportDirTest_1/gt_default.parq\n",
      "/opt/conda/envs/python3/lib/python3.6/site-packages/pandas/core/frame.py:4238: SettingWithCopyWarning: \n",
      "A value is trying to be set on a copy of a slice from a DataFrame\n",
      "\n",
      "See the caveats in the documentation: http://pandas.pydata.org/pandas-docs/stable/user_guide/indexing.html#returning-a-view-versus-a-copy\n",
      "  return super().rename(**kwargs)\n",
      "2020-04-23 00:52:53,464 - Dataset:K_DoesAlgSupportDirTest_2 - INFO - writing/data/data/K_DoesAlgSupportDirTest_2/edges.parq\n",
      "INFO:Dataset:K_DoesAlgSupportDirTest_2:writing/data/data/K_DoesAlgSupportDirTest_2/edges.parq\n"
     ]
    }
   ],
   "source": [
    "data_w,data_uw=setup_data()"
   ]
  },
  {
   "cell_type": "code",
   "execution_count": 7,
   "metadata": {},
   "outputs": [
    {
     "data": {
      "text/plain": [
       "('K_DoesAlgSupportDirTest_1', 'K_DoesAlgSupportDirTest_2')"
      ]
     },
     "execution_count": 7,
     "metadata": {},
     "output_type": "execute_result"
    }
   ],
   "source": [
    "data_w.name,data_uw.name"
   ]
  },
  {
   "cell_type": "code",
   "execution_count": 8,
   "metadata": {},
   "outputs": [
    {
     "name": "stdout",
     "output_type": "stream",
     "text": [
      "Requirement already satisfied: func-timeout in /opt/conda/envs/python3/lib/python3.6/site-packages\r\n",
      "\u001b[33mYou are using pip version 9.0.3, however version 20.0.2 is available.\r\n",
      "You should consider upgrading via the 'pip install --upgrade pip' command.\u001b[0m\r\n"
     ]
    }
   ],
   "source": [
    "!pip install func-timeout"
   ]
  },
  {
   "cell_type": "code",
   "execution_count": 9,
   "metadata": {},
   "outputs": [],
   "source": [
    "import os\n",
    "from func_timeout import func_timeout, FunctionTimedOut\n",
    "from gct import config,utils\n",
    "def has_run_1(runame, dsname):\n",
    "    fpath = os.path.join(config.get_result_file_path(dsname=dsname, runname=runame), 'result.txt')\n",
    "    return utils.file_exists(fpath)\n",
    "\n",
    "def has_run(runame, dsname):\n",
    "    fpath = os.path.join(\"/{}/tmp/{}_{}.done\".format('data', runame,dsname))\n",
    "    return utils.file_exists(fpath)\n",
    "\n",
    "def timeout(func, args=(), kwargs={}, timeout_duration=10, default=None):\n",
    "    result=default\n",
    "    try:\n",
    "        result = func_timeout(timeout_duration, func, args=args, kwargs=kwargs)\n",
    "    except FunctionTimedOut:\n",
    "        print(\"timeout\", func,args,kwargs)\n",
    "    except:\n",
    "        print (\"Unexpected error:\", sys.exc_info()[0])\n",
    "    return result\n",
    "\n",
    "def timeout0(func, args=(), kwargs={}, timeout_duration=10, default=None):\n",
    "    import signal\n",
    "\n",
    "    class TimeoutError(Exception):\n",
    "        pass\n",
    "\n",
    "    def handler(signum, frame):\n",
    "        raise TimeoutError()\n",
    "\n",
    "    # set the timeout handler\n",
    "    signal.signal(signal.SIGALRM, handler) \n",
    "    signal.alarm(timeout_duration)\n",
    "    try:\n",
    "        result = func(*args, **kwargs)\n",
    "    except TimeoutError as exc:\n",
    "        result = default\n",
    "    finally:\n",
    "        signal.alarm(0)\n",
    "\n",
    "    return result\n"
   ]
  },
  {
   "cell_type": "code",
   "execution_count": 10,
   "metadata": {},
   "outputs": [],
   "source": [
    "\n",
    "def run_alg(alg,dsname, check_skip=True):\n",
    "    try:\n",
    "        runname = alg\n",
    "        if not check_skip or (check_skip and not has_run(runname, dsname)):\n",
    "            print (\"runing \", alg, dsname)\n",
    "            if alg =='cdc_SVINET':\n",
    "                gct.run_alg(runname=runname, data=gct.load_local_graph(dsname), algname=alg, seed=123, max_iterations=1000)        \n",
    "            else:\n",
    "                gct.run_alg(runname=runname, data=gct.load_local_graph(dsname), algname=alg, seed=123)\n",
    "            print (\"finished\", alg,dsname)\n",
    "        else:\n",
    "            print(\"skip\", runname,dsname)\n",
    "    except:\n",
    "        print(\"except\", runname,dsname)\n",
    "    return True\n",
    "    \n",
    "\n",
    "def run_alg_timeout(alg,dsname,timeout_duration=600):\n",
    "    if not timeout(run_alg, (alg,dsname), timeout_duration=timeout_duration):\n",
    "        print(\"tiemout\", alg,dsname)\n",
    "    fpath = os.path.join(\"/{}/tmp/{}_{}.done\".format('data', alg,dsname))\n",
    "    !touch {fpath}\n",
    "\n",
    "        \n"
   ]
  },
  {
   "cell_type": "code",
   "execution_count": 11,
   "metadata": {},
   "outputs": [
    {
     "name": "stderr",
     "output_type": "stream",
     "text": [
      "2020-04-23 00:53:02,581 - Dataset:K_DoesAlgSupportDirTest_1 - INFO - writing edges to /data/data/K_DoesAlgSupportDirTest_1/edges.txt\n",
      "INFO:Dataset:K_DoesAlgSupportDirTest_1:writing edges to /data/data/K_DoesAlgSupportDirTest_1/edges.txt\n",
      "2020-04-23 00:53:02,582 - Dataset:K_DoesAlgSupportDirTest_1 - INFO - reading /data/data/K_DoesAlgSupportDirTest_1/edges.parq\n",
      "INFO:Dataset:K_DoesAlgSupportDirTest_1:reading /data/data/K_DoesAlgSupportDirTest_1/edges.parq\n"
     ]
    },
    {
     "name": "stdout",
     "output_type": "stream",
     "text": [
      "runing  oslom_lpm K_DoesAlgSupportDirTest_1\n"
     ]
    },
    {
     "name": "stderr",
     "output_type": "stream",
     "text": [
      "2020-04-23 00:53:02,921 - Dataset:K_DoesAlgSupportDirTest_1 - INFO - finish writing /data/data/K_DoesAlgSupportDirTest_1/edges.txt\n",
      "INFO:Dataset:K_DoesAlgSupportDirTest_1:finish writing /data/data/K_DoesAlgSupportDirTest_1/edges.txt\n",
      "2020-04-23 00:53:02,922 - oslom_lpm - INFO - Running /opt/gct/submodules/OSLOM/lpm -f /tmp/tmpsyhg9b05/edges.txt -r 1 -seed 123\n",
      "INFO:oslom_lpm:Running /opt/gct/submodules/OSLOM/lpm -f /tmp/tmpsyhg9b05/edges.txt -r 1 -seed 123\n",
      "2020-04-23 00:53:02,933 - oslom_lpm - INFO - Made 4 clusters in 0.009885 seconds\n",
      "INFO:oslom_lpm:Made 4 clusters in 0.009885 seconds\n"
     ]
    },
    {
     "name": "stdout",
     "output_type": "stream",
     "text": [
      "finished oslom_lpm K_DoesAlgSupportDirTest_1\n"
     ]
    },
    {
     "data": {
      "text/plain": [
       "True"
      ]
     },
     "execution_count": 11,
     "metadata": {},
     "output_type": "execute_result"
    }
   ],
   "source": [
    "run_alg(\"oslom_lpm\", data_w.name)"
   ]
  },
  {
   "cell_type": "code",
   "execution_count": 13,
   "metadata": {},
   "outputs": [
    {
     "name": "stdout",
     "output_type": "stream",
     "text": [
      "skip oslom_lpm K_DoesAlgSupportDirTest_1\n"
     ]
    }
   ],
   "source": [
    "run_alg_timeout(\"oslom_lpm\", data_w.name)"
   ]
  },
  {
   "cell_type": "code",
   "execution_count": 14,
   "metadata": {
    "scrolled": true
   },
   "outputs": [
    {
     "name": "stderr",
     "output_type": "stream",
     "text": [
      "2020-04-23 00:53:09,269 - oslom_Infohiermap - INFO - Running /opt/gct/submodules/OSLOM/infohiermap_dir 123 /tmp/tmpn8zm3xhy/pajek.txt 1\n",
      "INFO:oslom_Infohiermap:Running /opt/gct/submodules/OSLOM/infohiermap_dir 123 /tmp/tmpn8zm3xhy/pajek.txt 1\n",
      "2020-04-23 00:53:09,290 - oslom_Infohiermap - INFO - Made 6 clusters in 0.011665 seconds\n",
      "INFO:oslom_Infohiermap:Made 6 clusters in 0.011665 seconds\n"
     ]
    },
    {
     "name": "stdout",
     "output_type": "stream",
     "text": [
      "runing  oslom_Infohiermap K_DoesAlgSupportDirTest_1\n",
      "finished oslom_Infohiermap K_DoesAlgSupportDirTest_1\n"
     ]
    },
    {
     "name": "stderr",
     "output_type": "stream",
     "text": [
      "2020-04-23 00:53:09,401 - Dataset:K_DoesAlgSupportDirTest_2 - INFO - writing edges to /data/data/K_DoesAlgSupportDirTest_2/edges.txt\n",
      "INFO:Dataset:K_DoesAlgSupportDirTest_2:writing edges to /data/data/K_DoesAlgSupportDirTest_2/edges.txt\n",
      "2020-04-23 00:53:09,403 - Dataset:K_DoesAlgSupportDirTest_2 - INFO - reading /data/data/K_DoesAlgSupportDirTest_2/edges.parq\n",
      "INFO:Dataset:K_DoesAlgSupportDirTest_2:reading /data/data/K_DoesAlgSupportDirTest_2/edges.parq\n"
     ]
    },
    {
     "name": "stdout",
     "output_type": "stream",
     "text": [
      "runing  oslom_Infohiermap K_DoesAlgSupportDirTest_2\n"
     ]
    },
    {
     "name": "stderr",
     "output_type": "stream",
     "text": [
      "2020-04-23 00:53:09,592 - Dataset:K_DoesAlgSupportDirTest_2 - INFO - finish writing /data/data/K_DoesAlgSupportDirTest_2/edges.txt\n",
      "INFO:Dataset:K_DoesAlgSupportDirTest_2:finish writing /data/data/K_DoesAlgSupportDirTest_2/edges.txt\n",
      "2020-04-23 00:53:09,610 - oslom_Infohiermap - INFO - Running /opt/gct/submodules/OSLOM/infohiermap_undir 123 /tmp/tmps7ftwdh8/pajek.txt 1\n",
      "INFO:oslom_Infohiermap:Running /opt/gct/submodules/OSLOM/infohiermap_undir 123 /tmp/tmps7ftwdh8/pajek.txt 1\n",
      "2020-04-23 00:53:09,636 - oslom_Infohiermap - INFO - Made 6 clusters in 0.016581 seconds\n",
      "INFO:oslom_Infohiermap:Made 6 clusters in 0.016581 seconds\n"
     ]
    },
    {
     "name": "stdout",
     "output_type": "stream",
     "text": [
      "finished oslom_Infohiermap K_DoesAlgSupportDirTest_2\n"
     ]
    },
    {
     "name": "stderr",
     "output_type": "stream",
     "text": [
      "2020-04-23 00:53:09,748 - oslom_Infomap - INFO - Running /opt/gct/submodules/OSLOM2/infomap_dir 123 /tmp/tmpnjuly8_e/pajek.txt 1\n",
      "INFO:oslom_Infomap:Running /opt/gct/submodules/OSLOM2/infomap_dir 123 /tmp/tmpnjuly8_e/pajek.txt 1\n",
      "2020-04-23 00:53:09,768 - oslom_Infomap - INFO - Made 6 clusters in 0.010222 seconds\n",
      "INFO:oslom_Infomap:Made 6 clusters in 0.010222 seconds\n"
     ]
    },
    {
     "name": "stdout",
     "output_type": "stream",
     "text": [
      "runing  oslom_Infomap K_DoesAlgSupportDirTest_1\n",
      "finished oslom_Infomap K_DoesAlgSupportDirTest_1\n"
     ]
    },
    {
     "name": "stderr",
     "output_type": "stream",
     "text": [
      "2020-04-23 00:53:09,880 - oslom_Infomap - INFO - Running /opt/gct/submodules/OSLOM2/infomap_dir 123 /tmp/tmpatansnmp/pajek.txt 1\n",
      "INFO:oslom_Infomap:Running /opt/gct/submodules/OSLOM2/infomap_dir 123 /tmp/tmpatansnmp/pajek.txt 1\n",
      "2020-04-23 00:53:09,902 - oslom_Infomap - INFO - Made 5 clusters in 0.012894 seconds\n",
      "INFO:oslom_Infomap:Made 5 clusters in 0.012894 seconds\n"
     ]
    },
    {
     "name": "stdout",
     "output_type": "stream",
     "text": [
      "runing  oslom_Infomap K_DoesAlgSupportDirTest_2\n",
      "finished oslom_Infomap K_DoesAlgSupportDirTest_2\n"
     ]
    },
    {
     "name": "stderr",
     "output_type": "stream",
     "text": [
      "2020-04-23 00:53:10,015 - oslom_OSLOM - INFO - Running /opt/gct/submodules/OSLOM2/oslom_dir -f /tmp/tmpy575bd61/edges.txt -uw -r 10 -hr 50 -seed 123 -t 0.1 -cp 0.5\n",
      "INFO:oslom_OSLOM:Running /opt/gct/submodules/OSLOM2/oslom_dir -f /tmp/tmpy575bd61/edges.txt -uw -r 10 -hr 50 -seed 123 -t 0.1 -cp 0.5\n"
     ]
    },
    {
     "name": "stdout",
     "output_type": "stream",
     "text": [
      "runing  oslom_OSLOM K_DoesAlgSupportDirTest_1\n"
     ]
    },
    {
     "name": "stderr",
     "output_type": "stream",
     "text": [
      "2020-04-23 00:53:11,789 - oslom_OSLOM - INFO - Made 1 levels of clusters with #clusters [6] in 1.772496 seconds\n",
      "INFO:oslom_OSLOM:Made 1 levels of clusters with #clusters [6] in 1.772496 seconds\n"
     ]
    },
    {
     "name": "stdout",
     "output_type": "stream",
     "text": [
      "finished oslom_OSLOM K_DoesAlgSupportDirTest_1\n"
     ]
    },
    {
     "name": "stderr",
     "output_type": "stream",
     "text": [
      "2020-04-23 00:53:11,903 - oslom_OSLOM - INFO - Running /opt/gct/submodules/OSLOM2/oslom_undir -f /tmp/tmphhm4xb_p/edges.txt -uw -r 10 -hr 50 -seed 123 -t 0.1 -cp 0.5\n",
      "INFO:oslom_OSLOM:Running /opt/gct/submodules/OSLOM2/oslom_undir -f /tmp/tmphhm4xb_p/edges.txt -uw -r 10 -hr 50 -seed 123 -t 0.1 -cp 0.5\n"
     ]
    },
    {
     "name": "stdout",
     "output_type": "stream",
     "text": [
      "runing  oslom_OSLOM K_DoesAlgSupportDirTest_2\n"
     ]
    },
    {
     "name": "stderr",
     "output_type": "stream",
     "text": [
      "2020-04-23 00:53:12,890 - oslom_OSLOM - INFO - Made 1 levels of clusters with #clusters [6] in 0.985263 seconds\n",
      "INFO:oslom_OSLOM:Made 1 levels of clusters with #clusters [6] in 0.985263 seconds\n"
     ]
    },
    {
     "name": "stdout",
     "output_type": "stream",
     "text": [
      "finished oslom_OSLOM K_DoesAlgSupportDirTest_2\n"
     ]
    },
    {
     "name": "stderr",
     "output_type": "stream",
     "text": [
      "2020-04-23 00:53:13,003 - oslom_copra - INFO - seed ignored\n",
      "INFO:oslom_copra:seed ignored\n",
      "2020-04-23 00:53:13,005 - oslom_copra - INFO - Running java -cp /opt/gct/submodules/OSLOM2/copra.jar COPRA /tmp/tmp4milwn_r/edges.txt -w -v 5 -nosplit -extrasimplify -q\n",
      "INFO:oslom_copra:Running java -cp /opt/gct/submodules/OSLOM2/copra.jar COPRA /tmp/tmp4milwn_r/edges.txt -w -v 5 -nosplit -extrasimplify -q\n"
     ]
    },
    {
     "name": "stdout",
     "output_type": "stream",
     "text": [
      "runing  oslom_copra K_DoesAlgSupportDirTest_1\n"
     ]
    },
    {
     "name": "stderr",
     "output_type": "stream",
     "text": [
      "2020-04-23 00:53:13,135 - oslom_copra - INFO - Made 6 clusters in 0.128741 seconds\n",
      "INFO:oslom_copra:Made 6 clusters in 0.128741 seconds\n"
     ]
    },
    {
     "name": "stdout",
     "output_type": "stream",
     "text": [
      "finished oslom_copra K_DoesAlgSupportDirTest_1\n"
     ]
    },
    {
     "name": "stderr",
     "output_type": "stream",
     "text": [
      "2020-04-23 00:53:13,249 - oslom_copra - INFO - seed ignored\n",
      "INFO:oslom_copra:seed ignored\n",
      "2020-04-23 00:53:13,250 - oslom_copra - INFO - Running java -cp /opt/gct/submodules/OSLOM2/copra.jar COPRA /tmp/tmp0cw18i07/edges.txt -w -v 5 -nosplit -extrasimplify -q\n",
      "INFO:oslom_copra:Running java -cp /opt/gct/submodules/OSLOM2/copra.jar COPRA /tmp/tmp0cw18i07/edges.txt -w -v 5 -nosplit -extrasimplify -q\n"
     ]
    },
    {
     "name": "stdout",
     "output_type": "stream",
     "text": [
      "runing  oslom_copra K_DoesAlgSupportDirTest_2\n"
     ]
    },
    {
     "name": "stderr",
     "output_type": "stream",
     "text": [
      "2020-04-23 00:53:13,396 - oslom_copra - INFO - Made 5 clusters in 0.144561 seconds\n",
      "INFO:oslom_copra:Made 5 clusters in 0.144561 seconds\n"
     ]
    },
    {
     "name": "stdout",
     "output_type": "stream",
     "text": [
      "finished oslom_copra K_DoesAlgSupportDirTest_2\n"
     ]
    },
    {
     "name": "stderr",
     "output_type": "stream",
     "text": [
      "2020-04-23 00:53:13,510 - oslom_louvain_method - INFO - Running /opt/gct/submodules/OSLOM/louvain_method -f /tmp/tmphscni1iu/edges.txt -r 1 -seed 123\n",
      "INFO:oslom_louvain_method:Running /opt/gct/submodules/OSLOM/louvain_method -f /tmp/tmphscni1iu/edges.txt -r 1 -seed 123\n",
      "2020-04-23 00:53:13,523 - oslom_louvain_method - INFO - Made 6 clusters in 0.012663 seconds\n",
      "INFO:oslom_louvain_method:Made 6 clusters in 0.012663 seconds\n"
     ]
    },
    {
     "name": "stdout",
     "output_type": "stream",
     "text": [
      "runing  oslom_louvain_method K_DoesAlgSupportDirTest_1\n",
      "finished oslom_louvain_method K_DoesAlgSupportDirTest_1\n"
     ]
    },
    {
     "name": "stderr",
     "output_type": "stream",
     "text": [
      "2020-04-23 00:53:13,636 - oslom_louvain_method - INFO - Running /opt/gct/submodules/OSLOM/louvain_method -f /tmp/tmp2ycplcpg/edges.txt -r 1 -seed 123\n",
      "INFO:oslom_louvain_method:Running /opt/gct/submodules/OSLOM/louvain_method -f /tmp/tmp2ycplcpg/edges.txt -r 1 -seed 123\n",
      "2020-04-23 00:53:13,649 - oslom_louvain_method - INFO - Made 6 clusters in 0.011947 seconds\n",
      "INFO:oslom_louvain_method:Made 6 clusters in 0.011947 seconds\n"
     ]
    },
    {
     "name": "stdout",
     "output_type": "stream",
     "text": [
      "runing  oslom_louvain_method K_DoesAlgSupportDirTest_2\n",
      "finished oslom_louvain_method K_DoesAlgSupportDirTest_2\n",
      "skip oslom_lpm K_DoesAlgSupportDirTest_1\n"
     ]
    },
    {
     "name": "stderr",
     "output_type": "stream",
     "text": [
      "2020-04-23 00:53:13,872 - oslom_lpm - INFO - Running /opt/gct/submodules/OSLOM/lpm -f /tmp/tmp322s85di/edges.txt -r 1 -seed 123\n",
      "INFO:oslom_lpm:Running /opt/gct/submodules/OSLOM/lpm -f /tmp/tmp322s85di/edges.txt -r 1 -seed 123\n",
      "2020-04-23 00:53:13,882 - oslom_lpm - INFO - Made 4 clusters in 0.008708 seconds\n",
      "INFO:oslom_lpm:Made 4 clusters in 0.008708 seconds\n"
     ]
    },
    {
     "name": "stdout",
     "output_type": "stream",
     "text": [
      "runing  oslom_lpm K_DoesAlgSupportDirTest_2\n",
      "finished oslom_lpm K_DoesAlgSupportDirTest_2\n"
     ]
    },
    {
     "name": "stderr",
     "output_type": "stream",
     "text": [
      "2020-04-23 00:53:13,994 - oslom_modopt - INFO - Running /opt/gct/submodules/OSLOM/modopt /tmp/tmpmd1kgf1u/edges.txt 123 1 5 0.999 1e-06\n",
      "INFO:oslom_modopt:Running /opt/gct/submodules/OSLOM/modopt /tmp/tmpmd1kgf1u/edges.txt 123 1 5 0.999 1e-06\n"
     ]
    },
    {
     "name": "stdout",
     "output_type": "stream",
     "text": [
      "runing  oslom_modopt K_DoesAlgSupportDirTest_1\n"
     ]
    },
    {
     "name": "stderr",
     "output_type": "stream",
     "text": [
      "2020-04-23 00:53:14,089 - oslom_modopt - INFO - Made 6 clusters in 0.093519 seconds\n",
      "INFO:oslom_modopt:Made 6 clusters in 0.093519 seconds\n"
     ]
    },
    {
     "name": "stdout",
     "output_type": "stream",
     "text": [
      "finished oslom_modopt K_DoesAlgSupportDirTest_1\n"
     ]
    },
    {
     "name": "stderr",
     "output_type": "stream",
     "text": [
      "2020-04-23 00:53:14,203 - oslom_modopt - INFO - Running /opt/gct/submodules/OSLOM/modopt /tmp/tmp9satm1hl/edges.txt 123 1 5 0.999 1e-06\n",
      "INFO:oslom_modopt:Running /opt/gct/submodules/OSLOM/modopt /tmp/tmp9satm1hl/edges.txt 123 1 5 0.999 1e-06\n"
     ]
    },
    {
     "name": "stdout",
     "output_type": "stream",
     "text": [
      "runing  oslom_modopt K_DoesAlgSupportDirTest_2\n"
     ]
    },
    {
     "name": "stderr",
     "output_type": "stream",
     "text": [
      "2020-04-23 00:53:14,297 - oslom_modopt - INFO - Made 6 clusters in 0.092782 seconds\n",
      "INFO:oslom_modopt:Made 6 clusters in 0.092782 seconds\n"
     ]
    },
    {
     "name": "stdout",
     "output_type": "stream",
     "text": [
      "finished oslom_modopt K_DoesAlgSupportDirTest_2\n"
     ]
    },
    {
     "name": "stderr",
     "output_type": "stream",
     "text": [
      "2020-04-23 00:53:14,410 - pycabem_GANXiSw - INFO - Running java -jar /opt/gct/submodules/GANXiS/GANXiSw.jar -i edges.txt -seed 123 -d output -r 0.1 \n",
      "INFO:pycabem_GANXiSw:Running java -jar /opt/gct/submodules/GANXiS/GANXiSw.jar -i edges.txt -seed 123 -d output -r 0.1 \n"
     ]
    },
    {
     "name": "stdout",
     "output_type": "stream",
     "text": [
      "runing  pycabem_GANXiSw K_DoesAlgSupportDirTest_1\n"
     ]
    },
    {
     "name": "stderr",
     "output_type": "stream",
     "text": [
      "2020-04-23 00:53:14,611 - pycabem_GANXiSw - INFO - Made 6 clusters in 0.198752 seconds\n",
      "INFO:pycabem_GANXiSw:Made 6 clusters in 0.198752 seconds\n"
     ]
    },
    {
     "name": "stdout",
     "output_type": "stream",
     "text": [
      "finished pycabem_GANXiSw K_DoesAlgSupportDirTest_1\n"
     ]
    },
    {
     "name": "stderr",
     "output_type": "stream",
     "text": [
      "2020-04-23 00:53:14,725 - pycabem_GANXiSw - INFO - Running java -jar /opt/gct/submodules/GANXiS/GANXiSw.jar -i edges.txt -seed 123 -Sym 1 -d output -r 0.1 \n",
      "INFO:pycabem_GANXiSw:Running java -jar /opt/gct/submodules/GANXiS/GANXiSw.jar -i edges.txt -seed 123 -Sym 1 -d output -r 0.1 \n"
     ]
    },
    {
     "name": "stdout",
     "output_type": "stream",
     "text": [
      "runing  pycabem_GANXiSw K_DoesAlgSupportDirTest_2\n"
     ]
    },
    {
     "name": "stderr",
     "output_type": "stream",
     "text": [
      "2020-04-23 00:53:14,934 - pycabem_GANXiSw - INFO - Made 2 clusters in 0.206903 seconds\n",
      "INFO:pycabem_GANXiSw:Made 2 clusters in 0.206903 seconds\n"
     ]
    },
    {
     "name": "stdout",
     "output_type": "stream",
     "text": [
      "finished pycabem_GANXiSw K_DoesAlgSupportDirTest_2\n"
     ]
    },
    {
     "name": "stderr",
     "output_type": "stream",
     "text": [
      "2020-04-23 00:53:15,047 - pycabem_HiReCS - INFO - seed ignored\n",
      "INFO:pycabem_HiReCS:seed ignored\n",
      "2020-04-23 00:53:15,049 - Dataset:K_DoesAlgSupportDirTest_1 - INFO - running python /opt/gct/submodules/hirecs/pajek_hig.py /data/data/K_DoesAlgSupportDirTest_1/pajek.txt\n",
      "INFO:Dataset:K_DoesAlgSupportDirTest_1:running python /opt/gct/submodules/hirecs/pajek_hig.py /data/data/K_DoesAlgSupportDirTest_1/pajek.txt\n",
      "2020-04-23 00:53:15,082 - pycabem_HiReCS - INFO - Running ./hirecs -oje /data/data/K_DoesAlgSupportDirTest_1/pajek.hig > output\n",
      "INFO:pycabem_HiReCS:Running ./hirecs -oje /data/data/K_DoesAlgSupportDirTest_1/pajek.hig > output\n",
      "2020-04-23 00:53:15,102 - pycabem_HiReCS - INFO - Made 6 clusters in 0.017390 seconds with modularity 0.610119\n",
      "INFO:pycabem_HiReCS:Made 6 clusters in 0.017390 seconds with modularity 0.610119\n"
     ]
    },
    {
     "name": "stdout",
     "output_type": "stream",
     "text": [
      "runing  pycabem_HiReCS K_DoesAlgSupportDirTest_1\n",
      "finished pycabem_HiReCS K_DoesAlgSupportDirTest_1\n"
     ]
    },
    {
     "name": "stderr",
     "output_type": "stream",
     "text": [
      "2020-04-23 00:53:15,214 - pycabem_HiReCS - INFO - seed ignored\n",
      "INFO:pycabem_HiReCS:seed ignored\n",
      "2020-04-23 00:53:15,215 - Dataset:K_DoesAlgSupportDirTest_2 - INFO - running python /opt/gct/submodules/hirecs/pajek_hig.py /data/data/K_DoesAlgSupportDirTest_2/pajek.txt\n",
      "INFO:Dataset:K_DoesAlgSupportDirTest_2:running python /opt/gct/submodules/hirecs/pajek_hig.py /data/data/K_DoesAlgSupportDirTest_2/pajek.txt\n"
     ]
    },
    {
     "name": "stdout",
     "output_type": "stream",
     "text": [
      "runing  pycabem_HiReCS K_DoesAlgSupportDirTest_2\n"
     ]
    },
    {
     "name": "stderr",
     "output_type": "stream",
     "text": [
      "2020-04-23 00:53:15,248 - pycabem_HiReCS - INFO - Running ./hirecs -oje /data/data/K_DoesAlgSupportDirTest_2/pajek.hig > output\n",
      "INFO:pycabem_HiReCS:Running ./hirecs -oje /data/data/K_DoesAlgSupportDirTest_2/pajek.hig > output\n",
      "2020-04-23 00:53:15,263 - pycabem_HiReCS - INFO - Made 5 clusters in 0.012686 seconds with modularity 0.519950\n",
      "INFO:pycabem_HiReCS:Made 5 clusters in 0.012686 seconds with modularity 0.519950\n"
     ]
    },
    {
     "name": "stdout",
     "output_type": "stream",
     "text": [
      "finished pycabem_HiReCS K_DoesAlgSupportDirTest_2\n"
     ]
    },
    {
     "name": "stderr",
     "output_type": "stream",
     "text": [
      "2020-04-23 00:53:15,376 - pycabem_LabelRank - INFO - seed ignored\n",
      "INFO:pycabem_LabelRank:seed ignored\n",
      "2020-04-23 00:53:15,377 - pycabem_LabelRank - INFO - Running /opt/gct/submodules/GANXiS/LabelRank edges.txt 0.01 2 0.3\n",
      "INFO:pycabem_LabelRank:Running /opt/gct/submodules/GANXiS/LabelRank edges.txt 0.01 2 0.3\n"
     ]
    },
    {
     "name": "stdout",
     "output_type": "stream",
     "text": [
      "runing  pycabem_LabelRank K_DoesAlgSupportDirTest_1\n"
     ]
    },
    {
     "name": "stderr",
     "output_type": "stream",
     "text": [
      "2020-04-23 00:53:15,490 - pycabem_LabelRank - INFO - Made 6 clusters in 0.111340 seconds\n",
      "INFO:pycabem_LabelRank:Made 6 clusters in 0.111340 seconds\n"
     ]
    },
    {
     "name": "stdout",
     "output_type": "stream",
     "text": [
      "finished pycabem_LabelRank K_DoesAlgSupportDirTest_1\n"
     ]
    },
    {
     "name": "stderr",
     "output_type": "stream",
     "text": [
      "2020-04-23 00:53:15,603 - pycabem_LabelRank - INFO - seed ignored\n",
      "INFO:pycabem_LabelRank:seed ignored\n",
      "2020-04-23 00:53:15,604 - pycabem_LabelRank - INFO - Running /opt/gct/submodules/GANXiS/LabelRank edges.txt 0.01 2 0.3\n",
      "INFO:pycabem_LabelRank:Running /opt/gct/submodules/GANXiS/LabelRank edges.txt 0.01 2 0.3\n"
     ]
    },
    {
     "name": "stdout",
     "output_type": "stream",
     "text": [
      "runing  pycabem_LabelRank K_DoesAlgSupportDirTest_2\n"
     ]
    },
    {
     "name": "stderr",
     "output_type": "stream",
     "text": [
      "2020-04-23 00:53:15,715 - pycabem_LabelRank - INFO - Made 6 clusters in 0.109108 seconds\n",
      "INFO:pycabem_LabelRank:Made 6 clusters in 0.109108 seconds\n"
     ]
    },
    {
     "name": "stdout",
     "output_type": "stream",
     "text": [
      "finished pycabem_LabelRank K_DoesAlgSupportDirTest_2\n"
     ]
    },
    {
     "name": "stderr",
     "output_type": "stream",
     "text": [
      "2020-04-23 00:53:15,828 - cdc_CONGA - INFO - seed ignored\n",
      "INFO:cdc_CONGA:seed ignored\n",
      "2020-04-23 00:53:15,829 - cdc_CONGA - INFO - Running java -cp /opt/gct/submodules/CommunityDetectionCodes/conga-1.0-SNAPSHOT.jar conga.CONGA edges.txt -e -s\n",
      "INFO:cdc_CONGA:Running java -cp /opt/gct/submodules/CommunityDetectionCodes/conga-1.0-SNAPSHOT.jar conga.CONGA edges.txt -e -s\n"
     ]
    },
    {
     "name": "stdout",
     "output_type": "stream",
     "text": [
      "runing  cdc_CONGA K_DoesAlgSupportDirTest_1\n"
     ]
    },
    {
     "name": "stderr",
     "output_type": "stream",
     "text": [
      "2020-04-23 00:53:28,725 - cdc_CONGA - INFO - Finish first step in 12.895156 seconds\n",
      "INFO:cdc_CONGA:Finish first step in 12.895156 seconds\n",
      "2020-04-23 00:53:28,727 - cdc_CONGA - INFO - Running java -cp /opt/gct/submodules/CommunityDetectionCodes/conga-1.0-SNAPSHOT.jar conga.CONGA edges.txt -e -s -n 5\n",
      "INFO:cdc_CONGA:Running java -cp /opt/gct/submodules/CommunityDetectionCodes/conga-1.0-SNAPSHOT.jar conga.CONGA edges.txt -e -s -n 5\n",
      "2020-04-23 00:53:28,845 - cdc_CONGA - INFO - Made 5 clusters in 0.117754 seconds\n",
      "INFO:cdc_CONGA:Made 5 clusters in 0.117754 seconds\n"
     ]
    },
    {
     "name": "stdout",
     "output_type": "stream",
     "text": [
      "finished cdc_CONGA K_DoesAlgSupportDirTest_1\n"
     ]
    },
    {
     "name": "stderr",
     "output_type": "stream",
     "text": [
      "2020-04-23 00:53:28,959 - cdc_CONGA - INFO - seed ignored\n",
      "INFO:cdc_CONGA:seed ignored\n",
      "2020-04-23 00:53:28,961 - cdc_CONGA - INFO - Running java -cp /opt/gct/submodules/CommunityDetectionCodes/conga-1.0-SNAPSHOT.jar conga.CONGA edges.txt -e -s\n",
      "INFO:cdc_CONGA:Running java -cp /opt/gct/submodules/CommunityDetectionCodes/conga-1.0-SNAPSHOT.jar conga.CONGA edges.txt -e -s\n"
     ]
    },
    {
     "name": "stdout",
     "output_type": "stream",
     "text": [
      "runing  cdc_CONGA K_DoesAlgSupportDirTest_2\n"
     ]
    },
    {
     "name": "stderr",
     "output_type": "stream",
     "text": [
      "2020-04-23 00:53:43,523 - cdc_CONGA - INFO - Finish first step in 14.561683 seconds\n",
      "INFO:cdc_CONGA:Finish first step in 14.561683 seconds\n",
      "2020-04-23 00:53:43,524 - cdc_CONGA - INFO - Running java -cp /opt/gct/submodules/CommunityDetectionCodes/conga-1.0-SNAPSHOT.jar conga.CONGA edges.txt -e -s -n 5\n",
      "INFO:cdc_CONGA:Running java -cp /opt/gct/submodules/CommunityDetectionCodes/conga-1.0-SNAPSHOT.jar conga.CONGA edges.txt -e -s -n 5\n",
      "2020-04-23 00:53:43,635 - cdc_CONGA - INFO - Made 5 clusters in 0.109882 seconds\n",
      "INFO:cdc_CONGA:Made 5 clusters in 0.109882 seconds\n"
     ]
    },
    {
     "name": "stdout",
     "output_type": "stream",
     "text": [
      "finished cdc_CONGA K_DoesAlgSupportDirTest_2\n",
      "runing  cdc_CliquePercolation K_DoesAlgSupportDirTest_1\n",
      "finished cdc_CliquePercolation K_DoesAlgSupportDirTest_1\n"
     ]
    },
    {
     "name": "stderr",
     "output_type": "stream",
     "text": [
      "Error: only undirected and unmirrored graph is supported for CliquePercolation\n",
      "2020-04-23 00:53:43,861 - cdc_CliquePercolation - INFO - seed ignored\n",
      "INFO:cdc_CliquePercolation:seed ignored\n",
      "2020-04-23 00:53:43,863 - cdc_CliquePercolation - INFO - Running /opt/gct/submodules/CommunityDetectionCodes/k_clique edges.txt -o=output\n",
      "INFO:cdc_CliquePercolation:Running /opt/gct/submodules/CommunityDetectionCodes/k_clique edges.txt -o=output\n",
      "2020-04-23 00:53:43,877 - cdc_CliquePercolation - INFO - Made 1 clusters in 0.012751 seconds\n",
      "INFO:cdc_CliquePercolation:Made 1 clusters in 0.012751 seconds\n"
     ]
    },
    {
     "name": "stdout",
     "output_type": "stream",
     "text": [
      "runing  cdc_CliquePercolation K_DoesAlgSupportDirTest_2\n",
      "finished cdc_CliquePercolation K_DoesAlgSupportDirTest_2\n"
     ]
    },
    {
     "name": "stderr",
     "output_type": "stream",
     "text": [
      "2020-04-23 00:53:43,989 - cdc_Connected_Iterative_Scan - INFO - seed ignored\n",
      "INFO:cdc_Connected_Iterative_Scan:seed ignored\n",
      "2020-04-23 00:53:43,991 - cdc_Connected_Iterative_Scan - INFO - Running /opt/gct/submodules/CommunityDetectionCodes/2009-cis -i edges.txt -o output\n",
      "INFO:cdc_Connected_Iterative_Scan:Running /opt/gct/submodules/CommunityDetectionCodes/2009-cis -i edges.txt -o output\n"
     ]
    },
    {
     "name": "stdout",
     "output_type": "stream",
     "text": [
      "runing  cdc_Connected_Iterative_Scan K_DoesAlgSupportDirTest_1\n"
     ]
    },
    {
     "name": "stderr",
     "output_type": "stream",
     "text": [
      "2020-04-23 00:53:44,070 - cdc_Connected_Iterative_Scan - INFO - Made 8 clusters in 0.077521 seconds\n",
      "INFO:cdc_Connected_Iterative_Scan:Made 8 clusters in 0.077521 seconds\n"
     ]
    },
    {
     "name": "stdout",
     "output_type": "stream",
     "text": [
      "finished cdc_Connected_Iterative_Scan K_DoesAlgSupportDirTest_1\n"
     ]
    },
    {
     "name": "stderr",
     "output_type": "stream",
     "text": [
      "2020-04-23 00:53:44,183 - cdc_Connected_Iterative_Scan - INFO - seed ignored\n",
      "INFO:cdc_Connected_Iterative_Scan:seed ignored\n",
      "2020-04-23 00:53:44,185 - cdc_Connected_Iterative_Scan - INFO - Running /opt/gct/submodules/CommunityDetectionCodes/2009-cis -i edges.txt -o output\n",
      "INFO:cdc_Connected_Iterative_Scan:Running /opt/gct/submodules/CommunityDetectionCodes/2009-cis -i edges.txt -o output\n"
     ]
    },
    {
     "name": "stdout",
     "output_type": "stream",
     "text": [
      "runing  cdc_Connected_Iterative_Scan K_DoesAlgSupportDirTest_2\n"
     ]
    },
    {
     "name": "stderr",
     "output_type": "stream",
     "text": [
      "2020-04-23 00:53:44,264 - cdc_Connected_Iterative_Scan - INFO - Made 8 clusters in 0.077209 seconds\n",
      "INFO:cdc_Connected_Iterative_Scan:Made 8 clusters in 0.077209 seconds\n"
     ]
    },
    {
     "name": "stdout",
     "output_type": "stream",
     "text": [
      "finished cdc_Connected_Iterative_Scan K_DoesAlgSupportDirTest_2\n"
     ]
    },
    {
     "name": "stderr",
     "output_type": "stream",
     "text": [
      "2020-04-23 00:53:44,376 - cdc_DEMON - INFO - seed ignored\n",
      "INFO:cdc_DEMON:seed ignored\n",
      "2020-04-23 00:53:44,378 - cdc_DEMON - INFO - Running python /opt/gct/submodules/CommunityDetectionCodes/Algorithms/2012-DEMON/Demon.py edges.txt uw d 0.25 3\n",
      "INFO:cdc_DEMON:Running python /opt/gct/submodules/CommunityDetectionCodes/Algorithms/2012-DEMON/Demon.py edges.txt uw d 0.25 3\n"
     ]
    },
    {
     "name": "stdout",
     "output_type": "stream",
     "text": [
      "runing  cdc_DEMON K_DoesAlgSupportDirTest_1\n",
      "except cdc_DEMON K_DoesAlgSupportDirTest_1\n"
     ]
    },
    {
     "name": "stderr",
     "output_type": "stream",
     "text": [
      "2020-04-23 00:53:44,514 - cdc_DEMON - INFO - seed ignored\n",
      "INFO:cdc_DEMON:seed ignored\n",
      "2020-04-23 00:53:44,516 - cdc_DEMON - INFO - Running python /opt/gct/submodules/CommunityDetectionCodes/Algorithms/2012-DEMON/Demon.py edges.txt uw ud 0.25 3\n",
      "INFO:cdc_DEMON:Running python /opt/gct/submodules/CommunityDetectionCodes/Algorithms/2012-DEMON/Demon.py edges.txt uw ud 0.25 3\n"
     ]
    },
    {
     "name": "stdout",
     "output_type": "stream",
     "text": [
      "runing  cdc_DEMON K_DoesAlgSupportDirTest_2\n",
      "except cdc_DEMON K_DoesAlgSupportDirTest_2\n"
     ]
    },
    {
     "name": "stderr",
     "output_type": "stream",
     "text": [
      "2020-04-23 00:53:44,653 - cdc_EAGLE - INFO - seed ignored\n",
      "INFO:cdc_EAGLE:seed ignored\n",
      "2020-04-23 00:53:44,654 - cdc_EAGLE - INFO - Running /opt/gct/submodules/CommunityDetectionCodes/2009-eagle 7 edges.txt dir output\n",
      "INFO:cdc_EAGLE:Running /opt/gct/submodules/CommunityDetectionCodes/2009-eagle 7 edges.txt dir output\n"
     ]
    },
    {
     "name": "stdout",
     "output_type": "stream",
     "text": [
      "runing  cdc_EAGLE K_DoesAlgSupportDirTest_1\n"
     ]
    },
    {
     "name": "stderr",
     "output_type": "stream",
     "text": [
      "2020-04-23 00:53:45,923 - cdc_EAGLE - INFO - Made 17 clusters in 1.266950 seconds\n",
      "INFO:cdc_EAGLE:Made 17 clusters in 1.266950 seconds\n"
     ]
    },
    {
     "name": "stdout",
     "output_type": "stream",
     "text": [
      "finished cdc_EAGLE K_DoesAlgSupportDirTest_1\n"
     ]
    },
    {
     "name": "stderr",
     "output_type": "stream",
     "text": [
      "2020-04-23 00:53:46,037 - cdc_EAGLE - INFO - seed ignored\n",
      "INFO:cdc_EAGLE:seed ignored\n",
      "2020-04-23 00:53:46,038 - cdc_EAGLE - INFO - Running /opt/gct/submodules/CommunityDetectionCodes/2009-eagle 7 edges.txt undir output\n",
      "INFO:cdc_EAGLE:Running /opt/gct/submodules/CommunityDetectionCodes/2009-eagle 7 edges.txt undir output\n"
     ]
    },
    {
     "name": "stdout",
     "output_type": "stream",
     "text": [
      "runing  cdc_EAGLE K_DoesAlgSupportDirTest_2\n"
     ]
    },
    {
     "name": "stderr",
     "output_type": "stream",
     "text": [
      "2020-04-23 00:53:47,512 - cdc_EAGLE - INFO - Made 7 clusters in 1.472861 seconds\n",
      "INFO:cdc_EAGLE:Made 7 clusters in 1.472861 seconds\n"
     ]
    },
    {
     "name": "stdout",
     "output_type": "stream",
     "text": [
      "finished cdc_EAGLE K_DoesAlgSupportDirTest_2\n"
     ]
    },
    {
     "name": "stderr",
     "output_type": "stream",
     "text": [
      "2020-04-23 00:53:47,626 - cdc_FastCpm - INFO - seed ignored\n",
      "INFO:cdc_FastCpm:seed ignored\n",
      "2020-04-23 00:53:47,627 - cdc_FastCpm - INFO - Running /opt/gct/submodules/CommunityDetectionCodes/2012-fast-cpm edges.txt 4 output.cluster\n",
      "INFO:cdc_FastCpm:Running /opt/gct/submodules/CommunityDetectionCodes/2012-fast-cpm edges.txt 4 output.cluster\n",
      "2020-04-23 00:53:47,657 - cdc_FastCpm - INFO - Made 1 clusters in 0.029192 seconds\n",
      "INFO:cdc_FastCpm:Made 1 clusters in 0.029192 seconds\n"
     ]
    },
    {
     "name": "stdout",
     "output_type": "stream",
     "text": [
      "runing  cdc_FastCpm K_DoesAlgSupportDirTest_1\n",
      "finished cdc_FastCpm K_DoesAlgSupportDirTest_1\n"
     ]
    },
    {
     "name": "stderr",
     "output_type": "stream",
     "text": [
      "2020-04-23 00:53:47,770 - cdc_FastCpm - INFO - seed ignored\n",
      "INFO:cdc_FastCpm:seed ignored\n",
      "2020-04-23 00:53:47,771 - cdc_FastCpm - INFO - Running /opt/gct/submodules/CommunityDetectionCodes/2012-fast-cpm edges.txt 4 output.cluster\n",
      "INFO:cdc_FastCpm:Running /opt/gct/submodules/CommunityDetectionCodes/2012-fast-cpm edges.txt 4 output.cluster\n",
      "2020-04-23 00:53:47,800 - cdc_FastCpm - INFO - Made 1 clusters in 0.028024 seconds\n",
      "INFO:cdc_FastCpm:Made 1 clusters in 0.028024 seconds\n"
     ]
    },
    {
     "name": "stdout",
     "output_type": "stream",
     "text": [
      "runing  cdc_FastCpm K_DoesAlgSupportDirTest_2\n",
      "finished cdc_FastCpm K_DoesAlgSupportDirTest_2\n"
     ]
    },
    {
     "name": "stderr",
     "output_type": "stream",
     "text": [
      "2020-04-23 00:53:47,913 - cdc_GCE - INFO - seed ignored\n",
      "INFO:cdc_GCE:seed ignored\n",
      "2020-04-23 00:53:47,914 - cdc_GCE - INFO - Running /opt/gct/submodules/CommunityDetectionCodes/2011-gce edges.txt 4 0.6 1.0 0.75\n",
      "INFO:cdc_GCE:Running /opt/gct/submodules/CommunityDetectionCodes/2011-gce edges.txt 4 0.6 1.0 0.75\n",
      "2020-04-23 00:53:47,929 - cdc_GCE - INFO - Made 6 clusters in 0.013788 seconds\n",
      "INFO:cdc_GCE:Made 6 clusters in 0.013788 seconds\n"
     ]
    },
    {
     "name": "stdout",
     "output_type": "stream",
     "text": [
      "runing  cdc_GCE K_DoesAlgSupportDirTest_1\n",
      "finished cdc_GCE K_DoesAlgSupportDirTest_1\n"
     ]
    },
    {
     "name": "stderr",
     "output_type": "stream",
     "text": [
      "2020-04-23 00:53:48,042 - cdc_GCE - INFO - seed ignored\n",
      "INFO:cdc_GCE:seed ignored\n",
      "2020-04-23 00:53:48,043 - cdc_GCE - INFO - Running /opt/gct/submodules/CommunityDetectionCodes/2011-gce edges.txt 4 0.6 1.0 0.75\n",
      "INFO:cdc_GCE:Running /opt/gct/submodules/CommunityDetectionCodes/2011-gce edges.txt 4 0.6 1.0 0.75\n",
      "2020-04-23 00:53:48,057 - cdc_GCE - INFO - Made 6 clusters in 0.013606 seconds\n",
      "INFO:cdc_GCE:Made 6 clusters in 0.013606 seconds\n"
     ]
    },
    {
     "name": "stdout",
     "output_type": "stream",
     "text": [
      "runing  cdc_GCE K_DoesAlgSupportDirTest_2\n",
      "finished cdc_GCE K_DoesAlgSupportDirTest_2\n"
     ]
    },
    {
     "name": "stderr",
     "output_type": "stream",
     "text": [
      "2020-04-23 00:53:48,170 - cdc_HDEMON - INFO - seed ignored\n",
      "INFO:cdc_HDEMON:seed ignored\n",
      "2020-04-23 00:53:48,171 - cdc_HDEMON - INFO - Running python /opt/gct/submodules/CommunityDetectionCodes/Algorithms/2012-DEMON/HDemon.py edges.txt uw d 0.25 5\n",
      "INFO:cdc_HDEMON:Running python /opt/gct/submodules/CommunityDetectionCodes/Algorithms/2012-DEMON/HDemon.py edges.txt uw d 0.25 5\n"
     ]
    },
    {
     "name": "stdout",
     "output_type": "stream",
     "text": [
      "runing  cdc_HDEMON K_DoesAlgSupportDirTest_1\n",
      "except cdc_HDEMON K_DoesAlgSupportDirTest_1\n"
     ]
    },
    {
     "name": "stderr",
     "output_type": "stream",
     "text": [
      "2020-04-23 00:53:48,307 - cdc_HDEMON - INFO - seed ignored\n",
      "INFO:cdc_HDEMON:seed ignored\n",
      "2020-04-23 00:53:48,308 - cdc_HDEMON - INFO - Running python /opt/gct/submodules/CommunityDetectionCodes/Algorithms/2012-DEMON/HDemon.py edges.txt uw ud 0.25 5\n",
      "INFO:cdc_HDEMON:Running python /opt/gct/submodules/CommunityDetectionCodes/Algorithms/2012-DEMON/HDemon.py edges.txt uw ud 0.25 5\n"
     ]
    },
    {
     "name": "stdout",
     "output_type": "stream",
     "text": [
      "runing  cdc_HDEMON K_DoesAlgSupportDirTest_2\n",
      "except cdc_HDEMON K_DoesAlgSupportDirTest_2\n"
     ]
    },
    {
     "name": "stderr",
     "output_type": "stream",
     "text": [
      "2020-04-23 00:53:48,445 - cdc_LinkCommunities - INFO - seed ignored\n",
      "INFO:cdc_LinkCommunities:seed ignored\n",
      "2020-04-23 00:53:48,446 - Dataset:K_DoesAlgSupportDirTest_1 - INFO - reading /data/data/K_DoesAlgSupportDirTest_1/edges.parq\n",
      "INFO:Dataset:K_DoesAlgSupportDirTest_1:reading /data/data/K_DoesAlgSupportDirTest_1/edges.parq\n",
      "2020-04-23 00:53:48,458 - cdc_LinkCommunities - INFO - Running /opt/gct/submodules/CommunityDetectionCodes/calcJaccards edges.pairs edges.jaccs\n",
      "INFO:cdc_LinkCommunities:Running /opt/gct/submodules/CommunityDetectionCodes/calcJaccards edges.pairs edges.jaccs\n"
     ]
    },
    {
     "name": "stdout",
     "output_type": "stream",
     "text": [
      "runing  cdc_LinkCommunities K_DoesAlgSupportDirTest_1\n"
     ]
    },
    {
     "name": "stderr",
     "output_type": "stream",
     "text": [
      "2020-04-23 00:53:48,516 - cdc_LinkCommunities - INFO - Finish first step in 0.057388 seconds\n",
      "INFO:cdc_LinkCommunities:Finish first step in 0.057388 seconds\n",
      "2020-04-23 00:53:48,517 - cdc_LinkCommunities - INFO - Running /opt/gct/submodules/CommunityDetectionCodes/clusterJaccards edges.pairs edges.jaccs edges.clusters.0.01 edges.mc_nc.0.01 0.01\n",
      "INFO:cdc_LinkCommunities:Running /opt/gct/submodules/CommunityDetectionCodes/clusterJaccards edges.pairs edges.jaccs edges.clusters.0.01 edges.mc_nc.0.01 0.01\n",
      "2020-04-23 00:53:48,551 - cdc_LinkCommunities - INFO - Made 553 clusters in 0.031399 seconds\n",
      "INFO:cdc_LinkCommunities:Made 553 clusters in 0.031399 seconds\n"
     ]
    },
    {
     "name": "stdout",
     "output_type": "stream",
     "text": [
      "finished cdc_LinkCommunities K_DoesAlgSupportDirTest_1\n"
     ]
    },
    {
     "name": "stderr",
     "output_type": "stream",
     "text": [
      "2020-04-23 00:53:48,666 - cdc_LinkCommunities - INFO - seed ignored\n",
      "INFO:cdc_LinkCommunities:seed ignored\n",
      "2020-04-23 00:53:48,667 - Dataset:K_DoesAlgSupportDirTest_2 - INFO - reading /data/data/K_DoesAlgSupportDirTest_2/edges.parq\n",
      "INFO:Dataset:K_DoesAlgSupportDirTest_2:reading /data/data/K_DoesAlgSupportDirTest_2/edges.parq\n",
      "2020-04-23 00:53:48,677 - cdc_LinkCommunities - INFO - Running /opt/gct/submodules/CommunityDetectionCodes/calcJaccards edges.pairs edges.jaccs\n",
      "INFO:cdc_LinkCommunities:Running /opt/gct/submodules/CommunityDetectionCodes/calcJaccards edges.pairs edges.jaccs\n",
      "2020-04-23 00:53:48,735 - cdc_LinkCommunities - INFO - Finish first step in 0.057109 seconds\n",
      "INFO:cdc_LinkCommunities:Finish first step in 0.057109 seconds\n",
      "2020-04-23 00:53:48,736 - cdc_LinkCommunities - INFO - Running /opt/gct/submodules/CommunityDetectionCodes/clusterJaccards edges.pairs edges.jaccs edges.clusters.0.01 edges.mc_nc.0.01 0.01\n",
      "INFO:cdc_LinkCommunities:Running /opt/gct/submodules/CommunityDetectionCodes/clusterJaccards edges.pairs edges.jaccs edges.clusters.0.01 edges.mc_nc.0.01 0.01\n"
     ]
    },
    {
     "name": "stdout",
     "output_type": "stream",
     "text": [
      "runing  cdc_LinkCommunities K_DoesAlgSupportDirTest_2\n"
     ]
    },
    {
     "name": "stderr",
     "output_type": "stream",
     "text": [
      "2020-04-23 00:53:48,768 - cdc_LinkCommunities - INFO - Made 1 clusters in 0.030689 seconds\n",
      "INFO:cdc_LinkCommunities:Made 1 clusters in 0.030689 seconds\n"
     ]
    },
    {
     "name": "stdout",
     "output_type": "stream",
     "text": [
      "finished cdc_LinkCommunities K_DoesAlgSupportDirTest_2\n"
     ]
    },
    {
     "name": "stderr",
     "output_type": "stream",
     "text": [
      "2020-04-23 00:53:48,881 - cdc_MOSES - INFO - Running /opt/gct/submodules/CommunityDetectionCodes/2011-moses edges.txt cluster.output --seed 123\n",
      "INFO:cdc_MOSES:Running /opt/gct/submodules/CommunityDetectionCodes/2011-moses edges.txt cluster.output --seed 123\n"
     ]
    },
    {
     "name": "stdout",
     "output_type": "stream",
     "text": [
      "runing  cdc_MOSES K_DoesAlgSupportDirTest_1\n"
     ]
    },
    {
     "name": "stderr",
     "output_type": "stream",
     "text": [
      "2020-04-23 00:53:59,813 - cdc_MOSES - INFO - Made 6 clusters in 10.930583 seconds\n",
      "INFO:cdc_MOSES:Made 6 clusters in 10.930583 seconds\n"
     ]
    },
    {
     "name": "stdout",
     "output_type": "stream",
     "text": [
      "finished cdc_MOSES K_DoesAlgSupportDirTest_1\n"
     ]
    },
    {
     "name": "stderr",
     "output_type": "stream",
     "text": [
      "2020-04-23 00:53:59,927 - cdc_MOSES - INFO - Running /opt/gct/submodules/CommunityDetectionCodes/2011-moses edges.txt cluster.output --seed 123\n",
      "INFO:cdc_MOSES:Running /opt/gct/submodules/CommunityDetectionCodes/2011-moses edges.txt cluster.output --seed 123\n"
     ]
    },
    {
     "name": "stdout",
     "output_type": "stream",
     "text": [
      "runing  cdc_MOSES K_DoesAlgSupportDirTest_2\n"
     ]
    },
    {
     "name": "stderr",
     "output_type": "stream",
     "text": [
      "2020-04-23 00:54:11,033 - cdc_MOSES - INFO - Made 6 clusters in 11.104536 seconds\n",
      "INFO:cdc_MOSES:Made 6 clusters in 11.104536 seconds\n"
     ]
    },
    {
     "name": "stdout",
     "output_type": "stream",
     "text": [
      "finished cdc_MOSES K_DoesAlgSupportDirTest_2\n"
     ]
    },
    {
     "name": "stderr",
     "output_type": "stream",
     "text": [
      "2020-04-23 00:54:11,146 - cdc_MSCD_AFG - INFO - seed ignored\n",
      "INFO:cdc_MSCD_AFG:seed ignored\n",
      "2020-04-23 00:54:11,148 - cdc_MSCD_AFG - INFO - Running /opt/gct/submodules/CommunityDetectionCodes/2013-mscd -g graph.edges -d -w -a AFG [1.0,2]\n",
      "INFO:cdc_MSCD_AFG:Running /opt/gct/submodules/CommunityDetectionCodes/2013-mscd -g graph.edges -d -w -a AFG [1.0,2]\n",
      "2020-04-23 00:54:11,158 - cdc_MSCD_AFG - INFO - Made 6 clusters with k=1\n",
      "INFO:cdc_MSCD_AFG:Made 6 clusters with k=1\n",
      "2020-04-23 00:54:11,159 - cdc_MSCD_AFG - INFO - Made 6 clusters with k=2\n",
      "INFO:cdc_MSCD_AFG:Made 6 clusters with k=2\n",
      "2020-04-23 00:54:11,160 - cdc_MSCD_AFG - INFO - Made 2 clusters in 0.008813 seconds\n",
      "INFO:cdc_MSCD_AFG:Made 2 clusters in 0.008813 seconds\n"
     ]
    },
    {
     "name": "stdout",
     "output_type": "stream",
     "text": [
      "runing  cdc_MSCD_AFG K_DoesAlgSupportDirTest_1\n",
      "finished cdc_MSCD_AFG K_DoesAlgSupportDirTest_1\n"
     ]
    },
    {
     "name": "stderr",
     "output_type": "stream",
     "text": [
      "2020-04-23 00:54:11,273 - cdc_MSCD_AFG - INFO - seed ignored\n",
      "INFO:cdc_MSCD_AFG:seed ignored\n",
      "2020-04-23 00:54:11,274 - cdc_MSCD_AFG - INFO - Running /opt/gct/submodules/CommunityDetectionCodes/2013-mscd -g graph.edges -w -a AFG [1.0,2]\n",
      "INFO:cdc_MSCD_AFG:Running /opt/gct/submodules/CommunityDetectionCodes/2013-mscd -g graph.edges -w -a AFG [1.0,2]\n",
      "2020-04-23 00:54:11,284 - cdc_MSCD_AFG - INFO - Made 6 clusters with k=1\n",
      "INFO:cdc_MSCD_AFG:Made 6 clusters with k=1\n",
      "2020-04-23 00:54:11,286 - cdc_MSCD_AFG - INFO - Made 6 clusters with k=2\n",
      "INFO:cdc_MSCD_AFG:Made 6 clusters with k=2\n",
      "2020-04-23 00:54:11,287 - cdc_MSCD_AFG - INFO - Made 2 clusters in 0.008648 seconds\n",
      "INFO:cdc_MSCD_AFG:Made 2 clusters in 0.008648 seconds\n"
     ]
    },
    {
     "name": "stdout",
     "output_type": "stream",
     "text": [
      "runing  cdc_MSCD_AFG K_DoesAlgSupportDirTest_2\n",
      "finished cdc_MSCD_AFG K_DoesAlgSupportDirTest_2\n"
     ]
    },
    {
     "name": "stderr",
     "output_type": "stream",
     "text": [
      "2020-04-23 00:54:11,399 - cdc_MSCD_HSLSW - INFO - seed ignored\n",
      "INFO:cdc_MSCD_HSLSW:seed ignored\n",
      "2020-04-23 00:54:11,401 - cdc_MSCD_HSLSW - INFO - Running /opt/gct/submodules/CommunityDetectionCodes/2013-mscd -g graph.edges -d -w -a HSLSW [1.0,2]\n",
      "INFO:cdc_MSCD_HSLSW:Running /opt/gct/submodules/CommunityDetectionCodes/2013-mscd -g graph.edges -d -w -a HSLSW [1.0,2]\n",
      "2020-04-23 00:54:11,415 - cdc_MSCD_HSLSW - INFO - Made 6 clusters with k=1\n",
      "INFO:cdc_MSCD_HSLSW:Made 6 clusters with k=1\n",
      "2020-04-23 00:54:11,416 - cdc_MSCD_HSLSW - INFO - Made 6 clusters with k=2\n",
      "INFO:cdc_MSCD_HSLSW:Made 6 clusters with k=2\n",
      "2020-04-23 00:54:11,418 - cdc_MSCD_HSLSW - INFO - Made 2 clusters in 0.012470 seconds\n",
      "INFO:cdc_MSCD_HSLSW:Made 2 clusters in 0.012470 seconds\n"
     ]
    },
    {
     "name": "stdout",
     "output_type": "stream",
     "text": [
      "runing  cdc_MSCD_HSLSW K_DoesAlgSupportDirTest_1\n",
      "finished cdc_MSCD_HSLSW K_DoesAlgSupportDirTest_1\n"
     ]
    },
    {
     "name": "stderr",
     "output_type": "stream",
     "text": [
      "2020-04-23 00:54:11,531 - cdc_MSCD_HSLSW - INFO - seed ignored\n",
      "INFO:cdc_MSCD_HSLSW:seed ignored\n",
      "2020-04-23 00:54:11,532 - cdc_MSCD_HSLSW - INFO - Running /opt/gct/submodules/CommunityDetectionCodes/2013-mscd -g graph.edges -w -a HSLSW [1.0,2]\n",
      "INFO:cdc_MSCD_HSLSW:Running /opt/gct/submodules/CommunityDetectionCodes/2013-mscd -g graph.edges -w -a HSLSW [1.0,2]\n",
      "2020-04-23 00:54:11,549 - cdc_MSCD_HSLSW - INFO - Made 6 clusters with k=1\n",
      "INFO:cdc_MSCD_HSLSW:Made 6 clusters with k=1\n",
      "2020-04-23 00:54:11,550 - cdc_MSCD_HSLSW - INFO - Made 6 clusters with k=2\n",
      "INFO:cdc_MSCD_HSLSW:Made 6 clusters with k=2\n",
      "2020-04-23 00:54:11,552 - cdc_MSCD_HSLSW - INFO - Made 2 clusters in 0.014939 seconds\n",
      "INFO:cdc_MSCD_HSLSW:Made 2 clusters in 0.014939 seconds\n"
     ]
    },
    {
     "name": "stdout",
     "output_type": "stream",
     "text": [
      "runing  cdc_MSCD_HSLSW K_DoesAlgSupportDirTest_2\n",
      "finished cdc_MSCD_HSLSW K_DoesAlgSupportDirTest_2\n"
     ]
    },
    {
     "name": "stderr",
     "output_type": "stream",
     "text": [
      "2020-04-23 00:54:11,664 - cdc_MSCD_LFK - INFO - seed ignored\n",
      "INFO:cdc_MSCD_LFK:seed ignored\n",
      "2020-04-23 00:54:11,666 - cdc_MSCD_LFK - INFO - Running /opt/gct/submodules/CommunityDetectionCodes/2013-mscd -g graph.edges -d -w -a LFK [1.0,2]\n",
      "INFO:cdc_MSCD_LFK:Running /opt/gct/submodules/CommunityDetectionCodes/2013-mscd -g graph.edges -d -w -a LFK [1.0,2]\n",
      "2020-04-23 00:54:11,676 - cdc_MSCD_LFK - INFO - Made 6 clusters with k=1\n",
      "INFO:cdc_MSCD_LFK:Made 6 clusters with k=1\n",
      "2020-04-23 00:54:11,678 - cdc_MSCD_LFK - INFO - Made 6 clusters with k=2\n",
      "INFO:cdc_MSCD_LFK:Made 6 clusters with k=2\n",
      "2020-04-23 00:54:11,679 - cdc_MSCD_LFK - INFO - Made 2 clusters in 0.009267 seconds\n",
      "INFO:cdc_MSCD_LFK:Made 2 clusters in 0.009267 seconds\n"
     ]
    },
    {
     "name": "stdout",
     "output_type": "stream",
     "text": [
      "runing  cdc_MSCD_LFK K_DoesAlgSupportDirTest_1\n",
      "finished cdc_MSCD_LFK K_DoesAlgSupportDirTest_1\n"
     ]
    },
    {
     "name": "stderr",
     "output_type": "stream",
     "text": [
      "2020-04-23 00:54:11,791 - cdc_MSCD_LFK - INFO - seed ignored\n",
      "INFO:cdc_MSCD_LFK:seed ignored\n",
      "2020-04-23 00:54:11,793 - cdc_MSCD_LFK - INFO - Running /opt/gct/submodules/CommunityDetectionCodes/2013-mscd -g graph.edges -w -a LFK [1.0,2]\n",
      "INFO:cdc_MSCD_LFK:Running /opt/gct/submodules/CommunityDetectionCodes/2013-mscd -g graph.edges -w -a LFK [1.0,2]\n",
      "2020-04-23 00:54:11,804 - cdc_MSCD_LFK - INFO - Made 6 clusters with k=1\n",
      "INFO:cdc_MSCD_LFK:Made 6 clusters with k=1\n",
      "2020-04-23 00:54:11,806 - cdc_MSCD_LFK - INFO - Made 6 clusters with k=2\n",
      "INFO:cdc_MSCD_LFK:Made 6 clusters with k=2\n",
      "2020-04-23 00:54:11,807 - cdc_MSCD_LFK - INFO - Made 2 clusters in 0.010380 seconds\n",
      "INFO:cdc_MSCD_LFK:Made 2 clusters in 0.010380 seconds\n"
     ]
    },
    {
     "name": "stdout",
     "output_type": "stream",
     "text": [
      "runing  cdc_MSCD_LFK K_DoesAlgSupportDirTest_2\n",
      "finished cdc_MSCD_LFK K_DoesAlgSupportDirTest_2\n"
     ]
    },
    {
     "name": "stderr",
     "output_type": "stream",
     "text": [
      "2020-04-23 00:54:11,920 - cdc_MSCD_LFK2 - INFO - seed ignored\n",
      "INFO:cdc_MSCD_LFK2:seed ignored\n",
      "2020-04-23 00:54:11,921 - cdc_MSCD_LFK2 - INFO - Running /opt/gct/submodules/CommunityDetectionCodes/2013-mscd -g graph.edges -d -w -a LFK2 [1.0,2]\n",
      "INFO:cdc_MSCD_LFK2:Running /opt/gct/submodules/CommunityDetectionCodes/2013-mscd -g graph.edges -d -w -a LFK2 [1.0,2]\n",
      "2020-04-23 00:54:11,932 - cdc_MSCD_LFK2 - INFO - Made 6 clusters with k=1\n",
      "INFO:cdc_MSCD_LFK2:Made 6 clusters with k=1\n",
      "2020-04-23 00:54:11,935 - cdc_MSCD_LFK2 - INFO - Made 6 clusters with k=2\n",
      "INFO:cdc_MSCD_LFK2:Made 6 clusters with k=2\n",
      "2020-04-23 00:54:11,936 - cdc_MSCD_LFK2 - INFO - Made 2 clusters in 0.010484 seconds\n",
      "INFO:cdc_MSCD_LFK2:Made 2 clusters in 0.010484 seconds\n"
     ]
    },
    {
     "name": "stdout",
     "output_type": "stream",
     "text": [
      "runing  cdc_MSCD_LFK2 K_DoesAlgSupportDirTest_1\n",
      "finished cdc_MSCD_LFK2 K_DoesAlgSupportDirTest_1\n"
     ]
    },
    {
     "name": "stderr",
     "output_type": "stream",
     "text": [
      "2020-04-23 00:54:12,049 - cdc_MSCD_LFK2 - INFO - seed ignored\n",
      "INFO:cdc_MSCD_LFK2:seed ignored\n",
      "2020-04-23 00:54:12,050 - cdc_MSCD_LFK2 - INFO - Running /opt/gct/submodules/CommunityDetectionCodes/2013-mscd -g graph.edges -w -a LFK2 [1.0,2]\n",
      "INFO:cdc_MSCD_LFK2:Running /opt/gct/submodules/CommunityDetectionCodes/2013-mscd -g graph.edges -w -a LFK2 [1.0,2]\n",
      "2020-04-23 00:54:12,063 - cdc_MSCD_LFK2 - INFO - Made 7 clusters with k=1\n",
      "INFO:cdc_MSCD_LFK2:Made 7 clusters with k=1\n",
      "2020-04-23 00:54:12,065 - cdc_MSCD_LFK2 - INFO - Made 5 clusters with k=2\n",
      "INFO:cdc_MSCD_LFK2:Made 5 clusters with k=2\n",
      "2020-04-23 00:54:12,066 - cdc_MSCD_LFK2 - INFO - Made 2 clusters in 0.010991 seconds\n",
      "INFO:cdc_MSCD_LFK2:Made 2 clusters in 0.010991 seconds\n"
     ]
    },
    {
     "name": "stdout",
     "output_type": "stream",
     "text": [
      "runing  cdc_MSCD_LFK2 K_DoesAlgSupportDirTest_2\n",
      "finished cdc_MSCD_LFK2 K_DoesAlgSupportDirTest_2\n"
     ]
    },
    {
     "name": "stderr",
     "output_type": "stream",
     "text": [
      "2020-04-23 00:54:12,179 - cdc_MSCD_RB - INFO - seed ignored\n",
      "INFO:cdc_MSCD_RB:seed ignored\n",
      "2020-04-23 00:54:12,180 - cdc_MSCD_RB - INFO - Running /opt/gct/submodules/CommunityDetectionCodes/2013-mscd -g graph.edges -d -w -a RB [1.0,2]\n",
      "INFO:cdc_MSCD_RB:Running /opt/gct/submodules/CommunityDetectionCodes/2013-mscd -g graph.edges -d -w -a RB [1.0,2]\n",
      "2020-04-23 00:54:12,190 - cdc_MSCD_RB - INFO - Made 6 clusters with k=1\n",
      "INFO:cdc_MSCD_RB:Made 6 clusters with k=1\n",
      "2020-04-23 00:54:12,192 - cdc_MSCD_RB - INFO - Made 6 clusters with k=2\n",
      "INFO:cdc_MSCD_RB:Made 6 clusters with k=2\n",
      "2020-04-23 00:54:12,194 - cdc_MSCD_RB - INFO - Made 2 clusters in 0.008513 seconds\n",
      "INFO:cdc_MSCD_RB:Made 2 clusters in 0.008513 seconds\n"
     ]
    },
    {
     "name": "stdout",
     "output_type": "stream",
     "text": [
      "runing  cdc_MSCD_RB K_DoesAlgSupportDirTest_1\n",
      "finished cdc_MSCD_RB K_DoesAlgSupportDirTest_1\n"
     ]
    },
    {
     "name": "stderr",
     "output_type": "stream",
     "text": [
      "2020-04-23 00:54:12,307 - cdc_MSCD_RB - INFO - seed ignored\n",
      "INFO:cdc_MSCD_RB:seed ignored\n",
      "2020-04-23 00:54:12,308 - cdc_MSCD_RB - INFO - Running /opt/gct/submodules/CommunityDetectionCodes/2013-mscd -g graph.edges -w -a RB [1.0,2]\n",
      "INFO:cdc_MSCD_RB:Running /opt/gct/submodules/CommunityDetectionCodes/2013-mscd -g graph.edges -w -a RB [1.0,2]\n",
      "2020-04-23 00:54:12,318 - cdc_MSCD_RB - INFO - Made 6 clusters with k=1\n",
      "INFO:cdc_MSCD_RB:Made 6 clusters with k=1\n",
      "2020-04-23 00:54:12,319 - cdc_MSCD_RB - INFO - Made 6 clusters with k=2\n",
      "INFO:cdc_MSCD_RB:Made 6 clusters with k=2\n",
      "2020-04-23 00:54:12,321 - cdc_MSCD_RB - INFO - Made 2 clusters in 0.008538 seconds\n",
      "INFO:cdc_MSCD_RB:Made 2 clusters in 0.008538 seconds\n"
     ]
    },
    {
     "name": "stdout",
     "output_type": "stream",
     "text": [
      "runing  cdc_MSCD_RB K_DoesAlgSupportDirTest_2\n",
      "finished cdc_MSCD_RB K_DoesAlgSupportDirTest_2\n"
     ]
    },
    {
     "name": "stderr",
     "output_type": "stream",
     "text": [
      "2020-04-23 00:54:12,434 - cdc_MSCD_RN - INFO - seed ignored\n",
      "INFO:cdc_MSCD_RN:seed ignored\n",
      "2020-04-23 00:54:12,435 - cdc_MSCD_RN - INFO - Running /opt/gct/submodules/CommunityDetectionCodes/2013-mscd -g graph.edges -d -w -a RN [1.0,2]\n",
      "INFO:cdc_MSCD_RN:Running /opt/gct/submodules/CommunityDetectionCodes/2013-mscd -g graph.edges -d -w -a RN [1.0,2]\n",
      "2020-04-23 00:54:12,448 - cdc_MSCD_RN - INFO - Made 6 clusters with k=1\n",
      "INFO:cdc_MSCD_RN:Made 6 clusters with k=1\n",
      "2020-04-23 00:54:12,450 - cdc_MSCD_RN - INFO - Made 6 clusters with k=2\n",
      "INFO:cdc_MSCD_RN:Made 6 clusters with k=2\n",
      "2020-04-23 00:54:12,452 - cdc_MSCD_RN - INFO - Made 2 clusters in 0.011449 seconds\n",
      "INFO:cdc_MSCD_RN:Made 2 clusters in 0.011449 seconds\n"
     ]
    },
    {
     "name": "stdout",
     "output_type": "stream",
     "text": [
      "runing  cdc_MSCD_RN K_DoesAlgSupportDirTest_1\n",
      "finished cdc_MSCD_RN K_DoesAlgSupportDirTest_1\n"
     ]
    },
    {
     "name": "stderr",
     "output_type": "stream",
     "text": [
      "2020-04-23 00:54:12,564 - cdc_MSCD_RN - INFO - seed ignored\n",
      "INFO:cdc_MSCD_RN:seed ignored\n",
      "2020-04-23 00:54:12,566 - cdc_MSCD_RN - INFO - Running /opt/gct/submodules/CommunityDetectionCodes/2013-mscd -g graph.edges -w -a RN [1.0,2]\n",
      "INFO:cdc_MSCD_RN:Running /opt/gct/submodules/CommunityDetectionCodes/2013-mscd -g graph.edges -w -a RN [1.0,2]\n",
      "2020-04-23 00:54:12,576 - cdc_MSCD_RN - INFO - Made 6 clusters with k=1\n",
      "INFO:cdc_MSCD_RN:Made 6 clusters with k=1\n",
      "2020-04-23 00:54:12,578 - cdc_MSCD_RN - INFO - Made 6 clusters with k=2\n",
      "INFO:cdc_MSCD_RN:Made 6 clusters with k=2\n",
      "2020-04-23 00:54:12,580 - cdc_MSCD_RN - INFO - Made 2 clusters in 0.008952 seconds\n",
      "INFO:cdc_MSCD_RN:Made 2 clusters in 0.008952 seconds\n"
     ]
    },
    {
     "name": "stdout",
     "output_type": "stream",
     "text": [
      "runing  cdc_MSCD_RN K_DoesAlgSupportDirTest_2\n",
      "finished cdc_MSCD_RN K_DoesAlgSupportDirTest_2\n"
     ]
    },
    {
     "name": "stderr",
     "output_type": "stream",
     "text": [
      "2020-04-23 00:54:12,693 - cdc_MSCD_SO - INFO - seed ignored\n",
      "INFO:cdc_MSCD_SO:seed ignored\n",
      "2020-04-23 00:54:12,694 - cdc_MSCD_SO - INFO - Running /opt/gct/submodules/CommunityDetectionCodes/2013-mscd -g graph.edges -d -w -a SO [1.0,2]\n",
      "INFO:cdc_MSCD_SO:Running /opt/gct/submodules/CommunityDetectionCodes/2013-mscd -g graph.edges -d -w -a SO [1.0,2]\n",
      "2020-04-23 00:54:12,707 - cdc_MSCD_SO - INFO - Made 6 clusters with k=1\n",
      "INFO:cdc_MSCD_SO:Made 6 clusters with k=1\n",
      "2020-04-23 00:54:12,709 - cdc_MSCD_SO - INFO - Made 5 clusters with k=2\n",
      "INFO:cdc_MSCD_SO:Made 5 clusters with k=2\n",
      "2020-04-23 00:54:12,711 - cdc_MSCD_SO - INFO - Made 2 clusters in 0.011764 seconds\n",
      "INFO:cdc_MSCD_SO:Made 2 clusters in 0.011764 seconds\n"
     ]
    },
    {
     "name": "stdout",
     "output_type": "stream",
     "text": [
      "runing  cdc_MSCD_SO K_DoesAlgSupportDirTest_1\n",
      "finished cdc_MSCD_SO K_DoesAlgSupportDirTest_1\n"
     ]
    },
    {
     "name": "stderr",
     "output_type": "stream",
     "text": [
      "2020-04-23 00:54:12,824 - cdc_MSCD_SO - INFO - seed ignored\n",
      "INFO:cdc_MSCD_SO:seed ignored\n",
      "2020-04-23 00:54:12,825 - cdc_MSCD_SO - INFO - Running /opt/gct/submodules/CommunityDetectionCodes/2013-mscd -g graph.edges -w -a SO [1.0,2]\n",
      "INFO:cdc_MSCD_SO:Running /opt/gct/submodules/CommunityDetectionCodes/2013-mscd -g graph.edges -w -a SO [1.0,2]\n",
      "2020-04-23 00:54:12,839 - cdc_MSCD_SO - INFO - Made 6 clusters with k=1\n",
      "INFO:cdc_MSCD_SO:Made 6 clusters with k=1\n",
      "2020-04-23 00:54:12,841 - cdc_MSCD_SO - INFO - Made 5 clusters with k=2\n",
      "INFO:cdc_MSCD_SO:Made 5 clusters with k=2\n",
      "2020-04-23 00:54:12,843 - cdc_MSCD_SO - INFO - Made 2 clusters in 0.012671 seconds\n",
      "INFO:cdc_MSCD_SO:Made 2 clusters in 0.012671 seconds\n"
     ]
    },
    {
     "name": "stdout",
     "output_type": "stream",
     "text": [
      "runing  cdc_MSCD_SO K_DoesAlgSupportDirTest_2\n",
      "finished cdc_MSCD_SO K_DoesAlgSupportDirTest_2\n"
     ]
    },
    {
     "name": "stderr",
     "output_type": "stream",
     "text": [
      "2020-04-23 00:54:12,956 - cdc_MSCD_SOM - INFO - seed ignored\n",
      "INFO:cdc_MSCD_SOM:seed ignored\n",
      "2020-04-23 00:54:12,957 - cdc_MSCD_SOM - INFO - Running /opt/gct/submodules/CommunityDetectionCodes/2013-mscd -g graph.edges -d -w -a SOM [1.0,2]\n",
      "INFO:cdc_MSCD_SOM:Running /opt/gct/submodules/CommunityDetectionCodes/2013-mscd -g graph.edges -d -w -a SOM [1.0,2]\n",
      "2020-04-23 00:54:12,970 - cdc_MSCD_SOM - INFO - Made 6 clusters with k=1\n",
      "INFO:cdc_MSCD_SOM:Made 6 clusters with k=1\n",
      "2020-04-23 00:54:12,971 - cdc_MSCD_SOM - INFO - Made 5 clusters with k=2\n",
      "INFO:cdc_MSCD_SOM:Made 5 clusters with k=2\n",
      "2020-04-23 00:54:12,974 - cdc_MSCD_SOM - INFO - Made 2 clusters in 0.011350 seconds\n",
      "INFO:cdc_MSCD_SOM:Made 2 clusters in 0.011350 seconds\n"
     ]
    },
    {
     "name": "stdout",
     "output_type": "stream",
     "text": [
      "runing  cdc_MSCD_SOM K_DoesAlgSupportDirTest_1\n",
      "finished cdc_MSCD_SOM K_DoesAlgSupportDirTest_1\n"
     ]
    },
    {
     "name": "stderr",
     "output_type": "stream",
     "text": [
      "2020-04-23 00:54:13,086 - cdc_MSCD_SOM - INFO - seed ignored\n",
      "INFO:cdc_MSCD_SOM:seed ignored\n",
      "2020-04-23 00:54:13,088 - cdc_MSCD_SOM - INFO - Running /opt/gct/submodules/CommunityDetectionCodes/2013-mscd -g graph.edges -w -a SOM [1.0,2]\n",
      "INFO:cdc_MSCD_SOM:Running /opt/gct/submodules/CommunityDetectionCodes/2013-mscd -g graph.edges -w -a SOM [1.0,2]\n",
      "2020-04-23 00:54:13,101 - cdc_MSCD_SOM - INFO - Made 6 clusters with k=1\n",
      "INFO:cdc_MSCD_SOM:Made 6 clusters with k=1\n",
      "2020-04-23 00:54:13,102 - cdc_MSCD_SOM - INFO - Made 5 clusters with k=2\n",
      "INFO:cdc_MSCD_SOM:Made 5 clusters with k=2\n",
      "2020-04-23 00:54:13,104 - cdc_MSCD_SOM - INFO - Made 2 clusters in 0.011488 seconds\n",
      "INFO:cdc_MSCD_SOM:Made 2 clusters in 0.011488 seconds\n"
     ]
    },
    {
     "name": "stdout",
     "output_type": "stream",
     "text": [
      "runing  cdc_MSCD_SOM K_DoesAlgSupportDirTest_2\n",
      "finished cdc_MSCD_SOM K_DoesAlgSupportDirTest_2\n"
     ]
    },
    {
     "name": "stderr",
     "output_type": "stream",
     "text": [
      "2020-04-23 00:54:13,217 - cdc_ParCPM - INFO - seed ignored\n",
      "INFO:cdc_ParCPM:seed ignored\n",
      "2020-04-23 00:54:13,218 - cdc_ParCPM - INFO - Running /opt/gct/submodules/CommunityDetectionCodes/max-clique edges.txt\n",
      "INFO:cdc_ParCPM:Running /opt/gct/submodules/CommunityDetectionCodes/max-clique edges.txt\n",
      "2020-04-23 00:54:13,229 - cdc_ParCPM - INFO - Take 0.009843826293945312 seconds for step 1\n",
      "INFO:cdc_ParCPM:Take 0.009843826293945312 seconds for step 1\n",
      "2020-04-23 00:54:13,231 - cdc_ParCPM - INFO - Running /opt/gct/submodules/CommunityDetectionCodes/2012-ParCPM -P 7 -W 30 edges.txt.mcliques\n",
      "INFO:cdc_ParCPM:Running /opt/gct/submodules/CommunityDetectionCodes/2012-ParCPM -P 7 -W 30 edges.txt.mcliques\n",
      "2020-04-23 00:54:13,262 - cdc_ParCPM - INFO - Made 1 clusters with k=3\n",
      "INFO:cdc_ParCPM:Made 1 clusters with k=3\n",
      "2020-04-23 00:54:13,266 - cdc_ParCPM - INFO - Made 1 clusters with k=4\n",
      "INFO:cdc_ParCPM:Made 1 clusters with k=4\n",
      "2020-04-23 00:54:13,270 - cdc_ParCPM - INFO - Made 6 clusters with k=5\n",
      "INFO:cdc_ParCPM:Made 6 clusters with k=5\n",
      "2020-04-23 00:54:13,273 - cdc_ParCPM - INFO - Made 6 clusters with k=6\n",
      "INFO:cdc_ParCPM:Made 6 clusters with k=6\n",
      "2020-04-23 00:54:13,276 - cdc_ParCPM - INFO - Made 6 clusters with k=7\n",
      "INFO:cdc_ParCPM:Made 6 clusters with k=7\n",
      "2020-04-23 00:54:13,280 - cdc_ParCPM - INFO - Made 6 clusters with k=9\n",
      "INFO:cdc_ParCPM:Made 6 clusters with k=9\n",
      "2020-04-23 00:54:13,281 - cdc_ParCPM - INFO - Made 1 clusters with k=17\n",
      "INFO:cdc_ParCPM:Made 1 clusters with k=17\n",
      "2020-04-23 00:54:13,282 - cdc_ParCPM - INFO - Made 1 clusters with k=16\n",
      "INFO:cdc_ParCPM:Made 1 clusters with k=16\n",
      "2020-04-23 00:54:13,284 - cdc_ParCPM - INFO - Made 2 clusters with k=15\n",
      "INFO:cdc_ParCPM:Made 2 clusters with k=15\n",
      "2020-04-23 00:54:13,285 - cdc_ParCPM - INFO - Made 4 clusters with k=12\n"
     ]
    },
    {
     "name": "stdout",
     "output_type": "stream",
     "text": [
      "runing  cdc_ParCPM K_DoesAlgSupportDirTest_1\n"
     ]
    },
    {
     "name": "stderr",
     "output_type": "stream",
     "text": [
      "INFO:cdc_ParCPM:Made 4 clusters with k=12\n",
      "2020-04-23 00:54:13,287 - cdc_ParCPM - INFO - Made 3 clusters with k=13\n",
      "INFO:cdc_ParCPM:Made 3 clusters with k=13\n",
      "2020-04-23 00:54:13,292 - cdc_ParCPM - INFO - Made 6 clusters with k=8\n",
      "INFO:cdc_ParCPM:Made 6 clusters with k=8\n",
      "2020-04-23 00:54:13,294 - cdc_ParCPM - INFO - Made 4 clusters with k=11\n",
      "INFO:cdc_ParCPM:Made 4 clusters with k=11\n",
      "2020-04-23 00:54:13,296 - cdc_ParCPM - INFO - Made 3 clusters with k=14\n",
      "INFO:cdc_ParCPM:Made 3 clusters with k=14\n",
      "2020-04-23 00:54:13,299 - cdc_ParCPM - INFO - Made 6 clusters with k=10\n",
      "INFO:cdc_ParCPM:Made 6 clusters with k=10\n",
      "2020-04-23 00:54:13,301 - cdc_ParCPM - INFO - Made 15 clusters in 0.023373 seconds\n",
      "INFO:cdc_ParCPM:Made 15 clusters in 0.023373 seconds\n"
     ]
    },
    {
     "name": "stdout",
     "output_type": "stream",
     "text": [
      "finished cdc_ParCPM K_DoesAlgSupportDirTest_1\n"
     ]
    },
    {
     "name": "stderr",
     "output_type": "stream",
     "text": [
      "2020-04-23 00:54:13,416 - cdc_ParCPM - INFO - seed ignored\n"
     ]
    },
    {
     "name": "stdout",
     "output_type": "stream",
     "text": [
      "runing  cdc_ParCPM K_DoesAlgSupportDirTest_2\n"
     ]
    },
    {
     "name": "stderr",
     "output_type": "stream",
     "text": [
      "INFO:cdc_ParCPM:seed ignored\n",
      "2020-04-23 00:54:13,417 - cdc_ParCPM - INFO - Running /opt/gct/submodules/CommunityDetectionCodes/max-clique edges.txt\n",
      "INFO:cdc_ParCPM:Running /opt/gct/submodules/CommunityDetectionCodes/max-clique edges.txt\n",
      "2020-04-23 00:54:13,427 - cdc_ParCPM - INFO - Take 0.009447336196899414 seconds for step 1\n",
      "INFO:cdc_ParCPM:Take 0.009447336196899414 seconds for step 1\n",
      "2020-04-23 00:54:13,428 - cdc_ParCPM - INFO - Running /opt/gct/submodules/CommunityDetectionCodes/2012-ParCPM -P 7 -W 30 edges.txt.mcliques\n",
      "INFO:cdc_ParCPM:Running /opt/gct/submodules/CommunityDetectionCodes/2012-ParCPM -P 7 -W 30 edges.txt.mcliques\n",
      "2020-04-23 00:54:13,458 - cdc_ParCPM - INFO - Made 1 clusters with k=3\n",
      "INFO:cdc_ParCPM:Made 1 clusters with k=3\n",
      "2020-04-23 00:54:13,462 - cdc_ParCPM - INFO - Made 1 clusters with k=4\n",
      "INFO:cdc_ParCPM:Made 1 clusters with k=4\n",
      "2020-04-23 00:54:13,465 - cdc_ParCPM - INFO - Made 6 clusters with k=6\n",
      "INFO:cdc_ParCPM:Made 6 clusters with k=6\n",
      "2020-04-23 00:54:13,468 - cdc_ParCPM - INFO - Made 6 clusters with k=5\n",
      "INFO:cdc_ParCPM:Made 6 clusters with k=5\n",
      "2020-04-23 00:54:13,471 - cdc_ParCPM - INFO - Made 6 clusters with k=7\n",
      "INFO:cdc_ParCPM:Made 6 clusters with k=7\n",
      "2020-04-23 00:54:13,475 - cdc_ParCPM - INFO - Made 6 clusters with k=9\n",
      "INFO:cdc_ParCPM:Made 6 clusters with k=9\n",
      "2020-04-23 00:54:13,477 - cdc_ParCPM - INFO - Made 6 clusters with k=10\n",
      "INFO:cdc_ParCPM:Made 6 clusters with k=10\n",
      "2020-04-23 00:54:13,481 - cdc_ParCPM - INFO - Made 6 clusters with k=8\n",
      "INFO:cdc_ParCPM:Made 6 clusters with k=8\n",
      "2020-04-23 00:54:13,482 - cdc_ParCPM - INFO - Made 3 clusters with k=13\n",
      "INFO:cdc_ParCPM:Made 3 clusters with k=13\n",
      "2020-04-23 00:54:13,485 - cdc_ParCPM - INFO - Made 4 clusters with k=11\n",
      "INFO:cdc_ParCPM:Made 4 clusters with k=11\n",
      "2020-04-23 00:54:13,487 - cdc_ParCPM - INFO - Made 4 clusters with k=12\n",
      "INFO:cdc_ParCPM:Made 4 clusters with k=12\n",
      "2020-04-23 00:54:13,488 - cdc_ParCPM - INFO - Made 3 clusters with k=14\n",
      "INFO:cdc_ParCPM:Made 3 clusters with k=14\n",
      "2020-04-23 00:54:13,489 - cdc_ParCPM - INFO - Made 1 clusters with k=17\n",
      "INFO:cdc_ParCPM:Made 1 clusters with k=17\n",
      "2020-04-23 00:54:13,491 - cdc_ParCPM - INFO - Made 1 clusters with k=16\n",
      "INFO:cdc_ParCPM:Made 1 clusters with k=16\n",
      "2020-04-23 00:54:13,492 - cdc_ParCPM - INFO - Made 2 clusters with k=15\n",
      "INFO:cdc_ParCPM:Made 2 clusters with k=15\n",
      "2020-04-23 00:54:13,493 - cdc_ParCPM - INFO - Made 15 clusters in 0.022208 seconds\n",
      "INFO:cdc_ParCPM:Made 15 clusters in 0.022208 seconds\n"
     ]
    },
    {
     "name": "stdout",
     "output_type": "stream",
     "text": [
      "finished cdc_ParCPM K_DoesAlgSupportDirTest_2\n"
     ]
    },
    {
     "name": "stderr",
     "output_type": "stream",
     "text": [
      "2020-04-23 00:54:13,606 - Dataset:K_DoesAlgSupportDirTest_1 - INFO - reading /data/data/K_DoesAlgSupportDirTest_1/edges.parq\n",
      "INFO:Dataset:K_DoesAlgSupportDirTest_1:reading /data/data/K_DoesAlgSupportDirTest_1/edges.parq\n",
      "2020-04-23 00:54:13,611 - cdc_SVINET - INFO - Running /opt/gct/submodules/CommunityDetectionCodes/2013-svinet -file edges.txt -n 128 -k 128 -max-iterations 1000 -findk && (cat n*findk/communities_size.txt | wc -l  > num_cluster.txt) \n",
      "INFO:cdc_SVINET:Running /opt/gct/submodules/CommunityDetectionCodes/2013-svinet -file edges.txt -n 128 -k 128 -max-iterations 1000 -findk && (cat n*findk/communities_size.txt | wc -l  > num_cluster.txt) \n"
     ]
    },
    {
     "name": "stdout",
     "output_type": "stream",
     "text": [
      "runing  cdc_SVINET K_DoesAlgSupportDirTest_1\n"
     ]
    },
    {
     "name": "stderr",
     "output_type": "stream",
     "text": [
      "2020-04-23 00:54:13,645 - cdc_SVINET - INFO - Find k=4  in 0.032339 seconds\n",
      "INFO:cdc_SVINET:Find k=4  in 0.032339 seconds\n",
      "2020-04-23 00:54:13,647 - cdc_SVINET - INFO - Running /opt/gct/submodules/CommunityDetectionCodes/2013-svinet -file edges.txt -n 128 -k 4 -link-sampling -max-iterations 1000 -seed 123\n",
      "INFO:cdc_SVINET:Running /opt/gct/submodules/CommunityDetectionCodes/2013-svinet -file edges.txt -n 128 -k 4 -link-sampling -max-iterations 1000 -seed 123\n",
      "2020-04-23 00:54:16,417 - cdc_SVINET - INFO - read output form /tmp/tmp6bc4_wmp/n128-k4-mmsb-seed123-linksampling/communities.txt\n",
      "INFO:cdc_SVINET:read output form /tmp/tmp6bc4_wmp/n128-k4-mmsb-seed123-linksampling/communities.txt\n",
      "2020-04-23 00:54:16,419 - cdc_SVINET - INFO - Made 4 clusters in 2.768757 seconds\n",
      "INFO:cdc_SVINET:Made 4 clusters in 2.768757 seconds\n"
     ]
    },
    {
     "name": "stdout",
     "output_type": "stream",
     "text": [
      "finished cdc_SVINET K_DoesAlgSupportDirTest_1\n"
     ]
    },
    {
     "name": "stderr",
     "output_type": "stream",
     "text": [
      "2020-04-23 00:54:16,532 - Dataset:K_DoesAlgSupportDirTest_2 - INFO - reading /data/data/K_DoesAlgSupportDirTest_2/edges.parq\n",
      "INFO:Dataset:K_DoesAlgSupportDirTest_2:reading /data/data/K_DoesAlgSupportDirTest_2/edges.parq\n",
      "2020-04-23 00:54:16,537 - cdc_SVINET - INFO - Running /opt/gct/submodules/CommunityDetectionCodes/2013-svinet -file edges.txt -n 128 -k 128 -max-iterations 1000 -findk && (cat n*findk/communities_size.txt | wc -l  > num_cluster.txt) \n",
      "INFO:cdc_SVINET:Running /opt/gct/submodules/CommunityDetectionCodes/2013-svinet -file edges.txt -n 128 -k 128 -max-iterations 1000 -findk && (cat n*findk/communities_size.txt | wc -l  > num_cluster.txt) \n",
      "2020-04-23 00:54:16,570 - cdc_SVINET - INFO - Find k=4  in 0.031751 seconds\n",
      "INFO:cdc_SVINET:Find k=4  in 0.031751 seconds\n",
      "2020-04-23 00:54:16,572 - cdc_SVINET - INFO - Running /opt/gct/submodules/CommunityDetectionCodes/2013-svinet -file edges.txt -n 128 -k 4 -link-sampling -max-iterations 1000 -seed 123\n",
      "INFO:cdc_SVINET:Running /opt/gct/submodules/CommunityDetectionCodes/2013-svinet -file edges.txt -n 128 -k 4 -link-sampling -max-iterations 1000 -seed 123\n"
     ]
    },
    {
     "name": "stdout",
     "output_type": "stream",
     "text": [
      "runing  cdc_SVINET K_DoesAlgSupportDirTest_2\n"
     ]
    },
    {
     "name": "stderr",
     "output_type": "stream",
     "text": [
      "2020-04-23 00:54:19,424 - cdc_SVINET - INFO - read output form /tmp/tmpa2cy_g59/n128-k4-mmsb-seed123-linksampling/communities.txt\n",
      "INFO:cdc_SVINET:read output form /tmp/tmpa2cy_g59/n128-k4-mmsb-seed123-linksampling/communities.txt\n",
      "2020-04-23 00:54:19,426 - cdc_SVINET - INFO - Made 4 clusters in 2.850821 seconds\n",
      "INFO:cdc_SVINET:Made 4 clusters in 2.850821 seconds\n"
     ]
    },
    {
     "name": "stdout",
     "output_type": "stream",
     "text": [
      "finished cdc_SVINET K_DoesAlgSupportDirTest_2\n"
     ]
    },
    {
     "name": "stderr",
     "output_type": "stream",
     "text": [
      "2020-04-23 00:54:19,539 - cdc_TopGC - INFO - seed ignored\n",
      "INFO:cdc_TopGC:seed ignored\n",
      "2020-04-23 00:54:19,540 - Dataset:K_DoesAlgSupportDirTest_1 - INFO - Running cat /data/data/K_DoesAlgSupportDirTest_1/edges.txt|sort -k1,1 -k2,2 -n | /opt/gct/submodules/CommunityDetectionCodes/mkidx >  /data/data/K_DoesAlgSupportDirTest_1/topgc.txt || rm /data/data/K_DoesAlgSupportDirTest_1/topgc.txt\n",
      "INFO:Dataset:K_DoesAlgSupportDirTest_1:Running cat /data/data/K_DoesAlgSupportDirTest_1/edges.txt|sort -k1,1 -k2,2 -n | /opt/gct/submodules/CommunityDetectionCodes/mkidx >  /data/data/K_DoesAlgSupportDirTest_1/topgc.txt || rm /data/data/K_DoesAlgSupportDirTest_1/topgc.txt\n",
      "2020-04-23 00:54:19,550 - cdc_TopGC - INFO - Running java -cp /opt/gct/submodules/CommunityDetectionCodes/topgc-1.0-SNAPSHOT.jar TopGC -i edges.topgc -d\n",
      "INFO:cdc_TopGC:Running java -cp /opt/gct/submodules/CommunityDetectionCodes/topgc-1.0-SNAPSHOT.jar TopGC -i edges.topgc -d\n"
     ]
    },
    {
     "name": "stdout",
     "output_type": "stream",
     "text": [
      "runing  cdc_TopGC K_DoesAlgSupportDirTest_1\n"
     ]
    },
    {
     "name": "stderr",
     "output_type": "stream",
     "text": [
      "2020-04-23 00:54:20,257 - cdc_TopGC - INFO - Made 7 clusters in 0.705750 seconds\n",
      "INFO:cdc_TopGC:Made 7 clusters in 0.705750 seconds\n"
     ]
    },
    {
     "name": "stdout",
     "output_type": "stream",
     "text": [
      "finished cdc_TopGC K_DoesAlgSupportDirTest_1\n"
     ]
    },
    {
     "name": "stderr",
     "output_type": "stream",
     "text": [
      "2020-04-23 00:54:20,371 - cdc_TopGC - INFO - seed ignored\n",
      "INFO:cdc_TopGC:seed ignored\n",
      "2020-04-23 00:54:20,372 - Dataset:K_DoesAlgSupportDirTest_2 - INFO - Running cat /data/data/K_DoesAlgSupportDirTest_2/edges.txt|sort -k1,1 -k2,2 -n | /opt/gct/submodules/CommunityDetectionCodes/mkidx >  /data/data/K_DoesAlgSupportDirTest_2/topgc.txt || rm /data/data/K_DoesAlgSupportDirTest_2/topgc.txt\n",
      "INFO:Dataset:K_DoesAlgSupportDirTest_2:Running cat /data/data/K_DoesAlgSupportDirTest_2/edges.txt|sort -k1,1 -k2,2 -n | /opt/gct/submodules/CommunityDetectionCodes/mkidx >  /data/data/K_DoesAlgSupportDirTest_2/topgc.txt || rm /data/data/K_DoesAlgSupportDirTest_2/topgc.txt\n",
      "2020-04-23 00:54:20,381 - cdc_TopGC - INFO - Running java -cp /opt/gct/submodules/CommunityDetectionCodes/topgc-1.0-SNAPSHOT.jar TopGC -i edges.topgc\n",
      "INFO:cdc_TopGC:Running java -cp /opt/gct/submodules/CommunityDetectionCodes/topgc-1.0-SNAPSHOT.jar TopGC -i edges.topgc\n"
     ]
    },
    {
     "name": "stdout",
     "output_type": "stream",
     "text": [
      "runing  cdc_TopGC K_DoesAlgSupportDirTest_2\n"
     ]
    },
    {
     "name": "stderr",
     "output_type": "stream",
     "text": [
      "2020-04-23 00:54:21,077 - cdc_TopGC - INFO - Made 9 clusters in 0.693860 seconds\n",
      "INFO:cdc_TopGC:Made 9 clusters in 0.693860 seconds\n"
     ]
    },
    {
     "name": "stdout",
     "output_type": "stream",
     "text": [
      "finished cdc_TopGC K_DoesAlgSupportDirTest_2\n"
     ]
    },
    {
     "name": "stderr",
     "output_type": "stream",
     "text": [
      "2020-04-23 00:54:21,190 - cdc_clique_modularity - INFO - seed ignored\n",
      "INFO:cdc_clique_modularity:seed ignored\n",
      "2020-04-23 00:54:21,192 - cdc_clique_modularity - INFO - Running java -cp /opt/gct/submodules/CommunityDetectionCodes/conga-1.0-SNAPSHOT.jar clique_modularity.CM edges.txt -m clique_modularity.algorithm.BK.BK -c 10\n",
      "INFO:cdc_clique_modularity:Running java -cp /opt/gct/submodules/CommunityDetectionCodes/conga-1.0-SNAPSHOT.jar clique_modularity.CM edges.txt -m clique_modularity.algorithm.BK.BK -c 10\n"
     ]
    },
    {
     "name": "stdout",
     "output_type": "stream",
     "text": [
      "runing  cdc_clique_modularity K_DoesAlgSupportDirTest_1\n"
     ]
    },
    {
     "name": "stderr",
     "output_type": "stream",
     "text": [
      "2020-04-23 00:54:21,477 - cdc_clique_modularity - INFO - Made 10 clusters in 0.284258 seconds\n",
      "INFO:cdc_clique_modularity:Made 10 clusters in 0.284258 seconds\n"
     ]
    },
    {
     "name": "stdout",
     "output_type": "stream",
     "text": [
      "finished cdc_clique_modularity K_DoesAlgSupportDirTest_1\n"
     ]
    },
    {
     "name": "stderr",
     "output_type": "stream",
     "text": [
      "2020-04-23 00:54:21,591 - cdc_clique_modularity - INFO - seed ignored\n",
      "INFO:cdc_clique_modularity:seed ignored\n",
      "2020-04-23 00:54:21,592 - cdc_clique_modularity - INFO - Running java -cp /opt/gct/submodules/CommunityDetectionCodes/conga-1.0-SNAPSHOT.jar clique_modularity.CM edges.txt -m clique_modularity.algorithm.BK.BK -c 10\n",
      "INFO:cdc_clique_modularity:Running java -cp /opt/gct/submodules/CommunityDetectionCodes/conga-1.0-SNAPSHOT.jar clique_modularity.CM edges.txt -m clique_modularity.algorithm.BK.BK -c 10\n"
     ]
    },
    {
     "name": "stdout",
     "output_type": "stream",
     "text": [
      "runing  cdc_clique_modularity K_DoesAlgSupportDirTest_2\n"
     ]
    },
    {
     "name": "stderr",
     "output_type": "stream",
     "text": [
      "2020-04-23 00:54:21,871 - cdc_clique_modularity - INFO - Made 10 clusters in 0.277501 seconds\n",
      "INFO:cdc_clique_modularity:Made 10 clusters in 0.277501 seconds\n"
     ]
    },
    {
     "name": "stdout",
     "output_type": "stream",
     "text": [
      "finished cdc_clique_modularity K_DoesAlgSupportDirTest_2\n"
     ]
    },
    {
     "name": "stderr",
     "output_type": "stream",
     "text": [
      "2020-04-23 00:54:21,984 - cgcc_CGGC - INFO - Running /opt/gct/submodules/CGGC/rgmc --seed=123 --inpfmt=e --outfile=output --outfmt=l /data/data/K_DoesAlgSupportDirTest_1/edges.txt\n",
      "INFO:cgcc_CGGC:Running /opt/gct/submodules/CGGC/rgmc --seed=123 --inpfmt=e --outfile=output --outfmt=l /data/data/K_DoesAlgSupportDirTest_1/edges.txt\n",
      "2020-04-23 00:54:21,996 - cgcc_CGGC - INFO - Made 5 clusters in 0.010114 seconds\n",
      "INFO:cgcc_CGGC:Made 5 clusters in 0.010114 seconds\n"
     ]
    },
    {
     "name": "stdout",
     "output_type": "stream",
     "text": [
      "runing  cgcc_CGGC K_DoesAlgSupportDirTest_1\n",
      "finished cgcc_CGGC K_DoesAlgSupportDirTest_1\n"
     ]
    },
    {
     "name": "stderr",
     "output_type": "stream",
     "text": [
      "2020-04-23 00:54:22,108 - cgcc_CGGC - INFO - Running /opt/gct/submodules/CGGC/rgmc --seed=123 --inpfmt=e --outfile=output --outfmt=l /data/data/K_DoesAlgSupportDirTest_2/edges.txt\n",
      "INFO:cgcc_CGGC:Running /opt/gct/submodules/CGGC/rgmc --seed=123 --inpfmt=e --outfile=output --outfmt=l /data/data/K_DoesAlgSupportDirTest_2/edges.txt\n",
      "2020-04-23 00:54:22,119 - cgcc_CGGC - INFO - Made 5 clusters in 0.009585 seconds\n",
      "INFO:cgcc_CGGC:Made 5 clusters in 0.009585 seconds\n"
     ]
    },
    {
     "name": "stdout",
     "output_type": "stream",
     "text": [
      "runing  cgcc_CGGC K_DoesAlgSupportDirTest_2\n",
      "finished cgcc_CGGC K_DoesAlgSupportDirTest_2\n"
     ]
    },
    {
     "name": "stderr",
     "output_type": "stream",
     "text": [
      "2020-04-23 00:54:22,231 - dct_dlplm - WARNING - dct assumes node starts with zero and is continuous\n",
      "WARNING:dct_dlplm:dct assumes node starts with zero and is continuous\n",
      "2020-04-23 00:54:22,232 - dct_dlplm - INFO - Running /opt/gct/submodules/distributed_clustering_thrill/dlplm /tmp/tmphluoqcg7/edges.txt\n",
      "INFO:dct_dlplm:Running /opt/gct/submodules/distributed_clustering_thrill/dlplm /tmp/tmphluoqcg7/edges.txt\n"
     ]
    },
    {
     "name": "stdout",
     "output_type": "stream",
     "text": [
      "runing  dct_dlplm K_DoesAlgSupportDirTest_1\n"
     ]
    },
    {
     "name": "stderr",
     "output_type": "stream",
     "text": [
      "2020-04-23 00:54:22,392 - dct_dlplm - INFO - Made 6 clusters in 0.143285 seconds\n",
      "INFO:dct_dlplm:Made 6 clusters in 0.143285 seconds\n"
     ]
    },
    {
     "name": "stdout",
     "output_type": "stream",
     "text": [
      "finished dct_dlplm K_DoesAlgSupportDirTest_1\n"
     ]
    },
    {
     "name": "stderr",
     "output_type": "stream",
     "text": [
      "2020-04-23 00:54:22,505 - dct_dlplm - WARNING - dct assumes node starts with zero and is continuous\n",
      "WARNING:dct_dlplm:dct assumes node starts with zero and is continuous\n",
      "2020-04-23 00:54:22,506 - dct_dlplm - INFO - Running /opt/gct/submodules/distributed_clustering_thrill/dlplm /tmp/tmpwb_i61ns/edges.txt\n",
      "INFO:dct_dlplm:Running /opt/gct/submodules/distributed_clustering_thrill/dlplm /tmp/tmpwb_i61ns/edges.txt\n"
     ]
    },
    {
     "name": "stdout",
     "output_type": "stream",
     "text": [
      "runing  dct_dlplm K_DoesAlgSupportDirTest_2\n"
     ]
    },
    {
     "name": "stderr",
     "output_type": "stream",
     "text": [
      "2020-04-23 00:54:22,659 - dct_dlplm - INFO - Made 6 clusters in 0.136429 seconds\n",
      "INFO:dct_dlplm:Made 6 clusters in 0.136429 seconds\n"
     ]
    },
    {
     "name": "stdout",
     "output_type": "stream",
     "text": [
      "finished dct_dlplm K_DoesAlgSupportDirTest_2\n"
     ]
    },
    {
     "name": "stderr",
     "output_type": "stream",
     "text": [
      "2020-04-23 00:54:22,773 - dct_dlslm - WARNING - dct assumes node starts with zero and is continuous\n",
      "WARNING:dct_dlslm:dct assumes node starts with zero and is continuous\n",
      "2020-04-23 00:54:22,774 - dct_dlslm - INFO - Running /opt/gct/submodules/distributed_clustering_thrill/dlplm /tmp/tmpkqquwddq/edges.txt\n",
      "INFO:dct_dlslm:Running /opt/gct/submodules/distributed_clustering_thrill/dlplm /tmp/tmpkqquwddq/edges.txt\n"
     ]
    },
    {
     "name": "stdout",
     "output_type": "stream",
     "text": [
      "runing  dct_dlslm K_DoesAlgSupportDirTest_1\n"
     ]
    },
    {
     "name": "stderr",
     "output_type": "stream",
     "text": [
      "2020-04-23 00:54:22,931 - dct_dlslm - INFO - Made 6 clusters in 0.140770 seconds\n",
      "INFO:dct_dlslm:Made 6 clusters in 0.140770 seconds\n"
     ]
    },
    {
     "name": "stdout",
     "output_type": "stream",
     "text": [
      "finished dct_dlslm K_DoesAlgSupportDirTest_1\n"
     ]
    },
    {
     "name": "stderr",
     "output_type": "stream",
     "text": [
      "2020-04-23 00:54:23,044 - dct_dlslm - WARNING - dct assumes node starts with zero and is continuous\n",
      "WARNING:dct_dlslm:dct assumes node starts with zero and is continuous\n",
      "2020-04-23 00:54:23,045 - dct_dlslm - INFO - Running /opt/gct/submodules/distributed_clustering_thrill/dlplm /tmp/tmpnoiq2cw2/edges.txt\n",
      "INFO:dct_dlslm:Running /opt/gct/submodules/distributed_clustering_thrill/dlplm /tmp/tmpnoiq2cw2/edges.txt\n"
     ]
    },
    {
     "name": "stdout",
     "output_type": "stream",
     "text": [
      "runing  dct_dlslm K_DoesAlgSupportDirTest_2\n"
     ]
    },
    {
     "name": "stderr",
     "output_type": "stream",
     "text": [
      "2020-04-23 00:54:23,199 - dct_dlslm - INFO - Made 6 clusters in 0.137309 seconds\n",
      "INFO:dct_dlslm:Made 6 clusters in 0.137309 seconds\n"
     ]
    },
    {
     "name": "stdout",
     "output_type": "stream",
     "text": [
      "finished dct_dlslm K_DoesAlgSupportDirTest_2\n"
     ]
    },
    {
     "name": "stderr",
     "output_type": "stream",
     "text": [
      "2020-04-23 00:54:23,312 - dct_dlslm_map_eq - WARNING - dct assumes node starts with zero and is continuous\n",
      "WARNING:dct_dlslm_map_eq:dct assumes node starts with zero and is continuous\n",
      "2020-04-23 00:54:23,313 - dct_dlslm_map_eq - INFO - Running /opt/gct/submodules/distributed_clustering_thrill/dlslm_map_eq /tmp/tmpychn0xuu/edges.txt\n",
      "INFO:dct_dlslm_map_eq:Running /opt/gct/submodules/distributed_clustering_thrill/dlslm_map_eq /tmp/tmpychn0xuu/edges.txt\n"
     ]
    },
    {
     "name": "stdout",
     "output_type": "stream",
     "text": [
      "runing  dct_dlslm_map_eq K_DoesAlgSupportDirTest_1\n"
     ]
    },
    {
     "name": "stderr",
     "output_type": "stream",
     "text": [
      "2020-04-23 00:54:23,600 - dct_dlslm_map_eq - INFO - Made 6 clusters in 0.270827 seconds\n",
      "INFO:dct_dlslm_map_eq:Made 6 clusters in 0.270827 seconds\n"
     ]
    },
    {
     "name": "stdout",
     "output_type": "stream",
     "text": [
      "finished dct_dlslm_map_eq K_DoesAlgSupportDirTest_1\n"
     ]
    },
    {
     "name": "stderr",
     "output_type": "stream",
     "text": [
      "2020-04-23 00:54:23,713 - dct_dlslm_map_eq - WARNING - dct assumes node starts with zero and is continuous\n",
      "WARNING:dct_dlslm_map_eq:dct assumes node starts with zero and is continuous\n",
      "2020-04-23 00:54:23,715 - dct_dlslm_map_eq - INFO - Running /opt/gct/submodules/distributed_clustering_thrill/dlslm_map_eq /tmp/tmpba438wa0/edges.txt\n",
      "INFO:dct_dlslm_map_eq:Running /opt/gct/submodules/distributed_clustering_thrill/dlslm_map_eq /tmp/tmpba438wa0/edges.txt\n"
     ]
    },
    {
     "name": "stdout",
     "output_type": "stream",
     "text": [
      "runing  dct_dlslm_map_eq K_DoesAlgSupportDirTest_2\n"
     ]
    },
    {
     "name": "stderr",
     "output_type": "stream",
     "text": [
      "2020-04-23 00:54:24,041 - dct_dlslm_map_eq - INFO - Made 6 clusters in 0.309799 seconds\n",
      "INFO:dct_dlslm_map_eq:Made 6 clusters in 0.309799 seconds\n"
     ]
    },
    {
     "name": "stdout",
     "output_type": "stream",
     "text": [
      "finished dct_dlslm_map_eq K_DoesAlgSupportDirTest_2\n"
     ]
    },
    {
     "name": "stderr",
     "output_type": "stream",
     "text": [
      "2020-04-23 00:54:24,154 - dct_dlslm_no_contraction - WARNING - dct assumes node starts with zero and is continuous\n",
      "WARNING:dct_dlslm_no_contraction:dct assumes node starts with zero and is continuous\n",
      "2020-04-23 00:54:24,155 - dct_dlslm_no_contraction - INFO - Running /opt/gct/submodules/distributed_clustering_thrill/dlslm_no_contraction /tmp/tmpp1zmtfz1/edges.txt\n",
      "INFO:dct_dlslm_no_contraction:Running /opt/gct/submodules/distributed_clustering_thrill/dlslm_no_contraction /tmp/tmpp1zmtfz1/edges.txt\n"
     ]
    },
    {
     "name": "stdout",
     "output_type": "stream",
     "text": [
      "runing  dct_dlslm_no_contraction K_DoesAlgSupportDirTest_1\n"
     ]
    },
    {
     "name": "stderr",
     "output_type": "stream",
     "text": [
      "2020-04-23 00:54:24,381 - dct_dlslm_no_contraction - INFO - Made 6 clusters in 0.209596 seconds\n",
      "INFO:dct_dlslm_no_contraction:Made 6 clusters in 0.209596 seconds\n"
     ]
    },
    {
     "name": "stdout",
     "output_type": "stream",
     "text": [
      "finished dct_dlslm_no_contraction K_DoesAlgSupportDirTest_1\n"
     ]
    },
    {
     "name": "stderr",
     "output_type": "stream",
     "text": [
      "2020-04-23 00:54:24,494 - dct_dlslm_no_contraction - WARNING - dct assumes node starts with zero and is continuous\n",
      "WARNING:dct_dlslm_no_contraction:dct assumes node starts with zero and is continuous\n",
      "2020-04-23 00:54:24,496 - dct_dlslm_no_contraction - INFO - Running /opt/gct/submodules/distributed_clustering_thrill/dlslm_no_contraction /tmp/tmplt0jwkt4/edges.txt\n",
      "INFO:dct_dlslm_no_contraction:Running /opt/gct/submodules/distributed_clustering_thrill/dlslm_no_contraction /tmp/tmplt0jwkt4/edges.txt\n"
     ]
    },
    {
     "name": "stdout",
     "output_type": "stream",
     "text": [
      "runing  dct_dlslm_no_contraction K_DoesAlgSupportDirTest_2\n"
     ]
    },
    {
     "name": "stderr",
     "output_type": "stream",
     "text": [
      "2020-04-23 00:54:24,714 - dct_dlslm_no_contraction - INFO - Made 6 clusters in 0.202389 seconds\n",
      "INFO:dct_dlslm_no_contraction:Made 6 clusters in 0.202389 seconds\n"
     ]
    },
    {
     "name": "stdout",
     "output_type": "stream",
     "text": [
      "finished dct_dlslm_no_contraction K_DoesAlgSupportDirTest_2\n"
     ]
    },
    {
     "name": "stderr",
     "output_type": "stream",
     "text": [
      "2020-04-23 00:54:24,827 - dct_dlslm_with_seq - WARNING - dct assumes node starts with zero and is continuous\n",
      "WARNING:dct_dlslm_with_seq:dct assumes node starts with zero and is continuous\n",
      "2020-04-23 00:54:24,829 - dct_dlslm_with_seq - INFO - Running /opt/gct/submodules/distributed_clustering_thrill/dlslm_with_seq /tmp/tmphgsz6_kj/edges.txt\n",
      "INFO:dct_dlslm_with_seq:Running /opt/gct/submodules/distributed_clustering_thrill/dlslm_with_seq /tmp/tmphgsz6_kj/edges.txt\n"
     ]
    },
    {
     "name": "stdout",
     "output_type": "stream",
     "text": [
      "runing  dct_dlslm_with_seq K_DoesAlgSupportDirTest_1\n"
     ]
    },
    {
     "name": "stderr",
     "output_type": "stream",
     "text": [
      "2020-04-23 00:54:24,972 - dct_dlslm_with_seq - INFO - Made 6 clusters in 0.126226 seconds\n",
      "INFO:dct_dlslm_with_seq:Made 6 clusters in 0.126226 seconds\n"
     ]
    },
    {
     "name": "stdout",
     "output_type": "stream",
     "text": [
      "finished dct_dlslm_with_seq K_DoesAlgSupportDirTest_1\n"
     ]
    },
    {
     "name": "stderr",
     "output_type": "stream",
     "text": [
      "2020-04-23 00:54:25,084 - dct_dlslm_with_seq - WARNING - dct assumes node starts with zero and is continuous\n",
      "WARNING:dct_dlslm_with_seq:dct assumes node starts with zero and is continuous\n",
      "2020-04-23 00:54:25,086 - dct_dlslm_with_seq - INFO - Running /opt/gct/submodules/distributed_clustering_thrill/dlslm_with_seq /tmp/tmp6avlv584/edges.txt\n",
      "INFO:dct_dlslm_with_seq:Running /opt/gct/submodules/distributed_clustering_thrill/dlslm_with_seq /tmp/tmp6avlv584/edges.txt\n"
     ]
    },
    {
     "name": "stdout",
     "output_type": "stream",
     "text": [
      "runing  dct_dlslm_with_seq K_DoesAlgSupportDirTest_2\n"
     ]
    },
    {
     "name": "stderr",
     "output_type": "stream",
     "text": [
      "2020-04-23 00:54:25,226 - dct_dlslm_with_seq - INFO - Made 6 clusters in 0.124184 seconds\n",
      "INFO:dct_dlslm_with_seq:Made 6 clusters in 0.124184 seconds\n"
     ]
    },
    {
     "name": "stdout",
     "output_type": "stream",
     "text": [
      "finished dct_dlslm_with_seq K_DoesAlgSupportDirTest_2\n"
     ]
    },
    {
     "name": "stderr",
     "output_type": "stream",
     "text": [
      "2020-04-23 00:54:25,339 - dct_infomap - WARNING - dct::seq_louvain assumes node starts with zero and is continuous\n",
      "WARNING:dct_infomap:dct::seq_louvain assumes node starts with zero and is continuous\n",
      "2020-04-23 00:54:25,341 - dct_infomap - INFO - Running /opt/gct/submodules/distributed_clustering_thrill/infomap_directed -f -s 123 -o output /tmp/tmpcnw6zcpi/edges.txt\n",
      "INFO:dct_infomap:Running /opt/gct/submodules/distributed_clustering_thrill/infomap_directed -f -s 123 -o output /tmp/tmpcnw6zcpi/edges.txt\n",
      "2020-04-23 00:54:25,374 - dct_infomap - INFO - Made 6 clusters in 0.026059 seconds\n",
      "INFO:dct_infomap:Made 6 clusters in 0.026059 seconds\n"
     ]
    },
    {
     "name": "stdout",
     "output_type": "stream",
     "text": [
      "runing  dct_infomap K_DoesAlgSupportDirTest_1\n",
      "finished dct_infomap K_DoesAlgSupportDirTest_1\n"
     ]
    },
    {
     "name": "stderr",
     "output_type": "stream",
     "text": [
      "2020-04-23 00:54:25,487 - dct_infomap - WARNING - dct::seq_louvain assumes node starts with zero and is continuous\n",
      "WARNING:dct_infomap:dct::seq_louvain assumes node starts with zero and is continuous\n",
      "2020-04-23 00:54:25,488 - dct_infomap - INFO - Running /opt/gct/submodules/distributed_clustering_thrill/infomap -f -s 123 -o output /tmp/tmphy6fnf36/edges.txt\n",
      "INFO:dct_infomap:Running /opt/gct/submodules/distributed_clustering_thrill/infomap -f -s 123 -o output /tmp/tmphy6fnf36/edges.txt\n",
      "2020-04-23 00:54:25,517 - dct_infomap - INFO - Made 6 clusters in 0.020775 seconds\n",
      "INFO:dct_infomap:Made 6 clusters in 0.020775 seconds\n"
     ]
    },
    {
     "name": "stdout",
     "output_type": "stream",
     "text": [
      "runing  dct_infomap K_DoesAlgSupportDirTest_2\n",
      "finished dct_infomap K_DoesAlgSupportDirTest_2\n"
     ]
    },
    {
     "name": "stderr",
     "output_type": "stream",
     "text": [
      "2020-04-23 00:54:25,629 - dct_seq_louvain - WARNING - dct::seq_louvain assumes node starts with zero and is continuous\n",
      "WARNING:dct_seq_louvain:dct::seq_louvain assumes node starts with zero and is continuous\n",
      "2020-04-23 00:54:25,630 - dct_seq_louvain - INFO - Running /opt/gct/submodules/distributed_clustering_thrill/seq_louvain -f -s 123 -o output /tmp/tmp8zibf4vs/edges.txt\n",
      "INFO:dct_seq_louvain:Running /opt/gct/submodules/distributed_clustering_thrill/seq_louvain -f -s 123 -o output /tmp/tmp8zibf4vs/edges.txt\n",
      "2020-04-23 00:54:25,651 - dct_seq_louvain - INFO - Made 6 clusters in 0.013427 seconds\n",
      "INFO:dct_seq_louvain:Made 6 clusters in 0.013427 seconds\n"
     ]
    },
    {
     "name": "stdout",
     "output_type": "stream",
     "text": [
      "runing  dct_seq_louvain K_DoesAlgSupportDirTest_1\n",
      "finished dct_seq_louvain K_DoesAlgSupportDirTest_1\n"
     ]
    },
    {
     "name": "stderr",
     "output_type": "stream",
     "text": [
      "2020-04-23 00:54:25,762 - dct_seq_louvain - WARNING - dct::seq_louvain assumes node starts with zero and is continuous\n",
      "WARNING:dct_seq_louvain:dct::seq_louvain assumes node starts with zero and is continuous\n",
      "2020-04-23 00:54:25,764 - dct_seq_louvain - INFO - Running /opt/gct/submodules/distributed_clustering_thrill/seq_louvain -f -s 123 -o output /tmp/tmpokbboj7w/edges.txt\n",
      "INFO:dct_seq_louvain:Running /opt/gct/submodules/distributed_clustering_thrill/seq_louvain -f -s 123 -o output /tmp/tmpokbboj7w/edges.txt\n",
      "2020-04-23 00:54:25,783 - dct_seq_louvain - INFO - Made 6 clusters in 0.012735 seconds\n",
      "INFO:dct_seq_louvain:Made 6 clusters in 0.012735 seconds\n"
     ]
    },
    {
     "name": "stdout",
     "output_type": "stream",
     "text": [
      "runing  dct_seq_louvain K_DoesAlgSupportDirTest_2\n",
      "finished dct_seq_louvain K_DoesAlgSupportDirTest_2\n"
     ]
    },
    {
     "name": "stderr",
     "output_type": "stream",
     "text": [
      "2020-04-23 00:54:25,895 - igraph_community_edge_betweenness - INFO - seed ignored\n",
      "INFO:igraph_community_edge_betweenness:seed ignored\n",
      "2020-04-23 00:54:25,896 - Dataset:K_DoesAlgSupportDirTest_1 - INFO - reading /data/data/K_DoesAlgSupportDirTest_1/edges.parq\n",
      "INFO:Dataset:K_DoesAlgSupportDirTest_1:reading /data/data/K_DoesAlgSupportDirTest_1/edges.parq\n"
     ]
    },
    {
     "name": "stdout",
     "output_type": "stream",
     "text": [
      "runing  igraph_community_edge_betweenness K_DoesAlgSupportDirTest_1\n"
     ]
    },
    {
     "name": "stderr",
     "output_type": "stream",
     "text": [
      "2020-04-23 00:54:27,380 - igraph_community_edge_betweenness - INFO - Made 6 clusters in 1.478910 seconds. modularity=0.613330 \n",
      "INFO:igraph_community_edge_betweenness:Made 6 clusters in 1.478910 seconds. modularity=0.613330 \n"
     ]
    },
    {
     "name": "stdout",
     "output_type": "stream",
     "text": [
      "finished igraph_community_edge_betweenness K_DoesAlgSupportDirTest_1\n"
     ]
    },
    {
     "name": "stderr",
     "output_type": "stream",
     "text": [
      "2020-04-23 00:54:27,493 - igraph_community_edge_betweenness - INFO - seed ignored\n",
      "INFO:igraph_community_edge_betweenness:seed ignored\n",
      "2020-04-23 00:54:27,494 - Dataset:K_DoesAlgSupportDirTest_2 - INFO - reading /data/data/K_DoesAlgSupportDirTest_2/edges.parq\n",
      "INFO:Dataset:K_DoesAlgSupportDirTest_2:reading /data/data/K_DoesAlgSupportDirTest_2/edges.parq\n"
     ]
    },
    {
     "name": "stdout",
     "output_type": "stream",
     "text": [
      "runing  igraph_community_edge_betweenness K_DoesAlgSupportDirTest_2\n"
     ]
    },
    {
     "name": "stderr",
     "output_type": "stream",
     "text": [
      "2020-04-23 00:54:30,042 - igraph_community_edge_betweenness - INFO - Made 6 clusters in 2.541584 seconds. modularity=0.550215 \n",
      "INFO:igraph_community_edge_betweenness:Made 6 clusters in 2.541584 seconds. modularity=0.550215 \n"
     ]
    },
    {
     "name": "stdout",
     "output_type": "stream",
     "text": [
      "finished igraph_community_edge_betweenness K_DoesAlgSupportDirTest_2\n",
      "runing  igraph_community_fastgreedy K_DoesAlgSupportDirTest_1\n",
      "finished igraph_community_fastgreedy K_DoesAlgSupportDirTest_1\n"
     ]
    },
    {
     "name": "stderr",
     "output_type": "stream",
     "text": [
      "Error: only undirected and unmirrored graph is supported for community_fastgreedy\n",
      "2020-04-23 00:54:30,266 - igraph_community_fastgreedy - INFO - seed ignored\n",
      "INFO:igraph_community_fastgreedy:seed ignored\n",
      "2020-04-23 00:54:30,267 - Dataset:K_DoesAlgSupportDirTest_2 - INFO - reading /data/data/K_DoesAlgSupportDirTest_2/edges.parq\n",
      "INFO:Dataset:K_DoesAlgSupportDirTest_2:reading /data/data/K_DoesAlgSupportDirTest_2/edges.parq\n",
      "2020-04-23 00:54:30,275 - igraph_community_fastgreedy - INFO - Made 4 clusters in 0.002379 seconds. modularity=0.510913 \n",
      "INFO:igraph_community_fastgreedy:Made 4 clusters in 0.002379 seconds. modularity=0.510913 \n"
     ]
    },
    {
     "name": "stdout",
     "output_type": "stream",
     "text": [
      "runing  igraph_community_fastgreedy K_DoesAlgSupportDirTest_2\n",
      "finished igraph_community_fastgreedy K_DoesAlgSupportDirTest_2\n"
     ]
    },
    {
     "name": "stderr",
     "output_type": "stream",
     "text": [
      "2020-04-23 00:54:30,386 - igraph_community_infomap - INFO - seed ignored\n",
      "INFO:igraph_community_infomap:seed ignored\n",
      "2020-04-23 00:54:30,387 - Dataset:K_DoesAlgSupportDirTest_1 - INFO - reading /data/data/K_DoesAlgSupportDirTest_1/edges.parq\n",
      "INFO:Dataset:K_DoesAlgSupportDirTest_1:reading /data/data/K_DoesAlgSupportDirTest_1/edges.parq\n",
      "2020-04-23 00:54:30,407 - igraph_community_infomap - INFO - Made 6 clusters in 0.014656 seconds. modularity=0.613330 \n",
      "INFO:igraph_community_infomap:Made 6 clusters in 0.014656 seconds. modularity=0.613330 \n"
     ]
    },
    {
     "name": "stdout",
     "output_type": "stream",
     "text": [
      "runing  igraph_community_infomap K_DoesAlgSupportDirTest_1\n",
      "finished igraph_community_infomap K_DoesAlgSupportDirTest_1\n"
     ]
    },
    {
     "name": "stderr",
     "output_type": "stream",
     "text": [
      "2020-04-23 00:54:30,518 - igraph_community_infomap - INFO - seed ignored\n",
      "INFO:igraph_community_infomap:seed ignored\n",
      "2020-04-23 00:54:30,519 - Dataset:K_DoesAlgSupportDirTest_2 - INFO - reading /data/data/K_DoesAlgSupportDirTest_2/edges.parq\n",
      "INFO:Dataset:K_DoesAlgSupportDirTest_2:reading /data/data/K_DoesAlgSupportDirTest_2/edges.parq\n",
      "2020-04-23 00:54:30,540 - igraph_community_infomap - INFO - Made 6 clusters in 0.016230 seconds. modularity=0.550215 \n",
      "INFO:igraph_community_infomap:Made 6 clusters in 0.016230 seconds. modularity=0.550215 \n"
     ]
    },
    {
     "name": "stdout",
     "output_type": "stream",
     "text": [
      "runing  igraph_community_infomap K_DoesAlgSupportDirTest_2\n",
      "finished igraph_community_infomap K_DoesAlgSupportDirTest_2\n"
     ]
    },
    {
     "name": "stderr",
     "output_type": "stream",
     "text": [
      "2020-04-23 00:54:30,651 - igraph_community_label_propagation - INFO - seed ignored\n",
      "INFO:igraph_community_label_propagation:seed ignored\n",
      "2020-04-23 00:54:30,652 - Dataset:K_DoesAlgSupportDirTest_1 - INFO - reading /data/data/K_DoesAlgSupportDirTest_1/edges.parq\n",
      "INFO:Dataset:K_DoesAlgSupportDirTest_1:reading /data/data/K_DoesAlgSupportDirTest_1/edges.parq\n",
      "2020-04-23 00:54:30,657 - igraph_community_label_propagation - INFO - Made 6 clusters in 0.000257 seconds. modularity=0.613330 \n",
      "INFO:igraph_community_label_propagation:Made 6 clusters in 0.000257 seconds. modularity=0.613330 \n"
     ]
    },
    {
     "name": "stdout",
     "output_type": "stream",
     "text": [
      "runing  igraph_community_label_propagation K_DoesAlgSupportDirTest_1\n",
      "finished igraph_community_label_propagation K_DoesAlgSupportDirTest_1\n"
     ]
    },
    {
     "name": "stderr",
     "output_type": "stream",
     "text": [
      "2020-04-23 00:54:30,769 - igraph_community_label_propagation - INFO - seed ignored\n",
      "INFO:igraph_community_label_propagation:seed ignored\n",
      "2020-04-23 00:54:30,769 - Dataset:K_DoesAlgSupportDirTest_2 - INFO - reading /data/data/K_DoesAlgSupportDirTest_2/edges.parq\n",
      "INFO:Dataset:K_DoesAlgSupportDirTest_2:reading /data/data/K_DoesAlgSupportDirTest_2/edges.parq\n",
      "2020-04-23 00:54:30,775 - igraph_community_label_propagation - INFO - Made 5 clusters in 0.000296 seconds. modularity=0.530785 \n",
      "INFO:igraph_community_label_propagation:Made 5 clusters in 0.000296 seconds. modularity=0.530785 \n"
     ]
    },
    {
     "name": "stdout",
     "output_type": "stream",
     "text": [
      "runing  igraph_community_label_propagation K_DoesAlgSupportDirTest_2\n",
      "finished igraph_community_label_propagation K_DoesAlgSupportDirTest_2\n"
     ]
    },
    {
     "name": "stderr",
     "output_type": "stream",
     "text": [
      "2020-04-23 00:54:30,886 - igraph_community_leading_eigenvector - INFO - seed ignored\n",
      "INFO:igraph_community_leading_eigenvector:seed ignored\n",
      "2020-04-23 00:54:30,887 - Dataset:K_DoesAlgSupportDirTest_1 - INFO - reading /data/data/K_DoesAlgSupportDirTest_1/edges.parq\n",
      "INFO:Dataset:K_DoesAlgSupportDirTest_1:reading /data/data/K_DoesAlgSupportDirTest_1/edges.parq\n",
      "2020-04-23 00:54:30,918 - igraph_community_leading_eigenvector - INFO - Made 11 clusters in 0.026109 seconds. modularity=0.496895 \n",
      "INFO:igraph_community_leading_eigenvector:Made 11 clusters in 0.026109 seconds. modularity=0.496895 \n"
     ]
    },
    {
     "name": "stdout",
     "output_type": "stream",
     "text": [
      "runing  igraph_community_leading_eigenvector K_DoesAlgSupportDirTest_1\n",
      "finished igraph_community_leading_eigenvector K_DoesAlgSupportDirTest_1\n"
     ]
    },
    {
     "name": "stderr",
     "output_type": "stream",
     "text": [
      "2020-04-23 00:54:31,030 - igraph_community_leading_eigenvector - INFO - seed ignored\n",
      "INFO:igraph_community_leading_eigenvector:seed ignored\n",
      "2020-04-23 00:54:31,030 - Dataset:K_DoesAlgSupportDirTest_2 - INFO - reading /data/data/K_DoesAlgSupportDirTest_2/edges.parq\n",
      "INFO:Dataset:K_DoesAlgSupportDirTest_2:reading /data/data/K_DoesAlgSupportDirTest_2/edges.parq\n",
      "2020-04-23 00:54:31,058 - igraph_community_leading_eigenvector - INFO - Made 9 clusters in 0.022881 seconds. modularity=0.385306 \n",
      "INFO:igraph_community_leading_eigenvector:Made 9 clusters in 0.022881 seconds. modularity=0.385306 \n"
     ]
    },
    {
     "name": "stdout",
     "output_type": "stream",
     "text": [
      "runing  igraph_community_leading_eigenvector K_DoesAlgSupportDirTest_2\n",
      "finished igraph_community_leading_eigenvector K_DoesAlgSupportDirTest_2\n"
     ]
    },
    {
     "name": "stderr",
     "output_type": "stream",
     "text": [
      "2020-04-23 00:54:31,170 - igraph_community_multilevel - INFO - seed ignored\n",
      "INFO:igraph_community_multilevel:seed ignored\n",
      "2020-04-23 00:54:31,170 - Dataset:K_DoesAlgSupportDirTest_1 - INFO - reading /data/data/K_DoesAlgSupportDirTest_1/edges.parq\n",
      "INFO:Dataset:K_DoesAlgSupportDirTest_1:reading /data/data/K_DoesAlgSupportDirTest_1/edges.parq\n"
     ]
    },
    {
     "name": "stdout",
     "output_type": "stream",
     "text": [
      "runing  igraph_community_multilevel K_DoesAlgSupportDirTest_1\n",
      "except igraph_community_multilevel K_DoesAlgSupportDirTest_1\n"
     ]
    },
    {
     "name": "stderr",
     "output_type": "stream",
     "text": [
      "2020-04-23 00:54:31,285 - igraph_community_multilevel - INFO - seed ignored\n",
      "INFO:igraph_community_multilevel:seed ignored\n",
      "2020-04-23 00:54:31,286 - Dataset:K_DoesAlgSupportDirTest_2 - INFO - reading /data/data/K_DoesAlgSupportDirTest_2/edges.parq\n",
      "INFO:Dataset:K_DoesAlgSupportDirTest_2:reading /data/data/K_DoesAlgSupportDirTest_2/edges.parq\n",
      "2020-04-23 00:54:31,292 - igraph_community_multilevel - INFO - Made 6 clusters in 0.000953 seconds. modularity=0.550215 \n",
      "INFO:igraph_community_multilevel:Made 6 clusters in 0.000953 seconds. modularity=0.550215 \n"
     ]
    },
    {
     "name": "stdout",
     "output_type": "stream",
     "text": [
      "runing  igraph_community_multilevel K_DoesAlgSupportDirTest_2\n",
      "finished igraph_community_multilevel K_DoesAlgSupportDirTest_2\n"
     ]
    },
    {
     "name": "stderr",
     "output_type": "stream",
     "text": [
      "2020-04-23 00:54:31,403 - igraph_community_optimal_modularity - INFO - seed ignored\n",
      "INFO:igraph_community_optimal_modularity:seed ignored\n",
      "2020-04-23 00:54:31,404 - Dataset:K_DoesAlgSupportDirTest_1 - INFO - reading /data/data/K_DoesAlgSupportDirTest_1/edges.parq\n",
      "INFO:Dataset:K_DoesAlgSupportDirTest_1:reading /data/data/K_DoesAlgSupportDirTest_1/edges.parq\n"
     ]
    },
    {
     "name": "stdout",
     "output_type": "stream",
     "text": [
      "runing  igraph_community_optimal_modularity K_DoesAlgSupportDirTest_1\n"
     ]
    },
    {
     "name": "stderr",
     "output_type": "stream",
     "text": [
      "2020-04-23 00:59:43,025 - igraph_community_optimal_modularity - INFO - Made 6 clusters in 311.616206 seconds. modularity=0.614583 \n",
      "INFO:igraph_community_optimal_modularity:Made 6 clusters in 311.616206 seconds. modularity=0.614583 \n"
     ]
    },
    {
     "name": "stdout",
     "output_type": "stream",
     "text": [
      "finished igraph_community_optimal_modularity K_DoesAlgSupportDirTest_1\n"
     ]
    },
    {
     "name": "stderr",
     "output_type": "stream",
     "text": [
      "2020-04-23 00:59:43,141 - igraph_community_optimal_modularity - INFO - seed ignored\n",
      "INFO:igraph_community_optimal_modularity:seed ignored\n",
      "2020-04-23 00:59:43,142 - Dataset:K_DoesAlgSupportDirTest_2 - INFO - reading /data/data/K_DoesAlgSupportDirTest_2/edges.parq\n",
      "INFO:Dataset:K_DoesAlgSupportDirTest_2:reading /data/data/K_DoesAlgSupportDirTest_2/edges.parq\n"
     ]
    },
    {
     "name": "stdout",
     "output_type": "stream",
     "text": [
      "runing  igraph_community_optimal_modularity K_DoesAlgSupportDirTest_2\n"
     ]
    },
    {
     "name": "stderr",
     "output_type": "stream",
     "text": [
      "2020-04-23 01:14:30,225 - igraph_community_optimal_modularity - INFO - Made 6 clusters in 887.077844 seconds. modularity=0.550215 \n"
     ]
    },
    {
     "name": "stdout",
     "output_type": "stream",
     "text": [
      "except igraph_community_optimal_modularity K_DoesAlgSupportDirTest_2\n",
      "timeout <function run_alg at 0x7f5341dc4ae8> ('igraph_community_optimal_modularity', 'K_DoesAlgSupportDirTest_2') {}\n",
      "tiemout igraph_community_optimal_modularity K_DoesAlgSupportDirTest_2\n"
     ]
    },
    {
     "name": "stderr",
     "output_type": "stream",
     "text": [
      "2020-04-23 01:14:30,340 - igraph_community_spinglass - INFO - seed ignored\n",
      "INFO:igraph_community_spinglass:seed ignored\n",
      "2020-04-23 01:14:30,341 - Dataset:K_DoesAlgSupportDirTest_1 - INFO - reading /data/data/K_DoesAlgSupportDirTest_1/edges.parq\n",
      "INFO:Dataset:K_DoesAlgSupportDirTest_1:reading /data/data/K_DoesAlgSupportDirTest_1/edges.parq\n"
     ]
    },
    {
     "name": "stdout",
     "output_type": "stream",
     "text": [
      "runing  igraph_community_spinglass K_DoesAlgSupportDirTest_1\n"
     ]
    },
    {
     "name": "stderr",
     "output_type": "stream",
     "text": [
      "2020-04-23 01:14:30,883 - igraph_community_spinglass - INFO - Made 6 clusters in 0.537019 seconds. modularity=0.613330 \n",
      "INFO:igraph_community_spinglass:Made 6 clusters in 0.537019 seconds. modularity=0.613330 \n"
     ]
    },
    {
     "name": "stdout",
     "output_type": "stream",
     "text": [
      "finished igraph_community_spinglass K_DoesAlgSupportDirTest_1\n"
     ]
    },
    {
     "name": "stderr",
     "output_type": "stream",
     "text": [
      "2020-04-23 01:14:30,996 - igraph_community_spinglass - INFO - seed ignored\n",
      "INFO:igraph_community_spinglass:seed ignored\n",
      "2020-04-23 01:14:30,997 - Dataset:K_DoesAlgSupportDirTest_2 - INFO - reading /data/data/K_DoesAlgSupportDirTest_2/edges.parq\n",
      "INFO:Dataset:K_DoesAlgSupportDirTest_2:reading /data/data/K_DoesAlgSupportDirTest_2/edges.parq\n"
     ]
    },
    {
     "name": "stdout",
     "output_type": "stream",
     "text": [
      "runing  igraph_community_spinglass K_DoesAlgSupportDirTest_2\n"
     ]
    },
    {
     "name": "stderr",
     "output_type": "stream",
     "text": [
      "2020-04-23 01:14:31,543 - igraph_community_spinglass - INFO - Made 6 clusters in 0.541186 seconds. modularity=0.550215 \n",
      "INFO:igraph_community_spinglass:Made 6 clusters in 0.541186 seconds. modularity=0.550215 \n"
     ]
    },
    {
     "name": "stdout",
     "output_type": "stream",
     "text": [
      "finished igraph_community_spinglass K_DoesAlgSupportDirTest_2\n"
     ]
    },
    {
     "name": "stderr",
     "output_type": "stream",
     "text": [
      "2020-04-23 01:14:31,656 - igraph_community_walktrap - INFO - seed ignored\n",
      "INFO:igraph_community_walktrap:seed ignored\n",
      "2020-04-23 01:14:31,657 - Dataset:K_DoesAlgSupportDirTest_1 - INFO - reading /data/data/K_DoesAlgSupportDirTest_1/edges.parq\n",
      "INFO:Dataset:K_DoesAlgSupportDirTest_1:reading /data/data/K_DoesAlgSupportDirTest_1/edges.parq\n",
      "2020-04-23 01:14:31,665 - igraph_community_walktrap - INFO - Made 6 clusters in 0.003146 seconds. modularity=0.613330 \n",
      "INFO:igraph_community_walktrap:Made 6 clusters in 0.003146 seconds. modularity=0.613330 \n"
     ]
    },
    {
     "name": "stdout",
     "output_type": "stream",
     "text": [
      "runing  igraph_community_walktrap K_DoesAlgSupportDirTest_1\n",
      "finished igraph_community_walktrap K_DoesAlgSupportDirTest_1\n"
     ]
    },
    {
     "name": "stderr",
     "output_type": "stream",
     "text": [
      "2020-04-23 01:14:31,777 - igraph_community_walktrap - INFO - seed ignored\n",
      "INFO:igraph_community_walktrap:seed ignored\n",
      "2020-04-23 01:14:31,778 - Dataset:K_DoesAlgSupportDirTest_2 - INFO - reading /data/data/K_DoesAlgSupportDirTest_2/edges.parq\n",
      "INFO:Dataset:K_DoesAlgSupportDirTest_2:reading /data/data/K_DoesAlgSupportDirTest_2/edges.parq\n",
      "2020-04-23 01:14:31,785 - igraph_community_walktrap - INFO - Made 6 clusters in 0.003050 seconds. modularity=0.550215 \n",
      "INFO:igraph_community_walktrap:Made 6 clusters in 0.003050 seconds. modularity=0.550215 \n"
     ]
    },
    {
     "name": "stdout",
     "output_type": "stream",
     "text": [
      "runing  igraph_community_walktrap K_DoesAlgSupportDirTest_2\n",
      "finished igraph_community_walktrap K_DoesAlgSupportDirTest_2\n"
     ]
    },
    {
     "name": "stderr",
     "output_type": "stream",
     "text": [
      "2020-04-23 01:14:31,897 - mcl_MCL - INFO - seed ignored\n",
      "INFO:mcl_MCL:seed ignored\n",
      "2020-04-23 01:14:31,898 - Dataset:K_DoesAlgSupportDirTest_1 - INFO - running /opt/gct/submodules/local/bin/mcxload -123 /data/data/K_DoesAlgSupportDirTest_1/edges.txt -o /data/data/K_DoesAlgSupportDirTest_1/mcl.mci --write-binary\n",
      "INFO:Dataset:K_DoesAlgSupportDirTest_1:running /opt/gct/submodules/local/bin/mcxload -123 /data/data/K_DoesAlgSupportDirTest_1/edges.txt -o /data/data/K_DoesAlgSupportDirTest_1/mcl.mci --write-binary\n",
      "2020-04-23 01:14:31,906 - mcl_MCL - INFO - Running /opt/gct/submodules/local/bin/mcl /data/data/K_DoesAlgSupportDirTest_1/mcl.mci -o output\n",
      "INFO:mcl_MCL:Running /opt/gct/submodules/local/bin/mcl /data/data/K_DoesAlgSupportDirTest_1/mcl.mci -o output\n",
      "2020-04-23 01:14:31,907 - mcl_MCL - INFO - Running /opt/gct/submodules/local/bin/mcxdump -imx output -o cluster.output\n",
      "INFO:mcl_MCL:Running /opt/gct/submodules/local/bin/mcxdump -imx output -o cluster.output\n",
      "2020-04-23 01:14:31,930 - mcl_MCL - INFO - Made 5 clusters in 0.021266 seconds\n",
      "INFO:mcl_MCL:Made 5 clusters in 0.021266 seconds\n"
     ]
    },
    {
     "name": "stdout",
     "output_type": "stream",
     "text": [
      "runing  mcl_MCL K_DoesAlgSupportDirTest_1\n",
      "finished mcl_MCL K_DoesAlgSupportDirTest_1\n"
     ]
    },
    {
     "name": "stderr",
     "output_type": "stream",
     "text": [
      "2020-04-23 01:14:32,042 - mcl_MCL - INFO - seed ignored\n",
      "INFO:mcl_MCL:seed ignored\n",
      "2020-04-23 01:14:32,043 - Dataset:K_DoesAlgSupportDirTest_2 - INFO - running /opt/gct/submodules/local/bin/mcxload --stream-mirror -123 /data/data/K_DoesAlgSupportDirTest_2/edges.txt -o /data/data/K_DoesAlgSupportDirTest_2/mcl.mci --write-binary\n",
      "INFO:Dataset:K_DoesAlgSupportDirTest_2:running /opt/gct/submodules/local/bin/mcxload --stream-mirror -123 /data/data/K_DoesAlgSupportDirTest_2/edges.txt -o /data/data/K_DoesAlgSupportDirTest_2/mcl.mci --write-binary\n",
      "2020-04-23 01:14:32,051 - mcl_MCL - INFO - Running /opt/gct/submodules/local/bin/mcl /data/data/K_DoesAlgSupportDirTest_2/mcl.mci -o output\n",
      "INFO:mcl_MCL:Running /opt/gct/submodules/local/bin/mcl /data/data/K_DoesAlgSupportDirTest_2/mcl.mci -o output\n",
      "2020-04-23 01:14:32,053 - mcl_MCL - INFO - Running /opt/gct/submodules/local/bin/mcxdump -imx output -o cluster.output\n",
      "INFO:mcl_MCL:Running /opt/gct/submodules/local/bin/mcxdump -imx output -o cluster.output\n",
      "2020-04-23 01:14:32,080 - mcl_MCL - INFO - Made 6 clusters in 0.026242 seconds\n",
      "INFO:mcl_MCL:Made 6 clusters in 0.026242 seconds\n"
     ]
    },
    {
     "name": "stdout",
     "output_type": "stream",
     "text": [
      "runing  mcl_MCL K_DoesAlgSupportDirTest_2\n",
      "finished mcl_MCL K_DoesAlgSupportDirTest_2\n"
     ]
    },
    {
     "name": "stderr",
     "output_type": "stream",
     "text": [
      "2020-04-23 01:14:32,193 - networkit_CutClustering - INFO - seed ignored\n",
      "INFO:networkit_CutClustering:seed ignored\n",
      "2020-04-23 01:14:32,209 - networkit_CutClustering - INFO - Made 1 clusters in 0.013230 seconds.\n",
      "INFO:networkit_CutClustering:Made 1 clusters in 0.013230 seconds.\n"
     ]
    },
    {
     "name": "stdout",
     "output_type": "stream",
     "text": [
      "runing  networkit_CutClustering K_DoesAlgSupportDirTest_1\n",
      "CutClustering(0.1) detected communities in 0.010362386703491211 [s]\n",
      "solution properties:\n",
      "-------------------  ---\n",
      "# communities          1\n",
      "min community size   128\n",
      "max community size   128\n",
      "avg. community size  128\n",
      "modularity             0\n",
      "-------------------  ---\n",
      "finished networkit_CutClustering K_DoesAlgSupportDirTest_1\n"
     ]
    },
    {
     "name": "stderr",
     "output_type": "stream",
     "text": [
      "2020-04-23 01:14:32,321 - networkit_CutClustering - INFO - seed ignored\n",
      "INFO:networkit_CutClustering:seed ignored\n",
      "2020-04-23 01:14:32,331 - networkit_CutClustering - INFO - Made 1 clusters in 0.007952 seconds.\n",
      "INFO:networkit_CutClustering:Made 1 clusters in 0.007952 seconds.\n"
     ]
    },
    {
     "name": "stdout",
     "output_type": "stream",
     "text": [
      "runing  networkit_CutClustering K_DoesAlgSupportDirTest_2\n",
      "CutClustering(0.1) detected communities in 0.007074832916259766 [s]\n",
      "solution properties:\n",
      "-------------------  ---\n",
      "# communities          1\n",
      "min community size   128\n",
      "max community size   128\n",
      "avg. community size  128\n",
      "modularity             0\n",
      "-------------------  ---\n",
      "finished networkit_CutClustering K_DoesAlgSupportDirTest_2\n"
     ]
    },
    {
     "name": "stderr",
     "output_type": "stream",
     "text": [
      "2020-04-23 01:14:32,444 - networkit_LPDegreeOrdered - INFO - seed ignored\n",
      "INFO:networkit_LPDegreeOrdered:seed ignored\n",
      "2020-04-23 01:14:32,459 - networkit_LPDegreeOrdered - INFO - Made 4 clusters in 0.012639 seconds.\n",
      "INFO:networkit_LPDegreeOrdered:Made 4 clusters in 0.012639 seconds.\n"
     ]
    },
    {
     "name": "stdout",
     "output_type": "stream",
     "text": [
      "runing  networkit_LPDegreeOrdered K_DoesAlgSupportDirTest_1\n",
      "LPDegreeOrdered() detected communities in 0.011723995208740234 [s]\n",
      "solution properties:\n",
      "-------------------  ---------\n",
      "# communities         4\n",
      "min community size   13\n",
      "max community size   66\n",
      "avg. community size  32\n",
      "modularity            0.431612\n",
      "-------------------  ---------\n",
      "finished networkit_LPDegreeOrdered K_DoesAlgSupportDirTest_1\n"
     ]
    },
    {
     "name": "stderr",
     "output_type": "stream",
     "text": [
      "2020-04-23 01:14:32,573 - networkit_LPDegreeOrdered - INFO - seed ignored\n",
      "INFO:networkit_LPDegreeOrdered:seed ignored\n",
      "2020-04-23 01:14:32,585 - networkit_LPDegreeOrdered - INFO - Made 4 clusters in 0.009347 seconds.\n",
      "INFO:networkit_LPDegreeOrdered:Made 4 clusters in 0.009347 seconds.\n"
     ]
    },
    {
     "name": "stdout",
     "output_type": "stream",
     "text": [
      "runing  networkit_LPDegreeOrdered K_DoesAlgSupportDirTest_2\n",
      "LPDegreeOrdered() detected communities in 0.008429288864135742 [s]\n",
      "solution properties:\n",
      "-------------------  --------\n",
      "# communities         4\n",
      "min community size   23\n",
      "max community size   52\n",
      "avg. community size  32\n",
      "modularity            0.51052\n",
      "-------------------  --------\n",
      "finished networkit_LPDegreeOrdered K_DoesAlgSupportDirTest_2\n"
     ]
    },
    {
     "name": "stderr",
     "output_type": "stream",
     "text": [
      "2020-04-23 01:14:32,701 - networkit_PLM - INFO - seed ignored\n",
      "INFO:networkit_PLM:seed ignored\n",
      "2020-04-23 01:14:32,714 - networkit_PLM - INFO - Made 6 clusters in 0.010415 seconds.\n",
      "INFO:networkit_PLM:Made 6 clusters in 0.010415 seconds.\n"
     ]
    },
    {
     "name": "stdout",
     "output_type": "stream",
     "text": [
      "runing  networkit_PLM K_DoesAlgSupportDirTest_1\n",
      "PLM(balanced,pc,turbo) detected communities in 0.009502410888671875 [s]\n",
      "solution properties:\n",
      "-------------------  ---------\n",
      "# communities         6\n",
      "min community size   12\n",
      "max community size   27\n",
      "avg. community size  21.3333\n",
      "modularity            0.550215\n",
      "-------------------  ---------\n",
      "finished networkit_PLM K_DoesAlgSupportDirTest_1\n"
     ]
    },
    {
     "name": "stderr",
     "output_type": "stream",
     "text": [
      "2020-04-23 01:14:32,827 - networkit_PLM - INFO - seed ignored\n",
      "INFO:networkit_PLM:seed ignored\n",
      "2020-04-23 01:14:32,836 - networkit_PLM - INFO - Made 6 clusters in 0.006916 seconds.\n",
      "INFO:networkit_PLM:Made 6 clusters in 0.006916 seconds.\n"
     ]
    },
    {
     "name": "stdout",
     "output_type": "stream",
     "text": [
      "runing  networkit_PLM K_DoesAlgSupportDirTest_2\n",
      "PLM(balanced,pc,turbo) detected communities in 0.006011486053466797 [s]\n",
      "solution properties:\n",
      "-------------------  ---------\n",
      "# communities         6\n",
      "min community size   12\n",
      "max community size   27\n",
      "avg. community size  21.3333\n",
      "modularity            0.550215\n",
      "-------------------  ---------\n",
      "finished networkit_PLM K_DoesAlgSupportDirTest_2\n"
     ]
    },
    {
     "name": "stderr",
     "output_type": "stream",
     "text": [
      "2020-04-23 01:14:32,952 - networkit_PLP - INFO - seed ignored\n",
      "INFO:networkit_PLP:seed ignored\n",
      "2020-04-23 01:14:32,978 - networkit_PLP - INFO - Made 3 clusters in 0.022871 seconds.\n",
      "INFO:networkit_PLP:Made 3 clusters in 0.022871 seconds.\n"
     ]
    },
    {
     "name": "stdout",
     "output_type": "stream",
     "text": [
      "runing  networkit_PLP K_DoesAlgSupportDirTest_1\n",
      "PLP detected communities in 0.021939992904663086 [s]\n",
      "solution properties:\n",
      "-------------------  ---------\n",
      "# communities         3\n",
      "min community size   26\n",
      "max community size   76\n",
      "avg. community size  42.6667\n",
      "modularity            0.427111\n",
      "-------------------  ---------\n",
      "finished networkit_PLP K_DoesAlgSupportDirTest_1\n"
     ]
    },
    {
     "name": "stderr",
     "output_type": "stream",
     "text": [
      "2020-04-23 01:14:33,090 - networkit_PLP - INFO - seed ignored\n",
      "INFO:networkit_PLP:seed ignored\n",
      "2020-04-23 01:14:33,094 - networkit_PLP - INFO - Made 3 clusters in 0.001778 seconds.\n",
      "INFO:networkit_PLP:Made 3 clusters in 0.001778 seconds.\n"
     ]
    },
    {
     "name": "stdout",
     "output_type": "stream",
     "text": [
      "runing  networkit_PLP K_DoesAlgSupportDirTest_2\n",
      "PLP detected communities in 0.000843048095703125 [s]\n",
      "solution properties:\n",
      "-------------------  ---------\n",
      "# communities         3\n",
      "min community size   26\n",
      "max community size   75\n",
      "avg. community size  42.6667\n",
      "modularity            0.436265\n",
      "-------------------  ---------\n",
      "finished networkit_PLP K_DoesAlgSupportDirTest_2\n"
     ]
    },
    {
     "name": "stderr",
     "output_type": "stream",
     "text": [
      "2020-04-23 01:14:33,207 - alg_GossipMap - INFO - seed ignored\n",
      "INFO:alg_GossipMap:seed ignored\n",
      "2020-04-23 01:14:33,208 - alg_GossipMap - INFO - Running /opt/gct/submodules/PowerGraph/GossipMap --graph /tmp/tmpdghkilo2/edges.txt --prefix output.cluster --ncpus 7\n",
      "INFO:alg_GossipMap:Running /opt/gct/submodules/PowerGraph/GossipMap --graph /tmp/tmpdghkilo2/edges.txt --prefix output.cluster --ncpus 7\n"
     ]
    },
    {
     "name": "stdout",
     "output_type": "stream",
     "text": [
      "runing  alg_GossipMap K_DoesAlgSupportDirTest_1\n"
     ]
    },
    {
     "name": "stderr",
     "output_type": "stream",
     "text": [
      "2020-04-23 01:14:33,995 - alg_GossipMap - INFO - Made 6 clusters in 0.773782 seconds\n",
      "INFO:alg_GossipMap:Made 6 clusters in 0.773782 seconds\n"
     ]
    },
    {
     "name": "stdout",
     "output_type": "stream",
     "text": [
      "finished alg_GossipMap K_DoesAlgSupportDirTest_1\n"
     ]
    },
    {
     "name": "stderr",
     "output_type": "stream",
     "text": [
      "2020-04-23 01:14:34,110 - alg_GossipMap - INFO - seed ignored\n",
      "INFO:alg_GossipMap:seed ignored\n",
      "2020-04-23 01:14:34,111 - alg_GossipMap - INFO - Running /opt/gct/submodules/PowerGraph/GossipMap --graph /tmp/tmpnt6zdtlc/edges.txt --prefix output.cluster --ncpus 7\n",
      "INFO:alg_GossipMap:Running /opt/gct/submodules/PowerGraph/GossipMap --graph /tmp/tmpnt6zdtlc/edges.txt --prefix output.cluster --ncpus 7\n"
     ]
    },
    {
     "name": "stdout",
     "output_type": "stream",
     "text": [
      "runing  alg_GossipMap K_DoesAlgSupportDirTest_2\n"
     ]
    },
    {
     "name": "stderr",
     "output_type": "stream",
     "text": [
      "2020-04-23 01:14:34,943 - alg_GossipMap - INFO - Made 6 clusters in 0.819439 seconds\n",
      "INFO:alg_GossipMap:Made 6 clusters in 0.819439 seconds\n"
     ]
    },
    {
     "name": "stdout",
     "output_type": "stream",
     "text": [
      "finished alg_GossipMap K_DoesAlgSupportDirTest_2\n"
     ]
    },
    {
     "name": "stderr",
     "output_type": "stream",
     "text": [
      "2020-04-23 01:14:35,058 - alg_RelaxMap - INFO - Running /opt/gct/submodules/RelaxMap/ompRelaxmap 123 /tmp/tmpvhdp5zc9/edges.txt 7 1 0.001 0.0 10 /tmp/tmpvhdp5zc9 prior\n",
      "INFO:alg_RelaxMap:Running /opt/gct/submodules/RelaxMap/ompRelaxmap 123 /tmp/tmpvhdp5zc9/edges.txt 7 1 0.001 0.0 10 /tmp/tmpvhdp5zc9 prior\n",
      "2020-04-23 01:14:35,084 - alg_RelaxMap - INFO - Made 6 clusters in 0.017619 seconds\n",
      "INFO:alg_RelaxMap:Made 6 clusters in 0.017619 seconds\n"
     ]
    },
    {
     "name": "stdout",
     "output_type": "stream",
     "text": [
      "runing  alg_RelaxMap K_DoesAlgSupportDirTest_1\n",
      "finished alg_RelaxMap K_DoesAlgSupportDirTest_1\n"
     ]
    },
    {
     "name": "stderr",
     "output_type": "stream",
     "text": [
      "2020-04-23 01:14:35,197 - alg_RelaxMap - INFO - Running /opt/gct/submodules/RelaxMap/ompRelaxmap 123 /tmp/tmp_rbip77l/edges.txt 7 1 0.001 0.0 10 /tmp/tmp_rbip77l prior\n",
      "INFO:alg_RelaxMap:Running /opt/gct/submodules/RelaxMap/ompRelaxmap 123 /tmp/tmp_rbip77l/edges.txt 7 1 0.001 0.0 10 /tmp/tmp_rbip77l prior\n",
      "2020-04-23 01:14:35,229 - alg_RelaxMap - INFO - Made 5 clusters in 0.023558 seconds\n",
      "INFO:alg_RelaxMap:Made 5 clusters in 0.023558 seconds\n"
     ]
    },
    {
     "name": "stdout",
     "output_type": "stream",
     "text": [
      "runing  alg_RelaxMap K_DoesAlgSupportDirTest_2\n",
      "finished alg_RelaxMap K_DoesAlgSupportDirTest_2\n"
     ]
    },
    {
     "name": "stderr",
     "output_type": "stream",
     "text": [
      "2020-04-23 01:14:35,341 - alg_pg_label_propagation - INFO - seed ignored\n",
      "INFO:alg_pg_label_propagation:seed ignored\n",
      "2020-04-23 01:14:35,343 - alg_pg_label_propagation - INFO - Running /opt/gct/submodules/PowerGraph/label_propagation --graph /tmp/tmpjyw1qmdh/edges.txt --saveprefix=output.cluster --execution async --ncpus 7 --weighted 0 --directed 1\n",
      "INFO:alg_pg_label_propagation:Running /opt/gct/submodules/PowerGraph/label_propagation --graph /tmp/tmpjyw1qmdh/edges.txt --saveprefix=output.cluster --execution async --ncpus 7 --weighted 0 --directed 1\n"
     ]
    },
    {
     "name": "stdout",
     "output_type": "stream",
     "text": [
      "runing  alg_pg_label_propagation K_DoesAlgSupportDirTest_1\n"
     ]
    },
    {
     "name": "stderr",
     "output_type": "stream",
     "text": [
      "2020-04-23 01:14:35,780 - alg_pg_label_propagation - INFO - Made 6 clusters in 0.425536 seconds\n",
      "INFO:alg_pg_label_propagation:Made 6 clusters in 0.425536 seconds\n"
     ]
    },
    {
     "name": "stdout",
     "output_type": "stream",
     "text": [
      "finished alg_pg_label_propagation K_DoesAlgSupportDirTest_1\n"
     ]
    },
    {
     "name": "stderr",
     "output_type": "stream",
     "text": [
      "2020-04-23 01:14:35,894 - alg_pg_label_propagation - INFO - seed ignored\n",
      "INFO:alg_pg_label_propagation:seed ignored\n",
      "2020-04-23 01:14:35,896 - alg_pg_label_propagation - INFO - Running /opt/gct/submodules/PowerGraph/label_propagation --graph /tmp/tmpbc56a_0s/edges.txt --saveprefix=output.cluster --execution async --ncpus 7 --weighted 0 --directed 0\n",
      "INFO:alg_pg_label_propagation:Running /opt/gct/submodules/PowerGraph/label_propagation --graph /tmp/tmpbc56a_0s/edges.txt --saveprefix=output.cluster --execution async --ncpus 7 --weighted 0 --directed 0\n"
     ]
    },
    {
     "name": "stdout",
     "output_type": "stream",
     "text": [
      "runing  alg_pg_label_propagation K_DoesAlgSupportDirTest_2\n"
     ]
    },
    {
     "name": "stderr",
     "output_type": "stream",
     "text": [
      "2020-04-23 01:14:36,327 - alg_pg_label_propagation - INFO - Made 3 clusters in 0.420740 seconds\n",
      "INFO:alg_pg_label_propagation:Made 3 clusters in 0.420740 seconds\n"
     ]
    },
    {
     "name": "stdout",
     "output_type": "stream",
     "text": [
      "finished alg_pg_label_propagation K_DoesAlgSupportDirTest_2\n"
     ]
    },
    {
     "name": "stderr",
     "output_type": "stream",
     "text": [
      "2020-04-23 01:14:36,442 - scan_AnyScan_Scan - INFO - seed ignored\n",
      "INFO:scan_AnyScan_Scan:seed ignored\n",
      "2020-04-23 01:14:36,443 - Dataset:K_DoesAlgSupportDirTest_1 - INFO - reading /data/data/K_DoesAlgSupportDirTest_1/edges.parq\n",
      "INFO:Dataset:K_DoesAlgSupportDirTest_1:reading /data/data/K_DoesAlgSupportDirTest_1/edges.parq\n",
      "2020-04-23 01:14:36,448 - Dataset:K_DoesAlgSupportDirTest_1 - INFO - min node: 0, max node: 127\n",
      "INFO:Dataset:K_DoesAlgSupportDirTest_1:min node: 0, max node: 127\n",
      "2020-04-23 01:14:36,461 - scan_AnyScan_Scan - INFO - Running /opt/gct/submodules/ppSCAN/anyscan -c 1 -i /data/data/K_DoesAlgSupportDirTest_1/anyscan.txt -m 4 -e 0.5 -o output -a 32768 -b 32768 -t 7\n",
      "INFO:scan_AnyScan_Scan:Running /opt/gct/submodules/ppSCAN/anyscan -c 1 -i /data/data/K_DoesAlgSupportDirTest_1/anyscan.txt -m 4 -e 0.5 -o output -a 32768 -b 32768 -t 7\n",
      "2020-04-23 01:14:36,472 - scan_AnyScan_Scan - INFO - Made 6 clusters in 0.009289 seconds\n",
      "INFO:scan_AnyScan_Scan:Made 6 clusters in 0.009289 seconds\n"
     ]
    },
    {
     "name": "stdout",
     "output_type": "stream",
     "text": [
      "runing  scan_AnyScan_Scan K_DoesAlgSupportDirTest_1\n",
      "finished scan_AnyScan_Scan K_DoesAlgSupportDirTest_1\n"
     ]
    },
    {
     "name": "stderr",
     "output_type": "stream",
     "text": [
      "2020-04-23 01:14:36,585 - scan_AnyScan_Scan - INFO - seed ignored\n",
      "INFO:scan_AnyScan_Scan:seed ignored\n",
      "2020-04-23 01:14:36,585 - Dataset:K_DoesAlgSupportDirTest_2 - INFO - reading /data/data/K_DoesAlgSupportDirTest_2/edges.parq\n",
      "INFO:Dataset:K_DoesAlgSupportDirTest_2:reading /data/data/K_DoesAlgSupportDirTest_2/edges.parq\n",
      "2020-04-23 01:14:36,590 - Dataset:K_DoesAlgSupportDirTest_2 - INFO - min node: 0, max node: 127\n",
      "INFO:Dataset:K_DoesAlgSupportDirTest_2:min node: 0, max node: 127\n",
      "2020-04-23 01:14:36,603 - scan_AnyScan_Scan - INFO - Running /opt/gct/submodules/ppSCAN/anyscan -c 1 -i /data/data/K_DoesAlgSupportDirTest_2/anyscan.txt -m 4 -e 0.5 -o output -a 32768 -b 32768 -t 7\n",
      "INFO:scan_AnyScan_Scan:Running /opt/gct/submodules/ppSCAN/anyscan -c 1 -i /data/data/K_DoesAlgSupportDirTest_2/anyscan.txt -m 4 -e 0.5 -o output -a 32768 -b 32768 -t 7\n",
      "2020-04-23 01:14:36,613 - scan_AnyScan_Scan - INFO - Made 6 clusters in 0.008612 seconds\n",
      "INFO:scan_AnyScan_Scan:Made 6 clusters in 0.008612 seconds\n"
     ]
    },
    {
     "name": "stdout",
     "output_type": "stream",
     "text": [
      "runing  scan_AnyScan_Scan K_DoesAlgSupportDirTest_2\n",
      "finished scan_AnyScan_Scan K_DoesAlgSupportDirTest_2\n"
     ]
    },
    {
     "name": "stderr",
     "output_type": "stream",
     "text": [
      "2020-04-23 01:14:36,726 - scan_AnyScan_anyScan - INFO - seed ignored\n",
      "INFO:scan_AnyScan_anyScan:seed ignored\n",
      "2020-04-23 01:14:36,727 - scan_AnyScan_anyScan - INFO - Running /opt/gct/submodules/ppSCAN/anyscan -c 3 -i /data/data/K_DoesAlgSupportDirTest_1/anyscan.txt -m 4 -e 0.5 -o output -a 32768 -b 32768 -t 7\n",
      "INFO:scan_AnyScan_anyScan:Running /opt/gct/submodules/ppSCAN/anyscan -c 3 -i /data/data/K_DoesAlgSupportDirTest_1/anyscan.txt -m 4 -e 0.5 -o output -a 32768 -b 32768 -t 7\n",
      "2020-04-23 01:14:36,761 - scan_AnyScan_anyScan - INFO - Made 6 clusters in 0.033037 seconds\n",
      "INFO:scan_AnyScan_anyScan:Made 6 clusters in 0.033037 seconds\n"
     ]
    },
    {
     "name": "stdout",
     "output_type": "stream",
     "text": [
      "runing  scan_AnyScan_anyScan K_DoesAlgSupportDirTest_1\n",
      "finished scan_AnyScan_anyScan K_DoesAlgSupportDirTest_1\n"
     ]
    },
    {
     "name": "stderr",
     "output_type": "stream",
     "text": [
      "2020-04-23 01:14:36,875 - scan_AnyScan_anyScan - INFO - seed ignored\n",
      "INFO:scan_AnyScan_anyScan:seed ignored\n",
      "2020-04-23 01:14:36,876 - scan_AnyScan_anyScan - INFO - Running /opt/gct/submodules/ppSCAN/anyscan -c 3 -i /data/data/K_DoesAlgSupportDirTest_2/anyscan.txt -m 4 -e 0.5 -o output -a 32768 -b 32768 -t 7\n",
      "INFO:scan_AnyScan_anyScan:Running /opt/gct/submodules/ppSCAN/anyscan -c 3 -i /data/data/K_DoesAlgSupportDirTest_2/anyscan.txt -m 4 -e 0.5 -o output -a 32768 -b 32768 -t 7\n",
      "2020-04-23 01:14:36,910 - scan_AnyScan_anyScan - INFO - Made 6 clusters in 0.032694 seconds\n",
      "INFO:scan_AnyScan_anyScan:Made 6 clusters in 0.032694 seconds\n"
     ]
    },
    {
     "name": "stdout",
     "output_type": "stream",
     "text": [
      "runing  scan_AnyScan_anyScan K_DoesAlgSupportDirTest_2\n",
      "finished scan_AnyScan_anyScan K_DoesAlgSupportDirTest_2\n"
     ]
    },
    {
     "name": "stderr",
     "output_type": "stream",
     "text": [
      "2020-04-23 01:14:37,024 - scan_AnyScan_anyScanParl - INFO - seed ignored\n",
      "INFO:scan_AnyScan_anyScanParl:seed ignored\n",
      "2020-04-23 01:14:37,025 - scan_AnyScan_anyScanParl - INFO - Running /opt/gct/submodules/ppSCAN/anyscan -c 4 -i /data/data/K_DoesAlgSupportDirTest_1/anyscan.txt -m 4 -e 0.5 -o output -a 32768 -b 32768 -t 7\n",
      "INFO:scan_AnyScan_anyScanParl:Running /opt/gct/submodules/ppSCAN/anyscan -c 4 -i /data/data/K_DoesAlgSupportDirTest_1/anyscan.txt -m 4 -e 0.5 -o output -a 32768 -b 32768 -t 7\n"
     ]
    },
    {
     "name": "stdout",
     "output_type": "stream",
     "text": [
      "runing  scan_AnyScan_anyScanParl K_DoesAlgSupportDirTest_1\n"
     ]
    },
    {
     "name": "stderr",
     "output_type": "stream",
     "text": [
      "2020-04-23 01:14:37,077 - scan_AnyScan_anyScanParl - INFO - Made 6 clusters in 0.049681 seconds\n",
      "INFO:scan_AnyScan_anyScanParl:Made 6 clusters in 0.049681 seconds\n"
     ]
    },
    {
     "name": "stdout",
     "output_type": "stream",
     "text": [
      "finished scan_AnyScan_anyScanParl K_DoesAlgSupportDirTest_1\n"
     ]
    },
    {
     "name": "stderr",
     "output_type": "stream",
     "text": [
      "2020-04-23 01:14:37,190 - scan_AnyScan_anyScanParl - INFO - seed ignored\n",
      "INFO:scan_AnyScan_anyScanParl:seed ignored\n",
      "2020-04-23 01:14:37,191 - scan_AnyScan_anyScanParl - INFO - Running /opt/gct/submodules/ppSCAN/anyscan -c 4 -i /data/data/K_DoesAlgSupportDirTest_2/anyscan.txt -m 4 -e 0.5 -o output -a 32768 -b 32768 -t 7\n",
      "INFO:scan_AnyScan_anyScanParl:Running /opt/gct/submodules/ppSCAN/anyscan -c 4 -i /data/data/K_DoesAlgSupportDirTest_2/anyscan.txt -m 4 -e 0.5 -o output -a 32768 -b 32768 -t 7\n"
     ]
    },
    {
     "name": "stdout",
     "output_type": "stream",
     "text": [
      "runing  scan_AnyScan_anyScanParl K_DoesAlgSupportDirTest_2\n"
     ]
    },
    {
     "name": "stderr",
     "output_type": "stream",
     "text": [
      "2020-04-23 01:14:37,237 - scan_AnyScan_anyScanParl - INFO - Made 6 clusters in 0.044057 seconds\n",
      "INFO:scan_AnyScan_anyScanParl:Made 6 clusters in 0.044057 seconds\n"
     ]
    },
    {
     "name": "stdout",
     "output_type": "stream",
     "text": [
      "finished scan_AnyScan_anyScanParl K_DoesAlgSupportDirTest_2\n"
     ]
    },
    {
     "name": "stderr",
     "output_type": "stream",
     "text": [
      "2020-04-23 01:14:37,350 - scan_AnyScan_pScan - INFO - seed ignored\n",
      "INFO:scan_AnyScan_pScan:seed ignored\n",
      "2020-04-23 01:14:37,351 - scan_AnyScan_pScan - INFO - Running /opt/gct/submodules/ppSCAN/anyscan -c 2 -i /data/data/K_DoesAlgSupportDirTest_1/anyscan.txt -m 4 -e 0.5 -o output -a 32768 -b 32768 -t 7\n",
      "INFO:scan_AnyScan_pScan:Running /opt/gct/submodules/ppSCAN/anyscan -c 2 -i /data/data/K_DoesAlgSupportDirTest_1/anyscan.txt -m 4 -e 0.5 -o output -a 32768 -b 32768 -t 7\n",
      "2020-04-23 01:14:37,361 - scan_AnyScan_pScan - INFO - Made 6 clusters in 0.008513 seconds\n",
      "INFO:scan_AnyScan_pScan:Made 6 clusters in 0.008513 seconds\n"
     ]
    },
    {
     "name": "stdout",
     "output_type": "stream",
     "text": [
      "runing  scan_AnyScan_pScan K_DoesAlgSupportDirTest_1\n",
      "finished scan_AnyScan_pScan K_DoesAlgSupportDirTest_1\n"
     ]
    },
    {
     "name": "stderr",
     "output_type": "stream",
     "text": [
      "2020-04-23 01:14:37,473 - scan_AnyScan_pScan - INFO - seed ignored\n",
      "INFO:scan_AnyScan_pScan:seed ignored\n",
      "2020-04-23 01:14:37,474 - scan_AnyScan_pScan - INFO - Running /opt/gct/submodules/ppSCAN/anyscan -c 2 -i /data/data/K_DoesAlgSupportDirTest_2/anyscan.txt -m 4 -e 0.5 -o output -a 32768 -b 32768 -t 7\n",
      "INFO:scan_AnyScan_pScan:Running /opt/gct/submodules/ppSCAN/anyscan -c 2 -i /data/data/K_DoesAlgSupportDirTest_2/anyscan.txt -m 4 -e 0.5 -o output -a 32768 -b 32768 -t 7\n",
      "2020-04-23 01:14:37,484 - scan_AnyScan_pScan - INFO - Made 6 clusters in 0.008291 seconds\n",
      "INFO:scan_AnyScan_pScan:Made 6 clusters in 0.008291 seconds\n"
     ]
    },
    {
     "name": "stdout",
     "output_type": "stream",
     "text": [
      "runing  scan_AnyScan_pScan K_DoesAlgSupportDirTest_2\n",
      "finished scan_AnyScan_pScan K_DoesAlgSupportDirTest_2\n"
     ]
    },
    {
     "name": "stderr",
     "output_type": "stream",
     "text": [
      "2020-04-23 01:14:37,596 - scan_Scanpp - INFO - seed ignored\n",
      "INFO:scan_Scanpp:seed ignored\n",
      "2020-04-23 01:14:37,597 - scan_Scanpp - INFO - Running /opt/gct/submodules/ppSCAN/scanpp -e 0 -m 1 -r /data/data/K_DoesAlgSupportDirTest_1/edges.txt\n",
      "INFO:scan_Scanpp:Running /opt/gct/submodules/ppSCAN/scanpp -e 0 -m 1 -r /data/data/K_DoesAlgSupportDirTest_1/edges.txt\n",
      "2020-04-23 01:14:37,605 - scan_Scanpp - INFO - Made 1 clusters in 0.007566 seconds\n",
      "INFO:scan_Scanpp:Made 1 clusters in 0.007566 seconds\n"
     ]
    },
    {
     "name": "stdout",
     "output_type": "stream",
     "text": [
      "runing  scan_Scanpp K_DoesAlgSupportDirTest_1\n",
      "finished scan_Scanpp K_DoesAlgSupportDirTest_1\n"
     ]
    },
    {
     "name": "stderr",
     "output_type": "stream",
     "text": [
      "2020-04-23 01:14:37,718 - scan_Scanpp - INFO - seed ignored\n",
      "INFO:scan_Scanpp:seed ignored\n",
      "2020-04-23 01:14:37,718 - scan_Scanpp - INFO - Running /opt/gct/submodules/ppSCAN/scanpp -e 0 -m 1 -r /data/data/K_DoesAlgSupportDirTest_2/edges.txt\n",
      "INFO:scan_Scanpp:Running /opt/gct/submodules/ppSCAN/scanpp -e 0 -m 1 -r /data/data/K_DoesAlgSupportDirTest_2/edges.txt\n",
      "2020-04-23 01:14:37,727 - scan_Scanpp - INFO - Made 1 clusters in 0.007459 seconds\n",
      "INFO:scan_Scanpp:Made 1 clusters in 0.007459 seconds\n"
     ]
    },
    {
     "name": "stdout",
     "output_type": "stream",
     "text": [
      "runing  scan_Scanpp K_DoesAlgSupportDirTest_2\n",
      "finished scan_Scanpp K_DoesAlgSupportDirTest_2\n"
     ]
    },
    {
     "name": "stderr",
     "output_type": "stream",
     "text": [
      "2020-04-23 01:14:37,839 - scan_pScan - INFO - seed ignored\n",
      "INFO:scan_pScan:seed ignored\n",
      "2020-04-23 01:14:37,840 - Dataset:K_DoesAlgSupportDirTest_1 - INFO - running /opt/gct/submodules/ppSCAN/converter /data/data/K_DoesAlgSupportDirTest_1/edges.txt b_degree.bin b_adj.bin\n",
      "INFO:Dataset:K_DoesAlgSupportDirTest_1:running /opt/gct/submodules/ppSCAN/converter /data/data/K_DoesAlgSupportDirTest_1/edges.txt b_degree.bin b_adj.bin\n",
      "2020-04-23 01:14:37,849 - scan_pScan - INFO - Running /opt/gct/submodules/ppSCAN/pscan /tmp/tmpc6rr9tla 0.5 3 output\n",
      "INFO:scan_pScan:Running /opt/gct/submodules/ppSCAN/pscan /tmp/tmpc6rr9tla 0.5 3 output\n",
      "2020-04-23 01:14:37,865 - scan_pScan - INFO - Made 6 clusters in 0.006634 seconds\n",
      "INFO:scan_pScan:Made 6 clusters in 0.006634 seconds\n"
     ]
    },
    {
     "name": "stdout",
     "output_type": "stream",
     "text": [
      "runing  scan_pScan K_DoesAlgSupportDirTest_1\n",
      "finished scan_pScan K_DoesAlgSupportDirTest_1\n"
     ]
    },
    {
     "name": "stderr",
     "output_type": "stream",
     "text": [
      "2020-04-23 01:14:37,977 - scan_pScan - INFO - seed ignored\n",
      "INFO:scan_pScan:seed ignored\n",
      "2020-04-23 01:14:37,978 - Dataset:K_DoesAlgSupportDirTest_2 - INFO - running /opt/gct/submodules/ppSCAN/converter /data/data/K_DoesAlgSupportDirTest_2/edges.txt b_degree.bin b_adj.bin\n",
      "INFO:Dataset:K_DoesAlgSupportDirTest_2:running /opt/gct/submodules/ppSCAN/converter /data/data/K_DoesAlgSupportDirTest_2/edges.txt b_degree.bin b_adj.bin\n",
      "2020-04-23 01:14:37,986 - scan_pScan - INFO - Running /opt/gct/submodules/ppSCAN/pscan /tmp/tmpz6kpz4vb 0.5 3 output\n",
      "INFO:scan_pScan:Running /opt/gct/submodules/ppSCAN/pscan /tmp/tmpz6kpz4vb 0.5 3 output\n",
      "2020-04-23 01:14:38,001 - scan_pScan - INFO - Made 6 clusters in 0.006431 seconds\n",
      "INFO:scan_pScan:Made 6 clusters in 0.006431 seconds\n"
     ]
    },
    {
     "name": "stdout",
     "output_type": "stream",
     "text": [
      "runing  scan_pScan K_DoesAlgSupportDirTest_2\n",
      "finished scan_pScan K_DoesAlgSupportDirTest_2\n"
     ]
    },
    {
     "name": "stderr",
     "output_type": "stream",
     "text": [
      "2020-04-23 01:14:38,113 - scan_ppScan - INFO - seed ignored\n",
      "INFO:scan_ppScan:seed ignored\n",
      "2020-04-23 01:14:38,115 - scan_ppScan - INFO - Running /opt/gct/submodules/ppSCAN/pSCANParallel /tmp/tmpirzl9cbq 0.5 3 output\n",
      "INFO:scan_ppScan:Running /opt/gct/submodules/ppSCAN/pSCANParallel /tmp/tmpirzl9cbq 0.5 3 output\n",
      "2020-04-23 01:14:38,131 - scan_ppScan - INFO - Made 6 clusters in 0.008570 seconds\n",
      "INFO:scan_ppScan:Made 6 clusters in 0.008570 seconds\n"
     ]
    },
    {
     "name": "stdout",
     "output_type": "stream",
     "text": [
      "runing  scan_ppScan K_DoesAlgSupportDirTest_1\n",
      "finished scan_ppScan K_DoesAlgSupportDirTest_1\n"
     ]
    },
    {
     "name": "stderr",
     "output_type": "stream",
     "text": [
      "2020-04-23 01:14:38,244 - scan_ppScan - INFO - seed ignored\n",
      "INFO:scan_ppScan:seed ignored\n",
      "2020-04-23 01:14:38,245 - scan_ppScan - INFO - Running /opt/gct/submodules/ppSCAN/pSCANParallel /tmp/tmpoq04v2aj 0.5 3 output\n",
      "INFO:scan_ppScan:Running /opt/gct/submodules/ppSCAN/pSCANParallel /tmp/tmpoq04v2aj 0.5 3 output\n",
      "2020-04-23 01:14:38,262 - scan_ppScan - INFO - Made 6 clusters in 0.008378 seconds\n",
      "INFO:scan_ppScan:Made 6 clusters in 0.008378 seconds\n"
     ]
    },
    {
     "name": "stdout",
     "output_type": "stream",
     "text": [
      "runing  scan_ppScan K_DoesAlgSupportDirTest_2\n",
      "finished scan_ppScan K_DoesAlgSupportDirTest_2\n"
     ]
    },
    {
     "name": "stderr",
     "output_type": "stream",
     "text": [
      "2020-04-23 01:14:38,375 - scan_ppScanSSE - INFO - seed ignored\n",
      "INFO:scan_ppScanSSE:seed ignored\n",
      "2020-04-23 01:14:38,376 - scan_ppScanSSE - INFO - Running /opt/gct/submodules/ppSCAN/pSCANParallelSSE /tmp/tmp2wbv8lr1 0.5 3 output\n",
      "INFO:scan_ppScanSSE:Running /opt/gct/submodules/ppSCAN/pSCANParallelSSE /tmp/tmp2wbv8lr1 0.5 3 output\n",
      "2020-04-23 01:14:38,393 - scan_ppScanSSE - INFO - Made 6 clusters in 0.008707 seconds\n",
      "INFO:scan_ppScanSSE:Made 6 clusters in 0.008707 seconds\n"
     ]
    },
    {
     "name": "stdout",
     "output_type": "stream",
     "text": [
      "runing  scan_ppScanSSE K_DoesAlgSupportDirTest_1\n",
      "finished scan_ppScanSSE K_DoesAlgSupportDirTest_1\n"
     ]
    },
    {
     "name": "stderr",
     "output_type": "stream",
     "text": [
      "2020-04-23 01:14:38,505 - scan_ppScanSSE - INFO - seed ignored\n",
      "INFO:scan_ppScanSSE:seed ignored\n",
      "2020-04-23 01:14:38,506 - scan_ppScanSSE - INFO - Running /opt/gct/submodules/ppSCAN/pSCANParallelSSE /tmp/tmp1oq9e1o2 0.5 3 output\n",
      "INFO:scan_ppScanSSE:Running /opt/gct/submodules/ppSCAN/pSCANParallelSSE /tmp/tmp1oq9e1o2 0.5 3 output\n",
      "2020-04-23 01:14:38,523 - scan_ppScanSSE - INFO - Made 6 clusters in 0.008860 seconds\n",
      "INFO:scan_ppScanSSE:Made 6 clusters in 0.008860 seconds\n"
     ]
    },
    {
     "name": "stdout",
     "output_type": "stream",
     "text": [
      "runing  scan_ppScanSSE K_DoesAlgSupportDirTest_2\n",
      "finished scan_ppScanSSE K_DoesAlgSupportDirTest_2\n"
     ]
    },
    {
     "name": "stderr",
     "output_type": "stream",
     "text": [
      "2020-04-23 01:14:38,636 - sklearn_AffinityPropagation - INFO - seed ignored\n",
      "INFO:sklearn_AffinityPropagation:seed ignored\n",
      "2020-04-23 01:14:38,636 - Dataset:K_DoesAlgSupportDirTest_1 - INFO - reading /data/data/K_DoesAlgSupportDirTest_1/edges.parq\n",
      "INFO:Dataset:K_DoesAlgSupportDirTest_1:reading /data/data/K_DoesAlgSupportDirTest_1/edges.parq\n",
      "2020-04-23 01:14:38,660 - sklearn_AffinityPropagation - INFO - Made 6 clusters in 0.020109 seconds\n",
      "INFO:sklearn_AffinityPropagation:Made 6 clusters in 0.020109 seconds\n"
     ]
    },
    {
     "name": "stdout",
     "output_type": "stream",
     "text": [
      "runing  sklearn_AffinityPropagation K_DoesAlgSupportDirTest_1\n",
      "finished sklearn_AffinityPropagation K_DoesAlgSupportDirTest_1\n"
     ]
    },
    {
     "name": "stderr",
     "output_type": "stream",
     "text": [
      "2020-04-23 01:14:38,772 - sklearn_AffinityPropagation - INFO - seed ignored\n",
      "INFO:sklearn_AffinityPropagation:seed ignored\n",
      "2020-04-23 01:14:38,773 - Dataset:K_DoesAlgSupportDirTest_2 - INFO - reading /data/data/K_DoesAlgSupportDirTest_2/edges.parq\n",
      "INFO:Dataset:K_DoesAlgSupportDirTest_2:reading /data/data/K_DoesAlgSupportDirTest_2/edges.parq\n",
      "2020-04-23 01:14:38,789 - sklearn_AffinityPropagation - INFO - Made 6 clusters in 0.012481 seconds\n",
      "INFO:sklearn_AffinityPropagation:Made 6 clusters in 0.012481 seconds\n"
     ]
    },
    {
     "name": "stdout",
     "output_type": "stream",
     "text": [
      "runing  sklearn_AffinityPropagation K_DoesAlgSupportDirTest_2\n",
      "finished sklearn_AffinityPropagation K_DoesAlgSupportDirTest_2\n"
     ]
    },
    {
     "name": "stderr",
     "output_type": "stream",
     "text": [
      "2020-04-23 01:14:38,901 - sklearn_SpectralClustering - INFO - seed ignored\n",
      "INFO:sklearn_SpectralClustering:seed ignored\n",
      "2020-04-23 01:14:38,902 - Dataset:K_DoesAlgSupportDirTest_1 - INFO - reading /data/data/K_DoesAlgSupportDirTest_1/edges.parq\n",
      "INFO:Dataset:K_DoesAlgSupportDirTest_1:reading /data/data/K_DoesAlgSupportDirTest_1/edges.parq\n"
     ]
    },
    {
     "name": "stdout",
     "output_type": "stream",
     "text": [
      "runing  sklearn_SpectralClustering K_DoesAlgSupportDirTest_1\n"
     ]
    },
    {
     "name": "stderr",
     "output_type": "stream",
     "text": [
      "/opt/conda/envs/python3/lib/python3.6/site-packages/sklearn/utils/validation.py:855: UserWarning: Array is not symmetric, and will be converted to symmetric by average with its transpose.\n",
      "  warnings.warn(\"Array is not symmetric, and will be converted \"\n",
      "2020-04-23 01:14:38,979 - sklearn_SpectralClustering - INFO - Made 8 clusters in 0.073520 seconds\n",
      "INFO:sklearn_SpectralClustering:Made 8 clusters in 0.073520 seconds\n"
     ]
    },
    {
     "name": "stdout",
     "output_type": "stream",
     "text": [
      "finished sklearn_SpectralClustering K_DoesAlgSupportDirTest_1\n"
     ]
    },
    {
     "name": "stderr",
     "output_type": "stream",
     "text": [
      "2020-04-23 01:14:39,093 - sklearn_SpectralClustering - INFO - seed ignored\n",
      "INFO:sklearn_SpectralClustering:seed ignored\n",
      "2020-04-23 01:14:39,094 - Dataset:K_DoesAlgSupportDirTest_2 - INFO - reading /data/data/K_DoesAlgSupportDirTest_2/edges.parq\n",
      "INFO:Dataset:K_DoesAlgSupportDirTest_2:reading /data/data/K_DoesAlgSupportDirTest_2/edges.parq\n"
     ]
    },
    {
     "name": "stdout",
     "output_type": "stream",
     "text": [
      "runing  sklearn_SpectralClustering K_DoesAlgSupportDirTest_2\n"
     ]
    },
    {
     "name": "stderr",
     "output_type": "stream",
     "text": [
      "2020-04-23 01:14:39,141 - sklearn_SpectralClustering - INFO - Made 8 clusters in 0.042519 seconds\n",
      "INFO:sklearn_SpectralClustering:Made 8 clusters in 0.042519 seconds\n"
     ]
    },
    {
     "name": "stdout",
     "output_type": "stream",
     "text": [
      "finished sklearn_SpectralClustering K_DoesAlgSupportDirTest_2\n",
      "runing  snap_Clauset_Newman_Moore K_DoesAlgSupportDirTest_1\n",
      "finished snap_Clauset_Newman_Moore K_DoesAlgSupportDirTest_1\n"
     ]
    },
    {
     "name": "stderr",
     "output_type": "stream",
     "text": [
      "Error: only undirected graph is supported\n",
      "2020-04-23 01:14:39,363 - snap_Clauset_Newman_Moore - INFO - seed ignored\n",
      "INFO:snap_Clauset_Newman_Moore:seed ignored\n",
      "2020-04-23 01:14:39,368 - snap_Clauset_Newman_Moore - INFO - Made 29 clusters in 0.002491 seconds. modularity of the graph is 0.378215\n",
      "INFO:snap_Clauset_Newman_Moore:Made 29 clusters in 0.002491 seconds. modularity of the graph is 0.378215\n"
     ]
    },
    {
     "name": "stdout",
     "output_type": "stream",
     "text": [
      "runing  snap_Clauset_Newman_Moore K_DoesAlgSupportDirTest_2\n",
      "finished snap_Clauset_Newman_Moore K_DoesAlgSupportDirTest_2\n",
      "runing  snap_Girvan_Newman K_DoesAlgSupportDirTest_1\n",
      "finished snap_Girvan_Newman K_DoesAlgSupportDirTest_1\n"
     ]
    },
    {
     "name": "stderr",
     "output_type": "stream",
     "text": [
      "Error: only undirected graph is supported\n",
      "2020-04-23 01:14:39,591 - snap_Girvan_Newman - INFO - seed ignored\n",
      "INFO:snap_Girvan_Newman:seed ignored\n"
     ]
    },
    {
     "name": "stdout",
     "output_type": "stream",
     "text": [
      "runing  snap_Girvan_Newman K_DoesAlgSupportDirTest_2\n"
     ]
    },
    {
     "name": "stderr",
     "output_type": "stream",
     "text": [
      "2020-04-23 01:14:54,035 - snap_Girvan_Newman - INFO - Made 6 clusters in 14.441887 seconds. modularity of the graph is 0.550215\n",
      "INFO:snap_Girvan_Newman:Made 6 clusters in 14.441887 seconds. modularity of the graph is 0.550215\n"
     ]
    },
    {
     "name": "stdout",
     "output_type": "stream",
     "text": [
      "finished snap_Girvan_Newman K_DoesAlgSupportDirTest_2\n",
      "runing  alg_Paris K_DoesAlgSupportDirTest_1\n",
      "except alg_Paris K_DoesAlgSupportDirTest_1\n",
      "timeout <function run_alg at 0x7f5341dc4ae8> ('alg_Paris', 'K_DoesAlgSupportDirTest_1') {}\n",
      "tiemout alg_Paris K_DoesAlgSupportDirTest_1\n"
     ]
    },
    {
     "name": "stderr",
     "output_type": "stream",
     "text": [
      "2020-04-23 01:24:54,350 - alg_Paris - INFO - Made 6 clusters in 0.040533 seconds\n",
      "INFO:alg_Paris:Made 6 clusters in 0.040533 seconds\n"
     ]
    },
    {
     "name": "stdout",
     "output_type": "stream",
     "text": [
      "runing  alg_Paris K_DoesAlgSupportDirTest_2\n",
      "finished alg_Paris K_DoesAlgSupportDirTest_2\n"
     ]
    },
    {
     "name": "stderr",
     "output_type": "stream",
     "text": [
      "2020-04-23 01:24:54,466 - alg_lso_cluster - INFO - Running /opt/gct/submodules/graph-cluster/lso-cluster /tmp/tmpzyoyf4cl/edges.txt --seed 123 --loss modularity -o lsooutput\n",
      "INFO:alg_lso_cluster:Running /opt/gct/submodules/graph-cluster/lso-cluster /tmp/tmpzyoyf4cl/edges.txt --seed 123 --loss modularity -o lsooutput\n",
      "2020-04-23 01:24:54,485 - alg_lso_cluster - INFO - Made 5 clusters in 0.013003 seconds\n",
      "INFO:alg_lso_cluster:Made 5 clusters in 0.013003 seconds\n"
     ]
    },
    {
     "name": "stdout",
     "output_type": "stream",
     "text": [
      "runing  alg_lso_cluster K_DoesAlgSupportDirTest_1\n",
      "finished alg_lso_cluster K_DoesAlgSupportDirTest_1\n"
     ]
    },
    {
     "name": "stderr",
     "output_type": "stream",
     "text": [
      "2020-04-23 01:24:54,601 - alg_lso_cluster - INFO - Running /opt/gct/submodules/graph-cluster/lso-cluster /tmp/tmpt7rren8k/edges.txt --seed 123 --loss modularity -o lsooutput\n",
      "INFO:alg_lso_cluster:Running /opt/gct/submodules/graph-cluster/lso-cluster /tmp/tmpt7rren8k/edges.txt --seed 123 --loss modularity -o lsooutput\n",
      "2020-04-23 01:24:54,620 - alg_lso_cluster - INFO - Made 5 clusters in 0.012764 seconds\n",
      "INFO:alg_lso_cluster:Made 5 clusters in 0.012764 seconds\n"
     ]
    },
    {
     "name": "stdout",
     "output_type": "stream",
     "text": [
      "runing  alg_lso_cluster K_DoesAlgSupportDirTest_2\n",
      "finished alg_lso_cluster K_DoesAlgSupportDirTest_2\n"
     ]
    },
    {
     "name": "stderr",
     "output_type": "stream",
     "text": [
      "2020-04-23 01:24:54,735 - alg_streamcom - INFO - Running /opt/gct/submodules/graph-streaming/streamcom --seed 123 -f /data/data/K_DoesAlgSupportDirTest_1/edges.txt -o output /data/data/K_DoesAlgSupportDirTest_1/edges.txt\n",
      "INFO:alg_streamcom:Running /opt/gct/submodules/graph-streaming/streamcom --seed 123 -f /data/data/K_DoesAlgSupportDirTest_1/edges.txt -o output /data/data/K_DoesAlgSupportDirTest_1/edges.txt\n",
      "2020-04-23 01:24:54,746 - alg_streamcom - INFO - Made 68 clusters in 0.009565 seconds\n",
      "INFO:alg_streamcom:Made 68 clusters in 0.009565 seconds\n"
     ]
    },
    {
     "name": "stdout",
     "output_type": "stream",
     "text": [
      "runing  alg_streamcom K_DoesAlgSupportDirTest_1\n",
      "finished alg_streamcom K_DoesAlgSupportDirTest_1\n"
     ]
    },
    {
     "name": "stderr",
     "output_type": "stream",
     "text": [
      "2020-04-23 01:24:54,862 - alg_streamcom - INFO - Running /opt/gct/submodules/graph-streaming/streamcom --seed 123 -f /data/data/K_DoesAlgSupportDirTest_2/edges.txt -o output /data/data/K_DoesAlgSupportDirTest_2/edges.txt\n",
      "INFO:alg_streamcom:Running /opt/gct/submodules/graph-streaming/streamcom --seed 123 -f /data/data/K_DoesAlgSupportDirTest_2/edges.txt -o output /data/data/K_DoesAlgSupportDirTest_2/edges.txt\n",
      "2020-04-23 01:24:54,874 - alg_streamcom - INFO - Made 72 clusters in 0.009777 seconds\n",
      "INFO:alg_streamcom:Made 72 clusters in 0.009777 seconds\n"
     ]
    },
    {
     "name": "stdout",
     "output_type": "stream",
     "text": [
      "runing  alg_streamcom K_DoesAlgSupportDirTest_2\n",
      "finished alg_streamcom K_DoesAlgSupportDirTest_2\n"
     ]
    }
   ],
   "source": [
    "datasets=[data_w.name,data_uw.name]\n",
    "for alg in gct.list_algorithms():\n",
    "    for name in datasets:\n",
    "        run_alg_timeout(alg, name)"
   ]
  },
  {
   "cell_type": "code",
   "execution_count": 15,
   "metadata": {},
   "outputs": [
    {
     "name": "stdout",
     "output_type": "stream",
     "text": [
      "K_DoesAlgSupportDirTest_1 oslom_lpm\n",
      "K_DoesAlgSupportDirTest_1 oslom_Infohiermap\n",
      "K_DoesAlgSupportDirTest_1 oslom_Infomap\n",
      "K_DoesAlgSupportDirTest_1 oslom_OSLOM\n",
      "K_DoesAlgSupportDirTest_1 oslom_copra\n",
      "K_DoesAlgSupportDirTest_1 oslom_louvain_method\n",
      "K_DoesAlgSupportDirTest_1 oslom_modopt\n",
      "K_DoesAlgSupportDirTest_1 pycabem_GANXiSw\n",
      "K_DoesAlgSupportDirTest_1 pycabem_HiReCS\n",
      "K_DoesAlgSupportDirTest_1 pycabem_LabelRank\n",
      "K_DoesAlgSupportDirTest_1 cdc_CONGA\n",
      "K_DoesAlgSupportDirTest_1 cdc_Connected_Iterative_Scan\n",
      "K_DoesAlgSupportDirTest_1 cdc_EAGLE\n",
      "K_DoesAlgSupportDirTest_1 cdc_FastCpm\n",
      "K_DoesAlgSupportDirTest_1 cdc_GCE\n",
      "K_DoesAlgSupportDirTest_1 cdc_LinkCommunities\n",
      "K_DoesAlgSupportDirTest_1 cdc_MOSES\n",
      "K_DoesAlgSupportDirTest_1 cdc_MSCD_AFG\n",
      "K_DoesAlgSupportDirTest_1 cdc_MSCD_HSLSW\n",
      "K_DoesAlgSupportDirTest_1 cdc_MSCD_LFK\n",
      "K_DoesAlgSupportDirTest_1 cdc_MSCD_LFK2\n",
      "K_DoesAlgSupportDirTest_1 cdc_MSCD_RB\n",
      "K_DoesAlgSupportDirTest_1 cdc_MSCD_RN\n",
      "K_DoesAlgSupportDirTest_1 cdc_MSCD_SO\n",
      "K_DoesAlgSupportDirTest_1 cdc_MSCD_SOM\n",
      "K_DoesAlgSupportDirTest_1 cdc_ParCPM\n",
      "K_DoesAlgSupportDirTest_1 cdc_SVINET\n",
      "K_DoesAlgSupportDirTest_1 cdc_TopGC\n",
      "K_DoesAlgSupportDirTest_1 cdc_clique_modularity\n",
      "K_DoesAlgSupportDirTest_1 cgcc_CGGC\n",
      "K_DoesAlgSupportDirTest_1 dct_dlplm\n",
      "K_DoesAlgSupportDirTest_1 dct_dlslm\n",
      "K_DoesAlgSupportDirTest_1 dct_dlslm_map_eq\n",
      "K_DoesAlgSupportDirTest_1 dct_dlslm_no_contraction\n",
      "K_DoesAlgSupportDirTest_1 dct_dlslm_with_seq\n",
      "K_DoesAlgSupportDirTest_1 dct_infomap\n",
      "K_DoesAlgSupportDirTest_1 dct_seq_louvain\n",
      "K_DoesAlgSupportDirTest_1 igraph_community_edge_betweenness\n",
      "K_DoesAlgSupportDirTest_1 igraph_community_infomap\n",
      "K_DoesAlgSupportDirTest_1 igraph_community_label_propagation\n",
      "K_DoesAlgSupportDirTest_1 igraph_community_leading_eigenvector\n",
      "K_DoesAlgSupportDirTest_1 igraph_community_optimal_modularity\n",
      "K_DoesAlgSupportDirTest_1 igraph_community_spinglass\n",
      "K_DoesAlgSupportDirTest_1 igraph_community_walktrap\n",
      "K_DoesAlgSupportDirTest_1 mcl_MCL\n",
      "K_DoesAlgSupportDirTest_1 networkit_CutClustering\n",
      "K_DoesAlgSupportDirTest_1 networkit_LPDegreeOrdered\n",
      "K_DoesAlgSupportDirTest_1 networkit_PLM\n",
      "K_DoesAlgSupportDirTest_1 networkit_PLP\n",
      "K_DoesAlgSupportDirTest_1 alg_GossipMap\n",
      "K_DoesAlgSupportDirTest_1 alg_RelaxMap\n",
      "K_DoesAlgSupportDirTest_1 alg_pg_label_propagation\n",
      "K_DoesAlgSupportDirTest_1 scan_AnyScan_Scan\n",
      "K_DoesAlgSupportDirTest_1 scan_AnyScan_anyScan\n",
      "K_DoesAlgSupportDirTest_1 scan_AnyScan_anyScanParl\n",
      "K_DoesAlgSupportDirTest_1 scan_AnyScan_pScan\n",
      "K_DoesAlgSupportDirTest_1 scan_Scanpp\n",
      "K_DoesAlgSupportDirTest_1 scan_pScan\n",
      "K_DoesAlgSupportDirTest_1 scan_ppScan\n",
      "K_DoesAlgSupportDirTest_1 scan_ppScanSSE\n",
      "K_DoesAlgSupportDirTest_1 sklearn_AffinityPropagation\n",
      "K_DoesAlgSupportDirTest_1 sklearn_SpectralClustering\n",
      "K_DoesAlgSupportDirTest_1 alg_lso_cluster\n",
      "K_DoesAlgSupportDirTest_1 alg_streamcom\n",
      "K_DoesAlgSupportDirTest_2 oslom_Infohiermap\n",
      "K_DoesAlgSupportDirTest_2 oslom_Infomap\n",
      "K_DoesAlgSupportDirTest_2 oslom_OSLOM\n",
      "K_DoesAlgSupportDirTest_2 oslom_copra\n",
      "K_DoesAlgSupportDirTest_2 oslom_louvain_method\n",
      "K_DoesAlgSupportDirTest_2 oslom_lpm\n",
      "K_DoesAlgSupportDirTest_2 oslom_modopt\n",
      "K_DoesAlgSupportDirTest_2 pycabem_GANXiSw\n",
      "K_DoesAlgSupportDirTest_2 pycabem_HiReCS\n",
      "K_DoesAlgSupportDirTest_2 pycabem_LabelRank\n",
      "K_DoesAlgSupportDirTest_2 cdc_CONGA\n",
      "K_DoesAlgSupportDirTest_2 cdc_CliquePercolation\n",
      "K_DoesAlgSupportDirTest_2 cdc_Connected_Iterative_Scan\n",
      "K_DoesAlgSupportDirTest_2 cdc_EAGLE\n",
      "K_DoesAlgSupportDirTest_2 cdc_FastCpm\n",
      "K_DoesAlgSupportDirTest_2 cdc_GCE\n",
      "K_DoesAlgSupportDirTest_2 cdc_LinkCommunities\n",
      "K_DoesAlgSupportDirTest_2 cdc_MOSES\n",
      "K_DoesAlgSupportDirTest_2 cdc_MSCD_AFG\n",
      "K_DoesAlgSupportDirTest_2 cdc_MSCD_HSLSW\n",
      "K_DoesAlgSupportDirTest_2 cdc_MSCD_LFK\n",
      "K_DoesAlgSupportDirTest_2 cdc_MSCD_LFK2\n",
      "K_DoesAlgSupportDirTest_2 cdc_MSCD_RB\n",
      "K_DoesAlgSupportDirTest_2 cdc_MSCD_RN\n",
      "K_DoesAlgSupportDirTest_2 cdc_MSCD_SO\n",
      "K_DoesAlgSupportDirTest_2 cdc_MSCD_SOM\n",
      "K_DoesAlgSupportDirTest_2 cdc_ParCPM\n",
      "K_DoesAlgSupportDirTest_2 cdc_SVINET\n",
      "K_DoesAlgSupportDirTest_2 cdc_TopGC\n",
      "K_DoesAlgSupportDirTest_2 cdc_clique_modularity\n",
      "K_DoesAlgSupportDirTest_2 cgcc_CGGC\n",
      "K_DoesAlgSupportDirTest_2 dct_dlplm\n",
      "K_DoesAlgSupportDirTest_2 dct_dlslm\n",
      "K_DoesAlgSupportDirTest_2 dct_dlslm_map_eq\n",
      "K_DoesAlgSupportDirTest_2 dct_dlslm_no_contraction\n",
      "K_DoesAlgSupportDirTest_2 dct_dlslm_with_seq\n",
      "K_DoesAlgSupportDirTest_2 dct_infomap\n",
      "K_DoesAlgSupportDirTest_2 dct_seq_louvain\n",
      "K_DoesAlgSupportDirTest_2 igraph_community_edge_betweenness\n",
      "K_DoesAlgSupportDirTest_2 igraph_community_fastgreedy\n",
      "K_DoesAlgSupportDirTest_2 igraph_community_infomap\n",
      "K_DoesAlgSupportDirTest_2 igraph_community_label_propagation\n",
      "K_DoesAlgSupportDirTest_2 igraph_community_leading_eigenvector\n",
      "K_DoesAlgSupportDirTest_2 igraph_community_multilevel\n",
      "K_DoesAlgSupportDirTest_2 igraph_community_spinglass\n",
      "K_DoesAlgSupportDirTest_2 igraph_community_walktrap\n",
      "K_DoesAlgSupportDirTest_2 mcl_MCL\n",
      "K_DoesAlgSupportDirTest_2 networkit_CutClustering\n",
      "K_DoesAlgSupportDirTest_2 networkit_LPDegreeOrdered\n",
      "K_DoesAlgSupportDirTest_2 networkit_PLM\n",
      "K_DoesAlgSupportDirTest_2 networkit_PLP\n",
      "K_DoesAlgSupportDirTest_2 alg_GossipMap\n",
      "K_DoesAlgSupportDirTest_2 alg_RelaxMap\n",
      "K_DoesAlgSupportDirTest_2 alg_pg_label_propagation\n",
      "K_DoesAlgSupportDirTest_2 scan_AnyScan_Scan\n",
      "K_DoesAlgSupportDirTest_2 scan_AnyScan_anyScan\n",
      "K_DoesAlgSupportDirTest_2 scan_AnyScan_anyScanParl\n",
      "K_DoesAlgSupportDirTest_2 scan_AnyScan_pScan\n",
      "K_DoesAlgSupportDirTest_2 scan_Scanpp\n",
      "K_DoesAlgSupportDirTest_2 scan_pScan\n",
      "K_DoesAlgSupportDirTest_2 scan_ppScan\n",
      "K_DoesAlgSupportDirTest_2 scan_ppScanSSE\n",
      "K_DoesAlgSupportDirTest_2 sklearn_AffinityPropagation\n",
      "K_DoesAlgSupportDirTest_2 sklearn_SpectralClustering\n",
      "K_DoesAlgSupportDirTest_2 snap_Clauset_Newman_Moore\n",
      "K_DoesAlgSupportDirTest_2 snap_Girvan_Newman\n",
      "K_DoesAlgSupportDirTest_2 alg_Paris\n",
      "K_DoesAlgSupportDirTest_2 alg_lso_cluster\n",
      "K_DoesAlgSupportDirTest_2 alg_streamcom\n"
     ]
    }
   ],
   "source": [
    "results = {}\n",
    "d = gct.list_all_clustering_results(print_format=False)\n",
    "for u in d:\n",
    "    if prefix + \"_\" in u:\n",
    "        for run in d[u]:\n",
    "            a = gct.load_clustering_result(u, run)\n",
    "            print (u, run)\n",
    "            results[u + run] = a\n",
    "\n"
   ]
  },
  {
   "cell_type": "code",
   "execution_count": 16,
   "metadata": {},
   "outputs": [
    {
     "name": "stderr",
     "output_type": "stream",
     "text": [
      "2020-04-23 01:24:55,055 - ClusterComparator - INFO - resulting 128 nodes out of 129,128\n",
      "INFO:ClusterComparator:resulting 128 nodes out of 129,128\n",
      "/opt/conda/envs/python3/lib/python3.6/site-packages/sklearn/metrics/cluster/supervised.py:859: FutureWarning: The behavior of NMI will change in version 0.22. To match the behavior of 'v_measure_score', NMI will use average_method='arithmetic' by default.\n",
      "  FutureWarning)\n",
      "2020-04-23 01:24:55,066 - ClusterComparator - INFO - Running /opt/gct/submodules/OvpNMI/onmi /tmp/tmpy_dl9cgw/cluster1.cnl /tmp/tmpy_dl9cgw/cluster2.cnl > ovpnmioutput\n",
      "INFO:ClusterComparator:Running /opt/gct/submodules/OvpNMI/onmi /tmp/tmpy_dl9cgw/cluster1.cnl /tmp/tmpy_dl9cgw/cluster2.cnl > ovpnmioutput\n",
      "2020-04-23 01:24:55,079 - ClusterComparator - ERROR - Run command with error status code 134\n",
      "ERROR:ClusterComparator:Run command with error status code 134\n",
      "2020-04-23 01:24:55,081 - Clustering - INFO - reading/data/data/K_DoesAlgSupportDirTest_1/gt_default.parq\n",
      "INFO:Clustering:reading/data/data/K_DoesAlgSupportDirTest_1/gt_default.parq\n",
      "2020-04-23 01:24:55,087 - ClusterComparator - INFO - resulting 128 nodes out of 128,129\n",
      "INFO:ClusterComparator:resulting 128 nodes out of 128,129\n",
      "/opt/conda/envs/python3/lib/python3.6/site-packages/sklearn/metrics/cluster/supervised.py:859: FutureWarning: The behavior of NMI will change in version 0.22. To match the behavior of 'v_measure_score', NMI will use average_method='arithmetic' by default.\n",
      "  FutureWarning)\n",
      "2020-04-23 01:24:55,094 - Clustering - INFO - persistent cluster to cnl file: /data/data/K_DoesAlgSupportDirTest_1/gt_default.parq.cnl\n",
      "INFO:Clustering:persistent cluster to cnl file: /data/data/K_DoesAlgSupportDirTest_1/gt_default.parq.cnl\n",
      "2020-04-23 01:24:55,098 - ClusterComparator - INFO - Running /opt/gct/submodules/OvpNMI/onmi /tmp/tmpjq_fvzzh/cluster1.cnl /tmp/tmpjq_fvzzh/cluster2.cnl > ovpnmioutput\n",
      "INFO:ClusterComparator:Running /opt/gct/submodules/OvpNMI/onmi /tmp/tmpjq_fvzzh/cluster1.cnl /tmp/tmpjq_fvzzh/cluster2.cnl > ovpnmioutput\n",
      "2020-04-23 01:24:55,110 - ClusterComparator - ERROR - Run command with error status code 134\n",
      "ERROR:ClusterComparator:Run command with error status code 134\n",
      "2020-04-23 01:24:55,113 - ClusterComparator - INFO - resulting 128 nodes out of 128,128\n",
      "INFO:ClusterComparator:resulting 128 nodes out of 128,128\n",
      "/opt/conda/envs/python3/lib/python3.6/site-packages/sklearn/metrics/cluster/supervised.py:859: FutureWarning: The behavior of NMI will change in version 0.22. To match the behavior of 'v_measure_score', NMI will use average_method='arithmetic' by default.\n",
      "  FutureWarning)\n",
      "2020-04-23 01:24:55,122 - ClusterComparator - INFO - Running /opt/gct/submodules/OvpNMI/onmi /tmp/tmpvssafq77/cluster1.cnl /tmp/tmpvssafq77/cluster2.cnl > ovpnmioutput\n",
      "INFO:ClusterComparator:Running /opt/gct/submodules/OvpNMI/onmi /tmp/tmpvssafq77/cluster1.cnl /tmp/tmpvssafq77/cluster2.cnl > ovpnmioutput\n",
      "2020-04-23 01:24:55,140 - ClusterComparator - INFO - resulting 128 nodes out of 128,128\n",
      "INFO:ClusterComparator:resulting 128 nodes out of 128,128\n",
      "/opt/conda/envs/python3/lib/python3.6/site-packages/sklearn/metrics/cluster/supervised.py:859: FutureWarning: The behavior of NMI will change in version 0.22. To match the behavior of 'v_measure_score', NMI will use average_method='arithmetic' by default.\n",
      "  FutureWarning)\n",
      "2020-04-23 01:24:55,150 - ClusterComparator - INFO - Running /opt/gct/submodules/OvpNMI/onmi /tmp/tmp6w0k6vul/cluster1.cnl /tmp/tmp6w0k6vul/cluster2.cnl > ovpnmioutput\n",
      "INFO:ClusterComparator:Running /opt/gct/submodules/OvpNMI/onmi /tmp/tmp6w0k6vul/cluster1.cnl /tmp/tmp6w0k6vul/cluster2.cnl > ovpnmioutput\n",
      "2020-04-23 01:24:55,162 - Clustering - INFO - reading/data/data/K_DoesAlgSupportDirTest_1/gt_default.parq\n",
      "INFO:Clustering:reading/data/data/K_DoesAlgSupportDirTest_1/gt_default.parq\n",
      "2020-04-23 01:24:55,169 - ClusterComparator - INFO - resulting 128 nodes out of 128,128\n",
      "INFO:ClusterComparator:resulting 128 nodes out of 128,128\n",
      "/opt/conda/envs/python3/lib/python3.6/site-packages/sklearn/metrics/cluster/supervised.py:859: FutureWarning: The behavior of NMI will change in version 0.22. To match the behavior of 'v_measure_score', NMI will use average_method='arithmetic' by default.\n",
      "  FutureWarning)\n",
      "2020-04-23 01:24:55,177 - ClusterComparator - INFO - Running /opt/gct/submodules/OvpNMI/onmi /tmp/tmpgkuys1ge/cluster1.cnl /tmp/tmpgkuys1ge/cluster2.cnl > ovpnmioutput\n",
      "INFO:ClusterComparator:Running /opt/gct/submodules/OvpNMI/onmi /tmp/tmpgkuys1ge/cluster1.cnl /tmp/tmpgkuys1ge/cluster2.cnl > ovpnmioutput\n",
      "2020-04-23 01:24:55,188 - ClusterComparator - INFO - resulting 128 nodes out of 128,128\n",
      "INFO:ClusterComparator:resulting 128 nodes out of 128,128\n",
      "/opt/conda/envs/python3/lib/python3.6/site-packages/sklearn/metrics/cluster/supervised.py:859: FutureWarning: The behavior of NMI will change in version 0.22. To match the behavior of 'v_measure_score', NMI will use average_method='arithmetic' by default.\n",
      "  FutureWarning)\n",
      "2020-04-23 01:24:55,197 - ClusterComparator - INFO - Running /opt/gct/submodules/OvpNMI/onmi /tmp/tmpj7t3mms6/cluster1.cnl /tmp/tmpj7t3mms6/cluster2.cnl > ovpnmioutput\n",
      "INFO:ClusterComparator:Running /opt/gct/submodules/OvpNMI/onmi /tmp/tmpj7t3mms6/cluster1.cnl /tmp/tmpj7t3mms6/cluster2.cnl > ovpnmioutput\n",
      "2020-04-23 01:24:55,215 - ClusterComparator - INFO - resulting 128 nodes out of 128,128\n",
      "INFO:ClusterComparator:resulting 128 nodes out of 128,128\n",
      "/opt/conda/envs/python3/lib/python3.6/site-packages/sklearn/metrics/cluster/supervised.py:859: FutureWarning: The behavior of NMI will change in version 0.22. To match the behavior of 'v_measure_score', NMI will use average_method='arithmetic' by default.\n",
      "  FutureWarning)\n",
      "2020-04-23 01:24:55,225 - ClusterComparator - INFO - Running /opt/gct/submodules/OvpNMI/onmi /tmp/tmp_qzgc_dt/cluster1.cnl /tmp/tmp_qzgc_dt/cluster2.cnl > ovpnmioutput\n",
      "INFO:ClusterComparator:Running /opt/gct/submodules/OvpNMI/onmi /tmp/tmp_qzgc_dt/cluster1.cnl /tmp/tmp_qzgc_dt/cluster2.cnl > ovpnmioutput\n",
      "2020-04-23 01:24:55,237 - Clustering - INFO - reading/data/data/K_DoesAlgSupportDirTest_1/gt_default.parq\n",
      "INFO:Clustering:reading/data/data/K_DoesAlgSupportDirTest_1/gt_default.parq\n",
      "2020-04-23 01:24:55,244 - ClusterComparator - INFO - resulting 128 nodes out of 128,128\n",
      "INFO:ClusterComparator:resulting 128 nodes out of 128,128\n",
      "/opt/conda/envs/python3/lib/python3.6/site-packages/sklearn/metrics/cluster/supervised.py:859: FutureWarning: The behavior of NMI will change in version 0.22. To match the behavior of 'v_measure_score', NMI will use average_method='arithmetic' by default.\n",
      "  FutureWarning)\n",
      "2020-04-23 01:24:55,252 - ClusterComparator - INFO - Running /opt/gct/submodules/OvpNMI/onmi /tmp/tmpjthy0kh7/cluster1.cnl /tmp/tmpjthy0kh7/cluster2.cnl > ovpnmioutput\n",
      "INFO:ClusterComparator:Running /opt/gct/submodules/OvpNMI/onmi /tmp/tmpjthy0kh7/cluster1.cnl /tmp/tmpjthy0kh7/cluster2.cnl > ovpnmioutput\n",
      "2020-04-23 01:24:55,265 - ClusterComparator - INFO - resulting 128 nodes out of 128,128\n",
      "INFO:ClusterComparator:resulting 128 nodes out of 128,128\n",
      "/opt/conda/envs/python3/lib/python3.6/site-packages/sklearn/metrics/cluster/supervised.py:859: FutureWarning: The behavior of NMI will change in version 0.22. To match the behavior of 'v_measure_score', NMI will use average_method='arithmetic' by default.\n",
      "  FutureWarning)\n",
      "2020-04-23 01:24:55,275 - ClusterComparator - INFO - Running /opt/gct/submodules/OvpNMI/onmi /tmp/tmpsp7tbtqg/cluster1.cnl /tmp/tmpsp7tbtqg/cluster2.cnl > ovpnmioutput\n",
      "INFO:ClusterComparator:Running /opt/gct/submodules/OvpNMI/onmi /tmp/tmpsp7tbtqg/cluster1.cnl /tmp/tmpsp7tbtqg/cluster2.cnl > ovpnmioutput\n",
      "2020-04-23 01:24:55,514 - ClusterComparator - INFO - resulting 128 nodes out of 128,128\n",
      "INFO:ClusterComparator:resulting 128 nodes out of 128,128\n",
      "/opt/conda/envs/python3/lib/python3.6/site-packages/sklearn/metrics/cluster/supervised.py:859: FutureWarning: The behavior of NMI will change in version 0.22. To match the behavior of 'v_measure_score', NMI will use average_method='arithmetic' by default.\n",
      "  FutureWarning)\n",
      "2020-04-23 01:24:55,525 - ClusterComparator - INFO - Running /opt/gct/submodules/OvpNMI/onmi /tmp/tmppol3qrp6/cluster1.cnl /tmp/tmppol3qrp6/cluster2.cnl > ovpnmioutput\n"
     ]
    },
    {
     "name": "stderr",
     "output_type": "stream",
     "text": [
      "INFO:ClusterComparator:Running /opt/gct/submodules/OvpNMI/onmi /tmp/tmppol3qrp6/cluster1.cnl /tmp/tmppol3qrp6/cluster2.cnl > ovpnmioutput\n",
      "2020-04-23 01:24:55,538 - Clustering - INFO - reading/data/data/K_DoesAlgSupportDirTest_1/gt_default.parq\n",
      "INFO:Clustering:reading/data/data/K_DoesAlgSupportDirTest_1/gt_default.parq\n",
      "2020-04-23 01:24:55,650 - ClusterComparator - INFO - resulting 128 nodes out of 128,128\n",
      "INFO:ClusterComparator:resulting 128 nodes out of 128,128\n",
      "/opt/conda/envs/python3/lib/python3.6/site-packages/sklearn/metrics/cluster/supervised.py:859: FutureWarning: The behavior of NMI will change in version 0.22. To match the behavior of 'v_measure_score', NMI will use average_method='arithmetic' by default.\n",
      "  FutureWarning)\n",
      "2020-04-23 01:24:55,659 - ClusterComparator - INFO - Running /opt/gct/submodules/OvpNMI/onmi /tmp/tmp3m6an4z8/cluster1.cnl /tmp/tmp3m6an4z8/cluster2.cnl > ovpnmioutput\n",
      "INFO:ClusterComparator:Running /opt/gct/submodules/OvpNMI/onmi /tmp/tmp3m6an4z8/cluster1.cnl /tmp/tmp3m6an4z8/cluster2.cnl > ovpnmioutput\n",
      "2020-04-23 01:24:55,779 - ClusterComparator - INFO - resulting 128 nodes out of 128,128\n",
      "INFO:ClusterComparator:resulting 128 nodes out of 128,128\n",
      "/opt/conda/envs/python3/lib/python3.6/site-packages/sklearn/metrics/cluster/supervised.py:859: FutureWarning: The behavior of NMI will change in version 0.22. To match the behavior of 'v_measure_score', NMI will use average_method='arithmetic' by default.\n",
      "  FutureWarning)\n",
      "2020-04-23 01:24:55,788 - ClusterComparator - INFO - Running /opt/gct/submodules/OvpNMI/onmi /tmp/tmpxdn57aim/cluster1.cnl /tmp/tmpxdn57aim/cluster2.cnl > ovpnmioutput\n",
      "INFO:ClusterComparator:Running /opt/gct/submodules/OvpNMI/onmi /tmp/tmpxdn57aim/cluster1.cnl /tmp/tmpxdn57aim/cluster2.cnl > ovpnmioutput\n",
      "2020-04-23 01:24:55,807 - ClusterComparator - INFO - resulting 128 nodes out of 128,128\n",
      "INFO:ClusterComparator:resulting 128 nodes out of 128,128\n",
      "/opt/conda/envs/python3/lib/python3.6/site-packages/sklearn/metrics/cluster/supervised.py:859: FutureWarning: The behavior of NMI will change in version 0.22. To match the behavior of 'v_measure_score', NMI will use average_method='arithmetic' by default.\n",
      "  FutureWarning)\n",
      "2020-04-23 01:24:55,818 - ClusterComparator - INFO - Running /opt/gct/submodules/OvpNMI/onmi /tmp/tmpmqk853yd/cluster1.cnl /tmp/tmpmqk853yd/cluster2.cnl > ovpnmioutput\n",
      "INFO:ClusterComparator:Running /opt/gct/submodules/OvpNMI/onmi /tmp/tmpmqk853yd/cluster1.cnl /tmp/tmpmqk853yd/cluster2.cnl > ovpnmioutput\n",
      "2020-04-23 01:24:55,830 - Clustering - INFO - reading/data/data/K_DoesAlgSupportDirTest_1/gt_default.parq\n",
      "INFO:Clustering:reading/data/data/K_DoesAlgSupportDirTest_1/gt_default.parq\n",
      "2020-04-23 01:24:55,837 - ClusterComparator - INFO - resulting 128 nodes out of 128,128\n",
      "INFO:ClusterComparator:resulting 128 nodes out of 128,128\n",
      "/opt/conda/envs/python3/lib/python3.6/site-packages/sklearn/metrics/cluster/supervised.py:859: FutureWarning: The behavior of NMI will change in version 0.22. To match the behavior of 'v_measure_score', NMI will use average_method='arithmetic' by default.\n",
      "  FutureWarning)\n",
      "2020-04-23 01:24:55,845 - ClusterComparator - INFO - Running /opt/gct/submodules/OvpNMI/onmi /tmp/tmp8h80aqzx/cluster1.cnl /tmp/tmp8h80aqzx/cluster2.cnl > ovpnmioutput\n",
      "INFO:ClusterComparator:Running /opt/gct/submodules/OvpNMI/onmi /tmp/tmp8h80aqzx/cluster1.cnl /tmp/tmp8h80aqzx/cluster2.cnl > ovpnmioutput\n",
      "2020-04-23 01:24:55,856 - ClusterComparator - INFO - resulting 128 nodes out of 128,128\n",
      "INFO:ClusterComparator:resulting 128 nodes out of 128,128\n",
      "/opt/conda/envs/python3/lib/python3.6/site-packages/sklearn/metrics/cluster/supervised.py:859: FutureWarning: The behavior of NMI will change in version 0.22. To match the behavior of 'v_measure_score', NMI will use average_method='arithmetic' by default.\n",
      "  FutureWarning)\n",
      "2020-04-23 01:24:55,866 - ClusterComparator - INFO - Running /opt/gct/submodules/OvpNMI/onmi /tmp/tmpz4zk_e_w/cluster1.cnl /tmp/tmpz4zk_e_w/cluster2.cnl > ovpnmioutput\n",
      "INFO:ClusterComparator:Running /opt/gct/submodules/OvpNMI/onmi /tmp/tmpz4zk_e_w/cluster1.cnl /tmp/tmpz4zk_e_w/cluster2.cnl > ovpnmioutput\n",
      "2020-04-23 01:24:55,884 - ClusterComparator - INFO - resulting 128 nodes out of 128,128\n",
      "INFO:ClusterComparator:resulting 128 nodes out of 128,128\n",
      "/opt/conda/envs/python3/lib/python3.6/site-packages/sklearn/metrics/cluster/supervised.py:859: FutureWarning: The behavior of NMI will change in version 0.22. To match the behavior of 'v_measure_score', NMI will use average_method='arithmetic' by default.\n",
      "  FutureWarning)\n",
      "2020-04-23 01:24:55,894 - ClusterComparator - INFO - Running /opt/gct/submodules/OvpNMI/onmi /tmp/tmp71nr18a8/cluster1.cnl /tmp/tmp71nr18a8/cluster2.cnl > ovpnmioutput\n",
      "INFO:ClusterComparator:Running /opt/gct/submodules/OvpNMI/onmi /tmp/tmp71nr18a8/cluster1.cnl /tmp/tmp71nr18a8/cluster2.cnl > ovpnmioutput\n",
      "2020-04-23 01:24:55,906 - Clustering - INFO - reading/data/data/K_DoesAlgSupportDirTest_1/gt_default.parq\n",
      "INFO:Clustering:reading/data/data/K_DoesAlgSupportDirTest_1/gt_default.parq\n",
      "2020-04-23 01:24:55,913 - ClusterComparator - INFO - resulting 128 nodes out of 128,128\n",
      "INFO:ClusterComparator:resulting 128 nodes out of 128,128\n",
      "/opt/conda/envs/python3/lib/python3.6/site-packages/sklearn/metrics/cluster/supervised.py:859: FutureWarning: The behavior of NMI will change in version 0.22. To match the behavior of 'v_measure_score', NMI will use average_method='arithmetic' by default.\n",
      "  FutureWarning)\n",
      "2020-04-23 01:24:55,921 - ClusterComparator - INFO - Running /opt/gct/submodules/OvpNMI/onmi /tmp/tmph6baf6tg/cluster1.cnl /tmp/tmph6baf6tg/cluster2.cnl > ovpnmioutput\n",
      "INFO:ClusterComparator:Running /opt/gct/submodules/OvpNMI/onmi /tmp/tmph6baf6tg/cluster1.cnl /tmp/tmph6baf6tg/cluster2.cnl > ovpnmioutput\n",
      "2020-04-23 01:24:55,932 - ClusterComparator - INFO - resulting 128 nodes out of 128,128\n",
      "INFO:ClusterComparator:resulting 128 nodes out of 128,128\n",
      "/opt/conda/envs/python3/lib/python3.6/site-packages/sklearn/metrics/cluster/supervised.py:859: FutureWarning: The behavior of NMI will change in version 0.22. To match the behavior of 'v_measure_score', NMI will use average_method='arithmetic' by default.\n",
      "  FutureWarning)\n",
      "2020-04-23 01:24:55,941 - ClusterComparator - INFO - Running /opt/gct/submodules/OvpNMI/onmi /tmp/tmphq69fjry/cluster1.cnl /tmp/tmphq69fjry/cluster2.cnl > ovpnmioutput\n",
      "INFO:ClusterComparator:Running /opt/gct/submodules/OvpNMI/onmi /tmp/tmphq69fjry/cluster1.cnl /tmp/tmphq69fjry/cluster2.cnl > ovpnmioutput\n",
      "2020-04-23 01:24:55,959 - ClusterComparator - INFO - resulting 128 nodes out of 128,128\n",
      "INFO:ClusterComparator:resulting 128 nodes out of 128,128\n",
      "/opt/conda/envs/python3/lib/python3.6/site-packages/sklearn/metrics/cluster/supervised.py:859: FutureWarning: The behavior of NMI will change in version 0.22. To match the behavior of 'v_measure_score', NMI will use average_method='arithmetic' by default.\n",
      "  FutureWarning)\n",
      "2020-04-23 01:24:55,969 - ClusterComparator - INFO - Running /opt/gct/submodules/OvpNMI/onmi /tmp/tmp47rqypov/cluster1.cnl /tmp/tmp47rqypov/cluster2.cnl > ovpnmioutput\n",
      "INFO:ClusterComparator:Running /opt/gct/submodules/OvpNMI/onmi /tmp/tmp47rqypov/cluster1.cnl /tmp/tmp47rqypov/cluster2.cnl > ovpnmioutput\n",
      "2020-04-23 01:24:55,981 - Clustering - INFO - reading/data/data/K_DoesAlgSupportDirTest_1/gt_default.parq\n",
      "INFO:Clustering:reading/data/data/K_DoesAlgSupportDirTest_1/gt_default.parq\n",
      "2020-04-23 01:24:55,987 - ClusterComparator - INFO - resulting 128 nodes out of 128,128\n",
      "INFO:ClusterComparator:resulting 128 nodes out of 128,128\n",
      "/opt/conda/envs/python3/lib/python3.6/site-packages/sklearn/metrics/cluster/supervised.py:859: FutureWarning: The behavior of NMI will change in version 0.22. To match the behavior of 'v_measure_score', NMI will use average_method='arithmetic' by default.\n",
      "  FutureWarning)\n",
      "2020-04-23 01:24:55,995 - ClusterComparator - INFO - Running /opt/gct/submodules/OvpNMI/onmi /tmp/tmp2bzcty8d/cluster1.cnl /tmp/tmp2bzcty8d/cluster2.cnl > ovpnmioutput\n",
      "INFO:ClusterComparator:Running /opt/gct/submodules/OvpNMI/onmi /tmp/tmp2bzcty8d/cluster1.cnl /tmp/tmp2bzcty8d/cluster2.cnl > ovpnmioutput\n",
      "2020-04-23 01:24:56,007 - ClusterComparator - INFO - resulting 128 nodes out of 128,128\n"
     ]
    },
    {
     "name": "stderr",
     "output_type": "stream",
     "text": [
      "INFO:ClusterComparator:resulting 128 nodes out of 128,128\n",
      "/opt/conda/envs/python3/lib/python3.6/site-packages/sklearn/metrics/cluster/supervised.py:859: FutureWarning: The behavior of NMI will change in version 0.22. To match the behavior of 'v_measure_score', NMI will use average_method='arithmetic' by default.\n",
      "  FutureWarning)\n",
      "2020-04-23 01:24:56,016 - ClusterComparator - INFO - Running /opt/gct/submodules/OvpNMI/onmi /tmp/tmp3szoug2z/cluster1.cnl /tmp/tmp3szoug2z/cluster2.cnl > ovpnmioutput\n",
      "INFO:ClusterComparator:Running /opt/gct/submodules/OvpNMI/onmi /tmp/tmp3szoug2z/cluster1.cnl /tmp/tmp3szoug2z/cluster2.cnl > ovpnmioutput\n",
      "2020-04-23 01:24:56,034 - ClusterComparator - INFO - resulting 128 nodes out of 128,128\n",
      "INFO:ClusterComparator:resulting 128 nodes out of 128,128\n",
      "/opt/conda/envs/python3/lib/python3.6/site-packages/sklearn/metrics/cluster/supervised.py:859: FutureWarning: The behavior of NMI will change in version 0.22. To match the behavior of 'v_measure_score', NMI will use average_method='arithmetic' by default.\n",
      "  FutureWarning)\n",
      "2020-04-23 01:24:56,044 - ClusterComparator - INFO - Running /opt/gct/submodules/OvpNMI/onmi /tmp/tmpj727z4tm/cluster1.cnl /tmp/tmpj727z4tm/cluster2.cnl > ovpnmioutput\n",
      "INFO:ClusterComparator:Running /opt/gct/submodules/OvpNMI/onmi /tmp/tmpj727z4tm/cluster1.cnl /tmp/tmpj727z4tm/cluster2.cnl > ovpnmioutput\n",
      "2020-04-23 01:24:56,056 - Clustering - INFO - reading/data/data/K_DoesAlgSupportDirTest_1/gt_default.parq\n",
      "INFO:Clustering:reading/data/data/K_DoesAlgSupportDirTest_1/gt_default.parq\n",
      "2020-04-23 01:24:56,063 - ClusterComparator - INFO - resulting 128 nodes out of 128,128\n",
      "INFO:ClusterComparator:resulting 128 nodes out of 128,128\n",
      "/opt/conda/envs/python3/lib/python3.6/site-packages/sklearn/metrics/cluster/supervised.py:859: FutureWarning: The behavior of NMI will change in version 0.22. To match the behavior of 'v_measure_score', NMI will use average_method='arithmetic' by default.\n",
      "  FutureWarning)\n",
      "2020-04-23 01:24:56,071 - ClusterComparator - INFO - Running /opt/gct/submodules/OvpNMI/onmi /tmp/tmpkrv2wdy0/cluster1.cnl /tmp/tmpkrv2wdy0/cluster2.cnl > ovpnmioutput\n",
      "INFO:ClusterComparator:Running /opt/gct/submodules/OvpNMI/onmi /tmp/tmpkrv2wdy0/cluster1.cnl /tmp/tmpkrv2wdy0/cluster2.cnl > ovpnmioutput\n",
      "2020-04-23 01:24:56,083 - ClusterComparator - INFO - resulting 128 nodes out of 128,128\n",
      "INFO:ClusterComparator:resulting 128 nodes out of 128,128\n",
      "/opt/conda/envs/python3/lib/python3.6/site-packages/sklearn/metrics/cluster/supervised.py:859: FutureWarning: The behavior of NMI will change in version 0.22. To match the behavior of 'v_measure_score', NMI will use average_method='arithmetic' by default.\n",
      "  FutureWarning)\n",
      "2020-04-23 01:24:56,092 - ClusterComparator - INFO - Running /opt/gct/submodules/OvpNMI/onmi /tmp/tmpwkf7t569/cluster1.cnl /tmp/tmpwkf7t569/cluster2.cnl > ovpnmioutput\n",
      "INFO:ClusterComparator:Running /opt/gct/submodules/OvpNMI/onmi /tmp/tmpwkf7t569/cluster1.cnl /tmp/tmpwkf7t569/cluster2.cnl > ovpnmioutput\n",
      "2020-04-23 01:24:56,329 - ClusterComparator - INFO - resulting 128 nodes out of 128,128\n",
      "INFO:ClusterComparator:resulting 128 nodes out of 128,128\n",
      "/opt/conda/envs/python3/lib/python3.6/site-packages/sklearn/metrics/cluster/supervised.py:859: FutureWarning: The behavior of NMI will change in version 0.22. To match the behavior of 'v_measure_score', NMI will use average_method='arithmetic' by default.\n",
      "  FutureWarning)\n",
      "2020-04-23 01:24:56,340 - ClusterComparator - INFO - Running /opt/gct/submodules/OvpNMI/onmi /tmp/tmpgn926f5z/cluster1.cnl /tmp/tmpgn926f5z/cluster2.cnl > ovpnmioutput\n",
      "INFO:ClusterComparator:Running /opt/gct/submodules/OvpNMI/onmi /tmp/tmpgn926f5z/cluster1.cnl /tmp/tmpgn926f5z/cluster2.cnl > ovpnmioutput\n",
      "2020-04-23 01:24:56,353 - Clustering - INFO - reading/data/data/K_DoesAlgSupportDirTest_1/gt_default.parq\n",
      "INFO:Clustering:reading/data/data/K_DoesAlgSupportDirTest_1/gt_default.parq\n",
      "2020-04-23 01:24:56,466 - ClusterComparator - INFO - resulting 127 nodes out of 128,128\n",
      "INFO:ClusterComparator:resulting 127 nodes out of 128,128\n",
      "/opt/conda/envs/python3/lib/python3.6/site-packages/sklearn/metrics/cluster/supervised.py:859: FutureWarning: The behavior of NMI will change in version 0.22. To match the behavior of 'v_measure_score', NMI will use average_method='arithmetic' by default.\n",
      "  FutureWarning)\n",
      "2020-04-23 01:24:56,474 - ClusterComparator - INFO - Running /opt/gct/submodules/OvpNMI/onmi /tmp/tmp5e5q_nbu/cluster1.cnl /tmp/tmp5e5q_nbu/cluster2.cnl > ovpnmioutput\n",
      "INFO:ClusterComparator:Running /opt/gct/submodules/OvpNMI/onmi /tmp/tmp5e5q_nbu/cluster1.cnl /tmp/tmp5e5q_nbu/cluster2.cnl > ovpnmioutput\n",
      "2020-04-23 01:24:56,486 - ClusterComparator - ERROR - Run command with error status code 134\n",
      "ERROR:ClusterComparator:Run command with error status code 134\n",
      "2020-04-23 01:24:56,598 - ClusterComparator - INFO - resulting 127 nodes out of 128,128\n",
      "INFO:ClusterComparator:resulting 127 nodes out of 128,128\n",
      "/opt/conda/envs/python3/lib/python3.6/site-packages/sklearn/metrics/cluster/supervised.py:859: FutureWarning: The behavior of NMI will change in version 0.22. To match the behavior of 'v_measure_score', NMI will use average_method='arithmetic' by default.\n",
      "  FutureWarning)\n",
      "2020-04-23 01:24:56,606 - ClusterComparator - INFO - Running /opt/gct/submodules/OvpNMI/onmi /tmp/tmpnlggmdyl/cluster1.cnl /tmp/tmpnlggmdyl/cluster2.cnl > ovpnmioutput\n",
      "INFO:ClusterComparator:Running /opt/gct/submodules/OvpNMI/onmi /tmp/tmpnlggmdyl/cluster1.cnl /tmp/tmpnlggmdyl/cluster2.cnl > ovpnmioutput\n",
      "2020-04-23 01:24:56,619 - ClusterComparator - ERROR - Run command with error status code 134\n",
      "ERROR:ClusterComparator:Run command with error status code 134\n",
      "2020-04-23 01:24:56,628 - ClusterComparator - INFO - resulting 128 nodes out of 128,128\n",
      "INFO:ClusterComparator:resulting 128 nodes out of 128,128\n",
      "/opt/conda/envs/python3/lib/python3.6/site-packages/sklearn/metrics/cluster/supervised.py:859: FutureWarning: The behavior of NMI will change in version 0.22. To match the behavior of 'v_measure_score', NMI will use average_method='arithmetic' by default.\n",
      "  FutureWarning)\n",
      "2020-04-23 01:24:56,637 - ClusterComparator - INFO - Running /opt/gct/submodules/OvpNMI/onmi /tmp/tmpqpb3z5nn/cluster1.cnl /tmp/tmpqpb3z5nn/cluster2.cnl > ovpnmioutput\n",
      "INFO:ClusterComparator:Running /opt/gct/submodules/OvpNMI/onmi /tmp/tmpqpb3z5nn/cluster1.cnl /tmp/tmpqpb3z5nn/cluster2.cnl > ovpnmioutput\n",
      "2020-04-23 01:24:56,649 - Clustering - INFO - reading/data/data/K_DoesAlgSupportDirTest_1/gt_default.parq\n",
      "INFO:Clustering:reading/data/data/K_DoesAlgSupportDirTest_1/gt_default.parq\n",
      "2020-04-23 01:24:56,656 - ClusterComparator - INFO - resulting 128 nodes out of 128,128\n",
      "INFO:ClusterComparator:resulting 128 nodes out of 128,128\n",
      "/opt/conda/envs/python3/lib/python3.6/site-packages/sklearn/metrics/cluster/supervised.py:859: FutureWarning: The behavior of NMI will change in version 0.22. To match the behavior of 'v_measure_score', NMI will use average_method='arithmetic' by default.\n",
      "  FutureWarning)\n",
      "2020-04-23 01:24:56,663 - ClusterComparator - INFO - Running /opt/gct/submodules/OvpNMI/onmi /tmp/tmp7xd62chu/cluster1.cnl /tmp/tmp7xd62chu/cluster2.cnl > ovpnmioutput\n",
      "INFO:ClusterComparator:Running /opt/gct/submodules/OvpNMI/onmi /tmp/tmp7xd62chu/cluster1.cnl /tmp/tmp7xd62chu/cluster2.cnl > ovpnmioutput\n",
      "2020-04-23 01:24:56,675 - ClusterComparator - INFO - resulting 128 nodes out of 128,128\n",
      "INFO:ClusterComparator:resulting 128 nodes out of 128,128\n",
      "/opt/conda/envs/python3/lib/python3.6/site-packages/sklearn/metrics/cluster/supervised.py:859: FutureWarning: The behavior of NMI will change in version 0.22. To match the behavior of 'v_measure_score', NMI will use average_method='arithmetic' by default.\n",
      "  FutureWarning)\n",
      "2020-04-23 01:24:56,684 - ClusterComparator - INFO - Running /opt/gct/submodules/OvpNMI/onmi /tmp/tmpj5hdp629/cluster1.cnl /tmp/tmpj5hdp629/cluster2.cnl > ovpnmioutput\n",
      "INFO:ClusterComparator:Running /opt/gct/submodules/OvpNMI/onmi /tmp/tmpj5hdp629/cluster1.cnl /tmp/tmpj5hdp629/cluster2.cnl > ovpnmioutput\n",
      "2020-04-23 01:24:56,878 - ClusterComparator - INFO - resulting 128 nodes out of 128,128\n",
      "INFO:ClusterComparator:resulting 128 nodes out of 128,128\n",
      "/opt/conda/envs/python3/lib/python3.6/site-packages/sklearn/metrics/cluster/supervised.py:859: FutureWarning: The behavior of NMI will change in version 0.22. To match the behavior of 'v_measure_score', NMI will use average_method='arithmetic' by default.\n",
      "  FutureWarning)\n"
     ]
    },
    {
     "name": "stderr",
     "output_type": "stream",
     "text": [
      "2020-04-23 01:24:56,888 - ClusterComparator - INFO - Running /opt/gct/submodules/OvpNMI/onmi /tmp/tmpo1f_ti2u/cluster1.cnl /tmp/tmpo1f_ti2u/cluster2.cnl > ovpnmioutput\n",
      "INFO:ClusterComparator:Running /opt/gct/submodules/OvpNMI/onmi /tmp/tmpo1f_ti2u/cluster1.cnl /tmp/tmpo1f_ti2u/cluster2.cnl > ovpnmioutput\n",
      "2020-04-23 01:24:56,901 - Clustering - INFO - reading/data/data/K_DoesAlgSupportDirTest_1/gt_default.parq\n",
      "INFO:Clustering:reading/data/data/K_DoesAlgSupportDirTest_1/gt_default.parq\n",
      "2020-04-23 01:24:56,994 - ClusterComparator - INFO - resulting 128 nodes out of 128,128\n",
      "INFO:ClusterComparator:resulting 128 nodes out of 128,128\n",
      "/opt/conda/envs/python3/lib/python3.6/site-packages/sklearn/metrics/cluster/supervised.py:859: FutureWarning: The behavior of NMI will change in version 0.22. To match the behavior of 'v_measure_score', NMI will use average_method='arithmetic' by default.\n",
      "  FutureWarning)\n",
      "2020-04-23 01:24:57,002 - ClusterComparator - INFO - Running /opt/gct/submodules/OvpNMI/onmi /tmp/tmp9nnopeon/cluster1.cnl /tmp/tmp9nnopeon/cluster2.cnl > ovpnmioutput\n",
      "INFO:ClusterComparator:Running /opt/gct/submodules/OvpNMI/onmi /tmp/tmp9nnopeon/cluster1.cnl /tmp/tmp9nnopeon/cluster2.cnl > ovpnmioutput\n",
      "2020-04-23 01:24:57,104 - ClusterComparator - INFO - resulting 128 nodes out of 128,128\n",
      "INFO:ClusterComparator:resulting 128 nodes out of 128,128\n",
      "/opt/conda/envs/python3/lib/python3.6/site-packages/sklearn/metrics/cluster/supervised.py:859: FutureWarning: The behavior of NMI will change in version 0.22. To match the behavior of 'v_measure_score', NMI will use average_method='arithmetic' by default.\n",
      "  FutureWarning)\n",
      "2020-04-23 01:24:57,113 - ClusterComparator - INFO - Running /opt/gct/submodules/OvpNMI/onmi /tmp/tmp1seu5u8y/cluster1.cnl /tmp/tmp1seu5u8y/cluster2.cnl > ovpnmioutput\n",
      "INFO:ClusterComparator:Running /opt/gct/submodules/OvpNMI/onmi /tmp/tmp1seu5u8y/cluster1.cnl /tmp/tmp1seu5u8y/cluster2.cnl > ovpnmioutput\n",
      "2020-04-23 01:24:57,338 - ClusterComparator - INFO - resulting 128 nodes out of 128,128\n",
      "INFO:ClusterComparator:resulting 128 nodes out of 128,128\n",
      "/opt/conda/envs/python3/lib/python3.6/site-packages/sklearn/metrics/cluster/supervised.py:859: FutureWarning: The behavior of NMI will change in version 0.22. To match the behavior of 'v_measure_score', NMI will use average_method='arithmetic' by default.\n",
      "  FutureWarning)\n",
      "2020-04-23 01:24:57,350 - ClusterComparator - INFO - Running /opt/gct/submodules/OvpNMI/onmi /tmp/tmpboc8oyqu/cluster1.cnl /tmp/tmpboc8oyqu/cluster2.cnl > ovpnmioutput\n",
      "INFO:ClusterComparator:Running /opt/gct/submodules/OvpNMI/onmi /tmp/tmpboc8oyqu/cluster1.cnl /tmp/tmpboc8oyqu/cluster2.cnl > ovpnmioutput\n",
      "2020-04-23 01:24:57,362 - Clustering - INFO - reading/data/data/K_DoesAlgSupportDirTest_1/gt_default.parq\n",
      "INFO:Clustering:reading/data/data/K_DoesAlgSupportDirTest_1/gt_default.parq\n",
      "2020-04-23 01:24:57,471 - ClusterComparator - INFO - resulting 128 nodes out of 128,128\n",
      "INFO:ClusterComparator:resulting 128 nodes out of 128,128\n",
      "/opt/conda/envs/python3/lib/python3.6/site-packages/sklearn/metrics/cluster/supervised.py:859: FutureWarning: The behavior of NMI will change in version 0.22. To match the behavior of 'v_measure_score', NMI will use average_method='arithmetic' by default.\n",
      "  FutureWarning)\n",
      "2020-04-23 01:24:57,479 - ClusterComparator - INFO - Running /opt/gct/submodules/OvpNMI/onmi /tmp/tmpd72wwl0a/cluster1.cnl /tmp/tmpd72wwl0a/cluster2.cnl > ovpnmioutput\n",
      "INFO:ClusterComparator:Running /opt/gct/submodules/OvpNMI/onmi /tmp/tmpd72wwl0a/cluster1.cnl /tmp/tmpd72wwl0a/cluster2.cnl > ovpnmioutput\n",
      "2020-04-23 01:24:57,596 - ClusterComparator - INFO - resulting 128 nodes out of 128,128\n",
      "INFO:ClusterComparator:resulting 128 nodes out of 128,128\n",
      "/opt/conda/envs/python3/lib/python3.6/site-packages/sklearn/metrics/cluster/supervised.py:859: FutureWarning: The behavior of NMI will change in version 0.22. To match the behavior of 'v_measure_score', NMI will use average_method='arithmetic' by default.\n",
      "  FutureWarning)\n",
      "2020-04-23 01:24:57,605 - ClusterComparator - INFO - Running /opt/gct/submodules/OvpNMI/onmi /tmp/tmpwib71knl/cluster1.cnl /tmp/tmpwib71knl/cluster2.cnl > ovpnmioutput\n",
      "INFO:ClusterComparator:Running /opt/gct/submodules/OvpNMI/onmi /tmp/tmpwib71knl/cluster1.cnl /tmp/tmpwib71knl/cluster2.cnl > ovpnmioutput\n",
      "2020-04-23 01:24:57,830 - ClusterComparator - INFO - resulting 128 nodes out of 128,128\n",
      "INFO:ClusterComparator:resulting 128 nodes out of 128,128\n",
      "/opt/conda/envs/python3/lib/python3.6/site-packages/sklearn/metrics/cluster/supervised.py:859: FutureWarning: The behavior of NMI will change in version 0.22. To match the behavior of 'v_measure_score', NMI will use average_method='arithmetic' by default.\n",
      "  FutureWarning)\n",
      "2020-04-23 01:24:57,842 - ClusterComparator - INFO - Running /opt/gct/submodules/OvpNMI/onmi /tmp/tmpr0bjvivm/cluster1.cnl /tmp/tmpr0bjvivm/cluster2.cnl > ovpnmioutput\n",
      "INFO:ClusterComparator:Running /opt/gct/submodules/OvpNMI/onmi /tmp/tmpr0bjvivm/cluster1.cnl /tmp/tmpr0bjvivm/cluster2.cnl > ovpnmioutput\n",
      "2020-04-23 01:24:57,854 - Clustering - INFO - reading/data/data/K_DoesAlgSupportDirTest_1/gt_default.parq\n",
      "INFO:Clustering:reading/data/data/K_DoesAlgSupportDirTest_1/gt_default.parq\n",
      "2020-04-23 01:24:57,962 - ClusterComparator - INFO - resulting 128 nodes out of 128,128\n",
      "INFO:ClusterComparator:resulting 128 nodes out of 128,128\n",
      "/opt/conda/envs/python3/lib/python3.6/site-packages/sklearn/metrics/cluster/supervised.py:859: FutureWarning: The behavior of NMI will change in version 0.22. To match the behavior of 'v_measure_score', NMI will use average_method='arithmetic' by default.\n",
      "  FutureWarning)\n",
      "2020-04-23 01:24:57,972 - ClusterComparator - INFO - Running /opt/gct/submodules/OvpNMI/onmi /tmp/tmpg8_dkk73/cluster1.cnl /tmp/tmpg8_dkk73/cluster2.cnl > ovpnmioutput\n",
      "INFO:ClusterComparator:Running /opt/gct/submodules/OvpNMI/onmi /tmp/tmpg8_dkk73/cluster1.cnl /tmp/tmpg8_dkk73/cluster2.cnl > ovpnmioutput\n",
      "2020-04-23 01:24:57,984 - ClusterComparator - ERROR - Run command with error status code 134\n",
      "ERROR:ClusterComparator:Run command with error status code 134\n",
      "2020-04-23 01:24:58,093 - ClusterComparator - INFO - resulting 128 nodes out of 128,128\n",
      "INFO:ClusterComparator:resulting 128 nodes out of 128,128\n",
      "/opt/conda/envs/python3/lib/python3.6/site-packages/sklearn/metrics/cluster/supervised.py:859: FutureWarning: The behavior of NMI will change in version 0.22. To match the behavior of 'v_measure_score', NMI will use average_method='arithmetic' by default.\n",
      "  FutureWarning)\n",
      "2020-04-23 01:24:58,101 - ClusterComparator - INFO - Running /opt/gct/submodules/OvpNMI/onmi /tmp/tmp424exde3/cluster1.cnl /tmp/tmp424exde3/cluster2.cnl > ovpnmioutput\n",
      "INFO:ClusterComparator:Running /opt/gct/submodules/OvpNMI/onmi /tmp/tmp424exde3/cluster1.cnl /tmp/tmp424exde3/cluster2.cnl > ovpnmioutput\n",
      "2020-04-23 01:24:58,121 - ClusterComparator - INFO - resulting 128 nodes out of 128,128\n",
      "INFO:ClusterComparator:resulting 128 nodes out of 128,128\n",
      "/opt/conda/envs/python3/lib/python3.6/site-packages/sklearn/metrics/cluster/supervised.py:859: FutureWarning: The behavior of NMI will change in version 0.22. To match the behavior of 'v_measure_score', NMI will use average_method='arithmetic' by default.\n",
      "  FutureWarning)\n",
      "2020-04-23 01:24:58,126 - Clustering - INFO - reading/data/data/K_DoesAlgSupportDirTest_1/gt_default.parq\n",
      "INFO:Clustering:reading/data/data/K_DoesAlgSupportDirTest_1/gt_default.parq\n",
      "2020-04-23 01:24:58,131 - ClusterComparator - INFO - resulting 128 nodes out of 128,128\n",
      "INFO:ClusterComparator:resulting 128 nodes out of 128,128\n",
      "2020-04-23 01:24:58,136 - ClusterComparator - INFO - resulting 128 nodes out of 128,128\n",
      "INFO:ClusterComparator:resulting 128 nodes out of 128,128\n",
      "/opt/conda/envs/python3/lib/python3.6/site-packages/sklearn/metrics/cluster/supervised.py:859: FutureWarning: The behavior of NMI will change in version 0.22. To match the behavior of 'v_measure_score', NMI will use average_method='arithmetic' by default.\n",
      "  FutureWarning)\n",
      "2020-04-23 01:24:58,147 - ClusterComparator - INFO - resulting 128 nodes out of 128,128\n",
      "INFO:ClusterComparator:resulting 128 nodes out of 128,128\n",
      "/opt/conda/envs/python3/lib/python3.6/site-packages/sklearn/metrics/cluster/supervised.py:859: FutureWarning: The behavior of NMI will change in version 0.22. To match the behavior of 'v_measure_score', NMI will use average_method='arithmetic' by default.\n",
      "  FutureWarning)\n",
      "2020-04-23 01:24:58,155 - ClusterComparator - INFO - Running /opt/gct/submodules/OvpNMI/onmi /tmp/tmpsn7o4uy5/cluster1.cnl /tmp/tmpsn7o4uy5/cluster2.cnl > ovpnmioutput\n"
     ]
    },
    {
     "name": "stderr",
     "output_type": "stream",
     "text": [
      "INFO:ClusterComparator:Running /opt/gct/submodules/OvpNMI/onmi /tmp/tmpsn7o4uy5/cluster1.cnl /tmp/tmpsn7o4uy5/cluster2.cnl > ovpnmioutput\n",
      "2020-04-23 01:24:58,167 - Clustering - INFO - reading/data/data/K_DoesAlgSupportDirTest_1/gt_default.parq\n",
      "INFO:Clustering:reading/data/data/K_DoesAlgSupportDirTest_1/gt_default.parq\n",
      "2020-04-23 01:24:58,174 - ClusterComparator - INFO - resulting 128 nodes out of 128,128\n",
      "INFO:ClusterComparator:resulting 128 nodes out of 128,128\n",
      "/opt/conda/envs/python3/lib/python3.6/site-packages/sklearn/metrics/cluster/supervised.py:859: FutureWarning: The behavior of NMI will change in version 0.22. To match the behavior of 'v_measure_score', NMI will use average_method='arithmetic' by default.\n",
      "  FutureWarning)\n",
      "2020-04-23 01:24:58,182 - ClusterComparator - INFO - Running /opt/gct/submodules/OvpNMI/onmi /tmp/tmp7ik2reij/cluster1.cnl /tmp/tmp7ik2reij/cluster2.cnl > ovpnmioutput\n",
      "INFO:ClusterComparator:Running /opt/gct/submodules/OvpNMI/onmi /tmp/tmp7ik2reij/cluster1.cnl /tmp/tmp7ik2reij/cluster2.cnl > ovpnmioutput\n",
      "2020-04-23 01:24:58,194 - ClusterComparator - INFO - resulting 128 nodes out of 128,128\n",
      "INFO:ClusterComparator:resulting 128 nodes out of 128,128\n",
      "/opt/conda/envs/python3/lib/python3.6/site-packages/sklearn/metrics/cluster/supervised.py:859: FutureWarning: The behavior of NMI will change in version 0.22. To match the behavior of 'v_measure_score', NMI will use average_method='arithmetic' by default.\n",
      "  FutureWarning)\n",
      "2020-04-23 01:24:58,204 - ClusterComparator - INFO - Running /opt/gct/submodules/OvpNMI/onmi /tmp/tmp2oevxg_q/cluster1.cnl /tmp/tmp2oevxg_q/cluster2.cnl > ovpnmioutput\n",
      "INFO:ClusterComparator:Running /opt/gct/submodules/OvpNMI/onmi /tmp/tmp2oevxg_q/cluster1.cnl /tmp/tmp2oevxg_q/cluster2.cnl > ovpnmioutput\n",
      "2020-04-23 01:24:58,307 - ClusterComparator - INFO - resulting 128 nodes out of 128,128\n",
      "INFO:ClusterComparator:resulting 128 nodes out of 128,128\n",
      "/opt/conda/envs/python3/lib/python3.6/site-packages/sklearn/metrics/cluster/supervised.py:859: FutureWarning: The behavior of NMI will change in version 0.22. To match the behavior of 'v_measure_score', NMI will use average_method='arithmetic' by default.\n",
      "  FutureWarning)\n",
      "2020-04-23 01:24:58,314 - Clustering - INFO - reading/data/data/K_DoesAlgSupportDirTest_1/gt_default.parq\n",
      "INFO:Clustering:reading/data/data/K_DoesAlgSupportDirTest_1/gt_default.parq\n",
      "2020-04-23 01:24:58,407 - ClusterComparator - INFO - resulting 128 nodes out of 128,128\n",
      "INFO:ClusterComparator:resulting 128 nodes out of 128,128\n",
      "/opt/conda/envs/python3/lib/python3.6/site-packages/sklearn/metrics/cluster/supervised.py:859: FutureWarning: The behavior of NMI will change in version 0.22. To match the behavior of 'v_measure_score', NMI will use average_method='arithmetic' by default.\n",
      "  FutureWarning)\n",
      "2020-04-23 01:24:58,461 - ClusterComparator - INFO - Running /opt/gct/submodules/OvpNMI/onmi /tmp/tmp6fwpcfl4/cluster1.cnl /tmp/tmp6fwpcfl4/cluster2.cnl > ovpnmioutput\n",
      "INFO:ClusterComparator:Running /opt/gct/submodules/OvpNMI/onmi /tmp/tmp6fwpcfl4/cluster1.cnl /tmp/tmp6fwpcfl4/cluster2.cnl > ovpnmioutput\n",
      "2020-04-23 01:24:58,475 - ClusterComparator - INFO - resulting 128 nodes out of 128,128\n",
      "INFO:ClusterComparator:resulting 128 nodes out of 128,128\n",
      "/opt/conda/envs/python3/lib/python3.6/site-packages/sklearn/metrics/cluster/supervised.py:859: FutureWarning: The behavior of NMI will change in version 0.22. To match the behavior of 'v_measure_score', NMI will use average_method='arithmetic' by default.\n",
      "  FutureWarning)\n",
      "2020-04-23 01:24:58,488 - ClusterComparator - INFO - resulting 128 nodes out of 128,128\n",
      "INFO:ClusterComparator:resulting 128 nodes out of 128,128\n",
      "/opt/conda/envs/python3/lib/python3.6/site-packages/sklearn/metrics/cluster/supervised.py:859: FutureWarning: The behavior of NMI will change in version 0.22. To match the behavior of 'v_measure_score', NMI will use average_method='arithmetic' by default.\n",
      "  FutureWarning)\n",
      "2020-04-23 01:24:58,497 - ClusterComparator - INFO - Running /opt/gct/submodules/OvpNMI/onmi /tmp/tmp79oa1x_w/cluster1.cnl /tmp/tmp79oa1x_w/cluster2.cnl > ovpnmioutput\n",
      "INFO:ClusterComparator:Running /opt/gct/submodules/OvpNMI/onmi /tmp/tmp79oa1x_w/cluster1.cnl /tmp/tmp79oa1x_w/cluster2.cnl > ovpnmioutput\n",
      "2020-04-23 01:24:58,509 - Clustering - INFO - reading/data/data/K_DoesAlgSupportDirTest_1/gt_default.parq\n",
      "INFO:Clustering:reading/data/data/K_DoesAlgSupportDirTest_1/gt_default.parq\n",
      "2020-04-23 01:24:58,516 - ClusterComparator - INFO - resulting 128 nodes out of 128,128\n",
      "INFO:ClusterComparator:resulting 128 nodes out of 128,128\n",
      "/opt/conda/envs/python3/lib/python3.6/site-packages/sklearn/metrics/cluster/supervised.py:859: FutureWarning: The behavior of NMI will change in version 0.22. To match the behavior of 'v_measure_score', NMI will use average_method='arithmetic' by default.\n",
      "  FutureWarning)\n",
      "2020-04-23 01:24:58,523 - ClusterComparator - INFO - Running /opt/gct/submodules/OvpNMI/onmi /tmp/tmp8kfi_tog/cluster1.cnl /tmp/tmp8kfi_tog/cluster2.cnl > ovpnmioutput\n",
      "INFO:ClusterComparator:Running /opt/gct/submodules/OvpNMI/onmi /tmp/tmp8kfi_tog/cluster1.cnl /tmp/tmp8kfi_tog/cluster2.cnl > ovpnmioutput\n",
      "2020-04-23 01:24:58,534 - ClusterComparator - INFO - resulting 128 nodes out of 128,128\n",
      "INFO:ClusterComparator:resulting 128 nodes out of 128,128\n",
      "/opt/conda/envs/python3/lib/python3.6/site-packages/sklearn/metrics/cluster/supervised.py:859: FutureWarning: The behavior of NMI will change in version 0.22. To match the behavior of 'v_measure_score', NMI will use average_method='arithmetic' by default.\n",
      "  FutureWarning)\n",
      "2020-04-23 01:24:58,543 - ClusterComparator - INFO - Running /opt/gct/submodules/OvpNMI/onmi /tmp/tmp18dyxm2l/cluster1.cnl /tmp/tmp18dyxm2l/cluster2.cnl > ovpnmioutput\n",
      "INFO:ClusterComparator:Running /opt/gct/submodules/OvpNMI/onmi /tmp/tmp18dyxm2l/cluster1.cnl /tmp/tmp18dyxm2l/cluster2.cnl > ovpnmioutput\n",
      "2020-04-23 01:24:58,560 - ClusterComparator - INFO - resulting 128 nodes out of 128,128\n",
      "INFO:ClusterComparator:resulting 128 nodes out of 128,128\n",
      "/opt/conda/envs/python3/lib/python3.6/site-packages/sklearn/metrics/cluster/supervised.py:859: FutureWarning: The behavior of NMI will change in version 0.22. To match the behavior of 'v_measure_score', NMI will use average_method='arithmetic' by default.\n",
      "  FutureWarning)\n",
      "2020-04-23 01:24:58,570 - ClusterComparator - INFO - Running /opt/gct/submodules/OvpNMI/onmi /tmp/tmp86b3ch67/cluster1.cnl /tmp/tmp86b3ch67/cluster2.cnl > ovpnmioutput\n",
      "INFO:ClusterComparator:Running /opt/gct/submodules/OvpNMI/onmi /tmp/tmp86b3ch67/cluster1.cnl /tmp/tmp86b3ch67/cluster2.cnl > ovpnmioutput\n",
      "2020-04-23 01:24:58,581 - Clustering - INFO - reading/data/data/K_DoesAlgSupportDirTest_1/gt_default.parq\n",
      "INFO:Clustering:reading/data/data/K_DoesAlgSupportDirTest_1/gt_default.parq\n",
      "2020-04-23 01:24:58,588 - ClusterComparator - INFO - resulting 127 nodes out of 128,128\n",
      "INFO:ClusterComparator:resulting 127 nodes out of 128,128\n",
      "/opt/conda/envs/python3/lib/python3.6/site-packages/sklearn/metrics/cluster/supervised.py:859: FutureWarning: The behavior of NMI will change in version 0.22. To match the behavior of 'v_measure_score', NMI will use average_method='arithmetic' by default.\n",
      "  FutureWarning)\n",
      "2020-04-23 01:24:58,596 - ClusterComparator - INFO - Running /opt/gct/submodules/OvpNMI/onmi /tmp/tmp8d746r8n/cluster1.cnl /tmp/tmp8d746r8n/cluster2.cnl > ovpnmioutput\n",
      "INFO:ClusterComparator:Running /opt/gct/submodules/OvpNMI/onmi /tmp/tmp8d746r8n/cluster1.cnl /tmp/tmp8d746r8n/cluster2.cnl > ovpnmioutput\n",
      "2020-04-23 01:24:58,607 - ClusterComparator - ERROR - Run command with error status code 134\n",
      "ERROR:ClusterComparator:Run command with error status code 134\n",
      "2020-04-23 01:24:58,610 - ClusterComparator - INFO - resulting 127 nodes out of 128,128\n",
      "INFO:ClusterComparator:resulting 127 nodes out of 128,128\n",
      "/opt/conda/envs/python3/lib/python3.6/site-packages/sklearn/metrics/cluster/supervised.py:859: FutureWarning: The behavior of NMI will change in version 0.22. To match the behavior of 'v_measure_score', NMI will use average_method='arithmetic' by default.\n",
      "  FutureWarning)\n",
      "2020-04-23 01:24:58,618 - ClusterComparator - INFO - Running /opt/gct/submodules/OvpNMI/onmi /tmp/tmpcc4v0jll/cluster1.cnl /tmp/tmpcc4v0jll/cluster2.cnl > ovpnmioutput\n"
     ]
    },
    {
     "name": "stderr",
     "output_type": "stream",
     "text": [
      "INFO:ClusterComparator:Running /opt/gct/submodules/OvpNMI/onmi /tmp/tmpcc4v0jll/cluster1.cnl /tmp/tmpcc4v0jll/cluster2.cnl > ovpnmioutput\n",
      "2020-04-23 01:24:58,630 - ClusterComparator - ERROR - Run command with error status code 134\n",
      "ERROR:ClusterComparator:Run command with error status code 134\n",
      "2020-04-23 01:24:58,639 - ClusterComparator - INFO - resulting 128 nodes out of 128,128\n",
      "INFO:ClusterComparator:resulting 128 nodes out of 128,128\n",
      "/opt/conda/envs/python3/lib/python3.6/site-packages/sklearn/metrics/cluster/supervised.py:859: FutureWarning: The behavior of NMI will change in version 0.22. To match the behavior of 'v_measure_score', NMI will use average_method='arithmetic' by default.\n",
      "  FutureWarning)\n",
      "2020-04-23 01:24:58,648 - ClusterComparator - INFO - Running /opt/gct/submodules/OvpNMI/onmi /tmp/tmppeqpv3vn/cluster1.cnl /tmp/tmppeqpv3vn/cluster2.cnl > ovpnmioutput\n",
      "INFO:ClusterComparator:Running /opt/gct/submodules/OvpNMI/onmi /tmp/tmppeqpv3vn/cluster1.cnl /tmp/tmppeqpv3vn/cluster2.cnl > ovpnmioutput\n",
      "2020-04-23 01:24:58,660 - Clustering - INFO - reading/data/data/K_DoesAlgSupportDirTest_1/gt_default.parq\n",
      "INFO:Clustering:reading/data/data/K_DoesAlgSupportDirTest_1/gt_default.parq\n",
      "2020-04-23 01:24:58,667 - ClusterComparator - INFO - resulting 127 nodes out of 128,128\n",
      "INFO:ClusterComparator:resulting 127 nodes out of 128,128\n",
      "/opt/conda/envs/python3/lib/python3.6/site-packages/sklearn/metrics/cluster/supervised.py:859: FutureWarning: The behavior of NMI will change in version 0.22. To match the behavior of 'v_measure_score', NMI will use average_method='arithmetic' by default.\n",
      "  FutureWarning)\n",
      "2020-04-23 01:24:58,674 - ClusterComparator - INFO - Running /opt/gct/submodules/OvpNMI/onmi /tmp/tmpjkne028e/cluster1.cnl /tmp/tmpjkne028e/cluster2.cnl > ovpnmioutput\n",
      "INFO:ClusterComparator:Running /opt/gct/submodules/OvpNMI/onmi /tmp/tmpjkne028e/cluster1.cnl /tmp/tmpjkne028e/cluster2.cnl > ovpnmioutput\n",
      "2020-04-23 01:24:58,686 - ClusterComparator - ERROR - Run command with error status code 134\n",
      "ERROR:ClusterComparator:Run command with error status code 134\n",
      "2020-04-23 01:24:58,688 - ClusterComparator - INFO - resulting 127 nodes out of 128,128\n",
      "INFO:ClusterComparator:resulting 127 nodes out of 128,128\n",
      "/opt/conda/envs/python3/lib/python3.6/site-packages/sklearn/metrics/cluster/supervised.py:859: FutureWarning: The behavior of NMI will change in version 0.22. To match the behavior of 'v_measure_score', NMI will use average_method='arithmetic' by default.\n",
      "  FutureWarning)\n",
      "2020-04-23 01:24:58,697 - ClusterComparator - INFO - Running /opt/gct/submodules/OvpNMI/onmi /tmp/tmpg9mhy9dt/cluster1.cnl /tmp/tmpg9mhy9dt/cluster2.cnl > ovpnmioutput\n",
      "INFO:ClusterComparator:Running /opt/gct/submodules/OvpNMI/onmi /tmp/tmpg9mhy9dt/cluster1.cnl /tmp/tmpg9mhy9dt/cluster2.cnl > ovpnmioutput\n",
      "2020-04-23 01:24:58,708 - ClusterComparator - ERROR - Run command with error status code 134\n",
      "ERROR:ClusterComparator:Run command with error status code 134\n",
      "2020-04-23 01:24:58,717 - ClusterComparator - INFO - resulting 127 nodes out of 127,128\n",
      "INFO:ClusterComparator:resulting 127 nodes out of 127,128\n",
      "/opt/conda/envs/python3/lib/python3.6/site-packages/sklearn/metrics/cluster/supervised.py:859: FutureWarning: The behavior of NMI will change in version 0.22. To match the behavior of 'v_measure_score', NMI will use average_method='arithmetic' by default.\n",
      "  FutureWarning)\n",
      "2020-04-23 01:24:58,726 - ClusterComparator - INFO - Running /opt/gct/submodules/OvpNMI/onmi /tmp/tmplv5ei9ug/cluster1.cnl /tmp/tmplv5ei9ug/cluster2.cnl > ovpnmioutput\n",
      "INFO:ClusterComparator:Running /opt/gct/submodules/OvpNMI/onmi /tmp/tmplv5ei9ug/cluster1.cnl /tmp/tmplv5ei9ug/cluster2.cnl > ovpnmioutput\n",
      "2020-04-23 01:24:58,738 - Clustering - INFO - reading/data/data/K_DoesAlgSupportDirTest_1/gt_default.parq\n",
      "INFO:Clustering:reading/data/data/K_DoesAlgSupportDirTest_1/gt_default.parq\n",
      "2020-04-23 01:24:58,744 - ClusterComparator - INFO - resulting 126 nodes out of 128,127\n",
      "INFO:ClusterComparator:resulting 126 nodes out of 128,127\n",
      "/opt/conda/envs/python3/lib/python3.6/site-packages/sklearn/metrics/cluster/supervised.py:859: FutureWarning: The behavior of NMI will change in version 0.22. To match the behavior of 'v_measure_score', NMI will use average_method='arithmetic' by default.\n",
      "  FutureWarning)\n",
      "2020-04-23 01:24:58,752 - ClusterComparator - INFO - Running /opt/gct/submodules/OvpNMI/onmi /tmp/tmp7x63a3t8/cluster1.cnl /tmp/tmp7x63a3t8/cluster2.cnl > ovpnmioutput\n",
      "INFO:ClusterComparator:Running /opt/gct/submodules/OvpNMI/onmi /tmp/tmp7x63a3t8/cluster1.cnl /tmp/tmp7x63a3t8/cluster2.cnl > ovpnmioutput\n",
      "2020-04-23 01:24:58,763 - ClusterComparator - ERROR - Run command with error status code 134\n",
      "ERROR:ClusterComparator:Run command with error status code 134\n",
      "2020-04-23 01:24:58,765 - ClusterComparator - INFO - resulting 127 nodes out of 128,128\n",
      "INFO:ClusterComparator:resulting 127 nodes out of 128,128\n",
      "/opt/conda/envs/python3/lib/python3.6/site-packages/sklearn/metrics/cluster/supervised.py:859: FutureWarning: The behavior of NMI will change in version 0.22. To match the behavior of 'v_measure_score', NMI will use average_method='arithmetic' by default.\n",
      "  FutureWarning)\n",
      "2020-04-23 01:24:58,773 - ClusterComparator - INFO - Running /opt/gct/submodules/OvpNMI/onmi /tmp/tmpqvn14f_4/cluster1.cnl /tmp/tmpqvn14f_4/cluster2.cnl > ovpnmioutput\n",
      "INFO:ClusterComparator:Running /opt/gct/submodules/OvpNMI/onmi /tmp/tmpqvn14f_4/cluster1.cnl /tmp/tmpqvn14f_4/cluster2.cnl > ovpnmioutput\n",
      "2020-04-23 01:24:58,783 - ClusterComparator - ERROR - Run command with error status code 134\n",
      "ERROR:ClusterComparator:Run command with error status code 134\n",
      "2020-04-23 01:24:58,869 - ClusterComparator - INFO - resulting 101 nodes out of 127,102\n",
      "INFO:ClusterComparator:resulting 101 nodes out of 127,102\n",
      "/opt/conda/envs/python3/lib/python3.6/site-packages/sklearn/metrics/cluster/supervised.py:859: FutureWarning: The behavior of NMI will change in version 0.22. To match the behavior of 'v_measure_score', NMI will use average_method='arithmetic' by default.\n",
      "  FutureWarning)\n",
      "2020-04-23 01:24:58,878 - ClusterComparator - INFO - Running /opt/gct/submodules/OvpNMI/onmi /tmp/tmpb6ztt874/cluster1.cnl /tmp/tmpb6ztt874/cluster2.cnl > ovpnmioutput\n",
      "INFO:ClusterComparator:Running /opt/gct/submodules/OvpNMI/onmi /tmp/tmpb6ztt874/cluster1.cnl /tmp/tmpb6ztt874/cluster2.cnl > ovpnmioutput\n",
      "2020-04-23 01:24:58,890 - Clustering - INFO - reading/data/data/K_DoesAlgSupportDirTest_1/gt_default.parq\n",
      "INFO:Clustering:reading/data/data/K_DoesAlgSupportDirTest_1/gt_default.parq\n",
      "2020-04-23 01:24:58,897 - ClusterComparator - INFO - resulting 126 nodes out of 128,127\n",
      "INFO:ClusterComparator:resulting 126 nodes out of 128,127\n",
      "/opt/conda/envs/python3/lib/python3.6/site-packages/sklearn/metrics/cluster/supervised.py:859: FutureWarning: The behavior of NMI will change in version 0.22. To match the behavior of 'v_measure_score', NMI will use average_method='arithmetic' by default.\n",
      "  FutureWarning)\n",
      "2020-04-23 01:24:58,904 - ClusterComparator - INFO - Running /opt/gct/submodules/OvpNMI/onmi /tmp/tmpak749v9h/cluster1.cnl /tmp/tmpak749v9h/cluster2.cnl > ovpnmioutput\n",
      "INFO:ClusterComparator:Running /opt/gct/submodules/OvpNMI/onmi /tmp/tmpak749v9h/cluster1.cnl /tmp/tmpak749v9h/cluster2.cnl > ovpnmioutput\n",
      "2020-04-23 01:24:58,916 - ClusterComparator - ERROR - Run command with error status code 134\n",
      "ERROR:ClusterComparator:Run command with error status code 134\n",
      "2020-04-23 01:24:58,996 - ClusterComparator - INFO - resulting 101 nodes out of 128,102\n",
      "INFO:ClusterComparator:resulting 101 nodes out of 128,102\n",
      "/opt/conda/envs/python3/lib/python3.6/site-packages/sklearn/metrics/cluster/supervised.py:859: FutureWarning: The behavior of NMI will change in version 0.22. To match the behavior of 'v_measure_score', NMI will use average_method='arithmetic' by default.\n",
      "  FutureWarning)\n",
      "2020-04-23 01:24:59,004 - ClusterComparator - INFO - Running /opt/gct/submodules/OvpNMI/onmi /tmp/tmpjjk4arx0/cluster1.cnl /tmp/tmpjjk4arx0/cluster2.cnl > ovpnmioutput\n",
      "INFO:ClusterComparator:Running /opt/gct/submodules/OvpNMI/onmi /tmp/tmpjjk4arx0/cluster1.cnl /tmp/tmpjjk4arx0/cluster2.cnl > ovpnmioutput\n",
      "2020-04-23 01:24:59,015 - ClusterComparator - ERROR - Run command with error status code 134\n"
     ]
    },
    {
     "name": "stderr",
     "output_type": "stream",
     "text": [
      "ERROR:ClusterComparator:Run command with error status code 134\n",
      "2020-04-23 01:24:59,023 - ClusterComparator - INFO - resulting 128 nodes out of 128,128\n",
      "INFO:ClusterComparator:resulting 128 nodes out of 128,128\n",
      "/opt/conda/envs/python3/lib/python3.6/site-packages/sklearn/metrics/cluster/supervised.py:859: FutureWarning: The behavior of NMI will change in version 0.22. To match the behavior of 'v_measure_score', NMI will use average_method='arithmetic' by default.\n",
      "  FutureWarning)\n",
      "2020-04-23 01:24:59,032 - ClusterComparator - INFO - Running /opt/gct/submodules/OvpNMI/onmi /tmp/tmp3ftee4tt/cluster1.cnl /tmp/tmp3ftee4tt/cluster2.cnl > ovpnmioutput\n",
      "INFO:ClusterComparator:Running /opt/gct/submodules/OvpNMI/onmi /tmp/tmp3ftee4tt/cluster1.cnl /tmp/tmp3ftee4tt/cluster2.cnl > ovpnmioutput\n",
      "2020-04-23 01:24:59,043 - Clustering - INFO - reading/data/data/K_DoesAlgSupportDirTest_1/gt_default.parq\n",
      "INFO:Clustering:reading/data/data/K_DoesAlgSupportDirTest_1/gt_default.parq\n",
      "2020-04-23 01:24:59,050 - ClusterComparator - INFO - resulting 127 nodes out of 128,128\n",
      "INFO:ClusterComparator:resulting 127 nodes out of 128,128\n",
      "/opt/conda/envs/python3/lib/python3.6/site-packages/sklearn/metrics/cluster/supervised.py:859: FutureWarning: The behavior of NMI will change in version 0.22. To match the behavior of 'v_measure_score', NMI will use average_method='arithmetic' by default.\n",
      "  FutureWarning)\n",
      "2020-04-23 01:24:59,057 - ClusterComparator - INFO - Running /opt/gct/submodules/OvpNMI/onmi /tmp/tmpeaie2snb/cluster1.cnl /tmp/tmpeaie2snb/cluster2.cnl > ovpnmioutput\n",
      "INFO:ClusterComparator:Running /opt/gct/submodules/OvpNMI/onmi /tmp/tmpeaie2snb/cluster1.cnl /tmp/tmpeaie2snb/cluster2.cnl > ovpnmioutput\n",
      "2020-04-23 01:24:59,067 - ClusterComparator - ERROR - Run command with error status code 134\n",
      "ERROR:ClusterComparator:Run command with error status code 134\n",
      "2020-04-23 01:24:59,069 - ClusterComparator - INFO - resulting 127 nodes out of 128,128\n",
      "INFO:ClusterComparator:resulting 127 nodes out of 128,128\n",
      "/opt/conda/envs/python3/lib/python3.6/site-packages/sklearn/metrics/cluster/supervised.py:859: FutureWarning: The behavior of NMI will change in version 0.22. To match the behavior of 'v_measure_score', NMI will use average_method='arithmetic' by default.\n",
      "  FutureWarning)\n",
      "2020-04-23 01:24:59,078 - ClusterComparator - INFO - Running /opt/gct/submodules/OvpNMI/onmi /tmp/tmp9sb3ro2a/cluster1.cnl /tmp/tmp9sb3ro2a/cluster2.cnl > ovpnmioutput\n",
      "INFO:ClusterComparator:Running /opt/gct/submodules/OvpNMI/onmi /tmp/tmp9sb3ro2a/cluster1.cnl /tmp/tmp9sb3ro2a/cluster2.cnl > ovpnmioutput\n",
      "2020-04-23 01:24:59,088 - ClusterComparator - ERROR - Run command with error status code 134\n",
      "ERROR:ClusterComparator:Run command with error status code 134\n",
      "2020-04-23 01:24:59,096 - ClusterComparator - INFO - resulting 128 nodes out of 128,128\n",
      "INFO:ClusterComparator:resulting 128 nodes out of 128,128\n",
      "/opt/conda/envs/python3/lib/python3.6/site-packages/sklearn/metrics/cluster/supervised.py:859: FutureWarning: The behavior of NMI will change in version 0.22. To match the behavior of 'v_measure_score', NMI will use average_method='arithmetic' by default.\n",
      "  FutureWarning)\n",
      "2020-04-23 01:24:59,105 - ClusterComparator - INFO - Running /opt/gct/submodules/OvpNMI/onmi /tmp/tmputdji6ui/cluster1.cnl /tmp/tmputdji6ui/cluster2.cnl > ovpnmioutput\n",
      "INFO:ClusterComparator:Running /opt/gct/submodules/OvpNMI/onmi /tmp/tmputdji6ui/cluster1.cnl /tmp/tmputdji6ui/cluster2.cnl > ovpnmioutput\n",
      "2020-04-23 01:24:59,116 - Clustering - INFO - reading/data/data/K_DoesAlgSupportDirTest_1/gt_default.parq\n",
      "INFO:Clustering:reading/data/data/K_DoesAlgSupportDirTest_1/gt_default.parq\n",
      "2020-04-23 01:24:59,122 - ClusterComparator - INFO - resulting 127 nodes out of 128,128\n",
      "INFO:ClusterComparator:resulting 127 nodes out of 128,128\n",
      "/opt/conda/envs/python3/lib/python3.6/site-packages/sklearn/metrics/cluster/supervised.py:859: FutureWarning: The behavior of NMI will change in version 0.22. To match the behavior of 'v_measure_score', NMI will use average_method='arithmetic' by default.\n",
      "  FutureWarning)\n",
      "2020-04-23 01:24:59,129 - ClusterComparator - INFO - Running /opt/gct/submodules/OvpNMI/onmi /tmp/tmp9dxr_39t/cluster1.cnl /tmp/tmp9dxr_39t/cluster2.cnl > ovpnmioutput\n",
      "INFO:ClusterComparator:Running /opt/gct/submodules/OvpNMI/onmi /tmp/tmp9dxr_39t/cluster1.cnl /tmp/tmp9dxr_39t/cluster2.cnl > ovpnmioutput\n",
      "2020-04-23 01:24:59,139 - ClusterComparator - ERROR - Run command with error status code 134\n",
      "ERROR:ClusterComparator:Run command with error status code 134\n",
      "2020-04-23 01:24:59,141 - ClusterComparator - INFO - resulting 127 nodes out of 128,128\n",
      "INFO:ClusterComparator:resulting 127 nodes out of 128,128\n",
      "/opt/conda/envs/python3/lib/python3.6/site-packages/sklearn/metrics/cluster/supervised.py:859: FutureWarning: The behavior of NMI will change in version 0.22. To match the behavior of 'v_measure_score', NMI will use average_method='arithmetic' by default.\n",
      "  FutureWarning)\n",
      "2020-04-23 01:24:59,149 - ClusterComparator - INFO - Running /opt/gct/submodules/OvpNMI/onmi /tmp/tmpt0ef0a3j/cluster1.cnl /tmp/tmpt0ef0a3j/cluster2.cnl > ovpnmioutput\n",
      "INFO:ClusterComparator:Running /opt/gct/submodules/OvpNMI/onmi /tmp/tmpt0ef0a3j/cluster1.cnl /tmp/tmpt0ef0a3j/cluster2.cnl > ovpnmioutput\n",
      "2020-04-23 01:24:59,159 - ClusterComparator - ERROR - Run command with error status code 134\n",
      "ERROR:ClusterComparator:Run command with error status code 134\n",
      "2020-04-23 01:24:59,168 - ClusterComparator - INFO - resulting 128 nodes out of 128,128\n",
      "INFO:ClusterComparator:resulting 128 nodes out of 128,128\n",
      "/opt/conda/envs/python3/lib/python3.6/site-packages/sklearn/metrics/cluster/supervised.py:859: FutureWarning: The behavior of NMI will change in version 0.22. To match the behavior of 'v_measure_score', NMI will use average_method='arithmetic' by default.\n",
      "  FutureWarning)\n",
      "2020-04-23 01:24:59,176 - ClusterComparator - INFO - Running /opt/gct/submodules/OvpNMI/onmi /tmp/tmppka2frnu/cluster1.cnl /tmp/tmppka2frnu/cluster2.cnl > ovpnmioutput\n",
      "INFO:ClusterComparator:Running /opt/gct/submodules/OvpNMI/onmi /tmp/tmppka2frnu/cluster1.cnl /tmp/tmppka2frnu/cluster2.cnl > ovpnmioutput\n",
      "2020-04-23 01:24:59,187 - Clustering - INFO - reading/data/data/K_DoesAlgSupportDirTest_1/gt_default.parq\n",
      "INFO:Clustering:reading/data/data/K_DoesAlgSupportDirTest_1/gt_default.parq\n",
      "2020-04-23 01:24:59,193 - ClusterComparator - INFO - resulting 127 nodes out of 128,128\n",
      "INFO:ClusterComparator:resulting 127 nodes out of 128,128\n",
      "/opt/conda/envs/python3/lib/python3.6/site-packages/sklearn/metrics/cluster/supervised.py:859: FutureWarning: The behavior of NMI will change in version 0.22. To match the behavior of 'v_measure_score', NMI will use average_method='arithmetic' by default.\n",
      "  FutureWarning)\n",
      "2020-04-23 01:24:59,201 - ClusterComparator - INFO - Running /opt/gct/submodules/OvpNMI/onmi /tmp/tmpmr8j0ewf/cluster1.cnl /tmp/tmpmr8j0ewf/cluster2.cnl > ovpnmioutput\n",
      "INFO:ClusterComparator:Running /opt/gct/submodules/OvpNMI/onmi /tmp/tmpmr8j0ewf/cluster1.cnl /tmp/tmpmr8j0ewf/cluster2.cnl > ovpnmioutput\n",
      "2020-04-23 01:24:59,211 - ClusterComparator - ERROR - Run command with error status code 134\n",
      "ERROR:ClusterComparator:Run command with error status code 134\n",
      "2020-04-23 01:24:59,213 - ClusterComparator - INFO - resulting 127 nodes out of 128,128\n",
      "INFO:ClusterComparator:resulting 127 nodes out of 128,128\n",
      "/opt/conda/envs/python3/lib/python3.6/site-packages/sklearn/metrics/cluster/supervised.py:859: FutureWarning: The behavior of NMI will change in version 0.22. To match the behavior of 'v_measure_score', NMI will use average_method='arithmetic' by default.\n",
      "  FutureWarning)\n",
      "2020-04-23 01:24:59,221 - ClusterComparator - INFO - Running /opt/gct/submodules/OvpNMI/onmi /tmp/tmptg1k1h4s/cluster1.cnl /tmp/tmptg1k1h4s/cluster2.cnl > ovpnmioutput\n",
      "INFO:ClusterComparator:Running /opt/gct/submodules/OvpNMI/onmi /tmp/tmptg1k1h4s/cluster1.cnl /tmp/tmptg1k1h4s/cluster2.cnl > ovpnmioutput\n",
      "2020-04-23 01:24:59,231 - ClusterComparator - ERROR - Run command with error status code 134\n",
      "ERROR:ClusterComparator:Run command with error status code 134\n",
      "2020-04-23 01:24:59,239 - ClusterComparator - INFO - resulting 128 nodes out of 128,128\n",
      "INFO:ClusterComparator:resulting 128 nodes out of 128,128\n"
     ]
    },
    {
     "name": "stderr",
     "output_type": "stream",
     "text": [
      "/opt/conda/envs/python3/lib/python3.6/site-packages/sklearn/metrics/cluster/supervised.py:859: FutureWarning: The behavior of NMI will change in version 0.22. To match the behavior of 'v_measure_score', NMI will use average_method='arithmetic' by default.\n",
      "  FutureWarning)\n",
      "2020-04-23 01:24:59,249 - ClusterComparator - INFO - Running /opt/gct/submodules/OvpNMI/onmi /tmp/tmphsj9sfv0/cluster1.cnl /tmp/tmphsj9sfv0/cluster2.cnl > ovpnmioutput\n",
      "INFO:ClusterComparator:Running /opt/gct/submodules/OvpNMI/onmi /tmp/tmphsj9sfv0/cluster1.cnl /tmp/tmphsj9sfv0/cluster2.cnl > ovpnmioutput\n",
      "2020-04-23 01:24:59,259 - Clustering - INFO - reading/data/data/K_DoesAlgSupportDirTest_1/gt_default.parq\n",
      "INFO:Clustering:reading/data/data/K_DoesAlgSupportDirTest_1/gt_default.parq\n",
      "2020-04-23 01:24:59,266 - ClusterComparator - INFO - resulting 127 nodes out of 128,128\n",
      "INFO:ClusterComparator:resulting 127 nodes out of 128,128\n",
      "/opt/conda/envs/python3/lib/python3.6/site-packages/sklearn/metrics/cluster/supervised.py:859: FutureWarning: The behavior of NMI will change in version 0.22. To match the behavior of 'v_measure_score', NMI will use average_method='arithmetic' by default.\n",
      "  FutureWarning)\n",
      "2020-04-23 01:24:59,273 - ClusterComparator - INFO - Running /opt/gct/submodules/OvpNMI/onmi /tmp/tmpab96_rs9/cluster1.cnl /tmp/tmpab96_rs9/cluster2.cnl > ovpnmioutput\n",
      "INFO:ClusterComparator:Running /opt/gct/submodules/OvpNMI/onmi /tmp/tmpab96_rs9/cluster1.cnl /tmp/tmpab96_rs9/cluster2.cnl > ovpnmioutput\n",
      "2020-04-23 01:24:59,284 - ClusterComparator - ERROR - Run command with error status code 134\n",
      "ERROR:ClusterComparator:Run command with error status code 134\n",
      "2020-04-23 01:24:59,286 - ClusterComparator - INFO - resulting 127 nodes out of 128,128\n",
      "INFO:ClusterComparator:resulting 127 nodes out of 128,128\n",
      "/opt/conda/envs/python3/lib/python3.6/site-packages/sklearn/metrics/cluster/supervised.py:859: FutureWarning: The behavior of NMI will change in version 0.22. To match the behavior of 'v_measure_score', NMI will use average_method='arithmetic' by default.\n",
      "  FutureWarning)\n",
      "2020-04-23 01:24:59,294 - ClusterComparator - INFO - Running /opt/gct/submodules/OvpNMI/onmi /tmp/tmpb_8enejl/cluster1.cnl /tmp/tmpb_8enejl/cluster2.cnl > ovpnmioutput\n",
      "INFO:ClusterComparator:Running /opt/gct/submodules/OvpNMI/onmi /tmp/tmpb_8enejl/cluster1.cnl /tmp/tmpb_8enejl/cluster2.cnl > ovpnmioutput\n",
      "2020-04-23 01:24:59,304 - ClusterComparator - ERROR - Run command with error status code 134\n",
      "ERROR:ClusterComparator:Run command with error status code 134\n",
      "2020-04-23 01:24:59,312 - ClusterComparator - INFO - resulting 128 nodes out of 128,128\n",
      "INFO:ClusterComparator:resulting 128 nodes out of 128,128\n",
      "/opt/conda/envs/python3/lib/python3.6/site-packages/sklearn/metrics/cluster/supervised.py:859: FutureWarning: The behavior of NMI will change in version 0.22. To match the behavior of 'v_measure_score', NMI will use average_method='arithmetic' by default.\n",
      "  FutureWarning)\n",
      "2020-04-23 01:24:59,317 - Clustering - INFO - reading/data/data/K_DoesAlgSupportDirTest_1/gt_default.parq\n",
      "INFO:Clustering:reading/data/data/K_DoesAlgSupportDirTest_1/gt_default.parq\n",
      "2020-04-23 01:24:59,321 - ClusterComparator - INFO - resulting 128 nodes out of 128,128\n",
      "INFO:ClusterComparator:resulting 128 nodes out of 128,128\n",
      "2020-04-23 01:24:59,327 - ClusterComparator - INFO - resulting 128 nodes out of 128,128\n",
      "INFO:ClusterComparator:resulting 128 nodes out of 128,128\n",
      "/opt/conda/envs/python3/lib/python3.6/site-packages/sklearn/metrics/cluster/supervised.py:859: FutureWarning: The behavior of NMI will change in version 0.22. To match the behavior of 'v_measure_score', NMI will use average_method='arithmetic' by default.\n",
      "  FutureWarning)\n",
      "2020-04-23 01:24:59,545 - ClusterComparator - INFO - resulting 127 nodes out of 128,127\n",
      "INFO:ClusterComparator:resulting 127 nodes out of 128,127\n",
      "/opt/conda/envs/python3/lib/python3.6/site-packages/sklearn/metrics/cluster/supervised.py:859: FutureWarning: The behavior of NMI will change in version 0.22. To match the behavior of 'v_measure_score', NMI will use average_method='arithmetic' by default.\n",
      "  FutureWarning)\n",
      "2020-04-23 01:24:59,554 - ClusterComparator - INFO - Running /opt/gct/submodules/OvpNMI/onmi /tmp/tmp2idnn97u/cluster1.cnl /tmp/tmp2idnn97u/cluster2.cnl > ovpnmioutput\n",
      "INFO:ClusterComparator:Running /opt/gct/submodules/OvpNMI/onmi /tmp/tmp2idnn97u/cluster1.cnl /tmp/tmp2idnn97u/cluster2.cnl > ovpnmioutput\n",
      "2020-04-23 01:24:59,566 - Clustering - INFO - reading/data/data/K_DoesAlgSupportDirTest_1/gt_default.parq\n",
      "INFO:Clustering:reading/data/data/K_DoesAlgSupportDirTest_1/gt_default.parq\n",
      "2020-04-23 01:24:59,673 - ClusterComparator - INFO - resulting 128 nodes out of 128,128\n",
      "INFO:ClusterComparator:resulting 128 nodes out of 128,128\n",
      "/opt/conda/envs/python3/lib/python3.6/site-packages/sklearn/metrics/cluster/supervised.py:859: FutureWarning: The behavior of NMI will change in version 0.22. To match the behavior of 'v_measure_score', NMI will use average_method='arithmetic' by default.\n",
      "  FutureWarning)\n",
      "2020-04-23 01:24:59,681 - ClusterComparator - INFO - Running /opt/gct/submodules/OvpNMI/onmi /tmp/tmp06v3mdie/cluster1.cnl /tmp/tmp06v3mdie/cluster2.cnl > ovpnmioutput\n",
      "INFO:ClusterComparator:Running /opt/gct/submodules/OvpNMI/onmi /tmp/tmp06v3mdie/cluster1.cnl /tmp/tmp06v3mdie/cluster2.cnl > ovpnmioutput\n",
      "2020-04-23 01:24:59,797 - ClusterComparator - INFO - resulting 127 nodes out of 128,127\n",
      "INFO:ClusterComparator:resulting 127 nodes out of 128,127\n",
      "/opt/conda/envs/python3/lib/python3.6/site-packages/sklearn/metrics/cluster/supervised.py:859: FutureWarning: The behavior of NMI will change in version 0.22. To match the behavior of 'v_measure_score', NMI will use average_method='arithmetic' by default.\n",
      "  FutureWarning)\n",
      "2020-04-23 01:24:59,805 - ClusterComparator - INFO - Running /opt/gct/submodules/OvpNMI/onmi /tmp/tmpf0_nqenk/cluster1.cnl /tmp/tmpf0_nqenk/cluster2.cnl > ovpnmioutput\n",
      "INFO:ClusterComparator:Running /opt/gct/submodules/OvpNMI/onmi /tmp/tmpf0_nqenk/cluster1.cnl /tmp/tmpf0_nqenk/cluster2.cnl > ovpnmioutput\n",
      "2020-04-23 01:24:59,941 - ClusterComparator - INFO - resulting 37 nodes out of 64,75\n",
      "INFO:ClusterComparator:resulting 37 nodes out of 64,75\n",
      "/opt/conda/envs/python3/lib/python3.6/site-packages/sklearn/metrics/cluster/supervised.py:859: FutureWarning: The behavior of NMI will change in version 0.22. To match the behavior of 'v_measure_score', NMI will use average_method='arithmetic' by default.\n",
      "  FutureWarning)\n",
      "2020-04-23 01:24:59,951 - ClusterComparator - INFO - Running /opt/gct/submodules/OvpNMI/onmi /tmp/tmp0q1ecow4/cluster1.cnl /tmp/tmp0q1ecow4/cluster2.cnl > ovpnmioutput\n",
      "INFO:ClusterComparator:Running /opt/gct/submodules/OvpNMI/onmi /tmp/tmp0q1ecow4/cluster1.cnl /tmp/tmp0q1ecow4/cluster2.cnl > ovpnmioutput\n",
      "2020-04-23 01:24:59,963 - Clustering - INFO - reading/data/data/K_DoesAlgSupportDirTest_1/gt_default.parq\n",
      "INFO:Clustering:reading/data/data/K_DoesAlgSupportDirTest_1/gt_default.parq\n",
      "2020-04-23 01:25:00,026 - ClusterComparator - INFO - resulting 64 nodes out of 128,64\n",
      "INFO:ClusterComparator:resulting 64 nodes out of 128,64\n",
      "/opt/conda/envs/python3/lib/python3.6/site-packages/sklearn/metrics/cluster/supervised.py:859: FutureWarning: The behavior of NMI will change in version 0.22. To match the behavior of 'v_measure_score', NMI will use average_method='arithmetic' by default.\n",
      "  FutureWarning)\n",
      "2020-04-23 01:25:00,034 - ClusterComparator - INFO - Running /opt/gct/submodules/OvpNMI/onmi /tmp/tmplzk6a5uo/cluster1.cnl /tmp/tmplzk6a5uo/cluster2.cnl > ovpnmioutput\n",
      "INFO:ClusterComparator:Running /opt/gct/submodules/OvpNMI/onmi /tmp/tmplzk6a5uo/cluster1.cnl /tmp/tmplzk6a5uo/cluster2.cnl > ovpnmioutput\n",
      "2020-04-23 01:25:00,111 - ClusterComparator - INFO - resulting 75 nodes out of 128,75\n",
      "INFO:ClusterComparator:resulting 75 nodes out of 128,75\n",
      "/opt/conda/envs/python3/lib/python3.6/site-packages/sklearn/metrics/cluster/supervised.py:859: FutureWarning: The behavior of NMI will change in version 0.22. To match the behavior of 'v_measure_score', NMI will use average_method='arithmetic' by default.\n",
      "  FutureWarning)\n",
      "2020-04-23 01:25:00,120 - ClusterComparator - INFO - Running /opt/gct/submodules/OvpNMI/onmi /tmp/tmprdrnmyo1/cluster1.cnl /tmp/tmprdrnmyo1/cluster2.cnl > ovpnmioutput\n"
     ]
    },
    {
     "name": "stderr",
     "output_type": "stream",
     "text": [
      "INFO:ClusterComparator:Running /opt/gct/submodules/OvpNMI/onmi /tmp/tmprdrnmyo1/cluster1.cnl /tmp/tmprdrnmyo1/cluster2.cnl > ovpnmioutput\n",
      "2020-04-23 01:25:00,139 - ClusterComparator - INFO - resulting 128 nodes out of 128,128\n",
      "INFO:ClusterComparator:resulting 128 nodes out of 128,128\n",
      "/opt/conda/envs/python3/lib/python3.6/site-packages/sklearn/metrics/cluster/supervised.py:859: FutureWarning: The behavior of NMI will change in version 0.22. To match the behavior of 'v_measure_score', NMI will use average_method='arithmetic' by default.\n",
      "  FutureWarning)\n",
      "2020-04-23 01:25:00,150 - ClusterComparator - INFO - Running /opt/gct/submodules/OvpNMI/onmi /tmp/tmppoqftk99/cluster1.cnl /tmp/tmppoqftk99/cluster2.cnl > ovpnmioutput\n",
      "INFO:ClusterComparator:Running /opt/gct/submodules/OvpNMI/onmi /tmp/tmppoqftk99/cluster1.cnl /tmp/tmppoqftk99/cluster2.cnl > ovpnmioutput\n",
      "2020-04-23 01:25:00,161 - Clustering - INFO - reading/data/data/K_DoesAlgSupportDirTest_1/gt_default.parq\n",
      "INFO:Clustering:reading/data/data/K_DoesAlgSupportDirTest_1/gt_default.parq\n",
      "2020-04-23 01:25:00,168 - ClusterComparator - INFO - resulting 128 nodes out of 128,128\n",
      "INFO:ClusterComparator:resulting 128 nodes out of 128,128\n",
      "/opt/conda/envs/python3/lib/python3.6/site-packages/sklearn/metrics/cluster/supervised.py:859: FutureWarning: The behavior of NMI will change in version 0.22. To match the behavior of 'v_measure_score', NMI will use average_method='arithmetic' by default.\n",
      "  FutureWarning)\n",
      "2020-04-23 01:25:00,176 - ClusterComparator - INFO - Running /opt/gct/submodules/OvpNMI/onmi /tmp/tmpt8fcdsny/cluster1.cnl /tmp/tmpt8fcdsny/cluster2.cnl > ovpnmioutput\n",
      "INFO:ClusterComparator:Running /opt/gct/submodules/OvpNMI/onmi /tmp/tmpt8fcdsny/cluster1.cnl /tmp/tmpt8fcdsny/cluster2.cnl > ovpnmioutput\n",
      "2020-04-23 01:25:00,186 - ClusterComparator - INFO - resulting 128 nodes out of 128,128\n",
      "INFO:ClusterComparator:resulting 128 nodes out of 128,128\n",
      "/opt/conda/envs/python3/lib/python3.6/site-packages/sklearn/metrics/cluster/supervised.py:859: FutureWarning: The behavior of NMI will change in version 0.22. To match the behavior of 'v_measure_score', NMI will use average_method='arithmetic' by default.\n",
      "  FutureWarning)\n",
      "2020-04-23 01:25:00,196 - ClusterComparator - INFO - Running /opt/gct/submodules/OvpNMI/onmi /tmp/tmp4_6dcdvp/cluster1.cnl /tmp/tmp4_6dcdvp/cluster2.cnl > ovpnmioutput\n",
      "INFO:ClusterComparator:Running /opt/gct/submodules/OvpNMI/onmi /tmp/tmp4_6dcdvp/cluster1.cnl /tmp/tmp4_6dcdvp/cluster2.cnl > ovpnmioutput\n",
      "2020-04-23 01:25:00,214 - ClusterComparator - INFO - resulting 128 nodes out of 128,128\n",
      "INFO:ClusterComparator:resulting 128 nodes out of 128,128\n",
      "/opt/conda/envs/python3/lib/python3.6/site-packages/sklearn/metrics/cluster/supervised.py:859: FutureWarning: The behavior of NMI will change in version 0.22. To match the behavior of 'v_measure_score', NMI will use average_method='arithmetic' by default.\n",
      "  FutureWarning)\n",
      "2020-04-23 01:25:00,223 - ClusterComparator - INFO - Running /opt/gct/submodules/OvpNMI/onmi /tmp/tmpsah1l7pt/cluster1.cnl /tmp/tmpsah1l7pt/cluster2.cnl > ovpnmioutput\n",
      "INFO:ClusterComparator:Running /opt/gct/submodules/OvpNMI/onmi /tmp/tmpsah1l7pt/cluster1.cnl /tmp/tmpsah1l7pt/cluster2.cnl > ovpnmioutput\n",
      "2020-04-23 01:25:00,234 - Clustering - INFO - reading/data/data/K_DoesAlgSupportDirTest_1/gt_default.parq\n",
      "INFO:Clustering:reading/data/data/K_DoesAlgSupportDirTest_1/gt_default.parq\n",
      "2020-04-23 01:25:00,240 - ClusterComparator - INFO - resulting 128 nodes out of 128,128\n",
      "INFO:ClusterComparator:resulting 128 nodes out of 128,128\n",
      "/opt/conda/envs/python3/lib/python3.6/site-packages/sklearn/metrics/cluster/supervised.py:859: FutureWarning: The behavior of NMI will change in version 0.22. To match the behavior of 'v_measure_score', NMI will use average_method='arithmetic' by default.\n",
      "  FutureWarning)\n",
      "2020-04-23 01:25:00,248 - ClusterComparator - INFO - Running /opt/gct/submodules/OvpNMI/onmi /tmp/tmpmtgaod5y/cluster1.cnl /tmp/tmpmtgaod5y/cluster2.cnl > ovpnmioutput\n",
      "INFO:ClusterComparator:Running /opt/gct/submodules/OvpNMI/onmi /tmp/tmpmtgaod5y/cluster1.cnl /tmp/tmpmtgaod5y/cluster2.cnl > ovpnmioutput\n",
      "2020-04-23 01:25:00,259 - ClusterComparator - INFO - resulting 128 nodes out of 128,128\n",
      "INFO:ClusterComparator:resulting 128 nodes out of 128,128\n",
      "/opt/conda/envs/python3/lib/python3.6/site-packages/sklearn/metrics/cluster/supervised.py:859: FutureWarning: The behavior of NMI will change in version 0.22. To match the behavior of 'v_measure_score', NMI will use average_method='arithmetic' by default.\n",
      "  FutureWarning)\n",
      "2020-04-23 01:25:00,268 - ClusterComparator - INFO - Running /opt/gct/submodules/OvpNMI/onmi /tmp/tmp04xzt3bq/cluster1.cnl /tmp/tmp04xzt3bq/cluster2.cnl > ovpnmioutput\n",
      "INFO:ClusterComparator:Running /opt/gct/submodules/OvpNMI/onmi /tmp/tmp04xzt3bq/cluster1.cnl /tmp/tmp04xzt3bq/cluster2.cnl > ovpnmioutput\n",
      "2020-04-23 01:25:00,286 - ClusterComparator - INFO - resulting 128 nodes out of 128,128\n",
      "INFO:ClusterComparator:resulting 128 nodes out of 128,128\n",
      "/opt/conda/envs/python3/lib/python3.6/site-packages/sklearn/metrics/cluster/supervised.py:859: FutureWarning: The behavior of NMI will change in version 0.22. To match the behavior of 'v_measure_score', NMI will use average_method='arithmetic' by default.\n",
      "  FutureWarning)\n",
      "2020-04-23 01:25:00,296 - ClusterComparator - INFO - Running /opt/gct/submodules/OvpNMI/onmi /tmp/tmpi05yil3q/cluster1.cnl /tmp/tmpi05yil3q/cluster2.cnl > ovpnmioutput\n",
      "INFO:ClusterComparator:Running /opt/gct/submodules/OvpNMI/onmi /tmp/tmpi05yil3q/cluster1.cnl /tmp/tmpi05yil3q/cluster2.cnl > ovpnmioutput\n",
      "2020-04-23 01:25:00,308 - Clustering - INFO - reading/data/data/K_DoesAlgSupportDirTest_1/gt_default.parq\n",
      "INFO:Clustering:reading/data/data/K_DoesAlgSupportDirTest_1/gt_default.parq\n",
      "2020-04-23 01:25:00,314 - ClusterComparator - INFO - resulting 128 nodes out of 128,128\n",
      "INFO:ClusterComparator:resulting 128 nodes out of 128,128\n",
      "/opt/conda/envs/python3/lib/python3.6/site-packages/sklearn/metrics/cluster/supervised.py:859: FutureWarning: The behavior of NMI will change in version 0.22. To match the behavior of 'v_measure_score', NMI will use average_method='arithmetic' by default.\n",
      "  FutureWarning)\n",
      "2020-04-23 01:25:00,323 - ClusterComparator - INFO - Running /opt/gct/submodules/OvpNMI/onmi /tmp/tmp08vvzo6o/cluster1.cnl /tmp/tmp08vvzo6o/cluster2.cnl > ovpnmioutput\n",
      "INFO:ClusterComparator:Running /opt/gct/submodules/OvpNMI/onmi /tmp/tmp08vvzo6o/cluster1.cnl /tmp/tmp08vvzo6o/cluster2.cnl > ovpnmioutput\n",
      "2020-04-23 01:25:00,334 - ClusterComparator - INFO - resulting 128 nodes out of 128,128\n",
      "INFO:ClusterComparator:resulting 128 nodes out of 128,128\n",
      "/opt/conda/envs/python3/lib/python3.6/site-packages/sklearn/metrics/cluster/supervised.py:859: FutureWarning: The behavior of NMI will change in version 0.22. To match the behavior of 'v_measure_score', NMI will use average_method='arithmetic' by default.\n",
      "  FutureWarning)\n",
      "2020-04-23 01:25:00,344 - ClusterComparator - INFO - Running /opt/gct/submodules/OvpNMI/onmi /tmp/tmpte_x8hhg/cluster1.cnl /tmp/tmpte_x8hhg/cluster2.cnl > ovpnmioutput\n",
      "INFO:ClusterComparator:Running /opt/gct/submodules/OvpNMI/onmi /tmp/tmpte_x8hhg/cluster1.cnl /tmp/tmpte_x8hhg/cluster2.cnl > ovpnmioutput\n",
      "2020-04-23 01:25:00,362 - ClusterComparator - INFO - resulting 128 nodes out of 128,128\n",
      "INFO:ClusterComparator:resulting 128 nodes out of 128,128\n",
      "/opt/conda/envs/python3/lib/python3.6/site-packages/sklearn/metrics/cluster/supervised.py:859: FutureWarning: The behavior of NMI will change in version 0.22. To match the behavior of 'v_measure_score', NMI will use average_method='arithmetic' by default.\n",
      "  FutureWarning)\n",
      "2020-04-23 01:25:00,372 - ClusterComparator - INFO - Running /opt/gct/submodules/OvpNMI/onmi /tmp/tmpztk4si5m/cluster1.cnl /tmp/tmpztk4si5m/cluster2.cnl > ovpnmioutput\n",
      "INFO:ClusterComparator:Running /opt/gct/submodules/OvpNMI/onmi /tmp/tmpztk4si5m/cluster1.cnl /tmp/tmpztk4si5m/cluster2.cnl > ovpnmioutput\n",
      "2020-04-23 01:25:00,383 - Clustering - INFO - reading/data/data/K_DoesAlgSupportDirTest_1/gt_default.parq\n",
      "INFO:Clustering:reading/data/data/K_DoesAlgSupportDirTest_1/gt_default.parq\n",
      "2020-04-23 01:25:00,390 - ClusterComparator - INFO - resulting 128 nodes out of 128,128\n"
     ]
    },
    {
     "name": "stderr",
     "output_type": "stream",
     "text": [
      "INFO:ClusterComparator:resulting 128 nodes out of 128,128\n",
      "/opt/conda/envs/python3/lib/python3.6/site-packages/sklearn/metrics/cluster/supervised.py:859: FutureWarning: The behavior of NMI will change in version 0.22. To match the behavior of 'v_measure_score', NMI will use average_method='arithmetic' by default.\n",
      "  FutureWarning)\n",
      "2020-04-23 01:25:00,398 - ClusterComparator - INFO - Running /opt/gct/submodules/OvpNMI/onmi /tmp/tmp98f52s5t/cluster1.cnl /tmp/tmp98f52s5t/cluster2.cnl > ovpnmioutput\n",
      "INFO:ClusterComparator:Running /opt/gct/submodules/OvpNMI/onmi /tmp/tmp98f52s5t/cluster1.cnl /tmp/tmp98f52s5t/cluster2.cnl > ovpnmioutput\n",
      "2020-04-23 01:25:00,409 - ClusterComparator - INFO - resulting 128 nodes out of 128,128\n",
      "INFO:ClusterComparator:resulting 128 nodes out of 128,128\n",
      "/opt/conda/envs/python3/lib/python3.6/site-packages/sklearn/metrics/cluster/supervised.py:859: FutureWarning: The behavior of NMI will change in version 0.22. To match the behavior of 'v_measure_score', NMI will use average_method='arithmetic' by default.\n",
      "  FutureWarning)\n",
      "2020-04-23 01:25:00,419 - ClusterComparator - INFO - Running /opt/gct/submodules/OvpNMI/onmi /tmp/tmp58xaza6b/cluster1.cnl /tmp/tmp58xaza6b/cluster2.cnl > ovpnmioutput\n",
      "INFO:ClusterComparator:Running /opt/gct/submodules/OvpNMI/onmi /tmp/tmp58xaza6b/cluster1.cnl /tmp/tmp58xaza6b/cluster2.cnl > ovpnmioutput\n",
      "2020-04-23 01:25:00,437 - ClusterComparator - INFO - resulting 128 nodes out of 128,128\n",
      "INFO:ClusterComparator:resulting 128 nodes out of 128,128\n",
      "/opt/conda/envs/python3/lib/python3.6/site-packages/sklearn/metrics/cluster/supervised.py:859: FutureWarning: The behavior of NMI will change in version 0.22. To match the behavior of 'v_measure_score', NMI will use average_method='arithmetic' by default.\n",
      "  FutureWarning)\n",
      "2020-04-23 01:25:00,447 - ClusterComparator - INFO - Running /opt/gct/submodules/OvpNMI/onmi /tmp/tmpbg7h2oqk/cluster1.cnl /tmp/tmpbg7h2oqk/cluster2.cnl > ovpnmioutput\n",
      "INFO:ClusterComparator:Running /opt/gct/submodules/OvpNMI/onmi /tmp/tmpbg7h2oqk/cluster1.cnl /tmp/tmpbg7h2oqk/cluster2.cnl > ovpnmioutput\n",
      "2020-04-23 01:25:00,458 - Clustering - INFO - reading/data/data/K_DoesAlgSupportDirTest_1/gt_default.parq\n",
      "INFO:Clustering:reading/data/data/K_DoesAlgSupportDirTest_1/gt_default.parq\n",
      "2020-04-23 01:25:00,464 - ClusterComparator - INFO - resulting 128 nodes out of 128,128\n",
      "INFO:ClusterComparator:resulting 128 nodes out of 128,128\n",
      "/opt/conda/envs/python3/lib/python3.6/site-packages/sklearn/metrics/cluster/supervised.py:859: FutureWarning: The behavior of NMI will change in version 0.22. To match the behavior of 'v_measure_score', NMI will use average_method='arithmetic' by default.\n",
      "  FutureWarning)\n",
      "2020-04-23 01:25:00,473 - ClusterComparator - INFO - Running /opt/gct/submodules/OvpNMI/onmi /tmp/tmpufzjcqvi/cluster1.cnl /tmp/tmpufzjcqvi/cluster2.cnl > ovpnmioutput\n",
      "INFO:ClusterComparator:Running /opt/gct/submodules/OvpNMI/onmi /tmp/tmpufzjcqvi/cluster1.cnl /tmp/tmpufzjcqvi/cluster2.cnl > ovpnmioutput\n",
      "2020-04-23 01:25:00,484 - ClusterComparator - INFO - resulting 128 nodes out of 128,128\n",
      "INFO:ClusterComparator:resulting 128 nodes out of 128,128\n",
      "/opt/conda/envs/python3/lib/python3.6/site-packages/sklearn/metrics/cluster/supervised.py:859: FutureWarning: The behavior of NMI will change in version 0.22. To match the behavior of 'v_measure_score', NMI will use average_method='arithmetic' by default.\n",
      "  FutureWarning)\n",
      "2020-04-23 01:25:00,494 - ClusterComparator - INFO - Running /opt/gct/submodules/OvpNMI/onmi /tmp/tmp46xszxqz/cluster1.cnl /tmp/tmp46xszxqz/cluster2.cnl > ovpnmioutput\n",
      "INFO:ClusterComparator:Running /opt/gct/submodules/OvpNMI/onmi /tmp/tmp46xszxqz/cluster1.cnl /tmp/tmp46xszxqz/cluster2.cnl > ovpnmioutput\n",
      "2020-04-23 01:25:00,511 - ClusterComparator - INFO - resulting 128 nodes out of 128,128\n",
      "INFO:ClusterComparator:resulting 128 nodes out of 128,128\n",
      "/opt/conda/envs/python3/lib/python3.6/site-packages/sklearn/metrics/cluster/supervised.py:859: FutureWarning: The behavior of NMI will change in version 0.22. To match the behavior of 'v_measure_score', NMI will use average_method='arithmetic' by default.\n",
      "  FutureWarning)\n",
      "2020-04-23 01:25:00,522 - ClusterComparator - INFO - Running /opt/gct/submodules/OvpNMI/onmi /tmp/tmpte3yi2ur/cluster1.cnl /tmp/tmpte3yi2ur/cluster2.cnl > ovpnmioutput\n",
      "INFO:ClusterComparator:Running /opt/gct/submodules/OvpNMI/onmi /tmp/tmpte3yi2ur/cluster1.cnl /tmp/tmpte3yi2ur/cluster2.cnl > ovpnmioutput\n",
      "2020-04-23 01:25:00,534 - Clustering - INFO - reading/data/data/K_DoesAlgSupportDirTest_1/gt_default.parq\n",
      "INFO:Clustering:reading/data/data/K_DoesAlgSupportDirTest_1/gt_default.parq\n",
      "2020-04-23 01:25:00,540 - ClusterComparator - INFO - resulting 128 nodes out of 128,128\n",
      "INFO:ClusterComparator:resulting 128 nodes out of 128,128\n",
      "/opt/conda/envs/python3/lib/python3.6/site-packages/sklearn/metrics/cluster/supervised.py:859: FutureWarning: The behavior of NMI will change in version 0.22. To match the behavior of 'v_measure_score', NMI will use average_method='arithmetic' by default.\n",
      "  FutureWarning)\n",
      "2020-04-23 01:25:00,548 - ClusterComparator - INFO - Running /opt/gct/submodules/OvpNMI/onmi /tmp/tmp4h6pxgwd/cluster1.cnl /tmp/tmp4h6pxgwd/cluster2.cnl > ovpnmioutput\n",
      "INFO:ClusterComparator:Running /opt/gct/submodules/OvpNMI/onmi /tmp/tmp4h6pxgwd/cluster1.cnl /tmp/tmp4h6pxgwd/cluster2.cnl > ovpnmioutput\n",
      "2020-04-23 01:25:00,559 - ClusterComparator - INFO - resulting 128 nodes out of 128,128\n",
      "INFO:ClusterComparator:resulting 128 nodes out of 128,128\n",
      "/opt/conda/envs/python3/lib/python3.6/site-packages/sklearn/metrics/cluster/supervised.py:859: FutureWarning: The behavior of NMI will change in version 0.22. To match the behavior of 'v_measure_score', NMI will use average_method='arithmetic' by default.\n",
      "  FutureWarning)\n",
      "2020-04-23 01:25:00,568 - ClusterComparator - INFO - Running /opt/gct/submodules/OvpNMI/onmi /tmp/tmp69m3_71u/cluster1.cnl /tmp/tmp69m3_71u/cluster2.cnl > ovpnmioutput\n",
      "INFO:ClusterComparator:Running /opt/gct/submodules/OvpNMI/onmi /tmp/tmp69m3_71u/cluster1.cnl /tmp/tmp69m3_71u/cluster2.cnl > ovpnmioutput\n",
      "2020-04-23 01:25:00,585 - ClusterComparator - INFO - resulting 128 nodes out of 128,128\n",
      "INFO:ClusterComparator:resulting 128 nodes out of 128,128\n",
      "/opt/conda/envs/python3/lib/python3.6/site-packages/sklearn/metrics/cluster/supervised.py:859: FutureWarning: The behavior of NMI will change in version 0.22. To match the behavior of 'v_measure_score', NMI will use average_method='arithmetic' by default.\n",
      "  FutureWarning)\n",
      "2020-04-23 01:25:00,596 - ClusterComparator - INFO - Running /opt/gct/submodules/OvpNMI/onmi /tmp/tmpyhcjo6_s/cluster1.cnl /tmp/tmpyhcjo6_s/cluster2.cnl > ovpnmioutput\n",
      "INFO:ClusterComparator:Running /opt/gct/submodules/OvpNMI/onmi /tmp/tmpyhcjo6_s/cluster1.cnl /tmp/tmpyhcjo6_s/cluster2.cnl > ovpnmioutput\n",
      "2020-04-23 01:25:00,607 - Clustering - INFO - reading/data/data/K_DoesAlgSupportDirTest_1/gt_default.parq\n",
      "INFO:Clustering:reading/data/data/K_DoesAlgSupportDirTest_1/gt_default.parq\n",
      "2020-04-23 01:25:00,613 - ClusterComparator - INFO - resulting 128 nodes out of 128,128\n",
      "INFO:ClusterComparator:resulting 128 nodes out of 128,128\n",
      "/opt/conda/envs/python3/lib/python3.6/site-packages/sklearn/metrics/cluster/supervised.py:859: FutureWarning: The behavior of NMI will change in version 0.22. To match the behavior of 'v_measure_score', NMI will use average_method='arithmetic' by default.\n",
      "  FutureWarning)\n",
      "2020-04-23 01:25:00,621 - ClusterComparator - INFO - Running /opt/gct/submodules/OvpNMI/onmi /tmp/tmpges3bar7/cluster1.cnl /tmp/tmpges3bar7/cluster2.cnl > ovpnmioutput\n",
      "INFO:ClusterComparator:Running /opt/gct/submodules/OvpNMI/onmi /tmp/tmpges3bar7/cluster1.cnl /tmp/tmpges3bar7/cluster2.cnl > ovpnmioutput\n",
      "2020-04-23 01:25:00,632 - ClusterComparator - INFO - resulting 128 nodes out of 128,128\n",
      "INFO:ClusterComparator:resulting 128 nodes out of 128,128\n",
      "/opt/conda/envs/python3/lib/python3.6/site-packages/sklearn/metrics/cluster/supervised.py:859: FutureWarning: The behavior of NMI will change in version 0.22. To match the behavior of 'v_measure_score', NMI will use average_method='arithmetic' by default.\n",
      "  FutureWarning)\n",
      "2020-04-23 01:25:00,642 - ClusterComparator - INFO - Running /opt/gct/submodules/OvpNMI/onmi /tmp/tmpaxnq34we/cluster1.cnl /tmp/tmpaxnq34we/cluster2.cnl > ovpnmioutput\n",
      "INFO:ClusterComparator:Running /opt/gct/submodules/OvpNMI/onmi /tmp/tmpaxnq34we/cluster1.cnl /tmp/tmpaxnq34we/cluster2.cnl > ovpnmioutput\n",
      "2020-04-23 01:25:00,660 - ClusterComparator - INFO - resulting 128 nodes out of 128,128\n",
      "INFO:ClusterComparator:resulting 128 nodes out of 128,128\n",
      "/opt/conda/envs/python3/lib/python3.6/site-packages/sklearn/metrics/cluster/supervised.py:859: FutureWarning: The behavior of NMI will change in version 0.22. To match the behavior of 'v_measure_score', NMI will use average_method='arithmetic' by default.\n",
      "  FutureWarning)\n",
      "2020-04-23 01:25:00,670 - ClusterComparator - INFO - Running /opt/gct/submodules/OvpNMI/onmi /tmp/tmpt5bgv6to/cluster1.cnl /tmp/tmpt5bgv6to/cluster2.cnl > ovpnmioutput\n",
      "INFO:ClusterComparator:Running /opt/gct/submodules/OvpNMI/onmi /tmp/tmpt5bgv6to/cluster1.cnl /tmp/tmpt5bgv6to/cluster2.cnl > ovpnmioutput\n",
      "2020-04-23 01:25:00,681 - Clustering - INFO - reading/data/data/K_DoesAlgSupportDirTest_1/gt_default.parq\n",
      "INFO:Clustering:reading/data/data/K_DoesAlgSupportDirTest_1/gt_default.parq\n",
      "2020-04-23 01:25:00,687 - ClusterComparator - INFO - resulting 128 nodes out of 128,128\n",
      "INFO:ClusterComparator:resulting 128 nodes out of 128,128\n",
      "/opt/conda/envs/python3/lib/python3.6/site-packages/sklearn/metrics/cluster/supervised.py:859: FutureWarning: The behavior of NMI will change in version 0.22. To match the behavior of 'v_measure_score', NMI will use average_method='arithmetic' by default.\n",
      "  FutureWarning)\n",
      "2020-04-23 01:25:00,695 - ClusterComparator - INFO - Running /opt/gct/submodules/OvpNMI/onmi /tmp/tmpa4ts7wln/cluster1.cnl /tmp/tmpa4ts7wln/cluster2.cnl > ovpnmioutput\n",
      "INFO:ClusterComparator:Running /opt/gct/submodules/OvpNMI/onmi /tmp/tmpa4ts7wln/cluster1.cnl /tmp/tmpa4ts7wln/cluster2.cnl > ovpnmioutput\n",
      "2020-04-23 01:25:00,706 - ClusterComparator - INFO - resulting 128 nodes out of 128,128\n",
      "INFO:ClusterComparator:resulting 128 nodes out of 128,128\n",
      "/opt/conda/envs/python3/lib/python3.6/site-packages/sklearn/metrics/cluster/supervised.py:859: FutureWarning: The behavior of NMI will change in version 0.22. To match the behavior of 'v_measure_score', NMI will use average_method='arithmetic' by default.\n",
      "  FutureWarning)\n",
      "2020-04-23 01:25:00,716 - ClusterComparator - INFO - Running /opt/gct/submodules/OvpNMI/onmi /tmp/tmps6p5gxli/cluster1.cnl /tmp/tmps6p5gxli/cluster2.cnl > ovpnmioutput\n",
      "INFO:ClusterComparator:Running /opt/gct/submodules/OvpNMI/onmi /tmp/tmps6p5gxli/cluster1.cnl /tmp/tmps6p5gxli/cluster2.cnl > ovpnmioutput\n",
      "2020-04-23 01:25:00,734 - ClusterComparator - INFO - resulting 128 nodes out of 128,128\n",
      "INFO:ClusterComparator:resulting 128 nodes out of 128,128\n",
      "/opt/conda/envs/python3/lib/python3.6/site-packages/sklearn/metrics/cluster/supervised.py:859: FutureWarning: The behavior of NMI will change in version 0.22. To match the behavior of 'v_measure_score', NMI will use average_method='arithmetic' by default.\n",
      "  FutureWarning)\n",
      "2020-04-23 01:25:00,744 - ClusterComparator - INFO - Running /opt/gct/submodules/OvpNMI/onmi /tmp/tmpdsbi5p9e/cluster1.cnl /tmp/tmpdsbi5p9e/cluster2.cnl > ovpnmioutput\n",
      "INFO:ClusterComparator:Running /opt/gct/submodules/OvpNMI/onmi /tmp/tmpdsbi5p9e/cluster1.cnl /tmp/tmpdsbi5p9e/cluster2.cnl > ovpnmioutput\n",
      "2020-04-23 01:25:00,757 - Clustering - INFO - reading/data/data/K_DoesAlgSupportDirTest_1/gt_default.parq\n",
      "INFO:Clustering:reading/data/data/K_DoesAlgSupportDirTest_1/gt_default.parq\n",
      "2020-04-23 01:25:00,763 - ClusterComparator - INFO - resulting 128 nodes out of 128,128\n",
      "INFO:ClusterComparator:resulting 128 nodes out of 128,128\n",
      "/opt/conda/envs/python3/lib/python3.6/site-packages/sklearn/metrics/cluster/supervised.py:859: FutureWarning: The behavior of NMI will change in version 0.22. To match the behavior of 'v_measure_score', NMI will use average_method='arithmetic' by default.\n",
      "  FutureWarning)\n",
      "2020-04-23 01:25:00,772 - ClusterComparator - INFO - Running /opt/gct/submodules/OvpNMI/onmi /tmp/tmpj43dzyen/cluster1.cnl /tmp/tmpj43dzyen/cluster2.cnl > ovpnmioutput\n",
      "INFO:ClusterComparator:Running /opt/gct/submodules/OvpNMI/onmi /tmp/tmpj43dzyen/cluster1.cnl /tmp/tmpj43dzyen/cluster2.cnl > ovpnmioutput\n",
      "2020-04-23 01:25:00,783 - ClusterComparator - INFO - resulting 128 nodes out of 128,128\n",
      "INFO:ClusterComparator:resulting 128 nodes out of 128,128\n",
      "/opt/conda/envs/python3/lib/python3.6/site-packages/sklearn/metrics/cluster/supervised.py:859: FutureWarning: The behavior of NMI will change in version 0.22. To match the behavior of 'v_measure_score', NMI will use average_method='arithmetic' by default.\n",
      "  FutureWarning)\n",
      "2020-04-23 01:25:00,793 - ClusterComparator - INFO - Running /opt/gct/submodules/OvpNMI/onmi /tmp/tmpwtpfcm5r/cluster1.cnl /tmp/tmpwtpfcm5r/cluster2.cnl > ovpnmioutput\n",
      "INFO:ClusterComparator:Running /opt/gct/submodules/OvpNMI/onmi /tmp/tmpwtpfcm5r/cluster1.cnl /tmp/tmpwtpfcm5r/cluster2.cnl > ovpnmioutput\n",
      "2020-04-23 01:25:00,812 - ClusterComparator - INFO - resulting 128 nodes out of 128,128\n",
      "INFO:ClusterComparator:resulting 128 nodes out of 128,128\n",
      "/opt/conda/envs/python3/lib/python3.6/site-packages/sklearn/metrics/cluster/supervised.py:859: FutureWarning: The behavior of NMI will change in version 0.22. To match the behavior of 'v_measure_score', NMI will use average_method='arithmetic' by default.\n",
      "  FutureWarning)\n",
      "2020-04-23 01:25:00,822 - ClusterComparator - INFO - Running /opt/gct/submodules/OvpNMI/onmi /tmp/tmpimol_2f9/cluster1.cnl /tmp/tmpimol_2f9/cluster2.cnl > ovpnmioutput\n",
      "INFO:ClusterComparator:Running /opt/gct/submodules/OvpNMI/onmi /tmp/tmpimol_2f9/cluster1.cnl /tmp/tmpimol_2f9/cluster2.cnl > ovpnmioutput\n",
      "2020-04-23 01:25:00,834 - Clustering - INFO - reading/data/data/K_DoesAlgSupportDirTest_1/gt_default.parq\n",
      "INFO:Clustering:reading/data/data/K_DoesAlgSupportDirTest_1/gt_default.parq\n",
      "2020-04-23 01:25:00,841 - ClusterComparator - INFO - resulting 128 nodes out of 128,128\n",
      "INFO:ClusterComparator:resulting 128 nodes out of 128,128\n",
      "/opt/conda/envs/python3/lib/python3.6/site-packages/sklearn/metrics/cluster/supervised.py:859: FutureWarning: The behavior of NMI will change in version 0.22. To match the behavior of 'v_measure_score', NMI will use average_method='arithmetic' by default.\n",
      "  FutureWarning)\n",
      "2020-04-23 01:25:00,849 - ClusterComparator - INFO - Running /opt/gct/submodules/OvpNMI/onmi /tmp/tmpk2tm3ft4/cluster1.cnl /tmp/tmpk2tm3ft4/cluster2.cnl > ovpnmioutput\n",
      "INFO:ClusterComparator:Running /opt/gct/submodules/OvpNMI/onmi /tmp/tmpk2tm3ft4/cluster1.cnl /tmp/tmpk2tm3ft4/cluster2.cnl > ovpnmioutput\n",
      "2020-04-23 01:25:00,861 - ClusterComparator - INFO - resulting 128 nodes out of 128,128\n",
      "INFO:ClusterComparator:resulting 128 nodes out of 128,128\n",
      "/opt/conda/envs/python3/lib/python3.6/site-packages/sklearn/metrics/cluster/supervised.py:859: FutureWarning: The behavior of NMI will change in version 0.22. To match the behavior of 'v_measure_score', NMI will use average_method='arithmetic' by default.\n",
      "  FutureWarning)\n",
      "2020-04-23 01:25:00,870 - ClusterComparator - INFO - Running /opt/gct/submodules/OvpNMI/onmi /tmp/tmpd9zel523/cluster1.cnl /tmp/tmpd9zel523/cluster2.cnl > ovpnmioutput\n",
      "INFO:ClusterComparator:Running /opt/gct/submodules/OvpNMI/onmi /tmp/tmpd9zel523/cluster1.cnl /tmp/tmpd9zel523/cluster2.cnl > ovpnmioutput\n",
      "2020-04-23 01:25:00,888 - ClusterComparator - INFO - resulting 128 nodes out of 128,128\n",
      "INFO:ClusterComparator:resulting 128 nodes out of 128,128\n",
      "/opt/conda/envs/python3/lib/python3.6/site-packages/sklearn/metrics/cluster/supervised.py:859: FutureWarning: The behavior of NMI will change in version 0.22. To match the behavior of 'v_measure_score', NMI will use average_method='arithmetic' by default.\n",
      "  FutureWarning)\n",
      "2020-04-23 01:25:00,898 - ClusterComparator - INFO - Running /opt/gct/submodules/OvpNMI/onmi /tmp/tmp8upx9_ay/cluster1.cnl /tmp/tmp8upx9_ay/cluster2.cnl > ovpnmioutput\n",
      "INFO:ClusterComparator:Running /opt/gct/submodules/OvpNMI/onmi /tmp/tmp8upx9_ay/cluster1.cnl /tmp/tmp8upx9_ay/cluster2.cnl > ovpnmioutput\n",
      "2020-04-23 01:25:00,910 - Clustering - INFO - reading/data/data/K_DoesAlgSupportDirTest_1/gt_default.parq\n"
     ]
    },
    {
     "name": "stderr",
     "output_type": "stream",
     "text": [
      "INFO:Clustering:reading/data/data/K_DoesAlgSupportDirTest_1/gt_default.parq\n",
      "2020-04-23 01:25:00,916 - ClusterComparator - INFO - resulting 128 nodes out of 128,128\n",
      "INFO:ClusterComparator:resulting 128 nodes out of 128,128\n",
      "/opt/conda/envs/python3/lib/python3.6/site-packages/sklearn/metrics/cluster/supervised.py:859: FutureWarning: The behavior of NMI will change in version 0.22. To match the behavior of 'v_measure_score', NMI will use average_method='arithmetic' by default.\n",
      "  FutureWarning)\n",
      "2020-04-23 01:25:00,924 - ClusterComparator - INFO - Running /opt/gct/submodules/OvpNMI/onmi /tmp/tmp8p5yr41n/cluster1.cnl /tmp/tmp8p5yr41n/cluster2.cnl > ovpnmioutput\n",
      "INFO:ClusterComparator:Running /opt/gct/submodules/OvpNMI/onmi /tmp/tmp8p5yr41n/cluster1.cnl /tmp/tmp8p5yr41n/cluster2.cnl > ovpnmioutput\n",
      "2020-04-23 01:25:00,936 - ClusterComparator - INFO - resulting 128 nodes out of 128,128\n",
      "INFO:ClusterComparator:resulting 128 nodes out of 128,128\n",
      "/opt/conda/envs/python3/lib/python3.6/site-packages/sklearn/metrics/cluster/supervised.py:859: FutureWarning: The behavior of NMI will change in version 0.22. To match the behavior of 'v_measure_score', NMI will use average_method='arithmetic' by default.\n",
      "  FutureWarning)\n",
      "2020-04-23 01:25:00,946 - ClusterComparator - INFO - Running /opt/gct/submodules/OvpNMI/onmi /tmp/tmpbhc8b07q/cluster1.cnl /tmp/tmpbhc8b07q/cluster2.cnl > ovpnmioutput\n",
      "INFO:ClusterComparator:Running /opt/gct/submodules/OvpNMI/onmi /tmp/tmpbhc8b07q/cluster1.cnl /tmp/tmpbhc8b07q/cluster2.cnl > ovpnmioutput\n",
      "2020-04-23 01:25:00,964 - ClusterComparator - INFO - resulting 128 nodes out of 128,128\n",
      "INFO:ClusterComparator:resulting 128 nodes out of 128,128\n",
      "/opt/conda/envs/python3/lib/python3.6/site-packages/sklearn/metrics/cluster/supervised.py:859: FutureWarning: The behavior of NMI will change in version 0.22. To match the behavior of 'v_measure_score', NMI will use average_method='arithmetic' by default.\n",
      "  FutureWarning)\n",
      "2020-04-23 01:25:00,974 - ClusterComparator - INFO - Running /opt/gct/submodules/OvpNMI/onmi /tmp/tmpbedh7ley/cluster1.cnl /tmp/tmpbedh7ley/cluster2.cnl > ovpnmioutput\n",
      "INFO:ClusterComparator:Running /opt/gct/submodules/OvpNMI/onmi /tmp/tmpbedh7ley/cluster1.cnl /tmp/tmpbedh7ley/cluster2.cnl > ovpnmioutput\n",
      "2020-04-23 01:25:00,987 - Clustering - INFO - reading/data/data/K_DoesAlgSupportDirTest_1/gt_default.parq\n",
      "INFO:Clustering:reading/data/data/K_DoesAlgSupportDirTest_1/gt_default.parq\n",
      "2020-04-23 01:25:00,994 - ClusterComparator - INFO - resulting 128 nodes out of 128,128\n",
      "INFO:ClusterComparator:resulting 128 nodes out of 128,128\n",
      "/opt/conda/envs/python3/lib/python3.6/site-packages/sklearn/metrics/cluster/supervised.py:859: FutureWarning: The behavior of NMI will change in version 0.22. To match the behavior of 'v_measure_score', NMI will use average_method='arithmetic' by default.\n",
      "  FutureWarning)\n",
      "2020-04-23 01:25:01,002 - ClusterComparator - INFO - Running /opt/gct/submodules/OvpNMI/onmi /tmp/tmpyahhulx8/cluster1.cnl /tmp/tmpyahhulx8/cluster2.cnl > ovpnmioutput\n",
      "INFO:ClusterComparator:Running /opt/gct/submodules/OvpNMI/onmi /tmp/tmpyahhulx8/cluster1.cnl /tmp/tmpyahhulx8/cluster2.cnl > ovpnmioutput\n",
      "2020-04-23 01:25:01,014 - ClusterComparator - INFO - resulting 128 nodes out of 128,128\n",
      "INFO:ClusterComparator:resulting 128 nodes out of 128,128\n",
      "/opt/conda/envs/python3/lib/python3.6/site-packages/sklearn/metrics/cluster/supervised.py:859: FutureWarning: The behavior of NMI will change in version 0.22. To match the behavior of 'v_measure_score', NMI will use average_method='arithmetic' by default.\n",
      "  FutureWarning)\n",
      "2020-04-23 01:25:01,024 - ClusterComparator - INFO - Running /opt/gct/submodules/OvpNMI/onmi /tmp/tmp2m8orv0s/cluster1.cnl /tmp/tmp2m8orv0s/cluster2.cnl > ovpnmioutput\n",
      "INFO:ClusterComparator:Running /opt/gct/submodules/OvpNMI/onmi /tmp/tmp2m8orv0s/cluster1.cnl /tmp/tmp2m8orv0s/cluster2.cnl > ovpnmioutput\n",
      "2020-04-23 01:25:01,043 - ClusterComparator - INFO - resulting 128 nodes out of 128,128\n",
      "INFO:ClusterComparator:resulting 128 nodes out of 128,128\n",
      "/opt/conda/envs/python3/lib/python3.6/site-packages/sklearn/metrics/cluster/supervised.py:859: FutureWarning: The behavior of NMI will change in version 0.22. To match the behavior of 'v_measure_score', NMI will use average_method='arithmetic' by default.\n",
      "  FutureWarning)\n",
      "2020-04-23 01:25:01,054 - ClusterComparator - INFO - Running /opt/gct/submodules/OvpNMI/onmi /tmp/tmp2ay6x0j7/cluster1.cnl /tmp/tmp2ay6x0j7/cluster2.cnl > ovpnmioutput\n",
      "INFO:ClusterComparator:Running /opt/gct/submodules/OvpNMI/onmi /tmp/tmp2ay6x0j7/cluster1.cnl /tmp/tmp2ay6x0j7/cluster2.cnl > ovpnmioutput\n",
      "2020-04-23 01:25:01,066 - Clustering - INFO - reading/data/data/K_DoesAlgSupportDirTest_1/gt_default.parq\n",
      "INFO:Clustering:reading/data/data/K_DoesAlgSupportDirTest_1/gt_default.parq\n",
      "2020-04-23 01:25:01,073 - ClusterComparator - INFO - resulting 128 nodes out of 128,128\n",
      "INFO:ClusterComparator:resulting 128 nodes out of 128,128\n",
      "/opt/conda/envs/python3/lib/python3.6/site-packages/sklearn/metrics/cluster/supervised.py:859: FutureWarning: The behavior of NMI will change in version 0.22. To match the behavior of 'v_measure_score', NMI will use average_method='arithmetic' by default.\n",
      "  FutureWarning)\n",
      "2020-04-23 01:25:01,082 - ClusterComparator - INFO - Running /opt/gct/submodules/OvpNMI/onmi /tmp/tmpvr8xca8a/cluster1.cnl /tmp/tmpvr8xca8a/cluster2.cnl > ovpnmioutput\n",
      "INFO:ClusterComparator:Running /opt/gct/submodules/OvpNMI/onmi /tmp/tmpvr8xca8a/cluster1.cnl /tmp/tmpvr8xca8a/cluster2.cnl > ovpnmioutput\n",
      "2020-04-23 01:25:01,094 - ClusterComparator - INFO - resulting 128 nodes out of 128,128\n",
      "INFO:ClusterComparator:resulting 128 nodes out of 128,128\n",
      "/opt/conda/envs/python3/lib/python3.6/site-packages/sklearn/metrics/cluster/supervised.py:859: FutureWarning: The behavior of NMI will change in version 0.22. To match the behavior of 'v_measure_score', NMI will use average_method='arithmetic' by default.\n",
      "  FutureWarning)\n",
      "2020-04-23 01:25:01,104 - ClusterComparator - INFO - Running /opt/gct/submodules/OvpNMI/onmi /tmp/tmp417mhir7/cluster1.cnl /tmp/tmp417mhir7/cluster2.cnl > ovpnmioutput\n",
      "INFO:ClusterComparator:Running /opt/gct/submodules/OvpNMI/onmi /tmp/tmp417mhir7/cluster1.cnl /tmp/tmp417mhir7/cluster2.cnl > ovpnmioutput\n",
      "2020-04-23 01:25:01,122 - ClusterComparator - INFO - resulting 128 nodes out of 128,128\n",
      "INFO:ClusterComparator:resulting 128 nodes out of 128,128\n",
      "/opt/conda/envs/python3/lib/python3.6/site-packages/sklearn/metrics/cluster/supervised.py:859: FutureWarning: The behavior of NMI will change in version 0.22. To match the behavior of 'v_measure_score', NMI will use average_method='arithmetic' by default.\n",
      "  FutureWarning)\n",
      "2020-04-23 01:25:01,132 - ClusterComparator - INFO - Running /opt/gct/submodules/OvpNMI/onmi /tmp/tmp5ps9jqab/cluster1.cnl /tmp/tmp5ps9jqab/cluster2.cnl > ovpnmioutput\n",
      "INFO:ClusterComparator:Running /opt/gct/submodules/OvpNMI/onmi /tmp/tmp5ps9jqab/cluster1.cnl /tmp/tmp5ps9jqab/cluster2.cnl > ovpnmioutput\n",
      "2020-04-23 01:25:01,144 - Clustering - INFO - reading/data/data/K_DoesAlgSupportDirTest_1/gt_default.parq\n",
      "INFO:Clustering:reading/data/data/K_DoesAlgSupportDirTest_1/gt_default.parq\n",
      "2020-04-23 01:25:01,151 - ClusterComparator - INFO - resulting 128 nodes out of 128,128\n",
      "INFO:ClusterComparator:resulting 128 nodes out of 128,128\n",
      "/opt/conda/envs/python3/lib/python3.6/site-packages/sklearn/metrics/cluster/supervised.py:859: FutureWarning: The behavior of NMI will change in version 0.22. To match the behavior of 'v_measure_score', NMI will use average_method='arithmetic' by default.\n",
      "  FutureWarning)\n",
      "2020-04-23 01:25:01,159 - ClusterComparator - INFO - Running /opt/gct/submodules/OvpNMI/onmi /tmp/tmphxcyoe2m/cluster1.cnl /tmp/tmphxcyoe2m/cluster2.cnl > ovpnmioutput\n",
      "INFO:ClusterComparator:Running /opt/gct/submodules/OvpNMI/onmi /tmp/tmphxcyoe2m/cluster1.cnl /tmp/tmphxcyoe2m/cluster2.cnl > ovpnmioutput\n",
      "2020-04-23 01:25:01,170 - ClusterComparator - INFO - resulting 128 nodes out of 128,128\n",
      "INFO:ClusterComparator:resulting 128 nodes out of 128,128\n",
      "/opt/conda/envs/python3/lib/python3.6/site-packages/sklearn/metrics/cluster/supervised.py:859: FutureWarning: The behavior of NMI will change in version 0.22. To match the behavior of 'v_measure_score', NMI will use average_method='arithmetic' by default.\n",
      "  FutureWarning)\n"
     ]
    },
    {
     "name": "stderr",
     "output_type": "stream",
     "text": [
      "2020-04-23 01:25:01,180 - ClusterComparator - INFO - Running /opt/gct/submodules/OvpNMI/onmi /tmp/tmp827z49xu/cluster1.cnl /tmp/tmp827z49xu/cluster2.cnl > ovpnmioutput\n",
      "INFO:ClusterComparator:Running /opt/gct/submodules/OvpNMI/onmi /tmp/tmp827z49xu/cluster1.cnl /tmp/tmp827z49xu/cluster2.cnl > ovpnmioutput\n",
      "2020-04-23 01:25:01,198 - ClusterComparator - INFO - resulting 128 nodes out of 128,128\n",
      "INFO:ClusterComparator:resulting 128 nodes out of 128,128\n",
      "/opt/conda/envs/python3/lib/python3.6/site-packages/sklearn/metrics/cluster/supervised.py:859: FutureWarning: The behavior of NMI will change in version 0.22. To match the behavior of 'v_measure_score', NMI will use average_method='arithmetic' by default.\n",
      "  FutureWarning)\n",
      "2020-04-23 01:25:01,208 - ClusterComparator - INFO - Running /opt/gct/submodules/OvpNMI/onmi /tmp/tmpf66zc9vh/cluster1.cnl /tmp/tmpf66zc9vh/cluster2.cnl > ovpnmioutput\n",
      "INFO:ClusterComparator:Running /opt/gct/submodules/OvpNMI/onmi /tmp/tmpf66zc9vh/cluster1.cnl /tmp/tmpf66zc9vh/cluster2.cnl > ovpnmioutput\n",
      "2020-04-23 01:25:01,219 - Clustering - INFO - reading/data/data/K_DoesAlgSupportDirTest_1/gt_default.parq\n",
      "INFO:Clustering:reading/data/data/K_DoesAlgSupportDirTest_1/gt_default.parq\n",
      "2020-04-23 01:25:01,226 - ClusterComparator - INFO - resulting 128 nodes out of 128,128\n",
      "INFO:ClusterComparator:resulting 128 nodes out of 128,128\n",
      "/opt/conda/envs/python3/lib/python3.6/site-packages/sklearn/metrics/cluster/supervised.py:859: FutureWarning: The behavior of NMI will change in version 0.22. To match the behavior of 'v_measure_score', NMI will use average_method='arithmetic' by default.\n",
      "  FutureWarning)\n",
      "2020-04-23 01:25:01,233 - ClusterComparator - INFO - Running /opt/gct/submodules/OvpNMI/onmi /tmp/tmpdv872ixt/cluster1.cnl /tmp/tmpdv872ixt/cluster2.cnl > ovpnmioutput\n",
      "INFO:ClusterComparator:Running /opt/gct/submodules/OvpNMI/onmi /tmp/tmpdv872ixt/cluster1.cnl /tmp/tmpdv872ixt/cluster2.cnl > ovpnmioutput\n",
      "2020-04-23 01:25:01,244 - ClusterComparator - INFO - resulting 128 nodes out of 128,128\n",
      "INFO:ClusterComparator:resulting 128 nodes out of 128,128\n",
      "/opt/conda/envs/python3/lib/python3.6/site-packages/sklearn/metrics/cluster/supervised.py:859: FutureWarning: The behavior of NMI will change in version 0.22. To match the behavior of 'v_measure_score', NMI will use average_method='arithmetic' by default.\n",
      "  FutureWarning)\n",
      "2020-04-23 01:25:01,253 - ClusterComparator - INFO - Running /opt/gct/submodules/OvpNMI/onmi /tmp/tmp78zkb71j/cluster1.cnl /tmp/tmp78zkb71j/cluster2.cnl > ovpnmioutput\n",
      "INFO:ClusterComparator:Running /opt/gct/submodules/OvpNMI/onmi /tmp/tmp78zkb71j/cluster1.cnl /tmp/tmp78zkb71j/cluster2.cnl > ovpnmioutput\n",
      "2020-04-23 01:25:01,271 - ClusterComparator - INFO - resulting 128 nodes out of 128,128\n",
      "INFO:ClusterComparator:resulting 128 nodes out of 128,128\n",
      "/opt/conda/envs/python3/lib/python3.6/site-packages/sklearn/metrics/cluster/supervised.py:859: FutureWarning: The behavior of NMI will change in version 0.22. To match the behavior of 'v_measure_score', NMI will use average_method='arithmetic' by default.\n",
      "  FutureWarning)\n",
      "2020-04-23 01:25:01,281 - ClusterComparator - INFO - Running /opt/gct/submodules/OvpNMI/onmi /tmp/tmpk2bc1ict/cluster1.cnl /tmp/tmpk2bc1ict/cluster2.cnl > ovpnmioutput\n",
      "INFO:ClusterComparator:Running /opt/gct/submodules/OvpNMI/onmi /tmp/tmpk2bc1ict/cluster1.cnl /tmp/tmpk2bc1ict/cluster2.cnl > ovpnmioutput\n",
      "2020-04-23 01:25:01,293 - Clustering - INFO - reading/data/data/K_DoesAlgSupportDirTest_1/gt_default.parq\n",
      "INFO:Clustering:reading/data/data/K_DoesAlgSupportDirTest_1/gt_default.parq\n",
      "2020-04-23 01:25:01,300 - ClusterComparator - INFO - resulting 128 nodes out of 128,128\n",
      "INFO:ClusterComparator:resulting 128 nodes out of 128,128\n",
      "/opt/conda/envs/python3/lib/python3.6/site-packages/sklearn/metrics/cluster/supervised.py:859: FutureWarning: The behavior of NMI will change in version 0.22. To match the behavior of 'v_measure_score', NMI will use average_method='arithmetic' by default.\n",
      "  FutureWarning)\n",
      "2020-04-23 01:25:01,308 - ClusterComparator - INFO - Running /opt/gct/submodules/OvpNMI/onmi /tmp/tmpnal_yx0n/cluster1.cnl /tmp/tmpnal_yx0n/cluster2.cnl > ovpnmioutput\n",
      "INFO:ClusterComparator:Running /opt/gct/submodules/OvpNMI/onmi /tmp/tmpnal_yx0n/cluster1.cnl /tmp/tmpnal_yx0n/cluster2.cnl > ovpnmioutput\n",
      "2020-04-23 01:25:01,319 - ClusterComparator - INFO - resulting 128 nodes out of 128,128\n",
      "INFO:ClusterComparator:resulting 128 nodes out of 128,128\n",
      "/opt/conda/envs/python3/lib/python3.6/site-packages/sklearn/metrics/cluster/supervised.py:859: FutureWarning: The behavior of NMI will change in version 0.22. To match the behavior of 'v_measure_score', NMI will use average_method='arithmetic' by default.\n",
      "  FutureWarning)\n",
      "2020-04-23 01:25:01,328 - ClusterComparator - INFO - Running /opt/gct/submodules/OvpNMI/onmi /tmp/tmptqhyxxh1/cluster1.cnl /tmp/tmptqhyxxh1/cluster2.cnl > ovpnmioutput\n",
      "INFO:ClusterComparator:Running /opt/gct/submodules/OvpNMI/onmi /tmp/tmptqhyxxh1/cluster1.cnl /tmp/tmptqhyxxh1/cluster2.cnl > ovpnmioutput\n",
      "2020-04-23 01:25:01,345 - ClusterComparator - INFO - resulting 128 nodes out of 128,128\n",
      "INFO:ClusterComparator:resulting 128 nodes out of 128,128\n",
      "/opt/conda/envs/python3/lib/python3.6/site-packages/sklearn/metrics/cluster/supervised.py:859: FutureWarning: The behavior of NMI will change in version 0.22. To match the behavior of 'v_measure_score', NMI will use average_method='arithmetic' by default.\n",
      "  FutureWarning)\n",
      "2020-04-23 01:25:01,350 - Clustering - INFO - reading/data/data/K_DoesAlgSupportDirTest_1/gt_default.parq\n",
      "INFO:Clustering:reading/data/data/K_DoesAlgSupportDirTest_1/gt_default.parq\n",
      "2020-04-23 01:25:01,355 - ClusterComparator - INFO - resulting 128 nodes out of 128,128\n",
      "INFO:ClusterComparator:resulting 128 nodes out of 128,128\n",
      "2020-04-23 01:25:01,361 - ClusterComparator - INFO - resulting 128 nodes out of 128,128\n",
      "INFO:ClusterComparator:resulting 128 nodes out of 128,128\n",
      "/opt/conda/envs/python3/lib/python3.6/site-packages/sklearn/metrics/cluster/supervised.py:859: FutureWarning: The behavior of NMI will change in version 0.22. To match the behavior of 'v_measure_score', NMI will use average_method='arithmetic' by default.\n",
      "  FutureWarning)\n",
      "2020-04-23 01:25:01,371 - ClusterComparator - INFO - resulting 128 nodes out of 128,128\n",
      "INFO:ClusterComparator:resulting 128 nodes out of 128,128\n",
      "/opt/conda/envs/python3/lib/python3.6/site-packages/sklearn/metrics/cluster/supervised.py:859: FutureWarning: The behavior of NMI will change in version 0.22. To match the behavior of 'v_measure_score', NMI will use average_method='arithmetic' by default.\n",
      "  FutureWarning)\n",
      "2020-04-23 01:25:01,379 - ClusterComparator - INFO - Running /opt/gct/submodules/OvpNMI/onmi /tmp/tmpx9hjfi1s/cluster1.cnl /tmp/tmpx9hjfi1s/cluster2.cnl > ovpnmioutput\n",
      "INFO:ClusterComparator:Running /opt/gct/submodules/OvpNMI/onmi /tmp/tmpx9hjfi1s/cluster1.cnl /tmp/tmpx9hjfi1s/cluster2.cnl > ovpnmioutput\n",
      "2020-04-23 01:25:01,391 - Clustering - INFO - reading/data/data/K_DoesAlgSupportDirTest_1/gt_default.parq\n",
      "INFO:Clustering:reading/data/data/K_DoesAlgSupportDirTest_1/gt_default.parq\n",
      "2020-04-23 01:25:01,398 - ClusterComparator - INFO - resulting 128 nodes out of 128,128\n",
      "INFO:ClusterComparator:resulting 128 nodes out of 128,128\n",
      "/opt/conda/envs/python3/lib/python3.6/site-packages/sklearn/metrics/cluster/supervised.py:859: FutureWarning: The behavior of NMI will change in version 0.22. To match the behavior of 'v_measure_score', NMI will use average_method='arithmetic' by default.\n",
      "  FutureWarning)\n",
      "2020-04-23 01:25:01,406 - ClusterComparator - INFO - Running /opt/gct/submodules/OvpNMI/onmi /tmp/tmphv59fctk/cluster1.cnl /tmp/tmphv59fctk/cluster2.cnl > ovpnmioutput\n",
      "INFO:ClusterComparator:Running /opt/gct/submodules/OvpNMI/onmi /tmp/tmphv59fctk/cluster1.cnl /tmp/tmphv59fctk/cluster2.cnl > ovpnmioutput\n",
      "2020-04-23 01:25:01,417 - ClusterComparator - INFO - resulting 128 nodes out of 128,128\n",
      "INFO:ClusterComparator:resulting 128 nodes out of 128,128\n",
      "/opt/conda/envs/python3/lib/python3.6/site-packages/sklearn/metrics/cluster/supervised.py:859: FutureWarning: The behavior of NMI will change in version 0.22. To match the behavior of 'v_measure_score', NMI will use average_method='arithmetic' by default.\n",
      "  FutureWarning)\n"
     ]
    },
    {
     "name": "stderr",
     "output_type": "stream",
     "text": [
      "2020-04-23 01:25:01,426 - ClusterComparator - INFO - Running /opt/gct/submodules/OvpNMI/onmi /tmp/tmp43leyhbm/cluster1.cnl /tmp/tmp43leyhbm/cluster2.cnl > ovpnmioutput\n",
      "INFO:ClusterComparator:Running /opt/gct/submodules/OvpNMI/onmi /tmp/tmp43leyhbm/cluster1.cnl /tmp/tmp43leyhbm/cluster2.cnl > ovpnmioutput\n",
      "2020-04-23 01:25:01,444 - ClusterComparator - INFO - resulting 128 nodes out of 128,128\n",
      "INFO:ClusterComparator:resulting 128 nodes out of 128,128\n",
      "/opt/conda/envs/python3/lib/python3.6/site-packages/sklearn/metrics/cluster/supervised.py:859: FutureWarning: The behavior of NMI will change in version 0.22. To match the behavior of 'v_measure_score', NMI will use average_method='arithmetic' by default.\n",
      "  FutureWarning)\n",
      "2020-04-23 01:25:01,454 - ClusterComparator - INFO - Running /opt/gct/submodules/OvpNMI/onmi /tmp/tmpqou7ur36/cluster1.cnl /tmp/tmpqou7ur36/cluster2.cnl > ovpnmioutput\n",
      "INFO:ClusterComparator:Running /opt/gct/submodules/OvpNMI/onmi /tmp/tmpqou7ur36/cluster1.cnl /tmp/tmpqou7ur36/cluster2.cnl > ovpnmioutput\n",
      "2020-04-23 01:25:01,466 - Clustering - INFO - reading/data/data/K_DoesAlgSupportDirTest_1/gt_default.parq\n",
      "INFO:Clustering:reading/data/data/K_DoesAlgSupportDirTest_1/gt_default.parq\n",
      "2020-04-23 01:25:01,473 - ClusterComparator - INFO - resulting 128 nodes out of 128,128\n",
      "INFO:ClusterComparator:resulting 128 nodes out of 128,128\n",
      "/opt/conda/envs/python3/lib/python3.6/site-packages/sklearn/metrics/cluster/supervised.py:859: FutureWarning: The behavior of NMI will change in version 0.22. To match the behavior of 'v_measure_score', NMI will use average_method='arithmetic' by default.\n",
      "  FutureWarning)\n",
      "2020-04-23 01:25:01,481 - ClusterComparator - INFO - Running /opt/gct/submodules/OvpNMI/onmi /tmp/tmpnzs2x23x/cluster1.cnl /tmp/tmpnzs2x23x/cluster2.cnl > ovpnmioutput\n",
      "INFO:ClusterComparator:Running /opt/gct/submodules/OvpNMI/onmi /tmp/tmpnzs2x23x/cluster1.cnl /tmp/tmpnzs2x23x/cluster2.cnl > ovpnmioutput\n",
      "2020-04-23 01:25:01,493 - ClusterComparator - INFO - resulting 128 nodes out of 128,128\n",
      "INFO:ClusterComparator:resulting 128 nodes out of 128,128\n",
      "/opt/conda/envs/python3/lib/python3.6/site-packages/sklearn/metrics/cluster/supervised.py:859: FutureWarning: The behavior of NMI will change in version 0.22. To match the behavior of 'v_measure_score', NMI will use average_method='arithmetic' by default.\n",
      "  FutureWarning)\n",
      "2020-04-23 01:25:01,502 - ClusterComparator - INFO - Running /opt/gct/submodules/OvpNMI/onmi /tmp/tmpzjdvfoh2/cluster1.cnl /tmp/tmpzjdvfoh2/cluster2.cnl > ovpnmioutput\n",
      "INFO:ClusterComparator:Running /opt/gct/submodules/OvpNMI/onmi /tmp/tmpzjdvfoh2/cluster1.cnl /tmp/tmpzjdvfoh2/cluster2.cnl > ovpnmioutput\n",
      "2020-04-23 01:25:01,520 - ClusterComparator - INFO - resulting 128 nodes out of 128,128\n",
      "INFO:ClusterComparator:resulting 128 nodes out of 128,128\n",
      "/opt/conda/envs/python3/lib/python3.6/site-packages/sklearn/metrics/cluster/supervised.py:859: FutureWarning: The behavior of NMI will change in version 0.22. To match the behavior of 'v_measure_score', NMI will use average_method='arithmetic' by default.\n",
      "  FutureWarning)\n",
      "2020-04-23 01:25:01,530 - ClusterComparator - INFO - Running /opt/gct/submodules/OvpNMI/onmi /tmp/tmpf634c5oa/cluster1.cnl /tmp/tmpf634c5oa/cluster2.cnl > ovpnmioutput\n",
      "INFO:ClusterComparator:Running /opt/gct/submodules/OvpNMI/onmi /tmp/tmpf634c5oa/cluster1.cnl /tmp/tmpf634c5oa/cluster2.cnl > ovpnmioutput\n",
      "2020-04-23 01:25:01,543 - Clustering - INFO - reading/data/data/K_DoesAlgSupportDirTest_1/gt_default.parq\n",
      "INFO:Clustering:reading/data/data/K_DoesAlgSupportDirTest_1/gt_default.parq\n",
      "2020-04-23 01:25:01,550 - ClusterComparator - INFO - resulting 128 nodes out of 128,128\n",
      "INFO:ClusterComparator:resulting 128 nodes out of 128,128\n",
      "/opt/conda/envs/python3/lib/python3.6/site-packages/sklearn/metrics/cluster/supervised.py:859: FutureWarning: The behavior of NMI will change in version 0.22. To match the behavior of 'v_measure_score', NMI will use average_method='arithmetic' by default.\n",
      "  FutureWarning)\n",
      "2020-04-23 01:25:01,558 - ClusterComparator - INFO - Running /opt/gct/submodules/OvpNMI/onmi /tmp/tmpb3j0b0ll/cluster1.cnl /tmp/tmpb3j0b0ll/cluster2.cnl > ovpnmioutput\n",
      "INFO:ClusterComparator:Running /opt/gct/submodules/OvpNMI/onmi /tmp/tmpb3j0b0ll/cluster1.cnl /tmp/tmpb3j0b0ll/cluster2.cnl > ovpnmioutput\n",
      "2020-04-23 01:25:01,570 - ClusterComparator - INFO - resulting 128 nodes out of 128,128\n",
      "INFO:ClusterComparator:resulting 128 nodes out of 128,128\n",
      "/opt/conda/envs/python3/lib/python3.6/site-packages/sklearn/metrics/cluster/supervised.py:859: FutureWarning: The behavior of NMI will change in version 0.22. To match the behavior of 'v_measure_score', NMI will use average_method='arithmetic' by default.\n",
      "  FutureWarning)\n",
      "2020-04-23 01:25:01,579 - ClusterComparator - INFO - Running /opt/gct/submodules/OvpNMI/onmi /tmp/tmpcxme6lm2/cluster1.cnl /tmp/tmpcxme6lm2/cluster2.cnl > ovpnmioutput\n",
      "INFO:ClusterComparator:Running /opt/gct/submodules/OvpNMI/onmi /tmp/tmpcxme6lm2/cluster1.cnl /tmp/tmpcxme6lm2/cluster2.cnl > ovpnmioutput\n",
      "2020-04-23 01:25:01,598 - ClusterComparator - INFO - resulting 128 nodes out of 128,128\n",
      "INFO:ClusterComparator:resulting 128 nodes out of 128,128\n",
      "/opt/conda/envs/python3/lib/python3.6/site-packages/sklearn/metrics/cluster/supervised.py:859: FutureWarning: The behavior of NMI will change in version 0.22. To match the behavior of 'v_measure_score', NMI will use average_method='arithmetic' by default.\n",
      "  FutureWarning)\n",
      "2020-04-23 01:25:01,608 - ClusterComparator - INFO - Running /opt/gct/submodules/OvpNMI/onmi /tmp/tmpxtp4u3ek/cluster1.cnl /tmp/tmpxtp4u3ek/cluster2.cnl > ovpnmioutput\n",
      "INFO:ClusterComparator:Running /opt/gct/submodules/OvpNMI/onmi /tmp/tmpxtp4u3ek/cluster1.cnl /tmp/tmpxtp4u3ek/cluster2.cnl > ovpnmioutput\n",
      "2020-04-23 01:25:01,620 - Clustering - INFO - reading/data/data/K_DoesAlgSupportDirTest_1/gt_default.parq\n",
      "INFO:Clustering:reading/data/data/K_DoesAlgSupportDirTest_1/gt_default.parq\n",
      "2020-04-23 01:25:01,627 - ClusterComparator - INFO - resulting 128 nodes out of 128,128\n",
      "INFO:ClusterComparator:resulting 128 nodes out of 128,128\n",
      "/opt/conda/envs/python3/lib/python3.6/site-packages/sklearn/metrics/cluster/supervised.py:859: FutureWarning: The behavior of NMI will change in version 0.22. To match the behavior of 'v_measure_score', NMI will use average_method='arithmetic' by default.\n",
      "  FutureWarning)\n",
      "2020-04-23 01:25:01,634 - ClusterComparator - INFO - Running /opt/gct/submodules/OvpNMI/onmi /tmp/tmpujtkhm06/cluster1.cnl /tmp/tmpujtkhm06/cluster2.cnl > ovpnmioutput\n",
      "INFO:ClusterComparator:Running /opt/gct/submodules/OvpNMI/onmi /tmp/tmpujtkhm06/cluster1.cnl /tmp/tmpujtkhm06/cluster2.cnl > ovpnmioutput\n",
      "2020-04-23 01:25:01,646 - ClusterComparator - INFO - resulting 128 nodes out of 128,128\n",
      "INFO:ClusterComparator:resulting 128 nodes out of 128,128\n",
      "/opt/conda/envs/python3/lib/python3.6/site-packages/sklearn/metrics/cluster/supervised.py:859: FutureWarning: The behavior of NMI will change in version 0.22. To match the behavior of 'v_measure_score', NMI will use average_method='arithmetic' by default.\n",
      "  FutureWarning)\n",
      "2020-04-23 01:25:01,656 - ClusterComparator - INFO - Running /opt/gct/submodules/OvpNMI/onmi /tmp/tmpant3sv3b/cluster1.cnl /tmp/tmpant3sv3b/cluster2.cnl > ovpnmioutput\n",
      "INFO:ClusterComparator:Running /opt/gct/submodules/OvpNMI/onmi /tmp/tmpant3sv3b/cluster1.cnl /tmp/tmpant3sv3b/cluster2.cnl > ovpnmioutput\n",
      "2020-04-23 01:25:01,675 - ClusterComparator - INFO - resulting 128 nodes out of 128,128\n",
      "INFO:ClusterComparator:resulting 128 nodes out of 128,128\n",
      "/opt/conda/envs/python3/lib/python3.6/site-packages/sklearn/metrics/cluster/supervised.py:859: FutureWarning: The behavior of NMI will change in version 0.22. To match the behavior of 'v_measure_score', NMI will use average_method='arithmetic' by default.\n",
      "  FutureWarning)\n",
      "2020-04-23 01:25:01,685 - ClusterComparator - INFO - Running /opt/gct/submodules/OvpNMI/onmi /tmp/tmprcjvpaxf/cluster1.cnl /tmp/tmprcjvpaxf/cluster2.cnl > ovpnmioutput\n",
      "INFO:ClusterComparator:Running /opt/gct/submodules/OvpNMI/onmi /tmp/tmprcjvpaxf/cluster1.cnl /tmp/tmprcjvpaxf/cluster2.cnl > ovpnmioutput\n",
      "2020-04-23 01:25:01,697 - Clustering - INFO - reading/data/data/K_DoesAlgSupportDirTest_1/gt_default.parq\n"
     ]
    },
    {
     "name": "stderr",
     "output_type": "stream",
     "text": [
      "INFO:Clustering:reading/data/data/K_DoesAlgSupportDirTest_1/gt_default.parq\n",
      "2020-04-23 01:25:01,703 - ClusterComparator - INFO - resulting 128 nodes out of 128,128\n",
      "INFO:ClusterComparator:resulting 128 nodes out of 128,128\n",
      "/opt/conda/envs/python3/lib/python3.6/site-packages/sklearn/metrics/cluster/supervised.py:859: FutureWarning: The behavior of NMI will change in version 0.22. To match the behavior of 'v_measure_score', NMI will use average_method='arithmetic' by default.\n",
      "  FutureWarning)\n",
      "2020-04-23 01:25:01,711 - ClusterComparator - INFO - Running /opt/gct/submodules/OvpNMI/onmi /tmp/tmpn2qp0tqx/cluster1.cnl /tmp/tmpn2qp0tqx/cluster2.cnl > ovpnmioutput\n",
      "INFO:ClusterComparator:Running /opt/gct/submodules/OvpNMI/onmi /tmp/tmpn2qp0tqx/cluster1.cnl /tmp/tmpn2qp0tqx/cluster2.cnl > ovpnmioutput\n",
      "2020-04-23 01:25:01,723 - ClusterComparator - INFO - resulting 128 nodes out of 128,128\n",
      "INFO:ClusterComparator:resulting 128 nodes out of 128,128\n",
      "/opt/conda/envs/python3/lib/python3.6/site-packages/sklearn/metrics/cluster/supervised.py:859: FutureWarning: The behavior of NMI will change in version 0.22. To match the behavior of 'v_measure_score', NMI will use average_method='arithmetic' by default.\n",
      "  FutureWarning)\n",
      "2020-04-23 01:25:01,733 - ClusterComparator - INFO - Running /opt/gct/submodules/OvpNMI/onmi /tmp/tmp2j94g95p/cluster1.cnl /tmp/tmp2j94g95p/cluster2.cnl > ovpnmioutput\n",
      "INFO:ClusterComparator:Running /opt/gct/submodules/OvpNMI/onmi /tmp/tmp2j94g95p/cluster1.cnl /tmp/tmp2j94g95p/cluster2.cnl > ovpnmioutput\n",
      "2020-04-23 01:25:01,752 - ClusterComparator - INFO - resulting 128 nodes out of 128,128\n",
      "INFO:ClusterComparator:resulting 128 nodes out of 128,128\n",
      "/opt/conda/envs/python3/lib/python3.6/site-packages/sklearn/metrics/cluster/supervised.py:859: FutureWarning: The behavior of NMI will change in version 0.22. To match the behavior of 'v_measure_score', NMI will use average_method='arithmetic' by default.\n",
      "  FutureWarning)\n",
      "2020-04-23 01:25:01,762 - ClusterComparator - INFO - Running /opt/gct/submodules/OvpNMI/onmi /tmp/tmpw1s4tcx3/cluster1.cnl /tmp/tmpw1s4tcx3/cluster2.cnl > ovpnmioutput\n",
      "INFO:ClusterComparator:Running /opt/gct/submodules/OvpNMI/onmi /tmp/tmpw1s4tcx3/cluster1.cnl /tmp/tmpw1s4tcx3/cluster2.cnl > ovpnmioutput\n",
      "2020-04-23 01:25:01,775 - Clustering - INFO - reading/data/data/K_DoesAlgSupportDirTest_1/gt_default.parq\n",
      "INFO:Clustering:reading/data/data/K_DoesAlgSupportDirTest_1/gt_default.parq\n",
      "2020-04-23 01:25:01,781 - ClusterComparator - INFO - resulting 128 nodes out of 128,128\n",
      "INFO:ClusterComparator:resulting 128 nodes out of 128,128\n",
      "/opt/conda/envs/python3/lib/python3.6/site-packages/sklearn/metrics/cluster/supervised.py:859: FutureWarning: The behavior of NMI will change in version 0.22. To match the behavior of 'v_measure_score', NMI will use average_method='arithmetic' by default.\n",
      "  FutureWarning)\n",
      "2020-04-23 01:25:01,789 - ClusterComparator - INFO - Running /opt/gct/submodules/OvpNMI/onmi /tmp/tmpjhw6bxie/cluster1.cnl /tmp/tmpjhw6bxie/cluster2.cnl > ovpnmioutput\n",
      "INFO:ClusterComparator:Running /opt/gct/submodules/OvpNMI/onmi /tmp/tmpjhw6bxie/cluster1.cnl /tmp/tmpjhw6bxie/cluster2.cnl > ovpnmioutput\n",
      "2020-04-23 01:25:01,802 - ClusterComparator - INFO - resulting 128 nodes out of 128,128\n",
      "INFO:ClusterComparator:resulting 128 nodes out of 128,128\n",
      "/opt/conda/envs/python3/lib/python3.6/site-packages/sklearn/metrics/cluster/supervised.py:859: FutureWarning: The behavior of NMI will change in version 0.22. To match the behavior of 'v_measure_score', NMI will use average_method='arithmetic' by default.\n",
      "  FutureWarning)\n",
      "2020-04-23 01:25:01,811 - ClusterComparator - INFO - Running /opt/gct/submodules/OvpNMI/onmi /tmp/tmp7yexsn2l/cluster1.cnl /tmp/tmp7yexsn2l/cluster2.cnl > ovpnmioutput\n",
      "INFO:ClusterComparator:Running /opt/gct/submodules/OvpNMI/onmi /tmp/tmp7yexsn2l/cluster1.cnl /tmp/tmp7yexsn2l/cluster2.cnl > ovpnmioutput\n",
      "2020-04-23 01:25:01,830 - ClusterComparator - INFO - resulting 128 nodes out of 128,128\n",
      "INFO:ClusterComparator:resulting 128 nodes out of 128,128\n",
      "/opt/conda/envs/python3/lib/python3.6/site-packages/sklearn/metrics/cluster/supervised.py:859: FutureWarning: The behavior of NMI will change in version 0.22. To match the behavior of 'v_measure_score', NMI will use average_method='arithmetic' by default.\n",
      "  FutureWarning)\n",
      "2020-04-23 01:25:01,841 - ClusterComparator - INFO - Running /opt/gct/submodules/OvpNMI/onmi /tmp/tmpxz_a5b5b/cluster1.cnl /tmp/tmpxz_a5b5b/cluster2.cnl > ovpnmioutput\n",
      "INFO:ClusterComparator:Running /opt/gct/submodules/OvpNMI/onmi /tmp/tmpxz_a5b5b/cluster1.cnl /tmp/tmpxz_a5b5b/cluster2.cnl > ovpnmioutput\n",
      "2020-04-23 01:25:01,854 - Clustering - INFO - reading/data/data/K_DoesAlgSupportDirTest_1/gt_default.parq\n",
      "INFO:Clustering:reading/data/data/K_DoesAlgSupportDirTest_1/gt_default.parq\n",
      "2020-04-23 01:25:01,861 - ClusterComparator - INFO - resulting 128 nodes out of 128,128\n",
      "INFO:ClusterComparator:resulting 128 nodes out of 128,128\n",
      "/opt/conda/envs/python3/lib/python3.6/site-packages/sklearn/metrics/cluster/supervised.py:859: FutureWarning: The behavior of NMI will change in version 0.22. To match the behavior of 'v_measure_score', NMI will use average_method='arithmetic' by default.\n",
      "  FutureWarning)\n",
      "2020-04-23 01:25:01,869 - ClusterComparator - INFO - Running /opt/gct/submodules/OvpNMI/onmi /tmp/tmp6kd0oc4h/cluster1.cnl /tmp/tmp6kd0oc4h/cluster2.cnl > ovpnmioutput\n",
      "INFO:ClusterComparator:Running /opt/gct/submodules/OvpNMI/onmi /tmp/tmp6kd0oc4h/cluster1.cnl /tmp/tmp6kd0oc4h/cluster2.cnl > ovpnmioutput\n",
      "2020-04-23 01:25:01,882 - ClusterComparator - INFO - resulting 128 nodes out of 128,128\n",
      "INFO:ClusterComparator:resulting 128 nodes out of 128,128\n",
      "/opt/conda/envs/python3/lib/python3.6/site-packages/sklearn/metrics/cluster/supervised.py:859: FutureWarning: The behavior of NMI will change in version 0.22. To match the behavior of 'v_measure_score', NMI will use average_method='arithmetic' by default.\n",
      "  FutureWarning)\n",
      "2020-04-23 01:25:01,892 - ClusterComparator - INFO - Running /opt/gct/submodules/OvpNMI/onmi /tmp/tmp3ad2rewz/cluster1.cnl /tmp/tmp3ad2rewz/cluster2.cnl > ovpnmioutput\n",
      "INFO:ClusterComparator:Running /opt/gct/submodules/OvpNMI/onmi /tmp/tmp3ad2rewz/cluster1.cnl /tmp/tmp3ad2rewz/cluster2.cnl > ovpnmioutput\n",
      "2020-04-23 01:25:01,912 - ClusterComparator - INFO - resulting 128 nodes out of 128,128\n",
      "INFO:ClusterComparator:resulting 128 nodes out of 128,128\n",
      "/opt/conda/envs/python3/lib/python3.6/site-packages/sklearn/metrics/cluster/supervised.py:859: FutureWarning: The behavior of NMI will change in version 0.22. To match the behavior of 'v_measure_score', NMI will use average_method='arithmetic' by default.\n",
      "  FutureWarning)\n",
      "2020-04-23 01:25:01,922 - ClusterComparator - INFO - Running /opt/gct/submodules/OvpNMI/onmi /tmp/tmpfoewttl3/cluster1.cnl /tmp/tmpfoewttl3/cluster2.cnl > ovpnmioutput\n",
      "INFO:ClusterComparator:Running /opt/gct/submodules/OvpNMI/onmi /tmp/tmpfoewttl3/cluster1.cnl /tmp/tmpfoewttl3/cluster2.cnl > ovpnmioutput\n",
      "2020-04-23 01:25:01,935 - Clustering - INFO - reading/data/data/K_DoesAlgSupportDirTest_1/gt_default.parq\n",
      "INFO:Clustering:reading/data/data/K_DoesAlgSupportDirTest_1/gt_default.parq\n",
      "2020-04-23 01:25:01,942 - ClusterComparator - INFO - resulting 128 nodes out of 128,128\n",
      "INFO:ClusterComparator:resulting 128 nodes out of 128,128\n",
      "/opt/conda/envs/python3/lib/python3.6/site-packages/sklearn/metrics/cluster/supervised.py:859: FutureWarning: The behavior of NMI will change in version 0.22. To match the behavior of 'v_measure_score', NMI will use average_method='arithmetic' by default.\n",
      "  FutureWarning)\n",
      "2020-04-23 01:25:01,950 - ClusterComparator - INFO - Running /opt/gct/submodules/OvpNMI/onmi /tmp/tmpuo30k2sd/cluster1.cnl /tmp/tmpuo30k2sd/cluster2.cnl > ovpnmioutput\n",
      "INFO:ClusterComparator:Running /opt/gct/submodules/OvpNMI/onmi /tmp/tmpuo30k2sd/cluster1.cnl /tmp/tmpuo30k2sd/cluster2.cnl > ovpnmioutput\n",
      "2020-04-23 01:25:01,962 - ClusterComparator - INFO - resulting 128 nodes out of 128,128\n",
      "INFO:ClusterComparator:resulting 128 nodes out of 128,128\n",
      "/opt/conda/envs/python3/lib/python3.6/site-packages/sklearn/metrics/cluster/supervised.py:859: FutureWarning: The behavior of NMI will change in version 0.22. To match the behavior of 'v_measure_score', NMI will use average_method='arithmetic' by default.\n",
      "  FutureWarning)\n",
      "2020-04-23 01:25:01,972 - ClusterComparator - INFO - Running /opt/gct/submodules/OvpNMI/onmi /tmp/tmppiv_kro1/cluster1.cnl /tmp/tmppiv_kro1/cluster2.cnl > ovpnmioutput\n"
     ]
    },
    {
     "name": "stderr",
     "output_type": "stream",
     "text": [
      "INFO:ClusterComparator:Running /opt/gct/submodules/OvpNMI/onmi /tmp/tmppiv_kro1/cluster1.cnl /tmp/tmppiv_kro1/cluster2.cnl > ovpnmioutput\n",
      "2020-04-23 01:25:01,992 - ClusterComparator - INFO - resulting 128 nodes out of 128,128\n",
      "INFO:ClusterComparator:resulting 128 nodes out of 128,128\n",
      "/opt/conda/envs/python3/lib/python3.6/site-packages/sklearn/metrics/cluster/supervised.py:859: FutureWarning: The behavior of NMI will change in version 0.22. To match the behavior of 'v_measure_score', NMI will use average_method='arithmetic' by default.\n",
      "  FutureWarning)\n",
      "2020-04-23 01:25:02,002 - ClusterComparator - INFO - Running /opt/gct/submodules/OvpNMI/onmi /tmp/tmpyo2bloa1/cluster1.cnl /tmp/tmpyo2bloa1/cluster2.cnl > ovpnmioutput\n",
      "INFO:ClusterComparator:Running /opt/gct/submodules/OvpNMI/onmi /tmp/tmpyo2bloa1/cluster1.cnl /tmp/tmpyo2bloa1/cluster2.cnl > ovpnmioutput\n",
      "2020-04-23 01:25:02,014 - Clustering - INFO - reading/data/data/K_DoesAlgSupportDirTest_1/gt_default.parq\n",
      "INFO:Clustering:reading/data/data/K_DoesAlgSupportDirTest_1/gt_default.parq\n",
      "2020-04-23 01:25:02,021 - ClusterComparator - INFO - resulting 128 nodes out of 128,128\n",
      "INFO:ClusterComparator:resulting 128 nodes out of 128,128\n",
      "/opt/conda/envs/python3/lib/python3.6/site-packages/sklearn/metrics/cluster/supervised.py:859: FutureWarning: The behavior of NMI will change in version 0.22. To match the behavior of 'v_measure_score', NMI will use average_method='arithmetic' by default.\n",
      "  FutureWarning)\n",
      "2020-04-23 01:25:02,029 - ClusterComparator - INFO - Running /opt/gct/submodules/OvpNMI/onmi /tmp/tmpww8qjw4p/cluster1.cnl /tmp/tmpww8qjw4p/cluster2.cnl > ovpnmioutput\n",
      "INFO:ClusterComparator:Running /opt/gct/submodules/OvpNMI/onmi /tmp/tmpww8qjw4p/cluster1.cnl /tmp/tmpww8qjw4p/cluster2.cnl > ovpnmioutput\n",
      "2020-04-23 01:25:02,041 - ClusterComparator - INFO - resulting 128 nodes out of 128,128\n",
      "INFO:ClusterComparator:resulting 128 nodes out of 128,128\n",
      "/opt/conda/envs/python3/lib/python3.6/site-packages/sklearn/metrics/cluster/supervised.py:859: FutureWarning: The behavior of NMI will change in version 0.22. To match the behavior of 'v_measure_score', NMI will use average_method='arithmetic' by default.\n",
      "  FutureWarning)\n",
      "2020-04-23 01:25:02,050 - ClusterComparator - INFO - Running /opt/gct/submodules/OvpNMI/onmi /tmp/tmpmr0rqfkz/cluster1.cnl /tmp/tmpmr0rqfkz/cluster2.cnl > ovpnmioutput\n",
      "INFO:ClusterComparator:Running /opt/gct/submodules/OvpNMI/onmi /tmp/tmpmr0rqfkz/cluster1.cnl /tmp/tmpmr0rqfkz/cluster2.cnl > ovpnmioutput\n",
      "2020-04-23 01:25:02,068 - ClusterComparator - INFO - resulting 128 nodes out of 128,128\n",
      "INFO:ClusterComparator:resulting 128 nodes out of 128,128\n",
      "/opt/conda/envs/python3/lib/python3.6/site-packages/sklearn/metrics/cluster/supervised.py:859: FutureWarning: The behavior of NMI will change in version 0.22. To match the behavior of 'v_measure_score', NMI will use average_method='arithmetic' by default.\n",
      "  FutureWarning)\n",
      "2020-04-23 01:25:02,079 - ClusterComparator - INFO - Running /opt/gct/submodules/OvpNMI/onmi /tmp/tmpj3z6rhk3/cluster1.cnl /tmp/tmpj3z6rhk3/cluster2.cnl > ovpnmioutput\n",
      "INFO:ClusterComparator:Running /opt/gct/submodules/OvpNMI/onmi /tmp/tmpj3z6rhk3/cluster1.cnl /tmp/tmpj3z6rhk3/cluster2.cnl > ovpnmioutput\n",
      "2020-04-23 01:25:02,091 - Clustering - INFO - reading/data/data/K_DoesAlgSupportDirTest_1/gt_default.parq\n",
      "INFO:Clustering:reading/data/data/K_DoesAlgSupportDirTest_1/gt_default.parq\n",
      "2020-04-23 01:25:02,098 - ClusterComparator - INFO - resulting 128 nodes out of 128,128\n",
      "INFO:ClusterComparator:resulting 128 nodes out of 128,128\n",
      "/opt/conda/envs/python3/lib/python3.6/site-packages/sklearn/metrics/cluster/supervised.py:859: FutureWarning: The behavior of NMI will change in version 0.22. To match the behavior of 'v_measure_score', NMI will use average_method='arithmetic' by default.\n",
      "  FutureWarning)\n",
      "2020-04-23 01:25:02,106 - ClusterComparator - INFO - Running /opt/gct/submodules/OvpNMI/onmi /tmp/tmpjl7ao17k/cluster1.cnl /tmp/tmpjl7ao17k/cluster2.cnl > ovpnmioutput\n",
      "INFO:ClusterComparator:Running /opt/gct/submodules/OvpNMI/onmi /tmp/tmpjl7ao17k/cluster1.cnl /tmp/tmpjl7ao17k/cluster2.cnl > ovpnmioutput\n",
      "2020-04-23 01:25:02,119 - ClusterComparator - INFO - resulting 128 nodes out of 128,128\n",
      "INFO:ClusterComparator:resulting 128 nodes out of 128,128\n",
      "/opt/conda/envs/python3/lib/python3.6/site-packages/sklearn/metrics/cluster/supervised.py:859: FutureWarning: The behavior of NMI will change in version 0.22. To match the behavior of 'v_measure_score', NMI will use average_method='arithmetic' by default.\n",
      "  FutureWarning)\n",
      "2020-04-23 01:25:02,129 - ClusterComparator - INFO - Running /opt/gct/submodules/OvpNMI/onmi /tmp/tmpnc83c4bm/cluster1.cnl /tmp/tmpnc83c4bm/cluster2.cnl > ovpnmioutput\n",
      "INFO:ClusterComparator:Running /opt/gct/submodules/OvpNMI/onmi /tmp/tmpnc83c4bm/cluster1.cnl /tmp/tmpnc83c4bm/cluster2.cnl > ovpnmioutput\n",
      "2020-04-23 01:25:02,149 - ClusterComparator - INFO - resulting 128 nodes out of 128,128\n",
      "INFO:ClusterComparator:resulting 128 nodes out of 128,128\n",
      "/opt/conda/envs/python3/lib/python3.6/site-packages/sklearn/metrics/cluster/supervised.py:859: FutureWarning: The behavior of NMI will change in version 0.22. To match the behavior of 'v_measure_score', NMI will use average_method='arithmetic' by default.\n",
      "  FutureWarning)\n",
      "2020-04-23 01:25:02,154 - Clustering - INFO - reading/data/data/K_DoesAlgSupportDirTest_1/gt_default.parq\n",
      "INFO:Clustering:reading/data/data/K_DoesAlgSupportDirTest_1/gt_default.parq\n",
      "2020-04-23 01:25:02,160 - ClusterComparator - INFO - resulting 128 nodes out of 128,128\n",
      "INFO:ClusterComparator:resulting 128 nodes out of 128,128\n",
      "2020-04-23 01:25:02,165 - ClusterComparator - INFO - resulting 128 nodes out of 128,128\n",
      "INFO:ClusterComparator:resulting 128 nodes out of 128,128\n",
      "/opt/conda/envs/python3/lib/python3.6/site-packages/sklearn/metrics/cluster/supervised.py:859: FutureWarning: The behavior of NMI will change in version 0.22. To match the behavior of 'v_measure_score', NMI will use average_method='arithmetic' by default.\n",
      "  FutureWarning)\n",
      "2020-04-23 01:25:02,177 - ClusterComparator - INFO - resulting 126 nodes out of 126,127\n",
      "INFO:ClusterComparator:resulting 126 nodes out of 126,127\n",
      "/opt/conda/envs/python3/lib/python3.6/site-packages/sklearn/metrics/cluster/supervised.py:859: FutureWarning: The behavior of NMI will change in version 0.22. To match the behavior of 'v_measure_score', NMI will use average_method='arithmetic' by default.\n",
      "  FutureWarning)\n",
      "2020-04-23 01:25:02,186 - ClusterComparator - INFO - Running /opt/gct/submodules/OvpNMI/onmi /tmp/tmph2oq1om8/cluster1.cnl /tmp/tmph2oq1om8/cluster2.cnl > ovpnmioutput\n",
      "INFO:ClusterComparator:Running /opt/gct/submodules/OvpNMI/onmi /tmp/tmph2oq1om8/cluster1.cnl /tmp/tmph2oq1om8/cluster2.cnl > ovpnmioutput\n",
      "2020-04-23 01:25:02,198 - Clustering - INFO - reading/data/data/K_DoesAlgSupportDirTest_1/gt_default.parq\n",
      "INFO:Clustering:reading/data/data/K_DoesAlgSupportDirTest_1/gt_default.parq\n",
      "2020-04-23 01:25:02,206 - ClusterComparator - INFO - resulting 126 nodes out of 128,126\n",
      "INFO:ClusterComparator:resulting 126 nodes out of 128,126\n",
      "/opt/conda/envs/python3/lib/python3.6/site-packages/sklearn/metrics/cluster/supervised.py:859: FutureWarning: The behavior of NMI will change in version 0.22. To match the behavior of 'v_measure_score', NMI will use average_method='arithmetic' by default.\n",
      "  FutureWarning)\n",
      "2020-04-23 01:25:02,214 - ClusterComparator - INFO - Running /opt/gct/submodules/OvpNMI/onmi /tmp/tmpykcrts0a/cluster1.cnl /tmp/tmpykcrts0a/cluster2.cnl > ovpnmioutput\n",
      "INFO:ClusterComparator:Running /opt/gct/submodules/OvpNMI/onmi /tmp/tmpykcrts0a/cluster1.cnl /tmp/tmpykcrts0a/cluster2.cnl > ovpnmioutput\n",
      "2020-04-23 01:25:02,226 - ClusterComparator - INFO - resulting 127 nodes out of 128,127\n",
      "INFO:ClusterComparator:resulting 127 nodes out of 128,127\n",
      "/opt/conda/envs/python3/lib/python3.6/site-packages/sklearn/metrics/cluster/supervised.py:859: FutureWarning: The behavior of NMI will change in version 0.22. To match the behavior of 'v_measure_score', NMI will use average_method='arithmetic' by default.\n",
      "  FutureWarning)\n",
      "2020-04-23 01:25:02,236 - ClusterComparator - INFO - Running /opt/gct/submodules/OvpNMI/onmi /tmp/tmpslg42dll/cluster1.cnl /tmp/tmpslg42dll/cluster2.cnl > ovpnmioutput\n"
     ]
    },
    {
     "name": "stderr",
     "output_type": "stream",
     "text": [
      "INFO:ClusterComparator:Running /opt/gct/submodules/OvpNMI/onmi /tmp/tmpslg42dll/cluster1.cnl /tmp/tmpslg42dll/cluster2.cnl > ovpnmioutput\n",
      "2020-04-23 01:25:02,256 - ClusterComparator - INFO - resulting 126 nodes out of 126,127\n",
      "INFO:ClusterComparator:resulting 126 nodes out of 126,127\n",
      "/opt/conda/envs/python3/lib/python3.6/site-packages/sklearn/metrics/cluster/supervised.py:859: FutureWarning: The behavior of NMI will change in version 0.22. To match the behavior of 'v_measure_score', NMI will use average_method='arithmetic' by default.\n",
      "  FutureWarning)\n",
      "2020-04-23 01:25:02,267 - ClusterComparator - INFO - Running /opt/gct/submodules/OvpNMI/onmi /tmp/tmp0c3tmv_c/cluster1.cnl /tmp/tmp0c3tmv_c/cluster2.cnl > ovpnmioutput\n",
      "INFO:ClusterComparator:Running /opt/gct/submodules/OvpNMI/onmi /tmp/tmp0c3tmv_c/cluster1.cnl /tmp/tmp0c3tmv_c/cluster2.cnl > ovpnmioutput\n",
      "2020-04-23 01:25:02,281 - Clustering - INFO - reading/data/data/K_DoesAlgSupportDirTest_1/gt_default.parq\n",
      "INFO:Clustering:reading/data/data/K_DoesAlgSupportDirTest_1/gt_default.parq\n",
      "2020-04-23 01:25:02,289 - ClusterComparator - INFO - resulting 126 nodes out of 128,126\n",
      "INFO:ClusterComparator:resulting 126 nodes out of 128,126\n",
      "/opt/conda/envs/python3/lib/python3.6/site-packages/sklearn/metrics/cluster/supervised.py:859: FutureWarning: The behavior of NMI will change in version 0.22. To match the behavior of 'v_measure_score', NMI will use average_method='arithmetic' by default.\n",
      "  FutureWarning)\n",
      "2020-04-23 01:25:02,298 - ClusterComparator - INFO - Running /opt/gct/submodules/OvpNMI/onmi /tmp/tmp24x7rhpe/cluster1.cnl /tmp/tmp24x7rhpe/cluster2.cnl > ovpnmioutput\n",
      "INFO:ClusterComparator:Running /opt/gct/submodules/OvpNMI/onmi /tmp/tmp24x7rhpe/cluster1.cnl /tmp/tmp24x7rhpe/cluster2.cnl > ovpnmioutput\n",
      "2020-04-23 01:25:02,311 - ClusterComparator - INFO - resulting 127 nodes out of 128,127\n",
      "INFO:ClusterComparator:resulting 127 nodes out of 128,127\n",
      "/opt/conda/envs/python3/lib/python3.6/site-packages/sklearn/metrics/cluster/supervised.py:859: FutureWarning: The behavior of NMI will change in version 0.22. To match the behavior of 'v_measure_score', NMI will use average_method='arithmetic' by default.\n",
      "  FutureWarning)\n",
      "2020-04-23 01:25:02,322 - ClusterComparator - INFO - Running /opt/gct/submodules/OvpNMI/onmi /tmp/tmp6l02mlvg/cluster1.cnl /tmp/tmp6l02mlvg/cluster2.cnl > ovpnmioutput\n",
      "INFO:ClusterComparator:Running /opt/gct/submodules/OvpNMI/onmi /tmp/tmp6l02mlvg/cluster1.cnl /tmp/tmp6l02mlvg/cluster2.cnl > ovpnmioutput\n",
      "2020-04-23 01:25:02,343 - ClusterComparator - INFO - resulting 126 nodes out of 126,127\n",
      "INFO:ClusterComparator:resulting 126 nodes out of 126,127\n",
      "/opt/conda/envs/python3/lib/python3.6/site-packages/sklearn/metrics/cluster/supervised.py:859: FutureWarning: The behavior of NMI will change in version 0.22. To match the behavior of 'v_measure_score', NMI will use average_method='arithmetic' by default.\n",
      "  FutureWarning)\n",
      "2020-04-23 01:25:02,356 - ClusterComparator - INFO - Running /opt/gct/submodules/OvpNMI/onmi /tmp/tmp3jjr8wcd/cluster1.cnl /tmp/tmp3jjr8wcd/cluster2.cnl > ovpnmioutput\n",
      "INFO:ClusterComparator:Running /opt/gct/submodules/OvpNMI/onmi /tmp/tmp3jjr8wcd/cluster1.cnl /tmp/tmp3jjr8wcd/cluster2.cnl > ovpnmioutput\n",
      "2020-04-23 01:25:02,369 - Clustering - INFO - reading/data/data/K_DoesAlgSupportDirTest_1/gt_default.parq\n",
      "INFO:Clustering:reading/data/data/K_DoesAlgSupportDirTest_1/gt_default.parq\n",
      "2020-04-23 01:25:02,377 - ClusterComparator - INFO - resulting 126 nodes out of 128,126\n",
      "INFO:ClusterComparator:resulting 126 nodes out of 128,126\n",
      "/opt/conda/envs/python3/lib/python3.6/site-packages/sklearn/metrics/cluster/supervised.py:859: FutureWarning: The behavior of NMI will change in version 0.22. To match the behavior of 'v_measure_score', NMI will use average_method='arithmetic' by default.\n",
      "  FutureWarning)\n",
      "2020-04-23 01:25:02,386 - ClusterComparator - INFO - Running /opt/gct/submodules/OvpNMI/onmi /tmp/tmp2elkx4uz/cluster1.cnl /tmp/tmp2elkx4uz/cluster2.cnl > ovpnmioutput\n",
      "INFO:ClusterComparator:Running /opt/gct/submodules/OvpNMI/onmi /tmp/tmp2elkx4uz/cluster1.cnl /tmp/tmp2elkx4uz/cluster2.cnl > ovpnmioutput\n",
      "2020-04-23 01:25:02,400 - ClusterComparator - INFO - resulting 127 nodes out of 128,127\n",
      "INFO:ClusterComparator:resulting 127 nodes out of 128,127\n",
      "/opt/conda/envs/python3/lib/python3.6/site-packages/sklearn/metrics/cluster/supervised.py:859: FutureWarning: The behavior of NMI will change in version 0.22. To match the behavior of 'v_measure_score', NMI will use average_method='arithmetic' by default.\n",
      "  FutureWarning)\n",
      "2020-04-23 01:25:02,411 - ClusterComparator - INFO - Running /opt/gct/submodules/OvpNMI/onmi /tmp/tmpgy3mfr4k/cluster1.cnl /tmp/tmpgy3mfr4k/cluster2.cnl > ovpnmioutput\n",
      "INFO:ClusterComparator:Running /opt/gct/submodules/OvpNMI/onmi /tmp/tmpgy3mfr4k/cluster1.cnl /tmp/tmpgy3mfr4k/cluster2.cnl > ovpnmioutput\n",
      "2020-04-23 01:25:02,431 - ClusterComparator - INFO - resulting 128 nodes out of 128,128\n",
      "INFO:ClusterComparator:resulting 128 nodes out of 128,128\n",
      "/opt/conda/envs/python3/lib/python3.6/site-packages/sklearn/metrics/cluster/supervised.py:859: FutureWarning: The behavior of NMI will change in version 0.22. To match the behavior of 'v_measure_score', NMI will use average_method='arithmetic' by default.\n",
      "  FutureWarning)\n",
      "2020-04-23 01:25:02,442 - ClusterComparator - INFO - Running /opt/gct/submodules/OvpNMI/onmi /tmp/tmpbvfvld29/cluster1.cnl /tmp/tmpbvfvld29/cluster2.cnl > ovpnmioutput\n",
      "INFO:ClusterComparator:Running /opt/gct/submodules/OvpNMI/onmi /tmp/tmpbvfvld29/cluster1.cnl /tmp/tmpbvfvld29/cluster2.cnl > ovpnmioutput\n",
      "2020-04-23 01:25:02,455 - Clustering - INFO - reading/data/data/K_DoesAlgSupportDirTest_1/gt_default.parq\n",
      "INFO:Clustering:reading/data/data/K_DoesAlgSupportDirTest_1/gt_default.parq\n",
      "2020-04-23 01:25:02,462 - ClusterComparator - INFO - resulting 128 nodes out of 128,128\n",
      "INFO:ClusterComparator:resulting 128 nodes out of 128,128\n",
      "/opt/conda/envs/python3/lib/python3.6/site-packages/sklearn/metrics/cluster/supervised.py:859: FutureWarning: The behavior of NMI will change in version 0.22. To match the behavior of 'v_measure_score', NMI will use average_method='arithmetic' by default.\n",
      "  FutureWarning)\n",
      "2020-04-23 01:25:02,471 - ClusterComparator - INFO - Running /opt/gct/submodules/OvpNMI/onmi /tmp/tmptrt98n8s/cluster1.cnl /tmp/tmptrt98n8s/cluster2.cnl > ovpnmioutput\n",
      "INFO:ClusterComparator:Running /opt/gct/submodules/OvpNMI/onmi /tmp/tmptrt98n8s/cluster1.cnl /tmp/tmptrt98n8s/cluster2.cnl > ovpnmioutput\n",
      "2020-04-23 01:25:02,484 - ClusterComparator - INFO - resulting 128 nodes out of 128,128\n",
      "INFO:ClusterComparator:resulting 128 nodes out of 128,128\n",
      "/opt/conda/envs/python3/lib/python3.6/site-packages/sklearn/metrics/cluster/supervised.py:859: FutureWarning: The behavior of NMI will change in version 0.22. To match the behavior of 'v_measure_score', NMI will use average_method='arithmetic' by default.\n",
      "  FutureWarning)\n",
      "2020-04-23 01:25:02,495 - ClusterComparator - INFO - Running /opt/gct/submodules/OvpNMI/onmi /tmp/tmpjkhij8mv/cluster1.cnl /tmp/tmpjkhij8mv/cluster2.cnl > ovpnmioutput\n",
      "INFO:ClusterComparator:Running /opt/gct/submodules/OvpNMI/onmi /tmp/tmpjkhij8mv/cluster1.cnl /tmp/tmpjkhij8mv/cluster2.cnl > ovpnmioutput\n",
      "2020-04-23 01:25:02,515 - ClusterComparator - INFO - resulting 128 nodes out of 128,128\n",
      "INFO:ClusterComparator:resulting 128 nodes out of 128,128\n",
      "/opt/conda/envs/python3/lib/python3.6/site-packages/sklearn/metrics/cluster/supervised.py:859: FutureWarning: The behavior of NMI will change in version 0.22. To match the behavior of 'v_measure_score', NMI will use average_method='arithmetic' by default.\n",
      "  FutureWarning)\n",
      "2020-04-23 01:25:02,527 - ClusterComparator - INFO - Running /opt/gct/submodules/OvpNMI/onmi /tmp/tmpkxwy4my5/cluster1.cnl /tmp/tmpkxwy4my5/cluster2.cnl > ovpnmioutput\n",
      "INFO:ClusterComparator:Running /opt/gct/submodules/OvpNMI/onmi /tmp/tmpkxwy4my5/cluster1.cnl /tmp/tmpkxwy4my5/cluster2.cnl > ovpnmioutput\n",
      "2020-04-23 01:25:02,540 - Clustering - INFO - reading/data/data/K_DoesAlgSupportDirTest_1/gt_default.parq\n",
      "INFO:Clustering:reading/data/data/K_DoesAlgSupportDirTest_1/gt_default.parq\n",
      "2020-04-23 01:25:02,548 - ClusterComparator - INFO - resulting 128 nodes out of 128,128\n"
     ]
    },
    {
     "name": "stderr",
     "output_type": "stream",
     "text": [
      "INFO:ClusterComparator:resulting 128 nodes out of 128,128\n",
      "/opt/conda/envs/python3/lib/python3.6/site-packages/sklearn/metrics/cluster/supervised.py:859: FutureWarning: The behavior of NMI will change in version 0.22. To match the behavior of 'v_measure_score', NMI will use average_method='arithmetic' by default.\n",
      "  FutureWarning)\n",
      "2020-04-23 01:25:02,557 - ClusterComparator - INFO - Running /opt/gct/submodules/OvpNMI/onmi /tmp/tmp0vowsi2c/cluster1.cnl /tmp/tmp0vowsi2c/cluster2.cnl > ovpnmioutput\n",
      "INFO:ClusterComparator:Running /opt/gct/submodules/OvpNMI/onmi /tmp/tmp0vowsi2c/cluster1.cnl /tmp/tmp0vowsi2c/cluster2.cnl > ovpnmioutput\n",
      "2020-04-23 01:25:02,570 - ClusterComparator - INFO - resulting 128 nodes out of 128,128\n",
      "INFO:ClusterComparator:resulting 128 nodes out of 128,128\n",
      "/opt/conda/envs/python3/lib/python3.6/site-packages/sklearn/metrics/cluster/supervised.py:859: FutureWarning: The behavior of NMI will change in version 0.22. To match the behavior of 'v_measure_score', NMI will use average_method='arithmetic' by default.\n",
      "  FutureWarning)\n",
      "2020-04-23 01:25:02,581 - ClusterComparator - INFO - Running /opt/gct/submodules/OvpNMI/onmi /tmp/tmp_1h8lvs1/cluster1.cnl /tmp/tmp_1h8lvs1/cluster2.cnl > ovpnmioutput\n",
      "INFO:ClusterComparator:Running /opt/gct/submodules/OvpNMI/onmi /tmp/tmp_1h8lvs1/cluster1.cnl /tmp/tmp_1h8lvs1/cluster2.cnl > ovpnmioutput\n",
      "2020-04-23 01:25:02,601 - ClusterComparator - INFO - resulting 128 nodes out of 128,128\n",
      "INFO:ClusterComparator:resulting 128 nodes out of 128,128\n",
      "/opt/conda/envs/python3/lib/python3.6/site-packages/sklearn/metrics/cluster/supervised.py:859: FutureWarning: The behavior of NMI will change in version 0.22. To match the behavior of 'v_measure_score', NMI will use average_method='arithmetic' by default.\n",
      "  FutureWarning)\n",
      "2020-04-23 01:25:02,612 - ClusterComparator - INFO - Running /opt/gct/submodules/OvpNMI/onmi /tmp/tmpcv3iednq/cluster1.cnl /tmp/tmpcv3iednq/cluster2.cnl > ovpnmioutput\n",
      "INFO:ClusterComparator:Running /opt/gct/submodules/OvpNMI/onmi /tmp/tmpcv3iednq/cluster1.cnl /tmp/tmpcv3iednq/cluster2.cnl > ovpnmioutput\n",
      "2020-04-23 01:25:02,625 - Clustering - INFO - reading/data/data/K_DoesAlgSupportDirTest_1/gt_default.parq\n",
      "INFO:Clustering:reading/data/data/K_DoesAlgSupportDirTest_1/gt_default.parq\n",
      "2020-04-23 01:25:02,632 - ClusterComparator - INFO - resulting 128 nodes out of 128,128\n",
      "INFO:ClusterComparator:resulting 128 nodes out of 128,128\n",
      "/opt/conda/envs/python3/lib/python3.6/site-packages/sklearn/metrics/cluster/supervised.py:859: FutureWarning: The behavior of NMI will change in version 0.22. To match the behavior of 'v_measure_score', NMI will use average_method='arithmetic' by default.\n",
      "  FutureWarning)\n",
      "2020-04-23 01:25:02,641 - ClusterComparator - INFO - Running /opt/gct/submodules/OvpNMI/onmi /tmp/tmpe6o28kx9/cluster1.cnl /tmp/tmpe6o28kx9/cluster2.cnl > ovpnmioutput\n",
      "INFO:ClusterComparator:Running /opt/gct/submodules/OvpNMI/onmi /tmp/tmpe6o28kx9/cluster1.cnl /tmp/tmpe6o28kx9/cluster2.cnl > ovpnmioutput\n",
      "2020-04-23 01:25:02,653 - ClusterComparator - INFO - resulting 128 nodes out of 128,128\n",
      "INFO:ClusterComparator:resulting 128 nodes out of 128,128\n",
      "/opt/conda/envs/python3/lib/python3.6/site-packages/sklearn/metrics/cluster/supervised.py:859: FutureWarning: The behavior of NMI will change in version 0.22. To match the behavior of 'v_measure_score', NMI will use average_method='arithmetic' by default.\n",
      "  FutureWarning)\n",
      "2020-04-23 01:25:02,663 - ClusterComparator - INFO - Running /opt/gct/submodules/OvpNMI/onmi /tmp/tmpea4nfu36/cluster1.cnl /tmp/tmpea4nfu36/cluster2.cnl > ovpnmioutput\n",
      "INFO:ClusterComparator:Running /opt/gct/submodules/OvpNMI/onmi /tmp/tmpea4nfu36/cluster1.cnl /tmp/tmpea4nfu36/cluster2.cnl > ovpnmioutput\n",
      "2020-04-23 01:25:02,682 - ClusterComparator - INFO - resulting 128 nodes out of 128,128\n",
      "INFO:ClusterComparator:resulting 128 nodes out of 128,128\n",
      "/opt/conda/envs/python3/lib/python3.6/site-packages/sklearn/metrics/cluster/supervised.py:859: FutureWarning: The behavior of NMI will change in version 0.22. To match the behavior of 'v_measure_score', NMI will use average_method='arithmetic' by default.\n",
      "  FutureWarning)\n",
      "2020-04-23 01:25:02,704 - ClusterComparator - INFO - Running /opt/gct/submodules/OvpNMI/onmi /tmp/tmp0zjpwzw6/cluster1.cnl /tmp/tmp0zjpwzw6/cluster2.cnl > ovpnmioutput\n",
      "INFO:ClusterComparator:Running /opt/gct/submodules/OvpNMI/onmi /tmp/tmp0zjpwzw6/cluster1.cnl /tmp/tmp0zjpwzw6/cluster2.cnl > ovpnmioutput\n",
      "2020-04-23 01:25:02,718 - Clustering - INFO - reading/data/data/K_DoesAlgSupportDirTest_1/gt_default.parq\n",
      "INFO:Clustering:reading/data/data/K_DoesAlgSupportDirTest_1/gt_default.parq\n",
      "2020-04-23 01:25:02,725 - ClusterComparator - INFO - resulting 128 nodes out of 128,128\n",
      "INFO:ClusterComparator:resulting 128 nodes out of 128,128\n",
      "/opt/conda/envs/python3/lib/python3.6/site-packages/sklearn/metrics/cluster/supervised.py:859: FutureWarning: The behavior of NMI will change in version 0.22. To match the behavior of 'v_measure_score', NMI will use average_method='arithmetic' by default.\n",
      "  FutureWarning)\n",
      "2020-04-23 01:25:02,739 - ClusterComparator - INFO - Running /opt/gct/submodules/OvpNMI/onmi /tmp/tmpagq5vtci/cluster1.cnl /tmp/tmpagq5vtci/cluster2.cnl > ovpnmioutput\n",
      "INFO:ClusterComparator:Running /opt/gct/submodules/OvpNMI/onmi /tmp/tmpagq5vtci/cluster1.cnl /tmp/tmpagq5vtci/cluster2.cnl > ovpnmioutput\n",
      "2020-04-23 01:25:02,751 - ClusterComparator - ERROR - Run command with error status code 134\n",
      "ERROR:ClusterComparator:Run command with error status code 134\n",
      "2020-04-23 01:25:02,754 - ClusterComparator - INFO - resulting 128 nodes out of 128,128\n",
      "INFO:ClusterComparator:resulting 128 nodes out of 128,128\n",
      "/opt/conda/envs/python3/lib/python3.6/site-packages/sklearn/metrics/cluster/supervised.py:859: FutureWarning: The behavior of NMI will change in version 0.22. To match the behavior of 'v_measure_score', NMI will use average_method='arithmetic' by default.\n",
      "  FutureWarning)\n",
      "2020-04-23 01:25:02,770 - ClusterComparator - INFO - Running /opt/gct/submodules/OvpNMI/onmi /tmp/tmptdevwx8e/cluster1.cnl /tmp/tmptdevwx8e/cluster2.cnl > ovpnmioutput\n",
      "INFO:ClusterComparator:Running /opt/gct/submodules/OvpNMI/onmi /tmp/tmptdevwx8e/cluster1.cnl /tmp/tmptdevwx8e/cluster2.cnl > ovpnmioutput\n",
      "2020-04-23 01:25:02,782 - ClusterComparator - ERROR - Run command with error status code 134\n",
      "ERROR:ClusterComparator:Run command with error status code 134\n"
     ]
    }
   ],
   "source": [
    "import pandas as pd\n",
    "lst = [];\n",
    "for alg in  gct.list_algorithms():\n",
    "    for dsname in datasets:\n",
    "        if dsname.startswith(prefix + '_1'):\n",
    "            a = [];columns = []\n",
    "            dsname2 = dsname.replace(prefix + \"_1\", prefix + \"_2\")\n",
    "            a += [alg, dsname, dsname2]\n",
    "            columns += ['alg', 'data1', 'data2']\n",
    "            if dsname + alg in results and dsname2 + alg in results:\n",
    "                cluster1 = gct.to_cluster(results[dsname + alg])\n",
    "                cluster2 = gct.to_cluster(results[dsname2 + alg])\n",
    "                compa = gct.ClusterComparator(cluster1, cluster2)\n",
    "                a += [compa.sklean_nmi(), cluster1.is_overlap, cluster2.is_overlap,\n",
    "                      cluster1.num_cluster, cluster2.num_cluster,\n",
    "                     compa.OvpNMI()['NMImax']]\n",
    "                columns += ['nmi_12', 'ovp1', 'ovp2', \"#c1\", \"#c2\", 'ovpnmi_12']\n",
    "\n",
    "                gt = list(gct.load_local_graph(dsname).get_ground_truth().values())[0]            \n",
    "                compa = gct.ClusterComparator(gt, cluster1)            \n",
    "                a += [compa.sklean_nmi(), compa.OvpNMI()['NMImax']]\n",
    "                columns += ['nmi_t1', 'ovpnmi_t1']\n",
    "\n",
    "                compa = gct.ClusterComparator(gt, cluster2)            \n",
    "                a += [compa.sklean_nmi(), compa.OvpNMI()['NMImax']]\n",
    "                columns += ['nmi_t2', 'ovpnmi_t2']\n",
    "\n",
    "                lst.append(a)\n",
    "\n"
   ]
  },
  {
   "cell_type": "code",
   "execution_count": 17,
   "metadata": {
    "scrolled": false
   },
   "outputs": [
    {
     "data": {
      "text/html": [
       "<div>\n",
       "<style scoped>\n",
       "    .dataframe tbody tr th:only-of-type {\n",
       "        vertical-align: middle;\n",
       "    }\n",
       "\n",
       "    .dataframe tbody tr th {\n",
       "        vertical-align: top;\n",
       "    }\n",
       "\n",
       "    .dataframe thead th {\n",
       "        text-align: right;\n",
       "    }\n",
       "</style>\n",
       "<table border=\"1\" class=\"dataframe\">\n",
       "  <thead>\n",
       "    <tr style=\"text-align: right;\">\n",
       "      <th></th>\n",
       "      <th>alg</th>\n",
       "      <th>data1</th>\n",
       "      <th>data2</th>\n",
       "      <th>nmi_12</th>\n",
       "      <th>ovp1</th>\n",
       "      <th>ovp2</th>\n",
       "      <th>#c1</th>\n",
       "      <th>#c2</th>\n",
       "      <th>ovpnmi_12</th>\n",
       "      <th>nmi_t1</th>\n",
       "      <th>ovpnmi_t1</th>\n",
       "      <th>nmi_t2</th>\n",
       "      <th>ovpnmi_t2</th>\n",
       "    </tr>\n",
       "  </thead>\n",
       "  <tbody>\n",
       "    <tr>\n",
       "      <th>0</th>\n",
       "      <td>oslom_Infohiermap</td>\n",
       "      <td>K_DoesAlgSupportDirTest_1</td>\n",
       "      <td>K_DoesAlgSupportDirTest_2</td>\n",
       "      <td>0.075965</td>\n",
       "      <td>False</td>\n",
       "      <td>False</td>\n",
       "      <td>6.0</td>\n",
       "      <td>6.0</td>\n",
       "      <td>NaN</td>\n",
       "      <td>0.075965</td>\n",
       "      <td>NaN</td>\n",
       "      <td>1.000000</td>\n",
       "      <td>1.000000</td>\n",
       "    </tr>\n",
       "    <tr>\n",
       "      <th>1</th>\n",
       "      <td>oslom_Infomap</td>\n",
       "      <td>K_DoesAlgSupportDirTest_1</td>\n",
       "      <td>K_DoesAlgSupportDirTest_2</td>\n",
       "      <td>0.919378</td>\n",
       "      <td>False</td>\n",
       "      <td>False</td>\n",
       "      <td>6.0</td>\n",
       "      <td>5.0</td>\n",
       "      <td>0.815637</td>\n",
       "      <td>1.000000</td>\n",
       "      <td>1.000000</td>\n",
       "      <td>0.919378</td>\n",
       "      <td>0.815637</td>\n",
       "    </tr>\n",
       "    <tr>\n",
       "      <th>2</th>\n",
       "      <td>oslom_OSLOM</td>\n",
       "      <td>K_DoesAlgSupportDirTest_1</td>\n",
       "      <td>K_DoesAlgSupportDirTest_2</td>\n",
       "      <td>1.000000</td>\n",
       "      <td>False</td>\n",
       "      <td>False</td>\n",
       "      <td>6.0</td>\n",
       "      <td>6.0</td>\n",
       "      <td>1.000000</td>\n",
       "      <td>1.000000</td>\n",
       "      <td>1.000000</td>\n",
       "      <td>1.000000</td>\n",
       "      <td>1.000000</td>\n",
       "    </tr>\n",
       "    <tr>\n",
       "      <th>3</th>\n",
       "      <td>oslom_copra</td>\n",
       "      <td>K_DoesAlgSupportDirTest_1</td>\n",
       "      <td>K_DoesAlgSupportDirTest_2</td>\n",
       "      <td>0.761741</td>\n",
       "      <td>True</td>\n",
       "      <td>True</td>\n",
       "      <td>6.0</td>\n",
       "      <td>5.0</td>\n",
       "      <td>0.719643</td>\n",
       "      <td>0.953598</td>\n",
       "      <td>0.903898</td>\n",
       "      <td>0.843911</td>\n",
       "      <td>0.740825</td>\n",
       "    </tr>\n",
       "    <tr>\n",
       "      <th>4</th>\n",
       "      <td>oslom_louvain_method</td>\n",
       "      <td>K_DoesAlgSupportDirTest_1</td>\n",
       "      <td>K_DoesAlgSupportDirTest_2</td>\n",
       "      <td>1.000000</td>\n",
       "      <td>False</td>\n",
       "      <td>False</td>\n",
       "      <td>6.0</td>\n",
       "      <td>6.0</td>\n",
       "      <td>1.000000</td>\n",
       "      <td>1.000000</td>\n",
       "      <td>1.000000</td>\n",
       "      <td>1.000000</td>\n",
       "      <td>1.000000</td>\n",
       "    </tr>\n",
       "    <tr>\n",
       "      <th>5</th>\n",
       "      <td>oslom_lpm</td>\n",
       "      <td>K_DoesAlgSupportDirTest_1</td>\n",
       "      <td>K_DoesAlgSupportDirTest_2</td>\n",
       "      <td>1.000000</td>\n",
       "      <td>False</td>\n",
       "      <td>False</td>\n",
       "      <td>4.0</td>\n",
       "      <td>4.0</td>\n",
       "      <td>1.000000</td>\n",
       "      <td>0.885272</td>\n",
       "      <td>0.714824</td>\n",
       "      <td>0.885272</td>\n",
       "      <td>0.714824</td>\n",
       "    </tr>\n",
       "    <tr>\n",
       "      <th>6</th>\n",
       "      <td>oslom_modopt</td>\n",
       "      <td>K_DoesAlgSupportDirTest_1</td>\n",
       "      <td>K_DoesAlgSupportDirTest_2</td>\n",
       "      <td>1.000000</td>\n",
       "      <td>False</td>\n",
       "      <td>False</td>\n",
       "      <td>6.0</td>\n",
       "      <td>6.0</td>\n",
       "      <td>1.000000</td>\n",
       "      <td>1.000000</td>\n",
       "      <td>1.000000</td>\n",
       "      <td>1.000000</td>\n",
       "      <td>1.000000</td>\n",
       "    </tr>\n",
       "    <tr>\n",
       "      <th>7</th>\n",
       "      <td>pycabem_GANXiSw</td>\n",
       "      <td>K_DoesAlgSupportDirTest_1</td>\n",
       "      <td>K_DoesAlgSupportDirTest_2</td>\n",
       "      <td>0.629455</td>\n",
       "      <td>False</td>\n",
       "      <td>False</td>\n",
       "      <td>6.0</td>\n",
       "      <td>2.0</td>\n",
       "      <td>0.303508</td>\n",
       "      <td>1.000000</td>\n",
       "      <td>1.000000</td>\n",
       "      <td>0.629455</td>\n",
       "      <td>0.303508</td>\n",
       "    </tr>\n",
       "    <tr>\n",
       "      <th>8</th>\n",
       "      <td>pycabem_HiReCS</td>\n",
       "      <td>K_DoesAlgSupportDirTest_1</td>\n",
       "      <td>K_DoesAlgSupportDirTest_2</td>\n",
       "      <td>0.906737</td>\n",
       "      <td>True</td>\n",
       "      <td>True</td>\n",
       "      <td>6.0</td>\n",
       "      <td>5.0</td>\n",
       "      <td>0.796104</td>\n",
       "      <td>0.074949</td>\n",
       "      <td>NaN</td>\n",
       "      <td>0.069614</td>\n",
       "      <td>NaN</td>\n",
       "    </tr>\n",
       "    <tr>\n",
       "      <th>9</th>\n",
       "      <td>pycabem_LabelRank</td>\n",
       "      <td>K_DoesAlgSupportDirTest_1</td>\n",
       "      <td>K_DoesAlgSupportDirTest_2</td>\n",
       "      <td>1.000000</td>\n",
       "      <td>False</td>\n",
       "      <td>False</td>\n",
       "      <td>6.0</td>\n",
       "      <td>6.0</td>\n",
       "      <td>1.000000</td>\n",
       "      <td>1.000000</td>\n",
       "      <td>1.000000</td>\n",
       "      <td>1.000000</td>\n",
       "      <td>1.000000</td>\n",
       "    </tr>\n",
       "    <tr>\n",
       "      <th>10</th>\n",
       "      <td>cdc_CONGA</td>\n",
       "      <td>K_DoesAlgSupportDirTest_1</td>\n",
       "      <td>K_DoesAlgSupportDirTest_2</td>\n",
       "      <td>0.322142</td>\n",
       "      <td>True</td>\n",
       "      <td>True</td>\n",
       "      <td>5.0</td>\n",
       "      <td>5.0</td>\n",
       "      <td>1.000000</td>\n",
       "      <td>0.420277</td>\n",
       "      <td>0.490367</td>\n",
       "      <td>0.369805</td>\n",
       "      <td>0.490367</td>\n",
       "    </tr>\n",
       "    <tr>\n",
       "      <th>11</th>\n",
       "      <td>cdc_Connected_Iterative_Scan</td>\n",
       "      <td>K_DoesAlgSupportDirTest_1</td>\n",
       "      <td>K_DoesAlgSupportDirTest_2</td>\n",
       "      <td>0.801471</td>\n",
       "      <td>True</td>\n",
       "      <td>True</td>\n",
       "      <td>8.0</td>\n",
       "      <td>8.0</td>\n",
       "      <td>1.000000</td>\n",
       "      <td>0.873200</td>\n",
       "      <td>0.849179</td>\n",
       "      <td>0.865133</td>\n",
       "      <td>0.849179</td>\n",
       "    </tr>\n",
       "    <tr>\n",
       "      <th>12</th>\n",
       "      <td>cdc_EAGLE</td>\n",
       "      <td>K_DoesAlgSupportDirTest_1</td>\n",
       "      <td>K_DoesAlgSupportDirTest_2</td>\n",
       "      <td>0.441249</td>\n",
       "      <td>True</td>\n",
       "      <td>True</td>\n",
       "      <td>17.0</td>\n",
       "      <td>7.0</td>\n",
       "      <td>0.580239</td>\n",
       "      <td>0.166773</td>\n",
       "      <td>NaN</td>\n",
       "      <td>0.088869</td>\n",
       "      <td>0.003747</td>\n",
       "    </tr>\n",
       "    <tr>\n",
       "      <th>13</th>\n",
       "      <td>cdc_FastCpm</td>\n",
       "      <td>K_DoesAlgSupportDirTest_1</td>\n",
       "      <td>K_DoesAlgSupportDirTest_2</td>\n",
       "      <td>1.000000</td>\n",
       "      <td>False</td>\n",
       "      <td>False</td>\n",
       "      <td>1.0</td>\n",
       "      <td>1.0</td>\n",
       "      <td>NaN</td>\n",
       "      <td>-2.125000</td>\n",
       "      <td>NaN</td>\n",
       "      <td>-2.125000</td>\n",
       "      <td>NaN</td>\n",
       "    </tr>\n",
       "    <tr>\n",
       "      <th>14</th>\n",
       "      <td>cdc_GCE</td>\n",
       "      <td>K_DoesAlgSupportDirTest_1</td>\n",
       "      <td>K_DoesAlgSupportDirTest_2</td>\n",
       "      <td>1.000000</td>\n",
       "      <td>False</td>\n",
       "      <td>False</td>\n",
       "      <td>6.0</td>\n",
       "      <td>6.0</td>\n",
       "      <td>1.000000</td>\n",
       "      <td>1.000000</td>\n",
       "      <td>1.000000</td>\n",
       "      <td>1.000000</td>\n",
       "      <td>1.000000</td>\n",
       "    </tr>\n",
       "    <tr>\n",
       "      <th>15</th>\n",
       "      <td>cdc_LinkCommunities</td>\n",
       "      <td>K_DoesAlgSupportDirTest_1</td>\n",
       "      <td>K_DoesAlgSupportDirTest_2</td>\n",
       "      <td>0.000000</td>\n",
       "      <td>True</td>\n",
       "      <td>False</td>\n",
       "      <td>553.0</td>\n",
       "      <td>1.0</td>\n",
       "      <td>NaN</td>\n",
       "      <td>0.559379</td>\n",
       "      <td>0.000731</td>\n",
       "      <td>-2.125000</td>\n",
       "      <td>NaN</td>\n",
       "    </tr>\n",
       "    <tr>\n",
       "      <th>16</th>\n",
       "      <td>cdc_MOSES</td>\n",
       "      <td>K_DoesAlgSupportDirTest_1</td>\n",
       "      <td>K_DoesAlgSupportDirTest_2</td>\n",
       "      <td>1.000000</td>\n",
       "      <td>False</td>\n",
       "      <td>False</td>\n",
       "      <td>6.0</td>\n",
       "      <td>6.0</td>\n",
       "      <td>1.000000</td>\n",
       "      <td>1.000000</td>\n",
       "      <td>1.000000</td>\n",
       "      <td>1.000000</td>\n",
       "      <td>1.000000</td>\n",
       "    </tr>\n",
       "    <tr>\n",
       "      <th>17</th>\n",
       "      <td>cdc_MSCD_AFG</td>\n",
       "      <td>K_DoesAlgSupportDirTest_1</td>\n",
       "      <td>K_DoesAlgSupportDirTest_2</td>\n",
       "      <td>0.982284</td>\n",
       "      <td>False</td>\n",
       "      <td>False</td>\n",
       "      <td>6.0</td>\n",
       "      <td>6.0</td>\n",
       "      <td>0.970378</td>\n",
       "      <td>0.073554</td>\n",
       "      <td>NaN</td>\n",
       "      <td>0.074949</td>\n",
       "      <td>NaN</td>\n",
       "    </tr>\n",
       "    <tr>\n",
       "      <th>18</th>\n",
       "      <td>cdc_MSCD_HSLSW</td>\n",
       "      <td>K_DoesAlgSupportDirTest_1</td>\n",
       "      <td>K_DoesAlgSupportDirTest_2</td>\n",
       "      <td>1.000000</td>\n",
       "      <td>False</td>\n",
       "      <td>False</td>\n",
       "      <td>6.0</td>\n",
       "      <td>6.0</td>\n",
       "      <td>1.000000</td>\n",
       "      <td>0.074949</td>\n",
       "      <td>NaN</td>\n",
       "      <td>0.074949</td>\n",
       "      <td>NaN</td>\n",
       "    </tr>\n",
       "    <tr>\n",
       "      <th>19</th>\n",
       "      <td>cdc_MSCD_LFK</td>\n",
       "      <td>K_DoesAlgSupportDirTest_1</td>\n",
       "      <td>K_DoesAlgSupportDirTest_2</td>\n",
       "      <td>1.000000</td>\n",
       "      <td>False</td>\n",
       "      <td>False</td>\n",
       "      <td>6.0</td>\n",
       "      <td>6.0</td>\n",
       "      <td>0.983088</td>\n",
       "      <td>0.075470</td>\n",
       "      <td>NaN</td>\n",
       "      <td>0.074949</td>\n",
       "      <td>NaN</td>\n",
       "    </tr>\n",
       "    <tr>\n",
       "      <th>20</th>\n",
       "      <td>cdc_MSCD_LFK2</td>\n",
       "      <td>K_DoesAlgSupportDirTest_1</td>\n",
       "      <td>K_DoesAlgSupportDirTest_2</td>\n",
       "      <td>1.000000</td>\n",
       "      <td>False</td>\n",
       "      <td>True</td>\n",
       "      <td>6.0</td>\n",
       "      <td>7.0</td>\n",
       "      <td>0.797792</td>\n",
       "      <td>0.075470</td>\n",
       "      <td>NaN</td>\n",
       "      <td>0.079464</td>\n",
       "      <td>NaN</td>\n",
       "    </tr>\n",
       "    <tr>\n",
       "      <th>21</th>\n",
       "      <td>cdc_MSCD_RB</td>\n",
       "      <td>K_DoesAlgSupportDirTest_1</td>\n",
       "      <td>K_DoesAlgSupportDirTest_2</td>\n",
       "      <td>0.982284</td>\n",
       "      <td>False</td>\n",
       "      <td>False</td>\n",
       "      <td>6.0</td>\n",
       "      <td>6.0</td>\n",
       "      <td>0.970378</td>\n",
       "      <td>0.073554</td>\n",
       "      <td>NaN</td>\n",
       "      <td>0.074949</td>\n",
       "      <td>NaN</td>\n",
       "    </tr>\n",
       "    <tr>\n",
       "      <th>22</th>\n",
       "      <td>cdc_MSCD_RN</td>\n",
       "      <td>K_DoesAlgSupportDirTest_1</td>\n",
       "      <td>K_DoesAlgSupportDirTest_2</td>\n",
       "      <td>1.000000</td>\n",
       "      <td>False</td>\n",
       "      <td>False</td>\n",
       "      <td>6.0</td>\n",
       "      <td>6.0</td>\n",
       "      <td>1.000000</td>\n",
       "      <td>0.074949</td>\n",
       "      <td>NaN</td>\n",
       "      <td>0.074949</td>\n",
       "      <td>NaN</td>\n",
       "    </tr>\n",
       "    <tr>\n",
       "      <th>23</th>\n",
       "      <td>cdc_MSCD_SO</td>\n",
       "      <td>K_DoesAlgSupportDirTest_1</td>\n",
       "      <td>K_DoesAlgSupportDirTest_2</td>\n",
       "      <td>0.982284</td>\n",
       "      <td>False</td>\n",
       "      <td>False</td>\n",
       "      <td>6.0</td>\n",
       "      <td>6.0</td>\n",
       "      <td>0.970378</td>\n",
       "      <td>0.073554</td>\n",
       "      <td>NaN</td>\n",
       "      <td>0.074949</td>\n",
       "      <td>NaN</td>\n",
       "    </tr>\n",
       "    <tr>\n",
       "      <th>24</th>\n",
       "      <td>cdc_MSCD_SOM</td>\n",
       "      <td>K_DoesAlgSupportDirTest_1</td>\n",
       "      <td>K_DoesAlgSupportDirTest_2</td>\n",
       "      <td>0.982284</td>\n",
       "      <td>False</td>\n",
       "      <td>False</td>\n",
       "      <td>6.0</td>\n",
       "      <td>6.0</td>\n",
       "      <td>0.970378</td>\n",
       "      <td>0.073554</td>\n",
       "      <td>NaN</td>\n",
       "      <td>0.074949</td>\n",
       "      <td>NaN</td>\n",
       "    </tr>\n",
       "    <tr>\n",
       "      <th>25</th>\n",
       "      <td>cdc_ParCPM</td>\n",
       "      <td>K_DoesAlgSupportDirTest_1</td>\n",
       "      <td>K_DoesAlgSupportDirTest_2</td>\n",
       "      <td>1.000000</td>\n",
       "      <td>False</td>\n",
       "      <td>False</td>\n",
       "      <td>1.0</td>\n",
       "      <td>1.0</td>\n",
       "      <td>NaN</td>\n",
       "      <td>-2.125000</td>\n",
       "      <td>NaN</td>\n",
       "      <td>-2.125000</td>\n",
       "      <td>NaN</td>\n",
       "    </tr>\n",
       "    <tr>\n",
       "      <th>26</th>\n",
       "      <td>cdc_SVINET</td>\n",
       "      <td>K_DoesAlgSupportDirTest_1</td>\n",
       "      <td>K_DoesAlgSupportDirTest_2</td>\n",
       "      <td>0.176086</td>\n",
       "      <td>True</td>\n",
       "      <td>True</td>\n",
       "      <td>4.0</td>\n",
       "      <td>4.0</td>\n",
       "      <td>0.560203</td>\n",
       "      <td>0.279167</td>\n",
       "      <td>0.267052</td>\n",
       "      <td>0.263322</td>\n",
       "      <td>0.305684</td>\n",
       "    </tr>\n",
       "    <tr>\n",
       "      <th>27</th>\n",
       "      <td>cdc_TopGC</td>\n",
       "      <td>K_DoesAlgSupportDirTest_1</td>\n",
       "      <td>K_DoesAlgSupportDirTest_2</td>\n",
       "      <td>0.812748</td>\n",
       "      <td>True</td>\n",
       "      <td>True</td>\n",
       "      <td>7.0</td>\n",
       "      <td>9.0</td>\n",
       "      <td>0.139676</td>\n",
       "      <td>0.916312</td>\n",
       "      <td>0.409096</td>\n",
       "      <td>0.836690</td>\n",
       "      <td>0.421332</td>\n",
       "    </tr>\n",
       "    <tr>\n",
       "      <th>28</th>\n",
       "      <td>cdc_clique_modularity</td>\n",
       "      <td>K_DoesAlgSupportDirTest_1</td>\n",
       "      <td>K_DoesAlgSupportDirTest_2</td>\n",
       "      <td>1.000000</td>\n",
       "      <td>False</td>\n",
       "      <td>False</td>\n",
       "      <td>10.0</td>\n",
       "      <td>10.0</td>\n",
       "      <td>1.000000</td>\n",
       "      <td>0.953704</td>\n",
       "      <td>0.882295</td>\n",
       "      <td>0.953704</td>\n",
       "      <td>0.882295</td>\n",
       "    </tr>\n",
       "    <tr>\n",
       "      <th>29</th>\n",
       "      <td>cgcc_CGGC</td>\n",
       "      <td>K_DoesAlgSupportDirTest_1</td>\n",
       "      <td>K_DoesAlgSupportDirTest_2</td>\n",
       "      <td>1.000000</td>\n",
       "      <td>False</td>\n",
       "      <td>False</td>\n",
       "      <td>5.0</td>\n",
       "      <td>5.0</td>\n",
       "      <td>1.000000</td>\n",
       "      <td>0.959065</td>\n",
       "      <td>0.894267</td>\n",
       "      <td>0.959065</td>\n",
       "      <td>0.894267</td>\n",
       "    </tr>\n",
       "    <tr>\n",
       "      <th>30</th>\n",
       "      <td>dct_dlplm</td>\n",
       "      <td>K_DoesAlgSupportDirTest_1</td>\n",
       "      <td>K_DoesAlgSupportDirTest_2</td>\n",
       "      <td>1.000000</td>\n",
       "      <td>False</td>\n",
       "      <td>False</td>\n",
       "      <td>6.0</td>\n",
       "      <td>6.0</td>\n",
       "      <td>1.000000</td>\n",
       "      <td>1.000000</td>\n",
       "      <td>1.000000</td>\n",
       "      <td>1.000000</td>\n",
       "      <td>1.000000</td>\n",
       "    </tr>\n",
       "    <tr>\n",
       "      <th>31</th>\n",
       "      <td>dct_dlslm</td>\n",
       "      <td>K_DoesAlgSupportDirTest_1</td>\n",
       "      <td>K_DoesAlgSupportDirTest_2</td>\n",
       "      <td>1.000000</td>\n",
       "      <td>False</td>\n",
       "      <td>False</td>\n",
       "      <td>6.0</td>\n",
       "      <td>6.0</td>\n",
       "      <td>1.000000</td>\n",
       "      <td>1.000000</td>\n",
       "      <td>1.000000</td>\n",
       "      <td>1.000000</td>\n",
       "      <td>1.000000</td>\n",
       "    </tr>\n",
       "    <tr>\n",
       "      <th>32</th>\n",
       "      <td>dct_dlslm_map_eq</td>\n",
       "      <td>K_DoesAlgSupportDirTest_1</td>\n",
       "      <td>K_DoesAlgSupportDirTest_2</td>\n",
       "      <td>1.000000</td>\n",
       "      <td>False</td>\n",
       "      <td>False</td>\n",
       "      <td>6.0</td>\n",
       "      <td>6.0</td>\n",
       "      <td>1.000000</td>\n",
       "      <td>1.000000</td>\n",
       "      <td>1.000000</td>\n",
       "      <td>1.000000</td>\n",
       "      <td>1.000000</td>\n",
       "    </tr>\n",
       "    <tr>\n",
       "      <th>33</th>\n",
       "      <td>dct_dlslm_no_contraction</td>\n",
       "      <td>K_DoesAlgSupportDirTest_1</td>\n",
       "      <td>K_DoesAlgSupportDirTest_2</td>\n",
       "      <td>1.000000</td>\n",
       "      <td>False</td>\n",
       "      <td>False</td>\n",
       "      <td>6.0</td>\n",
       "      <td>6.0</td>\n",
       "      <td>1.000000</td>\n",
       "      <td>1.000000</td>\n",
       "      <td>1.000000</td>\n",
       "      <td>1.000000</td>\n",
       "      <td>1.000000</td>\n",
       "    </tr>\n",
       "    <tr>\n",
       "      <th>34</th>\n",
       "      <td>dct_dlslm_with_seq</td>\n",
       "      <td>K_DoesAlgSupportDirTest_1</td>\n",
       "      <td>K_DoesAlgSupportDirTest_2</td>\n",
       "      <td>1.000000</td>\n",
       "      <td>False</td>\n",
       "      <td>False</td>\n",
       "      <td>6.0</td>\n",
       "      <td>6.0</td>\n",
       "      <td>1.000000</td>\n",
       "      <td>1.000000</td>\n",
       "      <td>1.000000</td>\n",
       "      <td>1.000000</td>\n",
       "      <td>1.000000</td>\n",
       "    </tr>\n",
       "    <tr>\n",
       "      <th>35</th>\n",
       "      <td>dct_infomap</td>\n",
       "      <td>K_DoesAlgSupportDirTest_1</td>\n",
       "      <td>K_DoesAlgSupportDirTest_2</td>\n",
       "      <td>1.000000</td>\n",
       "      <td>False</td>\n",
       "      <td>False</td>\n",
       "      <td>6.0</td>\n",
       "      <td>6.0</td>\n",
       "      <td>1.000000</td>\n",
       "      <td>1.000000</td>\n",
       "      <td>1.000000</td>\n",
       "      <td>1.000000</td>\n",
       "      <td>1.000000</td>\n",
       "    </tr>\n",
       "    <tr>\n",
       "      <th>36</th>\n",
       "      <td>dct_seq_louvain</td>\n",
       "      <td>K_DoesAlgSupportDirTest_1</td>\n",
       "      <td>K_DoesAlgSupportDirTest_2</td>\n",
       "      <td>1.000000</td>\n",
       "      <td>False</td>\n",
       "      <td>False</td>\n",
       "      <td>6.0</td>\n",
       "      <td>6.0</td>\n",
       "      <td>1.000000</td>\n",
       "      <td>1.000000</td>\n",
       "      <td>1.000000</td>\n",
       "      <td>1.000000</td>\n",
       "      <td>1.000000</td>\n",
       "    </tr>\n",
       "    <tr>\n",
       "      <th>37</th>\n",
       "      <td>igraph_community_edge_betweenness</td>\n",
       "      <td>K_DoesAlgSupportDirTest_1</td>\n",
       "      <td>K_DoesAlgSupportDirTest_2</td>\n",
       "      <td>1.000000</td>\n",
       "      <td>False</td>\n",
       "      <td>False</td>\n",
       "      <td>6.0</td>\n",
       "      <td>6.0</td>\n",
       "      <td>1.000000</td>\n",
       "      <td>1.000000</td>\n",
       "      <td>1.000000</td>\n",
       "      <td>1.000000</td>\n",
       "      <td>1.000000</td>\n",
       "    </tr>\n",
       "    <tr>\n",
       "      <th>38</th>\n",
       "      <td>igraph_community_infomap</td>\n",
       "      <td>K_DoesAlgSupportDirTest_1</td>\n",
       "      <td>K_DoesAlgSupportDirTest_2</td>\n",
       "      <td>1.000000</td>\n",
       "      <td>False</td>\n",
       "      <td>False</td>\n",
       "      <td>6.0</td>\n",
       "      <td>6.0</td>\n",
       "      <td>1.000000</td>\n",
       "      <td>1.000000</td>\n",
       "      <td>1.000000</td>\n",
       "      <td>1.000000</td>\n",
       "      <td>1.000000</td>\n",
       "    </tr>\n",
       "    <tr>\n",
       "      <th>39</th>\n",
       "      <td>igraph_community_label_propagation</td>\n",
       "      <td>K_DoesAlgSupportDirTest_1</td>\n",
       "      <td>K_DoesAlgSupportDirTest_2</td>\n",
       "      <td>0.945565</td>\n",
       "      <td>False</td>\n",
       "      <td>False</td>\n",
       "      <td>6.0</td>\n",
       "      <td>5.0</td>\n",
       "      <td>0.860364</td>\n",
       "      <td>1.000000</td>\n",
       "      <td>1.000000</td>\n",
       "      <td>0.945565</td>\n",
       "      <td>0.860364</td>\n",
       "    </tr>\n",
       "    <tr>\n",
       "      <th>40</th>\n",
       "      <td>igraph_community_leading_eigenvector</td>\n",
       "      <td>K_DoesAlgSupportDirTest_1</td>\n",
       "      <td>K_DoesAlgSupportDirTest_2</td>\n",
       "      <td>0.751826</td>\n",
       "      <td>False</td>\n",
       "      <td>False</td>\n",
       "      <td>11.0</td>\n",
       "      <td>9.0</td>\n",
       "      <td>0.528930</td>\n",
       "      <td>0.869032</td>\n",
       "      <td>0.703473</td>\n",
       "      <td>0.725665</td>\n",
       "      <td>0.536993</td>\n",
       "    </tr>\n",
       "    <tr>\n",
       "      <th>41</th>\n",
       "      <td>igraph_community_spinglass</td>\n",
       "      <td>K_DoesAlgSupportDirTest_1</td>\n",
       "      <td>K_DoesAlgSupportDirTest_2</td>\n",
       "      <td>1.000000</td>\n",
       "      <td>False</td>\n",
       "      <td>False</td>\n",
       "      <td>6.0</td>\n",
       "      <td>6.0</td>\n",
       "      <td>1.000000</td>\n",
       "      <td>1.000000</td>\n",
       "      <td>1.000000</td>\n",
       "      <td>1.000000</td>\n",
       "      <td>1.000000</td>\n",
       "    </tr>\n",
       "    <tr>\n",
       "      <th>42</th>\n",
       "      <td>igraph_community_walktrap</td>\n",
       "      <td>K_DoesAlgSupportDirTest_1</td>\n",
       "      <td>K_DoesAlgSupportDirTest_2</td>\n",
       "      <td>1.000000</td>\n",
       "      <td>False</td>\n",
       "      <td>False</td>\n",
       "      <td>6.0</td>\n",
       "      <td>6.0</td>\n",
       "      <td>1.000000</td>\n",
       "      <td>1.000000</td>\n",
       "      <td>1.000000</td>\n",
       "      <td>1.000000</td>\n",
       "      <td>1.000000</td>\n",
       "    </tr>\n",
       "    <tr>\n",
       "      <th>43</th>\n",
       "      <td>mcl_MCL</td>\n",
       "      <td>K_DoesAlgSupportDirTest_1</td>\n",
       "      <td>K_DoesAlgSupportDirTest_2</td>\n",
       "      <td>0.893573</td>\n",
       "      <td>False</td>\n",
       "      <td>False</td>\n",
       "      <td>5.0</td>\n",
       "      <td>6.0</td>\n",
       "      <td>0.795730</td>\n",
       "      <td>0.893573</td>\n",
       "      <td>0.795730</td>\n",
       "      <td>1.000000</td>\n",
       "      <td>1.000000</td>\n",
       "    </tr>\n",
       "    <tr>\n",
       "      <th>44</th>\n",
       "      <td>networkit_CutClustering</td>\n",
       "      <td>K_DoesAlgSupportDirTest_1</td>\n",
       "      <td>K_DoesAlgSupportDirTest_2</td>\n",
       "      <td>1.000000</td>\n",
       "      <td>False</td>\n",
       "      <td>False</td>\n",
       "      <td>1.0</td>\n",
       "      <td>1.0</td>\n",
       "      <td>NaN</td>\n",
       "      <td>-2.125000</td>\n",
       "      <td>NaN</td>\n",
       "      <td>-2.125000</td>\n",
       "      <td>NaN</td>\n",
       "    </tr>\n",
       "    <tr>\n",
       "      <th>45</th>\n",
       "      <td>networkit_LPDegreeOrdered</td>\n",
       "      <td>K_DoesAlgSupportDirTest_1</td>\n",
       "      <td>K_DoesAlgSupportDirTest_2</td>\n",
       "      <td>0.772919</td>\n",
       "      <td>False</td>\n",
       "      <td>False</td>\n",
       "      <td>4.0</td>\n",
       "      <td>4.0</td>\n",
       "      <td>0.573350</td>\n",
       "      <td>0.811201</td>\n",
       "      <td>0.628987</td>\n",
       "      <td>0.871052</td>\n",
       "      <td>0.721823</td>\n",
       "    </tr>\n",
       "    <tr>\n",
       "      <th>46</th>\n",
       "      <td>networkit_PLM</td>\n",
       "      <td>K_DoesAlgSupportDirTest_1</td>\n",
       "      <td>K_DoesAlgSupportDirTest_2</td>\n",
       "      <td>1.000000</td>\n",
       "      <td>False</td>\n",
       "      <td>False</td>\n",
       "      <td>6.0</td>\n",
       "      <td>6.0</td>\n",
       "      <td>1.000000</td>\n",
       "      <td>1.000000</td>\n",
       "      <td>1.000000</td>\n",
       "      <td>1.000000</td>\n",
       "      <td>1.000000</td>\n",
       "    </tr>\n",
       "    <tr>\n",
       "      <th>47</th>\n",
       "      <td>networkit_PLP</td>\n",
       "      <td>K_DoesAlgSupportDirTest_1</td>\n",
       "      <td>K_DoesAlgSupportDirTest_2</td>\n",
       "      <td>0.602324</td>\n",
       "      <td>False</td>\n",
       "      <td>False</td>\n",
       "      <td>3.0</td>\n",
       "      <td>3.0</td>\n",
       "      <td>0.447617</td>\n",
       "      <td>0.739901</td>\n",
       "      <td>0.512436</td>\n",
       "      <td>0.743056</td>\n",
       "      <td>0.517705</td>\n",
       "    </tr>\n",
       "    <tr>\n",
       "      <th>48</th>\n",
       "      <td>alg_GossipMap</td>\n",
       "      <td>K_DoesAlgSupportDirTest_1</td>\n",
       "      <td>K_DoesAlgSupportDirTest_2</td>\n",
       "      <td>0.981245</td>\n",
       "      <td>False</td>\n",
       "      <td>False</td>\n",
       "      <td>6.0</td>\n",
       "      <td>6.0</td>\n",
       "      <td>0.970729</td>\n",
       "      <td>1.000000</td>\n",
       "      <td>1.000000</td>\n",
       "      <td>0.981245</td>\n",
       "      <td>0.970729</td>\n",
       "    </tr>\n",
       "    <tr>\n",
       "      <th>49</th>\n",
       "      <td>alg_RelaxMap</td>\n",
       "      <td>K_DoesAlgSupportDirTest_1</td>\n",
       "      <td>K_DoesAlgSupportDirTest_2</td>\n",
       "      <td>0.924865</td>\n",
       "      <td>False</td>\n",
       "      <td>False</td>\n",
       "      <td>6.0</td>\n",
       "      <td>5.0</td>\n",
       "      <td>0.829402</td>\n",
       "      <td>1.000000</td>\n",
       "      <td>1.000000</td>\n",
       "      <td>0.924865</td>\n",
       "      <td>0.829402</td>\n",
       "    </tr>\n",
       "    <tr>\n",
       "      <th>50</th>\n",
       "      <td>alg_pg_label_propagation</td>\n",
       "      <td>K_DoesAlgSupportDirTest_1</td>\n",
       "      <td>K_DoesAlgSupportDirTest_2</td>\n",
       "      <td>0.701831</td>\n",
       "      <td>False</td>\n",
       "      <td>False</td>\n",
       "      <td>6.0</td>\n",
       "      <td>3.0</td>\n",
       "      <td>0.495430</td>\n",
       "      <td>0.964779</td>\n",
       "      <td>0.944685</td>\n",
       "      <td>0.743056</td>\n",
       "      <td>0.517705</td>\n",
       "    </tr>\n",
       "    <tr>\n",
       "      <th>51</th>\n",
       "      <td>scan_AnyScan_Scan</td>\n",
       "      <td>K_DoesAlgSupportDirTest_1</td>\n",
       "      <td>K_DoesAlgSupportDirTest_2</td>\n",
       "      <td>1.000000</td>\n",
       "      <td>False</td>\n",
       "      <td>False</td>\n",
       "      <td>6.0</td>\n",
       "      <td>6.0</td>\n",
       "      <td>1.000000</td>\n",
       "      <td>1.000000</td>\n",
       "      <td>1.000000</td>\n",
       "      <td>1.000000</td>\n",
       "      <td>1.000000</td>\n",
       "    </tr>\n",
       "    <tr>\n",
       "      <th>52</th>\n",
       "      <td>scan_AnyScan_anyScan</td>\n",
       "      <td>K_DoesAlgSupportDirTest_1</td>\n",
       "      <td>K_DoesAlgSupportDirTest_2</td>\n",
       "      <td>1.000000</td>\n",
       "      <td>False</td>\n",
       "      <td>False</td>\n",
       "      <td>6.0</td>\n",
       "      <td>6.0</td>\n",
       "      <td>1.000000</td>\n",
       "      <td>1.000000</td>\n",
       "      <td>1.000000</td>\n",
       "      <td>1.000000</td>\n",
       "      <td>1.000000</td>\n",
       "    </tr>\n",
       "    <tr>\n",
       "      <th>53</th>\n",
       "      <td>scan_AnyScan_anyScanParl</td>\n",
       "      <td>K_DoesAlgSupportDirTest_1</td>\n",
       "      <td>K_DoesAlgSupportDirTest_2</td>\n",
       "      <td>1.000000</td>\n",
       "      <td>False</td>\n",
       "      <td>False</td>\n",
       "      <td>6.0</td>\n",
       "      <td>6.0</td>\n",
       "      <td>1.000000</td>\n",
       "      <td>1.000000</td>\n",
       "      <td>1.000000</td>\n",
       "      <td>1.000000</td>\n",
       "      <td>1.000000</td>\n",
       "    </tr>\n",
       "    <tr>\n",
       "      <th>54</th>\n",
       "      <td>scan_AnyScan_pScan</td>\n",
       "      <td>K_DoesAlgSupportDirTest_1</td>\n",
       "      <td>K_DoesAlgSupportDirTest_2</td>\n",
       "      <td>1.000000</td>\n",
       "      <td>False</td>\n",
       "      <td>False</td>\n",
       "      <td>6.0</td>\n",
       "      <td>6.0</td>\n",
       "      <td>1.000000</td>\n",
       "      <td>1.000000</td>\n",
       "      <td>1.000000</td>\n",
       "      <td>1.000000</td>\n",
       "      <td>1.000000</td>\n",
       "    </tr>\n",
       "    <tr>\n",
       "      <th>55</th>\n",
       "      <td>scan_Scanpp</td>\n",
       "      <td>K_DoesAlgSupportDirTest_1</td>\n",
       "      <td>K_DoesAlgSupportDirTest_2</td>\n",
       "      <td>1.000000</td>\n",
       "      <td>False</td>\n",
       "      <td>False</td>\n",
       "      <td>1.0</td>\n",
       "      <td>1.0</td>\n",
       "      <td>NaN</td>\n",
       "      <td>-2.125000</td>\n",
       "      <td>NaN</td>\n",
       "      <td>-2.125000</td>\n",
       "      <td>NaN</td>\n",
       "    </tr>\n",
       "    <tr>\n",
       "      <th>56</th>\n",
       "      <td>scan_pScan</td>\n",
       "      <td>K_DoesAlgSupportDirTest_1</td>\n",
       "      <td>K_DoesAlgSupportDirTest_2</td>\n",
       "      <td>1.000000</td>\n",
       "      <td>False</td>\n",
       "      <td>False</td>\n",
       "      <td>6.0</td>\n",
       "      <td>6.0</td>\n",
       "      <td>0.982899</td>\n",
       "      <td>1.000000</td>\n",
       "      <td>0.966125</td>\n",
       "      <td>1.000000</td>\n",
       "      <td>0.983088</td>\n",
       "    </tr>\n",
       "    <tr>\n",
       "      <th>57</th>\n",
       "      <td>scan_ppScan</td>\n",
       "      <td>K_DoesAlgSupportDirTest_1</td>\n",
       "      <td>K_DoesAlgSupportDirTest_2</td>\n",
       "      <td>1.000000</td>\n",
       "      <td>False</td>\n",
       "      <td>False</td>\n",
       "      <td>6.0</td>\n",
       "      <td>6.0</td>\n",
       "      <td>0.982899</td>\n",
       "      <td>1.000000</td>\n",
       "      <td>0.966125</td>\n",
       "      <td>1.000000</td>\n",
       "      <td>0.983088</td>\n",
       "    </tr>\n",
       "    <tr>\n",
       "      <th>58</th>\n",
       "      <td>scan_ppScanSSE</td>\n",
       "      <td>K_DoesAlgSupportDirTest_1</td>\n",
       "      <td>K_DoesAlgSupportDirTest_2</td>\n",
       "      <td>1.000000</td>\n",
       "      <td>False</td>\n",
       "      <td>False</td>\n",
       "      <td>6.0</td>\n",
       "      <td>6.0</td>\n",
       "      <td>0.982899</td>\n",
       "      <td>1.000000</td>\n",
       "      <td>0.966125</td>\n",
       "      <td>1.000000</td>\n",
       "      <td>0.983088</td>\n",
       "    </tr>\n",
       "    <tr>\n",
       "      <th>59</th>\n",
       "      <td>sklearn_AffinityPropagation</td>\n",
       "      <td>K_DoesAlgSupportDirTest_1</td>\n",
       "      <td>K_DoesAlgSupportDirTest_2</td>\n",
       "      <td>0.662604</td>\n",
       "      <td>False</td>\n",
       "      <td>False</td>\n",
       "      <td>6.0</td>\n",
       "      <td>6.0</td>\n",
       "      <td>0.585163</td>\n",
       "      <td>0.758665</td>\n",
       "      <td>0.674032</td>\n",
       "      <td>0.669206</td>\n",
       "      <td>0.569923</td>\n",
       "    </tr>\n",
       "    <tr>\n",
       "      <th>60</th>\n",
       "      <td>sklearn_SpectralClustering</td>\n",
       "      <td>K_DoesAlgSupportDirTest_1</td>\n",
       "      <td>K_DoesAlgSupportDirTest_2</td>\n",
       "      <td>0.920611</td>\n",
       "      <td>False</td>\n",
       "      <td>False</td>\n",
       "      <td>8.0</td>\n",
       "      <td>8.0</td>\n",
       "      <td>0.806637</td>\n",
       "      <td>0.903215</td>\n",
       "      <td>0.785182</td>\n",
       "      <td>0.919035</td>\n",
       "      <td>0.800354</td>\n",
       "    </tr>\n",
       "    <tr>\n",
       "      <th>61</th>\n",
       "      <td>alg_lso_cluster</td>\n",
       "      <td>K_DoesAlgSupportDirTest_1</td>\n",
       "      <td>K_DoesAlgSupportDirTest_2</td>\n",
       "      <td>0.979422</td>\n",
       "      <td>False</td>\n",
       "      <td>False</td>\n",
       "      <td>5.0</td>\n",
       "      <td>5.0</td>\n",
       "      <td>0.968877</td>\n",
       "      <td>0.942100</td>\n",
       "      <td>0.868720</td>\n",
       "      <td>0.942473</td>\n",
       "      <td>0.869183</td>\n",
       "    </tr>\n",
       "    <tr>\n",
       "      <th>62</th>\n",
       "      <td>alg_streamcom</td>\n",
       "      <td>K_DoesAlgSupportDirTest_1</td>\n",
       "      <td>K_DoesAlgSupportDirTest_2</td>\n",
       "      <td>0.832392</td>\n",
       "      <td>False</td>\n",
       "      <td>False</td>\n",
       "      <td>68.0</td>\n",
       "      <td>72.0</td>\n",
       "      <td>0.217265</td>\n",
       "      <td>0.619535</td>\n",
       "      <td>NaN</td>\n",
       "      <td>0.573021</td>\n",
       "      <td>NaN</td>\n",
       "    </tr>\n",
       "    <tr>\n",
       "      <th>63</th>\n",
       "      <td>cdc_CliquePercolation</td>\n",
       "      <td>None</td>\n",
       "      <td>None</td>\n",
       "      <td>NaN</td>\n",
       "      <td>None</td>\n",
       "      <td>None</td>\n",
       "      <td>NaN</td>\n",
       "      <td>NaN</td>\n",
       "      <td>NaN</td>\n",
       "      <td>NaN</td>\n",
       "      <td>NaN</td>\n",
       "      <td>NaN</td>\n",
       "      <td>NaN</td>\n",
       "    </tr>\n",
       "    <tr>\n",
       "      <th>64</th>\n",
       "      <td>cdc_DEMON</td>\n",
       "      <td>None</td>\n",
       "      <td>None</td>\n",
       "      <td>NaN</td>\n",
       "      <td>None</td>\n",
       "      <td>None</td>\n",
       "      <td>NaN</td>\n",
       "      <td>NaN</td>\n",
       "      <td>NaN</td>\n",
       "      <td>NaN</td>\n",
       "      <td>NaN</td>\n",
       "      <td>NaN</td>\n",
       "      <td>NaN</td>\n",
       "    </tr>\n",
       "    <tr>\n",
       "      <th>65</th>\n",
       "      <td>cdc_HDEMON</td>\n",
       "      <td>None</td>\n",
       "      <td>None</td>\n",
       "      <td>NaN</td>\n",
       "      <td>None</td>\n",
       "      <td>None</td>\n",
       "      <td>NaN</td>\n",
       "      <td>NaN</td>\n",
       "      <td>NaN</td>\n",
       "      <td>NaN</td>\n",
       "      <td>NaN</td>\n",
       "      <td>NaN</td>\n",
       "      <td>NaN</td>\n",
       "    </tr>\n",
       "    <tr>\n",
       "      <th>66</th>\n",
       "      <td>igraph_community_fastgreedy</td>\n",
       "      <td>None</td>\n",
       "      <td>None</td>\n",
       "      <td>NaN</td>\n",
       "      <td>None</td>\n",
       "      <td>None</td>\n",
       "      <td>NaN</td>\n",
       "      <td>NaN</td>\n",
       "      <td>NaN</td>\n",
       "      <td>NaN</td>\n",
       "      <td>NaN</td>\n",
       "      <td>NaN</td>\n",
       "      <td>NaN</td>\n",
       "    </tr>\n",
       "    <tr>\n",
       "      <th>67</th>\n",
       "      <td>igraph_community_multilevel</td>\n",
       "      <td>None</td>\n",
       "      <td>None</td>\n",
       "      <td>NaN</td>\n",
       "      <td>None</td>\n",
       "      <td>None</td>\n",
       "      <td>NaN</td>\n",
       "      <td>NaN</td>\n",
       "      <td>NaN</td>\n",
       "      <td>NaN</td>\n",
       "      <td>NaN</td>\n",
       "      <td>NaN</td>\n",
       "      <td>NaN</td>\n",
       "    </tr>\n",
       "    <tr>\n",
       "      <th>68</th>\n",
       "      <td>igraph_community_optimal_modularity</td>\n",
       "      <td>None</td>\n",
       "      <td>None</td>\n",
       "      <td>NaN</td>\n",
       "      <td>None</td>\n",
       "      <td>None</td>\n",
       "      <td>NaN</td>\n",
       "      <td>NaN</td>\n",
       "      <td>NaN</td>\n",
       "      <td>NaN</td>\n",
       "      <td>NaN</td>\n",
       "      <td>NaN</td>\n",
       "      <td>NaN</td>\n",
       "    </tr>\n",
       "    <tr>\n",
       "      <th>69</th>\n",
       "      <td>snap_Clauset_Newman_Moore</td>\n",
       "      <td>None</td>\n",
       "      <td>None</td>\n",
       "      <td>NaN</td>\n",
       "      <td>None</td>\n",
       "      <td>None</td>\n",
       "      <td>NaN</td>\n",
       "      <td>NaN</td>\n",
       "      <td>NaN</td>\n",
       "      <td>NaN</td>\n",
       "      <td>NaN</td>\n",
       "      <td>NaN</td>\n",
       "      <td>NaN</td>\n",
       "    </tr>\n",
       "    <tr>\n",
       "      <th>70</th>\n",
       "      <td>snap_Girvan_Newman</td>\n",
       "      <td>None</td>\n",
       "      <td>None</td>\n",
       "      <td>NaN</td>\n",
       "      <td>None</td>\n",
       "      <td>None</td>\n",
       "      <td>NaN</td>\n",
       "      <td>NaN</td>\n",
       "      <td>NaN</td>\n",
       "      <td>NaN</td>\n",
       "      <td>NaN</td>\n",
       "      <td>NaN</td>\n",
       "      <td>NaN</td>\n",
       "    </tr>\n",
       "    <tr>\n",
       "      <th>71</th>\n",
       "      <td>alg_Paris</td>\n",
       "      <td>None</td>\n",
       "      <td>None</td>\n",
       "      <td>NaN</td>\n",
       "      <td>None</td>\n",
       "      <td>None</td>\n",
       "      <td>NaN</td>\n",
       "      <td>NaN</td>\n",
       "      <td>NaN</td>\n",
       "      <td>NaN</td>\n",
       "      <td>NaN</td>\n",
       "      <td>NaN</td>\n",
       "      <td>NaN</td>\n",
       "    </tr>\n",
       "  </tbody>\n",
       "</table>\n",
       "</div>"
      ],
      "text/plain": [
       "                                     alg                      data1  \\\n",
       "0                      oslom_Infohiermap  K_DoesAlgSupportDirTest_1   \n",
       "1                          oslom_Infomap  K_DoesAlgSupportDirTest_1   \n",
       "2                            oslom_OSLOM  K_DoesAlgSupportDirTest_1   \n",
       "3                            oslom_copra  K_DoesAlgSupportDirTest_1   \n",
       "4                   oslom_louvain_method  K_DoesAlgSupportDirTest_1   \n",
       "5                              oslom_lpm  K_DoesAlgSupportDirTest_1   \n",
       "6                           oslom_modopt  K_DoesAlgSupportDirTest_1   \n",
       "7                        pycabem_GANXiSw  K_DoesAlgSupportDirTest_1   \n",
       "8                         pycabem_HiReCS  K_DoesAlgSupportDirTest_1   \n",
       "9                      pycabem_LabelRank  K_DoesAlgSupportDirTest_1   \n",
       "10                             cdc_CONGA  K_DoesAlgSupportDirTest_1   \n",
       "11          cdc_Connected_Iterative_Scan  K_DoesAlgSupportDirTest_1   \n",
       "12                             cdc_EAGLE  K_DoesAlgSupportDirTest_1   \n",
       "13                           cdc_FastCpm  K_DoesAlgSupportDirTest_1   \n",
       "14                               cdc_GCE  K_DoesAlgSupportDirTest_1   \n",
       "15                   cdc_LinkCommunities  K_DoesAlgSupportDirTest_1   \n",
       "16                             cdc_MOSES  K_DoesAlgSupportDirTest_1   \n",
       "17                          cdc_MSCD_AFG  K_DoesAlgSupportDirTest_1   \n",
       "18                        cdc_MSCD_HSLSW  K_DoesAlgSupportDirTest_1   \n",
       "19                          cdc_MSCD_LFK  K_DoesAlgSupportDirTest_1   \n",
       "20                         cdc_MSCD_LFK2  K_DoesAlgSupportDirTest_1   \n",
       "21                           cdc_MSCD_RB  K_DoesAlgSupportDirTest_1   \n",
       "22                           cdc_MSCD_RN  K_DoesAlgSupportDirTest_1   \n",
       "23                           cdc_MSCD_SO  K_DoesAlgSupportDirTest_1   \n",
       "24                          cdc_MSCD_SOM  K_DoesAlgSupportDirTest_1   \n",
       "25                            cdc_ParCPM  K_DoesAlgSupportDirTest_1   \n",
       "26                            cdc_SVINET  K_DoesAlgSupportDirTest_1   \n",
       "27                             cdc_TopGC  K_DoesAlgSupportDirTest_1   \n",
       "28                 cdc_clique_modularity  K_DoesAlgSupportDirTest_1   \n",
       "29                             cgcc_CGGC  K_DoesAlgSupportDirTest_1   \n",
       "30                             dct_dlplm  K_DoesAlgSupportDirTest_1   \n",
       "31                             dct_dlslm  K_DoesAlgSupportDirTest_1   \n",
       "32                      dct_dlslm_map_eq  K_DoesAlgSupportDirTest_1   \n",
       "33              dct_dlslm_no_contraction  K_DoesAlgSupportDirTest_1   \n",
       "34                    dct_dlslm_with_seq  K_DoesAlgSupportDirTest_1   \n",
       "35                           dct_infomap  K_DoesAlgSupportDirTest_1   \n",
       "36                       dct_seq_louvain  K_DoesAlgSupportDirTest_1   \n",
       "37     igraph_community_edge_betweenness  K_DoesAlgSupportDirTest_1   \n",
       "38              igraph_community_infomap  K_DoesAlgSupportDirTest_1   \n",
       "39    igraph_community_label_propagation  K_DoesAlgSupportDirTest_1   \n",
       "40  igraph_community_leading_eigenvector  K_DoesAlgSupportDirTest_1   \n",
       "41            igraph_community_spinglass  K_DoesAlgSupportDirTest_1   \n",
       "42             igraph_community_walktrap  K_DoesAlgSupportDirTest_1   \n",
       "43                               mcl_MCL  K_DoesAlgSupportDirTest_1   \n",
       "44               networkit_CutClustering  K_DoesAlgSupportDirTest_1   \n",
       "45             networkit_LPDegreeOrdered  K_DoesAlgSupportDirTest_1   \n",
       "46                         networkit_PLM  K_DoesAlgSupportDirTest_1   \n",
       "47                         networkit_PLP  K_DoesAlgSupportDirTest_1   \n",
       "48                         alg_GossipMap  K_DoesAlgSupportDirTest_1   \n",
       "49                          alg_RelaxMap  K_DoesAlgSupportDirTest_1   \n",
       "50              alg_pg_label_propagation  K_DoesAlgSupportDirTest_1   \n",
       "51                     scan_AnyScan_Scan  K_DoesAlgSupportDirTest_1   \n",
       "52                  scan_AnyScan_anyScan  K_DoesAlgSupportDirTest_1   \n",
       "53              scan_AnyScan_anyScanParl  K_DoesAlgSupportDirTest_1   \n",
       "54                    scan_AnyScan_pScan  K_DoesAlgSupportDirTest_1   \n",
       "55                           scan_Scanpp  K_DoesAlgSupportDirTest_1   \n",
       "56                            scan_pScan  K_DoesAlgSupportDirTest_1   \n",
       "57                           scan_ppScan  K_DoesAlgSupportDirTest_1   \n",
       "58                        scan_ppScanSSE  K_DoesAlgSupportDirTest_1   \n",
       "59           sklearn_AffinityPropagation  K_DoesAlgSupportDirTest_1   \n",
       "60            sklearn_SpectralClustering  K_DoesAlgSupportDirTest_1   \n",
       "61                       alg_lso_cluster  K_DoesAlgSupportDirTest_1   \n",
       "62                         alg_streamcom  K_DoesAlgSupportDirTest_1   \n",
       "63                 cdc_CliquePercolation                       None   \n",
       "64                             cdc_DEMON                       None   \n",
       "65                            cdc_HDEMON                       None   \n",
       "66           igraph_community_fastgreedy                       None   \n",
       "67           igraph_community_multilevel                       None   \n",
       "68   igraph_community_optimal_modularity                       None   \n",
       "69             snap_Clauset_Newman_Moore                       None   \n",
       "70                    snap_Girvan_Newman                       None   \n",
       "71                             alg_Paris                       None   \n",
       "\n",
       "                        data2    nmi_12   ovp1   ovp2    #c1   #c2  ovpnmi_12  \\\n",
       "0   K_DoesAlgSupportDirTest_2  0.075965  False  False    6.0   6.0        NaN   \n",
       "1   K_DoesAlgSupportDirTest_2  0.919378  False  False    6.0   5.0   0.815637   \n",
       "2   K_DoesAlgSupportDirTest_2  1.000000  False  False    6.0   6.0   1.000000   \n",
       "3   K_DoesAlgSupportDirTest_2  0.761741   True   True    6.0   5.0   0.719643   \n",
       "4   K_DoesAlgSupportDirTest_2  1.000000  False  False    6.0   6.0   1.000000   \n",
       "5   K_DoesAlgSupportDirTest_2  1.000000  False  False    4.0   4.0   1.000000   \n",
       "6   K_DoesAlgSupportDirTest_2  1.000000  False  False    6.0   6.0   1.000000   \n",
       "7   K_DoesAlgSupportDirTest_2  0.629455  False  False    6.0   2.0   0.303508   \n",
       "8   K_DoesAlgSupportDirTest_2  0.906737   True   True    6.0   5.0   0.796104   \n",
       "9   K_DoesAlgSupportDirTest_2  1.000000  False  False    6.0   6.0   1.000000   \n",
       "10  K_DoesAlgSupportDirTest_2  0.322142   True   True    5.0   5.0   1.000000   \n",
       "11  K_DoesAlgSupportDirTest_2  0.801471   True   True    8.0   8.0   1.000000   \n",
       "12  K_DoesAlgSupportDirTest_2  0.441249   True   True   17.0   7.0   0.580239   \n",
       "13  K_DoesAlgSupportDirTest_2  1.000000  False  False    1.0   1.0        NaN   \n",
       "14  K_DoesAlgSupportDirTest_2  1.000000  False  False    6.0   6.0   1.000000   \n",
       "15  K_DoesAlgSupportDirTest_2  0.000000   True  False  553.0   1.0        NaN   \n",
       "16  K_DoesAlgSupportDirTest_2  1.000000  False  False    6.0   6.0   1.000000   \n",
       "17  K_DoesAlgSupportDirTest_2  0.982284  False  False    6.0   6.0   0.970378   \n",
       "18  K_DoesAlgSupportDirTest_2  1.000000  False  False    6.0   6.0   1.000000   \n",
       "19  K_DoesAlgSupportDirTest_2  1.000000  False  False    6.0   6.0   0.983088   \n",
       "20  K_DoesAlgSupportDirTest_2  1.000000  False   True    6.0   7.0   0.797792   \n",
       "21  K_DoesAlgSupportDirTest_2  0.982284  False  False    6.0   6.0   0.970378   \n",
       "22  K_DoesAlgSupportDirTest_2  1.000000  False  False    6.0   6.0   1.000000   \n",
       "23  K_DoesAlgSupportDirTest_2  0.982284  False  False    6.0   6.0   0.970378   \n",
       "24  K_DoesAlgSupportDirTest_2  0.982284  False  False    6.0   6.0   0.970378   \n",
       "25  K_DoesAlgSupportDirTest_2  1.000000  False  False    1.0   1.0        NaN   \n",
       "26  K_DoesAlgSupportDirTest_2  0.176086   True   True    4.0   4.0   0.560203   \n",
       "27  K_DoesAlgSupportDirTest_2  0.812748   True   True    7.0   9.0   0.139676   \n",
       "28  K_DoesAlgSupportDirTest_2  1.000000  False  False   10.0  10.0   1.000000   \n",
       "29  K_DoesAlgSupportDirTest_2  1.000000  False  False    5.0   5.0   1.000000   \n",
       "30  K_DoesAlgSupportDirTest_2  1.000000  False  False    6.0   6.0   1.000000   \n",
       "31  K_DoesAlgSupportDirTest_2  1.000000  False  False    6.0   6.0   1.000000   \n",
       "32  K_DoesAlgSupportDirTest_2  1.000000  False  False    6.0   6.0   1.000000   \n",
       "33  K_DoesAlgSupportDirTest_2  1.000000  False  False    6.0   6.0   1.000000   \n",
       "34  K_DoesAlgSupportDirTest_2  1.000000  False  False    6.0   6.0   1.000000   \n",
       "35  K_DoesAlgSupportDirTest_2  1.000000  False  False    6.0   6.0   1.000000   \n",
       "36  K_DoesAlgSupportDirTest_2  1.000000  False  False    6.0   6.0   1.000000   \n",
       "37  K_DoesAlgSupportDirTest_2  1.000000  False  False    6.0   6.0   1.000000   \n",
       "38  K_DoesAlgSupportDirTest_2  1.000000  False  False    6.0   6.0   1.000000   \n",
       "39  K_DoesAlgSupportDirTest_2  0.945565  False  False    6.0   5.0   0.860364   \n",
       "40  K_DoesAlgSupportDirTest_2  0.751826  False  False   11.0   9.0   0.528930   \n",
       "41  K_DoesAlgSupportDirTest_2  1.000000  False  False    6.0   6.0   1.000000   \n",
       "42  K_DoesAlgSupportDirTest_2  1.000000  False  False    6.0   6.0   1.000000   \n",
       "43  K_DoesAlgSupportDirTest_2  0.893573  False  False    5.0   6.0   0.795730   \n",
       "44  K_DoesAlgSupportDirTest_2  1.000000  False  False    1.0   1.0        NaN   \n",
       "45  K_DoesAlgSupportDirTest_2  0.772919  False  False    4.0   4.0   0.573350   \n",
       "46  K_DoesAlgSupportDirTest_2  1.000000  False  False    6.0   6.0   1.000000   \n",
       "47  K_DoesAlgSupportDirTest_2  0.602324  False  False    3.0   3.0   0.447617   \n",
       "48  K_DoesAlgSupportDirTest_2  0.981245  False  False    6.0   6.0   0.970729   \n",
       "49  K_DoesAlgSupportDirTest_2  0.924865  False  False    6.0   5.0   0.829402   \n",
       "50  K_DoesAlgSupportDirTest_2  0.701831  False  False    6.0   3.0   0.495430   \n",
       "51  K_DoesAlgSupportDirTest_2  1.000000  False  False    6.0   6.0   1.000000   \n",
       "52  K_DoesAlgSupportDirTest_2  1.000000  False  False    6.0   6.0   1.000000   \n",
       "53  K_DoesAlgSupportDirTest_2  1.000000  False  False    6.0   6.0   1.000000   \n",
       "54  K_DoesAlgSupportDirTest_2  1.000000  False  False    6.0   6.0   1.000000   \n",
       "55  K_DoesAlgSupportDirTest_2  1.000000  False  False    1.0   1.0        NaN   \n",
       "56  K_DoesAlgSupportDirTest_2  1.000000  False  False    6.0   6.0   0.982899   \n",
       "57  K_DoesAlgSupportDirTest_2  1.000000  False  False    6.0   6.0   0.982899   \n",
       "58  K_DoesAlgSupportDirTest_2  1.000000  False  False    6.0   6.0   0.982899   \n",
       "59  K_DoesAlgSupportDirTest_2  0.662604  False  False    6.0   6.0   0.585163   \n",
       "60  K_DoesAlgSupportDirTest_2  0.920611  False  False    8.0   8.0   0.806637   \n",
       "61  K_DoesAlgSupportDirTest_2  0.979422  False  False    5.0   5.0   0.968877   \n",
       "62  K_DoesAlgSupportDirTest_2  0.832392  False  False   68.0  72.0   0.217265   \n",
       "63                       None       NaN   None   None    NaN   NaN        NaN   \n",
       "64                       None       NaN   None   None    NaN   NaN        NaN   \n",
       "65                       None       NaN   None   None    NaN   NaN        NaN   \n",
       "66                       None       NaN   None   None    NaN   NaN        NaN   \n",
       "67                       None       NaN   None   None    NaN   NaN        NaN   \n",
       "68                       None       NaN   None   None    NaN   NaN        NaN   \n",
       "69                       None       NaN   None   None    NaN   NaN        NaN   \n",
       "70                       None       NaN   None   None    NaN   NaN        NaN   \n",
       "71                       None       NaN   None   None    NaN   NaN        NaN   \n",
       "\n",
       "      nmi_t1  ovpnmi_t1    nmi_t2  ovpnmi_t2  \n",
       "0   0.075965        NaN  1.000000   1.000000  \n",
       "1   1.000000   1.000000  0.919378   0.815637  \n",
       "2   1.000000   1.000000  1.000000   1.000000  \n",
       "3   0.953598   0.903898  0.843911   0.740825  \n",
       "4   1.000000   1.000000  1.000000   1.000000  \n",
       "5   0.885272   0.714824  0.885272   0.714824  \n",
       "6   1.000000   1.000000  1.000000   1.000000  \n",
       "7   1.000000   1.000000  0.629455   0.303508  \n",
       "8   0.074949        NaN  0.069614        NaN  \n",
       "9   1.000000   1.000000  1.000000   1.000000  \n",
       "10  0.420277   0.490367  0.369805   0.490367  \n",
       "11  0.873200   0.849179  0.865133   0.849179  \n",
       "12  0.166773        NaN  0.088869   0.003747  \n",
       "13 -2.125000        NaN -2.125000        NaN  \n",
       "14  1.000000   1.000000  1.000000   1.000000  \n",
       "15  0.559379   0.000731 -2.125000        NaN  \n",
       "16  1.000000   1.000000  1.000000   1.000000  \n",
       "17  0.073554        NaN  0.074949        NaN  \n",
       "18  0.074949        NaN  0.074949        NaN  \n",
       "19  0.075470        NaN  0.074949        NaN  \n",
       "20  0.075470        NaN  0.079464        NaN  \n",
       "21  0.073554        NaN  0.074949        NaN  \n",
       "22  0.074949        NaN  0.074949        NaN  \n",
       "23  0.073554        NaN  0.074949        NaN  \n",
       "24  0.073554        NaN  0.074949        NaN  \n",
       "25 -2.125000        NaN -2.125000        NaN  \n",
       "26  0.279167   0.267052  0.263322   0.305684  \n",
       "27  0.916312   0.409096  0.836690   0.421332  \n",
       "28  0.953704   0.882295  0.953704   0.882295  \n",
       "29  0.959065   0.894267  0.959065   0.894267  \n",
       "30  1.000000   1.000000  1.000000   1.000000  \n",
       "31  1.000000   1.000000  1.000000   1.000000  \n",
       "32  1.000000   1.000000  1.000000   1.000000  \n",
       "33  1.000000   1.000000  1.000000   1.000000  \n",
       "34  1.000000   1.000000  1.000000   1.000000  \n",
       "35  1.000000   1.000000  1.000000   1.000000  \n",
       "36  1.000000   1.000000  1.000000   1.000000  \n",
       "37  1.000000   1.000000  1.000000   1.000000  \n",
       "38  1.000000   1.000000  1.000000   1.000000  \n",
       "39  1.000000   1.000000  0.945565   0.860364  \n",
       "40  0.869032   0.703473  0.725665   0.536993  \n",
       "41  1.000000   1.000000  1.000000   1.000000  \n",
       "42  1.000000   1.000000  1.000000   1.000000  \n",
       "43  0.893573   0.795730  1.000000   1.000000  \n",
       "44 -2.125000        NaN -2.125000        NaN  \n",
       "45  0.811201   0.628987  0.871052   0.721823  \n",
       "46  1.000000   1.000000  1.000000   1.000000  \n",
       "47  0.739901   0.512436  0.743056   0.517705  \n",
       "48  1.000000   1.000000  0.981245   0.970729  \n",
       "49  1.000000   1.000000  0.924865   0.829402  \n",
       "50  0.964779   0.944685  0.743056   0.517705  \n",
       "51  1.000000   1.000000  1.000000   1.000000  \n",
       "52  1.000000   1.000000  1.000000   1.000000  \n",
       "53  1.000000   1.000000  1.000000   1.000000  \n",
       "54  1.000000   1.000000  1.000000   1.000000  \n",
       "55 -2.125000        NaN -2.125000        NaN  \n",
       "56  1.000000   0.966125  1.000000   0.983088  \n",
       "57  1.000000   0.966125  1.000000   0.983088  \n",
       "58  1.000000   0.966125  1.000000   0.983088  \n",
       "59  0.758665   0.674032  0.669206   0.569923  \n",
       "60  0.903215   0.785182  0.919035   0.800354  \n",
       "61  0.942100   0.868720  0.942473   0.869183  \n",
       "62  0.619535        NaN  0.573021        NaN  \n",
       "63       NaN        NaN       NaN        NaN  \n",
       "64       NaN        NaN       NaN        NaN  \n",
       "65       NaN        NaN       NaN        NaN  \n",
       "66       NaN        NaN       NaN        NaN  \n",
       "67       NaN        NaN       NaN        NaN  \n",
       "68       NaN        NaN       NaN        NaN  \n",
       "69       NaN        NaN       NaN        NaN  \n",
       "70       NaN        NaN       NaN        NaN  \n",
       "71       NaN        NaN       NaN        NaN  "
      ]
     },
     "metadata": {},
     "output_type": "display_data"
    }
   ],
   "source": [
    "rdf = pd.DataFrame(lst, columns=columns)\n",
    "for alg in  gct.list_algorithms():\n",
    "    if alg not in rdf['alg'].values:\n",
    "        lst.append([alg] + [None] * (len(columns) - 1))\n",
    "rdf = pd.DataFrame(lst, columns=columns)    \n",
    "with pd.option_context('display.max_rows', 2000, 'display.max_columns', 200):\n",
    "    display (rdf)\n"
   ]
  },
  {
   "cell_type": "code",
   "execution_count": 21,
   "metadata": {},
   "outputs": [
    {
     "name": "stdout",
     "output_type": "stream",
     "text": [
      "runing  cdc_CliquePercolation K_DoesAlgSupportDirTest_1\n",
      "finished cdc_CliquePercolation K_DoesAlgSupportDirTest_1\n"
     ]
    },
    {
     "name": "stderr",
     "output_type": "stream",
     "text": [
      "Error: only undirected and unmirrored graph is supported for CliquePercolation\n"
     ]
    },
    {
     "data": {
      "text/plain": [
       "True"
      ]
     },
     "execution_count": 21,
     "metadata": {},
     "output_type": "execute_result"
    }
   ],
   "source": [
    "run_alg(\"cdc_CliquePercolation\", \"K_DoesAlgSupportDirTest_1\", check_skip=False)"
   ]
  },
  {
   "cell_type": "code",
   "execution_count": null,
   "metadata": {},
   "outputs": [],
   "source": []
  }
 ],
 "metadata": {
  "kernelspec": {
   "display_name": "Python [conda env:python3]",
   "language": "python",
   "name": "conda-env-python3-py"
  },
  "language_info": {
   "codemirror_mode": {
    "name": "ipython",
    "version": 3
   },
   "file_extension": ".py",
   "mimetype": "text/x-python",
   "name": "python",
   "nbconvert_exporter": "python",
   "pygments_lexer": "ipython3",
   "version": "3.6.7"
  }
 },
 "nbformat": 4,
 "nbformat_minor": 2
}
