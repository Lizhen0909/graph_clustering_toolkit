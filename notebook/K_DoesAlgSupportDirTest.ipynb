{
 "cells": [
  {
   "cell_type": "code",
   "execution_count": 1,
   "metadata": {},
   "outputs": [
    {
     "data": {
      "text/html": [
       "\n",
       "\t\t\t<script type=\"text/javascript\">\n",
       "\t\t\t<!--\n",
       "\t\t\t\t\n",
       "\t\t\t{\n",
       "\t\t\t\tvar element = document.getElementById('NetworKit_script');\n",
       "\t\t\t\tif (element) {\n",
       "\t\t\t\t\telement.parentNode.removeChild(element);\n",
       "\t\t\t\t}\n",
       "\t\t\t\telement = document.createElement('script');\n",
       "\t\t\t\telement.type = 'text/javascript';\n",
       "\t\t\t\telement.innerHTML = 'function NetworKit_pageEmbed(id) { var i, j; var elements; elements = document.getElementById(id).getElementsByClassName(\"Plot\"); for (i=0; i<elements.length; i++) { elements[i].id = id + \"_Plot_\" + i; var data = elements[i].getAttribute(\"data-image\").split(\"|\"); elements[i].removeAttribute(\"data-image\"); var content = \"<div class=\\\\\"Image\\\\\" id=\\\\\"\" + elements[i].id + \"_Image\\\\\" />\"; elements[i].innerHTML = content; elements[i].setAttribute(\"data-image-index\", 0); elements[i].setAttribute(\"data-image-length\", data.length); for (j=0; j<data.length; j++) { elements[i].setAttribute(\"data-image-\" + j, data[j]); } NetworKit_plotUpdate(elements[i]); elements[i].onclick = function (e) { NetworKit_overlayShow((e.target) ? e.target : e.srcElement); } } elements = document.getElementById(id).getElementsByClassName(\"HeatCell\"); for (i=0; i<elements.length; i++) { var data = parseFloat(elements[i].getAttribute(\"data-heat\")); var color = \"#00FF00\"; if (data <= 1 && data > 0) { color = \"hsla(0, 100%, 75%, \" + (data) + \")\"; } else if (data <= 0 && data >= -1) { color = \"hsla(240, 100%, 75%, \" + (-data) + \")\"; } elements[i].style.backgroundColor = color; } elements = document.getElementById(id).getElementsByClassName(\"Details\"); for (i=0; i<elements.length; i++) { elements[i].setAttribute(\"data-title\", \"-\"); NetworKit_toggleDetails(elements[i]); elements[i].onclick = function (e) { NetworKit_toggleDetails((e.target) ? e.target : e.srcElement); } } elements = document.getElementById(id).getElementsByClassName(\"MathValue\"); for (i=elements.length-1; i>=0; i--) { value = elements[i].innerHTML.trim(); if (value === \"nan\") { elements[i].parentNode.innerHTML = \"\" } } elements = document.getElementById(id).getElementsByClassName(\"SubCategory\"); for (i=elements.length-1; i>=0; i--) { value = elements[i].innerHTML.trim(); if (value === \"\") { elements[i].parentNode.removeChild(elements[i]) } } elements = document.getElementById(id).getElementsByClassName(\"Category\"); for (i=elements.length-1; i>=0; i--) { value = elements[i].innerHTML.trim(); if (value === \"\") { elements[i].parentNode.removeChild(elements[i]) } } var isFirefox = false; try { isFirefox = typeof InstallTrigger !== \"undefined\"; } catch (e) {} if (!isFirefox) { alert(\"Currently the function\\'s output is only fully supported by Firefox.\"); } } function NetworKit_plotUpdate(source) { var index = source.getAttribute(\"data-image-index\"); var data = source.getAttribute(\"data-image-\" + index); var image = document.getElementById(source.id + \"_Image\"); image.style.backgroundImage = \"url(\" + data + \")\"; } function NetworKit_showElement(id, show) { var element = document.getElementById(id); element.style.display = (show) ? \"block\" : \"none\"; } function NetworKit_overlayShow(source) { NetworKit_overlayUpdate(source); NetworKit_showElement(\"NetworKit_Overlay\", true); } function NetworKit_overlayUpdate(source) { document.getElementById(\"NetworKit_Overlay_Title\").innerHTML = source.title; var index = source.getAttribute(\"data-image-index\"); var data = source.getAttribute(\"data-image-\" + index); var image = document.getElementById(\"NetworKit_Overlay_Image\"); image.setAttribute(\"data-id\", source.id); image.style.backgroundImage = \"url(\" + data + \")\"; var link = document.getElementById(\"NetworKit_Overlay_Toolbar_Bottom_Save\"); link.href = data; link.download = source.title + \".svg\"; } function NetworKit_overlayImageShift(delta) { var image = document.getElementById(\"NetworKit_Overlay_Image\"); var source = document.getElementById(image.getAttribute(\"data-id\")); var index = parseInt(source.getAttribute(\"data-image-index\")); var length = parseInt(source.getAttribute(\"data-image-length\")); var index = (index+delta) % length; if (index < 0) { index = length + index; } source.setAttribute(\"data-image-index\", index); NetworKit_overlayUpdate(source); } function NetworKit_toggleDetails(source) { var childs = source.children; var show = false; if (source.getAttribute(\"data-title\") == \"-\") { source.setAttribute(\"data-title\", \"+\"); show = false; } else { source.setAttribute(\"data-title\", \"-\"); show = true; } for (i=0; i<childs.length; i++) { if (show) { childs[i].style.display = \"block\"; } else { childs[i].style.display = \"none\"; } } }';\n",
       "\t\t\t\telement.setAttribute('id', 'NetworKit_script');\n",
       "\t\t\t\tdocument.head.appendChild(element);\n",
       "\t\t\t}\n",
       "\t\t\n",
       "\t\t\t\t\n",
       "\t\t\t{\n",
       "\t\t\t\tvar element = document.getElementById('NetworKit_style');\n",
       "\t\t\t\tif (element) {\n",
       "\t\t\t\t\telement.parentNode.removeChild(element);\n",
       "\t\t\t\t}\n",
       "\t\t\t\telement = document.createElement('style');\n",
       "\t\t\t\telement.type = 'text/css';\n",
       "\t\t\t\telement.innerHTML = '.NetworKit_Page { font-family: Arial, Helvetica, sans-serif; font-size: 14px; } .NetworKit_Page .Value:before { font-family: Arial, Helvetica, sans-serif; font-size: 1.05em; content: attr(data-title) \":\"; margin-left: -2.5em; padding-right: 0.5em; } .NetworKit_Page .Details .Value:before { display: block; } .NetworKit_Page .Value { font-family: monospace; white-space: pre; padding-left: 2.5em; white-space: -moz-pre-wrap !important; white-space: -pre-wrap; white-space: -o-pre-wrap; white-space: pre-wrap; word-wrap: break-word; tab-size: 4; -moz-tab-size: 4; } .NetworKit_Page .Category { clear: both; padding-left: 1em; margin-bottom: 1.5em; } .NetworKit_Page .Category:before { content: attr(data-title); font-size: 1.75em; display: block; margin-left: -0.8em; margin-bottom: 0.5em; } .NetworKit_Page .SubCategory { margin-bottom: 1.5em; padding-left: 1em; } .NetworKit_Page .SubCategory:before { font-size: 1.6em; display: block; margin-left: -0.8em; margin-bottom: 0.5em; } .NetworKit_Page .SubCategory[data-title]:before { content: attr(data-title); } .NetworKit_Page .Block { display: block; } .NetworKit_Page .Block:after { content: \".\"; visibility: hidden; display: block; height: 0; clear: both; } .NetworKit_Page .Block .Thumbnail_Overview, .NetworKit_Page .Block .Thumbnail_ScatterPlot { width: 260px; float: left; } .NetworKit_Page .Block .Thumbnail_Overview img, .NetworKit_Page .Block .Thumbnail_ScatterPlot img { width: 260px; } .NetworKit_Page .Block .Thumbnail_Overview:before, .NetworKit_Page .Block .Thumbnail_ScatterPlot:before { display: block; text-align: center; font-weight: bold; } .NetworKit_Page .Block .Thumbnail_Overview:before { content: attr(data-title); } .NetworKit_Page .HeatCell { font-family: \"Courier New\", Courier, monospace; cursor: pointer; } .NetworKit_Page .HeatCell, .NetworKit_Page .HeatCellName { display: inline; padding: 0.1em; margin-right: 2px; background-color: #FFFFFF } .NetworKit_Page .HeatCellName { margin-left: 0.25em; } .NetworKit_Page .HeatCell:before { content: attr(data-heat); display: inline-block; color: #000000; width: 4em; text-align: center; } .NetworKit_Page .Measure { clear: both; } .NetworKit_Page .Measure .Details { cursor: pointer; } .NetworKit_Page .Measure .Details:before { content: \"[\" attr(data-title) \"]\"; display: block; } .NetworKit_Page .Measure .Details .Value { border-left: 1px dotted black; margin-left: 0.4em; padding-left: 3.5em; pointer-events: none; } .NetworKit_Page .Measure .Details .Spacer:before { content: \".\"; opacity: 0.0; pointer-events: none; } .NetworKit_Page .Measure .Plot { width: 440px; height: 440px; cursor: pointer; float: left; margin-left: -0.9em; margin-right: 20px; } .NetworKit_Page .Measure .Plot .Image { background-repeat: no-repeat; background-position: center center; background-size: contain; height: 100%; pointer-events: none; } .NetworKit_Page .Measure .Stat { width: 500px; float: left; } .NetworKit_Page .Measure .Stat .Group { padding-left: 1.25em; margin-bottom: 0.75em; } .NetworKit_Page .Measure .Stat .Group .Title { font-size: 1.1em; display: block; margin-bottom: 0.3em; margin-left: -0.75em; border-right-style: dotted; border-right-width: 1px; border-bottom-style: dotted; border-bottom-width: 1px; background-color: #D0D0D0; padding-left: 0.2em; } .NetworKit_Page .Measure .Stat .Group .List { -webkit-column-count: 3; -moz-column-count: 3; column-count: 3; } .NetworKit_Page .Measure .Stat .Group .List .Entry { position: relative; line-height: 1.75em; } .NetworKit_Page .Measure .Stat .Group .List .Entry[data-tooltip]:before { position: absolute; left: 0; top: -40px; background-color: #808080; color: #ffffff; height: 30px; line-height: 30px; border-radius: 5px; padding: 0 15px; content: attr(data-tooltip); white-space: nowrap; display: none; } .NetworKit_Page .Measure .Stat .Group .List .Entry[data-tooltip]:after { position: absolute; left: 15px; top: -10px; border-top: 7px solid #808080; border-left: 7px solid transparent; border-right: 7px solid transparent; content: \"\"; display: none; } .NetworKit_Page .Measure .Stat .Group .List .Entry[data-tooltip]:hover:after, .NetworKit_Page .Measure .Stat .Group .List .Entry[data-tooltip]:hover:before { display: block; } .NetworKit_Page .Measure .Stat .Group .List .Entry .MathValue { font-family: \"Courier New\", Courier, monospace; } .NetworKit_Page .Measure:after { content: \".\"; visibility: hidden; display: block; height: 0; clear: both; } .NetworKit_Page .PartitionPie { clear: both; } .NetworKit_Page .PartitionPie img { width: 600px; } #NetworKit_Overlay { left: 0px; top: 0px; display: none; position: absolute; width: 100%; height: 100%; background-color: rgba(0,0,0,0.6); z-index: 1000; } #NetworKit_Overlay_Title { position: absolute; color: white; transform: rotate(-90deg); width: 32em; height: 32em; padding-right: 0.5em; padding-top: 0.5em; text-align: right; font-size: 40px; } #NetworKit_Overlay .button { background: white; cursor: pointer; } #NetworKit_Overlay .button:before { size: 13px; display: inline-block; text-align: center; margin-top: 0.5em; margin-bottom: 0.5em; width: 1.5em; height: 1.5em; } #NetworKit_Overlay .icon-close:before { content: \"X\"; } #NetworKit_Overlay .icon-previous:before { content: \"P\"; } #NetworKit_Overlay .icon-next:before { content: \"N\"; } #NetworKit_Overlay .icon-save:before { content: \"S\"; } #NetworKit_Overlay_Toolbar_Top, #NetworKit_Overlay_Toolbar_Bottom { position: absolute; width: 40px; right: 13px; text-align: right; z-index: 1100; } #NetworKit_Overlay_Toolbar_Top { top: 0.5em; } #NetworKit_Overlay_Toolbar_Bottom { Bottom: 0.5em; } #NetworKit_Overlay_ImageContainer { position: absolute; top: 5%; left: 5%; height: 90%; width: 90%; background-repeat: no-repeat; background-position: center center; background-size: contain; } #NetworKit_Overlay_Image { height: 100%; width: 100%; background-repeat: no-repeat; background-position: center center; background-size: contain; }';\n",
       "\t\t\t\telement.setAttribute('id', 'NetworKit_style');\n",
       "\t\t\t\tdocument.head.appendChild(element);\n",
       "\t\t\t}\n",
       "\t\t\n",
       "\t\t\t\t\n",
       "\t\t\t{\n",
       "\t\t\t\tvar element = document.getElementById('NetworKit_Overlay');\n",
       "\t\t\t\tif (element) {\n",
       "\t\t\t\t\telement.parentNode.removeChild(element);\n",
       "\t\t\t\t}\n",
       "\t\t\t\telement = document.createElement('div');\n",
       "\t\t\t\telement.innerHTML = '<div id=\"NetworKit_Overlay_Toolbar_Top\"><div class=\"button icon-close\" id=\"NetworKit_Overlay_Close\" /></div><div id=\"NetworKit_Overlay_Title\" /> <div id=\"NetworKit_Overlay_ImageContainer\"> <div id=\"NetworKit_Overlay_Image\" /> </div> <div id=\"NetworKit_Overlay_Toolbar_Bottom\"> <div class=\"button icon-previous\" onclick=\"NetworKit_overlayImageShift(-1)\" /> <div class=\"button icon-next\" onclick=\"NetworKit_overlayImageShift(1)\" /> <a id=\"NetworKit_Overlay_Toolbar_Bottom_Save\"><div class=\"button icon-save\" /></a> </div>';\n",
       "\t\t\t\telement.setAttribute('id', 'NetworKit_Overlay');\n",
       "\t\t\t\tdocument.body.appendChild(element);\n",
       "\t\t\t\tdocument.getElementById('NetworKit_Overlay_Close').onclick = function (e) {\n",
       "\t\t\t\t\tdocument.getElementById('NetworKit_Overlay').style.display = 'none';\n",
       "\t\t\t\t}\n",
       "\t\t\t}\n",
       "\t\t\n",
       "\t\t\t-->\n",
       "\t\t\t</script>\n",
       "\t\t"
      ]
     },
     "metadata": {},
     "output_type": "display_data"
    },
    {
     "name": "stderr",
     "output_type": "stream",
     "text": [
      "WARNING:smart_open.transport:unable to import 'smart_open.gcs', disabling that module\n"
     ]
    }
   ],
   "source": [
    "import gct"
   ]
  },
  {
   "cell_type": "code",
   "execution_count": 2,
   "metadata": {},
   "outputs": [],
   "source": [
    "prefix = \"K_DoesAlgSupportDirTest\"\n",
    "\n",
    "def setup_data():\n",
    "    gct.remove_data(prefix + '_*', dry_run=False)\n",
    "    data1 = gct.random_dataset.generate_directed_unweighted_random_graph_LFR(name=prefix + \"_1\", \\\n",
    "                                   N=128, k=16, maxk=32, mu=0.2, minc=32)\n",
    "    data2 = data1.as_undirected(newname=prefix + \"_2\")\n",
    "    return data1,data2\n"
   ]
  },
  {
   "cell_type": "code",
   "execution_count": 3,
   "metadata": {},
   "outputs": [
    {
     "name": "stderr",
     "output_type": "stream",
     "text": [
      "2020-04-27 23:15:16,961 - RandomGenerator:LFR - INFO - Runing '/opt/gct/submodules/CommunityDetectionCodes/lfr_dir_net -N 128 -k 16 -maxk 32 -mu 0.2 -minc 32'  with seed 498725\n",
      "INFO:RandomGenerator:LFR:Runing '/opt/gct/submodules/CommunityDetectionCodes/lfr_dir_net -N 128 -k 16 -maxk 32 -mu 0.2 -minc 32'  with seed 498725\n",
      "2020-04-27 23:15:16,962 - RandomGenerator:LFR - INFO - working dir: /tmp/tmp79uasbtf\n",
      "INFO:RandomGenerator:LFR:working dir: /tmp/tmp79uasbtf\n",
      "2020-04-27 23:15:16,998 - RandomGenerator:LFR - INFO - min node is 1. will make it 0\n",
      "INFO:RandomGenerator:LFR:min node is 1. will make it 0\n",
      "2020-04-27 23:15:17,007 - Dataset:K_DoesAlgSupportDirTest_1 - INFO - writing/data/data/K_DoesAlgSupportDirTest_1/edges.parq\n",
      "INFO:Dataset:K_DoesAlgSupportDirTest_1:writing/data/data/K_DoesAlgSupportDirTest_1/edges.parq\n"
     ]
    },
    {
     "name": "stdout",
     "output_type": "stream",
     "text": [
      "Removing /data/data/K_DoesAlgSupportDirTest_1\n",
      "Removing /data/result/K_DoesAlgSupportDirTest_1\n",
      "Removing /data/data/K_DoesAlgSupportDirTest_2\n",
      "Removing /data/result/K_DoesAlgSupportDirTest_2\n"
     ]
    },
    {
     "name": "stderr",
     "output_type": "stream",
     "text": [
      "2020-04-27 23:15:17,381 - Clustering - INFO - Writing /data/data/K_DoesAlgSupportDirTest_1/gt_default.parq\n",
      "INFO:Clustering:Writing /data/data/K_DoesAlgSupportDirTest_1/gt_default.parq\n",
      "/opt/conda/envs/python3/lib/python3.7/site-packages/pandas/core/frame.py:4133: SettingWithCopyWarning: \n",
      "A value is trying to be set on a copy of a slice from a DataFrame\n",
      "\n",
      "See the caveats in the documentation: https://pandas.pydata.org/pandas-docs/stable/user_guide/indexing.html#returning-a-view-versus-a-copy\n",
      "  errors=errors,\n",
      "2020-04-27 23:15:17,392 - Dataset:K_DoesAlgSupportDirTest_2 - INFO - writing/data/data/K_DoesAlgSupportDirTest_2/edges.parq\n",
      "INFO:Dataset:K_DoesAlgSupportDirTest_2:writing/data/data/K_DoesAlgSupportDirTest_2/edges.parq\n"
     ]
    }
   ],
   "source": [
    "data_w,data_uw=setup_data()"
   ]
  },
  {
   "cell_type": "code",
   "execution_count": 11,
   "metadata": {},
   "outputs": [
    {
     "data": {
      "text/plain": [
       "('K_DoesAlgSupportDirTest_1', 'K_DoesAlgSupportDirTest_2')"
      ]
     },
     "execution_count": 11,
     "metadata": {},
     "output_type": "execute_result"
    }
   ],
   "source": [
    "data_w.name,data_uw.name"
   ]
  },
  {
   "cell_type": "code",
   "execution_count": 5,
   "metadata": {},
   "outputs": [
    {
     "name": "stdout",
     "output_type": "stream",
     "text": [
      "Collecting func-timeout\n",
      "  Downloading https://files.pythonhosted.org/packages/b3/0d/bf0567477f7281d9a3926c582bfef21bff7498fc0ffd3e9de21811896a0b/func_timeout-4.3.5.tar.gz (44kB)\n",
      "\u001b[K    100% |████████████████████████████████| 51kB 2.0MB/s ta 0:00:011\n",
      "\u001b[?25hBuilding wheels for collected packages: func-timeout\n",
      "  Running setup.py bdist_wheel for func-timeout ... \u001b[?25ldone\n",
      "\u001b[?25h  Stored in directory: /root/.cache/pip/wheels/46/7c/4f/24f1d2d5bbff92219debe7ea19af84f76ddeb90dd4ec544f26\n",
      "Successfully built func-timeout\n",
      "Installing collected packages: func-timeout\n",
      "Successfully installed func-timeout-4.3.5\n",
      "\u001b[33mYou are using pip version 9.0.3, however version 20.0.2 is available.\n",
      "You should consider upgrading via the 'pip install --upgrade pip' command.\u001b[0m\n"
     ]
    }
   ],
   "source": [
    "!pip install func-timeout"
   ]
  },
  {
   "cell_type": "code",
   "execution_count": 6,
   "metadata": {},
   "outputs": [],
   "source": [
    "import os\n",
    "from func_timeout import func_timeout, FunctionTimedOut\n",
    "from gct import config,utils\n",
    "def has_run_1(runame, dsname):\n",
    "    fpath = os.path.join(config.get_result_file_path(dsname=dsname, runname=runame), 'result.txt')\n",
    "    return utils.file_exists(fpath)\n",
    "\n",
    "def has_run(runame, dsname):\n",
    "    fpath = os.path.join(\"/{}/tmp/{}_{}.done\".format('data', runame,dsname))\n",
    "    return utils.file_exists(fpath)\n",
    "\n",
    "def timeout(func, args=(), kwargs={}, timeout_duration=10, default=None):\n",
    "    result=default\n",
    "    try:\n",
    "        result = func_timeout(timeout_duration, func, args=args, kwargs=kwargs)\n",
    "    except FunctionTimedOut:\n",
    "        print(\"timeout\", func,args,kwargs)\n",
    "    except:\n",
    "        print (\"Unexpected error:\", sys.exc_info()[0])\n",
    "    return result\n",
    "\n",
    "def timeout0(func, args=(), kwargs={}, timeout_duration=10, default=None):\n",
    "    import signal\n",
    "\n",
    "    class TimeoutError(Exception):\n",
    "        pass\n",
    "\n",
    "    def handler(signum, frame):\n",
    "        raise TimeoutError()\n",
    "\n",
    "    # set the timeout handler\n",
    "    signal.signal(signal.SIGALRM, handler) \n",
    "    signal.alarm(timeout_duration)\n",
    "    try:\n",
    "        result = func(*args, **kwargs)\n",
    "    except TimeoutError as exc:\n",
    "        result = default\n",
    "    finally:\n",
    "        signal.alarm(0)\n",
    "\n",
    "    return result\n"
   ]
  },
  {
   "cell_type": "code",
   "execution_count": 7,
   "metadata": {},
   "outputs": [],
   "source": [
    "\n",
    "def run_alg(alg,dsname, check_skip=True):\n",
    "    try:\n",
    "        runname = alg\n",
    "        if not check_skip or (check_skip and not has_run(runname, dsname)):\n",
    "            print (\"runing \", alg, dsname)\n",
    "            if alg =='cdc_SVINET':\n",
    "                gct.run_alg(runname=runname, data=gct.load_local_graph(dsname), algname=alg, seed=123, max_iterations=1000)        \n",
    "            else:\n",
    "                gct.run_alg(runname=runname, data=gct.load_local_graph(dsname), algname=alg, seed=123)\n",
    "            print (\"finished\", alg,dsname)\n",
    "        else:\n",
    "            print(\"skip\", runname,dsname)\n",
    "    except:\n",
    "        print(\"except\", runname,dsname)\n",
    "    return True\n",
    "    \n",
    "\n",
    "def run_alg_timeout(alg,dsname,timeout_duration=600):\n",
    "    if not timeout(run_alg, (alg,dsname), timeout_duration=timeout_duration):\n",
    "        print(\"tiemout\", alg,dsname)\n",
    "    fpath = os.path.join(\"/{}/tmp/{}_{}.done\".format('data', alg,dsname))\n",
    "    !touch {fpath}\n",
    "\n",
    "        \n"
   ]
  },
  {
   "cell_type": "code",
   "execution_count": 15,
   "metadata": {},
   "outputs": [
    {
     "name": "stderr",
     "output_type": "stream",
     "text": [
      "2020-04-27 23:16:34,189 - Dataset:K_DoesAlgSupportDirTest_1 - INFO - writing edges to /data/data/K_DoesAlgSupportDirTest_1/edges.txt\n",
      "INFO:Dataset:K_DoesAlgSupportDirTest_1:writing edges to /data/data/K_DoesAlgSupportDirTest_1/edges.txt\n",
      "2020-04-27 23:16:34,191 - Dataset:K_DoesAlgSupportDirTest_1 - INFO - reading /data/data/K_DoesAlgSupportDirTest_1/edges.parq\n",
      "INFO:Dataset:K_DoesAlgSupportDirTest_1:reading /data/data/K_DoesAlgSupportDirTest_1/edges.parq\n"
     ]
    },
    {
     "name": "stdout",
     "output_type": "stream",
     "text": [
      "runing  oslom_lpm K_DoesAlgSupportDirTest_1\n"
     ]
    },
    {
     "name": "stderr",
     "output_type": "stream",
     "text": [
      "2020-04-27 23:16:34,463 - Dataset:K_DoesAlgSupportDirTest_1 - INFO - finish writing /data/data/K_DoesAlgSupportDirTest_1/edges.txt\n",
      "INFO:Dataset:K_DoesAlgSupportDirTest_1:finish writing /data/data/K_DoesAlgSupportDirTest_1/edges.txt\n",
      "2020-04-27 23:16:34,464 - oslom_lpm - INFO - Running /opt/gct/submodules/OSLOM/lpm -f /tmp/tmp2q0fp_i7/edges.txt -r 1 -seed 123\n",
      "INFO:oslom_lpm:Running /opt/gct/submodules/OSLOM/lpm -f /tmp/tmp2q0fp_i7/edges.txt -r 1 -seed 123\n",
      "2020-04-27 23:16:34,478 - oslom_lpm - INFO - Made 5 clusters in 0.012883 seconds\n",
      "INFO:oslom_lpm:Made 5 clusters in 0.012883 seconds\n"
     ]
    },
    {
     "name": "stdout",
     "output_type": "stream",
     "text": [
      "finished oslom_lpm K_DoesAlgSupportDirTest_1\n"
     ]
    },
    {
     "data": {
      "text/plain": [
       "True"
      ]
     },
     "execution_count": 15,
     "metadata": {},
     "output_type": "execute_result"
    }
   ],
   "source": [
    "run_alg(\"oslom_lpm\", data_w.name)"
   ]
  },
  {
   "cell_type": "code",
   "execution_count": 16,
   "metadata": {},
   "outputs": [
    {
     "name": "stderr",
     "output_type": "stream",
     "text": [
      "2020-04-27 23:16:35,245 - oslom_lpm - INFO - Running /opt/gct/submodules/OSLOM/lpm -f /tmp/tmpz_kum25r/edges.txt -r 1 -seed 123\n",
      "INFO:oslom_lpm:Running /opt/gct/submodules/OSLOM/lpm -f /tmp/tmpz_kum25r/edges.txt -r 1 -seed 123\n",
      "2020-04-27 23:16:35,258 - oslom_lpm - INFO - Made 5 clusters in 0.011840 seconds\n",
      "INFO:oslom_lpm:Made 5 clusters in 0.011840 seconds\n"
     ]
    },
    {
     "name": "stdout",
     "output_type": "stream",
     "text": [
      "runing  oslom_lpm K_DoesAlgSupportDirTest_1\n",
      "finished oslom_lpm K_DoesAlgSupportDirTest_1\n"
     ]
    }
   ],
   "source": [
    "run_alg_timeout(\"oslom_lpm\", data_w.name)"
   ]
  },
  {
   "cell_type": "code",
   "execution_count": 17,
   "metadata": {
    "scrolled": true
   },
   "outputs": [
    {
     "name": "stderr",
     "output_type": "stream",
     "text": [
      "2020-04-27 23:16:38,052 - oslom_Infohiermap - INFO - Running /opt/gct/submodules/OSLOM/infohiermap_dir 123 /tmp/tmpjn_0bmy7/pajek.txt 1\n",
      "INFO:oslom_Infohiermap:Running /opt/gct/submodules/OSLOM/infohiermap_dir 123 /tmp/tmpjn_0bmy7/pajek.txt 1\n",
      "2020-04-27 23:16:38,074 - oslom_Infohiermap - INFO - Made 6 clusters in 0.012223 seconds\n",
      "INFO:oslom_Infohiermap:Made 6 clusters in 0.012223 seconds\n"
     ]
    },
    {
     "name": "stdout",
     "output_type": "stream",
     "text": [
      "runing  oslom_Infohiermap K_DoesAlgSupportDirTest_1\n",
      "finished oslom_Infohiermap K_DoesAlgSupportDirTest_1\n"
     ]
    },
    {
     "name": "stderr",
     "output_type": "stream",
     "text": [
      "2020-04-27 23:16:38,188 - Dataset:K_DoesAlgSupportDirTest_2 - INFO - writing edges to /data/data/K_DoesAlgSupportDirTest_2/edges.txt\n",
      "INFO:Dataset:K_DoesAlgSupportDirTest_2:writing edges to /data/data/K_DoesAlgSupportDirTest_2/edges.txt\n",
      "2020-04-27 23:16:38,189 - Dataset:K_DoesAlgSupportDirTest_2 - INFO - reading /data/data/K_DoesAlgSupportDirTest_2/edges.parq\n",
      "INFO:Dataset:K_DoesAlgSupportDirTest_2:reading /data/data/K_DoesAlgSupportDirTest_2/edges.parq\n"
     ]
    },
    {
     "name": "stdout",
     "output_type": "stream",
     "text": [
      "runing  oslom_Infohiermap K_DoesAlgSupportDirTest_2\n"
     ]
    },
    {
     "name": "stderr",
     "output_type": "stream",
     "text": [
      "2020-04-27 23:16:38,324 - Dataset:K_DoesAlgSupportDirTest_2 - INFO - finish writing /data/data/K_DoesAlgSupportDirTest_2/edges.txt\n",
      "INFO:Dataset:K_DoesAlgSupportDirTest_2:finish writing /data/data/K_DoesAlgSupportDirTest_2/edges.txt\n",
      "2020-04-27 23:16:38,342 - oslom_Infohiermap - INFO - Running /opt/gct/submodules/OSLOM/infohiermap_undir 123 /tmp/tmp1410n7gn/pajek.txt 1\n",
      "INFO:oslom_Infohiermap:Running /opt/gct/submodules/OSLOM/infohiermap_undir 123 /tmp/tmp1410n7gn/pajek.txt 1\n",
      "2020-04-27 23:16:38,368 - oslom_Infohiermap - INFO - Made 6 clusters in 0.017283 seconds\n",
      "INFO:oslom_Infohiermap:Made 6 clusters in 0.017283 seconds\n"
     ]
    },
    {
     "name": "stdout",
     "output_type": "stream",
     "text": [
      "finished oslom_Infohiermap K_DoesAlgSupportDirTest_2\n"
     ]
    },
    {
     "name": "stderr",
     "output_type": "stream",
     "text": [
      "2020-04-27 23:16:38,483 - oslom_Infomap - INFO - Running /opt/gct/submodules/OSLOM2/infomap_dir 123 /tmp/tmpyyj031vp/pajek.txt 1\n",
      "INFO:oslom_Infomap:Running /opt/gct/submodules/OSLOM2/infomap_dir 123 /tmp/tmpyyj031vp/pajek.txt 1\n",
      "2020-04-27 23:16:38,501 - oslom_Infomap - INFO - Made 6 clusters in 0.009748 seconds\n",
      "INFO:oslom_Infomap:Made 6 clusters in 0.009748 seconds\n"
     ]
    },
    {
     "name": "stdout",
     "output_type": "stream",
     "text": [
      "runing  oslom_Infomap K_DoesAlgSupportDirTest_1\n",
      "finished oslom_Infomap K_DoesAlgSupportDirTest_1\n"
     ]
    },
    {
     "name": "stderr",
     "output_type": "stream",
     "text": [
      "2020-04-27 23:16:38,616 - oslom_Infomap - INFO - Running /opt/gct/submodules/OSLOM2/infomap_dir 123 /tmp/tmp7wj8s5lx/pajek.txt 1\n",
      "INFO:oslom_Infomap:Running /opt/gct/submodules/OSLOM2/infomap_dir 123 /tmp/tmp7wj8s5lx/pajek.txt 1\n",
      "2020-04-27 23:16:38,638 - oslom_Infomap - INFO - Made 6 clusters in 0.013545 seconds\n",
      "INFO:oslom_Infomap:Made 6 clusters in 0.013545 seconds\n"
     ]
    },
    {
     "name": "stdout",
     "output_type": "stream",
     "text": [
      "runing  oslom_Infomap K_DoesAlgSupportDirTest_2\n",
      "finished oslom_Infomap K_DoesAlgSupportDirTest_2\n"
     ]
    },
    {
     "name": "stderr",
     "output_type": "stream",
     "text": [
      "2020-04-27 23:16:38,753 - oslom_OSLOM - INFO - Running /opt/gct/submodules/OSLOM2/oslom_dir -f /tmp/tmpagngoqcv/edges.txt -uw -r 10 -hr 50 -seed 123 -t 0.1 -cp 0.5\n",
      "INFO:oslom_OSLOM:Running /opt/gct/submodules/OSLOM2/oslom_dir -f /tmp/tmpagngoqcv/edges.txt -uw -r 10 -hr 50 -seed 123 -t 0.1 -cp 0.5\n"
     ]
    },
    {
     "name": "stdout",
     "output_type": "stream",
     "text": [
      "runing  oslom_OSLOM K_DoesAlgSupportDirTest_1\n"
     ]
    },
    {
     "name": "stderr",
     "output_type": "stream",
     "text": [
      "2020-04-27 23:16:40,420 - oslom_OSLOM - INFO - Made 1 levels of clusters with #clusters [6] in 1.665857 seconds\n",
      "INFO:oslom_OSLOM:Made 1 levels of clusters with #clusters [6] in 1.665857 seconds\n"
     ]
    },
    {
     "name": "stdout",
     "output_type": "stream",
     "text": [
      "finished oslom_OSLOM K_DoesAlgSupportDirTest_1\n"
     ]
    },
    {
     "name": "stderr",
     "output_type": "stream",
     "text": [
      "2020-04-27 23:16:40,538 - oslom_OSLOM - INFO - Running /opt/gct/submodules/OSLOM2/oslom_undir -f /tmp/tmpl1eupgte/edges.txt -uw -r 10 -hr 50 -seed 123 -t 0.1 -cp 0.5\n",
      "INFO:oslom_OSLOM:Running /opt/gct/submodules/OSLOM2/oslom_undir -f /tmp/tmpl1eupgte/edges.txt -uw -r 10 -hr 50 -seed 123 -t 0.1 -cp 0.5\n"
     ]
    },
    {
     "name": "stdout",
     "output_type": "stream",
     "text": [
      "runing  oslom_OSLOM K_DoesAlgSupportDirTest_2\n"
     ]
    },
    {
     "name": "stderr",
     "output_type": "stream",
     "text": [
      "2020-04-27 23:16:41,564 - oslom_OSLOM - INFO - Made 1 levels of clusters with #clusters [6] in 1.024589 seconds\n",
      "INFO:oslom_OSLOM:Made 1 levels of clusters with #clusters [6] in 1.024589 seconds\n"
     ]
    },
    {
     "name": "stdout",
     "output_type": "stream",
     "text": [
      "finished oslom_OSLOM K_DoesAlgSupportDirTest_2\n"
     ]
    },
    {
     "name": "stderr",
     "output_type": "stream",
     "text": [
      "2020-04-27 23:16:41,682 - oslom_copra - INFO - seed ignored\n",
      "INFO:oslom_copra:seed ignored\n",
      "2020-04-27 23:16:41,684 - oslom_copra - INFO - Running java -cp /opt/gct/submodules/OSLOM2/copra.jar COPRA /tmp/tmp748mvic9/edges.txt -w -v 5 -nosplit -extrasimplify -q\n",
      "INFO:oslom_copra:Running java -cp /opt/gct/submodules/OSLOM2/copra.jar COPRA /tmp/tmp748mvic9/edges.txt -w -v 5 -nosplit -extrasimplify -q\n"
     ]
    },
    {
     "name": "stdout",
     "output_type": "stream",
     "text": [
      "runing  oslom_copra K_DoesAlgSupportDirTest_1\n"
     ]
    },
    {
     "name": "stderr",
     "output_type": "stream",
     "text": [
      "2020-04-27 23:16:41,822 - oslom_copra - INFO - Made 6 clusters in 0.136337 seconds\n",
      "INFO:oslom_copra:Made 6 clusters in 0.136337 seconds\n"
     ]
    },
    {
     "name": "stdout",
     "output_type": "stream",
     "text": [
      "finished oslom_copra K_DoesAlgSupportDirTest_1\n"
     ]
    },
    {
     "name": "stderr",
     "output_type": "stream",
     "text": [
      "2020-04-27 23:16:41,939 - oslom_copra - INFO - seed ignored\n",
      "INFO:oslom_copra:seed ignored\n",
      "2020-04-27 23:16:41,940 - oslom_copra - INFO - Running java -cp /opt/gct/submodules/OSLOM2/copra.jar COPRA /tmp/tmpdjr3pdy1/edges.txt -w -v 5 -nosplit -extrasimplify -q\n",
      "INFO:oslom_copra:Running java -cp /opt/gct/submodules/OSLOM2/copra.jar COPRA /tmp/tmpdjr3pdy1/edges.txt -w -v 5 -nosplit -extrasimplify -q\n"
     ]
    },
    {
     "name": "stdout",
     "output_type": "stream",
     "text": [
      "runing  oslom_copra K_DoesAlgSupportDirTest_2\n"
     ]
    },
    {
     "name": "stderr",
     "output_type": "stream",
     "text": [
      "2020-04-27 23:16:42,091 - oslom_copra - INFO - Made 6 clusters in 0.149867 seconds\n",
      "INFO:oslom_copra:Made 6 clusters in 0.149867 seconds\n"
     ]
    },
    {
     "name": "stdout",
     "output_type": "stream",
     "text": [
      "finished oslom_copra K_DoesAlgSupportDirTest_2\n"
     ]
    },
    {
     "name": "stderr",
     "output_type": "stream",
     "text": [
      "2020-04-27 23:16:42,209 - oslom_louvain_method - INFO - Running /opt/gct/submodules/OSLOM/louvain_method -f /tmp/tmpwtcps1_l/edges.txt -r 1 -seed 123\n",
      "INFO:oslom_louvain_method:Running /opt/gct/submodules/OSLOM/louvain_method -f /tmp/tmpwtcps1_l/edges.txt -r 1 -seed 123\n",
      "2020-04-27 23:16:42,224 - oslom_louvain_method - INFO - Made 6 clusters in 0.012902 seconds\n",
      "INFO:oslom_louvain_method:Made 6 clusters in 0.012902 seconds\n"
     ]
    },
    {
     "name": "stdout",
     "output_type": "stream",
     "text": [
      "runing  oslom_louvain_method K_DoesAlgSupportDirTest_1\n",
      "finished oslom_louvain_method K_DoesAlgSupportDirTest_1\n"
     ]
    },
    {
     "name": "stderr",
     "output_type": "stream",
     "text": [
      "2020-04-27 23:16:42,339 - oslom_louvain_method - INFO - Running /opt/gct/submodules/OSLOM/louvain_method -f /tmp/tmpv_rpugk0/edges.txt -r 1 -seed 123\n",
      "INFO:oslom_louvain_method:Running /opt/gct/submodules/OSLOM/louvain_method -f /tmp/tmpv_rpugk0/edges.txt -r 1 -seed 123\n",
      "2020-04-27 23:16:42,351 - oslom_louvain_method - INFO - Made 6 clusters in 0.011196 seconds\n",
      "INFO:oslom_louvain_method:Made 6 clusters in 0.011196 seconds\n"
     ]
    },
    {
     "name": "stdout",
     "output_type": "stream",
     "text": [
      "runing  oslom_louvain_method K_DoesAlgSupportDirTest_2\n",
      "finished oslom_louvain_method K_DoesAlgSupportDirTest_2\n",
      "skip oslom_lpm K_DoesAlgSupportDirTest_1\n"
     ]
    },
    {
     "name": "stderr",
     "output_type": "stream",
     "text": [
      "2020-04-27 23:16:42,577 - oslom_lpm - INFO - Running /opt/gct/submodules/OSLOM/lpm -f /tmp/tmpss46rc_a/edges.txt -r 1 -seed 123\n",
      "INFO:oslom_lpm:Running /opt/gct/submodules/OSLOM/lpm -f /tmp/tmpss46rc_a/edges.txt -r 1 -seed 123\n",
      "2020-04-27 23:16:42,586 - oslom_lpm - INFO - Made 5 clusters in 0.008176 seconds\n",
      "INFO:oslom_lpm:Made 5 clusters in 0.008176 seconds\n"
     ]
    },
    {
     "name": "stdout",
     "output_type": "stream",
     "text": [
      "runing  oslom_lpm K_DoesAlgSupportDirTest_2\n",
      "finished oslom_lpm K_DoesAlgSupportDirTest_2\n"
     ]
    },
    {
     "name": "stderr",
     "output_type": "stream",
     "text": [
      "2020-04-27 23:16:42,701 - oslom_modopt - INFO - Running /opt/gct/submodules/OSLOM/modopt /tmp/tmpqj7ftgm4/edges.txt 123 1 5 0.999 1e-06\n",
      "INFO:oslom_modopt:Running /opt/gct/submodules/OSLOM/modopt /tmp/tmpqj7ftgm4/edges.txt 123 1 5 0.999 1e-06\n"
     ]
    },
    {
     "name": "stdout",
     "output_type": "stream",
     "text": [
      "runing  oslom_modopt K_DoesAlgSupportDirTest_1\n"
     ]
    },
    {
     "name": "stderr",
     "output_type": "stream",
     "text": [
      "2020-04-27 23:16:42,794 - oslom_modopt - INFO - Made 6 clusters in 0.092033 seconds\n",
      "INFO:oslom_modopt:Made 6 clusters in 0.092033 seconds\n"
     ]
    },
    {
     "name": "stdout",
     "output_type": "stream",
     "text": [
      "finished oslom_modopt K_DoesAlgSupportDirTest_1\n"
     ]
    },
    {
     "name": "stderr",
     "output_type": "stream",
     "text": [
      "2020-04-27 23:16:42,909 - oslom_modopt - INFO - Running /opt/gct/submodules/OSLOM/modopt /tmp/tmp3l26z8n5/edges.txt 123 1 5 0.999 1e-06\n",
      "INFO:oslom_modopt:Running /opt/gct/submodules/OSLOM/modopt /tmp/tmp3l26z8n5/edges.txt 123 1 5 0.999 1e-06\n"
     ]
    },
    {
     "name": "stdout",
     "output_type": "stream",
     "text": [
      "runing  oslom_modopt K_DoesAlgSupportDirTest_2\n"
     ]
    },
    {
     "name": "stderr",
     "output_type": "stream",
     "text": [
      "2020-04-27 23:16:43,005 - oslom_modopt - INFO - Made 6 clusters in 0.094535 seconds\n",
      "INFO:oslom_modopt:Made 6 clusters in 0.094535 seconds\n"
     ]
    },
    {
     "name": "stdout",
     "output_type": "stream",
     "text": [
      "finished oslom_modopt K_DoesAlgSupportDirTest_2\n"
     ]
    },
    {
     "name": "stderr",
     "output_type": "stream",
     "text": [
      "2020-04-27 23:16:43,121 - pycabem_GANXiSw - INFO - Running java -jar /opt/gct/submodules/GANXiS/GANXiSw.jar -i edges.txt -seed 123 -d output -r 0.1 \n",
      "INFO:pycabem_GANXiSw:Running java -jar /opt/gct/submodules/GANXiS/GANXiSw.jar -i edges.txt -seed 123 -d output -r 0.1 \n"
     ]
    },
    {
     "name": "stdout",
     "output_type": "stream",
     "text": [
      "runing  pycabem_GANXiSw K_DoesAlgSupportDirTest_1\n"
     ]
    },
    {
     "name": "stderr",
     "output_type": "stream",
     "text": [
      "2020-04-27 23:16:43,302 - pycabem_GANXiSw - INFO - Made 6 clusters in 0.179286 seconds\n",
      "INFO:pycabem_GANXiSw:Made 6 clusters in 0.179286 seconds\n"
     ]
    },
    {
     "name": "stdout",
     "output_type": "stream",
     "text": [
      "finished pycabem_GANXiSw K_DoesAlgSupportDirTest_1\n"
     ]
    },
    {
     "name": "stderr",
     "output_type": "stream",
     "text": [
      "2020-04-27 23:16:43,420 - pycabem_GANXiSw - INFO - Running java -jar /opt/gct/submodules/GANXiS/GANXiSw.jar -i edges.txt -seed 123 -Sym 1 -d output -r 0.1 \n",
      "INFO:pycabem_GANXiSw:Running java -jar /opt/gct/submodules/GANXiS/GANXiSw.jar -i edges.txt -seed 123 -Sym 1 -d output -r 0.1 \n"
     ]
    },
    {
     "name": "stdout",
     "output_type": "stream",
     "text": [
      "runing  pycabem_GANXiSw K_DoesAlgSupportDirTest_2\n"
     ]
    },
    {
     "name": "stderr",
     "output_type": "stream",
     "text": [
      "2020-04-27 23:16:43,625 - pycabem_GANXiSw - INFO - Made 5 clusters in 0.203544 seconds\n",
      "INFO:pycabem_GANXiSw:Made 5 clusters in 0.203544 seconds\n"
     ]
    },
    {
     "name": "stdout",
     "output_type": "stream",
     "text": [
      "finished pycabem_GANXiSw K_DoesAlgSupportDirTest_2\n"
     ]
    },
    {
     "name": "stderr",
     "output_type": "stream",
     "text": [
      "2020-04-27 23:16:43,743 - pycabem_HiReCS - INFO - seed ignored\n",
      "INFO:pycabem_HiReCS:seed ignored\n",
      "2020-04-27 23:16:43,744 - Dataset:K_DoesAlgSupportDirTest_1 - INFO - running python /opt/gct/submodules/hirecs/pajek_hig.py /data/data/K_DoesAlgSupportDirTest_1/pajek.txt\n",
      "INFO:Dataset:K_DoesAlgSupportDirTest_1:running python /opt/gct/submodules/hirecs/pajek_hig.py /data/data/K_DoesAlgSupportDirTest_1/pajek.txt\n",
      "2020-04-27 23:16:43,775 - pycabem_HiReCS - INFO - Running ./hirecs -oje /data/data/K_DoesAlgSupportDirTest_1/pajek.hig > output\n",
      "INFO:pycabem_HiReCS:Running ./hirecs -oje /data/data/K_DoesAlgSupportDirTest_1/pajek.hig > output\n",
      "2020-04-27 23:16:43,793 - pycabem_HiReCS - INFO - Made 6 clusters in 0.015404 seconds with modularity 0.610826\n",
      "INFO:pycabem_HiReCS:Made 6 clusters in 0.015404 seconds with modularity 0.610826\n"
     ]
    },
    {
     "name": "stdout",
     "output_type": "stream",
     "text": [
      "runing  pycabem_HiReCS K_DoesAlgSupportDirTest_1\n",
      "finished pycabem_HiReCS K_DoesAlgSupportDirTest_1\n"
     ]
    },
    {
     "name": "stderr",
     "output_type": "stream",
     "text": [
      "2020-04-27 23:16:43,907 - pycabem_HiReCS - INFO - seed ignored\n",
      "INFO:pycabem_HiReCS:seed ignored\n",
      "2020-04-27 23:16:43,908 - Dataset:K_DoesAlgSupportDirTest_2 - INFO - running python /opt/gct/submodules/hirecs/pajek_hig.py /data/data/K_DoesAlgSupportDirTest_2/pajek.txt\n",
      "INFO:Dataset:K_DoesAlgSupportDirTest_2:running python /opt/gct/submodules/hirecs/pajek_hig.py /data/data/K_DoesAlgSupportDirTest_2/pajek.txt\n",
      "2020-04-27 23:16:43,936 - pycabem_HiReCS - INFO - Running ./hirecs -oje /data/data/K_DoesAlgSupportDirTest_2/pajek.hig > output\n",
      "INFO:pycabem_HiReCS:Running ./hirecs -oje /data/data/K_DoesAlgSupportDirTest_2/pajek.hig > output\n"
     ]
    },
    {
     "name": "stdout",
     "output_type": "stream",
     "text": [
      "runing  pycabem_HiReCS K_DoesAlgSupportDirTest_2\n"
     ]
    },
    {
     "name": "stderr",
     "output_type": "stream",
     "text": [
      "2020-04-27 23:16:43,952 - pycabem_HiReCS - INFO - Made 7 clusters in 0.013639 seconds with modularity 0.545539\n",
      "INFO:pycabem_HiReCS:Made 7 clusters in 0.013639 seconds with modularity 0.545539\n"
     ]
    },
    {
     "name": "stdout",
     "output_type": "stream",
     "text": [
      "finished pycabem_HiReCS K_DoesAlgSupportDirTest_2\n"
     ]
    },
    {
     "name": "stderr",
     "output_type": "stream",
     "text": [
      "2020-04-27 23:16:44,067 - pycabem_LabelRank - INFO - seed ignored\n",
      "INFO:pycabem_LabelRank:seed ignored\n",
      "2020-04-27 23:16:44,068 - pycabem_LabelRank - INFO - Running /opt/gct/submodules/GANXiS/LabelRank edges.txt 0.01 2 0.3\n",
      "INFO:pycabem_LabelRank:Running /opt/gct/submodules/GANXiS/LabelRank edges.txt 0.01 2 0.3\n"
     ]
    },
    {
     "name": "stdout",
     "output_type": "stream",
     "text": [
      "runing  pycabem_LabelRank K_DoesAlgSupportDirTest_1\n"
     ]
    },
    {
     "name": "stderr",
     "output_type": "stream",
     "text": [
      "2020-04-27 23:16:44,173 - pycabem_LabelRank - INFO - Made 6 clusters in 0.103086 seconds\n",
      "INFO:pycabem_LabelRank:Made 6 clusters in 0.103086 seconds\n"
     ]
    },
    {
     "name": "stdout",
     "output_type": "stream",
     "text": [
      "finished pycabem_LabelRank K_DoesAlgSupportDirTest_1\n"
     ]
    },
    {
     "name": "stderr",
     "output_type": "stream",
     "text": [
      "2020-04-27 23:16:44,287 - pycabem_LabelRank - INFO - seed ignored\n",
      "INFO:pycabem_LabelRank:seed ignored\n",
      "2020-04-27 23:16:44,289 - pycabem_LabelRank - INFO - Running /opt/gct/submodules/GANXiS/LabelRank edges.txt 0.01 2 0.3\n",
      "INFO:pycabem_LabelRank:Running /opt/gct/submodules/GANXiS/LabelRank edges.txt 0.01 2 0.3\n"
     ]
    },
    {
     "name": "stdout",
     "output_type": "stream",
     "text": [
      "runing  pycabem_LabelRank K_DoesAlgSupportDirTest_2\n"
     ]
    },
    {
     "name": "stderr",
     "output_type": "stream",
     "text": [
      "2020-04-27 23:16:44,391 - pycabem_LabelRank - INFO - Made 6 clusters in 0.100453 seconds\n",
      "INFO:pycabem_LabelRank:Made 6 clusters in 0.100453 seconds\n"
     ]
    },
    {
     "name": "stdout",
     "output_type": "stream",
     "text": [
      "finished pycabem_LabelRank K_DoesAlgSupportDirTest_2\n"
     ]
    },
    {
     "name": "stderr",
     "output_type": "stream",
     "text": [
      "2020-04-27 23:16:44,506 - cdc_CONGA - INFO - seed ignored\n",
      "INFO:cdc_CONGA:seed ignored\n",
      "2020-04-27 23:16:44,507 - cdc_CONGA - INFO - Running java -cp /opt/gct/submodules/CommunityDetectionCodes/conga-1.0-SNAPSHOT.jar conga.CONGA edges.txt -e -s\n",
      "INFO:cdc_CONGA:Running java -cp /opt/gct/submodules/CommunityDetectionCodes/conga-1.0-SNAPSHOT.jar conga.CONGA edges.txt -e -s\n"
     ]
    },
    {
     "name": "stdout",
     "output_type": "stream",
     "text": [
      "runing  cdc_CONGA K_DoesAlgSupportDirTest_1\n"
     ]
    },
    {
     "name": "stderr",
     "output_type": "stream",
     "text": [
      "2020-04-27 23:16:57,078 - cdc_CONGA - INFO - Finish first step in 12.570442 seconds\n",
      "INFO:cdc_CONGA:Finish first step in 12.570442 seconds\n",
      "2020-04-27 23:16:57,080 - cdc_CONGA - INFO - Running java -cp /opt/gct/submodules/CommunityDetectionCodes/conga-1.0-SNAPSHOT.jar conga.CONGA edges.txt -e -s -n 5\n",
      "INFO:cdc_CONGA:Running java -cp /opt/gct/submodules/CommunityDetectionCodes/conga-1.0-SNAPSHOT.jar conga.CONGA edges.txt -e -s -n 5\n",
      "2020-04-27 23:16:57,189 - cdc_CONGA - INFO - Made 5 clusters in 0.108440 seconds\n",
      "INFO:cdc_CONGA:Made 5 clusters in 0.108440 seconds\n"
     ]
    },
    {
     "name": "stdout",
     "output_type": "stream",
     "text": [
      "finished cdc_CONGA K_DoesAlgSupportDirTest_1\n"
     ]
    },
    {
     "name": "stderr",
     "output_type": "stream",
     "text": [
      "2020-04-27 23:16:57,307 - cdc_CONGA - INFO - seed ignored\n",
      "INFO:cdc_CONGA:seed ignored\n",
      "2020-04-27 23:16:57,308 - cdc_CONGA - INFO - Running java -cp /opt/gct/submodules/CommunityDetectionCodes/conga-1.0-SNAPSHOT.jar conga.CONGA edges.txt -e -s\n",
      "INFO:cdc_CONGA:Running java -cp /opt/gct/submodules/CommunityDetectionCodes/conga-1.0-SNAPSHOT.jar conga.CONGA edges.txt -e -s\n"
     ]
    },
    {
     "name": "stdout",
     "output_type": "stream",
     "text": [
      "runing  cdc_CONGA K_DoesAlgSupportDirTest_2\n"
     ]
    },
    {
     "name": "stderr",
     "output_type": "stream",
     "text": [
      "2020-04-27 23:17:09,969 - cdc_CONGA - INFO - Finish first step in 12.660619 seconds\n",
      "INFO:cdc_CONGA:Finish first step in 12.660619 seconds\n",
      "2020-04-27 23:17:09,971 - cdc_CONGA - INFO - Running java -cp /opt/gct/submodules/CommunityDetectionCodes/conga-1.0-SNAPSHOT.jar conga.CONGA edges.txt -e -s -n 5\n",
      "INFO:cdc_CONGA:Running java -cp /opt/gct/submodules/CommunityDetectionCodes/conga-1.0-SNAPSHOT.jar conga.CONGA edges.txt -e -s -n 5\n",
      "2020-04-27 23:17:10,094 - cdc_CONGA - INFO - Made 5 clusters in 0.122427 seconds\n",
      "INFO:cdc_CONGA:Made 5 clusters in 0.122427 seconds\n"
     ]
    },
    {
     "name": "stdout",
     "output_type": "stream",
     "text": [
      "finished cdc_CONGA K_DoesAlgSupportDirTest_2\n",
      "runing  cdc_CliquePercolation K_DoesAlgSupportDirTest_1\n",
      "finished cdc_CliquePercolation K_DoesAlgSupportDirTest_1\n"
     ]
    },
    {
     "name": "stderr",
     "output_type": "stream",
     "text": [
      "Error: only undirected and unmirrored graph is supported for CliquePercolation\n",
      "2020-04-27 23:17:10,326 - cdc_CliquePercolation - INFO - seed ignored\n",
      "INFO:cdc_CliquePercolation:seed ignored\n",
      "2020-04-27 23:17:10,327 - cdc_CliquePercolation - INFO - Running /opt/gct/submodules/CommunityDetectionCodes/k_clique edges.txt -o=output\n",
      "INFO:cdc_CliquePercolation:Running /opt/gct/submodules/CommunityDetectionCodes/k_clique edges.txt -o=output\n",
      "2020-04-27 23:17:10,341 - cdc_CliquePercolation - INFO - Made 1 clusters in 0.012503 seconds\n",
      "INFO:cdc_CliquePercolation:Made 1 clusters in 0.012503 seconds\n"
     ]
    },
    {
     "name": "stdout",
     "output_type": "stream",
     "text": [
      "runing  cdc_CliquePercolation K_DoesAlgSupportDirTest_2\n",
      "finished cdc_CliquePercolation K_DoesAlgSupportDirTest_2\n"
     ]
    },
    {
     "name": "stderr",
     "output_type": "stream",
     "text": [
      "2020-04-27 23:17:10,455 - cdc_Connected_Iterative_Scan - INFO - seed ignored\n",
      "INFO:cdc_Connected_Iterative_Scan:seed ignored\n",
      "2020-04-27 23:17:10,456 - cdc_Connected_Iterative_Scan - INFO - Running /opt/gct/submodules/CommunityDetectionCodes/2009-cis -i edges.txt -o output\n",
      "INFO:cdc_Connected_Iterative_Scan:Running /opt/gct/submodules/CommunityDetectionCodes/2009-cis -i edges.txt -o output\n"
     ]
    },
    {
     "name": "stdout",
     "output_type": "stream",
     "text": [
      "runing  cdc_Connected_Iterative_Scan K_DoesAlgSupportDirTest_1\n"
     ]
    },
    {
     "name": "stderr",
     "output_type": "stream",
     "text": [
      "2020-04-27 23:17:10,531 - cdc_Connected_Iterative_Scan - INFO - Made 7 clusters in 0.073787 seconds\n",
      "INFO:cdc_Connected_Iterative_Scan:Made 7 clusters in 0.073787 seconds\n"
     ]
    },
    {
     "name": "stdout",
     "output_type": "stream",
     "text": [
      "finished cdc_Connected_Iterative_Scan K_DoesAlgSupportDirTest_1\n"
     ]
    },
    {
     "name": "stderr",
     "output_type": "stream",
     "text": [
      "2020-04-27 23:17:10,645 - cdc_Connected_Iterative_Scan - INFO - seed ignored\n",
      "INFO:cdc_Connected_Iterative_Scan:seed ignored\n",
      "2020-04-27 23:17:10,646 - cdc_Connected_Iterative_Scan - INFO - Running /opt/gct/submodules/CommunityDetectionCodes/2009-cis -i edges.txt -o output\n",
      "INFO:cdc_Connected_Iterative_Scan:Running /opt/gct/submodules/CommunityDetectionCodes/2009-cis -i edges.txt -o output\n"
     ]
    },
    {
     "name": "stdout",
     "output_type": "stream",
     "text": [
      "runing  cdc_Connected_Iterative_Scan K_DoesAlgSupportDirTest_2\n"
     ]
    },
    {
     "name": "stderr",
     "output_type": "stream",
     "text": [
      "2020-04-27 23:17:10,721 - cdc_Connected_Iterative_Scan - INFO - Made 7 clusters in 0.073548 seconds\n",
      "INFO:cdc_Connected_Iterative_Scan:Made 7 clusters in 0.073548 seconds\n"
     ]
    },
    {
     "name": "stdout",
     "output_type": "stream",
     "text": [
      "finished cdc_Connected_Iterative_Scan K_DoesAlgSupportDirTest_2\n"
     ]
    },
    {
     "name": "stderr",
     "output_type": "stream",
     "text": [
      "2020-04-27 23:17:10,835 - cdc_DEMON - INFO - seed ignored\n",
      "INFO:cdc_DEMON:seed ignored\n",
      "2020-04-27 23:17:10,836 - cdc_DEMON - INFO - Running python /opt/gct/submodules/CommunityDetectionCodes/Algorithms/2012-DEMON/Demon.py edges.txt uw d 0.25 3\n",
      "INFO:cdc_DEMON:Running python /opt/gct/submodules/CommunityDetectionCodes/Algorithms/2012-DEMON/Demon.py edges.txt uw d 0.25 3\n"
     ]
    },
    {
     "name": "stdout",
     "output_type": "stream",
     "text": [
      "runing  cdc_DEMON K_DoesAlgSupportDirTest_1\n",
      "except cdc_DEMON K_DoesAlgSupportDirTest_1\n"
     ]
    },
    {
     "name": "stderr",
     "output_type": "stream",
     "text": [
      "2020-04-27 23:17:11,254 - cdc_DEMON - INFO - seed ignored\n",
      "INFO:cdc_DEMON:seed ignored\n",
      "2020-04-27 23:17:11,255 - cdc_DEMON - INFO - Running python /opt/gct/submodules/CommunityDetectionCodes/Algorithms/2012-DEMON/Demon.py edges.txt uw ud 0.25 3\n",
      "INFO:cdc_DEMON:Running python /opt/gct/submodules/CommunityDetectionCodes/Algorithms/2012-DEMON/Demon.py edges.txt uw ud 0.25 3\n"
     ]
    },
    {
     "name": "stdout",
     "output_type": "stream",
     "text": [
      "runing  cdc_DEMON K_DoesAlgSupportDirTest_2\n",
      "except cdc_DEMON K_DoesAlgSupportDirTest_2\n"
     ]
    },
    {
     "name": "stderr",
     "output_type": "stream",
     "text": [
      "2020-04-27 23:17:11,675 - cdc_EAGLE - INFO - seed ignored\n",
      "INFO:cdc_EAGLE:seed ignored\n",
      "2020-04-27 23:17:11,677 - cdc_EAGLE - INFO - Running /opt/gct/submodules/CommunityDetectionCodes/2009-eagle 7 edges.txt dir output\n",
      "INFO:cdc_EAGLE:Running /opt/gct/submodules/CommunityDetectionCodes/2009-eagle 7 edges.txt dir output\n"
     ]
    },
    {
     "name": "stdout",
     "output_type": "stream",
     "text": [
      "runing  cdc_EAGLE K_DoesAlgSupportDirTest_1\n"
     ]
    },
    {
     "name": "stderr",
     "output_type": "stream",
     "text": [
      "2020-04-27 23:17:14,069 - cdc_EAGLE - INFO - Made 20 clusters in 2.390311 seconds\n",
      "INFO:cdc_EAGLE:Made 20 clusters in 2.390311 seconds\n"
     ]
    },
    {
     "name": "stdout",
     "output_type": "stream",
     "text": [
      "finished cdc_EAGLE K_DoesAlgSupportDirTest_1\n"
     ]
    },
    {
     "name": "stderr",
     "output_type": "stream",
     "text": [
      "2020-04-27 23:17:14,186 - cdc_EAGLE - INFO - seed ignored\n",
      "INFO:cdc_EAGLE:seed ignored\n",
      "2020-04-27 23:17:14,188 - cdc_EAGLE - INFO - Running /opt/gct/submodules/CommunityDetectionCodes/2009-eagle 7 edges.txt undir output\n",
      "INFO:cdc_EAGLE:Running /opt/gct/submodules/CommunityDetectionCodes/2009-eagle 7 edges.txt undir output\n"
     ]
    },
    {
     "name": "stdout",
     "output_type": "stream",
     "text": [
      "runing  cdc_EAGLE K_DoesAlgSupportDirTest_2\n"
     ]
    },
    {
     "name": "stderr",
     "output_type": "stream",
     "text": [
      "2020-04-27 23:17:16,644 - cdc_EAGLE - INFO - Made 4 clusters in 2.455357 seconds\n",
      "INFO:cdc_EAGLE:Made 4 clusters in 2.455357 seconds\n"
     ]
    },
    {
     "name": "stdout",
     "output_type": "stream",
     "text": [
      "finished cdc_EAGLE K_DoesAlgSupportDirTest_2\n"
     ]
    },
    {
     "name": "stderr",
     "output_type": "stream",
     "text": [
      "2020-04-27 23:17:16,763 - cdc_FastCpm - INFO - seed ignored\n",
      "INFO:cdc_FastCpm:seed ignored\n",
      "2020-04-27 23:17:16,764 - cdc_FastCpm - INFO - Running /opt/gct/submodules/CommunityDetectionCodes/2012-fast-cpm edges.txt 4 output.cluster\n",
      "INFO:cdc_FastCpm:Running /opt/gct/submodules/CommunityDetectionCodes/2012-fast-cpm edges.txt 4 output.cluster\n",
      "2020-04-27 23:17:16,797 - cdc_FastCpm - INFO - Made 2 clusters in 0.032208 seconds\n",
      "INFO:cdc_FastCpm:Made 2 clusters in 0.032208 seconds\n"
     ]
    },
    {
     "name": "stdout",
     "output_type": "stream",
     "text": [
      "runing  cdc_FastCpm K_DoesAlgSupportDirTest_1\n",
      "finished cdc_FastCpm K_DoesAlgSupportDirTest_1\n"
     ]
    },
    {
     "name": "stderr",
     "output_type": "stream",
     "text": [
      "2020-04-27 23:17:16,912 - cdc_FastCpm - INFO - seed ignored\n",
      "INFO:cdc_FastCpm:seed ignored\n",
      "2020-04-27 23:17:16,913 - cdc_FastCpm - INFO - Running /opt/gct/submodules/CommunityDetectionCodes/2012-fast-cpm edges.txt 4 output.cluster\n",
      "INFO:cdc_FastCpm:Running /opt/gct/submodules/CommunityDetectionCodes/2012-fast-cpm edges.txt 4 output.cluster\n",
      "2020-04-27 23:17:16,944 - cdc_FastCpm - INFO - Made 2 clusters in 0.029564 seconds\n",
      "INFO:cdc_FastCpm:Made 2 clusters in 0.029564 seconds\n"
     ]
    },
    {
     "name": "stdout",
     "output_type": "stream",
     "text": [
      "runing  cdc_FastCpm K_DoesAlgSupportDirTest_2\n",
      "finished cdc_FastCpm K_DoesAlgSupportDirTest_2\n"
     ]
    },
    {
     "name": "stderr",
     "output_type": "stream",
     "text": [
      "2020-04-27 23:17:17,058 - cdc_GCE - INFO - seed ignored\n",
      "INFO:cdc_GCE:seed ignored\n",
      "2020-04-27 23:17:17,060 - cdc_GCE - INFO - Running /opt/gct/submodules/CommunityDetectionCodes/2011-gce edges.txt 4 0.6 1.0 0.75\n",
      "INFO:cdc_GCE:Running /opt/gct/submodules/CommunityDetectionCodes/2011-gce edges.txt 4 0.6 1.0 0.75\n",
      "2020-04-27 23:17:17,074 - cdc_GCE - INFO - Made 6 clusters in 0.013819 seconds\n",
      "INFO:cdc_GCE:Made 6 clusters in 0.013819 seconds\n"
     ]
    },
    {
     "name": "stdout",
     "output_type": "stream",
     "text": [
      "runing  cdc_GCE K_DoesAlgSupportDirTest_1\n",
      "finished cdc_GCE K_DoesAlgSupportDirTest_1\n"
     ]
    },
    {
     "name": "stderr",
     "output_type": "stream",
     "text": [
      "2020-04-27 23:17:17,189 - cdc_GCE - INFO - seed ignored\n",
      "INFO:cdc_GCE:seed ignored\n",
      "2020-04-27 23:17:17,190 - cdc_GCE - INFO - Running /opt/gct/submodules/CommunityDetectionCodes/2011-gce edges.txt 4 0.6 1.0 0.75\n",
      "INFO:cdc_GCE:Running /opt/gct/submodules/CommunityDetectionCodes/2011-gce edges.txt 4 0.6 1.0 0.75\n",
      "2020-04-27 23:17:17,204 - cdc_GCE - INFO - Made 6 clusters in 0.013625 seconds\n",
      "INFO:cdc_GCE:Made 6 clusters in 0.013625 seconds\n"
     ]
    },
    {
     "name": "stdout",
     "output_type": "stream",
     "text": [
      "runing  cdc_GCE K_DoesAlgSupportDirTest_2\n",
      "finished cdc_GCE K_DoesAlgSupportDirTest_2\n"
     ]
    },
    {
     "name": "stderr",
     "output_type": "stream",
     "text": [
      "2020-04-27 23:17:17,319 - cdc_HDEMON - INFO - seed ignored\n",
      "INFO:cdc_HDEMON:seed ignored\n",
      "2020-04-27 23:17:17,320 - cdc_HDEMON - INFO - Running python /opt/gct/submodules/CommunityDetectionCodes/Algorithms/2012-DEMON/HDemon.py edges.txt uw d 0.25 5\n",
      "INFO:cdc_HDEMON:Running python /opt/gct/submodules/CommunityDetectionCodes/Algorithms/2012-DEMON/HDemon.py edges.txt uw d 0.25 5\n"
     ]
    },
    {
     "name": "stdout",
     "output_type": "stream",
     "text": [
      "runing  cdc_HDEMON K_DoesAlgSupportDirTest_1\n",
      "except cdc_HDEMON K_DoesAlgSupportDirTest_1\n"
     ]
    },
    {
     "name": "stderr",
     "output_type": "stream",
     "text": [
      "2020-04-27 23:17:17,741 - cdc_HDEMON - INFO - seed ignored\n",
      "INFO:cdc_HDEMON:seed ignored\n",
      "2020-04-27 23:17:17,742 - cdc_HDEMON - INFO - Running python /opt/gct/submodules/CommunityDetectionCodes/Algorithms/2012-DEMON/HDemon.py edges.txt uw ud 0.25 5\n",
      "INFO:cdc_HDEMON:Running python /opt/gct/submodules/CommunityDetectionCodes/Algorithms/2012-DEMON/HDemon.py edges.txt uw ud 0.25 5\n"
     ]
    },
    {
     "name": "stdout",
     "output_type": "stream",
     "text": [
      "runing  cdc_HDEMON K_DoesAlgSupportDirTest_2\n",
      "except cdc_HDEMON K_DoesAlgSupportDirTest_2\n"
     ]
    },
    {
     "name": "stderr",
     "output_type": "stream",
     "text": [
      "2020-04-27 23:17:18,162 - cdc_LinkCommunities - INFO - seed ignored\n",
      "INFO:cdc_LinkCommunities:seed ignored\n",
      "2020-04-27 23:17:18,163 - Dataset:K_DoesAlgSupportDirTest_1 - INFO - reading /data/data/K_DoesAlgSupportDirTest_1/edges.parq\n",
      "INFO:Dataset:K_DoesAlgSupportDirTest_1:reading /data/data/K_DoesAlgSupportDirTest_1/edges.parq\n",
      "2020-04-27 23:17:18,172 - cdc_LinkCommunities - INFO - Running /opt/gct/submodules/CommunityDetectionCodes/calcJaccards edges.pairs edges.jaccs\n",
      "INFO:cdc_LinkCommunities:Running /opt/gct/submodules/CommunityDetectionCodes/calcJaccards edges.pairs edges.jaccs\n",
      "2020-04-27 23:17:18,227 - cdc_LinkCommunities - INFO - Finish first step in 0.054358 seconds\n",
      "INFO:cdc_LinkCommunities:Finish first step in 0.054358 seconds\n",
      "2020-04-27 23:17:18,229 - cdc_LinkCommunities - INFO - Running /opt/gct/submodules/CommunityDetectionCodes/clusterJaccards edges.pairs edges.jaccs edges.clusters.0.01 edges.mc_nc.0.01 0.01\n",
      "INFO:cdc_LinkCommunities:Running /opt/gct/submodules/CommunityDetectionCodes/clusterJaccards edges.pairs edges.jaccs edges.clusters.0.01 edges.mc_nc.0.01 0.01\n"
     ]
    },
    {
     "name": "stdout",
     "output_type": "stream",
     "text": [
      "runing  cdc_LinkCommunities K_DoesAlgSupportDirTest_1\n"
     ]
    },
    {
     "name": "stderr",
     "output_type": "stream",
     "text": [
      "2020-04-27 23:17:18,262 - cdc_LinkCommunities - INFO - Made 515 clusters in 0.030710 seconds\n",
      "INFO:cdc_LinkCommunities:Made 515 clusters in 0.030710 seconds\n"
     ]
    },
    {
     "name": "stdout",
     "output_type": "stream",
     "text": [
      "finished cdc_LinkCommunities K_DoesAlgSupportDirTest_1\n"
     ]
    },
    {
     "name": "stderr",
     "output_type": "stream",
     "text": [
      "2020-04-27 23:17:18,379 - cdc_LinkCommunities - INFO - seed ignored\n",
      "INFO:cdc_LinkCommunities:seed ignored\n",
      "2020-04-27 23:17:18,380 - Dataset:K_DoesAlgSupportDirTest_2 - INFO - reading /data/data/K_DoesAlgSupportDirTest_2/edges.parq\n",
      "INFO:Dataset:K_DoesAlgSupportDirTest_2:reading /data/data/K_DoesAlgSupportDirTest_2/edges.parq\n",
      "2020-04-27 23:17:18,387 - cdc_LinkCommunities - INFO - Running /opt/gct/submodules/CommunityDetectionCodes/calcJaccards edges.pairs edges.jaccs\n",
      "INFO:cdc_LinkCommunities:Running /opt/gct/submodules/CommunityDetectionCodes/calcJaccards edges.pairs edges.jaccs\n",
      "2020-04-27 23:17:18,441 - cdc_LinkCommunities - INFO - Finish first step in 0.053138 seconds\n",
      "INFO:cdc_LinkCommunities:Finish first step in 0.053138 seconds\n",
      "2020-04-27 23:17:18,442 - cdc_LinkCommunities - INFO - Running /opt/gct/submodules/CommunityDetectionCodes/clusterJaccards edges.pairs edges.jaccs edges.clusters.0.01 edges.mc_nc.0.01 0.01\n",
      "INFO:cdc_LinkCommunities:Running /opt/gct/submodules/CommunityDetectionCodes/clusterJaccards edges.pairs edges.jaccs edges.clusters.0.01 edges.mc_nc.0.01 0.01\n"
     ]
    },
    {
     "name": "stdout",
     "output_type": "stream",
     "text": [
      "runing  cdc_LinkCommunities K_DoesAlgSupportDirTest_2\n"
     ]
    },
    {
     "name": "stderr",
     "output_type": "stream",
     "text": [
      "2020-04-27 23:17:18,473 - cdc_LinkCommunities - INFO - Made 1 clusters in 0.028860 seconds\n",
      "INFO:cdc_LinkCommunities:Made 1 clusters in 0.028860 seconds\n"
     ]
    },
    {
     "name": "stdout",
     "output_type": "stream",
     "text": [
      "finished cdc_LinkCommunities K_DoesAlgSupportDirTest_2\n"
     ]
    },
    {
     "name": "stderr",
     "output_type": "stream",
     "text": [
      "2020-04-27 23:17:18,588 - cdc_MOSES - INFO - Running /opt/gct/submodules/CommunityDetectionCodes/2011-moses edges.txt cluster.output --seed 123\n",
      "INFO:cdc_MOSES:Running /opt/gct/submodules/CommunityDetectionCodes/2011-moses edges.txt cluster.output --seed 123\n"
     ]
    },
    {
     "name": "stdout",
     "output_type": "stream",
     "text": [
      "runing  cdc_MOSES K_DoesAlgSupportDirTest_1\n"
     ]
    },
    {
     "name": "stderr",
     "output_type": "stream",
     "text": [
      "2020-04-27 23:17:30,315 - cdc_MOSES - INFO - Made 6 clusters in 11.725426 seconds\n",
      "INFO:cdc_MOSES:Made 6 clusters in 11.725426 seconds\n"
     ]
    },
    {
     "name": "stdout",
     "output_type": "stream",
     "text": [
      "finished cdc_MOSES K_DoesAlgSupportDirTest_1\n"
     ]
    },
    {
     "name": "stderr",
     "output_type": "stream",
     "text": [
      "2020-04-27 23:17:30,434 - cdc_MOSES - INFO - Running /opt/gct/submodules/CommunityDetectionCodes/2011-moses edges.txt cluster.output --seed 123\n",
      "INFO:cdc_MOSES:Running /opt/gct/submodules/CommunityDetectionCodes/2011-moses edges.txt cluster.output --seed 123\n"
     ]
    },
    {
     "name": "stdout",
     "output_type": "stream",
     "text": [
      "runing  cdc_MOSES K_DoesAlgSupportDirTest_2\n"
     ]
    },
    {
     "name": "stderr",
     "output_type": "stream",
     "text": [
      "2020-04-27 23:17:42,263 - cdc_MOSES - INFO - Made 6 clusters in 11.827529 seconds\n",
      "INFO:cdc_MOSES:Made 6 clusters in 11.827529 seconds\n"
     ]
    },
    {
     "name": "stdout",
     "output_type": "stream",
     "text": [
      "finished cdc_MOSES K_DoesAlgSupportDirTest_2\n"
     ]
    },
    {
     "name": "stderr",
     "output_type": "stream",
     "text": [
      "2020-04-27 23:17:42,382 - cdc_MSCD_AFG - INFO - seed ignored\n",
      "INFO:cdc_MSCD_AFG:seed ignored\n",
      "2020-04-27 23:17:42,383 - cdc_MSCD_AFG - INFO - Running /opt/gct/submodules/CommunityDetectionCodes/2013-mscd -g graph.edges -d -w -a AFG [1.2,2]\n",
      "INFO:cdc_MSCD_AFG:Running /opt/gct/submodules/CommunityDetectionCodes/2013-mscd -g graph.edges -d -w -a AFG [1.2,2]\n",
      "2020-04-27 23:17:42,394 - cdc_MSCD_AFG - INFO - Made 6 clusters with k=1\n",
      "INFO:cdc_MSCD_AFG:Made 6 clusters with k=1\n",
      "2020-04-27 23:17:42,396 - cdc_MSCD_AFG - INFO - Made 6 clusters with k=2\n",
      "INFO:cdc_MSCD_AFG:Made 6 clusters with k=2\n",
      "2020-04-27 23:17:42,397 - cdc_MSCD_AFG - INFO - Made 2 clusters in 0.009153 seconds\n",
      "INFO:cdc_MSCD_AFG:Made 2 clusters in 0.009153 seconds\n"
     ]
    },
    {
     "name": "stdout",
     "output_type": "stream",
     "text": [
      "runing  cdc_MSCD_AFG K_DoesAlgSupportDirTest_1\n",
      "finished cdc_MSCD_AFG K_DoesAlgSupportDirTest_1\n"
     ]
    },
    {
     "name": "stderr",
     "output_type": "stream",
     "text": [
      "2020-04-27 23:17:42,512 - cdc_MSCD_AFG - INFO - seed ignored\n",
      "INFO:cdc_MSCD_AFG:seed ignored\n",
      "2020-04-27 23:17:42,513 - cdc_MSCD_AFG - INFO - Running /opt/gct/submodules/CommunityDetectionCodes/2013-mscd -g graph.edges -w -a AFG [1.2,2]\n",
      "INFO:cdc_MSCD_AFG:Running /opt/gct/submodules/CommunityDetectionCodes/2013-mscd -g graph.edges -w -a AFG [1.2,2]\n",
      "2020-04-27 23:17:42,523 - cdc_MSCD_AFG - INFO - Made 6 clusters with k=1\n",
      "INFO:cdc_MSCD_AFG:Made 6 clusters with k=1\n",
      "2020-04-27 23:17:42,524 - cdc_MSCD_AFG - INFO - Made 6 clusters with k=2\n",
      "INFO:cdc_MSCD_AFG:Made 6 clusters with k=2\n",
      "2020-04-27 23:17:42,525 - cdc_MSCD_AFG - INFO - Made 2 clusters in 0.008089 seconds\n",
      "INFO:cdc_MSCD_AFG:Made 2 clusters in 0.008089 seconds\n"
     ]
    },
    {
     "name": "stdout",
     "output_type": "stream",
     "text": [
      "runing  cdc_MSCD_AFG K_DoesAlgSupportDirTest_2\n",
      "finished cdc_MSCD_AFG K_DoesAlgSupportDirTest_2\n"
     ]
    },
    {
     "name": "stderr",
     "output_type": "stream",
     "text": [
      "2020-04-27 23:17:42,639 - cdc_MSCD_HSLSW - INFO - seed ignored\n",
      "INFO:cdc_MSCD_HSLSW:seed ignored\n",
      "2020-04-27 23:17:42,640 - cdc_MSCD_HSLSW - INFO - Running /opt/gct/submodules/CommunityDetectionCodes/2013-mscd -g graph.edges -d -w -a HSLSW [1.2,2]\n",
      "INFO:cdc_MSCD_HSLSW:Running /opt/gct/submodules/CommunityDetectionCodes/2013-mscd -g graph.edges -d -w -a HSLSW [1.2,2]\n",
      "2020-04-27 23:17:42,653 - cdc_MSCD_HSLSW - INFO - Made 6 clusters with k=1\n",
      "INFO:cdc_MSCD_HSLSW:Made 6 clusters with k=1\n",
      "2020-04-27 23:17:42,654 - cdc_MSCD_HSLSW - INFO - Made 6 clusters with k=2\n",
      "INFO:cdc_MSCD_HSLSW:Made 6 clusters with k=2\n",
      "2020-04-27 23:17:42,655 - cdc_MSCD_HSLSW - INFO - Made 2 clusters in 0.011007 seconds\n",
      "INFO:cdc_MSCD_HSLSW:Made 2 clusters in 0.011007 seconds\n"
     ]
    },
    {
     "name": "stdout",
     "output_type": "stream",
     "text": [
      "runing  cdc_MSCD_HSLSW K_DoesAlgSupportDirTest_1\n",
      "finished cdc_MSCD_HSLSW K_DoesAlgSupportDirTest_1\n"
     ]
    },
    {
     "name": "stderr",
     "output_type": "stream",
     "text": [
      "2020-04-27 23:17:42,769 - cdc_MSCD_HSLSW - INFO - seed ignored\n",
      "INFO:cdc_MSCD_HSLSW:seed ignored\n",
      "2020-04-27 23:17:42,770 - cdc_MSCD_HSLSW - INFO - Running /opt/gct/submodules/CommunityDetectionCodes/2013-mscd -g graph.edges -w -a HSLSW [1.2,2]\n",
      "INFO:cdc_MSCD_HSLSW:Running /opt/gct/submodules/CommunityDetectionCodes/2013-mscd -g graph.edges -w -a HSLSW [1.2,2]\n",
      "2020-04-27 23:17:42,785 - cdc_MSCD_HSLSW - INFO - Made 6 clusters with k=1\n",
      "INFO:cdc_MSCD_HSLSW:Made 6 clusters with k=1\n",
      "2020-04-27 23:17:42,786 - cdc_MSCD_HSLSW - INFO - Made 6 clusters with k=2\n",
      "INFO:cdc_MSCD_HSLSW:Made 6 clusters with k=2\n",
      "2020-04-27 23:17:42,788 - cdc_MSCD_HSLSW - INFO - Made 2 clusters in 0.013808 seconds\n",
      "INFO:cdc_MSCD_HSLSW:Made 2 clusters in 0.013808 seconds\n"
     ]
    },
    {
     "name": "stdout",
     "output_type": "stream",
     "text": [
      "runing  cdc_MSCD_HSLSW K_DoesAlgSupportDirTest_2\n",
      "finished cdc_MSCD_HSLSW K_DoesAlgSupportDirTest_2\n"
     ]
    },
    {
     "name": "stderr",
     "output_type": "stream",
     "text": [
      "2020-04-27 23:17:42,902 - cdc_MSCD_LFK - INFO - seed ignored\n",
      "INFO:cdc_MSCD_LFK:seed ignored\n",
      "2020-04-27 23:17:42,903 - cdc_MSCD_LFK - INFO - Running /opt/gct/submodules/CommunityDetectionCodes/2013-mscd -g graph.edges -d -w -a LFK [1.2,2]\n",
      "INFO:cdc_MSCD_LFK:Running /opt/gct/submodules/CommunityDetectionCodes/2013-mscd -g graph.edges -d -w -a LFK [1.2,2]\n",
      "2020-04-27 23:17:42,913 - cdc_MSCD_LFK - INFO - Made 6 clusters with k=1\n",
      "INFO:cdc_MSCD_LFK:Made 6 clusters with k=1\n",
      "2020-04-27 23:17:42,914 - cdc_MSCD_LFK - INFO - Made 6 clusters with k=2\n",
      "INFO:cdc_MSCD_LFK:Made 6 clusters with k=2\n",
      "2020-04-27 23:17:42,916 - cdc_MSCD_LFK - INFO - Made 2 clusters in 0.008579 seconds\n",
      "INFO:cdc_MSCD_LFK:Made 2 clusters in 0.008579 seconds\n"
     ]
    },
    {
     "name": "stdout",
     "output_type": "stream",
     "text": [
      "runing  cdc_MSCD_LFK K_DoesAlgSupportDirTest_1\n",
      "finished cdc_MSCD_LFK K_DoesAlgSupportDirTest_1\n"
     ]
    },
    {
     "name": "stderr",
     "output_type": "stream",
     "text": [
      "2020-04-27 23:17:43,030 - cdc_MSCD_LFK - INFO - seed ignored\n",
      "INFO:cdc_MSCD_LFK:seed ignored\n",
      "2020-04-27 23:17:43,031 - cdc_MSCD_LFK - INFO - Running /opt/gct/submodules/CommunityDetectionCodes/2013-mscd -g graph.edges -w -a LFK [1.2,2]\n",
      "INFO:cdc_MSCD_LFK:Running /opt/gct/submodules/CommunityDetectionCodes/2013-mscd -g graph.edges -w -a LFK [1.2,2]\n",
      "2020-04-27 23:17:43,043 - cdc_MSCD_LFK - INFO - Made 6 clusters with k=1\n",
      "INFO:cdc_MSCD_LFK:Made 6 clusters with k=1\n",
      "2020-04-27 23:17:43,044 - cdc_MSCD_LFK - INFO - Made 6 clusters with k=2\n",
      "INFO:cdc_MSCD_LFK:Made 6 clusters with k=2\n",
      "2020-04-27 23:17:43,045 - cdc_MSCD_LFK - INFO - Made 2 clusters in 0.010481 seconds\n",
      "INFO:cdc_MSCD_LFK:Made 2 clusters in 0.010481 seconds\n"
     ]
    },
    {
     "name": "stdout",
     "output_type": "stream",
     "text": [
      "runing  cdc_MSCD_LFK K_DoesAlgSupportDirTest_2\n",
      "finished cdc_MSCD_LFK K_DoesAlgSupportDirTest_2\n"
     ]
    },
    {
     "name": "stderr",
     "output_type": "stream",
     "text": [
      "2020-04-27 23:17:43,160 - cdc_MSCD_LFK2 - INFO - seed ignored\n",
      "INFO:cdc_MSCD_LFK2:seed ignored\n",
      "2020-04-27 23:17:43,161 - cdc_MSCD_LFK2 - INFO - Running /opt/gct/submodules/CommunityDetectionCodes/2013-mscd -g graph.edges -d -w -a LFK2 [1.2,2]\n",
      "INFO:cdc_MSCD_LFK2:Running /opt/gct/submodules/CommunityDetectionCodes/2013-mscd -g graph.edges -d -w -a LFK2 [1.2,2]\n",
      "2020-04-27 23:17:43,173 - cdc_MSCD_LFK2 - INFO - Made 8 clusters with k=1\n",
      "INFO:cdc_MSCD_LFK2:Made 8 clusters with k=1\n",
      "2020-04-27 23:17:43,174 - cdc_MSCD_LFK2 - INFO - Made 6 clusters with k=2\n",
      "INFO:cdc_MSCD_LFK2:Made 6 clusters with k=2\n",
      "2020-04-27 23:17:43,175 - cdc_MSCD_LFK2 - INFO - Made 2 clusters in 0.010748 seconds\n",
      "INFO:cdc_MSCD_LFK2:Made 2 clusters in 0.010748 seconds\n"
     ]
    },
    {
     "name": "stdout",
     "output_type": "stream",
     "text": [
      "runing  cdc_MSCD_LFK2 K_DoesAlgSupportDirTest_1\n",
      "finished cdc_MSCD_LFK2 K_DoesAlgSupportDirTest_1\n"
     ]
    },
    {
     "name": "stderr",
     "output_type": "stream",
     "text": [
      "2020-04-27 23:17:43,289 - cdc_MSCD_LFK2 - INFO - seed ignored\n",
      "INFO:cdc_MSCD_LFK2:seed ignored\n",
      "2020-04-27 23:17:43,290 - cdc_MSCD_LFK2 - INFO - Running /opt/gct/submodules/CommunityDetectionCodes/2013-mscd -g graph.edges -w -a LFK2 [1.2,2]\n",
      "INFO:cdc_MSCD_LFK2:Running /opt/gct/submodules/CommunityDetectionCodes/2013-mscd -g graph.edges -w -a LFK2 [1.2,2]\n",
      "2020-04-27 23:17:43,301 - cdc_MSCD_LFK2 - INFO - Made 8 clusters with k=1\n",
      "INFO:cdc_MSCD_LFK2:Made 8 clusters with k=1\n",
      "2020-04-27 23:17:43,302 - cdc_MSCD_LFK2 - INFO - Made 6 clusters with k=2\n",
      "INFO:cdc_MSCD_LFK2:Made 6 clusters with k=2\n",
      "2020-04-27 23:17:43,303 - cdc_MSCD_LFK2 - INFO - Made 2 clusters in 0.009553 seconds\n",
      "INFO:cdc_MSCD_LFK2:Made 2 clusters in 0.009553 seconds\n"
     ]
    },
    {
     "name": "stdout",
     "output_type": "stream",
     "text": [
      "runing  cdc_MSCD_LFK2 K_DoesAlgSupportDirTest_2\n",
      "finished cdc_MSCD_LFK2 K_DoesAlgSupportDirTest_2\n"
     ]
    },
    {
     "name": "stderr",
     "output_type": "stream",
     "text": [
      "2020-04-27 23:17:43,418 - cdc_MSCD_RB - INFO - seed ignored\n",
      "INFO:cdc_MSCD_RB:seed ignored\n",
      "2020-04-27 23:17:43,419 - cdc_MSCD_RB - INFO - Running /opt/gct/submodules/CommunityDetectionCodes/2013-mscd -g graph.edges -d -w -a RB [1.2,2]\n",
      "INFO:cdc_MSCD_RB:Running /opt/gct/submodules/CommunityDetectionCodes/2013-mscd -g graph.edges -d -w -a RB [1.2,2]\n",
      "2020-04-27 23:17:43,428 - cdc_MSCD_RB - INFO - Made 6 clusters with k=1\n",
      "INFO:cdc_MSCD_RB:Made 6 clusters with k=1\n",
      "2020-04-27 23:17:43,429 - cdc_MSCD_RB - INFO - Made 6 clusters with k=2\n",
      "INFO:cdc_MSCD_RB:Made 6 clusters with k=2\n",
      "2020-04-27 23:17:43,430 - cdc_MSCD_RB - INFO - Made 2 clusters in 0.007825 seconds\n",
      "INFO:cdc_MSCD_RB:Made 2 clusters in 0.007825 seconds\n"
     ]
    },
    {
     "name": "stdout",
     "output_type": "stream",
     "text": [
      "runing  cdc_MSCD_RB K_DoesAlgSupportDirTest_1\n",
      "finished cdc_MSCD_RB K_DoesAlgSupportDirTest_1\n"
     ]
    },
    {
     "name": "stderr",
     "output_type": "stream",
     "text": [
      "2020-04-27 23:17:43,544 - cdc_MSCD_RB - INFO - seed ignored\n",
      "INFO:cdc_MSCD_RB:seed ignored\n",
      "2020-04-27 23:17:43,545 - cdc_MSCD_RB - INFO - Running /opt/gct/submodules/CommunityDetectionCodes/2013-mscd -g graph.edges -w -a RB [1.2,2]\n",
      "INFO:cdc_MSCD_RB:Running /opt/gct/submodules/CommunityDetectionCodes/2013-mscd -g graph.edges -w -a RB [1.2,2]\n",
      "2020-04-27 23:17:43,554 - cdc_MSCD_RB - INFO - Made 6 clusters with k=1\n",
      "INFO:cdc_MSCD_RB:Made 6 clusters with k=1\n",
      "2020-04-27 23:17:43,555 - cdc_MSCD_RB - INFO - Made 6 clusters with k=2\n",
      "INFO:cdc_MSCD_RB:Made 6 clusters with k=2\n",
      "2020-04-27 23:17:43,556 - cdc_MSCD_RB - INFO - Made 2 clusters in 0.007942 seconds\n",
      "INFO:cdc_MSCD_RB:Made 2 clusters in 0.007942 seconds\n"
     ]
    },
    {
     "name": "stdout",
     "output_type": "stream",
     "text": [
      "runing  cdc_MSCD_RB K_DoesAlgSupportDirTest_2\n",
      "finished cdc_MSCD_RB K_DoesAlgSupportDirTest_2\n"
     ]
    },
    {
     "name": "stderr",
     "output_type": "stream",
     "text": [
      "2020-04-27 23:17:43,670 - cdc_MSCD_RN - INFO - seed ignored\n",
      "INFO:cdc_MSCD_RN:seed ignored\n",
      "2020-04-27 23:17:43,671 - cdc_MSCD_RN - INFO - Running /opt/gct/submodules/CommunityDetectionCodes/2013-mscd -g graph.edges -d -w -a RN [1.2,2]\n",
      "INFO:cdc_MSCD_RN:Running /opt/gct/submodules/CommunityDetectionCodes/2013-mscd -g graph.edges -d -w -a RN [1.2,2]\n"
     ]
    },
    {
     "name": "stdout",
     "output_type": "stream",
     "text": [
      "runing  cdc_MSCD_RN K_DoesAlgSupportDirTest_1\n",
      "timeout <function run_alg at 0x7f06242ffd40> ('cdc_MSCD_RN', 'K_DoesAlgSupportDirTest_1') {}\n",
      "tiemout cdc_MSCD_RN K_DoesAlgSupportDirTest_1\n"
     ]
    },
    {
     "name": "stderr",
     "output_type": "stream",
     "text": [
      "2020-04-27 23:27:43,887 - cdc_MSCD_RN - INFO - seed ignored\n",
      "INFO:cdc_MSCD_RN:seed ignored\n",
      "2020-04-27 23:27:43,888 - cdc_MSCD_RN - INFO - Running /opt/gct/submodules/CommunityDetectionCodes/2013-mscd -g graph.edges -w -a RN [1.2,2]\n",
      "INFO:cdc_MSCD_RN:Running /opt/gct/submodules/CommunityDetectionCodes/2013-mscd -g graph.edges -w -a RN [1.2,2]\n",
      "2020-04-27 23:27:43,900 - cdc_MSCD_RN - INFO - Made 6 clusters with k=1\n",
      "INFO:cdc_MSCD_RN:Made 6 clusters with k=1\n",
      "2020-04-27 23:27:43,901 - cdc_MSCD_RN - INFO - Made 6 clusters with k=2\n",
      "INFO:cdc_MSCD_RN:Made 6 clusters with k=2\n",
      "2020-04-27 23:27:43,903 - cdc_MSCD_RN - INFO - Made 2 clusters in 0.010282 seconds\n",
      "INFO:cdc_MSCD_RN:Made 2 clusters in 0.010282 seconds\n"
     ]
    },
    {
     "name": "stdout",
     "output_type": "stream",
     "text": [
      "runing  cdc_MSCD_RN K_DoesAlgSupportDirTest_2\n",
      "finished cdc_MSCD_RN K_DoesAlgSupportDirTest_2\n"
     ]
    },
    {
     "name": "stderr",
     "output_type": "stream",
     "text": [
      "2020-04-27 23:27:44,020 - cdc_MSCD_SO - INFO - seed ignored\n",
      "INFO:cdc_MSCD_SO:seed ignored\n",
      "2020-04-27 23:27:44,021 - cdc_MSCD_SO - INFO - Running /opt/gct/submodules/CommunityDetectionCodes/2013-mscd -g graph.edges -d -w -a SO [1.2,2]\n",
      "INFO:cdc_MSCD_SO:Running /opt/gct/submodules/CommunityDetectionCodes/2013-mscd -g graph.edges -d -w -a SO [1.2,2]\n",
      "2020-04-27 23:27:44,039 - cdc_MSCD_SO - INFO - Made 6 clusters with k=1\n",
      "INFO:cdc_MSCD_SO:Made 6 clusters with k=1\n",
      "2020-04-27 23:27:44,041 - cdc_MSCD_SO - INFO - Made 6 clusters with k=2\n",
      "INFO:cdc_MSCD_SO:Made 6 clusters with k=2\n",
      "2020-04-27 23:27:44,042 - cdc_MSCD_SO - INFO - Made 2 clusters in 0.014760 seconds\n",
      "INFO:cdc_MSCD_SO:Made 2 clusters in 0.014760 seconds\n"
     ]
    },
    {
     "name": "stdout",
     "output_type": "stream",
     "text": [
      "runing  cdc_MSCD_SO K_DoesAlgSupportDirTest_1\n",
      "finished cdc_MSCD_SO K_DoesAlgSupportDirTest_1\n"
     ]
    },
    {
     "name": "stderr",
     "output_type": "stream",
     "text": [
      "2020-04-27 23:27:44,158 - cdc_MSCD_SO - INFO - seed ignored\n",
      "INFO:cdc_MSCD_SO:seed ignored\n",
      "2020-04-27 23:27:44,159 - cdc_MSCD_SO - INFO - Running /opt/gct/submodules/CommunityDetectionCodes/2013-mscd -g graph.edges -w -a SO [1.2,2]\n",
      "INFO:cdc_MSCD_SO:Running /opt/gct/submodules/CommunityDetectionCodes/2013-mscd -g graph.edges -w -a SO [1.2,2]\n",
      "2020-04-27 23:27:44,176 - cdc_MSCD_SO - INFO - Made 6 clusters with k=1\n",
      "INFO:cdc_MSCD_SO:Made 6 clusters with k=1\n",
      "2020-04-27 23:27:44,177 - cdc_MSCD_SO - INFO - Made 6 clusters with k=2\n",
      "INFO:cdc_MSCD_SO:Made 6 clusters with k=2\n",
      "2020-04-27 23:27:44,179 - cdc_MSCD_SO - INFO - Made 2 clusters in 0.015697 seconds\n",
      "INFO:cdc_MSCD_SO:Made 2 clusters in 0.015697 seconds\n"
     ]
    },
    {
     "name": "stdout",
     "output_type": "stream",
     "text": [
      "runing  cdc_MSCD_SO K_DoesAlgSupportDirTest_2\n",
      "finished cdc_MSCD_SO K_DoesAlgSupportDirTest_2\n"
     ]
    },
    {
     "name": "stderr",
     "output_type": "stream",
     "text": [
      "2020-04-27 23:27:44,295 - cdc_MSCD_SOM - INFO - seed ignored\n",
      "INFO:cdc_MSCD_SOM:seed ignored\n",
      "2020-04-27 23:27:44,296 - cdc_MSCD_SOM - INFO - Running /opt/gct/submodules/CommunityDetectionCodes/2013-mscd -g graph.edges -d -w -a SOM [1.2,2]\n",
      "INFO:cdc_MSCD_SOM:Running /opt/gct/submodules/CommunityDetectionCodes/2013-mscd -g graph.edges -d -w -a SOM [1.2,2]\n",
      "2020-04-27 23:27:44,309 - cdc_MSCD_SOM - INFO - Made 6 clusters with k=1\n",
      "INFO:cdc_MSCD_SOM:Made 6 clusters with k=1\n",
      "2020-04-27 23:27:44,310 - cdc_MSCD_SOM - INFO - Made 6 clusters with k=2\n",
      "INFO:cdc_MSCD_SOM:Made 6 clusters with k=2\n",
      "2020-04-27 23:27:44,311 - cdc_MSCD_SOM - INFO - Made 2 clusters in 0.011933 seconds\n",
      "INFO:cdc_MSCD_SOM:Made 2 clusters in 0.011933 seconds\n"
     ]
    },
    {
     "name": "stdout",
     "output_type": "stream",
     "text": [
      "runing  cdc_MSCD_SOM K_DoesAlgSupportDirTest_1\n",
      "finished cdc_MSCD_SOM K_DoesAlgSupportDirTest_1\n"
     ]
    },
    {
     "name": "stderr",
     "output_type": "stream",
     "text": [
      "2020-04-27 23:27:44,425 - cdc_MSCD_SOM - INFO - seed ignored\n",
      "INFO:cdc_MSCD_SOM:seed ignored\n",
      "2020-04-27 23:27:44,426 - cdc_MSCD_SOM - INFO - Running /opt/gct/submodules/CommunityDetectionCodes/2013-mscd -g graph.edges -w -a SOM [1.2,2]\n",
      "INFO:cdc_MSCD_SOM:Running /opt/gct/submodules/CommunityDetectionCodes/2013-mscd -g graph.edges -w -a SOM [1.2,2]\n",
      "2020-04-27 23:27:44,439 - cdc_MSCD_SOM - INFO - Made 6 clusters with k=1\n",
      "INFO:cdc_MSCD_SOM:Made 6 clusters with k=1\n",
      "2020-04-27 23:27:44,441 - cdc_MSCD_SOM - INFO - Made 6 clusters with k=2\n",
      "INFO:cdc_MSCD_SOM:Made 6 clusters with k=2\n",
      "2020-04-27 23:27:44,442 - cdc_MSCD_SOM - INFO - Made 2 clusters in 0.011524 seconds\n",
      "INFO:cdc_MSCD_SOM:Made 2 clusters in 0.011524 seconds\n"
     ]
    },
    {
     "name": "stdout",
     "output_type": "stream",
     "text": [
      "runing  cdc_MSCD_SOM K_DoesAlgSupportDirTest_2\n",
      "finished cdc_MSCD_SOM K_DoesAlgSupportDirTest_2\n"
     ]
    },
    {
     "name": "stderr",
     "output_type": "stream",
     "text": [
      "2020-04-27 23:27:44,556 - cdc_ParCPM - INFO - seed ignored\n",
      "INFO:cdc_ParCPM:seed ignored\n",
      "2020-04-27 23:27:44,557 - cdc_ParCPM - INFO - Running /opt/gct/submodules/CommunityDetectionCodes/max-clique edges.txt\n",
      "INFO:cdc_ParCPM:Running /opt/gct/submodules/CommunityDetectionCodes/max-clique edges.txt\n",
      "2020-04-27 23:27:44,568 - cdc_ParCPM - INFO - Take 0.009992837905883789 seconds for step 1\n",
      "INFO:cdc_ParCPM:Take 0.009992837905883789 seconds for step 1\n",
      "2020-04-27 23:27:44,569 - cdc_ParCPM - INFO - Running /opt/gct/submodules/CommunityDetectionCodes/2012-ParCPM -P 7 -W 30 edges.txt.mcliques\n",
      "INFO:cdc_ParCPM:Running /opt/gct/submodules/CommunityDetectionCodes/2012-ParCPM -P 7 -W 30 edges.txt.mcliques\n",
      "2020-04-27 23:27:44,616 - cdc_ParCPM - INFO - Made 1 clusters with k=3\n",
      "INFO:cdc_ParCPM:Made 1 clusters with k=3\n",
      "2020-04-27 23:27:44,621 - cdc_ParCPM - INFO - Made 6 clusters with k=5\n",
      "INFO:cdc_ParCPM:Made 6 clusters with k=5\n",
      "2020-04-27 23:27:44,624 - cdc_ParCPM - INFO - Made 6 clusters with k=6\n",
      "INFO:cdc_ParCPM:Made 6 clusters with k=6\n"
     ]
    },
    {
     "name": "stdout",
     "output_type": "stream",
     "text": [
      "runing  cdc_ParCPM K_DoesAlgSupportDirTest_1\n"
     ]
    },
    {
     "name": "stderr",
     "output_type": "stream",
     "text": [
      "2020-04-27 23:27:44,628 - cdc_ParCPM - INFO - Made 6 clusters with k=8\n",
      "INFO:cdc_ParCPM:Made 6 clusters with k=8\n",
      "2020-04-27 23:27:44,632 - cdc_ParCPM - INFO - Made 6 clusters with k=9\n",
      "INFO:cdc_ParCPM:Made 6 clusters with k=9\n",
      "2020-04-27 23:27:44,636 - cdc_ParCPM - INFO - Made 2 clusters with k=4\n",
      "INFO:cdc_ParCPM:Made 2 clusters with k=4\n",
      "2020-04-27 23:27:44,638 - cdc_ParCPM - INFO - Made 6 clusters with k=10\n",
      "INFO:cdc_ParCPM:Made 6 clusters with k=10\n",
      "2020-04-27 23:27:44,641 - cdc_ParCPM - INFO - Made 6 clusters with k=11\n",
      "INFO:cdc_ParCPM:Made 6 clusters with k=11\n",
      "2020-04-27 23:27:44,642 - cdc_ParCPM - INFO - Made 4 clusters with k=12\n",
      "INFO:cdc_ParCPM:Made 4 clusters with k=12\n",
      "2020-04-27 23:27:44,644 - cdc_ParCPM - INFO - Made 2 clusters with k=13\n",
      "INFO:cdc_ParCPM:Made 2 clusters with k=13\n",
      "2020-04-27 23:27:44,647 - cdc_ParCPM - INFO - Made 6 clusters with k=7\n",
      "INFO:cdc_ParCPM:Made 6 clusters with k=7\n",
      "2020-04-27 23:27:44,649 - cdc_ParCPM - INFO - Made 11 clusters in 0.038669 seconds\n",
      "INFO:cdc_ParCPM:Made 11 clusters in 0.038669 seconds\n"
     ]
    },
    {
     "name": "stdout",
     "output_type": "stream",
     "text": [
      "finished cdc_ParCPM K_DoesAlgSupportDirTest_1\n"
     ]
    },
    {
     "name": "stderr",
     "output_type": "stream",
     "text": [
      "2020-04-27 23:27:44,763 - cdc_ParCPM - INFO - seed ignored\n",
      "INFO:cdc_ParCPM:seed ignored\n",
      "2020-04-27 23:27:44,765 - cdc_ParCPM - INFO - Running /opt/gct/submodules/CommunityDetectionCodes/max-clique edges.txt\n",
      "INFO:cdc_ParCPM:Running /opt/gct/submodules/CommunityDetectionCodes/max-clique edges.txt\n",
      "2020-04-27 23:27:44,775 - cdc_ParCPM - INFO - Take 0.009707212448120117 seconds for step 1\n",
      "INFO:cdc_ParCPM:Take 0.009707212448120117 seconds for step 1\n",
      "2020-04-27 23:27:44,776 - cdc_ParCPM - INFO - Running /opt/gct/submodules/CommunityDetectionCodes/2012-ParCPM -P 7 -W 30 edges.txt.mcliques\n",
      "INFO:cdc_ParCPM:Running /opt/gct/submodules/CommunityDetectionCodes/2012-ParCPM -P 7 -W 30 edges.txt.mcliques\n",
      "2020-04-27 23:27:44,820 - cdc_ParCPM - INFO - Made 1 clusters with k=3\n",
      "INFO:cdc_ParCPM:Made 1 clusters with k=3\n",
      "2020-04-27 23:27:44,825 - cdc_ParCPM - INFO - Made 2 clusters with k=4\n",
      "INFO:cdc_ParCPM:Made 2 clusters with k=4\n",
      "2020-04-27 23:27:44,830 - cdc_ParCPM - INFO - Made 6 clusters with k=5\n",
      "INFO:cdc_ParCPM:Made 6 clusters with k=5\n",
      "2020-04-27 23:27:44,835 - cdc_ParCPM - INFO - Made 6 clusters with k=7\n",
      "INFO:cdc_ParCPM:Made 6 clusters with k=7\n",
      "2020-04-27 23:27:44,836 - cdc_ParCPM - INFO - Made 2 clusters with k=13\n",
      "INFO:cdc_ParCPM:Made 2 clusters with k=13\n",
      "2020-04-27 23:27:44,839 - cdc_ParCPM - INFO - Made 4 clusters with k=12\n",
      "INFO:cdc_ParCPM:Made 4 clusters with k=12\n",
      "2020-04-27 23:27:44,844 - cdc_ParCPM - INFO - Made 6 clusters with k=6\n",
      "INFO:cdc_ParCPM:Made 6 clusters with k=6\n",
      "2020-04-27 23:27:44,848 - cdc_ParCPM - INFO - Made 6 clusters with k=10\n",
      "INFO:cdc_ParCPM:Made 6 clusters with k=10\n"
     ]
    },
    {
     "name": "stdout",
     "output_type": "stream",
     "text": [
      "runing  cdc_ParCPM K_DoesAlgSupportDirTest_2\n"
     ]
    },
    {
     "name": "stderr",
     "output_type": "stream",
     "text": [
      "2020-04-27 23:27:44,852 - cdc_ParCPM - INFO - Made 6 clusters with k=8\n",
      "INFO:cdc_ParCPM:Made 6 clusters with k=8\n",
      "2020-04-27 23:27:44,856 - cdc_ParCPM - INFO - Made 6 clusters with k=11\n",
      "INFO:cdc_ParCPM:Made 6 clusters with k=11\n",
      "2020-04-27 23:27:44,860 - cdc_ParCPM - INFO - Made 6 clusters with k=9\n",
      "INFO:cdc_ParCPM:Made 6 clusters with k=9\n",
      "2020-04-27 23:27:44,862 - cdc_ParCPM - INFO - Made 11 clusters in 0.036157 seconds\n",
      "INFO:cdc_ParCPM:Made 11 clusters in 0.036157 seconds\n"
     ]
    },
    {
     "name": "stdout",
     "output_type": "stream",
     "text": [
      "finished cdc_ParCPM K_DoesAlgSupportDirTest_2\n"
     ]
    },
    {
     "name": "stderr",
     "output_type": "stream",
     "text": [
      "2020-04-27 23:27:44,979 - Dataset:K_DoesAlgSupportDirTest_1 - INFO - reading /data/data/K_DoesAlgSupportDirTest_1/edges.parq\n",
      "INFO:Dataset:K_DoesAlgSupportDirTest_1:reading /data/data/K_DoesAlgSupportDirTest_1/edges.parq\n",
      "2020-04-27 23:27:44,983 - cdc_SVINET - INFO - Running /opt/gct/submodules/CommunityDetectionCodes/2013-svinet -file edges.txt -n 128 -k 128 -max-iterations 1000 -findk && (cat n*findk/communities_size.txt | wc -l  > num_cluster.txt) \n",
      "INFO:cdc_SVINET:Running /opt/gct/submodules/CommunityDetectionCodes/2013-svinet -file edges.txt -n 128 -k 128 -max-iterations 1000 -findk && (cat n*findk/communities_size.txt | wc -l  > num_cluster.txt) \n",
      "2020-04-27 23:27:45,016 - cdc_SVINET - INFO - Find k=6  in 0.031762 seconds\n",
      "INFO:cdc_SVINET:Find k=6  in 0.031762 seconds\n",
      "2020-04-27 23:27:45,018 - cdc_SVINET - INFO - Running /opt/gct/submodules/CommunityDetectionCodes/2013-svinet -file edges.txt -n 128 -k 6 -link-sampling -max-iterations 1000 -seed 123\n",
      "INFO:cdc_SVINET:Running /opt/gct/submodules/CommunityDetectionCodes/2013-svinet -file edges.txt -n 128 -k 6 -link-sampling -max-iterations 1000 -seed 123\n"
     ]
    },
    {
     "name": "stdout",
     "output_type": "stream",
     "text": [
      "runing  cdc_SVINET K_DoesAlgSupportDirTest_1\n"
     ]
    },
    {
     "name": "stderr",
     "output_type": "stream",
     "text": [
      "2020-04-27 23:27:47,783 - cdc_SVINET - INFO - read output form /tmp/tmp6dcqji9e/n128-k6-mmsb-seed123-linksampling/communities.txt\n",
      "INFO:cdc_SVINET:read output form /tmp/tmp6dcqji9e/n128-k6-mmsb-seed123-linksampling/communities.txt\n",
      "2020-04-27 23:27:47,785 - cdc_SVINET - INFO - Made 6 clusters in 2.763063 seconds\n",
      "INFO:cdc_SVINET:Made 6 clusters in 2.763063 seconds\n"
     ]
    },
    {
     "name": "stdout",
     "output_type": "stream",
     "text": [
      "finished cdc_SVINET K_DoesAlgSupportDirTest_1\n"
     ]
    },
    {
     "name": "stderr",
     "output_type": "stream",
     "text": [
      "2020-04-27 23:27:47,904 - Dataset:K_DoesAlgSupportDirTest_2 - INFO - reading /data/data/K_DoesAlgSupportDirTest_2/edges.parq\n",
      "INFO:Dataset:K_DoesAlgSupportDirTest_2:reading /data/data/K_DoesAlgSupportDirTest_2/edges.parq\n",
      "2020-04-27 23:27:47,909 - cdc_SVINET - INFO - Running /opt/gct/submodules/CommunityDetectionCodes/2013-svinet -file edges.txt -n 128 -k 128 -max-iterations 1000 -findk && (cat n*findk/communities_size.txt | wc -l  > num_cluster.txt) \n",
      "INFO:cdc_SVINET:Running /opt/gct/submodules/CommunityDetectionCodes/2013-svinet -file edges.txt -n 128 -k 128 -max-iterations 1000 -findk && (cat n*findk/communities_size.txt | wc -l  > num_cluster.txt) \n",
      "2020-04-27 23:27:47,943 - cdc_SVINET - INFO - Find k=6  in 0.033457 seconds\n",
      "INFO:cdc_SVINET:Find k=6  in 0.033457 seconds\n",
      "2020-04-27 23:27:47,945 - cdc_SVINET - INFO - Running /opt/gct/submodules/CommunityDetectionCodes/2013-svinet -file edges.txt -n 128 -k 6 -link-sampling -max-iterations 1000 -seed 123\n",
      "INFO:cdc_SVINET:Running /opt/gct/submodules/CommunityDetectionCodes/2013-svinet -file edges.txt -n 128 -k 6 -link-sampling -max-iterations 1000 -seed 123\n"
     ]
    },
    {
     "name": "stdout",
     "output_type": "stream",
     "text": [
      "runing  cdc_SVINET K_DoesAlgSupportDirTest_2\n"
     ]
    },
    {
     "name": "stderr",
     "output_type": "stream",
     "text": [
      "2020-04-27 23:27:50,804 - cdc_SVINET - INFO - read output form /tmp/tmpa56t8plr/n128-k6-mmsb-seed123-linksampling/communities.txt\n",
      "INFO:cdc_SVINET:read output form /tmp/tmpa56t8plr/n128-k6-mmsb-seed123-linksampling/communities.txt\n",
      "2020-04-27 23:27:50,806 - cdc_SVINET - INFO - Made 6 clusters in 2.858144 seconds\n",
      "INFO:cdc_SVINET:Made 6 clusters in 2.858144 seconds\n"
     ]
    },
    {
     "name": "stdout",
     "output_type": "stream",
     "text": [
      "finished cdc_SVINET K_DoesAlgSupportDirTest_2\n"
     ]
    },
    {
     "name": "stderr",
     "output_type": "stream",
     "text": [
      "2020-04-27 23:27:50,926 - cdc_TopGC - INFO - seed ignored\n",
      "INFO:cdc_TopGC:seed ignored\n",
      "2020-04-27 23:27:50,927 - Dataset:K_DoesAlgSupportDirTest_1 - INFO - Running cat /data/data/K_DoesAlgSupportDirTest_1/edges.txt|sort -k1,1 -k2,2 -n | /opt/gct/submodules/CommunityDetectionCodes/mkidx >  /data/data/K_DoesAlgSupportDirTest_1/topgc.txt || rm /data/data/K_DoesAlgSupportDirTest_1/topgc.txt\n",
      "INFO:Dataset:K_DoesAlgSupportDirTest_1:Running cat /data/data/K_DoesAlgSupportDirTest_1/edges.txt|sort -k1,1 -k2,2 -n | /opt/gct/submodules/CommunityDetectionCodes/mkidx >  /data/data/K_DoesAlgSupportDirTest_1/topgc.txt || rm /data/data/K_DoesAlgSupportDirTest_1/topgc.txt\n",
      "2020-04-27 23:27:50,940 - cdc_TopGC - INFO - Running java -cp /opt/gct/submodules/CommunityDetectionCodes/topgc-1.0-SNAPSHOT.jar TopGC -i edges.topgc -d\n",
      "INFO:cdc_TopGC:Running java -cp /opt/gct/submodules/CommunityDetectionCodes/topgc-1.0-SNAPSHOT.jar TopGC -i edges.topgc -d\n"
     ]
    },
    {
     "name": "stdout",
     "output_type": "stream",
     "text": [
      "runing  cdc_TopGC K_DoesAlgSupportDirTest_1\n"
     ]
    },
    {
     "name": "stderr",
     "output_type": "stream",
     "text": [
      "2020-04-27 23:27:51,648 - cdc_TopGC - INFO - Made 8 clusters in 0.706025 seconds\n",
      "INFO:cdc_TopGC:Made 8 clusters in 0.706025 seconds\n"
     ]
    },
    {
     "name": "stdout",
     "output_type": "stream",
     "text": [
      "finished cdc_TopGC K_DoesAlgSupportDirTest_1\n"
     ]
    },
    {
     "name": "stderr",
     "output_type": "stream",
     "text": [
      "2020-04-27 23:27:51,767 - cdc_TopGC - INFO - seed ignored\n",
      "INFO:cdc_TopGC:seed ignored\n",
      "2020-04-27 23:27:51,768 - Dataset:K_DoesAlgSupportDirTest_2 - INFO - Running cat /data/data/K_DoesAlgSupportDirTest_2/edges.txt|sort -k1,1 -k2,2 -n | /opt/gct/submodules/CommunityDetectionCodes/mkidx >  /data/data/K_DoesAlgSupportDirTest_2/topgc.txt || rm /data/data/K_DoesAlgSupportDirTest_2/topgc.txt\n",
      "INFO:Dataset:K_DoesAlgSupportDirTest_2:Running cat /data/data/K_DoesAlgSupportDirTest_2/edges.txt|sort -k1,1 -k2,2 -n | /opt/gct/submodules/CommunityDetectionCodes/mkidx >  /data/data/K_DoesAlgSupportDirTest_2/topgc.txt || rm /data/data/K_DoesAlgSupportDirTest_2/topgc.txt\n",
      "2020-04-27 23:27:51,781 - cdc_TopGC - INFO - Running java -cp /opt/gct/submodules/CommunityDetectionCodes/topgc-1.0-SNAPSHOT.jar TopGC -i edges.topgc\n",
      "INFO:cdc_TopGC:Running java -cp /opt/gct/submodules/CommunityDetectionCodes/topgc-1.0-SNAPSHOT.jar TopGC -i edges.topgc\n"
     ]
    },
    {
     "name": "stdout",
     "output_type": "stream",
     "text": [
      "runing  cdc_TopGC K_DoesAlgSupportDirTest_2\n"
     ]
    },
    {
     "name": "stderr",
     "output_type": "stream",
     "text": [
      "2020-04-27 23:27:52,490 - cdc_TopGC - INFO - Made 11 clusters in 0.707541 seconds\n",
      "INFO:cdc_TopGC:Made 11 clusters in 0.707541 seconds\n"
     ]
    },
    {
     "name": "stdout",
     "output_type": "stream",
     "text": [
      "finished cdc_TopGC K_DoesAlgSupportDirTest_2\n"
     ]
    },
    {
     "name": "stderr",
     "output_type": "stream",
     "text": [
      "2020-04-27 23:27:52,609 - cdc_clique_modularity - INFO - seed ignored\n",
      "INFO:cdc_clique_modularity:seed ignored\n",
      "2020-04-27 23:27:52,610 - cdc_clique_modularity - INFO - Running java -cp /opt/gct/submodules/CommunityDetectionCodes/conga-1.0-SNAPSHOT.jar clique_modularity.CM edges.txt -m clique_modularity.algorithm.BK.BK -c 10\n",
      "INFO:cdc_clique_modularity:Running java -cp /opt/gct/submodules/CommunityDetectionCodes/conga-1.0-SNAPSHOT.jar clique_modularity.CM edges.txt -m clique_modularity.algorithm.BK.BK -c 10\n"
     ]
    },
    {
     "name": "stdout",
     "output_type": "stream",
     "text": [
      "runing  cdc_clique_modularity K_DoesAlgSupportDirTest_1\n"
     ]
    },
    {
     "name": "stderr",
     "output_type": "stream",
     "text": [
      "2020-04-27 23:27:52,910 - cdc_clique_modularity - INFO - Made 10 clusters in 0.298124 seconds\n",
      "INFO:cdc_clique_modularity:Made 10 clusters in 0.298124 seconds\n"
     ]
    },
    {
     "name": "stdout",
     "output_type": "stream",
     "text": [
      "finished cdc_clique_modularity K_DoesAlgSupportDirTest_1\n"
     ]
    },
    {
     "name": "stderr",
     "output_type": "stream",
     "text": [
      "2020-04-27 23:27:53,029 - cdc_clique_modularity - INFO - seed ignored\n",
      "INFO:cdc_clique_modularity:seed ignored\n",
      "2020-04-27 23:27:53,031 - cdc_clique_modularity - INFO - Running java -cp /opt/gct/submodules/CommunityDetectionCodes/conga-1.0-SNAPSHOT.jar clique_modularity.CM edges.txt -m clique_modularity.algorithm.BK.BK -c 10\n",
      "INFO:cdc_clique_modularity:Running java -cp /opt/gct/submodules/CommunityDetectionCodes/conga-1.0-SNAPSHOT.jar clique_modularity.CM edges.txt -m clique_modularity.algorithm.BK.BK -c 10\n"
     ]
    },
    {
     "name": "stdout",
     "output_type": "stream",
     "text": [
      "runing  cdc_clique_modularity K_DoesAlgSupportDirTest_2\n"
     ]
    },
    {
     "name": "stderr",
     "output_type": "stream",
     "text": [
      "2020-04-27 23:27:53,349 - cdc_clique_modularity - INFO - Made 10 clusters in 0.316523 seconds\n",
      "INFO:cdc_clique_modularity:Made 10 clusters in 0.316523 seconds\n"
     ]
    },
    {
     "name": "stdout",
     "output_type": "stream",
     "text": [
      "finished cdc_clique_modularity K_DoesAlgSupportDirTest_2\n"
     ]
    },
    {
     "name": "stderr",
     "output_type": "stream",
     "text": [
      "2020-04-27 23:27:53,468 - cgcc_CGGC - INFO - Running /opt/gct/submodules/CGGC/rgmc --seed=123 --inpfmt=e --outfile=output --outfmt=l /data/data/K_DoesAlgSupportDirTest_1/edges.txt\n",
      "INFO:cgcc_CGGC:Running /opt/gct/submodules/CGGC/rgmc --seed=123 --inpfmt=e --outfile=output --outfmt=l /data/data/K_DoesAlgSupportDirTest_1/edges.txt\n",
      "2020-04-27 23:27:53,483 - cgcc_CGGC - INFO - Made 5 clusters in 0.013030 seconds\n",
      "INFO:cgcc_CGGC:Made 5 clusters in 0.013030 seconds\n"
     ]
    },
    {
     "name": "stdout",
     "output_type": "stream",
     "text": [
      "runing  cgcc_CGGC K_DoesAlgSupportDirTest_1\n",
      "finished cgcc_CGGC K_DoesAlgSupportDirTest_1\n"
     ]
    },
    {
     "name": "stderr",
     "output_type": "stream",
     "text": [
      "2020-04-27 23:27:53,601 - cgcc_CGGC - INFO - Running /opt/gct/submodules/CGGC/rgmc --seed=123 --inpfmt=e --outfile=output --outfmt=l /data/data/K_DoesAlgSupportDirTest_2/edges.txt\n",
      "INFO:cgcc_CGGC:Running /opt/gct/submodules/CGGC/rgmc --seed=123 --inpfmt=e --outfile=output --outfmt=l /data/data/K_DoesAlgSupportDirTest_2/edges.txt\n",
      "2020-04-27 23:27:53,616 - cgcc_CGGC - INFO - Made 5 clusters in 0.013205 seconds\n",
      "INFO:cgcc_CGGC:Made 5 clusters in 0.013205 seconds\n"
     ]
    },
    {
     "name": "stdout",
     "output_type": "stream",
     "text": [
      "runing  cgcc_CGGC K_DoesAlgSupportDirTest_2\n",
      "finished cgcc_CGGC K_DoesAlgSupportDirTest_2\n"
     ]
    },
    {
     "name": "stderr",
     "output_type": "stream",
     "text": [
      "2020-04-27 23:27:53,734 - dct_dlplm - WARNING - dct assumes node starts with zero and is continuous\n",
      "WARNING:dct_dlplm:dct assumes node starts with zero and is continuous\n",
      "2020-04-27 23:27:53,736 - dct_dlplm - INFO - Running /opt/gct/submodules/distributed_clustering_thrill/dlplm /tmp/tmpifdnmvwg/edges.txt\n",
      "INFO:dct_dlplm:Running /opt/gct/submodules/distributed_clustering_thrill/dlplm /tmp/tmpifdnmvwg/edges.txt\n"
     ]
    },
    {
     "name": "stdout",
     "output_type": "stream",
     "text": [
      "runing  dct_dlplm K_DoesAlgSupportDirTest_1\n"
     ]
    },
    {
     "name": "stderr",
     "output_type": "stream",
     "text": [
      "2020-04-27 23:27:53,996 - dct_dlplm - INFO - Made 6 clusters in 0.242596 seconds\n",
      "INFO:dct_dlplm:Made 6 clusters in 0.242596 seconds\n"
     ]
    },
    {
     "name": "stdout",
     "output_type": "stream",
     "text": [
      "finished dct_dlplm K_DoesAlgSupportDirTest_1\n"
     ]
    },
    {
     "name": "stderr",
     "output_type": "stream",
     "text": [
      "2020-04-27 23:27:54,114 - dct_dlplm - WARNING - dct assumes node starts with zero and is continuous\n",
      "WARNING:dct_dlplm:dct assumes node starts with zero and is continuous\n",
      "2020-04-27 23:27:54,116 - dct_dlplm - INFO - Running /opt/gct/submodules/distributed_clustering_thrill/dlplm /tmp/tmp71htqjpb/edges.txt\n",
      "INFO:dct_dlplm:Running /opt/gct/submodules/distributed_clustering_thrill/dlplm /tmp/tmp71htqjpb/edges.txt\n"
     ]
    },
    {
     "name": "stdout",
     "output_type": "stream",
     "text": [
      "runing  dct_dlplm K_DoesAlgSupportDirTest_2\n"
     ]
    },
    {
     "name": "stderr",
     "output_type": "stream",
     "text": [
      "2020-04-27 23:27:54,368 - dct_dlplm - INFO - Made 5 clusters in 0.235522 seconds\n",
      "INFO:dct_dlplm:Made 5 clusters in 0.235522 seconds\n"
     ]
    },
    {
     "name": "stdout",
     "output_type": "stream",
     "text": [
      "finished dct_dlplm K_DoesAlgSupportDirTest_2\n"
     ]
    },
    {
     "name": "stderr",
     "output_type": "stream",
     "text": [
      "2020-04-27 23:27:54,487 - dct_dlslm - WARNING - dct assumes node starts with zero and is continuous\n",
      "WARNING:dct_dlslm:dct assumes node starts with zero and is continuous\n",
      "2020-04-27 23:27:54,488 - dct_dlslm - INFO - Running /opt/gct/submodules/distributed_clustering_thrill/dlplm /tmp/tmphtvkgfub/edges.txt\n",
      "INFO:dct_dlslm:Running /opt/gct/submodules/distributed_clustering_thrill/dlplm /tmp/tmphtvkgfub/edges.txt\n"
     ]
    },
    {
     "name": "stdout",
     "output_type": "stream",
     "text": [
      "runing  dct_dlslm K_DoesAlgSupportDirTest_1\n"
     ]
    },
    {
     "name": "stderr",
     "output_type": "stream",
     "text": [
      "2020-04-27 23:27:54,708 - dct_dlslm - INFO - Made 6 clusters in 0.203382 seconds\n",
      "INFO:dct_dlslm:Made 6 clusters in 0.203382 seconds\n"
     ]
    },
    {
     "name": "stdout",
     "output_type": "stream",
     "text": [
      "finished dct_dlslm K_DoesAlgSupportDirTest_1\n"
     ]
    },
    {
     "name": "stderr",
     "output_type": "stream",
     "text": [
      "2020-04-27 23:27:54,826 - dct_dlslm - WARNING - dct assumes node starts with zero and is continuous\n",
      "WARNING:dct_dlslm:dct assumes node starts with zero and is continuous\n",
      "2020-04-27 23:27:54,827 - dct_dlslm - INFO - Running /opt/gct/submodules/distributed_clustering_thrill/dlplm /tmp/tmpx49gr_og/edges.txt\n",
      "INFO:dct_dlslm:Running /opt/gct/submodules/distributed_clustering_thrill/dlplm /tmp/tmpx49gr_og/edges.txt\n"
     ]
    },
    {
     "name": "stdout",
     "output_type": "stream",
     "text": [
      "runing  dct_dlslm K_DoesAlgSupportDirTest_2\n"
     ]
    },
    {
     "name": "stderr",
     "output_type": "stream",
     "text": [
      "2020-04-27 23:27:55,070 - dct_dlslm - INFO - Made 5 clusters in 0.219544 seconds\n",
      "INFO:dct_dlslm:Made 5 clusters in 0.219544 seconds\n"
     ]
    },
    {
     "name": "stdout",
     "output_type": "stream",
     "text": [
      "finished dct_dlslm K_DoesAlgSupportDirTest_2\n"
     ]
    },
    {
     "name": "stderr",
     "output_type": "stream",
     "text": [
      "2020-04-27 23:27:55,189 - dct_dlslm_map_eq - WARNING - dct assumes node starts with zero and is continuous\n",
      "WARNING:dct_dlslm_map_eq:dct assumes node starts with zero and is continuous\n",
      "2020-04-27 23:27:55,190 - dct_dlslm_map_eq - INFO - Running /opt/gct/submodules/distributed_clustering_thrill/dlslm_map_eq /tmp/tmpft3v91ma/edges.txt\n",
      "INFO:dct_dlslm_map_eq:Running /opt/gct/submodules/distributed_clustering_thrill/dlslm_map_eq /tmp/tmpft3v91ma/edges.txt\n"
     ]
    },
    {
     "name": "stdout",
     "output_type": "stream",
     "text": [
      "runing  dct_dlslm_map_eq K_DoesAlgSupportDirTest_1\n"
     ]
    },
    {
     "name": "stderr",
     "output_type": "stream",
     "text": [
      "2020-04-27 23:27:55,791 - dct_dlslm_map_eq - INFO - Made 6 clusters in 0.584808 seconds\n",
      "INFO:dct_dlslm_map_eq:Made 6 clusters in 0.584808 seconds\n"
     ]
    },
    {
     "name": "stdout",
     "output_type": "stream",
     "text": [
      "finished dct_dlslm_map_eq K_DoesAlgSupportDirTest_1\n"
     ]
    },
    {
     "name": "stderr",
     "output_type": "stream",
     "text": [
      "2020-04-27 23:27:55,912 - dct_dlslm_map_eq - WARNING - dct assumes node starts with zero and is continuous\n",
      "WARNING:dct_dlslm_map_eq:dct assumes node starts with zero and is continuous\n",
      "2020-04-27 23:27:55,913 - dct_dlslm_map_eq - INFO - Running /opt/gct/submodules/distributed_clustering_thrill/dlslm_map_eq /tmp/tmpkg1s_gs7/edges.txt\n",
      "INFO:dct_dlslm_map_eq:Running /opt/gct/submodules/distributed_clustering_thrill/dlslm_map_eq /tmp/tmpkg1s_gs7/edges.txt\n"
     ]
    },
    {
     "name": "stdout",
     "output_type": "stream",
     "text": [
      "runing  dct_dlslm_map_eq K_DoesAlgSupportDirTest_2\n"
     ]
    },
    {
     "name": "stderr",
     "output_type": "stream",
     "text": [
      "2020-04-27 23:27:56,475 - dct_dlslm_map_eq - INFO - Made 6 clusters in 0.545134 seconds\n",
      "INFO:dct_dlslm_map_eq:Made 6 clusters in 0.545134 seconds\n"
     ]
    },
    {
     "name": "stdout",
     "output_type": "stream",
     "text": [
      "finished dct_dlslm_map_eq K_DoesAlgSupportDirTest_2\n"
     ]
    },
    {
     "name": "stderr",
     "output_type": "stream",
     "text": [
      "2020-04-27 23:27:56,594 - dct_dlslm_no_contraction - WARNING - dct assumes node starts with zero and is continuous\n",
      "WARNING:dct_dlslm_no_contraction:dct assumes node starts with zero and is continuous\n",
      "2020-04-27 23:27:56,595 - dct_dlslm_no_contraction - INFO - Running /opt/gct/submodules/distributed_clustering_thrill/dlslm_no_contraction /tmp/tmpok_hp7h_/edges.txt\n",
      "INFO:dct_dlslm_no_contraction:Running /opt/gct/submodules/distributed_clustering_thrill/dlslm_no_contraction /tmp/tmpok_hp7h_/edges.txt\n"
     ]
    },
    {
     "name": "stdout",
     "output_type": "stream",
     "text": [
      "runing  dct_dlslm_no_contraction K_DoesAlgSupportDirTest_1\n"
     ]
    },
    {
     "name": "stderr",
     "output_type": "stream",
     "text": [
      "2020-04-27 23:27:57,147 - dct_dlslm_no_contraction - INFO - Made 6 clusters in 0.534934 seconds\n",
      "INFO:dct_dlslm_no_contraction:Made 6 clusters in 0.534934 seconds\n"
     ]
    },
    {
     "name": "stdout",
     "output_type": "stream",
     "text": [
      "finished dct_dlslm_no_contraction K_DoesAlgSupportDirTest_1\n"
     ]
    },
    {
     "name": "stderr",
     "output_type": "stream",
     "text": [
      "2020-04-27 23:27:57,266 - dct_dlslm_no_contraction - WARNING - dct assumes node starts with zero and is continuous\n",
      "WARNING:dct_dlslm_no_contraction:dct assumes node starts with zero and is continuous\n",
      "2020-04-27 23:27:57,267 - dct_dlslm_no_contraction - INFO - Running /opt/gct/submodules/distributed_clustering_thrill/dlslm_no_contraction /tmp/tmpgrzjfqzp/edges.txt\n",
      "INFO:dct_dlslm_no_contraction:Running /opt/gct/submodules/distributed_clustering_thrill/dlslm_no_contraction /tmp/tmpgrzjfqzp/edges.txt\n"
     ]
    },
    {
     "name": "stdout",
     "output_type": "stream",
     "text": [
      "runing  dct_dlslm_no_contraction K_DoesAlgSupportDirTest_2\n"
     ]
    },
    {
     "name": "stderr",
     "output_type": "stream",
     "text": [
      "2020-04-27 23:27:57,762 - dct_dlslm_no_contraction - INFO - Made 6 clusters in 0.478346 seconds\n",
      "INFO:dct_dlslm_no_contraction:Made 6 clusters in 0.478346 seconds\n"
     ]
    },
    {
     "name": "stdout",
     "output_type": "stream",
     "text": [
      "finished dct_dlslm_no_contraction K_DoesAlgSupportDirTest_2\n"
     ]
    },
    {
     "name": "stderr",
     "output_type": "stream",
     "text": [
      "2020-04-27 23:27:57,881 - dct_dlslm_with_seq - WARNING - dct assumes node starts with zero and is continuous\n",
      "WARNING:dct_dlslm_with_seq:dct assumes node starts with zero and is continuous\n",
      "2020-04-27 23:27:57,882 - dct_dlslm_with_seq - INFO - Running /opt/gct/submodules/distributed_clustering_thrill/dlslm_with_seq /tmp/tmpr04f0vts/edges.txt\n",
      "INFO:dct_dlslm_with_seq:Running /opt/gct/submodules/distributed_clustering_thrill/dlslm_with_seq /tmp/tmpr04f0vts/edges.txt\n"
     ]
    },
    {
     "name": "stdout",
     "output_type": "stream",
     "text": [
      "runing  dct_dlslm_with_seq K_DoesAlgSupportDirTest_1\n"
     ]
    },
    {
     "name": "stderr",
     "output_type": "stream",
     "text": [
      "2020-04-27 23:27:58,088 - dct_dlslm_with_seq - INFO - Made 6 clusters in 0.188586 seconds\n",
      "INFO:dct_dlslm_with_seq:Made 6 clusters in 0.188586 seconds\n"
     ]
    },
    {
     "name": "stdout",
     "output_type": "stream",
     "text": [
      "finished dct_dlslm_with_seq K_DoesAlgSupportDirTest_1\n"
     ]
    },
    {
     "name": "stderr",
     "output_type": "stream",
     "text": [
      "2020-04-27 23:27:58,206 - dct_dlslm_with_seq - WARNING - dct assumes node starts with zero and is continuous\n",
      "WARNING:dct_dlslm_with_seq:dct assumes node starts with zero and is continuous\n",
      "2020-04-27 23:27:58,207 - dct_dlslm_with_seq - INFO - Running /opt/gct/submodules/distributed_clustering_thrill/dlslm_with_seq /tmp/tmptc439hn8/edges.txt\n",
      "INFO:dct_dlslm_with_seq:Running /opt/gct/submodules/distributed_clustering_thrill/dlslm_with_seq /tmp/tmptc439hn8/edges.txt\n"
     ]
    },
    {
     "name": "stdout",
     "output_type": "stream",
     "text": [
      "runing  dct_dlslm_with_seq K_DoesAlgSupportDirTest_2\n"
     ]
    },
    {
     "name": "stderr",
     "output_type": "stream",
     "text": [
      "2020-04-27 23:27:58,419 - dct_dlslm_with_seq - INFO - Made 6 clusters in 0.195978 seconds\n",
      "INFO:dct_dlslm_with_seq:Made 6 clusters in 0.195978 seconds\n"
     ]
    },
    {
     "name": "stdout",
     "output_type": "stream",
     "text": [
      "finished dct_dlslm_with_seq K_DoesAlgSupportDirTest_2\n"
     ]
    },
    {
     "name": "stderr",
     "output_type": "stream",
     "text": [
      "2020-04-27 23:27:58,538 - dct_infomap - WARNING - dct::seq_louvain assumes node starts with zero and is continuous\n",
      "WARNING:dct_infomap:dct::seq_louvain assumes node starts with zero and is continuous\n",
      "2020-04-27 23:27:58,539 - dct_infomap - INFO - Running /opt/gct/submodules/distributed_clustering_thrill/infomap_directed -f -s 123 -o output /tmp/tmp5271ztcx/edges.txt\n",
      "INFO:dct_infomap:Running /opt/gct/submodules/distributed_clustering_thrill/infomap_directed -f -s 123 -o output /tmp/tmp5271ztcx/edges.txt\n",
      "2020-04-27 23:27:58,583 - dct_infomap - INFO - Made 6 clusters in 0.035918 seconds\n",
      "INFO:dct_infomap:Made 6 clusters in 0.035918 seconds\n"
     ]
    },
    {
     "name": "stdout",
     "output_type": "stream",
     "text": [
      "runing  dct_infomap K_DoesAlgSupportDirTest_1\n",
      "finished dct_infomap K_DoesAlgSupportDirTest_1\n"
     ]
    },
    {
     "name": "stderr",
     "output_type": "stream",
     "text": [
      "2020-04-27 23:27:58,698 - dct_infomap - WARNING - dct::seq_louvain assumes node starts with zero and is continuous\n",
      "WARNING:dct_infomap:dct::seq_louvain assumes node starts with zero and is continuous\n",
      "2020-04-27 23:27:58,699 - dct_infomap - INFO - Running /opt/gct/submodules/distributed_clustering_thrill/infomap -f -s 123 -o output /tmp/tmpnbgfsm9a/edges.txt\n",
      "INFO:dct_infomap:Running /opt/gct/submodules/distributed_clustering_thrill/infomap -f -s 123 -o output /tmp/tmpnbgfsm9a/edges.txt\n"
     ]
    },
    {
     "name": "stdout",
     "output_type": "stream",
     "text": [
      "runing  dct_infomap K_DoesAlgSupportDirTest_2\n"
     ]
    },
    {
     "name": "stderr",
     "output_type": "stream",
     "text": [
      "2020-04-27 23:27:58,738 - dct_infomap - INFO - Made 6 clusters in 0.031502 seconds\n",
      "INFO:dct_infomap:Made 6 clusters in 0.031502 seconds\n"
     ]
    },
    {
     "name": "stdout",
     "output_type": "stream",
     "text": [
      "finished dct_infomap K_DoesAlgSupportDirTest_2\n"
     ]
    },
    {
     "name": "stderr",
     "output_type": "stream",
     "text": [
      "2020-04-27 23:27:58,854 - dct_seq_louvain - WARNING - dct::seq_louvain assumes node starts with zero and is continuous\n",
      "WARNING:dct_seq_louvain:dct::seq_louvain assumes node starts with zero and is continuous\n",
      "2020-04-27 23:27:58,856 - dct_seq_louvain - INFO - Running /opt/gct/submodules/distributed_clustering_thrill/seq_louvain -f -s 123 -o output /tmp/tmp26myixa_/edges.txt\n",
      "INFO:dct_seq_louvain:Running /opt/gct/submodules/distributed_clustering_thrill/seq_louvain -f -s 123 -o output /tmp/tmp26myixa_/edges.txt\n",
      "2020-04-27 23:27:58,876 - dct_seq_louvain - INFO - Made 6 clusters in 0.013570 seconds\n",
      "INFO:dct_seq_louvain:Made 6 clusters in 0.013570 seconds\n"
     ]
    },
    {
     "name": "stdout",
     "output_type": "stream",
     "text": [
      "runing  dct_seq_louvain K_DoesAlgSupportDirTest_1\n",
      "finished dct_seq_louvain K_DoesAlgSupportDirTest_1\n"
     ]
    },
    {
     "name": "stderr",
     "output_type": "stream",
     "text": [
      "2020-04-27 23:27:58,992 - dct_seq_louvain - WARNING - dct::seq_louvain assumes node starts with zero and is continuous\n",
      "WARNING:dct_seq_louvain:dct::seq_louvain assumes node starts with zero and is continuous\n",
      "2020-04-27 23:27:58,994 - dct_seq_louvain - INFO - Running /opt/gct/submodules/distributed_clustering_thrill/seq_louvain -f -s 123 -o output /tmp/tmp2ry6yxeg/edges.txt\n",
      "INFO:dct_seq_louvain:Running /opt/gct/submodules/distributed_clustering_thrill/seq_louvain -f -s 123 -o output /tmp/tmp2ry6yxeg/edges.txt\n",
      "2020-04-27 23:27:59,015 - dct_seq_louvain - INFO - Made 6 clusters in 0.013427 seconds\n",
      "INFO:dct_seq_louvain:Made 6 clusters in 0.013427 seconds\n"
     ]
    },
    {
     "name": "stdout",
     "output_type": "stream",
     "text": [
      "runing  dct_seq_louvain K_DoesAlgSupportDirTest_2\n",
      "finished dct_seq_louvain K_DoesAlgSupportDirTest_2\n"
     ]
    },
    {
     "name": "stderr",
     "output_type": "stream",
     "text": [
      "2020-04-27 23:27:59,131 - igraph_community_edge_betweenness - INFO - seed ignored\n",
      "INFO:igraph_community_edge_betweenness:seed ignored\n",
      "2020-04-27 23:27:59,132 - Dataset:K_DoesAlgSupportDirTest_1 - INFO - reading /data/data/K_DoesAlgSupportDirTest_1/edges.parq\n",
      "INFO:Dataset:K_DoesAlgSupportDirTest_1:reading /data/data/K_DoesAlgSupportDirTest_1/edges.parq\n"
     ]
    },
    {
     "name": "stdout",
     "output_type": "stream",
     "text": [
      "runing  igraph_community_edge_betweenness K_DoesAlgSupportDirTest_1\n",
      "except igraph_community_edge_betweenness K_DoesAlgSupportDirTest_1\n"
     ]
    },
    {
     "name": "stderr",
     "output_type": "stream",
     "text": [
      "2020-04-27 23:28:00,532 - igraph_community_edge_betweenness - INFO - seed ignored\n",
      "INFO:igraph_community_edge_betweenness:seed ignored\n",
      "2020-04-27 23:28:00,533 - Dataset:K_DoesAlgSupportDirTest_2 - INFO - reading /data/data/K_DoesAlgSupportDirTest_2/edges.parq\n",
      "INFO:Dataset:K_DoesAlgSupportDirTest_2:reading /data/data/K_DoesAlgSupportDirTest_2/edges.parq\n"
     ]
    },
    {
     "name": "stdout",
     "output_type": "stream",
     "text": [
      "runing  igraph_community_edge_betweenness K_DoesAlgSupportDirTest_2\n"
     ]
    },
    {
     "name": "stderr",
     "output_type": "stream",
     "text": [
      "2020-04-27 23:28:02,707 - igraph_community_edge_betweenness - INFO - Made 6 clusters in 2.167270 seconds. modularity=0.549025 \n",
      "INFO:igraph_community_edge_betweenness:Made 6 clusters in 2.167270 seconds. modularity=0.549025 \n"
     ]
    },
    {
     "name": "stdout",
     "output_type": "stream",
     "text": [
      "finished igraph_community_edge_betweenness K_DoesAlgSupportDirTest_2\n",
      "runing  igraph_community_fastgreedy K_DoesAlgSupportDirTest_1\n",
      "finished igraph_community_fastgreedy K_DoesAlgSupportDirTest_1\n"
     ]
    },
    {
     "name": "stderr",
     "output_type": "stream",
     "text": [
      "Error: only undirected and unmirrored graph is supported for community_fastgreedy\n",
      "2020-04-27 23:28:02,947 - igraph_community_fastgreedy - INFO - seed ignored\n",
      "INFO:igraph_community_fastgreedy:seed ignored\n",
      "2020-04-27 23:28:02,948 - Dataset:K_DoesAlgSupportDirTest_2 - INFO - reading /data/data/K_DoesAlgSupportDirTest_2/edges.parq\n",
      "INFO:Dataset:K_DoesAlgSupportDirTest_2:reading /data/data/K_DoesAlgSupportDirTest_2/edges.parq\n",
      "2020-04-27 23:28:02,956 - igraph_community_fastgreedy - INFO - Made 4 clusters in 0.001343 seconds. modularity=0.514282 \n",
      "INFO:igraph_community_fastgreedy:Made 4 clusters in 0.001343 seconds. modularity=0.514282 \n"
     ]
    },
    {
     "name": "stdout",
     "output_type": "stream",
     "text": [
      "runing  igraph_community_fastgreedy K_DoesAlgSupportDirTest_2\n",
      "finished igraph_community_fastgreedy K_DoesAlgSupportDirTest_2\n"
     ]
    },
    {
     "name": "stderr",
     "output_type": "stream",
     "text": [
      "2020-04-27 23:28:03,075 - igraph_community_infomap - INFO - seed ignored\n",
      "INFO:igraph_community_infomap:seed ignored\n",
      "2020-04-27 23:28:03,076 - Dataset:K_DoesAlgSupportDirTest_1 - INFO - reading /data/data/K_DoesAlgSupportDirTest_1/edges.parq\n",
      "INFO:Dataset:K_DoesAlgSupportDirTest_1:reading /data/data/K_DoesAlgSupportDirTest_1/edges.parq\n"
     ]
    },
    {
     "name": "stdout",
     "output_type": "stream",
     "text": [
      "runing  igraph_community_infomap K_DoesAlgSupportDirTest_1\n",
      "except igraph_community_infomap K_DoesAlgSupportDirTest_1\n"
     ]
    },
    {
     "name": "stderr",
     "output_type": "stream",
     "text": [
      "2020-04-27 23:28:03,214 - igraph_community_infomap - INFO - seed ignored\n",
      "INFO:igraph_community_infomap:seed ignored\n",
      "2020-04-27 23:28:03,215 - Dataset:K_DoesAlgSupportDirTest_2 - INFO - reading /data/data/K_DoesAlgSupportDirTest_2/edges.parq\n",
      "INFO:Dataset:K_DoesAlgSupportDirTest_2:reading /data/data/K_DoesAlgSupportDirTest_2/edges.parq\n",
      "2020-04-27 23:28:03,244 - igraph_community_infomap - INFO - Made 6 clusters in 0.021497 seconds. modularity=0.549025 \n",
      "INFO:igraph_community_infomap:Made 6 clusters in 0.021497 seconds. modularity=0.549025 \n"
     ]
    },
    {
     "name": "stdout",
     "output_type": "stream",
     "text": [
      "runing  igraph_community_infomap K_DoesAlgSupportDirTest_2\n",
      "finished igraph_community_infomap K_DoesAlgSupportDirTest_2\n"
     ]
    },
    {
     "name": "stderr",
     "output_type": "stream",
     "text": [
      "2020-04-27 23:28:03,362 - igraph_community_label_propagation - INFO - seed ignored\n",
      "INFO:igraph_community_label_propagation:seed ignored\n",
      "2020-04-27 23:28:03,363 - Dataset:K_DoesAlgSupportDirTest_1 - INFO - reading /data/data/K_DoesAlgSupportDirTest_1/edges.parq\n",
      "INFO:Dataset:K_DoesAlgSupportDirTest_1:reading /data/data/K_DoesAlgSupportDirTest_1/edges.parq\n",
      "2020-04-27 23:28:03,369 - igraph_community_label_propagation - INFO - Made 6 clusters in 0.000237 seconds. modularity=-1.000000 \n",
      "INFO:igraph_community_label_propagation:Made 6 clusters in 0.000237 seconds. modularity=-1.000000 \n"
     ]
    },
    {
     "name": "stdout",
     "output_type": "stream",
     "text": [
      "runing  igraph_community_label_propagation K_DoesAlgSupportDirTest_1\n",
      "finished igraph_community_label_propagation K_DoesAlgSupportDirTest_1\n"
     ]
    },
    {
     "name": "stderr",
     "output_type": "stream",
     "text": [
      "2020-04-27 23:28:03,487 - igraph_community_label_propagation - INFO - seed ignored\n",
      "INFO:igraph_community_label_propagation:seed ignored\n",
      "2020-04-27 23:28:03,488 - Dataset:K_DoesAlgSupportDirTest_2 - INFO - reading /data/data/K_DoesAlgSupportDirTest_2/edges.parq\n",
      "INFO:Dataset:K_DoesAlgSupportDirTest_2:reading /data/data/K_DoesAlgSupportDirTest_2/edges.parq\n",
      "2020-04-27 23:28:03,494 - igraph_community_label_propagation - INFO - Made 6 clusters in 0.000297 seconds. modularity=0.549025 \n",
      "INFO:igraph_community_label_propagation:Made 6 clusters in 0.000297 seconds. modularity=0.549025 \n"
     ]
    },
    {
     "name": "stdout",
     "output_type": "stream",
     "text": [
      "runing  igraph_community_label_propagation K_DoesAlgSupportDirTest_2\n",
      "finished igraph_community_label_propagation K_DoesAlgSupportDirTest_2\n"
     ]
    },
    {
     "name": "stderr",
     "output_type": "stream",
     "text": [
      "2020-04-27 23:28:03,612 - igraph_community_leading_eigenvector - INFO - seed ignored\n",
      "INFO:igraph_community_leading_eigenvector:seed ignored\n",
      "2020-04-27 23:28:03,613 - Dataset:K_DoesAlgSupportDirTest_1 - INFO - reading /data/data/K_DoesAlgSupportDirTest_1/edges.parq\n",
      "INFO:Dataset:K_DoesAlgSupportDirTest_1:reading /data/data/K_DoesAlgSupportDirTest_1/edges.parq\n"
     ]
    },
    {
     "name": "stdout",
     "output_type": "stream",
     "text": [
      "runing  igraph_community_leading_eigenvector K_DoesAlgSupportDirTest_1\n",
      "except igraph_community_leading_eigenvector K_DoesAlgSupportDirTest_1\n"
     ]
    },
    {
     "name": "stderr",
     "output_type": "stream",
     "text": [
      "/opt/conda/envs/python3/lib/python3.7/site-packages/igraph/__init__.py:1154: RuntimeWarning: This method was developed for undirected graphs at /tmp/pip-req-build-phr24a23/vendor/source/igraph/src/community.c:1616\n",
      "  membership, _, q = GraphBase.community_leading_eigenvector(self, clusters, **kwds)\n",
      "2020-04-27 23:28:03,759 - igraph_community_leading_eigenvector - INFO - seed ignored\n",
      "INFO:igraph_community_leading_eigenvector:seed ignored\n",
      "2020-04-27 23:28:03,760 - Dataset:K_DoesAlgSupportDirTest_2 - INFO - reading /data/data/K_DoesAlgSupportDirTest_2/edges.parq\n",
      "INFO:Dataset:K_DoesAlgSupportDirTest_2:reading /data/data/K_DoesAlgSupportDirTest_2/edges.parq\n",
      "2020-04-27 23:28:03,792 - igraph_community_leading_eigenvector - INFO - Made 10 clusters in 0.027297 seconds. modularity=0.438639 \n",
      "INFO:igraph_community_leading_eigenvector:Made 10 clusters in 0.027297 seconds. modularity=0.438639 \n"
     ]
    },
    {
     "name": "stdout",
     "output_type": "stream",
     "text": [
      "runing  igraph_community_leading_eigenvector K_DoesAlgSupportDirTest_2\n",
      "finished igraph_community_leading_eigenvector K_DoesAlgSupportDirTest_2\n"
     ]
    },
    {
     "name": "stderr",
     "output_type": "stream",
     "text": [
      "2020-04-27 23:28:03,909 - igraph_community_multilevel - INFO - seed ignored\n",
      "INFO:igraph_community_multilevel:seed ignored\n",
      "2020-04-27 23:28:03,910 - Dataset:K_DoesAlgSupportDirTest_1 - INFO - reading /data/data/K_DoesAlgSupportDirTest_1/edges.parq\n",
      "INFO:Dataset:K_DoesAlgSupportDirTest_1:reading /data/data/K_DoesAlgSupportDirTest_1/edges.parq\n"
     ]
    },
    {
     "name": "stdout",
     "output_type": "stream",
     "text": [
      "runing  igraph_community_multilevel K_DoesAlgSupportDirTest_1\n",
      "except igraph_community_multilevel K_DoesAlgSupportDirTest_1\n"
     ]
    },
    {
     "name": "stderr",
     "output_type": "stream",
     "text": [
      "2020-04-27 23:28:04,030 - igraph_community_multilevel - INFO - seed ignored\n",
      "INFO:igraph_community_multilevel:seed ignored\n",
      "2020-04-27 23:28:04,031 - Dataset:K_DoesAlgSupportDirTest_2 - INFO - reading /data/data/K_DoesAlgSupportDirTest_2/edges.parq\n",
      "INFO:Dataset:K_DoesAlgSupportDirTest_2:reading /data/data/K_DoesAlgSupportDirTest_2/edges.parq\n",
      "2020-04-27 23:28:04,037 - igraph_community_multilevel - INFO - Made 6 clusters in 0.000870 seconds. modularity=0.549025 \n",
      "INFO:igraph_community_multilevel:Made 6 clusters in 0.000870 seconds. modularity=0.549025 \n"
     ]
    },
    {
     "name": "stdout",
     "output_type": "stream",
     "text": [
      "runing  igraph_community_multilevel K_DoesAlgSupportDirTest_2\n",
      "finished igraph_community_multilevel K_DoesAlgSupportDirTest_2\n"
     ]
    },
    {
     "name": "stderr",
     "output_type": "stream",
     "text": [
      "2020-04-27 23:28:04,153 - igraph_community_optimal_modularity - INFO - seed ignored\n",
      "INFO:igraph_community_optimal_modularity:seed ignored\n",
      "2020-04-27 23:28:04,154 - Dataset:K_DoesAlgSupportDirTest_1 - INFO - reading /data/data/K_DoesAlgSupportDirTest_1/edges.parq\n",
      "INFO:Dataset:K_DoesAlgSupportDirTest_1:reading /data/data/K_DoesAlgSupportDirTest_1/edges.parq\n"
     ]
    },
    {
     "name": "stdout",
     "output_type": "stream",
     "text": [
      "runing  igraph_community_optimal_modularity K_DoesAlgSupportDirTest_1\n"
     ]
    },
    {
     "name": "stderr",
     "output_type": "stream",
     "text": [
      "2020-04-27 23:34:00,021 - igraph_community_optimal_modularity - INFO - Made 6 clusters in 355.862023 seconds. modularity=0.612126 \n",
      "INFO:igraph_community_optimal_modularity:Made 6 clusters in 355.862023 seconds. modularity=0.612126 \n"
     ]
    },
    {
     "name": "stdout",
     "output_type": "stream",
     "text": [
      "finished igraph_community_optimal_modularity K_DoesAlgSupportDirTest_1\n"
     ]
    },
    {
     "name": "stderr",
     "output_type": "stream",
     "text": [
      "2020-04-27 23:34:00,142 - igraph_community_optimal_modularity - INFO - seed ignored\n",
      "INFO:igraph_community_optimal_modularity:seed ignored\n",
      "2020-04-27 23:34:00,143 - Dataset:K_DoesAlgSupportDirTest_2 - INFO - reading /data/data/K_DoesAlgSupportDirTest_2/edges.parq\n",
      "INFO:Dataset:K_DoesAlgSupportDirTest_2:reading /data/data/K_DoesAlgSupportDirTest_2/edges.parq\n"
     ]
    },
    {
     "name": "stdout",
     "output_type": "stream",
     "text": [
      "runing  igraph_community_optimal_modularity K_DoesAlgSupportDirTest_2\n"
     ]
    },
    {
     "name": "stderr",
     "output_type": "stream",
     "text": [
      "2020-04-27 23:51:02,585 - igraph_community_optimal_modularity - INFO - Made 6 clusters in 1022.436769 seconds. modularity=0.549025 \n"
     ]
    },
    {
     "name": "stdout",
     "output_type": "stream",
     "text": [
      "except igraph_community_optimal_modularity K_DoesAlgSupportDirTest_2\n",
      "timeout <function run_alg at 0x7f06242ffd40> ('igraph_community_optimal_modularity', 'K_DoesAlgSupportDirTest_2') {}\n",
      "tiemout igraph_community_optimal_modularity K_DoesAlgSupportDirTest_2\n"
     ]
    },
    {
     "name": "stderr",
     "output_type": "stream",
     "text": [
      "2020-04-27 23:51:02,707 - igraph_community_spinglass - INFO - seed ignored\n",
      "INFO:igraph_community_spinglass:seed ignored\n",
      "2020-04-27 23:51:02,708 - Dataset:K_DoesAlgSupportDirTest_1 - INFO - reading /data/data/K_DoesAlgSupportDirTest_1/edges.parq\n",
      "INFO:Dataset:K_DoesAlgSupportDirTest_1:reading /data/data/K_DoesAlgSupportDirTest_1/edges.parq\n"
     ]
    },
    {
     "name": "stdout",
     "output_type": "stream",
     "text": [
      "runing  igraph_community_spinglass K_DoesAlgSupportDirTest_1\n"
     ]
    },
    {
     "name": "stderr",
     "output_type": "stream",
     "text": [
      "2020-04-27 23:51:03,198 - igraph_community_spinglass - INFO - Made 6 clusters in 0.484565 seconds. modularity=-1.000000 \n",
      "INFO:igraph_community_spinglass:Made 6 clusters in 0.484565 seconds. modularity=-1.000000 \n"
     ]
    },
    {
     "name": "stdout",
     "output_type": "stream",
     "text": [
      "finished igraph_community_spinglass K_DoesAlgSupportDirTest_1\n"
     ]
    },
    {
     "name": "stderr",
     "output_type": "stream",
     "text": [
      "2020-04-27 23:51:03,319 - igraph_community_spinglass - INFO - seed ignored\n",
      "INFO:igraph_community_spinglass:seed ignored\n",
      "2020-04-27 23:51:03,320 - Dataset:K_DoesAlgSupportDirTest_2 - INFO - reading /data/data/K_DoesAlgSupportDirTest_2/edges.parq\n",
      "INFO:Dataset:K_DoesAlgSupportDirTest_2:reading /data/data/K_DoesAlgSupportDirTest_2/edges.parq\n"
     ]
    },
    {
     "name": "stdout",
     "output_type": "stream",
     "text": [
      "runing  igraph_community_spinglass K_DoesAlgSupportDirTest_2\n"
     ]
    },
    {
     "name": "stderr",
     "output_type": "stream",
     "text": [
      "2020-04-27 23:51:03,831 - igraph_community_spinglass - INFO - Made 6 clusters in 0.505643 seconds. modularity=0.549025 \n",
      "INFO:igraph_community_spinglass:Made 6 clusters in 0.505643 seconds. modularity=0.549025 \n"
     ]
    },
    {
     "name": "stdout",
     "output_type": "stream",
     "text": [
      "finished igraph_community_spinglass K_DoesAlgSupportDirTest_2\n"
     ]
    },
    {
     "name": "stderr",
     "output_type": "stream",
     "text": [
      "2020-04-27 23:51:03,952 - igraph_community_walktrap - INFO - seed ignored\n",
      "INFO:igraph_community_walktrap:seed ignored\n",
      "2020-04-27 23:51:03,953 - Dataset:K_DoesAlgSupportDirTest_1 - INFO - reading /data/data/K_DoesAlgSupportDirTest_1/edges.parq\n",
      "INFO:Dataset:K_DoesAlgSupportDirTest_1:reading /data/data/K_DoesAlgSupportDirTest_1/edges.parq\n",
      "2020-04-27 23:51:03,962 - igraph_community_walktrap - INFO - Made 6 clusters in 0.002821 seconds. modularity=-1.000000 \n",
      "INFO:igraph_community_walktrap:Made 6 clusters in 0.002821 seconds. modularity=-1.000000 \n"
     ]
    },
    {
     "name": "stdout",
     "output_type": "stream",
     "text": [
      "runing  igraph_community_walktrap K_DoesAlgSupportDirTest_1\n",
      "finished igraph_community_walktrap K_DoesAlgSupportDirTest_1\n"
     ]
    },
    {
     "name": "stderr",
     "output_type": "stream",
     "text": [
      "2020-04-27 23:51:04,081 - igraph_community_walktrap - INFO - seed ignored\n",
      "INFO:igraph_community_walktrap:seed ignored\n",
      "2020-04-27 23:51:04,081 - Dataset:K_DoesAlgSupportDirTest_2 - INFO - reading /data/data/K_DoesAlgSupportDirTest_2/edges.parq\n",
      "INFO:Dataset:K_DoesAlgSupportDirTest_2:reading /data/data/K_DoesAlgSupportDirTest_2/edges.parq\n",
      "2020-04-27 23:51:04,089 - igraph_community_walktrap - INFO - Made 6 clusters in 0.002786 seconds. modularity=0.549025 \n",
      "INFO:igraph_community_walktrap:Made 6 clusters in 0.002786 seconds. modularity=0.549025 \n"
     ]
    },
    {
     "name": "stdout",
     "output_type": "stream",
     "text": [
      "runing  igraph_community_walktrap K_DoesAlgSupportDirTest_2\n",
      "finished igraph_community_walktrap K_DoesAlgSupportDirTest_2\n"
     ]
    },
    {
     "name": "stderr",
     "output_type": "stream",
     "text": [
      "2020-04-27 23:51:04,208 - karateclub_BigClam - INFO - seed ignored\n",
      "INFO:karateclub_BigClam:seed ignored\n"
     ]
    },
    {
     "name": "stdout",
     "output_type": "stream",
     "text": [
      "runing  karateclub_BigClam K_DoesAlgSupportDirTest_1\n",
      "except karateclub_BigClam K_DoesAlgSupportDirTest_1\n"
     ]
    },
    {
     "name": "stderr",
     "output_type": "stream",
     "text": [
      "2020-04-27 23:51:04,330 - karateclub_BigClam - INFO - seed ignored\n",
      "INFO:karateclub_BigClam:seed ignored\n"
     ]
    },
    {
     "name": "stdout",
     "output_type": "stream",
     "text": [
      "runing  karateclub_BigClam K_DoesAlgSupportDirTest_2\n"
     ]
    },
    {
     "name": "stderr",
     "output_type": "stream",
     "text": [
      "2020-04-27 23:51:04,809 - karateclub_BigClam - INFO - Made 1 clusters in 0.477415 seconds\n",
      "INFO:karateclub_BigClam:Made 1 clusters in 0.477415 seconds\n"
     ]
    },
    {
     "name": "stdout",
     "output_type": "stream",
     "text": [
      "finished karateclub_BigClam K_DoesAlgSupportDirTest_2\n",
      "runing  karateclub_DANMF K_DoesAlgSupportDirTest_1\n",
      "except karateclub_DANMF K_DoesAlgSupportDirTest_1\n",
      "runing  karateclub_DANMF K_DoesAlgSupportDirTest_2\n"
     ]
    },
    {
     "name": "stderr",
     "output_type": "stream",
     "text": [
      "2020-04-27 23:51:05,365 - karateclub_DANMF - INFO - Made 8 clusters in 0.311501 seconds\n",
      "INFO:karateclub_DANMF:Made 8 clusters in 0.311501 seconds\n"
     ]
    },
    {
     "name": "stdout",
     "output_type": "stream",
     "text": [
      "finished karateclub_DANMF K_DoesAlgSupportDirTest_2\n"
     ]
    },
    {
     "name": "stderr",
     "output_type": "stream",
     "text": [
      "2020-04-27 23:51:05,522 - karateclub_EdMot - INFO - seed ignored\n",
      "INFO:karateclub_EdMot:seed ignored\n"
     ]
    },
    {
     "name": "stdout",
     "output_type": "stream",
     "text": [
      "runing  karateclub_EdMot K_DoesAlgSupportDirTest_1\n",
      "except karateclub_EdMot K_DoesAlgSupportDirTest_1\n"
     ]
    },
    {
     "name": "stderr",
     "output_type": "stream",
     "text": [
      "2020-04-27 23:51:05,659 - karateclub_EdMot - INFO - seed ignored\n",
      "INFO:karateclub_EdMot:seed ignored\n",
      "2020-04-27 23:51:05,688 - karateclub_EdMot - INFO - Made 6 clusters in 0.028557 seconds\n",
      "INFO:karateclub_EdMot:Made 6 clusters in 0.028557 seconds\n"
     ]
    },
    {
     "name": "stdout",
     "output_type": "stream",
     "text": [
      "runing  karateclub_EdMot K_DoesAlgSupportDirTest_2\n",
      "finished karateclub_EdMot K_DoesAlgSupportDirTest_2\n"
     ]
    },
    {
     "name": "stderr",
     "output_type": "stream",
     "text": [
      "2020-04-27 23:51:05,805 - karateclub_EgoNetSplitter - INFO - seed ignored\n",
      "INFO:karateclub_EgoNetSplitter:seed ignored\n"
     ]
    },
    {
     "name": "stdout",
     "output_type": "stream",
     "text": [
      "runing  karateclub_EgoNetSplitter K_DoesAlgSupportDirTest_1\n",
      "except karateclub_EgoNetSplitter K_DoesAlgSupportDirTest_1\n"
     ]
    },
    {
     "name": "stderr",
     "output_type": "stream",
     "text": [
      "2020-04-27 23:51:05,927 - karateclub_EgoNetSplitter - INFO - seed ignored\n",
      "INFO:karateclub_EgoNetSplitter:seed ignored\n"
     ]
    },
    {
     "name": "stdout",
     "output_type": "stream",
     "text": [
      "runing  karateclub_EgoNetSplitter K_DoesAlgSupportDirTest_2\n"
     ]
    },
    {
     "name": "stderr",
     "output_type": "stream",
     "text": [
      "2020-04-27 23:51:06,023 - karateclub_EgoNetSplitter - INFO - Made 34 clusters in 0.095319 seconds\n",
      "INFO:karateclub_EgoNetSplitter:Made 34 clusters in 0.095319 seconds\n"
     ]
    },
    {
     "name": "stdout",
     "output_type": "stream",
     "text": [
      "finished karateclub_EgoNetSplitter K_DoesAlgSupportDirTest_2\n",
      "runing  karateclub_NNSED K_DoesAlgSupportDirTest_1\n",
      "except karateclub_NNSED K_DoesAlgSupportDirTest_1\n"
     ]
    },
    {
     "name": "stderr",
     "output_type": "stream",
     "text": [
      "2020-04-27 23:51:06,292 - karateclub_NNSED - INFO - Made 19 clusters in 0.028261 seconds\n",
      "INFO:karateclub_NNSED:Made 19 clusters in 0.028261 seconds\n"
     ]
    },
    {
     "name": "stdout",
     "output_type": "stream",
     "text": [
      "runing  karateclub_NNSED K_DoesAlgSupportDirTest_2\n",
      "finished karateclub_NNSED K_DoesAlgSupportDirTest_2\n"
     ]
    },
    {
     "name": "stderr",
     "output_type": "stream",
     "text": [
      "2020-04-27 23:51:06,428 - karateclub_SCD - INFO - seed ignored\n",
      "INFO:karateclub_SCD:seed ignored\n"
     ]
    },
    {
     "name": "stdout",
     "output_type": "stream",
     "text": [
      "runing  karateclub_SCD K_DoesAlgSupportDirTest_1\n",
      "except karateclub_SCD K_DoesAlgSupportDirTest_1\n"
     ]
    },
    {
     "name": "stderr",
     "output_type": "stream",
     "text": [
      "2020-04-27 23:51:06,589 - karateclub_SCD - INFO - seed ignored\n",
      "INFO:karateclub_SCD:seed ignored\n"
     ]
    },
    {
     "name": "stdout",
     "output_type": "stream",
     "text": [
      "runing  karateclub_SCD K_DoesAlgSupportDirTest_2\n"
     ]
    },
    {
     "name": "stderr",
     "output_type": "stream",
     "text": [
      "2020-04-27 23:51:07,189 - karateclub_SCD - INFO - Made 6 clusters in 0.599461 seconds\n",
      "INFO:karateclub_SCD:Made 6 clusters in 0.599461 seconds\n"
     ]
    },
    {
     "name": "stdout",
     "output_type": "stream",
     "text": [
      "finished karateclub_SCD K_DoesAlgSupportDirTest_2\n"
     ]
    },
    {
     "name": "stderr",
     "output_type": "stream",
     "text": [
      "2020-04-27 23:51:07,310 - karateclub_SymmNMF - INFO - seed ignored\n",
      "INFO:karateclub_SymmNMF:seed ignored\n"
     ]
    },
    {
     "name": "stdout",
     "output_type": "stream",
     "text": [
      "runing  karateclub_SymmNMF K_DoesAlgSupportDirTest_1\n",
      "except karateclub_SymmNMF K_DoesAlgSupportDirTest_1\n"
     ]
    },
    {
     "name": "stderr",
     "output_type": "stream",
     "text": [
      "2020-04-27 23:51:07,433 - karateclub_SymmNMF - INFO - seed ignored\n",
      "INFO:karateclub_SymmNMF:seed ignored\n"
     ]
    },
    {
     "name": "stdout",
     "output_type": "stream",
     "text": [
      "runing  karateclub_SymmNMF K_DoesAlgSupportDirTest_2\n"
     ]
    },
    {
     "name": "stderr",
     "output_type": "stream",
     "text": [
      "2020-04-27 23:51:07,668 - karateclub_SymmNMF - INFO - Made 31 clusters in 0.233887 seconds\n",
      "INFO:karateclub_SymmNMF:Made 31 clusters in 0.233887 seconds\n"
     ]
    },
    {
     "name": "stdout",
     "output_type": "stream",
     "text": [
      "finished karateclub_SymmNMF K_DoesAlgSupportDirTest_2\n"
     ]
    },
    {
     "name": "stderr",
     "output_type": "stream",
     "text": [
      "2020-04-27 23:51:07,819 - mcl_MCL - INFO - seed ignored\n",
      "INFO:mcl_MCL:seed ignored\n",
      "2020-04-27 23:51:07,821 - Dataset:K_DoesAlgSupportDirTest_1 - INFO - running /opt/gct/submodules/local/bin/mcxload -123 /data/data/K_DoesAlgSupportDirTest_1/edges.txt -o /data/data/K_DoesAlgSupportDirTest_1/mcl.mci --write-binary\n",
      "INFO:Dataset:K_DoesAlgSupportDirTest_1:running /opt/gct/submodules/local/bin/mcxload -123 /data/data/K_DoesAlgSupportDirTest_1/edges.txt -o /data/data/K_DoesAlgSupportDirTest_1/mcl.mci --write-binary\n"
     ]
    },
    {
     "name": "stdout",
     "output_type": "stream",
     "text": [
      "runing  mcl_MCL K_DoesAlgSupportDirTest_1\n",
      "except mcl_MCL K_DoesAlgSupportDirTest_1\n"
     ]
    },
    {
     "name": "stderr",
     "output_type": "stream",
     "text": [
      "2020-04-27 23:51:07,965 - mcl_MCL - INFO - seed ignored\n",
      "INFO:mcl_MCL:seed ignored\n",
      "2020-04-27 23:51:07,966 - Dataset:K_DoesAlgSupportDirTest_2 - INFO - running /opt/gct/submodules/local/bin/mcxload --stream-mirror -123 /data/data/K_DoesAlgSupportDirTest_2/edges.txt -o /data/data/K_DoesAlgSupportDirTest_2/mcl.mci --write-binary\n",
      "INFO:Dataset:K_DoesAlgSupportDirTest_2:running /opt/gct/submodules/local/bin/mcxload --stream-mirror -123 /data/data/K_DoesAlgSupportDirTest_2/edges.txt -o /data/data/K_DoesAlgSupportDirTest_2/mcl.mci --write-binary\n"
     ]
    },
    {
     "name": "stdout",
     "output_type": "stream",
     "text": [
      "runing  mcl_MCL K_DoesAlgSupportDirTest_2\n",
      "except mcl_MCL K_DoesAlgSupportDirTest_2\n"
     ]
    },
    {
     "name": "stderr",
     "output_type": "stream",
     "text": [
      "2020-04-27 23:51:08,091 - networkit_CutClustering - INFO - seed ignored\n",
      "INFO:networkit_CutClustering:seed ignored\n",
      "/opt/conda/envs/python3/lib/python3.7/site-packages/networkit/graphio.py:117: UserWarning: Graph.setName is deprecated.\n",
      "  G.setName(os.path.basename(path).split(\".\")[0])\t# set name of graph to name of file\n",
      "2020-04-27 23:51:08,098 - networkit_CutClustering - INFO - Made 1 clusters in 0.003392 seconds.\n",
      "INFO:networkit_CutClustering:Made 1 clusters in 0.003392 seconds.\n"
     ]
    },
    {
     "name": "stdout",
     "output_type": "stream",
     "text": [
      "runing  networkit_CutClustering K_DoesAlgSupportDirTest_1\n",
      "CutClustering(0.1) detected communities in 0.0016608238220214844 [s]\n",
      "solution properties:\n",
      "-------------------  ---\n",
      "# communities          1\n",
      "min community size   128\n",
      "max community size   128\n",
      "avg. community size  128\n",
      "modularity             0\n",
      "-------------------  ---\n",
      "finished networkit_CutClustering K_DoesAlgSupportDirTest_1\n"
     ]
    },
    {
     "name": "stderr",
     "output_type": "stream",
     "text": [
      "2020-04-27 23:51:08,227 - networkit_CutClustering - INFO - seed ignored\n",
      "INFO:networkit_CutClustering:seed ignored\n",
      "2020-04-27 23:51:08,238 - networkit_CutClustering - INFO - Made 1 clusters in 0.006582 seconds.\n",
      "INFO:networkit_CutClustering:Made 1 clusters in 0.006582 seconds.\n"
     ]
    },
    {
     "name": "stdout",
     "output_type": "stream",
     "text": [
      "runing  networkit_CutClustering K_DoesAlgSupportDirTest_2\n",
      "CutClustering(0.1) detected communities in 0.004436016082763672 [s]\n",
      "solution properties:\n",
      "-------------------  ---\n",
      "# communities          1\n",
      "min community size   128\n",
      "max community size   128\n",
      "avg. community size  128\n",
      "modularity             0\n",
      "-------------------  ---\n",
      "finished networkit_CutClustering K_DoesAlgSupportDirTest_2\n"
     ]
    },
    {
     "name": "stderr",
     "output_type": "stream",
     "text": [
      "2020-04-27 23:51:08,366 - networkit_LPDegreeOrdered - INFO - seed ignored\n",
      "INFO:networkit_LPDegreeOrdered:seed ignored\n",
      "2020-04-27 23:51:08,375 - networkit_LPDegreeOrdered - INFO - Made 5 clusters in 0.004303 seconds.\n",
      "INFO:networkit_LPDegreeOrdered:Made 5 clusters in 0.004303 seconds.\n"
     ]
    },
    {
     "name": "stdout",
     "output_type": "stream",
     "text": [
      "runing  networkit_LPDegreeOrdered K_DoesAlgSupportDirTest_1\n",
      "LPDegreeOrdered() detected communities in 0.0024008750915527344 [s]\n",
      "solution properties:\n",
      "-------------------  ---------\n",
      "# communities         5\n",
      "min community size   14\n",
      "max community size   48\n",
      "avg. community size  25.6\n",
      "modularity            0.507842\n",
      "-------------------  ---------\n",
      "finished networkit_LPDegreeOrdered K_DoesAlgSupportDirTest_1\n"
     ]
    },
    {
     "name": "stderr",
     "output_type": "stream",
     "text": [
      "2020-04-27 23:51:08,522 - networkit_LPDegreeOrdered - INFO - seed ignored\n",
      "INFO:networkit_LPDegreeOrdered:seed ignored\n",
      "2020-04-27 23:51:08,528 - networkit_LPDegreeOrdered - INFO - Made 5 clusters in 0.002979 seconds.\n",
      "INFO:networkit_LPDegreeOrdered:Made 5 clusters in 0.002979 seconds.\n"
     ]
    },
    {
     "name": "stdout",
     "output_type": "stream",
     "text": [
      "runing  networkit_LPDegreeOrdered K_DoesAlgSupportDirTest_2\n",
      "LPDegreeOrdered() detected communities in 0.00185394287109375 [s]\n",
      "solution properties:\n",
      "-------------------  ---------\n",
      "# communities         5\n",
      "min community size   14\n",
      "max community size   48\n",
      "avg. community size  25.6\n",
      "modularity            0.507842\n",
      "-------------------  ---------\n",
      "finished networkit_LPDegreeOrdered K_DoesAlgSupportDirTest_2\n"
     ]
    },
    {
     "name": "stderr",
     "output_type": "stream",
     "text": [
      "2020-04-27 23:51:08,687 - networkit_PLM - INFO - seed ignored\n",
      "INFO:networkit_PLM:seed ignored\n",
      "2020-04-27 23:51:08,692 - networkit_PLM - INFO - Made 6 clusters in 0.001508 seconds.\n",
      "INFO:networkit_PLM:Made 6 clusters in 0.001508 seconds.\n"
     ]
    },
    {
     "name": "stdout",
     "output_type": "stream",
     "text": [
      "runing  networkit_PLM K_DoesAlgSupportDirTest_1\n",
      "PLM(balanced,pc,turbo) detected communities in 0.0004527568817138672 [s]\n",
      "solution properties:\n",
      "-------------------  ---------\n",
      "# communities         6\n",
      "min community size   14\n",
      "max community size   30\n",
      "avg. community size  21.3333\n",
      "modularity            0.549025\n",
      "-------------------  ---------\n",
      "finished networkit_PLM K_DoesAlgSupportDirTest_1\n"
     ]
    },
    {
     "name": "stderr",
     "output_type": "stream",
     "text": [
      "2020-04-27 23:51:08,827 - networkit_PLM - INFO - seed ignored\n",
      "INFO:networkit_PLM:seed ignored\n",
      "2020-04-27 23:51:08,835 - networkit_PLM - INFO - Made 6 clusters in 0.004798 seconds.\n",
      "INFO:networkit_PLM:Made 6 clusters in 0.004798 seconds.\n"
     ]
    },
    {
     "name": "stdout",
     "output_type": "stream",
     "text": [
      "runing  networkit_PLM K_DoesAlgSupportDirTest_2\n",
      "PLM(balanced,pc,turbo) detected communities in 0.0025582313537597656 [s]\n",
      "solution properties:\n",
      "-------------------  ---------\n",
      "# communities         6\n",
      "min community size   14\n",
      "max community size   30\n",
      "avg. community size  21.3333\n",
      "modularity            0.549025\n",
      "-------------------  ---------\n",
      "finished networkit_PLM K_DoesAlgSupportDirTest_2\n"
     ]
    },
    {
     "name": "stderr",
     "output_type": "stream",
     "text": [
      "2020-04-27 23:51:08,961 - networkit_PLP - INFO - seed ignored\n",
      "INFO:networkit_PLP:seed ignored\n",
      "2020-04-27 23:51:08,973 - networkit_PLP - INFO - Made 5 clusters in 0.004763 seconds.\n",
      "INFO:networkit_PLP:Made 5 clusters in 0.004763 seconds.\n"
     ]
    },
    {
     "name": "stdout",
     "output_type": "stream",
     "text": [
      "runing  networkit_PLP K_DoesAlgSupportDirTest_1\n",
      "PLP detected communities in 0.0025899410247802734 [s]\n",
      "solution properties:\n",
      "-------------------  ---------\n",
      "# communities         5\n",
      "min community size   14\n",
      "max community size   48\n",
      "avg. community size  25.6\n",
      "modularity            0.507842\n",
      "-------------------  ---------\n",
      "finished networkit_PLP K_DoesAlgSupportDirTest_1\n"
     ]
    },
    {
     "name": "stderr",
     "output_type": "stream",
     "text": [
      "2020-04-27 23:51:09,101 - networkit_PLP - INFO - seed ignored\n",
      "INFO:networkit_PLP:seed ignored\n",
      "2020-04-27 23:51:09,107 - networkit_PLP - INFO - Made 4 clusters in 0.002322 seconds.\n",
      "INFO:networkit_PLP:Made 4 clusters in 0.002322 seconds.\n"
     ]
    },
    {
     "name": "stdout",
     "output_type": "stream",
     "text": [
      "runing  networkit_PLP K_DoesAlgSupportDirTest_2\n",
      "PLP detected communities in 0.0009760856628417969 [s]\n",
      "solution properties:\n",
      "-------------------  ---------\n",
      "# communities         4\n",
      "min community size   14\n",
      "max community size   58\n",
      "avg. community size  32\n",
      "modularity            0.476927\n",
      "-------------------  ---------\n",
      "finished networkit_PLP K_DoesAlgSupportDirTest_2\n"
     ]
    },
    {
     "name": "stderr",
     "output_type": "stream",
     "text": [
      "2020-04-27 23:51:09,233 - alg_GossipMap - INFO - seed ignored\n",
      "INFO:alg_GossipMap:seed ignored\n",
      "2020-04-27 23:51:09,236 - alg_GossipMap - INFO - Running /opt/gct/submodules/PowerGraph/GossipMap --graph /tmp/tmppmsoor2s/edges.txt --prefix output.cluster --ncpus 7\n",
      "INFO:alg_GossipMap:Running /opt/gct/submodules/PowerGraph/GossipMap --graph /tmp/tmppmsoor2s/edges.txt --prefix output.cluster --ncpus 7\n"
     ]
    },
    {
     "name": "stdout",
     "output_type": "stream",
     "text": [
      "runing  alg_GossipMap K_DoesAlgSupportDirTest_1\n"
     ]
    },
    {
     "name": "stderr",
     "output_type": "stream",
     "text": [
      "2020-04-27 23:51:10,014 - alg_GossipMap - INFO - Made 6 clusters in 0.763764 seconds\n",
      "INFO:alg_GossipMap:Made 6 clusters in 0.763764 seconds\n"
     ]
    },
    {
     "name": "stdout",
     "output_type": "stream",
     "text": [
      "finished alg_GossipMap K_DoesAlgSupportDirTest_1\n"
     ]
    },
    {
     "name": "stderr",
     "output_type": "stream",
     "text": [
      "2020-04-27 23:51:10,134 - alg_GossipMap - INFO - seed ignored\n",
      "INFO:alg_GossipMap:seed ignored\n",
      "2020-04-27 23:51:10,135 - alg_GossipMap - INFO - Running /opt/gct/submodules/PowerGraph/GossipMap --graph /tmp/tmppqjagpss/edges.txt --prefix output.cluster --ncpus 7\n",
      "INFO:alg_GossipMap:Running /opt/gct/submodules/PowerGraph/GossipMap --graph /tmp/tmppqjagpss/edges.txt --prefix output.cluster --ncpus 7\n"
     ]
    },
    {
     "name": "stdout",
     "output_type": "stream",
     "text": [
      "runing  alg_GossipMap K_DoesAlgSupportDirTest_2\n"
     ]
    },
    {
     "name": "stderr",
     "output_type": "stream",
     "text": [
      "2020-04-27 23:51:10,799 - alg_GossipMap - INFO - Made 6 clusters in 0.651029 seconds\n",
      "INFO:alg_GossipMap:Made 6 clusters in 0.651029 seconds\n"
     ]
    },
    {
     "name": "stdout",
     "output_type": "stream",
     "text": [
      "finished alg_GossipMap K_DoesAlgSupportDirTest_2\n"
     ]
    },
    {
     "name": "stderr",
     "output_type": "stream",
     "text": [
      "2020-04-27 23:51:10,920 - alg_RelaxMap - INFO - Running /opt/gct/submodules/RelaxMap/ompRelaxmap 123 /tmp/tmpwh6_5puz/edges.txt 7 1 0.001 0.0 10 /tmp/tmpwh6_5puz prior\n",
      "INFO:alg_RelaxMap:Running /opt/gct/submodules/RelaxMap/ompRelaxmap 123 /tmp/tmpwh6_5puz/edges.txt 7 1 0.001 0.0 10 /tmp/tmpwh6_5puz prior\n",
      "2020-04-27 23:51:10,952 - alg_RelaxMap - INFO - Made 6 clusters in 0.023094 seconds\n",
      "INFO:alg_RelaxMap:Made 6 clusters in 0.023094 seconds\n"
     ]
    },
    {
     "name": "stdout",
     "output_type": "stream",
     "text": [
      "runing  alg_RelaxMap K_DoesAlgSupportDirTest_1\n",
      "finished alg_RelaxMap K_DoesAlgSupportDirTest_1\n"
     ]
    },
    {
     "name": "stderr",
     "output_type": "stream",
     "text": [
      "2020-04-27 23:51:11,071 - alg_RelaxMap - INFO - Running /opt/gct/submodules/RelaxMap/ompRelaxmap 123 /tmp/tmpwuk75btv/edges.txt 7 1 0.001 0.0 10 /tmp/tmpwuk75btv prior\n",
      "INFO:alg_RelaxMap:Running /opt/gct/submodules/RelaxMap/ompRelaxmap 123 /tmp/tmpwuk75btv/edges.txt 7 1 0.001 0.0 10 /tmp/tmpwuk75btv prior\n",
      "2020-04-27 23:51:11,097 - alg_RelaxMap - INFO - Made 6 clusters in 0.018238 seconds\n",
      "INFO:alg_RelaxMap:Made 6 clusters in 0.018238 seconds\n"
     ]
    },
    {
     "name": "stdout",
     "output_type": "stream",
     "text": [
      "runing  alg_RelaxMap K_DoesAlgSupportDirTest_2\n",
      "finished alg_RelaxMap K_DoesAlgSupportDirTest_2\n"
     ]
    },
    {
     "name": "stderr",
     "output_type": "stream",
     "text": [
      "2020-04-27 23:51:11,215 - alg_pg_label_propagation - INFO - seed ignored\n",
      "INFO:alg_pg_label_propagation:seed ignored\n",
      "2020-04-27 23:51:11,216 - alg_pg_label_propagation - INFO - Running /opt/gct/submodules/PowerGraph/label_propagation --graph /tmp/tmpulp6uqv4/edges.txt --saveprefix=output.cluster --execution async --ncpus 7 --weighted 0 --directed 1\n",
      "INFO:alg_pg_label_propagation:Running /opt/gct/submodules/PowerGraph/label_propagation --graph /tmp/tmpulp6uqv4/edges.txt --saveprefix=output.cluster --execution async --ncpus 7 --weighted 0 --directed 1\n"
     ]
    },
    {
     "name": "stdout",
     "output_type": "stream",
     "text": [
      "runing  alg_pg_label_propagation K_DoesAlgSupportDirTest_1\n"
     ]
    },
    {
     "name": "stderr",
     "output_type": "stream",
     "text": [
      "2020-04-27 23:51:11,641 - alg_pg_label_propagation - INFO - Made 1 clusters in 0.413540 seconds\n",
      "INFO:alg_pg_label_propagation:Made 1 clusters in 0.413540 seconds\n"
     ]
    },
    {
     "name": "stdout",
     "output_type": "stream",
     "text": [
      "finished alg_pg_label_propagation K_DoesAlgSupportDirTest_1\n"
     ]
    },
    {
     "name": "stderr",
     "output_type": "stream",
     "text": [
      "2020-04-27 23:51:11,761 - alg_pg_label_propagation - INFO - seed ignored\n",
      "INFO:alg_pg_label_propagation:seed ignored\n",
      "2020-04-27 23:51:11,763 - alg_pg_label_propagation - INFO - Running /opt/gct/submodules/PowerGraph/label_propagation --graph /tmp/tmpi6vfhw32/edges.txt --saveprefix=output.cluster --execution async --ncpus 7 --weighted 0 --directed 0\n",
      "INFO:alg_pg_label_propagation:Running /opt/gct/submodules/PowerGraph/label_propagation --graph /tmp/tmpi6vfhw32/edges.txt --saveprefix=output.cluster --execution async --ncpus 7 --weighted 0 --directed 0\n"
     ]
    },
    {
     "name": "stdout",
     "output_type": "stream",
     "text": [
      "runing  alg_pg_label_propagation K_DoesAlgSupportDirTest_2\n"
     ]
    },
    {
     "name": "stderr",
     "output_type": "stream",
     "text": [
      "2020-04-27 23:51:12,174 - alg_pg_label_propagation - INFO - Made 5 clusters in 0.399573 seconds\n",
      "INFO:alg_pg_label_propagation:Made 5 clusters in 0.399573 seconds\n"
     ]
    },
    {
     "name": "stdout",
     "output_type": "stream",
     "text": [
      "finished alg_pg_label_propagation K_DoesAlgSupportDirTest_2\n"
     ]
    },
    {
     "name": "stderr",
     "output_type": "stream",
     "text": [
      "2020-04-27 23:51:12,296 - scan_AnyScan_Scan - INFO - seed ignored\n",
      "INFO:scan_AnyScan_Scan:seed ignored\n",
      "2020-04-27 23:51:12,297 - Dataset:K_DoesAlgSupportDirTest_1 - INFO - reading /data/data/K_DoesAlgSupportDirTest_1/edges.parq\n",
      "INFO:Dataset:K_DoesAlgSupportDirTest_1:reading /data/data/K_DoesAlgSupportDirTest_1/edges.parq\n",
      "2020-04-27 23:51:12,302 - Dataset:K_DoesAlgSupportDirTest_1 - INFO - min node: 0, max node: 127\n",
      "INFO:Dataset:K_DoesAlgSupportDirTest_1:min node: 0, max node: 127\n",
      "2020-04-27 23:51:12,314 - scan_AnyScan_Scan - INFO - Running /opt/gct/submodules/ppSCAN/anyscan -c 1 -i /data/data/K_DoesAlgSupportDirTest_1/anyscan.txt -m 4 -e 0.5 -o output -a 32768 -b 32768 -t 7\n",
      "INFO:scan_AnyScan_Scan:Running /opt/gct/submodules/ppSCAN/anyscan -c 1 -i /data/data/K_DoesAlgSupportDirTest_1/anyscan.txt -m 4 -e 0.5 -o output -a 32768 -b 32768 -t 7\n",
      "2020-04-27 23:51:12,327 - scan_AnyScan_Scan - INFO - Made 6 clusters in 0.011441 seconds\n",
      "INFO:scan_AnyScan_Scan:Made 6 clusters in 0.011441 seconds\n"
     ]
    },
    {
     "name": "stdout",
     "output_type": "stream",
     "text": [
      "runing  scan_AnyScan_Scan K_DoesAlgSupportDirTest_1\n",
      "finished scan_AnyScan_Scan K_DoesAlgSupportDirTest_1\n"
     ]
    },
    {
     "name": "stderr",
     "output_type": "stream",
     "text": [
      "2020-04-27 23:51:12,445 - scan_AnyScan_Scan - INFO - seed ignored\n",
      "INFO:scan_AnyScan_Scan:seed ignored\n",
      "2020-04-27 23:51:12,446 - Dataset:K_DoesAlgSupportDirTest_2 - INFO - reading /data/data/K_DoesAlgSupportDirTest_2/edges.parq\n",
      "INFO:Dataset:K_DoesAlgSupportDirTest_2:reading /data/data/K_DoesAlgSupportDirTest_2/edges.parq\n",
      "2020-04-27 23:51:12,450 - Dataset:K_DoesAlgSupportDirTest_2 - INFO - min node: 0, max node: 127\n",
      "INFO:Dataset:K_DoesAlgSupportDirTest_2:min node: 0, max node: 127\n",
      "2020-04-27 23:51:12,463 - scan_AnyScan_Scan - INFO - Running /opt/gct/submodules/ppSCAN/anyscan -c 1 -i /data/data/K_DoesAlgSupportDirTest_2/anyscan.txt -m 4 -e 0.5 -o output -a 32768 -b 32768 -t 7\n",
      "INFO:scan_AnyScan_Scan:Running /opt/gct/submodules/ppSCAN/anyscan -c 1 -i /data/data/K_DoesAlgSupportDirTest_2/anyscan.txt -m 4 -e 0.5 -o output -a 32768 -b 32768 -t 7\n",
      "2020-04-27 23:51:12,474 - scan_AnyScan_Scan - INFO - Made 6 clusters in 0.010033 seconds\n",
      "INFO:scan_AnyScan_Scan:Made 6 clusters in 0.010033 seconds\n"
     ]
    },
    {
     "name": "stdout",
     "output_type": "stream",
     "text": [
      "runing  scan_AnyScan_Scan K_DoesAlgSupportDirTest_2\n",
      "finished scan_AnyScan_Scan K_DoesAlgSupportDirTest_2\n"
     ]
    },
    {
     "name": "stderr",
     "output_type": "stream",
     "text": [
      "2020-04-27 23:51:12,592 - scan_AnyScan_anyScan - INFO - seed ignored\n",
      "INFO:scan_AnyScan_anyScan:seed ignored\n",
      "2020-04-27 23:51:12,593 - scan_AnyScan_anyScan - INFO - Running /opt/gct/submodules/ppSCAN/anyscan -c 3 -i /data/data/K_DoesAlgSupportDirTest_1/anyscan.txt -m 4 -e 0.5 -o output -a 32768 -b 32768 -t 7\n",
      "INFO:scan_AnyScan_anyScan:Running /opt/gct/submodules/ppSCAN/anyscan -c 3 -i /data/data/K_DoesAlgSupportDirTest_1/anyscan.txt -m 4 -e 0.5 -o output -a 32768 -b 32768 -t 7\n",
      "2020-04-27 23:51:12,631 - scan_AnyScan_anyScan - INFO - Made 6 clusters in 0.036151 seconds\n",
      "INFO:scan_AnyScan_anyScan:Made 6 clusters in 0.036151 seconds\n"
     ]
    },
    {
     "name": "stdout",
     "output_type": "stream",
     "text": [
      "runing  scan_AnyScan_anyScan K_DoesAlgSupportDirTest_1\n",
      "finished scan_AnyScan_anyScan K_DoesAlgSupportDirTest_1\n"
     ]
    },
    {
     "name": "stderr",
     "output_type": "stream",
     "text": [
      "2020-04-27 23:51:12,749 - scan_AnyScan_anyScan - INFO - seed ignored\n",
      "INFO:scan_AnyScan_anyScan:seed ignored\n",
      "2020-04-27 23:51:12,750 - scan_AnyScan_anyScan - INFO - Running /opt/gct/submodules/ppSCAN/anyscan -c 3 -i /data/data/K_DoesAlgSupportDirTest_2/anyscan.txt -m 4 -e 0.5 -o output -a 32768 -b 32768 -t 7\n",
      "INFO:scan_AnyScan_anyScan:Running /opt/gct/submodules/ppSCAN/anyscan -c 3 -i /data/data/K_DoesAlgSupportDirTest_2/anyscan.txt -m 4 -e 0.5 -o output -a 32768 -b 32768 -t 7\n",
      "2020-04-27 23:51:12,787 - scan_AnyScan_anyScan - INFO - Made 6 clusters in 0.034590 seconds\n",
      "INFO:scan_AnyScan_anyScan:Made 6 clusters in 0.034590 seconds\n"
     ]
    },
    {
     "name": "stdout",
     "output_type": "stream",
     "text": [
      "runing  scan_AnyScan_anyScan K_DoesAlgSupportDirTest_2\n",
      "finished scan_AnyScan_anyScan K_DoesAlgSupportDirTest_2\n"
     ]
    },
    {
     "name": "stderr",
     "output_type": "stream",
     "text": [
      "2020-04-27 23:51:12,906 - scan_AnyScan_anyScanParl - INFO - seed ignored\n",
      "INFO:scan_AnyScan_anyScanParl:seed ignored\n",
      "2020-04-27 23:51:12,907 - scan_AnyScan_anyScanParl - INFO - Running /opt/gct/submodules/ppSCAN/anyscan -c 4 -i /data/data/K_DoesAlgSupportDirTest_1/anyscan.txt -m 4 -e 0.5 -o output -a 32768 -b 32768 -t 7\n",
      "INFO:scan_AnyScan_anyScanParl:Running /opt/gct/submodules/ppSCAN/anyscan -c 4 -i /data/data/K_DoesAlgSupportDirTest_1/anyscan.txt -m 4 -e 0.5 -o output -a 32768 -b 32768 -t 7\n"
     ]
    },
    {
     "name": "stdout",
     "output_type": "stream",
     "text": [
      "runing  scan_AnyScan_anyScanParl K_DoesAlgSupportDirTest_1\n"
     ]
    },
    {
     "name": "stderr",
     "output_type": "stream",
     "text": [
      "2020-04-27 23:51:13,152 - scan_AnyScan_anyScanParl - INFO - Made 6 clusters in 0.243799 seconds\n",
      "INFO:scan_AnyScan_anyScanParl:Made 6 clusters in 0.243799 seconds\n"
     ]
    },
    {
     "name": "stdout",
     "output_type": "stream",
     "text": [
      "finished scan_AnyScan_anyScanParl K_DoesAlgSupportDirTest_1\n"
     ]
    },
    {
     "name": "stderr",
     "output_type": "stream",
     "text": [
      "2020-04-27 23:51:13,273 - scan_AnyScan_anyScanParl - INFO - seed ignored\n",
      "INFO:scan_AnyScan_anyScanParl:seed ignored\n",
      "2020-04-27 23:51:13,274 - scan_AnyScan_anyScanParl - INFO - Running /opt/gct/submodules/ppSCAN/anyscan -c 4 -i /data/data/K_DoesAlgSupportDirTest_2/anyscan.txt -m 4 -e 0.5 -o output -a 32768 -b 32768 -t 7\n",
      "INFO:scan_AnyScan_anyScanParl:Running /opt/gct/submodules/ppSCAN/anyscan -c 4 -i /data/data/K_DoesAlgSupportDirTest_2/anyscan.txt -m 4 -e 0.5 -o output -a 32768 -b 32768 -t 7\n"
     ]
    },
    {
     "name": "stdout",
     "output_type": "stream",
     "text": [
      "runing  scan_AnyScan_anyScanParl K_DoesAlgSupportDirTest_2\n"
     ]
    },
    {
     "name": "stderr",
     "output_type": "stream",
     "text": [
      "2020-04-27 23:51:13,523 - scan_AnyScan_anyScanParl - INFO - Made 6 clusters in 0.247662 seconds\n",
      "INFO:scan_AnyScan_anyScanParl:Made 6 clusters in 0.247662 seconds\n"
     ]
    },
    {
     "name": "stdout",
     "output_type": "stream",
     "text": [
      "finished scan_AnyScan_anyScanParl K_DoesAlgSupportDirTest_2\n"
     ]
    },
    {
     "name": "stderr",
     "output_type": "stream",
     "text": [
      "2020-04-27 23:51:13,645 - scan_AnyScan_pScan - INFO - seed ignored\n",
      "INFO:scan_AnyScan_pScan:seed ignored\n",
      "2020-04-27 23:51:13,646 - scan_AnyScan_pScan - INFO - Running /opt/gct/submodules/ppSCAN/anyscan -c 2 -i /data/data/K_DoesAlgSupportDirTest_1/anyscan.txt -m 4 -e 0.5 -o output -a 32768 -b 32768 -t 7\n",
      "INFO:scan_AnyScan_pScan:Running /opt/gct/submodules/ppSCAN/anyscan -c 2 -i /data/data/K_DoesAlgSupportDirTest_1/anyscan.txt -m 4 -e 0.5 -o output -a 32768 -b 32768 -t 7\n",
      "2020-04-27 23:51:13,660 - scan_AnyScan_pScan - INFO - Made 6 clusters in 0.012067 seconds\n",
      "INFO:scan_AnyScan_pScan:Made 6 clusters in 0.012067 seconds\n"
     ]
    },
    {
     "name": "stdout",
     "output_type": "stream",
     "text": [
      "runing  scan_AnyScan_pScan K_DoesAlgSupportDirTest_1\n",
      "finished scan_AnyScan_pScan K_DoesAlgSupportDirTest_1\n"
     ]
    },
    {
     "name": "stderr",
     "output_type": "stream",
     "text": [
      "2020-04-27 23:51:13,778 - scan_AnyScan_pScan - INFO - seed ignored\n",
      "INFO:scan_AnyScan_pScan:seed ignored\n",
      "2020-04-27 23:51:13,779 - scan_AnyScan_pScan - INFO - Running /opt/gct/submodules/ppSCAN/anyscan -c 2 -i /data/data/K_DoesAlgSupportDirTest_2/anyscan.txt -m 4 -e 0.5 -o output -a 32768 -b 32768 -t 7\n",
      "INFO:scan_AnyScan_pScan:Running /opt/gct/submodules/ppSCAN/anyscan -c 2 -i /data/data/K_DoesAlgSupportDirTest_2/anyscan.txt -m 4 -e 0.5 -o output -a 32768 -b 32768 -t 7\n",
      "2020-04-27 23:51:13,790 - scan_AnyScan_pScan - INFO - Made 6 clusters in 0.009509 seconds\n",
      "INFO:scan_AnyScan_pScan:Made 6 clusters in 0.009509 seconds\n"
     ]
    },
    {
     "name": "stdout",
     "output_type": "stream",
     "text": [
      "runing  scan_AnyScan_pScan K_DoesAlgSupportDirTest_2\n",
      "finished scan_AnyScan_pScan K_DoesAlgSupportDirTest_2\n"
     ]
    },
    {
     "name": "stderr",
     "output_type": "stream",
     "text": [
      "2020-04-27 23:51:13,908 - scan_Scanpp - INFO - seed ignored\n",
      "INFO:scan_Scanpp:seed ignored\n",
      "2020-04-27 23:51:13,909 - scan_Scanpp - INFO - Running /opt/gct/submodules/ppSCAN/scanpp -e 0 -m 1 -r /data/data/K_DoesAlgSupportDirTest_1/edges.txt\n",
      "INFO:scan_Scanpp:Running /opt/gct/submodules/ppSCAN/scanpp -e 0 -m 1 -r /data/data/K_DoesAlgSupportDirTest_1/edges.txt\n",
      "2020-04-27 23:51:13,919 - scan_Scanpp - INFO - Made 1 clusters in 0.008429 seconds\n",
      "INFO:scan_Scanpp:Made 1 clusters in 0.008429 seconds\n"
     ]
    },
    {
     "name": "stdout",
     "output_type": "stream",
     "text": [
      "runing  scan_Scanpp K_DoesAlgSupportDirTest_1\n",
      "finished scan_Scanpp K_DoesAlgSupportDirTest_1\n"
     ]
    },
    {
     "name": "stderr",
     "output_type": "stream",
     "text": [
      "2020-04-27 23:51:14,035 - scan_Scanpp - INFO - seed ignored\n",
      "INFO:scan_Scanpp:seed ignored\n",
      "2020-04-27 23:51:14,036 - scan_Scanpp - INFO - Running /opt/gct/submodules/ppSCAN/scanpp -e 0 -m 1 -r /data/data/K_DoesAlgSupportDirTest_2/edges.txt\n",
      "INFO:scan_Scanpp:Running /opt/gct/submodules/ppSCAN/scanpp -e 0 -m 1 -r /data/data/K_DoesAlgSupportDirTest_2/edges.txt\n",
      "2020-04-27 23:51:14,046 - scan_Scanpp - INFO - Made 1 clusters in 0.008722 seconds\n",
      "INFO:scan_Scanpp:Made 1 clusters in 0.008722 seconds\n"
     ]
    },
    {
     "name": "stdout",
     "output_type": "stream",
     "text": [
      "runing  scan_Scanpp K_DoesAlgSupportDirTest_2\n",
      "finished scan_Scanpp K_DoesAlgSupportDirTest_2\n"
     ]
    },
    {
     "name": "stderr",
     "output_type": "stream",
     "text": [
      "2020-04-27 23:51:14,163 - scan_pScan - INFO - seed ignored\n",
      "INFO:scan_pScan:seed ignored\n",
      "2020-04-27 23:51:14,165 - Dataset:K_DoesAlgSupportDirTest_1 - INFO - running /opt/gct/submodules/ppSCAN/converter /data/data/K_DoesAlgSupportDirTest_1/edges.txt b_degree.bin b_adj.bin\n",
      "INFO:Dataset:K_DoesAlgSupportDirTest_1:running /opt/gct/submodules/ppSCAN/converter /data/data/K_DoesAlgSupportDirTest_1/edges.txt b_degree.bin b_adj.bin\n",
      "2020-04-27 23:51:14,174 - scan_pScan - INFO - Running /opt/gct/submodules/ppSCAN/pscan /tmp/tmpolg4f2ut 0.5 3 output\n",
      "INFO:scan_pScan:Running /opt/gct/submodules/ppSCAN/pscan /tmp/tmpolg4f2ut 0.5 3 output\n",
      "2020-04-27 23:51:14,191 - scan_pScan - INFO - Made 6 clusters in 0.007226 seconds\n",
      "INFO:scan_pScan:Made 6 clusters in 0.007226 seconds\n"
     ]
    },
    {
     "name": "stdout",
     "output_type": "stream",
     "text": [
      "runing  scan_pScan K_DoesAlgSupportDirTest_1\n",
      "finished scan_pScan K_DoesAlgSupportDirTest_1\n"
     ]
    },
    {
     "name": "stderr",
     "output_type": "stream",
     "text": [
      "2020-04-27 23:51:14,308 - scan_pScan - INFO - seed ignored\n",
      "INFO:scan_pScan:seed ignored\n",
      "2020-04-27 23:51:14,310 - Dataset:K_DoesAlgSupportDirTest_2 - INFO - running /opt/gct/submodules/ppSCAN/converter /data/data/K_DoesAlgSupportDirTest_2/edges.txt b_degree.bin b_adj.bin\n",
      "INFO:Dataset:K_DoesAlgSupportDirTest_2:running /opt/gct/submodules/ppSCAN/converter /data/data/K_DoesAlgSupportDirTest_2/edges.txt b_degree.bin b_adj.bin\n",
      "2020-04-27 23:51:14,319 - scan_pScan - INFO - Running /opt/gct/submodules/ppSCAN/pscan /tmp/tmpr48tt413 0.5 3 output\n",
      "INFO:scan_pScan:Running /opt/gct/submodules/ppSCAN/pscan /tmp/tmpr48tt413 0.5 3 output\n",
      "2020-04-27 23:51:14,336 - scan_pScan - INFO - Made 6 clusters in 0.007484 seconds\n",
      "INFO:scan_pScan:Made 6 clusters in 0.007484 seconds\n"
     ]
    },
    {
     "name": "stdout",
     "output_type": "stream",
     "text": [
      "runing  scan_pScan K_DoesAlgSupportDirTest_2\n",
      "finished scan_pScan K_DoesAlgSupportDirTest_2\n"
     ]
    },
    {
     "name": "stderr",
     "output_type": "stream",
     "text": [
      "2020-04-27 23:51:14,453 - scan_ppScan - INFO - seed ignored\n",
      "INFO:scan_ppScan:seed ignored\n",
      "2020-04-27 23:51:14,454 - scan_ppScan - INFO - Running /opt/gct/submodules/ppSCAN/pSCANParallel /tmp/tmpt8zfry1v 0.5 3 output\n",
      "INFO:scan_ppScan:Running /opt/gct/submodules/ppSCAN/pSCANParallel /tmp/tmpt8zfry1v 0.5 3 output\n",
      "2020-04-27 23:51:14,472 - scan_ppScan - INFO - Made 6 clusters in 0.009605 seconds\n",
      "INFO:scan_ppScan:Made 6 clusters in 0.009605 seconds\n"
     ]
    },
    {
     "name": "stdout",
     "output_type": "stream",
     "text": [
      "runing  scan_ppScan K_DoesAlgSupportDirTest_1\n",
      "finished scan_ppScan K_DoesAlgSupportDirTest_1\n"
     ]
    },
    {
     "name": "stderr",
     "output_type": "stream",
     "text": [
      "2020-04-27 23:51:14,588 - scan_ppScan - INFO - seed ignored\n",
      "INFO:scan_ppScan:seed ignored\n",
      "2020-04-27 23:51:14,590 - scan_ppScan - INFO - Running /opt/gct/submodules/ppSCAN/pSCANParallel /tmp/tmpdukudi0h 0.5 3 output\n",
      "INFO:scan_ppScan:Running /opt/gct/submodules/ppSCAN/pSCANParallel /tmp/tmpdukudi0h 0.5 3 output\n",
      "2020-04-27 23:51:14,608 - scan_ppScan - INFO - Made 6 clusters in 0.009667 seconds\n",
      "INFO:scan_ppScan:Made 6 clusters in 0.009667 seconds\n"
     ]
    },
    {
     "name": "stdout",
     "output_type": "stream",
     "text": [
      "runing  scan_ppScan K_DoesAlgSupportDirTest_2\n",
      "finished scan_ppScan K_DoesAlgSupportDirTest_2\n"
     ]
    },
    {
     "name": "stderr",
     "output_type": "stream",
     "text": [
      "2020-04-27 23:51:14,725 - scan_ppScanSSE - INFO - seed ignored\n",
      "INFO:scan_ppScanSSE:seed ignored\n",
      "2020-04-27 23:51:14,726 - scan_ppScanSSE - INFO - Running /opt/gct/submodules/ppSCAN/pSCANParallelSSE /tmp/tmp7cdzw3xc 0.5 3 output\n",
      "INFO:scan_ppScanSSE:Running /opt/gct/submodules/ppSCAN/pSCANParallelSSE /tmp/tmp7cdzw3xc 0.5 3 output\n",
      "2020-04-27 23:51:14,743 - scan_ppScanSSE - INFO - Made 6 clusters in 0.009239 seconds\n",
      "INFO:scan_ppScanSSE:Made 6 clusters in 0.009239 seconds\n"
     ]
    },
    {
     "name": "stdout",
     "output_type": "stream",
     "text": [
      "runing  scan_ppScanSSE K_DoesAlgSupportDirTest_1\n",
      "finished scan_ppScanSSE K_DoesAlgSupportDirTest_1\n"
     ]
    },
    {
     "name": "stderr",
     "output_type": "stream",
     "text": [
      "2020-04-27 23:51:14,860 - scan_ppScanSSE - INFO - seed ignored\n",
      "INFO:scan_ppScanSSE:seed ignored\n",
      "2020-04-27 23:51:14,861 - scan_ppScanSSE - INFO - Running /opt/gct/submodules/ppSCAN/pSCANParallelSSE /tmp/tmpoh1pjnkl 0.5 3 output\n",
      "INFO:scan_ppScanSSE:Running /opt/gct/submodules/ppSCAN/pSCANParallelSSE /tmp/tmpoh1pjnkl 0.5 3 output\n",
      "2020-04-27 23:51:14,879 - scan_ppScanSSE - INFO - Made 6 clusters in 0.009433 seconds\n",
      "INFO:scan_ppScanSSE:Made 6 clusters in 0.009433 seconds\n"
     ]
    },
    {
     "name": "stdout",
     "output_type": "stream",
     "text": [
      "runing  scan_ppScanSSE K_DoesAlgSupportDirTest_2\n",
      "finished scan_ppScanSSE K_DoesAlgSupportDirTest_2\n"
     ]
    },
    {
     "name": "stderr",
     "output_type": "stream",
     "text": [
      "2020-04-27 23:51:14,998 - sklearn_AffinityPropagation - INFO - seed ignored\n",
      "INFO:sklearn_AffinityPropagation:seed ignored\n",
      "2020-04-27 23:51:14,999 - Dataset:K_DoesAlgSupportDirTest_1 - INFO - reading /data/data/K_DoesAlgSupportDirTest_1/edges.parq\n",
      "INFO:Dataset:K_DoesAlgSupportDirTest_1:reading /data/data/K_DoesAlgSupportDirTest_1/edges.parq\n",
      "2020-04-27 23:51:15,020 - sklearn_AffinityPropagation - INFO - Made 7 clusters in 0.016785 seconds\n",
      "INFO:sklearn_AffinityPropagation:Made 7 clusters in 0.016785 seconds\n"
     ]
    },
    {
     "name": "stdout",
     "output_type": "stream",
     "text": [
      "runing  sklearn_AffinityPropagation K_DoesAlgSupportDirTest_1\n",
      "finished sklearn_AffinityPropagation K_DoesAlgSupportDirTest_1\n"
     ]
    },
    {
     "name": "stderr",
     "output_type": "stream",
     "text": [
      "2020-04-27 23:51:15,138 - sklearn_AffinityPropagation - INFO - seed ignored\n",
      "INFO:sklearn_AffinityPropagation:seed ignored\n",
      "2020-04-27 23:51:15,139 - Dataset:K_DoesAlgSupportDirTest_2 - INFO - reading /data/data/K_DoesAlgSupportDirTest_2/edges.parq\n",
      "INFO:Dataset:K_DoesAlgSupportDirTest_2:reading /data/data/K_DoesAlgSupportDirTest_2/edges.parq\n",
      "2020-04-27 23:51:15,155 - sklearn_AffinityPropagation - INFO - Made 6 clusters in 0.012295 seconds\n",
      "INFO:sklearn_AffinityPropagation:Made 6 clusters in 0.012295 seconds\n"
     ]
    },
    {
     "name": "stdout",
     "output_type": "stream",
     "text": [
      "runing  sklearn_AffinityPropagation K_DoesAlgSupportDirTest_2\n",
      "finished sklearn_AffinityPropagation K_DoesAlgSupportDirTest_2\n"
     ]
    },
    {
     "name": "stderr",
     "output_type": "stream",
     "text": [
      "2020-04-27 23:51:15,273 - sklearn_SpectralClustering - INFO - seed ignored\n",
      "INFO:sklearn_SpectralClustering:seed ignored\n",
      "2020-04-27 23:51:15,274 - Dataset:K_DoesAlgSupportDirTest_1 - INFO - reading /data/data/K_DoesAlgSupportDirTest_1/edges.parq\n",
      "INFO:Dataset:K_DoesAlgSupportDirTest_1:reading /data/data/K_DoesAlgSupportDirTest_1/edges.parq\n",
      "/opt/conda/envs/python3/lib/python3.7/site-packages/sklearn/manifold/_spectral_embedding.py:212: UserWarning: Array is not symmetric, and will be converted to symmetric by average with its transpose.\n",
      "  adjacency = check_symmetric(adjacency)\n",
      "2020-04-27 23:51:15,333 - sklearn_SpectralClustering - INFO - Made 8 clusters in 0.055483 seconds\n",
      "INFO:sklearn_SpectralClustering:Made 8 clusters in 0.055483 seconds\n"
     ]
    },
    {
     "name": "stdout",
     "output_type": "stream",
     "text": [
      "runing  sklearn_SpectralClustering K_DoesAlgSupportDirTest_1\n",
      "finished sklearn_SpectralClustering K_DoesAlgSupportDirTest_1\n"
     ]
    },
    {
     "name": "stderr",
     "output_type": "stream",
     "text": [
      "2020-04-27 23:51:15,451 - sklearn_SpectralClustering - INFO - seed ignored\n",
      "INFO:sklearn_SpectralClustering:seed ignored\n",
      "2020-04-27 23:51:15,451 - Dataset:K_DoesAlgSupportDirTest_2 - INFO - reading /data/data/K_DoesAlgSupportDirTest_2/edges.parq\n",
      "INFO:Dataset:K_DoesAlgSupportDirTest_2:reading /data/data/K_DoesAlgSupportDirTest_2/edges.parq\n"
     ]
    },
    {
     "name": "stdout",
     "output_type": "stream",
     "text": [
      "runing  sklearn_SpectralClustering K_DoesAlgSupportDirTest_2\n"
     ]
    },
    {
     "name": "stderr",
     "output_type": "stream",
     "text": [
      "2020-04-27 23:51:15,500 - sklearn_SpectralClustering - INFO - Made 8 clusters in 0.043670 seconds\n",
      "INFO:sklearn_SpectralClustering:Made 8 clusters in 0.043670 seconds\n"
     ]
    },
    {
     "name": "stdout",
     "output_type": "stream",
     "text": [
      "finished sklearn_SpectralClustering K_DoesAlgSupportDirTest_2\n",
      "runing  snap_Clauset_Newman_Moore K_DoesAlgSupportDirTest_1\n",
      "finished snap_Clauset_Newman_Moore K_DoesAlgSupportDirTest_1\n"
     ]
    },
    {
     "name": "stderr",
     "output_type": "stream",
     "text": [
      "Error: only undirected graph is supported\n",
      "2020-04-27 23:51:15,733 - snap_Clauset_Newman_Moore - INFO - seed ignored\n",
      "INFO:snap_Clauset_Newman_Moore:seed ignored\n",
      "2020-04-27 23:51:15,739 - snap_Clauset_Newman_Moore - INFO - Made 4 clusters in 0.003139 seconds. modularity of the graph is 0.514282\n",
      "INFO:snap_Clauset_Newman_Moore:Made 4 clusters in 0.003139 seconds. modularity of the graph is 0.514282\n"
     ]
    },
    {
     "name": "stdout",
     "output_type": "stream",
     "text": [
      "runing  snap_Clauset_Newman_Moore K_DoesAlgSupportDirTest_2\n",
      "finished snap_Clauset_Newman_Moore K_DoesAlgSupportDirTest_2\n",
      "runing  snap_Girvan_Newman K_DoesAlgSupportDirTest_1\n",
      "finished snap_Girvan_Newman K_DoesAlgSupportDirTest_1\n"
     ]
    },
    {
     "name": "stderr",
     "output_type": "stream",
     "text": [
      "Error: only undirected graph is supported\n",
      "2020-04-27 23:51:15,972 - snap_Girvan_Newman - INFO - seed ignored\n",
      "INFO:snap_Girvan_Newman:seed ignored\n",
      "2020-04-27 23:51:28,888 - snap_Girvan_Newman - INFO - Made 6 clusters in 12.914106 seconds. modularity of the graph is 0.549025\n"
     ]
    },
    {
     "name": "stdout",
     "output_type": "stream",
     "text": [
      "runing  snap_Girvan_Newman K_DoesAlgSupportDirTest_2\n"
     ]
    },
    {
     "name": "stderr",
     "output_type": "stream",
     "text": [
      "INFO:snap_Girvan_Newman:Made 6 clusters in 12.914106 seconds. modularity of the graph is 0.549025\n"
     ]
    },
    {
     "name": "stdout",
     "output_type": "stream",
     "text": [
      "finished snap_Girvan_Newman K_DoesAlgSupportDirTest_2\n",
      "runing  alg_Paris K_DoesAlgSupportDirTest_1\n",
      "except alg_Paris K_DoesAlgSupportDirTest_1\n",
      "timeout <function run_alg at 0x7f06242ffd40> ('alg_Paris', 'K_DoesAlgSupportDirTest_1') {}\n",
      "tiemout alg_Paris K_DoesAlgSupportDirTest_1\n"
     ]
    },
    {
     "name": "stderr",
     "output_type": "stream",
     "text": [
      "2020-04-28 00:01:29,219 - alg_Paris - INFO - Made 6 clusters in 0.035386 seconds\n",
      "INFO:alg_Paris:Made 6 clusters in 0.035386 seconds\n"
     ]
    },
    {
     "name": "stdout",
     "output_type": "stream",
     "text": [
      "runing  alg_Paris K_DoesAlgSupportDirTest_2\n",
      "finished alg_Paris K_DoesAlgSupportDirTest_2\n"
     ]
    },
    {
     "name": "stderr",
     "output_type": "stream",
     "text": [
      "2020-04-28 00:01:29,343 - alg_lso_cluster - INFO - Running /opt/gct/submodules/graph-cluster/lso-cluster /tmp/tmp080boc6u/edges.txt --seed 123 --loss modularity -o lsooutput\n",
      "INFO:alg_lso_cluster:Running /opt/gct/submodules/graph-cluster/lso-cluster /tmp/tmp080boc6u/edges.txt --seed 123 --loss modularity -o lsooutput\n",
      "2020-04-28 00:01:29,366 - alg_lso_cluster - INFO - Made 6 clusters in 0.016616 seconds\n",
      "INFO:alg_lso_cluster:Made 6 clusters in 0.016616 seconds\n"
     ]
    },
    {
     "name": "stdout",
     "output_type": "stream",
     "text": [
      "runing  alg_lso_cluster K_DoesAlgSupportDirTest_1\n",
      "finished alg_lso_cluster K_DoesAlgSupportDirTest_1\n"
     ]
    },
    {
     "name": "stderr",
     "output_type": "stream",
     "text": [
      "2020-04-28 00:01:29,488 - alg_lso_cluster - INFO - Running /opt/gct/submodules/graph-cluster/lso-cluster /tmp/tmp7ppi59ac/edges.txt --seed 123 --loss modularity -o lsooutput\n",
      "INFO:alg_lso_cluster:Running /opt/gct/submodules/graph-cluster/lso-cluster /tmp/tmp7ppi59ac/edges.txt --seed 123 --loss modularity -o lsooutput\n",
      "2020-04-28 00:01:29,511 - alg_lso_cluster - INFO - Made 5 clusters in 0.016022 seconds\n",
      "INFO:alg_lso_cluster:Made 5 clusters in 0.016022 seconds\n"
     ]
    },
    {
     "name": "stdout",
     "output_type": "stream",
     "text": [
      "runing  alg_lso_cluster K_DoesAlgSupportDirTest_2\n",
      "finished alg_lso_cluster K_DoesAlgSupportDirTest_2\n"
     ]
    },
    {
     "name": "stderr",
     "output_type": "stream",
     "text": [
      "2020-04-28 00:01:29,634 - alg_streamcom - INFO - Running /opt/gct/submodules/graph-streaming/streamcom --seed 123 -f /data/data/K_DoesAlgSupportDirTest_1/edges.txt -o output /data/data/K_DoesAlgSupportDirTest_1/edges.txt\n",
      "INFO:alg_streamcom:Running /opt/gct/submodules/graph-streaming/streamcom --seed 123 -f /data/data/K_DoesAlgSupportDirTest_1/edges.txt -o output /data/data/K_DoesAlgSupportDirTest_1/edges.txt\n",
      "2020-04-28 00:01:29,649 - alg_streamcom - INFO - Made 69 clusters in 0.012589 seconds\n",
      "INFO:alg_streamcom:Made 69 clusters in 0.012589 seconds\n"
     ]
    },
    {
     "name": "stdout",
     "output_type": "stream",
     "text": [
      "runing  alg_streamcom K_DoesAlgSupportDirTest_1\n",
      "finished alg_streamcom K_DoesAlgSupportDirTest_1\n"
     ]
    },
    {
     "name": "stderr",
     "output_type": "stream",
     "text": [
      "2020-04-28 00:01:29,770 - alg_streamcom - INFO - Running /opt/gct/submodules/graph-streaming/streamcom --seed 123 -f /data/data/K_DoesAlgSupportDirTest_2/edges.txt -o output /data/data/K_DoesAlgSupportDirTest_2/edges.txt\n",
      "INFO:alg_streamcom:Running /opt/gct/submodules/graph-streaming/streamcom --seed 123 -f /data/data/K_DoesAlgSupportDirTest_2/edges.txt -o output /data/data/K_DoesAlgSupportDirTest_2/edges.txt\n",
      "2020-04-28 00:01:29,781 - alg_streamcom - INFO - Made 65 clusters in 0.009630 seconds\n",
      "INFO:alg_streamcom:Made 65 clusters in 0.009630 seconds\n"
     ]
    },
    {
     "name": "stdout",
     "output_type": "stream",
     "text": [
      "runing  alg_streamcom K_DoesAlgSupportDirTest_2\n",
      "finished alg_streamcom K_DoesAlgSupportDirTest_2\n"
     ]
    }
   ],
   "source": [
    "datasets=[data_w.name,data_uw.name]\n",
    "for alg in gct.list_algorithms():\n",
    "    for name in datasets:\n",
    "        run_alg_timeout(alg, name)"
   ]
  },
  {
   "cell_type": "code",
   "execution_count": 18,
   "metadata": {},
   "outputs": [
    {
     "name": "stdout",
     "output_type": "stream",
     "text": [
      "K_DoesAlgSupportDirTest_1 oslom_lpm\n",
      "K_DoesAlgSupportDirTest_1 oslom_Infohiermap\n",
      "K_DoesAlgSupportDirTest_1 oslom_Infomap\n",
      "K_DoesAlgSupportDirTest_1 oslom_OSLOM\n",
      "K_DoesAlgSupportDirTest_1 oslom_copra\n",
      "K_DoesAlgSupportDirTest_1 oslom_louvain_method\n",
      "K_DoesAlgSupportDirTest_1 oslom_modopt\n",
      "K_DoesAlgSupportDirTest_1 pycabem_GANXiSw\n",
      "K_DoesAlgSupportDirTest_1 pycabem_HiReCS\n",
      "K_DoesAlgSupportDirTest_1 pycabem_LabelRank\n",
      "K_DoesAlgSupportDirTest_1 cdc_CONGA\n",
      "K_DoesAlgSupportDirTest_1 cdc_Connected_Iterative_Scan\n",
      "K_DoesAlgSupportDirTest_1 cdc_EAGLE\n",
      "K_DoesAlgSupportDirTest_1 cdc_FastCpm\n",
      "K_DoesAlgSupportDirTest_1 cdc_GCE\n",
      "K_DoesAlgSupportDirTest_1 cdc_LinkCommunities\n",
      "K_DoesAlgSupportDirTest_1 cdc_MOSES\n",
      "K_DoesAlgSupportDirTest_1 cdc_MSCD_AFG\n",
      "K_DoesAlgSupportDirTest_1 cdc_MSCD_HSLSW\n",
      "K_DoesAlgSupportDirTest_1 cdc_MSCD_LFK\n",
      "K_DoesAlgSupportDirTest_1 cdc_MSCD_LFK2\n",
      "K_DoesAlgSupportDirTest_1 cdc_MSCD_RB\n",
      "K_DoesAlgSupportDirTest_1 cdc_MSCD_SO\n",
      "K_DoesAlgSupportDirTest_1 cdc_MSCD_SOM\n",
      "K_DoesAlgSupportDirTest_1 cdc_ParCPM\n",
      "K_DoesAlgSupportDirTest_1 cdc_SVINET\n",
      "K_DoesAlgSupportDirTest_1 cdc_TopGC\n",
      "K_DoesAlgSupportDirTest_1 cdc_clique_modularity\n",
      "K_DoesAlgSupportDirTest_1 cgcc_CGGC\n",
      "K_DoesAlgSupportDirTest_1 dct_dlplm\n",
      "K_DoesAlgSupportDirTest_1 dct_dlslm\n",
      "K_DoesAlgSupportDirTest_1 dct_dlslm_map_eq\n",
      "K_DoesAlgSupportDirTest_1 dct_dlslm_no_contraction\n",
      "K_DoesAlgSupportDirTest_1 dct_dlslm_with_seq\n",
      "K_DoesAlgSupportDirTest_1 dct_infomap\n",
      "K_DoesAlgSupportDirTest_1 dct_seq_louvain\n",
      "K_DoesAlgSupportDirTest_1 igraph_community_label_propagation\n",
      "K_DoesAlgSupportDirTest_1 igraph_community_optimal_modularity\n",
      "K_DoesAlgSupportDirTest_1 igraph_community_spinglass\n",
      "K_DoesAlgSupportDirTest_1 igraph_community_walktrap\n",
      "K_DoesAlgSupportDirTest_1 networkit_CutClustering\n",
      "K_DoesAlgSupportDirTest_1 networkit_LPDegreeOrdered\n",
      "K_DoesAlgSupportDirTest_1 networkit_PLM\n",
      "K_DoesAlgSupportDirTest_1 networkit_PLP\n",
      "K_DoesAlgSupportDirTest_1 alg_GossipMap\n",
      "K_DoesAlgSupportDirTest_1 alg_RelaxMap\n",
      "K_DoesAlgSupportDirTest_1 alg_pg_label_propagation\n",
      "K_DoesAlgSupportDirTest_1 scan_AnyScan_Scan\n",
      "K_DoesAlgSupportDirTest_1 scan_AnyScan_anyScan\n",
      "K_DoesAlgSupportDirTest_1 scan_AnyScan_anyScanParl\n",
      "K_DoesAlgSupportDirTest_1 scan_AnyScan_pScan\n",
      "K_DoesAlgSupportDirTest_1 scan_Scanpp\n",
      "K_DoesAlgSupportDirTest_1 scan_pScan\n",
      "K_DoesAlgSupportDirTest_1 scan_ppScan\n",
      "K_DoesAlgSupportDirTest_1 scan_ppScanSSE\n",
      "K_DoesAlgSupportDirTest_1 sklearn_AffinityPropagation\n",
      "K_DoesAlgSupportDirTest_1 sklearn_SpectralClustering\n",
      "K_DoesAlgSupportDirTest_1 alg_lso_cluster\n",
      "K_DoesAlgSupportDirTest_1 alg_streamcom\n",
      "K_DoesAlgSupportDirTest_2 oslom_Infohiermap\n",
      "K_DoesAlgSupportDirTest_2 oslom_Infomap\n",
      "K_DoesAlgSupportDirTest_2 oslom_OSLOM\n",
      "K_DoesAlgSupportDirTest_2 oslom_copra\n",
      "K_DoesAlgSupportDirTest_2 oslom_louvain_method\n",
      "K_DoesAlgSupportDirTest_2 oslom_lpm\n",
      "K_DoesAlgSupportDirTest_2 oslom_modopt\n",
      "K_DoesAlgSupportDirTest_2 pycabem_GANXiSw\n",
      "K_DoesAlgSupportDirTest_2 pycabem_HiReCS\n",
      "K_DoesAlgSupportDirTest_2 pycabem_LabelRank\n",
      "K_DoesAlgSupportDirTest_2 cdc_CONGA\n",
      "K_DoesAlgSupportDirTest_2 cdc_CliquePercolation\n",
      "K_DoesAlgSupportDirTest_2 cdc_Connected_Iterative_Scan\n",
      "K_DoesAlgSupportDirTest_2 cdc_EAGLE\n",
      "K_DoesAlgSupportDirTest_2 cdc_FastCpm\n",
      "K_DoesAlgSupportDirTest_2 cdc_GCE\n",
      "K_DoesAlgSupportDirTest_2 cdc_LinkCommunities\n",
      "K_DoesAlgSupportDirTest_2 cdc_MOSES\n",
      "K_DoesAlgSupportDirTest_2 cdc_MSCD_AFG\n",
      "K_DoesAlgSupportDirTest_2 cdc_MSCD_HSLSW\n",
      "K_DoesAlgSupportDirTest_2 cdc_MSCD_LFK\n",
      "K_DoesAlgSupportDirTest_2 cdc_MSCD_LFK2\n",
      "K_DoesAlgSupportDirTest_2 cdc_MSCD_RB\n",
      "K_DoesAlgSupportDirTest_2 cdc_MSCD_RN\n",
      "K_DoesAlgSupportDirTest_2 cdc_MSCD_SO\n",
      "K_DoesAlgSupportDirTest_2 cdc_MSCD_SOM\n",
      "K_DoesAlgSupportDirTest_2 cdc_ParCPM\n",
      "K_DoesAlgSupportDirTest_2 cdc_SVINET\n",
      "K_DoesAlgSupportDirTest_2 cdc_TopGC\n",
      "K_DoesAlgSupportDirTest_2 cdc_clique_modularity\n",
      "K_DoesAlgSupportDirTest_2 cgcc_CGGC\n",
      "K_DoesAlgSupportDirTest_2 dct_dlplm\n",
      "K_DoesAlgSupportDirTest_2 dct_dlslm\n",
      "K_DoesAlgSupportDirTest_2 dct_dlslm_map_eq\n",
      "K_DoesAlgSupportDirTest_2 dct_dlslm_no_contraction\n",
      "K_DoesAlgSupportDirTest_2 dct_dlslm_with_seq\n",
      "K_DoesAlgSupportDirTest_2 dct_infomap\n",
      "K_DoesAlgSupportDirTest_2 dct_seq_louvain\n",
      "K_DoesAlgSupportDirTest_2 igraph_community_edge_betweenness\n",
      "K_DoesAlgSupportDirTest_2 igraph_community_fastgreedy\n",
      "K_DoesAlgSupportDirTest_2 igraph_community_infomap\n",
      "K_DoesAlgSupportDirTest_2 igraph_community_label_propagation\n",
      "K_DoesAlgSupportDirTest_2 igraph_community_leading_eigenvector\n",
      "K_DoesAlgSupportDirTest_2 igraph_community_multilevel\n",
      "K_DoesAlgSupportDirTest_2 igraph_community_spinglass\n",
      "K_DoesAlgSupportDirTest_2 igraph_community_walktrap\n",
      "K_DoesAlgSupportDirTest_2 karateclub_BigClam\n",
      "K_DoesAlgSupportDirTest_2 karateclub_DANMF\n",
      "K_DoesAlgSupportDirTest_2 karateclub_EdMot\n",
      "K_DoesAlgSupportDirTest_2 karateclub_EgoNetSplitter\n",
      "K_DoesAlgSupportDirTest_2 karateclub_NNSED\n",
      "K_DoesAlgSupportDirTest_2 karateclub_SCD\n",
      "K_DoesAlgSupportDirTest_2 karateclub_SymmNMF\n",
      "K_DoesAlgSupportDirTest_2 networkit_CutClustering\n",
      "K_DoesAlgSupportDirTest_2 networkit_LPDegreeOrdered\n",
      "K_DoesAlgSupportDirTest_2 networkit_PLM\n",
      "K_DoesAlgSupportDirTest_2 networkit_PLP\n",
      "K_DoesAlgSupportDirTest_2 alg_GossipMap\n",
      "K_DoesAlgSupportDirTest_2 alg_RelaxMap\n",
      "K_DoesAlgSupportDirTest_2 alg_pg_label_propagation\n",
      "K_DoesAlgSupportDirTest_2 scan_AnyScan_Scan\n",
      "K_DoesAlgSupportDirTest_2 scan_AnyScan_anyScan\n",
      "K_DoesAlgSupportDirTest_2 scan_AnyScan_anyScanParl\n",
      "K_DoesAlgSupportDirTest_2 scan_AnyScan_pScan\n",
      "K_DoesAlgSupportDirTest_2 scan_Scanpp\n",
      "K_DoesAlgSupportDirTest_2 scan_pScan\n",
      "K_DoesAlgSupportDirTest_2 scan_ppScan\n",
      "K_DoesAlgSupportDirTest_2 scan_ppScanSSE\n",
      "K_DoesAlgSupportDirTest_2 sklearn_AffinityPropagation\n",
      "K_DoesAlgSupportDirTest_2 sklearn_SpectralClustering\n",
      "K_DoesAlgSupportDirTest_2 snap_Clauset_Newman_Moore\n",
      "K_DoesAlgSupportDirTest_2 snap_Girvan_Newman\n",
      "K_DoesAlgSupportDirTest_2 alg_Paris\n",
      "K_DoesAlgSupportDirTest_2 alg_lso_cluster\n",
      "K_DoesAlgSupportDirTest_2 alg_streamcom\n"
     ]
    }
   ],
   "source": [
    "results = {}\n",
    "d = gct.list_all_clustering_results(print_format=False)\n",
    "for u in d:\n",
    "    if prefix + \"_\" in u:\n",
    "        for run in d[u]:\n",
    "            a = gct.load_clustering_result(u, run)\n",
    "            print (u, run)\n",
    "            results[u + run] = a\n",
    "\n"
   ]
  },
  {
   "cell_type": "code",
   "execution_count": 19,
   "metadata": {},
   "outputs": [
    {
     "name": "stderr",
     "output_type": "stream",
     "text": [
      "2020-04-28 00:01:29,996 - ClusterComparator - INFO - resulting 128 nodes out of 129,128\n",
      "INFO:ClusterComparator:resulting 128 nodes out of 129,128\n",
      "2020-04-28 00:01:30,007 - ClusterComparator - INFO - Running /opt/gct/submodules/OvpNMI/onmi /tmp/tmp7zj3ekik/cluster1.cnl /tmp/tmp7zj3ekik/cluster2.cnl > ovpnmioutput\n",
      "INFO:ClusterComparator:Running /opt/gct/submodules/OvpNMI/onmi /tmp/tmp7zj3ekik/cluster1.cnl /tmp/tmp7zj3ekik/cluster2.cnl > ovpnmioutput\n",
      "2020-04-28 00:01:30,021 - ClusterComparator - ERROR - Run command with error status code 134\n",
      "ERROR:ClusterComparator:Run command with error status code 134\n",
      "2020-04-28 00:01:30,023 - Clustering - INFO - reading/data/data/K_DoesAlgSupportDirTest_1/gt_default.parq\n",
      "INFO:Clustering:reading/data/data/K_DoesAlgSupportDirTest_1/gt_default.parq\n",
      "2020-04-28 00:01:30,029 - ClusterComparator - INFO - resulting 128 nodes out of 128,129\n",
      "INFO:ClusterComparator:resulting 128 nodes out of 128,129\n",
      "2020-04-28 00:01:30,035 - Clustering - INFO - persistent cluster to cnl file: /data/data/K_DoesAlgSupportDirTest_1/gt_default.parq.cnl\n",
      "INFO:Clustering:persistent cluster to cnl file: /data/data/K_DoesAlgSupportDirTest_1/gt_default.parq.cnl\n",
      "2020-04-28 00:01:30,040 - ClusterComparator - INFO - Running /opt/gct/submodules/OvpNMI/onmi /tmp/tmp0pfirqds/cluster1.cnl /tmp/tmp0pfirqds/cluster2.cnl > ovpnmioutput\n",
      "INFO:ClusterComparator:Running /opt/gct/submodules/OvpNMI/onmi /tmp/tmp0pfirqds/cluster1.cnl /tmp/tmp0pfirqds/cluster2.cnl > ovpnmioutput\n",
      "2020-04-28 00:01:30,052 - ClusterComparator - ERROR - Run command with error status code 134\n",
      "ERROR:ClusterComparator:Run command with error status code 134\n",
      "2020-04-28 00:01:30,055 - ClusterComparator - INFO - resulting 128 nodes out of 128,128\n",
      "INFO:ClusterComparator:resulting 128 nodes out of 128,128\n",
      "2020-04-28 00:01:30,063 - ClusterComparator - INFO - Running /opt/gct/submodules/OvpNMI/onmi /tmp/tmplv5kfo65/cluster1.cnl /tmp/tmplv5kfo65/cluster2.cnl > ovpnmioutput\n",
      "INFO:ClusterComparator:Running /opt/gct/submodules/OvpNMI/onmi /tmp/tmplv5kfo65/cluster1.cnl /tmp/tmplv5kfo65/cluster2.cnl > ovpnmioutput\n",
      "2020-04-28 00:01:30,080 - ClusterComparator - INFO - resulting 128 nodes out of 128,128\n",
      "INFO:ClusterComparator:resulting 128 nodes out of 128,128\n",
      "2020-04-28 00:01:30,089 - ClusterComparator - INFO - Running /opt/gct/submodules/OvpNMI/onmi /tmp/tmpalld1oz_/cluster1.cnl /tmp/tmpalld1oz_/cluster2.cnl > ovpnmioutput\n",
      "INFO:ClusterComparator:Running /opt/gct/submodules/OvpNMI/onmi /tmp/tmpalld1oz_/cluster1.cnl /tmp/tmpalld1oz_/cluster2.cnl > ovpnmioutput\n",
      "2020-04-28 00:01:30,101 - Clustering - INFO - reading/data/data/K_DoesAlgSupportDirTest_1/gt_default.parq\n",
      "INFO:Clustering:reading/data/data/K_DoesAlgSupportDirTest_1/gt_default.parq\n",
      "2020-04-28 00:01:30,107 - ClusterComparator - INFO - resulting 128 nodes out of 128,128\n",
      "INFO:ClusterComparator:resulting 128 nodes out of 128,128\n",
      "2020-04-28 00:01:30,114 - ClusterComparator - INFO - Running /opt/gct/submodules/OvpNMI/onmi /tmp/tmper9f0uch/cluster1.cnl /tmp/tmper9f0uch/cluster2.cnl > ovpnmioutput\n",
      "INFO:ClusterComparator:Running /opt/gct/submodules/OvpNMI/onmi /tmp/tmper9f0uch/cluster1.cnl /tmp/tmper9f0uch/cluster2.cnl > ovpnmioutput\n",
      "2020-04-28 00:01:30,125 - ClusterComparator - INFO - resulting 128 nodes out of 128,128\n",
      "INFO:ClusterComparator:resulting 128 nodes out of 128,128\n",
      "2020-04-28 00:01:30,134 - ClusterComparator - INFO - Running /opt/gct/submodules/OvpNMI/onmi /tmp/tmpu5mthfpa/cluster1.cnl /tmp/tmpu5mthfpa/cluster2.cnl > ovpnmioutput\n",
      "INFO:ClusterComparator:Running /opt/gct/submodules/OvpNMI/onmi /tmp/tmpu5mthfpa/cluster1.cnl /tmp/tmpu5mthfpa/cluster2.cnl > ovpnmioutput\n",
      "2020-04-28 00:01:30,151 - ClusterComparator - INFO - resulting 128 nodes out of 128,128\n",
      "INFO:ClusterComparator:resulting 128 nodes out of 128,128\n",
      "2020-04-28 00:01:30,160 - ClusterComparator - INFO - Running /opt/gct/submodules/OvpNMI/onmi /tmp/tmpra2gjzf4/cluster1.cnl /tmp/tmpra2gjzf4/cluster2.cnl > ovpnmioutput\n",
      "INFO:ClusterComparator:Running /opt/gct/submodules/OvpNMI/onmi /tmp/tmpra2gjzf4/cluster1.cnl /tmp/tmpra2gjzf4/cluster2.cnl > ovpnmioutput\n",
      "2020-04-28 00:01:30,170 - Clustering - INFO - reading/data/data/K_DoesAlgSupportDirTest_1/gt_default.parq\n",
      "INFO:Clustering:reading/data/data/K_DoesAlgSupportDirTest_1/gt_default.parq\n",
      "2020-04-28 00:01:30,176 - ClusterComparator - INFO - resulting 128 nodes out of 128,128\n",
      "INFO:ClusterComparator:resulting 128 nodes out of 128,128\n",
      "2020-04-28 00:01:30,183 - ClusterComparator - INFO - Running /opt/gct/submodules/OvpNMI/onmi /tmp/tmpoq90a4bf/cluster1.cnl /tmp/tmpoq90a4bf/cluster2.cnl > ovpnmioutput\n",
      "INFO:ClusterComparator:Running /opt/gct/submodules/OvpNMI/onmi /tmp/tmpoq90a4bf/cluster1.cnl /tmp/tmpoq90a4bf/cluster2.cnl > ovpnmioutput\n",
      "2020-04-28 00:01:30,194 - ClusterComparator - INFO - resulting 128 nodes out of 128,128\n",
      "INFO:ClusterComparator:resulting 128 nodes out of 128,128\n",
      "2020-04-28 00:01:30,202 - ClusterComparator - INFO - Running /opt/gct/submodules/OvpNMI/onmi /tmp/tmpmv_lek51/cluster1.cnl /tmp/tmpmv_lek51/cluster2.cnl > ovpnmioutput\n",
      "INFO:ClusterComparator:Running /opt/gct/submodules/OvpNMI/onmi /tmp/tmpmv_lek51/cluster1.cnl /tmp/tmpmv_lek51/cluster2.cnl > ovpnmioutput\n",
      "2020-04-28 00:01:30,493 - ClusterComparator - INFO - resulting 128 nodes out of 128,128\n",
      "INFO:ClusterComparator:resulting 128 nodes out of 128,128\n",
      "2020-04-28 00:01:30,504 - ClusterComparator - INFO - Running /opt/gct/submodules/OvpNMI/onmi /tmp/tmptiksmpg5/cluster1.cnl /tmp/tmptiksmpg5/cluster2.cnl > ovpnmioutput\n",
      "INFO:ClusterComparator:Running /opt/gct/submodules/OvpNMI/onmi /tmp/tmptiksmpg5/cluster1.cnl /tmp/tmptiksmpg5/cluster2.cnl > ovpnmioutput\n",
      "2020-04-28 00:01:30,520 - Clustering - INFO - reading/data/data/K_DoesAlgSupportDirTest_1/gt_default.parq\n",
      "INFO:Clustering:reading/data/data/K_DoesAlgSupportDirTest_1/gt_default.parq\n",
      "2020-04-28 00:01:30,616 - ClusterComparator - INFO - resulting 128 nodes out of 128,128\n",
      "INFO:ClusterComparator:resulting 128 nodes out of 128,128\n",
      "2020-04-28 00:01:30,625 - ClusterComparator - INFO - Running /opt/gct/submodules/OvpNMI/onmi /tmp/tmp59q6thb5/cluster1.cnl /tmp/tmp59q6thb5/cluster2.cnl > ovpnmioutput\n",
      "INFO:ClusterComparator:Running /opt/gct/submodules/OvpNMI/onmi /tmp/tmp59q6thb5/cluster1.cnl /tmp/tmp59q6thb5/cluster2.cnl > ovpnmioutput\n",
      "2020-04-28 00:01:30,729 - ClusterComparator - INFO - resulting 128 nodes out of 128,128\n",
      "INFO:ClusterComparator:resulting 128 nodes out of 128,128\n",
      "2020-04-28 00:01:30,738 - ClusterComparator - INFO - Running /opt/gct/submodules/OvpNMI/onmi /tmp/tmp_lk6lt2u/cluster1.cnl /tmp/tmp_lk6lt2u/cluster2.cnl > ovpnmioutput\n",
      "INFO:ClusterComparator:Running /opt/gct/submodules/OvpNMI/onmi /tmp/tmp_lk6lt2u/cluster1.cnl /tmp/tmp_lk6lt2u/cluster2.cnl > ovpnmioutput\n",
      "2020-04-28 00:01:30,757 - ClusterComparator - INFO - resulting 128 nodes out of 128,128\n",
      "INFO:ClusterComparator:resulting 128 nodes out of 128,128\n",
      "2020-04-28 00:01:30,767 - ClusterComparator - INFO - Running /opt/gct/submodules/OvpNMI/onmi /tmp/tmp7limco5v/cluster1.cnl /tmp/tmp7limco5v/cluster2.cnl > ovpnmioutput\n",
      "INFO:ClusterComparator:Running /opt/gct/submodules/OvpNMI/onmi /tmp/tmp7limco5v/cluster1.cnl /tmp/tmp7limco5v/cluster2.cnl > ovpnmioutput\n",
      "2020-04-28 00:01:30,779 - Clustering - INFO - reading/data/data/K_DoesAlgSupportDirTest_1/gt_default.parq\n",
      "INFO:Clustering:reading/data/data/K_DoesAlgSupportDirTest_1/gt_default.parq\n",
      "2020-04-28 00:01:30,786 - ClusterComparator - INFO - resulting 128 nodes out of 128,128\n",
      "INFO:ClusterComparator:resulting 128 nodes out of 128,128\n",
      "2020-04-28 00:01:30,795 - ClusterComparator - INFO - Running /opt/gct/submodules/OvpNMI/onmi /tmp/tmp2vf8gp0d/cluster1.cnl /tmp/tmp2vf8gp0d/cluster2.cnl > ovpnmioutput\n",
      "INFO:ClusterComparator:Running /opt/gct/submodules/OvpNMI/onmi /tmp/tmp2vf8gp0d/cluster1.cnl /tmp/tmp2vf8gp0d/cluster2.cnl > ovpnmioutput\n",
      "2020-04-28 00:01:30,806 - ClusterComparator - INFO - resulting 128 nodes out of 128,128\n",
      "INFO:ClusterComparator:resulting 128 nodes out of 128,128\n",
      "2020-04-28 00:01:30,816 - ClusterComparator - INFO - Running /opt/gct/submodules/OvpNMI/onmi /tmp/tmpei7755e4/cluster1.cnl /tmp/tmpei7755e4/cluster2.cnl > ovpnmioutput\n",
      "INFO:ClusterComparator:Running /opt/gct/submodules/OvpNMI/onmi /tmp/tmpei7755e4/cluster1.cnl /tmp/tmpei7755e4/cluster2.cnl > ovpnmioutput\n"
     ]
    },
    {
     "name": "stderr",
     "output_type": "stream",
     "text": [
      "2020-04-28 00:01:30,834 - ClusterComparator - INFO - resulting 128 nodes out of 128,128\n",
      "INFO:ClusterComparator:resulting 128 nodes out of 128,128\n",
      "2020-04-28 00:01:30,844 - ClusterComparator - INFO - Running /opt/gct/submodules/OvpNMI/onmi /tmp/tmptgwv__ih/cluster1.cnl /tmp/tmptgwv__ih/cluster2.cnl > ovpnmioutput\n",
      "INFO:ClusterComparator:Running /opt/gct/submodules/OvpNMI/onmi /tmp/tmptgwv__ih/cluster1.cnl /tmp/tmptgwv__ih/cluster2.cnl > ovpnmioutput\n",
      "2020-04-28 00:01:30,856 - Clustering - INFO - reading/data/data/K_DoesAlgSupportDirTest_1/gt_default.parq\n",
      "INFO:Clustering:reading/data/data/K_DoesAlgSupportDirTest_1/gt_default.parq\n",
      "2020-04-28 00:01:30,863 - ClusterComparator - INFO - resulting 128 nodes out of 128,128\n",
      "INFO:ClusterComparator:resulting 128 nodes out of 128,128\n",
      "2020-04-28 00:01:30,872 - ClusterComparator - INFO - Running /opt/gct/submodules/OvpNMI/onmi /tmp/tmpzlflu9n9/cluster1.cnl /tmp/tmpzlflu9n9/cluster2.cnl > ovpnmioutput\n",
      "INFO:ClusterComparator:Running /opt/gct/submodules/OvpNMI/onmi /tmp/tmpzlflu9n9/cluster1.cnl /tmp/tmpzlflu9n9/cluster2.cnl > ovpnmioutput\n",
      "2020-04-28 00:01:30,883 - ClusterComparator - INFO - resulting 128 nodes out of 128,128\n",
      "INFO:ClusterComparator:resulting 128 nodes out of 128,128\n",
      "2020-04-28 00:01:30,893 - ClusterComparator - INFO - Running /opt/gct/submodules/OvpNMI/onmi /tmp/tmpoo_02n22/cluster1.cnl /tmp/tmpoo_02n22/cluster2.cnl > ovpnmioutput\n",
      "INFO:ClusterComparator:Running /opt/gct/submodules/OvpNMI/onmi /tmp/tmpoo_02n22/cluster1.cnl /tmp/tmpoo_02n22/cluster2.cnl > ovpnmioutput\n",
      "2020-04-28 00:01:30,910 - ClusterComparator - INFO - resulting 128 nodes out of 128,128\n",
      "INFO:ClusterComparator:resulting 128 nodes out of 128,128\n",
      "2020-04-28 00:01:30,921 - ClusterComparator - INFO - Running /opt/gct/submodules/OvpNMI/onmi /tmp/tmpf33vbmzi/cluster1.cnl /tmp/tmpf33vbmzi/cluster2.cnl > ovpnmioutput\n",
      "INFO:ClusterComparator:Running /opt/gct/submodules/OvpNMI/onmi /tmp/tmpf33vbmzi/cluster1.cnl /tmp/tmpf33vbmzi/cluster2.cnl > ovpnmioutput\n",
      "2020-04-28 00:01:30,933 - Clustering - INFO - reading/data/data/K_DoesAlgSupportDirTest_1/gt_default.parq\n",
      "INFO:Clustering:reading/data/data/K_DoesAlgSupportDirTest_1/gt_default.parq\n",
      "2020-04-28 00:01:30,940 - ClusterComparator - INFO - resulting 128 nodes out of 128,128\n",
      "INFO:ClusterComparator:resulting 128 nodes out of 128,128\n",
      "2020-04-28 00:01:30,948 - ClusterComparator - INFO - Running /opt/gct/submodules/OvpNMI/onmi /tmp/tmpxy4zantp/cluster1.cnl /tmp/tmpxy4zantp/cluster2.cnl > ovpnmioutput\n",
      "INFO:ClusterComparator:Running /opt/gct/submodules/OvpNMI/onmi /tmp/tmpxy4zantp/cluster1.cnl /tmp/tmpxy4zantp/cluster2.cnl > ovpnmioutput\n",
      "2020-04-28 00:01:30,959 - ClusterComparator - INFO - resulting 128 nodes out of 128,128\n",
      "INFO:ClusterComparator:resulting 128 nodes out of 128,128\n",
      "2020-04-28 00:01:30,969 - ClusterComparator - INFO - Running /opt/gct/submodules/OvpNMI/onmi /tmp/tmpqt0t0y18/cluster1.cnl /tmp/tmpqt0t0y18/cluster2.cnl > ovpnmioutput\n",
      "INFO:ClusterComparator:Running /opt/gct/submodules/OvpNMI/onmi /tmp/tmpqt0t0y18/cluster1.cnl /tmp/tmpqt0t0y18/cluster2.cnl > ovpnmioutput\n",
      "2020-04-28 00:01:30,987 - ClusterComparator - INFO - resulting 128 nodes out of 128,128\n",
      "INFO:ClusterComparator:resulting 128 nodes out of 128,128\n",
      "2020-04-28 00:01:30,997 - ClusterComparator - INFO - Running /opt/gct/submodules/OvpNMI/onmi /tmp/tmp00s1o_kk/cluster1.cnl /tmp/tmp00s1o_kk/cluster2.cnl > ovpnmioutput\n",
      "INFO:ClusterComparator:Running /opt/gct/submodules/OvpNMI/onmi /tmp/tmp00s1o_kk/cluster1.cnl /tmp/tmp00s1o_kk/cluster2.cnl > ovpnmioutput\n",
      "2020-04-28 00:01:31,009 - Clustering - INFO - reading/data/data/K_DoesAlgSupportDirTest_1/gt_default.parq\n",
      "INFO:Clustering:reading/data/data/K_DoesAlgSupportDirTest_1/gt_default.parq\n",
      "2020-04-28 00:01:31,016 - ClusterComparator - INFO - resulting 128 nodes out of 128,128\n",
      "INFO:ClusterComparator:resulting 128 nodes out of 128,128\n",
      "2020-04-28 00:01:31,024 - ClusterComparator - INFO - Running /opt/gct/submodules/OvpNMI/onmi /tmp/tmpipl42owt/cluster1.cnl /tmp/tmpipl42owt/cluster2.cnl > ovpnmioutput\n",
      "INFO:ClusterComparator:Running /opt/gct/submodules/OvpNMI/onmi /tmp/tmpipl42owt/cluster1.cnl /tmp/tmpipl42owt/cluster2.cnl > ovpnmioutput\n",
      "2020-04-28 00:01:31,035 - ClusterComparator - INFO - resulting 128 nodes out of 128,128\n",
      "INFO:ClusterComparator:resulting 128 nodes out of 128,128\n",
      "2020-04-28 00:01:31,045 - ClusterComparator - INFO - Running /opt/gct/submodules/OvpNMI/onmi /tmp/tmpfg21pnka/cluster1.cnl /tmp/tmpfg21pnka/cluster2.cnl > ovpnmioutput\n",
      "INFO:ClusterComparator:Running /opt/gct/submodules/OvpNMI/onmi /tmp/tmpfg21pnka/cluster1.cnl /tmp/tmpfg21pnka/cluster2.cnl > ovpnmioutput\n",
      "2020-04-28 00:01:31,154 - ClusterComparator - INFO - resulting 128 nodes out of 128,128\n",
      "INFO:ClusterComparator:resulting 128 nodes out of 128,128\n",
      "2020-04-28 00:01:31,165 - ClusterComparator - INFO - Running /opt/gct/submodules/OvpNMI/onmi /tmp/tmpc4s23au4/cluster1.cnl /tmp/tmpc4s23au4/cluster2.cnl > ovpnmioutput\n",
      "INFO:ClusterComparator:Running /opt/gct/submodules/OvpNMI/onmi /tmp/tmpc4s23au4/cluster1.cnl /tmp/tmpc4s23au4/cluster2.cnl > ovpnmioutput\n",
      "2020-04-28 00:01:31,178 - Clustering - INFO - reading/data/data/K_DoesAlgSupportDirTest_1/gt_default.parq\n",
      "INFO:Clustering:reading/data/data/K_DoesAlgSupportDirTest_1/gt_default.parq\n",
      "2020-04-28 00:01:31,185 - ClusterComparator - INFO - resulting 127 nodes out of 128,128\n",
      "INFO:ClusterComparator:resulting 127 nodes out of 128,128\n",
      "2020-04-28 00:01:31,193 - ClusterComparator - INFO - Running /opt/gct/submodules/OvpNMI/onmi /tmp/tmpud01w1s7/cluster1.cnl /tmp/tmpud01w1s7/cluster2.cnl > ovpnmioutput\n",
      "INFO:ClusterComparator:Running /opt/gct/submodules/OvpNMI/onmi /tmp/tmpud01w1s7/cluster1.cnl /tmp/tmpud01w1s7/cluster2.cnl > ovpnmioutput\n",
      "2020-04-28 00:01:31,205 - ClusterComparator - ERROR - Run command with error status code 134\n",
      "ERROR:ClusterComparator:Run command with error status code 134\n",
      "2020-04-28 00:01:31,299 - ClusterComparator - INFO - resulting 127 nodes out of 128,128\n",
      "INFO:ClusterComparator:resulting 127 nodes out of 128,128\n",
      "2020-04-28 00:01:31,307 - ClusterComparator - INFO - Running /opt/gct/submodules/OvpNMI/onmi /tmp/tmppml7omug/cluster1.cnl /tmp/tmppml7omug/cluster2.cnl > ovpnmioutput\n",
      "INFO:ClusterComparator:Running /opt/gct/submodules/OvpNMI/onmi /tmp/tmppml7omug/cluster1.cnl /tmp/tmppml7omug/cluster2.cnl > ovpnmioutput\n",
      "2020-04-28 00:01:31,320 - ClusterComparator - ERROR - Run command with error status code 134\n",
      "ERROR:ClusterComparator:Run command with error status code 134\n",
      "2020-04-28 00:01:31,329 - ClusterComparator - INFO - resulting 128 nodes out of 128,128\n",
      "INFO:ClusterComparator:resulting 128 nodes out of 128,128\n",
      "2020-04-28 00:01:31,339 - ClusterComparator - INFO - Running /opt/gct/submodules/OvpNMI/onmi /tmp/tmp0sf8fa_6/cluster1.cnl /tmp/tmp0sf8fa_6/cluster2.cnl > ovpnmioutput\n",
      "INFO:ClusterComparator:Running /opt/gct/submodules/OvpNMI/onmi /tmp/tmp0sf8fa_6/cluster1.cnl /tmp/tmp0sf8fa_6/cluster2.cnl > ovpnmioutput\n",
      "2020-04-28 00:01:31,351 - Clustering - INFO - reading/data/data/K_DoesAlgSupportDirTest_1/gt_default.parq\n",
      "INFO:Clustering:reading/data/data/K_DoesAlgSupportDirTest_1/gt_default.parq\n",
      "2020-04-28 00:01:31,358 - ClusterComparator - INFO - resulting 128 nodes out of 128,128\n",
      "INFO:ClusterComparator:resulting 128 nodes out of 128,128\n",
      "2020-04-28 00:01:31,367 - ClusterComparator - INFO - Running /opt/gct/submodules/OvpNMI/onmi /tmp/tmpshmiiwm8/cluster1.cnl /tmp/tmpshmiiwm8/cluster2.cnl > ovpnmioutput\n",
      "INFO:ClusterComparator:Running /opt/gct/submodules/OvpNMI/onmi /tmp/tmpshmiiwm8/cluster1.cnl /tmp/tmpshmiiwm8/cluster2.cnl > ovpnmioutput\n",
      "2020-04-28 00:01:31,379 - ClusterComparator - INFO - resulting 128 nodes out of 128,128\n",
      "INFO:ClusterComparator:resulting 128 nodes out of 128,128\n",
      "2020-04-28 00:01:31,388 - ClusterComparator - INFO - Running /opt/gct/submodules/OvpNMI/onmi /tmp/tmp0m2rr6bq/cluster1.cnl /tmp/tmp0m2rr6bq/cluster2.cnl > ovpnmioutput\n",
      "INFO:ClusterComparator:Running /opt/gct/submodules/OvpNMI/onmi /tmp/tmp0m2rr6bq/cluster1.cnl /tmp/tmp0m2rr6bq/cluster2.cnl > ovpnmioutput\n",
      "2020-04-28 00:01:31,559 - ClusterComparator - INFO - resulting 128 nodes out of 128,128\n",
      "INFO:ClusterComparator:resulting 128 nodes out of 128,128\n",
      "2020-04-28 00:01:31,570 - ClusterComparator - INFO - Running /opt/gct/submodules/OvpNMI/onmi /tmp/tmp81xbxh9t/cluster1.cnl /tmp/tmp81xbxh9t/cluster2.cnl > ovpnmioutput\n"
     ]
    },
    {
     "name": "stderr",
     "output_type": "stream",
     "text": [
      "INFO:ClusterComparator:Running /opt/gct/submodules/OvpNMI/onmi /tmp/tmp81xbxh9t/cluster1.cnl /tmp/tmp81xbxh9t/cluster2.cnl > ovpnmioutput\n",
      "2020-04-28 00:01:31,583 - Clustering - INFO - reading/data/data/K_DoesAlgSupportDirTest_1/gt_default.parq\n",
      "INFO:Clustering:reading/data/data/K_DoesAlgSupportDirTest_1/gt_default.parq\n",
      "2020-04-28 00:01:31,662 - ClusterComparator - INFO - resulting 128 nodes out of 128,128\n",
      "INFO:ClusterComparator:resulting 128 nodes out of 128,128\n",
      "2020-04-28 00:01:31,671 - ClusterComparator - INFO - Running /opt/gct/submodules/OvpNMI/onmi /tmp/tmp4d_1ghp3/cluster1.cnl /tmp/tmp4d_1ghp3/cluster2.cnl > ovpnmioutput\n",
      "INFO:ClusterComparator:Running /opt/gct/submodules/OvpNMI/onmi /tmp/tmp4d_1ghp3/cluster1.cnl /tmp/tmp4d_1ghp3/cluster2.cnl > ovpnmioutput\n",
      "2020-04-28 00:01:31,757 - ClusterComparator - INFO - resulting 128 nodes out of 128,128\n",
      "INFO:ClusterComparator:resulting 128 nodes out of 128,128\n",
      "2020-04-28 00:01:31,765 - ClusterComparator - INFO - Running /opt/gct/submodules/OvpNMI/onmi /tmp/tmp4osvmaik/cluster1.cnl /tmp/tmp4osvmaik/cluster2.cnl > ovpnmioutput\n",
      "INFO:ClusterComparator:Running /opt/gct/submodules/OvpNMI/onmi /tmp/tmp4osvmaik/cluster1.cnl /tmp/tmp4osvmaik/cluster2.cnl > ovpnmioutput\n",
      "2020-04-28 00:01:31,956 - ClusterComparator - INFO - resulting 128 nodes out of 128,128\n",
      "INFO:ClusterComparator:resulting 128 nodes out of 128,128\n",
      "2020-04-28 00:01:31,968 - ClusterComparator - INFO - Running /opt/gct/submodules/OvpNMI/onmi /tmp/tmp6tfb5_91/cluster1.cnl /tmp/tmp6tfb5_91/cluster2.cnl > ovpnmioutput\n",
      "INFO:ClusterComparator:Running /opt/gct/submodules/OvpNMI/onmi /tmp/tmp6tfb5_91/cluster1.cnl /tmp/tmp6tfb5_91/cluster2.cnl > ovpnmioutput\n",
      "2020-04-28 00:01:31,984 - Clustering - INFO - reading/data/data/K_DoesAlgSupportDirTest_1/gt_default.parq\n",
      "INFO:Clustering:reading/data/data/K_DoesAlgSupportDirTest_1/gt_default.parq\n",
      "2020-04-28 00:01:32,077 - ClusterComparator - INFO - resulting 128 nodes out of 128,128\n",
      "INFO:ClusterComparator:resulting 128 nodes out of 128,128\n",
      "2020-04-28 00:01:32,086 - ClusterComparator - INFO - Running /opt/gct/submodules/OvpNMI/onmi /tmp/tmp82di_6rm/cluster1.cnl /tmp/tmp82di_6rm/cluster2.cnl > ovpnmioutput\n",
      "INFO:ClusterComparator:Running /opt/gct/submodules/OvpNMI/onmi /tmp/tmp82di_6rm/cluster1.cnl /tmp/tmp82di_6rm/cluster2.cnl > ovpnmioutput\n",
      "2020-04-28 00:01:32,190 - ClusterComparator - INFO - resulting 128 nodes out of 128,128\n",
      "INFO:ClusterComparator:resulting 128 nodes out of 128,128\n",
      "2020-04-28 00:01:32,199 - ClusterComparator - INFO - Running /opt/gct/submodules/OvpNMI/onmi /tmp/tmpgn4fiz4j/cluster1.cnl /tmp/tmpgn4fiz4j/cluster2.cnl > ovpnmioutput\n",
      "INFO:ClusterComparator:Running /opt/gct/submodules/OvpNMI/onmi /tmp/tmpgn4fiz4j/cluster1.cnl /tmp/tmpgn4fiz4j/cluster2.cnl > ovpnmioutput\n",
      "2020-04-28 00:01:32,389 - ClusterComparator - INFO - resulting 128 nodes out of 128,128\n",
      "INFO:ClusterComparator:resulting 128 nodes out of 128,128\n",
      "2020-04-28 00:01:32,401 - ClusterComparator - INFO - Running /opt/gct/submodules/OvpNMI/onmi /tmp/tmpw9x5rxm8/cluster1.cnl /tmp/tmpw9x5rxm8/cluster2.cnl > ovpnmioutput\n",
      "INFO:ClusterComparator:Running /opt/gct/submodules/OvpNMI/onmi /tmp/tmpw9x5rxm8/cluster1.cnl /tmp/tmpw9x5rxm8/cluster2.cnl > ovpnmioutput\n",
      "2020-04-28 00:01:32,414 - Clustering - INFO - reading/data/data/K_DoesAlgSupportDirTest_1/gt_default.parq\n",
      "INFO:Clustering:reading/data/data/K_DoesAlgSupportDirTest_1/gt_default.parq\n",
      "2020-04-28 00:01:32,506 - ClusterComparator - INFO - resulting 128 nodes out of 128,128\n",
      "INFO:ClusterComparator:resulting 128 nodes out of 128,128\n",
      "2020-04-28 00:01:32,515 - ClusterComparator - INFO - Running /opt/gct/submodules/OvpNMI/onmi /tmp/tmp3v230x02/cluster1.cnl /tmp/tmp3v230x02/cluster2.cnl > ovpnmioutput\n",
      "INFO:ClusterComparator:Running /opt/gct/submodules/OvpNMI/onmi /tmp/tmp3v230x02/cluster1.cnl /tmp/tmp3v230x02/cluster2.cnl > ovpnmioutput\n",
      "2020-04-28 00:01:32,527 - ClusterComparator - ERROR - Run command with error status code 134\n",
      "ERROR:ClusterComparator:Run command with error status code 134\n",
      "2020-04-28 00:01:32,619 - ClusterComparator - INFO - resulting 128 nodes out of 128,128\n",
      "INFO:ClusterComparator:resulting 128 nodes out of 128,128\n",
      "2020-04-28 00:01:32,627 - ClusterComparator - INFO - Running /opt/gct/submodules/OvpNMI/onmi /tmp/tmp2romlgtw/cluster1.cnl /tmp/tmp2romlgtw/cluster2.cnl > ovpnmioutput\n",
      "INFO:ClusterComparator:Running /opt/gct/submodules/OvpNMI/onmi /tmp/tmp2romlgtw/cluster1.cnl /tmp/tmp2romlgtw/cluster2.cnl > ovpnmioutput\n",
      "2020-04-28 00:01:32,821 - ClusterComparator - INFO - resulting 128 nodes out of 128,128\n",
      "INFO:ClusterComparator:resulting 128 nodes out of 128,128\n",
      "2020-04-28 00:01:32,830 - ClusterComparator - INFO - Running /opt/gct/submodules/OvpNMI/onmi /tmp/tmptamt_5uy/cluster1.cnl /tmp/tmptamt_5uy/cluster2.cnl > ovpnmioutput\n",
      "INFO:ClusterComparator:Running /opt/gct/submodules/OvpNMI/onmi /tmp/tmptamt_5uy/cluster1.cnl /tmp/tmptamt_5uy/cluster2.cnl > ovpnmioutput\n",
      "2020-04-28 00:01:32,844 - Clustering - INFO - reading/data/data/K_DoesAlgSupportDirTest_1/gt_default.parq\n",
      "INFO:Clustering:reading/data/data/K_DoesAlgSupportDirTest_1/gt_default.parq\n",
      "2020-04-28 00:01:32,938 - ClusterComparator - INFO - resulting 128 nodes out of 128,128\n",
      "INFO:ClusterComparator:resulting 128 nodes out of 128,128\n",
      "2020-04-28 00:01:32,946 - ClusterComparator - INFO - Running /opt/gct/submodules/OvpNMI/onmi /tmp/tmp9y4_2z7e/cluster1.cnl /tmp/tmp9y4_2z7e/cluster2.cnl > ovpnmioutput\n",
      "INFO:ClusterComparator:Running /opt/gct/submodules/OvpNMI/onmi /tmp/tmp9y4_2z7e/cluster1.cnl /tmp/tmp9y4_2z7e/cluster2.cnl > ovpnmioutput\n",
      "2020-04-28 00:01:33,049 - ClusterComparator - INFO - resulting 128 nodes out of 128,128\n",
      "INFO:ClusterComparator:resulting 128 nodes out of 128,128\n",
      "2020-04-28 00:01:33,058 - ClusterComparator - INFO - Running /opt/gct/submodules/OvpNMI/onmi /tmp/tmpz83vkkme/cluster1.cnl /tmp/tmpz83vkkme/cluster2.cnl > ovpnmioutput\n",
      "INFO:ClusterComparator:Running /opt/gct/submodules/OvpNMI/onmi /tmp/tmpz83vkkme/cluster1.cnl /tmp/tmpz83vkkme/cluster2.cnl > ovpnmioutput\n",
      "2020-04-28 00:01:33,081 - ClusterComparator - INFO - resulting 128 nodes out of 128,128\n",
      "INFO:ClusterComparator:resulting 128 nodes out of 128,128\n",
      "2020-04-28 00:01:33,091 - ClusterComparator - INFO - Running /opt/gct/submodules/OvpNMI/onmi /tmp/tmp7xu_es54/cluster1.cnl /tmp/tmp7xu_es54/cluster2.cnl > ovpnmioutput\n",
      "INFO:ClusterComparator:Running /opt/gct/submodules/OvpNMI/onmi /tmp/tmp7xu_es54/cluster1.cnl /tmp/tmp7xu_es54/cluster2.cnl > ovpnmioutput\n",
      "2020-04-28 00:01:33,104 - Clustering - INFO - reading/data/data/K_DoesAlgSupportDirTest_1/gt_default.parq\n",
      "INFO:Clustering:reading/data/data/K_DoesAlgSupportDirTest_1/gt_default.parq\n",
      "2020-04-28 00:01:33,111 - ClusterComparator - INFO - resulting 128 nodes out of 128,128\n",
      "INFO:ClusterComparator:resulting 128 nodes out of 128,128\n",
      "2020-04-28 00:01:33,119 - ClusterComparator - INFO - Running /opt/gct/submodules/OvpNMI/onmi /tmp/tmpprbgc9dv/cluster1.cnl /tmp/tmpprbgc9dv/cluster2.cnl > ovpnmioutput\n",
      "INFO:ClusterComparator:Running /opt/gct/submodules/OvpNMI/onmi /tmp/tmpprbgc9dv/cluster1.cnl /tmp/tmpprbgc9dv/cluster2.cnl > ovpnmioutput\n",
      "2020-04-28 00:01:33,132 - ClusterComparator - INFO - resulting 128 nodes out of 128,128\n",
      "INFO:ClusterComparator:resulting 128 nodes out of 128,128\n",
      "2020-04-28 00:01:33,141 - ClusterComparator - INFO - Running /opt/gct/submodules/OvpNMI/onmi /tmp/tmpvvvgssr9/cluster1.cnl /tmp/tmpvvvgssr9/cluster2.cnl > ovpnmioutput\n",
      "INFO:ClusterComparator:Running /opt/gct/submodules/OvpNMI/onmi /tmp/tmpvvvgssr9/cluster1.cnl /tmp/tmpvvvgssr9/cluster2.cnl > ovpnmioutput\n",
      "2020-04-28 00:01:33,228 - ClusterComparator - INFO - resulting 128 nodes out of 128,128\n",
      "INFO:ClusterComparator:resulting 128 nodes out of 128,128\n",
      "2020-04-28 00:01:33,235 - Clustering - INFO - reading/data/data/K_DoesAlgSupportDirTest_1/gt_default.parq\n",
      "INFO:Clustering:reading/data/data/K_DoesAlgSupportDirTest_1/gt_default.parq\n",
      "2020-04-28 00:01:33,312 - ClusterComparator - INFO - resulting 128 nodes out of 128,128\n",
      "INFO:ClusterComparator:resulting 128 nodes out of 128,128\n",
      "2020-04-28 00:01:33,354 - ClusterComparator - INFO - Running /opt/gct/submodules/OvpNMI/onmi /tmp/tmpgyz48s4m/cluster1.cnl /tmp/tmpgyz48s4m/cluster2.cnl > ovpnmioutput\n",
      "INFO:ClusterComparator:Running /opt/gct/submodules/OvpNMI/onmi /tmp/tmpgyz48s4m/cluster1.cnl /tmp/tmpgyz48s4m/cluster2.cnl > ovpnmioutput\n"
     ]
    },
    {
     "name": "stderr",
     "output_type": "stream",
     "text": [
      "2020-04-28 00:01:33,368 - ClusterComparator - INFO - resulting 128 nodes out of 128,128\n",
      "INFO:ClusterComparator:resulting 128 nodes out of 128,128\n",
      "2020-04-28 00:01:33,381 - ClusterComparator - INFO - resulting 128 nodes out of 128,128\n",
      "INFO:ClusterComparator:resulting 128 nodes out of 128,128\n",
      "2020-04-28 00:01:33,389 - ClusterComparator - INFO - Running /opt/gct/submodules/OvpNMI/onmi /tmp/tmpbksgpp8_/cluster1.cnl /tmp/tmpbksgpp8_/cluster2.cnl > ovpnmioutput\n",
      "INFO:ClusterComparator:Running /opt/gct/submodules/OvpNMI/onmi /tmp/tmpbksgpp8_/cluster1.cnl /tmp/tmpbksgpp8_/cluster2.cnl > ovpnmioutput\n",
      "2020-04-28 00:01:33,401 - Clustering - INFO - reading/data/data/K_DoesAlgSupportDirTest_1/gt_default.parq\n",
      "INFO:Clustering:reading/data/data/K_DoesAlgSupportDirTest_1/gt_default.parq\n",
      "2020-04-28 00:01:33,406 - ClusterComparator - INFO - resulting 128 nodes out of 128,128\n",
      "INFO:ClusterComparator:resulting 128 nodes out of 128,128\n",
      "2020-04-28 00:01:33,414 - ClusterComparator - INFO - Running /opt/gct/submodules/OvpNMI/onmi /tmp/tmpu3tq0mlw/cluster1.cnl /tmp/tmpu3tq0mlw/cluster2.cnl > ovpnmioutput\n",
      "INFO:ClusterComparator:Running /opt/gct/submodules/OvpNMI/onmi /tmp/tmpu3tq0mlw/cluster1.cnl /tmp/tmpu3tq0mlw/cluster2.cnl > ovpnmioutput\n",
      "2020-04-28 00:01:33,425 - ClusterComparator - INFO - resulting 128 nodes out of 128,128\n",
      "INFO:ClusterComparator:resulting 128 nodes out of 128,128\n",
      "2020-04-28 00:01:33,434 - ClusterComparator - INFO - Running /opt/gct/submodules/OvpNMI/onmi /tmp/tmpu92k5ccv/cluster1.cnl /tmp/tmpu92k5ccv/cluster2.cnl > ovpnmioutput\n",
      "INFO:ClusterComparator:Running /opt/gct/submodules/OvpNMI/onmi /tmp/tmpu92k5ccv/cluster1.cnl /tmp/tmpu92k5ccv/cluster2.cnl > ovpnmioutput\n",
      "2020-04-28 00:01:33,450 - ClusterComparator - INFO - resulting 128 nodes out of 128,128\n",
      "INFO:ClusterComparator:resulting 128 nodes out of 128,128\n",
      "2020-04-28 00:01:33,459 - ClusterComparator - INFO - Running /opt/gct/submodules/OvpNMI/onmi /tmp/tmptlxqnqrb/cluster1.cnl /tmp/tmptlxqnqrb/cluster2.cnl > ovpnmioutput\n",
      "INFO:ClusterComparator:Running /opt/gct/submodules/OvpNMI/onmi /tmp/tmptlxqnqrb/cluster1.cnl /tmp/tmptlxqnqrb/cluster2.cnl > ovpnmioutput\n",
      "2020-04-28 00:01:33,470 - Clustering - INFO - reading/data/data/K_DoesAlgSupportDirTest_1/gt_default.parq\n",
      "INFO:Clustering:reading/data/data/K_DoesAlgSupportDirTest_1/gt_default.parq\n",
      "2020-04-28 00:01:33,476 - ClusterComparator - INFO - resulting 127 nodes out of 128,128\n",
      "INFO:ClusterComparator:resulting 127 nodes out of 128,128\n",
      "2020-04-28 00:01:33,484 - ClusterComparator - INFO - Running /opt/gct/submodules/OvpNMI/onmi /tmp/tmpvmv_cwjl/cluster1.cnl /tmp/tmpvmv_cwjl/cluster2.cnl > ovpnmioutput\n",
      "INFO:ClusterComparator:Running /opt/gct/submodules/OvpNMI/onmi /tmp/tmpvmv_cwjl/cluster1.cnl /tmp/tmpvmv_cwjl/cluster2.cnl > ovpnmioutput\n",
      "2020-04-28 00:01:33,494 - ClusterComparator - ERROR - Run command with error status code 134\n",
      "ERROR:ClusterComparator:Run command with error status code 134\n",
      "2020-04-28 00:01:33,496 - ClusterComparator - INFO - resulting 127 nodes out of 128,128\n",
      "INFO:ClusterComparator:resulting 127 nodes out of 128,128\n",
      "2020-04-28 00:01:33,504 - ClusterComparator - INFO - Running /opt/gct/submodules/OvpNMI/onmi /tmp/tmpdgitz1z9/cluster1.cnl /tmp/tmpdgitz1z9/cluster2.cnl > ovpnmioutput\n",
      "INFO:ClusterComparator:Running /opt/gct/submodules/OvpNMI/onmi /tmp/tmpdgitz1z9/cluster1.cnl /tmp/tmpdgitz1z9/cluster2.cnl > ovpnmioutput\n",
      "2020-04-28 00:01:33,515 - ClusterComparator - ERROR - Run command with error status code 134\n",
      "ERROR:ClusterComparator:Run command with error status code 134\n",
      "2020-04-28 00:01:33,523 - ClusterComparator - INFO - resulting 128 nodes out of 128,128\n",
      "INFO:ClusterComparator:resulting 128 nodes out of 128,128\n",
      "2020-04-28 00:01:33,531 - ClusterComparator - INFO - Running /opt/gct/submodules/OvpNMI/onmi /tmp/tmp221gkegv/cluster1.cnl /tmp/tmp221gkegv/cluster2.cnl > ovpnmioutput\n",
      "INFO:ClusterComparator:Running /opt/gct/submodules/OvpNMI/onmi /tmp/tmp221gkegv/cluster1.cnl /tmp/tmp221gkegv/cluster2.cnl > ovpnmioutput\n",
      "2020-04-28 00:01:33,542 - Clustering - INFO - reading/data/data/K_DoesAlgSupportDirTest_1/gt_default.parq\n",
      "INFO:Clustering:reading/data/data/K_DoesAlgSupportDirTest_1/gt_default.parq\n",
      "2020-04-28 00:01:33,549 - ClusterComparator - INFO - resulting 127 nodes out of 128,128\n",
      "INFO:ClusterComparator:resulting 127 nodes out of 128,128\n",
      "2020-04-28 00:01:33,556 - ClusterComparator - INFO - Running /opt/gct/submodules/OvpNMI/onmi /tmp/tmpksga2bpt/cluster1.cnl /tmp/tmpksga2bpt/cluster2.cnl > ovpnmioutput\n",
      "INFO:ClusterComparator:Running /opt/gct/submodules/OvpNMI/onmi /tmp/tmpksga2bpt/cluster1.cnl /tmp/tmpksga2bpt/cluster2.cnl > ovpnmioutput\n",
      "2020-04-28 00:01:33,566 - ClusterComparator - ERROR - Run command with error status code 134\n",
      "ERROR:ClusterComparator:Run command with error status code 134\n",
      "2020-04-28 00:01:33,569 - ClusterComparator - INFO - resulting 127 nodes out of 128,128\n",
      "INFO:ClusterComparator:resulting 127 nodes out of 128,128\n",
      "2020-04-28 00:01:33,577 - ClusterComparator - INFO - Running /opt/gct/submodules/OvpNMI/onmi /tmp/tmpfao56e26/cluster1.cnl /tmp/tmpfao56e26/cluster2.cnl > ovpnmioutput\n",
      "INFO:ClusterComparator:Running /opt/gct/submodules/OvpNMI/onmi /tmp/tmpfao56e26/cluster1.cnl /tmp/tmpfao56e26/cluster2.cnl > ovpnmioutput\n",
      "2020-04-28 00:01:33,588 - ClusterComparator - ERROR - Run command with error status code 134\n",
      "ERROR:ClusterComparator:Run command with error status code 134\n",
      "2020-04-28 00:01:33,596 - ClusterComparator - INFO - resulting 128 nodes out of 128,128\n",
      "INFO:ClusterComparator:resulting 128 nodes out of 128,128\n",
      "2020-04-28 00:01:33,604 - ClusterComparator - INFO - Running /opt/gct/submodules/OvpNMI/onmi /tmp/tmpo_r2xvz2/cluster1.cnl /tmp/tmpo_r2xvz2/cluster2.cnl > ovpnmioutput\n",
      "INFO:ClusterComparator:Running /opt/gct/submodules/OvpNMI/onmi /tmp/tmpo_r2xvz2/cluster1.cnl /tmp/tmpo_r2xvz2/cluster2.cnl > ovpnmioutput\n",
      "2020-04-28 00:01:33,615 - Clustering - INFO - reading/data/data/K_DoesAlgSupportDirTest_1/gt_default.parq\n",
      "INFO:Clustering:reading/data/data/K_DoesAlgSupportDirTest_1/gt_default.parq\n",
      "2020-04-28 00:01:33,621 - ClusterComparator - INFO - resulting 127 nodes out of 128,128\n",
      "INFO:ClusterComparator:resulting 127 nodes out of 128,128\n",
      "2020-04-28 00:01:33,629 - ClusterComparator - INFO - Running /opt/gct/submodules/OvpNMI/onmi /tmp/tmp0fp_j439/cluster1.cnl /tmp/tmp0fp_j439/cluster2.cnl > ovpnmioutput\n",
      "INFO:ClusterComparator:Running /opt/gct/submodules/OvpNMI/onmi /tmp/tmp0fp_j439/cluster1.cnl /tmp/tmp0fp_j439/cluster2.cnl > ovpnmioutput\n",
      "2020-04-28 00:01:33,639 - ClusterComparator - ERROR - Run command with error status code 134\n",
      "ERROR:ClusterComparator:Run command with error status code 134\n",
      "2020-04-28 00:01:33,641 - ClusterComparator - INFO - resulting 127 nodes out of 128,128\n",
      "INFO:ClusterComparator:resulting 127 nodes out of 128,128\n",
      "2020-04-28 00:01:33,650 - ClusterComparator - INFO - Running /opt/gct/submodules/OvpNMI/onmi /tmp/tmp7zjc_whs/cluster1.cnl /tmp/tmp7zjc_whs/cluster2.cnl > ovpnmioutput\n",
      "INFO:ClusterComparator:Running /opt/gct/submodules/OvpNMI/onmi /tmp/tmp7zjc_whs/cluster1.cnl /tmp/tmp7zjc_whs/cluster2.cnl > ovpnmioutput\n",
      "2020-04-28 00:01:33,660 - ClusterComparator - ERROR - Run command with error status code 134\n",
      "ERROR:ClusterComparator:Run command with error status code 134\n",
      "2020-04-28 00:01:33,829 - ClusterComparator - INFO - resulting 128 nodes out of 128,128\n",
      "INFO:ClusterComparator:resulting 128 nodes out of 128,128\n",
      "2020-04-28 00:01:33,839 - ClusterComparator - INFO - Running /opt/gct/submodules/OvpNMI/onmi /tmp/tmpzylsb3ou/cluster1.cnl /tmp/tmpzylsb3ou/cluster2.cnl > ovpnmioutput\n",
      "INFO:ClusterComparator:Running /opt/gct/submodules/OvpNMI/onmi /tmp/tmpzylsb3ou/cluster1.cnl /tmp/tmpzylsb3ou/cluster2.cnl > ovpnmioutput\n",
      "2020-04-28 00:01:33,853 - Clustering - INFO - reading/data/data/K_DoesAlgSupportDirTest_1/gt_default.parq\n",
      "INFO:Clustering:reading/data/data/K_DoesAlgSupportDirTest_1/gt_default.parq\n",
      "2020-04-28 00:01:33,940 - ClusterComparator - INFO - resulting 127 nodes out of 128,128\n",
      "INFO:ClusterComparator:resulting 127 nodes out of 128,128\n",
      "2020-04-28 00:01:33,947 - ClusterComparator - INFO - Running /opt/gct/submodules/OvpNMI/onmi /tmp/tmp9fpac1yw/cluster1.cnl /tmp/tmp9fpac1yw/cluster2.cnl > ovpnmioutput\n",
      "INFO:ClusterComparator:Running /opt/gct/submodules/OvpNMI/onmi /tmp/tmp9fpac1yw/cluster1.cnl /tmp/tmp9fpac1yw/cluster2.cnl > ovpnmioutput\n"
     ]
    },
    {
     "name": "stderr",
     "output_type": "stream",
     "text": [
      "2020-04-28 00:01:33,960 - ClusterComparator - ERROR - Run command with error status code 134\n",
      "ERROR:ClusterComparator:Run command with error status code 134\n",
      "2020-04-28 00:01:34,039 - ClusterComparator - INFO - resulting 127 nodes out of 128,128\n",
      "INFO:ClusterComparator:resulting 127 nodes out of 128,128\n",
      "2020-04-28 00:01:34,046 - ClusterComparator - INFO - Running /opt/gct/submodules/OvpNMI/onmi /tmp/tmpfpx5ot0w/cluster1.cnl /tmp/tmpfpx5ot0w/cluster2.cnl > ovpnmioutput\n",
      "INFO:ClusterComparator:Running /opt/gct/submodules/OvpNMI/onmi /tmp/tmpfpx5ot0w/cluster1.cnl /tmp/tmpfpx5ot0w/cluster2.cnl > ovpnmioutput\n",
      "2020-04-28 00:01:34,059 - ClusterComparator - ERROR - Run command with error status code 134\n",
      "ERROR:ClusterComparator:Run command with error status code 134\n",
      "2020-04-28 00:01:34,067 - ClusterComparator - INFO - resulting 128 nodes out of 128,128\n",
      "INFO:ClusterComparator:resulting 128 nodes out of 128,128\n",
      "2020-04-28 00:01:34,075 - ClusterComparator - INFO - Running /opt/gct/submodules/OvpNMI/onmi /tmp/tmp94t0ne7c/cluster1.cnl /tmp/tmp94t0ne7c/cluster2.cnl > ovpnmioutput\n",
      "INFO:ClusterComparator:Running /opt/gct/submodules/OvpNMI/onmi /tmp/tmp94t0ne7c/cluster1.cnl /tmp/tmp94t0ne7c/cluster2.cnl > ovpnmioutput\n",
      "2020-04-28 00:01:34,087 - Clustering - INFO - reading/data/data/K_DoesAlgSupportDirTest_1/gt_default.parq\n",
      "INFO:Clustering:reading/data/data/K_DoesAlgSupportDirTest_1/gt_default.parq\n",
      "2020-04-28 00:01:34,093 - ClusterComparator - INFO - resulting 127 nodes out of 128,128\n",
      "INFO:ClusterComparator:resulting 127 nodes out of 128,128\n",
      "2020-04-28 00:01:34,100 - ClusterComparator - INFO - Running /opt/gct/submodules/OvpNMI/onmi /tmp/tmpqsseusu9/cluster1.cnl /tmp/tmpqsseusu9/cluster2.cnl > ovpnmioutput\n",
      "INFO:ClusterComparator:Running /opt/gct/submodules/OvpNMI/onmi /tmp/tmpqsseusu9/cluster1.cnl /tmp/tmpqsseusu9/cluster2.cnl > ovpnmioutput\n",
      "2020-04-28 00:01:34,111 - ClusterComparator - ERROR - Run command with error status code 134\n",
      "ERROR:ClusterComparator:Run command with error status code 134\n",
      "2020-04-28 00:01:34,114 - ClusterComparator - INFO - resulting 127 nodes out of 128,128\n",
      "INFO:ClusterComparator:resulting 127 nodes out of 128,128\n",
      "2020-04-28 00:01:34,121 - ClusterComparator - INFO - Running /opt/gct/submodules/OvpNMI/onmi /tmp/tmpua116ru9/cluster1.cnl /tmp/tmpua116ru9/cluster2.cnl > ovpnmioutput\n",
      "INFO:ClusterComparator:Running /opt/gct/submodules/OvpNMI/onmi /tmp/tmpua116ru9/cluster1.cnl /tmp/tmpua116ru9/cluster2.cnl > ovpnmioutput\n",
      "2020-04-28 00:01:34,132 - ClusterComparator - ERROR - Run command with error status code 134\n",
      "ERROR:ClusterComparator:Run command with error status code 134\n",
      "2020-04-28 00:01:34,140 - ClusterComparator - INFO - resulting 128 nodes out of 128,128\n",
      "INFO:ClusterComparator:resulting 128 nodes out of 128,128\n",
      "2020-04-28 00:01:34,149 - ClusterComparator - INFO - Running /opt/gct/submodules/OvpNMI/onmi /tmp/tmp18r9wwvc/cluster1.cnl /tmp/tmp18r9wwvc/cluster2.cnl > ovpnmioutput\n",
      "INFO:ClusterComparator:Running /opt/gct/submodules/OvpNMI/onmi /tmp/tmp18r9wwvc/cluster1.cnl /tmp/tmp18r9wwvc/cluster2.cnl > ovpnmioutput\n",
      "2020-04-28 00:01:34,160 - Clustering - INFO - reading/data/data/K_DoesAlgSupportDirTest_1/gt_default.parq\n",
      "INFO:Clustering:reading/data/data/K_DoesAlgSupportDirTest_1/gt_default.parq\n",
      "2020-04-28 00:01:34,166 - ClusterComparator - INFO - resulting 127 nodes out of 128,128\n",
      "INFO:ClusterComparator:resulting 127 nodes out of 128,128\n",
      "2020-04-28 00:01:34,173 - ClusterComparator - INFO - Running /opt/gct/submodules/OvpNMI/onmi /tmp/tmp06ld3lw8/cluster1.cnl /tmp/tmp06ld3lw8/cluster2.cnl > ovpnmioutput\n",
      "INFO:ClusterComparator:Running /opt/gct/submodules/OvpNMI/onmi /tmp/tmp06ld3lw8/cluster1.cnl /tmp/tmp06ld3lw8/cluster2.cnl > ovpnmioutput\n",
      "2020-04-28 00:01:34,184 - ClusterComparator - ERROR - Run command with error status code 134\n",
      "ERROR:ClusterComparator:Run command with error status code 134\n",
      "2020-04-28 00:01:34,186 - ClusterComparator - INFO - resulting 127 nodes out of 128,128\n",
      "INFO:ClusterComparator:resulting 127 nodes out of 128,128\n",
      "2020-04-28 00:01:34,194 - ClusterComparator - INFO - Running /opt/gct/submodules/OvpNMI/onmi /tmp/tmpc65v6p7f/cluster1.cnl /tmp/tmpc65v6p7f/cluster2.cnl > ovpnmioutput\n",
      "INFO:ClusterComparator:Running /opt/gct/submodules/OvpNMI/onmi /tmp/tmpc65v6p7f/cluster1.cnl /tmp/tmpc65v6p7f/cluster2.cnl > ovpnmioutput\n",
      "2020-04-28 00:01:34,204 - ClusterComparator - ERROR - Run command with error status code 134\n",
      "ERROR:ClusterComparator:Run command with error status code 134\n",
      "2020-04-28 00:01:34,213 - ClusterComparator - INFO - resulting 128 nodes out of 128,128\n",
      "INFO:ClusterComparator:resulting 128 nodes out of 128,128\n",
      "2020-04-28 00:01:34,221 - ClusterComparator - INFO - Running /opt/gct/submodules/OvpNMI/onmi /tmp/tmp16ocrx79/cluster1.cnl /tmp/tmp16ocrx79/cluster2.cnl > ovpnmioutput\n",
      "INFO:ClusterComparator:Running /opt/gct/submodules/OvpNMI/onmi /tmp/tmp16ocrx79/cluster1.cnl /tmp/tmp16ocrx79/cluster2.cnl > ovpnmioutput\n",
      "2020-04-28 00:01:34,232 - Clustering - INFO - reading/data/data/K_DoesAlgSupportDirTest_1/gt_default.parq\n",
      "INFO:Clustering:reading/data/data/K_DoesAlgSupportDirTest_1/gt_default.parq\n",
      "2020-04-28 00:01:34,238 - ClusterComparator - INFO - resulting 127 nodes out of 128,128\n",
      "INFO:ClusterComparator:resulting 127 nodes out of 128,128\n",
      "2020-04-28 00:01:34,245 - ClusterComparator - INFO - Running /opt/gct/submodules/OvpNMI/onmi /tmp/tmpscjbqbxa/cluster1.cnl /tmp/tmpscjbqbxa/cluster2.cnl > ovpnmioutput\n",
      "INFO:ClusterComparator:Running /opt/gct/submodules/OvpNMI/onmi /tmp/tmpscjbqbxa/cluster1.cnl /tmp/tmpscjbqbxa/cluster2.cnl > ovpnmioutput\n",
      "2020-04-28 00:01:34,256 - ClusterComparator - ERROR - Run command with error status code 134\n",
      "ERROR:ClusterComparator:Run command with error status code 134\n",
      "2020-04-28 00:01:34,258 - ClusterComparator - INFO - resulting 127 nodes out of 128,128\n",
      "INFO:ClusterComparator:resulting 127 nodes out of 128,128\n",
      "2020-04-28 00:01:34,266 - ClusterComparator - INFO - Running /opt/gct/submodules/OvpNMI/onmi /tmp/tmp4cnlkd_0/cluster1.cnl /tmp/tmp4cnlkd_0/cluster2.cnl > ovpnmioutput\n",
      "INFO:ClusterComparator:Running /opt/gct/submodules/OvpNMI/onmi /tmp/tmp4cnlkd_0/cluster1.cnl /tmp/tmp4cnlkd_0/cluster2.cnl > ovpnmioutput\n",
      "2020-04-28 00:01:34,276 - ClusterComparator - ERROR - Run command with error status code 134\n",
      "ERROR:ClusterComparator:Run command with error status code 134\n",
      "2020-04-28 00:01:34,284 - ClusterComparator - INFO - resulting 128 nodes out of 128,128\n",
      "INFO:ClusterComparator:resulting 128 nodes out of 128,128\n",
      "2020-04-28 00:01:34,289 - Clustering - INFO - reading/data/data/K_DoesAlgSupportDirTest_1/gt_default.parq\n",
      "INFO:Clustering:reading/data/data/K_DoesAlgSupportDirTest_1/gt_default.parq\n",
      "2020-04-28 00:01:34,293 - ClusterComparator - INFO - resulting 128 nodes out of 128,128\n",
      "INFO:ClusterComparator:resulting 128 nodes out of 128,128\n",
      "2020-04-28 00:01:34,298 - ClusterComparator - INFO - resulting 128 nodes out of 128,128\n",
      "INFO:ClusterComparator:resulting 128 nodes out of 128,128\n",
      "2020-04-28 00:01:34,476 - ClusterComparator - INFO - resulting 126 nodes out of 127,127\n",
      "INFO:ClusterComparator:resulting 126 nodes out of 127,127\n",
      "2020-04-28 00:01:34,485 - ClusterComparator - INFO - Running /opt/gct/submodules/OvpNMI/onmi /tmp/tmp6cjg44y5/cluster1.cnl /tmp/tmp6cjg44y5/cluster2.cnl > ovpnmioutput\n",
      "INFO:ClusterComparator:Running /opt/gct/submodules/OvpNMI/onmi /tmp/tmp6cjg44y5/cluster1.cnl /tmp/tmp6cjg44y5/cluster2.cnl > ovpnmioutput\n",
      "2020-04-28 00:01:34,499 - Clustering - INFO - reading/data/data/K_DoesAlgSupportDirTest_1/gt_default.parq\n",
      "INFO:Clustering:reading/data/data/K_DoesAlgSupportDirTest_1/gt_default.parq\n",
      "2020-04-28 00:01:34,587 - ClusterComparator - INFO - resulting 127 nodes out of 128,127\n",
      "INFO:ClusterComparator:resulting 127 nodes out of 128,127\n",
      "2020-04-28 00:01:34,594 - ClusterComparator - INFO - Running /opt/gct/submodules/OvpNMI/onmi /tmp/tmpviv3wctu/cluster1.cnl /tmp/tmpviv3wctu/cluster2.cnl > ovpnmioutput\n",
      "INFO:ClusterComparator:Running /opt/gct/submodules/OvpNMI/onmi /tmp/tmpviv3wctu/cluster1.cnl /tmp/tmpviv3wctu/cluster2.cnl > ovpnmioutput\n",
      "2020-04-28 00:01:34,691 - ClusterComparator - INFO - resulting 127 nodes out of 128,127\n",
      "INFO:ClusterComparator:resulting 127 nodes out of 128,127\n",
      "2020-04-28 00:01:34,698 - ClusterComparator - INFO - Running /opt/gct/submodules/OvpNMI/onmi /tmp/tmpkjv535m3/cluster1.cnl /tmp/tmpkjv535m3/cluster2.cnl > ovpnmioutput\n"
     ]
    },
    {
     "name": "stderr",
     "output_type": "stream",
     "text": [
      "INFO:ClusterComparator:Running /opt/gct/submodules/OvpNMI/onmi /tmp/tmpkjv535m3/cluster1.cnl /tmp/tmpkjv535m3/cluster2.cnl > ovpnmioutput\n",
      "2020-04-28 00:01:34,822 - ClusterComparator - INFO - resulting 47 nodes out of 53,94\n",
      "INFO:ClusterComparator:resulting 47 nodes out of 53,94\n",
      "2020-04-28 00:01:34,832 - ClusterComparator - INFO - Running /opt/gct/submodules/OvpNMI/onmi /tmp/tmpl567c2g9/cluster1.cnl /tmp/tmpl567c2g9/cluster2.cnl > ovpnmioutput\n",
      "INFO:ClusterComparator:Running /opt/gct/submodules/OvpNMI/onmi /tmp/tmpl567c2g9/cluster1.cnl /tmp/tmpl567c2g9/cluster2.cnl > ovpnmioutput\n",
      "2020-04-28 00:01:34,844 - Clustering - INFO - reading/data/data/K_DoesAlgSupportDirTest_1/gt_default.parq\n",
      "INFO:Clustering:reading/data/data/K_DoesAlgSupportDirTest_1/gt_default.parq\n",
      "2020-04-28 00:01:34,890 - ClusterComparator - INFO - resulting 53 nodes out of 128,53\n",
      "INFO:ClusterComparator:resulting 53 nodes out of 128,53\n",
      "2020-04-28 00:01:34,897 - ClusterComparator - INFO - Running /opt/gct/submodules/OvpNMI/onmi /tmp/tmprl6tgnsa/cluster1.cnl /tmp/tmprl6tgnsa/cluster2.cnl > ovpnmioutput\n",
      "INFO:ClusterComparator:Running /opt/gct/submodules/OvpNMI/onmi /tmp/tmprl6tgnsa/cluster1.cnl /tmp/tmprl6tgnsa/cluster2.cnl > ovpnmioutput\n",
      "2020-04-28 00:01:34,976 - ClusterComparator - INFO - resulting 94 nodes out of 128,94\n",
      "INFO:ClusterComparator:resulting 94 nodes out of 128,94\n",
      "2020-04-28 00:01:34,984 - ClusterComparator - INFO - Running /opt/gct/submodules/OvpNMI/onmi /tmp/tmpa4wsogma/cluster1.cnl /tmp/tmpa4wsogma/cluster2.cnl > ovpnmioutput\n",
      "INFO:ClusterComparator:Running /opt/gct/submodules/OvpNMI/onmi /tmp/tmpa4wsogma/cluster1.cnl /tmp/tmpa4wsogma/cluster2.cnl > ovpnmioutput\n",
      "2020-04-28 00:01:35,002 - ClusterComparator - INFO - resulting 128 nodes out of 128,128\n",
      "INFO:ClusterComparator:resulting 128 nodes out of 128,128\n",
      "2020-04-28 00:01:35,012 - ClusterComparator - INFO - Running /opt/gct/submodules/OvpNMI/onmi /tmp/tmplfc8o2ob/cluster1.cnl /tmp/tmplfc8o2ob/cluster2.cnl > ovpnmioutput\n",
      "INFO:ClusterComparator:Running /opt/gct/submodules/OvpNMI/onmi /tmp/tmplfc8o2ob/cluster1.cnl /tmp/tmplfc8o2ob/cluster2.cnl > ovpnmioutput\n",
      "2020-04-28 00:01:35,023 - Clustering - INFO - reading/data/data/K_DoesAlgSupportDirTest_1/gt_default.parq\n",
      "INFO:Clustering:reading/data/data/K_DoesAlgSupportDirTest_1/gt_default.parq\n",
      "2020-04-28 00:01:35,030 - ClusterComparator - INFO - resulting 128 nodes out of 128,128\n",
      "INFO:ClusterComparator:resulting 128 nodes out of 128,128\n",
      "2020-04-28 00:01:35,037 - ClusterComparator - INFO - Running /opt/gct/submodules/OvpNMI/onmi /tmp/tmp557lsrl5/cluster1.cnl /tmp/tmp557lsrl5/cluster2.cnl > ovpnmioutput\n",
      "INFO:ClusterComparator:Running /opt/gct/submodules/OvpNMI/onmi /tmp/tmp557lsrl5/cluster1.cnl /tmp/tmp557lsrl5/cluster2.cnl > ovpnmioutput\n",
      "2020-04-28 00:01:35,048 - ClusterComparator - INFO - resulting 128 nodes out of 128,128\n",
      "INFO:ClusterComparator:resulting 128 nodes out of 128,128\n",
      "2020-04-28 00:01:35,057 - ClusterComparator - INFO - Running /opt/gct/submodules/OvpNMI/onmi /tmp/tmpt3uz0i7d/cluster1.cnl /tmp/tmpt3uz0i7d/cluster2.cnl > ovpnmioutput\n",
      "INFO:ClusterComparator:Running /opt/gct/submodules/OvpNMI/onmi /tmp/tmpt3uz0i7d/cluster1.cnl /tmp/tmpt3uz0i7d/cluster2.cnl > ovpnmioutput\n",
      "2020-04-28 00:01:35,074 - ClusterComparator - INFO - resulting 128 nodes out of 128,128\n",
      "INFO:ClusterComparator:resulting 128 nodes out of 128,128\n",
      "2020-04-28 00:01:35,083 - ClusterComparator - INFO - Running /opt/gct/submodules/OvpNMI/onmi /tmp/tmpti9v_6f9/cluster1.cnl /tmp/tmpti9v_6f9/cluster2.cnl > ovpnmioutput\n",
      "INFO:ClusterComparator:Running /opt/gct/submodules/OvpNMI/onmi /tmp/tmpti9v_6f9/cluster1.cnl /tmp/tmpti9v_6f9/cluster2.cnl > ovpnmioutput\n",
      "2020-04-28 00:01:35,094 - Clustering - INFO - reading/data/data/K_DoesAlgSupportDirTest_1/gt_default.parq\n",
      "INFO:Clustering:reading/data/data/K_DoesAlgSupportDirTest_1/gt_default.parq\n",
      "2020-04-28 00:01:35,100 - ClusterComparator - INFO - resulting 128 nodes out of 128,128\n",
      "INFO:ClusterComparator:resulting 128 nodes out of 128,128\n",
      "2020-04-28 00:01:35,107 - ClusterComparator - INFO - Running /opt/gct/submodules/OvpNMI/onmi /tmp/tmp_93cxyql/cluster1.cnl /tmp/tmp_93cxyql/cluster2.cnl > ovpnmioutput\n",
      "INFO:ClusterComparator:Running /opt/gct/submodules/OvpNMI/onmi /tmp/tmp_93cxyql/cluster1.cnl /tmp/tmp_93cxyql/cluster2.cnl > ovpnmioutput\n",
      "2020-04-28 00:01:35,118 - ClusterComparator - INFO - resulting 128 nodes out of 128,128\n",
      "INFO:ClusterComparator:resulting 128 nodes out of 128,128\n",
      "2020-04-28 00:01:35,126 - ClusterComparator - INFO - Running /opt/gct/submodules/OvpNMI/onmi /tmp/tmp58k6a0l3/cluster1.cnl /tmp/tmp58k6a0l3/cluster2.cnl > ovpnmioutput\n",
      "INFO:ClusterComparator:Running /opt/gct/submodules/OvpNMI/onmi /tmp/tmp58k6a0l3/cluster1.cnl /tmp/tmp58k6a0l3/cluster2.cnl > ovpnmioutput\n",
      "2020-04-28 00:01:35,143 - ClusterComparator - INFO - resulting 128 nodes out of 128,128\n",
      "INFO:ClusterComparator:resulting 128 nodes out of 128,128\n",
      "2020-04-28 00:01:35,153 - ClusterComparator - INFO - Running /opt/gct/submodules/OvpNMI/onmi /tmp/tmpy7mkv4ae/cluster1.cnl /tmp/tmpy7mkv4ae/cluster2.cnl > ovpnmioutput\n",
      "INFO:ClusterComparator:Running /opt/gct/submodules/OvpNMI/onmi /tmp/tmpy7mkv4ae/cluster1.cnl /tmp/tmpy7mkv4ae/cluster2.cnl > ovpnmioutput\n",
      "2020-04-28 00:01:35,164 - Clustering - INFO - reading/data/data/K_DoesAlgSupportDirTest_1/gt_default.parq\n",
      "INFO:Clustering:reading/data/data/K_DoesAlgSupportDirTest_1/gt_default.parq\n",
      "2020-04-28 00:01:35,170 - ClusterComparator - INFO - resulting 128 nodes out of 128,128\n",
      "INFO:ClusterComparator:resulting 128 nodes out of 128,128\n",
      "2020-04-28 00:01:35,177 - ClusterComparator - INFO - Running /opt/gct/submodules/OvpNMI/onmi /tmp/tmp0ban5z7_/cluster1.cnl /tmp/tmp0ban5z7_/cluster2.cnl > ovpnmioutput\n",
      "INFO:ClusterComparator:Running /opt/gct/submodules/OvpNMI/onmi /tmp/tmp0ban5z7_/cluster1.cnl /tmp/tmp0ban5z7_/cluster2.cnl > ovpnmioutput\n",
      "2020-04-28 00:01:35,188 - ClusterComparator - INFO - resulting 128 nodes out of 128,128\n",
      "INFO:ClusterComparator:resulting 128 nodes out of 128,128\n",
      "2020-04-28 00:01:35,196 - ClusterComparator - INFO - Running /opt/gct/submodules/OvpNMI/onmi /tmp/tmprgxhsfok/cluster1.cnl /tmp/tmprgxhsfok/cluster2.cnl > ovpnmioutput\n",
      "INFO:ClusterComparator:Running /opt/gct/submodules/OvpNMI/onmi /tmp/tmprgxhsfok/cluster1.cnl /tmp/tmprgxhsfok/cluster2.cnl > ovpnmioutput\n",
      "2020-04-28 00:01:35,213 - ClusterComparator - INFO - resulting 128 nodes out of 128,128\n",
      "INFO:ClusterComparator:resulting 128 nodes out of 128,128\n",
      "2020-04-28 00:01:35,222 - ClusterComparator - INFO - Running /opt/gct/submodules/OvpNMI/onmi /tmp/tmpr9gmlx_x/cluster1.cnl /tmp/tmpr9gmlx_x/cluster2.cnl > ovpnmioutput\n",
      "INFO:ClusterComparator:Running /opt/gct/submodules/OvpNMI/onmi /tmp/tmpr9gmlx_x/cluster1.cnl /tmp/tmpr9gmlx_x/cluster2.cnl > ovpnmioutput\n",
      "2020-04-28 00:01:35,233 - Clustering - INFO - reading/data/data/K_DoesAlgSupportDirTest_1/gt_default.parq\n",
      "INFO:Clustering:reading/data/data/K_DoesAlgSupportDirTest_1/gt_default.parq\n",
      "2020-04-28 00:01:35,240 - ClusterComparator - INFO - resulting 128 nodes out of 128,128\n",
      "INFO:ClusterComparator:resulting 128 nodes out of 128,128\n",
      "2020-04-28 00:01:35,247 - ClusterComparator - INFO - Running /opt/gct/submodules/OvpNMI/onmi /tmp/tmp9zv60gw8/cluster1.cnl /tmp/tmp9zv60gw8/cluster2.cnl > ovpnmioutput\n",
      "INFO:ClusterComparator:Running /opt/gct/submodules/OvpNMI/onmi /tmp/tmp9zv60gw8/cluster1.cnl /tmp/tmp9zv60gw8/cluster2.cnl > ovpnmioutput\n",
      "2020-04-28 00:01:35,258 - ClusterComparator - INFO - resulting 128 nodes out of 128,128\n",
      "INFO:ClusterComparator:resulting 128 nodes out of 128,128\n",
      "2020-04-28 00:01:35,266 - ClusterComparator - INFO - Running /opt/gct/submodules/OvpNMI/onmi /tmp/tmp9_t8mnot/cluster1.cnl /tmp/tmp9_t8mnot/cluster2.cnl > ovpnmioutput\n",
      "INFO:ClusterComparator:Running /opt/gct/submodules/OvpNMI/onmi /tmp/tmp9_t8mnot/cluster1.cnl /tmp/tmp9_t8mnot/cluster2.cnl > ovpnmioutput\n",
      "2020-04-28 00:01:35,285 - ClusterComparator - INFO - resulting 128 nodes out of 128,128\n",
      "INFO:ClusterComparator:resulting 128 nodes out of 128,128\n",
      "2020-04-28 00:01:35,294 - ClusterComparator - INFO - Running /opt/gct/submodules/OvpNMI/onmi /tmp/tmp0rmypdlh/cluster1.cnl /tmp/tmp0rmypdlh/cluster2.cnl > ovpnmioutput\n",
      "INFO:ClusterComparator:Running /opt/gct/submodules/OvpNMI/onmi /tmp/tmp0rmypdlh/cluster1.cnl /tmp/tmp0rmypdlh/cluster2.cnl > ovpnmioutput\n"
     ]
    },
    {
     "name": "stderr",
     "output_type": "stream",
     "text": [
      "2020-04-28 00:01:35,307 - Clustering - INFO - reading/data/data/K_DoesAlgSupportDirTest_1/gt_default.parq\n",
      "INFO:Clustering:reading/data/data/K_DoesAlgSupportDirTest_1/gt_default.parq\n",
      "2020-04-28 00:01:35,313 - ClusterComparator - INFO - resulting 128 nodes out of 128,128\n",
      "INFO:ClusterComparator:resulting 128 nodes out of 128,128\n",
      "2020-04-28 00:01:35,321 - ClusterComparator - INFO - Running /opt/gct/submodules/OvpNMI/onmi /tmp/tmpfrypyq71/cluster1.cnl /tmp/tmpfrypyq71/cluster2.cnl > ovpnmioutput\n",
      "INFO:ClusterComparator:Running /opt/gct/submodules/OvpNMI/onmi /tmp/tmpfrypyq71/cluster1.cnl /tmp/tmpfrypyq71/cluster2.cnl > ovpnmioutput\n",
      "2020-04-28 00:01:35,332 - ClusterComparator - INFO - resulting 128 nodes out of 128,128\n",
      "INFO:ClusterComparator:resulting 128 nodes out of 128,128\n",
      "2020-04-28 00:01:35,341 - ClusterComparator - INFO - Running /opt/gct/submodules/OvpNMI/onmi /tmp/tmplyuf3i2v/cluster1.cnl /tmp/tmplyuf3i2v/cluster2.cnl > ovpnmioutput\n",
      "INFO:ClusterComparator:Running /opt/gct/submodules/OvpNMI/onmi /tmp/tmplyuf3i2v/cluster1.cnl /tmp/tmplyuf3i2v/cluster2.cnl > ovpnmioutput\n",
      "2020-04-28 00:01:35,358 - ClusterComparator - INFO - resulting 128 nodes out of 128,128\n",
      "INFO:ClusterComparator:resulting 128 nodes out of 128,128\n",
      "2020-04-28 00:01:35,368 - ClusterComparator - INFO - Running /opt/gct/submodules/OvpNMI/onmi /tmp/tmplvav0i8e/cluster1.cnl /tmp/tmplvav0i8e/cluster2.cnl > ovpnmioutput\n",
      "INFO:ClusterComparator:Running /opt/gct/submodules/OvpNMI/onmi /tmp/tmplvav0i8e/cluster1.cnl /tmp/tmplvav0i8e/cluster2.cnl > ovpnmioutput\n",
      "2020-04-28 00:01:35,379 - Clustering - INFO - reading/data/data/K_DoesAlgSupportDirTest_1/gt_default.parq\n",
      "INFO:Clustering:reading/data/data/K_DoesAlgSupportDirTest_1/gt_default.parq\n",
      "2020-04-28 00:01:35,385 - ClusterComparator - INFO - resulting 128 nodes out of 128,128\n",
      "INFO:ClusterComparator:resulting 128 nodes out of 128,128\n",
      "2020-04-28 00:01:35,393 - ClusterComparator - INFO - Running /opt/gct/submodules/OvpNMI/onmi /tmp/tmp_n6oytkq/cluster1.cnl /tmp/tmp_n6oytkq/cluster2.cnl > ovpnmioutput\n",
      "INFO:ClusterComparator:Running /opt/gct/submodules/OvpNMI/onmi /tmp/tmp_n6oytkq/cluster1.cnl /tmp/tmp_n6oytkq/cluster2.cnl > ovpnmioutput\n",
      "2020-04-28 00:01:35,404 - ClusterComparator - INFO - resulting 128 nodes out of 128,128\n",
      "INFO:ClusterComparator:resulting 128 nodes out of 128,128\n",
      "2020-04-28 00:01:35,413 - ClusterComparator - INFO - Running /opt/gct/submodules/OvpNMI/onmi /tmp/tmpk701phxq/cluster1.cnl /tmp/tmpk701phxq/cluster2.cnl > ovpnmioutput\n",
      "INFO:ClusterComparator:Running /opt/gct/submodules/OvpNMI/onmi /tmp/tmpk701phxq/cluster1.cnl /tmp/tmpk701phxq/cluster2.cnl > ovpnmioutput\n",
      "2020-04-28 00:01:35,430 - ClusterComparator - INFO - resulting 128 nodes out of 128,128\n",
      "INFO:ClusterComparator:resulting 128 nodes out of 128,128\n",
      "2020-04-28 00:01:35,440 - ClusterComparator - INFO - Running /opt/gct/submodules/OvpNMI/onmi /tmp/tmp_v6hhjma/cluster1.cnl /tmp/tmp_v6hhjma/cluster2.cnl > ovpnmioutput\n",
      "INFO:ClusterComparator:Running /opt/gct/submodules/OvpNMI/onmi /tmp/tmp_v6hhjma/cluster1.cnl /tmp/tmp_v6hhjma/cluster2.cnl > ovpnmioutput\n",
      "2020-04-28 00:01:35,451 - Clustering - INFO - reading/data/data/K_DoesAlgSupportDirTest_1/gt_default.parq\n",
      "INFO:Clustering:reading/data/data/K_DoesAlgSupportDirTest_1/gt_default.parq\n",
      "2020-04-28 00:01:35,457 - ClusterComparator - INFO - resulting 128 nodes out of 128,128\n",
      "INFO:ClusterComparator:resulting 128 nodes out of 128,128\n",
      "2020-04-28 00:01:35,464 - ClusterComparator - INFO - Running /opt/gct/submodules/OvpNMI/onmi /tmp/tmp4bow4jo2/cluster1.cnl /tmp/tmp4bow4jo2/cluster2.cnl > ovpnmioutput\n",
      "INFO:ClusterComparator:Running /opt/gct/submodules/OvpNMI/onmi /tmp/tmp4bow4jo2/cluster1.cnl /tmp/tmp4bow4jo2/cluster2.cnl > ovpnmioutput\n",
      "2020-04-28 00:01:35,475 - ClusterComparator - INFO - resulting 128 nodes out of 128,128\n",
      "INFO:ClusterComparator:resulting 128 nodes out of 128,128\n",
      "2020-04-28 00:01:35,484 - ClusterComparator - INFO - Running /opt/gct/submodules/OvpNMI/onmi /tmp/tmpyfid2ecp/cluster1.cnl /tmp/tmpyfid2ecp/cluster2.cnl > ovpnmioutput\n",
      "INFO:ClusterComparator:Running /opt/gct/submodules/OvpNMI/onmi /tmp/tmpyfid2ecp/cluster1.cnl /tmp/tmpyfid2ecp/cluster2.cnl > ovpnmioutput\n",
      "2020-04-28 00:01:35,502 - ClusterComparator - INFO - resulting 128 nodes out of 128,128\n",
      "INFO:ClusterComparator:resulting 128 nodes out of 128,128\n",
      "2020-04-28 00:01:35,511 - ClusterComparator - INFO - Running /opt/gct/submodules/OvpNMI/onmi /tmp/tmpme051zrt/cluster1.cnl /tmp/tmpme051zrt/cluster2.cnl > ovpnmioutput\n",
      "INFO:ClusterComparator:Running /opt/gct/submodules/OvpNMI/onmi /tmp/tmpme051zrt/cluster1.cnl /tmp/tmpme051zrt/cluster2.cnl > ovpnmioutput\n",
      "2020-04-28 00:01:35,523 - Clustering - INFO - reading/data/data/K_DoesAlgSupportDirTest_1/gt_default.parq\n",
      "INFO:Clustering:reading/data/data/K_DoesAlgSupportDirTest_1/gt_default.parq\n",
      "2020-04-28 00:01:35,529 - ClusterComparator - INFO - resulting 128 nodes out of 128,128\n",
      "INFO:ClusterComparator:resulting 128 nodes out of 128,128\n",
      "2020-04-28 00:01:35,537 - ClusterComparator - INFO - Running /opt/gct/submodules/OvpNMI/onmi /tmp/tmp4z_5a7c8/cluster1.cnl /tmp/tmp4z_5a7c8/cluster2.cnl > ovpnmioutput\n",
      "INFO:ClusterComparator:Running /opt/gct/submodules/OvpNMI/onmi /tmp/tmp4z_5a7c8/cluster1.cnl /tmp/tmp4z_5a7c8/cluster2.cnl > ovpnmioutput\n",
      "2020-04-28 00:01:35,548 - ClusterComparator - INFO - resulting 128 nodes out of 128,128\n",
      "INFO:ClusterComparator:resulting 128 nodes out of 128,128\n",
      "2020-04-28 00:01:35,556 - ClusterComparator - INFO - Running /opt/gct/submodules/OvpNMI/onmi /tmp/tmpvg8yin6d/cluster1.cnl /tmp/tmpvg8yin6d/cluster2.cnl > ovpnmioutput\n",
      "INFO:ClusterComparator:Running /opt/gct/submodules/OvpNMI/onmi /tmp/tmpvg8yin6d/cluster1.cnl /tmp/tmpvg8yin6d/cluster2.cnl > ovpnmioutput\n",
      "2020-04-28 00:01:35,574 - ClusterComparator - INFO - resulting 128 nodes out of 128,128\n",
      "INFO:ClusterComparator:resulting 128 nodes out of 128,128\n",
      "2020-04-28 00:01:35,583 - ClusterComparator - INFO - Running /opt/gct/submodules/OvpNMI/onmi /tmp/tmp9sdfgg19/cluster1.cnl /tmp/tmp9sdfgg19/cluster2.cnl > ovpnmioutput\n",
      "INFO:ClusterComparator:Running /opt/gct/submodules/OvpNMI/onmi /tmp/tmp9sdfgg19/cluster1.cnl /tmp/tmp9sdfgg19/cluster2.cnl > ovpnmioutput\n",
      "2020-04-28 00:01:35,594 - Clustering - INFO - reading/data/data/K_DoesAlgSupportDirTest_1/gt_default.parq\n",
      "INFO:Clustering:reading/data/data/K_DoesAlgSupportDirTest_1/gt_default.parq\n",
      "2020-04-28 00:01:35,600 - ClusterComparator - INFO - resulting 128 nodes out of 128,128\n",
      "INFO:ClusterComparator:resulting 128 nodes out of 128,128\n",
      "2020-04-28 00:01:35,608 - ClusterComparator - INFO - Running /opt/gct/submodules/OvpNMI/onmi /tmp/tmp1gwtnpm3/cluster1.cnl /tmp/tmp1gwtnpm3/cluster2.cnl > ovpnmioutput\n",
      "INFO:ClusterComparator:Running /opt/gct/submodules/OvpNMI/onmi /tmp/tmp1gwtnpm3/cluster1.cnl /tmp/tmp1gwtnpm3/cluster2.cnl > ovpnmioutput\n",
      "2020-04-28 00:01:35,619 - ClusterComparator - INFO - resulting 128 nodes out of 128,128\n",
      "INFO:ClusterComparator:resulting 128 nodes out of 128,128\n",
      "2020-04-28 00:01:35,628 - ClusterComparator - INFO - Running /opt/gct/submodules/OvpNMI/onmi /tmp/tmpxnvx37_3/cluster1.cnl /tmp/tmpxnvx37_3/cluster2.cnl > ovpnmioutput\n",
      "INFO:ClusterComparator:Running /opt/gct/submodules/OvpNMI/onmi /tmp/tmpxnvx37_3/cluster1.cnl /tmp/tmpxnvx37_3/cluster2.cnl > ovpnmioutput\n",
      "2020-04-28 00:01:35,645 - ClusterComparator - INFO - resulting 128 nodes out of 128,128\n",
      "INFO:ClusterComparator:resulting 128 nodes out of 128,128\n",
      "2020-04-28 00:01:35,655 - ClusterComparator - INFO - Running /opt/gct/submodules/OvpNMI/onmi /tmp/tmp1_ipt3uo/cluster1.cnl /tmp/tmp1_ipt3uo/cluster2.cnl > ovpnmioutput\n",
      "INFO:ClusterComparator:Running /opt/gct/submodules/OvpNMI/onmi /tmp/tmp1_ipt3uo/cluster1.cnl /tmp/tmp1_ipt3uo/cluster2.cnl > ovpnmioutput\n",
      "2020-04-28 00:01:35,666 - Clustering - INFO - reading/data/data/K_DoesAlgSupportDirTest_1/gt_default.parq\n",
      "INFO:Clustering:reading/data/data/K_DoesAlgSupportDirTest_1/gt_default.parq\n",
      "2020-04-28 00:01:35,672 - ClusterComparator - INFO - resulting 128 nodes out of 128,128\n",
      "INFO:ClusterComparator:resulting 128 nodes out of 128,128\n",
      "2020-04-28 00:01:35,679 - ClusterComparator - INFO - Running /opt/gct/submodules/OvpNMI/onmi /tmp/tmptl0e3siv/cluster1.cnl /tmp/tmptl0e3siv/cluster2.cnl > ovpnmioutput\n",
      "INFO:ClusterComparator:Running /opt/gct/submodules/OvpNMI/onmi /tmp/tmptl0e3siv/cluster1.cnl /tmp/tmptl0e3siv/cluster2.cnl > ovpnmioutput\n"
     ]
    },
    {
     "name": "stderr",
     "output_type": "stream",
     "text": [
      "2020-04-28 00:01:35,690 - ClusterComparator - INFO - resulting 128 nodes out of 128,128\n",
      "INFO:ClusterComparator:resulting 128 nodes out of 128,128\n",
      "2020-04-28 00:01:35,699 - ClusterComparator - INFO - Running /opt/gct/submodules/OvpNMI/onmi /tmp/tmpyph9_nfw/cluster1.cnl /tmp/tmpyph9_nfw/cluster2.cnl > ovpnmioutput\n",
      "INFO:ClusterComparator:Running /opt/gct/submodules/OvpNMI/onmi /tmp/tmpyph9_nfw/cluster1.cnl /tmp/tmpyph9_nfw/cluster2.cnl > ovpnmioutput\n",
      "2020-04-28 00:01:35,716 - ClusterComparator - INFO - resulting 128 nodes out of 128,128\n",
      "INFO:ClusterComparator:resulting 128 nodes out of 128,128\n",
      "2020-04-28 00:01:35,726 - ClusterComparator - INFO - Running /opt/gct/submodules/OvpNMI/onmi /tmp/tmpd809nnh1/cluster1.cnl /tmp/tmpd809nnh1/cluster2.cnl > ovpnmioutput\n",
      "INFO:ClusterComparator:Running /opt/gct/submodules/OvpNMI/onmi /tmp/tmpd809nnh1/cluster1.cnl /tmp/tmpd809nnh1/cluster2.cnl > ovpnmioutput\n",
      "2020-04-28 00:01:35,737 - Clustering - INFO - reading/data/data/K_DoesAlgSupportDirTest_1/gt_default.parq\n",
      "INFO:Clustering:reading/data/data/K_DoesAlgSupportDirTest_1/gt_default.parq\n",
      "2020-04-28 00:01:35,743 - ClusterComparator - INFO - resulting 128 nodes out of 128,128\n",
      "INFO:ClusterComparator:resulting 128 nodes out of 128,128\n",
      "2020-04-28 00:01:35,751 - ClusterComparator - INFO - Running /opt/gct/submodules/OvpNMI/onmi /tmp/tmphstd8b70/cluster1.cnl /tmp/tmphstd8b70/cluster2.cnl > ovpnmioutput\n",
      "INFO:ClusterComparator:Running /opt/gct/submodules/OvpNMI/onmi /tmp/tmphstd8b70/cluster1.cnl /tmp/tmphstd8b70/cluster2.cnl > ovpnmioutput\n",
      "2020-04-28 00:01:35,762 - ClusterComparator - INFO - resulting 128 nodes out of 128,128\n",
      "INFO:ClusterComparator:resulting 128 nodes out of 128,128\n",
      "2020-04-28 00:01:35,770 - ClusterComparator - INFO - Running /opt/gct/submodules/OvpNMI/onmi /tmp/tmpgwrhqjew/cluster1.cnl /tmp/tmpgwrhqjew/cluster2.cnl > ovpnmioutput\n",
      "INFO:ClusterComparator:Running /opt/gct/submodules/OvpNMI/onmi /tmp/tmpgwrhqjew/cluster1.cnl /tmp/tmpgwrhqjew/cluster2.cnl > ovpnmioutput\n",
      "2020-04-28 00:01:35,788 - ClusterComparator - INFO - resulting 128 nodes out of 128,128\n",
      "INFO:ClusterComparator:resulting 128 nodes out of 128,128\n",
      "2020-04-28 00:01:35,797 - ClusterComparator - INFO - Running /opt/gct/submodules/OvpNMI/onmi /tmp/tmpzrd6xpvi/cluster1.cnl /tmp/tmpzrd6xpvi/cluster2.cnl > ovpnmioutput\n",
      "INFO:ClusterComparator:Running /opt/gct/submodules/OvpNMI/onmi /tmp/tmpzrd6xpvi/cluster1.cnl /tmp/tmpzrd6xpvi/cluster2.cnl > ovpnmioutput\n",
      "2020-04-28 00:01:35,808 - Clustering - INFO - reading/data/data/K_DoesAlgSupportDirTest_1/gt_default.parq\n",
      "INFO:Clustering:reading/data/data/K_DoesAlgSupportDirTest_1/gt_default.parq\n",
      "2020-04-28 00:01:35,815 - ClusterComparator - INFO - resulting 128 nodes out of 128,128\n",
      "INFO:ClusterComparator:resulting 128 nodes out of 128,128\n",
      "2020-04-28 00:01:35,822 - ClusterComparator - INFO - Running /opt/gct/submodules/OvpNMI/onmi /tmp/tmpfxi53f4c/cluster1.cnl /tmp/tmpfxi53f4c/cluster2.cnl > ovpnmioutput\n",
      "INFO:ClusterComparator:Running /opt/gct/submodules/OvpNMI/onmi /tmp/tmpfxi53f4c/cluster1.cnl /tmp/tmpfxi53f4c/cluster2.cnl > ovpnmioutput\n",
      "2020-04-28 00:01:35,833 - ClusterComparator - INFO - resulting 128 nodes out of 128,128\n",
      "INFO:ClusterComparator:resulting 128 nodes out of 128,128\n",
      "2020-04-28 00:01:35,842 - ClusterComparator - INFO - Running /opt/gct/submodules/OvpNMI/onmi /tmp/tmp7jyfiqgf/cluster1.cnl /tmp/tmp7jyfiqgf/cluster2.cnl > ovpnmioutput\n",
      "INFO:ClusterComparator:Running /opt/gct/submodules/OvpNMI/onmi /tmp/tmp7jyfiqgf/cluster1.cnl /tmp/tmp7jyfiqgf/cluster2.cnl > ovpnmioutput\n",
      "2020-04-28 00:01:35,859 - ClusterComparator - INFO - resulting 128 nodes out of 128,128\n",
      "INFO:ClusterComparator:resulting 128 nodes out of 128,128\n",
      "2020-04-28 00:01:35,864 - Clustering - INFO - reading/data/data/K_DoesAlgSupportDirTest_1/gt_default.parq\n",
      "INFO:Clustering:reading/data/data/K_DoesAlgSupportDirTest_1/gt_default.parq\n",
      "2020-04-28 00:01:35,869 - ClusterComparator - INFO - resulting 128 nodes out of 128,128\n",
      "INFO:ClusterComparator:resulting 128 nodes out of 128,128\n",
      "2020-04-28 00:01:35,874 - ClusterComparator - INFO - resulting 128 nodes out of 128,128\n",
      "INFO:ClusterComparator:resulting 128 nodes out of 128,128\n",
      "2020-04-28 00:01:35,884 - ClusterComparator - INFO - resulting 128 nodes out of 128,128\n",
      "INFO:ClusterComparator:resulting 128 nodes out of 128,128\n",
      "2020-04-28 00:01:35,892 - ClusterComparator - INFO - Running /opt/gct/submodules/OvpNMI/onmi /tmp/tmp9vbw8ig1/cluster1.cnl /tmp/tmp9vbw8ig1/cluster2.cnl > ovpnmioutput\n",
      "INFO:ClusterComparator:Running /opt/gct/submodules/OvpNMI/onmi /tmp/tmp9vbw8ig1/cluster1.cnl /tmp/tmp9vbw8ig1/cluster2.cnl > ovpnmioutput\n",
      "2020-04-28 00:01:35,903 - Clustering - INFO - reading/data/data/K_DoesAlgSupportDirTest_1/gt_default.parq\n",
      "INFO:Clustering:reading/data/data/K_DoesAlgSupportDirTest_1/gt_default.parq\n",
      "2020-04-28 00:01:35,910 - ClusterComparator - INFO - resulting 128 nodes out of 128,128\n",
      "INFO:ClusterComparator:resulting 128 nodes out of 128,128\n",
      "2020-04-28 00:01:35,917 - ClusterComparator - INFO - Running /opt/gct/submodules/OvpNMI/onmi /tmp/tmpi7fb5a73/cluster1.cnl /tmp/tmpi7fb5a73/cluster2.cnl > ovpnmioutput\n",
      "INFO:ClusterComparator:Running /opt/gct/submodules/OvpNMI/onmi /tmp/tmpi7fb5a73/cluster1.cnl /tmp/tmpi7fb5a73/cluster2.cnl > ovpnmioutput\n",
      "2020-04-28 00:01:35,928 - ClusterComparator - INFO - resulting 128 nodes out of 128,128\n",
      "INFO:ClusterComparator:resulting 128 nodes out of 128,128\n",
      "2020-04-28 00:01:35,937 - ClusterComparator - INFO - Running /opt/gct/submodules/OvpNMI/onmi /tmp/tmp6x7zelr8/cluster1.cnl /tmp/tmp6x7zelr8/cluster2.cnl > ovpnmioutput\n",
      "INFO:ClusterComparator:Running /opt/gct/submodules/OvpNMI/onmi /tmp/tmp6x7zelr8/cluster1.cnl /tmp/tmp6x7zelr8/cluster2.cnl > ovpnmioutput\n",
      "2020-04-28 00:01:35,954 - ClusterComparator - INFO - resulting 128 nodes out of 128,128\n",
      "INFO:ClusterComparator:resulting 128 nodes out of 128,128\n",
      "2020-04-28 00:01:35,963 - ClusterComparator - INFO - Running /opt/gct/submodules/OvpNMI/onmi /tmp/tmpfo7czgn3/cluster1.cnl /tmp/tmpfo7czgn3/cluster2.cnl > ovpnmioutput\n",
      "INFO:ClusterComparator:Running /opt/gct/submodules/OvpNMI/onmi /tmp/tmpfo7czgn3/cluster1.cnl /tmp/tmpfo7czgn3/cluster2.cnl > ovpnmioutput\n",
      "2020-04-28 00:01:35,975 - Clustering - INFO - reading/data/data/K_DoesAlgSupportDirTest_1/gt_default.parq\n",
      "INFO:Clustering:reading/data/data/K_DoesAlgSupportDirTest_1/gt_default.parq\n",
      "2020-04-28 00:01:35,981 - ClusterComparator - INFO - resulting 128 nodes out of 128,128\n",
      "INFO:ClusterComparator:resulting 128 nodes out of 128,128\n",
      "2020-04-28 00:01:35,988 - ClusterComparator - INFO - Running /opt/gct/submodules/OvpNMI/onmi /tmp/tmppxa6hitr/cluster1.cnl /tmp/tmppxa6hitr/cluster2.cnl > ovpnmioutput\n",
      "INFO:ClusterComparator:Running /opt/gct/submodules/OvpNMI/onmi /tmp/tmppxa6hitr/cluster1.cnl /tmp/tmppxa6hitr/cluster2.cnl > ovpnmioutput\n",
      "2020-04-28 00:01:35,999 - ClusterComparator - INFO - resulting 128 nodes out of 128,128\n",
      "INFO:ClusterComparator:resulting 128 nodes out of 128,128\n",
      "2020-04-28 00:01:36,008 - ClusterComparator - INFO - Running /opt/gct/submodules/OvpNMI/onmi /tmp/tmpelpdsk81/cluster1.cnl /tmp/tmpelpdsk81/cluster2.cnl > ovpnmioutput\n",
      "INFO:ClusterComparator:Running /opt/gct/submodules/OvpNMI/onmi /tmp/tmpelpdsk81/cluster1.cnl /tmp/tmpelpdsk81/cluster2.cnl > ovpnmioutput\n",
      "2020-04-28 00:01:36,025 - ClusterComparator - INFO - resulting 128 nodes out of 128,128\n",
      "INFO:ClusterComparator:resulting 128 nodes out of 128,128\n",
      "2020-04-28 00:01:36,034 - ClusterComparator - INFO - Running /opt/gct/submodules/OvpNMI/onmi /tmp/tmpimcw3mw_/cluster1.cnl /tmp/tmpimcw3mw_/cluster2.cnl > ovpnmioutput\n",
      "INFO:ClusterComparator:Running /opt/gct/submodules/OvpNMI/onmi /tmp/tmpimcw3mw_/cluster1.cnl /tmp/tmpimcw3mw_/cluster2.cnl > ovpnmioutput\n",
      "2020-04-28 00:01:36,046 - Clustering - INFO - reading/data/data/K_DoesAlgSupportDirTest_1/gt_default.parq\n",
      "INFO:Clustering:reading/data/data/K_DoesAlgSupportDirTest_1/gt_default.parq\n",
      "2020-04-28 00:01:36,052 - ClusterComparator - INFO - resulting 128 nodes out of 128,128\n",
      "INFO:ClusterComparator:resulting 128 nodes out of 128,128\n",
      "2020-04-28 00:01:36,059 - ClusterComparator - INFO - Running /opt/gct/submodules/OvpNMI/onmi /tmp/tmpgv8_u0n_/cluster1.cnl /tmp/tmpgv8_u0n_/cluster2.cnl > ovpnmioutput\n",
      "INFO:ClusterComparator:Running /opt/gct/submodules/OvpNMI/onmi /tmp/tmpgv8_u0n_/cluster1.cnl /tmp/tmpgv8_u0n_/cluster2.cnl > ovpnmioutput\n"
     ]
    },
    {
     "name": "stderr",
     "output_type": "stream",
     "text": [
      "2020-04-28 00:01:36,071 - ClusterComparator - INFO - resulting 128 nodes out of 128,128\n",
      "INFO:ClusterComparator:resulting 128 nodes out of 128,128\n",
      "2020-04-28 00:01:36,079 - ClusterComparator - INFO - Running /opt/gct/submodules/OvpNMI/onmi /tmp/tmpd67_aypo/cluster1.cnl /tmp/tmpd67_aypo/cluster2.cnl > ovpnmioutput\n",
      "INFO:ClusterComparator:Running /opt/gct/submodules/OvpNMI/onmi /tmp/tmpd67_aypo/cluster1.cnl /tmp/tmpd67_aypo/cluster2.cnl > ovpnmioutput\n",
      "2020-04-28 00:01:36,097 - ClusterComparator - INFO - resulting 128 nodes out of 128,128\n",
      "INFO:ClusterComparator:resulting 128 nodes out of 128,128\n",
      "2020-04-28 00:01:36,106 - ClusterComparator - INFO - Running /opt/gct/submodules/OvpNMI/onmi /tmp/tmp0fdlu5b4/cluster1.cnl /tmp/tmp0fdlu5b4/cluster2.cnl > ovpnmioutput\n",
      "INFO:ClusterComparator:Running /opt/gct/submodules/OvpNMI/onmi /tmp/tmp0fdlu5b4/cluster1.cnl /tmp/tmp0fdlu5b4/cluster2.cnl > ovpnmioutput\n",
      "2020-04-28 00:01:36,118 - Clustering - INFO - reading/data/data/K_DoesAlgSupportDirTest_1/gt_default.parq\n",
      "INFO:Clustering:reading/data/data/K_DoesAlgSupportDirTest_1/gt_default.parq\n",
      "2020-04-28 00:01:36,124 - ClusterComparator - INFO - resulting 128 nodes out of 128,128\n",
      "INFO:ClusterComparator:resulting 128 nodes out of 128,128\n",
      "2020-04-28 00:01:36,132 - ClusterComparator - INFO - Running /opt/gct/submodules/OvpNMI/onmi /tmp/tmpgfywa1mv/cluster1.cnl /tmp/tmpgfywa1mv/cluster2.cnl > ovpnmioutput\n",
      "INFO:ClusterComparator:Running /opt/gct/submodules/OvpNMI/onmi /tmp/tmpgfywa1mv/cluster1.cnl /tmp/tmpgfywa1mv/cluster2.cnl > ovpnmioutput\n",
      "2020-04-28 00:01:36,142 - ClusterComparator - INFO - resulting 128 nodes out of 128,128\n",
      "INFO:ClusterComparator:resulting 128 nodes out of 128,128\n",
      "2020-04-28 00:01:36,151 - ClusterComparator - INFO - Running /opt/gct/submodules/OvpNMI/onmi /tmp/tmpv_trqi4_/cluster1.cnl /tmp/tmpv_trqi4_/cluster2.cnl > ovpnmioutput\n",
      "INFO:ClusterComparator:Running /opt/gct/submodules/OvpNMI/onmi /tmp/tmpv_trqi4_/cluster1.cnl /tmp/tmpv_trqi4_/cluster2.cnl > ovpnmioutput\n",
      "2020-04-28 00:01:36,168 - ClusterComparator - INFO - resulting 128 nodes out of 128,128\n",
      "INFO:ClusterComparator:resulting 128 nodes out of 128,128\n",
      "2020-04-28 00:01:36,177 - ClusterComparator - INFO - Running /opt/gct/submodules/OvpNMI/onmi /tmp/tmp1ten5ugb/cluster1.cnl /tmp/tmp1ten5ugb/cluster2.cnl > ovpnmioutput\n",
      "INFO:ClusterComparator:Running /opt/gct/submodules/OvpNMI/onmi /tmp/tmp1ten5ugb/cluster1.cnl /tmp/tmp1ten5ugb/cluster2.cnl > ovpnmioutput\n",
      "2020-04-28 00:01:36,189 - Clustering - INFO - reading/data/data/K_DoesAlgSupportDirTest_1/gt_default.parq\n",
      "INFO:Clustering:reading/data/data/K_DoesAlgSupportDirTest_1/gt_default.parq\n",
      "2020-04-28 00:01:36,195 - ClusterComparator - INFO - resulting 128 nodes out of 128,128\n",
      "INFO:ClusterComparator:resulting 128 nodes out of 128,128\n",
      "2020-04-28 00:01:36,203 - ClusterComparator - INFO - Running /opt/gct/submodules/OvpNMI/onmi /tmp/tmphr2dv_ib/cluster1.cnl /tmp/tmphr2dv_ib/cluster2.cnl > ovpnmioutput\n",
      "INFO:ClusterComparator:Running /opt/gct/submodules/OvpNMI/onmi /tmp/tmphr2dv_ib/cluster1.cnl /tmp/tmphr2dv_ib/cluster2.cnl > ovpnmioutput\n",
      "2020-04-28 00:01:36,214 - ClusterComparator - INFO - resulting 128 nodes out of 128,128\n",
      "INFO:ClusterComparator:resulting 128 nodes out of 128,128\n",
      "2020-04-28 00:01:36,222 - ClusterComparator - INFO - Running /opt/gct/submodules/OvpNMI/onmi /tmp/tmp2i6hq89_/cluster1.cnl /tmp/tmp2i6hq89_/cluster2.cnl > ovpnmioutput\n",
      "INFO:ClusterComparator:Running /opt/gct/submodules/OvpNMI/onmi /tmp/tmp2i6hq89_/cluster1.cnl /tmp/tmp2i6hq89_/cluster2.cnl > ovpnmioutput\n",
      "2020-04-28 00:01:36,240 - ClusterComparator - INFO - resulting 128 nodes out of 128,128\n",
      "INFO:ClusterComparator:resulting 128 nodes out of 128,128\n",
      "2020-04-28 00:01:36,247 - Clustering - INFO - reading/data/data/K_DoesAlgSupportDirTest_1/gt_default.parq\n",
      "INFO:Clustering:reading/data/data/K_DoesAlgSupportDirTest_1/gt_default.parq\n",
      "2020-04-28 00:01:36,251 - ClusterComparator - INFO - resulting 128 nodes out of 128,128\n",
      "INFO:ClusterComparator:resulting 128 nodes out of 128,128\n",
      "2020-04-28 00:01:36,256 - ClusterComparator - INFO - resulting 128 nodes out of 128,128\n",
      "INFO:ClusterComparator:resulting 128 nodes out of 128,128\n",
      "2020-04-28 00:01:36,263 - ClusterComparator - INFO - Running /opt/gct/submodules/OvpNMI/onmi /tmp/tmpfy4wslqw/cluster1.cnl /tmp/tmpfy4wslqw/cluster2.cnl > ovpnmioutput\n",
      "INFO:ClusterComparator:Running /opt/gct/submodules/OvpNMI/onmi /tmp/tmpfy4wslqw/cluster1.cnl /tmp/tmpfy4wslqw/cluster2.cnl > ovpnmioutput\n",
      "2020-04-28 00:01:36,280 - ClusterComparator - INFO - resulting 128 nodes out of 128,128\n",
      "INFO:ClusterComparator:resulting 128 nodes out of 128,128\n",
      "2020-04-28 00:01:36,289 - ClusterComparator - INFO - Running /opt/gct/submodules/OvpNMI/onmi /tmp/tmprokhh7eq/cluster1.cnl /tmp/tmprokhh7eq/cluster2.cnl > ovpnmioutput\n",
      "INFO:ClusterComparator:Running /opt/gct/submodules/OvpNMI/onmi /tmp/tmprokhh7eq/cluster1.cnl /tmp/tmprokhh7eq/cluster2.cnl > ovpnmioutput\n",
      "2020-04-28 00:01:36,300 - Clustering - INFO - reading/data/data/K_DoesAlgSupportDirTest_1/gt_default.parq\n",
      "INFO:Clustering:reading/data/data/K_DoesAlgSupportDirTest_1/gt_default.parq\n",
      "2020-04-28 00:01:36,306 - ClusterComparator - INFO - resulting 128 nodes out of 128,128\n",
      "INFO:ClusterComparator:resulting 128 nodes out of 128,128\n",
      "2020-04-28 00:01:36,313 - ClusterComparator - INFO - Running /opt/gct/submodules/OvpNMI/onmi /tmp/tmp_0vxmms3/cluster1.cnl /tmp/tmp_0vxmms3/cluster2.cnl > ovpnmioutput\n",
      "INFO:ClusterComparator:Running /opt/gct/submodules/OvpNMI/onmi /tmp/tmp_0vxmms3/cluster1.cnl /tmp/tmp_0vxmms3/cluster2.cnl > ovpnmioutput\n",
      "2020-04-28 00:01:36,324 - ClusterComparator - INFO - resulting 128 nodes out of 128,128\n",
      "INFO:ClusterComparator:resulting 128 nodes out of 128,128\n",
      "2020-04-28 00:01:36,333 - ClusterComparator - INFO - Running /opt/gct/submodules/OvpNMI/onmi /tmp/tmpdp_q29bg/cluster1.cnl /tmp/tmpdp_q29bg/cluster2.cnl > ovpnmioutput\n",
      "INFO:ClusterComparator:Running /opt/gct/submodules/OvpNMI/onmi /tmp/tmpdp_q29bg/cluster1.cnl /tmp/tmpdp_q29bg/cluster2.cnl > ovpnmioutput\n",
      "2020-04-28 00:01:36,351 - ClusterComparator - INFO - resulting 128 nodes out of 128,128\n",
      "INFO:ClusterComparator:resulting 128 nodes out of 128,128\n",
      "2020-04-28 00:01:36,360 - ClusterComparator - INFO - Running /opt/gct/submodules/OvpNMI/onmi /tmp/tmp45dcf2cl/cluster1.cnl /tmp/tmp45dcf2cl/cluster2.cnl > ovpnmioutput\n",
      "INFO:ClusterComparator:Running /opt/gct/submodules/OvpNMI/onmi /tmp/tmp45dcf2cl/cluster1.cnl /tmp/tmp45dcf2cl/cluster2.cnl > ovpnmioutput\n",
      "2020-04-28 00:01:36,371 - Clustering - INFO - reading/data/data/K_DoesAlgSupportDirTest_1/gt_default.parq\n",
      "INFO:Clustering:reading/data/data/K_DoesAlgSupportDirTest_1/gt_default.parq\n",
      "2020-04-28 00:01:36,377 - ClusterComparator - INFO - resulting 128 nodes out of 128,128\n",
      "INFO:ClusterComparator:resulting 128 nodes out of 128,128\n",
      "2020-04-28 00:01:36,384 - ClusterComparator - INFO - Running /opt/gct/submodules/OvpNMI/onmi /tmp/tmplqxjyjyk/cluster1.cnl /tmp/tmplqxjyjyk/cluster2.cnl > ovpnmioutput\n",
      "INFO:ClusterComparator:Running /opt/gct/submodules/OvpNMI/onmi /tmp/tmplqxjyjyk/cluster1.cnl /tmp/tmplqxjyjyk/cluster2.cnl > ovpnmioutput\n",
      "2020-04-28 00:01:36,395 - ClusterComparator - INFO - resulting 128 nodes out of 128,128\n",
      "INFO:ClusterComparator:resulting 128 nodes out of 128,128\n",
      "2020-04-28 00:01:36,403 - ClusterComparator - INFO - Running /opt/gct/submodules/OvpNMI/onmi /tmp/tmpdbu_m7ip/cluster1.cnl /tmp/tmpdbu_m7ip/cluster2.cnl > ovpnmioutput\n",
      "INFO:ClusterComparator:Running /opt/gct/submodules/OvpNMI/onmi /tmp/tmpdbu_m7ip/cluster1.cnl /tmp/tmpdbu_m7ip/cluster2.cnl > ovpnmioutput\n",
      "2020-04-28 00:01:36,421 - ClusterComparator - INFO - resulting 128 nodes out of 128,128\n",
      "INFO:ClusterComparator:resulting 128 nodes out of 128,128\n",
      "2020-04-28 00:01:36,430 - ClusterComparator - INFO - Running /opt/gct/submodules/OvpNMI/onmi /tmp/tmpgasa50je/cluster1.cnl /tmp/tmpgasa50je/cluster2.cnl > ovpnmioutput\n",
      "INFO:ClusterComparator:Running /opt/gct/submodules/OvpNMI/onmi /tmp/tmpgasa50je/cluster1.cnl /tmp/tmpgasa50je/cluster2.cnl > ovpnmioutput\n",
      "2020-04-28 00:01:36,441 - Clustering - INFO - reading/data/data/K_DoesAlgSupportDirTest_1/gt_default.parq\n",
      "INFO:Clustering:reading/data/data/K_DoesAlgSupportDirTest_1/gt_default.parq\n",
      "2020-04-28 00:01:36,447 - ClusterComparator - INFO - resulting 128 nodes out of 128,128\n"
     ]
    },
    {
     "name": "stderr",
     "output_type": "stream",
     "text": [
      "INFO:ClusterComparator:resulting 128 nodes out of 128,128\n",
      "2020-04-28 00:01:36,454 - ClusterComparator - INFO - Running /opt/gct/submodules/OvpNMI/onmi /tmp/tmpof32288b/cluster1.cnl /tmp/tmpof32288b/cluster2.cnl > ovpnmioutput\n",
      "INFO:ClusterComparator:Running /opt/gct/submodules/OvpNMI/onmi /tmp/tmpof32288b/cluster1.cnl /tmp/tmpof32288b/cluster2.cnl > ovpnmioutput\n",
      "2020-04-28 00:01:36,465 - ClusterComparator - INFO - resulting 128 nodes out of 128,128\n",
      "INFO:ClusterComparator:resulting 128 nodes out of 128,128\n",
      "2020-04-28 00:01:36,473 - ClusterComparator - INFO - Running /opt/gct/submodules/OvpNMI/onmi /tmp/tmpq65y33_j/cluster1.cnl /tmp/tmpq65y33_j/cluster2.cnl > ovpnmioutput\n",
      "INFO:ClusterComparator:Running /opt/gct/submodules/OvpNMI/onmi /tmp/tmpq65y33_j/cluster1.cnl /tmp/tmpq65y33_j/cluster2.cnl > ovpnmioutput\n",
      "2020-04-28 00:01:36,490 - ClusterComparator - INFO - resulting 128 nodes out of 128,128\n",
      "INFO:ClusterComparator:resulting 128 nodes out of 128,128\n",
      "2020-04-28 00:01:36,499 - ClusterComparator - INFO - Running /opt/gct/submodules/OvpNMI/onmi /tmp/tmpqqsg4wbt/cluster1.cnl /tmp/tmpqqsg4wbt/cluster2.cnl > ovpnmioutput\n",
      "INFO:ClusterComparator:Running /opt/gct/submodules/OvpNMI/onmi /tmp/tmpqqsg4wbt/cluster1.cnl /tmp/tmpqqsg4wbt/cluster2.cnl > ovpnmioutput\n",
      "2020-04-28 00:01:36,510 - Clustering - INFO - reading/data/data/K_DoesAlgSupportDirTest_1/gt_default.parq\n",
      "INFO:Clustering:reading/data/data/K_DoesAlgSupportDirTest_1/gt_default.parq\n",
      "2020-04-28 00:01:36,516 - ClusterComparator - INFO - resulting 128 nodes out of 128,128\n",
      "INFO:ClusterComparator:resulting 128 nodes out of 128,128\n",
      "2020-04-28 00:01:36,523 - ClusterComparator - INFO - Running /opt/gct/submodules/OvpNMI/onmi /tmp/tmp1s7ia_i9/cluster1.cnl /tmp/tmp1s7ia_i9/cluster2.cnl > ovpnmioutput\n",
      "INFO:ClusterComparator:Running /opt/gct/submodules/OvpNMI/onmi /tmp/tmp1s7ia_i9/cluster1.cnl /tmp/tmp1s7ia_i9/cluster2.cnl > ovpnmioutput\n",
      "2020-04-28 00:01:36,534 - ClusterComparator - INFO - resulting 128 nodes out of 128,128\n",
      "INFO:ClusterComparator:resulting 128 nodes out of 128,128\n",
      "2020-04-28 00:01:36,543 - ClusterComparator - INFO - Running /opt/gct/submodules/OvpNMI/onmi /tmp/tmplg_kdh26/cluster1.cnl /tmp/tmplg_kdh26/cluster2.cnl > ovpnmioutput\n",
      "INFO:ClusterComparator:Running /opt/gct/submodules/OvpNMI/onmi /tmp/tmplg_kdh26/cluster1.cnl /tmp/tmplg_kdh26/cluster2.cnl > ovpnmioutput\n",
      "2020-04-28 00:01:36,560 - ClusterComparator - INFO - resulting 128 nodes out of 128,128\n",
      "INFO:ClusterComparator:resulting 128 nodes out of 128,128\n",
      "2020-04-28 00:01:36,565 - Clustering - INFO - reading/data/data/K_DoesAlgSupportDirTest_1/gt_default.parq\n",
      "INFO:Clustering:reading/data/data/K_DoesAlgSupportDirTest_1/gt_default.parq\n",
      "2020-04-28 00:01:36,569 - ClusterComparator - INFO - resulting 128 nodes out of 128,128\n",
      "INFO:ClusterComparator:resulting 128 nodes out of 128,128\n",
      "2020-04-28 00:01:36,574 - ClusterComparator - INFO - resulting 128 nodes out of 128,128\n",
      "INFO:ClusterComparator:resulting 128 nodes out of 128,128\n",
      "2020-04-28 00:01:36,584 - ClusterComparator - INFO - resulting 123 nodes out of 123,128\n",
      "INFO:ClusterComparator:resulting 123 nodes out of 123,128\n",
      "2020-04-28 00:01:36,592 - ClusterComparator - INFO - Running /opt/gct/submodules/OvpNMI/onmi /tmp/tmpacq9zk09/cluster1.cnl /tmp/tmpacq9zk09/cluster2.cnl > ovpnmioutput\n",
      "INFO:ClusterComparator:Running /opt/gct/submodules/OvpNMI/onmi /tmp/tmpacq9zk09/cluster1.cnl /tmp/tmpacq9zk09/cluster2.cnl > ovpnmioutput\n",
      "2020-04-28 00:01:36,604 - Clustering - INFO - reading/data/data/K_DoesAlgSupportDirTest_1/gt_default.parq\n",
      "INFO:Clustering:reading/data/data/K_DoesAlgSupportDirTest_1/gt_default.parq\n",
      "2020-04-28 00:01:36,610 - ClusterComparator - INFO - resulting 123 nodes out of 128,123\n",
      "INFO:ClusterComparator:resulting 123 nodes out of 128,123\n",
      "2020-04-28 00:01:36,617 - ClusterComparator - INFO - Running /opt/gct/submodules/OvpNMI/onmi /tmp/tmpvzgpxx1l/cluster1.cnl /tmp/tmpvzgpxx1l/cluster2.cnl > ovpnmioutput\n",
      "INFO:ClusterComparator:Running /opt/gct/submodules/OvpNMI/onmi /tmp/tmpvzgpxx1l/cluster1.cnl /tmp/tmpvzgpxx1l/cluster2.cnl > ovpnmioutput\n",
      "2020-04-28 00:01:36,628 - ClusterComparator - INFO - resulting 128 nodes out of 128,128\n",
      "INFO:ClusterComparator:resulting 128 nodes out of 128,128\n",
      "2020-04-28 00:01:36,637 - ClusterComparator - INFO - Running /opt/gct/submodules/OvpNMI/onmi /tmp/tmpdbzpfzi2/cluster1.cnl /tmp/tmpdbzpfzi2/cluster2.cnl > ovpnmioutput\n",
      "INFO:ClusterComparator:Running /opt/gct/submodules/OvpNMI/onmi /tmp/tmpdbzpfzi2/cluster1.cnl /tmp/tmpdbzpfzi2/cluster2.cnl > ovpnmioutput\n",
      "2020-04-28 00:01:36,654 - ClusterComparator - INFO - resulting 123 nodes out of 123,128\n",
      "INFO:ClusterComparator:resulting 123 nodes out of 123,128\n",
      "2020-04-28 00:01:36,663 - ClusterComparator - INFO - Running /opt/gct/submodules/OvpNMI/onmi /tmp/tmp2x4xpzxc/cluster1.cnl /tmp/tmp2x4xpzxc/cluster2.cnl > ovpnmioutput\n",
      "INFO:ClusterComparator:Running /opt/gct/submodules/OvpNMI/onmi /tmp/tmp2x4xpzxc/cluster1.cnl /tmp/tmp2x4xpzxc/cluster2.cnl > ovpnmioutput\n",
      "2020-04-28 00:01:36,675 - Clustering - INFO - reading/data/data/K_DoesAlgSupportDirTest_1/gt_default.parq\n",
      "INFO:Clustering:reading/data/data/K_DoesAlgSupportDirTest_1/gt_default.parq\n",
      "2020-04-28 00:01:36,681 - ClusterComparator - INFO - resulting 123 nodes out of 128,123\n",
      "INFO:ClusterComparator:resulting 123 nodes out of 128,123\n",
      "2020-04-28 00:01:36,688 - ClusterComparator - INFO - Running /opt/gct/submodules/OvpNMI/onmi /tmp/tmp2wj1t22r/cluster1.cnl /tmp/tmp2wj1t22r/cluster2.cnl > ovpnmioutput\n",
      "INFO:ClusterComparator:Running /opt/gct/submodules/OvpNMI/onmi /tmp/tmp2wj1t22r/cluster1.cnl /tmp/tmp2wj1t22r/cluster2.cnl > ovpnmioutput\n",
      "2020-04-28 00:01:36,699 - ClusterComparator - INFO - resulting 128 nodes out of 128,128\n",
      "INFO:ClusterComparator:resulting 128 nodes out of 128,128\n",
      "2020-04-28 00:01:36,707 - ClusterComparator - INFO - Running /opt/gct/submodules/OvpNMI/onmi /tmp/tmputgoply8/cluster1.cnl /tmp/tmputgoply8/cluster2.cnl > ovpnmioutput\n",
      "INFO:ClusterComparator:Running /opt/gct/submodules/OvpNMI/onmi /tmp/tmputgoply8/cluster1.cnl /tmp/tmputgoply8/cluster2.cnl > ovpnmioutput\n",
      "2020-04-28 00:01:36,724 - ClusterComparator - INFO - resulting 123 nodes out of 123,128\n",
      "INFO:ClusterComparator:resulting 123 nodes out of 123,128\n",
      "2020-04-28 00:01:36,734 - ClusterComparator - INFO - Running /opt/gct/submodules/OvpNMI/onmi /tmp/tmpct_254sd/cluster1.cnl /tmp/tmpct_254sd/cluster2.cnl > ovpnmioutput\n",
      "INFO:ClusterComparator:Running /opt/gct/submodules/OvpNMI/onmi /tmp/tmpct_254sd/cluster1.cnl /tmp/tmpct_254sd/cluster2.cnl > ovpnmioutput\n",
      "2020-04-28 00:01:36,745 - Clustering - INFO - reading/data/data/K_DoesAlgSupportDirTest_1/gt_default.parq\n",
      "INFO:Clustering:reading/data/data/K_DoesAlgSupportDirTest_1/gt_default.parq\n",
      "2020-04-28 00:01:36,751 - ClusterComparator - INFO - resulting 123 nodes out of 128,123\n",
      "INFO:ClusterComparator:resulting 123 nodes out of 128,123\n",
      "2020-04-28 00:01:36,758 - ClusterComparator - INFO - Running /opt/gct/submodules/OvpNMI/onmi /tmp/tmp93_uvx4a/cluster1.cnl /tmp/tmp93_uvx4a/cluster2.cnl > ovpnmioutput\n",
      "INFO:ClusterComparator:Running /opt/gct/submodules/OvpNMI/onmi /tmp/tmp93_uvx4a/cluster1.cnl /tmp/tmp93_uvx4a/cluster2.cnl > ovpnmioutput\n",
      "2020-04-28 00:01:36,769 - ClusterComparator - INFO - resulting 128 nodes out of 128,128\n",
      "INFO:ClusterComparator:resulting 128 nodes out of 128,128\n",
      "2020-04-28 00:01:36,777 - ClusterComparator - INFO - Running /opt/gct/submodules/OvpNMI/onmi /tmp/tmp9dtfxli1/cluster1.cnl /tmp/tmp9dtfxli1/cluster2.cnl > ovpnmioutput\n",
      "INFO:ClusterComparator:Running /opt/gct/submodules/OvpNMI/onmi /tmp/tmp9dtfxli1/cluster1.cnl /tmp/tmp9dtfxli1/cluster2.cnl > ovpnmioutput\n",
      "2020-04-28 00:01:36,794 - ClusterComparator - INFO - resulting 128 nodes out of 128,128\n",
      "INFO:ClusterComparator:resulting 128 nodes out of 128,128\n",
      "2020-04-28 00:01:36,804 - ClusterComparator - INFO - Running /opt/gct/submodules/OvpNMI/onmi /tmp/tmpy9mvi25f/cluster1.cnl /tmp/tmpy9mvi25f/cluster2.cnl > ovpnmioutput\n",
      "INFO:ClusterComparator:Running /opt/gct/submodules/OvpNMI/onmi /tmp/tmpy9mvi25f/cluster1.cnl /tmp/tmpy9mvi25f/cluster2.cnl > ovpnmioutput\n",
      "2020-04-28 00:01:36,815 - Clustering - INFO - reading/data/data/K_DoesAlgSupportDirTest_1/gt_default.parq\n",
      "INFO:Clustering:reading/data/data/K_DoesAlgSupportDirTest_1/gt_default.parq\n"
     ]
    },
    {
     "name": "stderr",
     "output_type": "stream",
     "text": [
      "2020-04-28 00:01:36,821 - ClusterComparator - INFO - resulting 128 nodes out of 128,128\n",
      "INFO:ClusterComparator:resulting 128 nodes out of 128,128\n",
      "2020-04-28 00:01:36,829 - ClusterComparator - INFO - Running /opt/gct/submodules/OvpNMI/onmi /tmp/tmpagg37zjm/cluster1.cnl /tmp/tmpagg37zjm/cluster2.cnl > ovpnmioutput\n",
      "INFO:ClusterComparator:Running /opt/gct/submodules/OvpNMI/onmi /tmp/tmpagg37zjm/cluster1.cnl /tmp/tmpagg37zjm/cluster2.cnl > ovpnmioutput\n",
      "2020-04-28 00:01:36,839 - ClusterComparator - INFO - resulting 128 nodes out of 128,128\n",
      "INFO:ClusterComparator:resulting 128 nodes out of 128,128\n",
      "2020-04-28 00:01:36,848 - ClusterComparator - INFO - Running /opt/gct/submodules/OvpNMI/onmi /tmp/tmpyq_1fjl6/cluster1.cnl /tmp/tmpyq_1fjl6/cluster2.cnl > ovpnmioutput\n",
      "INFO:ClusterComparator:Running /opt/gct/submodules/OvpNMI/onmi /tmp/tmpyq_1fjl6/cluster1.cnl /tmp/tmpyq_1fjl6/cluster2.cnl > ovpnmioutput\n",
      "2020-04-28 00:01:36,865 - ClusterComparator - INFO - resulting 128 nodes out of 128,128\n",
      "INFO:ClusterComparator:resulting 128 nodes out of 128,128\n",
      "2020-04-28 00:01:36,875 - ClusterComparator - INFO - Running /opt/gct/submodules/OvpNMI/onmi /tmp/tmppv1113me/cluster1.cnl /tmp/tmppv1113me/cluster2.cnl > ovpnmioutput\n",
      "INFO:ClusterComparator:Running /opt/gct/submodules/OvpNMI/onmi /tmp/tmppv1113me/cluster1.cnl /tmp/tmppv1113me/cluster2.cnl > ovpnmioutput\n",
      "2020-04-28 00:01:36,886 - Clustering - INFO - reading/data/data/K_DoesAlgSupportDirTest_1/gt_default.parq\n",
      "INFO:Clustering:reading/data/data/K_DoesAlgSupportDirTest_1/gt_default.parq\n",
      "2020-04-28 00:01:36,892 - ClusterComparator - INFO - resulting 128 nodes out of 128,128\n",
      "INFO:ClusterComparator:resulting 128 nodes out of 128,128\n",
      "2020-04-28 00:01:36,899 - ClusterComparator - INFO - Running /opt/gct/submodules/OvpNMI/onmi /tmp/tmp7bfgw4an/cluster1.cnl /tmp/tmp7bfgw4an/cluster2.cnl > ovpnmioutput\n",
      "INFO:ClusterComparator:Running /opt/gct/submodules/OvpNMI/onmi /tmp/tmp7bfgw4an/cluster1.cnl /tmp/tmp7bfgw4an/cluster2.cnl > ovpnmioutput\n",
      "2020-04-28 00:01:36,910 - ClusterComparator - INFO - resulting 128 nodes out of 128,128\n",
      "INFO:ClusterComparator:resulting 128 nodes out of 128,128\n",
      "2020-04-28 00:01:36,919 - ClusterComparator - INFO - Running /opt/gct/submodules/OvpNMI/onmi /tmp/tmpodbiotzq/cluster1.cnl /tmp/tmpodbiotzq/cluster2.cnl > ovpnmioutput\n",
      "INFO:ClusterComparator:Running /opt/gct/submodules/OvpNMI/onmi /tmp/tmpodbiotzq/cluster1.cnl /tmp/tmpodbiotzq/cluster2.cnl > ovpnmioutput\n",
      "2020-04-28 00:01:36,936 - ClusterComparator - INFO - resulting 128 nodes out of 128,128\n",
      "INFO:ClusterComparator:resulting 128 nodes out of 128,128\n",
      "2020-04-28 00:01:36,945 - ClusterComparator - INFO - Running /opt/gct/submodules/OvpNMI/onmi /tmp/tmp4n2bc_u8/cluster1.cnl /tmp/tmp4n2bc_u8/cluster2.cnl > ovpnmioutput\n",
      "INFO:ClusterComparator:Running /opt/gct/submodules/OvpNMI/onmi /tmp/tmp4n2bc_u8/cluster1.cnl /tmp/tmp4n2bc_u8/cluster2.cnl > ovpnmioutput\n",
      "2020-04-28 00:01:36,956 - Clustering - INFO - reading/data/data/K_DoesAlgSupportDirTest_1/gt_default.parq\n",
      "INFO:Clustering:reading/data/data/K_DoesAlgSupportDirTest_1/gt_default.parq\n",
      "2020-04-28 00:01:36,962 - ClusterComparator - INFO - resulting 128 nodes out of 128,128\n",
      "INFO:ClusterComparator:resulting 128 nodes out of 128,128\n",
      "2020-04-28 00:01:36,969 - ClusterComparator - INFO - Running /opt/gct/submodules/OvpNMI/onmi /tmp/tmpc6s1sbt6/cluster1.cnl /tmp/tmpc6s1sbt6/cluster2.cnl > ovpnmioutput\n",
      "INFO:ClusterComparator:Running /opt/gct/submodules/OvpNMI/onmi /tmp/tmpc6s1sbt6/cluster1.cnl /tmp/tmpc6s1sbt6/cluster2.cnl > ovpnmioutput\n",
      "2020-04-28 00:01:36,980 - ClusterComparator - INFO - resulting 128 nodes out of 128,128\n",
      "INFO:ClusterComparator:resulting 128 nodes out of 128,128\n",
      "2020-04-28 00:01:36,988 - ClusterComparator - INFO - Running /opt/gct/submodules/OvpNMI/onmi /tmp/tmpg64k7jmy/cluster1.cnl /tmp/tmpg64k7jmy/cluster2.cnl > ovpnmioutput\n",
      "INFO:ClusterComparator:Running /opt/gct/submodules/OvpNMI/onmi /tmp/tmpg64k7jmy/cluster1.cnl /tmp/tmpg64k7jmy/cluster2.cnl > ovpnmioutput\n",
      "2020-04-28 00:01:37,005 - ClusterComparator - INFO - resulting 128 nodes out of 128,128\n",
      "INFO:ClusterComparator:resulting 128 nodes out of 128,128\n",
      "2020-04-28 00:01:37,023 - ClusterComparator - INFO - Running /opt/gct/submodules/OvpNMI/onmi /tmp/tmpcw0lx3vb/cluster1.cnl /tmp/tmpcw0lx3vb/cluster2.cnl > ovpnmioutput\n",
      "INFO:ClusterComparator:Running /opt/gct/submodules/OvpNMI/onmi /tmp/tmpcw0lx3vb/cluster1.cnl /tmp/tmpcw0lx3vb/cluster2.cnl > ovpnmioutput\n",
      "2020-04-28 00:01:37,035 - Clustering - INFO - reading/data/data/K_DoesAlgSupportDirTest_1/gt_default.parq\n",
      "INFO:Clustering:reading/data/data/K_DoesAlgSupportDirTest_1/gt_default.parq\n",
      "2020-04-28 00:01:37,041 - ClusterComparator - INFO - resulting 128 nodes out of 128,128\n",
      "INFO:ClusterComparator:resulting 128 nodes out of 128,128\n",
      "2020-04-28 00:01:37,052 - ClusterComparator - INFO - Running /opt/gct/submodules/OvpNMI/onmi /tmp/tmpkm9ognep/cluster1.cnl /tmp/tmpkm9ognep/cluster2.cnl > ovpnmioutput\n",
      "INFO:ClusterComparator:Running /opt/gct/submodules/OvpNMI/onmi /tmp/tmpkm9ognep/cluster1.cnl /tmp/tmpkm9ognep/cluster2.cnl > ovpnmioutput\n",
      "2020-04-28 00:01:37,063 - ClusterComparator - ERROR - Run command with error status code 134\n",
      "ERROR:ClusterComparator:Run command with error status code 134\n",
      "2020-04-28 00:01:37,065 - ClusterComparator - INFO - resulting 128 nodes out of 128,128\n",
      "INFO:ClusterComparator:resulting 128 nodes out of 128,128\n",
      "2020-04-28 00:01:37,077 - ClusterComparator - INFO - Running /opt/gct/submodules/OvpNMI/onmi /tmp/tmpl_7bnnid/cluster1.cnl /tmp/tmpl_7bnnid/cluster2.cnl > ovpnmioutput\n",
      "INFO:ClusterComparator:Running /opt/gct/submodules/OvpNMI/onmi /tmp/tmpl_7bnnid/cluster1.cnl /tmp/tmpl_7bnnid/cluster2.cnl > ovpnmioutput\n",
      "2020-04-28 00:01:37,088 - ClusterComparator - ERROR - Run command with error status code 134\n",
      "ERROR:ClusterComparator:Run command with error status code 134\n"
     ]
    }
   ],
   "source": [
    "import pandas as pd\n",
    "lst = [];\n",
    "for alg in  gct.list_algorithms():\n",
    "    for dsname in datasets:\n",
    "        if dsname.startswith(prefix + '_1'):\n",
    "            a = [];columns = []\n",
    "            dsname2 = dsname.replace(prefix + \"_1\", prefix + \"_2\")\n",
    "            a += [alg, dsname, dsname2]\n",
    "            columns += ['alg', 'data1', 'data2']\n",
    "            if dsname + alg in results and dsname2 + alg in results:\n",
    "                cluster1 = gct.to_cluster(results[dsname + alg])\n",
    "                cluster2 = gct.to_cluster(results[dsname2 + alg])\n",
    "                compa = gct.ClusterComparator(cluster1, cluster2)\n",
    "                a += [compa.sklean_nmi(), cluster1.is_overlap, cluster2.is_overlap,\n",
    "                      cluster1.num_cluster, cluster2.num_cluster,\n",
    "                     compa.OvpNMI()['NMImax']]\n",
    "                columns += ['nmi_12', 'ovp1', 'ovp2', \"#c1\", \"#c2\", 'ovpnmi_12']\n",
    "\n",
    "                gt = list(gct.load_local_graph(dsname).get_ground_truth().values())[0]            \n",
    "                compa = gct.ClusterComparator(gt, cluster1)            \n",
    "                a += [compa.sklean_nmi(), compa.OvpNMI()['NMImax']]\n",
    "                columns += ['nmi_t1', 'ovpnmi_t1']\n",
    "\n",
    "                compa = gct.ClusterComparator(gt, cluster2)            \n",
    "                a += [compa.sklean_nmi(), compa.OvpNMI()['NMImax']]\n",
    "                columns += ['nmi_t2', 'ovpnmi_t2']\n",
    "\n",
    "                lst.append(a)\n",
    "\n"
   ]
  },
  {
   "cell_type": "code",
   "execution_count": 20,
   "metadata": {
    "scrolled": false
   },
   "outputs": [
    {
     "data": {
      "text/html": [
       "<div>\n",
       "<style scoped>\n",
       "    .dataframe tbody tr th:only-of-type {\n",
       "        vertical-align: middle;\n",
       "    }\n",
       "\n",
       "    .dataframe tbody tr th {\n",
       "        vertical-align: top;\n",
       "    }\n",
       "\n",
       "    .dataframe thead th {\n",
       "        text-align: right;\n",
       "    }\n",
       "</style>\n",
       "<table border=\"1\" class=\"dataframe\">\n",
       "  <thead>\n",
       "    <tr style=\"text-align: right;\">\n",
       "      <th></th>\n",
       "      <th>alg</th>\n",
       "      <th>data1</th>\n",
       "      <th>data2</th>\n",
       "      <th>nmi_12</th>\n",
       "      <th>ovp1</th>\n",
       "      <th>ovp2</th>\n",
       "      <th>#c1</th>\n",
       "      <th>#c2</th>\n",
       "      <th>ovpnmi_12</th>\n",
       "      <th>nmi_t1</th>\n",
       "      <th>ovpnmi_t1</th>\n",
       "      <th>nmi_t2</th>\n",
       "      <th>ovpnmi_t2</th>\n",
       "    </tr>\n",
       "  </thead>\n",
       "  <tbody>\n",
       "    <tr>\n",
       "      <th>0</th>\n",
       "      <td>oslom_Infohiermap</td>\n",
       "      <td>K_DoesAlgSupportDirTest_1</td>\n",
       "      <td>K_DoesAlgSupportDirTest_2</td>\n",
       "      <td>8.019533e-02</td>\n",
       "      <td>False</td>\n",
       "      <td>False</td>\n",
       "      <td>6.0</td>\n",
       "      <td>6.0</td>\n",
       "      <td>NaN</td>\n",
       "      <td>8.019533e-02</td>\n",
       "      <td>NaN</td>\n",
       "      <td>1.000000e+00</td>\n",
       "      <td>1.000000</td>\n",
       "    </tr>\n",
       "    <tr>\n",
       "      <th>1</th>\n",
       "      <td>oslom_Infomap</td>\n",
       "      <td>K_DoesAlgSupportDirTest_1</td>\n",
       "      <td>K_DoesAlgSupportDirTest_2</td>\n",
       "      <td>1.000000e+00</td>\n",
       "      <td>False</td>\n",
       "      <td>False</td>\n",
       "      <td>6.0</td>\n",
       "      <td>6.0</td>\n",
       "      <td>1.000000</td>\n",
       "      <td>1.000000e+00</td>\n",
       "      <td>1.000000</td>\n",
       "      <td>1.000000e+00</td>\n",
       "      <td>1.000000</td>\n",
       "    </tr>\n",
       "    <tr>\n",
       "      <th>2</th>\n",
       "      <td>oslom_OSLOM</td>\n",
       "      <td>K_DoesAlgSupportDirTest_1</td>\n",
       "      <td>K_DoesAlgSupportDirTest_2</td>\n",
       "      <td>1.000000e+00</td>\n",
       "      <td>False</td>\n",
       "      <td>False</td>\n",
       "      <td>6.0</td>\n",
       "      <td>6.0</td>\n",
       "      <td>1.000000</td>\n",
       "      <td>1.000000e+00</td>\n",
       "      <td>1.000000</td>\n",
       "      <td>1.000000e+00</td>\n",
       "      <td>1.000000</td>\n",
       "    </tr>\n",
       "    <tr>\n",
       "      <th>3</th>\n",
       "      <td>oslom_copra</td>\n",
       "      <td>K_DoesAlgSupportDirTest_1</td>\n",
       "      <td>K_DoesAlgSupportDirTest_2</td>\n",
       "      <td>9.131541e-01</td>\n",
       "      <td>True</td>\n",
       "      <td>True</td>\n",
       "      <td>6.0</td>\n",
       "      <td>6.0</td>\n",
       "      <td>0.863149</td>\n",
       "      <td>9.817896e-01</td>\n",
       "      <td>0.983499</td>\n",
       "      <td>8.804805e-01</td>\n",
       "      <td>0.875279</td>\n",
       "    </tr>\n",
       "    <tr>\n",
       "      <th>4</th>\n",
       "      <td>oslom_louvain_method</td>\n",
       "      <td>K_DoesAlgSupportDirTest_1</td>\n",
       "      <td>K_DoesAlgSupportDirTest_2</td>\n",
       "      <td>1.000000e+00</td>\n",
       "      <td>False</td>\n",
       "      <td>False</td>\n",
       "      <td>6.0</td>\n",
       "      <td>6.0</td>\n",
       "      <td>1.000000</td>\n",
       "      <td>1.000000e+00</td>\n",
       "      <td>1.000000</td>\n",
       "      <td>1.000000e+00</td>\n",
       "      <td>1.000000</td>\n",
       "    </tr>\n",
       "    <tr>\n",
       "      <th>5</th>\n",
       "      <td>oslom_lpm</td>\n",
       "      <td>K_DoesAlgSupportDirTest_1</td>\n",
       "      <td>K_DoesAlgSupportDirTest_2</td>\n",
       "      <td>1.000000e+00</td>\n",
       "      <td>False</td>\n",
       "      <td>False</td>\n",
       "      <td>5.0</td>\n",
       "      <td>5.0</td>\n",
       "      <td>1.000000</td>\n",
       "      <td>9.385531e-01</td>\n",
       "      <td>0.847325</td>\n",
       "      <td>9.385531e-01</td>\n",
       "      <td>0.847325</td>\n",
       "    </tr>\n",
       "    <tr>\n",
       "      <th>6</th>\n",
       "      <td>oslom_modopt</td>\n",
       "      <td>K_DoesAlgSupportDirTest_1</td>\n",
       "      <td>K_DoesAlgSupportDirTest_2</td>\n",
       "      <td>1.000000e+00</td>\n",
       "      <td>False</td>\n",
       "      <td>False</td>\n",
       "      <td>6.0</td>\n",
       "      <td>6.0</td>\n",
       "      <td>1.000000</td>\n",
       "      <td>1.000000e+00</td>\n",
       "      <td>1.000000</td>\n",
       "      <td>1.000000e+00</td>\n",
       "      <td>1.000000</td>\n",
       "    </tr>\n",
       "    <tr>\n",
       "      <th>7</th>\n",
       "      <td>pycabem_GANXiSw</td>\n",
       "      <td>K_DoesAlgSupportDirTest_1</td>\n",
       "      <td>K_DoesAlgSupportDirTest_2</td>\n",
       "      <td>9.546494e-01</td>\n",
       "      <td>False</td>\n",
       "      <td>False</td>\n",
       "      <td>6.0</td>\n",
       "      <td>5.0</td>\n",
       "      <td>0.885584</td>\n",
       "      <td>1.000000e+00</td>\n",
       "      <td>1.000000</td>\n",
       "      <td>9.546494e-01</td>\n",
       "      <td>0.885584</td>\n",
       "    </tr>\n",
       "    <tr>\n",
       "      <th>8</th>\n",
       "      <td>pycabem_HiReCS</td>\n",
       "      <td>K_DoesAlgSupportDirTest_1</td>\n",
       "      <td>K_DoesAlgSupportDirTest_2</td>\n",
       "      <td>9.454628e-01</td>\n",
       "      <td>False</td>\n",
       "      <td>True</td>\n",
       "      <td>6.0</td>\n",
       "      <td>7.0</td>\n",
       "      <td>0.953739</td>\n",
       "      <td>8.362817e-02</td>\n",
       "      <td>NaN</td>\n",
       "      <td>9.354460e-02</td>\n",
       "      <td>NaN</td>\n",
       "    </tr>\n",
       "    <tr>\n",
       "      <th>9</th>\n",
       "      <td>pycabem_LabelRank</td>\n",
       "      <td>K_DoesAlgSupportDirTest_1</td>\n",
       "      <td>K_DoesAlgSupportDirTest_2</td>\n",
       "      <td>1.000000e+00</td>\n",
       "      <td>False</td>\n",
       "      <td>False</td>\n",
       "      <td>6.0</td>\n",
       "      <td>6.0</td>\n",
       "      <td>1.000000</td>\n",
       "      <td>1.000000e+00</td>\n",
       "      <td>1.000000</td>\n",
       "      <td>1.000000e+00</td>\n",
       "      <td>1.000000</td>\n",
       "    </tr>\n",
       "    <tr>\n",
       "      <th>10</th>\n",
       "      <td>cdc_CONGA</td>\n",
       "      <td>K_DoesAlgSupportDirTest_1</td>\n",
       "      <td>K_DoesAlgSupportDirTest_2</td>\n",
       "      <td>2.487395e-01</td>\n",
       "      <td>True</td>\n",
       "      <td>True</td>\n",
       "      <td>5.0</td>\n",
       "      <td>5.0</td>\n",
       "      <td>1.000000</td>\n",
       "      <td>2.812433e-01</td>\n",
       "      <td>0.364354</td>\n",
       "      <td>3.327018e-01</td>\n",
       "      <td>0.364354</td>\n",
       "    </tr>\n",
       "    <tr>\n",
       "      <th>11</th>\n",
       "      <td>cdc_Connected_Iterative_Scan</td>\n",
       "      <td>K_DoesAlgSupportDirTest_1</td>\n",
       "      <td>K_DoesAlgSupportDirTest_2</td>\n",
       "      <td>8.555647e-01</td>\n",
       "      <td>True</td>\n",
       "      <td>True</td>\n",
       "      <td>7.0</td>\n",
       "      <td>7.0</td>\n",
       "      <td>1.000000</td>\n",
       "      <td>9.056940e-01</td>\n",
       "      <td>0.904674</td>\n",
       "      <td>9.214606e-01</td>\n",
       "      <td>0.904674</td>\n",
       "    </tr>\n",
       "    <tr>\n",
       "      <th>12</th>\n",
       "      <td>cdc_EAGLE</td>\n",
       "      <td>K_DoesAlgSupportDirTest_1</td>\n",
       "      <td>K_DoesAlgSupportDirTest_2</td>\n",
       "      <td>4.970314e-01</td>\n",
       "      <td>True</td>\n",
       "      <td>True</td>\n",
       "      <td>20.0</td>\n",
       "      <td>4.0</td>\n",
       "      <td>0.352153</td>\n",
       "      <td>1.313637e-01</td>\n",
       "      <td>NaN</td>\n",
       "      <td>4.798295e-02</td>\n",
       "      <td>0.005579</td>\n",
       "    </tr>\n",
       "    <tr>\n",
       "      <th>13</th>\n",
       "      <td>cdc_FastCpm</td>\n",
       "      <td>K_DoesAlgSupportDirTest_1</td>\n",
       "      <td>K_DoesAlgSupportDirTest_2</td>\n",
       "      <td>6.343624e-01</td>\n",
       "      <td>True</td>\n",
       "      <td>True</td>\n",
       "      <td>2.0</td>\n",
       "      <td>2.0</td>\n",
       "      <td>1.000000</td>\n",
       "      <td>3.344033e-01</td>\n",
       "      <td>0.190370</td>\n",
       "      <td>3.317589e-01</td>\n",
       "      <td>0.190370</td>\n",
       "    </tr>\n",
       "    <tr>\n",
       "      <th>14</th>\n",
       "      <td>cdc_GCE</td>\n",
       "      <td>K_DoesAlgSupportDirTest_1</td>\n",
       "      <td>K_DoesAlgSupportDirTest_2</td>\n",
       "      <td>1.000000e+00</td>\n",
       "      <td>False</td>\n",
       "      <td>False</td>\n",
       "      <td>6.0</td>\n",
       "      <td>6.0</td>\n",
       "      <td>1.000000</td>\n",
       "      <td>1.000000e+00</td>\n",
       "      <td>1.000000</td>\n",
       "      <td>1.000000e+00</td>\n",
       "      <td>1.000000</td>\n",
       "    </tr>\n",
       "    <tr>\n",
       "      <th>15</th>\n",
       "      <td>cdc_LinkCommunities</td>\n",
       "      <td>K_DoesAlgSupportDirTest_1</td>\n",
       "      <td>K_DoesAlgSupportDirTest_2</td>\n",
       "      <td>-5.130039e-17</td>\n",
       "      <td>True</td>\n",
       "      <td>False</td>\n",
       "      <td>515.0</td>\n",
       "      <td>1.0</td>\n",
       "      <td>NaN</td>\n",
       "      <td>5.040529e-01</td>\n",
       "      <td>0.000785</td>\n",
       "      <td>-3.811880e-16</td>\n",
       "      <td>NaN</td>\n",
       "    </tr>\n",
       "    <tr>\n",
       "      <th>16</th>\n",
       "      <td>cdc_MOSES</td>\n",
       "      <td>K_DoesAlgSupportDirTest_1</td>\n",
       "      <td>K_DoesAlgSupportDirTest_2</td>\n",
       "      <td>1.000000e+00</td>\n",
       "      <td>False</td>\n",
       "      <td>False</td>\n",
       "      <td>6.0</td>\n",
       "      <td>6.0</td>\n",
       "      <td>1.000000</td>\n",
       "      <td>1.000000e+00</td>\n",
       "      <td>1.000000</td>\n",
       "      <td>1.000000e+00</td>\n",
       "      <td>1.000000</td>\n",
       "    </tr>\n",
       "    <tr>\n",
       "      <th>17</th>\n",
       "      <td>cdc_MSCD_AFG</td>\n",
       "      <td>K_DoesAlgSupportDirTest_1</td>\n",
       "      <td>K_DoesAlgSupportDirTest_2</td>\n",
       "      <td>1.000000e+00</td>\n",
       "      <td>False</td>\n",
       "      <td>False</td>\n",
       "      <td>6.0</td>\n",
       "      <td>6.0</td>\n",
       "      <td>1.000000</td>\n",
       "      <td>8.362817e-02</td>\n",
       "      <td>NaN</td>\n",
       "      <td>8.362817e-02</td>\n",
       "      <td>NaN</td>\n",
       "    </tr>\n",
       "    <tr>\n",
       "      <th>18</th>\n",
       "      <td>cdc_MSCD_HSLSW</td>\n",
       "      <td>K_DoesAlgSupportDirTest_1</td>\n",
       "      <td>K_DoesAlgSupportDirTest_2</td>\n",
       "      <td>1.000000e+00</td>\n",
       "      <td>False</td>\n",
       "      <td>False</td>\n",
       "      <td>6.0</td>\n",
       "      <td>6.0</td>\n",
       "      <td>1.000000</td>\n",
       "      <td>8.362817e-02</td>\n",
       "      <td>NaN</td>\n",
       "      <td>8.362817e-02</td>\n",
       "      <td>NaN</td>\n",
       "    </tr>\n",
       "    <tr>\n",
       "      <th>19</th>\n",
       "      <td>cdc_MSCD_LFK</td>\n",
       "      <td>K_DoesAlgSupportDirTest_1</td>\n",
       "      <td>K_DoesAlgSupportDirTest_2</td>\n",
       "      <td>1.000000e+00</td>\n",
       "      <td>False</td>\n",
       "      <td>False</td>\n",
       "      <td>6.0</td>\n",
       "      <td>6.0</td>\n",
       "      <td>1.000000</td>\n",
       "      <td>8.362817e-02</td>\n",
       "      <td>NaN</td>\n",
       "      <td>8.362817e-02</td>\n",
       "      <td>NaN</td>\n",
       "    </tr>\n",
       "    <tr>\n",
       "      <th>20</th>\n",
       "      <td>cdc_MSCD_LFK2</td>\n",
       "      <td>K_DoesAlgSupportDirTest_1</td>\n",
       "      <td>K_DoesAlgSupportDirTest_2</td>\n",
       "      <td>9.718190e-01</td>\n",
       "      <td>True</td>\n",
       "      <td>True</td>\n",
       "      <td>8.0</td>\n",
       "      <td>8.0</td>\n",
       "      <td>0.966673</td>\n",
       "      <td>9.906870e-02</td>\n",
       "      <td>NaN</td>\n",
       "      <td>8.362817e-02</td>\n",
       "      <td>NaN</td>\n",
       "    </tr>\n",
       "    <tr>\n",
       "      <th>21</th>\n",
       "      <td>cdc_MSCD_RB</td>\n",
       "      <td>K_DoesAlgSupportDirTest_1</td>\n",
       "      <td>K_DoesAlgSupportDirTest_2</td>\n",
       "      <td>1.000000e+00</td>\n",
       "      <td>False</td>\n",
       "      <td>False</td>\n",
       "      <td>6.0</td>\n",
       "      <td>6.0</td>\n",
       "      <td>1.000000</td>\n",
       "      <td>8.362817e-02</td>\n",
       "      <td>NaN</td>\n",
       "      <td>8.362817e-02</td>\n",
       "      <td>NaN</td>\n",
       "    </tr>\n",
       "    <tr>\n",
       "      <th>22</th>\n",
       "      <td>cdc_MSCD_SO</td>\n",
       "      <td>K_DoesAlgSupportDirTest_1</td>\n",
       "      <td>K_DoesAlgSupportDirTest_2</td>\n",
       "      <td>1.000000e+00</td>\n",
       "      <td>False</td>\n",
       "      <td>False</td>\n",
       "      <td>6.0</td>\n",
       "      <td>6.0</td>\n",
       "      <td>1.000000</td>\n",
       "      <td>8.362817e-02</td>\n",
       "      <td>NaN</td>\n",
       "      <td>8.362817e-02</td>\n",
       "      <td>NaN</td>\n",
       "    </tr>\n",
       "    <tr>\n",
       "      <th>23</th>\n",
       "      <td>cdc_MSCD_SOM</td>\n",
       "      <td>K_DoesAlgSupportDirTest_1</td>\n",
       "      <td>K_DoesAlgSupportDirTest_2</td>\n",
       "      <td>1.000000e+00</td>\n",
       "      <td>False</td>\n",
       "      <td>False</td>\n",
       "      <td>6.0</td>\n",
       "      <td>6.0</td>\n",
       "      <td>1.000000</td>\n",
       "      <td>8.362817e-02</td>\n",
       "      <td>NaN</td>\n",
       "      <td>8.362817e-02</td>\n",
       "      <td>NaN</td>\n",
       "    </tr>\n",
       "    <tr>\n",
       "      <th>24</th>\n",
       "      <td>cdc_ParCPM</td>\n",
       "      <td>K_DoesAlgSupportDirTest_1</td>\n",
       "      <td>K_DoesAlgSupportDirTest_2</td>\n",
       "      <td>1.000000e+00</td>\n",
       "      <td>False</td>\n",
       "      <td>False</td>\n",
       "      <td>1.0</td>\n",
       "      <td>1.0</td>\n",
       "      <td>NaN</td>\n",
       "      <td>-3.811880e-16</td>\n",
       "      <td>NaN</td>\n",
       "      <td>-3.811880e-16</td>\n",
       "      <td>NaN</td>\n",
       "    </tr>\n",
       "    <tr>\n",
       "      <th>25</th>\n",
       "      <td>cdc_SVINET</td>\n",
       "      <td>K_DoesAlgSupportDirTest_1</td>\n",
       "      <td>K_DoesAlgSupportDirTest_2</td>\n",
       "      <td>1.474918e-01</td>\n",
       "      <td>True</td>\n",
       "      <td>True</td>\n",
       "      <td>6.0</td>\n",
       "      <td>6.0</td>\n",
       "      <td>0.310191</td>\n",
       "      <td>3.466986e-01</td>\n",
       "      <td>0.251766</td>\n",
       "      <td>2.893004e-01</td>\n",
       "      <td>0.289690</td>\n",
       "    </tr>\n",
       "    <tr>\n",
       "      <th>26</th>\n",
       "      <td>cdc_TopGC</td>\n",
       "      <td>K_DoesAlgSupportDirTest_1</td>\n",
       "      <td>K_DoesAlgSupportDirTest_2</td>\n",
       "      <td>7.792430e-01</td>\n",
       "      <td>True</td>\n",
       "      <td>True</td>\n",
       "      <td>8.0</td>\n",
       "      <td>11.0</td>\n",
       "      <td>0.145526</td>\n",
       "      <td>8.673803e-01</td>\n",
       "      <td>0.298629</td>\n",
       "      <td>8.589414e-01</td>\n",
       "      <td>0.534060</td>\n",
       "    </tr>\n",
       "    <tr>\n",
       "      <th>27</th>\n",
       "      <td>cdc_clique_modularity</td>\n",
       "      <td>K_DoesAlgSupportDirTest_1</td>\n",
       "      <td>K_DoesAlgSupportDirTest_2</td>\n",
       "      <td>1.000000e+00</td>\n",
       "      <td>False</td>\n",
       "      <td>False</td>\n",
       "      <td>10.0</td>\n",
       "      <td>10.0</td>\n",
       "      <td>1.000000</td>\n",
       "      <td>9.113996e-01</td>\n",
       "      <td>0.821061</td>\n",
       "      <td>9.113996e-01</td>\n",
       "      <td>0.821061</td>\n",
       "    </tr>\n",
       "    <tr>\n",
       "      <th>28</th>\n",
       "      <td>cgcc_CGGC</td>\n",
       "      <td>K_DoesAlgSupportDirTest_1</td>\n",
       "      <td>K_DoesAlgSupportDirTest_2</td>\n",
       "      <td>1.000000e+00</td>\n",
       "      <td>False</td>\n",
       "      <td>False</td>\n",
       "      <td>5.0</td>\n",
       "      <td>5.0</td>\n",
       "      <td>1.000000</td>\n",
       "      <td>9.546494e-01</td>\n",
       "      <td>0.885584</td>\n",
       "      <td>9.546494e-01</td>\n",
       "      <td>0.885584</td>\n",
       "    </tr>\n",
       "    <tr>\n",
       "      <th>29</th>\n",
       "      <td>dct_dlplm</td>\n",
       "      <td>K_DoesAlgSupportDirTest_1</td>\n",
       "      <td>K_DoesAlgSupportDirTest_2</td>\n",
       "      <td>9.344479e-01</td>\n",
       "      <td>False</td>\n",
       "      <td>False</td>\n",
       "      <td>6.0</td>\n",
       "      <td>5.0</td>\n",
       "      <td>0.837752</td>\n",
       "      <td>1.000000e+00</td>\n",
       "      <td>1.000000</td>\n",
       "      <td>9.344479e-01</td>\n",
       "      <td>0.837752</td>\n",
       "    </tr>\n",
       "    <tr>\n",
       "      <th>30</th>\n",
       "      <td>dct_dlslm</td>\n",
       "      <td>K_DoesAlgSupportDirTest_1</td>\n",
       "      <td>K_DoesAlgSupportDirTest_2</td>\n",
       "      <td>9.385531e-01</td>\n",
       "      <td>False</td>\n",
       "      <td>False</td>\n",
       "      <td>6.0</td>\n",
       "      <td>5.0</td>\n",
       "      <td>0.847325</td>\n",
       "      <td>1.000000e+00</td>\n",
       "      <td>1.000000</td>\n",
       "      <td>9.385531e-01</td>\n",
       "      <td>0.847325</td>\n",
       "    </tr>\n",
       "    <tr>\n",
       "      <th>31</th>\n",
       "      <td>dct_dlslm_map_eq</td>\n",
       "      <td>K_DoesAlgSupportDirTest_1</td>\n",
       "      <td>K_DoesAlgSupportDirTest_2</td>\n",
       "      <td>1.000000e+00</td>\n",
       "      <td>False</td>\n",
       "      <td>False</td>\n",
       "      <td>6.0</td>\n",
       "      <td>6.0</td>\n",
       "      <td>1.000000</td>\n",
       "      <td>1.000000e+00</td>\n",
       "      <td>1.000000</td>\n",
       "      <td>1.000000e+00</td>\n",
       "      <td>1.000000</td>\n",
       "    </tr>\n",
       "    <tr>\n",
       "      <th>32</th>\n",
       "      <td>dct_dlslm_no_contraction</td>\n",
       "      <td>K_DoesAlgSupportDirTest_1</td>\n",
       "      <td>K_DoesAlgSupportDirTest_2</td>\n",
       "      <td>1.000000e+00</td>\n",
       "      <td>False</td>\n",
       "      <td>False</td>\n",
       "      <td>6.0</td>\n",
       "      <td>6.0</td>\n",
       "      <td>1.000000</td>\n",
       "      <td>1.000000e+00</td>\n",
       "      <td>1.000000</td>\n",
       "      <td>1.000000e+00</td>\n",
       "      <td>1.000000</td>\n",
       "    </tr>\n",
       "    <tr>\n",
       "      <th>33</th>\n",
       "      <td>dct_dlslm_with_seq</td>\n",
       "      <td>K_DoesAlgSupportDirTest_1</td>\n",
       "      <td>K_DoesAlgSupportDirTest_2</td>\n",
       "      <td>1.000000e+00</td>\n",
       "      <td>False</td>\n",
       "      <td>False</td>\n",
       "      <td>6.0</td>\n",
       "      <td>6.0</td>\n",
       "      <td>1.000000</td>\n",
       "      <td>1.000000e+00</td>\n",
       "      <td>1.000000</td>\n",
       "      <td>1.000000e+00</td>\n",
       "      <td>1.000000</td>\n",
       "    </tr>\n",
       "    <tr>\n",
       "      <th>34</th>\n",
       "      <td>dct_infomap</td>\n",
       "      <td>K_DoesAlgSupportDirTest_1</td>\n",
       "      <td>K_DoesAlgSupportDirTest_2</td>\n",
       "      <td>1.000000e+00</td>\n",
       "      <td>False</td>\n",
       "      <td>False</td>\n",
       "      <td>6.0</td>\n",
       "      <td>6.0</td>\n",
       "      <td>1.000000</td>\n",
       "      <td>1.000000e+00</td>\n",
       "      <td>1.000000</td>\n",
       "      <td>1.000000e+00</td>\n",
       "      <td>1.000000</td>\n",
       "    </tr>\n",
       "    <tr>\n",
       "      <th>35</th>\n",
       "      <td>dct_seq_louvain</td>\n",
       "      <td>K_DoesAlgSupportDirTest_1</td>\n",
       "      <td>K_DoesAlgSupportDirTest_2</td>\n",
       "      <td>1.000000e+00</td>\n",
       "      <td>False</td>\n",
       "      <td>False</td>\n",
       "      <td>6.0</td>\n",
       "      <td>6.0</td>\n",
       "      <td>1.000000</td>\n",
       "      <td>1.000000e+00</td>\n",
       "      <td>1.000000</td>\n",
       "      <td>1.000000e+00</td>\n",
       "      <td>1.000000</td>\n",
       "    </tr>\n",
       "    <tr>\n",
       "      <th>36</th>\n",
       "      <td>igraph_community_label_propagation</td>\n",
       "      <td>K_DoesAlgSupportDirTest_1</td>\n",
       "      <td>K_DoesAlgSupportDirTest_2</td>\n",
       "      <td>1.000000e+00</td>\n",
       "      <td>False</td>\n",
       "      <td>False</td>\n",
       "      <td>6.0</td>\n",
       "      <td>6.0</td>\n",
       "      <td>1.000000</td>\n",
       "      <td>1.000000e+00</td>\n",
       "      <td>1.000000</td>\n",
       "      <td>1.000000e+00</td>\n",
       "      <td>1.000000</td>\n",
       "    </tr>\n",
       "    <tr>\n",
       "      <th>37</th>\n",
       "      <td>igraph_community_spinglass</td>\n",
       "      <td>K_DoesAlgSupportDirTest_1</td>\n",
       "      <td>K_DoesAlgSupportDirTest_2</td>\n",
       "      <td>1.000000e+00</td>\n",
       "      <td>False</td>\n",
       "      <td>False</td>\n",
       "      <td>6.0</td>\n",
       "      <td>6.0</td>\n",
       "      <td>1.000000</td>\n",
       "      <td>1.000000e+00</td>\n",
       "      <td>1.000000</td>\n",
       "      <td>1.000000e+00</td>\n",
       "      <td>1.000000</td>\n",
       "    </tr>\n",
       "    <tr>\n",
       "      <th>38</th>\n",
       "      <td>igraph_community_walktrap</td>\n",
       "      <td>K_DoesAlgSupportDirTest_1</td>\n",
       "      <td>K_DoesAlgSupportDirTest_2</td>\n",
       "      <td>1.000000e+00</td>\n",
       "      <td>False</td>\n",
       "      <td>False</td>\n",
       "      <td>6.0</td>\n",
       "      <td>6.0</td>\n",
       "      <td>1.000000</td>\n",
       "      <td>1.000000e+00</td>\n",
       "      <td>1.000000</td>\n",
       "      <td>1.000000e+00</td>\n",
       "      <td>1.000000</td>\n",
       "    </tr>\n",
       "    <tr>\n",
       "      <th>39</th>\n",
       "      <td>networkit_CutClustering</td>\n",
       "      <td>K_DoesAlgSupportDirTest_1</td>\n",
       "      <td>K_DoesAlgSupportDirTest_2</td>\n",
       "      <td>1.000000e+00</td>\n",
       "      <td>False</td>\n",
       "      <td>False</td>\n",
       "      <td>1.0</td>\n",
       "      <td>1.0</td>\n",
       "      <td>NaN</td>\n",
       "      <td>-3.811880e-16</td>\n",
       "      <td>NaN</td>\n",
       "      <td>-3.811880e-16</td>\n",
       "      <td>NaN</td>\n",
       "    </tr>\n",
       "    <tr>\n",
       "      <th>40</th>\n",
       "      <td>networkit_LPDegreeOrdered</td>\n",
       "      <td>K_DoesAlgSupportDirTest_1</td>\n",
       "      <td>K_DoesAlgSupportDirTest_2</td>\n",
       "      <td>1.000000e+00</td>\n",
       "      <td>False</td>\n",
       "      <td>False</td>\n",
       "      <td>5.0</td>\n",
       "      <td>5.0</td>\n",
       "      <td>1.000000</td>\n",
       "      <td>9.235942e-01</td>\n",
       "      <td>0.812795</td>\n",
       "      <td>9.235942e-01</td>\n",
       "      <td>0.812795</td>\n",
       "    </tr>\n",
       "    <tr>\n",
       "      <th>41</th>\n",
       "      <td>networkit_PLM</td>\n",
       "      <td>K_DoesAlgSupportDirTest_1</td>\n",
       "      <td>K_DoesAlgSupportDirTest_2</td>\n",
       "      <td>1.000000e+00</td>\n",
       "      <td>False</td>\n",
       "      <td>False</td>\n",
       "      <td>6.0</td>\n",
       "      <td>6.0</td>\n",
       "      <td>1.000000</td>\n",
       "      <td>1.000000e+00</td>\n",
       "      <td>1.000000</td>\n",
       "      <td>1.000000e+00</td>\n",
       "      <td>1.000000</td>\n",
       "    </tr>\n",
       "    <tr>\n",
       "      <th>42</th>\n",
       "      <td>networkit_PLP</td>\n",
       "      <td>K_DoesAlgSupportDirTest_1</td>\n",
       "      <td>K_DoesAlgSupportDirTest_2</td>\n",
       "      <td>7.355010e-01</td>\n",
       "      <td>False</td>\n",
       "      <td>False</td>\n",
       "      <td>5.0</td>\n",
       "      <td>4.0</td>\n",
       "      <td>0.607341</td>\n",
       "      <td>9.235942e-01</td>\n",
       "      <td>0.812795</td>\n",
       "      <td>8.396506e-01</td>\n",
       "      <td>0.682038</td>\n",
       "    </tr>\n",
       "    <tr>\n",
       "      <th>43</th>\n",
       "      <td>alg_GossipMap</td>\n",
       "      <td>K_DoesAlgSupportDirTest_1</td>\n",
       "      <td>K_DoesAlgSupportDirTest_2</td>\n",
       "      <td>1.000000e+00</td>\n",
       "      <td>False</td>\n",
       "      <td>False</td>\n",
       "      <td>6.0</td>\n",
       "      <td>6.0</td>\n",
       "      <td>1.000000</td>\n",
       "      <td>1.000000e+00</td>\n",
       "      <td>1.000000</td>\n",
       "      <td>1.000000e+00</td>\n",
       "      <td>1.000000</td>\n",
       "    </tr>\n",
       "    <tr>\n",
       "      <th>44</th>\n",
       "      <td>alg_RelaxMap</td>\n",
       "      <td>K_DoesAlgSupportDirTest_1</td>\n",
       "      <td>K_DoesAlgSupportDirTest_2</td>\n",
       "      <td>1.000000e+00</td>\n",
       "      <td>False</td>\n",
       "      <td>False</td>\n",
       "      <td>6.0</td>\n",
       "      <td>6.0</td>\n",
       "      <td>1.000000</td>\n",
       "      <td>1.000000e+00</td>\n",
       "      <td>1.000000</td>\n",
       "      <td>1.000000e+00</td>\n",
       "      <td>1.000000</td>\n",
       "    </tr>\n",
       "    <tr>\n",
       "      <th>45</th>\n",
       "      <td>alg_pg_label_propagation</td>\n",
       "      <td>K_DoesAlgSupportDirTest_1</td>\n",
       "      <td>K_DoesAlgSupportDirTest_2</td>\n",
       "      <td>-3.521852e-17</td>\n",
       "      <td>False</td>\n",
       "      <td>False</td>\n",
       "      <td>1.0</td>\n",
       "      <td>5.0</td>\n",
       "      <td>NaN</td>\n",
       "      <td>-3.811880e-16</td>\n",
       "      <td>NaN</td>\n",
       "      <td>9.484527e-01</td>\n",
       "      <td>0.870716</td>\n",
       "    </tr>\n",
       "    <tr>\n",
       "      <th>46</th>\n",
       "      <td>scan_AnyScan_Scan</td>\n",
       "      <td>K_DoesAlgSupportDirTest_1</td>\n",
       "      <td>K_DoesAlgSupportDirTest_2</td>\n",
       "      <td>1.000000e+00</td>\n",
       "      <td>False</td>\n",
       "      <td>False</td>\n",
       "      <td>6.0</td>\n",
       "      <td>6.0</td>\n",
       "      <td>1.000000</td>\n",
       "      <td>1.000000e+00</td>\n",
       "      <td>1.000000</td>\n",
       "      <td>1.000000e+00</td>\n",
       "      <td>1.000000</td>\n",
       "    </tr>\n",
       "    <tr>\n",
       "      <th>47</th>\n",
       "      <td>scan_AnyScan_anyScan</td>\n",
       "      <td>K_DoesAlgSupportDirTest_1</td>\n",
       "      <td>K_DoesAlgSupportDirTest_2</td>\n",
       "      <td>1.000000e+00</td>\n",
       "      <td>False</td>\n",
       "      <td>False</td>\n",
       "      <td>6.0</td>\n",
       "      <td>6.0</td>\n",
       "      <td>1.000000</td>\n",
       "      <td>1.000000e+00</td>\n",
       "      <td>1.000000</td>\n",
       "      <td>1.000000e+00</td>\n",
       "      <td>1.000000</td>\n",
       "    </tr>\n",
       "    <tr>\n",
       "      <th>48</th>\n",
       "      <td>scan_AnyScan_anyScanParl</td>\n",
       "      <td>K_DoesAlgSupportDirTest_1</td>\n",
       "      <td>K_DoesAlgSupportDirTest_2</td>\n",
       "      <td>1.000000e+00</td>\n",
       "      <td>False</td>\n",
       "      <td>False</td>\n",
       "      <td>6.0</td>\n",
       "      <td>6.0</td>\n",
       "      <td>1.000000</td>\n",
       "      <td>1.000000e+00</td>\n",
       "      <td>1.000000</td>\n",
       "      <td>1.000000e+00</td>\n",
       "      <td>1.000000</td>\n",
       "    </tr>\n",
       "    <tr>\n",
       "      <th>49</th>\n",
       "      <td>scan_AnyScan_pScan</td>\n",
       "      <td>K_DoesAlgSupportDirTest_1</td>\n",
       "      <td>K_DoesAlgSupportDirTest_2</td>\n",
       "      <td>1.000000e+00</td>\n",
       "      <td>False</td>\n",
       "      <td>False</td>\n",
       "      <td>6.0</td>\n",
       "      <td>6.0</td>\n",
       "      <td>1.000000</td>\n",
       "      <td>1.000000e+00</td>\n",
       "      <td>1.000000</td>\n",
       "      <td>1.000000e+00</td>\n",
       "      <td>1.000000</td>\n",
       "    </tr>\n",
       "    <tr>\n",
       "      <th>50</th>\n",
       "      <td>scan_Scanpp</td>\n",
       "      <td>K_DoesAlgSupportDirTest_1</td>\n",
       "      <td>K_DoesAlgSupportDirTest_2</td>\n",
       "      <td>1.000000e+00</td>\n",
       "      <td>False</td>\n",
       "      <td>False</td>\n",
       "      <td>1.0</td>\n",
       "      <td>1.0</td>\n",
       "      <td>NaN</td>\n",
       "      <td>-3.811880e-16</td>\n",
       "      <td>NaN</td>\n",
       "      <td>-3.811880e-16</td>\n",
       "      <td>NaN</td>\n",
       "    </tr>\n",
       "    <tr>\n",
       "      <th>51</th>\n",
       "      <td>scan_pScan</td>\n",
       "      <td>K_DoesAlgSupportDirTest_1</td>\n",
       "      <td>K_DoesAlgSupportDirTest_2</td>\n",
       "      <td>1.000000e+00</td>\n",
       "      <td>False</td>\n",
       "      <td>False</td>\n",
       "      <td>6.0</td>\n",
       "      <td>6.0</td>\n",
       "      <td>0.933337</td>\n",
       "      <td>1.000000e+00</td>\n",
       "      <td>0.933337</td>\n",
       "      <td>1.000000e+00</td>\n",
       "      <td>1.000000</td>\n",
       "    </tr>\n",
       "    <tr>\n",
       "      <th>52</th>\n",
       "      <td>scan_ppScan</td>\n",
       "      <td>K_DoesAlgSupportDirTest_1</td>\n",
       "      <td>K_DoesAlgSupportDirTest_2</td>\n",
       "      <td>1.000000e+00</td>\n",
       "      <td>False</td>\n",
       "      <td>False</td>\n",
       "      <td>6.0</td>\n",
       "      <td>6.0</td>\n",
       "      <td>0.933337</td>\n",
       "      <td>1.000000e+00</td>\n",
       "      <td>0.933337</td>\n",
       "      <td>1.000000e+00</td>\n",
       "      <td>1.000000</td>\n",
       "    </tr>\n",
       "    <tr>\n",
       "      <th>53</th>\n",
       "      <td>scan_ppScanSSE</td>\n",
       "      <td>K_DoesAlgSupportDirTest_1</td>\n",
       "      <td>K_DoesAlgSupportDirTest_2</td>\n",
       "      <td>1.000000e+00</td>\n",
       "      <td>False</td>\n",
       "      <td>False</td>\n",
       "      <td>6.0</td>\n",
       "      <td>6.0</td>\n",
       "      <td>0.933337</td>\n",
       "      <td>1.000000e+00</td>\n",
       "      <td>0.933337</td>\n",
       "      <td>1.000000e+00</td>\n",
       "      <td>1.000000</td>\n",
       "    </tr>\n",
       "    <tr>\n",
       "      <th>54</th>\n",
       "      <td>sklearn_AffinityPropagation</td>\n",
       "      <td>K_DoesAlgSupportDirTest_1</td>\n",
       "      <td>K_DoesAlgSupportDirTest_2</td>\n",
       "      <td>5.322350e-01</td>\n",
       "      <td>False</td>\n",
       "      <td>False</td>\n",
       "      <td>7.0</td>\n",
       "      <td>6.0</td>\n",
       "      <td>0.393165</td>\n",
       "      <td>7.177382e-01</td>\n",
       "      <td>0.595369</td>\n",
       "      <td>6.566116e-01</td>\n",
       "      <td>0.546515</td>\n",
       "    </tr>\n",
       "    <tr>\n",
       "      <th>55</th>\n",
       "      <td>sklearn_SpectralClustering</td>\n",
       "      <td>K_DoesAlgSupportDirTest_1</td>\n",
       "      <td>K_DoesAlgSupportDirTest_2</td>\n",
       "      <td>8.895801e-01</td>\n",
       "      <td>False</td>\n",
       "      <td>False</td>\n",
       "      <td>8.0</td>\n",
       "      <td>8.0</td>\n",
       "      <td>0.750858</td>\n",
       "      <td>9.193202e-01</td>\n",
       "      <td>0.826086</td>\n",
       "      <td>9.266030e-01</td>\n",
       "      <td>0.839800</td>\n",
       "    </tr>\n",
       "    <tr>\n",
       "      <th>56</th>\n",
       "      <td>alg_lso_cluster</td>\n",
       "      <td>K_DoesAlgSupportDirTest_1</td>\n",
       "      <td>K_DoesAlgSupportDirTest_2</td>\n",
       "      <td>8.798865e-01</td>\n",
       "      <td>False</td>\n",
       "      <td>False</td>\n",
       "      <td>6.0</td>\n",
       "      <td>5.0</td>\n",
       "      <td>0.762583</td>\n",
       "      <td>1.000000e+00</td>\n",
       "      <td>1.000000</td>\n",
       "      <td>8.798865e-01</td>\n",
       "      <td>0.762583</td>\n",
       "    </tr>\n",
       "    <tr>\n",
       "      <th>57</th>\n",
       "      <td>alg_streamcom</td>\n",
       "      <td>K_DoesAlgSupportDirTest_1</td>\n",
       "      <td>K_DoesAlgSupportDirTest_2</td>\n",
       "      <td>8.231533e-01</td>\n",
       "      <td>False</td>\n",
       "      <td>False</td>\n",
       "      <td>69.0</td>\n",
       "      <td>65.0</td>\n",
       "      <td>0.201925</td>\n",
       "      <td>5.452625e-01</td>\n",
       "      <td>NaN</td>\n",
       "      <td>5.191422e-01</td>\n",
       "      <td>NaN</td>\n",
       "    </tr>\n",
       "    <tr>\n",
       "      <th>58</th>\n",
       "      <td>cdc_CliquePercolation</td>\n",
       "      <td>None</td>\n",
       "      <td>None</td>\n",
       "      <td>NaN</td>\n",
       "      <td>None</td>\n",
       "      <td>None</td>\n",
       "      <td>NaN</td>\n",
       "      <td>NaN</td>\n",
       "      <td>NaN</td>\n",
       "      <td>NaN</td>\n",
       "      <td>NaN</td>\n",
       "      <td>NaN</td>\n",
       "      <td>NaN</td>\n",
       "    </tr>\n",
       "    <tr>\n",
       "      <th>59</th>\n",
       "      <td>cdc_DEMON</td>\n",
       "      <td>None</td>\n",
       "      <td>None</td>\n",
       "      <td>NaN</td>\n",
       "      <td>None</td>\n",
       "      <td>None</td>\n",
       "      <td>NaN</td>\n",
       "      <td>NaN</td>\n",
       "      <td>NaN</td>\n",
       "      <td>NaN</td>\n",
       "      <td>NaN</td>\n",
       "      <td>NaN</td>\n",
       "      <td>NaN</td>\n",
       "    </tr>\n",
       "    <tr>\n",
       "      <th>60</th>\n",
       "      <td>cdc_HDEMON</td>\n",
       "      <td>None</td>\n",
       "      <td>None</td>\n",
       "      <td>NaN</td>\n",
       "      <td>None</td>\n",
       "      <td>None</td>\n",
       "      <td>NaN</td>\n",
       "      <td>NaN</td>\n",
       "      <td>NaN</td>\n",
       "      <td>NaN</td>\n",
       "      <td>NaN</td>\n",
       "      <td>NaN</td>\n",
       "      <td>NaN</td>\n",
       "    </tr>\n",
       "    <tr>\n",
       "      <th>61</th>\n",
       "      <td>cdc_MSCD_RN</td>\n",
       "      <td>None</td>\n",
       "      <td>None</td>\n",
       "      <td>NaN</td>\n",
       "      <td>None</td>\n",
       "      <td>None</td>\n",
       "      <td>NaN</td>\n",
       "      <td>NaN</td>\n",
       "      <td>NaN</td>\n",
       "      <td>NaN</td>\n",
       "      <td>NaN</td>\n",
       "      <td>NaN</td>\n",
       "      <td>NaN</td>\n",
       "    </tr>\n",
       "    <tr>\n",
       "      <th>62</th>\n",
       "      <td>igraph_community_edge_betweenness</td>\n",
       "      <td>None</td>\n",
       "      <td>None</td>\n",
       "      <td>NaN</td>\n",
       "      <td>None</td>\n",
       "      <td>None</td>\n",
       "      <td>NaN</td>\n",
       "      <td>NaN</td>\n",
       "      <td>NaN</td>\n",
       "      <td>NaN</td>\n",
       "      <td>NaN</td>\n",
       "      <td>NaN</td>\n",
       "      <td>NaN</td>\n",
       "    </tr>\n",
       "    <tr>\n",
       "      <th>63</th>\n",
       "      <td>igraph_community_fastgreedy</td>\n",
       "      <td>None</td>\n",
       "      <td>None</td>\n",
       "      <td>NaN</td>\n",
       "      <td>None</td>\n",
       "      <td>None</td>\n",
       "      <td>NaN</td>\n",
       "      <td>NaN</td>\n",
       "      <td>NaN</td>\n",
       "      <td>NaN</td>\n",
       "      <td>NaN</td>\n",
       "      <td>NaN</td>\n",
       "      <td>NaN</td>\n",
       "    </tr>\n",
       "    <tr>\n",
       "      <th>64</th>\n",
       "      <td>igraph_community_infomap</td>\n",
       "      <td>None</td>\n",
       "      <td>None</td>\n",
       "      <td>NaN</td>\n",
       "      <td>None</td>\n",
       "      <td>None</td>\n",
       "      <td>NaN</td>\n",
       "      <td>NaN</td>\n",
       "      <td>NaN</td>\n",
       "      <td>NaN</td>\n",
       "      <td>NaN</td>\n",
       "      <td>NaN</td>\n",
       "      <td>NaN</td>\n",
       "    </tr>\n",
       "    <tr>\n",
       "      <th>65</th>\n",
       "      <td>igraph_community_leading_eigenvector</td>\n",
       "      <td>None</td>\n",
       "      <td>None</td>\n",
       "      <td>NaN</td>\n",
       "      <td>None</td>\n",
       "      <td>None</td>\n",
       "      <td>NaN</td>\n",
       "      <td>NaN</td>\n",
       "      <td>NaN</td>\n",
       "      <td>NaN</td>\n",
       "      <td>NaN</td>\n",
       "      <td>NaN</td>\n",
       "      <td>NaN</td>\n",
       "    </tr>\n",
       "    <tr>\n",
       "      <th>66</th>\n",
       "      <td>igraph_community_multilevel</td>\n",
       "      <td>None</td>\n",
       "      <td>None</td>\n",
       "      <td>NaN</td>\n",
       "      <td>None</td>\n",
       "      <td>None</td>\n",
       "      <td>NaN</td>\n",
       "      <td>NaN</td>\n",
       "      <td>NaN</td>\n",
       "      <td>NaN</td>\n",
       "      <td>NaN</td>\n",
       "      <td>NaN</td>\n",
       "      <td>NaN</td>\n",
       "    </tr>\n",
       "    <tr>\n",
       "      <th>67</th>\n",
       "      <td>igraph_community_optimal_modularity</td>\n",
       "      <td>None</td>\n",
       "      <td>None</td>\n",
       "      <td>NaN</td>\n",
       "      <td>None</td>\n",
       "      <td>None</td>\n",
       "      <td>NaN</td>\n",
       "      <td>NaN</td>\n",
       "      <td>NaN</td>\n",
       "      <td>NaN</td>\n",
       "      <td>NaN</td>\n",
       "      <td>NaN</td>\n",
       "      <td>NaN</td>\n",
       "    </tr>\n",
       "    <tr>\n",
       "      <th>68</th>\n",
       "      <td>karateclub_BigClam</td>\n",
       "      <td>None</td>\n",
       "      <td>None</td>\n",
       "      <td>NaN</td>\n",
       "      <td>None</td>\n",
       "      <td>None</td>\n",
       "      <td>NaN</td>\n",
       "      <td>NaN</td>\n",
       "      <td>NaN</td>\n",
       "      <td>NaN</td>\n",
       "      <td>NaN</td>\n",
       "      <td>NaN</td>\n",
       "      <td>NaN</td>\n",
       "    </tr>\n",
       "    <tr>\n",
       "      <th>69</th>\n",
       "      <td>karateclub_DANMF</td>\n",
       "      <td>None</td>\n",
       "      <td>None</td>\n",
       "      <td>NaN</td>\n",
       "      <td>None</td>\n",
       "      <td>None</td>\n",
       "      <td>NaN</td>\n",
       "      <td>NaN</td>\n",
       "      <td>NaN</td>\n",
       "      <td>NaN</td>\n",
       "      <td>NaN</td>\n",
       "      <td>NaN</td>\n",
       "      <td>NaN</td>\n",
       "    </tr>\n",
       "    <tr>\n",
       "      <th>70</th>\n",
       "      <td>karateclub_EdMot</td>\n",
       "      <td>None</td>\n",
       "      <td>None</td>\n",
       "      <td>NaN</td>\n",
       "      <td>None</td>\n",
       "      <td>None</td>\n",
       "      <td>NaN</td>\n",
       "      <td>NaN</td>\n",
       "      <td>NaN</td>\n",
       "      <td>NaN</td>\n",
       "      <td>NaN</td>\n",
       "      <td>NaN</td>\n",
       "      <td>NaN</td>\n",
       "    </tr>\n",
       "    <tr>\n",
       "      <th>71</th>\n",
       "      <td>karateclub_EgoNetSplitter</td>\n",
       "      <td>None</td>\n",
       "      <td>None</td>\n",
       "      <td>NaN</td>\n",
       "      <td>None</td>\n",
       "      <td>None</td>\n",
       "      <td>NaN</td>\n",
       "      <td>NaN</td>\n",
       "      <td>NaN</td>\n",
       "      <td>NaN</td>\n",
       "      <td>NaN</td>\n",
       "      <td>NaN</td>\n",
       "      <td>NaN</td>\n",
       "    </tr>\n",
       "    <tr>\n",
       "      <th>72</th>\n",
       "      <td>karateclub_NNSED</td>\n",
       "      <td>None</td>\n",
       "      <td>None</td>\n",
       "      <td>NaN</td>\n",
       "      <td>None</td>\n",
       "      <td>None</td>\n",
       "      <td>NaN</td>\n",
       "      <td>NaN</td>\n",
       "      <td>NaN</td>\n",
       "      <td>NaN</td>\n",
       "      <td>NaN</td>\n",
       "      <td>NaN</td>\n",
       "      <td>NaN</td>\n",
       "    </tr>\n",
       "    <tr>\n",
       "      <th>73</th>\n",
       "      <td>karateclub_SCD</td>\n",
       "      <td>None</td>\n",
       "      <td>None</td>\n",
       "      <td>NaN</td>\n",
       "      <td>None</td>\n",
       "      <td>None</td>\n",
       "      <td>NaN</td>\n",
       "      <td>NaN</td>\n",
       "      <td>NaN</td>\n",
       "      <td>NaN</td>\n",
       "      <td>NaN</td>\n",
       "      <td>NaN</td>\n",
       "      <td>NaN</td>\n",
       "    </tr>\n",
       "    <tr>\n",
       "      <th>74</th>\n",
       "      <td>karateclub_SymmNMF</td>\n",
       "      <td>None</td>\n",
       "      <td>None</td>\n",
       "      <td>NaN</td>\n",
       "      <td>None</td>\n",
       "      <td>None</td>\n",
       "      <td>NaN</td>\n",
       "      <td>NaN</td>\n",
       "      <td>NaN</td>\n",
       "      <td>NaN</td>\n",
       "      <td>NaN</td>\n",
       "      <td>NaN</td>\n",
       "      <td>NaN</td>\n",
       "    </tr>\n",
       "    <tr>\n",
       "      <th>75</th>\n",
       "      <td>mcl_MCL</td>\n",
       "      <td>None</td>\n",
       "      <td>None</td>\n",
       "      <td>NaN</td>\n",
       "      <td>None</td>\n",
       "      <td>None</td>\n",
       "      <td>NaN</td>\n",
       "      <td>NaN</td>\n",
       "      <td>NaN</td>\n",
       "      <td>NaN</td>\n",
       "      <td>NaN</td>\n",
       "      <td>NaN</td>\n",
       "      <td>NaN</td>\n",
       "    </tr>\n",
       "    <tr>\n",
       "      <th>76</th>\n",
       "      <td>snap_Clauset_Newman_Moore</td>\n",
       "      <td>None</td>\n",
       "      <td>None</td>\n",
       "      <td>NaN</td>\n",
       "      <td>None</td>\n",
       "      <td>None</td>\n",
       "      <td>NaN</td>\n",
       "      <td>NaN</td>\n",
       "      <td>NaN</td>\n",
       "      <td>NaN</td>\n",
       "      <td>NaN</td>\n",
       "      <td>NaN</td>\n",
       "      <td>NaN</td>\n",
       "    </tr>\n",
       "    <tr>\n",
       "      <th>77</th>\n",
       "      <td>snap_Girvan_Newman</td>\n",
       "      <td>None</td>\n",
       "      <td>None</td>\n",
       "      <td>NaN</td>\n",
       "      <td>None</td>\n",
       "      <td>None</td>\n",
       "      <td>NaN</td>\n",
       "      <td>NaN</td>\n",
       "      <td>NaN</td>\n",
       "      <td>NaN</td>\n",
       "      <td>NaN</td>\n",
       "      <td>NaN</td>\n",
       "      <td>NaN</td>\n",
       "    </tr>\n",
       "    <tr>\n",
       "      <th>78</th>\n",
       "      <td>alg_Paris</td>\n",
       "      <td>None</td>\n",
       "      <td>None</td>\n",
       "      <td>NaN</td>\n",
       "      <td>None</td>\n",
       "      <td>None</td>\n",
       "      <td>NaN</td>\n",
       "      <td>NaN</td>\n",
       "      <td>NaN</td>\n",
       "      <td>NaN</td>\n",
       "      <td>NaN</td>\n",
       "      <td>NaN</td>\n",
       "      <td>NaN</td>\n",
       "    </tr>\n",
       "  </tbody>\n",
       "</table>\n",
       "</div>"
      ],
      "text/plain": [
       "                                     alg                      data1  \\\n",
       "0                      oslom_Infohiermap  K_DoesAlgSupportDirTest_1   \n",
       "1                          oslom_Infomap  K_DoesAlgSupportDirTest_1   \n",
       "2                            oslom_OSLOM  K_DoesAlgSupportDirTest_1   \n",
       "3                            oslom_copra  K_DoesAlgSupportDirTest_1   \n",
       "4                   oslom_louvain_method  K_DoesAlgSupportDirTest_1   \n",
       "5                              oslom_lpm  K_DoesAlgSupportDirTest_1   \n",
       "6                           oslom_modopt  K_DoesAlgSupportDirTest_1   \n",
       "7                        pycabem_GANXiSw  K_DoesAlgSupportDirTest_1   \n",
       "8                         pycabem_HiReCS  K_DoesAlgSupportDirTest_1   \n",
       "9                      pycabem_LabelRank  K_DoesAlgSupportDirTest_1   \n",
       "10                             cdc_CONGA  K_DoesAlgSupportDirTest_1   \n",
       "11          cdc_Connected_Iterative_Scan  K_DoesAlgSupportDirTest_1   \n",
       "12                             cdc_EAGLE  K_DoesAlgSupportDirTest_1   \n",
       "13                           cdc_FastCpm  K_DoesAlgSupportDirTest_1   \n",
       "14                               cdc_GCE  K_DoesAlgSupportDirTest_1   \n",
       "15                   cdc_LinkCommunities  K_DoesAlgSupportDirTest_1   \n",
       "16                             cdc_MOSES  K_DoesAlgSupportDirTest_1   \n",
       "17                          cdc_MSCD_AFG  K_DoesAlgSupportDirTest_1   \n",
       "18                        cdc_MSCD_HSLSW  K_DoesAlgSupportDirTest_1   \n",
       "19                          cdc_MSCD_LFK  K_DoesAlgSupportDirTest_1   \n",
       "20                         cdc_MSCD_LFK2  K_DoesAlgSupportDirTest_1   \n",
       "21                           cdc_MSCD_RB  K_DoesAlgSupportDirTest_1   \n",
       "22                           cdc_MSCD_SO  K_DoesAlgSupportDirTest_1   \n",
       "23                          cdc_MSCD_SOM  K_DoesAlgSupportDirTest_1   \n",
       "24                            cdc_ParCPM  K_DoesAlgSupportDirTest_1   \n",
       "25                            cdc_SVINET  K_DoesAlgSupportDirTest_1   \n",
       "26                             cdc_TopGC  K_DoesAlgSupportDirTest_1   \n",
       "27                 cdc_clique_modularity  K_DoesAlgSupportDirTest_1   \n",
       "28                             cgcc_CGGC  K_DoesAlgSupportDirTest_1   \n",
       "29                             dct_dlplm  K_DoesAlgSupportDirTest_1   \n",
       "30                             dct_dlslm  K_DoesAlgSupportDirTest_1   \n",
       "31                      dct_dlslm_map_eq  K_DoesAlgSupportDirTest_1   \n",
       "32              dct_dlslm_no_contraction  K_DoesAlgSupportDirTest_1   \n",
       "33                    dct_dlslm_with_seq  K_DoesAlgSupportDirTest_1   \n",
       "34                           dct_infomap  K_DoesAlgSupportDirTest_1   \n",
       "35                       dct_seq_louvain  K_DoesAlgSupportDirTest_1   \n",
       "36    igraph_community_label_propagation  K_DoesAlgSupportDirTest_1   \n",
       "37            igraph_community_spinglass  K_DoesAlgSupportDirTest_1   \n",
       "38             igraph_community_walktrap  K_DoesAlgSupportDirTest_1   \n",
       "39               networkit_CutClustering  K_DoesAlgSupportDirTest_1   \n",
       "40             networkit_LPDegreeOrdered  K_DoesAlgSupportDirTest_1   \n",
       "41                         networkit_PLM  K_DoesAlgSupportDirTest_1   \n",
       "42                         networkit_PLP  K_DoesAlgSupportDirTest_1   \n",
       "43                         alg_GossipMap  K_DoesAlgSupportDirTest_1   \n",
       "44                          alg_RelaxMap  K_DoesAlgSupportDirTest_1   \n",
       "45              alg_pg_label_propagation  K_DoesAlgSupportDirTest_1   \n",
       "46                     scan_AnyScan_Scan  K_DoesAlgSupportDirTest_1   \n",
       "47                  scan_AnyScan_anyScan  K_DoesAlgSupportDirTest_1   \n",
       "48              scan_AnyScan_anyScanParl  K_DoesAlgSupportDirTest_1   \n",
       "49                    scan_AnyScan_pScan  K_DoesAlgSupportDirTest_1   \n",
       "50                           scan_Scanpp  K_DoesAlgSupportDirTest_1   \n",
       "51                            scan_pScan  K_DoesAlgSupportDirTest_1   \n",
       "52                           scan_ppScan  K_DoesAlgSupportDirTest_1   \n",
       "53                        scan_ppScanSSE  K_DoesAlgSupportDirTest_1   \n",
       "54           sklearn_AffinityPropagation  K_DoesAlgSupportDirTest_1   \n",
       "55            sklearn_SpectralClustering  K_DoesAlgSupportDirTest_1   \n",
       "56                       alg_lso_cluster  K_DoesAlgSupportDirTest_1   \n",
       "57                         alg_streamcom  K_DoesAlgSupportDirTest_1   \n",
       "58                 cdc_CliquePercolation                       None   \n",
       "59                             cdc_DEMON                       None   \n",
       "60                            cdc_HDEMON                       None   \n",
       "61                           cdc_MSCD_RN                       None   \n",
       "62     igraph_community_edge_betweenness                       None   \n",
       "63           igraph_community_fastgreedy                       None   \n",
       "64              igraph_community_infomap                       None   \n",
       "65  igraph_community_leading_eigenvector                       None   \n",
       "66           igraph_community_multilevel                       None   \n",
       "67   igraph_community_optimal_modularity                       None   \n",
       "68                    karateclub_BigClam                       None   \n",
       "69                      karateclub_DANMF                       None   \n",
       "70                      karateclub_EdMot                       None   \n",
       "71             karateclub_EgoNetSplitter                       None   \n",
       "72                      karateclub_NNSED                       None   \n",
       "73                        karateclub_SCD                       None   \n",
       "74                    karateclub_SymmNMF                       None   \n",
       "75                               mcl_MCL                       None   \n",
       "76             snap_Clauset_Newman_Moore                       None   \n",
       "77                    snap_Girvan_Newman                       None   \n",
       "78                             alg_Paris                       None   \n",
       "\n",
       "                        data2        nmi_12   ovp1   ovp2    #c1   #c2  \\\n",
       "0   K_DoesAlgSupportDirTest_2  8.019533e-02  False  False    6.0   6.0   \n",
       "1   K_DoesAlgSupportDirTest_2  1.000000e+00  False  False    6.0   6.0   \n",
       "2   K_DoesAlgSupportDirTest_2  1.000000e+00  False  False    6.0   6.0   \n",
       "3   K_DoesAlgSupportDirTest_2  9.131541e-01   True   True    6.0   6.0   \n",
       "4   K_DoesAlgSupportDirTest_2  1.000000e+00  False  False    6.0   6.0   \n",
       "5   K_DoesAlgSupportDirTest_2  1.000000e+00  False  False    5.0   5.0   \n",
       "6   K_DoesAlgSupportDirTest_2  1.000000e+00  False  False    6.0   6.0   \n",
       "7   K_DoesAlgSupportDirTest_2  9.546494e-01  False  False    6.0   5.0   \n",
       "8   K_DoesAlgSupportDirTest_2  9.454628e-01  False   True    6.0   7.0   \n",
       "9   K_DoesAlgSupportDirTest_2  1.000000e+00  False  False    6.0   6.0   \n",
       "10  K_DoesAlgSupportDirTest_2  2.487395e-01   True   True    5.0   5.0   \n",
       "11  K_DoesAlgSupportDirTest_2  8.555647e-01   True   True    7.0   7.0   \n",
       "12  K_DoesAlgSupportDirTest_2  4.970314e-01   True   True   20.0   4.0   \n",
       "13  K_DoesAlgSupportDirTest_2  6.343624e-01   True   True    2.0   2.0   \n",
       "14  K_DoesAlgSupportDirTest_2  1.000000e+00  False  False    6.0   6.0   \n",
       "15  K_DoesAlgSupportDirTest_2 -5.130039e-17   True  False  515.0   1.0   \n",
       "16  K_DoesAlgSupportDirTest_2  1.000000e+00  False  False    6.0   6.0   \n",
       "17  K_DoesAlgSupportDirTest_2  1.000000e+00  False  False    6.0   6.0   \n",
       "18  K_DoesAlgSupportDirTest_2  1.000000e+00  False  False    6.0   6.0   \n",
       "19  K_DoesAlgSupportDirTest_2  1.000000e+00  False  False    6.0   6.0   \n",
       "20  K_DoesAlgSupportDirTest_2  9.718190e-01   True   True    8.0   8.0   \n",
       "21  K_DoesAlgSupportDirTest_2  1.000000e+00  False  False    6.0   6.0   \n",
       "22  K_DoesAlgSupportDirTest_2  1.000000e+00  False  False    6.0   6.0   \n",
       "23  K_DoesAlgSupportDirTest_2  1.000000e+00  False  False    6.0   6.0   \n",
       "24  K_DoesAlgSupportDirTest_2  1.000000e+00  False  False    1.0   1.0   \n",
       "25  K_DoesAlgSupportDirTest_2  1.474918e-01   True   True    6.0   6.0   \n",
       "26  K_DoesAlgSupportDirTest_2  7.792430e-01   True   True    8.0  11.0   \n",
       "27  K_DoesAlgSupportDirTest_2  1.000000e+00  False  False   10.0  10.0   \n",
       "28  K_DoesAlgSupportDirTest_2  1.000000e+00  False  False    5.0   5.0   \n",
       "29  K_DoesAlgSupportDirTest_2  9.344479e-01  False  False    6.0   5.0   \n",
       "30  K_DoesAlgSupportDirTest_2  9.385531e-01  False  False    6.0   5.0   \n",
       "31  K_DoesAlgSupportDirTest_2  1.000000e+00  False  False    6.0   6.0   \n",
       "32  K_DoesAlgSupportDirTest_2  1.000000e+00  False  False    6.0   6.0   \n",
       "33  K_DoesAlgSupportDirTest_2  1.000000e+00  False  False    6.0   6.0   \n",
       "34  K_DoesAlgSupportDirTest_2  1.000000e+00  False  False    6.0   6.0   \n",
       "35  K_DoesAlgSupportDirTest_2  1.000000e+00  False  False    6.0   6.0   \n",
       "36  K_DoesAlgSupportDirTest_2  1.000000e+00  False  False    6.0   6.0   \n",
       "37  K_DoesAlgSupportDirTest_2  1.000000e+00  False  False    6.0   6.0   \n",
       "38  K_DoesAlgSupportDirTest_2  1.000000e+00  False  False    6.0   6.0   \n",
       "39  K_DoesAlgSupportDirTest_2  1.000000e+00  False  False    1.0   1.0   \n",
       "40  K_DoesAlgSupportDirTest_2  1.000000e+00  False  False    5.0   5.0   \n",
       "41  K_DoesAlgSupportDirTest_2  1.000000e+00  False  False    6.0   6.0   \n",
       "42  K_DoesAlgSupportDirTest_2  7.355010e-01  False  False    5.0   4.0   \n",
       "43  K_DoesAlgSupportDirTest_2  1.000000e+00  False  False    6.0   6.0   \n",
       "44  K_DoesAlgSupportDirTest_2  1.000000e+00  False  False    6.0   6.0   \n",
       "45  K_DoesAlgSupportDirTest_2 -3.521852e-17  False  False    1.0   5.0   \n",
       "46  K_DoesAlgSupportDirTest_2  1.000000e+00  False  False    6.0   6.0   \n",
       "47  K_DoesAlgSupportDirTest_2  1.000000e+00  False  False    6.0   6.0   \n",
       "48  K_DoesAlgSupportDirTest_2  1.000000e+00  False  False    6.0   6.0   \n",
       "49  K_DoesAlgSupportDirTest_2  1.000000e+00  False  False    6.0   6.0   \n",
       "50  K_DoesAlgSupportDirTest_2  1.000000e+00  False  False    1.0   1.0   \n",
       "51  K_DoesAlgSupportDirTest_2  1.000000e+00  False  False    6.0   6.0   \n",
       "52  K_DoesAlgSupportDirTest_2  1.000000e+00  False  False    6.0   6.0   \n",
       "53  K_DoesAlgSupportDirTest_2  1.000000e+00  False  False    6.0   6.0   \n",
       "54  K_DoesAlgSupportDirTest_2  5.322350e-01  False  False    7.0   6.0   \n",
       "55  K_DoesAlgSupportDirTest_2  8.895801e-01  False  False    8.0   8.0   \n",
       "56  K_DoesAlgSupportDirTest_2  8.798865e-01  False  False    6.0   5.0   \n",
       "57  K_DoesAlgSupportDirTest_2  8.231533e-01  False  False   69.0  65.0   \n",
       "58                       None           NaN   None   None    NaN   NaN   \n",
       "59                       None           NaN   None   None    NaN   NaN   \n",
       "60                       None           NaN   None   None    NaN   NaN   \n",
       "61                       None           NaN   None   None    NaN   NaN   \n",
       "62                       None           NaN   None   None    NaN   NaN   \n",
       "63                       None           NaN   None   None    NaN   NaN   \n",
       "64                       None           NaN   None   None    NaN   NaN   \n",
       "65                       None           NaN   None   None    NaN   NaN   \n",
       "66                       None           NaN   None   None    NaN   NaN   \n",
       "67                       None           NaN   None   None    NaN   NaN   \n",
       "68                       None           NaN   None   None    NaN   NaN   \n",
       "69                       None           NaN   None   None    NaN   NaN   \n",
       "70                       None           NaN   None   None    NaN   NaN   \n",
       "71                       None           NaN   None   None    NaN   NaN   \n",
       "72                       None           NaN   None   None    NaN   NaN   \n",
       "73                       None           NaN   None   None    NaN   NaN   \n",
       "74                       None           NaN   None   None    NaN   NaN   \n",
       "75                       None           NaN   None   None    NaN   NaN   \n",
       "76                       None           NaN   None   None    NaN   NaN   \n",
       "77                       None           NaN   None   None    NaN   NaN   \n",
       "78                       None           NaN   None   None    NaN   NaN   \n",
       "\n",
       "    ovpnmi_12        nmi_t1  ovpnmi_t1        nmi_t2  ovpnmi_t2  \n",
       "0         NaN  8.019533e-02        NaN  1.000000e+00   1.000000  \n",
       "1    1.000000  1.000000e+00   1.000000  1.000000e+00   1.000000  \n",
       "2    1.000000  1.000000e+00   1.000000  1.000000e+00   1.000000  \n",
       "3    0.863149  9.817896e-01   0.983499  8.804805e-01   0.875279  \n",
       "4    1.000000  1.000000e+00   1.000000  1.000000e+00   1.000000  \n",
       "5    1.000000  9.385531e-01   0.847325  9.385531e-01   0.847325  \n",
       "6    1.000000  1.000000e+00   1.000000  1.000000e+00   1.000000  \n",
       "7    0.885584  1.000000e+00   1.000000  9.546494e-01   0.885584  \n",
       "8    0.953739  8.362817e-02        NaN  9.354460e-02        NaN  \n",
       "9    1.000000  1.000000e+00   1.000000  1.000000e+00   1.000000  \n",
       "10   1.000000  2.812433e-01   0.364354  3.327018e-01   0.364354  \n",
       "11   1.000000  9.056940e-01   0.904674  9.214606e-01   0.904674  \n",
       "12   0.352153  1.313637e-01        NaN  4.798295e-02   0.005579  \n",
       "13   1.000000  3.344033e-01   0.190370  3.317589e-01   0.190370  \n",
       "14   1.000000  1.000000e+00   1.000000  1.000000e+00   1.000000  \n",
       "15        NaN  5.040529e-01   0.000785 -3.811880e-16        NaN  \n",
       "16   1.000000  1.000000e+00   1.000000  1.000000e+00   1.000000  \n",
       "17   1.000000  8.362817e-02        NaN  8.362817e-02        NaN  \n",
       "18   1.000000  8.362817e-02        NaN  8.362817e-02        NaN  \n",
       "19   1.000000  8.362817e-02        NaN  8.362817e-02        NaN  \n",
       "20   0.966673  9.906870e-02        NaN  8.362817e-02        NaN  \n",
       "21   1.000000  8.362817e-02        NaN  8.362817e-02        NaN  \n",
       "22   1.000000  8.362817e-02        NaN  8.362817e-02        NaN  \n",
       "23   1.000000  8.362817e-02        NaN  8.362817e-02        NaN  \n",
       "24        NaN -3.811880e-16        NaN -3.811880e-16        NaN  \n",
       "25   0.310191  3.466986e-01   0.251766  2.893004e-01   0.289690  \n",
       "26   0.145526  8.673803e-01   0.298629  8.589414e-01   0.534060  \n",
       "27   1.000000  9.113996e-01   0.821061  9.113996e-01   0.821061  \n",
       "28   1.000000  9.546494e-01   0.885584  9.546494e-01   0.885584  \n",
       "29   0.837752  1.000000e+00   1.000000  9.344479e-01   0.837752  \n",
       "30   0.847325  1.000000e+00   1.000000  9.385531e-01   0.847325  \n",
       "31   1.000000  1.000000e+00   1.000000  1.000000e+00   1.000000  \n",
       "32   1.000000  1.000000e+00   1.000000  1.000000e+00   1.000000  \n",
       "33   1.000000  1.000000e+00   1.000000  1.000000e+00   1.000000  \n",
       "34   1.000000  1.000000e+00   1.000000  1.000000e+00   1.000000  \n",
       "35   1.000000  1.000000e+00   1.000000  1.000000e+00   1.000000  \n",
       "36   1.000000  1.000000e+00   1.000000  1.000000e+00   1.000000  \n",
       "37   1.000000  1.000000e+00   1.000000  1.000000e+00   1.000000  \n",
       "38   1.000000  1.000000e+00   1.000000  1.000000e+00   1.000000  \n",
       "39        NaN -3.811880e-16        NaN -3.811880e-16        NaN  \n",
       "40   1.000000  9.235942e-01   0.812795  9.235942e-01   0.812795  \n",
       "41   1.000000  1.000000e+00   1.000000  1.000000e+00   1.000000  \n",
       "42   0.607341  9.235942e-01   0.812795  8.396506e-01   0.682038  \n",
       "43   1.000000  1.000000e+00   1.000000  1.000000e+00   1.000000  \n",
       "44   1.000000  1.000000e+00   1.000000  1.000000e+00   1.000000  \n",
       "45        NaN -3.811880e-16        NaN  9.484527e-01   0.870716  \n",
       "46   1.000000  1.000000e+00   1.000000  1.000000e+00   1.000000  \n",
       "47   1.000000  1.000000e+00   1.000000  1.000000e+00   1.000000  \n",
       "48   1.000000  1.000000e+00   1.000000  1.000000e+00   1.000000  \n",
       "49   1.000000  1.000000e+00   1.000000  1.000000e+00   1.000000  \n",
       "50        NaN -3.811880e-16        NaN -3.811880e-16        NaN  \n",
       "51   0.933337  1.000000e+00   0.933337  1.000000e+00   1.000000  \n",
       "52   0.933337  1.000000e+00   0.933337  1.000000e+00   1.000000  \n",
       "53   0.933337  1.000000e+00   0.933337  1.000000e+00   1.000000  \n",
       "54   0.393165  7.177382e-01   0.595369  6.566116e-01   0.546515  \n",
       "55   0.750858  9.193202e-01   0.826086  9.266030e-01   0.839800  \n",
       "56   0.762583  1.000000e+00   1.000000  8.798865e-01   0.762583  \n",
       "57   0.201925  5.452625e-01        NaN  5.191422e-01        NaN  \n",
       "58        NaN           NaN        NaN           NaN        NaN  \n",
       "59        NaN           NaN        NaN           NaN        NaN  \n",
       "60        NaN           NaN        NaN           NaN        NaN  \n",
       "61        NaN           NaN        NaN           NaN        NaN  \n",
       "62        NaN           NaN        NaN           NaN        NaN  \n",
       "63        NaN           NaN        NaN           NaN        NaN  \n",
       "64        NaN           NaN        NaN           NaN        NaN  \n",
       "65        NaN           NaN        NaN           NaN        NaN  \n",
       "66        NaN           NaN        NaN           NaN        NaN  \n",
       "67        NaN           NaN        NaN           NaN        NaN  \n",
       "68        NaN           NaN        NaN           NaN        NaN  \n",
       "69        NaN           NaN        NaN           NaN        NaN  \n",
       "70        NaN           NaN        NaN           NaN        NaN  \n",
       "71        NaN           NaN        NaN           NaN        NaN  \n",
       "72        NaN           NaN        NaN           NaN        NaN  \n",
       "73        NaN           NaN        NaN           NaN        NaN  \n",
       "74        NaN           NaN        NaN           NaN        NaN  \n",
       "75        NaN           NaN        NaN           NaN        NaN  \n",
       "76        NaN           NaN        NaN           NaN        NaN  \n",
       "77        NaN           NaN        NaN           NaN        NaN  \n",
       "78        NaN           NaN        NaN           NaN        NaN  "
      ]
     },
     "metadata": {},
     "output_type": "display_data"
    }
   ],
   "source": [
    "rdf = pd.DataFrame(lst, columns=columns)\n",
    "for alg in  gct.list_algorithms():\n",
    "    if alg not in rdf['alg'].values:\n",
    "        lst.append([alg] + [None] * (len(columns) - 1))\n",
    "rdf = pd.DataFrame(lst, columns=columns)    \n",
    "with pd.option_context('display.max_rows', 2000, 'display.max_columns', 200):\n",
    "    display (rdf)\n"
   ]
  },
  {
   "cell_type": "code",
   "execution_count": 11,
   "metadata": {},
   "outputs": [
    {
     "name": "stderr",
     "output_type": "stream",
     "text": [
      "2020-04-28 01:14:31,588 - cdc_HDEMON - INFO - seed ignored\n",
      "INFO:cdc_HDEMON:seed ignored\n",
      "2020-04-28 01:14:31,590 - cdc_HDEMON - INFO - Running python /opt/gct/submodules/CommunityDetectionCodes/Algorithms/2012-DEMON/HDemon.py edges.txt uw ud 0.25 5\n",
      "INFO:cdc_HDEMON:Running python /opt/gct/submodules/CommunityDetectionCodes/Algorithms/2012-DEMON/HDemon.py edges.txt uw ud 0.25 5\n"
     ]
    },
    {
     "name": "stdout",
     "output_type": "stream",
     "text": [
      "runing  cdc_HDEMON K_DoesAlgSupportDirTest_2\n"
     ]
    },
    {
     "name": "stderr",
     "output_type": "stream",
     "text": [
      "2020-04-28 01:14:44,847 - cdc_HDEMON - INFO - Made 138 clusters with k=0\n",
      "INFO:cdc_HDEMON:Made 138 clusters with k=0\n",
      "2020-04-28 01:14:44,848 - cdc_HDEMON - INFO - Made 1 clusters with k=1\n",
      "INFO:cdc_HDEMON:Made 1 clusters with k=1\n",
      "2020-04-28 01:14:44,850 - cdc_HDEMON - INFO - Made 2 clusters in 13.254731 seconds\n",
      "INFO:cdc_HDEMON:Made 2 clusters in 13.254731 seconds\n"
     ]
    },
    {
     "name": "stdout",
     "output_type": "stream",
     "text": [
      "finished cdc_HDEMON K_DoesAlgSupportDirTest_2\n"
     ]
    },
    {
     "data": {
      "text/plain": [
       "True"
      ]
     },
     "execution_count": 11,
     "metadata": {},
     "output_type": "execute_result"
    }
   ],
   "source": [
    "run_alg(\"cdc_HDEMON\", \"K_DoesAlgSupportDirTest_2\", check_skip=False)"
   ]
  },
  {
   "cell_type": "code",
   "execution_count": null,
   "metadata": {},
   "outputs": [],
   "source": []
  }
 ],
 "metadata": {
  "kernelspec": {
   "display_name": "Python [conda env:python3]",
   "language": "python",
   "name": "conda-env-python3-py"
  },
  "language_info": {
   "codemirror_mode": {
    "name": "ipython",
    "version": 3
   },
   "file_extension": ".py",
   "mimetype": "text/x-python",
   "name": "python",
   "nbconvert_exporter": "python",
   "pygments_lexer": "ipython3",
   "version": "3.7.6"
  }
 },
 "nbformat": 4,
 "nbformat_minor": 2
}
