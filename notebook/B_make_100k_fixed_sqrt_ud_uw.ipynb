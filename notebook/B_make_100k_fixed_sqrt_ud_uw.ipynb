{
 "cells": [
  {
   "cell_type": "code",
   "execution_count": 1,
   "metadata": {},
   "outputs": [
    {
     "data": {
      "text/html": [
       "\n",
       "\t\t\t<script type=\"text/javascript\">\n",
       "\t\t\t<!--\n",
       "\t\t\t\t\n",
       "\t\t\t{\n",
       "\t\t\t\tvar element = document.getElementById('NetworKit_script');\n",
       "\t\t\t\tif (element) {\n",
       "\t\t\t\t\telement.parentNode.removeChild(element);\n",
       "\t\t\t\t}\n",
       "\t\t\t\telement = document.createElement('script');\n",
       "\t\t\t\telement.type = 'text/javascript';\n",
       "\t\t\t\telement.innerHTML = 'function NetworKit_pageEmbed(id) { var i, j; var elements; elements = document.getElementById(id).getElementsByClassName(\"Plot\"); for (i=0; i<elements.length; i++) { elements[i].id = id + \"_Plot_\" + i; var data = elements[i].getAttribute(\"data-image\").split(\"|\"); elements[i].removeAttribute(\"data-image\"); var content = \"<div class=\\\\\"Image\\\\\" id=\\\\\"\" + elements[i].id + \"_Image\\\\\" />\"; elements[i].innerHTML = content; elements[i].setAttribute(\"data-image-index\", 0); elements[i].setAttribute(\"data-image-length\", data.length); for (j=0; j<data.length; j++) { elements[i].setAttribute(\"data-image-\" + j, data[j]); } NetworKit_plotUpdate(elements[i]); elements[i].onclick = function (e) { NetworKit_overlayShow((e.target) ? e.target : e.srcElement); } } elements = document.getElementById(id).getElementsByClassName(\"HeatCell\"); for (i=0; i<elements.length; i++) { var data = parseFloat(elements[i].getAttribute(\"data-heat\")); var color = \"#00FF00\"; if (data <= 1 && data > 0) { color = \"hsla(0, 100%, 75%, \" + (data) + \")\"; } else if (data <= 0 && data >= -1) { color = \"hsla(240, 100%, 75%, \" + (-data) + \")\"; } elements[i].style.backgroundColor = color; } elements = document.getElementById(id).getElementsByClassName(\"Details\"); for (i=0; i<elements.length; i++) { elements[i].setAttribute(\"data-title\", \"-\"); NetworKit_toggleDetails(elements[i]); elements[i].onclick = function (e) { NetworKit_toggleDetails((e.target) ? e.target : e.srcElement); } } elements = document.getElementById(id).getElementsByClassName(\"MathValue\"); for (i=elements.length-1; i>=0; i--) { value = elements[i].innerHTML.trim(); if (value === \"nan\") { elements[i].parentNode.innerHTML = \"\" } } elements = document.getElementById(id).getElementsByClassName(\"SubCategory\"); for (i=elements.length-1; i>=0; i--) { value = elements[i].innerHTML.trim(); if (value === \"\") { elements[i].parentNode.removeChild(elements[i]) } } elements = document.getElementById(id).getElementsByClassName(\"Category\"); for (i=elements.length-1; i>=0; i--) { value = elements[i].innerHTML.trim(); if (value === \"\") { elements[i].parentNode.removeChild(elements[i]) } } var isFirefox = false; try { isFirefox = typeof InstallTrigger !== \"undefined\"; } catch (e) {} if (!isFirefox) { alert(\"Currently the function\\'s output is only fully supported by Firefox.\"); } } function NetworKit_plotUpdate(source) { var index = source.getAttribute(\"data-image-index\"); var data = source.getAttribute(\"data-image-\" + index); var image = document.getElementById(source.id + \"_Image\"); image.style.backgroundImage = \"url(\" + data + \")\"; } function NetworKit_showElement(id, show) { var element = document.getElementById(id); element.style.display = (show) ? \"block\" : \"none\"; } function NetworKit_overlayShow(source) { NetworKit_overlayUpdate(source); NetworKit_showElement(\"NetworKit_Overlay\", true); } function NetworKit_overlayUpdate(source) { document.getElementById(\"NetworKit_Overlay_Title\").innerHTML = source.title; var index = source.getAttribute(\"data-image-index\"); var data = source.getAttribute(\"data-image-\" + index); var image = document.getElementById(\"NetworKit_Overlay_Image\"); image.setAttribute(\"data-id\", source.id); image.style.backgroundImage = \"url(\" + data + \")\"; var link = document.getElementById(\"NetworKit_Overlay_Toolbar_Bottom_Save\"); link.href = data; link.download = source.title + \".svg\"; } function NetworKit_overlayImageShift(delta) { var image = document.getElementById(\"NetworKit_Overlay_Image\"); var source = document.getElementById(image.getAttribute(\"data-id\")); var index = parseInt(source.getAttribute(\"data-image-index\")); var length = parseInt(source.getAttribute(\"data-image-length\")); var index = (index+delta) % length; if (index < 0) { index = length + index; } source.setAttribute(\"data-image-index\", index); NetworKit_overlayUpdate(source); } function NetworKit_toggleDetails(source) { var childs = source.children; var show = false; if (source.getAttribute(\"data-title\") == \"-\") { source.setAttribute(\"data-title\", \"+\"); show = false; } else { source.setAttribute(\"data-title\", \"-\"); show = true; } for (i=0; i<childs.length; i++) { if (show) { childs[i].style.display = \"block\"; } else { childs[i].style.display = \"none\"; } } }';\n",
       "\t\t\t\telement.setAttribute('id', 'NetworKit_script');\n",
       "\t\t\t\tdocument.head.appendChild(element);\n",
       "\t\t\t}\n",
       "\t\t\n",
       "\t\t\t\t\n",
       "\t\t\t{\n",
       "\t\t\t\tvar element = document.getElementById('NetworKit_style');\n",
       "\t\t\t\tif (element) {\n",
       "\t\t\t\t\telement.parentNode.removeChild(element);\n",
       "\t\t\t\t}\n",
       "\t\t\t\telement = document.createElement('style');\n",
       "\t\t\t\telement.type = 'text/css';\n",
       "\t\t\t\telement.innerHTML = '.NetworKit_Page { font-family: Arial, Helvetica, sans-serif; font-size: 14px; } .NetworKit_Page .Value:before { font-family: Arial, Helvetica, sans-serif; font-size: 1.05em; content: attr(data-title) \":\"; margin-left: -2.5em; padding-right: 0.5em; } .NetworKit_Page .Details .Value:before { display: block; } .NetworKit_Page .Value { font-family: monospace; white-space: pre; padding-left: 2.5em; white-space: -moz-pre-wrap !important; white-space: -pre-wrap; white-space: -o-pre-wrap; white-space: pre-wrap; word-wrap: break-word; tab-size: 4; -moz-tab-size: 4; } .NetworKit_Page .Category { clear: both; padding-left: 1em; margin-bottom: 1.5em; } .NetworKit_Page .Category:before { content: attr(data-title); font-size: 1.75em; display: block; margin-left: -0.8em; margin-bottom: 0.5em; } .NetworKit_Page .SubCategory { margin-bottom: 1.5em; padding-left: 1em; } .NetworKit_Page .SubCategory:before { font-size: 1.6em; display: block; margin-left: -0.8em; margin-bottom: 0.5em; } .NetworKit_Page .SubCategory[data-title]:before { content: attr(data-title); } .NetworKit_Page .Block { display: block; } .NetworKit_Page .Block:after { content: \".\"; visibility: hidden; display: block; height: 0; clear: both; } .NetworKit_Page .Block .Thumbnail_Overview, .NetworKit_Page .Block .Thumbnail_ScatterPlot { width: 260px; float: left; } .NetworKit_Page .Block .Thumbnail_Overview img, .NetworKit_Page .Block .Thumbnail_ScatterPlot img { width: 260px; } .NetworKit_Page .Block .Thumbnail_Overview:before, .NetworKit_Page .Block .Thumbnail_ScatterPlot:before { display: block; text-align: center; font-weight: bold; } .NetworKit_Page .Block .Thumbnail_Overview:before { content: attr(data-title); } .NetworKit_Page .HeatCell { font-family: \"Courier New\", Courier, monospace; cursor: pointer; } .NetworKit_Page .HeatCell, .NetworKit_Page .HeatCellName { display: inline; padding: 0.1em; margin-right: 2px; background-color: #FFFFFF } .NetworKit_Page .HeatCellName { margin-left: 0.25em; } .NetworKit_Page .HeatCell:before { content: attr(data-heat); display: inline-block; color: #000000; width: 4em; text-align: center; } .NetworKit_Page .Measure { clear: both; } .NetworKit_Page .Measure .Details { cursor: pointer; } .NetworKit_Page .Measure .Details:before { content: \"[\" attr(data-title) \"]\"; display: block; } .NetworKit_Page .Measure .Details .Value { border-left: 1px dotted black; margin-left: 0.4em; padding-left: 3.5em; pointer-events: none; } .NetworKit_Page .Measure .Details .Spacer:before { content: \".\"; opacity: 0.0; pointer-events: none; } .NetworKit_Page .Measure .Plot { width: 440px; height: 440px; cursor: pointer; float: left; margin-left: -0.9em; margin-right: 20px; } .NetworKit_Page .Measure .Plot .Image { background-repeat: no-repeat; background-position: center center; background-size: contain; height: 100%; pointer-events: none; } .NetworKit_Page .Measure .Stat { width: 500px; float: left; } .NetworKit_Page .Measure .Stat .Group { padding-left: 1.25em; margin-bottom: 0.75em; } .NetworKit_Page .Measure .Stat .Group .Title { font-size: 1.1em; display: block; margin-bottom: 0.3em; margin-left: -0.75em; border-right-style: dotted; border-right-width: 1px; border-bottom-style: dotted; border-bottom-width: 1px; background-color: #D0D0D0; padding-left: 0.2em; } .NetworKit_Page .Measure .Stat .Group .List { -webkit-column-count: 3; -moz-column-count: 3; column-count: 3; } .NetworKit_Page .Measure .Stat .Group .List .Entry { position: relative; line-height: 1.75em; } .NetworKit_Page .Measure .Stat .Group .List .Entry[data-tooltip]:before { position: absolute; left: 0; top: -40px; background-color: #808080; color: #ffffff; height: 30px; line-height: 30px; border-radius: 5px; padding: 0 15px; content: attr(data-tooltip); white-space: nowrap; display: none; } .NetworKit_Page .Measure .Stat .Group .List .Entry[data-tooltip]:after { position: absolute; left: 15px; top: -10px; border-top: 7px solid #808080; border-left: 7px solid transparent; border-right: 7px solid transparent; content: \"\"; display: none; } .NetworKit_Page .Measure .Stat .Group .List .Entry[data-tooltip]:hover:after, .NetworKit_Page .Measure .Stat .Group .List .Entry[data-tooltip]:hover:before { display: block; } .NetworKit_Page .Measure .Stat .Group .List .Entry .MathValue { font-family: \"Courier New\", Courier, monospace; } .NetworKit_Page .Measure:after { content: \".\"; visibility: hidden; display: block; height: 0; clear: both; } .NetworKit_Page .PartitionPie { clear: both; } .NetworKit_Page .PartitionPie img { width: 600px; } #NetworKit_Overlay { left: 0px; top: 0px; display: none; position: absolute; width: 100%; height: 100%; background-color: rgba(0,0,0,0.6); z-index: 1000; } #NetworKit_Overlay_Title { position: absolute; color: white; transform: rotate(-90deg); width: 32em; height: 32em; padding-right: 0.5em; padding-top: 0.5em; text-align: right; font-size: 40px; } #NetworKit_Overlay .button { background: white; cursor: pointer; } #NetworKit_Overlay .button:before { size: 13px; display: inline-block; text-align: center; margin-top: 0.5em; margin-bottom: 0.5em; width: 1.5em; height: 1.5em; } #NetworKit_Overlay .icon-close:before { content: \"X\"; } #NetworKit_Overlay .icon-previous:before { content: \"P\"; } #NetworKit_Overlay .icon-next:before { content: \"N\"; } #NetworKit_Overlay .icon-save:before { content: \"S\"; } #NetworKit_Overlay_Toolbar_Top, #NetworKit_Overlay_Toolbar_Bottom { position: absolute; width: 40px; right: 13px; text-align: right; z-index: 1100; } #NetworKit_Overlay_Toolbar_Top { top: 0.5em; } #NetworKit_Overlay_Toolbar_Bottom { Bottom: 0.5em; } #NetworKit_Overlay_ImageContainer { position: absolute; top: 5%; left: 5%; height: 90%; width: 90%; background-repeat: no-repeat; background-position: center center; background-size: contain; } #NetworKit_Overlay_Image { height: 100%; width: 100%; background-repeat: no-repeat; background-position: center center; background-size: contain; }';\n",
       "\t\t\t\telement.setAttribute('id', 'NetworKit_style');\n",
       "\t\t\t\tdocument.head.appendChild(element);\n",
       "\t\t\t}\n",
       "\t\t\n",
       "\t\t\t\t\n",
       "\t\t\t{\n",
       "\t\t\t\tvar element = document.getElementById('NetworKit_Overlay');\n",
       "\t\t\t\tif (element) {\n",
       "\t\t\t\t\telement.parentNode.removeChild(element);\n",
       "\t\t\t\t}\n",
       "\t\t\t\telement = document.createElement('div');\n",
       "\t\t\t\telement.innerHTML = '<div id=\"NetworKit_Overlay_Toolbar_Top\"><div class=\"button icon-close\" id=\"NetworKit_Overlay_Close\" /></div><div id=\"NetworKit_Overlay_Title\" /> <div id=\"NetworKit_Overlay_ImageContainer\"> <div id=\"NetworKit_Overlay_Image\" /> </div> <div id=\"NetworKit_Overlay_Toolbar_Bottom\"> <div class=\"button icon-previous\" onclick=\"NetworKit_overlayImageShift(-1)\" /> <div class=\"button icon-next\" onclick=\"NetworKit_overlayImageShift(1)\" /> <a id=\"NetworKit_Overlay_Toolbar_Bottom_Save\"><div class=\"button icon-save\" /></a> </div>';\n",
       "\t\t\t\telement.setAttribute('id', 'NetworKit_Overlay');\n",
       "\t\t\t\tdocument.body.appendChild(element);\n",
       "\t\t\t\tdocument.getElementById('NetworKit_Overlay_Close').onclick = function (e) {\n",
       "\t\t\t\t\tdocument.getElementById('NetworKit_Overlay').style.display = 'none';\n",
       "\t\t\t\t}\n",
       "\t\t\t}\n",
       "\t\t\n",
       "\t\t\t-->\n",
       "\t\t\t</script>\n",
       "\t\t"
      ]
     },
     "metadata": {},
     "output_type": "display_data"
    }
   ],
   "source": [
    "import gct"
   ]
  },
  {
   "cell_type": "code",
   "execution_count": 2,
   "metadata": {},
   "outputs": [],
   "source": [
    "size=32\n",
    "\n",
    "sizes=[]\n",
    "while True:\n",
    "    sizes.append(size)\n",
    "    if size>200*1000:\n",
    "        break        \n",
    "    size=int(size*1.2)\n",
    "\n"
   ]
  },
  {
   "cell_type": "code",
   "execution_count": 3,
   "metadata": {},
   "outputs": [
    {
     "data": {
      "text/plain": [
       "50"
      ]
     },
     "execution_count": 3,
     "metadata": {},
     "output_type": "execute_result"
    }
   ],
   "source": [
    "len(sizes)"
   ]
  },
  {
   "cell_type": "code",
   "execution_count": 4,
   "metadata": {
    "scrolled": true
   },
   "outputs": [
    {
     "data": {
      "text/plain": [
       "[32, 38, 45]"
      ]
     },
     "execution_count": 4,
     "metadata": {},
     "output_type": "execute_result"
    }
   ],
   "source": [
    "sizes[:3]"
   ]
  },
  {
   "cell_type": "code",
   "execution_count": 44,
   "metadata": {},
   "outputs": [],
   "source": [
    "import numpy as np\n",
    "import pandas as pd\n",
    "def make_graph(n_cluster, cluster_size, inner_degree, inter_degree):\n",
    "    assert inner_degree  < cluster_size\n",
    "    assert inter_degree  < cluster_size\n",
    "    name = \"FIXED_SQRT_ud_wu_N{}_C{}_in{}_it{}\".format(n_cluster, cluster_size, inner_degree, inter_degree)\n",
    "    def make_index_clusters():\n",
    "        index_clusters=[]\n",
    "        i=0\n",
    "        for ic in range(n_cluster):\n",
    "            ids=[]\n",
    "            for j in range(cluster_size):\n",
    "                ids.append(i)\n",
    "                i+=1\n",
    "            index_clusters.append(ids)\n",
    "        return index_clusters\n",
    "\n",
    "    def make_inner_edges(index):\n",
    "        l=set()\n",
    "        for i in index:\n",
    "            ll=set()\n",
    "            while(len(ll)<inner_degree):\n",
    "                j = np.random.choice(index, 1, replace=False)[0]\n",
    "                if(i!=j):\n",
    "                    if (i>j):\n",
    "                        ll.update([(j,i)])\n",
    "                    else:\n",
    "                        ll.update([(i,j)])\n",
    "            l.update(ll)\n",
    "        return list(l)\n",
    "        \n",
    "    def make_inter_edges(index1,index2):\n",
    "        l=set()\n",
    "        while len(l)<inter_degree:\n",
    "            i = np.random.choice(index1, 1, replace=False)[0]\n",
    "            j = np.random.choice(index2, 1, replace=False)[0]\n",
    "            if(i!=j):\n",
    "                if (i>j):\n",
    "                    l.update([(j,i)])\n",
    "                else:\n",
    "                    l.update([(i,j)])\n",
    "        return list(l)\n",
    "    \n",
    "    \n",
    "    index_clusters=make_index_clusters()\n",
    "    \n",
    "    edges=[]\n",
    "    for index in index_clusters:\n",
    "        edges+=make_inner_edges(index)\n",
    "        \n",
    "    for i in range(len(index_clusters)):\n",
    "        for j in range(i+1, len(index_clusters)):\n",
    "            edges+=make_inter_edges(index_clusters[i],index_clusters[j])\n",
    "    \n",
    "    \n",
    "    df=pd.DataFrame(edges,columns=['src','dest'])\n",
    "    \n",
    "    g=gct.dataset.create_dataset(name,df,directed=False,weighted=False, overide=True)\n",
    "    return g\n"
   ]
  },
  {
   "cell_type": "code",
   "execution_count": 47,
   "metadata": {
    "scrolled": true
   },
   "outputs": [
    {
     "name": "stderr",
     "output_type": "stream",
     "text": [
      "2020-04-25 16:01:26,575 - Dataset:FIXED_SQRT_ud_wu_N5_C5_in2_it1 - INFO - writing/data/data/FIXED_SQRT_ud_wu_N5_C5_in2_it1/edges.parq\n",
      "INFO:Dataset:FIXED_SQRT_ud_wu_N5_C5_in2_it1:writing/data/data/FIXED_SQRT_ud_wu_N5_C5_in2_it1/edges.parq\n",
      "2020-04-25 16:01:26,611 - Dataset:FIXED_SQRT_ud_wu_N6_C6_in3_it1 - INFO - writing/data/data/FIXED_SQRT_ud_wu_N6_C6_in3_it1/edges.parq\n",
      "INFO:Dataset:FIXED_SQRT_ud_wu_N6_C6_in3_it1:writing/data/data/FIXED_SQRT_ud_wu_N6_C6_in3_it1/edges.parq\n",
      "2020-04-25 16:01:26,647 - Dataset:FIXED_SQRT_ud_wu_N6_C6_in3_it1 - INFO - writing/data/data/FIXED_SQRT_ud_wu_N6_C6_in3_it1/edges.parq\n",
      "INFO:Dataset:FIXED_SQRT_ud_wu_N6_C6_in3_it1:writing/data/data/FIXED_SQRT_ud_wu_N6_C6_in3_it1/edges.parq\n",
      "2020-04-25 16:01:26,690 - Dataset:FIXED_SQRT_ud_wu_N7_C7_in3_it1 - INFO - writing/data/data/FIXED_SQRT_ud_wu_N7_C7_in3_it1/edges.parq\n",
      "INFO:Dataset:FIXED_SQRT_ud_wu_N7_C7_in3_it1:writing/data/data/FIXED_SQRT_ud_wu_N7_C7_in3_it1/edges.parq\n",
      "2020-04-25 16:01:26,750 - Dataset:FIXED_SQRT_ud_wu_N8_C8_in4_it2 - INFO - writing/data/data/FIXED_SQRT_ud_wu_N8_C8_in4_it2/edges.parq\n",
      "INFO:Dataset:FIXED_SQRT_ud_wu_N8_C8_in4_it2:writing/data/data/FIXED_SQRT_ud_wu_N8_C8_in4_it2/edges.parq\n"
     ]
    },
    {
     "name": "stdout",
     "output_type": "stream",
     "text": [
      "32\n",
      "38\n",
      "45\n",
      "54\n",
      "64\n"
     ]
    },
    {
     "name": "stderr",
     "output_type": "stream",
     "text": [
      "2020-04-25 16:01:26,813 - Dataset:FIXED_SQRT_ud_wu_N8_C8_in4_it2 - INFO - writing/data/data/FIXED_SQRT_ud_wu_N8_C8_in4_it2/edges.parq\n",
      "INFO:Dataset:FIXED_SQRT_ud_wu_N8_C8_in4_it2:writing/data/data/FIXED_SQRT_ud_wu_N8_C8_in4_it2/edges.parq\n",
      "2020-04-25 16:01:26,883 - Dataset:FIXED_SQRT_ud_wu_N9_C9_in4_it2 - INFO - writing/data/data/FIXED_SQRT_ud_wu_N9_C9_in4_it2/edges.parq\n",
      "INFO:Dataset:FIXED_SQRT_ud_wu_N9_C9_in4_it2:writing/data/data/FIXED_SQRT_ud_wu_N9_C9_in4_it2/edges.parq\n"
     ]
    },
    {
     "name": "stdout",
     "output_type": "stream",
     "text": [
      "76\n",
      "91\n",
      "109\n"
     ]
    },
    {
     "name": "stderr",
     "output_type": "stream",
     "text": [
      "2020-04-25 16:01:26,984 - Dataset:FIXED_SQRT_ud_wu_N10_C10_in5_it2 - INFO - writing/data/data/FIXED_SQRT_ud_wu_N10_C10_in5_it2/edges.parq\n",
      "INFO:Dataset:FIXED_SQRT_ud_wu_N10_C10_in5_it2:writing/data/data/FIXED_SQRT_ud_wu_N10_C10_in5_it2/edges.parq\n",
      "2020-04-25 16:01:27,094 - Dataset:FIXED_SQRT_ud_wu_N11_C11_in5_it2 - INFO - writing/data/data/FIXED_SQRT_ud_wu_N11_C11_in5_it2/edges.parq\n",
      "INFO:Dataset:FIXED_SQRT_ud_wu_N11_C11_in5_it2:writing/data/data/FIXED_SQRT_ud_wu_N11_C11_in5_it2/edges.parq\n"
     ]
    },
    {
     "name": "stdout",
     "output_type": "stream",
     "text": [
      "130\n",
      "156\n"
     ]
    },
    {
     "name": "stderr",
     "output_type": "stream",
     "text": [
      "2020-04-25 16:01:27,255 - Dataset:FIXED_SQRT_ud_wu_N12_C12_in6_it3 - INFO - writing/data/data/FIXED_SQRT_ud_wu_N12_C12_in6_it3/edges.parq\n",
      "INFO:Dataset:FIXED_SQRT_ud_wu_N12_C12_in6_it3:writing/data/data/FIXED_SQRT_ud_wu_N12_C12_in6_it3/edges.parq\n",
      "2020-04-25 16:01:27,439 - Dataset:FIXED_SQRT_ud_wu_N13_C13_in6_it3 - INFO - writing/data/data/FIXED_SQRT_ud_wu_N13_C13_in6_it3/edges.parq\n",
      "INFO:Dataset:FIXED_SQRT_ud_wu_N13_C13_in6_it3:writing/data/data/FIXED_SQRT_ud_wu_N13_C13_in6_it3/edges.parq\n"
     ]
    },
    {
     "name": "stdout",
     "output_type": "stream",
     "text": [
      "187\n",
      "224\n"
     ]
    },
    {
     "name": "stderr",
     "output_type": "stream",
     "text": [
      "2020-04-25 16:01:27,675 - Dataset:FIXED_SQRT_ud_wu_N14_C14_in7_it3 - INFO - writing/data/data/FIXED_SQRT_ud_wu_N14_C14_in7_it3/edges.parq\n",
      "INFO:Dataset:FIXED_SQRT_ud_wu_N14_C14_in7_it3:writing/data/data/FIXED_SQRT_ud_wu_N14_C14_in7_it3/edges.parq\n"
     ]
    },
    {
     "name": "stdout",
     "output_type": "stream",
     "text": [
      "268\n"
     ]
    },
    {
     "name": "stderr",
     "output_type": "stream",
     "text": [
      "2020-04-25 16:01:28,029 - Dataset:FIXED_SQRT_ud_wu_N16_C16_in8_it4 - INFO - writing/data/data/FIXED_SQRT_ud_wu_N16_C16_in8_it4/edges.parq\n",
      "INFO:Dataset:FIXED_SQRT_ud_wu_N16_C16_in8_it4:writing/data/data/FIXED_SQRT_ud_wu_N16_C16_in8_it4/edges.parq\n"
     ]
    },
    {
     "name": "stdout",
     "output_type": "stream",
     "text": [
      "321\n"
     ]
    },
    {
     "name": "stderr",
     "output_type": "stream",
     "text": [
      "2020-04-25 16:01:28,418 - Dataset:FIXED_SQRT_ud_wu_N17_C17_in8_it4 - INFO - writing/data/data/FIXED_SQRT_ud_wu_N17_C17_in8_it4/edges.parq\n",
      "INFO:Dataset:FIXED_SQRT_ud_wu_N17_C17_in8_it4:writing/data/data/FIXED_SQRT_ud_wu_N17_C17_in8_it4/edges.parq\n"
     ]
    },
    {
     "name": "stdout",
     "output_type": "stream",
     "text": [
      "385\n"
     ]
    },
    {
     "name": "stderr",
     "output_type": "stream",
     "text": [
      "2020-04-25 16:01:28,943 - Dataset:FIXED_SQRT_ud_wu_N19_C19_in9_it4 - INFO - writing/data/data/FIXED_SQRT_ud_wu_N19_C19_in9_it4/edges.parq\n",
      "INFO:Dataset:FIXED_SQRT_ud_wu_N19_C19_in9_it4:writing/data/data/FIXED_SQRT_ud_wu_N19_C19_in9_it4/edges.parq\n"
     ]
    },
    {
     "name": "stdout",
     "output_type": "stream",
     "text": [
      "462\n"
     ]
    },
    {
     "name": "stderr",
     "output_type": "stream",
     "text": [
      "2020-04-25 16:01:29,665 - Dataset:FIXED_SQRT_ud_wu_N21_C21_in10_it5 - INFO - writing/data/data/FIXED_SQRT_ud_wu_N21_C21_in10_it5/edges.parq\n",
      "INFO:Dataset:FIXED_SQRT_ud_wu_N21_C21_in10_it5:writing/data/data/FIXED_SQRT_ud_wu_N21_C21_in10_it5/edges.parq\n"
     ]
    },
    {
     "name": "stdout",
     "output_type": "stream",
     "text": [
      "554\n"
     ]
    },
    {
     "name": "stderr",
     "output_type": "stream",
     "text": [
      "2020-04-25 16:01:30,584 - Dataset:FIXED_SQRT_ud_wu_N23_C23_in11_it5 - INFO - writing/data/data/FIXED_SQRT_ud_wu_N23_C23_in11_it5/edges.parq\n",
      "INFO:Dataset:FIXED_SQRT_ud_wu_N23_C23_in11_it5:writing/data/data/FIXED_SQRT_ud_wu_N23_C23_in11_it5/edges.parq\n"
     ]
    },
    {
     "name": "stdout",
     "output_type": "stream",
     "text": [
      "664\n"
     ]
    },
    {
     "name": "stderr",
     "output_type": "stream",
     "text": [
      "2020-04-25 16:01:31,814 - Dataset:FIXED_SQRT_ud_wu_N25_C25_in12_it6 - INFO - writing/data/data/FIXED_SQRT_ud_wu_N25_C25_in12_it6/edges.parq\n",
      "INFO:Dataset:FIXED_SQRT_ud_wu_N25_C25_in12_it6:writing/data/data/FIXED_SQRT_ud_wu_N25_C25_in12_it6/edges.parq\n"
     ]
    },
    {
     "name": "stdout",
     "output_type": "stream",
     "text": [
      "796\n"
     ]
    },
    {
     "name": "stderr",
     "output_type": "stream",
     "text": [
      "2020-04-25 16:01:33,629 - Dataset:FIXED_SQRT_ud_wu_N28_C28_in14_it7 - INFO - writing/data/data/FIXED_SQRT_ud_wu_N28_C28_in14_it7/edges.parq\n",
      "INFO:Dataset:FIXED_SQRT_ud_wu_N28_C28_in14_it7:writing/data/data/FIXED_SQRT_ud_wu_N28_C28_in14_it7/edges.parq\n"
     ]
    },
    {
     "name": "stdout",
     "output_type": "stream",
     "text": [
      "955\n"
     ]
    },
    {
     "name": "stderr",
     "output_type": "stream",
     "text": [
      "2020-04-25 16:01:35,825 - Dataset:FIXED_SQRT_ud_wu_N30_C30_in15_it7 - INFO - writing/data/data/FIXED_SQRT_ud_wu_N30_C30_in15_it7/edges.parq\n",
      "INFO:Dataset:FIXED_SQRT_ud_wu_N30_C30_in15_it7:writing/data/data/FIXED_SQRT_ud_wu_N30_C30_in15_it7/edges.parq\n"
     ]
    },
    {
     "name": "stdout",
     "output_type": "stream",
     "text": [
      "1146\n"
     ]
    },
    {
     "name": "stderr",
     "output_type": "stream",
     "text": [
      "2020-04-25 16:01:38,687 - Dataset:FIXED_SQRT_ud_wu_N33_C33_in16_it8 - INFO - writing/data/data/FIXED_SQRT_ud_wu_N33_C33_in16_it8/edges.parq\n",
      "INFO:Dataset:FIXED_SQRT_ud_wu_N33_C33_in16_it8:writing/data/data/FIXED_SQRT_ud_wu_N33_C33_in16_it8/edges.parq\n"
     ]
    },
    {
     "name": "stdout",
     "output_type": "stream",
     "text": [
      "1375\n"
     ]
    },
    {
     "name": "stderr",
     "output_type": "stream",
     "text": [
      "2020-04-25 16:01:42,764 - Dataset:FIXED_SQRT_ud_wu_N37_C37_in18_it9 - INFO - writing/data/data/FIXED_SQRT_ud_wu_N37_C37_in18_it9/edges.parq\n",
      "INFO:Dataset:FIXED_SQRT_ud_wu_N37_C37_in18_it9:writing/data/data/FIXED_SQRT_ud_wu_N37_C37_in18_it9/edges.parq\n"
     ]
    },
    {
     "name": "stdout",
     "output_type": "stream",
     "text": [
      "1650\n"
     ]
    },
    {
     "name": "stderr",
     "output_type": "stream",
     "text": [
      "2020-04-25 16:01:48,108 - Dataset:FIXED_SQRT_ud_wu_N40_C40_in20_it10 - INFO - writing/data/data/FIXED_SQRT_ud_wu_N40_C40_in20_it10/edges.parq\n",
      "INFO:Dataset:FIXED_SQRT_ud_wu_N40_C40_in20_it10:writing/data/data/FIXED_SQRT_ud_wu_N40_C40_in20_it10/edges.parq\n"
     ]
    },
    {
     "name": "stdout",
     "output_type": "stream",
     "text": [
      "1980\n"
     ]
    },
    {
     "name": "stderr",
     "output_type": "stream",
     "text": [
      "2020-04-25 16:01:55,637 - Dataset:FIXED_SQRT_ud_wu_N44_C44_in22_it11 - INFO - writing/data/data/FIXED_SQRT_ud_wu_N44_C44_in22_it11/edges.parq\n",
      "INFO:Dataset:FIXED_SQRT_ud_wu_N44_C44_in22_it11:writing/data/data/FIXED_SQRT_ud_wu_N44_C44_in22_it11/edges.parq\n"
     ]
    },
    {
     "name": "stdout",
     "output_type": "stream",
     "text": [
      "2376\n"
     ]
    },
    {
     "name": "stderr",
     "output_type": "stream",
     "text": [
      "2020-04-25 16:02:05,006 - Dataset:FIXED_SQRT_ud_wu_N48_C48_in24_it12 - INFO - writing/data/data/FIXED_SQRT_ud_wu_N48_C48_in24_it12/edges.parq\n",
      "INFO:Dataset:FIXED_SQRT_ud_wu_N48_C48_in24_it12:writing/data/data/FIXED_SQRT_ud_wu_N48_C48_in24_it12/edges.parq\n"
     ]
    },
    {
     "name": "stdout",
     "output_type": "stream",
     "text": [
      "2851\n"
     ]
    },
    {
     "name": "stderr",
     "output_type": "stream",
     "text": [
      "2020-04-25 16:02:17,392 - Dataset:FIXED_SQRT_ud_wu_N53_C53_in26_it13 - INFO - writing/data/data/FIXED_SQRT_ud_wu_N53_C53_in26_it13/edges.parq\n",
      "INFO:Dataset:FIXED_SQRT_ud_wu_N53_C53_in26_it13:writing/data/data/FIXED_SQRT_ud_wu_N53_C53_in26_it13/edges.parq\n"
     ]
    },
    {
     "name": "stdout",
     "output_type": "stream",
     "text": [
      "3421\n"
     ]
    },
    {
     "name": "stderr",
     "output_type": "stream",
     "text": [
      "2020-04-25 16:02:34,125 - Dataset:FIXED_SQRT_ud_wu_N58_C58_in29_it14 - INFO - writing/data/data/FIXED_SQRT_ud_wu_N58_C58_in29_it14/edges.parq\n",
      "INFO:Dataset:FIXED_SQRT_ud_wu_N58_C58_in29_it14:writing/data/data/FIXED_SQRT_ud_wu_N58_C58_in29_it14/edges.parq\n"
     ]
    },
    {
     "name": "stdout",
     "output_type": "stream",
     "text": [
      "4105\n"
     ]
    },
    {
     "name": "stderr",
     "output_type": "stream",
     "text": [
      "2020-04-25 16:02:57,057 - Dataset:FIXED_SQRT_ud_wu_N64_C64_in32_it16 - INFO - writing/data/data/FIXED_SQRT_ud_wu_N64_C64_in32_it16/edges.parq\n",
      "INFO:Dataset:FIXED_SQRT_ud_wu_N64_C64_in32_it16:writing/data/data/FIXED_SQRT_ud_wu_N64_C64_in32_it16/edges.parq\n"
     ]
    },
    {
     "name": "stdout",
     "output_type": "stream",
     "text": [
      "4926\n"
     ]
    },
    {
     "name": "stderr",
     "output_type": "stream",
     "text": [
      "2020-04-25 16:03:25,323 - Dataset:FIXED_SQRT_ud_wu_N70_C70_in35_it17 - INFO - writing/data/data/FIXED_SQRT_ud_wu_N70_C70_in35_it17/edges.parq\n",
      "INFO:Dataset:FIXED_SQRT_ud_wu_N70_C70_in35_it17:writing/data/data/FIXED_SQRT_ud_wu_N70_C70_in35_it17/edges.parq\n"
     ]
    },
    {
     "name": "stdout",
     "output_type": "stream",
     "text": [
      "5911\n"
     ]
    },
    {
     "name": "stderr",
     "output_type": "stream",
     "text": [
      "2020-04-25 16:04:02,651 - Dataset:FIXED_SQRT_ud_wu_N76_C76_in38_it19 - INFO - writing/data/data/FIXED_SQRT_ud_wu_N76_C76_in38_it19/edges.parq\n",
      "INFO:Dataset:FIXED_SQRT_ud_wu_N76_C76_in38_it19:writing/data/data/FIXED_SQRT_ud_wu_N76_C76_in38_it19/edges.parq\n"
     ]
    },
    {
     "name": "stdout",
     "output_type": "stream",
     "text": [
      "7093\n"
     ]
    },
    {
     "name": "stderr",
     "output_type": "stream",
     "text": [
      "2020-04-25 16:04:51,971 - Dataset:FIXED_SQRT_ud_wu_N84_C84_in42_it21 - INFO - writing/data/data/FIXED_SQRT_ud_wu_N84_C84_in42_it21/edges.parq\n",
      "INFO:Dataset:FIXED_SQRT_ud_wu_N84_C84_in42_it21:writing/data/data/FIXED_SQRT_ud_wu_N84_C84_in42_it21/edges.parq\n"
     ]
    },
    {
     "name": "stdout",
     "output_type": "stream",
     "text": [
      "8511\n"
     ]
    },
    {
     "name": "stderr",
     "output_type": "stream",
     "text": [
      "2020-04-25 16:05:57,531 - Dataset:FIXED_SQRT_ud_wu_N92_C92_in46_it23 - INFO - writing/data/data/FIXED_SQRT_ud_wu_N92_C92_in46_it23/edges.parq\n",
      "INFO:Dataset:FIXED_SQRT_ud_wu_N92_C92_in46_it23:writing/data/data/FIXED_SQRT_ud_wu_N92_C92_in46_it23/edges.parq\n"
     ]
    },
    {
     "name": "stdout",
     "output_type": "stream",
     "text": [
      "10213\n"
     ]
    },
    {
     "name": "stderr",
     "output_type": "stream",
     "text": [
      "2020-04-25 16:07:26,280 - Dataset:FIXED_SQRT_ud_wu_N101_C101_in50_it25 - INFO - writing/data/data/FIXED_SQRT_ud_wu_N101_C101_in50_it25/edges.parq\n",
      "INFO:Dataset:FIXED_SQRT_ud_wu_N101_C101_in50_it25:writing/data/data/FIXED_SQRT_ud_wu_N101_C101_in50_it25/edges.parq\n"
     ]
    },
    {
     "name": "stdout",
     "output_type": "stream",
     "text": [
      "12255\n"
     ]
    },
    {
     "name": "stderr",
     "output_type": "stream",
     "text": [
      "2020-04-25 16:09:23,497 - Dataset:FIXED_SQRT_ud_wu_N110_C110_in55_it27 - INFO - writing/data/data/FIXED_SQRT_ud_wu_N110_C110_in55_it27/edges.parq\n",
      "INFO:Dataset:FIXED_SQRT_ud_wu_N110_C110_in55_it27:writing/data/data/FIXED_SQRT_ud_wu_N110_C110_in55_it27/edges.parq\n"
     ]
    },
    {
     "name": "stdout",
     "output_type": "stream",
     "text": [
      "14706\n"
     ]
    },
    {
     "name": "stderr",
     "output_type": "stream",
     "text": [
      "2020-04-25 16:12:02,051 - Dataset:FIXED_SQRT_ud_wu_N121_C121_in60_it30 - INFO - writing/data/data/FIXED_SQRT_ud_wu_N121_C121_in60_it30/edges.parq\n",
      "INFO:Dataset:FIXED_SQRT_ud_wu_N121_C121_in60_it30:writing/data/data/FIXED_SQRT_ud_wu_N121_C121_in60_it30/edges.parq\n"
     ]
    },
    {
     "name": "stdout",
     "output_type": "stream",
     "text": [
      "17647\n"
     ]
    },
    {
     "name": "stderr",
     "output_type": "stream",
     "text": [
      "2020-04-25 16:15:35,886 - Dataset:FIXED_SQRT_ud_wu_N132_C132_in66_it33 - INFO - writing/data/data/FIXED_SQRT_ud_wu_N132_C132_in66_it33/edges.parq\n",
      "INFO:Dataset:FIXED_SQRT_ud_wu_N132_C132_in66_it33:writing/data/data/FIXED_SQRT_ud_wu_N132_C132_in66_it33/edges.parq\n"
     ]
    },
    {
     "name": "stdout",
     "output_type": "stream",
     "text": [
      "21176\n"
     ]
    },
    {
     "name": "stderr",
     "output_type": "stream",
     "text": [
      "2020-04-25 16:20:24,080 - Dataset:FIXED_SQRT_ud_wu_N145_C145_in72_it36 - INFO - writing/data/data/FIXED_SQRT_ud_wu_N145_C145_in72_it36/edges.parq\n",
      "INFO:Dataset:FIXED_SQRT_ud_wu_N145_C145_in72_it36:writing/data/data/FIXED_SQRT_ud_wu_N145_C145_in72_it36/edges.parq\n"
     ]
    },
    {
     "name": "stdout",
     "output_type": "stream",
     "text": [
      "25411\n"
     ]
    },
    {
     "name": "stderr",
     "output_type": "stream",
     "text": [
      "2020-04-25 16:26:53,009 - Dataset:FIXED_SQRT_ud_wu_N159_C159_in79_it39 - INFO - writing/data/data/FIXED_SQRT_ud_wu_N159_C159_in79_it39/edges.parq\n",
      "INFO:Dataset:FIXED_SQRT_ud_wu_N159_C159_in79_it39:writing/data/data/FIXED_SQRT_ud_wu_N159_C159_in79_it39/edges.parq\n"
     ]
    },
    {
     "name": "stdout",
     "output_type": "stream",
     "text": [
      "30493\n"
     ]
    },
    {
     "name": "stderr",
     "output_type": "stream",
     "text": [
      "2020-04-25 16:35:38,340 - Dataset:FIXED_SQRT_ud_wu_N174_C174_in87_it43 - INFO - writing/data/data/FIXED_SQRT_ud_wu_N174_C174_in87_it43/edges.parq\n",
      "INFO:Dataset:FIXED_SQRT_ud_wu_N174_C174_in87_it43:writing/data/data/FIXED_SQRT_ud_wu_N174_C174_in87_it43/edges.parq\n"
     ]
    },
    {
     "name": "stdout",
     "output_type": "stream",
     "text": [
      "36591\n"
     ]
    },
    {
     "name": "stderr",
     "output_type": "stream",
     "text": [
      "2020-04-25 16:47:27,995 - Dataset:FIXED_SQRT_ud_wu_N191_C191_in95_it47 - INFO - writing/data/data/FIXED_SQRT_ud_wu_N191_C191_in95_it47/edges.parq\n",
      "INFO:Dataset:FIXED_SQRT_ud_wu_N191_C191_in95_it47:writing/data/data/FIXED_SQRT_ud_wu_N191_C191_in95_it47/edges.parq\n"
     ]
    },
    {
     "name": "stdout",
     "output_type": "stream",
     "text": [
      "43909\n"
     ]
    },
    {
     "name": "stderr",
     "output_type": "stream",
     "text": [
      "2020-04-25 17:01:02,421 - Dataset:FIXED_SQRT_ud_wu_N209_C209_in104_it52 - INFO - writing/data/data/FIXED_SQRT_ud_wu_N209_C209_in104_it52/edges.parq\n",
      "INFO:Dataset:FIXED_SQRT_ud_wu_N209_C209_in104_it52:writing/data/data/FIXED_SQRT_ud_wu_N209_C209_in104_it52/edges.parq\n"
     ]
    },
    {
     "name": "stdout",
     "output_type": "stream",
     "text": [
      "52690\n"
     ]
    },
    {
     "name": "stderr",
     "output_type": "stream",
     "text": [
      "2020-04-25 17:14:33,256 - Dataset:FIXED_SQRT_ud_wu_N229_C229_in114_it57 - INFO - writing/data/data/FIXED_SQRT_ud_wu_N229_C229_in114_it57/edges.parq\n",
      "INFO:Dataset:FIXED_SQRT_ud_wu_N229_C229_in114_it57:writing/data/data/FIXED_SQRT_ud_wu_N229_C229_in114_it57/edges.parq\n"
     ]
    },
    {
     "name": "stdout",
     "output_type": "stream",
     "text": [
      "63228\n"
     ]
    },
    {
     "name": "stderr",
     "output_type": "stream",
     "text": [
      "2020-04-25 17:32:47,743 - Dataset:FIXED_SQRT_ud_wu_N251_C251_in125_it62 - INFO - writing/data/data/FIXED_SQRT_ud_wu_N251_C251_in125_it62/edges.parq\n",
      "INFO:Dataset:FIXED_SQRT_ud_wu_N251_C251_in125_it62:writing/data/data/FIXED_SQRT_ud_wu_N251_C251_in125_it62/edges.parq\n"
     ]
    },
    {
     "name": "stdout",
     "output_type": "stream",
     "text": [
      "75873\n"
     ]
    },
    {
     "name": "stderr",
     "output_type": "stream",
     "text": [
      "2020-04-25 17:57:31,509 - Dataset:FIXED_SQRT_ud_wu_N275_C275_in137_it68 - INFO - writing/data/data/FIXED_SQRT_ud_wu_N275_C275_in137_it68/edges.parq\n",
      "INFO:Dataset:FIXED_SQRT_ud_wu_N275_C275_in137_it68:writing/data/data/FIXED_SQRT_ud_wu_N275_C275_in137_it68/edges.parq\n"
     ]
    },
    {
     "name": "stdout",
     "output_type": "stream",
     "text": [
      "91047\n"
     ]
    },
    {
     "name": "stderr",
     "output_type": "stream",
     "text": [
      "2020-04-25 18:31:22,276 - Dataset:FIXED_SQRT_ud_wu_N301_C301_in150_it75 - INFO - writing/data/data/FIXED_SQRT_ud_wu_N301_C301_in150_it75/edges.parq\n",
      "INFO:Dataset:FIXED_SQRT_ud_wu_N301_C301_in150_it75:writing/data/data/FIXED_SQRT_ud_wu_N301_C301_in150_it75/edges.parq\n"
     ]
    },
    {
     "name": "stdout",
     "output_type": "stream",
     "text": [
      "109256\n"
     ]
    },
    {
     "name": "stderr",
     "output_type": "stream",
     "text": [
      "2020-04-25 19:17:20,746 - Dataset:FIXED_SQRT_ud_wu_N330_C330_in165_it82 - INFO - writing/data/data/FIXED_SQRT_ud_wu_N330_C330_in165_it82/edges.parq\n",
      "INFO:Dataset:FIXED_SQRT_ud_wu_N330_C330_in165_it82:writing/data/data/FIXED_SQRT_ud_wu_N330_C330_in165_it82/edges.parq\n"
     ]
    },
    {
     "name": "stdout",
     "output_type": "stream",
     "text": [
      "131107\n"
     ]
    },
    {
     "name": "stderr",
     "output_type": "stream",
     "text": [
      "2020-04-25 20:38:51,578 - Dataset:FIXED_SQRT_ud_wu_N362_C362_in181_it90 - INFO - writing/data/data/FIXED_SQRT_ud_wu_N362_C362_in181_it90/edges.parq\n",
      "INFO:Dataset:FIXED_SQRT_ud_wu_N362_C362_in181_it90:writing/data/data/FIXED_SQRT_ud_wu_N362_C362_in181_it90/edges.parq\n"
     ]
    },
    {
     "name": "stdout",
     "output_type": "stream",
     "text": [
      "157328\n"
     ]
    },
    {
     "name": "stderr",
     "output_type": "stream",
     "text": [
      "2020-04-25 23:18:05,291 - Dataset:FIXED_SQRT_ud_wu_N396_C396_in198_it99 - INFO - writing/data/data/FIXED_SQRT_ud_wu_N396_C396_in198_it99/edges.parq\n",
      "INFO:Dataset:FIXED_SQRT_ud_wu_N396_C396_in198_it99:writing/data/data/FIXED_SQRT_ud_wu_N396_C396_in198_it99/edges.parq\n"
     ]
    },
    {
     "name": "stdout",
     "output_type": "stream",
     "text": [
      "188793\n"
     ]
    },
    {
     "name": "stderr",
     "output_type": "stream",
     "text": [
      "2020-04-26 02:24:50,524 - Dataset:FIXED_SQRT_ud_wu_N434_C434_in217_it108 - INFO - writing/data/data/FIXED_SQRT_ud_wu_N434_C434_in217_it108/edges.parq\n",
      "INFO:Dataset:FIXED_SQRT_ud_wu_N434_C434_in217_it108:writing/data/data/FIXED_SQRT_ud_wu_N434_C434_in217_it108/edges.parq\n"
     ]
    },
    {
     "name": "stdout",
     "output_type": "stream",
     "text": [
      "226551\n"
     ]
    },
    {
     "name": "stderr",
     "output_type": "stream",
     "text": [
      "2020-04-26 07:01:04,803 - Dataset:FIXED_SQRT_ud_wu_N475_C475_in237_it118 - INFO - writing/data/data/FIXED_SQRT_ud_wu_N475_C475_in237_it118/edges.parq\n",
      "INFO:Dataset:FIXED_SQRT_ud_wu_N475_C475_in237_it118:writing/data/data/FIXED_SQRT_ud_wu_N475_C475_in237_it118/edges.parq\n"
     ]
    }
   ],
   "source": [
    "for N in sizes:\n",
    "    print (N)\n",
    "    x=int(np.sqrt(N))\n",
    "    n_cluster=x\n",
    "    \n",
    "    cluster_size=x\n",
    "    inner_degree=int(cluster_size/2)\n",
    "    inter_degree=int(inner_degree/2)\n",
    "    if inter_degree==0:\n",
    "        inter_degree=1\n",
    "        inner_degree=2\n",
    "    g=make_graph(n_cluster, cluster_size, inner_degree, inter_degree)\n",
    "    #if N>10: break"
   ]
  },
  {
   "cell_type": "code",
   "execution_count": 48,
   "metadata": {},
   "outputs": [],
   "source": [
    "if 0:\n",
    "    import networkx as nx\n",
    "    ng=g.to_graph_networkx()\n",
    "    pos = nx.spring_layout(ng)\n",
    "    nx.draw(ng,with_labels=True, pos=pos)"
   ]
  },
  {
   "cell_type": "code",
   "execution_count": null,
   "metadata": {},
   "outputs": [],
   "source": []
  }
 ],
 "metadata": {
  "kernelspec": {
   "display_name": "Python [conda env:python3]",
   "language": "python",
   "name": "conda-env-python3-py"
  },
  "language_info": {
   "codemirror_mode": {
    "name": "ipython",
    "version": 3
   },
   "file_extension": ".py",
   "mimetype": "text/x-python",
   "name": "python",
   "nbconvert_exporter": "python",
   "pygments_lexer": "ipython3",
   "version": "3.6.7"
  }
 },
 "nbformat": 4,
 "nbformat_minor": 2
}
