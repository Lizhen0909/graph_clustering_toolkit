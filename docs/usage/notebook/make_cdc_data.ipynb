{
 "cells": [
  {
   "cell_type": "code",
   "execution_count": 1,
   "metadata": {},
   "outputs": [
    {
     "name": "stdout",
     "output_type": "stream",
     "text": [
      "Populating the interactive namespace from numpy and matplotlib\n"
     ]
    }
   ],
   "source": [
    "%pylab inline\n",
    "import pandas as pd"
   ]
  },
  {
   "cell_type": "code",
   "execution_count": 1,
   "metadata": {},
   "outputs": [],
   "source": [
    "import os,sys\n",
    "import importlib\n",
    "import pkgutil\n",
    "import inspect\n",
    "sys.path.insert(0,\"../../graph_clustering_toolkit/python/src/\")"
   ]
  },
  {
   "cell_type": "code",
   "execution_count": 2,
   "metadata": {
    "scrolled": true
   },
   "outputs": [
    {
     "data": {
      "text/html": [
       "\n",
       "\t\t\t<script type=\"text/javascript\">\n",
       "\t\t\t<!--\n",
       "\t\t\t\t\n",
       "\t\t\t{\n",
       "\t\t\t\tvar element = document.getElementById('NetworKit_script');\n",
       "\t\t\t\tif (element) {\n",
       "\t\t\t\t\telement.parentNode.removeChild(element);\n",
       "\t\t\t\t}\n",
       "\t\t\t\telement = document.createElement('script');\n",
       "\t\t\t\telement.type = 'text/javascript';\n",
       "\t\t\t\telement.innerHTML = 'function NetworKit_pageEmbed(id) { var i, j; var elements; elements = document.getElementById(id).getElementsByClassName(\"Plot\"); for (i=0; i<elements.length; i++) { elements[i].id = id + \"_Plot_\" + i; var data = elements[i].getAttribute(\"data-image\").split(\"|\"); elements[i].removeAttribute(\"data-image\"); var content = \"<div class=\\\\\"Image\\\\\" id=\\\\\"\" + elements[i].id + \"_Image\\\\\" />\"; elements[i].innerHTML = content; elements[i].setAttribute(\"data-image-index\", 0); elements[i].setAttribute(\"data-image-length\", data.length); for (j=0; j<data.length; j++) { elements[i].setAttribute(\"data-image-\" + j, data[j]); } NetworKit_plotUpdate(elements[i]); elements[i].onclick = function (e) { NetworKit_overlayShow((e.target) ? e.target : e.srcElement); } } elements = document.getElementById(id).getElementsByClassName(\"HeatCell\"); for (i=0; i<elements.length; i++) { var data = parseFloat(elements[i].getAttribute(\"data-heat\")); var color = \"#00FF00\"; if (data <= 1 && data > 0) { color = \"hsla(0, 100%, 75%, \" + (data) + \")\"; } else if (data <= 0 && data >= -1) { color = \"hsla(240, 100%, 75%, \" + (-data) + \")\"; } elements[i].style.backgroundColor = color; } elements = document.getElementById(id).getElementsByClassName(\"Details\"); for (i=0; i<elements.length; i++) { elements[i].setAttribute(\"data-title\", \"-\"); NetworKit_toggleDetails(elements[i]); elements[i].onclick = function (e) { NetworKit_toggleDetails((e.target) ? e.target : e.srcElement); } } elements = document.getElementById(id).getElementsByClassName(\"MathValue\"); for (i=elements.length-1; i>=0; i--) { value = elements[i].innerHTML.trim(); if (value === \"nan\") { elements[i].parentNode.innerHTML = \"\" } } elements = document.getElementById(id).getElementsByClassName(\"SubCategory\"); for (i=elements.length-1; i>=0; i--) { value = elements[i].innerHTML.trim(); if (value === \"\") { elements[i].parentNode.removeChild(elements[i]) } } elements = document.getElementById(id).getElementsByClassName(\"Category\"); for (i=elements.length-1; i>=0; i--) { value = elements[i].innerHTML.trim(); if (value === \"\") { elements[i].parentNode.removeChild(elements[i]) } } var isFirefox = false; try { isFirefox = typeof InstallTrigger !== \"undefined\"; } catch (e) {} if (!isFirefox) { alert(\"Currently the function\\'s output is only fully supported by Firefox.\"); } } function NetworKit_plotUpdate(source) { var index = source.getAttribute(\"data-image-index\"); var data = source.getAttribute(\"data-image-\" + index); var image = document.getElementById(source.id + \"_Image\"); image.style.backgroundImage = \"url(\" + data + \")\"; } function NetworKit_showElement(id, show) { var element = document.getElementById(id); element.style.display = (show) ? \"block\" : \"none\"; } function NetworKit_overlayShow(source) { NetworKit_overlayUpdate(source); NetworKit_showElement(\"NetworKit_Overlay\", true); } function NetworKit_overlayUpdate(source) { document.getElementById(\"NetworKit_Overlay_Title\").innerHTML = source.title; var index = source.getAttribute(\"data-image-index\"); var data = source.getAttribute(\"data-image-\" + index); var image = document.getElementById(\"NetworKit_Overlay_Image\"); image.setAttribute(\"data-id\", source.id); image.style.backgroundImage = \"url(\" + data + \")\"; var link = document.getElementById(\"NetworKit_Overlay_Toolbar_Bottom_Save\"); link.href = data; link.download = source.title + \".svg\"; } function NetworKit_overlayImageShift(delta) { var image = document.getElementById(\"NetworKit_Overlay_Image\"); var source = document.getElementById(image.getAttribute(\"data-id\")); var index = parseInt(source.getAttribute(\"data-image-index\")); var length = parseInt(source.getAttribute(\"data-image-length\")); var index = (index+delta) % length; if (index < 0) { index = length + index; } source.setAttribute(\"data-image-index\", index); NetworKit_overlayUpdate(source); } function NetworKit_toggleDetails(source) { var childs = source.children; var show = false; if (source.getAttribute(\"data-title\") == \"-\") { source.setAttribute(\"data-title\", \"+\"); show = false; } else { source.setAttribute(\"data-title\", \"-\"); show = true; } for (i=0; i<childs.length; i++) { if (show) { childs[i].style.display = \"block\"; } else { childs[i].style.display = \"none\"; } } }';\n",
       "\t\t\t\telement.setAttribute('id', 'NetworKit_script');\n",
       "\t\t\t\tdocument.head.appendChild(element);\n",
       "\t\t\t}\n",
       "\t\t\n",
       "\t\t\t\t\n",
       "\t\t\t{\n",
       "\t\t\t\tvar element = document.getElementById('NetworKit_style');\n",
       "\t\t\t\tif (element) {\n",
       "\t\t\t\t\telement.parentNode.removeChild(element);\n",
       "\t\t\t\t}\n",
       "\t\t\t\telement = document.createElement('style');\n",
       "\t\t\t\telement.type = 'text/css';\n",
       "\t\t\t\telement.innerHTML = '.NetworKit_Page { font-family: Arial, Helvetica, sans-serif; font-size: 14px; } .NetworKit_Page .Value:before { font-family: Arial, Helvetica, sans-serif; font-size: 1.05em; content: attr(data-title) \":\"; margin-left: -2.5em; padding-right: 0.5em; } .NetworKit_Page .Details .Value:before { display: block; } .NetworKit_Page .Value { font-family: monospace; white-space: pre; padding-left: 2.5em; white-space: -moz-pre-wrap !important; white-space: -pre-wrap; white-space: -o-pre-wrap; white-space: pre-wrap; word-wrap: break-word; tab-size: 4; -moz-tab-size: 4; } .NetworKit_Page .Category { clear: both; padding-left: 1em; margin-bottom: 1.5em; } .NetworKit_Page .Category:before { content: attr(data-title); font-size: 1.75em; display: block; margin-left: -0.8em; margin-bottom: 0.5em; } .NetworKit_Page .SubCategory { margin-bottom: 1.5em; padding-left: 1em; } .NetworKit_Page .SubCategory:before { font-size: 1.6em; display: block; margin-left: -0.8em; margin-bottom: 0.5em; } .NetworKit_Page .SubCategory[data-title]:before { content: attr(data-title); } .NetworKit_Page .Block { display: block; } .NetworKit_Page .Block:after { content: \".\"; visibility: hidden; display: block; height: 0; clear: both; } .NetworKit_Page .Block .Thumbnail_Overview, .NetworKit_Page .Block .Thumbnail_ScatterPlot { width: 260px; float: left; } .NetworKit_Page .Block .Thumbnail_Overview img, .NetworKit_Page .Block .Thumbnail_ScatterPlot img { width: 260px; } .NetworKit_Page .Block .Thumbnail_Overview:before, .NetworKit_Page .Block .Thumbnail_ScatterPlot:before { display: block; text-align: center; font-weight: bold; } .NetworKit_Page .Block .Thumbnail_Overview:before { content: attr(data-title); } .NetworKit_Page .HeatCell { font-family: \"Courier New\", Courier, monospace; cursor: pointer; } .NetworKit_Page .HeatCell, .NetworKit_Page .HeatCellName { display: inline; padding: 0.1em; margin-right: 2px; background-color: #FFFFFF } .NetworKit_Page .HeatCellName { margin-left: 0.25em; } .NetworKit_Page .HeatCell:before { content: attr(data-heat); display: inline-block; color: #000000; width: 4em; text-align: center; } .NetworKit_Page .Measure { clear: both; } .NetworKit_Page .Measure .Details { cursor: pointer; } .NetworKit_Page .Measure .Details:before { content: \"[\" attr(data-title) \"]\"; display: block; } .NetworKit_Page .Measure .Details .Value { border-left: 1px dotted black; margin-left: 0.4em; padding-left: 3.5em; pointer-events: none; } .NetworKit_Page .Measure .Details .Spacer:before { content: \".\"; opacity: 0.0; pointer-events: none; } .NetworKit_Page .Measure .Plot { width: 440px; height: 440px; cursor: pointer; float: left; margin-left: -0.9em; margin-right: 20px; } .NetworKit_Page .Measure .Plot .Image { background-repeat: no-repeat; background-position: center center; background-size: contain; height: 100%; pointer-events: none; } .NetworKit_Page .Measure .Stat { width: 500px; float: left; } .NetworKit_Page .Measure .Stat .Group { padding-left: 1.25em; margin-bottom: 0.75em; } .NetworKit_Page .Measure .Stat .Group .Title { font-size: 1.1em; display: block; margin-bottom: 0.3em; margin-left: -0.75em; border-right-style: dotted; border-right-width: 1px; border-bottom-style: dotted; border-bottom-width: 1px; background-color: #D0D0D0; padding-left: 0.2em; } .NetworKit_Page .Measure .Stat .Group .List { -webkit-column-count: 3; -moz-column-count: 3; column-count: 3; } .NetworKit_Page .Measure .Stat .Group .List .Entry { position: relative; line-height: 1.75em; } .NetworKit_Page .Measure .Stat .Group .List .Entry[data-tooltip]:before { position: absolute; left: 0; top: -40px; background-color: #808080; color: #ffffff; height: 30px; line-height: 30px; border-radius: 5px; padding: 0 15px; content: attr(data-tooltip); white-space: nowrap; display: none; } .NetworKit_Page .Measure .Stat .Group .List .Entry[data-tooltip]:after { position: absolute; left: 15px; top: -10px; border-top: 7px solid #808080; border-left: 7px solid transparent; border-right: 7px solid transparent; content: \"\"; display: none; } .NetworKit_Page .Measure .Stat .Group .List .Entry[data-tooltip]:hover:after, .NetworKit_Page .Measure .Stat .Group .List .Entry[data-tooltip]:hover:before { display: block; } .NetworKit_Page .Measure .Stat .Group .List .Entry .MathValue { font-family: \"Courier New\", Courier, monospace; } .NetworKit_Page .Measure:after { content: \".\"; visibility: hidden; display: block; height: 0; clear: both; } .NetworKit_Page .PartitionPie { clear: both; } .NetworKit_Page .PartitionPie img { width: 600px; } #NetworKit_Overlay { left: 0px; top: 0px; display: none; position: absolute; width: 100%; height: 100%; background-color: rgba(0,0,0,0.6); z-index: 1000; } #NetworKit_Overlay_Title { position: absolute; color: white; transform: rotate(-90deg); width: 32em; height: 32em; padding-right: 0.5em; padding-top: 0.5em; text-align: right; font-size: 40px; } #NetworKit_Overlay .button { background: white; cursor: pointer; } #NetworKit_Overlay .button:before { size: 13px; display: inline-block; text-align: center; margin-top: 0.5em; margin-bottom: 0.5em; width: 1.5em; height: 1.5em; } #NetworKit_Overlay .icon-close:before { content: \"X\"; } #NetworKit_Overlay .icon-previous:before { content: \"P\"; } #NetworKit_Overlay .icon-next:before { content: \"N\"; } #NetworKit_Overlay .icon-save:before { content: \"S\"; } #NetworKit_Overlay_Toolbar_Top, #NetworKit_Overlay_Toolbar_Bottom { position: absolute; width: 40px; right: 13px; text-align: right; z-index: 1100; } #NetworKit_Overlay_Toolbar_Top { top: 0.5em; } #NetworKit_Overlay_Toolbar_Bottom { Bottom: 0.5em; } #NetworKit_Overlay_ImageContainer { position: absolute; top: 5%; left: 5%; height: 90%; width: 90%; background-repeat: no-repeat; background-position: center center; background-size: contain; } #NetworKit_Overlay_Image { height: 100%; width: 100%; background-repeat: no-repeat; background-position: center center; background-size: contain; }';\n",
       "\t\t\t\telement.setAttribute('id', 'NetworKit_style');\n",
       "\t\t\t\tdocument.head.appendChild(element);\n",
       "\t\t\t}\n",
       "\t\t\n",
       "\t\t\t\t\n",
       "\t\t\t{\n",
       "\t\t\t\tvar element = document.getElementById('NetworKit_Overlay');\n",
       "\t\t\t\tif (element) {\n",
       "\t\t\t\t\telement.parentNode.removeChild(element);\n",
       "\t\t\t\t}\n",
       "\t\t\t\telement = document.createElement('div');\n",
       "\t\t\t\telement.innerHTML = '<div id=\"NetworKit_Overlay_Toolbar_Top\"><div class=\"button icon-close\" id=\"NetworKit_Overlay_Close\" /></div><div id=\"NetworKit_Overlay_Title\" /> <div id=\"NetworKit_Overlay_ImageContainer\"> <div id=\"NetworKit_Overlay_Image\" /> </div> <div id=\"NetworKit_Overlay_Toolbar_Bottom\"> <div class=\"button icon-previous\" onclick=\"NetworKit_overlayImageShift(-1)\" /> <div class=\"button icon-next\" onclick=\"NetworKit_overlayImageShift(1)\" /> <a id=\"NetworKit_Overlay_Toolbar_Bottom_Save\"><div class=\"button icon-save\" /></a> </div>';\n",
       "\t\t\t\telement.setAttribute('id', 'NetworKit_Overlay');\n",
       "\t\t\t\tdocument.body.appendChild(element);\n",
       "\t\t\t\tdocument.getElementById('NetworKit_Overlay_Close').onclick = function (e) {\n",
       "\t\t\t\t\tdocument.getElementById('NetworKit_Overlay').style.display = 'none';\n",
       "\t\t\t\t}\n",
       "\t\t\t}\n",
       "\t\t\n",
       "\t\t\t-->\n",
       "\t\t\t</script>\n",
       "\t\t"
      ]
     },
     "metadata": {},
     "output_type": "display_data"
    }
   ],
   "source": [
    "import gct"
   ]
  },
  {
   "cell_type": "code",
   "execution_count": 3,
   "metadata": {},
   "outputs": [
    {
     "data": {
      "text/plain": [
       "[('local', 'PairsFSG'),\n",
       " ('local', 'PairsP'),\n",
       " ('sample', 'PairsFSG'),\n",
       " ('sample', 'PairsP')]"
      ]
     },
     "execution_count": 3,
     "metadata": {},
     "output_type": "execute_result"
    }
   ],
   "source": [
    "gct.list_dataset('*air*')"
   ]
  },
  {
   "cell_type": "code",
   "execution_count": 6,
   "metadata": {},
   "outputs": [],
   "source": [
    "a=gct.load_dataset('PairsFSG')"
   ]
  },
  {
   "cell_type": "code",
   "execution_count": 8,
   "metadata": {},
   "outputs": [
    {
     "data": {
      "text/plain": [
       "{\"name\": \"PairsFSG\", \"weighted\": true, \"has_ground_truth\": true, \"directed\": false, \"is_edge_mirrored\": false, \"parq_edges\": \"/home/bo/.gct/data/PairsFSG/edges.parq\", \"parq_ground_truth\": {\"default\": \"/home/bo/.gct/data/PairsFSG/gt_default.parq\"}, \"description\": \"\"}"
      ]
     },
     "execution_count": 8,
     "metadata": {},
     "output_type": "execute_result"
    }
   ],
   "source": [
    "a"
   ]
  },
  {
   "cell_type": "code",
   "execution_count": null,
   "metadata": {},
   "outputs": [],
   "source": []
  },
  {
   "cell_type": "code",
   "execution_count": 4,
   "metadata": {},
   "outputs": [],
   "source": [
    "folder='../../graph_clustering_toolkit/submodules/CommunityDetectionCodes/Algorithms'"
   ]
  },
  {
   "cell_type": "code",
   "execution_count": 5,
   "metadata": {},
   "outputs": [],
   "source": [
    "df=pd.read_csv(folder+\"/2010-CONGA/conga_src/dataset/dolphins_edges.txt\",header=None,sep='\\t')\n",
    "df.columns=['src','dest']#,'weight']"
   ]
  },
  {
   "cell_type": "code",
   "execution_count": 6,
   "metadata": {},
   "outputs": [],
   "source": [
    "import networkx as nx\n"
   ]
  },
  {
   "cell_type": "code",
   "execution_count": 8,
   "metadata": {},
   "outputs": [
    {
     "name": "stderr",
     "output_type": "stream",
     "text": [
      "/home/bo/miniconda2/envs/python3/lib/python3.6/site-packages/pandas/core/frame.py:3781: SettingWithCopyWarning: \n",
      "A value is trying to be set on a copy of a slice from a DataFrame\n",
      "\n",
      "See the caveats in the documentation: http://pandas.pydata.org/pandas-docs/stable/indexing.html#indexing-view-versus-copy\n",
      "  return super(DataFrame, self).rename(**kwargs)\n",
      "2018-11-12 15:23:11,955 - Dataset:test123 - INFO - writing/home/bo/.gct/data/test123/edges.parq\n",
      "INFO:Dataset:test123:writing/home/bo/.gct/data/test123/edges.parq\n",
      "2018-11-12 15:23:12,398 - Dataset:test123 - INFO - writing edges to /home/bo/.gct/data/test123/edges.txt\n",
      "INFO:Dataset:test123:writing edges to /home/bo/.gct/data/test123/edges.txt\n",
      "2018-11-12 15:23:12,425 - Dataset:test123 - INFO - finish writing /home/bo/.gct/data/test123/edges.txt\n",
      "INFO:Dataset:test123:finish writing /home/bo/.gct/data/test123/edges.txt\n"
     ]
    }
   ],
   "source": [
    "g=gct.convert.from_edgelist(\"test123\",df,overide=True).to_graph_networkx()"
   ]
  },
  {
   "cell_type": "code",
   "execution_count": null,
   "metadata": {},
   "outputs": [],
   "source": []
  },
  {
   "cell_type": "code",
   "execution_count": 7,
   "metadata": {},
   "outputs": [],
   "source": [
    "def read_section(filepath, start):\n",
    "    with open(filepath, errors='ignore') as f:\n",
    "        lines = f.readlines()\n",
    "        lines = [u.strip() for u in lines if not u.startswith('%')]\n",
    "        lines = [u for u in lines if u]\n",
    "    print ('sections: '+str([u for u in lines if u[0]=='*']))\n",
    "    bstart=False\n",
    "    lst=[]\n",
    "    for line in lines:\n",
    "        if line.startswith(start): \n",
    "            bstart=True\n",
    "            continue\n",
    "        if line.startswith('*') and bstart:\n",
    "            break\n",
    "        if not bstart: continue\n",
    "        lst.append (line)\n",
    "    return lst"
   ]
  },
  {
   "cell_type": "markdown",
   "metadata": {},
   "source": [
    "# Yeast"
   ]
  },
  {
   "cell_type": "code",
   "execution_count": 9,
   "metadata": {
    "scrolled": true
   },
   "outputs": [],
   "source": [
    "#! wget http://vlado.fmf.uni-lj.si/pub/networks/data/bio/Yeast/yeast.zip && unzip yeast.zip"
   ]
  },
  {
   "cell_type": "code",
   "execution_count": 10,
   "metadata": {
    "scrolled": false
   },
   "outputs": [
    {
     "name": "stdout",
     "output_type": "stream",
     "text": [
      "sections: ['*Network Yeast_protein_interaction', '*Vertices    2361', '*Edges', '*Edges', '*Partition PIN_class', '*Vertices 2361']\n"
     ]
    },
    {
     "data": {
      "text/plain": [
       "2361"
      ]
     },
     "execution_count": 10,
     "metadata": {},
     "output_type": "execute_result"
    }
   ],
   "source": [
    "nodes=read_section(\"Yeast.paj\",'*Vertices')\n",
    "nodes=[u.split(' ')[0] for u in nodes]\n",
    "nodes=[int(u) for u in nodes]\n",
    "len(nodes)"
   ]
  },
  {
   "cell_type": "code",
   "execution_count": 11,
   "metadata": {},
   "outputs": [
    {
     "name": "stdout",
     "output_type": "stream",
     "text": [
      "sections: ['*Network Yeast_protein_interaction', '*Vertices    2361', '*Edges', '*Edges', '*Partition PIN_class', '*Vertices 2361']\n"
     ]
    },
    {
     "data": {
      "text/plain": [
       "(7182, 2)"
      ]
     },
     "execution_count": 11,
     "metadata": {},
     "output_type": "execute_result"
    }
   ],
   "source": [
    "edges=read_section(\"Yeast.paj\",'*Edges')\n",
    "edges=[u.split(' ') for u in edges]\n",
    "edges=pd.DataFrame(edges,columns=['src','dest']).astype(np.int)\n",
    "edges.shape"
   ]
  },
  {
   "cell_type": "code",
   "execution_count": 12,
   "metadata": {
    "scrolled": false
   },
   "outputs": [
    {
     "name": "stdout",
     "output_type": "stream",
     "text": [
      "sections: ['*Network Yeast_protein_interaction', '*Vertices    2361', '*Edges', '*Edges', '*Partition PIN_class', '*Vertices 2361']\n"
     ]
    },
    {
     "data": {
      "text/plain": [
       "2361"
      ]
     },
     "execution_count": 12,
     "metadata": {},
     "output_type": "execute_result"
    }
   ],
   "source": [
    "gt=read_section(\"Yeast.paj\",'*Vertices 2361')\n",
    "gt=[int(u) for u in gt]\n",
    "gt=pd.DataFrame(list(zip(nodes,gt)),columns=['node','cluster'])\n",
    "len(gt)"
   ]
  },
  {
   "cell_type": "code",
   "execution_count": 14,
   "metadata": {},
   "outputs": [],
   "source": [
    "edges.to_csv(\"../../graph_clustering_toolkit/data/Yeast_edges.csv\",index=None)\n",
    "gt.to_csv(\"../../graph_clustering_toolkit/data/Yeast_gt.csv\",index=None)"
   ]
  },
  {
   "cell_type": "markdown",
   "metadata": {},
   "source": [
    "# CSphd"
   ]
  },
  {
   "cell_type": "code",
   "execution_count": 15,
   "metadata": {
    "scrolled": true
   },
   "outputs": [
    {
     "name": "stdout",
     "output_type": "stream",
     "text": [
      "--2018-11-12 22:05:43--  http://vlado.fmf.uni-lj.si/pub/networks/data/GED/CSphd.ZIP\n",
      "Resolving vlado.fmf.uni-lj.si (vlado.fmf.uni-lj.si)... 193.2.67.80\n",
      "Connecting to vlado.fmf.uni-lj.si (vlado.fmf.uni-lj.si)|193.2.67.80|:80... connected.\n",
      "HTTP request sent, awaiting response... 200 OK\n",
      "Length: 27031 (26K) [application/zip]\n",
      "Saving to: ‘CSphd.ZIP.1’\n",
      "\n",
      "CSphd.ZIP.1         100%[===================>]  26.40K  55.4KB/s    in 0.5s    \n",
      "\n",
      "2018-11-12 22:05:44 (55.4 KB/s) - ‘CSphd.ZIP.1’ saved [27031/27031]\n",
      "\n",
      "Archive:  CSphd.ZIP\n",
      "replace CSphd.net? [y]es, [n]o, [A]ll, [N]one, [r]ename: ^C\n"
     ]
    }
   ],
   "source": [
    "!wget http://vlado.fmf.uni-lj.si/pub/networks/data/GED/CSphd.ZIP && unzip CSphd.ZIP"
   ]
  },
  {
   "cell_type": "code",
   "execution_count": 16,
   "metadata": {
    "scrolled": true
   },
   "outputs": [
    {
     "name": "stdout",
     "output_type": "stream",
     "text": [
      "sections: ['*Vertices 1882', '*Arcslist']\n"
     ]
    },
    {
     "data": {
      "text/plain": [
       "1882"
      ]
     },
     "execution_count": 16,
     "metadata": {},
     "output_type": "execute_result"
    }
   ],
   "source": [
    "nodes=read_section(\"CSphd.net\",'*Vertices')\n",
    "nodes=[u.split(' ')[0] for u in nodes]\n",
    "nodes=[int(u) for u in nodes]\n",
    "len(nodes)"
   ]
  },
  {
   "cell_type": "code",
   "execution_count": 17,
   "metadata": {
    "scrolled": true
   },
   "outputs": [
    {
     "name": "stdout",
     "output_type": "stream",
     "text": [
      "sections: ['*Vertices 1882', '*Arcslist']\n"
     ]
    },
    {
     "data": {
      "text/plain": [
       "(1740, 2)"
      ]
     },
     "execution_count": 17,
     "metadata": {},
     "output_type": "execute_result"
    }
   ],
   "source": [
    "def f(l):\n",
    "    assert(len(l))>1\n",
    "    l=[u.strip() for u in l]\n",
    "    l=[u for u in l if u]\n",
    "    a=l[0]\n",
    "    return [[a,v] for v in l[1:]]\n",
    "edges=read_section(\"CSphd.net\",'*Arcslist')\n",
    "edges=[f(u.split(' ')) for u in edges]\n",
    "edges=[item for sublist in edges for item in sublist]\n",
    "edges=pd.DataFrame(edges,columns=['src','dest']).astype(np.int)\n",
    "edges.shape"
   ]
  },
  {
   "cell_type": "code",
   "execution_count": 18,
   "metadata": {
    "scrolled": true
   },
   "outputs": [
    {
     "name": "stdout",
     "output_type": "stream",
     "text": [
      "sections: ['*Network Yeast_protein_interaction', '*Vertices    2361', '*Edges', '*Edges', '*Partition PIN_class', '*Vertices 2361']\n"
     ]
    },
    {
     "data": {
      "text/plain": [
       "1882"
      ]
     },
     "execution_count": 18,
     "metadata": {},
     "output_type": "execute_result"
    }
   ],
   "source": [
    "gt=read_section(\"Yeast.paj\",'*Vertices 2361')\n",
    "gt=[int(u) for u in gt]\n",
    "gt=pd.DataFrame(list(zip(nodes,gt)),columns=['node','cluster'])\n",
    "len(gt)"
   ]
  },
  {
   "cell_type": "code",
   "execution_count": 19,
   "metadata": {},
   "outputs": [],
   "source": [
    "edges.to_csv(\"../../graph_clustering_toolkit/data/CSphd_edges.csv\",index=None)\n",
    "gt.to_csv(\"../../graph_clustering_toolkit/data/CSphd_gt.csv\",index=None)"
   ]
  },
  {
   "cell_type": "markdown",
   "metadata": {},
   "source": [
    "# cities"
   ]
  },
  {
   "cell_type": "code",
   "execution_count": 112,
   "metadata": {
    "scrolled": true
   },
   "outputs": [
    {
     "name": "stdout",
     "output_type": "stream",
     "text": [
      "--2018-11-12 20:19:50--  http://vlado.fmf.uni-lj.si/pub/networks/data/2mode/cities.zip\n",
      "Resolving vlado.fmf.uni-lj.si (vlado.fmf.uni-lj.si)... 193.2.67.80\n",
      "Connecting to vlado.fmf.uni-lj.si (vlado.fmf.uni-lj.si)|193.2.67.80|:80... connected.\n",
      "HTTP request sent, awaiting response... 200 OK\n",
      "Length: 8363 (8.2K) [application/zip]\n",
      "Saving to: ‘cities.zip’\n",
      "\n",
      "cities.zip          100%[===================>]   8.17K  48.7KB/s    in 0.2s    \n",
      "\n",
      "2018-11-12 20:19:51 (48.7 KB/s) - ‘cities.zip’ saved [8363/8363]\n",
      "\n",
      "Archive:  cities.zip\n",
      "  inflating: cities.clu              \n",
      "  inflating: da6+.net                \n",
      " extracting: Url.txt                 \n",
      "  inflating: da6.html                \n"
     ]
    }
   ],
   "source": [
    "#!wget http://vlado.fmf.uni-lj.si/pub/networks/data/2mode/cities.zip && unzip cities.zip"
   ]
  },
  {
   "cell_type": "code",
   "execution_count": 20,
   "metadata": {
    "scrolled": false
   },
   "outputs": [
    {
     "name": "stdout",
     "output_type": "stream",
     "text": [
      "sections: ['*net World_cities_and_Global_firms', '*vertices 101 55', '*matrix']\n"
     ]
    },
    {
     "data": {
      "text/plain": [
       "101"
      ]
     },
     "execution_count": 20,
     "metadata": {},
     "output_type": "execute_result"
    }
   ],
   "source": [
    "nodes=read_section(\"da6+.net\",'*vertices')\n",
    "nodes=[u.split(' ')[0] for u in nodes]\n",
    "nodes=[int(u) for u in nodes]\n",
    "len(nodes)"
   ]
  },
  {
   "cell_type": "code",
   "execution_count": 21,
   "metadata": {},
   "outputs": [
    {
     "data": {
      "text/plain": [
       "(55, 46)"
      ]
     },
     "execution_count": 21,
     "metadata": {},
     "output_type": "execute_result"
    }
   ],
   "source": [
    "cities=dict( (enumerate(nodes[:55])))\n",
    "firms=dict( (enumerate(nodes[55:])))\n",
    "len(cities),len(firms)"
   ]
  },
  {
   "cell_type": "code",
   "execution_count": 22,
   "metadata": {},
   "outputs": [
    {
     "name": "stdout",
     "output_type": "stream",
     "text": [
      "sections: ['*net World_cities_and_Global_firms', '*vertices 101 55', '*matrix']\n"
     ]
    },
    {
     "data": {
      "text/plain": [
       "(55, 46)"
      ]
     },
     "execution_count": 22,
     "metadata": {},
     "output_type": "execute_result"
    }
   ],
   "source": [
    "edges=read_section(\"da6+.net\",'*matrix')\n",
    "edges=np.array([u.split(' ')[:-1] for u in edges]).astype(np.int)\n",
    "edges.shape"
   ]
  },
  {
   "cell_type": "code",
   "execution_count": 23,
   "metadata": {},
   "outputs": [
    {
     "data": {
      "text/plain": [
       "[[1, 56, 3], [1, 57, 3], [1, 58, 1]]"
      ]
     },
     "execution_count": 23,
     "metadata": {},
     "output_type": "execute_result"
    }
   ],
   "source": [
    "lst=[]\n",
    "for i in range(edges.shape[0]):\n",
    "    for j in range(edges.shape[1]):\n",
    "        if edges[i,j]>0:\n",
    "            lst.append([cities[i],firms[j], edges[i,j]])\n",
    "lst[:3]    "
   ]
  },
  {
   "cell_type": "code",
   "execution_count": 24,
   "metadata": {},
   "outputs": [
    {
     "data": {
      "text/plain": [
       "(1342, 3)"
      ]
     },
     "execution_count": 24,
     "metadata": {},
     "output_type": "execute_result"
    }
   ],
   "source": [
    "edges=pd.DataFrame(lst,columns=['src','dest','weight']).astype(np.int)\n",
    "edges.shape"
   ]
  },
  {
   "cell_type": "code",
   "execution_count": null,
   "metadata": {},
   "outputs": [],
   "source": []
  },
  {
   "cell_type": "code",
   "execution_count": 25,
   "metadata": {
    "scrolled": false
   },
   "outputs": [
    {
     "name": "stdout",
     "output_type": "stream",
     "text": [
      "sections: ['*Vertices 101']\n"
     ]
    },
    {
     "data": {
      "text/plain": [
       "101"
      ]
     },
     "execution_count": 25,
     "metadata": {},
     "output_type": "execute_result"
    }
   ],
   "source": [
    "gt=read_section(\"cities.clu\",'*Vertices 101')\n",
    "gt=[int(u) for u in gt]\n",
    "gt=pd.DataFrame(list(zip(nodes,gt)),columns=['node','cluster'])\n",
    "len(gt)"
   ]
  },
  {
   "cell_type": "code",
   "execution_count": 26,
   "metadata": {},
   "outputs": [],
   "source": [
    "edges.to_csv(\"../../graph_clustering_toolkit/data/cities_edges.csv\",index=None)\n",
    "gt.to_csv(\"../../graph_clustering_toolkit/data/cities_gt.csv\",index=None)"
   ]
  },
  {
   "cell_type": "markdown",
   "metadata": {},
   "source": [
    "# Slovenian magazines and journals 1999 and 2000"
   ]
  },
  {
   "cell_type": "code",
   "execution_count": 159,
   "metadata": {},
   "outputs": [
    {
     "name": "stdout",
     "output_type": "stream",
     "text": [
      "--2018-11-12 21:17:54--  http://vlado.fmf.uni-lj.si/pub/networks/data/2mode/Revije.zip\n",
      "Resolving vlado.fmf.uni-lj.si (vlado.fmf.uni-lj.si)... 193.2.67.80\n",
      "Connecting to vlado.fmf.uni-lj.si (vlado.fmf.uni-lj.si)|193.2.67.80|:80... connected.\n",
      "HTTP request sent, awaiting response... 200 OK\n",
      "Length: 16888 (16K) [application/zip]\n",
      "Saving to: ‘Revije.zip’\n",
      "\n",
      "Revije.zip          100%[===================>]  16.49K  50.3KB/s    in 0.3s    \n",
      "\n",
      "2018-11-12 21:17:55 (50.3 KB/s) - ‘Revije.zip’ saved [16888/16888]\n",
      "\n",
      "Archive:  Revije.zip\n",
      "  inflating: revije.paj              \n"
     ]
    }
   ],
   "source": [
    "!rm Revije.zip && wget http://vlado.fmf.uni-lj.si/pub/networks/data/2mode/Revije.zip  && unzip -o Revije.zip"
   ]
  },
  {
   "cell_type": "code",
   "execution_count": 27,
   "metadata": {
    "scrolled": false
   },
   "outputs": [
    {
     "name": "stdout",
     "output_type": "stream",
     "text": [
      "sections: ['*network revije', '*Vertices  124', '*Matrix', '*partition vrste_revij', '*Vertices 124']\n"
     ]
    },
    {
     "data": {
      "text/plain": [
       "124"
      ]
     },
     "execution_count": 27,
     "metadata": {},
     "output_type": "execute_result"
    }
   ],
   "source": [
    "nodes=read_section(\"revije.paj\",'*Vertices')\n",
    "nodes=[u.split(' ')[0] for u in nodes]\n",
    "nodes=[int(u) for u in nodes]\n",
    "len(nodes)"
   ]
  },
  {
   "cell_type": "code",
   "execution_count": 28,
   "metadata": {},
   "outputs": [
    {
     "data": {
      "text/plain": [
       "124"
      ]
     },
     "execution_count": 28,
     "metadata": {},
     "output_type": "execute_result"
    }
   ],
   "source": [
    "d=dict( (enumerate(nodes)))\n",
    "len(d) "
   ]
  },
  {
   "cell_type": "code",
   "execution_count": 29,
   "metadata": {},
   "outputs": [
    {
     "name": "stdout",
     "output_type": "stream",
     "text": [
      "sections: ['*network revije', '*Vertices  124', '*Matrix', '*partition vrste_revij', '*Vertices 124']\n"
     ]
    },
    {
     "data": {
      "text/plain": [
       "(124, 124)"
      ]
     },
     "execution_count": 29,
     "metadata": {},
     "output_type": "execute_result"
    }
   ],
   "source": [
    "edges=read_section(\"revije.paj\",'*Matrix')\n",
    "edges=np.array([u.split(' ')  for u in edges]).astype(np.int)\n",
    "edges.shape"
   ]
  },
  {
   "cell_type": "code",
   "execution_count": 30,
   "metadata": {},
   "outputs": [
    {
     "data": {
      "text/plain": [
       "[[1, 1, 20714], [1, 2, 3219], [1, 3, 1784]]"
      ]
     },
     "execution_count": 30,
     "metadata": {},
     "output_type": "execute_result"
    }
   ],
   "source": [
    "lst=[]\n",
    "for i in range(edges.shape[0]):\n",
    "    for j in range(edges.shape[1]):\n",
    "        if edges[i,j]>0:\n",
    "            lst.append([d[i],d[j], edges[i,j]])\n",
    "lst[:3]    "
   ]
  },
  {
   "cell_type": "code",
   "execution_count": 31,
   "metadata": {},
   "outputs": [
    {
     "data": {
      "text/plain": [
       "(12068, 3)"
      ]
     },
     "execution_count": 31,
     "metadata": {},
     "output_type": "execute_result"
    }
   ],
   "source": [
    "edges=pd.DataFrame(lst,columns=['src','dest','weight']).astype(np.int)\n",
    "edges.shape"
   ]
  },
  {
   "cell_type": "code",
   "execution_count": 33,
   "metadata": {},
   "outputs": [
    {
     "data": {
      "text/plain": [
       "15376"
      ]
     },
     "execution_count": 33,
     "metadata": {},
     "output_type": "execute_result"
    }
   ],
   "source": [
    "124**2"
   ]
  },
  {
   "cell_type": "code",
   "execution_count": 32,
   "metadata": {
    "scrolled": false
   },
   "outputs": [
    {
     "name": "stdout",
     "output_type": "stream",
     "text": [
      "sections: ['*network revije', '*Vertices  124', '*Matrix', '*partition vrste_revij', '*Vertices 124']\n"
     ]
    },
    {
     "data": {
      "text/plain": [
       "124"
      ]
     },
     "execution_count": 32,
     "metadata": {},
     "output_type": "execute_result"
    }
   ],
   "source": [
    "gt=read_section(\"revije.paj\",'*Vertices 124')\n",
    "gt=[int(u) for u in gt]\n",
    "gt=pd.DataFrame(list(zip(nodes,gt)),columns=['node','cluster'])\n",
    "len(gt)"
   ]
  },
  {
   "cell_type": "code",
   "execution_count": 34,
   "metadata": {},
   "outputs": [],
   "source": [
    "edges.to_csv(\"../../graph_clustering_toolkit/data/revije_edges.csv\",index=None)\n",
    "gt.to_csv(\"../../graph_clustering_toolkit/data/revije_gt.csv\",index=None)"
   ]
  },
  {
   "cell_type": "code",
   "execution_count": null,
   "metadata": {},
   "outputs": [],
   "source": []
  },
  {
   "cell_type": "markdown",
   "metadata": {},
   "source": [
    "# wordnet"
   ]
  },
  {
   "cell_type": "code",
   "execution_count": 177,
   "metadata": {},
   "outputs": [
    {
     "name": "stdout",
     "output_type": "stream",
     "text": [
      "--2018-11-12 21:27:07--  http://vlado.fmf.uni-lj.si/pub/networks/data/dic/Wordnet/wordNet.zip\n",
      "Resolving vlado.fmf.uni-lj.si (vlado.fmf.uni-lj.si)... 193.2.67.80\n",
      "Connecting to vlado.fmf.uni-lj.si (vlado.fmf.uni-lj.si)|193.2.67.80|:80... connected.\n",
      "HTTP request sent, awaiting response... 200 OK\n",
      "Length: 1077481 (1.0M) [application/zip]\n",
      "Saving to: ‘wordNet.zip’\n",
      "\n",
      "wordNet.zip         100%[===================>]   1.03M   287KB/s    in 4.5s    \n",
      "\n",
      "2018-11-12 21:27:12 (236 KB/s) - ‘wordNet.zip’ saved [1077481/1077481]\n",
      "\n",
      "Archive:  wordNet.zip\n",
      "  inflating: sifrant3.txt            \n",
      "  inflating: wordnet3.net            \n",
      "  inflating: wordnet3.clu            \n"
     ]
    }
   ],
   "source": [
    "! wget http://vlado.fmf.uni-lj.si/pub/networks/data/dic/Wordnet/wordNet.zip && unzip wordNet.zip"
   ]
  },
  {
   "cell_type": "code",
   "execution_count": 35,
   "metadata": {
    "scrolled": true
   },
   "outputs": [
    {
     "name": "stdout",
     "output_type": "stream",
     "text": [
      "sections: ['*Vertices 82670', '*Arcslist :1 \"hypernym pointers\"', '*Arcslist :2 \"entailment pointers\"', '*Arcslist :3 \"similar pointers\"', '*Arcslist :4 \"member meronym pointers\"', '*Arcslist :5 \"substance meronym pointers\"', '*Arcslist :6 \"part meronym pointers\"', '*Arcslist :7 \"cause pointers\"', '*Arcslist :8 \"grouped verb pointers\"', '*Arcslist :9 \"attribute pointers\"']\n"
     ]
    },
    {
     "data": {
      "text/plain": [
       "82670"
      ]
     },
     "execution_count": 35,
     "metadata": {},
     "output_type": "execute_result"
    }
   ],
   "source": [
    "nodes=read_section(\"wordnet3.net\",'*Vertices')\n",
    "nodes=[u.split(' ')[0] for u in nodes]\n",
    "nodes=[int(u) for u in nodes]\n",
    "len(nodes)"
   ]
  },
  {
   "cell_type": "code",
   "execution_count": 45,
   "metadata": {
    "scrolled": true
   },
   "outputs": [
    {
     "name": "stdout",
     "output_type": "stream",
     "text": [
      "sections: ['*Vertices 82670', '*Arcslist :1 \"hypernym pointers\"', '*Arcslist :2 \"entailment pointers\"', '*Arcslist :3 \"similar pointers\"', '*Arcslist :4 \"member meronym pointers\"', '*Arcslist :5 \"substance meronym pointers\"', '*Arcslist :6 \"part meronym pointers\"', '*Arcslist :7 \"cause pointers\"', '*Arcslist :8 \"grouped verb pointers\"', '*Arcslist :9 \"attribute pointers\"']\n",
      "1 (88006, 2)\n",
      "sections: ['*Vertices 82670', '*Arcslist :1 \"hypernym pointers\"', '*Arcslist :2 \"entailment pointers\"', '*Arcslist :3 \"similar pointers\"', '*Arcslist :4 \"member meronym pointers\"', '*Arcslist :5 \"substance meronym pointers\"', '*Arcslist :6 \"part meronym pointers\"', '*Arcslist :7 \"cause pointers\"', '*Arcslist :8 \"grouped verb pointers\"', '*Arcslist :9 \"attribute pointers\"']\n",
      "2 (407, 2)\n",
      "sections: ['*Vertices 82670', '*Arcslist :1 \"hypernym pointers\"', '*Arcslist :2 \"entailment pointers\"', '*Arcslist :3 \"similar pointers\"', '*Arcslist :4 \"member meronym pointers\"', '*Arcslist :5 \"substance meronym pointers\"', '*Arcslist :6 \"part meronym pointers\"', '*Arcslist :7 \"cause pointers\"', '*Arcslist :8 \"grouped verb pointers\"', '*Arcslist :9 \"attribute pointers\"']\n",
      "3 (22096, 2)\n",
      "sections: ['*Vertices 82670', '*Arcslist :1 \"hypernym pointers\"', '*Arcslist :2 \"entailment pointers\"', '*Arcslist :3 \"similar pointers\"', '*Arcslist :4 \"member meronym pointers\"', '*Arcslist :5 \"substance meronym pointers\"', '*Arcslist :6 \"part meronym pointers\"', '*Arcslist :7 \"cause pointers\"', '*Arcslist :8 \"grouped verb pointers\"', '*Arcslist :9 \"attribute pointers\"']\n",
      "4 (11988, 2)\n",
      "sections: ['*Vertices 82670', '*Arcslist :1 \"hypernym pointers\"', '*Arcslist :2 \"entailment pointers\"', '*Arcslist :3 \"similar pointers\"', '*Arcslist :4 \"member meronym pointers\"', '*Arcslist :5 \"substance meronym pointers\"', '*Arcslist :6 \"part meronym pointers\"', '*Arcslist :7 \"cause pointers\"', '*Arcslist :8 \"grouped verb pointers\"', '*Arcslist :9 \"attribute pointers\"']\n",
      "5 (748, 2)\n",
      "sections: ['*Vertices 82670', '*Arcslist :1 \"hypernym pointers\"', '*Arcslist :2 \"entailment pointers\"', '*Arcslist :3 \"similar pointers\"', '*Arcslist :4 \"member meronym pointers\"', '*Arcslist :5 \"substance meronym pointers\"', '*Arcslist :6 \"part meronym pointers\"', '*Arcslist :7 \"cause pointers\"', '*Arcslist :8 \"grouped verb pointers\"', '*Arcslist :9 \"attribute pointers\"']\n",
      "6 (7968, 2)\n",
      "sections: ['*Vertices 82670', '*Arcslist :1 \"hypernym pointers\"', '*Arcslist :2 \"entailment pointers\"', '*Arcslist :3 \"similar pointers\"', '*Arcslist :4 \"member meronym pointers\"', '*Arcslist :5 \"substance meronym pointers\"', '*Arcslist :6 \"part meronym pointers\"', '*Arcslist :7 \"cause pointers\"', '*Arcslist :8 \"grouped verb pointers\"', '*Arcslist :9 \"attribute pointers\"']\n",
      "7 (212, 2)\n",
      "sections: ['*Vertices 82670', '*Arcslist :1 \"hypernym pointers\"', '*Arcslist :2 \"entailment pointers\"', '*Arcslist :3 \"similar pointers\"', '*Arcslist :4 \"member meronym pointers\"', '*Arcslist :5 \"substance meronym pointers\"', '*Arcslist :6 \"part meronym pointers\"', '*Arcslist :7 \"cause pointers\"', '*Arcslist :8 \"grouped verb pointers\"', '*Arcslist :9 \"attribute pointers\"']\n",
      "8 (780, 2)\n",
      "sections: ['*Vertices 82670', '*Arcslist :1 \"hypernym pointers\"', '*Arcslist :2 \"entailment pointers\"', '*Arcslist :3 \"similar pointers\"', '*Arcslist :4 \"member meronym pointers\"', '*Arcslist :5 \"substance meronym pointers\"', '*Arcslist :6 \"part meronym pointers\"', '*Arcslist :7 \"cause pointers\"', '*Arcslist :8 \"grouped verb pointers\"', '*Arcslist :9 \"attribute pointers\"']\n",
      "9 (1240, 2)\n"
     ]
    }
   ],
   "source": [
    "def f(l):\n",
    "    assert(len(l))>1\n",
    "    l=[u.strip() for u in l]\n",
    "    l=[u for u in l if u]\n",
    "    a=l[0]\n",
    "    return [[a,v] for v in l[1:]]\n",
    "lst=[]\n",
    "for i in range(1,10):\n",
    "    edges=read_section(\"wordnet3.net\",'*Arcslist :'+str(i))\n",
    "    edges=[f(u.split(' ')) for u in edges]\n",
    "    edges=[item for sublist in edges for item in sublist]\n",
    "    edges=pd.DataFrame(edges,columns=['src','dest']).astype(np.int)\n",
    "    print (i, edges.shape)\n",
    "    lst.append(edges)"
   ]
  },
  {
   "cell_type": "code",
   "execution_count": 46,
   "metadata": {},
   "outputs": [],
   "source": [
    "edges=pd.concat(lst)"
   ]
  },
  {
   "cell_type": "code",
   "execution_count": 47,
   "metadata": {},
   "outputs": [],
   "source": [
    "edges['weight']=1\n"
   ]
  },
  {
   "cell_type": "code",
   "execution_count": 48,
   "metadata": {},
   "outputs": [],
   "source": [
    "edges=edges.groupby(['src','dest']).sum().reset_index()"
   ]
  },
  {
   "cell_type": "code",
   "execution_count": 49,
   "metadata": {},
   "outputs": [
    {
     "data": {
      "text/plain": [
       "1    133445\n",
       "Name: weight, dtype: int64"
      ]
     },
     "execution_count": 49,
     "metadata": {},
     "output_type": "execute_result"
    }
   ],
   "source": [
    "edges.weight.value_counts()"
   ]
  },
  {
   "cell_type": "code",
   "execution_count": 53,
   "metadata": {},
   "outputs": [
    {
     "data": {
      "text/html": [
       "<div>\n",
       "<style scoped>\n",
       "    .dataframe tbody tr th:only-of-type {\n",
       "        vertical-align: middle;\n",
       "    }\n",
       "\n",
       "    .dataframe tbody tr th {\n",
       "        vertical-align: top;\n",
       "    }\n",
       "\n",
       "    .dataframe thead th {\n",
       "        text-align: right;\n",
       "    }\n",
       "</style>\n",
       "<table border=\"1\" class=\"dataframe\">\n",
       "  <thead>\n",
       "    <tr style=\"text-align: right;\">\n",
       "      <th></th>\n",
       "      <th>src</th>\n",
       "      <th>dest</th>\n",
       "      <th>weight</th>\n",
       "    </tr>\n",
       "  </thead>\n",
       "  <tbody>\n",
       "    <tr>\n",
       "      <th>0</th>\n",
       "      <td>2</td>\n",
       "      <td>1</td>\n",
       "      <td>1</td>\n",
       "    </tr>\n",
       "    <tr>\n",
       "      <th>1</th>\n",
       "      <td>2</td>\n",
       "      <td>20</td>\n",
       "      <td>1</td>\n",
       "    </tr>\n",
       "    <tr>\n",
       "      <th>2</th>\n",
       "      <td>2</td>\n",
       "      <td>23</td>\n",
       "      <td>1</td>\n",
       "    </tr>\n",
       "    <tr>\n",
       "      <th>3</th>\n",
       "      <td>2</td>\n",
       "      <td>26</td>\n",
       "      <td>1</td>\n",
       "    </tr>\n",
       "    <tr>\n",
       "      <th>4</th>\n",
       "      <td>2</td>\n",
       "      <td>37</td>\n",
       "      <td>1</td>\n",
       "    </tr>\n",
       "  </tbody>\n",
       "</table>\n",
       "</div>"
      ],
      "text/plain": [
       "   src  dest  weight\n",
       "0    2     1       1\n",
       "1    2    20       1\n",
       "2    2    23       1\n",
       "3    2    26       1\n",
       "4    2    37       1"
      ]
     },
     "execution_count": 53,
     "metadata": {},
     "output_type": "execute_result"
    }
   ],
   "source": [
    "edges.head()"
   ]
  },
  {
   "cell_type": "code",
   "execution_count": 54,
   "metadata": {
    "scrolled": false
   },
   "outputs": [
    {
     "name": "stdout",
     "output_type": "stream",
     "text": [
      "sections: ['*Vertices 82670']\n"
     ]
    },
    {
     "data": {
      "text/plain": [
       "82670"
      ]
     },
     "execution_count": 54,
     "metadata": {},
     "output_type": "execute_result"
    }
   ],
   "source": [
    "gt=read_section(\"wordnet3.clu\",'*Vertices 82670')\n",
    "gt=[int(u) for u in gt]\n",
    "gt=pd.DataFrame(list(zip(nodes,gt)),columns=['node','cluster'])\n",
    "len(gt)"
   ]
  },
  {
   "cell_type": "code",
   "execution_count": 55,
   "metadata": {},
   "outputs": [],
   "source": [
    "edges.to_csv(\"../../graph_clustering_toolkit/data/wordnet3_edges.csv\",index=None)\n",
    "gt.to_csv(\"../../graph_clustering_toolkit/data/wordnet3_gt.csv\",index=None)"
   ]
  },
  {
   "cell_type": "markdown",
   "metadata": {},
   "source": [
    "# FreeAssoc"
   ]
  },
  {
   "cell_type": "code",
   "execution_count": 191,
   "metadata": {},
   "outputs": [
    {
     "name": "stdout",
     "output_type": "stream",
     "text": [
      "--2018-11-12 21:37:29--  http://vlado.fmf.uni-lj.si/pub/networks/data/dic/fa/Pairs.zip\n",
      "Resolving vlado.fmf.uni-lj.si (vlado.fmf.uni-lj.si)... 193.2.67.80\n",
      "Connecting to vlado.fmf.uni-lj.si (vlado.fmf.uni-lj.si)|193.2.67.80|:80... connected.\n",
      "HTTP request sent, awaiting response... 200 OK\n",
      "Length: 781637 (763K) [application/zip]\n",
      "Saving to: ‘Pairs.zip’\n",
      "\n",
      "Pairs.zip           100%[===================>] 763.32K  97.2KB/s    in 8.1s    \n",
      "\n",
      "2018-11-12 21:37:37 (94.3 KB/s) - ‘Pairs.zip’ saved [781637/781637]\n",
      "\n",
      "Archive:  Pairs.zip\n",
      "  inflating: PairsFSG.net            \n",
      "  inflating: PairsP.net              \n",
      "  inflating: cue.clu                 \n",
      "  inflating: pofs.clu                \n"
     ]
    }
   ],
   "source": [
    "!wget http://vlado.fmf.uni-lj.si/pub/networks/data/dic/fa/Pairs.zip && unzip Pairs.zip"
   ]
  },
  {
   "cell_type": "code",
   "execution_count": 56,
   "metadata": {},
   "outputs": [
    {
     "name": "stdout",
     "output_type": "stream",
     "text": [
      "sections: ['*Vertices   10617', '*Arcs :1 \"target normed\"', '*Arcs :2 \"target not normed\"']\n"
     ]
    },
    {
     "data": {
      "text/plain": [
       "10617"
      ]
     },
     "execution_count": 56,
     "metadata": {},
     "output_type": "execute_result"
    }
   ],
   "source": [
    "nodes=read_section(\"PairsFSG.net\",'*Vertices')\n",
    "nodes=[u.split(' ')[0] for u in nodes]\n",
    "nodes=[int(u) for u in nodes]\n",
    "len(nodes)"
   ]
  },
  {
   "cell_type": "code",
   "execution_count": 68,
   "metadata": {},
   "outputs": [
    {
     "name": "stdout",
     "output_type": "stream",
     "text": [
      "sections: ['*Vertices   10617', '*Arcs :1 \"target normed\"', '*Arcs :2 \"target not normed\"']\n"
     ]
    },
    {
     "data": {
      "text/plain": [
       "(63612, 3)"
      ]
     },
     "execution_count": 68,
     "metadata": {},
     "output_type": "execute_result"
    }
   ],
   "source": [
    "edges=read_section(\"PairsFSG.net\",'*Arcs :1')\n",
    "edges=[u.split(' ') for u in edges]\n",
    "edges=pd.DataFrame(edges,columns=['src','dest','weight'])\n",
    "edges.shape"
   ]
  },
  {
   "cell_type": "code",
   "execution_count": 69,
   "metadata": {},
   "outputs": [
    {
     "name": "stdout",
     "output_type": "stream",
     "text": [
      "sections: ['*vertices 10617']\n"
     ]
    },
    {
     "data": {
      "text/plain": [
       "10617"
      ]
     },
     "execution_count": 69,
     "metadata": {},
     "output_type": "execute_result"
    }
   ],
   "source": [
    "gt=read_section(\"pofs.clu\",'*vertices 10617')\n",
    "gt=[int(u) for u in gt]\n",
    "gt=pd.DataFrame(list(zip(nodes,gt)),columns=['node','cluster'])\n",
    "len(gt)"
   ]
  },
  {
   "cell_type": "code",
   "execution_count": 70,
   "metadata": {},
   "outputs": [],
   "source": [
    "edges.to_csv(\"../../graph_clustering_toolkit/data/PairsFSG_edges.csv\",index=None)\n",
    "gt.to_csv(\"../../graph_clustering_toolkit/data/PairsFSG_gt.csv\",index=None)"
   ]
  },
  {
   "cell_type": "code",
   "execution_count": null,
   "metadata": {},
   "outputs": [],
   "source": []
  },
  {
   "cell_type": "code",
   "execution_count": 71,
   "metadata": {},
   "outputs": [
    {
     "name": "stdout",
     "output_type": "stream",
     "text": [
      "sections: ['*Vertices   10617', '*Arcs :1 \"target normed\"', '*Arcs :2 \"target not normed\"']\n"
     ]
    },
    {
     "data": {
      "text/plain": [
       "10617"
      ]
     },
     "execution_count": 71,
     "metadata": {},
     "output_type": "execute_result"
    }
   ],
   "source": [
    "nodes=read_section(\"PairsP.net\",'*Vertices')\n",
    "nodes=[u.split(' ')[0] for u in nodes]\n",
    "nodes=[int(u) for u in nodes]\n",
    "len(nodes)"
   ]
  },
  {
   "cell_type": "code",
   "execution_count": 75,
   "metadata": {},
   "outputs": [
    {
     "name": "stdout",
     "output_type": "stream",
     "text": [
      "sections: ['*Vertices   10617', '*Arcs :1 \"target normed\"', '*Arcs :2 \"target not normed\"']\n"
     ]
    },
    {
     "data": {
      "text/plain": [
       "(63612, 3)"
      ]
     },
     "execution_count": 75,
     "metadata": {},
     "output_type": "execute_result"
    }
   ],
   "source": [
    "edges=read_section(\"PairsP.net\",'*Arcs :1')\n",
    "edges=[u.split(' ') for u in edges]\n",
    "edges=pd.DataFrame(edges,columns=['src','dest','weight'])\n",
    "edges.shape"
   ]
  },
  {
   "cell_type": "code",
   "execution_count": 78,
   "metadata": {},
   "outputs": [
    {
     "name": "stdout",
     "output_type": "stream",
     "text": [
      "sections: ['*vertices 10617']\n"
     ]
    },
    {
     "data": {
      "text/plain": [
       "10617"
      ]
     },
     "execution_count": 78,
     "metadata": {},
     "output_type": "execute_result"
    }
   ],
   "source": [
    "gt=read_section(\"pofs.clu\",'*vertices 10617')\n",
    "gt=[int(u) for u in gt]\n",
    "gt=pd.DataFrame(list(zip(nodes,gt)),columns=['node','cluster'])\n",
    "len(gt)"
   ]
  },
  {
   "cell_type": "code",
   "execution_count": 79,
   "metadata": {},
   "outputs": [],
   "source": [
    "edges.to_csv(\"../../graph_clustering_toolkit/data/PairsP_edges.csv\",index=None)\n",
    "gt.to_csv(\"../../graph_clustering_toolkit/data/PairsP_gt.csv\",index=None)"
   ]
  },
  {
   "cell_type": "code",
   "execution_count": null,
   "metadata": {},
   "outputs": [],
   "source": []
  }
 ],
 "metadata": {
  "kernelspec": {
   "display_name": "Python [conda env:python3]",
   "language": "python",
   "name": "conda-env-python3-py"
  },
  "language_info": {
   "codemirror_mode": {
    "name": "ipython",
    "version": 3
   },
   "file_extension": ".py",
   "mimetype": "text/x-python",
   "name": "python",
   "nbconvert_exporter": "python",
   "pygments_lexer": "ipython3",
   "version": "3.6.7"
  }
 },
 "nbformat": 4,
 "nbformat_minor": 2
}
